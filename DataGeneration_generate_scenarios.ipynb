{
 "cells": [
  {
   "cell_type": "code",
   "execution_count": 1,
   "metadata": {},
   "outputs": [
    {
     "data": {
      "application/javascript": [
       "\n",
       "            setTimeout(function() {\n",
       "                var nbb_cell_id = 1;\n",
       "                var nbb_unformatted_code = \"%reload_ext nb_black\";\n",
       "                var nbb_formatted_code = \"%reload_ext nb_black\";\n",
       "                var nbb_cells = Jupyter.notebook.get_cells();\n",
       "                for (var i = 0; i < nbb_cells.length; ++i) {\n",
       "                    if (nbb_cells[i].input_prompt_number == nbb_cell_id) {\n",
       "                        if (nbb_cells[i].get_text() == nbb_unformatted_code) {\n",
       "                             nbb_cells[i].set_text(nbb_formatted_code);\n",
       "                        }\n",
       "                        break;\n",
       "                    }\n",
       "                }\n",
       "            }, 500);\n",
       "            "
      ],
      "text/plain": [
       "<IPython.core.display.Javascript object>"
      ]
     },
     "metadata": {},
     "output_type": "display_data"
    }
   ],
   "source": [
    "%reload_ext nb_black"
   ]
  },
  {
   "cell_type": "markdown",
   "metadata": {},
   "source": [
    "# Generate Data"
   ]
  },
  {
   "cell_type": "code",
   "execution_count": 2,
   "metadata": {},
   "outputs": [
    {
     "data": {
      "application/javascript": [
       "\n",
       "            setTimeout(function() {\n",
       "                var nbb_cell_id = 2;\n",
       "                var nbb_unformatted_code = \"import pandas as pd\\nimport numpy as np\\n\\n# Generate Data\\nfrom sklearn.datasets import make_classification\\nfrom targen.data import target\";\n",
       "                var nbb_formatted_code = \"import pandas as pd\\nimport numpy as np\\n\\n# Generate Data\\nfrom sklearn.datasets import make_classification\\nfrom targen.data import target\";\n",
       "                var nbb_cells = Jupyter.notebook.get_cells();\n",
       "                for (var i = 0; i < nbb_cells.length; ++i) {\n",
       "                    if (nbb_cells[i].input_prompt_number == nbb_cell_id) {\n",
       "                        if (nbb_cells[i].get_text() == nbb_unformatted_code) {\n",
       "                             nbb_cells[i].set_text(nbb_formatted_code);\n",
       "                        }\n",
       "                        break;\n",
       "                    }\n",
       "                }\n",
       "            }, 500);\n",
       "            "
      ],
      "text/plain": [
       "<IPython.core.display.Javascript object>"
      ]
     },
     "metadata": {},
     "output_type": "display_data"
    }
   ],
   "source": [
    "import pandas as pd\n",
    "import numpy as np\n",
    "\n",
    "# Generate Data\n",
    "from sklearn.datasets import make_classification\n",
    "from targen.data import target"
   ]
  },
  {
   "cell_type": "markdown",
   "metadata": {},
   "source": [
    "## Get random Gaussian Data"
   ]
  },
  {
   "cell_type": "code",
   "execution_count": 3,
   "metadata": {},
   "outputs": [
    {
     "data": {
      "application/javascript": [
       "\n",
       "            setTimeout(function() {\n",
       "                var nbb_cell_id = 3;\n",
       "                var nbb_unformatted_code = \"# Get random Gaussian data with 18 features\\nn_features = 18\\nX, dummy = make_classification(n_samples=20000, n_features=n_features)\";\n",
       "                var nbb_formatted_code = \"# Get random Gaussian data with 18 features\\nn_features = 18\\nX, dummy = make_classification(n_samples=20000, n_features=n_features)\";\n",
       "                var nbb_cells = Jupyter.notebook.get_cells();\n",
       "                for (var i = 0; i < nbb_cells.length; ++i) {\n",
       "                    if (nbb_cells[i].input_prompt_number == nbb_cell_id) {\n",
       "                        if (nbb_cells[i].get_text() == nbb_unformatted_code) {\n",
       "                             nbb_cells[i].set_text(nbb_formatted_code);\n",
       "                        }\n",
       "                        break;\n",
       "                    }\n",
       "                }\n",
       "            }, 500);\n",
       "            "
      ],
      "text/plain": [
       "<IPython.core.display.Javascript object>"
      ]
     },
     "metadata": {},
     "output_type": "display_data"
    }
   ],
   "source": [
    "# Get random Gaussian data with 18 features\n",
    "n_features = 18\n",
    "X, dummy = make_classification(n_samples=20000, n_features=n_features)"
   ]
  },
  {
   "cell_type": "code",
   "execution_count": 4,
   "metadata": {},
   "outputs": [
    {
     "data": {
      "application/javascript": [
       "\n",
       "            setTimeout(function() {\n",
       "                var nbb_cell_id = 4;\n",
       "                var nbb_unformatted_code = \"# Half of the features are known and half hidden\\nknown_cols = [f\\\"known_col_{ix}\\\" for ix in range(int(n_features / 2))]\\nif n_features % 2 == 0:\\n    hidden_cols = [f\\\"hidden_col_{ix}\\\" for ix in range(int(n_features / 2))]\\n\\nelse:\\n    hidden_cols = [f\\\"hidden_col_{ix}\\\" for ix in range(int(n_features / 2) + 1)]\\ncolumns = known_cols + hidden_cols\";\n",
       "                var nbb_formatted_code = \"# Half of the features are known and half hidden\\nknown_cols = [f\\\"known_col_{ix}\\\" for ix in range(int(n_features / 2))]\\nif n_features % 2 == 0:\\n    hidden_cols = [f\\\"hidden_col_{ix}\\\" for ix in range(int(n_features / 2))]\\n\\nelse:\\n    hidden_cols = [f\\\"hidden_col_{ix}\\\" for ix in range(int(n_features / 2) + 1)]\\ncolumns = known_cols + hidden_cols\";\n",
       "                var nbb_cells = Jupyter.notebook.get_cells();\n",
       "                for (var i = 0; i < nbb_cells.length; ++i) {\n",
       "                    if (nbb_cells[i].input_prompt_number == nbb_cell_id) {\n",
       "                        if (nbb_cells[i].get_text() == nbb_unformatted_code) {\n",
       "                             nbb_cells[i].set_text(nbb_formatted_code);\n",
       "                        }\n",
       "                        break;\n",
       "                    }\n",
       "                }\n",
       "            }, 500);\n",
       "            "
      ],
      "text/plain": [
       "<IPython.core.display.Javascript object>"
      ]
     },
     "metadata": {},
     "output_type": "display_data"
    }
   ],
   "source": [
    "# Half of the features are known and half hidden\n",
    "known_cols = [f\"known_col_{ix}\" for ix in range(int(n_features / 2))]\n",
    "if n_features % 2 == 0:\n",
    "    hidden_cols = [f\"hidden_col_{ix}\" for ix in range(int(n_features / 2))]\n",
    "\n",
    "else:\n",
    "    hidden_cols = [f\"hidden_col_{ix}\" for ix in range(int(n_features / 2) + 1)]\n",
    "columns = known_cols + hidden_cols"
   ]
  },
  {
   "cell_type": "code",
   "execution_count": 5,
   "metadata": {},
   "outputs": [
    {
     "data": {
      "application/javascript": [
       "\n",
       "            setTimeout(function() {\n",
       "                var nbb_cell_id = 5;\n",
       "                var nbb_unformatted_code = \"# Map data to dataframe\\ndata = pd.DataFrame(X, columns=columns)\";\n",
       "                var nbb_formatted_code = \"# Map data to dataframe\\ndata = pd.DataFrame(X, columns=columns)\";\n",
       "                var nbb_cells = Jupyter.notebook.get_cells();\n",
       "                for (var i = 0; i < nbb_cells.length; ++i) {\n",
       "                    if (nbb_cells[i].input_prompt_number == nbb_cell_id) {\n",
       "                        if (nbb_cells[i].get_text() == nbb_unformatted_code) {\n",
       "                             nbb_cells[i].set_text(nbb_formatted_code);\n",
       "                        }\n",
       "                        break;\n",
       "                    }\n",
       "                }\n",
       "            }, 500);\n",
       "            "
      ],
      "text/plain": [
       "<IPython.core.display.Javascript object>"
      ]
     },
     "metadata": {},
     "output_type": "display_data"
    }
   ],
   "source": [
    "# Map data to dataframe\n",
    "data = pd.DataFrame(X, columns=columns)"
   ]
  },
  {
   "cell_type": "markdown",
   "metadata": {},
   "source": [
    "## Add Correlations between the features"
   ]
  },
  {
   "cell_type": "code",
   "execution_count": 6,
   "metadata": {},
   "outputs": [
    {
     "data": {
      "application/javascript": [
       "\n",
       "            setTimeout(function() {\n",
       "                var nbb_cell_id = 6;\n",
       "                var nbb_unformatted_code = \"# Add correlation between the columns\\n# theta_pi_2 is the angle of rotation (expressed in pi/2). When setting it to 1, you will add 100% correaltion between the variables.\\ndef add_correlation_between_columns(df, col_1, col_2, theta_pi_2=1):\\n\\n    theta = theta_pi_2 * 0.5 * np.pi\\n\\n    data_out = df.copy()\\n    data_out[col_1] = -1 * np.cos(theta) * df[col_1] + np.sin(theta * df[col_2])\\n    data_out[col_2] = np.cos(theta) * df[col_1] + np.sin(theta * df[col_2])\\n\\n    return data_out\";\n",
       "                var nbb_formatted_code = \"# Add correlation between the columns\\n# theta_pi_2 is the angle of rotation (expressed in pi/2). When setting it to 1, you will add 100% correaltion between the variables.\\ndef add_correlation_between_columns(df, col_1, col_2, theta_pi_2=1):\\n\\n    theta = theta_pi_2 * 0.5 * np.pi\\n\\n    data_out = df.copy()\\n    data_out[col_1] = -1 * np.cos(theta) * df[col_1] + np.sin(theta * df[col_2])\\n    data_out[col_2] = np.cos(theta) * df[col_1] + np.sin(theta * df[col_2])\\n\\n    return data_out\";\n",
       "                var nbb_cells = Jupyter.notebook.get_cells();\n",
       "                for (var i = 0; i < nbb_cells.length; ++i) {\n",
       "                    if (nbb_cells[i].input_prompt_number == nbb_cell_id) {\n",
       "                        if (nbb_cells[i].get_text() == nbb_unformatted_code) {\n",
       "                             nbb_cells[i].set_text(nbb_formatted_code);\n",
       "                        }\n",
       "                        break;\n",
       "                    }\n",
       "                }\n",
       "            }, 500);\n",
       "            "
      ],
      "text/plain": [
       "<IPython.core.display.Javascript object>"
      ]
     },
     "metadata": {},
     "output_type": "display_data"
    }
   ],
   "source": [
    "# Add correlation between the columns\n",
    "# theta_pi_2 is the angle of rotation (expressed in pi/2). When setting it to 1, you will add 100% correaltion between the variables.\n",
    "def add_correlation_between_columns(df, col_1, col_2, theta_pi_2=1):\n",
    "\n",
    "    theta = theta_pi_2 * 0.5 * np.pi\n",
    "\n",
    "    data_out = df.copy()\n",
    "    data_out[col_1] = -1 * np.cos(theta) * df[col_1] + np.sin(theta * df[col_2])\n",
    "    data_out[col_2] = np.cos(theta) * df[col_1] + np.sin(theta * df[col_2])\n",
    "\n",
    "    return data_out"
   ]
  },
  {
   "cell_type": "code",
   "execution_count": 7,
   "metadata": {},
   "outputs": [
    {
     "data": {
      "application/javascript": [
       "\n",
       "            setTimeout(function() {\n",
       "                var nbb_cell_id = 7;\n",
       "                var nbb_unformatted_code = \"# Data with new columns\\nnew_data = (\\n    data.pipe(\\n        add_correlation_between_columns,\\n        col_1=\\\"known_col_0\\\",\\n        col_2=\\\"known_col_1\\\",\\n        theta_pi_2=1,\\n    )\\n    .pipe(\\n        add_correlation_between_columns,\\n        col_1=\\\"known_col_2\\\",\\n        col_2=\\\"known_col_3\\\",\\n        theta_pi_2=-0.9,\\n    )\\n    .pipe(\\n        add_correlation_between_columns,\\n        col_1=\\\"known_col_2\\\",\\n        col_2=\\\"hidden_col_0\\\",\\n        theta_pi_2=-0.8,\\n    )\\n    .pipe(\\n        add_correlation_between_columns,\\n        col_1=\\\"hidden_col_1\\\",\\n        col_2=\\\"known_col_1\\\",\\n        theta_pi_2=0.4,\\n    )\\n)\";\n",
       "                var nbb_formatted_code = \"# Data with new columns\\nnew_data = (\\n    data.pipe(\\n        add_correlation_between_columns,\\n        col_1=\\\"known_col_0\\\",\\n        col_2=\\\"known_col_1\\\",\\n        theta_pi_2=1,\\n    )\\n    .pipe(\\n        add_correlation_between_columns,\\n        col_1=\\\"known_col_2\\\",\\n        col_2=\\\"known_col_3\\\",\\n        theta_pi_2=-0.9,\\n    )\\n    .pipe(\\n        add_correlation_between_columns,\\n        col_1=\\\"known_col_2\\\",\\n        col_2=\\\"hidden_col_0\\\",\\n        theta_pi_2=-0.8,\\n    )\\n    .pipe(\\n        add_correlation_between_columns,\\n        col_1=\\\"hidden_col_1\\\",\\n        col_2=\\\"known_col_1\\\",\\n        theta_pi_2=0.4,\\n    )\\n)\";\n",
       "                var nbb_cells = Jupyter.notebook.get_cells();\n",
       "                for (var i = 0; i < nbb_cells.length; ++i) {\n",
       "                    if (nbb_cells[i].input_prompt_number == nbb_cell_id) {\n",
       "                        if (nbb_cells[i].get_text() == nbb_unformatted_code) {\n",
       "                             nbb_cells[i].set_text(nbb_formatted_code);\n",
       "                        }\n",
       "                        break;\n",
       "                    }\n",
       "                }\n",
       "            }, 500);\n",
       "            "
      ],
      "text/plain": [
       "<IPython.core.display.Javascript object>"
      ]
     },
     "metadata": {},
     "output_type": "display_data"
    }
   ],
   "source": [
    "# Data with new columns\n",
    "new_data = (\n",
    "    data.pipe(\n",
    "        add_correlation_between_columns,\n",
    "        col_1=\"known_col_0\",\n",
    "        col_2=\"known_col_1\",\n",
    "        theta_pi_2=1,\n",
    "    )\n",
    "    .pipe(\n",
    "        add_correlation_between_columns,\n",
    "        col_1=\"known_col_2\",\n",
    "        col_2=\"known_col_3\",\n",
    "        theta_pi_2=-0.9,\n",
    "    )\n",
    "    .pipe(\n",
    "        add_correlation_between_columns,\n",
    "        col_1=\"known_col_2\",\n",
    "        col_2=\"hidden_col_0\",\n",
    "        theta_pi_2=-0.8,\n",
    "    )\n",
    "    .pipe(\n",
    "        add_correlation_between_columns,\n",
    "        col_1=\"hidden_col_1\",\n",
    "        col_2=\"known_col_1\",\n",
    "        theta_pi_2=0.4,\n",
    "    )\n",
    ")"
   ]
  },
  {
   "cell_type": "code",
   "execution_count": 8,
   "metadata": {},
   "outputs": [
    {
     "data": {
      "text/html": [
       "<div>\n",
       "<style scoped>\n",
       "    .dataframe tbody tr th:only-of-type {\n",
       "        vertical-align: middle;\n",
       "    }\n",
       "\n",
       "    .dataframe tbody tr th {\n",
       "        vertical-align: top;\n",
       "    }\n",
       "\n",
       "    .dataframe thead th {\n",
       "        text-align: right;\n",
       "    }\n",
       "</style>\n",
       "<table border=\"1\" class=\"dataframe\">\n",
       "  <thead>\n",
       "    <tr style=\"text-align: right;\">\n",
       "      <th></th>\n",
       "      <th>known_col_0</th>\n",
       "      <th>known_col_1</th>\n",
       "      <th>known_col_2</th>\n",
       "      <th>known_col_3</th>\n",
       "      <th>hidden_col_0</th>\n",
       "      <th>hidden_col_1</th>\n",
       "    </tr>\n",
       "  </thead>\n",
       "  <tbody>\n",
       "    <tr>\n",
       "      <th>known_col_0</th>\n",
       "      <td>1.000000</td>\n",
       "      <td>0.658930</td>\n",
       "      <td>0.006247</td>\n",
       "      <td>0.004253</td>\n",
       "      <td>0.006530</td>\n",
       "      <td>0.653050</td>\n",
       "    </tr>\n",
       "    <tr>\n",
       "      <th>known_col_1</th>\n",
       "      <td>0.658930</td>\n",
       "      <td>1.000000</td>\n",
       "      <td>0.194076</td>\n",
       "      <td>-0.552586</td>\n",
       "      <td>-0.189407</td>\n",
       "      <td>-0.139093</td>\n",
       "    </tr>\n",
       "    <tr>\n",
       "      <th>known_col_2</th>\n",
       "      <td>0.006247</td>\n",
       "      <td>0.194076</td>\n",
       "      <td>1.000000</td>\n",
       "      <td>-0.319668</td>\n",
       "      <td>0.761344</td>\n",
       "      <td>-0.187233</td>\n",
       "    </tr>\n",
       "    <tr>\n",
       "      <th>known_col_3</th>\n",
       "      <td>0.004253</td>\n",
       "      <td>-0.552586</td>\n",
       "      <td>-0.319668</td>\n",
       "      <td>1.000000</td>\n",
       "      <td>0.321272</td>\n",
       "      <td>0.562098</td>\n",
       "    </tr>\n",
       "    <tr>\n",
       "      <th>known_col_4</th>\n",
       "      <td>0.005265</td>\n",
       "      <td>0.001213</td>\n",
       "      <td>0.001616</td>\n",
       "      <td>0.003132</td>\n",
       "      <td>0.003804</td>\n",
       "      <td>0.005962</td>\n",
       "    </tr>\n",
       "    <tr>\n",
       "      <th>known_col_5</th>\n",
       "      <td>-0.006122</td>\n",
       "      <td>-0.003203</td>\n",
       "      <td>0.013627</td>\n",
       "      <td>-0.006891</td>\n",
       "      <td>0.008275</td>\n",
       "      <td>-0.004482</td>\n",
       "    </tr>\n",
       "    <tr>\n",
       "      <th>known_col_6</th>\n",
       "      <td>-0.007004</td>\n",
       "      <td>-0.000766</td>\n",
       "      <td>0.005518</td>\n",
       "      <td>-0.003900</td>\n",
       "      <td>0.001359</td>\n",
       "      <td>-0.008507</td>\n",
       "    </tr>\n",
       "    <tr>\n",
       "      <th>known_col_7</th>\n",
       "      <td>0.008092</td>\n",
       "      <td>-0.002571</td>\n",
       "      <td>0.003704</td>\n",
       "      <td>0.015054</td>\n",
       "      <td>0.008266</td>\n",
       "      <td>0.013161</td>\n",
       "    </tr>\n",
       "    <tr>\n",
       "      <th>known_col_8</th>\n",
       "      <td>-0.011336</td>\n",
       "      <td>-0.450205</td>\n",
       "      <td>-0.166227</td>\n",
       "      <td>0.503013</td>\n",
       "      <td>0.181723</td>\n",
       "      <td>0.438455</td>\n",
       "    </tr>\n",
       "    <tr>\n",
       "      <th>hidden_col_0</th>\n",
       "      <td>0.006530</td>\n",
       "      <td>-0.189407</td>\n",
       "      <td>0.761344</td>\n",
       "      <td>0.321272</td>\n",
       "      <td>1.000000</td>\n",
       "      <td>0.199314</td>\n",
       "    </tr>\n",
       "    <tr>\n",
       "      <th>hidden_col_1</th>\n",
       "      <td>0.653050</td>\n",
       "      <td>-0.139093</td>\n",
       "      <td>-0.187233</td>\n",
       "      <td>0.562098</td>\n",
       "      <td>0.199314</td>\n",
       "      <td>1.000000</td>\n",
       "    </tr>\n",
       "    <tr>\n",
       "      <th>hidden_col_2</th>\n",
       "      <td>-0.000031</td>\n",
       "      <td>-0.007937</td>\n",
       "      <td>0.001832</td>\n",
       "      <td>0.006835</td>\n",
       "      <td>0.006683</td>\n",
       "      <td>0.008098</td>\n",
       "    </tr>\n",
       "    <tr>\n",
       "      <th>hidden_col_3</th>\n",
       "      <td>0.010463</td>\n",
       "      <td>0.000872</td>\n",
       "      <td>0.006757</td>\n",
       "      <td>0.012764</td>\n",
       "      <td>0.015870</td>\n",
       "      <td>0.012785</td>\n",
       "    </tr>\n",
       "    <tr>\n",
       "      <th>hidden_col_4</th>\n",
       "      <td>0.006786</td>\n",
       "      <td>0.004546</td>\n",
       "      <td>0.006901</td>\n",
       "      <td>0.000432</td>\n",
       "      <td>0.005213</td>\n",
       "      <td>0.004448</td>\n",
       "    </tr>\n",
       "    <tr>\n",
       "      <th>hidden_col_5</th>\n",
       "      <td>-0.012423</td>\n",
       "      <td>-0.010274</td>\n",
       "      <td>-0.004661</td>\n",
       "      <td>-0.001044</td>\n",
       "      <td>-0.002360</td>\n",
       "      <td>-0.005906</td>\n",
       "    </tr>\n",
       "    <tr>\n",
       "      <th>hidden_col_6</th>\n",
       "      <td>-0.000624</td>\n",
       "      <td>-0.009811</td>\n",
       "      <td>0.004213</td>\n",
       "      <td>0.003591</td>\n",
       "      <td>0.009003</td>\n",
       "      <td>0.008901</td>\n",
       "    </tr>\n",
       "    <tr>\n",
       "      <th>hidden_col_7</th>\n",
       "      <td>-0.000239</td>\n",
       "      <td>0.002997</td>\n",
       "      <td>0.008168</td>\n",
       "      <td>-0.006056</td>\n",
       "      <td>0.003249</td>\n",
       "      <td>-0.003248</td>\n",
       "    </tr>\n",
       "    <tr>\n",
       "      <th>hidden_col_8</th>\n",
       "      <td>0.006582</td>\n",
       "      <td>-0.006580</td>\n",
       "      <td>-0.007463</td>\n",
       "      <td>0.012502</td>\n",
       "      <td>-0.000519</td>\n",
       "      <td>0.015352</td>\n",
       "    </tr>\n",
       "  </tbody>\n",
       "</table>\n",
       "</div>"
      ],
      "text/plain": [
       "              known_col_0  known_col_1  known_col_2  known_col_3  \\\n",
       "known_col_0      1.000000     0.658930     0.006247     0.004253   \n",
       "known_col_1      0.658930     1.000000     0.194076    -0.552586   \n",
       "known_col_2      0.006247     0.194076     1.000000    -0.319668   \n",
       "known_col_3      0.004253    -0.552586    -0.319668     1.000000   \n",
       "known_col_4      0.005265     0.001213     0.001616     0.003132   \n",
       "known_col_5     -0.006122    -0.003203     0.013627    -0.006891   \n",
       "known_col_6     -0.007004    -0.000766     0.005518    -0.003900   \n",
       "known_col_7      0.008092    -0.002571     0.003704     0.015054   \n",
       "known_col_8     -0.011336    -0.450205    -0.166227     0.503013   \n",
       "hidden_col_0     0.006530    -0.189407     0.761344     0.321272   \n",
       "hidden_col_1     0.653050    -0.139093    -0.187233     0.562098   \n",
       "hidden_col_2    -0.000031    -0.007937     0.001832     0.006835   \n",
       "hidden_col_3     0.010463     0.000872     0.006757     0.012764   \n",
       "hidden_col_4     0.006786     0.004546     0.006901     0.000432   \n",
       "hidden_col_5    -0.012423    -0.010274    -0.004661    -0.001044   \n",
       "hidden_col_6    -0.000624    -0.009811     0.004213     0.003591   \n",
       "hidden_col_7    -0.000239     0.002997     0.008168    -0.006056   \n",
       "hidden_col_8     0.006582    -0.006580    -0.007463     0.012502   \n",
       "\n",
       "              hidden_col_0  hidden_col_1  \n",
       "known_col_0       0.006530      0.653050  \n",
       "known_col_1      -0.189407     -0.139093  \n",
       "known_col_2       0.761344     -0.187233  \n",
       "known_col_3       0.321272      0.562098  \n",
       "known_col_4       0.003804      0.005962  \n",
       "known_col_5       0.008275     -0.004482  \n",
       "known_col_6       0.001359     -0.008507  \n",
       "known_col_7       0.008266      0.013161  \n",
       "known_col_8       0.181723      0.438455  \n",
       "hidden_col_0      1.000000      0.199314  \n",
       "hidden_col_1      0.199314      1.000000  \n",
       "hidden_col_2      0.006683      0.008098  \n",
       "hidden_col_3      0.015870      0.012785  \n",
       "hidden_col_4      0.005213      0.004448  \n",
       "hidden_col_5     -0.002360     -0.005906  \n",
       "hidden_col_6      0.009003      0.008901  \n",
       "hidden_col_7      0.003249     -0.003248  \n",
       "hidden_col_8     -0.000519      0.015352  "
      ]
     },
     "execution_count": 8,
     "metadata": {},
     "output_type": "execute_result"
    },
    {
     "data": {
      "application/javascript": [
       "\n",
       "            setTimeout(function() {\n",
       "                var nbb_cell_id = 8;\n",
       "                var nbb_unformatted_code = \"new_data.corr()[\\n    [\\n        \\\"known_col_0\\\",\\n        \\\"known_col_1\\\",\\n        \\\"known_col_2\\\",\\n        \\\"known_col_3\\\",\\n        \\\"hidden_col_0\\\",\\n        \\\"hidden_col_1\\\",\\n    ]\\n]\";\n",
       "                var nbb_formatted_code = \"new_data.corr()[\\n    [\\n        \\\"known_col_0\\\",\\n        \\\"known_col_1\\\",\\n        \\\"known_col_2\\\",\\n        \\\"known_col_3\\\",\\n        \\\"hidden_col_0\\\",\\n        \\\"hidden_col_1\\\",\\n    ]\\n]\";\n",
       "                var nbb_cells = Jupyter.notebook.get_cells();\n",
       "                for (var i = 0; i < nbb_cells.length; ++i) {\n",
       "                    if (nbb_cells[i].input_prompt_number == nbb_cell_id) {\n",
       "                        if (nbb_cells[i].get_text() == nbb_unformatted_code) {\n",
       "                             nbb_cells[i].set_text(nbb_formatted_code);\n",
       "                        }\n",
       "                        break;\n",
       "                    }\n",
       "                }\n",
       "            }, 500);\n",
       "            "
      ],
      "text/plain": [
       "<IPython.core.display.Javascript object>"
      ]
     },
     "metadata": {},
     "output_type": "display_data"
    }
   ],
   "source": [
    "new_data.corr()[\n",
    "    [\n",
    "        \"known_col_0\",\n",
    "        \"known_col_1\",\n",
    "        \"known_col_2\",\n",
    "        \"known_col_3\",\n",
    "        \"hidden_col_0\",\n",
    "        \"hidden_col_1\",\n",
    "    ]\n",
    "]"
   ]
  },
  {
   "cell_type": "markdown",
   "metadata": {},
   "source": [
    "## Generate X-y relationship (feature-target)"
   ]
  },
  {
   "cell_type": "code",
   "execution_count": 9,
   "metadata": {},
   "outputs": [
    {
     "data": {
      "application/javascript": [
       "\n",
       "            setTimeout(function() {\n",
       "                var nbb_cell_id = 9;\n",
       "                var nbb_unformatted_code = \"expressions_x_y = {\\n    \\\"linear\\\": \\\"-0.5*known_col_0 + 2.*known_col_1 + 0.7*known_col_4 -0.4*hidden_col_0\\\",\\n    \\\"non_linear\\\": \\\"-0.7*known_col_3**1.5 + 0.2*sin(known_col_1)+ 0.9*log(hidden_col_4) -0.1*hidden_col_2**2\\\",\\n    \\\"interaction\\\": \\\"0.05*known_col_3*known_col_4 -0.1*(known_col_4/hidden_col_1)\\\",\\n    \\\"uniform_noise\\\": {\\\"weight\\\": 0.5},\\n}\";\n",
       "                var nbb_formatted_code = \"expressions_x_y = {\\n    \\\"linear\\\": \\\"-0.5*known_col_0 + 2.*known_col_1 + 0.7*known_col_4 -0.4*hidden_col_0\\\",\\n    \\\"non_linear\\\": \\\"-0.7*known_col_3**1.5 + 0.2*sin(known_col_1)+ 0.9*log(hidden_col_4) -0.1*hidden_col_2**2\\\",\\n    \\\"interaction\\\": \\\"0.05*known_col_3*known_col_4 -0.1*(known_col_4/hidden_col_1)\\\",\\n    \\\"uniform_noise\\\": {\\\"weight\\\": 0.5},\\n}\";\n",
       "                var nbb_cells = Jupyter.notebook.get_cells();\n",
       "                for (var i = 0; i < nbb_cells.length; ++i) {\n",
       "                    if (nbb_cells[i].input_prompt_number == nbb_cell_id) {\n",
       "                        if (nbb_cells[i].get_text() == nbb_unformatted_code) {\n",
       "                             nbb_cells[i].set_text(nbb_formatted_code);\n",
       "                        }\n",
       "                        break;\n",
       "                    }\n",
       "                }\n",
       "            }, 500);\n",
       "            "
      ],
      "text/plain": [
       "<IPython.core.display.Javascript object>"
      ]
     },
     "metadata": {},
     "output_type": "display_data"
    }
   ],
   "source": [
    "expressions_x_y = {\n",
    "    \"linear\": \"-0.5*known_col_0 + 2.*known_col_1 + 0.7*known_col_4 -0.4*hidden_col_0\",\n",
    "    \"non_linear\": \"-0.7*known_col_3**1.5 + 0.2*sin(known_col_1)+ 0.9*log(hidden_col_4) -0.1*hidden_col_2**2\",\n",
    "    \"interaction\": \"0.05*known_col_3*known_col_4 -0.1*(known_col_4/hidden_col_1)\",\n",
    "    \"uniform_noise\": {\"weight\": 0.5},\n",
    "}"
   ]
  },
  {
   "cell_type": "markdown",
   "metadata": {},
   "source": [
    "## Generate accept-reject relationship"
   ]
  },
  {
   "cell_type": "code",
   "execution_count": 10,
   "metadata": {},
   "outputs": [
    {
     "data": {
      "application/javascript": [
       "\n",
       "            setTimeout(function() {\n",
       "                var nbb_cell_id = 10;\n",
       "                var nbb_unformatted_code = \"expressions_accept_reject = {\\n    \\\"linear\\\": \\\"-14*known_col_4 + 2.*known_col_5 + 0.9*hidden_col_6 -2.1*known_col_3\\\",\\n    \\\"non_linear\\\": \\\"-0.9*known_col_3**0.5 + 0.2*sin(known_col_5) -2.5*log(hidden_col_5)-0.05*hidden_col_6**2.5\\\",\\n    #     'interaction': '0.01*known_col_3*known_col_4 -0.05*(hidden_col_5/hidden_col_6)',\\n    \\\"uniform_noise\\\": {\\\"weight\\\": 0.1},\\n}\";\n",
       "                var nbb_formatted_code = \"expressions_accept_reject = {\\n    \\\"linear\\\": \\\"-14*known_col_4 + 2.*known_col_5 + 0.9*hidden_col_6 -2.1*known_col_3\\\",\\n    \\\"non_linear\\\": \\\"-0.9*known_col_3**0.5 + 0.2*sin(known_col_5) -2.5*log(hidden_col_5)-0.05*hidden_col_6**2.5\\\",\\n    #     'interaction': '0.01*known_col_3*known_col_4 -0.05*(hidden_col_5/hidden_col_6)',\\n    \\\"uniform_noise\\\": {\\\"weight\\\": 0.1},\\n}\";\n",
       "                var nbb_cells = Jupyter.notebook.get_cells();\n",
       "                for (var i = 0; i < nbb_cells.length; ++i) {\n",
       "                    if (nbb_cells[i].input_prompt_number == nbb_cell_id) {\n",
       "                        if (nbb_cells[i].get_text() == nbb_unformatted_code) {\n",
       "                             nbb_cells[i].set_text(nbb_formatted_code);\n",
       "                        }\n",
       "                        break;\n",
       "                    }\n",
       "                }\n",
       "            }, 500);\n",
       "            "
      ],
      "text/plain": [
       "<IPython.core.display.Javascript object>"
      ]
     },
     "metadata": {},
     "output_type": "display_data"
    }
   ],
   "source": [
    "expressions_accept_reject = {\n",
    "    \"linear\": \"-14*known_col_4 + 2.*known_col_5 + 0.9*hidden_col_6 -2.1*known_col_3\",\n",
    "    \"non_linear\": \"-0.9*known_col_3**0.5 + 0.2*sin(known_col_5) -2.5*log(hidden_col_5)-0.05*hidden_col_6**2.5\",\n",
    "    #     'interaction': '0.01*known_col_3*known_col_4 -0.05*(hidden_col_5/hidden_col_6)',\n",
    "    \"uniform_noise\": {\"weight\": 0.1},\n",
    "}"
   ]
  },
  {
   "cell_type": "code",
   "execution_count": 11,
   "metadata": {},
   "outputs": [
    {
     "data": {
      "application/javascript": [
       "\n",
       "            setTimeout(function() {\n",
       "                var nbb_cell_id = 11;\n",
       "                var nbb_unformatted_code = \"def expressions(weight_x_y, weight_ar):\\n    # Generate X-y relationship (feature-target)\\n    expressions_x_y = {\\n        \\\"linear\\\": \\\"-0.5*known_col_0 + 2.*known_col_1 + 0.7*known_col_4 -0.4*hidden_col_0\\\",\\n        \\\"non_linear\\\": \\\"-0.7*known_col_3**1.5 + 0.2*sin(known_col_1)+ 0.9*log(hidden_col_4) -0.1*hidden_col_2**2\\\",\\n        \\\"interaction\\\": \\\"0.05*known_col_3*known_col_4 -0.1*(known_col_4/hidden_col_1)\\\",\\n        \\\"uniform_noise\\\": {\\\"weight\\\": weight_x_y},\\n    }\\n    # Generate accept-reject relationship\\n    expressions_accept_reject = {\\n        \\\"linear\\\": \\\"-14*known_col_4 + 2.*known_col_5 + 0.9*hidden_col_6 -2.1*known_col_3\\\",\\n        \\\"non_linear\\\": \\\"-0.9*known_col_3**0.5 + 0.2*sin(known_col_5) -2.5*log(hidden_col_5)-0.05*hidden_col_6**2.5\\\",\\n        # \\\"interaction\\\": \\\"0.01*known_col_3*known_col_4 -0.05*(hidden_col_5/hidden_col_6)\\\",\\n        \\\"uniform_noise\\\": {\\\"weight\\\": weight_ar},\\n    }\\n    return expressions_x_y, expressions_accept_reject\";\n",
       "                var nbb_formatted_code = \"def expressions(weight_x_y, weight_ar):\\n    # Generate X-y relationship (feature-target)\\n    expressions_x_y = {\\n        \\\"linear\\\": \\\"-0.5*known_col_0 + 2.*known_col_1 + 0.7*known_col_4 -0.4*hidden_col_0\\\",\\n        \\\"non_linear\\\": \\\"-0.7*known_col_3**1.5 + 0.2*sin(known_col_1)+ 0.9*log(hidden_col_4) -0.1*hidden_col_2**2\\\",\\n        \\\"interaction\\\": \\\"0.05*known_col_3*known_col_4 -0.1*(known_col_4/hidden_col_1)\\\",\\n        \\\"uniform_noise\\\": {\\\"weight\\\": weight_x_y},\\n    }\\n    # Generate accept-reject relationship\\n    expressions_accept_reject = {\\n        \\\"linear\\\": \\\"-14*known_col_4 + 2.*known_col_5 + 0.9*hidden_col_6 -2.1*known_col_3\\\",\\n        \\\"non_linear\\\": \\\"-0.9*known_col_3**0.5 + 0.2*sin(known_col_5) -2.5*log(hidden_col_5)-0.05*hidden_col_6**2.5\\\",\\n        # \\\"interaction\\\": \\\"0.01*known_col_3*known_col_4 -0.05*(hidden_col_5/hidden_col_6)\\\",\\n        \\\"uniform_noise\\\": {\\\"weight\\\": weight_ar},\\n    }\\n    return expressions_x_y, expressions_accept_reject\";\n",
       "                var nbb_cells = Jupyter.notebook.get_cells();\n",
       "                for (var i = 0; i < nbb_cells.length; ++i) {\n",
       "                    if (nbb_cells[i].input_prompt_number == nbb_cell_id) {\n",
       "                        if (nbb_cells[i].get_text() == nbb_unformatted_code) {\n",
       "                             nbb_cells[i].set_text(nbb_formatted_code);\n",
       "                        }\n",
       "                        break;\n",
       "                    }\n",
       "                }\n",
       "            }, 500);\n",
       "            "
      ],
      "text/plain": [
       "<IPython.core.display.Javascript object>"
      ]
     },
     "metadata": {},
     "output_type": "display_data"
    }
   ],
   "source": [
    "def expressions(weight_x_y, weight_ar):\n",
    "    # Generate X-y relationship (feature-target)\n",
    "    expressions_x_y = {\n",
    "        \"linear\": \"-0.5*known_col_0 + 2.*known_col_1 + 0.7*known_col_4 -0.4*hidden_col_0\",\n",
    "        \"non_linear\": \"-0.7*known_col_3**1.5 + 0.2*sin(known_col_1)+ 0.9*log(hidden_col_4) -0.1*hidden_col_2**2\",\n",
    "        \"interaction\": \"0.05*known_col_3*known_col_4 -0.1*(known_col_4/hidden_col_1)\",\n",
    "        \"uniform_noise\": {\"weight\": weight_x_y},\n",
    "    }\n",
    "    # Generate accept-reject relationship\n",
    "    expressions_accept_reject = {\n",
    "        \"linear\": \"-14*known_col_4 + 2.*known_col_5 + 0.9*hidden_col_6 -2.1*known_col_3\",\n",
    "        \"non_linear\": \"-0.9*known_col_3**0.5 + 0.2*sin(known_col_5) -2.5*log(hidden_col_5)-0.05*hidden_col_6**2.5\",\n",
    "        # \"interaction\": \"0.01*known_col_3*known_col_4 -0.05*(hidden_col_5/hidden_col_6)\",\n",
    "        \"uniform_noise\": {\"weight\": weight_ar},\n",
    "    }\n",
    "    return expressions_x_y, expressions_accept_reject"
   ]
  },
  {
   "cell_type": "markdown",
   "metadata": {},
   "source": [
    "### Wholesale Expressions"
   ]
  },
  {
   "cell_type": "code",
   "execution_count": 103,
   "metadata": {},
   "outputs": [
    {
     "data": {
      "application/javascript": [
       "\n",
       "            setTimeout(function() {\n",
       "                var nbb_cell_id = 103;\n",
       "                var nbb_unformatted_code = \"expressions_x_y_1, expressions_accept_reject_1 = expressions(0.01, 0.01)\\nexpressions_x_y_2, expressions_accept_reject_2 = expressions(0.75, 0.75)\";\n",
       "                var nbb_formatted_code = \"expressions_x_y_1, expressions_accept_reject_1 = expressions(0.01, 0.01)\\nexpressions_x_y_2, expressions_accept_reject_2 = expressions(0.75, 0.75)\";\n",
       "                var nbb_cells = Jupyter.notebook.get_cells();\n",
       "                for (var i = 0; i < nbb_cells.length; ++i) {\n",
       "                    if (nbb_cells[i].input_prompt_number == nbb_cell_id) {\n",
       "                        if (nbb_cells[i].get_text() == nbb_unformatted_code) {\n",
       "                             nbb_cells[i].set_text(nbb_formatted_code);\n",
       "                        }\n",
       "                        break;\n",
       "                    }\n",
       "                }\n",
       "            }, 500);\n",
       "            "
      ],
      "text/plain": [
       "<IPython.core.display.Javascript object>"
      ]
     },
     "metadata": {},
     "output_type": "display_data"
    }
   ],
   "source": [
    "expressions_x_y_1, expressions_accept_reject_1 = expressions(0.01, 0.01)\n",
    "expressions_x_y_2, expressions_accept_reject_2 = expressions(0.75, 0.75)"
   ]
  },
  {
   "cell_type": "markdown",
   "metadata": {},
   "source": [
    "### All Others Expressions"
   ]
  },
  {
   "cell_type": "code",
   "execution_count": 53,
   "metadata": {},
   "outputs": [
    {
     "data": {
      "application/javascript": [
       "\n",
       "            setTimeout(function() {\n",
       "                var nbb_cell_id = 53;\n",
       "                var nbb_unformatted_code = \"expressions_x_y_1, expressions_accept_reject_1 = expressions(0.01, 0.01)\\nexpressions_x_y_2, expressions_accept_reject_2 = expressions(0.25, 0.25)\\nexpressions_x_y_3, expressions_accept_reject_3 = expressions(0.75, 0.75)\";\n",
       "                var nbb_formatted_code = \"expressions_x_y_1, expressions_accept_reject_1 = expressions(0.01, 0.01)\\nexpressions_x_y_2, expressions_accept_reject_2 = expressions(0.25, 0.25)\\nexpressions_x_y_3, expressions_accept_reject_3 = expressions(0.75, 0.75)\";\n",
       "                var nbb_cells = Jupyter.notebook.get_cells();\n",
       "                for (var i = 0; i < nbb_cells.length; ++i) {\n",
       "                    if (nbb_cells[i].input_prompt_number == nbb_cell_id) {\n",
       "                        if (nbb_cells[i].get_text() == nbb_unformatted_code) {\n",
       "                             nbb_cells[i].set_text(nbb_formatted_code);\n",
       "                        }\n",
       "                        break;\n",
       "                    }\n",
       "                }\n",
       "            }, 500);\n",
       "            "
      ],
      "text/plain": [
       "<IPython.core.display.Javascript object>"
      ]
     },
     "metadata": {},
     "output_type": "display_data"
    }
   ],
   "source": [
    "expressions_x_y_1, expressions_accept_reject_1 = expressions(0.01, 0.01)\n",
    "expressions_x_y_2, expressions_accept_reject_2 = expressions(0.25, 0.25)\n",
    "expressions_x_y_3, expressions_accept_reject_3 = expressions(0.75, 0.75)"
   ]
  },
  {
   "cell_type": "markdown",
   "metadata": {},
   "source": [
    "## Apply targen and get the new dataset and Put all data together"
   ]
  },
  {
   "cell_type": "code",
   "execution_count": 54,
   "metadata": {},
   "outputs": [
    {
     "data": {
      "application/javascript": [
       "\n",
       "            setTimeout(function() {\n",
       "                var nbb_cell_id = 54;\n",
       "                var nbb_unformatted_code = \"def apply_targen(dr, ar, namedata, expressions_x_y, expressions_accept_reject):\\n    X_y = target.get_target_and_contributions(\\n        data, expressions=expressions_x_y, imbalance=dr, drop_features=False\\n    )\\n    X_acc_reject = target.get_target_and_contributions(\\n        data, expressions=expressions_accept_reject, imbalance=ar, drop_features=False\\n    )\\n    X_acc_reject = X_acc_reject.rename(columns={\\\"y\\\": \\\"is_accepted\\\"})\\n    namedata = pd.concat([X_y, X_acc_reject[\\\"is_accepted\\\"]], axis=1).drop(\\n        [col for col in X_y.columns if col.startswith(\\\"score\\\")], axis=1\\n    )\\n    return namedata\";\n",
       "                var nbb_formatted_code = \"def apply_targen(dr, ar, namedata, expressions_x_y, expressions_accept_reject):\\n    X_y = target.get_target_and_contributions(\\n        data, expressions=expressions_x_y, imbalance=dr, drop_features=False\\n    )\\n    X_acc_reject = target.get_target_and_contributions(\\n        data, expressions=expressions_accept_reject, imbalance=ar, drop_features=False\\n    )\\n    X_acc_reject = X_acc_reject.rename(columns={\\\"y\\\": \\\"is_accepted\\\"})\\n    namedata = pd.concat([X_y, X_acc_reject[\\\"is_accepted\\\"]], axis=1).drop(\\n        [col for col in X_y.columns if col.startswith(\\\"score\\\")], axis=1\\n    )\\n    return namedata\";\n",
       "                var nbb_cells = Jupyter.notebook.get_cells();\n",
       "                for (var i = 0; i < nbb_cells.length; ++i) {\n",
       "                    if (nbb_cells[i].input_prompt_number == nbb_cell_id) {\n",
       "                        if (nbb_cells[i].get_text() == nbb_unformatted_code) {\n",
       "                             nbb_cells[i].set_text(nbb_formatted_code);\n",
       "                        }\n",
       "                        break;\n",
       "                    }\n",
       "                }\n",
       "            }, 500);\n",
       "            "
      ],
      "text/plain": [
       "<IPython.core.display.Javascript object>"
      ]
     },
     "metadata": {},
     "output_type": "display_data"
    }
   ],
   "source": [
    "def apply_targen(dr, ar, namedata, expressions_x_y, expressions_accept_reject):\n",
    "    X_y = target.get_target_and_contributions(\n",
    "        data, expressions=expressions_x_y, imbalance=dr, drop_features=False\n",
    "    )\n",
    "    X_acc_reject = target.get_target_and_contributions(\n",
    "        data, expressions=expressions_accept_reject, imbalance=ar, drop_features=False\n",
    "    )\n",
    "    X_acc_reject = X_acc_reject.rename(columns={\"y\": \"is_accepted\"})\n",
    "    namedata = pd.concat([X_y, X_acc_reject[\"is_accepted\"]], axis=1).drop(\n",
    "        [col for col in X_y.columns if col.startswith(\"score\")], axis=1\n",
    "    )\n",
    "    return namedata"
   ]
  },
  {
   "cell_type": "markdown",
   "metadata": {},
   "source": [
    "## Check the default rate per samples (kgb vs rejected)"
   ]
  },
  {
   "cell_type": "code",
   "execution_count": 55,
   "metadata": {},
   "outputs": [
    {
     "data": {
      "application/javascript": [
       "\n",
       "            setTimeout(function() {\n",
       "                var nbb_cell_id = 55;\n",
       "                var nbb_unformatted_code = \"def check(namedata):\\n    kgb = namedata[namedata[\\\"is_accepted\\\"] == 1]\\n    rejected = namedata[namedata[\\\"is_accepted\\\"] == 0]\\n    dr = kgb[\\\"y\\\"].value_counts(normalize=True)\\n    ar = rejected[\\\"y\\\"].value_counts(normalize=True)\\n    return dr, ar\";\n",
       "                var nbb_formatted_code = \"def check(namedata):\\n    kgb = namedata[namedata[\\\"is_accepted\\\"] == 1]\\n    rejected = namedata[namedata[\\\"is_accepted\\\"] == 0]\\n    dr = kgb[\\\"y\\\"].value_counts(normalize=True)\\n    ar = rejected[\\\"y\\\"].value_counts(normalize=True)\\n    return dr, ar\";\n",
       "                var nbb_cells = Jupyter.notebook.get_cells();\n",
       "                for (var i = 0; i < nbb_cells.length; ++i) {\n",
       "                    if (nbb_cells[i].input_prompt_number == nbb_cell_id) {\n",
       "                        if (nbb_cells[i].get_text() == nbb_unformatted_code) {\n",
       "                             nbb_cells[i].set_text(nbb_formatted_code);\n",
       "                        }\n",
       "                        break;\n",
       "                    }\n",
       "                }\n",
       "            }, 500);\n",
       "            "
      ],
      "text/plain": [
       "<IPython.core.display.Javascript object>"
      ]
     },
     "metadata": {},
     "output_type": "display_data"
    }
   ],
   "source": [
    "def check(namedata):\n",
    "    kgb = namedata[namedata[\"is_accepted\"] == 1]\n",
    "    rejected = namedata[namedata[\"is_accepted\"] == 0]\n",
    "    dr = kgb[\"y\"].value_counts(normalize=True)\n",
    "    ar = rejected[\"y\"].value_counts(normalize=True)\n",
    "    return dr, ar"
   ]
  },
  {
   "cell_type": "markdown",
   "metadata": {},
   "source": [
    "## Get the modelling dataset"
   ]
  },
  {
   "cell_type": "code",
   "execution_count": 56,
   "metadata": {},
   "outputs": [
    {
     "data": {
      "application/javascript": [
       "\n",
       "            setTimeout(function() {\n",
       "                var nbb_cell_id = 56;\n",
       "                var nbb_unformatted_code = \"def get_data(namedata):\\n    namedata = namedata[\\n        [col for col in namedata.columns if col.startswith(\\\"known\\\")]\\n        + [\\\"y\\\", \\\"is_accepted\\\"]\\n    ]\\n    return namedata\";\n",
       "                var nbb_formatted_code = \"def get_data(namedata):\\n    namedata = namedata[\\n        [col for col in namedata.columns if col.startswith(\\\"known\\\")]\\n        + [\\\"y\\\", \\\"is_accepted\\\"]\\n    ]\\n    return namedata\";\n",
       "                var nbb_cells = Jupyter.notebook.get_cells();\n",
       "                for (var i = 0; i < nbb_cells.length; ++i) {\n",
       "                    if (nbb_cells[i].input_prompt_number == nbb_cell_id) {\n",
       "                        if (nbb_cells[i].get_text() == nbb_unformatted_code) {\n",
       "                             nbb_cells[i].set_text(nbb_formatted_code);\n",
       "                        }\n",
       "                        break;\n",
       "                    }\n",
       "                }\n",
       "            }, 500);\n",
       "            "
      ],
      "text/plain": [
       "<IPython.core.display.Javascript object>"
      ]
     },
     "metadata": {},
     "output_type": "display_data"
    }
   ],
   "source": [
    "def get_data(namedata):\n",
    "    namedata = namedata[\n",
    "        [col for col in namedata.columns if col.startswith(\"known\")]\n",
    "        + [\"y\", \"is_accepted\"]\n",
    "    ]\n",
    "    return namedata"
   ]
  },
  {
   "cell_type": "markdown",
   "metadata": {},
   "source": [
    "### Wholesale and Secured Loans"
   ]
  },
  {
   "cell_type": "code",
   "execution_count": 104,
   "metadata": {},
   "outputs": [
    {
     "data": {
      "application/javascript": [
       "\n",
       "            setTimeout(function() {\n",
       "                var nbb_cell_id = 104;\n",
       "                var nbb_unformatted_code = \"wholesale_and_secured_scen1 = apply_targen(\\n    0.03,\\n    0.95,\\n    \\\"wholesale_and_secured_scen1\\\",\\n    expressions_x_y_1,\\n    expressions_accept_reject_1,\\n)\\ncheck(wholesale_and_secured_scen1)\\nwholesale_and_secured_scen1 = get_data(wholesale_and_secured_scen1)\\nwholesale_and_secured_scen1.to_csv(\\n    r\\\"C:\\\\Users\\\\Asus\\\\Desktop\\\\Repo\\\\MasterThesis_RI\\\\Data_28_04\\\\wholesale_and_secured_scen1.csv\\\",\\n    index=False,\\n)\";\n",
       "                var nbb_formatted_code = \"wholesale_and_secured_scen1 = apply_targen(\\n    0.03,\\n    0.95,\\n    \\\"wholesale_and_secured_scen1\\\",\\n    expressions_x_y_1,\\n    expressions_accept_reject_1,\\n)\\ncheck(wholesale_and_secured_scen1)\\nwholesale_and_secured_scen1 = get_data(wholesale_and_secured_scen1)\\nwholesale_and_secured_scen1.to_csv(\\n    r\\\"C:\\\\Users\\\\Asus\\\\Desktop\\\\Repo\\\\MasterThesis_RI\\\\Data_28_04\\\\wholesale_and_secured_scen1.csv\\\",\\n    index=False,\\n)\";\n",
       "                var nbb_cells = Jupyter.notebook.get_cells();\n",
       "                for (var i = 0; i < nbb_cells.length; ++i) {\n",
       "                    if (nbb_cells[i].input_prompt_number == nbb_cell_id) {\n",
       "                        if (nbb_cells[i].get_text() == nbb_unformatted_code) {\n",
       "                             nbb_cells[i].set_text(nbb_formatted_code);\n",
       "                        }\n",
       "                        break;\n",
       "                    }\n",
       "                }\n",
       "            }, 500);\n",
       "            "
      ],
      "text/plain": [
       "<IPython.core.display.Javascript object>"
      ]
     },
     "metadata": {},
     "output_type": "display_data"
    }
   ],
   "source": [
    "wholesale_and_secured_scen1 = apply_targen(\n",
    "    0.03,\n",
    "    0.95,\n",
    "    \"wholesale_and_secured_scen1\",\n",
    "    expressions_x_y_1,\n",
    "    expressions_accept_reject_1,\n",
    ")\n",
    "check(wholesale_and_secured_scen1)\n",
    "wholesale_and_secured_scen1 = get_data(wholesale_and_secured_scen1)\n",
    "wholesale_and_secured_scen1.to_csv(\n",
    "    r\"C:\\Users\\Asus\\Desktop\\Repo\\MasterThesis_RI\\Data_28_04\\wholesale_and_secured_scen1.csv\",\n",
    "    index=False,\n",
    ")"
   ]
  },
  {
   "cell_type": "code",
   "execution_count": 105,
   "metadata": {},
   "outputs": [
    {
     "data": {
      "application/javascript": [
       "\n",
       "            setTimeout(function() {\n",
       "                var nbb_cell_id = 105;\n",
       "                var nbb_unformatted_code = \"wholesale_and_secured_scen2 = apply_targen(\\n    0.03,\\n    0.95,\\n    \\\"wholesale_and_secured_scen2\\\",\\n    expressions_x_y_2,\\n    expressions_accept_reject_2,\\n)\\ncheck(wholesale_and_secured_scen2)\\nwholesale_and_secured_scen2.to_csv(\\n    r\\\"C:\\\\Users\\\\Asus\\\\Desktop\\\\Repo\\\\MasterThesis_RI\\\\Data_28_04\\\\wholesale_and_secured_scen2.csv\\\",\\n    index=False,\\n)\";\n",
       "                var nbb_formatted_code = \"wholesale_and_secured_scen2 = apply_targen(\\n    0.03,\\n    0.95,\\n    \\\"wholesale_and_secured_scen2\\\",\\n    expressions_x_y_2,\\n    expressions_accept_reject_2,\\n)\\ncheck(wholesale_and_secured_scen2)\\nwholesale_and_secured_scen2.to_csv(\\n    r\\\"C:\\\\Users\\\\Asus\\\\Desktop\\\\Repo\\\\MasterThesis_RI\\\\Data_28_04\\\\wholesale_and_secured_scen2.csv\\\",\\n    index=False,\\n)\";\n",
       "                var nbb_cells = Jupyter.notebook.get_cells();\n",
       "                for (var i = 0; i < nbb_cells.length; ++i) {\n",
       "                    if (nbb_cells[i].input_prompt_number == nbb_cell_id) {\n",
       "                        if (nbb_cells[i].get_text() == nbb_unformatted_code) {\n",
       "                             nbb_cells[i].set_text(nbb_formatted_code);\n",
       "                        }\n",
       "                        break;\n",
       "                    }\n",
       "                }\n",
       "            }, 500);\n",
       "            "
      ],
      "text/plain": [
       "<IPython.core.display.Javascript object>"
      ]
     },
     "metadata": {},
     "output_type": "display_data"
    }
   ],
   "source": [
    "wholesale_and_secured_scen2 = apply_targen(\n",
    "    0.03,\n",
    "    0.95,\n",
    "    \"wholesale_and_secured_scen2\",\n",
    "    expressions_x_y_2,\n",
    "    expressions_accept_reject_2,\n",
    ")\n",
    "check(wholesale_and_secured_scen2)\n",
    "wholesale_and_secured_scen2.to_csv(\n",
    "    r\"C:\\Users\\Asus\\Desktop\\Repo\\MasterThesis_RI\\Data_28_04\\wholesale_and_secured_scen2.csv\",\n",
    "    index=False,\n",
    ")"
   ]
  },
  {
   "cell_type": "markdown",
   "metadata": {},
   "source": [
    "### Consumer Loans/SME/ Credit Cards Scenario 1"
   ]
  },
  {
   "cell_type": "code",
   "execution_count": 59,
   "metadata": {},
   "outputs": [
    {
     "data": {
      "application/javascript": [
       "\n",
       "            setTimeout(function() {\n",
       "                var nbb_cell_id = 59;\n",
       "                var nbb_unformatted_code = \"cons_scen1_1 = apply_targen(\\n    0.05, 0.9, \\\"cons_scen1\\\", expressions_x_y_1, expressions_accept_reject_1\\n)\\ncons_scen1_1 = get_data(cons_scen1_1)\\ncons_scen1_1.to_csv(\\n    r\\\"C:\\\\Users\\\\Asus\\\\Desktop\\\\Repo\\\\MasterThesis_RI\\\\Data_28_04\\\\cons_scen1_1.csv\\\",\\n    index=False,\\n)\";\n",
       "                var nbb_formatted_code = \"cons_scen1_1 = apply_targen(\\n    0.05, 0.9, \\\"cons_scen1\\\", expressions_x_y_1, expressions_accept_reject_1\\n)\\ncons_scen1_1 = get_data(cons_scen1_1)\\ncons_scen1_1.to_csv(\\n    r\\\"C:\\\\Users\\\\Asus\\\\Desktop\\\\Repo\\\\MasterThesis_RI\\\\Data_28_04\\\\cons_scen1_1.csv\\\",\\n    index=False,\\n)\";\n",
       "                var nbb_cells = Jupyter.notebook.get_cells();\n",
       "                for (var i = 0; i < nbb_cells.length; ++i) {\n",
       "                    if (nbb_cells[i].input_prompt_number == nbb_cell_id) {\n",
       "                        if (nbb_cells[i].get_text() == nbb_unformatted_code) {\n",
       "                             nbb_cells[i].set_text(nbb_formatted_code);\n",
       "                        }\n",
       "                        break;\n",
       "                    }\n",
       "                }\n",
       "            }, 500);\n",
       "            "
      ],
      "text/plain": [
       "<IPython.core.display.Javascript object>"
      ]
     },
     "metadata": {},
     "output_type": "display_data"
    }
   ],
   "source": [
    "cons_scen1_1 = apply_targen(\n",
    "    0.05, 0.9, \"cons_scen1\", expressions_x_y_1, expressions_accept_reject_1\n",
    ")\n",
    "cons_scen1_1 = get_data(cons_scen1_1)\n",
    "cons_scen1_1.to_csv(\n",
    "    r\"C:\\Users\\Asus\\Desktop\\Repo\\MasterThesis_RI\\Data_28_04\\cons_scen1_1.csv\",\n",
    "    index=False,\n",
    ")"
   ]
  },
  {
   "cell_type": "code",
   "execution_count": 60,
   "metadata": {},
   "outputs": [
    {
     "data": {
      "application/javascript": [
       "\n",
       "            setTimeout(function() {\n",
       "                var nbb_cell_id = 60;\n",
       "                var nbb_unformatted_code = \"cons_scen1_2 = apply_targen(\\n    0.05, 0.9, \\\"cons_scen1\\\", expressions_x_y_2, expressions_accept_reject_2\\n)\\ncons_scen1_2 = get_data(cons_scen1_2)\\ncons_scen1_2.to_csv(\\n    r\\\"C:\\\\Users\\\\Asus\\\\Desktop\\\\Repo\\\\MasterThesis_RI\\\\Data_28_04\\\\cons_scen1_2.csv\\\",\\n    index=False,\\n)\";\n",
       "                var nbb_formatted_code = \"cons_scen1_2 = apply_targen(\\n    0.05, 0.9, \\\"cons_scen1\\\", expressions_x_y_2, expressions_accept_reject_2\\n)\\ncons_scen1_2 = get_data(cons_scen1_2)\\ncons_scen1_2.to_csv(\\n    r\\\"C:\\\\Users\\\\Asus\\\\Desktop\\\\Repo\\\\MasterThesis_RI\\\\Data_28_04\\\\cons_scen1_2.csv\\\",\\n    index=False,\\n)\";\n",
       "                var nbb_cells = Jupyter.notebook.get_cells();\n",
       "                for (var i = 0; i < nbb_cells.length; ++i) {\n",
       "                    if (nbb_cells[i].input_prompt_number == nbb_cell_id) {\n",
       "                        if (nbb_cells[i].get_text() == nbb_unformatted_code) {\n",
       "                             nbb_cells[i].set_text(nbb_formatted_code);\n",
       "                        }\n",
       "                        break;\n",
       "                    }\n",
       "                }\n",
       "            }, 500);\n",
       "            "
      ],
      "text/plain": [
       "<IPython.core.display.Javascript object>"
      ]
     },
     "metadata": {},
     "output_type": "display_data"
    }
   ],
   "source": [
    "cons_scen1_2 = apply_targen(\n",
    "    0.05, 0.9, \"cons_scen1\", expressions_x_y_2, expressions_accept_reject_2\n",
    ")\n",
    "cons_scen1_2 = get_data(cons_scen1_2)\n",
    "cons_scen1_2.to_csv(\n",
    "    r\"C:\\Users\\Asus\\Desktop\\Repo\\MasterThesis_RI\\Data_28_04\\cons_scen1_2.csv\",\n",
    "    index=False,\n",
    ")"
   ]
  },
  {
   "cell_type": "code",
   "execution_count": 61,
   "metadata": {},
   "outputs": [
    {
     "data": {
      "application/javascript": [
       "\n",
       "            setTimeout(function() {\n",
       "                var nbb_cell_id = 61;\n",
       "                var nbb_unformatted_code = \"cons_scen1_3 = apply_targen(\\n    0.05, 0.9, \\\"cons_scen1\\\", expressions_x_y_3, expressions_accept_reject_3\\n)\\ncons_scen1_3 = get_data(cons_scen1_3)\\ncons_scen1_3.to_csv(\\n    r\\\"C:\\\\Users\\\\Asus\\\\Desktop\\\\Repo\\\\MasterThesis_RI\\\\Data_28_04\\\\cons_scen1_3.csv\\\",\\n    index=False,\\n)\";\n",
       "                var nbb_formatted_code = \"cons_scen1_3 = apply_targen(\\n    0.05, 0.9, \\\"cons_scen1\\\", expressions_x_y_3, expressions_accept_reject_3\\n)\\ncons_scen1_3 = get_data(cons_scen1_3)\\ncons_scen1_3.to_csv(\\n    r\\\"C:\\\\Users\\\\Asus\\\\Desktop\\\\Repo\\\\MasterThesis_RI\\\\Data_28_04\\\\cons_scen1_3.csv\\\",\\n    index=False,\\n)\";\n",
       "                var nbb_cells = Jupyter.notebook.get_cells();\n",
       "                for (var i = 0; i < nbb_cells.length; ++i) {\n",
       "                    if (nbb_cells[i].input_prompt_number == nbb_cell_id) {\n",
       "                        if (nbb_cells[i].get_text() == nbb_unformatted_code) {\n",
       "                             nbb_cells[i].set_text(nbb_formatted_code);\n",
       "                        }\n",
       "                        break;\n",
       "                    }\n",
       "                }\n",
       "            }, 500);\n",
       "            "
      ],
      "text/plain": [
       "<IPython.core.display.Javascript object>"
      ]
     },
     "metadata": {},
     "output_type": "display_data"
    }
   ],
   "source": [
    "cons_scen1_3 = apply_targen(\n",
    "    0.05, 0.9, \"cons_scen1\", expressions_x_y_3, expressions_accept_reject_3\n",
    ")\n",
    "cons_scen1_3 = get_data(cons_scen1_3)\n",
    "cons_scen1_3.to_csv(\n",
    "    r\"C:\\Users\\Asus\\Desktop\\Repo\\MasterThesis_RI\\Data_28_04\\cons_scen1_3.csv\",\n",
    "    index=False,\n",
    ")"
   ]
  },
  {
   "cell_type": "markdown",
   "metadata": {},
   "source": [
    "### Consumer Loans/SME/ Credit Cards Scenario 2"
   ]
  },
  {
   "cell_type": "code",
   "execution_count": 62,
   "metadata": {},
   "outputs": [
    {
     "data": {
      "application/javascript": [
       "\n",
       "            setTimeout(function() {\n",
       "                var nbb_cell_id = 62;\n",
       "                var nbb_unformatted_code = \"cons_scen2_1 = apply_targen(\\n    0.1, 0.9, \\\"cons_scen2\\\", expressions_x_y_1, expressions_accept_reject_1\\n)\\ncons_scen2_1 = get_data(cons_scen2_1)\\ncons_scen2_1.to_csv(\\n    r\\\"C:\\\\Users\\\\Asus\\\\Desktop\\\\Repo\\\\MasterThesis_RI\\\\Data_28_04\\\\cons_scen2_1.csv\\\",\\n    index=False,\\n)\";\n",
       "                var nbb_formatted_code = \"cons_scen2_1 = apply_targen(\\n    0.1, 0.9, \\\"cons_scen2\\\", expressions_x_y_1, expressions_accept_reject_1\\n)\\ncons_scen2_1 = get_data(cons_scen2_1)\\ncons_scen2_1.to_csv(\\n    r\\\"C:\\\\Users\\\\Asus\\\\Desktop\\\\Repo\\\\MasterThesis_RI\\\\Data_28_04\\\\cons_scen2_1.csv\\\",\\n    index=False,\\n)\";\n",
       "                var nbb_cells = Jupyter.notebook.get_cells();\n",
       "                for (var i = 0; i < nbb_cells.length; ++i) {\n",
       "                    if (nbb_cells[i].input_prompt_number == nbb_cell_id) {\n",
       "                        if (nbb_cells[i].get_text() == nbb_unformatted_code) {\n",
       "                             nbb_cells[i].set_text(nbb_formatted_code);\n",
       "                        }\n",
       "                        break;\n",
       "                    }\n",
       "                }\n",
       "            }, 500);\n",
       "            "
      ],
      "text/plain": [
       "<IPython.core.display.Javascript object>"
      ]
     },
     "metadata": {},
     "output_type": "display_data"
    }
   ],
   "source": [
    "cons_scen2_1 = apply_targen(\n",
    "    0.1, 0.9, \"cons_scen2\", expressions_x_y_1, expressions_accept_reject_1\n",
    ")\n",
    "cons_scen2_1 = get_data(cons_scen2_1)\n",
    "cons_scen2_1.to_csv(\n",
    "    r\"C:\\Users\\Asus\\Desktop\\Repo\\MasterThesis_RI\\Data_28_04\\cons_scen2_1.csv\",\n",
    "    index=False,\n",
    ")"
   ]
  },
  {
   "cell_type": "code",
   "execution_count": 63,
   "metadata": {},
   "outputs": [
    {
     "data": {
      "application/javascript": [
       "\n",
       "            setTimeout(function() {\n",
       "                var nbb_cell_id = 63;\n",
       "                var nbb_unformatted_code = \"cons_scen2_2 = apply_targen(\\n    0.1, 0.9, \\\"cons_scen2\\\", expressions_x_y_2, expressions_accept_reject_2\\n)\\ncons_scen2_2 = get_data(cons_scen2_2)\\ncons_scen2_2.to_csv(\\n    r\\\"C:\\\\Users\\\\Asus\\\\Desktop\\\\Repo\\\\MasterThesis_RI\\\\Data_28_04\\\\cons_scen2_2.csv\\\",\\n    index=False,\\n)\";\n",
       "                var nbb_formatted_code = \"cons_scen2_2 = apply_targen(\\n    0.1, 0.9, \\\"cons_scen2\\\", expressions_x_y_2, expressions_accept_reject_2\\n)\\ncons_scen2_2 = get_data(cons_scen2_2)\\ncons_scen2_2.to_csv(\\n    r\\\"C:\\\\Users\\\\Asus\\\\Desktop\\\\Repo\\\\MasterThesis_RI\\\\Data_28_04\\\\cons_scen2_2.csv\\\",\\n    index=False,\\n)\";\n",
       "                var nbb_cells = Jupyter.notebook.get_cells();\n",
       "                for (var i = 0; i < nbb_cells.length; ++i) {\n",
       "                    if (nbb_cells[i].input_prompt_number == nbb_cell_id) {\n",
       "                        if (nbb_cells[i].get_text() == nbb_unformatted_code) {\n",
       "                             nbb_cells[i].set_text(nbb_formatted_code);\n",
       "                        }\n",
       "                        break;\n",
       "                    }\n",
       "                }\n",
       "            }, 500);\n",
       "            "
      ],
      "text/plain": [
       "<IPython.core.display.Javascript object>"
      ]
     },
     "metadata": {},
     "output_type": "display_data"
    }
   ],
   "source": [
    "cons_scen2_2 = apply_targen(\n",
    "    0.1, 0.9, \"cons_scen2\", expressions_x_y_2, expressions_accept_reject_2\n",
    ")\n",
    "cons_scen2_2 = get_data(cons_scen2_2)\n",
    "cons_scen2_2.to_csv(\n",
    "    r\"C:\\Users\\Asus\\Desktop\\Repo\\MasterThesis_RI\\Data_28_04\\cons_scen2_2.csv\",\n",
    "    index=False,\n",
    ")"
   ]
  },
  {
   "cell_type": "code",
   "execution_count": 64,
   "metadata": {},
   "outputs": [
    {
     "data": {
      "application/javascript": [
       "\n",
       "            setTimeout(function() {\n",
       "                var nbb_cell_id = 64;\n",
       "                var nbb_unformatted_code = \"cons_scen2_3 = apply_targen(\\n    0.1, 0.9, \\\"cons_scen2\\\", expressions_x_y_3, expressions_accept_reject_3\\n)\\ncons_scen2_3 = get_data(cons_scen2_3)\\ncons_scen2_3.to_csv(\\n    r\\\"C:\\\\Users\\\\Asus\\\\Desktop\\\\Repo\\\\MasterThesis_RI\\\\Data_28_04\\\\cons_scen2_3.csv\\\",\\n    index=False,\\n)\";\n",
       "                var nbb_formatted_code = \"cons_scen2_3 = apply_targen(\\n    0.1, 0.9, \\\"cons_scen2\\\", expressions_x_y_3, expressions_accept_reject_3\\n)\\ncons_scen2_3 = get_data(cons_scen2_3)\\ncons_scen2_3.to_csv(\\n    r\\\"C:\\\\Users\\\\Asus\\\\Desktop\\\\Repo\\\\MasterThesis_RI\\\\Data_28_04\\\\cons_scen2_3.csv\\\",\\n    index=False,\\n)\";\n",
       "                var nbb_cells = Jupyter.notebook.get_cells();\n",
       "                for (var i = 0; i < nbb_cells.length; ++i) {\n",
       "                    if (nbb_cells[i].input_prompt_number == nbb_cell_id) {\n",
       "                        if (nbb_cells[i].get_text() == nbb_unformatted_code) {\n",
       "                             nbb_cells[i].set_text(nbb_formatted_code);\n",
       "                        }\n",
       "                        break;\n",
       "                    }\n",
       "                }\n",
       "            }, 500);\n",
       "            "
      ],
      "text/plain": [
       "<IPython.core.display.Javascript object>"
      ]
     },
     "metadata": {},
     "output_type": "display_data"
    }
   ],
   "source": [
    "cons_scen2_3 = apply_targen(\n",
    "    0.1, 0.9, \"cons_scen2\", expressions_x_y_3, expressions_accept_reject_3\n",
    ")\n",
    "cons_scen2_3 = get_data(cons_scen2_3)\n",
    "cons_scen2_3.to_csv(\n",
    "    r\"C:\\Users\\Asus\\Desktop\\Repo\\MasterThesis_RI\\Data_28_04\\cons_scen2_3.csv\",\n",
    "    index=False,\n",
    ")"
   ]
  },
  {
   "cell_type": "markdown",
   "metadata": {},
   "source": [
    "### Consumer Loans/SME/ Credit Cards Scenario 3"
   ]
  },
  {
   "cell_type": "code",
   "execution_count": 65,
   "metadata": {},
   "outputs": [
    {
     "data": {
      "application/javascript": [
       "\n",
       "            setTimeout(function() {\n",
       "                var nbb_cell_id = 65;\n",
       "                var nbb_unformatted_code = \"cons_scen3_1 = apply_targen(\\n    0.05, 0.8, \\\"cons_scen3\\\", expressions_x_y_1, expressions_accept_reject_1\\n)\\ncons_scen3_1 = get_data(cons_scen3_1)\\ncons_scen3_1.to_csv(\\n    r\\\"C:\\\\Users\\\\Asus\\\\Desktop\\\\Repo\\\\MasterThesis_RI\\\\Data_28_04\\\\cons_scen3_1.csv\\\",\\n    index=False,\\n)\";\n",
       "                var nbb_formatted_code = \"cons_scen3_1 = apply_targen(\\n    0.05, 0.8, \\\"cons_scen3\\\", expressions_x_y_1, expressions_accept_reject_1\\n)\\ncons_scen3_1 = get_data(cons_scen3_1)\\ncons_scen3_1.to_csv(\\n    r\\\"C:\\\\Users\\\\Asus\\\\Desktop\\\\Repo\\\\MasterThesis_RI\\\\Data_28_04\\\\cons_scen3_1.csv\\\",\\n    index=False,\\n)\";\n",
       "                var nbb_cells = Jupyter.notebook.get_cells();\n",
       "                for (var i = 0; i < nbb_cells.length; ++i) {\n",
       "                    if (nbb_cells[i].input_prompt_number == nbb_cell_id) {\n",
       "                        if (nbb_cells[i].get_text() == nbb_unformatted_code) {\n",
       "                             nbb_cells[i].set_text(nbb_formatted_code);\n",
       "                        }\n",
       "                        break;\n",
       "                    }\n",
       "                }\n",
       "            }, 500);\n",
       "            "
      ],
      "text/plain": [
       "<IPython.core.display.Javascript object>"
      ]
     },
     "metadata": {},
     "output_type": "display_data"
    }
   ],
   "source": [
    "cons_scen3_1 = apply_targen(\n",
    "    0.05, 0.8, \"cons_scen3\", expressions_x_y_1, expressions_accept_reject_1\n",
    ")\n",
    "cons_scen3_1 = get_data(cons_scen3_1)\n",
    "cons_scen3_1.to_csv(\n",
    "    r\"C:\\Users\\Asus\\Desktop\\Repo\\MasterThesis_RI\\Data_28_04\\cons_scen3_1.csv\",\n",
    "    index=False,\n",
    ")"
   ]
  },
  {
   "cell_type": "code",
   "execution_count": 66,
   "metadata": {},
   "outputs": [
    {
     "data": {
      "application/javascript": [
       "\n",
       "            setTimeout(function() {\n",
       "                var nbb_cell_id = 66;\n",
       "                var nbb_unformatted_code = \"cons_scen3_2 = apply_targen(\\n    0.05, 0.8, \\\"cons_scen3\\\", expressions_x_y_2, expressions_accept_reject_2\\n)\\ncons_scen3_2 = get_data(cons_scen3_2)\\ncons_scen3_2.to_csv(\\n    r\\\"C:\\\\Users\\\\Asus\\\\Desktop\\\\Repo\\\\MasterThesis_RI\\\\Data_28_04\\\\cons_scen3_2.csv\\\",\\n    index=False,\\n)\";\n",
       "                var nbb_formatted_code = \"cons_scen3_2 = apply_targen(\\n    0.05, 0.8, \\\"cons_scen3\\\", expressions_x_y_2, expressions_accept_reject_2\\n)\\ncons_scen3_2 = get_data(cons_scen3_2)\\ncons_scen3_2.to_csv(\\n    r\\\"C:\\\\Users\\\\Asus\\\\Desktop\\\\Repo\\\\MasterThesis_RI\\\\Data_28_04\\\\cons_scen3_2.csv\\\",\\n    index=False,\\n)\";\n",
       "                var nbb_cells = Jupyter.notebook.get_cells();\n",
       "                for (var i = 0; i < nbb_cells.length; ++i) {\n",
       "                    if (nbb_cells[i].input_prompt_number == nbb_cell_id) {\n",
       "                        if (nbb_cells[i].get_text() == nbb_unformatted_code) {\n",
       "                             nbb_cells[i].set_text(nbb_formatted_code);\n",
       "                        }\n",
       "                        break;\n",
       "                    }\n",
       "                }\n",
       "            }, 500);\n",
       "            "
      ],
      "text/plain": [
       "<IPython.core.display.Javascript object>"
      ]
     },
     "metadata": {},
     "output_type": "display_data"
    }
   ],
   "source": [
    "cons_scen3_2 = apply_targen(\n",
    "    0.05, 0.8, \"cons_scen3\", expressions_x_y_2, expressions_accept_reject_2\n",
    ")\n",
    "cons_scen3_2 = get_data(cons_scen3_2)\n",
    "cons_scen3_2.to_csv(\n",
    "    r\"C:\\Users\\Asus\\Desktop\\Repo\\MasterThesis_RI\\Data_28_04\\cons_scen3_2.csv\",\n",
    "    index=False,\n",
    ")"
   ]
  },
  {
   "cell_type": "code",
   "execution_count": 67,
   "metadata": {},
   "outputs": [
    {
     "data": {
      "application/javascript": [
       "\n",
       "            setTimeout(function() {\n",
       "                var nbb_cell_id = 67;\n",
       "                var nbb_unformatted_code = \"cons_scen3_3 = apply_targen(\\n    0.05, 0.8, \\\"cons_scen3\\\", expressions_x_y_3, expressions_accept_reject_3\\n)\\ncons_scen3_3 = get_data(cons_scen3_3)\\ncons_scen3_3.to_csv(\\n    r\\\"C:\\\\Users\\\\Asus\\\\Desktop\\\\Repo\\\\MasterThesis_RI\\\\Data_28_04\\\\cons_scen3_3.csv\\\",\\n    index=False,\\n)\";\n",
       "                var nbb_formatted_code = \"cons_scen3_3 = apply_targen(\\n    0.05, 0.8, \\\"cons_scen3\\\", expressions_x_y_3, expressions_accept_reject_3\\n)\\ncons_scen3_3 = get_data(cons_scen3_3)\\ncons_scen3_3.to_csv(\\n    r\\\"C:\\\\Users\\\\Asus\\\\Desktop\\\\Repo\\\\MasterThesis_RI\\\\Data_28_04\\\\cons_scen3_3.csv\\\",\\n    index=False,\\n)\";\n",
       "                var nbb_cells = Jupyter.notebook.get_cells();\n",
       "                for (var i = 0; i < nbb_cells.length; ++i) {\n",
       "                    if (nbb_cells[i].input_prompt_number == nbb_cell_id) {\n",
       "                        if (nbb_cells[i].get_text() == nbb_unformatted_code) {\n",
       "                             nbb_cells[i].set_text(nbb_formatted_code);\n",
       "                        }\n",
       "                        break;\n",
       "                    }\n",
       "                }\n",
       "            }, 500);\n",
       "            "
      ],
      "text/plain": [
       "<IPython.core.display.Javascript object>"
      ]
     },
     "metadata": {},
     "output_type": "display_data"
    }
   ],
   "source": [
    "cons_scen3_3 = apply_targen(\n",
    "    0.05, 0.8, \"cons_scen3\", expressions_x_y_3, expressions_accept_reject_3\n",
    ")\n",
    "cons_scen3_3 = get_data(cons_scen3_3)\n",
    "cons_scen3_3.to_csv(\n",
    "    r\"C:\\Users\\Asus\\Desktop\\Repo\\MasterThesis_RI\\Data_28_04\\cons_scen3_3.csv\",\n",
    "    index=False,\n",
    ")"
   ]
  },
  {
   "cell_type": "markdown",
   "metadata": {},
   "source": [
    "### Consumer Loans/SME/ Credit Cards Scenario 4"
   ]
  },
  {
   "cell_type": "code",
   "execution_count": 68,
   "metadata": {},
   "outputs": [
    {
     "data": {
      "application/javascript": [
       "\n",
       "            setTimeout(function() {\n",
       "                var nbb_cell_id = 68;\n",
       "                var nbb_unformatted_code = \"cons_scen4_1 = apply_targen(\\n    0.1, 0.8, \\\"cons_scen4\\\", expressions_x_y_1, expressions_accept_reject_1\\n)\\ncons_scen4_1 = get_data(cons_scen4_1)\\ncons_scen4_1.to_csv(\\n    r\\\"C:\\\\Users\\\\Asus\\\\Desktop\\\\Repo\\\\MasterThesis_RI\\\\Data_28_04\\\\cons_scen4_1.csv\\\",\\n    index=False,\\n)\";\n",
       "                var nbb_formatted_code = \"cons_scen4_1 = apply_targen(\\n    0.1, 0.8, \\\"cons_scen4\\\", expressions_x_y_1, expressions_accept_reject_1\\n)\\ncons_scen4_1 = get_data(cons_scen4_1)\\ncons_scen4_1.to_csv(\\n    r\\\"C:\\\\Users\\\\Asus\\\\Desktop\\\\Repo\\\\MasterThesis_RI\\\\Data_28_04\\\\cons_scen4_1.csv\\\",\\n    index=False,\\n)\";\n",
       "                var nbb_cells = Jupyter.notebook.get_cells();\n",
       "                for (var i = 0; i < nbb_cells.length; ++i) {\n",
       "                    if (nbb_cells[i].input_prompt_number == nbb_cell_id) {\n",
       "                        if (nbb_cells[i].get_text() == nbb_unformatted_code) {\n",
       "                             nbb_cells[i].set_text(nbb_formatted_code);\n",
       "                        }\n",
       "                        break;\n",
       "                    }\n",
       "                }\n",
       "            }, 500);\n",
       "            "
      ],
      "text/plain": [
       "<IPython.core.display.Javascript object>"
      ]
     },
     "metadata": {},
     "output_type": "display_data"
    }
   ],
   "source": [
    "cons_scen4_1 = apply_targen(\n",
    "    0.1, 0.8, \"cons_scen4\", expressions_x_y_1, expressions_accept_reject_1\n",
    ")\n",
    "cons_scen4_1 = get_data(cons_scen4_1)\n",
    "cons_scen4_1.to_csv(\n",
    "    r\"C:\\Users\\Asus\\Desktop\\Repo\\MasterThesis_RI\\Data_28_04\\cons_scen4_1.csv\",\n",
    "    index=False,\n",
    ")"
   ]
  },
  {
   "cell_type": "code",
   "execution_count": 69,
   "metadata": {},
   "outputs": [
    {
     "data": {
      "application/javascript": [
       "\n",
       "            setTimeout(function() {\n",
       "                var nbb_cell_id = 69;\n",
       "                var nbb_unformatted_code = \"cons_scen4_2 = apply_targen(\\n    0.1, 0.8, \\\"cons_scen4\\\", expressions_x_y_2, expressions_accept_reject_2\\n)\\ncons_scen4_2 = get_data(cons_scen4_2)\\ncons_scen4_2.to_csv(\\n    r\\\"C:\\\\Users\\\\Asus\\\\Desktop\\\\Repo\\\\MasterThesis_RI\\\\Data_28_04\\\\cons_scen4_2.csv\\\",\\n    index=False,\\n)\";\n",
       "                var nbb_formatted_code = \"cons_scen4_2 = apply_targen(\\n    0.1, 0.8, \\\"cons_scen4\\\", expressions_x_y_2, expressions_accept_reject_2\\n)\\ncons_scen4_2 = get_data(cons_scen4_2)\\ncons_scen4_2.to_csv(\\n    r\\\"C:\\\\Users\\\\Asus\\\\Desktop\\\\Repo\\\\MasterThesis_RI\\\\Data_28_04\\\\cons_scen4_2.csv\\\",\\n    index=False,\\n)\";\n",
       "                var nbb_cells = Jupyter.notebook.get_cells();\n",
       "                for (var i = 0; i < nbb_cells.length; ++i) {\n",
       "                    if (nbb_cells[i].input_prompt_number == nbb_cell_id) {\n",
       "                        if (nbb_cells[i].get_text() == nbb_unformatted_code) {\n",
       "                             nbb_cells[i].set_text(nbb_formatted_code);\n",
       "                        }\n",
       "                        break;\n",
       "                    }\n",
       "                }\n",
       "            }, 500);\n",
       "            "
      ],
      "text/plain": [
       "<IPython.core.display.Javascript object>"
      ]
     },
     "metadata": {},
     "output_type": "display_data"
    }
   ],
   "source": [
    "cons_scen4_2 = apply_targen(\n",
    "    0.1, 0.8, \"cons_scen4\", expressions_x_y_2, expressions_accept_reject_2\n",
    ")\n",
    "cons_scen4_2 = get_data(cons_scen4_2)\n",
    "cons_scen4_2.to_csv(\n",
    "    r\"C:\\Users\\Asus\\Desktop\\Repo\\MasterThesis_RI\\Data_28_04\\cons_scen4_2.csv\",\n",
    "    index=False,\n",
    ")"
   ]
  },
  {
   "cell_type": "code",
   "execution_count": 70,
   "metadata": {},
   "outputs": [
    {
     "data": {
      "application/javascript": [
       "\n",
       "            setTimeout(function() {\n",
       "                var nbb_cell_id = 70;\n",
       "                var nbb_unformatted_code = \"cons_scen4_3 = apply_targen(\\n    0.1, 0.8, \\\"cons_scen4\\\", expressions_x_y_3, expressions_accept_reject_3\\n)\\ncons_scen4_3 = get_data(cons_scen4_3)\\ncons_scen4_3.to_csv(\\n    r\\\"C:\\\\Users\\\\Asus\\\\Desktop\\\\Repo\\\\MasterThesis_RI\\\\Data_28_04\\\\cons_scen4_3.csv\\\",\\n    index=False,\\n)\";\n",
       "                var nbb_formatted_code = \"cons_scen4_3 = apply_targen(\\n    0.1, 0.8, \\\"cons_scen4\\\", expressions_x_y_3, expressions_accept_reject_3\\n)\\ncons_scen4_3 = get_data(cons_scen4_3)\\ncons_scen4_3.to_csv(\\n    r\\\"C:\\\\Users\\\\Asus\\\\Desktop\\\\Repo\\\\MasterThesis_RI\\\\Data_28_04\\\\cons_scen4_3.csv\\\",\\n    index=False,\\n)\";\n",
       "                var nbb_cells = Jupyter.notebook.get_cells();\n",
       "                for (var i = 0; i < nbb_cells.length; ++i) {\n",
       "                    if (nbb_cells[i].input_prompt_number == nbb_cell_id) {\n",
       "                        if (nbb_cells[i].get_text() == nbb_unformatted_code) {\n",
       "                             nbb_cells[i].set_text(nbb_formatted_code);\n",
       "                        }\n",
       "                        break;\n",
       "                    }\n",
       "                }\n",
       "            }, 500);\n",
       "            "
      ],
      "text/plain": [
       "<IPython.core.display.Javascript object>"
      ]
     },
     "metadata": {},
     "output_type": "display_data"
    }
   ],
   "source": [
    "cons_scen4_3 = apply_targen(\n",
    "    0.1, 0.8, \"cons_scen4\", expressions_x_y_3, expressions_accept_reject_3\n",
    ")\n",
    "cons_scen4_3 = get_data(cons_scen4_3)\n",
    "cons_scen4_3.to_csv(\n",
    "    r\"C:\\Users\\Asus\\Desktop\\Repo\\MasterThesis_RI\\Data_28_04\\cons_scen4_3.csv\",\n",
    "    index=False,\n",
    ")"
   ]
  },
  {
   "cell_type": "markdown",
   "metadata": {},
   "source": [
    "### MFI"
   ]
  },
  {
   "cell_type": "code",
   "execution_count": 71,
   "metadata": {},
   "outputs": [
    {
     "data": {
      "application/javascript": [
       "\n",
       "            setTimeout(function() {\n",
       "                var nbb_cell_id = 71;\n",
       "                var nbb_unformatted_code = \"mfi_1 = apply_targen(0.2, 0.5, \\\"mfi\\\", expressions_x_y_1, expressions_accept_reject_1)\\nmfi_1 = get_data(mfi_1)\\nmfi_1.to_csv(\\n    r\\\"C:\\\\Users\\\\Asus\\\\Desktop\\\\Repo\\\\MasterThesis_RI\\\\Data_28_04\\\\mfi_1.csv\\\", index=False\\n)\";\n",
       "                var nbb_formatted_code = \"mfi_1 = apply_targen(0.2, 0.5, \\\"mfi\\\", expressions_x_y_1, expressions_accept_reject_1)\\nmfi_1 = get_data(mfi_1)\\nmfi_1.to_csv(\\n    r\\\"C:\\\\Users\\\\Asus\\\\Desktop\\\\Repo\\\\MasterThesis_RI\\\\Data_28_04\\\\mfi_1.csv\\\", index=False\\n)\";\n",
       "                var nbb_cells = Jupyter.notebook.get_cells();\n",
       "                for (var i = 0; i < nbb_cells.length; ++i) {\n",
       "                    if (nbb_cells[i].input_prompt_number == nbb_cell_id) {\n",
       "                        if (nbb_cells[i].get_text() == nbb_unformatted_code) {\n",
       "                             nbb_cells[i].set_text(nbb_formatted_code);\n",
       "                        }\n",
       "                        break;\n",
       "                    }\n",
       "                }\n",
       "            }, 500);\n",
       "            "
      ],
      "text/plain": [
       "<IPython.core.display.Javascript object>"
      ]
     },
     "metadata": {},
     "output_type": "display_data"
    }
   ],
   "source": [
    "mfi_1 = apply_targen(0.2, 0.5, \"mfi\", expressions_x_y_1, expressions_accept_reject_1)\n",
    "mfi_1 = get_data(mfi_1)\n",
    "mfi_1.to_csv(\n",
    "    r\"C:\\Users\\Asus\\Desktop\\Repo\\MasterThesis_RI\\Data_28_04\\mfi_1.csv\", index=False\n",
    ")"
   ]
  },
  {
   "cell_type": "code",
   "execution_count": 72,
   "metadata": {},
   "outputs": [
    {
     "data": {
      "application/javascript": [
       "\n",
       "            setTimeout(function() {\n",
       "                var nbb_cell_id = 72;\n",
       "                var nbb_unformatted_code = \"mfi_2 = apply_targen(0.2, 0.5, \\\"mfi\\\", expressions_x_y_2, expressions_accept_reject_2)\\nmfi_2 = get_data(mfi_2)\\nmfi_2.to_csv(\\n    r\\\"C:\\\\Users\\\\Asus\\\\Desktop\\\\Repo\\\\MasterThesis_RI\\\\Data_28_04\\\\mfi_2.csv\\\", index=False\\n)\";\n",
       "                var nbb_formatted_code = \"mfi_2 = apply_targen(0.2, 0.5, \\\"mfi\\\", expressions_x_y_2, expressions_accept_reject_2)\\nmfi_2 = get_data(mfi_2)\\nmfi_2.to_csv(\\n    r\\\"C:\\\\Users\\\\Asus\\\\Desktop\\\\Repo\\\\MasterThesis_RI\\\\Data_28_04\\\\mfi_2.csv\\\", index=False\\n)\";\n",
       "                var nbb_cells = Jupyter.notebook.get_cells();\n",
       "                for (var i = 0; i < nbb_cells.length; ++i) {\n",
       "                    if (nbb_cells[i].input_prompt_number == nbb_cell_id) {\n",
       "                        if (nbb_cells[i].get_text() == nbb_unformatted_code) {\n",
       "                             nbb_cells[i].set_text(nbb_formatted_code);\n",
       "                        }\n",
       "                        break;\n",
       "                    }\n",
       "                }\n",
       "            }, 500);\n",
       "            "
      ],
      "text/plain": [
       "<IPython.core.display.Javascript object>"
      ]
     },
     "metadata": {},
     "output_type": "display_data"
    }
   ],
   "source": [
    "mfi_2 = apply_targen(0.2, 0.5, \"mfi\", expressions_x_y_2, expressions_accept_reject_2)\n",
    "mfi_2 = get_data(mfi_2)\n",
    "mfi_2.to_csv(\n",
    "    r\"C:\\Users\\Asus\\Desktop\\Repo\\MasterThesis_RI\\Data_28_04\\mfi_2.csv\", index=False\n",
    ")"
   ]
  },
  {
   "cell_type": "code",
   "execution_count": 73,
   "metadata": {},
   "outputs": [
    {
     "data": {
      "application/javascript": [
       "\n",
       "            setTimeout(function() {\n",
       "                var nbb_cell_id = 73;\n",
       "                var nbb_unformatted_code = \"mfi_3 = apply_targen(0.2, 0.5, \\\"mfi\\\", expressions_x_y_3, expressions_accept_reject_3)\\nmfi_3 = get_data(mfi_3)\\nmfi_3.to_csv(\\n    r\\\"C:\\\\Users\\\\Asus\\\\Desktop\\\\Repo\\\\MasterThesis_RI\\\\Data_28_04\\\\mfi_3.csv\\\", index=False\\n)\";\n",
       "                var nbb_formatted_code = \"mfi_3 = apply_targen(0.2, 0.5, \\\"mfi\\\", expressions_x_y_3, expressions_accept_reject_3)\\nmfi_3 = get_data(mfi_3)\\nmfi_3.to_csv(\\n    r\\\"C:\\\\Users\\\\Asus\\\\Desktop\\\\Repo\\\\MasterThesis_RI\\\\Data_28_04\\\\mfi_3.csv\\\", index=False\\n)\";\n",
       "                var nbb_cells = Jupyter.notebook.get_cells();\n",
       "                for (var i = 0; i < nbb_cells.length; ++i) {\n",
       "                    if (nbb_cells[i].input_prompt_number == nbb_cell_id) {\n",
       "                        if (nbb_cells[i].get_text() == nbb_unformatted_code) {\n",
       "                             nbb_cells[i].set_text(nbb_formatted_code);\n",
       "                        }\n",
       "                        break;\n",
       "                    }\n",
       "                }\n",
       "            }, 500);\n",
       "            "
      ],
      "text/plain": [
       "<IPython.core.display.Javascript object>"
      ]
     },
     "metadata": {},
     "output_type": "display_data"
    }
   ],
   "source": [
    "mfi_3 = apply_targen(0.2, 0.5, \"mfi\", expressions_x_y_3, expressions_accept_reject_3)\n",
    "mfi_3 = get_data(mfi_3)\n",
    "mfi_3.to_csv(\n",
    "    r\"C:\\Users\\Asus\\Desktop\\Repo\\MasterThesis_RI\\Data_28_04\\mfi_3.csv\", index=False\n",
    ")"
   ]
  },
  {
   "cell_type": "markdown",
   "metadata": {},
   "source": [
    "### Kozodoi DR and RR"
   ]
  },
  {
   "cell_type": "code",
   "execution_count": 74,
   "metadata": {},
   "outputs": [
    {
     "data": {
      "application/javascript": [
       "\n",
       "            setTimeout(function() {\n",
       "                var nbb_cell_id = 74;\n",
       "                var nbb_unformatted_code = \"paper_1 = apply_targen(0.4, 0.7, \\\"mfi\\\", expressions_x_y_1, expressions_accept_reject_1)\\npaper_1 = get_data(paper_1)\\npaper_1.to_csv(\\n    r\\\"C:\\\\Users\\\\Asus\\\\Desktop\\\\Repo\\\\MasterThesis_RI\\\\Data_28_04\\\\paper_1.csv\\\", index=False\\n)\";\n",
       "                var nbb_formatted_code = \"paper_1 = apply_targen(0.4, 0.7, \\\"mfi\\\", expressions_x_y_1, expressions_accept_reject_1)\\npaper_1 = get_data(paper_1)\\npaper_1.to_csv(\\n    r\\\"C:\\\\Users\\\\Asus\\\\Desktop\\\\Repo\\\\MasterThesis_RI\\\\Data_28_04\\\\paper_1.csv\\\", index=False\\n)\";\n",
       "                var nbb_cells = Jupyter.notebook.get_cells();\n",
       "                for (var i = 0; i < nbb_cells.length; ++i) {\n",
       "                    if (nbb_cells[i].input_prompt_number == nbb_cell_id) {\n",
       "                        if (nbb_cells[i].get_text() == nbb_unformatted_code) {\n",
       "                             nbb_cells[i].set_text(nbb_formatted_code);\n",
       "                        }\n",
       "                        break;\n",
       "                    }\n",
       "                }\n",
       "            }, 500);\n",
       "            "
      ],
      "text/plain": [
       "<IPython.core.display.Javascript object>"
      ]
     },
     "metadata": {},
     "output_type": "display_data"
    }
   ],
   "source": [
    "paper_1 = apply_targen(0.4, 0.7, \"mfi\", expressions_x_y_1, expressions_accept_reject_1)\n",
    "paper_1 = get_data(paper_1)\n",
    "paper_1.to_csv(\n",
    "    r\"C:\\Users\\Asus\\Desktop\\Repo\\MasterThesis_RI\\Data_28_04\\paper_1.csv\", index=False\n",
    ")"
   ]
  },
  {
   "cell_type": "code",
   "execution_count": 75,
   "metadata": {},
   "outputs": [
    {
     "data": {
      "application/javascript": [
       "\n",
       "            setTimeout(function() {\n",
       "                var nbb_cell_id = 75;\n",
       "                var nbb_unformatted_code = \"paper_2 = apply_targen(0.4, 0.7, \\\"mfi\\\", expressions_x_y_2, expressions_accept_reject_2)\\npaper_2 = get_data(paper_2)\\npaper_2.to_csv(\\n    r\\\"C:\\\\Users\\\\Asus\\\\Desktop\\\\Repo\\\\MasterThesis_RI\\\\Data_28_04\\\\paper_2.csv\\\", index=False\\n)\";\n",
       "                var nbb_formatted_code = \"paper_2 = apply_targen(0.4, 0.7, \\\"mfi\\\", expressions_x_y_2, expressions_accept_reject_2)\\npaper_2 = get_data(paper_2)\\npaper_2.to_csv(\\n    r\\\"C:\\\\Users\\\\Asus\\\\Desktop\\\\Repo\\\\MasterThesis_RI\\\\Data_28_04\\\\paper_2.csv\\\", index=False\\n)\";\n",
       "                var nbb_cells = Jupyter.notebook.get_cells();\n",
       "                for (var i = 0; i < nbb_cells.length; ++i) {\n",
       "                    if (nbb_cells[i].input_prompt_number == nbb_cell_id) {\n",
       "                        if (nbb_cells[i].get_text() == nbb_unformatted_code) {\n",
       "                             nbb_cells[i].set_text(nbb_formatted_code);\n",
       "                        }\n",
       "                        break;\n",
       "                    }\n",
       "                }\n",
       "            }, 500);\n",
       "            "
      ],
      "text/plain": [
       "<IPython.core.display.Javascript object>"
      ]
     },
     "metadata": {},
     "output_type": "display_data"
    }
   ],
   "source": [
    "paper_2 = apply_targen(0.4, 0.7, \"mfi\", expressions_x_y_2, expressions_accept_reject_2)\n",
    "paper_2 = get_data(paper_2)\n",
    "paper_2.to_csv(\n",
    "    r\"C:\\Users\\Asus\\Desktop\\Repo\\MasterThesis_RI\\Data_28_04\\paper_2.csv\", index=False\n",
    ")"
   ]
  },
  {
   "cell_type": "code",
   "execution_count": 76,
   "metadata": {},
   "outputs": [
    {
     "data": {
      "application/javascript": [
       "\n",
       "            setTimeout(function() {\n",
       "                var nbb_cell_id = 76;\n",
       "                var nbb_unformatted_code = \"paper_3 = apply_targen(0.4, 0.7, \\\"mfi\\\", expressions_x_y_3, expressions_accept_reject_3)\\npaper_3 = get_data(paper_3)\\npaper_3.to_csv(\\n    r\\\"C:\\\\Users\\\\Asus\\\\Desktop\\\\Repo\\\\MasterThesis_RI\\\\Data_28_04\\\\paper_3.csv\\\", index=False\\n)\";\n",
       "                var nbb_formatted_code = \"paper_3 = apply_targen(0.4, 0.7, \\\"mfi\\\", expressions_x_y_3, expressions_accept_reject_3)\\npaper_3 = get_data(paper_3)\\npaper_3.to_csv(\\n    r\\\"C:\\\\Users\\\\Asus\\\\Desktop\\\\Repo\\\\MasterThesis_RI\\\\Data_28_04\\\\paper_3.csv\\\", index=False\\n)\";\n",
       "                var nbb_cells = Jupyter.notebook.get_cells();\n",
       "                for (var i = 0; i < nbb_cells.length; ++i) {\n",
       "                    if (nbb_cells[i].input_prompt_number == nbb_cell_id) {\n",
       "                        if (nbb_cells[i].get_text() == nbb_unformatted_code) {\n",
       "                             nbb_cells[i].set_text(nbb_formatted_code);\n",
       "                        }\n",
       "                        break;\n",
       "                    }\n",
       "                }\n",
       "            }, 500);\n",
       "            "
      ],
      "text/plain": [
       "<IPython.core.display.Javascript object>"
      ]
     },
     "metadata": {},
     "output_type": "display_data"
    }
   ],
   "source": [
    "paper_3 = apply_targen(0.4, 0.7, \"mfi\", expressions_x_y_3, expressions_accept_reject_3)\n",
    "paper_3 = get_data(paper_3)\n",
    "paper_3.to_csv(\n",
    "    r\"C:\\Users\\Asus\\Desktop\\Repo\\MasterThesis_RI\\Data_28_04\\paper_3.csv\", index=False\n",
    ")"
   ]
  },
  {
   "cell_type": "markdown",
   "metadata": {},
   "source": [
    "## Test Noise vs Predictiveness"
   ]
  },
  {
   "cell_type": "markdown",
   "metadata": {},
   "source": [
    "We expect that there should be monotonic decrease of AUC after introduction of more noise"
   ]
  },
  {
   "cell_type": "code",
   "execution_count": 77,
   "metadata": {},
   "outputs": [
    {
     "data": {
      "application/javascript": [
       "\n",
       "            setTimeout(function() {\n",
       "                var nbb_cell_id = 77;\n",
       "                var nbb_unformatted_code = \"from sklearn.model_selection import train_test_split\\nfrom sklearn.linear_model import LogisticRegression, LinearRegression\\nfrom sklearn.metrics import roc_auc_score\";\n",
       "                var nbb_formatted_code = \"from sklearn.model_selection import train_test_split\\nfrom sklearn.linear_model import LogisticRegression, LinearRegression\\nfrom sklearn.metrics import roc_auc_score\";\n",
       "                var nbb_cells = Jupyter.notebook.get_cells();\n",
       "                for (var i = 0; i < nbb_cells.length; ++i) {\n",
       "                    if (nbb_cells[i].input_prompt_number == nbb_cell_id) {\n",
       "                        if (nbb_cells[i].get_text() == nbb_unformatted_code) {\n",
       "                             nbb_cells[i].set_text(nbb_formatted_code);\n",
       "                        }\n",
       "                        break;\n",
       "                    }\n",
       "                }\n",
       "            }, 500);\n",
       "            "
      ],
      "text/plain": [
       "<IPython.core.display.Javascript object>"
      ]
     },
     "metadata": {},
     "output_type": "display_data"
    }
   ],
   "source": [
    "from sklearn.model_selection import train_test_split\n",
    "from sklearn.linear_model import LogisticRegression, LinearRegression\n",
    "from sklearn.metrics import roc_auc_score"
   ]
  },
  {
   "cell_type": "code",
   "execution_count": 78,
   "metadata": {},
   "outputs": [
    {
     "data": {
      "application/javascript": [
       "\n",
       "            setTimeout(function() {\n",
       "                var nbb_cell_id = 78;\n",
       "                var nbb_unformatted_code = \"def test_logreg(accepted, data):\\n    # accepted = 1, rejected = 0\\n    df = data[data[\\\"is_accepted\\\"] == accepted]\\n    df = df.drop([\\\"is_accepted\\\"], axis=1)\\n\\n    # Labels\\n    X = df.loc[:, df.columns != \\\"y\\\"]\\n    y = df.loc[:, df.columns == \\\"y\\\"]\\n    X_train, X_test, y_train, y_test = train_test_split(\\n        X, y, test_size=0.2, random_state=7\\n    )\\n    logreg = LogisticRegression(fit_intercept=True, penalty=\\\"none\\\")\\n    logreg.fit(X, y.values.ravel())\\n    logit_roc_auc = roc_auc_score(y_test, logreg.predict(X_test))\\n    return logit_roc_auc\";\n",
       "                var nbb_formatted_code = \"def test_logreg(accepted, data):\\n    # accepted = 1, rejected = 0\\n    df = data[data[\\\"is_accepted\\\"] == accepted]\\n    df = df.drop([\\\"is_accepted\\\"], axis=1)\\n\\n    # Labels\\n    X = df.loc[:, df.columns != \\\"y\\\"]\\n    y = df.loc[:, df.columns == \\\"y\\\"]\\n    X_train, X_test, y_train, y_test = train_test_split(\\n        X, y, test_size=0.2, random_state=7\\n    )\\n    logreg = LogisticRegression(fit_intercept=True, penalty=\\\"none\\\")\\n    logreg.fit(X, y.values.ravel())\\n    logit_roc_auc = roc_auc_score(y_test, logreg.predict(X_test))\\n    return logit_roc_auc\";\n",
       "                var nbb_cells = Jupyter.notebook.get_cells();\n",
       "                for (var i = 0; i < nbb_cells.length; ++i) {\n",
       "                    if (nbb_cells[i].input_prompt_number == nbb_cell_id) {\n",
       "                        if (nbb_cells[i].get_text() == nbb_unformatted_code) {\n",
       "                             nbb_cells[i].set_text(nbb_formatted_code);\n",
       "                        }\n",
       "                        break;\n",
       "                    }\n",
       "                }\n",
       "            }, 500);\n",
       "            "
      ],
      "text/plain": [
       "<IPython.core.display.Javascript object>"
      ]
     },
     "metadata": {},
     "output_type": "display_data"
    }
   ],
   "source": [
    "def test_logreg(accepted, data):\n",
    "    # accepted = 1, rejected = 0\n",
    "    df = data[data[\"is_accepted\"] == accepted]\n",
    "    df = df.drop([\"is_accepted\"], axis=1)\n",
    "\n",
    "    # Labels\n",
    "    X = df.loc[:, df.columns != \"y\"]\n",
    "    y = df.loc[:, df.columns == \"y\"]\n",
    "    X_train, X_test, y_train, y_test = train_test_split(\n",
    "        X, y, test_size=0.2, random_state=7\n",
    "    )\n",
    "    logreg = LogisticRegression(fit_intercept=True, penalty=\"none\")\n",
    "    logreg.fit(X, y.values.ravel())\n",
    "    logit_roc_auc = roc_auc_score(y_test, logreg.predict(X_test))\n",
    "    return logit_roc_auc"
   ]
  },
  {
   "cell_type": "markdown",
   "metadata": {},
   "source": [
    "### Test"
   ]
  },
  {
   "cell_type": "code",
   "execution_count": 91,
   "metadata": {},
   "outputs": [
    {
     "name": "stdout",
     "output_type": "stream",
     "text": [
      "cons_scen1_1: 0.6418304040432722\n",
      "cons_scen1_2: 0.5760471364024912\n",
      "cons_scen1_3: 0.5157112577801769\n"
     ]
    },
    {
     "data": {
      "application/javascript": [
       "\n",
       "            setTimeout(function() {\n",
       "                var nbb_cell_id = 91;\n",
       "                var nbb_unformatted_code = \"print(\\\"cons_scen1_1:\\\", test_logreg(1, cons_scen1_1))\\nprint(\\\"cons_scen1_2:\\\", test_logreg(1, cons_scen1_2))\\nprint(\\\"cons_scen1_3:\\\", test_logreg(1, cons_scen1_3))\";\n",
       "                var nbb_formatted_code = \"print(\\\"cons_scen1_1:\\\", test_logreg(1, cons_scen1_1))\\nprint(\\\"cons_scen1_2:\\\", test_logreg(1, cons_scen1_2))\\nprint(\\\"cons_scen1_3:\\\", test_logreg(1, cons_scen1_3))\";\n",
       "                var nbb_cells = Jupyter.notebook.get_cells();\n",
       "                for (var i = 0; i < nbb_cells.length; ++i) {\n",
       "                    if (nbb_cells[i].input_prompt_number == nbb_cell_id) {\n",
       "                        if (nbb_cells[i].get_text() == nbb_unformatted_code) {\n",
       "                             nbb_cells[i].set_text(nbb_formatted_code);\n",
       "                        }\n",
       "                        break;\n",
       "                    }\n",
       "                }\n",
       "            }, 500);\n",
       "            "
      ],
      "text/plain": [
       "<IPython.core.display.Javascript object>"
      ]
     },
     "metadata": {},
     "output_type": "display_data"
    }
   ],
   "source": [
    "print(\"cons_scen1_1:\", test_logreg(1, cons_scen1_1))\n",
    "print(\"cons_scen1_2:\", test_logreg(1, cons_scen1_2))\n",
    "print(\"cons_scen1_3:\", test_logreg(1, cons_scen1_3))"
   ]
  },
  {
   "cell_type": "code",
   "execution_count": 92,
   "metadata": {},
   "outputs": [
    {
     "name": "stdout",
     "output_type": "stream",
     "text": [
      "cons_scen1_1: 0.7308465490283672\n",
      "cons_scen1_2: 0.6419783667740071\n",
      "cons_scen1_3: 0.5290919230411748\n"
     ]
    },
    {
     "data": {
      "application/javascript": [
       "\n",
       "            setTimeout(function() {\n",
       "                var nbb_cell_id = 92;\n",
       "                var nbb_unformatted_code = \"print(\\\"cons_scen1_1:\\\", test_logreg(0, cons_scen1_1))\\nprint(\\\"cons_scen1_2:\\\", test_logreg(0, cons_scen1_2))\\nprint(\\\"cons_scen1_3:\\\", test_logreg(0, cons_scen1_3))\";\n",
       "                var nbb_formatted_code = \"print(\\\"cons_scen1_1:\\\", test_logreg(0, cons_scen1_1))\\nprint(\\\"cons_scen1_2:\\\", test_logreg(0, cons_scen1_2))\\nprint(\\\"cons_scen1_3:\\\", test_logreg(0, cons_scen1_3))\";\n",
       "                var nbb_cells = Jupyter.notebook.get_cells();\n",
       "                for (var i = 0; i < nbb_cells.length; ++i) {\n",
       "                    if (nbb_cells[i].input_prompt_number == nbb_cell_id) {\n",
       "                        if (nbb_cells[i].get_text() == nbb_unformatted_code) {\n",
       "                             nbb_cells[i].set_text(nbb_formatted_code);\n",
       "                        }\n",
       "                        break;\n",
       "                    }\n",
       "                }\n",
       "            }, 500);\n",
       "            "
      ],
      "text/plain": [
       "<IPython.core.display.Javascript object>"
      ]
     },
     "metadata": {},
     "output_type": "display_data"
    }
   ],
   "source": [
    "print(\"cons_scen1_1:\", test_logreg(0, cons_scen1_1))\n",
    "print(\"cons_scen1_2:\", test_logreg(0, cons_scen1_2))\n",
    "print(\"cons_scen1_3:\", test_logreg(0, cons_scen1_3))"
   ]
  },
  {
   "cell_type": "code",
   "execution_count": 93,
   "metadata": {},
   "outputs": [
    {
     "name": "stdout",
     "output_type": "stream",
     "text": [
      "cons_scen2_1: 0.7026084982214785\n",
      "cons_scen2_2: 0.6239881897654913\n",
      "cons_scen2_3: 0.5297393402048937\n"
     ]
    },
    {
     "data": {
      "application/javascript": [
       "\n",
       "            setTimeout(function() {\n",
       "                var nbb_cell_id = 93;\n",
       "                var nbb_unformatted_code = \"print(\\\"cons_scen2_1:\\\", test_logreg(1, cons_scen2_1))\\nprint(\\\"cons_scen2_2:\\\", test_logreg(1, cons_scen2_2))\\nprint(\\\"cons_scen2_3:\\\", test_logreg(1, cons_scen2_3))\";\n",
       "                var nbb_formatted_code = \"print(\\\"cons_scen2_1:\\\", test_logreg(1, cons_scen2_1))\\nprint(\\\"cons_scen2_2:\\\", test_logreg(1, cons_scen2_2))\\nprint(\\\"cons_scen2_3:\\\", test_logreg(1, cons_scen2_3))\";\n",
       "                var nbb_cells = Jupyter.notebook.get_cells();\n",
       "                for (var i = 0; i < nbb_cells.length; ++i) {\n",
       "                    if (nbb_cells[i].input_prompt_number == nbb_cell_id) {\n",
       "                        if (nbb_cells[i].get_text() == nbb_unformatted_code) {\n",
       "                             nbb_cells[i].set_text(nbb_formatted_code);\n",
       "                        }\n",
       "                        break;\n",
       "                    }\n",
       "                }\n",
       "            }, 500);\n",
       "            "
      ],
      "text/plain": [
       "<IPython.core.display.Javascript object>"
      ]
     },
     "metadata": {},
     "output_type": "display_data"
    }
   ],
   "source": [
    "print(\"cons_scen2_1:\", test_logreg(1, cons_scen2_1))\n",
    "print(\"cons_scen2_2:\", test_logreg(1, cons_scen2_2))\n",
    "print(\"cons_scen2_3:\", test_logreg(1, cons_scen2_3))"
   ]
  },
  {
   "cell_type": "code",
   "execution_count": 94,
   "metadata": {},
   "outputs": [
    {
     "name": "stdout",
     "output_type": "stream",
     "text": [
      "cons_scen2_1: 0.7651578073089701\n",
      "cons_scen2_2: 0.6268920160549348\n",
      "cons_scen2_3: 0.5354710385148573\n"
     ]
    },
    {
     "data": {
      "application/javascript": [
       "\n",
       "            setTimeout(function() {\n",
       "                var nbb_cell_id = 94;\n",
       "                var nbb_unformatted_code = \"print(\\\"cons_scen2_1:\\\", test_logreg(0, cons_scen2_1))\\nprint(\\\"cons_scen2_2:\\\", test_logreg(0, cons_scen2_2))\\nprint(\\\"cons_scen2_3:\\\", test_logreg(0, cons_scen2_3))\";\n",
       "                var nbb_formatted_code = \"print(\\\"cons_scen2_1:\\\", test_logreg(0, cons_scen2_1))\\nprint(\\\"cons_scen2_2:\\\", test_logreg(0, cons_scen2_2))\\nprint(\\\"cons_scen2_3:\\\", test_logreg(0, cons_scen2_3))\";\n",
       "                var nbb_cells = Jupyter.notebook.get_cells();\n",
       "                for (var i = 0; i < nbb_cells.length; ++i) {\n",
       "                    if (nbb_cells[i].input_prompt_number == nbb_cell_id) {\n",
       "                        if (nbb_cells[i].get_text() == nbb_unformatted_code) {\n",
       "                             nbb_cells[i].set_text(nbb_formatted_code);\n",
       "                        }\n",
       "                        break;\n",
       "                    }\n",
       "                }\n",
       "            }, 500);\n",
       "            "
      ],
      "text/plain": [
       "<IPython.core.display.Javascript object>"
      ]
     },
     "metadata": {},
     "output_type": "display_data"
    }
   ],
   "source": [
    "print(\"cons_scen2_1:\", test_logreg(0, cons_scen2_1))\n",
    "print(\"cons_scen2_2:\", test_logreg(0, cons_scen2_2))\n",
    "print(\"cons_scen2_3:\", test_logreg(0, cons_scen2_3))"
   ]
  },
  {
   "cell_type": "code",
   "execution_count": 95,
   "metadata": {},
   "outputs": [
    {
     "name": "stdout",
     "output_type": "stream",
     "text": [
      "cons_scen3_1: 0.6782477568207023\n",
      "cons_scen3_2: 0.5979462996528524\n",
      "cons_scen3_3: 0.5246570263255468\n"
     ]
    },
    {
     "data": {
      "application/javascript": [
       "\n",
       "            setTimeout(function() {\n",
       "                var nbb_cell_id = 95;\n",
       "                var nbb_unformatted_code = \"print(\\\"cons_scen3_1:\\\", test_logreg(1, cons_scen3_1))\\nprint(\\\"cons_scen3_2:\\\", test_logreg(1, cons_scen3_2))\\nprint(\\\"cons_scen3_3:\\\", test_logreg(1, cons_scen3_3))\";\n",
       "                var nbb_formatted_code = \"print(\\\"cons_scen3_1:\\\", test_logreg(1, cons_scen3_1))\\nprint(\\\"cons_scen3_2:\\\", test_logreg(1, cons_scen3_2))\\nprint(\\\"cons_scen3_3:\\\", test_logreg(1, cons_scen3_3))\";\n",
       "                var nbb_cells = Jupyter.notebook.get_cells();\n",
       "                for (var i = 0; i < nbb_cells.length; ++i) {\n",
       "                    if (nbb_cells[i].input_prompt_number == nbb_cell_id) {\n",
       "                        if (nbb_cells[i].get_text() == nbb_unformatted_code) {\n",
       "                             nbb_cells[i].set_text(nbb_formatted_code);\n",
       "                        }\n",
       "                        break;\n",
       "                    }\n",
       "                }\n",
       "            }, 500);\n",
       "            "
      ],
      "text/plain": [
       "<IPython.core.display.Javascript object>"
      ]
     },
     "metadata": {},
     "output_type": "display_data"
    }
   ],
   "source": [
    "print(\"cons_scen3_1:\", test_logreg(1, cons_scen3_1))\n",
    "print(\"cons_scen3_2:\", test_logreg(1, cons_scen3_2))\n",
    "print(\"cons_scen3_3:\", test_logreg(1, cons_scen3_3))"
   ]
  },
  {
   "cell_type": "code",
   "execution_count": 96,
   "metadata": {},
   "outputs": [
    {
     "name": "stdout",
     "output_type": "stream",
     "text": [
      "cons_scen3_1: 0.6650555327025915\n",
      "cons_scen3_2: 0.613940036877068\n",
      "cons_scen3_3: 0.5434782608695653\n"
     ]
    },
    {
     "data": {
      "application/javascript": [
       "\n",
       "            setTimeout(function() {\n",
       "                var nbb_cell_id = 96;\n",
       "                var nbb_unformatted_code = \"print(\\\"cons_scen3_1:\\\", test_logreg(0, cons_scen3_1))\\nprint(\\\"cons_scen3_2:\\\", test_logreg(0, cons_scen3_2))\\nprint(\\\"cons_scen3_3:\\\", test_logreg(0, cons_scen3_3))\";\n",
       "                var nbb_formatted_code = \"print(\\\"cons_scen3_1:\\\", test_logreg(0, cons_scen3_1))\\nprint(\\\"cons_scen3_2:\\\", test_logreg(0, cons_scen3_2))\\nprint(\\\"cons_scen3_3:\\\", test_logreg(0, cons_scen3_3))\";\n",
       "                var nbb_cells = Jupyter.notebook.get_cells();\n",
       "                for (var i = 0; i < nbb_cells.length; ++i) {\n",
       "                    if (nbb_cells[i].input_prompt_number == nbb_cell_id) {\n",
       "                        if (nbb_cells[i].get_text() == nbb_unformatted_code) {\n",
       "                             nbb_cells[i].set_text(nbb_formatted_code);\n",
       "                        }\n",
       "                        break;\n",
       "                    }\n",
       "                }\n",
       "            }, 500);\n",
       "            "
      ],
      "text/plain": [
       "<IPython.core.display.Javascript object>"
      ]
     },
     "metadata": {},
     "output_type": "display_data"
    }
   ],
   "source": [
    "print(\"cons_scen3_1:\", test_logreg(0, cons_scen3_1))\n",
    "print(\"cons_scen3_2:\", test_logreg(0, cons_scen3_2))\n",
    "print(\"cons_scen3_3:\", test_logreg(0, cons_scen3_3))"
   ]
  },
  {
   "cell_type": "code",
   "execution_count": 97,
   "metadata": {},
   "outputs": [
    {
     "name": "stdout",
     "output_type": "stream",
     "text": [
      "cons_scen4_1: 0.6950931013431013\n",
      "cons_scen4_2: 0.6410681924619739\n",
      "cons_scen4_3: 0.5319787625076577\n"
     ]
    },
    {
     "data": {
      "application/javascript": [
       "\n",
       "            setTimeout(function() {\n",
       "                var nbb_cell_id = 97;\n",
       "                var nbb_unformatted_code = \"print(\\\"cons_scen4_1:\\\", test_logreg(1, cons_scen4_1))\\nprint(\\\"cons_scen4_2:\\\", test_logreg(1, cons_scen4_2))\\nprint(\\\"cons_scen4_3:\\\", test_logreg(1, cons_scen4_3))\";\n",
       "                var nbb_formatted_code = \"print(\\\"cons_scen4_1:\\\", test_logreg(1, cons_scen4_1))\\nprint(\\\"cons_scen4_2:\\\", test_logreg(1, cons_scen4_2))\\nprint(\\\"cons_scen4_3:\\\", test_logreg(1, cons_scen4_3))\";\n",
       "                var nbb_cells = Jupyter.notebook.get_cells();\n",
       "                for (var i = 0; i < nbb_cells.length; ++i) {\n",
       "                    if (nbb_cells[i].input_prompt_number == nbb_cell_id) {\n",
       "                        if (nbb_cells[i].get_text() == nbb_unformatted_code) {\n",
       "                             nbb_cells[i].set_text(nbb_formatted_code);\n",
       "                        }\n",
       "                        break;\n",
       "                    }\n",
       "                }\n",
       "            }, 500);\n",
       "            "
      ],
      "text/plain": [
       "<IPython.core.display.Javascript object>"
      ]
     },
     "metadata": {},
     "output_type": "display_data"
    }
   ],
   "source": [
    "print(\"cons_scen4_1:\", test_logreg(1, cons_scen4_1))\n",
    "print(\"cons_scen4_2:\", test_logreg(1, cons_scen4_2))\n",
    "print(\"cons_scen4_3:\", test_logreg(1, cons_scen4_3))"
   ]
  },
  {
   "cell_type": "code",
   "execution_count": 98,
   "metadata": {},
   "outputs": [
    {
     "name": "stdout",
     "output_type": "stream",
     "text": [
      "cons_scen4_1: 0.7060022583625405\n",
      "cons_scen4_2: 0.6376932620729147\n",
      "cons_scen4_3: 0.5684027192538906\n"
     ]
    },
    {
     "data": {
      "application/javascript": [
       "\n",
       "            setTimeout(function() {\n",
       "                var nbb_cell_id = 98;\n",
       "                var nbb_unformatted_code = \"print(\\\"cons_scen4_1:\\\", test_logreg(0, cons_scen4_1))\\nprint(\\\"cons_scen4_2:\\\", test_logreg(0, cons_scen4_2))\\nprint(\\\"cons_scen4_3:\\\", test_logreg(0, cons_scen4_3))\";\n",
       "                var nbb_formatted_code = \"print(\\\"cons_scen4_1:\\\", test_logreg(0, cons_scen4_1))\\nprint(\\\"cons_scen4_2:\\\", test_logreg(0, cons_scen4_2))\\nprint(\\\"cons_scen4_3:\\\", test_logreg(0, cons_scen4_3))\";\n",
       "                var nbb_cells = Jupyter.notebook.get_cells();\n",
       "                for (var i = 0; i < nbb_cells.length; ++i) {\n",
       "                    if (nbb_cells[i].input_prompt_number == nbb_cell_id) {\n",
       "                        if (nbb_cells[i].get_text() == nbb_unformatted_code) {\n",
       "                             nbb_cells[i].set_text(nbb_formatted_code);\n",
       "                        }\n",
       "                        break;\n",
       "                    }\n",
       "                }\n",
       "            }, 500);\n",
       "            "
      ],
      "text/plain": [
       "<IPython.core.display.Javascript object>"
      ]
     },
     "metadata": {},
     "output_type": "display_data"
    }
   ],
   "source": [
    "print(\"cons_scen4_1:\", test_logreg(0, cons_scen4_1))\n",
    "print(\"cons_scen4_2:\", test_logreg(0, cons_scen4_2))\n",
    "print(\"cons_scen4_3:\", test_logreg(0, cons_scen4_3))"
   ]
  },
  {
   "cell_type": "code",
   "execution_count": 99,
   "metadata": {},
   "outputs": [
    {
     "name": "stdout",
     "output_type": "stream",
     "text": [
      "mfi_1: 0.7079523834200727\n",
      "mfi_2: 0.6689478523578091\n",
      "mfi_3: 0.5537916371367824\n"
     ]
    },
    {
     "data": {
      "application/javascript": [
       "\n",
       "            setTimeout(function() {\n",
       "                var nbb_cell_id = 99;\n",
       "                var nbb_unformatted_code = \"print(\\\"mfi_1:\\\", test_logreg(1, mfi_1))\\nprint(\\\"mfi_2:\\\", test_logreg(1, mfi_2))\\nprint(\\\"mfi_3:\\\", test_logreg(1, mfi_3))\";\n",
       "                var nbb_formatted_code = \"print(\\\"mfi_1:\\\", test_logreg(1, mfi_1))\\nprint(\\\"mfi_2:\\\", test_logreg(1, mfi_2))\\nprint(\\\"mfi_3:\\\", test_logreg(1, mfi_3))\";\n",
       "                var nbb_cells = Jupyter.notebook.get_cells();\n",
       "                for (var i = 0; i < nbb_cells.length; ++i) {\n",
       "                    if (nbb_cells[i].input_prompt_number == nbb_cell_id) {\n",
       "                        if (nbb_cells[i].get_text() == nbb_unformatted_code) {\n",
       "                             nbb_cells[i].set_text(nbb_formatted_code);\n",
       "                        }\n",
       "                        break;\n",
       "                    }\n",
       "                }\n",
       "            }, 500);\n",
       "            "
      ],
      "text/plain": [
       "<IPython.core.display.Javascript object>"
      ]
     },
     "metadata": {},
     "output_type": "display_data"
    }
   ],
   "source": [
    "print(\"mfi_1:\", test_logreg(1, mfi_1))\n",
    "print(\"mfi_2:\", test_logreg(1, mfi_2))\n",
    "print(\"mfi_3:\", test_logreg(1, mfi_3))"
   ]
  },
  {
   "cell_type": "code",
   "execution_count": 100,
   "metadata": {},
   "outputs": [
    {
     "name": "stdout",
     "output_type": "stream",
     "text": [
      "mfi_1: 0.7669304737989211\n",
      "mfi_2: 0.7198472868515721\n",
      "mfi_3: 0.5860070874437314\n"
     ]
    },
    {
     "data": {
      "application/javascript": [
       "\n",
       "            setTimeout(function() {\n",
       "                var nbb_cell_id = 100;\n",
       "                var nbb_unformatted_code = \"print(\\\"mfi_1:\\\", test_logreg(0, mfi_1))\\nprint(\\\"mfi_2:\\\", test_logreg(0, mfi_2))\\nprint(\\\"mfi_3:\\\", test_logreg(0, mfi_3))\";\n",
       "                var nbb_formatted_code = \"print(\\\"mfi_1:\\\", test_logreg(0, mfi_1))\\nprint(\\\"mfi_2:\\\", test_logreg(0, mfi_2))\\nprint(\\\"mfi_3:\\\", test_logreg(0, mfi_3))\";\n",
       "                var nbb_cells = Jupyter.notebook.get_cells();\n",
       "                for (var i = 0; i < nbb_cells.length; ++i) {\n",
       "                    if (nbb_cells[i].input_prompt_number == nbb_cell_id) {\n",
       "                        if (nbb_cells[i].get_text() == nbb_unformatted_code) {\n",
       "                             nbb_cells[i].set_text(nbb_formatted_code);\n",
       "                        }\n",
       "                        break;\n",
       "                    }\n",
       "                }\n",
       "            }, 500);\n",
       "            "
      ],
      "text/plain": [
       "<IPython.core.display.Javascript object>"
      ]
     },
     "metadata": {},
     "output_type": "display_data"
    }
   ],
   "source": [
    "print(\"mfi_1:\", test_logreg(0, mfi_1))\n",
    "print(\"mfi_2:\", test_logreg(0, mfi_2))\n",
    "print(\"mfi_3:\", test_logreg(0, mfi_3))"
   ]
  },
  {
   "cell_type": "code",
   "execution_count": 101,
   "metadata": {},
   "outputs": [
    {
     "name": "stdout",
     "output_type": "stream",
     "text": [
      "paper_1: 0.7780299927055427\n",
      "paper_2: 0.7487272191452484\n",
      "paper_3: 0.6396352084866728\n"
     ]
    },
    {
     "data": {
      "application/javascript": [
       "\n",
       "            setTimeout(function() {\n",
       "                var nbb_cell_id = 101;\n",
       "                var nbb_unformatted_code = \"print(\\\"paper_1:\\\", test_logreg(1, paper_1))\\nprint(\\\"paper_2:\\\", test_logreg(1, paper_2))\\nprint(\\\"paper_3:\\\", test_logreg(1, paper_3))\";\n",
       "                var nbb_formatted_code = \"print(\\\"paper_1:\\\", test_logreg(1, paper_1))\\nprint(\\\"paper_2:\\\", test_logreg(1, paper_2))\\nprint(\\\"paper_3:\\\", test_logreg(1, paper_3))\";\n",
       "                var nbb_cells = Jupyter.notebook.get_cells();\n",
       "                for (var i = 0; i < nbb_cells.length; ++i) {\n",
       "                    if (nbb_cells[i].input_prompt_number == nbb_cell_id) {\n",
       "                        if (nbb_cells[i].get_text() == nbb_unformatted_code) {\n",
       "                             nbb_cells[i].set_text(nbb_formatted_code);\n",
       "                        }\n",
       "                        break;\n",
       "                    }\n",
       "                }\n",
       "            }, 500);\n",
       "            "
      ],
      "text/plain": [
       "<IPython.core.display.Javascript object>"
      ]
     },
     "metadata": {},
     "output_type": "display_data"
    }
   ],
   "source": [
    "print(\"paper_1:\", test_logreg(1, paper_1))\n",
    "print(\"paper_2:\", test_logreg(1, paper_2))\n",
    "print(\"paper_3:\", test_logreg(1, paper_3))"
   ]
  },
  {
   "cell_type": "code",
   "execution_count": 102,
   "metadata": {},
   "outputs": [
    {
     "name": "stdout",
     "output_type": "stream",
     "text": [
      "paper_1: 0.7876438583135552\n",
      "paper_2: 0.7733047572201531\n",
      "paper_3: 0.6596320346320347\n"
     ]
    },
    {
     "data": {
      "application/javascript": [
       "\n",
       "            setTimeout(function() {\n",
       "                var nbb_cell_id = 102;\n",
       "                var nbb_unformatted_code = \"print(\\\"paper_1:\\\", test_logreg(0, paper_1))\\nprint(\\\"paper_2:\\\", test_logreg(0, paper_2))\\nprint(\\\"paper_3:\\\", test_logreg(0, paper_3))\";\n",
       "                var nbb_formatted_code = \"print(\\\"paper_1:\\\", test_logreg(0, paper_1))\\nprint(\\\"paper_2:\\\", test_logreg(0, paper_2))\\nprint(\\\"paper_3:\\\", test_logreg(0, paper_3))\";\n",
       "                var nbb_cells = Jupyter.notebook.get_cells();\n",
       "                for (var i = 0; i < nbb_cells.length; ++i) {\n",
       "                    if (nbb_cells[i].input_prompt_number == nbb_cell_id) {\n",
       "                        if (nbb_cells[i].get_text() == nbb_unformatted_code) {\n",
       "                             nbb_cells[i].set_text(nbb_formatted_code);\n",
       "                        }\n",
       "                        break;\n",
       "                    }\n",
       "                }\n",
       "            }, 500);\n",
       "            "
      ],
      "text/plain": [
       "<IPython.core.display.Javascript object>"
      ]
     },
     "metadata": {},
     "output_type": "display_data"
    }
   ],
   "source": [
    "print(\"paper_1:\", test_logreg(0, paper_1))\n",
    "print(\"paper_2:\", test_logreg(0, paper_2))\n",
    "print(\"paper_3:\", test_logreg(0, paper_3))"
   ]
  },
  {
   "cell_type": "markdown",
   "metadata": {},
   "source": [
    "For all datasets above there is monotinic trend, as expected. For wholesale there is inversion between scenario 1 and 2 with the original scenarios - new ones are applied."
   ]
  },
  {
   "cell_type": "code",
   "execution_count": 106,
   "metadata": {},
   "outputs": [
    {
     "name": "stdout",
     "output_type": "stream",
     "text": [
      "wholesale_and_secured_scen1: 0.6420344607743511\n",
      "wholesale_and_secured_scen2: 0.5603354978354979\n"
     ]
    },
    {
     "data": {
      "application/javascript": [
       "\n",
       "            setTimeout(function() {\n",
       "                var nbb_cell_id = 106;\n",
       "                var nbb_unformatted_code = \"print(\\\"wholesale_and_secured_scen1:\\\", test_logreg(1, wholesale_and_secured_scen1))\\nprint(\\\"wholesale_and_secured_scen2:\\\", test_logreg(1, wholesale_and_secured_scen2))\";\n",
       "                var nbb_formatted_code = \"print(\\\"wholesale_and_secured_scen1:\\\", test_logreg(1, wholesale_and_secured_scen1))\\nprint(\\\"wholesale_and_secured_scen2:\\\", test_logreg(1, wholesale_and_secured_scen2))\";\n",
       "                var nbb_cells = Jupyter.notebook.get_cells();\n",
       "                for (var i = 0; i < nbb_cells.length; ++i) {\n",
       "                    if (nbb_cells[i].input_prompt_number == nbb_cell_id) {\n",
       "                        if (nbb_cells[i].get_text() == nbb_unformatted_code) {\n",
       "                             nbb_cells[i].set_text(nbb_formatted_code);\n",
       "                        }\n",
       "                        break;\n",
       "                    }\n",
       "                }\n",
       "            }, 500);\n",
       "            "
      ],
      "text/plain": [
       "<IPython.core.display.Javascript object>"
      ]
     },
     "metadata": {},
     "output_type": "display_data"
    }
   ],
   "source": [
    "print(\"wholesale_and_secured_scen1:\", test_logreg(1, wholesale_and_secured_scen1))\n",
    "print(\"wholesale_and_secured_scen2:\", test_logreg(1, wholesale_and_secured_scen2))"
   ]
  },
  {
   "cell_type": "code",
   "execution_count": 107,
   "metadata": {},
   "outputs": [
    {
     "name": "stdout",
     "output_type": "stream",
     "text": [
      "wholesale_and_secured_scen1: 0.6402664692820133\n",
      "wholesale_and_secured_scen2: 0.5974358974358974\n"
     ]
    },
    {
     "data": {
      "application/javascript": [
       "\n",
       "            setTimeout(function() {\n",
       "                var nbb_cell_id = 107;\n",
       "                var nbb_unformatted_code = \"print(\\\"wholesale_and_secured_scen1:\\\", test_logreg(0, wholesale_and_secured_scen1))\\nprint(\\\"wholesale_and_secured_scen2:\\\", test_logreg(0, wholesale_and_secured_scen2))\";\n",
       "                var nbb_formatted_code = \"print(\\\"wholesale_and_secured_scen1:\\\", test_logreg(0, wholesale_and_secured_scen1))\\nprint(\\\"wholesale_and_secured_scen2:\\\", test_logreg(0, wholesale_and_secured_scen2))\";\n",
       "                var nbb_cells = Jupyter.notebook.get_cells();\n",
       "                for (var i = 0; i < nbb_cells.length; ++i) {\n",
       "                    if (nbb_cells[i].input_prompt_number == nbb_cell_id) {\n",
       "                        if (nbb_cells[i].get_text() == nbb_unformatted_code) {\n",
       "                             nbb_cells[i].set_text(nbb_formatted_code);\n",
       "                        }\n",
       "                        break;\n",
       "                    }\n",
       "                }\n",
       "            }, 500);\n",
       "            "
      ],
      "text/plain": [
       "<IPython.core.display.Javascript object>"
      ]
     },
     "metadata": {},
     "output_type": "display_data"
    }
   ],
   "source": [
    "print(\"wholesale_and_secured_scen1:\", test_logreg(0, wholesale_and_secured_scen1))\n",
    "print(\"wholesale_and_secured_scen2:\", test_logreg(0, wholesale_and_secured_scen2))"
   ]
  }
 ],
 "metadata": {
  "kernelspec": {
   "display_name": "Python 3",
   "language": "python",
   "name": "python3"
  },
  "language_info": {
   "codemirror_mode": {
    "name": "ipython",
    "version": 3
   },
   "file_extension": ".py",
   "mimetype": "text/x-python",
   "name": "python",
   "nbconvert_exporter": "python",
   "pygments_lexer": "ipython3",
   "version": "3.8.3"
  }
 },
 "nbformat": 4,
 "nbformat_minor": 4
}
