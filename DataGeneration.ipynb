{
 "cells": [
  {
   "cell_type": "code",
   "execution_count": 21,
   "metadata": {},
   "outputs": [
    {
     "data": {
      "application/javascript": [
       "\n",
       "            setTimeout(function() {\n",
       "                var nbb_cell_id = 21;\n",
       "                var nbb_unformatted_code = \"%reload_ext nb_black\";\n",
       "                var nbb_formatted_code = \"%reload_ext nb_black\";\n",
       "                var nbb_cells = Jupyter.notebook.get_cells();\n",
       "                for (var i = 0; i < nbb_cells.length; ++i) {\n",
       "                    if (nbb_cells[i].input_prompt_number == nbb_cell_id) {\n",
       "                        if (nbb_cells[i].get_text() == nbb_unformatted_code) {\n",
       "                             nbb_cells[i].set_text(nbb_formatted_code);\n",
       "                        }\n",
       "                        break;\n",
       "                    }\n",
       "                }\n",
       "            }, 500);\n",
       "            "
      ],
      "text/plain": [
       "<IPython.core.display.Javascript object>"
      ]
     },
     "metadata": {},
     "output_type": "display_data"
    }
   ],
   "source": [
    "%reload_ext nb_black"
   ]
  },
  {
   "cell_type": "markdown",
   "metadata": {},
   "source": [
    "# Generate Data"
   ]
  },
  {
   "cell_type": "code",
   "execution_count": 22,
   "metadata": {},
   "outputs": [
    {
     "data": {
      "application/javascript": [
       "\n",
       "            setTimeout(function() {\n",
       "                var nbb_cell_id = 22;\n",
       "                var nbb_unformatted_code = \"import pandas as pd\\nimport numpy as np\\n# Generate Data\\nfrom sklearn.datasets import make_classification\\nfrom targen.data import target\";\n",
       "                var nbb_formatted_code = \"import pandas as pd\\nimport numpy as np\\n\\n# Generate Data\\nfrom sklearn.datasets import make_classification\\nfrom targen.data import target\";\n",
       "                var nbb_cells = Jupyter.notebook.get_cells();\n",
       "                for (var i = 0; i < nbb_cells.length; ++i) {\n",
       "                    if (nbb_cells[i].input_prompt_number == nbb_cell_id) {\n",
       "                        if (nbb_cells[i].get_text() == nbb_unformatted_code) {\n",
       "                             nbb_cells[i].set_text(nbb_formatted_code);\n",
       "                        }\n",
       "                        break;\n",
       "                    }\n",
       "                }\n",
       "            }, 500);\n",
       "            "
      ],
      "text/plain": [
       "<IPython.core.display.Javascript object>"
      ]
     },
     "metadata": {},
     "output_type": "display_data"
    }
   ],
   "source": [
    "import pandas as pd\n",
    "import numpy as np\n",
    "\n",
    "# Generate Data\n",
    "from sklearn.datasets import make_classification\n",
    "from targen.data import target"
   ]
  },
  {
   "cell_type": "markdown",
   "metadata": {},
   "source": [
    "## Get random Gaussian Data"
   ]
  },
  {
   "cell_type": "code",
   "execution_count": 23,
   "metadata": {},
   "outputs": [
    {
     "data": {
      "application/javascript": [
       "\n",
       "            setTimeout(function() {\n",
       "                var nbb_cell_id = 23;\n",
       "                var nbb_unformatted_code = \"# Get random Gaussian data with 18 features\\nn_features = 18\\nX, dummy = make_classification(n_samples=10000, n_features=n_features)\";\n",
       "                var nbb_formatted_code = \"# Get random Gaussian data with 18 features\\nn_features = 18\\nX, dummy = make_classification(n_samples=10000, n_features=n_features)\";\n",
       "                var nbb_cells = Jupyter.notebook.get_cells();\n",
       "                for (var i = 0; i < nbb_cells.length; ++i) {\n",
       "                    if (nbb_cells[i].input_prompt_number == nbb_cell_id) {\n",
       "                        if (nbb_cells[i].get_text() == nbb_unformatted_code) {\n",
       "                             nbb_cells[i].set_text(nbb_formatted_code);\n",
       "                        }\n",
       "                        break;\n",
       "                    }\n",
       "                }\n",
       "            }, 500);\n",
       "            "
      ],
      "text/plain": [
       "<IPython.core.display.Javascript object>"
      ]
     },
     "metadata": {},
     "output_type": "display_data"
    }
   ],
   "source": [
    "# Get random Gaussian data with 18 features\n",
    "n_features = 18\n",
    "X, dummy = make_classification(n_samples=10000, n_features=n_features)"
   ]
  },
  {
   "cell_type": "code",
   "execution_count": 24,
   "metadata": {},
   "outputs": [
    {
     "data": {
      "application/javascript": [
       "\n",
       "            setTimeout(function() {\n",
       "                var nbb_cell_id = 24;\n",
       "                var nbb_unformatted_code = \"# Half of the features are known and half hidden\\nknown_cols = [f\\\"known_col_{ix}\\\" for ix in range(int(n_features / 2))]\\nif n_features % 2 == 0:\\n    hidden_cols = [f\\\"hidden_col_{ix}\\\" for ix in range(int(n_features / 2))]\\n\\nelse:\\n    hidden_cols = [f\\\"hidden_col_{ix}\\\" for ix in range(int(n_features / 2) + 1)]\\ncolumns = known_cols + hidden_cols\";\n",
       "                var nbb_formatted_code = \"# Half of the features are known and half hidden\\nknown_cols = [f\\\"known_col_{ix}\\\" for ix in range(int(n_features / 2))]\\nif n_features % 2 == 0:\\n    hidden_cols = [f\\\"hidden_col_{ix}\\\" for ix in range(int(n_features / 2))]\\n\\nelse:\\n    hidden_cols = [f\\\"hidden_col_{ix}\\\" for ix in range(int(n_features / 2) + 1)]\\ncolumns = known_cols + hidden_cols\";\n",
       "                var nbb_cells = Jupyter.notebook.get_cells();\n",
       "                for (var i = 0; i < nbb_cells.length; ++i) {\n",
       "                    if (nbb_cells[i].input_prompt_number == nbb_cell_id) {\n",
       "                        if (nbb_cells[i].get_text() == nbb_unformatted_code) {\n",
       "                             nbb_cells[i].set_text(nbb_formatted_code);\n",
       "                        }\n",
       "                        break;\n",
       "                    }\n",
       "                }\n",
       "            }, 500);\n",
       "            "
      ],
      "text/plain": [
       "<IPython.core.display.Javascript object>"
      ]
     },
     "metadata": {},
     "output_type": "display_data"
    }
   ],
   "source": [
    "# Half of the features are known and half hidden\n",
    "known_cols = [f\"known_col_{ix}\" for ix in range(int(n_features / 2))]\n",
    "if n_features % 2 == 0:\n",
    "    hidden_cols = [f\"hidden_col_{ix}\" for ix in range(int(n_features / 2))]\n",
    "\n",
    "else:\n",
    "    hidden_cols = [f\"hidden_col_{ix}\" for ix in range(int(n_features / 2) + 1)]\n",
    "columns = known_cols + hidden_cols"
   ]
  },
  {
   "cell_type": "code",
   "execution_count": 25,
   "metadata": {},
   "outputs": [
    {
     "data": {
      "application/javascript": [
       "\n",
       "            setTimeout(function() {\n",
       "                var nbb_cell_id = 25;\n",
       "                var nbb_unformatted_code = \"# Map data to dataframe\\ndata = pd.DataFrame(X, columns=columns)\";\n",
       "                var nbb_formatted_code = \"# Map data to dataframe\\ndata = pd.DataFrame(X, columns=columns)\";\n",
       "                var nbb_cells = Jupyter.notebook.get_cells();\n",
       "                for (var i = 0; i < nbb_cells.length; ++i) {\n",
       "                    if (nbb_cells[i].input_prompt_number == nbb_cell_id) {\n",
       "                        if (nbb_cells[i].get_text() == nbb_unformatted_code) {\n",
       "                             nbb_cells[i].set_text(nbb_formatted_code);\n",
       "                        }\n",
       "                        break;\n",
       "                    }\n",
       "                }\n",
       "            }, 500);\n",
       "            "
      ],
      "text/plain": [
       "<IPython.core.display.Javascript object>"
      ]
     },
     "metadata": {},
     "output_type": "display_data"
    }
   ],
   "source": [
    "# Map data to dataframe\n",
    "data = pd.DataFrame(X, columns=columns)"
   ]
  },
  {
   "cell_type": "markdown",
   "metadata": {},
   "source": [
    "## Add Correlations between the features"
   ]
  },
  {
   "cell_type": "code",
   "execution_count": 26,
   "metadata": {},
   "outputs": [
    {
     "data": {
      "application/javascript": [
       "\n",
       "            setTimeout(function() {\n",
       "                var nbb_cell_id = 26;\n",
       "                var nbb_unformatted_code = \"# Add correlation between the columns\\n# theta_pi_2 is the angle of rotation (expressed in pi/2). When setting it to 1, you will add 100% correaltion between the variables.\\ndef add_correlation_between_columns(df, col_1, col_2, theta_pi_2=1):\\n\\n    theta = theta_pi_2 * 0.5 * np.pi\\n\\n    data_out = df.copy()\\n    data_out[col_1] = -1 * np.cos(theta) * df[col_1] + np.sin(theta * df[col_2])\\n    data_out[col_2] = np.cos(theta) * df[col_1] + np.sin(theta * df[col_2])\\n\\n    return data_out\";\n",
       "                var nbb_formatted_code = \"# Add correlation between the columns\\n# theta_pi_2 is the angle of rotation (expressed in pi/2). When setting it to 1, you will add 100% correaltion between the variables.\\ndef add_correlation_between_columns(df, col_1, col_2, theta_pi_2=1):\\n\\n    theta = theta_pi_2 * 0.5 * np.pi\\n\\n    data_out = df.copy()\\n    data_out[col_1] = -1 * np.cos(theta) * df[col_1] + np.sin(theta * df[col_2])\\n    data_out[col_2] = np.cos(theta) * df[col_1] + np.sin(theta * df[col_2])\\n\\n    return data_out\";\n",
       "                var nbb_cells = Jupyter.notebook.get_cells();\n",
       "                for (var i = 0; i < nbb_cells.length; ++i) {\n",
       "                    if (nbb_cells[i].input_prompt_number == nbb_cell_id) {\n",
       "                        if (nbb_cells[i].get_text() == nbb_unformatted_code) {\n",
       "                             nbb_cells[i].set_text(nbb_formatted_code);\n",
       "                        }\n",
       "                        break;\n",
       "                    }\n",
       "                }\n",
       "            }, 500);\n",
       "            "
      ],
      "text/plain": [
       "<IPython.core.display.Javascript object>"
      ]
     },
     "metadata": {},
     "output_type": "display_data"
    }
   ],
   "source": [
    "# Add correlation between the columns\n",
    "# theta_pi_2 is the angle of rotation (expressed in pi/2). When setting it to 1, you will add 100% correaltion between the variables.\n",
    "def add_correlation_between_columns(df, col_1, col_2, theta_pi_2=1):\n",
    "\n",
    "    theta = theta_pi_2 * 0.5 * np.pi\n",
    "\n",
    "    data_out = df.copy()\n",
    "    data_out[col_1] = -1 * np.cos(theta) * df[col_1] + np.sin(theta * df[col_2])\n",
    "    data_out[col_2] = np.cos(theta) * df[col_1] + np.sin(theta * df[col_2])\n",
    "\n",
    "    return data_out"
   ]
  },
  {
   "cell_type": "code",
   "execution_count": 27,
   "metadata": {},
   "outputs": [
    {
     "data": {
      "application/javascript": [
       "\n",
       "            setTimeout(function() {\n",
       "                var nbb_cell_id = 27;\n",
       "                var nbb_unformatted_code = \"# Data with new columns\\nnew_data = (\\n    data.pipe(\\n        add_correlation_between_columns,\\n        col_1=\\\"known_col_0\\\",\\n        col_2=\\\"known_col_1\\\",\\n        theta_pi_2=1,\\n    )\\n    .pipe(\\n        add_correlation_between_columns,\\n        col_1=\\\"known_col_2\\\",\\n        col_2=\\\"known_col_3\\\",\\n        theta_pi_2=-0.9,\\n    )\\n    .pipe(\\n        add_correlation_between_columns,\\n        col_1=\\\"known_col_2\\\",\\n        col_2=\\\"hidden_col_0\\\",\\n        theta_pi_2=-0.8,\\n    )\\n    .pipe(\\n        add_correlation_between_columns,\\n        col_1=\\\"hidden_col_1\\\",\\n        col_2=\\\"known_col_1\\\",\\n        theta_pi_2=0.4,\\n    )\\n)\";\n",
       "                var nbb_formatted_code = \"# Data with new columns\\nnew_data = (\\n    data.pipe(\\n        add_correlation_between_columns,\\n        col_1=\\\"known_col_0\\\",\\n        col_2=\\\"known_col_1\\\",\\n        theta_pi_2=1,\\n    )\\n    .pipe(\\n        add_correlation_between_columns,\\n        col_1=\\\"known_col_2\\\",\\n        col_2=\\\"known_col_3\\\",\\n        theta_pi_2=-0.9,\\n    )\\n    .pipe(\\n        add_correlation_between_columns,\\n        col_1=\\\"known_col_2\\\",\\n        col_2=\\\"hidden_col_0\\\",\\n        theta_pi_2=-0.8,\\n    )\\n    .pipe(\\n        add_correlation_between_columns,\\n        col_1=\\\"hidden_col_1\\\",\\n        col_2=\\\"known_col_1\\\",\\n        theta_pi_2=0.4,\\n    )\\n)\";\n",
       "                var nbb_cells = Jupyter.notebook.get_cells();\n",
       "                for (var i = 0; i < nbb_cells.length; ++i) {\n",
       "                    if (nbb_cells[i].input_prompt_number == nbb_cell_id) {\n",
       "                        if (nbb_cells[i].get_text() == nbb_unformatted_code) {\n",
       "                             nbb_cells[i].set_text(nbb_formatted_code);\n",
       "                        }\n",
       "                        break;\n",
       "                    }\n",
       "                }\n",
       "            }, 500);\n",
       "            "
      ],
      "text/plain": [
       "<IPython.core.display.Javascript object>"
      ]
     },
     "metadata": {},
     "output_type": "display_data"
    }
   ],
   "source": [
    "# Data with new columns\n",
    "new_data = (\n",
    "    data.pipe(\n",
    "        add_correlation_between_columns,\n",
    "        col_1=\"known_col_0\",\n",
    "        col_2=\"known_col_1\",\n",
    "        theta_pi_2=1,\n",
    "    )\n",
    "    .pipe(\n",
    "        add_correlation_between_columns,\n",
    "        col_1=\"known_col_2\",\n",
    "        col_2=\"known_col_3\",\n",
    "        theta_pi_2=-0.9,\n",
    "    )\n",
    "    .pipe(\n",
    "        add_correlation_between_columns,\n",
    "        col_1=\"known_col_2\",\n",
    "        col_2=\"hidden_col_0\",\n",
    "        theta_pi_2=-0.8,\n",
    "    )\n",
    "    .pipe(\n",
    "        add_correlation_between_columns,\n",
    "        col_1=\"hidden_col_1\",\n",
    "        col_2=\"known_col_1\",\n",
    "        theta_pi_2=0.4,\n",
    "    )\n",
    ")"
   ]
  },
  {
   "cell_type": "code",
   "execution_count": 28,
   "metadata": {},
   "outputs": [
    {
     "data": {
      "text/html": [
       "<div>\n",
       "<style scoped>\n",
       "    .dataframe tbody tr th:only-of-type {\n",
       "        vertical-align: middle;\n",
       "    }\n",
       "\n",
       "    .dataframe tbody tr th {\n",
       "        vertical-align: top;\n",
       "    }\n",
       "\n",
       "    .dataframe thead th {\n",
       "        text-align: right;\n",
       "    }\n",
       "</style>\n",
       "<table border=\"1\" class=\"dataframe\">\n",
       "  <thead>\n",
       "    <tr style=\"text-align: right;\">\n",
       "      <th></th>\n",
       "      <th>known_col_0</th>\n",
       "      <th>known_col_1</th>\n",
       "      <th>known_col_2</th>\n",
       "      <th>known_col_3</th>\n",
       "      <th>hidden_col_0</th>\n",
       "      <th>hidden_col_1</th>\n",
       "    </tr>\n",
       "  </thead>\n",
       "  <tbody>\n",
       "    <tr>\n",
       "      <th>known_col_0</th>\n",
       "      <td>1.000000</td>\n",
       "      <td>0.337964</td>\n",
       "      <td>-0.012207</td>\n",
       "      <td>-0.000130</td>\n",
       "      <td>-0.019268</td>\n",
       "      <td>0.356009</td>\n",
       "    </tr>\n",
       "    <tr>\n",
       "      <th>known_col_1</th>\n",
       "      <td>0.337964</td>\n",
       "      <td>1.000000</td>\n",
       "      <td>-0.003360</td>\n",
       "      <td>0.002254</td>\n",
       "      <td>-0.000997</td>\n",
       "      <td>-0.759110</td>\n",
       "    </tr>\n",
       "    <tr>\n",
       "      <th>known_col_2</th>\n",
       "      <td>-0.012207</td>\n",
       "      <td>-0.003360</td>\n",
       "      <td>1.000000</td>\n",
       "      <td>-0.275623</td>\n",
       "      <td>0.813755</td>\n",
       "      <td>-0.005044</td>\n",
       "    </tr>\n",
       "    <tr>\n",
       "      <th>known_col_3</th>\n",
       "      <td>-0.000130</td>\n",
       "      <td>0.002254</td>\n",
       "      <td>-0.275623</td>\n",
       "      <td>1.000000</td>\n",
       "      <td>0.276206</td>\n",
       "      <td>-0.002354</td>\n",
       "    </tr>\n",
       "    <tr>\n",
       "      <th>known_col_4</th>\n",
       "      <td>0.001752</td>\n",
       "      <td>-0.011962</td>\n",
       "      <td>-0.002393</td>\n",
       "      <td>-0.003712</td>\n",
       "      <td>-0.004437</td>\n",
       "      <td>0.013258</td>\n",
       "    </tr>\n",
       "    <tr>\n",
       "      <th>known_col_5</th>\n",
       "      <td>0.005117</td>\n",
       "      <td>0.009189</td>\n",
       "      <td>0.002074</td>\n",
       "      <td>-0.019802</td>\n",
       "      <td>-0.010552</td>\n",
       "      <td>-0.005537</td>\n",
       "    </tr>\n",
       "    <tr>\n",
       "      <th>known_col_6</th>\n",
       "      <td>0.002111</td>\n",
       "      <td>0.000863</td>\n",
       "      <td>-0.008765</td>\n",
       "      <td>-0.006724</td>\n",
       "      <td>-0.010625</td>\n",
       "      <td>0.000747</td>\n",
       "    </tr>\n",
       "    <tr>\n",
       "      <th>known_col_7</th>\n",
       "      <td>-0.004473</td>\n",
       "      <td>-0.005710</td>\n",
       "      <td>0.003634</td>\n",
       "      <td>-0.011740</td>\n",
       "      <td>-0.003303</td>\n",
       "      <td>0.002623</td>\n",
       "    </tr>\n",
       "    <tr>\n",
       "      <th>known_col_8</th>\n",
       "      <td>-0.013877</td>\n",
       "      <td>0.005188</td>\n",
       "      <td>0.002422</td>\n",
       "      <td>-0.003551</td>\n",
       "      <td>-0.002063</td>\n",
       "      <td>-0.014639</td>\n",
       "    </tr>\n",
       "    <tr>\n",
       "      <th>hidden_col_0</th>\n",
       "      <td>-0.019268</td>\n",
       "      <td>-0.000997</td>\n",
       "      <td>0.813755</td>\n",
       "      <td>0.276206</td>\n",
       "      <td>1.000000</td>\n",
       "      <td>-0.012332</td>\n",
       "    </tr>\n",
       "    <tr>\n",
       "      <th>hidden_col_1</th>\n",
       "      <td>0.356009</td>\n",
       "      <td>-0.759110</td>\n",
       "      <td>-0.005044</td>\n",
       "      <td>-0.002354</td>\n",
       "      <td>-0.012332</td>\n",
       "      <td>1.000000</td>\n",
       "    </tr>\n",
       "    <tr>\n",
       "      <th>hidden_col_2</th>\n",
       "      <td>0.006707</td>\n",
       "      <td>0.008451</td>\n",
       "      <td>0.004218</td>\n",
       "      <td>0.020263</td>\n",
       "      <td>0.013277</td>\n",
       "      <td>-0.003869</td>\n",
       "    </tr>\n",
       "    <tr>\n",
       "      <th>hidden_col_3</th>\n",
       "      <td>0.010710</td>\n",
       "      <td>0.000199</td>\n",
       "      <td>-0.008761</td>\n",
       "      <td>-0.009790</td>\n",
       "      <td>-0.012934</td>\n",
       "      <td>0.007431</td>\n",
       "    </tr>\n",
       "    <tr>\n",
       "      <th>hidden_col_4</th>\n",
       "      <td>-0.007101</td>\n",
       "      <td>0.884105</td>\n",
       "      <td>0.005435</td>\n",
       "      <td>-0.003864</td>\n",
       "      <td>0.006568</td>\n",
       "      <td>-0.882748</td>\n",
       "    </tr>\n",
       "    <tr>\n",
       "      <th>hidden_col_5</th>\n",
       "      <td>-0.015171</td>\n",
       "      <td>0.011984</td>\n",
       "      <td>-0.007908</td>\n",
       "      <td>-0.009926</td>\n",
       "      <td>-0.017103</td>\n",
       "      <td>-0.022769</td>\n",
       "    </tr>\n",
       "    <tr>\n",
       "      <th>hidden_col_6</th>\n",
       "      <td>-0.010041</td>\n",
       "      <td>0.039148</td>\n",
       "      <td>-0.013570</td>\n",
       "      <td>0.018498</td>\n",
       "      <td>-0.002259</td>\n",
       "      <td>-0.045804</td>\n",
       "    </tr>\n",
       "    <tr>\n",
       "      <th>hidden_col_7</th>\n",
       "      <td>-0.012791</td>\n",
       "      <td>-0.020344</td>\n",
       "      <td>-0.028874</td>\n",
       "      <td>0.020496</td>\n",
       "      <td>-0.017505</td>\n",
       "      <td>0.011277</td>\n",
       "    </tr>\n",
       "    <tr>\n",
       "      <th>hidden_col_8</th>\n",
       "      <td>-0.012579</td>\n",
       "      <td>0.299849</td>\n",
       "      <td>-0.012599</td>\n",
       "      <td>0.018212</td>\n",
       "      <td>-0.000439</td>\n",
       "      <td>-0.306411</td>\n",
       "    </tr>\n",
       "  </tbody>\n",
       "</table>\n",
       "</div>"
      ],
      "text/plain": [
       "              known_col_0  known_col_1  known_col_2  known_col_3  \\\n",
       "known_col_0      1.000000     0.337964    -0.012207    -0.000130   \n",
       "known_col_1      0.337964     1.000000    -0.003360     0.002254   \n",
       "known_col_2     -0.012207    -0.003360     1.000000    -0.275623   \n",
       "known_col_3     -0.000130     0.002254    -0.275623     1.000000   \n",
       "known_col_4      0.001752    -0.011962    -0.002393    -0.003712   \n",
       "known_col_5      0.005117     0.009189     0.002074    -0.019802   \n",
       "known_col_6      0.002111     0.000863    -0.008765    -0.006724   \n",
       "known_col_7     -0.004473    -0.005710     0.003634    -0.011740   \n",
       "known_col_8     -0.013877     0.005188     0.002422    -0.003551   \n",
       "hidden_col_0    -0.019268    -0.000997     0.813755     0.276206   \n",
       "hidden_col_1     0.356009    -0.759110    -0.005044    -0.002354   \n",
       "hidden_col_2     0.006707     0.008451     0.004218     0.020263   \n",
       "hidden_col_3     0.010710     0.000199    -0.008761    -0.009790   \n",
       "hidden_col_4    -0.007101     0.884105     0.005435    -0.003864   \n",
       "hidden_col_5    -0.015171     0.011984    -0.007908    -0.009926   \n",
       "hidden_col_6    -0.010041     0.039148    -0.013570     0.018498   \n",
       "hidden_col_7    -0.012791    -0.020344    -0.028874     0.020496   \n",
       "hidden_col_8    -0.012579     0.299849    -0.012599     0.018212   \n",
       "\n",
       "              hidden_col_0  hidden_col_1  \n",
       "known_col_0      -0.019268      0.356009  \n",
       "known_col_1      -0.000997     -0.759110  \n",
       "known_col_2       0.813755     -0.005044  \n",
       "known_col_3       0.276206     -0.002354  \n",
       "known_col_4      -0.004437      0.013258  \n",
       "known_col_5      -0.010552     -0.005537  \n",
       "known_col_6      -0.010625      0.000747  \n",
       "known_col_7      -0.003303      0.002623  \n",
       "known_col_8      -0.002063     -0.014639  \n",
       "hidden_col_0      1.000000     -0.012332  \n",
       "hidden_col_1     -0.012332      1.000000  \n",
       "hidden_col_2      0.013277     -0.003869  \n",
       "hidden_col_3     -0.012934      0.007431  \n",
       "hidden_col_4      0.006568     -0.882748  \n",
       "hidden_col_5     -0.017103     -0.022769  \n",
       "hidden_col_6     -0.002259     -0.045804  \n",
       "hidden_col_7     -0.017505      0.011277  \n",
       "hidden_col_8     -0.000439     -0.306411  "
      ]
     },
     "execution_count": 28,
     "metadata": {},
     "output_type": "execute_result"
    },
    {
     "data": {
      "application/javascript": [
       "\n",
       "            setTimeout(function() {\n",
       "                var nbb_cell_id = 28;\n",
       "                var nbb_unformatted_code = \"new_data.corr()[\\n    [\\n        \\\"known_col_0\\\",\\n        \\\"known_col_1\\\",\\n        \\\"known_col_2\\\",\\n        \\\"known_col_3\\\",\\n        \\\"hidden_col_0\\\",\\n        \\\"hidden_col_1\\\",\\n    ]\\n]\";\n",
       "                var nbb_formatted_code = \"new_data.corr()[\\n    [\\n        \\\"known_col_0\\\",\\n        \\\"known_col_1\\\",\\n        \\\"known_col_2\\\",\\n        \\\"known_col_3\\\",\\n        \\\"hidden_col_0\\\",\\n        \\\"hidden_col_1\\\",\\n    ]\\n]\";\n",
       "                var nbb_cells = Jupyter.notebook.get_cells();\n",
       "                for (var i = 0; i < nbb_cells.length; ++i) {\n",
       "                    if (nbb_cells[i].input_prompt_number == nbb_cell_id) {\n",
       "                        if (nbb_cells[i].get_text() == nbb_unformatted_code) {\n",
       "                             nbb_cells[i].set_text(nbb_formatted_code);\n",
       "                        }\n",
       "                        break;\n",
       "                    }\n",
       "                }\n",
       "            }, 500);\n",
       "            "
      ],
      "text/plain": [
       "<IPython.core.display.Javascript object>"
      ]
     },
     "metadata": {},
     "output_type": "display_data"
    }
   ],
   "source": [
    "new_data.corr()[\n",
    "    [\n",
    "        \"known_col_0\",\n",
    "        \"known_col_1\",\n",
    "        \"known_col_2\",\n",
    "        \"known_col_3\",\n",
    "        \"hidden_col_0\",\n",
    "        \"hidden_col_1\",\n",
    "    ]\n",
    "]"
   ]
  },
  {
   "cell_type": "markdown",
   "metadata": {},
   "source": [
    "## Generate X-y relationship (feature-target)"
   ]
  },
  {
   "cell_type": "code",
   "execution_count": 29,
   "metadata": {},
   "outputs": [
    {
     "data": {
      "application/javascript": [
       "\n",
       "            setTimeout(function() {\n",
       "                var nbb_cell_id = 29;\n",
       "                var nbb_unformatted_code = \"expressions_x_y = {\\n   \\\"linear\\\":'-0.5*known_col_0 + 2.*known_col_1 + 0.7*known_col_4 -0.4*hidden_col_0',\\n    'non_linear': '-0.7*known_col_3**1.5 + 0.2*sin(known_col_1)+ 0.9*log(hidden_col_4) -0.1*hidden_col_2**2',\\n    'interaction': '0.05*known_col_3*known_col_4 -0.1*(known_col_4/hidden_col_1)',\\n    'uniform_noise': {\\n        'weight':0.5\\n    },\\n}\";\n",
       "                var nbb_formatted_code = \"expressions_x_y = {\\n    \\\"linear\\\": \\\"-0.5*known_col_0 + 2.*known_col_1 + 0.7*known_col_4 -0.4*hidden_col_0\\\",\\n    \\\"non_linear\\\": \\\"-0.7*known_col_3**1.5 + 0.2*sin(known_col_1)+ 0.9*log(hidden_col_4) -0.1*hidden_col_2**2\\\",\\n    \\\"interaction\\\": \\\"0.05*known_col_3*known_col_4 -0.1*(known_col_4/hidden_col_1)\\\",\\n    \\\"uniform_noise\\\": {\\\"weight\\\": 0.5},\\n}\";\n",
       "                var nbb_cells = Jupyter.notebook.get_cells();\n",
       "                for (var i = 0; i < nbb_cells.length; ++i) {\n",
       "                    if (nbb_cells[i].input_prompt_number == nbb_cell_id) {\n",
       "                        if (nbb_cells[i].get_text() == nbb_unformatted_code) {\n",
       "                             nbb_cells[i].set_text(nbb_formatted_code);\n",
       "                        }\n",
       "                        break;\n",
       "                    }\n",
       "                }\n",
       "            }, 500);\n",
       "            "
      ],
      "text/plain": [
       "<IPython.core.display.Javascript object>"
      ]
     },
     "metadata": {},
     "output_type": "display_data"
    }
   ],
   "source": [
    "expressions_x_y = {\n",
    "    \"linear\": \"-0.5*known_col_0 + 2.*known_col_1 + 0.7*known_col_4 -0.4*hidden_col_0\",\n",
    "    \"non_linear\": \"-0.7*known_col_3**1.5 + 0.2*sin(known_col_1)+ 0.9*log(hidden_col_4) -0.1*hidden_col_2**2\",\n",
    "    \"interaction\": \"0.05*known_col_3*known_col_4 -0.1*(known_col_4/hidden_col_1)\",\n",
    "    \"uniform_noise\": {\"weight\": 0.5},\n",
    "}"
   ]
  },
  {
   "cell_type": "markdown",
   "metadata": {},
   "source": [
    "## Generate accept-reject relationship"
   ]
  },
  {
   "cell_type": "code",
   "execution_count": 30,
   "metadata": {},
   "outputs": [
    {
     "data": {
      "application/javascript": [
       "\n",
       "            setTimeout(function() {\n",
       "                var nbb_cell_id = 30;\n",
       "                var nbb_unformatted_code = \"expressions_accept_reject = {\\n   \\\"linear\\\":'-14*known_col_4 + 2.*known_col_5 + 0.9*hidden_col_6 -2.1*known_col_3',\\n    'non_linear': '-0.9*known_col_3**0.5 + 0.2*sin(known_col_5) -2.5*log(hidden_col_5)-0.05*hidden_col_6**2.5',\\n#     'interaction': '0.01*known_col_3*known_col_4 -0.05*(hidden_col_5/hidden_col_6)',\\n    'uniform_noise': {\\n        'weight':0.1\\n    },\\n}\";\n",
       "                var nbb_formatted_code = \"expressions_accept_reject = {\\n    \\\"linear\\\": \\\"-14*known_col_4 + 2.*known_col_5 + 0.9*hidden_col_6 -2.1*known_col_3\\\",\\n    \\\"non_linear\\\": \\\"-0.9*known_col_3**0.5 + 0.2*sin(known_col_5) -2.5*log(hidden_col_5)-0.05*hidden_col_6**2.5\\\",\\n    #     'interaction': '0.01*known_col_3*known_col_4 -0.05*(hidden_col_5/hidden_col_6)',\\n    \\\"uniform_noise\\\": {\\\"weight\\\": 0.1},\\n}\";\n",
       "                var nbb_cells = Jupyter.notebook.get_cells();\n",
       "                for (var i = 0; i < nbb_cells.length; ++i) {\n",
       "                    if (nbb_cells[i].input_prompt_number == nbb_cell_id) {\n",
       "                        if (nbb_cells[i].get_text() == nbb_unformatted_code) {\n",
       "                             nbb_cells[i].set_text(nbb_formatted_code);\n",
       "                        }\n",
       "                        break;\n",
       "                    }\n",
       "                }\n",
       "            }, 500);\n",
       "            "
      ],
      "text/plain": [
       "<IPython.core.display.Javascript object>"
      ]
     },
     "metadata": {},
     "output_type": "display_data"
    }
   ],
   "source": [
    "expressions_accept_reject = {\n",
    "    \"linear\": \"-14*known_col_4 + 2.*known_col_5 + 0.9*hidden_col_6 -2.1*known_col_3\",\n",
    "    \"non_linear\": \"-0.9*known_col_3**0.5 + 0.2*sin(known_col_5) -2.5*log(hidden_col_5)-0.05*hidden_col_6**2.5\",\n",
    "    #     'interaction': '0.01*known_col_3*known_col_4 -0.05*(hidden_col_5/hidden_col_6)',\n",
    "    \"uniform_noise\": {\"weight\": 0.1},\n",
    "}"
   ]
  },
  {
   "cell_type": "markdown",
   "metadata": {},
   "source": [
    "## Apply targen and get the new dataset"
   ]
  },
  {
   "cell_type": "code",
   "execution_count": 34,
   "metadata": {},
   "outputs": [
    {
     "data": {
      "application/javascript": [
       "\n",
       "            setTimeout(function() {\n",
       "                var nbb_cell_id = 34;\n",
       "                var nbb_unformatted_code = \"X_y = target.get_target_and_contributions(\\n    data, expressions=expressions_x_y, imbalance=0.05, drop_features=False\\n)\\nX_acc_reject = target.get_target_and_contributions(\\n    data, expressions=expressions_accept_reject, imbalance=0.7, drop_features=False\\n)\\nX_acc_reject = X_acc_reject.rename(columns={\\\"y\\\": \\\"is_accepted\\\"})\";\n",
       "                var nbb_formatted_code = \"X_y = target.get_target_and_contributions(\\n    data, expressions=expressions_x_y, imbalance=0.05, drop_features=False\\n)\\nX_acc_reject = target.get_target_and_contributions(\\n    data, expressions=expressions_accept_reject, imbalance=0.7, drop_features=False\\n)\\nX_acc_reject = X_acc_reject.rename(columns={\\\"y\\\": \\\"is_accepted\\\"})\";\n",
       "                var nbb_cells = Jupyter.notebook.get_cells();\n",
       "                for (var i = 0; i < nbb_cells.length; ++i) {\n",
       "                    if (nbb_cells[i].input_prompt_number == nbb_cell_id) {\n",
       "                        if (nbb_cells[i].get_text() == nbb_unformatted_code) {\n",
       "                             nbb_cells[i].set_text(nbb_formatted_code);\n",
       "                        }\n",
       "                        break;\n",
       "                    }\n",
       "                }\n",
       "            }, 500);\n",
       "            "
      ],
      "text/plain": [
       "<IPython.core.display.Javascript object>"
      ]
     },
     "metadata": {},
     "output_type": "display_data"
    }
   ],
   "source": [
    "X_y = target.get_target_and_contributions(\n",
    "    data, expressions=expressions_x_y, imbalance=0.05, drop_features=False\n",
    ")\n",
    "X_acc_reject = target.get_target_and_contributions(\n",
    "    data, expressions=expressions_accept_reject, imbalance=0.7, drop_features=False\n",
    ")\n",
    "X_acc_reject = X_acc_reject.rename(columns={\"y\": \"is_accepted\"})"
   ]
  },
  {
   "cell_type": "markdown",
   "metadata": {},
   "source": [
    "## Put all data together"
   ]
  },
  {
   "cell_type": "code",
   "execution_count": 35,
   "metadata": {},
   "outputs": [
    {
     "data": {
      "application/javascript": [
       "\n",
       "            setTimeout(function() {\n",
       "                var nbb_cell_id = 35;\n",
       "                var nbb_unformatted_code = \"\\ndataset = pd.concat([X_y,X_acc_reject['is_accepted']], axis=1).drop([col for col in X_y.columns if col.startswith(\\\"score\\\") ], axis=1)\";\n",
       "                var nbb_formatted_code = \"dataset = pd.concat([X_y, X_acc_reject[\\\"is_accepted\\\"]], axis=1).drop(\\n    [col for col in X_y.columns if col.startswith(\\\"score\\\")], axis=1\\n)\";\n",
       "                var nbb_cells = Jupyter.notebook.get_cells();\n",
       "                for (var i = 0; i < nbb_cells.length; ++i) {\n",
       "                    if (nbb_cells[i].input_prompt_number == nbb_cell_id) {\n",
       "                        if (nbb_cells[i].get_text() == nbb_unformatted_code) {\n",
       "                             nbb_cells[i].set_text(nbb_formatted_code);\n",
       "                        }\n",
       "                        break;\n",
       "                    }\n",
       "                }\n",
       "            }, 500);\n",
       "            "
      ],
      "text/plain": [
       "<IPython.core.display.Javascript object>"
      ]
     },
     "metadata": {},
     "output_type": "display_data"
    }
   ],
   "source": [
    "dataset = pd.concat([X_y, X_acc_reject[\"is_accepted\"]], axis=1).drop(\n",
    "    [col for col in X_y.columns if col.startswith(\"score\")], axis=1\n",
    ")"
   ]
  },
  {
   "cell_type": "markdown",
   "metadata": {},
   "source": [
    "## Check the default rate per samples (kgb vs rejected)"
   ]
  },
  {
   "cell_type": "code",
   "execution_count": 37,
   "metadata": {},
   "outputs": [
    {
     "data": {
      "application/javascript": [
       "\n",
       "            setTimeout(function() {\n",
       "                var nbb_cell_id = 37;\n",
       "                var nbb_unformatted_code = \"kgb = dataset[dataset[\\\"is_accepted\\\"]==1]\\nrejected = dataset[dataset[\\\"is_accepted\\\"]==0]\";\n",
       "                var nbb_formatted_code = \"kgb = dataset[dataset[\\\"is_accepted\\\"] == 1]\\nrejected = dataset[dataset[\\\"is_accepted\\\"] == 0]\";\n",
       "                var nbb_cells = Jupyter.notebook.get_cells();\n",
       "                for (var i = 0; i < nbb_cells.length; ++i) {\n",
       "                    if (nbb_cells[i].input_prompt_number == nbb_cell_id) {\n",
       "                        if (nbb_cells[i].get_text() == nbb_unformatted_code) {\n",
       "                             nbb_cells[i].set_text(nbb_formatted_code);\n",
       "                        }\n",
       "                        break;\n",
       "                    }\n",
       "                }\n",
       "            }, 500);\n",
       "            "
      ],
      "text/plain": [
       "<IPython.core.display.Javascript object>"
      ]
     },
     "metadata": {},
     "output_type": "display_data"
    }
   ],
   "source": [
    "kgb = dataset[dataset[\"is_accepted\"] == 1]\n",
    "rejected = dataset[dataset[\"is_accepted\"] == 0]"
   ]
  },
  {
   "cell_type": "code",
   "execution_count": 38,
   "metadata": {},
   "outputs": [
    {
     "data": {
      "text/plain": [
       "0    0.956143\n",
       "1    0.043857\n",
       "Name: y, dtype: float64"
      ]
     },
     "execution_count": 38,
     "metadata": {},
     "output_type": "execute_result"
    },
    {
     "data": {
      "application/javascript": [
       "\n",
       "            setTimeout(function() {\n",
       "                var nbb_cell_id = 38;\n",
       "                var nbb_unformatted_code = \"kgb['y'].value_counts(normalize=True)\";\n",
       "                var nbb_formatted_code = \"kgb[\\\"y\\\"].value_counts(normalize=True)\";\n",
       "                var nbb_cells = Jupyter.notebook.get_cells();\n",
       "                for (var i = 0; i < nbb_cells.length; ++i) {\n",
       "                    if (nbb_cells[i].input_prompt_number == nbb_cell_id) {\n",
       "                        if (nbb_cells[i].get_text() == nbb_unformatted_code) {\n",
       "                             nbb_cells[i].set_text(nbb_formatted_code);\n",
       "                        }\n",
       "                        break;\n",
       "                    }\n",
       "                }\n",
       "            }, 500);\n",
       "            "
      ],
      "text/plain": [
       "<IPython.core.display.Javascript object>"
      ]
     },
     "metadata": {},
     "output_type": "display_data"
    }
   ],
   "source": [
    "kgb[\"y\"].value_counts(normalize=True)"
   ]
  },
  {
   "cell_type": "code",
   "execution_count": 39,
   "metadata": {},
   "outputs": [
    {
     "data": {
      "text/plain": [
       "0    0.935667\n",
       "1    0.064333\n",
       "Name: y, dtype: float64"
      ]
     },
     "execution_count": 39,
     "metadata": {},
     "output_type": "execute_result"
    },
    {
     "data": {
      "application/javascript": [
       "\n",
       "            setTimeout(function() {\n",
       "                var nbb_cell_id = 39;\n",
       "                var nbb_unformatted_code = \"rejected['y'].value_counts(normalize=True)\";\n",
       "                var nbb_formatted_code = \"rejected[\\\"y\\\"].value_counts(normalize=True)\";\n",
       "                var nbb_cells = Jupyter.notebook.get_cells();\n",
       "                for (var i = 0; i < nbb_cells.length; ++i) {\n",
       "                    if (nbb_cells[i].input_prompt_number == nbb_cell_id) {\n",
       "                        if (nbb_cells[i].get_text() == nbb_unformatted_code) {\n",
       "                             nbb_cells[i].set_text(nbb_formatted_code);\n",
       "                        }\n",
       "                        break;\n",
       "                    }\n",
       "                }\n",
       "            }, 500);\n",
       "            "
      ],
      "text/plain": [
       "<IPython.core.display.Javascript object>"
      ]
     },
     "metadata": {},
     "output_type": "display_data"
    }
   ],
   "source": [
    "rejected[\"y\"].value_counts(normalize=True)"
   ]
  },
  {
   "cell_type": "markdown",
   "metadata": {},
   "source": [
    "## Get the modelling dataset"
   ]
  },
  {
   "cell_type": "code",
   "execution_count": 54,
   "metadata": {},
   "outputs": [
    {
     "data": {
      "application/javascript": [
       "\n",
       "            setTimeout(function() {\n",
       "                var nbb_cell_id = 54;\n",
       "                var nbb_unformatted_code = \"model_ds = dataset[\\n    [col for col in dataset.columns if col.startswith(\\\"known\\\")] + [\\\"y\\\", \\\"is_accepted\\\"]\\n]\";\n",
       "                var nbb_formatted_code = \"model_ds = dataset[\\n    [col for col in dataset.columns if col.startswith(\\\"known\\\")] + [\\\"y\\\", \\\"is_accepted\\\"]\\n]\";\n",
       "                var nbb_cells = Jupyter.notebook.get_cells();\n",
       "                for (var i = 0; i < nbb_cells.length; ++i) {\n",
       "                    if (nbb_cells[i].input_prompt_number == nbb_cell_id) {\n",
       "                        if (nbb_cells[i].get_text() == nbb_unformatted_code) {\n",
       "                             nbb_cells[i].set_text(nbb_formatted_code);\n",
       "                        }\n",
       "                        break;\n",
       "                    }\n",
       "                }\n",
       "            }, 500);\n",
       "            "
      ],
      "text/plain": [
       "<IPython.core.display.Javascript object>"
      ]
     },
     "metadata": {},
     "output_type": "display_data"
    }
   ],
   "source": [
    "model_ds = dataset[\n",
    "    [col for col in dataset.columns if col.startswith(\"known\")] + [\"y\", \"is_accepted\"]\n",
    "]"
   ]
  },
  {
   "cell_type": "code",
   "execution_count": 65,
   "metadata": {},
   "outputs": [
    {
     "data": {
      "application/javascript": [
       "\n",
       "            setTimeout(function() {\n",
       "                var nbb_cell_id = 65;\n",
       "                var nbb_unformatted_code = \"model_ds.to_csv(r\\\"C:\\\\Users\\\\Asus\\\\Desktop\\\\Repo\\\\MasterThesis_RI\\\\model_ds.csv\\\", index = False)\";\n",
       "                var nbb_formatted_code = \"model_ds.to_csv(r\\\"C:\\\\Users\\\\Asus\\\\Desktop\\\\Repo\\\\MasterThesis_RI\\\\model_ds.csv\\\", index=False)\";\n",
       "                var nbb_cells = Jupyter.notebook.get_cells();\n",
       "                for (var i = 0; i < nbb_cells.length; ++i) {\n",
       "                    if (nbb_cells[i].input_prompt_number == nbb_cell_id) {\n",
       "                        if (nbb_cells[i].get_text() == nbb_unformatted_code) {\n",
       "                             nbb_cells[i].set_text(nbb_formatted_code);\n",
       "                        }\n",
       "                        break;\n",
       "                    }\n",
       "                }\n",
       "            }, 500);\n",
       "            "
      ],
      "text/plain": [
       "<IPython.core.display.Javascript object>"
      ]
     },
     "metadata": {},
     "output_type": "display_data"
    }
   ],
   "source": [
    "model_ds.to_csv(r\"C:\\Users\\Asus\\Desktop\\Repo\\MasterThesis_RI\\model_ds.csv\", index=False)"
   ]
  }
 ],
 "metadata": {
  "kernelspec": {
   "display_name": "Python 3",
   "language": "python",
   "name": "python3"
  },
  "language_info": {
   "codemirror_mode": {
    "name": "ipython",
    "version": 3
   },
   "file_extension": ".py",
   "mimetype": "text/x-python",
   "name": "python",
   "nbconvert_exporter": "python",
   "pygments_lexer": "ipython3",
   "version": "3.8.3"
  }
 },
 "nbformat": 4,
 "nbformat_minor": 4
}
