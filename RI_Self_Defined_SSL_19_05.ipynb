{
 "cells": [
  {
   "cell_type": "code",
   "execution_count": 1,
   "metadata": {},
   "outputs": [
    {
     "data": {
      "application/javascript": [
       "\n",
       "            setTimeout(function() {\n",
       "                var nbb_cell_id = 1;\n",
       "                var nbb_unformatted_code = \"%reload_ext nb_black\";\n",
       "                var nbb_formatted_code = \"%reload_ext nb_black\";\n",
       "                var nbb_cells = Jupyter.notebook.get_cells();\n",
       "                for (var i = 0; i < nbb_cells.length; ++i) {\n",
       "                    if (nbb_cells[i].input_prompt_number == nbb_cell_id) {\n",
       "                        if (nbb_cells[i].get_text() == nbb_unformatted_code) {\n",
       "                             nbb_cells[i].set_text(nbb_formatted_code);\n",
       "                        }\n",
       "                        break;\n",
       "                    }\n",
       "                }\n",
       "            }, 500);\n",
       "            "
      ],
      "text/plain": [
       "<IPython.core.display.Javascript object>"
      ]
     },
     "metadata": {},
     "output_type": "display_data"
    }
   ],
   "source": [
    "%reload_ext nb_black"
   ]
  },
  {
   "cell_type": "code",
   "execution_count": 2,
   "metadata": {},
   "outputs": [
    {
     "data": {
      "application/javascript": [
       "\n",
       "            setTimeout(function() {\n",
       "                var nbb_cell_id = 2;\n",
       "                var nbb_unformatted_code = \"import sys\\nimport warnings\\n\\nwarnings.filterwarnings(\\\"ignore\\\")\\n\\n# Basic Packages\\nimport pandas as pd\\nimport numpy as np\\nimport matplotlib.pyplot as plt\\n\\n# Modelling\\n# Classification\\nimport statsmodels.api as sm\\nfrom sklearn.linear_model import LogisticRegression\\nfrom sklearn.ensemble import RandomForestClassifier\\nfrom lightgbm import LGBMClassifier\\nfrom sklearn.naive_bayes import GaussianNB\\nfrom sklearn.ensemble import IsolationForest\\n\\n# Balancing\\nfrom imblearn.over_sampling import SMOTE\\nfrom imblearn.under_sampling import RandomUnderSampler\\n\\n# Model Selection\\nfrom sklearn.model_selection import train_test_split\\n\\n# Metrics\\nfrom sklearn.metrics import f1_score\\n\\n# Visualization\\nimport matplotlib.pyplot as plt\";\n",
       "                var nbb_formatted_code = \"import sys\\nimport warnings\\n\\nwarnings.filterwarnings(\\\"ignore\\\")\\n\\n# Basic Packages\\nimport pandas as pd\\nimport numpy as np\\nimport matplotlib.pyplot as plt\\n\\n# Modelling\\n# Classification\\nimport statsmodels.api as sm\\nfrom sklearn.linear_model import LogisticRegression\\nfrom sklearn.ensemble import RandomForestClassifier\\nfrom lightgbm import LGBMClassifier\\nfrom sklearn.naive_bayes import GaussianNB\\nfrom sklearn.ensemble import IsolationForest\\n\\n# Balancing\\nfrom imblearn.over_sampling import SMOTE\\nfrom imblearn.under_sampling import RandomUnderSampler\\n\\n# Model Selection\\nfrom sklearn.model_selection import train_test_split\\n\\n# Metrics\\nfrom sklearn.metrics import f1_score\\n\\n# Visualization\\nimport matplotlib.pyplot as plt\";\n",
       "                var nbb_cells = Jupyter.notebook.get_cells();\n",
       "                for (var i = 0; i < nbb_cells.length; ++i) {\n",
       "                    if (nbb_cells[i].input_prompt_number == nbb_cell_id) {\n",
       "                        if (nbb_cells[i].get_text() == nbb_unformatted_code) {\n",
       "                             nbb_cells[i].set_text(nbb_formatted_code);\n",
       "                        }\n",
       "                        break;\n",
       "                    }\n",
       "                }\n",
       "            }, 500);\n",
       "            "
      ],
      "text/plain": [
       "<IPython.core.display.Javascript object>"
      ]
     },
     "metadata": {},
     "output_type": "display_data"
    }
   ],
   "source": [
    "import sys\n",
    "import warnings\n",
    "\n",
    "warnings.filterwarnings(\"ignore\")\n",
    "\n",
    "# Basic Packages\n",
    "import pandas as pd\n",
    "import numpy as np\n",
    "import matplotlib.pyplot as plt\n",
    "\n",
    "# Modelling\n",
    "# Classification\n",
    "import statsmodels.api as sm\n",
    "from sklearn.linear_model import LogisticRegression\n",
    "from sklearn.ensemble import RandomForestClassifier\n",
    "from lightgbm import LGBMClassifier\n",
    "from sklearn.naive_bayes import GaussianNB\n",
    "from sklearn.ensemble import IsolationForest\n",
    "\n",
    "# Balancing\n",
    "from imblearn.over_sampling import SMOTE\n",
    "from imblearn.under_sampling import RandomUnderSampler\n",
    "\n",
    "# Model Selection\n",
    "from sklearn.model_selection import train_test_split\n",
    "\n",
    "# Metrics\n",
    "from sklearn.metrics import f1_score\n",
    "\n",
    "# Visualization\n",
    "import matplotlib.pyplot as plt"
   ]
  },
  {
   "cell_type": "markdown",
   "metadata": {},
   "source": [
    "## Data Preprocessing"
   ]
  },
  {
   "cell_type": "markdown",
   "metadata": {},
   "source": [
    "First, basic data preprocessing to obtain accepted and rejected training and test samples separately. Save rejected data in two versions: with and without lables. The rejected data without labels is needed for the semi-supervised model. The rejected data without labels is needed to perform evaluation. "
   ]
  },
  {
   "cell_type": "code",
   "execution_count": 3,
   "metadata": {},
   "outputs": [
    {
     "data": {
      "application/javascript": [
       "\n",
       "            setTimeout(function() {\n",
       "                var nbb_cell_id = 3;\n",
       "                var nbb_unformatted_code = \"def data_preprocessing(df, accepted_flag, target, train_ratio):\\n    \\\"\\\"\\\"\\n    The goal of this function is to load the original dataset, split it into accepts and rejects,\\n    add ids, which can later be used for merging. For the rejects to further perform train / test split\\n\\n    Parameters\\n    ----------\\n\\n    df : name of the original dataset in quotation marks, csv format\\n    accepted_flag: name of the accepted flag; Binary: 1 if accepted, 0 if rejected\\n    target : name of the target column\\n    train_ratio : percentage used for training; Continuous (0,1)\\n\\n    Return\\n    ------\\n    a : accepted data\\n    r : rejected data\\n    r_dev : rejected trainining data without label\\n    r_test : rejected testing data without label\\n    dfr_dev_with_label: rejected training data with label\\n    dft_test_with_label: rejected training data with label\\n\\n    \\\"\\\"\\\"\\n    # Load data\\n    data = pd.read_csv(\\\"C:/Users/Asus/Desktop/Repo/MasterThesis_RI/Data_19_05/\\\" + df)\\n\\n    # Accepted\\n\\n    ## Create separate dataset with accepts\\n    dfa = data[data[accepted_flag] == 1]\\n    dfa = dfa.drop([accepted_flag], axis=1)\\n    ## Rename target variable as \\\"target\\\"\\n    dfa = dfa.rename(columns={target: \\\"target\\\"})\\n    ## Add id to the dataset, which can later be used for merging\\n    # dfa[\\\"id\\\"] = dfa.index.to_series().map(lambda x: uuid.uuid4())\\n\\n    # Rejected\\n\\n    ## Create separate dataset with accepts\\n    dfr = data[data[accepted_flag] == 0]\\n    dfr = dfr.drop([accepted_flag], axis=1)\\n    ## Add id to the dataset, which can later be used for merging\\n    #     dfr[\\\"id\\\"] = dfr.index.to_series().map(lambda x: uuid.uuid4())\\n    ## Train/Test Split (without labels)\\n    ### Shuffle the dataset\\n    shuffle_df = dfr.sample(frac=1, random_state=42)\\n    ### Define a size for the train set\\n    train_size = int(train_ratio * len(shuffle_df))\\n    ### Split the dataset\\n    dfr_dev = shuffle_df[:train_size]\\n    dfr_test = shuffle_df[train_size:]\\n    ## Save a copy of the rejected data with label\\n    dfr_dev_with_label = dfr_dev\\n    dfr_test_with_label = dfr_test\\n    ## Unlabel the rejects (i.e. drop the target) and save a copy of the rejeted data without label\\n    dfr_dev2 = dfr_dev_with_label.drop([target], axis=1)\\n    dfr_test2 = dfr_test_with_label.drop([target], axis=1)\\n    # Rename target variable\\n    dfr_dev_with_label = dfr_dev_with_label.rename(columns={target: \\\"target\\\"})\\n    dfr_test_with_label = dfr_test_with_label.rename(columns={target: \\\"target\\\"})\\n\\n    return dfr_dev_with_label, dfr_test_with_label, dfa, dfr, dfr_dev2, dfr_test2\";\n",
       "                var nbb_formatted_code = \"def data_preprocessing(df, accepted_flag, target, train_ratio):\\n    \\\"\\\"\\\"\\n    The goal of this function is to load the original dataset, split it into accepts and rejects,\\n    add ids, which can later be used for merging. For the rejects to further perform train / test split\\n\\n    Parameters\\n    ----------\\n\\n    df : name of the original dataset in quotation marks, csv format\\n    accepted_flag: name of the accepted flag; Binary: 1 if accepted, 0 if rejected\\n    target : name of the target column\\n    train_ratio : percentage used for training; Continuous (0,1)\\n\\n    Return\\n    ------\\n    a : accepted data\\n    r : rejected data\\n    r_dev : rejected trainining data without label\\n    r_test : rejected testing data without label\\n    dfr_dev_with_label: rejected training data with label\\n    dft_test_with_label: rejected training data with label\\n\\n    \\\"\\\"\\\"\\n    # Load data\\n    data = pd.read_csv(\\\"C:/Users/Asus/Desktop/Repo/MasterThesis_RI/Data_19_05/\\\" + df)\\n\\n    # Accepted\\n\\n    ## Create separate dataset with accepts\\n    dfa = data[data[accepted_flag] == 1]\\n    dfa = dfa.drop([accepted_flag], axis=1)\\n    ## Rename target variable as \\\"target\\\"\\n    dfa = dfa.rename(columns={target: \\\"target\\\"})\\n    ## Add id to the dataset, which can later be used for merging\\n    # dfa[\\\"id\\\"] = dfa.index.to_series().map(lambda x: uuid.uuid4())\\n\\n    # Rejected\\n\\n    ## Create separate dataset with accepts\\n    dfr = data[data[accepted_flag] == 0]\\n    dfr = dfr.drop([accepted_flag], axis=1)\\n    ## Add id to the dataset, which can later be used for merging\\n    #     dfr[\\\"id\\\"] = dfr.index.to_series().map(lambda x: uuid.uuid4())\\n    ## Train/Test Split (without labels)\\n    ### Shuffle the dataset\\n    shuffle_df = dfr.sample(frac=1, random_state=42)\\n    ### Define a size for the train set\\n    train_size = int(train_ratio * len(shuffle_df))\\n    ### Split the dataset\\n    dfr_dev = shuffle_df[:train_size]\\n    dfr_test = shuffle_df[train_size:]\\n    ## Save a copy of the rejected data with label\\n    dfr_dev_with_label = dfr_dev\\n    dfr_test_with_label = dfr_test\\n    ## Unlabel the rejects (i.e. drop the target) and save a copy of the rejeted data without label\\n    dfr_dev2 = dfr_dev_with_label.drop([target], axis=1)\\n    dfr_test2 = dfr_test_with_label.drop([target], axis=1)\\n    # Rename target variable\\n    dfr_dev_with_label = dfr_dev_with_label.rename(columns={target: \\\"target\\\"})\\n    dfr_test_with_label = dfr_test_with_label.rename(columns={target: \\\"target\\\"})\\n\\n    return dfr_dev_with_label, dfr_test_with_label, dfa, dfr, dfr_dev2, dfr_test2\";\n",
       "                var nbb_cells = Jupyter.notebook.get_cells();\n",
       "                for (var i = 0; i < nbb_cells.length; ++i) {\n",
       "                    if (nbb_cells[i].input_prompt_number == nbb_cell_id) {\n",
       "                        if (nbb_cells[i].get_text() == nbb_unformatted_code) {\n",
       "                             nbb_cells[i].set_text(nbb_formatted_code);\n",
       "                        }\n",
       "                        break;\n",
       "                    }\n",
       "                }\n",
       "            }, 500);\n",
       "            "
      ],
      "text/plain": [
       "<IPython.core.display.Javascript object>"
      ]
     },
     "metadata": {},
     "output_type": "display_data"
    }
   ],
   "source": [
    "def data_preprocessing(df, accepted_flag, target, train_ratio):\n",
    "    \"\"\"\n",
    "    The goal of this function is to load the original dataset, split it into accepts and rejects,\n",
    "    add ids, which can later be used for merging. For the rejects to further perform train / test split\n",
    "\n",
    "    Parameters\n",
    "    ----------\n",
    "\n",
    "    df : name of the original dataset in quotation marks, csv format\n",
    "    accepted_flag: name of the accepted flag; Binary: 1 if accepted, 0 if rejected\n",
    "    target : name of the target column\n",
    "    train_ratio : percentage used for training; Continuous (0,1)\n",
    "\n",
    "    Return\n",
    "    ------\n",
    "    a : accepted data\n",
    "    r : rejected data\n",
    "    r_dev : rejected trainining data without label\n",
    "    r_test : rejected testing data without label\n",
    "    dfr_dev_with_label: rejected training data with label\n",
    "    dft_test_with_label: rejected training data with label\n",
    "\n",
    "    \"\"\"\n",
    "    # Load data\n",
    "    data = pd.read_csv(\"C:/Users/Asus/Desktop/Repo/MasterThesis_RI/Data_19_05/\" + df)\n",
    "\n",
    "    # Accepted\n",
    "\n",
    "    ## Create separate dataset with accepts\n",
    "    dfa = data[data[accepted_flag] == 1]\n",
    "    dfa = dfa.drop([accepted_flag], axis=1)\n",
    "    ## Rename target variable as \"target\"\n",
    "    dfa = dfa.rename(columns={target: \"target\"})\n",
    "    ## Add id to the dataset, which can later be used for merging\n",
    "    # dfa[\"id\"] = dfa.index.to_series().map(lambda x: uuid.uuid4())\n",
    "\n",
    "    # Rejected\n",
    "\n",
    "    ## Create separate dataset with accepts\n",
    "    dfr = data[data[accepted_flag] == 0]\n",
    "    dfr = dfr.drop([accepted_flag], axis=1)\n",
    "    ## Add id to the dataset, which can later be used for merging\n",
    "    #     dfr[\"id\"] = dfr.index.to_series().map(lambda x: uuid.uuid4())\n",
    "    ## Train/Test Split (without labels)\n",
    "    ### Shuffle the dataset\n",
    "    shuffle_df = dfr.sample(frac=1, random_state=42)\n",
    "    ### Define a size for the train set\n",
    "    train_size = int(train_ratio * len(shuffle_df))\n",
    "    ### Split the dataset\n",
    "    dfr_dev = shuffle_df[:train_size]\n",
    "    dfr_test = shuffle_df[train_size:]\n",
    "    ## Save a copy of the rejected data with label\n",
    "    dfr_dev_with_label = dfr_dev\n",
    "    dfr_test_with_label = dfr_test\n",
    "    ## Unlabel the rejects (i.e. drop the target) and save a copy of the rejeted data without label\n",
    "    dfr_dev2 = dfr_dev_with_label.drop([target], axis=1)\n",
    "    dfr_test2 = dfr_test_with_label.drop([target], axis=1)\n",
    "    # Rename target variable\n",
    "    dfr_dev_with_label = dfr_dev_with_label.rename(columns={target: \"target\"})\n",
    "    dfr_test_with_label = dfr_test_with_label.rename(columns={target: \"target\"})\n",
    "\n",
    "    return dfr_dev_with_label, dfr_test_with_label, dfa, dfr, dfr_dev2, dfr_test2"
   ]
  },
  {
   "cell_type": "code",
   "execution_count": 4,
   "metadata": {},
   "outputs": [
    {
     "data": {
      "application/javascript": [
       "\n",
       "            setTimeout(function() {\n",
       "                var nbb_cell_id = 4;\n",
       "                var nbb_unformatted_code = \"dfr_dev_with_label, dfr_test_with_label, a, r, r_dev, r_test = data_preprocessing(\\n    \\\"cons_scen4_1.csv\\\", \\\"is_accepted\\\", \\\"y\\\", 0.8\\n)\";\n",
       "                var nbb_formatted_code = \"dfr_dev_with_label, dfr_test_with_label, a, r, r_dev, r_test = data_preprocessing(\\n    \\\"cons_scen4_1.csv\\\", \\\"is_accepted\\\", \\\"y\\\", 0.8\\n)\";\n",
       "                var nbb_cells = Jupyter.notebook.get_cells();\n",
       "                for (var i = 0; i < nbb_cells.length; ++i) {\n",
       "                    if (nbb_cells[i].input_prompt_number == nbb_cell_id) {\n",
       "                        if (nbb_cells[i].get_text() == nbb_unformatted_code) {\n",
       "                             nbb_cells[i].set_text(nbb_formatted_code);\n",
       "                        }\n",
       "                        break;\n",
       "                    }\n",
       "                }\n",
       "            }, 500);\n",
       "            "
      ],
      "text/plain": [
       "<IPython.core.display.Javascript object>"
      ]
     },
     "metadata": {},
     "output_type": "display_data"
    }
   ],
   "source": [
    "dfr_dev_with_label, dfr_test_with_label, a, r, r_dev, r_test = data_preprocessing(\n",
    "    \"cons_scen4_1.csv\", \"is_accepted\", \"y\", 0.8\n",
    ")"
   ]
  },
  {
   "cell_type": "markdown",
   "metadata": {},
   "source": [
    "The below two functions continue the data preprocessing. Used to create feature and target data and to split into train and test samples."
   ]
  },
  {
   "cell_type": "code",
   "execution_count": 5,
   "metadata": {},
   "outputs": [
    {
     "data": {
      "application/javascript": [
       "\n",
       "            setTimeout(function() {\n",
       "                var nbb_cell_id = 5;\n",
       "                var nbb_unformatted_code = \"def create_X_y(data):\\n    \\\"\\\"\\\"\\n    Undersample the data\\n\\n    Parameters\\n    ----------\\n    data : Dataframe\\n\\n    Return\\n    ------\\n    X_res : undersampled data; Dataframe\\n    y_res : undersampled labels; Dataframe\\n\\n    \\\"\\\"\\\"\\n    # Create X and y\\n    X = data.loc[:, data.columns != \\\"target\\\"]\\n    y = data.loc[:, data.columns == \\\"target\\\"]\\n\\n    return X, y\";\n",
       "                var nbb_formatted_code = \"def create_X_y(data):\\n    \\\"\\\"\\\"\\n    Undersample the data\\n\\n    Parameters\\n    ----------\\n    data : Dataframe\\n\\n    Return\\n    ------\\n    X_res : undersampled data; Dataframe\\n    y_res : undersampled labels; Dataframe\\n\\n    \\\"\\\"\\\"\\n    # Create X and y\\n    X = data.loc[:, data.columns != \\\"target\\\"]\\n    y = data.loc[:, data.columns == \\\"target\\\"]\\n\\n    return X, y\";\n",
       "                var nbb_cells = Jupyter.notebook.get_cells();\n",
       "                for (var i = 0; i < nbb_cells.length; ++i) {\n",
       "                    if (nbb_cells[i].input_prompt_number == nbb_cell_id) {\n",
       "                        if (nbb_cells[i].get_text() == nbb_unformatted_code) {\n",
       "                             nbb_cells[i].set_text(nbb_formatted_code);\n",
       "                        }\n",
       "                        break;\n",
       "                    }\n",
       "                }\n",
       "            }, 500);\n",
       "            "
      ],
      "text/plain": [
       "<IPython.core.display.Javascript object>"
      ]
     },
     "metadata": {},
     "output_type": "display_data"
    }
   ],
   "source": [
    "def create_X_y(data):\n",
    "    \"\"\"\n",
    "    Undersample the data\n",
    "\n",
    "    Parameters\n",
    "    ----------\n",
    "    data : Dataframe\n",
    "\n",
    "    Return\n",
    "    ------\n",
    "    X_res : undersampled data; Dataframe\n",
    "    y_res : undersampled labels; Dataframe\n",
    "\n",
    "    \"\"\"\n",
    "    # Create X and y\n",
    "    X = data.loc[:, data.columns != \"target\"]\n",
    "    y = data.loc[:, data.columns == \"target\"]\n",
    "\n",
    "    return X, y"
   ]
  },
  {
   "cell_type": "code",
   "execution_count": 6,
   "metadata": {},
   "outputs": [
    {
     "data": {
      "application/javascript": [
       "\n",
       "            setTimeout(function() {\n",
       "                var nbb_cell_id = 6;\n",
       "                var nbb_unformatted_code = \"def split(X, y):\\n    \\\"\\\"\\\"\\n    Split the data into training and testing sample\\n\\n    Parameters\\n    ----------\\n    X : data\\n    y : labels\\n\\n    Return\\n    ------\\n    X_train : training modelling fields\\n    X_test : test modelling fields\\n    y_train : training labels\\n    y_test : testing labels\\n\\n    \\\"\\\"\\\"\\n    # Train-Test Split\\n    X_train, X_test, y_train, y_test = train_test_split(\\n        X_res, y_res, test_size=0.2, random_state=7\\n    )\\n    columns = X_train.columns\\n\\n    # Columns\\n    X_train = pd.DataFrame(data=X_train, columns=columns)\\n    y_train = pd.DataFrame(data=y_train, columns=[\\\"target\\\"])\\n\\n    return X_train, X_test, y_train, y_test\";\n",
       "                var nbb_formatted_code = \"def split(X, y):\\n    \\\"\\\"\\\"\\n    Split the data into training and testing sample\\n\\n    Parameters\\n    ----------\\n    X : data\\n    y : labels\\n\\n    Return\\n    ------\\n    X_train : training modelling fields\\n    X_test : test modelling fields\\n    y_train : training labels\\n    y_test : testing labels\\n\\n    \\\"\\\"\\\"\\n    # Train-Test Split\\n    X_train, X_test, y_train, y_test = train_test_split(\\n        X_res, y_res, test_size=0.2, random_state=7\\n    )\\n    columns = X_train.columns\\n\\n    # Columns\\n    X_train = pd.DataFrame(data=X_train, columns=columns)\\n    y_train = pd.DataFrame(data=y_train, columns=[\\\"target\\\"])\\n\\n    return X_train, X_test, y_train, y_test\";\n",
       "                var nbb_cells = Jupyter.notebook.get_cells();\n",
       "                for (var i = 0; i < nbb_cells.length; ++i) {\n",
       "                    if (nbb_cells[i].input_prompt_number == nbb_cell_id) {\n",
       "                        if (nbb_cells[i].get_text() == nbb_unformatted_code) {\n",
       "                             nbb_cells[i].set_text(nbb_formatted_code);\n",
       "                        }\n",
       "                        break;\n",
       "                    }\n",
       "                }\n",
       "            }, 500);\n",
       "            "
      ],
      "text/plain": [
       "<IPython.core.display.Javascript object>"
      ]
     },
     "metadata": {},
     "output_type": "display_data"
    }
   ],
   "source": [
    "def split(X, y):\n",
    "    \"\"\"\n",
    "    Split the data into training and testing sample\n",
    "\n",
    "    Parameters\n",
    "    ----------\n",
    "    X : data\n",
    "    y : labels\n",
    "\n",
    "    Return\n",
    "    ------\n",
    "    X_train : training modelling fields\n",
    "    X_test : test modelling fields\n",
    "    y_train : training labels\n",
    "    y_test : testing labels\n",
    "\n",
    "    \"\"\"\n",
    "    # Train-Test Split\n",
    "    X_train, X_test, y_train, y_test = train_test_split(\n",
    "        X_res, y_res, test_size=0.2, random_state=7\n",
    "    )\n",
    "    columns = X_train.columns\n",
    "\n",
    "    # Columns\n",
    "    X_train = pd.DataFrame(data=X_train, columns=columns)\n",
    "    y_train = pd.DataFrame(data=y_train, columns=[\"target\"])\n",
    "\n",
    "    return X_train, X_test, y_train, y_test"
   ]
  },
  {
   "cell_type": "code",
   "execution_count": 7,
   "metadata": {},
   "outputs": [
    {
     "data": {
      "application/javascript": [
       "\n",
       "            setTimeout(function() {\n",
       "                var nbb_cell_id = 7;\n",
       "                var nbb_unformatted_code = \"X_res, y_res = create_X_y(a)\\nX_train, X_test, y_train, y_test = split(X_res, y_res)\\ndfr_test_with_label_X = dfr_test_with_label.loc[:, dfr_test_with_label.columns != \\\"y\\\"]\\ndfr_test_with_label_y = dfr_test_with_label.loc[:, dfr_test_with_label.columns == \\\"y\\\"]\";\n",
       "                var nbb_formatted_code = \"X_res, y_res = create_X_y(a)\\nX_train, X_test, y_train, y_test = split(X_res, y_res)\\ndfr_test_with_label_X = dfr_test_with_label.loc[:, dfr_test_with_label.columns != \\\"y\\\"]\\ndfr_test_with_label_y = dfr_test_with_label.loc[:, dfr_test_with_label.columns == \\\"y\\\"]\";\n",
       "                var nbb_cells = Jupyter.notebook.get_cells();\n",
       "                for (var i = 0; i < nbb_cells.length; ++i) {\n",
       "                    if (nbb_cells[i].input_prompt_number == nbb_cell_id) {\n",
       "                        if (nbb_cells[i].get_text() == nbb_unformatted_code) {\n",
       "                             nbb_cells[i].set_text(nbb_formatted_code);\n",
       "                        }\n",
       "                        break;\n",
       "                    }\n",
       "                }\n",
       "            }, 500);\n",
       "            "
      ],
      "text/plain": [
       "<IPython.core.display.Javascript object>"
      ]
     },
     "metadata": {},
     "output_type": "display_data"
    }
   ],
   "source": [
    "X_res, y_res = create_X_y(a)\n",
    "X_train, X_test, y_train, y_test = split(X_res, y_res)\n",
    "dfr_test_with_label_X = dfr_test_with_label.loc[:, dfr_test_with_label.columns != \"y\"]\n",
    "dfr_test_with_label_y = dfr_test_with_label.loc[:, dfr_test_with_label.columns == \"y\"]"
   ]
  },
  {
   "cell_type": "markdown",
   "metadata": {},
   "source": [
    "## Feature Selection"
   ]
  },
  {
   "cell_type": "markdown",
   "metadata": {},
   "source": [
    "First, we select the features that will end up in the model. The selection of columns below is subject to iteration based on the modelling outcomes from the logistic regression, i.e. significance (p-values)."
   ]
  },
  {
   "cell_type": "code",
   "execution_count": 8,
   "metadata": {},
   "outputs": [
    {
     "data": {
      "application/javascript": [
       "\n",
       "            setTimeout(function() {\n",
       "                var nbb_cell_id = 8;\n",
       "                var nbb_unformatted_code = \"significant_columns = [\\n    \\\"known_col_0\\\",\\n    \\\"known_col_1\\\",\\n    \\\"known_col_3\\\",\\n    \\\"known_col_4\\\",\\n]\";\n",
       "                var nbb_formatted_code = \"significant_columns = [\\n    \\\"known_col_0\\\",\\n    \\\"known_col_1\\\",\\n    \\\"known_col_3\\\",\\n    \\\"known_col_4\\\",\\n]\";\n",
       "                var nbb_cells = Jupyter.notebook.get_cells();\n",
       "                for (var i = 0; i < nbb_cells.length; ++i) {\n",
       "                    if (nbb_cells[i].input_prompt_number == nbb_cell_id) {\n",
       "                        if (nbb_cells[i].get_text() == nbb_unformatted_code) {\n",
       "                             nbb_cells[i].set_text(nbb_formatted_code);\n",
       "                        }\n",
       "                        break;\n",
       "                    }\n",
       "                }\n",
       "            }, 500);\n",
       "            "
      ],
      "text/plain": [
       "<IPython.core.display.Javascript object>"
      ]
     },
     "metadata": {},
     "output_type": "display_data"
    }
   ],
   "source": [
    "significant_columns = [\n",
    "    \"known_col_0\",\n",
    "    \"known_col_1\",\n",
    "    \"known_col_3\",\n",
    "    \"known_col_4\",\n",
    "]"
   ]
  },
  {
   "cell_type": "code",
   "execution_count": 9,
   "metadata": {},
   "outputs": [
    {
     "data": {
      "application/javascript": [
       "\n",
       "            setTimeout(function() {\n",
       "                var nbb_cell_id = 9;\n",
       "                var nbb_unformatted_code = \"# Primary datasets\\nX_train = X_train[significant_columns]\\nX_test = X_test[significant_columns]\\nr_dev = r_dev[significant_columns]\\nr_test = r_test[significant_columns]\";\n",
       "                var nbb_formatted_code = \"# Primary datasets\\nX_train = X_train[significant_columns]\\nX_test = X_test[significant_columns]\\nr_dev = r_dev[significant_columns]\\nr_test = r_test[significant_columns]\";\n",
       "                var nbb_cells = Jupyter.notebook.get_cells();\n",
       "                for (var i = 0; i < nbb_cells.length; ++i) {\n",
       "                    if (nbb_cells[i].input_prompt_number == nbb_cell_id) {\n",
       "                        if (nbb_cells[i].get_text() == nbb_unformatted_code) {\n",
       "                             nbb_cells[i].set_text(nbb_formatted_code);\n",
       "                        }\n",
       "                        break;\n",
       "                    }\n",
       "                }\n",
       "            }, 500);\n",
       "            "
      ],
      "text/plain": [
       "<IPython.core.display.Javascript object>"
      ]
     },
     "metadata": {},
     "output_type": "display_data"
    }
   ],
   "source": [
    "# Primary datasets\n",
    "X_train = X_train[significant_columns]\n",
    "X_test = X_test[significant_columns]\n",
    "r_dev = r_dev[significant_columns]\n",
    "r_test = r_test[significant_columns]"
   ]
  },
  {
   "cell_type": "code",
   "execution_count": 10,
   "metadata": {},
   "outputs": [
    {
     "name": "stdout",
     "output_type": "stream",
     "text": [
      "Optimization terminated successfully.\n",
      "         Current function value: 0.058502\n",
      "         Iterations 12\n",
      "                         Results: Logit\n",
      "================================================================\n",
      "Model:              Logit            Pseudo R-squared: 0.826    \n",
      "Dependent Variable: target           AIC:              1507.6555\n",
      "Date:               2021-05-19 23:52 BIC:              1544.9415\n",
      "No. Observations:   12800            Log-Likelihood:   -748.83  \n",
      "Df Model:           4                LL-Null:          -4295.6  \n",
      "Df Residuals:       12795            LLR p-value:      0.0000   \n",
      "Converged:          1.0000           Scale:            1.0000   \n",
      "No. Iterations:     12.0000                                     \n",
      "----------------------------------------------------------------\n",
      "              Coef.   Std.Err.    z     P>|z|   [0.025   0.975] \n",
      "----------------------------------------------------------------\n",
      "const        -13.3127   0.4849 -27.4539 0.0000 -14.2631 -12.3623\n",
      "known_col_0   -1.8920   0.0970 -19.4977 0.0000  -2.0822  -1.7018\n",
      "known_col_1    9.4761   0.3522  26.9043 0.0000   8.7858  10.1665\n",
      "known_col_3   -1.6384   0.0791 -20.7216 0.0000  -1.7933  -1.4834\n",
      "known_col_4    2.8086   0.1225  22.9294 0.0000   2.5685   3.0486\n",
      "================================================================\n",
      "\n"
     ]
    },
    {
     "data": {
      "application/javascript": [
       "\n",
       "            setTimeout(function() {\n",
       "                var nbb_cell_id = 10;\n",
       "                var nbb_unformatted_code = \"# Build Logistic regression\\n# Statmodels\\nX_in = sm.add_constant(X_train.astype(float))\\nlogit_model = sm.Logit(y_train, X_in)\\nresult3 = logit_model.fit()\\nprint(result3.summary2())\";\n",
       "                var nbb_formatted_code = \"# Build Logistic regression\\n# Statmodels\\nX_in = sm.add_constant(X_train.astype(float))\\nlogit_model = sm.Logit(y_train, X_in)\\nresult3 = logit_model.fit()\\nprint(result3.summary2())\";\n",
       "                var nbb_cells = Jupyter.notebook.get_cells();\n",
       "                for (var i = 0; i < nbb_cells.length; ++i) {\n",
       "                    if (nbb_cells[i].input_prompt_number == nbb_cell_id) {\n",
       "                        if (nbb_cells[i].get_text() == nbb_unformatted_code) {\n",
       "                             nbb_cells[i].set_text(nbb_formatted_code);\n",
       "                        }\n",
       "                        break;\n",
       "                    }\n",
       "                }\n",
       "            }, 500);\n",
       "            "
      ],
      "text/plain": [
       "<IPython.core.display.Javascript object>"
      ]
     },
     "metadata": {},
     "output_type": "display_data"
    }
   ],
   "source": [
    "# Build Logistic regression\n",
    "# Statmodels\n",
    "X_in = sm.add_constant(X_train.astype(float))\n",
    "logit_model = sm.Logit(y_train, X_in)\n",
    "result3 = logit_model.fit()\n",
    "print(result3.summary2())"
   ]
  },
  {
   "cell_type": "code",
   "execution_count": 11,
   "metadata": {},
   "outputs": [
    {
     "data": {
      "application/javascript": [
       "\n",
       "            setTimeout(function() {\n",
       "                var nbb_cell_id = 11;\n",
       "                var nbb_unformatted_code = \"# Calculate Default Rates\\ndr = len(y_test[y_test[\\\"target\\\"] == 1]) / (\\n    len(y_test[y_test[\\\"target\\\"] == 1]) + len(y_test[y_test[\\\"target\\\"] == 0])\\n)\\nconservative_dr = (\\n    1.1\\n    * len(y_test[y_test[\\\"target\\\"] == 1])\\n    / (len(y_test[y_test[\\\"target\\\"] == 1]) + len(y_test[y_test[\\\"target\\\"] == 0]))\\n)\";\n",
       "                var nbb_formatted_code = \"# Calculate Default Rates\\ndr = len(y_test[y_test[\\\"target\\\"] == 1]) / (\\n    len(y_test[y_test[\\\"target\\\"] == 1]) + len(y_test[y_test[\\\"target\\\"] == 0])\\n)\\nconservative_dr = (\\n    1.1\\n    * len(y_test[y_test[\\\"target\\\"] == 1])\\n    / (len(y_test[y_test[\\\"target\\\"] == 1]) + len(y_test[y_test[\\\"target\\\"] == 0]))\\n)\";\n",
       "                var nbb_cells = Jupyter.notebook.get_cells();\n",
       "                for (var i = 0; i < nbb_cells.length; ++i) {\n",
       "                    if (nbb_cells[i].input_prompt_number == nbb_cell_id) {\n",
       "                        if (nbb_cells[i].get_text() == nbb_unformatted_code) {\n",
       "                             nbb_cells[i].set_text(nbb_formatted_code);\n",
       "                        }\n",
       "                        break;\n",
       "                    }\n",
       "                }\n",
       "            }, 500);\n",
       "            "
      ],
      "text/plain": [
       "<IPython.core.display.Javascript object>"
      ]
     },
     "metadata": {},
     "output_type": "display_data"
    }
   ],
   "source": [
    "# Calculate Default Rates\n",
    "dr = len(y_test[y_test[\"target\"] == 1]) / (\n",
    "    len(y_test[y_test[\"target\"] == 1]) + len(y_test[y_test[\"target\"] == 0])\n",
    ")\n",
    "conservative_dr = (\n",
    "    1.1\n",
    "    * len(y_test[y_test[\"target\"] == 1])\n",
    "    / (len(y_test[y_test[\"target\"] == 1]) + len(y_test[y_test[\"target\"] == 0]))\n",
    ")"
   ]
  },
  {
   "cell_type": "markdown",
   "metadata": {},
   "source": [
    "## Isolation Forest"
   ]
  },
  {
   "cell_type": "markdown",
   "metadata": {},
   "source": [
    "For rejects, another step of data preporcessing is applied via Isolation Forest model. The goal is to remove outliers. The isolation forest is trained on all accepts and is used to evaluate the similarity of the rejects. Then the rejects that are found to be the most and least similar to the accepts are dropped. The contaimination parameter determines how many observations are excluded."
   ]
  },
  {
   "cell_type": "code",
   "execution_count": 12,
   "metadata": {},
   "outputs": [
    {
     "data": {
      "application/javascript": [
       "\n",
       "            setTimeout(function() {\n",
       "                var nbb_cell_id = 12;\n",
       "                var nbb_unformatted_code = \"# def isolation_forest(X_train, r_dev, r_test):\\n#     \\\"\\\"\\\"\\n#     The goal of this function is to filter the outliers from the rejected sample.\\n\\n#     Parameters\\n#     ----------\\n#     X_train: accepts training data; Dataframe\\n#     r_dev_mod: rejects modelling data prior outlier treatment; Dataframe\\n#     r_test_mod: rejects testinf data prior outlier treatment; Dataframe\\n\\n#     Return\\n#     ------\\n#     r_dev_mod: rejects modelling data post outlier treatment; Dataframe\\n#     r_test_mod: rejects training data prior outlier treatment; Dataframe\\n\\n#     \\\"\\\"\\\"\\n\\n#     # Build Isolation forest model\\n#     isf = IsolationForest(\\n#         n_estimators=50,\\n#         max_samples=\\\"auto\\\",\\n#         contamination=float(0.005),\\n#         max_features=1.0,\\n#     )\\n#     isf.fit(X_train)\\n#     rej_isf = isf.predict(r_dev)\\n#     # Add scores and anomaly columns to rejected train\\n#     r_dev[\\\"scores\\\"] = isf.decision_function(r_dev)\\n#     r_dev[\\\"anomaly\\\"] = isf.predict(r_dev[significant_columns])\\n#     # Print number of non-outliers and outliers\\n#     print(\\\"Rejected Train. Number of non-outliers is:\\\", np.sum(r_dev[\\\"anomaly\\\"] == 1))\\n#     print(\\\"Rejected Train. Number of outliers is:\\\", np.sum(r_dev[\\\"anomaly\\\"] == -1))\\n#     # Drop all outliers\\n#     r_dev = r_dev[r_dev.anomaly != -1]\\n#     # Delete columns related to the outliers\\n#     r_dev = r_dev[significant_columns]\\n\\n#     # Add scores and anomaly columns to rejected test\\n#     r_test[\\\"scores\\\"] = isf.decision_function(r_test)\\n#     r_test[\\\"anomaly\\\"] = isf.predict(r_test[significant_columns])\\n#     # Print number of non-outliers and outliers\\n#     print(\\\"Rejected Test. Number of non-outliers is:\\\", np.sum(r_test[\\\"anomaly\\\"] == 1))\\n#     print(\\\"Rejected Test. Number of outliers is:\\\", np.sum(r_test[\\\"anomaly\\\"] == -1))\\n#     # Drop all outliers\\n#     r_test = r_test[r_test.anomaly != -1]\\n#     # Delete columns related to the outliers\\n#     r_test = r_test[significant_columns]\\n\\n#     return r_dev, r_test\";\n",
       "                var nbb_formatted_code = \"# def isolation_forest(X_train, r_dev, r_test):\\n#     \\\"\\\"\\\"\\n#     The goal of this function is to filter the outliers from the rejected sample.\\n\\n#     Parameters\\n#     ----------\\n#     X_train: accepts training data; Dataframe\\n#     r_dev_mod: rejects modelling data prior outlier treatment; Dataframe\\n#     r_test_mod: rejects testinf data prior outlier treatment; Dataframe\\n\\n#     Return\\n#     ------\\n#     r_dev_mod: rejects modelling data post outlier treatment; Dataframe\\n#     r_test_mod: rejects training data prior outlier treatment; Dataframe\\n\\n#     \\\"\\\"\\\"\\n\\n#     # Build Isolation forest model\\n#     isf = IsolationForest(\\n#         n_estimators=50,\\n#         max_samples=\\\"auto\\\",\\n#         contamination=float(0.005),\\n#         max_features=1.0,\\n#     )\\n#     isf.fit(X_train)\\n#     rej_isf = isf.predict(r_dev)\\n#     # Add scores and anomaly columns to rejected train\\n#     r_dev[\\\"scores\\\"] = isf.decision_function(r_dev)\\n#     r_dev[\\\"anomaly\\\"] = isf.predict(r_dev[significant_columns])\\n#     # Print number of non-outliers and outliers\\n#     print(\\\"Rejected Train. Number of non-outliers is:\\\", np.sum(r_dev[\\\"anomaly\\\"] == 1))\\n#     print(\\\"Rejected Train. Number of outliers is:\\\", np.sum(r_dev[\\\"anomaly\\\"] == -1))\\n#     # Drop all outliers\\n#     r_dev = r_dev[r_dev.anomaly != -1]\\n#     # Delete columns related to the outliers\\n#     r_dev = r_dev[significant_columns]\\n\\n#     # Add scores and anomaly columns to rejected test\\n#     r_test[\\\"scores\\\"] = isf.decision_function(r_test)\\n#     r_test[\\\"anomaly\\\"] = isf.predict(r_test[significant_columns])\\n#     # Print number of non-outliers and outliers\\n#     print(\\\"Rejected Test. Number of non-outliers is:\\\", np.sum(r_test[\\\"anomaly\\\"] == 1))\\n#     print(\\\"Rejected Test. Number of outliers is:\\\", np.sum(r_test[\\\"anomaly\\\"] == -1))\\n#     # Drop all outliers\\n#     r_test = r_test[r_test.anomaly != -1]\\n#     # Delete columns related to the outliers\\n#     r_test = r_test[significant_columns]\\n\\n#     return r_dev, r_test\";\n",
       "                var nbb_cells = Jupyter.notebook.get_cells();\n",
       "                for (var i = 0; i < nbb_cells.length; ++i) {\n",
       "                    if (nbb_cells[i].input_prompt_number == nbb_cell_id) {\n",
       "                        if (nbb_cells[i].get_text() == nbb_unformatted_code) {\n",
       "                             nbb_cells[i].set_text(nbb_formatted_code);\n",
       "                        }\n",
       "                        break;\n",
       "                    }\n",
       "                }\n",
       "            }, 500);\n",
       "            "
      ],
      "text/plain": [
       "<IPython.core.display.Javascript object>"
      ]
     },
     "metadata": {},
     "output_type": "display_data"
    }
   ],
   "source": [
    "# def isolation_forest(X_train, r_dev, r_test):\n",
    "#     \"\"\"\n",
    "#     The goal of this function is to filter the outliers from the rejected sample.\n",
    "\n",
    "#     Parameters\n",
    "#     ----------\n",
    "#     X_train: accepts training data; Dataframe\n",
    "#     r_dev_mod: rejects modelling data prior outlier treatment; Dataframe\n",
    "#     r_test_mod: rejects testinf data prior outlier treatment; Dataframe\n",
    "\n",
    "#     Return\n",
    "#     ------\n",
    "#     r_dev_mod: rejects modelling data post outlier treatment; Dataframe\n",
    "#     r_test_mod: rejects training data prior outlier treatment; Dataframe\n",
    "\n",
    "#     \"\"\"\n",
    "\n",
    "#     # Build Isolation forest model\n",
    "#     isf = IsolationForest(\n",
    "#         n_estimators=50,\n",
    "#         max_samples=\"auto\",\n",
    "#         contamination=float(0.005),\n",
    "#         max_features=1.0,\n",
    "#     )\n",
    "#     isf.fit(X_train)\n",
    "#     rej_isf = isf.predict(r_dev)\n",
    "#     # Add scores and anomaly columns to rejected train\n",
    "#     r_dev[\"scores\"] = isf.decision_function(r_dev)\n",
    "#     r_dev[\"anomaly\"] = isf.predict(r_dev[significant_columns])\n",
    "#     # Print number of non-outliers and outliers\n",
    "#     print(\"Rejected Train. Number of non-outliers is:\", np.sum(r_dev[\"anomaly\"] == 1))\n",
    "#     print(\"Rejected Train. Number of outliers is:\", np.sum(r_dev[\"anomaly\"] == -1))\n",
    "#     # Drop all outliers\n",
    "#     r_dev = r_dev[r_dev.anomaly != -1]\n",
    "#     # Delete columns related to the outliers\n",
    "#     r_dev = r_dev[significant_columns]\n",
    "\n",
    "#     # Add scores and anomaly columns to rejected test\n",
    "#     r_test[\"scores\"] = isf.decision_function(r_test)\n",
    "#     r_test[\"anomaly\"] = isf.predict(r_test[significant_columns])\n",
    "#     # Print number of non-outliers and outliers\n",
    "#     print(\"Rejected Test. Number of non-outliers is:\", np.sum(r_test[\"anomaly\"] == 1))\n",
    "#     print(\"Rejected Test. Number of outliers is:\", np.sum(r_test[\"anomaly\"] == -1))\n",
    "#     # Drop all outliers\n",
    "#     r_test = r_test[r_test.anomaly != -1]\n",
    "#     # Delete columns related to the outliers\n",
    "#     r_test = r_test[significant_columns]\n",
    "\n",
    "#     return r_dev, r_test"
   ]
  },
  {
   "cell_type": "code",
   "execution_count": 13,
   "metadata": {},
   "outputs": [
    {
     "data": {
      "application/javascript": [
       "\n",
       "            setTimeout(function() {\n",
       "                var nbb_cell_id = 13;\n",
       "                var nbb_unformatted_code = \"# r_dev, r_test = isolation_forest(X_train, r_dev, r_test)\";\n",
       "                var nbb_formatted_code = \"# r_dev, r_test = isolation_forest(X_train, r_dev, r_test)\";\n",
       "                var nbb_cells = Jupyter.notebook.get_cells();\n",
       "                for (var i = 0; i < nbb_cells.length; ++i) {\n",
       "                    if (nbb_cells[i].input_prompt_number == nbb_cell_id) {\n",
       "                        if (nbb_cells[i].get_text() == nbb_unformatted_code) {\n",
       "                             nbb_cells[i].set_text(nbb_formatted_code);\n",
       "                        }\n",
       "                        break;\n",
       "                    }\n",
       "                }\n",
       "            }, 500);\n",
       "            "
      ],
      "text/plain": [
       "<IPython.core.display.Javascript object>"
      ]
     },
     "metadata": {},
     "output_type": "display_data"
    }
   ],
   "source": [
    "# r_dev, r_test = isolation_forest(X_train, r_dev, r_test)"
   ]
  },
  {
   "cell_type": "markdown",
   "metadata": {},
   "source": [
    "## Self Training for the Most Certain examples with Max F1 score as stopping criteria"
   ]
  },
  {
   "cell_type": "code",
   "execution_count": 14,
   "metadata": {},
   "outputs": [
    {
     "data": {
      "application/javascript": [
       "\n",
       "            setTimeout(function() {\n",
       "                var nbb_cell_id = 14;\n",
       "                var nbb_unformatted_code = \"# Create copies of the data that can be overwritten in the function below\\nX_train_iter = X_train.copy()\\ny_train_iter = y_train.copy()\\nr_dev_iter = r_dev.copy()\";\n",
       "                var nbb_formatted_code = \"# Create copies of the data that can be overwritten in the function below\\nX_train_iter = X_train.copy()\\ny_train_iter = y_train.copy()\\nr_dev_iter = r_dev.copy()\";\n",
       "                var nbb_cells = Jupyter.notebook.get_cells();\n",
       "                for (var i = 0; i < nbb_cells.length; ++i) {\n",
       "                    if (nbb_cells[i].input_prompt_number == nbb_cell_id) {\n",
       "                        if (nbb_cells[i].get_text() == nbb_unformatted_code) {\n",
       "                             nbb_cells[i].set_text(nbb_formatted_code);\n",
       "                        }\n",
       "                        break;\n",
       "                    }\n",
       "                }\n",
       "            }, 500);\n",
       "            "
      ],
      "text/plain": [
       "<IPython.core.display.Javascript object>"
      ]
     },
     "metadata": {},
     "output_type": "display_data"
    }
   ],
   "source": [
    "# Create copies of the data that can be overwritten in the function below\n",
    "X_train_iter = X_train.copy()\n",
    "y_train_iter = y_train.copy()\n",
    "r_dev_iter = r_dev.copy()"
   ]
  },
  {
   "cell_type": "code",
   "execution_count": 15,
   "metadata": {
    "scrolled": true
   },
   "outputs": [
    {
     "name": "stdout",
     "output_type": "stream",
     "text": [
      "Iteration Nr 1\n",
      "F1:  0.5221053350386908\n",
      "Iteration Nr 2\n",
      "F1:  0.5217587257899915\n",
      "Iteration Nr 3\n",
      "F1:  0.5224520429420242\n",
      "Iteration Nr 4\n",
      "F1:  0.5224520429420242\n",
      "Iteration Nr 5\n",
      "F1:  0.5221053350386908\n",
      "Iteration Nr 6\n",
      "F1:  0.5224520429420242\n",
      "Iteration Nr 7\n",
      "F1:  0.5221053350386908\n",
      "Iteration Nr 8\n",
      "F1:  0.5214122153033838\n",
      "Iteration Nr 9\n",
      "F1:  0.5217587257899915\n",
      "Iteration Nr 10\n",
      "F1:  0.5214122153033838\n",
      "Iteration Nr 11\n",
      "F1:  0.5207194910463432\n",
      "Iteration Nr 12\n",
      "F1:  0.5196811480637039\n",
      "Iteration Nr 13\n",
      "F1:  0.5196811480637039\n",
      "Iteration Nr 14\n",
      "F1:  0.5196811480637039\n",
      "Iteration Nr 15\n",
      "F1:  0.5196811480637039\n",
      "Iteration Nr 16\n",
      "F1:  0.5203732774908939\n",
      "Iteration Nr 17\n",
      "F1:  0.5196811480637039\n",
      "Iteration Nr 18\n",
      "F1:  0.5200271631275051\n",
      "Iteration Nr 19\n",
      "F1:  0.5196811480637039\n",
      "Iteration Nr 20\n",
      "F1:  0.5203732774908939\n",
      "Iteration Nr 21\n",
      "F1:  0.5214122153033838\n",
      "Iteration Nr 22\n",
      "F1:  0.5217587257899915\n",
      "Iteration Nr 23\n",
      "F1:  0.5217587257899915\n",
      "Iteration Nr 24\n",
      "F1:  0.5214122153033838\n"
     ]
    },
    {
     "data": {
      "application/javascript": [
       "\n",
       "            setTimeout(function() {\n",
       "                var nbb_cell_id = 15;\n",
       "                var nbb_unformatted_code = \"# Add more scores that you want to track\\nf1_scores = []\\niterations = []\\n# log_losses = []\\n\\nfor iteration in range(1, 25):  # Change to how many iterrations you like\\n    print(\\\"Iteration Nr {}\\\".format(iteration))\\n    # Build logistic regression\\n    KGB1 = LogisticRegression(fit_intercept=False, penalty=\\\"none\\\").fit(\\n        X_train_iter, y_train_iter\\n    )\\n    # KGB1 = RandomForestClassifier().fit(X_train_iter, y_train_iter)\\n    f1_stat = f1_score(KGB1.predict(X_test), y_test, average=\\\"weighted\\\")\\n    f1_scores.append(f1_stat)\\n\\n    #     logloss = log_loss(KGB1.predict(X_test), y_test, eps=1e-15)\\n    #     log_losses.append(log_losses)\\n    print(\\\"F1: \\\", f1_stat)\\n    # print(\\\"Log Loss: \\\", logloss)\\n    # Make predictions on the rejected data\\n    pred = KGB1.predict_proba(r_dev_iter)[:, 1]\\n    pred = pd.DataFrame(\\n        data=pred,\\n        columns=[\\\"target\\\"],\\n        index=r_dev_iter.index.copy(),\\n    )\\n\\n    # Choose the most certain predictions\\n    lq = pred[\\\"target\\\"].quantile(q=0.05)\\n    uq = pred[\\\"target\\\"].quantile(q=0.95)\\n    pred[\\\"certain\\\"] = pred[\\\"target\\\"].apply(lambda x: 1 if (x < lq or x > uq) else 0)\\n\\n    # If PD is high, apply default status\\n    pred[\\\"target\\\"] = pred[\\\"target\\\"].apply(lambda x: 1 if (x > uq) else 0)\\n\\n    # Pick only the certain predictions and concatenate them to the dev set\\n    # Y TRAIN\\n    certain = pred[pred[\\\"certain\\\"] == 1]\\n    certain2 = certain[\\\"target\\\"].to_frame()\\n    y_train_iter = pd.concat((y_train_iter, certain2))\\n\\n    # Get significant columns of the rejects based on index\\n    certain_features = pd.merge(\\n        certain[\\\"target\\\"],\\n        r_dev_iter[significant_columns],\\n        how=\\\"inner\\\",\\n        left_index=True,\\n        right_index=True,\\n    )\\n\\n    # X TRAIN\\n    certain_features = certain_features.loc[:, certain_features.columns != \\\"target\\\"]\\n    X_train_iter = pd.concat((X_train_iter, certain_features))\\n\\n    # Remove certain columns from rejected data\\n    rows = certain_features.index\\n    r_dev_iter = r_dev_iter.drop(rows, axis=\\\"index\\\")\";\n",
       "                var nbb_formatted_code = \"# Add more scores that you want to track\\nf1_scores = []\\niterations = []\\n# log_losses = []\\n\\nfor iteration in range(1, 25):  # Change to how many iterrations you like\\n    print(\\\"Iteration Nr {}\\\".format(iteration))\\n    # Build logistic regression\\n    KGB1 = LogisticRegression(fit_intercept=False, penalty=\\\"none\\\").fit(\\n        X_train_iter, y_train_iter\\n    )\\n    # KGB1 = RandomForestClassifier().fit(X_train_iter, y_train_iter)\\n    f1_stat = f1_score(KGB1.predict(X_test), y_test, average=\\\"weighted\\\")\\n    f1_scores.append(f1_stat)\\n\\n    #     logloss = log_loss(KGB1.predict(X_test), y_test, eps=1e-15)\\n    #     log_losses.append(log_losses)\\n    print(\\\"F1: \\\", f1_stat)\\n    # print(\\\"Log Loss: \\\", logloss)\\n    # Make predictions on the rejected data\\n    pred = KGB1.predict_proba(r_dev_iter)[:, 1]\\n    pred = pd.DataFrame(\\n        data=pred,\\n        columns=[\\\"target\\\"],\\n        index=r_dev_iter.index.copy(),\\n    )\\n\\n    # Choose the most certain predictions\\n    lq = pred[\\\"target\\\"].quantile(q=0.05)\\n    uq = pred[\\\"target\\\"].quantile(q=0.95)\\n    pred[\\\"certain\\\"] = pred[\\\"target\\\"].apply(lambda x: 1 if (x < lq or x > uq) else 0)\\n\\n    # If PD is high, apply default status\\n    pred[\\\"target\\\"] = pred[\\\"target\\\"].apply(lambda x: 1 if (x > uq) else 0)\\n\\n    # Pick only the certain predictions and concatenate them to the dev set\\n    # Y TRAIN\\n    certain = pred[pred[\\\"certain\\\"] == 1]\\n    certain2 = certain[\\\"target\\\"].to_frame()\\n    y_train_iter = pd.concat((y_train_iter, certain2))\\n\\n    # Get significant columns of the rejects based on index\\n    certain_features = pd.merge(\\n        certain[\\\"target\\\"],\\n        r_dev_iter[significant_columns],\\n        how=\\\"inner\\\",\\n        left_index=True,\\n        right_index=True,\\n    )\\n\\n    # X TRAIN\\n    certain_features = certain_features.loc[:, certain_features.columns != \\\"target\\\"]\\n    X_train_iter = pd.concat((X_train_iter, certain_features))\\n\\n    # Remove certain columns from rejected data\\n    rows = certain_features.index\\n    r_dev_iter = r_dev_iter.drop(rows, axis=\\\"index\\\")\";\n",
       "                var nbb_cells = Jupyter.notebook.get_cells();\n",
       "                for (var i = 0; i < nbb_cells.length; ++i) {\n",
       "                    if (nbb_cells[i].input_prompt_number == nbb_cell_id) {\n",
       "                        if (nbb_cells[i].get_text() == nbb_unformatted_code) {\n",
       "                             nbb_cells[i].set_text(nbb_formatted_code);\n",
       "                        }\n",
       "                        break;\n",
       "                    }\n",
       "                }\n",
       "            }, 500);\n",
       "            "
      ],
      "text/plain": [
       "<IPython.core.display.Javascript object>"
      ]
     },
     "metadata": {},
     "output_type": "display_data"
    }
   ],
   "source": [
    "# Add more scores that you want to track\n",
    "f1_scores = []\n",
    "iterations = []\n",
    "# log_losses = []\n",
    "\n",
    "for iteration in range(1, 25):  # Change to how many iterrations you like\n",
    "    print(\"Iteration Nr {}\".format(iteration))\n",
    "    # Build logistic regression\n",
    "    KGB1 = LogisticRegression(fit_intercept=False, penalty=\"none\").fit(\n",
    "        X_train_iter, y_train_iter\n",
    "    )\n",
    "    # KGB1 = RandomForestClassifier().fit(X_train_iter, y_train_iter)\n",
    "    f1_stat = f1_score(KGB1.predict(X_test), y_test, average=\"weighted\")\n",
    "    f1_scores.append(f1_stat)\n",
    "\n",
    "    #     logloss = log_loss(KGB1.predict(X_test), y_test, eps=1e-15)\n",
    "    #     log_losses.append(log_losses)\n",
    "    print(\"F1: \", f1_stat)\n",
    "    # print(\"Log Loss: \", logloss)\n",
    "    # Make predictions on the rejected data\n",
    "    pred = KGB1.predict_proba(r_dev_iter)[:, 1]\n",
    "    pred = pd.DataFrame(\n",
    "        data=pred,\n",
    "        columns=[\"target\"],\n",
    "        index=r_dev_iter.index.copy(),\n",
    "    )\n",
    "\n",
    "    # Choose the most certain predictions\n",
    "    lq = pred[\"target\"].quantile(q=0.05)\n",
    "    uq = pred[\"target\"].quantile(q=0.95)\n",
    "    pred[\"certain\"] = pred[\"target\"].apply(lambda x: 1 if (x < lq or x > uq) else 0)\n",
    "\n",
    "    # If PD is high, apply default status\n",
    "    pred[\"target\"] = pred[\"target\"].apply(lambda x: 1 if (x > uq) else 0)\n",
    "\n",
    "    # Pick only the certain predictions and concatenate them to the dev set\n",
    "    # Y TRAIN\n",
    "    certain = pred[pred[\"certain\"] == 1]\n",
    "    certain2 = certain[\"target\"].to_frame()\n",
    "    y_train_iter = pd.concat((y_train_iter, certain2))\n",
    "\n",
    "    # Get significant columns of the rejects based on index\n",
    "    certain_features = pd.merge(\n",
    "        certain[\"target\"],\n",
    "        r_dev_iter[significant_columns],\n",
    "        how=\"inner\",\n",
    "        left_index=True,\n",
    "        right_index=True,\n",
    "    )\n",
    "\n",
    "    # X TRAIN\n",
    "    certain_features = certain_features.loc[:, certain_features.columns != \"target\"]\n",
    "    X_train_iter = pd.concat((X_train_iter, certain_features))\n",
    "\n",
    "    # Remove certain columns from rejected data\n",
    "    rows = certain_features.index\n",
    "    r_dev_iter = r_dev_iter.drop(rows, axis=\"index\")"
   ]
  },
  {
   "cell_type": "code",
   "execution_count": 16,
   "metadata": {},
   "outputs": [
    {
     "data": {
      "text/plain": [
       "[<matplotlib.lines.Line2D at 0x2471b1ae7c0>]"
      ]
     },
     "execution_count": 16,
     "metadata": {},
     "output_type": "execute_result"
    },
    {
     "data": {
      "image/png": "[encoded data removed]",
      "text/plain": [
       "<Figure size 432x288 with 1 Axes>"
      ]
     },
     "metadata": {
      "needs_background": "light"
     },
     "output_type": "display_data"
    },
    {
     "data": {
      "application/javascript": [
       "\n",
       "            setTimeout(function() {\n",
       "                var nbb_cell_id = 16;\n",
       "                var nbb_unformatted_code = \"plt.plot(f1_scores, label=\\\"F1 Scores\\\")\";\n",
       "                var nbb_formatted_code = \"plt.plot(f1_scores, label=\\\"F1 Scores\\\")\";\n",
       "                var nbb_cells = Jupyter.notebook.get_cells();\n",
       "                for (var i = 0; i < nbb_cells.length; ++i) {\n",
       "                    if (nbb_cells[i].input_prompt_number == nbb_cell_id) {\n",
       "                        if (nbb_cells[i].get_text() == nbb_unformatted_code) {\n",
       "                             nbb_cells[i].set_text(nbb_formatted_code);\n",
       "                        }\n",
       "                        break;\n",
       "                    }\n",
       "                }\n",
       "            }, 500);\n",
       "            "
      ],
      "text/plain": [
       "<IPython.core.display.Javascript object>"
      ]
     },
     "metadata": {},
     "output_type": "display_data"
    }
   ],
   "source": [
    "plt.plot(f1_scores, label=\"F1 Scores\")"
   ]
  },
  {
   "cell_type": "code",
   "execution_count": 17,
   "metadata": {},
   "outputs": [
    {
     "data": {
      "application/javascript": [
       "\n",
       "            setTimeout(function() {\n",
       "                var nbb_cell_id = 17;\n",
       "                var nbb_unformatted_code = \"# Save the iteration of the model where max score is reached\\nmax_value = max(f1_scores)\\nmax_index = f1_scores.index(max_value)\";\n",
       "                var nbb_formatted_code = \"# Save the iteration of the model where max score is reached\\nmax_value = max(f1_scores)\\nmax_index = f1_scores.index(max_value)\";\n",
       "                var nbb_cells = Jupyter.notebook.get_cells();\n",
       "                for (var i = 0; i < nbb_cells.length; ++i) {\n",
       "                    if (nbb_cells[i].input_prompt_number == nbb_cell_id) {\n",
       "                        if (nbb_cells[i].get_text() == nbb_unformatted_code) {\n",
       "                             nbb_cells[i].set_text(nbb_formatted_code);\n",
       "                        }\n",
       "                        break;\n",
       "                    }\n",
       "                }\n",
       "            }, 500);\n",
       "            "
      ],
      "text/plain": [
       "<IPython.core.display.Javascript object>"
      ]
     },
     "metadata": {},
     "output_type": "display_data"
    }
   ],
   "source": [
    "# Save the iteration of the model where max score is reached\n",
    "max_value = max(f1_scores)\n",
    "max_index = f1_scores.index(max_value)"
   ]
  },
  {
   "cell_type": "markdown",
   "metadata": {},
   "source": [
    "### Do only 1 iteration as baseline Model"
   ]
  },
  {
   "cell_type": "code",
   "execution_count": 18,
   "metadata": {},
   "outputs": [
    {
     "data": {
      "application/javascript": [
       "\n",
       "            setTimeout(function() {\n",
       "                var nbb_cell_id = 18;\n",
       "                var nbb_unformatted_code = \"# Create copies of the data that can be overwritten in the function below\\nX_train_iter1 = X_train.copy()\\ny_train_iter1 = y_train.copy()\\nr_dev_iter1 = r_dev.copy()\";\n",
       "                var nbb_formatted_code = \"# Create copies of the data that can be overwritten in the function below\\nX_train_iter1 = X_train.copy()\\ny_train_iter1 = y_train.copy()\\nr_dev_iter1 = r_dev.copy()\";\n",
       "                var nbb_cells = Jupyter.notebook.get_cells();\n",
       "                for (var i = 0; i < nbb_cells.length; ++i) {\n",
       "                    if (nbb_cells[i].input_prompt_number == nbb_cell_id) {\n",
       "                        if (nbb_cells[i].get_text() == nbb_unformatted_code) {\n",
       "                             nbb_cells[i].set_text(nbb_formatted_code);\n",
       "                        }\n",
       "                        break;\n",
       "                    }\n",
       "                }\n",
       "            }, 500);\n",
       "            "
      ],
      "text/plain": [
       "<IPython.core.display.Javascript object>"
      ]
     },
     "metadata": {},
     "output_type": "display_data"
    }
   ],
   "source": [
    "# Create copies of the data that can be overwritten in the function below\n",
    "X_train_iter1 = X_train.copy()\n",
    "y_train_iter1 = y_train.copy()\n",
    "r_dev_iter1 = r_dev.copy()"
   ]
  },
  {
   "cell_type": "code",
   "execution_count": 19,
   "metadata": {},
   "outputs": [
    {
     "name": "stdout",
     "output_type": "stream",
     "text": [
      "Iteration Nr 1\n",
      "F1:  0.5221053350386908\n"
     ]
    },
    {
     "data": {
      "application/javascript": [
       "\n",
       "            setTimeout(function() {\n",
       "                var nbb_cell_id = 19;\n",
       "                var nbb_unformatted_code = \"# Add more scores that you want to track\\nf1_scores = []\\niterations = []\\n# log_losses = []\\n\\nfor iteration in range(1, 2):  # Change to how many iterrations you like\\n    print(\\\"Iteration Nr {}\\\".format(iteration))\\n    # Build logistic regression\\n    KGB1 = LogisticRegression(fit_intercept=False, penalty=\\\"none\\\").fit(\\n        X_train_iter1, y_train_iter1\\n    )\\n    # KGB1 = RandomForestClassifier().fit(X_train_iter1, y_train_iter1)\\n    f1_stat = f1_score(KGB1.predict(X_test), y_test, average=\\\"weighted\\\")\\n    f1_scores.append(f1_stat)\\n\\n    #     logloss = log_loss(KGB1.predict(X_test), y_test, eps=1e-15)\\n    #     log_losses.append(log_losses)\\n    print(\\\"F1: \\\", f1_stat)\\n    # print(\\\"Log Loss: \\\", logloss)\\n    # Make predictions on the rejected data\\n    pred = KGB1.predict_proba(r_dev_iter1)[:, 1]\\n    pred = pd.DataFrame(\\n        data=pred,\\n        columns=[\\\"target\\\"],\\n        index=r_dev_iter1.index.copy(),\\n    )\\n\\n    # Choose the most certain predictions\\n    lq = pred[\\\"target\\\"].quantile(q=0.05)\\n    uq = pred[\\\"target\\\"].quantile(q=0.95)\\n    pred[\\\"certain\\\"] = pred[\\\"target\\\"].apply(lambda x: 1 if (x < lq or x > uq) else 0)\\n\\n    # If PD is high, apply default status\\n    pred[\\\"target\\\"] = pred[\\\"target\\\"].apply(lambda x: 1 if (x > uq) else 0)\\n\\n    # Pick only the certain predictions and concatenate them to the dev set\\n    # Y TRAIN\\n    certain = pred[pred[\\\"certain\\\"] == 1]\\n    certain2 = certain[\\\"target\\\"].to_frame()\\n    y_train_iter1 = pd.concat((y_train_iter1, certain2))\\n\\n    # Get significant columns of the rejects based on index\\n    certain_features = pd.merge(\\n        certain[\\\"target\\\"],\\n        r_dev_iter1[significant_columns],\\n        how=\\\"inner\\\",\\n        left_index=True,\\n        right_index=True,\\n    )\\n\\n    # X TRAIN\\n    certain_features = certain_features.loc[:, certain_features.columns != \\\"target\\\"]\\n    X_train_iter1 = pd.concat((X_train_iter1, certain_features))\\n\\n    # Remove certain columns from rejected data\\n    rows = certain_features.index\\n    r_dev_iter1 = r_dev_iter1.drop(rows, axis=\\\"index\\\")\";\n",
       "                var nbb_formatted_code = \"# Add more scores that you want to track\\nf1_scores = []\\niterations = []\\n# log_losses = []\\n\\nfor iteration in range(1, 2):  # Change to how many iterrations you like\\n    print(\\\"Iteration Nr {}\\\".format(iteration))\\n    # Build logistic regression\\n    KGB1 = LogisticRegression(fit_intercept=False, penalty=\\\"none\\\").fit(\\n        X_train_iter1, y_train_iter1\\n    )\\n    # KGB1 = RandomForestClassifier().fit(X_train_iter1, y_train_iter1)\\n    f1_stat = f1_score(KGB1.predict(X_test), y_test, average=\\\"weighted\\\")\\n    f1_scores.append(f1_stat)\\n\\n    #     logloss = log_loss(KGB1.predict(X_test), y_test, eps=1e-15)\\n    #     log_losses.append(log_losses)\\n    print(\\\"F1: \\\", f1_stat)\\n    # print(\\\"Log Loss: \\\", logloss)\\n    # Make predictions on the rejected data\\n    pred = KGB1.predict_proba(r_dev_iter1)[:, 1]\\n    pred = pd.DataFrame(\\n        data=pred,\\n        columns=[\\\"target\\\"],\\n        index=r_dev_iter1.index.copy(),\\n    )\\n\\n    # Choose the most certain predictions\\n    lq = pred[\\\"target\\\"].quantile(q=0.05)\\n    uq = pred[\\\"target\\\"].quantile(q=0.95)\\n    pred[\\\"certain\\\"] = pred[\\\"target\\\"].apply(lambda x: 1 if (x < lq or x > uq) else 0)\\n\\n    # If PD is high, apply default status\\n    pred[\\\"target\\\"] = pred[\\\"target\\\"].apply(lambda x: 1 if (x > uq) else 0)\\n\\n    # Pick only the certain predictions and concatenate them to the dev set\\n    # Y TRAIN\\n    certain = pred[pred[\\\"certain\\\"] == 1]\\n    certain2 = certain[\\\"target\\\"].to_frame()\\n    y_train_iter1 = pd.concat((y_train_iter1, certain2))\\n\\n    # Get significant columns of the rejects based on index\\n    certain_features = pd.merge(\\n        certain[\\\"target\\\"],\\n        r_dev_iter1[significant_columns],\\n        how=\\\"inner\\\",\\n        left_index=True,\\n        right_index=True,\\n    )\\n\\n    # X TRAIN\\n    certain_features = certain_features.loc[:, certain_features.columns != \\\"target\\\"]\\n    X_train_iter1 = pd.concat((X_train_iter1, certain_features))\\n\\n    # Remove certain columns from rejected data\\n    rows = certain_features.index\\n    r_dev_iter1 = r_dev_iter1.drop(rows, axis=\\\"index\\\")\";\n",
       "                var nbb_cells = Jupyter.notebook.get_cells();\n",
       "                for (var i = 0; i < nbb_cells.length; ++i) {\n",
       "                    if (nbb_cells[i].input_prompt_number == nbb_cell_id) {\n",
       "                        if (nbb_cells[i].get_text() == nbb_unformatted_code) {\n",
       "                             nbb_cells[i].set_text(nbb_formatted_code);\n",
       "                        }\n",
       "                        break;\n",
       "                    }\n",
       "                }\n",
       "            }, 500);\n",
       "            "
      ],
      "text/plain": [
       "<IPython.core.display.Javascript object>"
      ]
     },
     "metadata": {},
     "output_type": "display_data"
    }
   ],
   "source": [
    "# Add more scores that you want to track\n",
    "f1_scores = []\n",
    "iterations = []\n",
    "# log_losses = []\n",
    "\n",
    "for iteration in range(1, 2):  # Change to how many iterrations you like\n",
    "    print(\"Iteration Nr {}\".format(iteration))\n",
    "    # Build logistic regression\n",
    "    KGB1 = LogisticRegression(fit_intercept=False, penalty=\"none\").fit(\n",
    "        X_train_iter1, y_train_iter1\n",
    "    )\n",
    "    # KGB1 = RandomForestClassifier().fit(X_train_iter1, y_train_iter1)\n",
    "    f1_stat = f1_score(KGB1.predict(X_test), y_test, average=\"weighted\")\n",
    "    f1_scores.append(f1_stat)\n",
    "\n",
    "    #     logloss = log_loss(KGB1.predict(X_test), y_test, eps=1e-15)\n",
    "    #     log_losses.append(log_losses)\n",
    "    print(\"F1: \", f1_stat)\n",
    "    # print(\"Log Loss: \", logloss)\n",
    "    # Make predictions on the rejected data\n",
    "    pred = KGB1.predict_proba(r_dev_iter1)[:, 1]\n",
    "    pred = pd.DataFrame(\n",
    "        data=pred,\n",
    "        columns=[\"target\"],\n",
    "        index=r_dev_iter1.index.copy(),\n",
    "    )\n",
    "\n",
    "    # Choose the most certain predictions\n",
    "    lq = pred[\"target\"].quantile(q=0.05)\n",
    "    uq = pred[\"target\"].quantile(q=0.95)\n",
    "    pred[\"certain\"] = pred[\"target\"].apply(lambda x: 1 if (x < lq or x > uq) else 0)\n",
    "\n",
    "    # If PD is high, apply default status\n",
    "    pred[\"target\"] = pred[\"target\"].apply(lambda x: 1 if (x > uq) else 0)\n",
    "\n",
    "    # Pick only the certain predictions and concatenate them to the dev set\n",
    "    # Y TRAIN\n",
    "    certain = pred[pred[\"certain\"] == 1]\n",
    "    certain2 = certain[\"target\"].to_frame()\n",
    "    y_train_iter1 = pd.concat((y_train_iter1, certain2))\n",
    "\n",
    "    # Get significant columns of the rejects based on index\n",
    "    certain_features = pd.merge(\n",
    "        certain[\"target\"],\n",
    "        r_dev_iter1[significant_columns],\n",
    "        how=\"inner\",\n",
    "        left_index=True,\n",
    "        right_index=True,\n",
    "    )\n",
    "\n",
    "    # X TRAIN\n",
    "    certain_features = certain_features.loc[:, certain_features.columns != \"target\"]\n",
    "    X_train_iter1 = pd.concat((X_train_iter1, certain_features))\n",
    "\n",
    "    # Remove certain columns from rejected data\n",
    "    rows = certain_features.index\n",
    "    r_dev_iter1 = r_dev_iter1.drop(rows, axis=\"index\")"
   ]
  },
  {
   "cell_type": "code",
   "execution_count": 20,
   "metadata": {},
   "outputs": [
    {
     "data": {
      "application/javascript": [
       "\n",
       "            setTimeout(function() {\n",
       "                var nbb_cell_id = 20;\n",
       "                var nbb_unformatted_code = \"def predict_rejects(model, r_dev):\\n    # Make predictions on the Train Rejects\\n    pred_test = model.predict_proba(r_dev)[:, 1]\\n    pred_test = pd.DataFrame(\\n        data=pred_test,\\n        columns=[\\\"pred\\\"],\\n        index=r_dev.index.copy(),\\n    )\\n\\n    # Make binary predictions based on cutoff DR\\n    q1 = pred_test[\\\"pred\\\"].quantile(q=1 - conservative_dr)\\n    pred_test[\\\"target\\\"] = pred_test[\\\"pred\\\"].apply(lambda x: 0 if (x < q1) else 1)\\n    pred_test = pred_test[\\\"target\\\"].to_frame()\\n\\n    # Add new rows to df\\n    y_train_new = pd.concat((y_train, pred_test))\\n    X_train_new = pd.concat((X_train, r_dev))\\n\\n    # Fit new model\\n    KGB_baseline_new = LogisticRegression(fit_intercept=False, penalty=\\\"none\\\").fit(\\n        X_train_new, y_train_new\\n    )\\n    #     KGB_baseline_new = RandomForestClassifier().fit(X_train_new, y_train_new)\\n    return KGB_baseline_new\";\n",
       "                var nbb_formatted_code = \"def predict_rejects(model, r_dev):\\n    # Make predictions on the Train Rejects\\n    pred_test = model.predict_proba(r_dev)[:, 1]\\n    pred_test = pd.DataFrame(\\n        data=pred_test,\\n        columns=[\\\"pred\\\"],\\n        index=r_dev.index.copy(),\\n    )\\n\\n    # Make binary predictions based on cutoff DR\\n    q1 = pred_test[\\\"pred\\\"].quantile(q=1 - conservative_dr)\\n    pred_test[\\\"target\\\"] = pred_test[\\\"pred\\\"].apply(lambda x: 0 if (x < q1) else 1)\\n    pred_test = pred_test[\\\"target\\\"].to_frame()\\n\\n    # Add new rows to df\\n    y_train_new = pd.concat((y_train, pred_test))\\n    X_train_new = pd.concat((X_train, r_dev))\\n\\n    # Fit new model\\n    KGB_baseline_new = LogisticRegression(fit_intercept=False, penalty=\\\"none\\\").fit(\\n        X_train_new, y_train_new\\n    )\\n    #     KGB_baseline_new = RandomForestClassifier().fit(X_train_new, y_train_new)\\n    return KGB_baseline_new\";\n",
       "                var nbb_cells = Jupyter.notebook.get_cells();\n",
       "                for (var i = 0; i < nbb_cells.length; ++i) {\n",
       "                    if (nbb_cells[i].input_prompt_number == nbb_cell_id) {\n",
       "                        if (nbb_cells[i].get_text() == nbb_unformatted_code) {\n",
       "                             nbb_cells[i].set_text(nbb_formatted_code);\n",
       "                        }\n",
       "                        break;\n",
       "                    }\n",
       "                }\n",
       "            }, 500);\n",
       "            "
      ],
      "text/plain": [
       "<IPython.core.display.Javascript object>"
      ]
     },
     "metadata": {},
     "output_type": "display_data"
    }
   ],
   "source": [
    "def predict_rejects(model, r_dev):\n",
    "    # Make predictions on the Train Rejects\n",
    "    pred_test = model.predict_proba(r_dev)[:, 1]\n",
    "    pred_test = pd.DataFrame(\n",
    "        data=pred_test,\n",
    "        columns=[\"pred\"],\n",
    "        index=r_dev.index.copy(),\n",
    "    )\n",
    "\n",
    "    # Make binary predictions based on cutoff DR\n",
    "    q1 = pred_test[\"pred\"].quantile(q=1 - conservative_dr)\n",
    "    pred_test[\"target\"] = pred_test[\"pred\"].apply(lambda x: 0 if (x < q1) else 1)\n",
    "    pred_test = pred_test[\"target\"].to_frame()\n",
    "\n",
    "    # Add new rows to df\n",
    "    y_train_new = pd.concat((y_train, pred_test))\n",
    "    X_train_new = pd.concat((X_train, r_dev))\n",
    "\n",
    "    # Fit new model\n",
    "    KGB_baseline_new = LogisticRegression(fit_intercept=False, penalty=\"none\").fit(\n",
    "        X_train_new, y_train_new\n",
    "    )\n",
    "    #     KGB_baseline_new = RandomForestClassifier().fit(X_train_new, y_train_new)\n",
    "    return KGB_baseline_new"
   ]
  },
  {
   "cell_type": "code",
   "execution_count": 21,
   "metadata": {},
   "outputs": [
    {
     "data": {
      "application/javascript": [
       "\n",
       "            setTimeout(function() {\n",
       "                var nbb_cell_id = 21;\n",
       "                var nbb_unformatted_code = \"def evaluate_test_accepts(model, X_test):\\n    pred_test = model.predict_proba(X_test)[:, 1]\\n    pred_test = pd.DataFrame(\\n        data=pred_test,\\n        columns=[\\\"pred\\\"],\\n        index=X_test.index.copy(),\\n    )\\n\\n    # Merge with Target\\n    pred_test2 = pd.merge(\\n        pred_test[\\\"pred\\\"],\\n        y_test[\\\"target\\\"],\\n        how=\\\"inner\\\",\\n        left_index=True,\\n        right_index=True,\\n    )\\n\\n    # Make binary predictions based on cutoff 50percentile of the distribution\\n    q1 = pred_test2[\\\"pred\\\"].quantile(q=1 - conservative_dr)\\n    pred_test2[\\\"prediction_baseline\\\"] = pred_test2[\\\"pred\\\"].apply(\\n        lambda x: 0 if (x < q1) else 1\\n    )\\n    return pred_test2\";\n",
       "                var nbb_formatted_code = \"def evaluate_test_accepts(model, X_test):\\n    pred_test = model.predict_proba(X_test)[:, 1]\\n    pred_test = pd.DataFrame(\\n        data=pred_test,\\n        columns=[\\\"pred\\\"],\\n        index=X_test.index.copy(),\\n    )\\n\\n    # Merge with Target\\n    pred_test2 = pd.merge(\\n        pred_test[\\\"pred\\\"],\\n        y_test[\\\"target\\\"],\\n        how=\\\"inner\\\",\\n        left_index=True,\\n        right_index=True,\\n    )\\n\\n    # Make binary predictions based on cutoff 50percentile of the distribution\\n    q1 = pred_test2[\\\"pred\\\"].quantile(q=1 - conservative_dr)\\n    pred_test2[\\\"prediction_baseline\\\"] = pred_test2[\\\"pred\\\"].apply(\\n        lambda x: 0 if (x < q1) else 1\\n    )\\n    return pred_test2\";\n",
       "                var nbb_cells = Jupyter.notebook.get_cells();\n",
       "                for (var i = 0; i < nbb_cells.length; ++i) {\n",
       "                    if (nbb_cells[i].input_prompt_number == nbb_cell_id) {\n",
       "                        if (nbb_cells[i].get_text() == nbb_unformatted_code) {\n",
       "                             nbb_cells[i].set_text(nbb_formatted_code);\n",
       "                        }\n",
       "                        break;\n",
       "                    }\n",
       "                }\n",
       "            }, 500);\n",
       "            "
      ],
      "text/plain": [
       "<IPython.core.display.Javascript object>"
      ]
     },
     "metadata": {},
     "output_type": "display_data"
    }
   ],
   "source": [
    "def evaluate_test_accepts(model, X_test):\n",
    "    pred_test = model.predict_proba(X_test)[:, 1]\n",
    "    pred_test = pd.DataFrame(\n",
    "        data=pred_test,\n",
    "        columns=[\"pred\"],\n",
    "        index=X_test.index.copy(),\n",
    "    )\n",
    "\n",
    "    # Merge with Target\n",
    "    pred_test2 = pd.merge(\n",
    "        pred_test[\"pred\"],\n",
    "        y_test[\"target\"],\n",
    "        how=\"inner\",\n",
    "        left_index=True,\n",
    "        right_index=True,\n",
    "    )\n",
    "\n",
    "    # Make binary predictions based on cutoff 50percentile of the distribution\n",
    "    q1 = pred_test2[\"pred\"].quantile(q=1 - conservative_dr)\n",
    "    pred_test2[\"prediction_baseline\"] = pred_test2[\"pred\"].apply(\n",
    "        lambda x: 0 if (x < q1) else 1\n",
    "    )\n",
    "    return pred_test2"
   ]
  },
  {
   "cell_type": "code",
   "execution_count": 22,
   "metadata": {},
   "outputs": [
    {
     "data": {
      "application/javascript": [
       "\n",
       "            setTimeout(function() {\n",
       "                var nbb_cell_id = 22;\n",
       "                var nbb_unformatted_code = \"def evaluate_test_rejects(model, r_test):\\n    pred_test = model.predict_proba(r_test)[:, 1]\\n    pred_test = pd.DataFrame(\\n        data=pred_test,\\n        columns=[\\\"pred\\\"],\\n        index=r_test.index.copy(),\\n    )\\n\\n    # Merge with Target\\n    pred_test2 = pd.merge(\\n        pred_test[\\\"pred\\\"],\\n        dfr_test_with_label[\\\"target\\\"],\\n        how=\\\"inner\\\",\\n        left_index=True,\\n        right_index=True,\\n    )\\n\\n    # Make binary predictions based on cutoff 50percentile of the distribution\\n    q1 = pred_test2[\\\"pred\\\"].quantile(q=1 - conservative_dr)\\n    pred_test2[\\\"prediction_baseline\\\"] = pred_test2[\\\"pred\\\"].apply(\\n        lambda x: 0 if (x < q1) else 1\\n    )\\n    return pred_test2\";\n",
       "                var nbb_formatted_code = \"def evaluate_test_rejects(model, r_test):\\n    pred_test = model.predict_proba(r_test)[:, 1]\\n    pred_test = pd.DataFrame(\\n        data=pred_test,\\n        columns=[\\\"pred\\\"],\\n        index=r_test.index.copy(),\\n    )\\n\\n    # Merge with Target\\n    pred_test2 = pd.merge(\\n        pred_test[\\\"pred\\\"],\\n        dfr_test_with_label[\\\"target\\\"],\\n        how=\\\"inner\\\",\\n        left_index=True,\\n        right_index=True,\\n    )\\n\\n    # Make binary predictions based on cutoff 50percentile of the distribution\\n    q1 = pred_test2[\\\"pred\\\"].quantile(q=1 - conservative_dr)\\n    pred_test2[\\\"prediction_baseline\\\"] = pred_test2[\\\"pred\\\"].apply(\\n        lambda x: 0 if (x < q1) else 1\\n    )\\n    return pred_test2\";\n",
       "                var nbb_cells = Jupyter.notebook.get_cells();\n",
       "                for (var i = 0; i < nbb_cells.length; ++i) {\n",
       "                    if (nbb_cells[i].input_prompt_number == nbb_cell_id) {\n",
       "                        if (nbb_cells[i].get_text() == nbb_unformatted_code) {\n",
       "                             nbb_cells[i].set_text(nbb_formatted_code);\n",
       "                        }\n",
       "                        break;\n",
       "                    }\n",
       "                }\n",
       "            }, 500);\n",
       "            "
      ],
      "text/plain": [
       "<IPython.core.display.Javascript object>"
      ]
     },
     "metadata": {},
     "output_type": "display_data"
    }
   ],
   "source": [
    "def evaluate_test_rejects(model, r_test):\n",
    "    pred_test = model.predict_proba(r_test)[:, 1]\n",
    "    pred_test = pd.DataFrame(\n",
    "        data=pred_test,\n",
    "        columns=[\"pred\"],\n",
    "        index=r_test.index.copy(),\n",
    "    )\n",
    "\n",
    "    # Merge with Target\n",
    "    pred_test2 = pd.merge(\n",
    "        pred_test[\"pred\"],\n",
    "        dfr_test_with_label[\"target\"],\n",
    "        how=\"inner\",\n",
    "        left_index=True,\n",
    "        right_index=True,\n",
    "    )\n",
    "\n",
    "    # Make binary predictions based on cutoff 50percentile of the distribution\n",
    "    q1 = pred_test2[\"pred\"].quantile(q=1 - conservative_dr)\n",
    "    pred_test2[\"prediction_baseline\"] = pred_test2[\"pred\"].apply(\n",
    "        lambda x: 0 if (x < q1) else 1\n",
    "    )\n",
    "    return pred_test2"
   ]
  },
  {
   "cell_type": "code",
   "execution_count": 23,
   "metadata": {},
   "outputs": [
    {
     "data": {
      "application/javascript": [
       "\n",
       "            setTimeout(function() {\n",
       "                var nbb_cell_id = 23;\n",
       "                var nbb_unformatted_code = \"def flag_df_baseline(df):\\n\\n    # Flag kicked out bad cases (want more of these)\\n    if df[\\\"target\\\"] == 1 and df[\\\"prediction_baseline\\\"] == 1:\\n        return \\\"CB\\\"\\n\\n    # Flag kicked out good cases (want less of these)\\n    elif df[\\\"target\\\"] == 1 and df[\\\"prediction_baseline\\\"] == 0:\\n        return \\\"IB\\\"\\n\\n    # Flag kicked in good cases (want more of these)\\n    elif df[\\\"target\\\"] == 0 and df[\\\"prediction_baseline\\\"] == 0:\\n        return \\\"CG\\\"\\n\\n    # Flag kicked in bad cases (want less of these)\\n    elif df[\\\"target\\\"] == 0 and df[\\\"prediction_baseline\\\"] == 1:\\n        return \\\"IG\\\"\";\n",
       "                var nbb_formatted_code = \"def flag_df_baseline(df):\\n\\n    # Flag kicked out bad cases (want more of these)\\n    if df[\\\"target\\\"] == 1 and df[\\\"prediction_baseline\\\"] == 1:\\n        return \\\"CB\\\"\\n\\n    # Flag kicked out good cases (want less of these)\\n    elif df[\\\"target\\\"] == 1 and df[\\\"prediction_baseline\\\"] == 0:\\n        return \\\"IB\\\"\\n\\n    # Flag kicked in good cases (want more of these)\\n    elif df[\\\"target\\\"] == 0 and df[\\\"prediction_baseline\\\"] == 0:\\n        return \\\"CG\\\"\\n\\n    # Flag kicked in bad cases (want less of these)\\n    elif df[\\\"target\\\"] == 0 and df[\\\"prediction_baseline\\\"] == 1:\\n        return \\\"IG\\\"\";\n",
       "                var nbb_cells = Jupyter.notebook.get_cells();\n",
       "                for (var i = 0; i < nbb_cells.length; ++i) {\n",
       "                    if (nbb_cells[i].input_prompt_number == nbb_cell_id) {\n",
       "                        if (nbb_cells[i].get_text() == nbb_unformatted_code) {\n",
       "                             nbb_cells[i].set_text(nbb_formatted_code);\n",
       "                        }\n",
       "                        break;\n",
       "                    }\n",
       "                }\n",
       "            }, 500);\n",
       "            "
      ],
      "text/plain": [
       "<IPython.core.display.Javascript object>"
      ]
     },
     "metadata": {},
     "output_type": "display_data"
    }
   ],
   "source": [
    "def flag_df_baseline(df):\n",
    "\n",
    "    # Flag kicked out bad cases (want more of these)\n",
    "    if df[\"target\"] == 1 and df[\"prediction_baseline\"] == 1:\n",
    "        return \"CB\"\n",
    "\n",
    "    # Flag kicked out good cases (want less of these)\n",
    "    elif df[\"target\"] == 1 and df[\"prediction_baseline\"] == 0:\n",
    "        return \"IB\"\n",
    "\n",
    "    # Flag kicked in good cases (want more of these)\n",
    "    elif df[\"target\"] == 0 and df[\"prediction_baseline\"] == 0:\n",
    "        return \"CG\"\n",
    "\n",
    "    # Flag kicked in bad cases (want less of these)\n",
    "    elif df[\"target\"] == 0 and df[\"prediction_baseline\"] == 1:\n",
    "        return \"IG\""
   ]
  },
  {
   "cell_type": "code",
   "execution_count": 24,
   "metadata": {},
   "outputs": [
    {
     "data": {
      "application/javascript": [
       "\n",
       "            setTimeout(function() {\n",
       "                var nbb_cell_id = 24;\n",
       "                var nbb_unformatted_code = \"def kickout_baseline(df):\\n\\n    # Counts of kickout bad and kickout good\\n    counts = df[\\\"Flag\\\"].value_counts()\\n    if \\\"CB\\\" in df.values:\\n        cb = counts.CB  # want more of these\\n    else:\\n        cb = 0\\n    if \\\"IB\\\" in df.values:\\n        ib = counts.IB  # want less of these\\n    else:\\n        ib = 0\\n\\n    if \\\"CG\\\" in df.values:\\n        cg = counts.CG  # want more of these\\n    else:\\n        cg = 0\\n\\n    if \\\"IG\\\" in df.values:\\n        ig = counts.IG  # want less of these\\n    else:\\n        ig = 0\\n\\n    # Target\\n    total_bads = df[df[\\\"target\\\"] == 1].shape[0]\\n    total_goods = df[df[\\\"target\\\"] == 0].shape[0]\\n    pb = total_bads / (total_bads + total_goods)\\n    pg = total_goods / (total_bads + total_goods)\\n\\n    kickout = (((cb / pb) - (ib / pb)) / total_bads) * (pb ** 2)\\n    kickin = (((cg / pg) - (ig / pg)) / total_goods) * (pg ** 2)\\n    weighted_total = kickout + kickin\\n    return weighted_total\";\n",
       "                var nbb_formatted_code = \"def kickout_baseline(df):\\n\\n    # Counts of kickout bad and kickout good\\n    counts = df[\\\"Flag\\\"].value_counts()\\n    if \\\"CB\\\" in df.values:\\n        cb = counts.CB  # want more of these\\n    else:\\n        cb = 0\\n    if \\\"IB\\\" in df.values:\\n        ib = counts.IB  # want less of these\\n    else:\\n        ib = 0\\n\\n    if \\\"CG\\\" in df.values:\\n        cg = counts.CG  # want more of these\\n    else:\\n        cg = 0\\n\\n    if \\\"IG\\\" in df.values:\\n        ig = counts.IG  # want less of these\\n    else:\\n        ig = 0\\n\\n    # Target\\n    total_bads = df[df[\\\"target\\\"] == 1].shape[0]\\n    total_goods = df[df[\\\"target\\\"] == 0].shape[0]\\n    pb = total_bads / (total_bads + total_goods)\\n    pg = total_goods / (total_bads + total_goods)\\n\\n    kickout = (((cb / pb) - (ib / pb)) / total_bads) * (pb ** 2)\\n    kickin = (((cg / pg) - (ig / pg)) / total_goods) * (pg ** 2)\\n    weighted_total = kickout + kickin\\n    return weighted_total\";\n",
       "                var nbb_cells = Jupyter.notebook.get_cells();\n",
       "                for (var i = 0; i < nbb_cells.length; ++i) {\n",
       "                    if (nbb_cells[i].input_prompt_number == nbb_cell_id) {\n",
       "                        if (nbb_cells[i].get_text() == nbb_unformatted_code) {\n",
       "                             nbb_cells[i].set_text(nbb_formatted_code);\n",
       "                        }\n",
       "                        break;\n",
       "                    }\n",
       "                }\n",
       "            }, 500);\n",
       "            "
      ],
      "text/plain": [
       "<IPython.core.display.Javascript object>"
      ]
     },
     "metadata": {},
     "output_type": "display_data"
    }
   ],
   "source": [
    "def kickout_baseline(df):\n",
    "\n",
    "    # Counts of kickout bad and kickout good\n",
    "    counts = df[\"Flag\"].value_counts()\n",
    "    if \"CB\" in df.values:\n",
    "        cb = counts.CB  # want more of these\n",
    "    else:\n",
    "        cb = 0\n",
    "    if \"IB\" in df.values:\n",
    "        ib = counts.IB  # want less of these\n",
    "    else:\n",
    "        ib = 0\n",
    "\n",
    "    if \"CG\" in df.values:\n",
    "        cg = counts.CG  # want more of these\n",
    "    else:\n",
    "        cg = 0\n",
    "\n",
    "    if \"IG\" in df.values:\n",
    "        ig = counts.IG  # want less of these\n",
    "    else:\n",
    "        ig = 0\n",
    "\n",
    "    # Target\n",
    "    total_bads = df[df[\"target\"] == 1].shape[0]\n",
    "    total_goods = df[df[\"target\"] == 0].shape[0]\n",
    "    pb = total_bads / (total_bads + total_goods)\n",
    "    pg = total_goods / (total_bads + total_goods)\n",
    "\n",
    "    kickout = (((cb / pb) - (ib / pb)) / total_bads) * (pb ** 2)\n",
    "    kickin = (((cg / pg) - (ig / pg)) / total_goods) * (pg ** 2)\n",
    "    weighted_total = kickout + kickin\n",
    "    return weighted_total"
   ]
  },
  {
   "cell_type": "markdown",
   "metadata": {},
   "source": [
    "## 1. Prediction before RI"
   ]
  },
  {
   "cell_type": "markdown",
   "metadata": {},
   "source": [
    "Step 1: KGB Model ($m_{1}$)  <br>\n",
    "Step 2: Score Test Accepts and Test Rejects"
   ]
  },
  {
   "cell_type": "code",
   "execution_count": 25,
   "metadata": {},
   "outputs": [
    {
     "data": {
      "application/javascript": [
       "\n",
       "            setTimeout(function() {\n",
       "                var nbb_cell_id = 25;\n",
       "                var nbb_unformatted_code = \"pred_test_a = evaluate_test_accepts(KGB1, X_test)\\npred_test_r = evaluate_test_rejects(KGB1, r_test)\";\n",
       "                var nbb_formatted_code = \"pred_test_a = evaluate_test_accepts(KGB1, X_test)\\npred_test_r = evaluate_test_rejects(KGB1, r_test)\";\n",
       "                var nbb_cells = Jupyter.notebook.get_cells();\n",
       "                for (var i = 0; i < nbb_cells.length; ++i) {\n",
       "                    if (nbb_cells[i].input_prompt_number == nbb_cell_id) {\n",
       "                        if (nbb_cells[i].get_text() == nbb_unformatted_code) {\n",
       "                             nbb_cells[i].set_text(nbb_formatted_code);\n",
       "                        }\n",
       "                        break;\n",
       "                    }\n",
       "                }\n",
       "            }, 500);\n",
       "            "
      ],
      "text/plain": [
       "<IPython.core.display.Javascript object>"
      ]
     },
     "metadata": {},
     "output_type": "display_data"
    }
   ],
   "source": [
    "pred_test_a = evaluate_test_accepts(KGB1, X_test)\n",
    "pred_test_r = evaluate_test_rejects(KGB1, r_test)"
   ]
  },
  {
   "cell_type": "code",
   "execution_count": 26,
   "metadata": {},
   "outputs": [
    {
     "data": {
      "application/javascript": [
       "\n",
       "            setTimeout(function() {\n",
       "                var nbb_cell_id = 26;\n",
       "                var nbb_unformatted_code = \"pred_test_a[\\\"Flag\\\"] = pred_test_a.apply(flag_df_baseline, axis=1)\\npredictions_accepts_beforeRI = [round(kickout_baseline(pred_test_a).tolist(), 3)]\";\n",
       "                var nbb_formatted_code = \"pred_test_a[\\\"Flag\\\"] = pred_test_a.apply(flag_df_baseline, axis=1)\\npredictions_accepts_beforeRI = [round(kickout_baseline(pred_test_a).tolist(), 3)]\";\n",
       "                var nbb_cells = Jupyter.notebook.get_cells();\n",
       "                for (var i = 0; i < nbb_cells.length; ++i) {\n",
       "                    if (nbb_cells[i].input_prompt_number == nbb_cell_id) {\n",
       "                        if (nbb_cells[i].get_text() == nbb_unformatted_code) {\n",
       "                             nbb_cells[i].set_text(nbb_formatted_code);\n",
       "                        }\n",
       "                        break;\n",
       "                    }\n",
       "                }\n",
       "            }, 500);\n",
       "            "
      ],
      "text/plain": [
       "<IPython.core.display.Javascript object>"
      ]
     },
     "metadata": {},
     "output_type": "display_data"
    }
   ],
   "source": [
    "pred_test_a[\"Flag\"] = pred_test_a.apply(flag_df_baseline, axis=1)\n",
    "predictions_accepts_beforeRI = [round(kickout_baseline(pred_test_a).tolist(), 3)]"
   ]
  },
  {
   "cell_type": "code",
   "execution_count": 27,
   "metadata": {},
   "outputs": [
    {
     "data": {
      "application/javascript": [
       "\n",
       "            setTimeout(function() {\n",
       "                var nbb_cell_id = 27;\n",
       "                var nbb_unformatted_code = \"pred_test_r[\\\"Flag\\\"] = pred_test_r.apply(flag_df_baseline, axis=1)\\npredictions_rejects_beforeRI = [round(kickout_baseline(pred_test_r).tolist(), 3)]\";\n",
       "                var nbb_formatted_code = \"pred_test_r[\\\"Flag\\\"] = pred_test_r.apply(flag_df_baseline, axis=1)\\npredictions_rejects_beforeRI = [round(kickout_baseline(pred_test_r).tolist(), 3)]\";\n",
       "                var nbb_cells = Jupyter.notebook.get_cells();\n",
       "                for (var i = 0; i < nbb_cells.length; ++i) {\n",
       "                    if (nbb_cells[i].input_prompt_number == nbb_cell_id) {\n",
       "                        if (nbb_cells[i].get_text() == nbb_unformatted_code) {\n",
       "                             nbb_cells[i].set_text(nbb_formatted_code);\n",
       "                        }\n",
       "                        break;\n",
       "                    }\n",
       "                }\n",
       "            }, 500);\n",
       "            "
      ],
      "text/plain": [
       "<IPython.core.display.Javascript object>"
      ]
     },
     "metadata": {},
     "output_type": "display_data"
    }
   ],
   "source": [
    "pred_test_r[\"Flag\"] = pred_test_r.apply(flag_df_baseline, axis=1)\n",
    "predictions_rejects_beforeRI = [round(kickout_baseline(pred_test_r).tolist(), 3)]"
   ]
  },
  {
   "cell_type": "markdown",
   "metadata": {},
   "source": [
    "## 2. Predicions Baseline"
   ]
  },
  {
   "cell_type": "markdown",
   "metadata": {},
   "source": [
    "Step 1: KGB Model ($m_{1}$)  <br>\n",
    "Step 2: Infer status of each reject <br> \n",
    "Step 3: Redevelop KGB mdoel with inferred rejects ($m_{2}$)  <br>\n",
    "Step 4: Score Test Accepts and Test Rejects"
   ]
  },
  {
   "cell_type": "code",
   "execution_count": 28,
   "metadata": {},
   "outputs": [
    {
     "data": {
      "application/javascript": [
       "\n",
       "            setTimeout(function() {\n",
       "                var nbb_cell_id = 28;\n",
       "                var nbb_unformatted_code = \"KGB_baseline_new = predict_rejects(KGB1, r_dev)\\npred_test_a = evaluate_test_accepts(KGB_baseline_new, X_test)\\npred_test_r = evaluate_test_rejects(KGB_baseline_new, r_test)\";\n",
       "                var nbb_formatted_code = \"KGB_baseline_new = predict_rejects(KGB1, r_dev)\\npred_test_a = evaluate_test_accepts(KGB_baseline_new, X_test)\\npred_test_r = evaluate_test_rejects(KGB_baseline_new, r_test)\";\n",
       "                var nbb_cells = Jupyter.notebook.get_cells();\n",
       "                for (var i = 0; i < nbb_cells.length; ++i) {\n",
       "                    if (nbb_cells[i].input_prompt_number == nbb_cell_id) {\n",
       "                        if (nbb_cells[i].get_text() == nbb_unformatted_code) {\n",
       "                             nbb_cells[i].set_text(nbb_formatted_code);\n",
       "                        }\n",
       "                        break;\n",
       "                    }\n",
       "                }\n",
       "            }, 500);\n",
       "            "
      ],
      "text/plain": [
       "<IPython.core.display.Javascript object>"
      ]
     },
     "metadata": {},
     "output_type": "display_data"
    }
   ],
   "source": [
    "KGB_baseline_new = predict_rejects(KGB1, r_dev)\n",
    "pred_test_a = evaluate_test_accepts(KGB_baseline_new, X_test)\n",
    "pred_test_r = evaluate_test_rejects(KGB_baseline_new, r_test)"
   ]
  },
  {
   "cell_type": "code",
   "execution_count": 29,
   "metadata": {},
   "outputs": [
    {
     "data": {
      "application/javascript": [
       "\n",
       "            setTimeout(function() {\n",
       "                var nbb_cell_id = 29;\n",
       "                var nbb_unformatted_code = \"pred_test_a[\\\"Flag\\\"] = pred_test_a.apply(flag_df_baseline, axis=1)\\npredictions_accepts_base = [round(kickout_baseline(pred_test_a).tolist(), 3)]\";\n",
       "                var nbb_formatted_code = \"pred_test_a[\\\"Flag\\\"] = pred_test_a.apply(flag_df_baseline, axis=1)\\npredictions_accepts_base = [round(kickout_baseline(pred_test_a).tolist(), 3)]\";\n",
       "                var nbb_cells = Jupyter.notebook.get_cells();\n",
       "                for (var i = 0; i < nbb_cells.length; ++i) {\n",
       "                    if (nbb_cells[i].input_prompt_number == nbb_cell_id) {\n",
       "                        if (nbb_cells[i].get_text() == nbb_unformatted_code) {\n",
       "                             nbb_cells[i].set_text(nbb_formatted_code);\n",
       "                        }\n",
       "                        break;\n",
       "                    }\n",
       "                }\n",
       "            }, 500);\n",
       "            "
      ],
      "text/plain": [
       "<IPython.core.display.Javascript object>"
      ]
     },
     "metadata": {},
     "output_type": "display_data"
    }
   ],
   "source": [
    "pred_test_a[\"Flag\"] = pred_test_a.apply(flag_df_baseline, axis=1)\n",
    "predictions_accepts_base = [round(kickout_baseline(pred_test_a).tolist(), 3)]"
   ]
  },
  {
   "cell_type": "code",
   "execution_count": 30,
   "metadata": {},
   "outputs": [
    {
     "data": {
      "application/javascript": [
       "\n",
       "            setTimeout(function() {\n",
       "                var nbb_cell_id = 30;\n",
       "                var nbb_unformatted_code = \"pred_test_r[\\\"Flag\\\"] = pred_test_r.apply(flag_df_baseline, axis=1)\\npredictions_rejects_base = [round(kickout_baseline(pred_test_r).tolist(), 3)]\";\n",
       "                var nbb_formatted_code = \"pred_test_r[\\\"Flag\\\"] = pred_test_r.apply(flag_df_baseline, axis=1)\\npredictions_rejects_base = [round(kickout_baseline(pred_test_r).tolist(), 3)]\";\n",
       "                var nbb_cells = Jupyter.notebook.get_cells();\n",
       "                for (var i = 0; i < nbb_cells.length; ++i) {\n",
       "                    if (nbb_cells[i].input_prompt_number == nbb_cell_id) {\n",
       "                        if (nbb_cells[i].get_text() == nbb_unformatted_code) {\n",
       "                             nbb_cells[i].set_text(nbb_formatted_code);\n",
       "                        }\n",
       "                        break;\n",
       "                    }\n",
       "                }\n",
       "            }, 500);\n",
       "            "
      ],
      "text/plain": [
       "<IPython.core.display.Javascript object>"
      ]
     },
     "metadata": {},
     "output_type": "display_data"
    }
   ],
   "source": [
    "pred_test_r[\"Flag\"] = pred_test_r.apply(flag_df_baseline, axis=1)\n",
    "predictions_rejects_base = [round(kickout_baseline(pred_test_r).tolist(), 3)]"
   ]
  },
  {
   "cell_type": "markdown",
   "metadata": {},
   "source": [
    "### Retrain with the most optimal Iteration"
   ]
  },
  {
   "cell_type": "code",
   "execution_count": 31,
   "metadata": {
    "scrolled": true
   },
   "outputs": [
    {
     "name": "stdout",
     "output_type": "stream",
     "text": [
      "Iteration Nr 1\n",
      "F1:  0.5221053350386908\n",
      "Iteration Nr 2\n",
      "F1:  0.5217587257899915\n"
     ]
    },
    {
     "data": {
      "application/javascript": [
       "\n",
       "            setTimeout(function() {\n",
       "                var nbb_cell_id = 31;\n",
       "                var nbb_unformatted_code = \"# Add more scores that you want to track\\nf1_scores = []\\niterations = []\\n# log_losses = []\\n\\nfor iteration in range(1, max_index + 1):  # Change to how many iterrations you like\\n    print(\\\"Iteration Nr {}\\\".format(iteration))\\n    # Build logistic regression\\n    KGB1 = LogisticRegression(fit_intercept=False, penalty=\\\"none\\\").fit(X_train, y_train)\\n    # KGB1 = RandomForestClassifier().fit(X_train, y_train)\\n    f1_stat = f1_score(KGB1.predict(X_test), y_test, average=\\\"weighted\\\")\\n    f1_scores.append(f1_stat)\\n\\n    #     logloss = log_loss(KGB1.predict(X_test), y_test, eps=1e-15)\\n    #     log_losses.append(log_losses)\\n    print(\\\"F1: \\\", f1_stat)\\n    # print(\\\"Log Loss: \\\", logloss)\\n    # Make predictions on the rejected data\\n    pred = KGB1.predict_proba(r_dev)[:, 1]\\n    pred = pd.DataFrame(\\n        data=pred,\\n        columns=[\\\"target\\\"],\\n        index=r_dev.index.copy(),\\n    )\\n    # Choose the most certain predictions\\n    lq = pred[\\\"target\\\"].quantile(q=0.05)\\n    uq = pred[\\\"target\\\"].quantile(q=0.95)\\n    pred[\\\"certain\\\"] = pred[\\\"target\\\"].apply(lambda x: 1 if (x < lq or x > uq) else 0)\\n\\n    # If PD is high, apply default status\\n    pred[\\\"target\\\"] = pred[\\\"target\\\"].apply(lambda x: 1 if (x > uq) else 0)\\n\\n    # Pick only the certain predictions and concatenate them to the dev set\\n    # Y TRAIN\\n    certain = pred[pred[\\\"certain\\\"] == 1]\\n    certain2 = certain[\\\"target\\\"].to_frame()\\n    y_train = pd.concat((y_train, certain2))\\n\\n    # Get significant columns of the rejects based on index\\n    certain_features = pd.merge(\\n        certain[\\\"target\\\"],\\n        r_dev[significant_columns],\\n        how=\\\"inner\\\",\\n        left_index=True,\\n        right_index=True,\\n    )\\n\\n    # X TRAIN\\n    certain_features = certain_features.loc[:, certain_features.columns != \\\"target\\\"]\\n    X_train = pd.concat((X_train, certain_features))\\n\\n    # Remove certain columns from rejected data\\n    rows = certain_features.index\\n    r_dev = r_dev.drop(rows, axis=\\\"index\\\")\";\n",
       "                var nbb_formatted_code = \"# Add more scores that you want to track\\nf1_scores = []\\niterations = []\\n# log_losses = []\\n\\nfor iteration in range(1, max_index + 1):  # Change to how many iterrations you like\\n    print(\\\"Iteration Nr {}\\\".format(iteration))\\n    # Build logistic regression\\n    KGB1 = LogisticRegression(fit_intercept=False, penalty=\\\"none\\\").fit(X_train, y_train)\\n    # KGB1 = RandomForestClassifier().fit(X_train, y_train)\\n    f1_stat = f1_score(KGB1.predict(X_test), y_test, average=\\\"weighted\\\")\\n    f1_scores.append(f1_stat)\\n\\n    #     logloss = log_loss(KGB1.predict(X_test), y_test, eps=1e-15)\\n    #     log_losses.append(log_losses)\\n    print(\\\"F1: \\\", f1_stat)\\n    # print(\\\"Log Loss: \\\", logloss)\\n    # Make predictions on the rejected data\\n    pred = KGB1.predict_proba(r_dev)[:, 1]\\n    pred = pd.DataFrame(\\n        data=pred,\\n        columns=[\\\"target\\\"],\\n        index=r_dev.index.copy(),\\n    )\\n    # Choose the most certain predictions\\n    lq = pred[\\\"target\\\"].quantile(q=0.05)\\n    uq = pred[\\\"target\\\"].quantile(q=0.95)\\n    pred[\\\"certain\\\"] = pred[\\\"target\\\"].apply(lambda x: 1 if (x < lq or x > uq) else 0)\\n\\n    # If PD is high, apply default status\\n    pred[\\\"target\\\"] = pred[\\\"target\\\"].apply(lambda x: 1 if (x > uq) else 0)\\n\\n    # Pick only the certain predictions and concatenate them to the dev set\\n    # Y TRAIN\\n    certain = pred[pred[\\\"certain\\\"] == 1]\\n    certain2 = certain[\\\"target\\\"].to_frame()\\n    y_train = pd.concat((y_train, certain2))\\n\\n    # Get significant columns of the rejects based on index\\n    certain_features = pd.merge(\\n        certain[\\\"target\\\"],\\n        r_dev[significant_columns],\\n        how=\\\"inner\\\",\\n        left_index=True,\\n        right_index=True,\\n    )\\n\\n    # X TRAIN\\n    certain_features = certain_features.loc[:, certain_features.columns != \\\"target\\\"]\\n    X_train = pd.concat((X_train, certain_features))\\n\\n    # Remove certain columns from rejected data\\n    rows = certain_features.index\\n    r_dev = r_dev.drop(rows, axis=\\\"index\\\")\";\n",
       "                var nbb_cells = Jupyter.notebook.get_cells();\n",
       "                for (var i = 0; i < nbb_cells.length; ++i) {\n",
       "                    if (nbb_cells[i].input_prompt_number == nbb_cell_id) {\n",
       "                        if (nbb_cells[i].get_text() == nbb_unformatted_code) {\n",
       "                             nbb_cells[i].set_text(nbb_formatted_code);\n",
       "                        }\n",
       "                        break;\n",
       "                    }\n",
       "                }\n",
       "            }, 500);\n",
       "            "
      ],
      "text/plain": [
       "<IPython.core.display.Javascript object>"
      ]
     },
     "metadata": {},
     "output_type": "display_data"
    }
   ],
   "source": [
    "# Add more scores that you want to track\n",
    "f1_scores = []\n",
    "iterations = []\n",
    "# log_losses = []\n",
    "\n",
    "for iteration in range(1, max_index + 1):  # Change to how many iterrations you like\n",
    "    print(\"Iteration Nr {}\".format(iteration))\n",
    "    # Build logistic regression\n",
    "    KGB1 = LogisticRegression(fit_intercept=False, penalty=\"none\").fit(X_train, y_train)\n",
    "    # KGB1 = RandomForestClassifier().fit(X_train, y_train)\n",
    "    f1_stat = f1_score(KGB1.predict(X_test), y_test, average=\"weighted\")\n",
    "    f1_scores.append(f1_stat)\n",
    "\n",
    "    #     logloss = log_loss(KGB1.predict(X_test), y_test, eps=1e-15)\n",
    "    #     log_losses.append(log_losses)\n",
    "    print(\"F1: \", f1_stat)\n",
    "    # print(\"Log Loss: \", logloss)\n",
    "    # Make predictions on the rejected data\n",
    "    pred = KGB1.predict_proba(r_dev)[:, 1]\n",
    "    pred = pd.DataFrame(\n",
    "        data=pred,\n",
    "        columns=[\"target\"],\n",
    "        index=r_dev.index.copy(),\n",
    "    )\n",
    "    # Choose the most certain predictions\n",
    "    lq = pred[\"target\"].quantile(q=0.05)\n",
    "    uq = pred[\"target\"].quantile(q=0.95)\n",
    "    pred[\"certain\"] = pred[\"target\"].apply(lambda x: 1 if (x < lq or x > uq) else 0)\n",
    "\n",
    "    # If PD is high, apply default status\n",
    "    pred[\"target\"] = pred[\"target\"].apply(lambda x: 1 if (x > uq) else 0)\n",
    "\n",
    "    # Pick only the certain predictions and concatenate them to the dev set\n",
    "    # Y TRAIN\n",
    "    certain = pred[pred[\"certain\"] == 1]\n",
    "    certain2 = certain[\"target\"].to_frame()\n",
    "    y_train = pd.concat((y_train, certain2))\n",
    "\n",
    "    # Get significant columns of the rejects based on index\n",
    "    certain_features = pd.merge(\n",
    "        certain[\"target\"],\n",
    "        r_dev[significant_columns],\n",
    "        how=\"inner\",\n",
    "        left_index=True,\n",
    "        right_index=True,\n",
    "    )\n",
    "\n",
    "    # X TRAIN\n",
    "    certain_features = certain_features.loc[:, certain_features.columns != \"target\"]\n",
    "    X_train = pd.concat((X_train, certain_features))\n",
    "\n",
    "    # Remove certain columns from rejected data\n",
    "    rows = certain_features.index\n",
    "    r_dev = r_dev.drop(rows, axis=\"index\")"
   ]
  },
  {
   "cell_type": "markdown",
   "metadata": {},
   "source": [
    "## 3. KGB model of best iteration"
   ]
  },
  {
   "cell_type": "markdown",
   "metadata": {},
   "source": [
    "Step 1: KGB Model ($m_{1}$)  <br>\n",
    "Step 2: Infer status of each reject <br> \n",
    "Step 3: Choose the most certain predictions (0.05q and 0.95q of the predicted probailities) <br>\n",
    "Step 4: Add the most certain predictions to the training sample\n",
    "Step 5: Redevelop KGB Model ($m_{2}$)  <br>\n",
    "Step 6: Repeat Step 5 until convergence - best F1 score ($m_{i}$)  <br> \n",
    "Step 7: Score Test Accepts and Test Rejects"
   ]
  },
  {
   "cell_type": "code",
   "execution_count": 32,
   "metadata": {},
   "outputs": [
    {
     "data": {
      "application/javascript": [
       "\n",
       "            setTimeout(function() {\n",
       "                var nbb_cell_id = 32;\n",
       "                var nbb_unformatted_code = \"pred_test_a = evaluate_test_accepts(KGB1, X_test)\\npred_test_r = evaluate_test_rejects(KGB1, r_test)\";\n",
       "                var nbb_formatted_code = \"pred_test_a = evaluate_test_accepts(KGB1, X_test)\\npred_test_r = evaluate_test_rejects(KGB1, r_test)\";\n",
       "                var nbb_cells = Jupyter.notebook.get_cells();\n",
       "                for (var i = 0; i < nbb_cells.length; ++i) {\n",
       "                    if (nbb_cells[i].input_prompt_number == nbb_cell_id) {\n",
       "                        if (nbb_cells[i].get_text() == nbb_unformatted_code) {\n",
       "                             nbb_cells[i].set_text(nbb_formatted_code);\n",
       "                        }\n",
       "                        break;\n",
       "                    }\n",
       "                }\n",
       "            }, 500);\n",
       "            "
      ],
      "text/plain": [
       "<IPython.core.display.Javascript object>"
      ]
     },
     "metadata": {},
     "output_type": "display_data"
    }
   ],
   "source": [
    "pred_test_a = evaluate_test_accepts(KGB1, X_test)\n",
    "pred_test_r = evaluate_test_rejects(KGB1, r_test)"
   ]
  },
  {
   "cell_type": "code",
   "execution_count": 33,
   "metadata": {},
   "outputs": [
    {
     "data": {
      "application/javascript": [
       "\n",
       "            setTimeout(function() {\n",
       "                var nbb_cell_id = 33;\n",
       "                var nbb_unformatted_code = \"pred_test_a[\\\"Flag\\\"] = pred_test_a.apply(flag_df_baseline, axis=1)\\npredictions_accepts_iter = [round(kickout_baseline(pred_test_a).tolist(), 3)]\";\n",
       "                var nbb_formatted_code = \"pred_test_a[\\\"Flag\\\"] = pred_test_a.apply(flag_df_baseline, axis=1)\\npredictions_accepts_iter = [round(kickout_baseline(pred_test_a).tolist(), 3)]\";\n",
       "                var nbb_cells = Jupyter.notebook.get_cells();\n",
       "                for (var i = 0; i < nbb_cells.length; ++i) {\n",
       "                    if (nbb_cells[i].input_prompt_number == nbb_cell_id) {\n",
       "                        if (nbb_cells[i].get_text() == nbb_unformatted_code) {\n",
       "                             nbb_cells[i].set_text(nbb_formatted_code);\n",
       "                        }\n",
       "                        break;\n",
       "                    }\n",
       "                }\n",
       "            }, 500);\n",
       "            "
      ],
      "text/plain": [
       "<IPython.core.display.Javascript object>"
      ]
     },
     "metadata": {},
     "output_type": "display_data"
    }
   ],
   "source": [
    "pred_test_a[\"Flag\"] = pred_test_a.apply(flag_df_baseline, axis=1)\n",
    "predictions_accepts_iter = [round(kickout_baseline(pred_test_a).tolist(), 3)]"
   ]
  },
  {
   "cell_type": "code",
   "execution_count": 34,
   "metadata": {},
   "outputs": [
    {
     "data": {
      "application/javascript": [
       "\n",
       "            setTimeout(function() {\n",
       "                var nbb_cell_id = 34;\n",
       "                var nbb_unformatted_code = \"pred_test_r[\\\"Flag\\\"] = pred_test_r.apply(flag_df_baseline, axis=1)\\npredictions_rejects_iter = [round(kickout_baseline(pred_test_r).tolist(), 3)]\";\n",
       "                var nbb_formatted_code = \"pred_test_r[\\\"Flag\\\"] = pred_test_r.apply(flag_df_baseline, axis=1)\\npredictions_rejects_iter = [round(kickout_baseline(pred_test_r).tolist(), 3)]\";\n",
       "                var nbb_cells = Jupyter.notebook.get_cells();\n",
       "                for (var i = 0; i < nbb_cells.length; ++i) {\n",
       "                    if (nbb_cells[i].input_prompt_number == nbb_cell_id) {\n",
       "                        if (nbb_cells[i].get_text() == nbb_unformatted_code) {\n",
       "                             nbb_cells[i].set_text(nbb_formatted_code);\n",
       "                        }\n",
       "                        break;\n",
       "                    }\n",
       "                }\n",
       "            }, 500);\n",
       "            "
      ],
      "text/plain": [
       "<IPython.core.display.Javascript object>"
      ]
     },
     "metadata": {},
     "output_type": "display_data"
    }
   ],
   "source": [
    "pred_test_r[\"Flag\"] = pred_test_r.apply(flag_df_baseline, axis=1)\n",
    "predictions_rejects_iter = [round(kickout_baseline(pred_test_r).tolist(), 3)]"
   ]
  },
  {
   "cell_type": "markdown",
   "metadata": {},
   "source": [
    "## 4. New model"
   ]
  },
  {
   "cell_type": "markdown",
   "metadata": {},
   "source": [
    "Step 1: KGB Model ($m_{1}$)  <br>\n",
    "Step 2: Infer status of each reject <br> \n",
    "Step 3: Choose the most certain predictions (0.05q and 0.95q of the predicted probailities) <br>\n",
    "Step 4: Add the most certain predictions to the training sample <br>\n",
    "Step 5: Redevelop KGB Model ($m_{2}$)  <br>\n",
    "Step 6: Repeat Step 5 until convergence - best F1 score ($m_{i}$) <br> \n",
    "Step 7: Infer status of each reject with ($m_{i}$) <br> \n",
    "Step 8: Redevelop KGB mdoel with inferred rejects ($m_{final}$) <br> \n",
    "Step 9: Score Test Accepts and Test Rejects"
   ]
  },
  {
   "cell_type": "code",
   "execution_count": 35,
   "metadata": {},
   "outputs": [
    {
     "data": {
      "application/javascript": [
       "\n",
       "            setTimeout(function() {\n",
       "                var nbb_cell_id = 35;\n",
       "                var nbb_unformatted_code = \"KGB_baseline_new = predict_rejects(KGB1, r_dev)\\npred_test_a = evaluate_test_accepts(KGB_baseline_new, X_test)\\npred_test_r = evaluate_test_rejects(KGB_baseline_new, r_test)\";\n",
       "                var nbb_formatted_code = \"KGB_baseline_new = predict_rejects(KGB1, r_dev)\\npred_test_a = evaluate_test_accepts(KGB_baseline_new, X_test)\\npred_test_r = evaluate_test_rejects(KGB_baseline_new, r_test)\";\n",
       "                var nbb_cells = Jupyter.notebook.get_cells();\n",
       "                for (var i = 0; i < nbb_cells.length; ++i) {\n",
       "                    if (nbb_cells[i].input_prompt_number == nbb_cell_id) {\n",
       "                        if (nbb_cells[i].get_text() == nbb_unformatted_code) {\n",
       "                             nbb_cells[i].set_text(nbb_formatted_code);\n",
       "                        }\n",
       "                        break;\n",
       "                    }\n",
       "                }\n",
       "            }, 500);\n",
       "            "
      ],
      "text/plain": [
       "<IPython.core.display.Javascript object>"
      ]
     },
     "metadata": {},
     "output_type": "display_data"
    }
   ],
   "source": [
    "KGB_baseline_new = predict_rejects(KGB1, r_dev)\n",
    "pred_test_a = evaluate_test_accepts(KGB_baseline_new, X_test)\n",
    "pred_test_r = evaluate_test_rejects(KGB_baseline_new, r_test)"
   ]
  },
  {
   "cell_type": "code",
   "execution_count": 36,
   "metadata": {},
   "outputs": [
    {
     "data": {
      "application/javascript": [
       "\n",
       "            setTimeout(function() {\n",
       "                var nbb_cell_id = 36;\n",
       "                var nbb_unformatted_code = \"pred_test_a[\\\"Flag\\\"] = pred_test_a.apply(flag_df_baseline, axis=1)\\npredictions_accepts_new = [round(kickout_baseline(pred_test_a).tolist(), 3)]\";\n",
       "                var nbb_formatted_code = \"pred_test_a[\\\"Flag\\\"] = pred_test_a.apply(flag_df_baseline, axis=1)\\npredictions_accepts_new = [round(kickout_baseline(pred_test_a).tolist(), 3)]\";\n",
       "                var nbb_cells = Jupyter.notebook.get_cells();\n",
       "                for (var i = 0; i < nbb_cells.length; ++i) {\n",
       "                    if (nbb_cells[i].input_prompt_number == nbb_cell_id) {\n",
       "                        if (nbb_cells[i].get_text() == nbb_unformatted_code) {\n",
       "                             nbb_cells[i].set_text(nbb_formatted_code);\n",
       "                        }\n",
       "                        break;\n",
       "                    }\n",
       "                }\n",
       "            }, 500);\n",
       "            "
      ],
      "text/plain": [
       "<IPython.core.display.Javascript object>"
      ]
     },
     "metadata": {},
     "output_type": "display_data"
    }
   ],
   "source": [
    "pred_test_a[\"Flag\"] = pred_test_a.apply(flag_df_baseline, axis=1)\n",
    "predictions_accepts_new = [round(kickout_baseline(pred_test_a).tolist(), 3)]"
   ]
  },
  {
   "cell_type": "code",
   "execution_count": 37,
   "metadata": {},
   "outputs": [
    {
     "data": {
      "application/javascript": [
       "\n",
       "            setTimeout(function() {\n",
       "                var nbb_cell_id = 37;\n",
       "                var nbb_unformatted_code = \"pred_test_r[\\\"Flag\\\"] = pred_test_r.apply(flag_df_baseline, axis=1)\\npredictions_rejects_new = [round(kickout_baseline(pred_test_r).tolist(), 3)]\";\n",
       "                var nbb_formatted_code = \"pred_test_r[\\\"Flag\\\"] = pred_test_r.apply(flag_df_baseline, axis=1)\\npredictions_rejects_new = [round(kickout_baseline(pred_test_r).tolist(), 3)]\";\n",
       "                var nbb_cells = Jupyter.notebook.get_cells();\n",
       "                for (var i = 0; i < nbb_cells.length; ++i) {\n",
       "                    if (nbb_cells[i].input_prompt_number == nbb_cell_id) {\n",
       "                        if (nbb_cells[i].get_text() == nbb_unformatted_code) {\n",
       "                             nbb_cells[i].set_text(nbb_formatted_code);\n",
       "                        }\n",
       "                        break;\n",
       "                    }\n",
       "                }\n",
       "            }, 500);\n",
       "            "
      ],
      "text/plain": [
       "<IPython.core.display.Javascript object>"
      ]
     },
     "metadata": {},
     "output_type": "display_data"
    }
   ],
   "source": [
    "pred_test_r[\"Flag\"] = pred_test_r.apply(flag_df_baseline, axis=1)\n",
    "predictions_rejects_new = [round(kickout_baseline(pred_test_r).tolist(), 3)]"
   ]
  },
  {
   "cell_type": "markdown",
   "metadata": {},
   "source": [
    "## Combine predictions"
   ]
  },
  {
   "cell_type": "code",
   "execution_count": 38,
   "metadata": {},
   "outputs": [
    {
     "data": {
      "application/javascript": [
       "\n",
       "            setTimeout(function() {\n",
       "                var nbb_cell_id = 38;\n",
       "                var nbb_unformatted_code = \"my_list_accepts = [\\n    predictions_accepts_beforeRI,\\n    predictions_accepts_base,\\n    predictions_accepts_iter,\\n    predictions_accepts_new,\\n]\\ndf_pred_accepts = pd.DataFrame(my_list_accepts).transpose()\\ndf_pred_accepts = df_pred_accepts.rename(\\n    columns={0: \\\"Before RI\\\", 1: \\\"Baseline\\\", 2: \\\"Iteration n\\\", 3: \\\"Self-Training\\\"},\\n)\";\n",
       "                var nbb_formatted_code = \"my_list_accepts = [\\n    predictions_accepts_beforeRI,\\n    predictions_accepts_base,\\n    predictions_accepts_iter,\\n    predictions_accepts_new,\\n]\\ndf_pred_accepts = pd.DataFrame(my_list_accepts).transpose()\\ndf_pred_accepts = df_pred_accepts.rename(\\n    columns={0: \\\"Before RI\\\", 1: \\\"Baseline\\\", 2: \\\"Iteration n\\\", 3: \\\"Self-Training\\\"},\\n)\";\n",
       "                var nbb_cells = Jupyter.notebook.get_cells();\n",
       "                for (var i = 0; i < nbb_cells.length; ++i) {\n",
       "                    if (nbb_cells[i].input_prompt_number == nbb_cell_id) {\n",
       "                        if (nbb_cells[i].get_text() == nbb_unformatted_code) {\n",
       "                             nbb_cells[i].set_text(nbb_formatted_code);\n",
       "                        }\n",
       "                        break;\n",
       "                    }\n",
       "                }\n",
       "            }, 500);\n",
       "            "
      ],
      "text/plain": [
       "<IPython.core.display.Javascript object>"
      ]
     },
     "metadata": {},
     "output_type": "display_data"
    }
   ],
   "source": [
    "my_list_accepts = [\n",
    "    predictions_accepts_beforeRI,\n",
    "    predictions_accepts_base,\n",
    "    predictions_accepts_iter,\n",
    "    predictions_accepts_new,\n",
    "]\n",
    "df_pred_accepts = pd.DataFrame(my_list_accepts).transpose()\n",
    "df_pred_accepts = df_pred_accepts.rename(\n",
    "    columns={0: \"Before RI\", 1: \"Baseline\", 2: \"Iteration n\", 3: \"Self-Training\"},\n",
    ")"
   ]
  },
  {
   "cell_type": "code",
   "execution_count": 39,
   "metadata": {},
   "outputs": [
    {
     "data": {
      "application/javascript": [
       "\n",
       "            setTimeout(function() {\n",
       "                var nbb_cell_id = 39;\n",
       "                var nbb_unformatted_code = \"my_list_rejects = [\\n    predictions_rejects_beforeRI,\\n    predictions_rejects_base,\\n    predictions_rejects_iter,\\n    predictions_rejects_new,\\n]\\ndf_pred_rejects = pd.DataFrame(my_list_rejects).transpose()\\ndf_pred_rejects = df_pred_rejects.rename(\\n    columns={0: \\\"Before RI\\\", 1: \\\"Baseline\\\", 2: \\\"Iteration n\\\", 3: \\\"Self-Training\\\"},\\n)\";\n",
       "                var nbb_formatted_code = \"my_list_rejects = [\\n    predictions_rejects_beforeRI,\\n    predictions_rejects_base,\\n    predictions_rejects_iter,\\n    predictions_rejects_new,\\n]\\ndf_pred_rejects = pd.DataFrame(my_list_rejects).transpose()\\ndf_pred_rejects = df_pred_rejects.rename(\\n    columns={0: \\\"Before RI\\\", 1: \\\"Baseline\\\", 2: \\\"Iteration n\\\", 3: \\\"Self-Training\\\"},\\n)\";\n",
       "                var nbb_cells = Jupyter.notebook.get_cells();\n",
       "                for (var i = 0; i < nbb_cells.length; ++i) {\n",
       "                    if (nbb_cells[i].input_prompt_number == nbb_cell_id) {\n",
       "                        if (nbb_cells[i].get_text() == nbb_unformatted_code) {\n",
       "                             nbb_cells[i].set_text(nbb_formatted_code);\n",
       "                        }\n",
       "                        break;\n",
       "                    }\n",
       "                }\n",
       "            }, 500);\n",
       "            "
      ],
      "text/plain": [
       "<IPython.core.display.Javascript object>"
      ]
     },
     "metadata": {},
     "output_type": "display_data"
    }
   ],
   "source": [
    "my_list_rejects = [\n",
    "    predictions_rejects_beforeRI,\n",
    "    predictions_rejects_base,\n",
    "    predictions_rejects_iter,\n",
    "    predictions_rejects_new,\n",
    "]\n",
    "df_pred_rejects = pd.DataFrame(my_list_rejects).transpose()\n",
    "df_pred_rejects = df_pred_rejects.rename(\n",
    "    columns={0: \"Before RI\", 1: \"Baseline\", 2: \"Iteration n\", 3: \"Self-Training\"},\n",
    ")"
   ]
  },
  {
   "cell_type": "code",
   "execution_count": 40,
   "metadata": {},
   "outputs": [
    {
     "data": {
      "text/html": [
       "<div>\n",
       "<style scoped>\n",
       "    .dataframe tbody tr th:only-of-type {\n",
       "        vertical-align: middle;\n",
       "    }\n",
       "\n",
       "    .dataframe tbody tr th {\n",
       "        vertical-align: top;\n",
       "    }\n",
       "\n",
       "    .dataframe thead th {\n",
       "        text-align: right;\n",
       "    }\n",
       "</style>\n",
       "<table border=\"1\" class=\"dataframe\">\n",
       "  <thead>\n",
       "    <tr style=\"text-align: right;\">\n",
       "      <th></th>\n",
       "      <th>Before RI</th>\n",
       "      <th>Baseline</th>\n",
       "      <th>Iteration n</th>\n",
       "      <th>Self-Training</th>\n",
       "    </tr>\n",
       "  </thead>\n",
       "  <tbody>\n",
       "    <tr>\n",
       "      <th>0</th>\n",
       "      <td>0.926</td>\n",
       "      <td>0.935</td>\n",
       "      <td>0.926</td>\n",
       "      <td>0.932</td>\n",
       "    </tr>\n",
       "  </tbody>\n",
       "</table>\n",
       "</div>"
      ],
      "text/plain": [
       "   Before RI  Baseline  Iteration n  Self-Training\n",
       "0      0.926     0.935        0.926          0.932"
      ]
     },
     "execution_count": 40,
     "metadata": {},
     "output_type": "execute_result"
    },
    {
     "data": {
      "application/javascript": [
       "\n",
       "            setTimeout(function() {\n",
       "                var nbb_cell_id = 40;\n",
       "                var nbb_unformatted_code = \"df_pred_accepts\";\n",
       "                var nbb_formatted_code = \"df_pred_accepts\";\n",
       "                var nbb_cells = Jupyter.notebook.get_cells();\n",
       "                for (var i = 0; i < nbb_cells.length; ++i) {\n",
       "                    if (nbb_cells[i].input_prompt_number == nbb_cell_id) {\n",
       "                        if (nbb_cells[i].get_text() == nbb_unformatted_code) {\n",
       "                             nbb_cells[i].set_text(nbb_formatted_code);\n",
       "                        }\n",
       "                        break;\n",
       "                    }\n",
       "                }\n",
       "            }, 500);\n",
       "            "
      ],
      "text/plain": [
       "<IPython.core.display.Javascript object>"
      ]
     },
     "metadata": {},
     "output_type": "display_data"
    }
   ],
   "source": [
    "df_pred_accepts"
   ]
  },
  {
   "cell_type": "code",
   "execution_count": 41,
   "metadata": {},
   "outputs": [
    {
     "data": {
      "text/html": [
       "<div>\n",
       "<style scoped>\n",
       "    .dataframe tbody tr th:only-of-type {\n",
       "        vertical-align: middle;\n",
       "    }\n",
       "\n",
       "    .dataframe tbody tr th {\n",
       "        vertical-align: top;\n",
       "    }\n",
       "\n",
       "    .dataframe thead th {\n",
       "        text-align: right;\n",
       "    }\n",
       "</style>\n",
       "<table border=\"1\" class=\"dataframe\">\n",
       "  <thead>\n",
       "    <tr style=\"text-align: right;\">\n",
       "      <th></th>\n",
       "      <th>Before RI</th>\n",
       "      <th>Baseline</th>\n",
       "      <th>Iteration n</th>\n",
       "      <th>Self-Training</th>\n",
       "    </tr>\n",
       "  </thead>\n",
       "  <tbody>\n",
       "    <tr>\n",
       "      <th>0</th>\n",
       "      <td>0.932</td>\n",
       "      <td>0.943</td>\n",
       "      <td>0.932</td>\n",
       "      <td>0.943</td>\n",
       "    </tr>\n",
       "  </tbody>\n",
       "</table>\n",
       "</div>"
      ],
      "text/plain": [
       "   Before RI  Baseline  Iteration n  Self-Training\n",
       "0      0.932     0.943        0.932          0.943"
      ]
     },
     "execution_count": 41,
     "metadata": {},
     "output_type": "execute_result"
    },
    {
     "data": {
      "application/javascript": [
       "\n",
       "            setTimeout(function() {\n",
       "                var nbb_cell_id = 41;\n",
       "                var nbb_unformatted_code = \"df_pred_rejects\";\n",
       "                var nbb_formatted_code = \"df_pred_rejects\";\n",
       "                var nbb_cells = Jupyter.notebook.get_cells();\n",
       "                for (var i = 0; i < nbb_cells.length; ++i) {\n",
       "                    if (nbb_cells[i].input_prompt_number == nbb_cell_id) {\n",
       "                        if (nbb_cells[i].get_text() == nbb_unformatted_code) {\n",
       "                             nbb_cells[i].set_text(nbb_formatted_code);\n",
       "                        }\n",
       "                        break;\n",
       "                    }\n",
       "                }\n",
       "            }, 500);\n",
       "            "
      ],
      "text/plain": [
       "<IPython.core.display.Javascript object>"
      ]
     },
     "metadata": {},
     "output_type": "display_data"
    }
   ],
   "source": [
    "df_pred_rejects"
   ]
  },
  {
   "cell_type": "markdown",
   "metadata": {},
   "source": [
    "## Parcelling"
   ]
  },
  {
   "cell_type": "code",
   "execution_count": null,
   "metadata": {},
   "outputs": [],
   "source": []
  },
  {
   "cell_type": "code",
   "execution_count": null,
   "metadata": {},
   "outputs": [],
   "source": []
  }
 ],
 "metadata": {
  "kernelspec": {
   "display_name": "Python 3",
   "language": "python",
   "name": "python3"
  },
  "language_info": {
   "codemirror_mode": {
    "name": "ipython",
    "version": 3
   },
   "file_extension": ".py",
   "mimetype": "text/x-python",
   "name": "python",
   "nbconvert_exporter": "python",
   "pygments_lexer": "ipython3",
   "version": "3.8.3"
  }
 },
 "nbformat": 4,
 "nbformat_minor": 4
}
