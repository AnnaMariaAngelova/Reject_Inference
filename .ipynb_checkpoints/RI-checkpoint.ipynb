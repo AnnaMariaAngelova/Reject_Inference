{
 "cells": [
  {
   "cell_type": "code",
   "execution_count": 802,
   "metadata": {},
   "outputs": [
    {
     "data": {
      "application/javascript": [
       "\n",
       "            setTimeout(function() {\n",
       "                var nbb_cell_id = 802;\n",
       "                var nbb_unformatted_code = \"%load_ext nb_black\";\n",
       "                var nbb_formatted_code = \"%load_ext nb_black\";\n",
       "                var nbb_cells = Jupyter.notebook.get_cells();\n",
       "                for (var i = 0; i < nbb_cells.length; ++i) {\n",
       "                    if (nbb_cells[i].input_prompt_number == nbb_cell_id) {\n",
       "                        if (nbb_cells[i].get_text() == nbb_unformatted_code) {\n",
       "                             nbb_cells[i].set_text(nbb_formatted_code);\n",
       "                        }\n",
       "                        break;\n",
       "                    }\n",
       "                }\n",
       "            }, 500);\n",
       "            "
      ],
      "text/plain": [
       "<IPython.core.display.Javascript object>"
      ]
     },
     "metadata": {},
     "output_type": "display_data"
    }
   ],
   "source": [
    "%load_ext nb_black"
   ]
  },
  {
   "cell_type": "code",
   "execution_count": 803,
   "metadata": {},
   "outputs": [
    {
     "data": {
      "application/javascript": [
       "\n",
       "            setTimeout(function() {\n",
       "                var nbb_cell_id = 803;\n",
       "                var nbb_unformatted_code = \"import warnings\\nwarnings.filterwarnings('ignore')\\n\\n# Basic Packages\\nimport pandas as pd\\nimport numpy as np\\nimport matplotlib.pyplot as plt\\n\\n# Preprocessing\\nfrom sklearn.model_selection import train_test_split\\n\\n# Modelling\\nimport statsmodels.api as sm\\nfrom sklearn.linear_model import LogisticRegression\\nfrom sklearn.linear_model import LinearRegression\\n\\n# Metrics\\nfrom sklearn.metrics import roc_auc_score\\nfrom sklearn.metrics import roc_curve\\nfrom sklearn.metrics import accuracy_score\\n\\n# Balancing\\nfrom imblearn.over_sampling import SMOTE\\nfrom imblearn.under_sampling import RandomUnderSampler\";\n",
       "                var nbb_formatted_code = \"import warnings\\n\\nwarnings.filterwarnings(\\\"ignore\\\")\\n\\n# Basic Packages\\nimport pandas as pd\\nimport numpy as np\\nimport matplotlib.pyplot as plt\\n\\n# Preprocessing\\nfrom sklearn.model_selection import train_test_split\\n\\n# Modelling\\nimport statsmodels.api as sm\\nfrom sklearn.linear_model import LogisticRegression\\nfrom sklearn.linear_model import LinearRegression\\n\\n# Metrics\\nfrom sklearn.metrics import roc_auc_score\\nfrom sklearn.metrics import roc_curve\\nfrom sklearn.metrics import accuracy_score\\n\\n# Balancing\\nfrom imblearn.over_sampling import SMOTE\\nfrom imblearn.under_sampling import RandomUnderSampler\";\n",
       "                var nbb_cells = Jupyter.notebook.get_cells();\n",
       "                for (var i = 0; i < nbb_cells.length; ++i) {\n",
       "                    if (nbb_cells[i].input_prompt_number == nbb_cell_id) {\n",
       "                        if (nbb_cells[i].get_text() == nbb_unformatted_code) {\n",
       "                             nbb_cells[i].set_text(nbb_formatted_code);\n",
       "                        }\n",
       "                        break;\n",
       "                    }\n",
       "                }\n",
       "            }, 500);\n",
       "            "
      ],
      "text/plain": [
       "<IPython.core.display.Javascript object>"
      ]
     },
     "metadata": {},
     "output_type": "display_data"
    }
   ],
   "source": [
    "import warnings\n",
    "warnings.filterwarnings(\"ignore\")\n",
    "\n",
    "# Basic Packages\n",
    "import pandas as pd\n",
    "import numpy as np\n",
    "import matplotlib.pyplot as plt\n",
    "\n",
    "# Preprocessing\n",
    "from sklearn.model_selection import train_test_split\n",
    "\n",
    "# Modelling\n",
    "import statsmodels.api as sm\n",
    "from sklearn.linear_model import LogisticRegression\n",
    "from sklearn.linear_model import LinearRegression\n",
    "\n",
    "# Metrics\n",
    "from sklearn.metrics import roc_auc_score\n",
    "from sklearn.metrics import roc_curve\n",
    "from sklearn.metrics import accuracy_score\n",
    "\n",
    "# Balancing\n",
    "from imblearn.over_sampling import SMOTE\n",
    "from imblearn.under_sampling import RandomUnderSampler"
   ]
  },
  {
   "cell_type": "markdown",
   "metadata": {},
   "source": [
    "Data: https://www.kaggle.com/wordsforthewise/lending-club"
   ]
  },
  {
   "cell_type": "code",
   "execution_count": 804,
   "metadata": {},
   "outputs": [
    {
     "data": {
      "application/javascript": [
       "\n",
       "            setTimeout(function() {\n",
       "                var nbb_cell_id = 804;\n",
       "                var nbb_unformatted_code = \"# Read data\\naccepted = pd.read_csv(\\\"accepted_2007_to_2018Q4.csv\\\", low_memory = False)\\nrejected = pd.read_csv(\\\"rejected_2007_to_2018Q4.csv\\\", low_memory = False)\";\n",
       "                var nbb_formatted_code = \"# Read data\\naccepted = pd.read_csv(\\\"accepted_2007_to_2018Q4.csv\\\", low_memory=False)\\nrejected = pd.read_csv(\\\"rejected_2007_to_2018Q4.csv\\\", low_memory=False)\";\n",
       "                var nbb_cells = Jupyter.notebook.get_cells();\n",
       "                for (var i = 0; i < nbb_cells.length; ++i) {\n",
       "                    if (nbb_cells[i].input_prompt_number == nbb_cell_id) {\n",
       "                        if (nbb_cells[i].get_text() == nbb_unformatted_code) {\n",
       "                             nbb_cells[i].set_text(nbb_formatted_code);\n",
       "                        }\n",
       "                        break;\n",
       "                    }\n",
       "                }\n",
       "            }, 500);\n",
       "            "
      ],
      "text/plain": [
       "<IPython.core.display.Javascript object>"
      ]
     },
     "metadata": {},
     "output_type": "display_data"
    }
   ],
   "source": [
    "# Read data\n",
    "accepted = pd.read_csv(\"accepted_2007_to_2018Q4.csv\", low_memory=False)\n",
    "rejected = pd.read_csv(\"rejected_2007_to_2018Q4.csv\", low_memory=False)"
   ]
  },
  {
   "cell_type": "markdown",
   "metadata": {},
   "source": [
    "## KGB Model"
   ]
  },
  {
   "cell_type": "code",
   "execution_count": 805,
   "metadata": {},
   "outputs": [
    {
     "data": {
      "application/javascript": [
       "\n",
       "            setTimeout(function() {\n",
       "                var nbb_cell_id = 805;\n",
       "                var nbb_unformatted_code = \"# Sample 100k obs. for easy processing\\naccepted_small = accepted.sample(n = 100000, random_state = 7) \\naccepted_small.reset_index(drop=True, inplace=True)\";\n",
       "                var nbb_formatted_code = \"# Sample 100k obs. for easy processing\\naccepted_small = accepted.sample(n=100000, random_state=7)\\naccepted_small.reset_index(drop=True, inplace=True)\";\n",
       "                var nbb_cells = Jupyter.notebook.get_cells();\n",
       "                for (var i = 0; i < nbb_cells.length; ++i) {\n",
       "                    if (nbb_cells[i].input_prompt_number == nbb_cell_id) {\n",
       "                        if (nbb_cells[i].get_text() == nbb_unformatted_code) {\n",
       "                             nbb_cells[i].set_text(nbb_formatted_code);\n",
       "                        }\n",
       "                        break;\n",
       "                    }\n",
       "                }\n",
       "            }, 500);\n",
       "            "
      ],
      "text/plain": [
       "<IPython.core.display.Javascript object>"
      ]
     },
     "metadata": {},
     "output_type": "display_data"
    }
   ],
   "source": [
    "# Sample 100k obs. for easy processing\n",
    "accepted_small = accepted.sample(n=100000, random_state=7)\n",
    "accepted_small.reset_index(drop=True, inplace=True)"
   ]
  },
  {
   "cell_type": "code",
   "execution_count": 806,
   "metadata": {},
   "outputs": [
    {
     "data": {
      "application/javascript": [
       "\n",
       "            setTimeout(function() {\n",
       "                var nbb_cell_id = 806;\n",
       "                var nbb_unformatted_code = \"# Create Default Flag\\naccepted_small[\\\"target\\\"] = accepted_small[\\\"loan_status\\\"].apply(\\n    lambda x: 1\\n    if x == \\\"Charged Off\\\"\\n    else (0 if x == \\\"Fully Paid\\\" else 2)\\n)\";\n",
       "                var nbb_formatted_code = \"# Create Default Flag\\naccepted_small[\\\"target\\\"] = accepted_small[\\\"loan_status\\\"].apply(\\n    lambda x: 1 if x == \\\"Charged Off\\\" else (0 if x == \\\"Fully Paid\\\" else 2)\\n)\";\n",
       "                var nbb_cells = Jupyter.notebook.get_cells();\n",
       "                for (var i = 0; i < nbb_cells.length; ++i) {\n",
       "                    if (nbb_cells[i].input_prompt_number == nbb_cell_id) {\n",
       "                        if (nbb_cells[i].get_text() == nbb_unformatted_code) {\n",
       "                             nbb_cells[i].set_text(nbb_formatted_code);\n",
       "                        }\n",
       "                        break;\n",
       "                    }\n",
       "                }\n",
       "            }, 500);\n",
       "            "
      ],
      "text/plain": [
       "<IPython.core.display.Javascript object>"
      ]
     },
     "metadata": {},
     "output_type": "display_data"
    }
   ],
   "source": [
    "# Create Default Flag\n",
    "accepted_small[\"target\"] = accepted_small[\"loan_status\"].apply(\n",
    "    lambda x: 1 if x == \"Charged Off\" else (0 if x == \"Fully Paid\" else 2)\n",
    ")"
   ]
  },
  {
   "cell_type": "code",
   "execution_count": 807,
   "metadata": {},
   "outputs": [
    {
     "data": {
      "text/plain": [
       "(59570, 152)"
      ]
     },
     "execution_count": 807,
     "metadata": {},
     "output_type": "execute_result"
    },
    {
     "data": {
      "application/javascript": [
       "\n",
       "            setTimeout(function() {\n",
       "                var nbb_cell_id = 807;\n",
       "                var nbb_unformatted_code = \"# Remove Current and Missings \\naccepted_small = accepted_small.loc[accepted_small['target'] !=2]\\naccepted_small.shape\";\n",
       "                var nbb_formatted_code = \"# Remove Current and Missings\\naccepted_small = accepted_small.loc[accepted_small[\\\"target\\\"] != 2]\\naccepted_small.shape\";\n",
       "                var nbb_cells = Jupyter.notebook.get_cells();\n",
       "                for (var i = 0; i < nbb_cells.length; ++i) {\n",
       "                    if (nbb_cells[i].input_prompt_number == nbb_cell_id) {\n",
       "                        if (nbb_cells[i].get_text() == nbb_unformatted_code) {\n",
       "                             nbb_cells[i].set_text(nbb_formatted_code);\n",
       "                        }\n",
       "                        break;\n",
       "                    }\n",
       "                }\n",
       "            }, 500);\n",
       "            "
      ],
      "text/plain": [
       "<IPython.core.display.Javascript object>"
      ]
     },
     "metadata": {},
     "output_type": "display_data"
    }
   ],
   "source": [
    "# Remove Current and Missings\n",
    "accepted_small = accepted_small.loc[accepted_small[\"target\"] != 2]\n",
    "accepted_small.shape"
   ]
  },
  {
   "cell_type": "code",
   "execution_count": 808,
   "metadata": {},
   "outputs": [
    {
     "data": {
      "text/html": [
       "<div>\n",
       "<style scoped>\n",
       "    .dataframe tbody tr th:only-of-type {\n",
       "        vertical-align: middle;\n",
       "    }\n",
       "\n",
       "    .dataframe tbody tr th {\n",
       "        vertical-align: top;\n",
       "    }\n",
       "\n",
       "    .dataframe thead th {\n",
       "        text-align: right;\n",
       "    }\n",
       "</style>\n",
       "<table border=\"1\" class=\"dataframe\">\n",
       "  <thead>\n",
       "    <tr style=\"text-align: right;\">\n",
       "      <th>loan_status</th>\n",
       "      <th>Charged Off</th>\n",
       "      <th>Fully Paid</th>\n",
       "    </tr>\n",
       "    <tr>\n",
       "      <th>target</th>\n",
       "      <th></th>\n",
       "      <th></th>\n",
       "    </tr>\n",
       "  </thead>\n",
       "  <tbody>\n",
       "    <tr>\n",
       "      <th>0</th>\n",
       "      <td>0</td>\n",
       "      <td>47629</td>\n",
       "    </tr>\n",
       "    <tr>\n",
       "      <th>1</th>\n",
       "      <td>11941</td>\n",
       "      <td>0</td>\n",
       "    </tr>\n",
       "  </tbody>\n",
       "</table>\n",
       "</div>"
      ],
      "text/plain": [
       "loan_status  Charged Off  Fully Paid\n",
       "target                              \n",
       "0                      0       47629\n",
       "1                  11941           0"
      ]
     },
     "execution_count": 808,
     "metadata": {},
     "output_type": "execute_result"
    },
    {
     "data": {
      "application/javascript": [
       "\n",
       "            setTimeout(function() {\n",
       "                var nbb_cell_id = 808;\n",
       "                var nbb_unformatted_code = \"pd.crosstab(accepted_small[\\\"target\\\"], accepted_small[\\\"loan_status\\\"])\";\n",
       "                var nbb_formatted_code = \"pd.crosstab(accepted_small[\\\"target\\\"], accepted_small[\\\"loan_status\\\"])\";\n",
       "                var nbb_cells = Jupyter.notebook.get_cells();\n",
       "                for (var i = 0; i < nbb_cells.length; ++i) {\n",
       "                    if (nbb_cells[i].input_prompt_number == nbb_cell_id) {\n",
       "                        if (nbb_cells[i].get_text() == nbb_unformatted_code) {\n",
       "                             nbb_cells[i].set_text(nbb_formatted_code);\n",
       "                        }\n",
       "                        break;\n",
       "                    }\n",
       "                }\n",
       "            }, 500);\n",
       "            "
      ],
      "text/plain": [
       "<IPython.core.display.Javascript object>"
      ]
     },
     "metadata": {},
     "output_type": "display_data"
    }
   ],
   "source": [
    "pd.crosstab(accepted_small[\"target\"], accepted_small[\"loan_status\"])"
   ]
  },
  {
   "cell_type": "markdown",
   "metadata": {},
   "source": [
    "The dataset is imbalanced"
   ]
  },
  {
   "cell_type": "code",
   "execution_count": 809,
   "metadata": {},
   "outputs": [
    {
     "data": {
      "application/javascript": [
       "\n",
       "            setTimeout(function() {\n",
       "                var nbb_cell_id = 809;\n",
       "                var nbb_unformatted_code = \"# Keep only 1 explanatory variable for quick an dirty PD model\\ndf = accepted_small[[\\\"id\\\", \\\"target\\\", \\\"loan_amnt\\\"]]\";\n",
       "                var nbb_formatted_code = \"# Keep only 1 explanatory variable for quick an dirty PD model\\ndf = accepted_small[[\\\"id\\\", \\\"target\\\", \\\"loan_amnt\\\"]]\";\n",
       "                var nbb_cells = Jupyter.notebook.get_cells();\n",
       "                for (var i = 0; i < nbb_cells.length; ++i) {\n",
       "                    if (nbb_cells[i].input_prompt_number == nbb_cell_id) {\n",
       "                        if (nbb_cells[i].get_text() == nbb_unformatted_code) {\n",
       "                             nbb_cells[i].set_text(nbb_formatted_code);\n",
       "                        }\n",
       "                        break;\n",
       "                    }\n",
       "                }\n",
       "            }, 500);\n",
       "            "
      ],
      "text/plain": [
       "<IPython.core.display.Javascript object>"
      ]
     },
     "metadata": {},
     "output_type": "display_data"
    }
   ],
   "source": [
    "# Keep only 1 explanatory variable for quick an dirty PD model\n",
    "df = accepted_small[[\"id\", \"target\", \"loan_amnt\"]]"
   ]
  },
  {
   "cell_type": "code",
   "execution_count": 810,
   "metadata": {},
   "outputs": [
    {
     "data": {
      "application/javascript": [
       "\n",
       "            setTimeout(function() {\n",
       "                var nbb_cell_id = 810;\n",
       "                var nbb_unformatted_code = \"# Q&D Bucketing\\ndf[\\\"loan_amnt2\\\"] = df[\\\"loan_amnt\\\"].apply(\\n    lambda x: \\\"<=1k\\\"\\n    if (x <= 1000)\\n    else (\\\"1-10k\\\" if (x > 1000 and x <= 10000) else \\\">10k\\\")\\n)\\ndf2 = df[[\\\"id\\\", \\\"target\\\", \\\"loan_amnt2\\\"]]\";\n",
       "                var nbb_formatted_code = \"# Q&D Bucketing\\ndf[\\\"loan_amnt2\\\"] = df[\\\"loan_amnt\\\"].apply(\\n    lambda x: \\\"<=1k\\\"\\n    if (x <= 1000)\\n    else (\\\"1-10k\\\" if (x > 1000 and x <= 10000) else \\\">10k\\\")\\n)\\ndf2 = df[[\\\"id\\\", \\\"target\\\", \\\"loan_amnt2\\\"]]\";\n",
       "                var nbb_cells = Jupyter.notebook.get_cells();\n",
       "                for (var i = 0; i < nbb_cells.length; ++i) {\n",
       "                    if (nbb_cells[i].input_prompt_number == nbb_cell_id) {\n",
       "                        if (nbb_cells[i].get_text() == nbb_unformatted_code) {\n",
       "                             nbb_cells[i].set_text(nbb_formatted_code);\n",
       "                        }\n",
       "                        break;\n",
       "                    }\n",
       "                }\n",
       "            }, 500);\n",
       "            "
      ],
      "text/plain": [
       "<IPython.core.display.Javascript object>"
      ]
     },
     "metadata": {},
     "output_type": "display_data"
    }
   ],
   "source": [
    "# Q&D Bucketing\n",
    "df[\"loan_amnt2\"] = df[\"loan_amnt\"].apply(\n",
    "    lambda x: \"<=1k\"\n",
    "    if (x <= 1000)\n",
    "    else (\"1-10k\" if (x > 1000 and x <= 10000) else \">10k\")\n",
    ")\n",
    "df2 = df[[\"id\", \"target\", \"loan_amnt2\"]]"
   ]
  },
  {
   "cell_type": "code",
   "execution_count": 811,
   "metadata": {},
   "outputs": [
    {
     "data": {
      "text/plain": [
       "Text(0, 0.5, 'Proportion of Accepts')"
      ]
     },
     "execution_count": 811,
     "metadata": {},
     "output_type": "execute_result"
    },
    {
     "data": {
      "image/png": "[encoded data removed]",
      "text/plain": [
       "<Figure size 432x288 with 1 Axes>"
      ]
     },
     "metadata": {
      "needs_background": "light"
     },
     "output_type": "display_data"
    },
    {
     "data": {
      "application/javascript": [
       "\n",
       "            setTimeout(function() {\n",
       "                var nbb_cell_id = 811;\n",
       "                var nbb_unformatted_code = \"#Explore differentiation\\n%matplotlib inline\\ntable = pd.crosstab(df[\\\"loan_amnt2\\\"], df[\\\"target\\\"])\\ntable.div(table.sum(1).astype(float), axis=0).plot(\\n    kind=\\\"bar\\\", color=[\\\"cadetblue\\\", \\\"crimson\\\"], stacked=True\\n)\\nplt.title(\\\"Stacked Bar Employment Length vs Accept Reject\\\")\\nplt.xlabel(\\\"Employment Length\\\")\\nplt.ylabel(\\\"Proportion of Accepts\\\")\";\n",
       "                var nbb_formatted_code = \"# Explore differentiation\\n%matplotlib inline\\ntable = pd.crosstab(df[\\\"loan_amnt2\\\"], df[\\\"target\\\"])\\ntable.div(table.sum(1).astype(float), axis=0).plot(\\n    kind=\\\"bar\\\", color=[\\\"cadetblue\\\", \\\"crimson\\\"], stacked=True\\n)\\nplt.title(\\\"Stacked Bar Employment Length vs Accept Reject\\\")\\nplt.xlabel(\\\"Employment Length\\\")\\nplt.ylabel(\\\"Proportion of Accepts\\\")\";\n",
       "                var nbb_cells = Jupyter.notebook.get_cells();\n",
       "                for (var i = 0; i < nbb_cells.length; ++i) {\n",
       "                    if (nbb_cells[i].input_prompt_number == nbb_cell_id) {\n",
       "                        if (nbb_cells[i].get_text() == nbb_unformatted_code) {\n",
       "                             nbb_cells[i].set_text(nbb_formatted_code);\n",
       "                        }\n",
       "                        break;\n",
       "                    }\n",
       "                }\n",
       "            }, 500);\n",
       "            "
      ],
      "text/plain": [
       "<IPython.core.display.Javascript object>"
      ]
     },
     "metadata": {},
     "output_type": "display_data"
    }
   ],
   "source": [
    "# Explore differentiation\n",
    "%matplotlib inline\n",
    "table = pd.crosstab(df[\"loan_amnt2\"], df[\"target\"])\n",
    "table.div(table.sum(1).astype(float), axis=0).plot(\n",
    "    kind=\"bar\", color=[\"cadetblue\", \"crimson\"], stacked=True\n",
    ")\n",
    "plt.title(\"Stacked Bar Employment Length vs Accept Reject\")\n",
    "plt.xlabel(\"Employment Length\")\n",
    "plt.ylabel(\"Proportion of Accepts\")"
   ]
  },
  {
   "cell_type": "code",
   "execution_count": 812,
   "metadata": {},
   "outputs": [
    {
     "data": {
      "text/html": [
       "<div>\n",
       "<style scoped>\n",
       "    .dataframe tbody tr th:only-of-type {\n",
       "        vertical-align: middle;\n",
       "    }\n",
       "\n",
       "    .dataframe tbody tr th {\n",
       "        vertical-align: top;\n",
       "    }\n",
       "\n",
       "    .dataframe thead th {\n",
       "        text-align: right;\n",
       "    }\n",
       "</style>\n",
       "<table border=\"1\" class=\"dataframe\">\n",
       "  <thead>\n",
       "    <tr style=\"text-align: right;\">\n",
       "      <th>target</th>\n",
       "      <th>0</th>\n",
       "      <th>1</th>\n",
       "    </tr>\n",
       "    <tr>\n",
       "      <th>loan_amnt2</th>\n",
       "      <th></th>\n",
       "      <th></th>\n",
       "    </tr>\n",
       "  </thead>\n",
       "  <tbody>\n",
       "    <tr>\n",
       "      <th>1-10k</th>\n",
       "      <td>0.827975</td>\n",
       "      <td>0.172025</td>\n",
       "    </tr>\n",
       "    <tr>\n",
       "      <th>&lt;=1k</th>\n",
       "      <td>0.904943</td>\n",
       "      <td>0.095057</td>\n",
       "    </tr>\n",
       "    <tr>\n",
       "      <th>&gt;10k</th>\n",
       "      <td>0.779031</td>\n",
       "      <td>0.220969</td>\n",
       "    </tr>\n",
       "  </tbody>\n",
       "</table>\n",
       "</div>"
      ],
      "text/plain": [
       "target             0         1\n",
       "loan_amnt2                    \n",
       "1-10k       0.827975  0.172025\n",
       "<=1k        0.904943  0.095057\n",
       ">10k        0.779031  0.220969"
      ]
     },
     "execution_count": 812,
     "metadata": {},
     "output_type": "execute_result"
    },
    {
     "data": {
      "application/javascript": [
       "\n",
       "            setTimeout(function() {\n",
       "                var nbb_cell_id = 812;\n",
       "                var nbb_unformatted_code = \"pd.crosstab(df[\\\"loan_amnt2\\\"], df[\\\"target\\\"]).apply(\\n    lambda r: r / r.sum(), axis=1\\n)\";\n",
       "                var nbb_formatted_code = \"pd.crosstab(df[\\\"loan_amnt2\\\"], df[\\\"target\\\"]).apply(lambda r: r / r.sum(), axis=1)\";\n",
       "                var nbb_cells = Jupyter.notebook.get_cells();\n",
       "                for (var i = 0; i < nbb_cells.length; ++i) {\n",
       "                    if (nbb_cells[i].input_prompt_number == nbb_cell_id) {\n",
       "                        if (nbb_cells[i].get_text() == nbb_unformatted_code) {\n",
       "                             nbb_cells[i].set_text(nbb_formatted_code);\n",
       "                        }\n",
       "                        break;\n",
       "                    }\n",
       "                }\n",
       "            }, 500);\n",
       "            "
      ],
      "text/plain": [
       "<IPython.core.display.Javascript object>"
      ]
     },
     "metadata": {},
     "output_type": "display_data"
    }
   ],
   "source": [
    "pd.crosstab(df[\"loan_amnt2\"], df[\"target\"]).apply(lambda r: r / r.sum(), axis=1)"
   ]
  },
  {
   "cell_type": "code",
   "execution_count": 813,
   "metadata": {},
   "outputs": [
    {
     "data": {
      "application/javascript": [
       "\n",
       "            setTimeout(function() {\n",
       "                var nbb_cell_id = 813;\n",
       "                var nbb_unformatted_code = \"# One hot encoding\\nmodelling_variables = [\\\"target\\\", \\\"loan_amnt2\\\"]\\n\\nfor i in modelling_variables:\\n    if i != \\\"target\\\":\\n        df2 = df.join(pd.get_dummies(df[i]))\\n        df2 = df2.drop([i], axis=1)\";\n",
       "                var nbb_formatted_code = \"# One hot encoding\\nmodelling_variables = [\\\"target\\\", \\\"loan_amnt2\\\"]\\n\\nfor i in modelling_variables:\\n    if i != \\\"target\\\":\\n        df2 = df.join(pd.get_dummies(df[i]))\\n        df2 = df2.drop([i], axis=1)\";\n",
       "                var nbb_cells = Jupyter.notebook.get_cells();\n",
       "                for (var i = 0; i < nbb_cells.length; ++i) {\n",
       "                    if (nbb_cells[i].input_prompt_number == nbb_cell_id) {\n",
       "                        if (nbb_cells[i].get_text() == nbb_unformatted_code) {\n",
       "                             nbb_cells[i].set_text(nbb_formatted_code);\n",
       "                        }\n",
       "                        break;\n",
       "                    }\n",
       "                }\n",
       "            }, 500);\n",
       "            "
      ],
      "text/plain": [
       "<IPython.core.display.Javascript object>"
      ]
     },
     "metadata": {},
     "output_type": "display_data"
    }
   ],
   "source": [
    "# One hot encoding\n",
    "modelling_variables = [\"target\", \"loan_amnt2\"]\n",
    "\n",
    "for i in modelling_variables:\n",
    "    if i != \"target\":\n",
    "        df2 = df.join(pd.get_dummies(df[i]))\n",
    "        df2 = df2.drop([i], axis=1)"
   ]
  },
  {
   "cell_type": "code",
   "execution_count": 814,
   "metadata": {},
   "outputs": [
    {
     "data": {
      "application/javascript": [
       "\n",
       "            setTimeout(function() {\n",
       "                var nbb_cell_id = 814;\n",
       "                var nbb_unformatted_code = \"# Drop Null Band\\ndf3 = df2.drop(\\n    columns=[\\\"loan_amnt\\\", \\\"1-10k\\\",\\n    ]\\n)\";\n",
       "                var nbb_formatted_code = \"# Drop Null Band\\ndf3 = df2.drop(\\n    columns=[\\n        \\\"loan_amnt\\\",\\n        \\\"1-10k\\\",\\n    ]\\n)\";\n",
       "                var nbb_cells = Jupyter.notebook.get_cells();\n",
       "                for (var i = 0; i < nbb_cells.length; ++i) {\n",
       "                    if (nbb_cells[i].input_prompt_number == nbb_cell_id) {\n",
       "                        if (nbb_cells[i].get_text() == nbb_unformatted_code) {\n",
       "                             nbb_cells[i].set_text(nbb_formatted_code);\n",
       "                        }\n",
       "                        break;\n",
       "                    }\n",
       "                }\n",
       "            }, 500);\n",
       "            "
      ],
      "text/plain": [
       "<IPython.core.display.Javascript object>"
      ]
     },
     "metadata": {},
     "output_type": "display_data"
    }
   ],
   "source": [
    "# Drop Null Band\n",
    "df3 = df2.drop(\n",
    "    columns=[\n",
    "        \"loan_amnt\",\n",
    "        \"1-10k\",\n",
    "    ]\n",
    ")"
   ]
  },
  {
   "cell_type": "code",
   "execution_count": 815,
   "metadata": {},
   "outputs": [
    {
     "data": {
      "text/plain": [
       "Index(['id', 'target', '<=1k', '>10k'], dtype='object')"
      ]
     },
     "execution_count": 815,
     "metadata": {},
     "output_type": "execute_result"
    },
    {
     "data": {
      "application/javascript": [
       "\n",
       "            setTimeout(function() {\n",
       "                var nbb_cell_id = 815;\n",
       "                var nbb_unformatted_code = \"df3.columns\";\n",
       "                var nbb_formatted_code = \"df3.columns\";\n",
       "                var nbb_cells = Jupyter.notebook.get_cells();\n",
       "                for (var i = 0; i < nbb_cells.length; ++i) {\n",
       "                    if (nbb_cells[i].input_prompt_number == nbb_cell_id) {\n",
       "                        if (nbb_cells[i].get_text() == nbb_unformatted_code) {\n",
       "                             nbb_cells[i].set_text(nbb_formatted_code);\n",
       "                        }\n",
       "                        break;\n",
       "                    }\n",
       "                }\n",
       "            }, 500);\n",
       "            "
      ],
      "text/plain": [
       "<IPython.core.display.Javascript object>"
      ]
     },
     "metadata": {},
     "output_type": "display_data"
    }
   ],
   "source": [
    "df3.columns"
   ]
  },
  {
   "cell_type": "code",
   "execution_count": 816,
   "metadata": {},
   "outputs": [
    {
     "data": {
      "application/javascript": [
       "\n",
       "            setTimeout(function() {\n",
       "                var nbb_cell_id = 816;\n",
       "                var nbb_unformatted_code = \"X = df3.loc[:, df3.columns != \\\"target\\\"]\\ny = df3.loc[:, df3.columns == \\\"target\\\"]\";\n",
       "                var nbb_formatted_code = \"X = df3.loc[:, df3.columns != \\\"target\\\"]\\ny = df3.loc[:, df3.columns == \\\"target\\\"]\";\n",
       "                var nbb_cells = Jupyter.notebook.get_cells();\n",
       "                for (var i = 0; i < nbb_cells.length; ++i) {\n",
       "                    if (nbb_cells[i].input_prompt_number == nbb_cell_id) {\n",
       "                        if (nbb_cells[i].get_text() == nbb_unformatted_code) {\n",
       "                             nbb_cells[i].set_text(nbb_formatted_code);\n",
       "                        }\n",
       "                        break;\n",
       "                    }\n",
       "                }\n",
       "            }, 500);\n",
       "            "
      ],
      "text/plain": [
       "<IPython.core.display.Javascript object>"
      ]
     },
     "metadata": {},
     "output_type": "display_data"
    }
   ],
   "source": [
    "X = df3.loc[:, df3.columns != \"target\"]\n",
    "y = df3.loc[:, df3.columns == \"target\"]"
   ]
  },
  {
   "cell_type": "code",
   "execution_count": 817,
   "metadata": {},
   "outputs": [
    {
     "data": {
      "application/javascript": [
       "\n",
       "            setTimeout(function() {\n",
       "                var nbb_cell_id = 817;\n",
       "                var nbb_unformatted_code = \"# Balance the data\\nos = RandomUnderSampler(sampling_strategy=0.5, random_state=7)\\nX_train, X_test, y_train, y_test = train_test_split(X, y, test_size=0.3, random_state=7)\\ncolumns = X_train.columns\";\n",
       "                var nbb_formatted_code = \"# Balance the data\\nos = RandomUnderSampler(sampling_strategy=0.5, random_state=7)\\nX_train, X_test, y_train, y_test = train_test_split(X, y, test_size=0.3, random_state=7)\\ncolumns = X_train.columns\";\n",
       "                var nbb_cells = Jupyter.notebook.get_cells();\n",
       "                for (var i = 0; i < nbb_cells.length; ++i) {\n",
       "                    if (nbb_cells[i].input_prompt_number == nbb_cell_id) {\n",
       "                        if (nbb_cells[i].get_text() == nbb_unformatted_code) {\n",
       "                             nbb_cells[i].set_text(nbb_formatted_code);\n",
       "                        }\n",
       "                        break;\n",
       "                    }\n",
       "                }\n",
       "            }, 500);\n",
       "            "
      ],
      "text/plain": [
       "<IPython.core.display.Javascript object>"
      ]
     },
     "metadata": {},
     "output_type": "display_data"
    }
   ],
   "source": [
    "# Balance the data\n",
    "os = RandomUnderSampler(sampling_strategy=0.5, random_state=7)\n",
    "X_train, X_test, y_train, y_test = train_test_split(X, y, test_size=0.3, random_state=7)\n",
    "columns = X_train.columns"
   ]
  },
  {
   "cell_type": "code",
   "execution_count": 818,
   "metadata": {},
   "outputs": [
    {
     "name": "stdout",
     "output_type": "stream",
     "text": [
      "The number of observations in Development data before undersampling is  41699\n",
      "The number of observations in Development data after undersampling is  24948\n"
     ]
    },
    {
     "data": {
      "application/javascript": [
       "\n",
       "            setTimeout(function() {\n",
       "                var nbb_cell_id = 818;\n",
       "                var nbb_unformatted_code = \"# Train\\nos_data_X, os_data_y = os.fit_sample(X_train, y_train)\\nos_data_X = pd.DataFrame(data=os_data_X, columns=columns)\\nos_data_y = pd.DataFrame(data=os_data_y, columns=[\\\"target\\\"])\\n\\n# we can check the numbers of our data\\nprint(\\n    \\\"The number of observations in Development data before undersampling is \\\",\\n    len(X_train),\\n)\\nprint(\\n    \\\"The number of observations in Development data after undersampling is \\\",\\n    len(os_data_X),\\n)\";\n",
       "                var nbb_formatted_code = \"# Train\\nos_data_X, os_data_y = os.fit_sample(X_train, y_train)\\nos_data_X = pd.DataFrame(data=os_data_X, columns=columns)\\nos_data_y = pd.DataFrame(data=os_data_y, columns=[\\\"target\\\"])\\n\\n# we can check the numbers of our data\\nprint(\\n    \\\"The number of observations in Development data before undersampling is \\\",\\n    len(X_train),\\n)\\nprint(\\n    \\\"The number of observations in Development data after undersampling is \\\",\\n    len(os_data_X),\\n)\";\n",
       "                var nbb_cells = Jupyter.notebook.get_cells();\n",
       "                for (var i = 0; i < nbb_cells.length; ++i) {\n",
       "                    if (nbb_cells[i].input_prompt_number == nbb_cell_id) {\n",
       "                        if (nbb_cells[i].get_text() == nbb_unformatted_code) {\n",
       "                             nbb_cells[i].set_text(nbb_formatted_code);\n",
       "                        }\n",
       "                        break;\n",
       "                    }\n",
       "                }\n",
       "            }, 500);\n",
       "            "
      ],
      "text/plain": [
       "<IPython.core.display.Javascript object>"
      ]
     },
     "metadata": {},
     "output_type": "display_data"
    }
   ],
   "source": [
    "# Train\n",
    "os_data_X, os_data_y = os.fit_sample(X_train, y_train)\n",
    "os_data_X = pd.DataFrame(data=os_data_X, columns=columns)\n",
    "os_data_y = pd.DataFrame(data=os_data_y, columns=[\"target\"])\n",
    "\n",
    "# we can check the numbers of our data\n",
    "print(\n",
    "    \"The number of observations in Development data before undersampling is \",\n",
    "    len(X_train),\n",
    ")\n",
    "print(\n",
    "    \"The number of observations in Development data after undersampling is \",\n",
    "    len(os_data_X),\n",
    ")"
   ]
  },
  {
   "cell_type": "code",
   "execution_count": 819,
   "metadata": {},
   "outputs": [
    {
     "data": {
      "application/javascript": [
       "\n",
       "            setTimeout(function() {\n",
       "                var nbb_cell_id = 819;\n",
       "                var nbb_unformatted_code = \"#Keep only columns for modelling\\nos_data_X_2 = os_data_X[['<=1k', '>10k']]\\nX_test_2 = X_test[['<=1k', '>10k']]\";\n",
       "                var nbb_formatted_code = \"# Keep only columns for modelling\\nos_data_X_2 = os_data_X[[\\\"<=1k\\\", \\\">10k\\\"]]\\nX_test_2 = X_test[[\\\"<=1k\\\", \\\">10k\\\"]]\";\n",
       "                var nbb_cells = Jupyter.notebook.get_cells();\n",
       "                for (var i = 0; i < nbb_cells.length; ++i) {\n",
       "                    if (nbb_cells[i].input_prompt_number == nbb_cell_id) {\n",
       "                        if (nbb_cells[i].get_text() == nbb_unformatted_code) {\n",
       "                             nbb_cells[i].set_text(nbb_formatted_code);\n",
       "                        }\n",
       "                        break;\n",
       "                    }\n",
       "                }\n",
       "            }, 500);\n",
       "            "
      ],
      "text/plain": [
       "<IPython.core.display.Javascript object>"
      ]
     },
     "metadata": {},
     "output_type": "display_data"
    }
   ],
   "source": [
    "# Keep only columns for modelling\n",
    "os_data_X_2 = os_data_X[[\"<=1k\", \">10k\"]]\n",
    "X_test_2 = X_test[[\"<=1k\", \">10k\"]]"
   ]
  },
  {
   "cell_type": "code",
   "execution_count": 820,
   "metadata": {},
   "outputs": [
    {
     "name": "stdout",
     "output_type": "stream",
     "text": [
      "Optimization terminated successfully.\n",
      "         Current function value: 0.669391\n",
      "         Iterations 6\n",
      "                         Results: Logit\n",
      "=================================================================\n",
      "Model:              Logit            Pseudo R-squared: -0.052    \n",
      "Dependent Variable: target           AIC:              33403.9251\n",
      "Date:               2020-10-26 19:11 BIC:              33420.1742\n",
      "No. Observations:   24948            Log-Likelihood:   -16700.   \n",
      "Df Model:           1                LL-Null:          -15880.   \n",
      "Df Residuals:       24946            LLR p-value:      1.0000    \n",
      "Converged:          1.0000           Scale:            1.0000    \n",
      "No. Iterations:     6.0000                                       \n",
      "-------------------------------------------------------------------\n",
      "          Coef.    Std.Err.      z       P>|z|     [0.025    0.975]\n",
      "-------------------------------------------------------------------\n",
      "<=1k     -1.7554     0.2894    -6.0648   0.0000   -2.3227   -1.1881\n",
      ">10k     -0.5620     0.0170   -33.0103   0.0000   -0.5954   -0.5287\n",
      "=================================================================\n",
      "\n"
     ]
    },
    {
     "data": {
      "application/javascript": [
       "\n",
       "            setTimeout(function() {\n",
       "                var nbb_cell_id = 820;\n",
       "                var nbb_unformatted_code = \"#Build Logistic regression\\n# Statmodels\\nlogit_model = sm.Logit(os_data_y, os_data_X_2.astype(float))\\nresult3 = logit_model.fit()\\nprint(result3.summary2())\";\n",
       "                var nbb_formatted_code = \"# Build Logistic regression\\n# Statmodels\\nlogit_model = sm.Logit(os_data_y, os_data_X_2.astype(float))\\nresult3 = logit_model.fit()\\nprint(result3.summary2())\";\n",
       "                var nbb_cells = Jupyter.notebook.get_cells();\n",
       "                for (var i = 0; i < nbb_cells.length; ++i) {\n",
       "                    if (nbb_cells[i].input_prompt_number == nbb_cell_id) {\n",
       "                        if (nbb_cells[i].get_text() == nbb_unformatted_code) {\n",
       "                             nbb_cells[i].set_text(nbb_formatted_code);\n",
       "                        }\n",
       "                        break;\n",
       "                    }\n",
       "                }\n",
       "            }, 500);\n",
       "            "
      ],
      "text/plain": [
       "<IPython.core.display.Javascript object>"
      ]
     },
     "metadata": {},
     "output_type": "display_data"
    }
   ],
   "source": [
    "# Build Logistic regression\n",
    "# Statmodels\n",
    "logit_model = sm.Logit(os_data_y, os_data_X_2.astype(float))\n",
    "result3 = logit_model.fit()\n",
    "print(result3.summary2())"
   ]
  },
  {
   "cell_type": "code",
   "execution_count": 821,
   "metadata": {},
   "outputs": [
    {
     "name": "stdout",
     "output_type": "stream",
     "text": [
      "Accuracy score Logistic Regression: 0.797157405853058\n"
     ]
    },
    {
     "data": {
      "image/png": "[encoded data removed]",
      "text/plain": [
       "<Figure size 432x288 with 1 Axes>"
      ]
     },
     "metadata": {
      "needs_background": "light"
     },
     "output_type": "display_data"
    },
    {
     "data": {
      "application/javascript": [
       "\n",
       "            setTimeout(function() {\n",
       "                var nbb_cell_id = 821;\n",
       "                var nbb_unformatted_code = \"#Sklearn\\nlogreg = LogisticRegression()\\nlogreg.fit(os_data_X_2, os_data_y.values.ravel())\\ny_pred = logreg.predict(X_test_2)\\nprint(\\\"Accuracy score Logistic Regression:\\\", logreg.score(X_test_2, y_test))\\nlogit_roc_auc = roc_auc_score(y_test, logreg.predict(X_test_2))\\nfpr, tpr, thresholds = roc_curve(y_test, logreg.predict_proba(X_test_2)[:, 1])\\nplt.figure()\\nplt.plot(fpr, tpr, label=\\\"Logistic Regression (area = %0.2f)\\\" % logit_roc_auc)\\nplt.plot([0, 1], [0, 1], \\\"r--\\\")\\nplt.xlim([0.0, 1.0])\\nplt.ylim([0.0, 1.05])\\nplt.xlabel(\\\"False Positive Rate\\\")\\nplt.ylabel(\\\"True Positive Rate\\\")\\nplt.title(\\\"Receiver operating characteristic\\\")\\nplt.legend(loc=\\\"lower right\\\")\\nplt.savefig(\\\"Log_ROC\\\")\\nplt.show()\";\n",
       "                var nbb_formatted_code = \"# Sklearn\\nlogreg = LogisticRegression()\\nlogreg.fit(os_data_X_2, os_data_y.values.ravel())\\ny_pred = logreg.predict(X_test_2)\\nprint(\\\"Accuracy score Logistic Regression:\\\", logreg.score(X_test_2, y_test))\\nlogit_roc_auc = roc_auc_score(y_test, logreg.predict(X_test_2))\\nfpr, tpr, thresholds = roc_curve(y_test, logreg.predict_proba(X_test_2)[:, 1])\\nplt.figure()\\nplt.plot(fpr, tpr, label=\\\"Logistic Regression (area = %0.2f)\\\" % logit_roc_auc)\\nplt.plot([0, 1], [0, 1], \\\"r--\\\")\\nplt.xlim([0.0, 1.0])\\nplt.ylim([0.0, 1.05])\\nplt.xlabel(\\\"False Positive Rate\\\")\\nplt.ylabel(\\\"True Positive Rate\\\")\\nplt.title(\\\"Receiver operating characteristic\\\")\\nplt.legend(loc=\\\"lower right\\\")\\nplt.savefig(\\\"Log_ROC\\\")\\nplt.show()\";\n",
       "                var nbb_cells = Jupyter.notebook.get_cells();\n",
       "                for (var i = 0; i < nbb_cells.length; ++i) {\n",
       "                    if (nbb_cells[i].input_prompt_number == nbb_cell_id) {\n",
       "                        if (nbb_cells[i].get_text() == nbb_unformatted_code) {\n",
       "                             nbb_cells[i].set_text(nbb_formatted_code);\n",
       "                        }\n",
       "                        break;\n",
       "                    }\n",
       "                }\n",
       "            }, 500);\n",
       "            "
      ],
      "text/plain": [
       "<IPython.core.display.Javascript object>"
      ]
     },
     "metadata": {},
     "output_type": "display_data"
    }
   ],
   "source": [
    "# Sklearn\n",
    "logreg = LogisticRegression()\n",
    "logreg.fit(os_data_X_2, os_data_y.values.ravel())\n",
    "y_pred = logreg.predict(X_test_2)\n",
    "print(\"Accuracy score Logistic Regression:\", logreg.score(X_test_2, y_test))\n",
    "logit_roc_auc = roc_auc_score(y_test, logreg.predict(X_test_2))\n",
    "fpr, tpr, thresholds = roc_curve(y_test, logreg.predict_proba(X_test_2)[:, 1])\n",
    "plt.figure()\n",
    "plt.plot(fpr, tpr, label=\"Logistic Regression (area = %0.2f)\" % logit_roc_auc)\n",
    "plt.plot([0, 1], [0, 1], \"r--\")\n",
    "plt.xlim([0.0, 1.0])\n",
    "plt.ylim([0.0, 1.05])\n",
    "plt.xlabel(\"False Positive Rate\")\n",
    "plt.ylabel(\"True Positive Rate\")\n",
    "plt.title(\"Receiver operating characteristic\")\n",
    "plt.legend(loc=\"lower right\")\n",
    "plt.savefig(\"Log_ROC\")\n",
    "plt.show()"
   ]
  },
  {
   "cell_type": "code",
   "execution_count": 822,
   "metadata": {},
   "outputs": [
    {
     "data": {
      "text/html": [
       "<div>\n",
       "<style scoped>\n",
       "    .dataframe tbody tr th:only-of-type {\n",
       "        vertical-align: middle;\n",
       "    }\n",
       "\n",
       "    .dataframe tbody tr th {\n",
       "        vertical-align: top;\n",
       "    }\n",
       "\n",
       "    .dataframe thead th {\n",
       "        text-align: right;\n",
       "    }\n",
       "</style>\n",
       "<table border=\"1\" class=\"dataframe\">\n",
       "  <thead>\n",
       "    <tr style=\"text-align: right;\">\n",
       "      <th></th>\n",
       "      <th>id</th>\n",
       "      <th>target</th>\n",
       "      <th>loan_amnt</th>\n",
       "      <th>loan_amnt2</th>\n",
       "      <th>prediction</th>\n",
       "    </tr>\n",
       "  </thead>\n",
       "  <tbody>\n",
       "    <tr>\n",
       "      <th>0</th>\n",
       "      <td>139076511</td>\n",
       "      <td>0</td>\n",
       "      <td>20000.0</td>\n",
       "      <td>&gt;10k</td>\n",
       "      <td>NaN</td>\n",
       "    </tr>\n",
       "    <tr>\n",
       "      <th>2</th>\n",
       "      <td>1469880</td>\n",
       "      <td>0</td>\n",
       "      <td>1600.0</td>\n",
       "      <td>1-10k</td>\n",
       "      <td>0.363054</td>\n",
       "    </tr>\n",
       "    <tr>\n",
       "      <th>3</th>\n",
       "      <td>76014793</td>\n",
       "      <td>1</td>\n",
       "      <td>32000.0</td>\n",
       "      <td>&gt;10k</td>\n",
       "      <td>0.290412</td>\n",
       "    </tr>\n",
       "    <tr>\n",
       "      <th>4</th>\n",
       "      <td>71775585</td>\n",
       "      <td>1</td>\n",
       "      <td>28425.0</td>\n",
       "      <td>&gt;10k</td>\n",
       "      <td>NaN</td>\n",
       "    </tr>\n",
       "    <tr>\n",
       "      <th>5</th>\n",
       "      <td>61394422</td>\n",
       "      <td>0</td>\n",
       "      <td>26000.0</td>\n",
       "      <td>&gt;10k</td>\n",
       "      <td>NaN</td>\n",
       "    </tr>\n",
       "    <tr>\n",
       "      <th>...</th>\n",
       "      <td>...</td>\n",
       "      <td>...</td>\n",
       "      <td>...</td>\n",
       "      <td>...</td>\n",
       "      <td>...</td>\n",
       "    </tr>\n",
       "    <tr>\n",
       "      <th>99994</th>\n",
       "      <td>71815286</td>\n",
       "      <td>1</td>\n",
       "      <td>25000.0</td>\n",
       "      <td>&gt;10k</td>\n",
       "      <td>NaN</td>\n",
       "    </tr>\n",
       "    <tr>\n",
       "      <th>99995</th>\n",
       "      <td>63957199</td>\n",
       "      <td>0</td>\n",
       "      <td>8000.0</td>\n",
       "      <td>1-10k</td>\n",
       "      <td>NaN</td>\n",
       "    </tr>\n",
       "    <tr>\n",
       "      <th>99996</th>\n",
       "      <td>9048048</td>\n",
       "      <td>0</td>\n",
       "      <td>20000.0</td>\n",
       "      <td>&gt;10k</td>\n",
       "      <td>NaN</td>\n",
       "    </tr>\n",
       "    <tr>\n",
       "      <th>99998</th>\n",
       "      <td>24616854</td>\n",
       "      <td>0</td>\n",
       "      <td>6000.0</td>\n",
       "      <td>1-10k</td>\n",
       "      <td>NaN</td>\n",
       "    </tr>\n",
       "    <tr>\n",
       "      <th>99999</th>\n",
       "      <td>12936384</td>\n",
       "      <td>0</td>\n",
       "      <td>6000.0</td>\n",
       "      <td>1-10k</td>\n",
       "      <td>NaN</td>\n",
       "    </tr>\n",
       "  </tbody>\n",
       "</table>\n",
       "<p>59570 rows × 5 columns</p>\n",
       "</div>"
      ],
      "text/plain": [
       "              id  target  loan_amnt loan_amnt2  prediction\n",
       "0      139076511       0    20000.0       >10k         NaN\n",
       "2        1469880       0     1600.0      1-10k    0.363054\n",
       "3       76014793       1    32000.0       >10k    0.290412\n",
       "4       71775585       1    28425.0       >10k         NaN\n",
       "5       61394422       0    26000.0       >10k         NaN\n",
       "...          ...     ...        ...        ...         ...\n",
       "99994   71815286       1    25000.0       >10k         NaN\n",
       "99995   63957199       0     8000.0      1-10k         NaN\n",
       "99996    9048048       0    20000.0       >10k         NaN\n",
       "99998   24616854       0     6000.0      1-10k         NaN\n",
       "99999   12936384       0     6000.0      1-10k         NaN\n",
       "\n",
       "[59570 rows x 5 columns]"
      ]
     },
     "execution_count": 822,
     "metadata": {},
     "output_type": "execute_result"
    },
    {
     "data": {
      "application/javascript": [
       "\n",
       "            setTimeout(function() {\n",
       "                var nbb_cell_id = 822;\n",
       "                var nbb_unformatted_code = \"# Merge actual and predicted\\n\\ny_hats = logreg.predict_proba(X_test_2)[:, 1]\\ny_hats  = pd.DataFrame(y_hats)\\n\\ndf_out = X_test_2.reset_index()\\ndf_out[\\\"Actual\\\"] = y_test.reset_index()[\\\"target\\\"]\\ndf_out[\\\"Prediction\\\"] = y_hats.reset_index()[0]\\ny_test['prediction'] = y_hats\\n\\ndf_out = pd.merge(df,y_test[['prediction']],how = 'left',left_index = True, right_index = True)\\n\\ndf_out\";\n",
       "                var nbb_formatted_code = \"# Merge actual and predicted\\n\\ny_hats = logreg.predict_proba(X_test_2)[:, 1]\\ny_hats = pd.DataFrame(y_hats)\\n\\ndf_out = X_test_2.reset_index()\\ndf_out[\\\"Actual\\\"] = y_test.reset_index()[\\\"target\\\"]\\ndf_out[\\\"Prediction\\\"] = y_hats.reset_index()[0]\\ny_test[\\\"prediction\\\"] = y_hats\\n\\ndf_out = pd.merge(\\n    df, y_test[[\\\"prediction\\\"]], how=\\\"left\\\", left_index=True, right_index=True\\n)\\n\\ndf_out\";\n",
       "                var nbb_cells = Jupyter.notebook.get_cells();\n",
       "                for (var i = 0; i < nbb_cells.length; ++i) {\n",
       "                    if (nbb_cells[i].input_prompt_number == nbb_cell_id) {\n",
       "                        if (nbb_cells[i].get_text() == nbb_unformatted_code) {\n",
       "                             nbb_cells[i].set_text(nbb_formatted_code);\n",
       "                        }\n",
       "                        break;\n",
       "                    }\n",
       "                }\n",
       "            }, 500);\n",
       "            "
      ],
      "text/plain": [
       "<IPython.core.display.Javascript object>"
      ]
     },
     "metadata": {},
     "output_type": "display_data"
    }
   ],
   "source": [
    "# Merge actual and predicted\n",
    "\n",
    "y_hats = logreg.predict_proba(X_test_2)[:, 1]\n",
    "y_hats = pd.DataFrame(y_hats)\n",
    "\n",
    "df_out = X_test_2.reset_index()\n",
    "df_out[\"Actual\"] = y_test.reset_index()[\"target\"]\n",
    "df_out[\"Prediction\"] = y_hats.reset_index()[0]\n",
    "y_test[\"prediction\"] = y_hats\n",
    "\n",
    "df_out = pd.merge(\n",
    "    df, y_test[[\"prediction\"]], how=\"left\", left_index=True, right_index=True\n",
    ")\n",
    "\n",
    "df_out"
   ]
  },
  {
   "cell_type": "code",
   "execution_count": 823,
   "metadata": {},
   "outputs": [
    {
     "data": {
      "text/html": [
       "<div>\n",
       "<style scoped>\n",
       "    .dataframe tbody tr th:only-of-type {\n",
       "        vertical-align: middle;\n",
       "    }\n",
       "\n",
       "    .dataframe tbody tr th {\n",
       "        vertical-align: top;\n",
       "    }\n",
       "\n",
       "    .dataframe thead th {\n",
       "        text-align: right;\n",
       "    }\n",
       "</style>\n",
       "<table border=\"1\" class=\"dataframe\">\n",
       "  <thead>\n",
       "    <tr style=\"text-align: right;\">\n",
       "      <th></th>\n",
       "      <th>count</th>\n",
       "    </tr>\n",
       "    <tr>\n",
       "      <th>prediction</th>\n",
       "      <th></th>\n",
       "    </tr>\n",
       "  </thead>\n",
       "  <tbody>\n",
       "    <tr>\n",
       "      <th>0.155755</th>\n",
       "      <td>80</td>\n",
       "    </tr>\n",
       "    <tr>\n",
       "      <th>0.290412</th>\n",
       "      <td>7319</td>\n",
       "    </tr>\n",
       "    <tr>\n",
       "      <th>0.363054</th>\n",
       "      <td>10472</td>\n",
       "    </tr>\n",
       "  </tbody>\n",
       "</table>\n",
       "</div>"
      ],
      "text/plain": [
       "            count\n",
       "prediction       \n",
       "0.155755       80\n",
       "0.290412     7319\n",
       "0.363054    10472"
      ]
     },
     "execution_count": 823,
     "metadata": {},
     "output_type": "execute_result"
    },
    {
     "data": {
      "application/javascript": [
       "\n",
       "            setTimeout(function() {\n",
       "                var nbb_cell_id = 823;\n",
       "                var nbb_unformatted_code = \"# Predictions on the test set\\n\\naccepted_test_predictions = logreg.predict_proba(X_test_2)[:, 1]\\ndf_pred_acc = pd.DataFrame(data=accepted_test_predictions, columns=[\\\"prediction\\\"])\\ndf_pred_acc[\\\"count\\\"] = df_pred_acc.groupby(\\\"prediction\\\")[\\\"prediction\\\"].transform('count')\\ndf_pred_acc.groupby([\\\"prediction\\\"]).count()\";\n",
       "                var nbb_formatted_code = \"# Predictions on the test set\\n\\naccepted_test_predictions = logreg.predict_proba(X_test_2)[:, 1]\\ndf_pred_acc = pd.DataFrame(data=accepted_test_predictions, columns=[\\\"prediction\\\"])\\ndf_pred_acc[\\\"count\\\"] = df_pred_acc.groupby(\\\"prediction\\\")[\\\"prediction\\\"].transform(\\n    \\\"count\\\"\\n)\\ndf_pred_acc.groupby([\\\"prediction\\\"]).count()\";\n",
       "                var nbb_cells = Jupyter.notebook.get_cells();\n",
       "                for (var i = 0; i < nbb_cells.length; ++i) {\n",
       "                    if (nbb_cells[i].input_prompt_number == nbb_cell_id) {\n",
       "                        if (nbb_cells[i].get_text() == nbb_unformatted_code) {\n",
       "                             nbb_cells[i].set_text(nbb_formatted_code);\n",
       "                        }\n",
       "                        break;\n",
       "                    }\n",
       "                }\n",
       "            }, 500);\n",
       "            "
      ],
      "text/plain": [
       "<IPython.core.display.Javascript object>"
      ]
     },
     "metadata": {},
     "output_type": "display_data"
    }
   ],
   "source": [
    "# Predictions on the test set\n",
    "\n",
    "accepted_test_predictions = logreg.predict_proba(X_test_2)[:, 1]\n",
    "df_pred_acc = pd.DataFrame(data=accepted_test_predictions, columns=[\"prediction\"])\n",
    "df_pred_acc[\"count\"] = df_pred_acc.groupby(\"prediction\")[\"prediction\"].transform(\n",
    "    \"count\"\n",
    ")\n",
    "df_pred_acc.groupby([\"prediction\"]).count()"
   ]
  },
  {
   "cell_type": "code",
   "execution_count": 824,
   "metadata": {},
   "outputs": [
    {
     "data": {
      "application/javascript": [
       "\n",
       "            setTimeout(function() {\n",
       "                var nbb_cell_id = 824;\n",
       "                var nbb_unformatted_code = \"# Remove NaNs (Null Band + non-test set)\\ndf_out.dropna(subset=[\\\"prediction\\\"], inplace=True)\";\n",
       "                var nbb_formatted_code = \"# Remove NaNs (Null Band + non-test set)\\ndf_out.dropna(subset=[\\\"prediction\\\"], inplace=True)\";\n",
       "                var nbb_cells = Jupyter.notebook.get_cells();\n",
       "                for (var i = 0; i < nbb_cells.length; ++i) {\n",
       "                    if (nbb_cells[i].input_prompt_number == nbb_cell_id) {\n",
       "                        if (nbb_cells[i].get_text() == nbb_unformatted_code) {\n",
       "                             nbb_cells[i].set_text(nbb_formatted_code);\n",
       "                        }\n",
       "                        break;\n",
       "                    }\n",
       "                }\n",
       "            }, 500);\n",
       "            "
      ],
      "text/plain": [
       "<IPython.core.display.Javascript object>"
      ]
     },
     "metadata": {},
     "output_type": "display_data"
    }
   ],
   "source": [
    "# Remove NaNs (Null Band + non-test set)\n",
    "df_out.dropna(subset=[\"prediction\"], inplace=True)"
   ]
  },
  {
   "cell_type": "code",
   "execution_count": 825,
   "metadata": {},
   "outputs": [
    {
     "data": {
      "application/javascript": [
       "\n",
       "            setTimeout(function() {\n",
       "                var nbb_cell_id = 825;\n",
       "                var nbb_unformatted_code = \"# Preprocessing for creating DF\\ndf_out['count'] = df_out.groupby([\\\"target\\\", \\\"prediction\\\"])['target'].transform('count')\\ndf_out2 = df_out[['prediction', 'target', 'count']]\\ndf_out3 = df_out2.drop_duplicates()\\ndf_out3.reset_index(drop=True, inplace=True)\";\n",
       "                var nbb_formatted_code = \"# Preprocessing for creating DF\\ndf_out[\\\"count\\\"] = df_out.groupby([\\\"target\\\", \\\"prediction\\\"])[\\\"target\\\"].transform(\\\"count\\\")\\ndf_out2 = df_out[[\\\"prediction\\\", \\\"target\\\", \\\"count\\\"]]\\ndf_out3 = df_out2.drop_duplicates()\\ndf_out3.reset_index(drop=True, inplace=True)\";\n",
       "                var nbb_cells = Jupyter.notebook.get_cells();\n",
       "                for (var i = 0; i < nbb_cells.length; ++i) {\n",
       "                    if (nbb_cells[i].input_prompt_number == nbb_cell_id) {\n",
       "                        if (nbb_cells[i].get_text() == nbb_unformatted_code) {\n",
       "                             nbb_cells[i].set_text(nbb_formatted_code);\n",
       "                        }\n",
       "                        break;\n",
       "                    }\n",
       "                }\n",
       "            }, 500);\n",
       "            "
      ],
      "text/plain": [
       "<IPython.core.display.Javascript object>"
      ]
     },
     "metadata": {},
     "output_type": "display_data"
    }
   ],
   "source": [
    "# Preprocessing for creating DF\n",
    "df_out[\"count\"] = df_out.groupby([\"target\", \"prediction\"])[\"target\"].transform(\"count\")\n",
    "df_out2 = df_out[[\"prediction\", \"target\", \"count\"]]\n",
    "df_out3 = df_out2.drop_duplicates()\n",
    "df_out3.reset_index(drop=True, inplace=True)"
   ]
  },
  {
   "cell_type": "code",
   "execution_count": 826,
   "metadata": {},
   "outputs": [
    {
     "data": {
      "application/javascript": [
       "\n",
       "            setTimeout(function() {\n",
       "                var nbb_cell_id = 826;\n",
       "                var nbb_unformatted_code = \"# Create \\\"book example\\\" dataframe\\ndf_out3['target_0'] = df_out3.apply(lambda row: row['count'] if row['target'] ==0 else np.nan, axis=1)\\ndf_out3['target_1'] = df_out3.apply(lambda row: row['count'] if row['target'] ==1 else np.nan, axis=1)\\ndf_target_0 = df_out3[[\\\"prediction\\\", \\\"target_0\\\"]]\\ndf_target_1 = df_out3[[\\\"prediction\\\", \\\"target_1\\\"]]\\ndf_target_0.dropna(inplace = True)\\ndf_target_1.dropna(inplace = True)\\ndf_out4 = pd.merge(df_target_0, df_target_1, on=\\\"prediction\\\")\";\n",
       "                var nbb_formatted_code = \"# Create \\\"book example\\\" dataframe\\ndf_out3[\\\"target_0\\\"] = df_out3.apply(\\n    lambda row: row[\\\"count\\\"] if row[\\\"target\\\"] == 0 else np.nan, axis=1\\n)\\ndf_out3[\\\"target_1\\\"] = df_out3.apply(\\n    lambda row: row[\\\"count\\\"] if row[\\\"target\\\"] == 1 else np.nan, axis=1\\n)\\ndf_target_0 = df_out3[[\\\"prediction\\\", \\\"target_0\\\"]]\\ndf_target_1 = df_out3[[\\\"prediction\\\", \\\"target_1\\\"]]\\ndf_target_0.dropna(inplace=True)\\ndf_target_1.dropna(inplace=True)\\ndf_out4 = pd.merge(df_target_0, df_target_1, on=\\\"prediction\\\")\";\n",
       "                var nbb_cells = Jupyter.notebook.get_cells();\n",
       "                for (var i = 0; i < nbb_cells.length; ++i) {\n",
       "                    if (nbb_cells[i].input_prompt_number == nbb_cell_id) {\n",
       "                        if (nbb_cells[i].get_text() == nbb_unformatted_code) {\n",
       "                             nbb_cells[i].set_text(nbb_formatted_code);\n",
       "                        }\n",
       "                        break;\n",
       "                    }\n",
       "                }\n",
       "            }, 500);\n",
       "            "
      ],
      "text/plain": [
       "<IPython.core.display.Javascript object>"
      ]
     },
     "metadata": {},
     "output_type": "display_data"
    }
   ],
   "source": [
    "# Create \"book example\" dataframe\n",
    "df_out3[\"target_0\"] = df_out3.apply(\n",
    "    lambda row: row[\"count\"] if row[\"target\"] == 0 else np.nan, axis=1\n",
    ")\n",
    "df_out3[\"target_1\"] = df_out3.apply(\n",
    "    lambda row: row[\"count\"] if row[\"target\"] == 1 else np.nan, axis=1\n",
    ")\n",
    "df_target_0 = df_out3[[\"prediction\", \"target_0\"]]\n",
    "df_target_1 = df_out3[[\"prediction\", \"target_1\"]]\n",
    "df_target_0.dropna(inplace=True)\n",
    "df_target_1.dropna(inplace=True)\n",
    "df_out4 = pd.merge(df_target_0, df_target_1, on=\"prediction\")"
   ]
  },
  {
   "cell_type": "code",
   "execution_count": 827,
   "metadata": {},
   "outputs": [
    {
     "data": {
      "application/javascript": [
       "\n",
       "            setTimeout(function() {\n",
       "                var nbb_cell_id = 827;\n",
       "                var nbb_unformatted_code = \"# Rename columns\\ndf_out4.rename(columns={'target_0': 'Good', 'target_1': 'Bad'}, inplace=True)\\n# Create percentages\\ndf_out4['Perc_Good'] = df_out4['Good']/(df_out4['Good']+df_out4['Bad'])\\ndf_out4['Perc_Bad'] = df_out4['Bad']/(df_out4['Good']+df_out4['Bad'])\";\n",
       "                var nbb_formatted_code = \"# Rename columns\\ndf_out4.rename(columns={\\\"target_0\\\": \\\"Good\\\", \\\"target_1\\\": \\\"Bad\\\"}, inplace=True)\\n# Create percentages\\ndf_out4[\\\"Perc_Good\\\"] = df_out4[\\\"Good\\\"] / (df_out4[\\\"Good\\\"] + df_out4[\\\"Bad\\\"])\\ndf_out4[\\\"Perc_Bad\\\"] = df_out4[\\\"Bad\\\"] / (df_out4[\\\"Good\\\"] + df_out4[\\\"Bad\\\"])\";\n",
       "                var nbb_cells = Jupyter.notebook.get_cells();\n",
       "                for (var i = 0; i < nbb_cells.length; ++i) {\n",
       "                    if (nbb_cells[i].input_prompt_number == nbb_cell_id) {\n",
       "                        if (nbb_cells[i].get_text() == nbb_unformatted_code) {\n",
       "                             nbb_cells[i].set_text(nbb_formatted_code);\n",
       "                        }\n",
       "                        break;\n",
       "                    }\n",
       "                }\n",
       "            }, 500);\n",
       "            "
      ],
      "text/plain": [
       "<IPython.core.display.Javascript object>"
      ]
     },
     "metadata": {},
     "output_type": "display_data"
    }
   ],
   "source": [
    "# Rename columns\n",
    "df_out4.rename(columns={\"target_0\": \"Good\", \"target_1\": \"Bad\"}, inplace=True)\n",
    "# Create percentages\n",
    "df_out4[\"Perc_Good\"] = df_out4[\"Good\"] / (df_out4[\"Good\"] + df_out4[\"Bad\"])\n",
    "df_out4[\"Perc_Bad\"] = df_out4[\"Bad\"] / (df_out4[\"Good\"] + df_out4[\"Bad\"])"
   ]
  },
  {
   "cell_type": "code",
   "execution_count": 828,
   "metadata": {},
   "outputs": [
    {
     "data": {
      "text/html": [
       "<div>\n",
       "<style scoped>\n",
       "    .dataframe tbody tr th:only-of-type {\n",
       "        vertical-align: middle;\n",
       "    }\n",
       "\n",
       "    .dataframe tbody tr th {\n",
       "        vertical-align: top;\n",
       "    }\n",
       "\n",
       "    .dataframe thead th {\n",
       "        text-align: right;\n",
       "    }\n",
       "</style>\n",
       "<table border=\"1\" class=\"dataframe\">\n",
       "  <thead>\n",
       "    <tr style=\"text-align: right;\">\n",
       "      <th></th>\n",
       "      <th>prediction</th>\n",
       "      <th>Good</th>\n",
       "      <th>Bad</th>\n",
       "      <th>Perc_Good</th>\n",
       "      <th>Perc_Bad</th>\n",
       "    </tr>\n",
       "  </thead>\n",
       "  <tbody>\n",
       "    <tr>\n",
       "      <th>0</th>\n",
       "      <td>0.363054</td>\n",
       "      <td>1458.0</td>\n",
       "      <td>377.0</td>\n",
       "      <td>0.794550</td>\n",
       "      <td>0.205450</td>\n",
       "    </tr>\n",
       "    <tr>\n",
       "      <th>1</th>\n",
       "      <td>0.290412</td>\n",
       "      <td>1012.0</td>\n",
       "      <td>265.0</td>\n",
       "      <td>0.792482</td>\n",
       "      <td>0.207518</td>\n",
       "    </tr>\n",
       "    <tr>\n",
       "      <th>2</th>\n",
       "      <td>0.155755</td>\n",
       "      <td>14.0</td>\n",
       "      <td>2.0</td>\n",
       "      <td>0.875000</td>\n",
       "      <td>0.125000</td>\n",
       "    </tr>\n",
       "  </tbody>\n",
       "</table>\n",
       "</div>"
      ],
      "text/plain": [
       "   prediction    Good    Bad  Perc_Good  Perc_Bad\n",
       "0    0.363054  1458.0  377.0   0.794550  0.205450\n",
       "1    0.290412  1012.0  265.0   0.792482  0.207518\n",
       "2    0.155755    14.0    2.0   0.875000  0.125000"
      ]
     },
     "execution_count": 828,
     "metadata": {},
     "output_type": "execute_result"
    },
    {
     "data": {
      "application/javascript": [
       "\n",
       "            setTimeout(function() {\n",
       "                var nbb_cell_id = 828;\n",
       "                var nbb_unformatted_code = \"df_out4\";\n",
       "                var nbb_formatted_code = \"df_out4\";\n",
       "                var nbb_cells = Jupyter.notebook.get_cells();\n",
       "                for (var i = 0; i < nbb_cells.length; ++i) {\n",
       "                    if (nbb_cells[i].input_prompt_number == nbb_cell_id) {\n",
       "                        if (nbb_cells[i].get_text() == nbb_unformatted_code) {\n",
       "                             nbb_cells[i].set_text(nbb_formatted_code);\n",
       "                        }\n",
       "                        break;\n",
       "                    }\n",
       "                }\n",
       "            }, 500);\n",
       "            "
      ],
      "text/plain": [
       "<IPython.core.display.Javascript object>"
      ]
     },
     "metadata": {},
     "output_type": "display_data"
    }
   ],
   "source": [
    "df_out4"
   ]
  },
  {
   "cell_type": "markdown",
   "metadata": {},
   "source": [
    "## Apply the KGB Model to the Rejects"
   ]
  },
  {
   "cell_type": "code",
   "execution_count": 829,
   "metadata": {},
   "outputs": [
    {
     "data": {
      "application/javascript": [
       "\n",
       "            setTimeout(function() {\n",
       "                var nbb_cell_id = 829;\n",
       "                var nbb_unformatted_code = \"# Sampling\\nrejected_small = rejected.sample(n = 100000, random_state = 7) \\nrejected_small.reset_index(drop=True, inplace=True)\\nrejected_small.rename(columns={'Amount Requested': 'loan_amnt'}, inplace=True)\\ndfr = rejected_small[['loan_amnt']]\";\n",
       "                var nbb_formatted_code = \"# Sampling\\nrejected_small = rejected.sample(n=100000, random_state=7)\\nrejected_small.reset_index(drop=True, inplace=True)\\nrejected_small.rename(columns={\\\"Amount Requested\\\": \\\"loan_amnt\\\"}, inplace=True)\\ndfr = rejected_small[[\\\"loan_amnt\\\"]]\";\n",
       "                var nbb_cells = Jupyter.notebook.get_cells();\n",
       "                for (var i = 0; i < nbb_cells.length; ++i) {\n",
       "                    if (nbb_cells[i].input_prompt_number == nbb_cell_id) {\n",
       "                        if (nbb_cells[i].get_text() == nbb_unformatted_code) {\n",
       "                             nbb_cells[i].set_text(nbb_formatted_code);\n",
       "                        }\n",
       "                        break;\n",
       "                    }\n",
       "                }\n",
       "            }, 500);\n",
       "            "
      ],
      "text/plain": [
       "<IPython.core.display.Javascript object>"
      ]
     },
     "metadata": {},
     "output_type": "display_data"
    }
   ],
   "source": [
    "# Sampling\n",
    "rejected_small = rejected.sample(n=100000, random_state=7)\n",
    "rejected_small.reset_index(drop=True, inplace=True)\n",
    "rejected_small.rename(columns={\"Amount Requested\": \"loan_amnt\"}, inplace=True)\n",
    "dfr = rejected_small[[\"loan_amnt\"]]"
   ]
  },
  {
   "cell_type": "code",
   "execution_count": 830,
   "metadata": {},
   "outputs": [
    {
     "data": {
      "application/javascript": [
       "\n",
       "            setTimeout(function() {\n",
       "                var nbb_cell_id = 830;\n",
       "                var nbb_unformatted_code = \"# Q&D Bucketing\\ndfr[\\\"loan_amnt2\\\"] = dfr[\\\"loan_amnt\\\"].apply(\\n    lambda x: \\\"<=1k\\\"\\n    if (x <= 1000)\\n    else (\\\"1-10k\\\" if (x > 1000 and x <= 10000) else \\\">10k\\\")\\n)\";\n",
       "                var nbb_formatted_code = \"# Q&D Bucketing\\ndfr[\\\"loan_amnt2\\\"] = dfr[\\\"loan_amnt\\\"].apply(\\n    lambda x: \\\"<=1k\\\"\\n    if (x <= 1000)\\n    else (\\\"1-10k\\\" if (x > 1000 and x <= 10000) else \\\">10k\\\")\\n)\";\n",
       "                var nbb_cells = Jupyter.notebook.get_cells();\n",
       "                for (var i = 0; i < nbb_cells.length; ++i) {\n",
       "                    if (nbb_cells[i].input_prompt_number == nbb_cell_id) {\n",
       "                        if (nbb_cells[i].get_text() == nbb_unformatted_code) {\n",
       "                             nbb_cells[i].set_text(nbb_formatted_code);\n",
       "                        }\n",
       "                        break;\n",
       "                    }\n",
       "                }\n",
       "            }, 500);\n",
       "            "
      ],
      "text/plain": [
       "<IPython.core.display.Javascript object>"
      ]
     },
     "metadata": {},
     "output_type": "display_data"
    }
   ],
   "source": [
    "# Q&D Bucketing\n",
    "dfr[\"loan_amnt2\"] = dfr[\"loan_amnt\"].apply(\n",
    "    lambda x: \"<=1k\"\n",
    "    if (x <= 1000)\n",
    "    else (\"1-10k\" if (x > 1000 and x <= 10000) else \">10k\")\n",
    ")"
   ]
  },
  {
   "cell_type": "code",
   "execution_count": 831,
   "metadata": {},
   "outputs": [
    {
     "data": {
      "application/javascript": [
       "\n",
       "            setTimeout(function() {\n",
       "                var nbb_cell_id = 831;\n",
       "                var nbb_unformatted_code = \"# One hot encoding\\nmodelling_variables = [\\\"target\\\", \\\"loan_amnt2\\\"]\\n\\nfor i in modelling_variables:\\n    if i != \\\"target\\\":\\n        dfr2 = dfr.join(pd.get_dummies(dfr[i]))\\n        dfr2 = dfr2.drop([i], axis=1)\";\n",
       "                var nbb_formatted_code = \"# One hot encoding\\nmodelling_variables = [\\\"target\\\", \\\"loan_amnt2\\\"]\\n\\nfor i in modelling_variables:\\n    if i != \\\"target\\\":\\n        dfr2 = dfr.join(pd.get_dummies(dfr[i]))\\n        dfr2 = dfr2.drop([i], axis=1)\";\n",
       "                var nbb_cells = Jupyter.notebook.get_cells();\n",
       "                for (var i = 0; i < nbb_cells.length; ++i) {\n",
       "                    if (nbb_cells[i].input_prompt_number == nbb_cell_id) {\n",
       "                        if (nbb_cells[i].get_text() == nbb_unformatted_code) {\n",
       "                             nbb_cells[i].set_text(nbb_formatted_code);\n",
       "                        }\n",
       "                        break;\n",
       "                    }\n",
       "                }\n",
       "            }, 500);\n",
       "            "
      ],
      "text/plain": [
       "<IPython.core.display.Javascript object>"
      ]
     },
     "metadata": {},
     "output_type": "display_data"
    }
   ],
   "source": [
    "# One hot encoding\n",
    "modelling_variables = [\"target\", \"loan_amnt2\"]\n",
    "\n",
    "for i in modelling_variables:\n",
    "    if i != \"target\":\n",
    "        dfr2 = dfr.join(pd.get_dummies(dfr[i]))\n",
    "        dfr2 = dfr2.drop([i], axis=1)"
   ]
  },
  {
   "cell_type": "code",
   "execution_count": 832,
   "metadata": {},
   "outputs": [
    {
     "data": {
      "application/javascript": [
       "\n",
       "            setTimeout(function() {\n",
       "                var nbb_cell_id = 832;\n",
       "                var nbb_unformatted_code = \"#Drop Null Band\\ndfr3 = dfr2.drop(\\n    columns=[\\\">10k\\\", \\\"loan_amnt\\\"\\n    ]\\n)\";\n",
       "                var nbb_formatted_code = \"# Drop Null Band\\ndfr3 = dfr2.drop(columns=[\\\">10k\\\", \\\"loan_amnt\\\"])\";\n",
       "                var nbb_cells = Jupyter.notebook.get_cells();\n",
       "                for (var i = 0; i < nbb_cells.length; ++i) {\n",
       "                    if (nbb_cells[i].input_prompt_number == nbb_cell_id) {\n",
       "                        if (nbb_cells[i].get_text() == nbb_unformatted_code) {\n",
       "                             nbb_cells[i].set_text(nbb_formatted_code);\n",
       "                        }\n",
       "                        break;\n",
       "                    }\n",
       "                }\n",
       "            }, 500);\n",
       "            "
      ],
      "text/plain": [
       "<IPython.core.display.Javascript object>"
      ]
     },
     "metadata": {},
     "output_type": "display_data"
    }
   ],
   "source": [
    "# Drop Null Band\n",
    "dfr3 = dfr2.drop(columns=[\">10k\", \"loan_amnt\"])"
   ]
  },
  {
   "cell_type": "code",
   "execution_count": 833,
   "metadata": {},
   "outputs": [
    {
     "data": {
      "text/html": [
       "<div>\n",
       "<style scoped>\n",
       "    .dataframe tbody tr th:only-of-type {\n",
       "        vertical-align: middle;\n",
       "    }\n",
       "\n",
       "    .dataframe tbody tr th {\n",
       "        vertical-align: top;\n",
       "    }\n",
       "\n",
       "    .dataframe thead th {\n",
       "        text-align: right;\n",
       "    }\n",
       "</style>\n",
       "<table border=\"1\" class=\"dataframe\">\n",
       "  <thead>\n",
       "    <tr style=\"text-align: right;\">\n",
       "      <th></th>\n",
       "      <th>Rejects</th>\n",
       "    </tr>\n",
       "    <tr>\n",
       "      <th>prediction</th>\n",
       "      <th></th>\n",
       "    </tr>\n",
       "  </thead>\n",
       "  <tbody>\n",
       "    <tr>\n",
       "      <th>0.155755</th>\n",
       "      <td>53841</td>\n",
       "    </tr>\n",
       "    <tr>\n",
       "      <th>0.290412</th>\n",
       "      <td>39529</td>\n",
       "    </tr>\n",
       "    <tr>\n",
       "      <th>0.363054</th>\n",
       "      <td>6630</td>\n",
       "    </tr>\n",
       "  </tbody>\n",
       "</table>\n",
       "</div>"
      ],
      "text/plain": [
       "            Rejects\n",
       "prediction         \n",
       "0.155755      53841\n",
       "0.290412      39529\n",
       "0.363054       6630"
      ]
     },
     "execution_count": 833,
     "metadata": {},
     "output_type": "execute_result"
    },
    {
     "data": {
      "application/javascript": [
       "\n",
       "            setTimeout(function() {\n",
       "                var nbb_cell_id = 833;\n",
       "                var nbb_unformatted_code = \"# Predictions\\nrej_test_predictions = logreg.predict_proba(dfr3)[:, 1]\\ndf_pred_rej = pd.DataFrame(data=rej_test_predictions, columns=[\\\"prediction\\\"])\\ndf_pred_rej[\\\"Rejects\\\"] = df_pred_rej.groupby(\\\"prediction\\\")[\\\"prediction\\\"].transform('count')\\ndf_pred_rej.groupby([\\\"prediction\\\"]).count()\";\n",
       "                var nbb_formatted_code = \"# Predictions\\nrej_test_predictions = logreg.predict_proba(dfr3)[:, 1]\\ndf_pred_rej = pd.DataFrame(data=rej_test_predictions, columns=[\\\"prediction\\\"])\\ndf_pred_rej[\\\"Rejects\\\"] = df_pred_rej.groupby(\\\"prediction\\\")[\\\"prediction\\\"].transform(\\n    \\\"count\\\"\\n)\\ndf_pred_rej.groupby([\\\"prediction\\\"]).count()\";\n",
       "                var nbb_cells = Jupyter.notebook.get_cells();\n",
       "                for (var i = 0; i < nbb_cells.length; ++i) {\n",
       "                    if (nbb_cells[i].input_prompt_number == nbb_cell_id) {\n",
       "                        if (nbb_cells[i].get_text() == nbb_unformatted_code) {\n",
       "                             nbb_cells[i].set_text(nbb_formatted_code);\n",
       "                        }\n",
       "                        break;\n",
       "                    }\n",
       "                }\n",
       "            }, 500);\n",
       "            "
      ],
      "text/plain": [
       "<IPython.core.display.Javascript object>"
      ]
     },
     "metadata": {},
     "output_type": "display_data"
    }
   ],
   "source": [
    "# Predictions\n",
    "rej_test_predictions = logreg.predict_proba(dfr3)[:, 1]\n",
    "df_pred_rej = pd.DataFrame(data=rej_test_predictions, columns=[\"prediction\"])\n",
    "df_pred_rej[\"Rejects\"] = df_pred_rej.groupby(\"prediction\")[\"prediction\"].transform(\n",
    "    \"count\"\n",
    ")\n",
    "df_pred_rej.groupby([\"prediction\"]).count()"
   ]
  },
  {
   "cell_type": "markdown",
   "metadata": {},
   "source": [
    "The result makes sense since predictions from the lowest band are not common in the Accepted population but are common in the Rejected population."
   ]
  },
  {
   "cell_type": "code",
   "execution_count": 834,
   "metadata": {},
   "outputs": [
    {
     "data": {
      "application/javascript": [
       "\n",
       "            setTimeout(function() {\n",
       "                var nbb_cell_id = 834;\n",
       "                var nbb_unformatted_code = \"# Preprocessing for creating DF\\ndf_pred_rej2 = df_pred_rej.drop_duplicates()\\ndf_pred_rej2.reset_index(drop=True, inplace=True)\";\n",
       "                var nbb_formatted_code = \"# Preprocessing for creating DF\\ndf_pred_rej2 = df_pred_rej.drop_duplicates()\\ndf_pred_rej2.reset_index(drop=True, inplace=True)\";\n",
       "                var nbb_cells = Jupyter.notebook.get_cells();\n",
       "                for (var i = 0; i < nbb_cells.length; ++i) {\n",
       "                    if (nbb_cells[i].input_prompt_number == nbb_cell_id) {\n",
       "                        if (nbb_cells[i].get_text() == nbb_unformatted_code) {\n",
       "                             nbb_cells[i].set_text(nbb_formatted_code);\n",
       "                        }\n",
       "                        break;\n",
       "                    }\n",
       "                }\n",
       "            }, 500);\n",
       "            "
      ],
      "text/plain": [
       "<IPython.core.display.Javascript object>"
      ]
     },
     "metadata": {},
     "output_type": "display_data"
    }
   ],
   "source": [
    "# Preprocessing for creating DF\n",
    "df_pred_rej2 = df_pred_rej.drop_duplicates()\n",
    "df_pred_rej2.reset_index(drop=True, inplace=True)"
   ]
  },
  {
   "cell_type": "code",
   "execution_count": 835,
   "metadata": {},
   "outputs": [
    {
     "data": {
      "application/javascript": [
       "\n",
       "            setTimeout(function() {\n",
       "                var nbb_cell_id = 835;\n",
       "                var nbb_unformatted_code = \"#Merge Accepts Test Sample + Rejects\\ndf_out_5 = pd.merge(df_out4, df_pred_rej2, on=\\\"prediction\\\")\";\n",
       "                var nbb_formatted_code = \"# Merge Accepts Test Sample + Rejects\\ndf_out_5 = pd.merge(df_out4, df_pred_rej2, on=\\\"prediction\\\")\";\n",
       "                var nbb_cells = Jupyter.notebook.get_cells();\n",
       "                for (var i = 0; i < nbb_cells.length; ++i) {\n",
       "                    if (nbb_cells[i].input_prompt_number == nbb_cell_id) {\n",
       "                        if (nbb_cells[i].get_text() == nbb_unformatted_code) {\n",
       "                             nbb_cells[i].set_text(nbb_formatted_code);\n",
       "                        }\n",
       "                        break;\n",
       "                    }\n",
       "                }\n",
       "            }, 500);\n",
       "            "
      ],
      "text/plain": [
       "<IPython.core.display.Javascript object>"
      ]
     },
     "metadata": {},
     "output_type": "display_data"
    }
   ],
   "source": [
    "# Merge Accepts Test Sample + Rejects\n",
    "df_out_5 = pd.merge(df_out4, df_pred_rej2, on=\"prediction\")"
   ]
  },
  {
   "cell_type": "markdown",
   "metadata": {},
   "source": [
    "### Parceling"
   ]
  },
  {
   "cell_type": "code",
   "execution_count": 836,
   "metadata": {},
   "outputs": [
    {
     "data": {
      "application/javascript": [
       "\n",
       "            setTimeout(function() {\n",
       "                var nbb_cell_id = 836;\n",
       "                var nbb_unformatted_code = \"# Create percentages\\ndf_out_5['Inf_Good'] = df_out_5['Perc_Good']*df_out_5['Rejects']\\ndf_out_5['Inf_Bad'] = df_out_5['Perc_Bad']*df_out_5['Rejects']\";\n",
       "                var nbb_formatted_code = \"# Create percentages\\ndf_out_5[\\\"Inf_Good\\\"] = df_out_5[\\\"Perc_Good\\\"] * df_out_5[\\\"Rejects\\\"]\\ndf_out_5[\\\"Inf_Bad\\\"] = df_out_5[\\\"Perc_Bad\\\"] * df_out_5[\\\"Rejects\\\"]\";\n",
       "                var nbb_cells = Jupyter.notebook.get_cells();\n",
       "                for (var i = 0; i < nbb_cells.length; ++i) {\n",
       "                    if (nbb_cells[i].input_prompt_number == nbb_cell_id) {\n",
       "                        if (nbb_cells[i].get_text() == nbb_unformatted_code) {\n",
       "                             nbb_cells[i].set_text(nbb_formatted_code);\n",
       "                        }\n",
       "                        break;\n",
       "                    }\n",
       "                }\n",
       "            }, 500);\n",
       "            "
      ],
      "text/plain": [
       "<IPython.core.display.Javascript object>"
      ]
     },
     "metadata": {},
     "output_type": "display_data"
    }
   ],
   "source": [
    "# Create percentages\n",
    "df_out_5[\"Inf_Good\"] = df_out_5[\"Perc_Good\"] * df_out_5[\"Rejects\"]\n",
    "df_out_5[\"Inf_Bad\"] = df_out_5[\"Perc_Bad\"] * df_out_5[\"Rejects\"]"
   ]
  },
  {
   "cell_type": "code",
   "execution_count": 797,
   "metadata": {},
   "outputs": [
    {
     "data": {
      "text/html": [
       "<div>\n",
       "<style scoped>\n",
       "    .dataframe tbody tr th:only-of-type {\n",
       "        vertical-align: middle;\n",
       "    }\n",
       "\n",
       "    .dataframe tbody tr th {\n",
       "        vertical-align: top;\n",
       "    }\n",
       "\n",
       "    .dataframe thead th {\n",
       "        text-align: right;\n",
       "    }\n",
       "</style>\n",
       "<table border=\"1\" class=\"dataframe\">\n",
       "  <thead>\n",
       "    <tr style=\"text-align: right;\">\n",
       "      <th></th>\n",
       "      <th>prediction</th>\n",
       "      <th>Good</th>\n",
       "      <th>Bad</th>\n",
       "      <th>Perc_Good</th>\n",
       "      <th>Perc_Bad</th>\n",
       "      <th>Rejects</th>\n",
       "      <th>Inf_Good</th>\n",
       "      <th>Inf_Bad</th>\n",
       "    </tr>\n",
       "  </thead>\n",
       "  <tbody>\n",
       "    <tr>\n",
       "      <th>0</th>\n",
       "      <td>0.363054</td>\n",
       "      <td>1458.0</td>\n",
       "      <td>377.0</td>\n",
       "      <td>0.794550</td>\n",
       "      <td>0.205450</td>\n",
       "      <td>6630</td>\n",
       "      <td>5267.869210</td>\n",
       "      <td>1362.130790</td>\n",
       "    </tr>\n",
       "    <tr>\n",
       "      <th>1</th>\n",
       "      <td>0.290412</td>\n",
       "      <td>1012.0</td>\n",
       "      <td>265.0</td>\n",
       "      <td>0.792482</td>\n",
       "      <td>0.207518</td>\n",
       "      <td>39529</td>\n",
       "      <td>31326.036022</td>\n",
       "      <td>8202.963978</td>\n",
       "    </tr>\n",
       "    <tr>\n",
       "      <th>2</th>\n",
       "      <td>0.155755</td>\n",
       "      <td>14.0</td>\n",
       "      <td>2.0</td>\n",
       "      <td>0.875000</td>\n",
       "      <td>0.125000</td>\n",
       "      <td>53841</td>\n",
       "      <td>47110.875000</td>\n",
       "      <td>6730.125000</td>\n",
       "    </tr>\n",
       "  </tbody>\n",
       "</table>\n",
       "</div>"
      ],
      "text/plain": [
       "   prediction    Good    Bad  Perc_Good  Perc_Bad  Rejects      Inf_Good  \\\n",
       "0    0.363054  1458.0  377.0   0.794550  0.205450     6630   5267.869210   \n",
       "1    0.290412  1012.0  265.0   0.792482  0.207518    39529  31326.036022   \n",
       "2    0.155755    14.0    2.0   0.875000  0.125000    53841  47110.875000   \n",
       "\n",
       "       Inf_Bad  \n",
       "0  1362.130790  \n",
       "1  8202.963978  \n",
       "2  6730.125000  "
      ]
     },
     "execution_count": 797,
     "metadata": {},
     "output_type": "execute_result"
    }
   ],
   "source": [
    "df_out_5"
   ]
  },
  {
   "cell_type": "code",
   "execution_count": null,
   "metadata": {},
   "outputs": [],
   "source": []
  }
 ],
 "metadata": {
  "kernelspec": {
   "display_name": "Python 3",
   "language": "python",
   "name": "python3"
  },
  "language_info": {
   "codemirror_mode": {
    "name": "ipython",
    "version": 3
   },
   "file_extension": ".py",
   "mimetype": "text/x-python",
   "name": "python",
   "nbconvert_exporter": "python",
   "pygments_lexer": "ipython3",
   "version": "3.8.3"
  }
 },
 "nbformat": 4,
 "nbformat_minor": 4
}
