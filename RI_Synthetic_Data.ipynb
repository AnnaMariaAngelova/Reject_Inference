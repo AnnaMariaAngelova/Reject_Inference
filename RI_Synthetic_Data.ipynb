{
 "cells": [
  {
   "cell_type": "code",
   "execution_count": 1,
   "metadata": {},
   "outputs": [
    {
     "data": {
      "application/javascript": [
       "\n",
       "            setTimeout(function() {\n",
       "                var nbb_cell_id = 1;\n",
       "                var nbb_unformatted_code = \"%reload_ext nb_black\";\n",
       "                var nbb_formatted_code = \"%reload_ext nb_black\";\n",
       "                var nbb_cells = Jupyter.notebook.get_cells();\n",
       "                for (var i = 0; i < nbb_cells.length; ++i) {\n",
       "                    if (nbb_cells[i].input_prompt_number == nbb_cell_id) {\n",
       "                        if (nbb_cells[i].get_text() == nbb_unformatted_code) {\n",
       "                             nbb_cells[i].set_text(nbb_formatted_code);\n",
       "                        }\n",
       "                        break;\n",
       "                    }\n",
       "                }\n",
       "            }, 500);\n",
       "            "
      ],
      "text/plain": [
       "<IPython.core.display.Javascript object>"
      ]
     },
     "metadata": {},
     "output_type": "display_data"
    }
   ],
   "source": [
    "%reload_ext nb_black"
   ]
  },
  {
   "cell_type": "code",
   "execution_count": 2,
   "metadata": {},
   "outputs": [
    {
     "data": {
      "application/javascript": [
       "\n",
       "            setTimeout(function() {\n",
       "                var nbb_cell_id = 2;\n",
       "                var nbb_unformatted_code = \"import sys\\n\\nsys.path.insert(\\n    0,\\n    r\\\"C:\\\\Users\\\\Asus\\\\Desktop\\\\Repo\\\\MasterThesis_RI\\\\Python-Real-World-Machine-Learning\\\\Module 2\\\\Chapter 5\\\",\\n)\\n\\nimport warnings\\n\\nwarnings.filterwarnings(\\\"ignore\\\")\\n\\n# Basic Packages\\nimport pandas as pd\\nimport numpy as np\\nimport matplotlib.pyplot as plt\\n\\n# Modelling\\n# Classification\\nimport statsmodels.api as sm\\nfrom sklearn.linear_model import LogisticRegression, LinearRegression\\nfrom sklearn.ensemble import RandomForestClassifier\\nfrom sklearn.tree import DecisionTreeClassifier\\nfrom sklearn import svm\\n\\n# Clustering\\nfrom sklearn.cluster import KMeans, AgglomerativeClustering\\n\\n# Ranking\\nimport lightgbm as lgb\\n\\n# Semi-Supervised Learning\\n# import nlopt\\n# import CPLELearning\\nimport SelfLearning\\nimport scikitWQDA\\n\\n# Model Selection\\nfrom sklearn.model_selection import train_test_split, GridSearchCV\\n\\n# Metrics\\nfrom sklearn.metrics import (\\n    f1_score,\\n    roc_auc_score,\\n    roc_curve,\\n    accuracy_score,\\n    confusion_matrix,\\n    plot_confusion_matrix,\\n)\\n\\n# Balancing\\nfrom imblearn.over_sampling import SMOTE\\nfrom imblearn.under_sampling import RandomUnderSampler\\n\\n# Visualization\\nimport seaborn as sns\\nimport matplotlib.pyplot as plt\\n\\n# Binning\\nimport woeBinningPandas\\n\\n# Create Unique ID\\nimport uuid\";\n",
       "                var nbb_formatted_code = \"import sys\\n\\nsys.path.insert(\\n    0,\\n    r\\\"C:\\\\Users\\\\Asus\\\\Desktop\\\\Repo\\\\MasterThesis_RI\\\\Python-Real-World-Machine-Learning\\\\Module 2\\\\Chapter 5\\\",\\n)\\n\\nimport warnings\\n\\nwarnings.filterwarnings(\\\"ignore\\\")\\n\\n# Basic Packages\\nimport pandas as pd\\nimport numpy as np\\nimport matplotlib.pyplot as plt\\n\\n# Modelling\\n# Classification\\nimport statsmodels.api as sm\\nfrom sklearn.linear_model import LogisticRegression, LinearRegression\\nfrom sklearn.ensemble import RandomForestClassifier\\nfrom sklearn.tree import DecisionTreeClassifier\\nfrom sklearn import svm\\n\\n# Clustering\\nfrom sklearn.cluster import KMeans, AgglomerativeClustering\\n\\n# Ranking\\nimport lightgbm as lgb\\n\\n# Semi-Supervised Learning\\n# import nlopt\\n# import CPLELearning\\nimport SelfLearning\\nimport scikitWQDA\\n\\n# Model Selection\\nfrom sklearn.model_selection import train_test_split, GridSearchCV\\n\\n# Metrics\\nfrom sklearn.metrics import (\\n    f1_score,\\n    roc_auc_score,\\n    roc_curve,\\n    accuracy_score,\\n    confusion_matrix,\\n    plot_confusion_matrix,\\n)\\n\\n# Balancing\\nfrom imblearn.over_sampling import SMOTE\\nfrom imblearn.under_sampling import RandomUnderSampler\\n\\n# Visualization\\nimport seaborn as sns\\nimport matplotlib.pyplot as plt\\n\\n# Binning\\nimport woeBinningPandas\\n\\n# Create Unique ID\\nimport uuid\";\n",
       "                var nbb_cells = Jupyter.notebook.get_cells();\n",
       "                for (var i = 0; i < nbb_cells.length; ++i) {\n",
       "                    if (nbb_cells[i].input_prompt_number == nbb_cell_id) {\n",
       "                        if (nbb_cells[i].get_text() == nbb_unformatted_code) {\n",
       "                             nbb_cells[i].set_text(nbb_formatted_code);\n",
       "                        }\n",
       "                        break;\n",
       "                    }\n",
       "                }\n",
       "            }, 500);\n",
       "            "
      ],
      "text/plain": [
       "<IPython.core.display.Javascript object>"
      ]
     },
     "metadata": {},
     "output_type": "display_data"
    }
   ],
   "source": [
    "import sys\n",
    "\n",
    "sys.path.insert(\n",
    "    0,\n",
    "    r\"C:\\Users\\Asus\\Desktop\\Repo\\MasterThesis_RI\\Python-Real-World-Machine-Learning\\Module 2\\Chapter 5\",\n",
    ")\n",
    "\n",
    "import warnings\n",
    "\n",
    "warnings.filterwarnings(\"ignore\")\n",
    "\n",
    "# Basic Packages\n",
    "import pandas as pd\n",
    "import numpy as np\n",
    "import matplotlib.pyplot as plt\n",
    "\n",
    "# Modelling\n",
    "# Classification\n",
    "import statsmodels.api as sm\n",
    "from sklearn.linear_model import LogisticRegression, LinearRegression\n",
    "from sklearn.ensemble import RandomForestClassifier\n",
    "from sklearn.tree import DecisionTreeClassifier\n",
    "from sklearn import svm\n",
    "\n",
    "# Clustering\n",
    "from sklearn.cluster import KMeans, AgglomerativeClustering\n",
    "\n",
    "# Ranking\n",
    "import lightgbm as lgb\n",
    "\n",
    "# Semi-Supervised Learning\n",
    "# import nlopt\n",
    "# import CPLELearning\n",
    "import SelfLearning\n",
    "import scikitWQDA\n",
    "\n",
    "# Model Selection\n",
    "from sklearn.model_selection import train_test_split, GridSearchCV\n",
    "\n",
    "# Metrics\n",
    "from sklearn.metrics import (\n",
    "    f1_score,\n",
    "    roc_auc_score,\n",
    "    roc_curve,\n",
    "    accuracy_score,\n",
    "    confusion_matrix,\n",
    "    plot_confusion_matrix,\n",
    ")\n",
    "\n",
    "# Balancing\n",
    "from imblearn.over_sampling import SMOTE\n",
    "from imblearn.under_sampling import RandomUnderSampler\n",
    "\n",
    "# Visualization\n",
    "import seaborn as sns\n",
    "import matplotlib.pyplot as plt\n",
    "\n",
    "# Binning\n",
    "import woeBinningPandas\n",
    "\n",
    "# Create Unique ID\n",
    "import uuid"
   ]
  },
  {
   "cell_type": "markdown",
   "metadata": {},
   "source": [
    "## Data"
   ]
  },
  {
   "cell_type": "markdown",
   "metadata": {},
   "source": [
    "### Synthetic Data"
   ]
  },
  {
   "cell_type": "code",
   "execution_count": 87,
   "metadata": {},
   "outputs": [
    {
     "data": {
      "application/javascript": [
       "\n",
       "            setTimeout(function() {\n",
       "                var nbb_cell_id = 87;\n",
       "                var nbb_unformatted_code = \"model_ds = pd.read_csv(\\\"model_ds.csv\\\")\\n# Match naming conventions of Lending club data\\n# Accepted\\ndf3 = model_ds[model_ds[\\\"is_accepted\\\"] == 1]\\ndf3 = df3.drop([\\\"is_accepted\\\"], axis=1)\\ndf3 = df3.rename(columns={\\\"y\\\": \\\"target\\\"})\\n# Rejected\\ndfr = model_ds[model_ds[\\\"is_accepted\\\"] == 0]\\ndfr = dfr.drop([\\\"is_accepted\\\"], axis=1)\\n\\n# Train/Test Split (without labels)\\ndfr[\\\"id\\\"] = dfr.index.to_series().map(lambda x: uuid.uuid4())\\n\\n# Shuffle the dataset\\nshuffle_df = dfr.sample(frac=1)\\n\\n# Define a size for your train set\\ntrain_size = int(0.7 * len(shuffle_df))\\n\\n# Split your dataset\\ndfr_dev3 = shuffle_df[:train_size]\\ndfr_test3 = shuffle_df[train_size:]\\n\\n# Drop y\\ndfr_dev2 = dfr_dev3\\ndfr_test2 = dfr_dev3\\ndfr_dev3 = dfr_dev3.drop([\\\"y\\\"], axis=1)\\ndfr_test3 = dfr_test3.drop([\\\"y\\\"], axis=1)\";\n",
       "                var nbb_formatted_code = \"model_ds = pd.read_csv(\\\"model_ds.csv\\\")\\n# Match naming conventions of Lending club data\\n# Accepted\\ndf3 = model_ds[model_ds[\\\"is_accepted\\\"] == 1]\\ndf3 = df3.drop([\\\"is_accepted\\\"], axis=1)\\ndf3 = df3.rename(columns={\\\"y\\\": \\\"target\\\"})\\n# Rejected\\ndfr = model_ds[model_ds[\\\"is_accepted\\\"] == 0]\\ndfr = dfr.drop([\\\"is_accepted\\\"], axis=1)\\n\\n# Train/Test Split (without labels)\\ndfr[\\\"id\\\"] = dfr.index.to_series().map(lambda x: uuid.uuid4())\\n\\n# Shuffle the dataset\\nshuffle_df = dfr.sample(frac=1)\\n\\n# Define a size for your train set\\ntrain_size = int(0.7 * len(shuffle_df))\\n\\n# Split your dataset\\ndfr_dev3 = shuffle_df[:train_size]\\ndfr_test3 = shuffle_df[train_size:]\\n\\n# Drop y\\ndfr_dev2 = dfr_dev3\\ndfr_test2 = dfr_dev3\\ndfr_dev3 = dfr_dev3.drop([\\\"y\\\"], axis=1)\\ndfr_test3 = dfr_test3.drop([\\\"y\\\"], axis=1)\";\n",
       "                var nbb_cells = Jupyter.notebook.get_cells();\n",
       "                for (var i = 0; i < nbb_cells.length; ++i) {\n",
       "                    if (nbb_cells[i].input_prompt_number == nbb_cell_id) {\n",
       "                        if (nbb_cells[i].get_text() == nbb_unformatted_code) {\n",
       "                             nbb_cells[i].set_text(nbb_formatted_code);\n",
       "                        }\n",
       "                        break;\n",
       "                    }\n",
       "                }\n",
       "            }, 500);\n",
       "            "
      ],
      "text/plain": [
       "<IPython.core.display.Javascript object>"
      ]
     },
     "metadata": {},
     "output_type": "display_data"
    }
   ],
   "source": [
    "model_ds = pd.read_csv(\"model_ds.csv\")\n",
    "# Match naming conventions of Lending club data\n",
    "# Accepted\n",
    "df3 = model_ds[model_ds[\"is_accepted\"] == 1]\n",
    "df3 = df3.drop([\"is_accepted\"], axis=1)\n",
    "df3 = df3.rename(columns={\"y\": \"target\"})\n",
    "# Rejected\n",
    "dfr = model_ds[model_ds[\"is_accepted\"] == 0]\n",
    "dfr = dfr.drop([\"is_accepted\"], axis=1)\n",
    "\n",
    "# Train/Test Split (without labels)\n",
    "dfr[\"id\"] = dfr.index.to_series().map(lambda x: uuid.uuid4())\n",
    "\n",
    "# Shuffle the dataset\n",
    "shuffle_df = dfr.sample(frac=1)\n",
    "\n",
    "# Define a size for your train set\n",
    "train_size = int(0.7 * len(shuffle_df))\n",
    "\n",
    "# Split your dataset\n",
    "dfr_dev3 = shuffle_df[:train_size]\n",
    "dfr_test3 = shuffle_df[train_size:]\n",
    "\n",
    "# Drop y\n",
    "dfr_dev2 = dfr_dev3\n",
    "dfr_test2 = dfr_dev3\n",
    "dfr_dev3 = dfr_dev3.drop([\"y\"], axis=1)\n",
    "dfr_test3 = dfr_test3.drop([\"y\"], axis=1)"
   ]
  },
  {
   "cell_type": "code",
   "execution_count": 88,
   "metadata": {},
   "outputs": [
    {
     "data": {
      "application/javascript": [
       "\n",
       "            setTimeout(function() {\n",
       "                var nbb_cell_id = 88;\n",
       "                var nbb_unformatted_code = \"dfr_test2 = dfr_test2[\\n    [\\n        \\\"id\\\",\\n        \\\"known_col_0\\\",\\n        \\\"known_col_1\\\",\\n        \\\"known_col_2\\\",\\n        \\\"known_col_3\\\",\\n        \\\"known_col_4\\\",\\n        \\\"known_col_5\\\",\\n        \\\"known_col_6\\\",\\n        \\\"known_col_7\\\",\\n        \\\"known_col_8\\\",\\n    ]\\n]\";\n",
       "                var nbb_formatted_code = \"dfr_test2 = dfr_test2[\\n    [\\n        \\\"id\\\",\\n        \\\"known_col_0\\\",\\n        \\\"known_col_1\\\",\\n        \\\"known_col_2\\\",\\n        \\\"known_col_3\\\",\\n        \\\"known_col_4\\\",\\n        \\\"known_col_5\\\",\\n        \\\"known_col_6\\\",\\n        \\\"known_col_7\\\",\\n        \\\"known_col_8\\\",\\n    ]\\n]\";\n",
       "                var nbb_cells = Jupyter.notebook.get_cells();\n",
       "                for (var i = 0; i < nbb_cells.length; ++i) {\n",
       "                    if (nbb_cells[i].input_prompt_number == nbb_cell_id) {\n",
       "                        if (nbb_cells[i].get_text() == nbb_unformatted_code) {\n",
       "                             nbb_cells[i].set_text(nbb_formatted_code);\n",
       "                        }\n",
       "                        break;\n",
       "                    }\n",
       "                }\n",
       "            }, 500);\n",
       "            "
      ],
      "text/plain": [
       "<IPython.core.display.Javascript object>"
      ]
     },
     "metadata": {},
     "output_type": "display_data"
    }
   ],
   "source": [
    "dfr_test2 = dfr_test2[\n",
    "    [\n",
    "        \"id\",\n",
    "        \"known_col_0\",\n",
    "        \"known_col_1\",\n",
    "        \"known_col_2\",\n",
    "        \"known_col_3\",\n",
    "        \"known_col_4\",\n",
    "        \"known_col_5\",\n",
    "        \"known_col_6\",\n",
    "        \"known_col_7\",\n",
    "        \"known_col_8\",\n",
    "    ]\n",
    "]"
   ]
  },
  {
   "cell_type": "code",
   "execution_count": 89,
   "metadata": {},
   "outputs": [
    {
     "data": {
      "application/javascript": [
       "\n",
       "            setTimeout(function() {\n",
       "                var nbb_cell_id = 89;\n",
       "                var nbb_unformatted_code = \"dfr_dev2 = dfr_dev2[\\n    [\\n        \\\"id\\\",\\n        \\\"known_col_0\\\",\\n        \\\"known_col_1\\\",\\n        \\\"known_col_2\\\",\\n        \\\"known_col_3\\\",\\n        \\\"known_col_4\\\",\\n        \\\"known_col_5\\\",\\n        \\\"known_col_6\\\",\\n        \\\"known_col_7\\\",\\n        \\\"known_col_8\\\",\\n    ]\\n]\";\n",
       "                var nbb_formatted_code = \"dfr_dev2 = dfr_dev2[\\n    [\\n        \\\"id\\\",\\n        \\\"known_col_0\\\",\\n        \\\"known_col_1\\\",\\n        \\\"known_col_2\\\",\\n        \\\"known_col_3\\\",\\n        \\\"known_col_4\\\",\\n        \\\"known_col_5\\\",\\n        \\\"known_col_6\\\",\\n        \\\"known_col_7\\\",\\n        \\\"known_col_8\\\",\\n    ]\\n]\";\n",
       "                var nbb_cells = Jupyter.notebook.get_cells();\n",
       "                for (var i = 0; i < nbb_cells.length; ++i) {\n",
       "                    if (nbb_cells[i].input_prompt_number == nbb_cell_id) {\n",
       "                        if (nbb_cells[i].get_text() == nbb_unformatted_code) {\n",
       "                             nbb_cells[i].set_text(nbb_formatted_code);\n",
       "                        }\n",
       "                        break;\n",
       "                    }\n",
       "                }\n",
       "            }, 500);\n",
       "            "
      ],
      "text/plain": [
       "<IPython.core.display.Javascript object>"
      ]
     },
     "metadata": {},
     "output_type": "display_data"
    }
   ],
   "source": [
    "dfr_dev2 = dfr_dev2[\n",
    "    [\n",
    "        \"id\",\n",
    "        \"known_col_0\",\n",
    "        \"known_col_1\",\n",
    "        \"known_col_2\",\n",
    "        \"known_col_3\",\n",
    "        \"known_col_4\",\n",
    "        \"known_col_5\",\n",
    "        \"known_col_6\",\n",
    "        \"known_col_7\",\n",
    "        \"known_col_8\",\n",
    "    ]\n",
    "]"
   ]
  },
  {
   "cell_type": "code",
   "execution_count": 90,
   "metadata": {},
   "outputs": [
    {
     "data": {
      "application/javascript": [
       "\n",
       "            setTimeout(function() {\n",
       "                var nbb_cell_id = 90;\n",
       "                var nbb_unformatted_code = \"dfr_dev3 = dfr_dev2[\\n    [\\n        \\\"known_col_0\\\",\\n        \\\"known_col_1\\\",\\n        \\\"known_col_2\\\",\\n        \\\"known_col_3\\\",\\n        \\\"known_col_4\\\",\\n        \\\"known_col_5\\\",\\n        \\\"known_col_6\\\",\\n        \\\"known_col_7\\\",\\n        \\\"known_col_8\\\",\\n    ]\\n]\";\n",
       "                var nbb_formatted_code = \"dfr_dev3 = dfr_dev2[\\n    [\\n        \\\"known_col_0\\\",\\n        \\\"known_col_1\\\",\\n        \\\"known_col_2\\\",\\n        \\\"known_col_3\\\",\\n        \\\"known_col_4\\\",\\n        \\\"known_col_5\\\",\\n        \\\"known_col_6\\\",\\n        \\\"known_col_7\\\",\\n        \\\"known_col_8\\\",\\n    ]\\n]\";\n",
       "                var nbb_cells = Jupyter.notebook.get_cells();\n",
       "                for (var i = 0; i < nbb_cells.length; ++i) {\n",
       "                    if (nbb_cells[i].input_prompt_number == nbb_cell_id) {\n",
       "                        if (nbb_cells[i].get_text() == nbb_unformatted_code) {\n",
       "                             nbb_cells[i].set_text(nbb_formatted_code);\n",
       "                        }\n",
       "                        break;\n",
       "                    }\n",
       "                }\n",
       "            }, 500);\n",
       "            "
      ],
      "text/plain": [
       "<IPython.core.display.Javascript object>"
      ]
     },
     "metadata": {},
     "output_type": "display_data"
    }
   ],
   "source": [
    "dfr_dev3 = dfr_dev2[\n",
    "    [\n",
    "        \"known_col_0\",\n",
    "        \"known_col_1\",\n",
    "        \"known_col_2\",\n",
    "        \"known_col_3\",\n",
    "        \"known_col_4\",\n",
    "        \"known_col_5\",\n",
    "        \"known_col_6\",\n",
    "        \"known_col_7\",\n",
    "        \"known_col_8\",\n",
    "    ]\n",
    "]"
   ]
  },
  {
   "cell_type": "code",
   "execution_count": 91,
   "metadata": {},
   "outputs": [
    {
     "data": {
      "application/javascript": [
       "\n",
       "            setTimeout(function() {\n",
       "                var nbb_cell_id = 91;\n",
       "                var nbb_unformatted_code = \"dfr_dev3 = dfr_test2[\\n    [\\n        \\\"known_col_0\\\",\\n        \\\"known_col_1\\\",\\n        \\\"known_col_2\\\",\\n        \\\"known_col_3\\\",\\n        \\\"known_col_4\\\",\\n        \\\"known_col_5\\\",\\n        \\\"known_col_6\\\",\\n        \\\"known_col_7\\\",\\n        \\\"known_col_8\\\",\\n    ]\\n]\";\n",
       "                var nbb_formatted_code = \"dfr_dev3 = dfr_test2[\\n    [\\n        \\\"known_col_0\\\",\\n        \\\"known_col_1\\\",\\n        \\\"known_col_2\\\",\\n        \\\"known_col_3\\\",\\n        \\\"known_col_4\\\",\\n        \\\"known_col_5\\\",\\n        \\\"known_col_6\\\",\\n        \\\"known_col_7\\\",\\n        \\\"known_col_8\\\",\\n    ]\\n]\";\n",
       "                var nbb_cells = Jupyter.notebook.get_cells();\n",
       "                for (var i = 0; i < nbb_cells.length; ++i) {\n",
       "                    if (nbb_cells[i].input_prompt_number == nbb_cell_id) {\n",
       "                        if (nbb_cells[i].get_text() == nbb_unformatted_code) {\n",
       "                             nbb_cells[i].set_text(nbb_formatted_code);\n",
       "                        }\n",
       "                        break;\n",
       "                    }\n",
       "                }\n",
       "            }, 500);\n",
       "            "
      ],
      "text/plain": [
       "<IPython.core.display.Javascript object>"
      ]
     },
     "metadata": {},
     "output_type": "display_data"
    }
   ],
   "source": [
    "dfr_dev3 = dfr_test2[\n",
    "    [\n",
    "        \"known_col_0\",\n",
    "        \"known_col_1\",\n",
    "        \"known_col_2\",\n",
    "        \"known_col_3\",\n",
    "        \"known_col_4\",\n",
    "        \"known_col_5\",\n",
    "        \"known_col_6\",\n",
    "        \"known_col_7\",\n",
    "        \"known_col_8\",\n",
    "    ]\n",
    "]"
   ]
  },
  {
   "cell_type": "markdown",
   "metadata": {},
   "source": [
    "### Lenidng Club Data"
   ]
  },
  {
   "cell_type": "markdown",
   "metadata": {},
   "source": [
    "Data: https://www.kaggle.com/wordsforthewise/lending-club"
   ]
  },
  {
   "cell_type": "code",
   "execution_count": null,
   "metadata": {},
   "outputs": [],
   "source": [
    "# Read data\n",
    "# accepted = pd.read_csv(\"accepted_2007_to_2018Q4.csv\", low_memory=False)\n",
    "# rejected = pd.read_csv(\"rejected_2007_to_2018Q4.csv\", low_memory=False)"
   ]
  },
  {
   "cell_type": "code",
   "execution_count": null,
   "metadata": {},
   "outputs": [],
   "source": [
    "# print(accepted.shape)\n",
    "# print(rejected.shape)"
   ]
  },
  {
   "cell_type": "markdown",
   "metadata": {},
   "source": [
    "## Preprocessing"
   ]
  },
  {
   "cell_type": "code",
   "execution_count": null,
   "metadata": {},
   "outputs": [],
   "source": [
    "# Sample 25k obs. for easy processing\n",
    "# shuffled_accepted = accepted.sample(frac=1)\n",
    "# accepted_small = shuffled_accepted.sample(n=25000, random_state=7)\n",
    "# accepted_small.reset_index(drop=True, inplace=True)\n",
    "# accepted_small.to_csv(\"accepted_small\")"
   ]
  },
  {
   "cell_type": "code",
   "execution_count": null,
   "metadata": {},
   "outputs": [],
   "source": [
    "accepted_small = pd.read_csv(\"accepted_small\")"
   ]
  },
  {
   "cell_type": "code",
   "execution_count": null,
   "metadata": {},
   "outputs": [],
   "source": [
    "accepted_small"
   ]
  },
  {
   "cell_type": "code",
   "execution_count": null,
   "metadata": {},
   "outputs": [],
   "source": [
    "def default_flag(x):\n",
    "    if (\n",
    "        x == \"Charged Off\"\n",
    "        or x == \"Does not meet the credit policy. Status:Charged Off\"\n",
    "        or x == \"Late (16-30 days)\"\n",
    "        or x == \"Late (31-120 days)\"\n",
    "        or x == \"Default\"\n",
    "    ):\n",
    "        return 1\n",
    "    elif x == \"Fully Paid\" or x == \"Does not meet the credit policy. Status:Fully Paid\":\n",
    "        return 0\n",
    "    else:\n",
    "        return 2"
   ]
  },
  {
   "cell_type": "code",
   "execution_count": null,
   "metadata": {},
   "outputs": [],
   "source": [
    "accepted_small[\"target\"] = accepted_small[\"loan_status\"].apply(default_flag)"
   ]
  },
  {
   "cell_type": "code",
   "execution_count": null,
   "metadata": {},
   "outputs": [],
   "source": [
    "# Remove Current and Missings\n",
    "accepted_small = accepted_small.loc[accepted_small[\"target\"] != 2]\n",
    "accepted_small.shape"
   ]
  },
  {
   "cell_type": "code",
   "execution_count": null,
   "metadata": {},
   "outputs": [],
   "source": [
    "pd.crosstab(accepted_small[\"target\"], accepted_small[\"loan_status\"])"
   ]
  },
  {
   "cell_type": "markdown",
   "metadata": {},
   "source": [
    "The dataset is imbalanced"
   ]
  },
  {
   "cell_type": "markdown",
   "metadata": {},
   "source": [
    "## Bucketing"
   ]
  },
  {
   "cell_type": "code",
   "execution_count": null,
   "metadata": {},
   "outputs": [],
   "source": [
    "# Keep only 4 explanatory variables for quick and dirty PD model\n",
    "df = accepted_small[\n",
    "    [\"id\", \"target\", \"loan_amnt\", \"addr_state\", \"emp_length\", \"annual_inc\"]\n",
    "]"
   ]
  },
  {
   "cell_type": "code",
   "execution_count": null,
   "metadata": {},
   "outputs": [],
   "source": [
    "# Create Debt to Income and delete input variable from dataset\n",
    "df[\"DTI\"] = df[\"loan_amnt\"] / df[\"annual_inc\"]\n",
    "del df[\"annual_inc\"]"
   ]
  },
  {
   "cell_type": "code",
   "execution_count": null,
   "metadata": {},
   "outputs": [],
   "source": [
    "def start_pipeline(data):\n",
    "    return data.copy()"
   ]
  },
  {
   "cell_type": "code",
   "execution_count": null,
   "metadata": {},
   "outputs": [],
   "source": [
    "def DTI_binning(x):\n",
    "    if x <= 0.1:\n",
    "        return \"<=0.1\"\n",
    "    elif x > 0.1 and x <= 0.2:\n",
    "        return \"0.1-0.2\"\n",
    "    elif x > 0.2 and x <= 0.3:\n",
    "        return \"0.2-0.3\"\n",
    "    elif x > 0.3 and x <= 0.4:\n",
    "        return \"0.3-0.4\"\n",
    "    else:\n",
    "        return \">0.4\""
   ]
  },
  {
   "cell_type": "code",
   "execution_count": null,
   "metadata": {},
   "outputs": [],
   "source": [
    "# Employment Length\n",
    "binning_emp_length = woeBinningPandas.woe_binning(\n",
    "    df, \"target\", \"emp_length\", 0.1, 0.1, 50, 100, \"bad\"\n",
    ")\n",
    "binning_emp_length"
   ]
  },
  {
   "cell_type": "code",
   "execution_count": null,
   "metadata": {},
   "outputs": [],
   "source": [
    "bademplen = binning_emp_length[\"Group_1\"][:2].tolist()\n",
    "nullemplen = binning_emp_length[\"Group_1\"][2:].tolist()"
   ]
  },
  {
   "cell_type": "code",
   "execution_count": null,
   "metadata": {},
   "outputs": [],
   "source": [
    "def empl_length_binning(x):\n",
    "    if (\n",
    "        x == \"<1 year\"\n",
    "        or x == \"1 year\"\n",
    "        or x == \"2 years\"\n",
    "        or x == \"3 years\"\n",
    "        or x == \"4years\"\n",
    "        or x == \"Missing\"\n",
    "    ):\n",
    "        return \"1-2 years\"\n",
    "    else:\n",
    "        return \">2 years\""
   ]
  },
  {
   "cell_type": "code",
   "execution_count": null,
   "metadata": {},
   "outputs": [],
   "source": [
    "def loan_amnt_binning(x):\n",
    "    if x <= 1000:\n",
    "        return \"<=1k\"\n",
    "    elif x > 1000 and x <= 10000:\n",
    "        return \"1-10k\"\n",
    "    else:\n",
    "        return \">10k\""
   ]
  },
  {
   "cell_type": "code",
   "execution_count": null,
   "metadata": {},
   "outputs": [],
   "source": [
    "# State\n",
    "binning = woeBinningPandas.woe_binning(\n",
    "    df, \"target\", \"addr_state\", 0.1, 0.1, 50, 100, \"bad\"\n",
    ")\n",
    "binning"
   ]
  },
  {
   "cell_type": "code",
   "execution_count": null,
   "metadata": {},
   "outputs": [],
   "source": [
    "badstates = binning[\"Group_1\"][:25].tolist()\n",
    "california = [\"CA\"]\n",
    "goodstates = binning[\"Group_1\"][27:].tolist()"
   ]
  },
  {
   "cell_type": "code",
   "execution_count": null,
   "metadata": {},
   "outputs": [],
   "source": [
    "def addr_state_binning(x):\n",
    "    if x == \"CA\":\n",
    "        return \"California\"\n",
    "    elif x in badstates:\n",
    "        return \"Bad state\"\n",
    "    else:\n",
    "        return \"Good state\""
   ]
  },
  {
   "cell_type": "code",
   "execution_count": null,
   "metadata": {},
   "outputs": [],
   "source": [
    "# Function to apply the bucketing to any future dataset\n",
    "def binning_function(data):\n",
    "    data[\"loan_amnt2\"] = data[\"loan_amnt\"].apply(loan_amnt_binning)\n",
    "    data[\"addr_state2\"] = data[\"addr_state\"].apply(addr_state_binning)\n",
    "    data[\"emp_length2\"] = data[\"emp_length\"].apply(empl_length_binning)\n",
    "    data[\"DTI2\"] = df[\"DTI\"].apply(DTI_binning)\n",
    "    return data"
   ]
  },
  {
   "cell_type": "code",
   "execution_count": null,
   "metadata": {},
   "outputs": [],
   "source": [
    "df2 = df.pipe(start_pipeline).pipe(binning_function)"
   ]
  },
  {
   "cell_type": "code",
   "execution_count": null,
   "metadata": {},
   "outputs": [],
   "source": [
    "df2 = df2[[\"id\", \"target\", \"loan_amnt2\", \"addr_state2\", \"emp_length2\", \"DTI2\"]]"
   ]
  },
  {
   "cell_type": "code",
   "execution_count": null,
   "metadata": {},
   "outputs": [],
   "source": [
    "# Function to explore differentiation of bucketing visually + cross tab\n",
    "def diff_visual(data, variable):\n",
    "    %matplotlib inline\n",
    "    table = pd.crosstab(data[variable], df2[\"target\"])\n",
    "    table.div(table.sum(1).astype(float), axis=0).plot(\n",
    "        kind=\"bar\", color=[\"cadetblue\", \"crimson\"], stacked=True\n",
    "    )\n",
    "    plt.title(\"Stacked Bar Loan Amount vs Default Status\")\n",
    "    # plt.xlabel(variable)\n",
    "    plt.ylabel(\"Proportion of Accepts\")\n",
    "\n",
    "    x = pd.crosstab(data[variable], df2[\"target\"]).apply(lambda r: r / r.sum(), axis=1)\n",
    "    x = pd.DataFrame(x)\n",
    "\n",
    "    y = pd.crosstab(df[variable], df[\"target\"])\n",
    "    y = pd.DataFrame(y)\n",
    "\n",
    "    return x, y"
   ]
  },
  {
   "cell_type": "code",
   "execution_count": null,
   "metadata": {},
   "outputs": [],
   "source": [
    "# Function to explore differentiation of bucketing visually + cross tab\n",
    "def diff_visual(data, variable):\n",
    "    %matplotlib inline\n",
    "    table = pd.crosstab(data[variable], data[\"target\"])\n",
    "    table.div(table.sum(1).astype(float), axis=0).plot(\n",
    "        kind=\"bar\", color=[\"cadetblue\", \"crimson\"], stacked=True\n",
    "    )\n",
    "    plt.title(\"Stacked Bar Loan Amount vs Default Status\")\n",
    "    # plt.xlabel(variable)\n",
    "    plt.ylabel(\"Proportion of Accepts\")\n",
    "\n",
    "    x = pd.crosstab(data[variable], data[\"target\"]).apply(lambda r: r / r.sum(), axis=1)\n",
    "    x = pd.DataFrame(x)\n",
    "\n",
    "    y = pd.crosstab(data[variable], data[\"target\"])\n",
    "    y = pd.DataFrame(y)\n",
    "\n",
    "    return x, y"
   ]
  },
  {
   "cell_type": "code",
   "execution_count": null,
   "metadata": {},
   "outputs": [],
   "source": [
    "diff_visual(df2, \"loan_amnt2\")"
   ]
  },
  {
   "cell_type": "code",
   "execution_count": null,
   "metadata": {},
   "outputs": [],
   "source": [
    "diff_visual(df2, \"emp_length2\")"
   ]
  },
  {
   "cell_type": "code",
   "execution_count": null,
   "metadata": {},
   "outputs": [],
   "source": [
    "diff_visual(df2, \"addr_state2\")"
   ]
  },
  {
   "cell_type": "code",
   "execution_count": null,
   "metadata": {},
   "outputs": [],
   "source": [
    "diff_visual(df2, \"DTI2\")"
   ]
  },
  {
   "cell_type": "code",
   "execution_count": null,
   "metadata": {},
   "outputs": [],
   "source": [
    "# One hot encoding\n",
    "modelling_variables = [\"target\", \"loan_amnt2\", \"addr_state2\", \"emp_length2\", \"DTI2\"]\n",
    "\n",
    "for i in modelling_variables:\n",
    "    if i != \"target\":\n",
    "        df2 = df2.join(pd.get_dummies(df2[i]))\n",
    "        df2 = df2.drop([i], axis=1)"
   ]
  },
  {
   "cell_type": "code",
   "execution_count": null,
   "metadata": {},
   "outputs": [],
   "source": [
    "# Drop Null Band\n",
    "df3 = df2.drop(columns=[\"1-10k\", \"California\", \">2 years\", \"0.2-0.3\"])"
   ]
  },
  {
   "cell_type": "code",
   "execution_count": null,
   "metadata": {},
   "outputs": [],
   "source": [
    "X = df3.loc[:, df3.columns != \"target\"]\n",
    "y = df3.loc[:, df3.columns == \"target\"]"
   ]
  },
  {
   "cell_type": "code",
   "execution_count": null,
   "metadata": {},
   "outputs": [],
   "source": [
    "# Balance the data\n",
    "os = RandomUnderSampler(sampling_strategy=0.5, random_state=7)\n",
    "X_train, X_test, y_train, y_test = train_test_split(X, y, test_size=0.3, random_state=7)\n",
    "columns = X_train.columns"
   ]
  },
  {
   "cell_type": "code",
   "execution_count": null,
   "metadata": {},
   "outputs": [],
   "source": [
    "# Train\n",
    "os_data_X, os_data_y = os.fit_sample(X_train, y_train)\n",
    "os_data_X = pd.DataFrame(data=os_data_X, columns=columns)\n",
    "os_data_y = pd.DataFrame(data=os_data_y, columns=[\"target\"])\n",
    "\n",
    "# we can check the numbers of our data\n",
    "print(\n",
    "    \"The number of observations in Development data before undersampling is \",\n",
    "    len(X_train),\n",
    ")\n",
    "print(\n",
    "    \"The number of observations in Development data after undersampling is \",\n",
    "    len(os_data_X),\n",
    ")"
   ]
  },
  {
   "cell_type": "code",
   "execution_count": null,
   "metadata": {},
   "outputs": [],
   "source": [
    "# Keep only columns for modelling\n",
    "os_data_X_2 = os_data_X[\n",
    "    [\n",
    "        \"Good state\",\n",
    "        \"Bad state\",\n",
    "        \"1-2 years\",\n",
    "        \"<=0.1\",\n",
    "        \"0.1-0.2\",\n",
    "        \"0.3-0.4\",\n",
    "        \">0.4\",\n",
    "    ]\n",
    "]\n",
    "X_test_2 = X_test[\n",
    "    [\n",
    "        \"Good state\",\n",
    "        \"Bad state\",\n",
    "        \"1-2 years\",\n",
    "        \"<=0.1\",\n",
    "        \"0.1-0.2\",\n",
    "        \"0.3-0.4\",\n",
    "        \">0.4\",\n",
    "    ]\n",
    "]"
   ]
  },
  {
   "cell_type": "markdown",
   "metadata": {},
   "source": [
    "### FOR SYNTHETIC DATA"
   ]
  },
  {
   "cell_type": "code",
   "execution_count": 51,
   "metadata": {},
   "outputs": [
    {
     "data": {
      "application/javascript": [
       "\n",
       "            setTimeout(function() {\n",
       "                var nbb_cell_id = 51;\n",
       "                var nbb_unformatted_code = \"# Create X and y\\nX = df3.loc[:, df3.columns != \\\"target\\\"]\\ny = df3.loc[:, df3.columns == \\\"target\\\"]\\n\\n# Train Test Split and Balance data\\nos = RandomUnderSampler(sampling_strategy=0.5, random_state=7)\\nX_train, X_test, y_train, y_test = train_test_split(X, y, test_size=0.3, random_state=7)\\ncolumns = X_train.columns\\n\\n# Train\\nos_data_X, os_data_y = os.fit_sample(X_train, y_train)\\nos_data_X = pd.DataFrame(data=os_data_X, columns=columns)\\nos_data_y = pd.DataFrame(data=os_data_y, columns=[\\\"target\\\"])\\n\\n# Match names with Lending Club Data\\nos_data_X_2 = os_data_X\\nX_test_2 = X_test\";\n",
       "                var nbb_formatted_code = \"# Create X and y\\nX = df3.loc[:, df3.columns != \\\"target\\\"]\\ny = df3.loc[:, df3.columns == \\\"target\\\"]\\n\\n# Train Test Split and Balance data\\nos = RandomUnderSampler(sampling_strategy=0.5, random_state=7)\\nX_train, X_test, y_train, y_test = train_test_split(X, y, test_size=0.3, random_state=7)\\ncolumns = X_train.columns\\n\\n# Train\\nos_data_X, os_data_y = os.fit_sample(X_train, y_train)\\nos_data_X = pd.DataFrame(data=os_data_X, columns=columns)\\nos_data_y = pd.DataFrame(data=os_data_y, columns=[\\\"target\\\"])\\n\\n# Match names with Lending Club Data\\nos_data_X_2 = os_data_X\\nX_test_2 = X_test\";\n",
       "                var nbb_cells = Jupyter.notebook.get_cells();\n",
       "                for (var i = 0; i < nbb_cells.length; ++i) {\n",
       "                    if (nbb_cells[i].input_prompt_number == nbb_cell_id) {\n",
       "                        if (nbb_cells[i].get_text() == nbb_unformatted_code) {\n",
       "                             nbb_cells[i].set_text(nbb_formatted_code);\n",
       "                        }\n",
       "                        break;\n",
       "                    }\n",
       "                }\n",
       "            }, 500);\n",
       "            "
      ],
      "text/plain": [
       "<IPython.core.display.Javascript object>"
      ]
     },
     "metadata": {},
     "output_type": "display_data"
    }
   ],
   "source": [
    "# Create X and y\n",
    "X = df3.loc[:, df3.columns != \"target\"]\n",
    "y = df3.loc[:, df3.columns == \"target\"]\n",
    "\n",
    "# Train Test Split and Balance data\n",
    "os = RandomUnderSampler(sampling_strategy=0.5, random_state=7)\n",
    "X_train, X_test, y_train, y_test = train_test_split(X, y, test_size=0.3, random_state=7)\n",
    "columns = X_train.columns\n",
    "\n",
    "# Train\n",
    "os_data_X, os_data_y = os.fit_sample(X_train, y_train)\n",
    "os_data_X = pd.DataFrame(data=os_data_X, columns=columns)\n",
    "os_data_y = pd.DataFrame(data=os_data_y, columns=[\"target\"])\n",
    "\n",
    "# Match names with Lending Club Data\n",
    "os_data_X_2 = os_data_X\n",
    "X_test_2 = X_test"
   ]
  },
  {
   "cell_type": "code",
   "execution_count": 52,
   "metadata": {},
   "outputs": [
    {
     "name": "stdout",
     "output_type": "stream",
     "text": [
      "Optimization terminated successfully.\n",
      "         Current function value: 0.406137\n",
      "         Iterations 7\n",
      "                         Results: Logit\n",
      "=================================================================\n",
      "Model:              Logit            Pseudo R-squared: 0.362     \n",
      "Dependent Variable: target           AIC:              539.0435  \n",
      "Date:               2020-12-31 12:44 BIC:              583.6425  \n",
      "No. Observations:   639              Log-Likelihood:   -259.52   \n",
      "Df Model:           9                LL-Null:          -406.73   \n",
      "Df Residuals:       629              LLR p-value:      3.9782e-58\n",
      "Converged:          1.0000           Scale:            1.0000    \n",
      "No. Iterations:     7.0000                                       \n",
      "------------------------------------------------------------------\n",
      "              Coef.   Std.Err.     z      P>|z|    [0.025   0.975]\n",
      "------------------------------------------------------------------\n",
      "const        -2.0623    0.1876  -10.9930  0.0000  -2.4300  -1.6946\n",
      "known_col_0  -0.2979    0.1088   -2.7380  0.0062  -0.5112  -0.0847\n",
      "known_col_1   1.8123    0.1525   11.8809  0.0000   1.5133   2.1112\n",
      "known_col_2  -0.1401    0.1058   -1.3242  0.1854  -0.3475   0.0673\n",
      "known_col_3  -0.5715    0.1217   -4.6942  0.0000  -0.8101  -0.3329\n",
      "known_col_4   0.2732    0.1470    1.8586  0.0631  -0.0149   0.5613\n",
      "known_col_5   0.0719    0.1035    0.6945  0.4874  -0.1310   0.2747\n",
      "known_col_6   0.0189    0.1083    0.1745  0.8614  -0.1934   0.2312\n",
      "known_col_7   0.0397    0.1091    0.3634  0.7163  -0.1742   0.2535\n",
      "known_col_8   0.0701    0.1090    0.6430  0.5202  -0.1435   0.2836\n",
      "=================================================================\n",
      "\n"
     ]
    },
    {
     "data": {
      "application/javascript": [
       "\n",
       "            setTimeout(function() {\n",
       "                var nbb_cell_id = 52;\n",
       "                var nbb_unformatted_code = \"# Build Logistic regression\\n# Statmodels\\nX_in = sm.add_constant(os_data_X_2.astype(float))\\nlogit_model = sm.Logit(os_data_y, X_in)\\nresult3 = logit_model.fit()\\nprint(result3.summary2())\";\n",
       "                var nbb_formatted_code = \"# Build Logistic regression\\n# Statmodels\\nX_in = sm.add_constant(os_data_X_2.astype(float))\\nlogit_model = sm.Logit(os_data_y, X_in)\\nresult3 = logit_model.fit()\\nprint(result3.summary2())\";\n",
       "                var nbb_cells = Jupyter.notebook.get_cells();\n",
       "                for (var i = 0; i < nbb_cells.length; ++i) {\n",
       "                    if (nbb_cells[i].input_prompt_number == nbb_cell_id) {\n",
       "                        if (nbb_cells[i].get_text() == nbb_unformatted_code) {\n",
       "                             nbb_cells[i].set_text(nbb_formatted_code);\n",
       "                        }\n",
       "                        break;\n",
       "                    }\n",
       "                }\n",
       "            }, 500);\n",
       "            "
      ],
      "text/plain": [
       "<IPython.core.display.Javascript object>"
      ]
     },
     "metadata": {},
     "output_type": "display_data"
    }
   ],
   "source": [
    "# Build Logistic regression\n",
    "# Statmodels\n",
    "X_in = sm.add_constant(os_data_X_2.astype(float))\n",
    "logit_model = sm.Logit(os_data_y, X_in)\n",
    "result3 = logit_model.fit()\n",
    "print(result3.summary2())"
   ]
  },
  {
   "cell_type": "code",
   "execution_count": 53,
   "metadata": {},
   "outputs": [
    {
     "name": "stdout",
     "output_type": "stream",
     "text": [
      "Accuracy score Logistic Regression: 0.8904761904761904\n"
     ]
    },
    {
     "data": {
      "image/png": "[encoded data removed]",
      "text/plain": [
       "<Figure size 432x288 with 1 Axes>"
      ]
     },
     "metadata": {
      "needs_background": "light"
     },
     "output_type": "display_data"
    },
    {
     "data": {
      "application/javascript": [
       "\n",
       "            setTimeout(function() {\n",
       "                var nbb_cell_id = 53;\n",
       "                var nbb_unformatted_code = \"# Sklearn\\nlogreg = LogisticRegression(fit_intercept=True, penalty=\\\"none\\\")\\nlogreg.fit(os_data_X_2, os_data_y.values.ravel())\\ny_pred = logreg.predict(X_test_2)\\nprint(\\\"Accuracy score Logistic Regression:\\\", logreg.score(X_test_2, y_test))\\nlogit_roc_auc = roc_auc_score(y_test, logreg.predict(X_test_2))\\nfpr, tpr, thresholds = roc_curve(y_test, logreg.predict_proba(X_test_2)[:, 1])\\nplt.figure()\\nplt.plot(fpr, tpr, label=\\\"Logistic Regression (area = %0.2f)\\\" % logit_roc_auc)\\nplt.plot([0, 1], [0, 1], \\\"r--\\\")\\nplt.xlim([0.0, 1.0])\\nplt.ylim([0.0, 1.05])\\nplt.xlabel(\\\"False Positive Rate\\\")\\nplt.ylabel(\\\"True Positive Rate\\\")\\nplt.title(\\\"Receiver operating characteristic\\\")\\nplt.legend(loc=\\\"lower right\\\")\\nplt.savefig(\\\"Log_ROC\\\")\\nplt.show()\";\n",
       "                var nbb_formatted_code = \"# Sklearn\\nlogreg = LogisticRegression(fit_intercept=True, penalty=\\\"none\\\")\\nlogreg.fit(os_data_X_2, os_data_y.values.ravel())\\ny_pred = logreg.predict(X_test_2)\\nprint(\\\"Accuracy score Logistic Regression:\\\", logreg.score(X_test_2, y_test))\\nlogit_roc_auc = roc_auc_score(y_test, logreg.predict(X_test_2))\\nfpr, tpr, thresholds = roc_curve(y_test, logreg.predict_proba(X_test_2)[:, 1])\\nplt.figure()\\nplt.plot(fpr, tpr, label=\\\"Logistic Regression (area = %0.2f)\\\" % logit_roc_auc)\\nplt.plot([0, 1], [0, 1], \\\"r--\\\")\\nplt.xlim([0.0, 1.0])\\nplt.ylim([0.0, 1.05])\\nplt.xlabel(\\\"False Positive Rate\\\")\\nplt.ylabel(\\\"True Positive Rate\\\")\\nplt.title(\\\"Receiver operating characteristic\\\")\\nplt.legend(loc=\\\"lower right\\\")\\nplt.savefig(\\\"Log_ROC\\\")\\nplt.show()\";\n",
       "                var nbb_cells = Jupyter.notebook.get_cells();\n",
       "                for (var i = 0; i < nbb_cells.length; ++i) {\n",
       "                    if (nbb_cells[i].input_prompt_number == nbb_cell_id) {\n",
       "                        if (nbb_cells[i].get_text() == nbb_unformatted_code) {\n",
       "                             nbb_cells[i].set_text(nbb_formatted_code);\n",
       "                        }\n",
       "                        break;\n",
       "                    }\n",
       "                }\n",
       "            }, 500);\n",
       "            "
      ],
      "text/plain": [
       "<IPython.core.display.Javascript object>"
      ]
     },
     "metadata": {},
     "output_type": "display_data"
    }
   ],
   "source": [
    "# Sklearn\n",
    "logreg = LogisticRegression(fit_intercept=True, penalty=\"none\")\n",
    "logreg.fit(os_data_X_2, os_data_y.values.ravel())\n",
    "y_pred = logreg.predict(X_test_2)\n",
    "print(\"Accuracy score Logistic Regression:\", logreg.score(X_test_2, y_test))\n",
    "logit_roc_auc = roc_auc_score(y_test, logreg.predict(X_test_2))\n",
    "fpr, tpr, thresholds = roc_curve(y_test, logreg.predict_proba(X_test_2)[:, 1])\n",
    "plt.figure()\n",
    "plt.plot(fpr, tpr, label=\"Logistic Regression (area = %0.2f)\" % logit_roc_auc)\n",
    "plt.plot([0, 1], [0, 1], \"r--\")\n",
    "plt.xlim([0.0, 1.0])\n",
    "plt.ylim([0.0, 1.05])\n",
    "plt.xlabel(\"False Positive Rate\")\n",
    "plt.ylabel(\"True Positive Rate\")\n",
    "plt.title(\"Receiver operating characteristic\")\n",
    "plt.legend(loc=\"lower right\")\n",
    "plt.savefig(\"Log_ROC\")\n",
    "plt.show()"
   ]
  },
  {
   "cell_type": "code",
   "execution_count": 54,
   "metadata": {},
   "outputs": [
    {
     "data": {
      "application/javascript": [
       "\n",
       "            setTimeout(function() {\n",
       "                var nbb_cell_id = 54;\n",
       "                var nbb_unformatted_code = \"#Test set with labels\\ntest_labels = pd.merge(\\n    y_test,\\n    X_test,\\n    how=\\\"inner\\\",\\n    left_index=True,\\n    right_index=True,\\n)\";\n",
       "                var nbb_formatted_code = \"# Test set with labels\\ntest_labels = pd.merge(\\n    y_test,\\n    X_test,\\n    how=\\\"inner\\\",\\n    left_index=True,\\n    right_index=True,\\n)\";\n",
       "                var nbb_cells = Jupyter.notebook.get_cells();\n",
       "                for (var i = 0; i < nbb_cells.length; ++i) {\n",
       "                    if (nbb_cells[i].input_prompt_number == nbb_cell_id) {\n",
       "                        if (nbb_cells[i].get_text() == nbb_unformatted_code) {\n",
       "                             nbb_cells[i].set_text(nbb_formatted_code);\n",
       "                        }\n",
       "                        break;\n",
       "                    }\n",
       "                }\n",
       "            }, 500);\n",
       "            "
      ],
      "text/plain": [
       "<IPython.core.display.Javascript object>"
      ]
     },
     "metadata": {},
     "output_type": "display_data"
    }
   ],
   "source": [
    "#Test set with labels\n",
    "test_labels = pd.merge(\n",
    "    y_test,\n",
    "    X_test,\n",
    "    how=\"inner\",\n",
    "    left_index=True,\n",
    "    right_index=True,\n",
    ")\n"
   ]
  },
  {
   "cell_type": "code",
   "execution_count": 55,
   "metadata": {},
   "outputs": [
    {
     "data": {
      "text/html": [
       "<div>\n",
       "<style scoped>\n",
       "    .dataframe tbody tr th:only-of-type {\n",
       "        vertical-align: middle;\n",
       "    }\n",
       "\n",
       "    .dataframe tbody tr th {\n",
       "        vertical-align: top;\n",
       "    }\n",
       "\n",
       "    .dataframe thead th {\n",
       "        text-align: right;\n",
       "    }\n",
       "</style>\n",
       "<table border=\"1\" class=\"dataframe\">\n",
       "  <thead>\n",
       "    <tr style=\"text-align: right;\">\n",
       "      <th></th>\n",
       "      <th>prediction</th>\n",
       "      <th>count</th>\n",
       "    </tr>\n",
       "  </thead>\n",
       "  <tbody>\n",
       "    <tr>\n",
       "      <th>count</th>\n",
       "      <td>2100.000000</td>\n",
       "      <td>2100.0</td>\n",
       "    </tr>\n",
       "    <tr>\n",
       "      <th>mean</th>\n",
       "      <td>0.202881</td>\n",
       "      <td>1.0</td>\n",
       "    </tr>\n",
       "    <tr>\n",
       "      <th>std</th>\n",
       "      <td>0.231535</td>\n",
       "      <td>0.0</td>\n",
       "    </tr>\n",
       "    <tr>\n",
       "      <th>min</th>\n",
       "      <td>0.000024</td>\n",
       "      <td>1.0</td>\n",
       "    </tr>\n",
       "    <tr>\n",
       "      <th>25%</th>\n",
       "      <td>0.031508</td>\n",
       "      <td>1.0</td>\n",
       "    </tr>\n",
       "    <tr>\n",
       "      <th>50%</th>\n",
       "      <td>0.106201</td>\n",
       "      <td>1.0</td>\n",
       "    </tr>\n",
       "    <tr>\n",
       "      <th>75%</th>\n",
       "      <td>0.298550</td>\n",
       "      <td>1.0</td>\n",
       "    </tr>\n",
       "    <tr>\n",
       "      <th>max</th>\n",
       "      <td>0.991097</td>\n",
       "      <td>1.0</td>\n",
       "    </tr>\n",
       "  </tbody>\n",
       "</table>\n",
       "</div>"
      ],
      "text/plain": [
       "        prediction   count\n",
       "count  2100.000000  2100.0\n",
       "mean      0.202881     1.0\n",
       "std       0.231535     0.0\n",
       "min       0.000024     1.0\n",
       "25%       0.031508     1.0\n",
       "50%       0.106201     1.0\n",
       "75%       0.298550     1.0\n",
       "max       0.991097     1.0"
      ]
     },
     "execution_count": 55,
     "metadata": {},
     "output_type": "execute_result"
    },
    {
     "data": {
      "application/javascript": [
       "\n",
       "            setTimeout(function() {\n",
       "                var nbb_cell_id = 55;\n",
       "                var nbb_unformatted_code = \"# Predictions on testset\\ntest_pred = logreg.predict_proba(X_test_2)[:, 1]\\ntest_pred2 = pd.DataFrame(data=test_pred, columns=[\\\"prediction\\\"])\\ntest_pred2[\\\"count\\\"] = test_pred2.groupby(\\\"prediction\\\")[\\\"prediction\\\"].transform(\\\"count\\\")\\ntest_pred2.groupby([\\\"prediction\\\"]).count()\\ntest_pred2.describe()\";\n",
       "                var nbb_formatted_code = \"# Predictions on testset\\ntest_pred = logreg.predict_proba(X_test_2)[:, 1]\\ntest_pred2 = pd.DataFrame(data=test_pred, columns=[\\\"prediction\\\"])\\ntest_pred2[\\\"count\\\"] = test_pred2.groupby(\\\"prediction\\\")[\\\"prediction\\\"].transform(\\\"count\\\")\\ntest_pred2.groupby([\\\"prediction\\\"]).count()\\ntest_pred2.describe()\";\n",
       "                var nbb_cells = Jupyter.notebook.get_cells();\n",
       "                for (var i = 0; i < nbb_cells.length; ++i) {\n",
       "                    if (nbb_cells[i].input_prompt_number == nbb_cell_id) {\n",
       "                        if (nbb_cells[i].get_text() == nbb_unformatted_code) {\n",
       "                             nbb_cells[i].set_text(nbb_formatted_code);\n",
       "                        }\n",
       "                        break;\n",
       "                    }\n",
       "                }\n",
       "            }, 500);\n",
       "            "
      ],
      "text/plain": [
       "<IPython.core.display.Javascript object>"
      ]
     },
     "metadata": {},
     "output_type": "display_data"
    }
   ],
   "source": [
    "# Predictions on testset\n",
    "test_pred = logreg.predict_proba(X_test_2)[:, 1]\n",
    "test_pred2 = pd.DataFrame(data=test_pred, columns=[\"prediction\"])\n",
    "test_pred2[\"count\"] = test_pred2.groupby(\"prediction\")[\"prediction\"].transform(\"count\")\n",
    "test_pred2.groupby([\"prediction\"]).count()\n",
    "test_pred2.describe()"
   ]
  },
  {
   "cell_type": "code",
   "execution_count": 56,
   "metadata": {},
   "outputs": [
    {
     "data": {
      "text/html": [
       "<div>\n",
       "<style scoped>\n",
       "    .dataframe tbody tr th:only-of-type {\n",
       "        vertical-align: middle;\n",
       "    }\n",
       "\n",
       "    .dataframe tbody tr th {\n",
       "        vertical-align: top;\n",
       "    }\n",
       "\n",
       "    .dataframe thead th {\n",
       "        text-align: right;\n",
       "    }\n",
       "</style>\n",
       "<table border=\"1\" class=\"dataframe\">\n",
       "  <thead>\n",
       "    <tr style=\"text-align: right;\">\n",
       "      <th></th>\n",
       "      <th>target</th>\n",
       "      <th>known_col_0</th>\n",
       "      <th>known_col_1</th>\n",
       "      <th>known_col_2</th>\n",
       "      <th>known_col_3</th>\n",
       "      <th>known_col_4</th>\n",
       "      <th>known_col_5</th>\n",
       "      <th>known_col_6</th>\n",
       "      <th>known_col_7</th>\n",
       "      <th>known_col_8</th>\n",
       "      <th>prediction_beforeRI</th>\n",
       "    </tr>\n",
       "  </thead>\n",
       "  <tbody>\n",
       "    <tr>\n",
       "      <th>7231</th>\n",
       "      <td>0</td>\n",
       "      <td>0.120288</td>\n",
       "      <td>0.595316</td>\n",
       "      <td>-1.876325</td>\n",
       "      <td>-1.032869</td>\n",
       "      <td>-0.223376</td>\n",
       "      <td>1.164968</td>\n",
       "      <td>0.482257</td>\n",
       "      <td>0.246359</td>\n",
       "      <td>0.860173</td>\n",
       "      <td>0.483956</td>\n",
       "    </tr>\n",
       "    <tr>\n",
       "      <th>7880</th>\n",
       "      <td>0</td>\n",
       "      <td>2.069580</td>\n",
       "      <td>0.503860</td>\n",
       "      <td>-0.198736</td>\n",
       "      <td>-0.072057</td>\n",
       "      <td>0.156990</td>\n",
       "      <td>-1.623263</td>\n",
       "      <td>0.474801</td>\n",
       "      <td>-0.026581</td>\n",
       "      <td>0.875270</td>\n",
       "      <td>0.154308</td>\n",
       "    </tr>\n",
       "    <tr>\n",
       "      <th>3621</th>\n",
       "      <td>0</td>\n",
       "      <td>-0.062990</td>\n",
       "      <td>-0.777283</td>\n",
       "      <td>-0.186030</td>\n",
       "      <td>0.609338</td>\n",
       "      <td>0.202800</td>\n",
       "      <td>0.963561</td>\n",
       "      <td>-0.816584</td>\n",
       "      <td>-0.621179</td>\n",
       "      <td>0.016290</td>\n",
       "      <td>0.024396</td>\n",
       "    </tr>\n",
       "    <tr>\n",
       "      <th>7836</th>\n",
       "      <td>0</td>\n",
       "      <td>0.448716</td>\n",
       "      <td>0.743112</td>\n",
       "      <td>0.214673</td>\n",
       "      <td>0.814224</td>\n",
       "      <td>-0.386753</td>\n",
       "      <td>1.166083</td>\n",
       "      <td>-0.622785</td>\n",
       "      <td>-0.554206</td>\n",
       "      <td>-1.009237</td>\n",
       "      <td>0.186788</td>\n",
       "    </tr>\n",
       "    <tr>\n",
       "      <th>7816</th>\n",
       "      <td>0</td>\n",
       "      <td>0.188821</td>\n",
       "      <td>0.944693</td>\n",
       "      <td>-1.229423</td>\n",
       "      <td>0.483918</td>\n",
       "      <td>-1.064125</td>\n",
       "      <td>2.208808</td>\n",
       "      <td>0.786099</td>\n",
       "      <td>-0.210297</td>\n",
       "      <td>0.294476</td>\n",
       "      <td>0.350769</td>\n",
       "    </tr>\n",
       "    <tr>\n",
       "      <th>...</th>\n",
       "      <td>...</td>\n",
       "      <td>...</td>\n",
       "      <td>...</td>\n",
       "      <td>...</td>\n",
       "      <td>...</td>\n",
       "      <td>...</td>\n",
       "      <td>...</td>\n",
       "      <td>...</td>\n",
       "      <td>...</td>\n",
       "      <td>...</td>\n",
       "      <td>...</td>\n",
       "    </tr>\n",
       "    <tr>\n",
       "      <th>5796</th>\n",
       "      <td>0</td>\n",
       "      <td>0.137725</td>\n",
       "      <td>-0.655189</td>\n",
       "      <td>0.259445</td>\n",
       "      <td>0.826849</td>\n",
       "      <td>0.663798</td>\n",
       "      <td>0.222962</td>\n",
       "      <td>0.091939</td>\n",
       "      <td>0.113713</td>\n",
       "      <td>0.880674</td>\n",
       "      <td>0.028352</td>\n",
       "    </tr>\n",
       "    <tr>\n",
       "      <th>1128</th>\n",
       "      <td>0</td>\n",
       "      <td>-0.020695</td>\n",
       "      <td>-1.029771</td>\n",
       "      <td>-1.882774</td>\n",
       "      <td>-0.890091</td>\n",
       "      <td>0.517958</td>\n",
       "      <td>0.861856</td>\n",
       "      <td>-1.054173</td>\n",
       "      <td>-1.904468</td>\n",
       "      <td>-0.201315</td>\n",
       "      <td>0.044963</td>\n",
       "    </tr>\n",
       "    <tr>\n",
       "      <th>3617</th>\n",
       "      <td>0</td>\n",
       "      <td>-0.308260</td>\n",
       "      <td>1.000664</td>\n",
       "      <td>0.484986</td>\n",
       "      <td>1.590688</td>\n",
       "      <td>-0.059050</td>\n",
       "      <td>0.992015</td>\n",
       "      <td>-0.816889</td>\n",
       "      <td>-1.768316</td>\n",
       "      <td>0.026157</td>\n",
       "      <td>0.238189</td>\n",
       "    </tr>\n",
       "    <tr>\n",
       "      <th>8491</th>\n",
       "      <td>0</td>\n",
       "      <td>-1.158329</td>\n",
       "      <td>-1.836229</td>\n",
       "      <td>2.523833</td>\n",
       "      <td>-0.061446</td>\n",
       "      <td>-0.130475</td>\n",
       "      <td>0.781090</td>\n",
       "      <td>0.590055</td>\n",
       "      <td>-0.343272</td>\n",
       "      <td>0.356698</td>\n",
       "      <td>0.004867</td>\n",
       "    </tr>\n",
       "    <tr>\n",
       "      <th>7370</th>\n",
       "      <td>0</td>\n",
       "      <td>0.402063</td>\n",
       "      <td>0.369811</td>\n",
       "      <td>-1.813105</td>\n",
       "      <td>-1.830977</td>\n",
       "      <td>-1.641522</td>\n",
       "      <td>-0.899721</td>\n",
       "      <td>-1.162077</td>\n",
       "      <td>0.133634</td>\n",
       "      <td>-0.236348</td>\n",
       "      <td>0.319130</td>\n",
       "    </tr>\n",
       "  </tbody>\n",
       "</table>\n",
       "<p>2100 rows × 11 columns</p>\n",
       "</div>"
      ],
      "text/plain": [
       "      target  known_col_0  known_col_1  known_col_2  known_col_3  known_col_4  \\\n",
       "7231       0     0.120288     0.595316    -1.876325    -1.032869    -0.223376   \n",
       "7880       0     2.069580     0.503860    -0.198736    -0.072057     0.156990   \n",
       "3621       0    -0.062990    -0.777283    -0.186030     0.609338     0.202800   \n",
       "7836       0     0.448716     0.743112     0.214673     0.814224    -0.386753   \n",
       "7816       0     0.188821     0.944693    -1.229423     0.483918    -1.064125   \n",
       "...      ...          ...          ...          ...          ...          ...   \n",
       "5796       0     0.137725    -0.655189     0.259445     0.826849     0.663798   \n",
       "1128       0    -0.020695    -1.029771    -1.882774    -0.890091     0.517958   \n",
       "3617       0    -0.308260     1.000664     0.484986     1.590688    -0.059050   \n",
       "8491       0    -1.158329    -1.836229     2.523833    -0.061446    -0.130475   \n",
       "7370       0     0.402063     0.369811    -1.813105    -1.830977    -1.641522   \n",
       "\n",
       "      known_col_5  known_col_6  known_col_7  known_col_8  prediction_beforeRI  \n",
       "7231     1.164968     0.482257     0.246359     0.860173             0.483956  \n",
       "7880    -1.623263     0.474801    -0.026581     0.875270             0.154308  \n",
       "3621     0.963561    -0.816584    -0.621179     0.016290             0.024396  \n",
       "7836     1.166083    -0.622785    -0.554206    -1.009237             0.186788  \n",
       "7816     2.208808     0.786099    -0.210297     0.294476             0.350769  \n",
       "...           ...          ...          ...          ...                  ...  \n",
       "5796     0.222962     0.091939     0.113713     0.880674             0.028352  \n",
       "1128     0.861856    -1.054173    -1.904468    -0.201315             0.044963  \n",
       "3617     0.992015    -0.816889    -1.768316     0.026157             0.238189  \n",
       "8491     0.781090     0.590055    -0.343272     0.356698             0.004867  \n",
       "7370    -0.899721    -1.162077     0.133634    -0.236348             0.319130  \n",
       "\n",
       "[2100 rows x 11 columns]"
      ]
     },
     "execution_count": 56,
     "metadata": {},
     "output_type": "execute_result"
    },
    {
     "data": {
      "application/javascript": [
       "\n",
       "            setTimeout(function() {\n",
       "                var nbb_cell_id = 56;\n",
       "                var nbb_unformatted_code = \"# Join predictions with test new\\npred_test_kgb = pd.DataFrame(\\n    data=test_pred, columns=[\\\"prediction_beforeRI\\\"], index=y_test.index.copy()\\n)\\npred_test1 = pd.merge(\\n    test_labels,\\n    pred_test_kgb[[\\\"prediction_beforeRI\\\"]],\\n    how=\\\"inner\\\",\\n    left_index=True,\\n    right_index=True,\\n)\\n\\n# pred_test1.dropna(subset=[\\\"prediction_beforeRI\\\"], inplace=True)\\npred_test1\";\n",
       "                var nbb_formatted_code = \"# Join predictions with test new\\npred_test_kgb = pd.DataFrame(\\n    data=test_pred, columns=[\\\"prediction_beforeRI\\\"], index=y_test.index.copy()\\n)\\npred_test1 = pd.merge(\\n    test_labels,\\n    pred_test_kgb[[\\\"prediction_beforeRI\\\"]],\\n    how=\\\"inner\\\",\\n    left_index=True,\\n    right_index=True,\\n)\\n\\n# pred_test1.dropna(subset=[\\\"prediction_beforeRI\\\"], inplace=True)\\npred_test1\";\n",
       "                var nbb_cells = Jupyter.notebook.get_cells();\n",
       "                for (var i = 0; i < nbb_cells.length; ++i) {\n",
       "                    if (nbb_cells[i].input_prompt_number == nbb_cell_id) {\n",
       "                        if (nbb_cells[i].get_text() == nbb_unformatted_code) {\n",
       "                             nbb_cells[i].set_text(nbb_formatted_code);\n",
       "                        }\n",
       "                        break;\n",
       "                    }\n",
       "                }\n",
       "            }, 500);\n",
       "            "
      ],
      "text/plain": [
       "<IPython.core.display.Javascript object>"
      ]
     },
     "metadata": {},
     "output_type": "display_data"
    }
   ],
   "source": [
    "# Join predictions with test new\n",
    "pred_test_kgb = pd.DataFrame(\n",
    "    data=test_pred, columns=[\"prediction_beforeRI\"], index=y_test.index.copy()\n",
    ")\n",
    "pred_test1 = pd.merge(\n",
    "    test_labels,\n",
    "    pred_test_kgb[[\"prediction_beforeRI\"]],\n",
    "    how=\"inner\",\n",
    "    left_index=True,\n",
    "    right_index=True,\n",
    ")\n",
    "\n",
    "# pred_test1.dropna(subset=[\"prediction_beforeRI\"], inplace=True)\n",
    "pred_test1"
   ]
  },
  {
   "cell_type": "code",
   "execution_count": 57,
   "metadata": {},
   "outputs": [
    {
     "data": {
      "application/javascript": [
       "\n",
       "            setTimeout(function() {\n",
       "                var nbb_cell_id = 57;\n",
       "                var nbb_unformatted_code = \"# pred_test1.shape  # Expected nr. of observations\";\n",
       "                var nbb_formatted_code = \"# pred_test1.shape  # Expected nr. of observations\";\n",
       "                var nbb_cells = Jupyter.notebook.get_cells();\n",
       "                for (var i = 0; i < nbb_cells.length; ++i) {\n",
       "                    if (nbb_cells[i].input_prompt_number == nbb_cell_id) {\n",
       "                        if (nbb_cells[i].get_text() == nbb_unformatted_code) {\n",
       "                             nbb_cells[i].set_text(nbb_formatted_code);\n",
       "                        }\n",
       "                        break;\n",
       "                    }\n",
       "                }\n",
       "            }, 500);\n",
       "            "
      ],
      "text/plain": [
       "<IPython.core.display.Javascript object>"
      ]
     },
     "metadata": {},
     "output_type": "display_data"
    }
   ],
   "source": [
    "# pred_test1.shape  # Expected nr. of observations"
   ]
  },
  {
   "cell_type": "markdown",
   "metadata": {},
   "source": [
    "### Random Forest"
   ]
  },
  {
   "cell_type": "code",
   "execution_count": 58,
   "metadata": {},
   "outputs": [
    {
     "name": "stdout",
     "output_type": "stream",
     "text": [
      "Accuracy score Random Forest: 0.9014285714285715\n",
      "F1 score Random Forest: 0.882697879203723\n"
     ]
    },
    {
     "data": {
      "application/javascript": [
       "\n",
       "            setTimeout(function() {\n",
       "                var nbb_cell_id = 58;\n",
       "                var nbb_unformatted_code = \"rf = RandomForestClassifier(max_depth=2, random_state=0)\\nrf.fit(os_data_X_2, os_data_y.values.ravel())\\ny_pred = rf.predict(X_test_2)\\nprint(\\\"Accuracy score Random Forest:\\\", rf.score(X_test_2, y_test))\\nprint(\\\"F1 score Random Forest:\\\", f1_score(y_pred, y_test, average=\\\"weighted\\\"))\";\n",
       "                var nbb_formatted_code = \"rf = RandomForestClassifier(max_depth=2, random_state=0)\\nrf.fit(os_data_X_2, os_data_y.values.ravel())\\ny_pred = rf.predict(X_test_2)\\nprint(\\\"Accuracy score Random Forest:\\\", rf.score(X_test_2, y_test))\\nprint(\\\"F1 score Random Forest:\\\", f1_score(y_pred, y_test, average=\\\"weighted\\\"))\";\n",
       "                var nbb_cells = Jupyter.notebook.get_cells();\n",
       "                for (var i = 0; i < nbb_cells.length; ++i) {\n",
       "                    if (nbb_cells[i].input_prompt_number == nbb_cell_id) {\n",
       "                        if (nbb_cells[i].get_text() == nbb_unformatted_code) {\n",
       "                             nbb_cells[i].set_text(nbb_formatted_code);\n",
       "                        }\n",
       "                        break;\n",
       "                    }\n",
       "                }\n",
       "            }, 500);\n",
       "            "
      ],
      "text/plain": [
       "<IPython.core.display.Javascript object>"
      ]
     },
     "metadata": {},
     "output_type": "display_data"
    }
   ],
   "source": [
    "rf = RandomForestClassifier(max_depth=2, random_state=0)\n",
    "rf.fit(os_data_X_2, os_data_y.values.ravel())\n",
    "y_pred = rf.predict(X_test_2)\n",
    "print(\"Accuracy score Random Forest:\", rf.score(X_test_2, y_test))\n",
    "print(\"F1 score Random Forest:\", f1_score(y_pred, y_test, average=\"weighted\"))"
   ]
  },
  {
   "cell_type": "markdown",
   "metadata": {},
   "source": [
    "### Decision Tree"
   ]
  },
  {
   "cell_type": "code",
   "execution_count": 59,
   "metadata": {},
   "outputs": [
    {
     "name": "stdout",
     "output_type": "stream",
     "text": [
      "Accuracy score Decision Tree: 0.7961904761904762\n",
      "F1 score Decision Tree 0.7400829647800345\n"
     ]
    },
    {
     "data": {
      "application/javascript": [
       "\n",
       "            setTimeout(function() {\n",
       "                var nbb_cell_id = 59;\n",
       "                var nbb_unformatted_code = \"dt = DecisionTreeClassifier(random_state=0)\\ndt.fit(os_data_X_2, os_data_y.values.ravel())\\ny_pred = dt.predict(X_test_2)\\nprint(\\\"Accuracy score Decision Tree:\\\", dt.score(X_test_2, y_test))\\nprint(\\\"F1 score Decision Tree\\\", f1_score(y_pred, y_test, average=\\\"weighted\\\"))\";\n",
       "                var nbb_formatted_code = \"dt = DecisionTreeClassifier(random_state=0)\\ndt.fit(os_data_X_2, os_data_y.values.ravel())\\ny_pred = dt.predict(X_test_2)\\nprint(\\\"Accuracy score Decision Tree:\\\", dt.score(X_test_2, y_test))\\nprint(\\\"F1 score Decision Tree\\\", f1_score(y_pred, y_test, average=\\\"weighted\\\"))\";\n",
       "                var nbb_cells = Jupyter.notebook.get_cells();\n",
       "                for (var i = 0; i < nbb_cells.length; ++i) {\n",
       "                    if (nbb_cells[i].input_prompt_number == nbb_cell_id) {\n",
       "                        if (nbb_cells[i].get_text() == nbb_unformatted_code) {\n",
       "                             nbb_cells[i].set_text(nbb_formatted_code);\n",
       "                        }\n",
       "                        break;\n",
       "                    }\n",
       "                }\n",
       "            }, 500);\n",
       "            "
      ],
      "text/plain": [
       "<IPython.core.display.Javascript object>"
      ]
     },
     "metadata": {},
     "output_type": "display_data"
    }
   ],
   "source": [
    "dt = DecisionTreeClassifier(random_state=0)\n",
    "dt.fit(os_data_X_2, os_data_y.values.ravel())\n",
    "y_pred = dt.predict(X_test_2)\n",
    "print(\"Accuracy score Decision Tree:\", dt.score(X_test_2, y_test))\n",
    "print(\"F1 score Decision Tree\", f1_score(y_pred, y_test, average=\"weighted\"))"
   ]
  },
  {
   "cell_type": "code",
   "execution_count": 60,
   "metadata": {},
   "outputs": [
    {
     "data": {
      "text/plain": [
       "{0: 1668, 1: 432}"
      ]
     },
     "execution_count": 60,
     "metadata": {},
     "output_type": "execute_result"
    },
    {
     "data": {
      "application/javascript": [
       "\n",
       "            setTimeout(function() {\n",
       "                var nbb_cell_id = 60;\n",
       "                var nbb_unformatted_code = \"unique, counts = np.unique(y_pred, return_counts=True)\\ndict(zip(unique, counts))\";\n",
       "                var nbb_formatted_code = \"unique, counts = np.unique(y_pred, return_counts=True)\\ndict(zip(unique, counts))\";\n",
       "                var nbb_cells = Jupyter.notebook.get_cells();\n",
       "                for (var i = 0; i < nbb_cells.length; ++i) {\n",
       "                    if (nbb_cells[i].input_prompt_number == nbb_cell_id) {\n",
       "                        if (nbb_cells[i].get_text() == nbb_unformatted_code) {\n",
       "                             nbb_cells[i].set_text(nbb_formatted_code);\n",
       "                        }\n",
       "                        break;\n",
       "                    }\n",
       "                }\n",
       "            }, 500);\n",
       "            "
      ],
      "text/plain": [
       "<IPython.core.display.Javascript object>"
      ]
     },
     "metadata": {},
     "output_type": "display_data"
    }
   ],
   "source": [
    "unique, counts = np.unique(y_pred, return_counts=True)\n",
    "dict(zip(unique, counts))"
   ]
  },
  {
   "cell_type": "markdown",
   "metadata": {},
   "source": [
    "### SVM"
   ]
  },
  {
   "cell_type": "code",
   "execution_count": 61,
   "metadata": {},
   "outputs": [
    {
     "ename": "AttributeError",
     "evalue": "'SVC' object has no attribute 'SVC'",
     "output_type": "error",
     "traceback": [
      "\u001b[1;31m---------------------------------------------------------------------------\u001b[0m",
      "\u001b[1;31mAttributeError\u001b[0m                            Traceback (most recent call last)",
      "\u001b[1;32m<ipython-input-61-6ea1babd5850>\u001b[0m in \u001b[0;36m<module>\u001b[1;34m\u001b[0m\n\u001b[1;32m----> 1\u001b[1;33m \u001b[0msvm\u001b[0m \u001b[1;33m=\u001b[0m \u001b[0msvm\u001b[0m\u001b[1;33m.\u001b[0m\u001b[0mSVC\u001b[0m\u001b[1;33m(\u001b[0m\u001b[1;33m)\u001b[0m\u001b[1;33m\u001b[0m\u001b[1;33m\u001b[0m\u001b[0m\n\u001b[0m\u001b[0;32m      2\u001b[0m \u001b[0msvm\u001b[0m\u001b[1;33m.\u001b[0m\u001b[0mfit\u001b[0m\u001b[1;33m(\u001b[0m\u001b[0mos_data_X_2\u001b[0m\u001b[1;33m,\u001b[0m \u001b[0mos_data_y\u001b[0m\u001b[1;33m.\u001b[0m\u001b[0mvalues\u001b[0m\u001b[1;33m.\u001b[0m\u001b[0mravel\u001b[0m\u001b[1;33m(\u001b[0m\u001b[1;33m)\u001b[0m\u001b[1;33m)\u001b[0m\u001b[1;33m\u001b[0m\u001b[1;33m\u001b[0m\u001b[0m\n\u001b[0;32m      3\u001b[0m \u001b[0my_pred\u001b[0m \u001b[1;33m=\u001b[0m \u001b[0msvm\u001b[0m\u001b[1;33m.\u001b[0m\u001b[0mpredict\u001b[0m\u001b[1;33m(\u001b[0m\u001b[0mX_test_2\u001b[0m\u001b[1;33m)\u001b[0m\u001b[1;33m\u001b[0m\u001b[1;33m\u001b[0m\u001b[0m\n\u001b[0;32m      4\u001b[0m \u001b[0mprint\u001b[0m\u001b[1;33m(\u001b[0m\u001b[1;34m\"Accuracy score SVM:\"\u001b[0m\u001b[1;33m,\u001b[0m \u001b[0msvm\u001b[0m\u001b[1;33m.\u001b[0m\u001b[0mscore\u001b[0m\u001b[1;33m(\u001b[0m\u001b[0mX_test_2\u001b[0m\u001b[1;33m,\u001b[0m \u001b[0my_test\u001b[0m\u001b[1;33m)\u001b[0m\u001b[1;33m)\u001b[0m\u001b[1;33m\u001b[0m\u001b[1;33m\u001b[0m\u001b[0m\n\u001b[0;32m      5\u001b[0m \u001b[0mprint\u001b[0m\u001b[1;33m(\u001b[0m\u001b[1;34m\"F1 score SVM:\"\u001b[0m\u001b[1;33m,\u001b[0m \u001b[0mf1_score\u001b[0m\u001b[1;33m(\u001b[0m\u001b[0my_pred\u001b[0m\u001b[1;33m,\u001b[0m \u001b[0my_test\u001b[0m\u001b[1;33m,\u001b[0m \u001b[0maverage\u001b[0m\u001b[1;33m=\u001b[0m\u001b[1;34m\"weighted\"\u001b[0m\u001b[1;33m)\u001b[0m\u001b[1;33m)\u001b[0m\u001b[1;33m\u001b[0m\u001b[1;33m\u001b[0m\u001b[0m\n",
      "\u001b[1;31mAttributeError\u001b[0m: 'SVC' object has no attribute 'SVC'"
     ]
    },
    {
     "data": {
      "application/javascript": [
       "\n",
       "            setTimeout(function() {\n",
       "                var nbb_cell_id = 61;\n",
       "                var nbb_unformatted_code = \"svm = svm.SVC()\\nsvm.fit(os_data_X_2, os_data_y.values.ravel())\\ny_pred = svm.predict(X_test_2)\\nprint(\\\"Accuracy score SVM:\\\", svm.score(X_test_2, y_test))\\nprint(\\\"F1 score SVM:\\\", f1_score(y_pred, y_test, average=\\\"weighted\\\"))\";\n",
       "                var nbb_formatted_code = \"svm = svm.SVC()\\nsvm.fit(os_data_X_2, os_data_y.values.ravel())\\ny_pred = svm.predict(X_test_2)\\nprint(\\\"Accuracy score SVM:\\\", svm.score(X_test_2, y_test))\\nprint(\\\"F1 score SVM:\\\", f1_score(y_pred, y_test, average=\\\"weighted\\\"))\";\n",
       "                var nbb_cells = Jupyter.notebook.get_cells();\n",
       "                for (var i = 0; i < nbb_cells.length; ++i) {\n",
       "                    if (nbb_cells[i].input_prompt_number == nbb_cell_id) {\n",
       "                        if (nbb_cells[i].get_text() == nbb_unformatted_code) {\n",
       "                             nbb_cells[i].set_text(nbb_formatted_code);\n",
       "                        }\n",
       "                        break;\n",
       "                    }\n",
       "                }\n",
       "            }, 500);\n",
       "            "
      ],
      "text/plain": [
       "<IPython.core.display.Javascript object>"
      ]
     },
     "metadata": {},
     "output_type": "display_data"
    }
   ],
   "source": [
    "svm = svm.SVC()\n",
    "svm.fit(os_data_X_2, os_data_y.values.ravel())\n",
    "y_pred = svm.predict(X_test_2)\n",
    "print(\"Accuracy score SVM:\", svm.score(X_test_2, y_test))\n",
    "print(\"F1 score SVM:\", f1_score(y_pred, y_test, average=\"weighted\"))"
   ]
  },
  {
   "cell_type": "markdown",
   "metadata": {},
   "source": [
    "### K-Means"
   ]
  },
  {
   "cell_type": "code",
   "execution_count": 62,
   "metadata": {},
   "outputs": [
    {
     "data": {
      "application/javascript": [
       "\n",
       "            setTimeout(function() {\n",
       "                var nbb_cell_id = 62;\n",
       "                var nbb_unformatted_code = \"km = KMeans(n_clusters=2)\\nkm.fit(os_data_X_2, os_data_y.values.ravel())\\ny_pred = km.predict(X_test_2)\";\n",
       "                var nbb_formatted_code = \"km = KMeans(n_clusters=2)\\nkm.fit(os_data_X_2, os_data_y.values.ravel())\\ny_pred = km.predict(X_test_2)\";\n",
       "                var nbb_cells = Jupyter.notebook.get_cells();\n",
       "                for (var i = 0; i < nbb_cells.length; ++i) {\n",
       "                    if (nbb_cells[i].input_prompt_number == nbb_cell_id) {\n",
       "                        if (nbb_cells[i].get_text() == nbb_unformatted_code) {\n",
       "                             nbb_cells[i].set_text(nbb_formatted_code);\n",
       "                        }\n",
       "                        break;\n",
       "                    }\n",
       "                }\n",
       "            }, 500);\n",
       "            "
      ],
      "text/plain": [
       "<IPython.core.display.Javascript object>"
      ]
     },
     "metadata": {},
     "output_type": "display_data"
    }
   ],
   "source": [
    "km = KMeans(n_clusters=2)\n",
    "km.fit(os_data_X_2, os_data_y.values.ravel())\n",
    "y_pred = km.predict(X_test_2)"
   ]
  },
  {
   "cell_type": "markdown",
   "metadata": {},
   "source": [
    "### Hierarchical clustering"
   ]
  },
  {
   "cell_type": "code",
   "execution_count": 63,
   "metadata": {},
   "outputs": [
    {
     "data": {
      "application/javascript": [
       "\n",
       "            setTimeout(function() {\n",
       "                var nbb_cell_id = 63;\n",
       "                var nbb_unformatted_code = \"hc = AgglomerativeClustering(n_clusters=2, affinity=\\\"euclidean\\\", linkage=\\\"ward\\\")\\nhc.fit_predict(os_data_X_2, os_data_y.values.ravel())\\ny_pred = km.predict(X_test_2)\";\n",
       "                var nbb_formatted_code = \"hc = AgglomerativeClustering(n_clusters=2, affinity=\\\"euclidean\\\", linkage=\\\"ward\\\")\\nhc.fit_predict(os_data_X_2, os_data_y.values.ravel())\\ny_pred = km.predict(X_test_2)\";\n",
       "                var nbb_cells = Jupyter.notebook.get_cells();\n",
       "                for (var i = 0; i < nbb_cells.length; ++i) {\n",
       "                    if (nbb_cells[i].input_prompt_number == nbb_cell_id) {\n",
       "                        if (nbb_cells[i].get_text() == nbb_unformatted_code) {\n",
       "                             nbb_cells[i].set_text(nbb_formatted_code);\n",
       "                        }\n",
       "                        break;\n",
       "                    }\n",
       "                }\n",
       "            }, 500);\n",
       "            "
      ],
      "text/plain": [
       "<IPython.core.display.Javascript object>"
      ]
     },
     "metadata": {},
     "output_type": "display_data"
    }
   ],
   "source": [
    "hc = AgglomerativeClustering(n_clusters=2, affinity=\"euclidean\", linkage=\"ward\")\n",
    "hc.fit_predict(os_data_X_2, os_data_y.values.ravel())\n",
    "y_pred = km.predict(X_test_2)"
   ]
  },
  {
   "cell_type": "markdown",
   "metadata": {},
   "source": [
    "### Light GBM Ranker"
   ]
  },
  {
   "cell_type": "code",
   "execution_count": 64,
   "metadata": {},
   "outputs": [
    {
     "data": {
      "application/javascript": [
       "\n",
       "            setTimeout(function() {\n",
       "                var nbb_cell_id = 64;\n",
       "                var nbb_unformatted_code = \"X_train_GBM, X_val, y_train_GBM, y_val = train_test_split(\\n    os_data_X_2, os_data_y, test_size=0.2, random_state=1\\n)\";\n",
       "                var nbb_formatted_code = \"X_train_GBM, X_val, y_train_GBM, y_val = train_test_split(\\n    os_data_X_2, os_data_y, test_size=0.2, random_state=1\\n)\";\n",
       "                var nbb_cells = Jupyter.notebook.get_cells();\n",
       "                for (var i = 0; i < nbb_cells.length; ++i) {\n",
       "                    if (nbb_cells[i].input_prompt_number == nbb_cell_id) {\n",
       "                        if (nbb_cells[i].get_text() == nbb_unformatted_code) {\n",
       "                             nbb_cells[i].set_text(nbb_formatted_code);\n",
       "                        }\n",
       "                        break;\n",
       "                    }\n",
       "                }\n",
       "            }, 500);\n",
       "            "
      ],
      "text/plain": [
       "<IPython.core.display.Javascript object>"
      ]
     },
     "metadata": {},
     "output_type": "display_data"
    }
   ],
   "source": [
    "X_train_GBM, X_val, y_train_GBM, y_val = train_test_split(\n",
    "    os_data_X_2, os_data_y, test_size=0.2, random_state=1\n",
    ")"
   ]
  },
  {
   "cell_type": "code",
   "execution_count": 65,
   "metadata": {},
   "outputs": [
    {
     "name": "stdout",
     "output_type": "stream",
     "text": [
      "[1]\tvalid_0's ndcg@5: 0.853932\tvalid_0's ndcg@10: 0.905212\tvalid_0's ndcg@20: 0.866867\n",
      "Training until validation scores don't improve for 50 rounds\n",
      "[2]\tvalid_0's ndcg@5: 1\tvalid_0's ndcg@10: 0.930569\tvalid_0's ndcg@20: 0.889416\n",
      "[3]\tvalid_0's ndcg@5: 1\tvalid_0's ndcg@10: 1\tvalid_0's ndcg@20: 0.927514\n",
      "[4]\tvalid_0's ndcg@5: 1\tvalid_0's ndcg@10: 1\tvalid_0's ndcg@20: 0.928178\n",
      "[5]\tvalid_0's ndcg@5: 1\tvalid_0's ndcg@10: 1\tvalid_0's ndcg@20: 0.965937\n",
      "[6]\tvalid_0's ndcg@5: 1\tvalid_0's ndcg@10: 1\tvalid_0's ndcg@20: 0.965937\n",
      "[7]\tvalid_0's ndcg@5: 1\tvalid_0's ndcg@10: 1\tvalid_0's ndcg@20: 0.965937\n",
      "[8]\tvalid_0's ndcg@5: 1\tvalid_0's ndcg@10: 1\tvalid_0's ndcg@20: 0.965937\n",
      "[9]\tvalid_0's ndcg@5: 1\tvalid_0's ndcg@10: 1\tvalid_0's ndcg@20: 0.96449\n",
      "[10]\tvalid_0's ndcg@5: 1\tvalid_0's ndcg@10: 1\tvalid_0's ndcg@20: 0.96449\n",
      "[11]\tvalid_0's ndcg@5: 1\tvalid_0's ndcg@10: 1\tvalid_0's ndcg@20: 0.96449\n",
      "[12]\tvalid_0's ndcg@5: 1\tvalid_0's ndcg@10: 1\tvalid_0's ndcg@20: 0.963644\n",
      "[13]\tvalid_0's ndcg@5: 1\tvalid_0's ndcg@10: 1\tvalid_0's ndcg@20: 0.963644\n",
      "[14]\tvalid_0's ndcg@5: 1\tvalid_0's ndcg@10: 1\tvalid_0's ndcg@20: 0.963644\n",
      "[15]\tvalid_0's ndcg@5: 1\tvalid_0's ndcg@10: 1\tvalid_0's ndcg@20: 0.963644\n",
      "[16]\tvalid_0's ndcg@5: 1\tvalid_0's ndcg@10: 1\tvalid_0's ndcg@20: 0.961615\n",
      "[17]\tvalid_0's ndcg@5: 1\tvalid_0's ndcg@10: 1\tvalid_0's ndcg@20: 0.961615\n",
      "[18]\tvalid_0's ndcg@5: 1\tvalid_0's ndcg@10: 1\tvalid_0's ndcg@20: 0.961615\n",
      "[19]\tvalid_0's ndcg@5: 1\tvalid_0's ndcg@10: 1\tvalid_0's ndcg@20: 0.961615\n",
      "[20]\tvalid_0's ndcg@5: 1\tvalid_0's ndcg@10: 1\tvalid_0's ndcg@20: 0.961615\n",
      "[21]\tvalid_0's ndcg@5: 1\tvalid_0's ndcg@10: 1\tvalid_0's ndcg@20: 0.961615\n",
      "[22]\tvalid_0's ndcg@5: 1\tvalid_0's ndcg@10: 1\tvalid_0's ndcg@20: 0.961615\n",
      "[23]\tvalid_0's ndcg@5: 1\tvalid_0's ndcg@10: 1\tvalid_0's ndcg@20: 0.961615\n",
      "[24]\tvalid_0's ndcg@5: 1\tvalid_0's ndcg@10: 1\tvalid_0's ndcg@20: 0.961615\n",
      "[25]\tvalid_0's ndcg@5: 1\tvalid_0's ndcg@10: 1\tvalid_0's ndcg@20: 0.961615\n",
      "[26]\tvalid_0's ndcg@5: 1\tvalid_0's ndcg@10: 1\tvalid_0's ndcg@20: 0.961615\n",
      "[27]\tvalid_0's ndcg@5: 1\tvalid_0's ndcg@10: 1\tvalid_0's ndcg@20: 0.961615\n",
      "[28]\tvalid_0's ndcg@5: 1\tvalid_0's ndcg@10: 1\tvalid_0's ndcg@20: 0.961615\n",
      "[29]\tvalid_0's ndcg@5: 1\tvalid_0's ndcg@10: 1\tvalid_0's ndcg@20: 0.961615\n",
      "[30]\tvalid_0's ndcg@5: 1\tvalid_0's ndcg@10: 1\tvalid_0's ndcg@20: 0.961615\n",
      "[31]\tvalid_0's ndcg@5: 1\tvalid_0's ndcg@10: 1\tvalid_0's ndcg@20: 0.961615\n",
      "[32]\tvalid_0's ndcg@5: 1\tvalid_0's ndcg@10: 1\tvalid_0's ndcg@20: 0.961615\n",
      "[33]\tvalid_0's ndcg@5: 1\tvalid_0's ndcg@10: 1\tvalid_0's ndcg@20: 0.961615\n",
      "[34]\tvalid_0's ndcg@5: 1\tvalid_0's ndcg@10: 1\tvalid_0's ndcg@20: 0.961615\n",
      "[35]\tvalid_0's ndcg@5: 1\tvalid_0's ndcg@10: 1\tvalid_0's ndcg@20: 0.961615\n",
      "[36]\tvalid_0's ndcg@5: 1\tvalid_0's ndcg@10: 1\tvalid_0's ndcg@20: 0.961615\n",
      "[37]\tvalid_0's ndcg@5: 1\tvalid_0's ndcg@10: 1\tvalid_0's ndcg@20: 0.961615\n",
      "[38]\tvalid_0's ndcg@5: 1\tvalid_0's ndcg@10: 1\tvalid_0's ndcg@20: 0.961615\n",
      "[39]\tvalid_0's ndcg@5: 1\tvalid_0's ndcg@10: 1\tvalid_0's ndcg@20: 0.961615\n",
      "[40]\tvalid_0's ndcg@5: 1\tvalid_0's ndcg@10: 1\tvalid_0's ndcg@20: 0.961615\n",
      "[41]\tvalid_0's ndcg@5: 1\tvalid_0's ndcg@10: 1\tvalid_0's ndcg@20: 0.961615\n",
      "[42]\tvalid_0's ndcg@5: 1\tvalid_0's ndcg@10: 1\tvalid_0's ndcg@20: 0.961615\n",
      "[43]\tvalid_0's ndcg@5: 1\tvalid_0's ndcg@10: 1\tvalid_0's ndcg@20: 0.961615\n",
      "[44]\tvalid_0's ndcg@5: 1\tvalid_0's ndcg@10: 1\tvalid_0's ndcg@20: 0.961615\n",
      "[45]\tvalid_0's ndcg@5: 1\tvalid_0's ndcg@10: 1\tvalid_0's ndcg@20: 0.961615\n",
      "[46]\tvalid_0's ndcg@5: 1\tvalid_0's ndcg@10: 1\tvalid_0's ndcg@20: 0.961615\n",
      "[47]\tvalid_0's ndcg@5: 1\tvalid_0's ndcg@10: 1\tvalid_0's ndcg@20: 0.961615\n",
      "[48]\tvalid_0's ndcg@5: 1\tvalid_0's ndcg@10: 1\tvalid_0's ndcg@20: 0.961615\n",
      "[49]\tvalid_0's ndcg@5: 1\tvalid_0's ndcg@10: 1\tvalid_0's ndcg@20: 0.961615\n",
      "[50]\tvalid_0's ndcg@5: 1\tvalid_0's ndcg@10: 1\tvalid_0's ndcg@20: 0.961615\n",
      "[51]\tvalid_0's ndcg@5: 1\tvalid_0's ndcg@10: 1\tvalid_0's ndcg@20: 0.961615\n",
      "[52]\tvalid_0's ndcg@5: 1\tvalid_0's ndcg@10: 1\tvalid_0's ndcg@20: 0.961615\n",
      "Early stopping, best iteration is:\n",
      "[2]\tvalid_0's ndcg@5: 1\tvalid_0's ndcg@10: 0.930569\tvalid_0's ndcg@20: 0.889416\n"
     ]
    },
    {
     "data": {
      "application/javascript": [
       "\n",
       "            setTimeout(function() {\n",
       "                var nbb_cell_id = 65;\n",
       "                var nbb_unformatted_code = \"gbm = lgb.LGBMRanker()\\n\\nquery_train = [X_train_GBM.shape[0]]\\nquery_val = [X_val.shape[0]]\\nquery_test = [X_test_2.shape[0]]\\n\\ngbm.fit(\\n    X_train_GBM,\\n    y_train_GBM,\\n    group=query_train,\\n    eval_set=[(X_val, y_val)],\\n    eval_group=[query_val],\\n    eval_at=[5, 10, 20],\\n    early_stopping_rounds=50,\\n)\\n\\ny_pred = gbm.predict(X_test_2)\";\n",
       "                var nbb_formatted_code = \"gbm = lgb.LGBMRanker()\\n\\nquery_train = [X_train_GBM.shape[0]]\\nquery_val = [X_val.shape[0]]\\nquery_test = [X_test_2.shape[0]]\\n\\ngbm.fit(\\n    X_train_GBM,\\n    y_train_GBM,\\n    group=query_train,\\n    eval_set=[(X_val, y_val)],\\n    eval_group=[query_val],\\n    eval_at=[5, 10, 20],\\n    early_stopping_rounds=50,\\n)\\n\\ny_pred = gbm.predict(X_test_2)\";\n",
       "                var nbb_cells = Jupyter.notebook.get_cells();\n",
       "                for (var i = 0; i < nbb_cells.length; ++i) {\n",
       "                    if (nbb_cells[i].input_prompt_number == nbb_cell_id) {\n",
       "                        if (nbb_cells[i].get_text() == nbb_unformatted_code) {\n",
       "                             nbb_cells[i].set_text(nbb_formatted_code);\n",
       "                        }\n",
       "                        break;\n",
       "                    }\n",
       "                }\n",
       "            }, 500);\n",
       "            "
      ],
      "text/plain": [
       "<IPython.core.display.Javascript object>"
      ]
     },
     "metadata": {},
     "output_type": "display_data"
    }
   ],
   "source": [
    "gbm = lgb.LGBMRanker()\n",
    "\n",
    "query_train = [X_train_GBM.shape[0]]\n",
    "query_val = [X_val.shape[0]]\n",
    "query_test = [X_test_2.shape[0]]\n",
    "\n",
    "gbm.fit(\n",
    "    X_train_GBM,\n",
    "    y_train_GBM,\n",
    "    group=query_train,\n",
    "    eval_set=[(X_val, y_val)],\n",
    "    eval_group=[query_val],\n",
    "    eval_at=[5, 10, 20],\n",
    "    early_stopping_rounds=50,\n",
    ")\n",
    "\n",
    "y_pred = gbm.predict(X_test_2)"
   ]
  },
  {
   "cell_type": "code",
   "execution_count": 66,
   "metadata": {},
   "outputs": [
    {
     "data": {
      "text/html": [
       "<div>\n",
       "<style scoped>\n",
       "    .dataframe tbody tr th:only-of-type {\n",
       "        vertical-align: middle;\n",
       "    }\n",
       "\n",
       "    .dataframe tbody tr th {\n",
       "        vertical-align: top;\n",
       "    }\n",
       "\n",
       "    .dataframe thead th {\n",
       "        text-align: right;\n",
       "    }\n",
       "</style>\n",
       "<table border=\"1\" class=\"dataframe\">\n",
       "  <thead>\n",
       "    <tr style=\"text-align: right;\">\n",
       "      <th></th>\n",
       "      <th>known_col_0</th>\n",
       "      <th>known_col_1</th>\n",
       "      <th>known_col_2</th>\n",
       "      <th>known_col_3</th>\n",
       "      <th>known_col_4</th>\n",
       "      <th>known_col_5</th>\n",
       "      <th>known_col_6</th>\n",
       "      <th>known_col_7</th>\n",
       "      <th>known_col_8</th>\n",
       "      <th>prediction_beforeRI</th>\n",
       "    </tr>\n",
       "  </thead>\n",
       "  <tbody>\n",
       "    <tr>\n",
       "      <th>9648</th>\n",
       "      <td>-1.376924</td>\n",
       "      <td>2.638756</td>\n",
       "      <td>-1.816332</td>\n",
       "      <td>-2.550811</td>\n",
       "      <td>-0.645050</td>\n",
       "      <td>0.894726</td>\n",
       "      <td>0.471508</td>\n",
       "      <td>1.973001</td>\n",
       "      <td>-1.501380</td>\n",
       "      <td>0.991097</td>\n",
       "    </tr>\n",
       "    <tr>\n",
       "      <th>1595</th>\n",
       "      <td>-1.923012</td>\n",
       "      <td>2.688573</td>\n",
       "      <td>0.016730</td>\n",
       "      <td>-0.950701</td>\n",
       "      <td>0.332375</td>\n",
       "      <td>0.960318</td>\n",
       "      <td>0.624541</td>\n",
       "      <td>-1.106497</td>\n",
       "      <td>1.160781</td>\n",
       "      <td>0.984219</td>\n",
       "    </tr>\n",
       "    <tr>\n",
       "      <th>8192</th>\n",
       "      <td>-0.573999</td>\n",
       "      <td>3.189136</td>\n",
       "      <td>-1.079263</td>\n",
       "      <td>-0.923375</td>\n",
       "      <td>-1.638883</td>\n",
       "      <td>-1.994466</td>\n",
       "      <td>-0.288762</td>\n",
       "      <td>0.471544</td>\n",
       "      <td>0.879242</td>\n",
       "      <td>0.982892</td>\n",
       "    </tr>\n",
       "    <tr>\n",
       "      <th>7028</th>\n",
       "      <td>-0.683603</td>\n",
       "      <td>2.430056</td>\n",
       "      <td>0.184375</td>\n",
       "      <td>-1.087961</td>\n",
       "      <td>0.631205</td>\n",
       "      <td>1.033674</td>\n",
       "      <td>1.233967</td>\n",
       "      <td>0.387847</td>\n",
       "      <td>0.019349</td>\n",
       "      <td>0.968569</td>\n",
       "    </tr>\n",
       "    <tr>\n",
       "      <th>2462</th>\n",
       "      <td>-1.537024</td>\n",
       "      <td>2.180000</td>\n",
       "      <td>-1.209865</td>\n",
       "      <td>-1.637061</td>\n",
       "      <td>-0.440436</td>\n",
       "      <td>0.355379</td>\n",
       "      <td>-2.410618</td>\n",
       "      <td>-2.509511</td>\n",
       "      <td>1.038530</td>\n",
       "      <td>0.963888</td>\n",
       "    </tr>\n",
       "    <tr>\n",
       "      <th>...</th>\n",
       "      <td>...</td>\n",
       "      <td>...</td>\n",
       "      <td>...</td>\n",
       "      <td>...</td>\n",
       "      <td>...</td>\n",
       "      <td>...</td>\n",
       "      <td>...</td>\n",
       "      <td>...</td>\n",
       "      <td>...</td>\n",
       "      <td>...</td>\n",
       "    </tr>\n",
       "    <tr>\n",
       "      <th>7773</th>\n",
       "      <td>0.289924</td>\n",
       "      <td>-3.031079</td>\n",
       "      <td>-0.880715</td>\n",
       "      <td>0.382012</td>\n",
       "      <td>-0.497031</td>\n",
       "      <td>0.621470</td>\n",
       "      <td>-0.886408</td>\n",
       "      <td>-0.728891</td>\n",
       "      <td>1.450808</td>\n",
       "      <td>0.000421</td>\n",
       "    </tr>\n",
       "    <tr>\n",
       "      <th>9431</th>\n",
       "      <td>1.650316</td>\n",
       "      <td>-2.459913</td>\n",
       "      <td>-0.183394</td>\n",
       "      <td>1.090615</td>\n",
       "      <td>-1.389713</td>\n",
       "      <td>1.495926</td>\n",
       "      <td>0.038896</td>\n",
       "      <td>0.171455</td>\n",
       "      <td>-1.272024</td>\n",
       "      <td>0.000348</td>\n",
       "    </tr>\n",
       "    <tr>\n",
       "      <th>8295</th>\n",
       "      <td>-1.582314</td>\n",
       "      <td>-3.711331</td>\n",
       "      <td>-1.710281</td>\n",
       "      <td>0.076296</td>\n",
       "      <td>0.311418</td>\n",
       "      <td>0.022028</td>\n",
       "      <td>-1.044499</td>\n",
       "      <td>0.453558</td>\n",
       "      <td>-1.014012</td>\n",
       "      <td>0.000301</td>\n",
       "    </tr>\n",
       "    <tr>\n",
       "      <th>4980</th>\n",
       "      <td>-0.596218</td>\n",
       "      <td>-3.539279</td>\n",
       "      <td>-0.531326</td>\n",
       "      <td>1.554941</td>\n",
       "      <td>-0.030173</td>\n",
       "      <td>-0.597219</td>\n",
       "      <td>0.070082</td>\n",
       "      <td>0.088768</td>\n",
       "      <td>-1.333998</td>\n",
       "      <td>0.000096</td>\n",
       "    </tr>\n",
       "    <tr>\n",
       "      <th>8646</th>\n",
       "      <td>0.132181</td>\n",
       "      <td>-4.173611</td>\n",
       "      <td>1.708955</td>\n",
       "      <td>0.602859</td>\n",
       "      <td>-1.264752</td>\n",
       "      <td>1.583702</td>\n",
       "      <td>-0.564551</td>\n",
       "      <td>-0.001656</td>\n",
       "      <td>-1.931639</td>\n",
       "      <td>0.000024</td>\n",
       "    </tr>\n",
       "  </tbody>\n",
       "</table>\n",
       "<p>2100 rows × 10 columns</p>\n",
       "</div>"
      ],
      "text/plain": [
       "      known_col_0  known_col_1  known_col_2  known_col_3  known_col_4  \\\n",
       "9648    -1.376924     2.638756    -1.816332    -2.550811    -0.645050   \n",
       "1595    -1.923012     2.688573     0.016730    -0.950701     0.332375   \n",
       "8192    -0.573999     3.189136    -1.079263    -0.923375    -1.638883   \n",
       "7028    -0.683603     2.430056     0.184375    -1.087961     0.631205   \n",
       "2462    -1.537024     2.180000    -1.209865    -1.637061    -0.440436   \n",
       "...           ...          ...          ...          ...          ...   \n",
       "7773     0.289924    -3.031079    -0.880715     0.382012    -0.497031   \n",
       "9431     1.650316    -2.459913    -0.183394     1.090615    -1.389713   \n",
       "8295    -1.582314    -3.711331    -1.710281     0.076296     0.311418   \n",
       "4980    -0.596218    -3.539279    -0.531326     1.554941    -0.030173   \n",
       "8646     0.132181    -4.173611     1.708955     0.602859    -1.264752   \n",
       "\n",
       "      known_col_5  known_col_6  known_col_7  known_col_8  prediction_beforeRI  \n",
       "9648     0.894726     0.471508     1.973001    -1.501380             0.991097  \n",
       "1595     0.960318     0.624541    -1.106497     1.160781             0.984219  \n",
       "8192    -1.994466    -0.288762     0.471544     0.879242             0.982892  \n",
       "7028     1.033674     1.233967     0.387847     0.019349             0.968569  \n",
       "2462     0.355379    -2.410618    -2.509511     1.038530             0.963888  \n",
       "...           ...          ...          ...          ...                  ...  \n",
       "7773     0.621470    -0.886408    -0.728891     1.450808             0.000421  \n",
       "9431     1.495926     0.038896     0.171455    -1.272024             0.000348  \n",
       "8295     0.022028    -1.044499     0.453558    -1.014012             0.000301  \n",
       "4980    -0.597219     0.070082     0.088768    -1.333998             0.000096  \n",
       "8646     1.583702    -0.564551    -0.001656    -1.931639             0.000024  \n",
       "\n",
       "[2100 rows x 10 columns]"
      ]
     },
     "execution_count": 66,
     "metadata": {},
     "output_type": "execute_result"
    },
    {
     "data": {
      "application/javascript": [
       "\n",
       "            setTimeout(function() {\n",
       "                var nbb_cell_id = 66;\n",
       "                var nbb_unformatted_code = \"X_test_2[\\\"prediction_beforeRI\\\"] = test_pred\\nX_test_2.sort_values(\\\"prediction_beforeRI\\\", ascending=False)\";\n",
       "                var nbb_formatted_code = \"X_test_2[\\\"prediction_beforeRI\\\"] = test_pred\\nX_test_2.sort_values(\\\"prediction_beforeRI\\\", ascending=False)\";\n",
       "                var nbb_cells = Jupyter.notebook.get_cells();\n",
       "                for (var i = 0; i < nbb_cells.length; ++i) {\n",
       "                    if (nbb_cells[i].input_prompt_number == nbb_cell_id) {\n",
       "                        if (nbb_cells[i].get_text() == nbb_unformatted_code) {\n",
       "                             nbb_cells[i].set_text(nbb_formatted_code);\n",
       "                        }\n",
       "                        break;\n",
       "                    }\n",
       "                }\n",
       "            }, 500);\n",
       "            "
      ],
      "text/plain": [
       "<IPython.core.display.Javascript object>"
      ]
     },
     "metadata": {},
     "output_type": "display_data"
    }
   ],
   "source": [
    "X_test_2[\"prediction_beforeRI\"] = test_pred\n",
    "X_test_2.sort_values(\"prediction_beforeRI\", ascending=False)"
   ]
  },
  {
   "cell_type": "code",
   "execution_count": 32,
   "metadata": {},
   "outputs": [
    {
     "data": {
      "text/plain": [
       "(array([1018.,  357.,  195.,  146.,  108.,   81.,   64.,   61.,   35.,\n",
       "          35.]),\n",
       " array([2.42464426e-05, 9.91314921e-02, 1.98238738e-01, 2.97345983e-01,\n",
       "        3.96453229e-01, 4.95560475e-01, 5.94667720e-01, 6.93774966e-01,\n",
       "        7.92882212e-01, 8.91989457e-01, 9.91096703e-01]),\n",
       " <a list of 10 Patch objects>)"
      ]
     },
     "execution_count": 32,
     "metadata": {},
     "output_type": "execute_result"
    },
    {
     "data": {
      "image/png": "[encoded data removed]",
      "text/plain": [
       "<Figure size 432x288 with 1 Axes>"
      ]
     },
     "metadata": {
      "needs_background": "light"
     },
     "output_type": "display_data"
    },
    {
     "data": {
      "application/javascript": [
       "\n",
       "            setTimeout(function() {\n",
       "                var nbb_cell_id = 32;\n",
       "                var nbb_unformatted_code = \"plt.hist(X_test_2[\\\"prediction_beforeRI\\\"], bins=10)\";\n",
       "                var nbb_formatted_code = \"plt.hist(X_test_2[\\\"prediction_beforeRI\\\"], bins=10)\";\n",
       "                var nbb_cells = Jupyter.notebook.get_cells();\n",
       "                for (var i = 0; i < nbb_cells.length; ++i) {\n",
       "                    if (nbb_cells[i].input_prompt_number == nbb_cell_id) {\n",
       "                        if (nbb_cells[i].get_text() == nbb_unformatted_code) {\n",
       "                             nbb_cells[i].set_text(nbb_formatted_code);\n",
       "                        }\n",
       "                        break;\n",
       "                    }\n",
       "                }\n",
       "            }, 500);\n",
       "            "
      ],
      "text/plain": [
       "<IPython.core.display.Javascript object>"
      ]
     },
     "metadata": {},
     "output_type": "display_data"
    }
   ],
   "source": [
    "plt.hist(X_test_2[\"prediction_beforeRI\"], bins=10)"
   ]
  },
  {
   "cell_type": "code",
   "execution_count": 33,
   "metadata": {},
   "outputs": [
    {
     "ename": "NameError",
     "evalue": "name 'df' is not defined",
     "output_type": "error",
     "traceback": [
      "\u001b[1;31m---------------------------------------------------------------------------\u001b[0m",
      "\u001b[1;31mNameError\u001b[0m                                 Traceback (most recent call last)",
      "\u001b[1;32m<ipython-input-33-5990483b3a0b>\u001b[0m in \u001b[0;36m<module>\u001b[1;34m\u001b[0m\n\u001b[1;32m----> 1\u001b[1;33m \u001b[0mdf\u001b[0m \u001b[1;33m=\u001b[0m \u001b[0mdf\u001b[0m\u001b[1;33m[\u001b[0m\u001b[1;33m[\u001b[0m\u001b[1;34m\"target\"\u001b[0m\u001b[1;33m,\u001b[0m \u001b[1;34m\"loan_amnt\"\u001b[0m\u001b[1;33m,\u001b[0m \u001b[1;34m\"DTI\"\u001b[0m\u001b[1;33m]\u001b[0m\u001b[1;33m]\u001b[0m\u001b[1;33m\u001b[0m\u001b[1;33m\u001b[0m\u001b[0m\n\u001b[0m",
      "\u001b[1;31mNameError\u001b[0m: name 'df' is not defined"
     ]
    },
    {
     "data": {
      "application/javascript": [
       "\n",
       "            setTimeout(function() {\n",
       "                var nbb_cell_id = 33;\n",
       "                var nbb_unformatted_code = \"df = df[[\\\"target\\\", \\\"loan_amnt\\\", \\\"DTI\\\"]]\";\n",
       "                var nbb_formatted_code = \"df = df[[\\\"target\\\", \\\"loan_amnt\\\", \\\"DTI\\\"]]\";\n",
       "                var nbb_cells = Jupyter.notebook.get_cells();\n",
       "                for (var i = 0; i < nbb_cells.length; ++i) {\n",
       "                    if (nbb_cells[i].input_prompt_number == nbb_cell_id) {\n",
       "                        if (nbb_cells[i].get_text() == nbb_unformatted_code) {\n",
       "                             nbb_cells[i].set_text(nbb_formatted_code);\n",
       "                        }\n",
       "                        break;\n",
       "                    }\n",
       "                }\n",
       "            }, 500);\n",
       "            "
      ],
      "text/plain": [
       "<IPython.core.display.Javascript object>"
      ]
     },
     "metadata": {},
     "output_type": "display_data"
    }
   ],
   "source": [
    "df = df[[\"target\", \"loan_amnt\", \"DTI\"]]"
   ]
  },
  {
   "cell_type": "code",
   "execution_count": null,
   "metadata": {},
   "outputs": [],
   "source": [
    "ok = df[[\"target\", \"loan_amnt\", \"DTI\"]]"
   ]
  },
  {
   "cell_type": "markdown",
   "metadata": {},
   "source": [
    "## Apply the KGB Model to the Rejects"
   ]
  },
  {
   "cell_type": "code",
   "execution_count": null,
   "metadata": {},
   "outputs": [],
   "source": [
    "# Sampling\n",
    "# rejected_shuffled = rejected.sample(frac=1)\n",
    "# rejected_small = rejected_shuffled.sample(n=10000, random_state=7)\n",
    "# rejected_small.reset_index(drop=True, inplace=True)\n",
    "# rejected_small.to_csv(\"rejected_small\")"
   ]
  },
  {
   "cell_type": "code",
   "execution_count": 67,
   "metadata": {},
   "outputs": [
    {
     "data": {
      "application/javascript": [
       "\n",
       "            setTimeout(function() {\n",
       "                var nbb_cell_id = 67;\n",
       "                var nbb_unformatted_code = \"rejected_small = pd.read_csv(\\\"rejected_small\\\")\\nrejected_small.rename(columns={\\\"Amount Requested\\\": \\\"loan_amnt\\\"}, inplace=True)\\nrejected_small.rename(columns={\\\"Employment Length\\\": \\\"emp_length_new\\\"}, inplace=True)\\nrejected_small.rename(columns={\\\"State\\\": \\\"addr_state\\\"}, inplace=True)\\nrejected_small.rename(columns={\\\"Debt-To-Income Ratio\\\": \\\"DTI\\\"}, inplace=True)\\nrejected_small[\\\"DTI\\\"] = pd.to_numeric(rejected_small[\\\"DTI\\\"].str[:-1])\\ndfr = rejected_small[[\\\"loan_amnt\\\", \\\"addr_state\\\", \\\"emp_length_new\\\", \\\"DTI\\\"]]\";\n",
       "                var nbb_formatted_code = \"rejected_small = pd.read_csv(\\\"rejected_small\\\")\\nrejected_small.rename(columns={\\\"Amount Requested\\\": \\\"loan_amnt\\\"}, inplace=True)\\nrejected_small.rename(columns={\\\"Employment Length\\\": \\\"emp_length_new\\\"}, inplace=True)\\nrejected_small.rename(columns={\\\"State\\\": \\\"addr_state\\\"}, inplace=True)\\nrejected_small.rename(columns={\\\"Debt-To-Income Ratio\\\": \\\"DTI\\\"}, inplace=True)\\nrejected_small[\\\"DTI\\\"] = pd.to_numeric(rejected_small[\\\"DTI\\\"].str[:-1])\\ndfr = rejected_small[[\\\"loan_amnt\\\", \\\"addr_state\\\", \\\"emp_length_new\\\", \\\"DTI\\\"]]\";\n",
       "                var nbb_cells = Jupyter.notebook.get_cells();\n",
       "                for (var i = 0; i < nbb_cells.length; ++i) {\n",
       "                    if (nbb_cells[i].input_prompt_number == nbb_cell_id) {\n",
       "                        if (nbb_cells[i].get_text() == nbb_unformatted_code) {\n",
       "                             nbb_cells[i].set_text(nbb_formatted_code);\n",
       "                        }\n",
       "                        break;\n",
       "                    }\n",
       "                }\n",
       "            }, 500);\n",
       "            "
      ],
      "text/plain": [
       "<IPython.core.display.Javascript object>"
      ]
     },
     "metadata": {},
     "output_type": "display_data"
    }
   ],
   "source": [
    "rejected_small = pd.read_csv(\"rejected_small\")\n",
    "rejected_small.rename(columns={\"Amount Requested\": \"loan_amnt\"}, inplace=True)\n",
    "rejected_small.rename(columns={\"Employment Length\": \"emp_length_new\"}, inplace=True)\n",
    "rejected_small.rename(columns={\"State\": \"addr_state\"}, inplace=True)\n",
    "rejected_small.rename(columns={\"Debt-To-Income Ratio\": \"DTI\"}, inplace=True)\n",
    "rejected_small[\"DTI\"] = pd.to_numeric(rejected_small[\"DTI\"].str[:-1])\n",
    "dfr = rejected_small[[\"loan_amnt\", \"addr_state\", \"emp_length_new\", \"DTI\"]]"
   ]
  },
  {
   "cell_type": "code",
   "execution_count": 68,
   "metadata": {},
   "outputs": [
    {
     "data": {
      "application/javascript": [
       "\n",
       "            setTimeout(function() {\n",
       "                var nbb_cell_id = 68;\n",
       "                var nbb_unformatted_code = \"# Create unique id for the rejects (to facilitate merge later)\\ndfr[\\\"id\\\"] = dfr.index.to_series().map(lambda x: uuid.uuid4())\";\n",
       "                var nbb_formatted_code = \"# Create unique id for the rejects (to facilitate merge later)\\ndfr[\\\"id\\\"] = dfr.index.to_series().map(lambda x: uuid.uuid4())\";\n",
       "                var nbb_cells = Jupyter.notebook.get_cells();\n",
       "                for (var i = 0; i < nbb_cells.length; ++i) {\n",
       "                    if (nbb_cells[i].input_prompt_number == nbb_cell_id) {\n",
       "                        if (nbb_cells[i].get_text() == nbb_unformatted_code) {\n",
       "                             nbb_cells[i].set_text(nbb_formatted_code);\n",
       "                        }\n",
       "                        break;\n",
       "                    }\n",
       "                }\n",
       "            }, 500);\n",
       "            "
      ],
      "text/plain": [
       "<IPython.core.display.Javascript object>"
      ]
     },
     "metadata": {},
     "output_type": "display_data"
    }
   ],
   "source": [
    "# Create unique id for the rejects (to facilitate merge later)\n",
    "dfr[\"id\"] = dfr.index.to_series().map(lambda x: uuid.uuid4())"
   ]
  },
  {
   "cell_type": "code",
   "execution_count": null,
   "metadata": {},
   "outputs": [],
   "source": [
    "# Map values of emp. length of accepts to the rejects\n",
    "dfr[\"emp_length\"] = dfr[\"emp_length_new\"].apply(\n",
    "    lambda x: \"1 year\"  # match name\n",
    "    if (\n",
    "        x == \"1 year\"\n",
    "        or x == \"< 1 year\"\n",
    "        or x == \"2 years\"\n",
    "        or x == \"3 years\"\n",
    "        or x == \"4 years\"\n",
    "    )\n",
    "    else \"8 years\"\n",
    ")\n",
    "del dfr[\"emp_length_new\"]"
   ]
  },
  {
   "cell_type": "code",
   "execution_count": null,
   "metadata": {},
   "outputs": [],
   "source": [
    "# Train/Test Split (without labels)\n",
    "\n",
    "# Shuffle the dataset\n",
    "shuffle_df = dfr.sample(frac=1)\n",
    "\n",
    "# Define a size for your train set\n",
    "train_size = int(0.7 * len(shuffle_df))\n",
    "\n",
    "# Split your dataset\n",
    "dfr_dev = shuffle_df[:train_size]\n",
    "dfr_test = shuffle_df[train_size:]"
   ]
  },
  {
   "cell_type": "code",
   "execution_count": null,
   "metadata": {},
   "outputs": [],
   "source": [
    "# Bucketing Train set (based on the custom function)\n",
    "dfr_dev = dfr_dev.pipe(start_pipeline).pipe(binning_function)"
   ]
  },
  {
   "cell_type": "code",
   "execution_count": null,
   "metadata": {},
   "outputs": [],
   "source": [
    "dfr_dev = dfr_dev[[\"id\", \"loan_amnt2\", \"addr_state2\", \"emp_length2\", \"DTI2\"]]"
   ]
  },
  {
   "cell_type": "code",
   "execution_count": null,
   "metadata": {},
   "outputs": [],
   "source": [
    "# One hot encoding\n",
    "modelling_variables = [\"target\", \"loan_amnt2\", \"addr_state2\", \"emp_length2\", \"DTI2\"]\n",
    "\n",
    "for i in modelling_variables:\n",
    "    if i != \"target\":\n",
    "        dfr_dev = dfr_dev.join(pd.get_dummies(dfr_dev[i]))\n",
    "        dfr_dev = dfr_dev.drop([i], axis=1)"
   ]
  },
  {
   "cell_type": "code",
   "execution_count": null,
   "metadata": {},
   "outputs": [],
   "source": [
    "# Drop Null Band\n",
    "dfr_dev2 = dfr_dev.drop(columns=[\"1-10k\", \"California\", \">2 years\", \"0.2-0.3\"])"
   ]
  },
  {
   "cell_type": "code",
   "execution_count": null,
   "metadata": {},
   "outputs": [],
   "source": [
    "dfr_dev.head(100)"
   ]
  },
  {
   "cell_type": "code",
   "execution_count": null,
   "metadata": {},
   "outputs": [],
   "source": [
    "# Bucketing (based on a custom function)\n",
    "dfr_test = dfr_test.pipe(start_pipeline).pipe(binning_function)"
   ]
  },
  {
   "cell_type": "code",
   "execution_count": null,
   "metadata": {},
   "outputs": [],
   "source": [
    "# One hot encoding\n",
    "modelling_variables = [\"target\", \"loan_amnt2\", \"addr_state2\", \"emp_length2\", \"DTI2\"]\n",
    "\n",
    "for i in modelling_variables:\n",
    "    if i != \"target\":\n",
    "        dfr_test = dfr_test.join(pd.get_dummies(dfr_test[i]))\n",
    "        dfr_test = dfr_test.drop([i], axis=1)"
   ]
  },
  {
   "cell_type": "code",
   "execution_count": null,
   "metadata": {},
   "outputs": [],
   "source": [
    "# Drop Null Band\n",
    "dfr_test2 = dfr_test.drop(\n",
    "    columns=[\n",
    "        \"loan_amnt\",\n",
    "        \"addr_state\",\n",
    "        \"emp_length\",\n",
    "        \"1-10k\",\n",
    "        \"California\",\n",
    "        \">2 years\",\n",
    "        \"0.2-0.3\",\n",
    "    ]\n",
    ")"
   ]
  },
  {
   "cell_type": "code",
   "execution_count": null,
   "metadata": {},
   "outputs": [],
   "source": [
    "dfr_dev3 = dfr_dev2[\n",
    "    [\n",
    "        \"Good state\",\n",
    "        \"Bad state\",\n",
    "        \"1-2 years\",\n",
    "        \"<=0.1\",\n",
    "        \"0.1-0.2\",\n",
    "        \"0.3-0.4\",\n",
    "        \">0.4\",\n",
    "    ]\n",
    "]\n",
    "dfr_test3 = dfr_test2[\n",
    "    [\n",
    "        \"Good state\",\n",
    "        \"Bad state\",\n",
    "        \"1-2 years\",\n",
    "        \"<=0.1\",\n",
    "        \"0.1-0.2\",\n",
    "        \"0.3-0.4\",\n",
    "        \">0.4\",\n",
    "    ]\n",
    "]"
   ]
  },
  {
   "cell_type": "markdown",
   "metadata": {},
   "source": [
    "### Function for predictions"
   ]
  },
  {
   "cell_type": "markdown",
   "metadata": {},
   "source": [
    "Predictions1 uses predict_proba; predictions 2 uses predict"
   ]
  },
  {
   "cell_type": "code",
   "execution_count": 69,
   "metadata": {},
   "outputs": [
    {
     "data": {
      "application/javascript": [
       "\n",
       "            setTimeout(function() {\n",
       "                var nbb_cell_id = 69;\n",
       "                var nbb_unformatted_code = \"def predictions1(model, treshold):\\n    # Join predictions with train new\\n    pred = model.predict_proba(dfr_dev3)[:, 1]\\n    pred2 = pd.DataFrame(\\n        data=pred,\\n        columns=[\\\"prediction2\\\"],\\n        index=dfr_dev2.index.copy(),\\n    )\\n    pred2[\\\"prediction_beforeRI\\\"] = pred2[\\\"prediction2\\\"].apply(\\n        lambda x: 0 if (x < treshold) else 1\\n    )\\n    outcome = pd.merge(\\n        dfr_dev2,\\n        pred2[[\\\"prediction_beforeRI\\\"]],\\n        how=\\\"inner\\\",\\n        left_index=True,\\n        right_index=True,\\n    )\\n    # pred_test1.dropna(subset=[\\\"prediction_beforeRI\\\"], inplace=True)\\n    outcome = outcome[[\\\"id\\\", \\\"prediction_beforeRI\\\"]]\\n    return outcome\";\n",
       "                var nbb_formatted_code = \"def predictions1(model, treshold):\\n    # Join predictions with train new\\n    pred = model.predict_proba(dfr_dev3)[:, 1]\\n    pred2 = pd.DataFrame(\\n        data=pred,\\n        columns=[\\\"prediction2\\\"],\\n        index=dfr_dev2.index.copy(),\\n    )\\n    pred2[\\\"prediction_beforeRI\\\"] = pred2[\\\"prediction2\\\"].apply(\\n        lambda x: 0 if (x < treshold) else 1\\n    )\\n    outcome = pd.merge(\\n        dfr_dev2,\\n        pred2[[\\\"prediction_beforeRI\\\"]],\\n        how=\\\"inner\\\",\\n        left_index=True,\\n        right_index=True,\\n    )\\n    # pred_test1.dropna(subset=[\\\"prediction_beforeRI\\\"], inplace=True)\\n    outcome = outcome[[\\\"id\\\", \\\"prediction_beforeRI\\\"]]\\n    return outcome\";\n",
       "                var nbb_cells = Jupyter.notebook.get_cells();\n",
       "                for (var i = 0; i < nbb_cells.length; ++i) {\n",
       "                    if (nbb_cells[i].input_prompt_number == nbb_cell_id) {\n",
       "                        if (nbb_cells[i].get_text() == nbb_unformatted_code) {\n",
       "                             nbb_cells[i].set_text(nbb_formatted_code);\n",
       "                        }\n",
       "                        break;\n",
       "                    }\n",
       "                }\n",
       "            }, 500);\n",
       "            "
      ],
      "text/plain": [
       "<IPython.core.display.Javascript object>"
      ]
     },
     "metadata": {},
     "output_type": "display_data"
    }
   ],
   "source": [
    "def predictions1(model, treshold):\n",
    "    # Join predictions with train new\n",
    "    pred = model.predict_proba(dfr_dev3)[:, 1]\n",
    "    pred2 = pd.DataFrame(\n",
    "        data=pred,\n",
    "        columns=[\"prediction2\"],\n",
    "        index=dfr_dev2.index.copy(),\n",
    "    )\n",
    "    pred2[\"prediction_beforeRI\"] = pred2[\"prediction2\"].apply(\n",
    "        lambda x: 0 if (x < treshold) else 1\n",
    "    )\n",
    "    outcome = pd.merge(\n",
    "        dfr_dev2,\n",
    "        pred2[[\"prediction_beforeRI\"]],\n",
    "        how=\"inner\",\n",
    "        left_index=True,\n",
    "        right_index=True,\n",
    "    )\n",
    "    # pred_test1.dropna(subset=[\"prediction_beforeRI\"], inplace=True)\n",
    "    outcome = outcome[[\"id\", \"prediction_beforeRI\"]]\n",
    "    return outcome"
   ]
  },
  {
   "cell_type": "code",
   "execution_count": 81,
   "metadata": {},
   "outputs": [
    {
     "data": {
      "application/javascript": [
       "\n",
       "            setTimeout(function() {\n",
       "                var nbb_cell_id = 81;\n",
       "                var nbb_unformatted_code = \"def predictions2(model, treshold):\\n    # Join predictions with train new\\n    pred = model.predict(dfr_dev3)\\n    pred2 = pd.DataFrame(\\n        data=pred,\\n        columns=[\\\"prediction2\\\"],\\n        index=dfr_dev2.index.copy(),\\n    )\\n    pred2[\\\"prediction_beforeRI\\\"] = pred2[\\\"prediction2\\\"].apply(\\n        lambda x: 0 if (x < treshold) else 1\\n    )\\n    outcome = pd.merge(\\n        dfr_dev2,\\n        pred2[[\\\"prediction_beforeRI\\\"]],\\n        how=\\\"inner\\\",\\n        left_index=True,\\n        right_index=True,\\n    )\\n    # pred_test1.dropna(subset=[\\\"prediction_beforeRI\\\"], inplace=True)\\n    outcome = outcome[[\\\"id\\\", \\\"prediction_beforeRI\\\"]]\\n    return outcome\";\n",
       "                var nbb_formatted_code = \"def predictions2(model, treshold):\\n    # Join predictions with train new\\n    pred = model.predict(dfr_dev3)\\n    pred2 = pd.DataFrame(\\n        data=pred,\\n        columns=[\\\"prediction2\\\"],\\n        index=dfr_dev2.index.copy(),\\n    )\\n    pred2[\\\"prediction_beforeRI\\\"] = pred2[\\\"prediction2\\\"].apply(\\n        lambda x: 0 if (x < treshold) else 1\\n    )\\n    outcome = pd.merge(\\n        dfr_dev2,\\n        pred2[[\\\"prediction_beforeRI\\\"]],\\n        how=\\\"inner\\\",\\n        left_index=True,\\n        right_index=True,\\n    )\\n    # pred_test1.dropna(subset=[\\\"prediction_beforeRI\\\"], inplace=True)\\n    outcome = outcome[[\\\"id\\\", \\\"prediction_beforeRI\\\"]]\\n    return outcome\";\n",
       "                var nbb_cells = Jupyter.notebook.get_cells();\n",
       "                for (var i = 0; i < nbb_cells.length; ++i) {\n",
       "                    if (nbb_cells[i].input_prompt_number == nbb_cell_id) {\n",
       "                        if (nbb_cells[i].get_text() == nbb_unformatted_code) {\n",
       "                             nbb_cells[i].set_text(nbb_formatted_code);\n",
       "                        }\n",
       "                        break;\n",
       "                    }\n",
       "                }\n",
       "            }, 500);\n",
       "            "
      ],
      "text/plain": [
       "<IPython.core.display.Javascript object>"
      ]
     },
     "metadata": {},
     "output_type": "display_data"
    }
   ],
   "source": [
    "def predictions2(model, treshold):\n",
    "    # Join predictions with train new\n",
    "    pred = model.predict(dfr_dev3)\n",
    "    pred2 = pd.DataFrame(\n",
    "        data=pred,\n",
    "        columns=[\"prediction2\"],\n",
    "        index=dfr_dev2.index.copy(),\n",
    "    )\n",
    "    pred2[\"prediction_beforeRI\"] = pred2[\"prediction2\"].apply(\n",
    "        lambda x: 0 if (x < treshold) else 1\n",
    "    )\n",
    "    outcome = pd.merge(\n",
    "        dfr_dev2,\n",
    "        pred2[[\"prediction_beforeRI\"]],\n",
    "        how=\"inner\",\n",
    "        left_index=True,\n",
    "        right_index=True,\n",
    "    )\n",
    "    # pred_test1.dropna(subset=[\"prediction_beforeRI\"], inplace=True)\n",
    "    outcome = outcome[[\"id\", \"prediction_beforeRI\"]]\n",
    "    return outcome"
   ]
  },
  {
   "cell_type": "code",
   "execution_count": 82,
   "metadata": {},
   "outputs": [
    {
     "data": {
      "application/javascript": [
       "\n",
       "            setTimeout(function() {\n",
       "                var nbb_cell_id = 82;\n",
       "                var nbb_unformatted_code = \"def predictions1(model, treshold):\\n    # Join predictions with train new\\n    pred = model.predict_proba(dfr_dev3)[:, 1]\\n    pred2 = pd.DataFrame(\\n        data=pred,\\n        columns=[\\\"prediction2\\\"],\\n        index=dfr_dev2.index.copy(),\\n    )\\n    pred2[\\\"prediction_beforeRI\\\"] = pred2[\\\"prediction2\\\"].apply(\\n        lambda x: 0 if (x < treshold) else 1\\n    )\\n    outcome = pd.merge(\\n        dfr_dev2,\\n        pred2[[\\\"prediction_beforeRI\\\"]],\\n        how=\\\"inner\\\",\\n        left_index=True,\\n        right_index=True,\\n    )\\n    # pred_test1.dropna(subset=[\\\"prediction_beforeRI\\\"], inplace=True)\\n    outcome = outcome[[\\\"id\\\", \\\"prediction_beforeRI\\\"]]\\n    return outcome\";\n",
       "                var nbb_formatted_code = \"def predictions1(model, treshold):\\n    # Join predictions with train new\\n    pred = model.predict_proba(dfr_dev3)[:, 1]\\n    pred2 = pd.DataFrame(\\n        data=pred,\\n        columns=[\\\"prediction2\\\"],\\n        index=dfr_dev2.index.copy(),\\n    )\\n    pred2[\\\"prediction_beforeRI\\\"] = pred2[\\\"prediction2\\\"].apply(\\n        lambda x: 0 if (x < treshold) else 1\\n    )\\n    outcome = pd.merge(\\n        dfr_dev2,\\n        pred2[[\\\"prediction_beforeRI\\\"]],\\n        how=\\\"inner\\\",\\n        left_index=True,\\n        right_index=True,\\n    )\\n    # pred_test1.dropna(subset=[\\\"prediction_beforeRI\\\"], inplace=True)\\n    outcome = outcome[[\\\"id\\\", \\\"prediction_beforeRI\\\"]]\\n    return outcome\";\n",
       "                var nbb_cells = Jupyter.notebook.get_cells();\n",
       "                for (var i = 0; i < nbb_cells.length; ++i) {\n",
       "                    if (nbb_cells[i].input_prompt_number == nbb_cell_id) {\n",
       "                        if (nbb_cells[i].get_text() == nbb_unformatted_code) {\n",
       "                             nbb_cells[i].set_text(nbb_formatted_code);\n",
       "                        }\n",
       "                        break;\n",
       "                    }\n",
       "                }\n",
       "            }, 500);\n",
       "            "
      ],
      "text/plain": [
       "<IPython.core.display.Javascript object>"
      ]
     },
     "metadata": {},
     "output_type": "display_data"
    }
   ],
   "source": [
    "def predictions1(model, treshold):\n",
    "    # Join predictions with train new\n",
    "    pred = model.predict_proba(dfr_dev3)[:, 1]\n",
    "    pred2 = pd.DataFrame(\n",
    "        data=pred,\n",
    "        columns=[\"prediction2\"],\n",
    "        index=dfr_dev2.index.copy(),\n",
    "    )\n",
    "    pred2[\"prediction_beforeRI\"] = pred2[\"prediction2\"].apply(\n",
    "        lambda x: 0 if (x < treshold) else 1\n",
    "    )\n",
    "    outcome = pd.merge(\n",
    "        dfr_dev2,\n",
    "        pred2[[\"prediction_beforeRI\"]],\n",
    "        how=\"inner\",\n",
    "        left_index=True,\n",
    "        right_index=True,\n",
    "    )\n",
    "    # pred_test1.dropna(subset=[\"prediction_beforeRI\"], inplace=True)\n",
    "    outcome = outcome[[\"id\", \"prediction_beforeRI\"]]\n",
    "    return outcome"
   ]
  },
  {
   "cell_type": "markdown",
   "metadata": {},
   "source": [
    "### Predictions"
   ]
  },
  {
   "cell_type": "code",
   "execution_count": 83,
   "metadata": {},
   "outputs": [
    {
     "ename": "TypeError",
     "evalue": "float() argument must be a string or a number, not 'UUID'",
     "output_type": "error",
     "traceback": [
      "\u001b[1;31m---------------------------------------------------------------------------\u001b[0m",
      "\u001b[1;31mTypeError\u001b[0m                                 Traceback (most recent call last)",
      "\u001b[1;32m<ipython-input-83-d0db1767f33f>\u001b[0m in \u001b[0;36m<module>\u001b[1;34m\u001b[0m\n\u001b[1;32m----> 1\u001b[1;33m \u001b[0mri1_train\u001b[0m \u001b[1;33m=\u001b[0m \u001b[0mpredictions1\u001b[0m\u001b[1;33m(\u001b[0m\u001b[0mlogreg\u001b[0m\u001b[1;33m,\u001b[0m \u001b[1;36m0.3\u001b[0m\u001b[1;33m)\u001b[0m  \u001b[1;31m# Logistic Regression\u001b[0m\u001b[1;33m\u001b[0m\u001b[1;33m\u001b[0m\u001b[0m\n\u001b[0m\u001b[0;32m      2\u001b[0m \u001b[0mri2_train\u001b[0m \u001b[1;33m=\u001b[0m \u001b[0mpredictions1\u001b[0m\u001b[1;33m(\u001b[0m\u001b[0mdt\u001b[0m\u001b[1;33m,\u001b[0m \u001b[1;36m0.3\u001b[0m\u001b[1;33m)\u001b[0m  \u001b[1;31m# Decision Tree\u001b[0m\u001b[1;33m\u001b[0m\u001b[1;33m\u001b[0m\u001b[0m\n\u001b[0;32m      3\u001b[0m \u001b[0mri3_train\u001b[0m \u001b[1;33m=\u001b[0m \u001b[0mpredictions1\u001b[0m\u001b[1;33m(\u001b[0m\u001b[0mrf\u001b[0m\u001b[1;33m,\u001b[0m \u001b[1;36m0.3\u001b[0m\u001b[1;33m)\u001b[0m  \u001b[1;31m# Random Forest\u001b[0m\u001b[1;33m\u001b[0m\u001b[1;33m\u001b[0m\u001b[0m\n\u001b[0;32m      4\u001b[0m \u001b[0mri4_train\u001b[0m \u001b[1;33m=\u001b[0m \u001b[0mpredictions2\u001b[0m\u001b[1;33m(\u001b[0m\u001b[0msvm\u001b[0m\u001b[1;33m,\u001b[0m \u001b[1;36m0.3\u001b[0m\u001b[1;33m)\u001b[0m  \u001b[1;31m# SVM\u001b[0m\u001b[1;33m\u001b[0m\u001b[1;33m\u001b[0m\u001b[0m\n\u001b[0;32m      5\u001b[0m \u001b[0mri5_train\u001b[0m \u001b[1;33m=\u001b[0m \u001b[0mpredictions2\u001b[0m\u001b[1;33m(\u001b[0m\u001b[0mkm\u001b[0m\u001b[1;33m,\u001b[0m \u001b[1;36m0.3\u001b[0m\u001b[1;33m)\u001b[0m  \u001b[1;31m# K-means on Accepts\u001b[0m\u001b[1;33m\u001b[0m\u001b[1;33m\u001b[0m\u001b[0m\n",
      "\u001b[1;32m<ipython-input-82-518ddf3c90af>\u001b[0m in \u001b[0;36mpredictions1\u001b[1;34m(model, treshold)\u001b[0m\n\u001b[0;32m      1\u001b[0m \u001b[1;32mdef\u001b[0m \u001b[0mpredictions1\u001b[0m\u001b[1;33m(\u001b[0m\u001b[0mmodel\u001b[0m\u001b[1;33m,\u001b[0m \u001b[0mtreshold\u001b[0m\u001b[1;33m)\u001b[0m\u001b[1;33m:\u001b[0m\u001b[1;33m\u001b[0m\u001b[1;33m\u001b[0m\u001b[0m\n\u001b[0;32m      2\u001b[0m     \u001b[1;31m# Join predictions with train new\u001b[0m\u001b[1;33m\u001b[0m\u001b[1;33m\u001b[0m\u001b[1;33m\u001b[0m\u001b[0m\n\u001b[1;32m----> 3\u001b[1;33m     \u001b[0mpred\u001b[0m \u001b[1;33m=\u001b[0m \u001b[0mmodel\u001b[0m\u001b[1;33m.\u001b[0m\u001b[0mpredict_proba\u001b[0m\u001b[1;33m(\u001b[0m\u001b[0mdfr_dev3\u001b[0m\u001b[1;33m)\u001b[0m\u001b[1;33m[\u001b[0m\u001b[1;33m:\u001b[0m\u001b[1;33m,\u001b[0m \u001b[1;36m1\u001b[0m\u001b[1;33m]\u001b[0m\u001b[1;33m\u001b[0m\u001b[1;33m\u001b[0m\u001b[0m\n\u001b[0m\u001b[0;32m      4\u001b[0m     pred2 = pd.DataFrame(\n\u001b[0;32m      5\u001b[0m         \u001b[0mdata\u001b[0m\u001b[1;33m=\u001b[0m\u001b[0mpred\u001b[0m\u001b[1;33m,\u001b[0m\u001b[1;33m\u001b[0m\u001b[1;33m\u001b[0m\u001b[0m\n",
      "\u001b[1;32mC:\\ProgramData\\Anaconda3\\lib\\site-packages\\sklearn\\linear_model\\_logistic.py\u001b[0m in \u001b[0;36mpredict_proba\u001b[1;34m(self, X)\u001b[0m\n\u001b[0;32m   1466\u001b[0m                                                 self.solver == 'liblinear')))\n\u001b[0;32m   1467\u001b[0m         \u001b[1;32mif\u001b[0m \u001b[0movr\u001b[0m\u001b[1;33m:\u001b[0m\u001b[1;33m\u001b[0m\u001b[1;33m\u001b[0m\u001b[0m\n\u001b[1;32m-> 1468\u001b[1;33m             \u001b[1;32mreturn\u001b[0m \u001b[0msuper\u001b[0m\u001b[1;33m(\u001b[0m\u001b[1;33m)\u001b[0m\u001b[1;33m.\u001b[0m\u001b[0m_predict_proba_lr\u001b[0m\u001b[1;33m(\u001b[0m\u001b[0mX\u001b[0m\u001b[1;33m)\u001b[0m\u001b[1;33m\u001b[0m\u001b[1;33m\u001b[0m\u001b[0m\n\u001b[0m\u001b[0;32m   1469\u001b[0m         \u001b[1;32melse\u001b[0m\u001b[1;33m:\u001b[0m\u001b[1;33m\u001b[0m\u001b[1;33m\u001b[0m\u001b[0m\n\u001b[0;32m   1470\u001b[0m             \u001b[0mdecision\u001b[0m \u001b[1;33m=\u001b[0m \u001b[0mself\u001b[0m\u001b[1;33m.\u001b[0m\u001b[0mdecision_function\u001b[0m\u001b[1;33m(\u001b[0m\u001b[0mX\u001b[0m\u001b[1;33m)\u001b[0m\u001b[1;33m\u001b[0m\u001b[1;33m\u001b[0m\u001b[0m\n",
      "\u001b[1;32mC:\\ProgramData\\Anaconda3\\lib\\site-packages\\sklearn\\linear_model\\_base.py\u001b[0m in \u001b[0;36m_predict_proba_lr\u001b[1;34m(self, X)\u001b[0m\n\u001b[0;32m    319\u001b[0m         \u001b[0mmulticlass\u001b[0m \u001b[1;32mis\u001b[0m \u001b[0mhandled\u001b[0m \u001b[0mby\u001b[0m \u001b[0mnormalizing\u001b[0m \u001b[0mthat\u001b[0m \u001b[0mover\u001b[0m \u001b[0mall\u001b[0m \u001b[0mclasses\u001b[0m\u001b[1;33m.\u001b[0m\u001b[1;33m\u001b[0m\u001b[1;33m\u001b[0m\u001b[0m\n\u001b[0;32m    320\u001b[0m         \"\"\"\n\u001b[1;32m--> 321\u001b[1;33m         \u001b[0mprob\u001b[0m \u001b[1;33m=\u001b[0m \u001b[0mself\u001b[0m\u001b[1;33m.\u001b[0m\u001b[0mdecision_function\u001b[0m\u001b[1;33m(\u001b[0m\u001b[0mX\u001b[0m\u001b[1;33m)\u001b[0m\u001b[1;33m\u001b[0m\u001b[1;33m\u001b[0m\u001b[0m\n\u001b[0m\u001b[0;32m    322\u001b[0m         \u001b[0mexpit\u001b[0m\u001b[1;33m(\u001b[0m\u001b[0mprob\u001b[0m\u001b[1;33m,\u001b[0m \u001b[0mout\u001b[0m\u001b[1;33m=\u001b[0m\u001b[0mprob\u001b[0m\u001b[1;33m)\u001b[0m\u001b[1;33m\u001b[0m\u001b[1;33m\u001b[0m\u001b[0m\n\u001b[0;32m    323\u001b[0m         \u001b[1;32mif\u001b[0m \u001b[0mprob\u001b[0m\u001b[1;33m.\u001b[0m\u001b[0mndim\u001b[0m \u001b[1;33m==\u001b[0m \u001b[1;36m1\u001b[0m\u001b[1;33m:\u001b[0m\u001b[1;33m\u001b[0m\u001b[1;33m\u001b[0m\u001b[0m\n",
      "\u001b[1;32mC:\\ProgramData\\Anaconda3\\lib\\site-packages\\sklearn\\linear_model\\_base.py\u001b[0m in \u001b[0;36mdecision_function\u001b[1;34m(self, X)\u001b[0m\n\u001b[0;32m    280\u001b[0m         \u001b[0mcheck_is_fitted\u001b[0m\u001b[1;33m(\u001b[0m\u001b[0mself\u001b[0m\u001b[1;33m)\u001b[0m\u001b[1;33m\u001b[0m\u001b[1;33m\u001b[0m\u001b[0m\n\u001b[0;32m    281\u001b[0m \u001b[1;33m\u001b[0m\u001b[0m\n\u001b[1;32m--> 282\u001b[1;33m         \u001b[0mX\u001b[0m \u001b[1;33m=\u001b[0m \u001b[0mcheck_array\u001b[0m\u001b[1;33m(\u001b[0m\u001b[0mX\u001b[0m\u001b[1;33m,\u001b[0m \u001b[0maccept_sparse\u001b[0m\u001b[1;33m=\u001b[0m\u001b[1;34m'csr'\u001b[0m\u001b[1;33m)\u001b[0m\u001b[1;33m\u001b[0m\u001b[1;33m\u001b[0m\u001b[0m\n\u001b[0m\u001b[0;32m    283\u001b[0m \u001b[1;33m\u001b[0m\u001b[0m\n\u001b[0;32m    284\u001b[0m         \u001b[0mn_features\u001b[0m \u001b[1;33m=\u001b[0m \u001b[0mself\u001b[0m\u001b[1;33m.\u001b[0m\u001b[0mcoef_\u001b[0m\u001b[1;33m.\u001b[0m\u001b[0mshape\u001b[0m\u001b[1;33m[\u001b[0m\u001b[1;36m1\u001b[0m\u001b[1;33m]\u001b[0m\u001b[1;33m\u001b[0m\u001b[1;33m\u001b[0m\u001b[0m\n",
      "\u001b[1;32mC:\\ProgramData\\Anaconda3\\lib\\site-packages\\sklearn\\utils\\validation.py\u001b[0m in \u001b[0;36minner_f\u001b[1;34m(*args, **kwargs)\u001b[0m\n\u001b[0;32m     71\u001b[0m                           FutureWarning)\n\u001b[0;32m     72\u001b[0m         \u001b[0mkwargs\u001b[0m\u001b[1;33m.\u001b[0m\u001b[0mupdate\u001b[0m\u001b[1;33m(\u001b[0m\u001b[1;33m{\u001b[0m\u001b[0mk\u001b[0m\u001b[1;33m:\u001b[0m \u001b[0marg\u001b[0m \u001b[1;32mfor\u001b[0m \u001b[0mk\u001b[0m\u001b[1;33m,\u001b[0m \u001b[0marg\u001b[0m \u001b[1;32min\u001b[0m \u001b[0mzip\u001b[0m\u001b[1;33m(\u001b[0m\u001b[0msig\u001b[0m\u001b[1;33m.\u001b[0m\u001b[0mparameters\u001b[0m\u001b[1;33m,\u001b[0m \u001b[0margs\u001b[0m\u001b[1;33m)\u001b[0m\u001b[1;33m}\u001b[0m\u001b[1;33m)\u001b[0m\u001b[1;33m\u001b[0m\u001b[1;33m\u001b[0m\u001b[0m\n\u001b[1;32m---> 73\u001b[1;33m         \u001b[1;32mreturn\u001b[0m \u001b[0mf\u001b[0m\u001b[1;33m(\u001b[0m\u001b[1;33m**\u001b[0m\u001b[0mkwargs\u001b[0m\u001b[1;33m)\u001b[0m\u001b[1;33m\u001b[0m\u001b[1;33m\u001b[0m\u001b[0m\n\u001b[0m\u001b[0;32m     74\u001b[0m     \u001b[1;32mreturn\u001b[0m \u001b[0minner_f\u001b[0m\u001b[1;33m\u001b[0m\u001b[1;33m\u001b[0m\u001b[0m\n\u001b[0;32m     75\u001b[0m \u001b[1;33m\u001b[0m\u001b[0m\n",
      "\u001b[1;32mC:\\ProgramData\\Anaconda3\\lib\\site-packages\\sklearn\\utils\\validation.py\u001b[0m in \u001b[0;36mcheck_array\u001b[1;34m(array, accept_sparse, accept_large_sparse, dtype, order, copy, force_all_finite, ensure_2d, allow_nd, ensure_min_samples, ensure_min_features, estimator)\u001b[0m\n\u001b[0;32m    597\u001b[0m                     \u001b[0marray\u001b[0m \u001b[1;33m=\u001b[0m \u001b[0marray\u001b[0m\u001b[1;33m.\u001b[0m\u001b[0mastype\u001b[0m\u001b[1;33m(\u001b[0m\u001b[0mdtype\u001b[0m\u001b[1;33m,\u001b[0m \u001b[0mcasting\u001b[0m\u001b[1;33m=\u001b[0m\u001b[1;34m\"unsafe\"\u001b[0m\u001b[1;33m,\u001b[0m \u001b[0mcopy\u001b[0m\u001b[1;33m=\u001b[0m\u001b[1;32mFalse\u001b[0m\u001b[1;33m)\u001b[0m\u001b[1;33m\u001b[0m\u001b[1;33m\u001b[0m\u001b[0m\n\u001b[0;32m    598\u001b[0m                 \u001b[1;32melse\u001b[0m\u001b[1;33m:\u001b[0m\u001b[1;33m\u001b[0m\u001b[1;33m\u001b[0m\u001b[0m\n\u001b[1;32m--> 599\u001b[1;33m                     \u001b[0marray\u001b[0m \u001b[1;33m=\u001b[0m \u001b[0mnp\u001b[0m\u001b[1;33m.\u001b[0m\u001b[0masarray\u001b[0m\u001b[1;33m(\u001b[0m\u001b[0marray\u001b[0m\u001b[1;33m,\u001b[0m \u001b[0morder\u001b[0m\u001b[1;33m=\u001b[0m\u001b[0morder\u001b[0m\u001b[1;33m,\u001b[0m \u001b[0mdtype\u001b[0m\u001b[1;33m=\u001b[0m\u001b[0mdtype\u001b[0m\u001b[1;33m)\u001b[0m\u001b[1;33m\u001b[0m\u001b[1;33m\u001b[0m\u001b[0m\n\u001b[0m\u001b[0;32m    600\u001b[0m             \u001b[1;32mexcept\u001b[0m \u001b[0mComplexWarning\u001b[0m\u001b[1;33m:\u001b[0m\u001b[1;33m\u001b[0m\u001b[1;33m\u001b[0m\u001b[0m\n\u001b[0;32m    601\u001b[0m                 raise ValueError(\"Complex data not supported\\n\"\n",
      "\u001b[1;32mC:\\ProgramData\\Anaconda3\\lib\\site-packages\\numpy\\core\\_asarray.py\u001b[0m in \u001b[0;36masarray\u001b[1;34m(a, dtype, order)\u001b[0m\n\u001b[0;32m     83\u001b[0m \u001b[1;33m\u001b[0m\u001b[0m\n\u001b[0;32m     84\u001b[0m     \"\"\"\n\u001b[1;32m---> 85\u001b[1;33m     \u001b[1;32mreturn\u001b[0m \u001b[0marray\u001b[0m\u001b[1;33m(\u001b[0m\u001b[0ma\u001b[0m\u001b[1;33m,\u001b[0m \u001b[0mdtype\u001b[0m\u001b[1;33m,\u001b[0m \u001b[0mcopy\u001b[0m\u001b[1;33m=\u001b[0m\u001b[1;32mFalse\u001b[0m\u001b[1;33m,\u001b[0m \u001b[0morder\u001b[0m\u001b[1;33m=\u001b[0m\u001b[0morder\u001b[0m\u001b[1;33m)\u001b[0m\u001b[1;33m\u001b[0m\u001b[1;33m\u001b[0m\u001b[0m\n\u001b[0m\u001b[0;32m     86\u001b[0m \u001b[1;33m\u001b[0m\u001b[0m\n\u001b[0;32m     87\u001b[0m \u001b[1;33m\u001b[0m\u001b[0m\n",
      "\u001b[1;31mTypeError\u001b[0m: float() argument must be a string or a number, not 'UUID'"
     ]
    },
    {
     "data": {
      "application/javascript": [
       "\n",
       "            setTimeout(function() {\n",
       "                var nbb_cell_id = 83;\n",
       "                var nbb_unformatted_code = \"ri1_train = predictions1(logreg, 0.3)  # Logistic Regression\\nri2_train = predictions1(dt, 0.3)  # Decision Tree\\nri3_train = predictions1(rf, 0.3)  # Random Forest\\nri4_train = predictions2(svm, 0.3)  # SVM\\nri5_train = predictions2(km, 0.3)  # K-means on Accepts\\nri8_train = predictions2(gbm, 0.2)  # Light GBM ranking 0.2\\nri9_train = predictions2(gbm, 0.1)  # Light GBM ranking 0.1\";\n",
       "                var nbb_formatted_code = \"ri1_train = predictions1(logreg, 0.3)  # Logistic Regression\\nri2_train = predictions1(dt, 0.3)  # Decision Tree\\nri3_train = predictions1(rf, 0.3)  # Random Forest\\nri4_train = predictions2(svm, 0.3)  # SVM\\nri5_train = predictions2(km, 0.3)  # K-means on Accepts\\nri8_train = predictions2(gbm, 0.2)  # Light GBM ranking 0.2\\nri9_train = predictions2(gbm, 0.1)  # Light GBM ranking 0.1\";\n",
       "                var nbb_cells = Jupyter.notebook.get_cells();\n",
       "                for (var i = 0; i < nbb_cells.length; ++i) {\n",
       "                    if (nbb_cells[i].input_prompt_number == nbb_cell_id) {\n",
       "                        if (nbb_cells[i].get_text() == nbb_unformatted_code) {\n",
       "                             nbb_cells[i].set_text(nbb_formatted_code);\n",
       "                        }\n",
       "                        break;\n",
       "                    }\n",
       "                }\n",
       "            }, 500);\n",
       "            "
      ],
      "text/plain": [
       "<IPython.core.display.Javascript object>"
      ]
     },
     "metadata": {},
     "output_type": "display_data"
    }
   ],
   "source": [
    "ri1_train = predictions1(logreg, 0.3)  # Logistic Regression\n",
    "ri2_train = predictions1(dt, 0.3)  # Decision Tree\n",
    "ri3_train = predictions1(rf, 0.3)  # Random Forest\n",
    "ri4_train = predictions2(svm, 0.3)  # SVM\n",
    "ri5_train = predictions2(km, 0.3)  # K-means on Accepts\n",
    "ri8_train = predictions2(gbm, 0.2)  # Light GBM ranking 0.2\n",
    "ri9_train = predictions2(gbm, 0.1)  # Light GBM ranking 0.1"
   ]
  },
  {
   "cell_type": "markdown",
   "metadata": {},
   "source": [
    "### K-Means"
   ]
  },
  {
   "cell_type": "markdown",
   "metadata": {},
   "source": [
    "to-do:\n",
    "- grid search/hypterparameter optimization\n",
    "- visualization"
   ]
  },
  {
   "cell_type": "code",
   "execution_count": null,
   "metadata": {},
   "outputs": [],
   "source": [
    "kmeans = KMeans(\n",
    "    init=\"random\", n_clusters=2, n_init=10, max_iter=300, random_state=7\n",
    ").fit(dfr_dev3)"
   ]
  },
  {
   "cell_type": "code",
   "execution_count": null,
   "metadata": {},
   "outputs": [],
   "source": [
    "print(\"Inertia: \", kmeans.inertia_)\n",
    "print(\"Cluster centers: \", kmeans.cluster_centers_)\n",
    "print(\"N iter: \", kmeans.n_iter_)\n",
    "print(\"Labels: \", kmeans.labels_)"
   ]
  },
  {
   "cell_type": "markdown",
   "metadata": {},
   "source": [
    "### Reject Inference K-means"
   ]
  },
  {
   "cell_type": "markdown",
   "metadata": {},
   "source": [
    "### Train set"
   ]
  },
  {
   "cell_type": "code",
   "execution_count": null,
   "metadata": {},
   "outputs": [],
   "source": [
    "# Predictions\n",
    "rej_test_predictions_kmeans = kmeans.labels_\n",
    "df_pred_rej_kmeans = pd.DataFrame(\n",
    "    data=rej_test_predictions_kmeans, columns=[\"prediction\"]\n",
    ")\n",
    "df_pred_rej_kmeans[\"Rejects\"] = df_pred_rej_kmeans.groupby(\"prediction\")[\n",
    "    \"prediction\"\n",
    "].transform(\"count\")\n",
    "df_pred_rej_kmeans.groupby([\"prediction\"]).count()"
   ]
  },
  {
   "cell_type": "code",
   "execution_count": null,
   "metadata": {},
   "outputs": [],
   "source": [
    "# Join predictions with train new\n",
    "pred_ri = kmeans.labels_\n",
    "pred_ri2 = pd.DataFrame(\n",
    "    data=pred_ri, columns=[\"prediction_beforeRI\"], index=dfr_dev2.index.copy()\n",
    ")\n",
    "ri6 = pd.merge(\n",
    "    dfr_dev2,\n",
    "    pred_ri2[[\"prediction_beforeRI\"]],\n",
    "    how=\"inner\",\n",
    "    left_index=True,\n",
    "    right_index=True,\n",
    ")\n",
    "# pred_test1.dropna(subset=[\"prediction_beforeRI\"], inplace=True)\n",
    "ri6_train = ri6[[\"id\", \"prediction_beforeRI\"]]\n",
    "ri6_train"
   ]
  },
  {
   "cell_type": "markdown",
   "metadata": {},
   "source": [
    "### Test Set"
   ]
  },
  {
   "cell_type": "code",
   "execution_count": null,
   "metadata": {},
   "outputs": [],
   "source": [
    "# Predictions\n",
    "rej_test_predictions_kmeans2 = kmeans.predict(dfr_test3)\n",
    "df_pred_rej_kmeans2 = pd.DataFrame(\n",
    "    data=rej_test_predictions_kmeans2,\n",
    "    columns=[\"prediction\"],\n",
    "    index=dfr_test2.index.copy(),\n",
    ")\n",
    "df_pred_rej_kmeans2[\"Rejects\"] = df_pred_rej_kmeans2.groupby(\"prediction\")[\n",
    "    \"prediction\"\n",
    "].transform(\"count\")\n",
    "df_pred_rej_kmeans2.groupby([\"prediction\"]).count()"
   ]
  },
  {
   "cell_type": "code",
   "execution_count": null,
   "metadata": {},
   "outputs": [],
   "source": [
    "# Join predictions with test new\n",
    "pred_test_ri = kmeans.predict(dfr_test3)\n",
    "pred_test_ri6 = pd.DataFrame(\n",
    "    data=pred_test_ri, columns=[\"prediction_beforeRI\"], index=dfr_test2.index.copy()\n",
    ")\n",
    "ri6_testing = pd.merge(\n",
    "    dfr_test2,\n",
    "    pred_test_ri6[[\"prediction_beforeRI\"]],\n",
    "    how=\"inner\",\n",
    "    left_index=True,\n",
    "    right_index=True,\n",
    ")\n",
    "# pred_test1.dropna(subset=[\"prediction_beforeRI\"], inplace=True)\n",
    "ri6_test = ri6_testing[[\"id\", \"prediction_beforeRI\"]]\n",
    "ri6_test"
   ]
  },
  {
   "cell_type": "code",
   "execution_count": null,
   "metadata": {},
   "outputs": [],
   "source": [
    "# Check correlations\n",
    "ri6_testing[ri6_testing.columns[1:]].corr()[\"prediction_beforeRI\"][:]"
   ]
  },
  {
   "cell_type": "markdown",
   "metadata": {},
   "source": [
    "### Hierarchical Clustering"
   ]
  },
  {
   "cell_type": "code",
   "execution_count": null,
   "metadata": {},
   "outputs": [],
   "source": [
    "cluster = AgglomerativeClustering(n_clusters=2, affinity=\"euclidean\", linkage=\"ward\")\n",
    "cluster.fit_predict(dfr_dev3)"
   ]
  },
  {
   "cell_type": "code",
   "execution_count": null,
   "metadata": {},
   "outputs": [],
   "source": [
    "# Predictions\n",
    "rej_test_predictions_aggl = cluster.labels_\n",
    "df_pred_rej_aggl = pd.DataFrame(data=rej_test_predictions_aggl, columns=[\"prediction\"])\n",
    "df_pred_rej_aggl[\"Rejects\"] = df_pred_rej_aggl.groupby(\"prediction\")[\n",
    "    \"prediction\"\n",
    "].transform(\"count\")\n",
    "df_pred_rej_aggl.groupby([\"prediction\"]).count()"
   ]
  },
  {
   "cell_type": "code",
   "execution_count": null,
   "metadata": {},
   "outputs": [],
   "source": [
    "# Join predictions with train new\n",
    "pred_ri_aggl = cluster.labels_\n",
    "pred_ri_aggl2 = pd.DataFrame(\n",
    "    data=pred_ri_aggl,\n",
    "    columns=[\"prediction_beforeRI\"],\n",
    "    index=dfr_dev2.index.copy(),\n",
    ")\n",
    "ri7 = pd.merge(\n",
    "    dfr_dev2,\n",
    "    pred_ri_aggl2[[\"prediction_beforeRI\"]],\n",
    "    how=\"inner\",\n",
    "    left_index=True,\n",
    "    right_index=True,\n",
    ")\n",
    "# pred_test1.dropna(subset=[\"prediction_beforeRI\"], inplace=True)\n",
    "ri7_train = ri7[[\"id\", \"prediction_beforeRI\"]]\n",
    "ri7_train"
   ]
  },
  {
   "cell_type": "code",
   "execution_count": null,
   "metadata": {},
   "outputs": [],
   "source": [
    "# Check correlations\n",
    "ri7[ri7.columns[1:]].corr()[\"prediction_beforeRI\"][:]"
   ]
  },
  {
   "cell_type": "markdown",
   "metadata": {},
   "source": [
    "### Reject Inference Semi-Supervised Learning"
   ]
  },
  {
   "cell_type": "markdown",
   "metadata": {},
   "source": [
    "### Label Propagation"
   ]
  },
  {
   "cell_type": "code",
   "execution_count": null,
   "metadata": {},
   "outputs": [],
   "source": [
    "from sklearn.semi_supervised import LabelPropagation"
   ]
  },
  {
   "cell_type": "code",
   "execution_count": null,
   "metadata": {},
   "outputs": [],
   "source": [
    "ri10_train = ri9_train.copy()\n",
    "ri10_train"
   ]
  },
  {
   "cell_type": "code",
   "execution_count": null,
   "metadata": {},
   "outputs": [],
   "source": [
    "def ssl(ri_data):  # ri1_train, ri2_train, etc..\n",
    "\n",
    "    # TRAIN NEW\n",
    "    # Join labels to train set\n",
    "    # Accepts\n",
    "    train_accepts = pd.merge(\n",
    "        os_data_X, os_data_y[[\"target\"]], how=\"left\", left_index=True, right_index=True\n",
    "    )\n",
    "\n",
    "    train_accepts[\"Flag1\"] = \"Accept\"\n",
    "\n",
    "    # Rejects\n",
    "    train_rejects = pd.merge(\n",
    "        dfr_dev2,\n",
    "        ri_data[[\"prediction_beforeRI\"]],\n",
    "        how=\"left\",\n",
    "        left_index=True,\n",
    "        right_index=True,\n",
    "    )\n",
    "\n",
    "    # Drop Null values and align naming\n",
    "    train_accepts.dropna(subset=[\"target\"], inplace=True)\n",
    "    train_rejects.rename(columns={\"prediction_beforeRI\": \"target\"}, inplace=True)\n",
    "\n",
    "    # Concatenate Train Accepts and Train Rejects\n",
    "    train_new = pd.concat([train_accepts, train_rejects])\n",
    "\n",
    "    # Flag\n",
    "    train_new[\"Flag\"] = train_new[\"Flag1\"].apply(\n",
    "        lambda x: \"Accept\" if x == \"Accept\" else \"Reject\"\n",
    "    )\n",
    "    train_new = train_new.drop(columns=[\"Flag1\", \"<=1k\", \">10k\"])\n",
    "    return train_new"
   ]
  },
  {
   "cell_type": "code",
   "execution_count": null,
   "metadata": {},
   "outputs": [],
   "source": [
    "def unlabel_rejects(df):\n",
    "    df[\"target_new\"] = \"-1\"\n",
    "    ri10_train2[\"target_new\"][\n",
    "        (ri10_train2[\"Flag\"] == \"Accept\") & (ri10_train2[\"target\"] == 1)\n",
    "    ] = 1\n",
    "    ri10_train2[\"target_new\"][\n",
    "        (ri10_train2[\"Flag\"] == \"Accept\") & (ri10_train2[\"target\"] == 0)\n",
    "    ] = 0\n",
    "    df = df.drop([\"target\", \"Flag\"], axis=1)\n",
    "    df = df.rename(columns={\"target_new\": \"target\"})\n",
    "    return df"
   ]
  },
  {
   "cell_type": "code",
   "execution_count": null,
   "metadata": {},
   "outputs": [],
   "source": [
    "ri10_train3 = unlabel_rejects(ri10_train2)"
   ]
  },
  {
   "cell_type": "code",
   "execution_count": null,
   "metadata": {},
   "outputs": [],
   "source": [
    "label_prop_model = LabelPropagation()\n",
    "data = np.copy(\n",
    "    ri10_train3[\n",
    "        [\"Bad state\", \"Good state\", \"1-2 years\", \"0.1-0.2\", \"0.3-0.4\", \"<=0.1\", \">0.4\"]\n",
    "    ]\n",
    ")\n",
    "labels = np.copy(ri10_train3[\"target\"])\n",
    "label_prop_model.fit(data, labels)"
   ]
  },
  {
   "cell_type": "code",
   "execution_count": null,
   "metadata": {},
   "outputs": [],
   "source": []
  },
  {
   "cell_type": "code",
   "execution_count": null,
   "metadata": {},
   "outputs": [],
   "source": [
    "label_prop_model = LabelPropagation()\n",
    "iris = datasets.load_iris()\n",
    "rng = np.random.RandomState(42)\n",
    "random_unlabeled_points = rng.rand(len(iris.target)) < 0.3\n",
    "labels = np.copy(iris.target)\n",
    "labels[random_unlabeled_points] = -1  # assings -1 to the unlabelled points\n"
   ]
  },
  {
   "cell_type": "code",
   "execution_count": null,
   "metadata": {},
   "outputs": [],
   "source": []
  },
  {
   "cell_type": "markdown",
   "metadata": {},
   "source": [
    "### Evaluation Measures"
   ]
  },
  {
   "cell_type": "code",
   "execution_count": null,
   "metadata": {},
   "outputs": [],
   "source": [
    "def print_results(data, state, prediction):\n",
    "    print(\n",
    "        \"The number of accurately classified cases \",\n",
    "        state,\n",
    "        \" is: \",\n",
    "        data[\n",
    "            (data.target == 1) & (data[prediction] == 1)\n",
    "            | (data.target == 0) & (data[prediction] == 0)\n",
    "        ].shape[0],\n",
    "    )\n",
    "    print(\n",
    "        \"The number of misclassified cases \",\n",
    "        state,\n",
    "        \" is: \",\n",
    "        data[\n",
    "            (data.target == 1) & (data[prediction] == 0)\n",
    "            | (data.target == 0) & (data[prediction] == 1)\n",
    "        ].shape[0],\n",
    "    )"
   ]
  },
  {
   "cell_type": "code",
   "execution_count": null,
   "metadata": {},
   "outputs": [],
   "source": [
    "def evaluation(ri_data):  # ri1_train, ri2_train, etc..\n",
    "\n",
    "    # TRAIN NEW\n",
    "    # Join labels to train set\n",
    "    # Accepts\n",
    "    train_accepts = pd.merge(\n",
    "        os_data_X, os_data_y[[\"target\"]], how=\"left\", left_index=True, right_index=True\n",
    "    )\n",
    "\n",
    "    train_accepts[\"Flag1\"] = \"Accept\"\n",
    "\n",
    "    # Rejects\n",
    "    train_rejects = pd.merge(\n",
    "        dfr_dev2,\n",
    "        ri_data[[\"prediction_beforeRI\"]],\n",
    "        how=\"left\",\n",
    "        left_index=True,\n",
    "        right_index=True,\n",
    "    )\n",
    "\n",
    "    # Drop Null values and align naming\n",
    "    train_accepts.dropna(subset=[\"target\"], inplace=True)\n",
    "    train_rejects.rename(columns={\"prediction_beforeRI\": \"target\"}, inplace=True)\n",
    "\n",
    "    # Concatenate Train Accepts and Train Rejects\n",
    "    train_new = pd.concat([train_accepts, train_rejects])\n",
    "\n",
    "    # Flag\n",
    "    train_new[\"Flag\"] = train_new[\"Flag1\"].apply(\n",
    "        lambda x: \"Accept\" if x == \"Accept\" else \"Reject\"\n",
    "    )\n",
    "    train_new = train_new.drop(columns=[\"Flag1\", \"<=1k\", \">10k\"])\n",
    "\n",
    "    # Retrain KGB Model\n",
    "\n",
    "    # Split\n",
    "    X_new = train_new.loc[:, train_new.columns != \"target\"]\n",
    "    X_new = X_new.loc[:, X_new.columns != \"Flag\"]\n",
    "    y_new = train_new.loc[:, train_new.columns == \"target\"]\n",
    "    X_train_new, X_test_new, y_train_new, y_test_new = train_test_split(\n",
    "        X_new, y_new, test_size=0.3, random_state=7\n",
    "    )\n",
    "\n",
    "    # Keep only columns for modelling\n",
    "    os_data_X_2_new = X_train_new[\n",
    "        [\n",
    "            \"Good state\",\n",
    "            \"Bad state\",\n",
    "            \"1-2 years\",\n",
    "            \"<=0.1\",\n",
    "            \"0.1-0.2\",\n",
    "            \"0.3-0.4\",\n",
    "            \">0.4\",\n",
    "        ]\n",
    "    ]\n",
    "    X_test_2_new = X_test_new[\n",
    "        [\n",
    "            \"Good state\",\n",
    "            \"Bad state\",\n",
    "            \"1-2 years\",\n",
    "            \"<=0.1\",\n",
    "            \"0.1-0.2\",\n",
    "            \"0.3-0.4\",\n",
    "            \">0.4\",\n",
    "        ]\n",
    "    ]\n",
    "\n",
    "    # Build Logistic regression\n",
    "    logreg = LogisticRegression(fit_intercept=False, penalty=\"none\")\n",
    "    logreg.fit(os_data_X_2_new, y_train_new.values.ravel())\n",
    "\n",
    "    # TEST NEW\n",
    "    # Join labels to test set\n",
    "    # Accepts\n",
    "    test_accepts = pd.merge(\n",
    "        X_test, y_test[[\"target\"]], how=\"left\", left_index=True, right_index=True\n",
    "    )\n",
    "\n",
    "    test_accepts[\"Flag1\"] = \"Accept\"\n",
    "\n",
    "    # Rejects\n",
    "    test_rejects = pd.merge(\n",
    "        dfr_test2,\n",
    "        ri_data[[\"prediction_beforeRI\"]],\n",
    "        how=\"left\",\n",
    "        left_index=True,\n",
    "        right_index=True,\n",
    "    )\n",
    "\n",
    "    # Drop Null values and align naming\n",
    "    test_accepts.dropna(subset=[\"target\"], inplace=True)\n",
    "    test_rejects.rename(columns={\"prediction_beforeRI\": \"target\"}, inplace=True)\n",
    "    test_rejects.dropna(subset=[\"target\"], inplace=True)\n",
    "\n",
    "    # Concatenate Test Accepts and Test Rejects\n",
    "    test_new = pd.concat([test_accepts, test_rejects])\n",
    "\n",
    "    # Flag\n",
    "    test_new[\"Flag\"] = test_new[\"Flag1\"].apply(\n",
    "        lambda x: \"Accept\" if x == \"Accept\" else \"Reject\"\n",
    "    )\n",
    "\n",
    "    test_new = test_new.drop(columns=[\"DTI\", \"Flag1\", \"<=1k\", \">10k\"])\n",
    "\n",
    "    test_new = test_new.reset_index(drop=True)\n",
    "\n",
    "    X_test_new = test_new.loc[:, test_new.columns != \"target\"]\n",
    "    X_test_new2 = X_test_new.loc[:, X_test_new.columns != \"Flag\"]\n",
    "    X_test_new3 = X_test_new2.loc[:, X_test_new2.columns != \"id\"]\n",
    "    X_test_new4 = X_test_new3.loc[:, X_test_new3.columns != \">10k\"]\n",
    "    y_test_new = test_new.loc[:, test_new.columns == \"target\"]\n",
    "\n",
    "    # PREDICTIONS\n",
    "    # Join predictions with test new\n",
    "    test_new_pred = logreg.predict_proba(X_test_new4)[:, 1]\n",
    "    pred_test_df = pd.DataFrame(\n",
    "        data=test_new_pred, columns=[\"prediction_afterRI\"], index=test_new.index.copy()\n",
    "    )\n",
    "    pred_test = pd.merge(\n",
    "        test_new,\n",
    "        pred_test_df[[\"prediction_afterRI\"]],\n",
    "        how=\"inner\",\n",
    "        left_index=True,\n",
    "        right_index=True,\n",
    "    )\n",
    "    # pred_test1.dropna(subset=[\"prediction_beforeRI\"], inplace=True)\n",
    "    pred_test\n",
    "\n",
    "    a1 = pred_test1[[\"id\", \"target\", \"prediction_beforeRI\"]]\n",
    "    a2 = pred_test[[\"id\", \"Flag\", \"prediction_afterRI\"]]\n",
    "\n",
    "    # Join (outer to get full sample)\n",
    "    a1_a2_outer = pd.merge(a1, a2, how=\"outer\", on=\"id\")\n",
    "    # Join (inner to get only accepts and be able to compare)\n",
    "    a1_a2_inner = pd.merge(a1, a2, how=\"inner\", on=\"id\")\n",
    "    a1_a2_inner\n",
    "\n",
    "    # Make binary predictions based on cutoff 0.3\n",
    "    a1_a2_inner[\"prediction_beforeRI_binary\"] = a1_a2_inner[\n",
    "        \"prediction_beforeRI\"\n",
    "    ].apply(lambda x: 0 if (x < 0.3) else 1)\n",
    "    a1_a2_inner[\"prediction_afterRI_binary\"] = a1_a2_inner[\"prediction_afterRI\"].apply(\n",
    "        lambda x: 0 if (x < 0.3) else 1\n",
    "    )\n",
    "\n",
    "    print_results(a1_a2_inner, \"before RI\", \"prediction_beforeRI_binary\")\n",
    "    print_results(a1_a2_inner, \"after RI\", \"prediction_afterRI_binary\")"
   ]
  },
  {
   "cell_type": "code",
   "execution_count": null,
   "metadata": {},
   "outputs": [],
   "source": [
    "evaluation(ri1_train)  # Simple Augmentation - Log Reg"
   ]
  },
  {
   "cell_type": "code",
   "execution_count": null,
   "metadata": {},
   "outputs": [],
   "source": [
    "evaluation(ri2_train)  # Decision Tree"
   ]
  },
  {
   "cell_type": "code",
   "execution_count": null,
   "metadata": {},
   "outputs": [],
   "source": [
    "evaluation(ri3_train)  # Random Forest"
   ]
  },
  {
   "cell_type": "code",
   "execution_count": null,
   "metadata": {},
   "outputs": [],
   "source": [
    "evaluation(ri4_train)  # SVM"
   ]
  },
  {
   "cell_type": "code",
   "execution_count": null,
   "metadata": {},
   "outputs": [],
   "source": [
    "evaluation(ri5_train)  # K-Means on Accepts"
   ]
  },
  {
   "cell_type": "code",
   "execution_count": null,
   "metadata": {},
   "outputs": [],
   "source": [
    "evaluation(ri6_train)  # K-Means on Rejects"
   ]
  },
  {
   "cell_type": "code",
   "execution_count": null,
   "metadata": {},
   "outputs": [],
   "source": [
    "evaluation(ri7_train)  # Hierarchical clustering on Rejects"
   ]
  },
  {
   "cell_type": "code",
   "execution_count": null,
   "metadata": {},
   "outputs": [],
   "source": [
    "evaluation(ri8_train)  # LightGBM Ranking (treshold 0.2)"
   ]
  },
  {
   "cell_type": "code",
   "execution_count": null,
   "metadata": {},
   "outputs": [],
   "source": [
    "evaluation(ri9_train)  # LightGBM Ranking (treshold 0.1)"
   ]
  },
  {
   "cell_type": "code",
   "execution_count": null,
   "metadata": {},
   "outputs": [],
   "source": []
  },
  {
   "cell_type": "code",
   "execution_count": null,
   "metadata": {},
   "outputs": [],
   "source": []
  },
  {
   "cell_type": "code",
   "execution_count": null,
   "metadata": {},
   "outputs": [],
   "source": []
  },
  {
   "cell_type": "code",
   "execution_count": null,
   "metadata": {},
   "outputs": [],
   "source": []
  },
  {
   "cell_type": "markdown",
   "metadata": {},
   "source": [
    "## **DON'T RUN AFTER HERE**"
   ]
  },
  {
   "cell_type": "markdown",
   "metadata": {},
   "source": [
    "### Predictions: Logistic Regression"
   ]
  },
  {
   "cell_type": "code",
   "execution_count": null,
   "metadata": {},
   "outputs": [],
   "source": [
    "# Predictions\n",
    "rej_test_predictions = logreg.predict_proba(dfr_dev3)[:, 1]\n",
    "df_pred_rej = pd.DataFrame(\n",
    "    data=rej_test_predictions,\n",
    "    columns=[\"prediction_beforeRI\"],\n",
    "    index=dfr_dev2.index.copy(),\n",
    ")\n",
    "df_pred_rej[\"Rejects\"] = df_pred_rej.groupby(\"prediction_beforeRI\")[\n",
    "    \"prediction_beforeRI\"\n",
    "].transform(\"count\")\n",
    "df_pred_rej.groupby([\"prediction_beforeRI\"]).count()"
   ]
  },
  {
   "cell_type": "markdown",
   "metadata": {},
   "source": [
    "### Reject Inference: Simple Augmentation (arbitrary cutoff 0.3)"
   ]
  },
  {
   "cell_type": "code",
   "execution_count": null,
   "metadata": {},
   "outputs": [],
   "source": [
    "# Join predictions with train new\n",
    "pred_ri = logreg.predict_proba(dfr_dev3)[:, 1]\n",
    "pred_ri1 = pd.DataFrame(\n",
    "    data=pred_ri,\n",
    "    columns=[\"prediction2\"],\n",
    "    index=dfr_dev2.index.copy(),\n",
    ")\n",
    "pred_ri1[\"prediction_beforeRI\"] = pred_ri1[\"prediction2\"].apply(\n",
    "    lambda x: 0 if (x < 0.3) else 1\n",
    ")\n",
    "ri1 = pd.merge(\n",
    "    dfr_dev2,\n",
    "    pred_ri1[[\"prediction_beforeRI\"]],\n",
    "    how=\"inner\",\n",
    "    left_index=True,\n",
    "    right_index=True,\n",
    ")\n",
    "# pred_test1.dropna(subset=[\"prediction_beforeRI\"], inplace=True)\n",
    "ri1_train = ri1[[\"id\", \"prediction_beforeRI\"]]\n",
    "ri1_train"
   ]
  },
  {
   "cell_type": "markdown",
   "metadata": {},
   "source": [
    "### Predictions: Random Forest"
   ]
  },
  {
   "cell_type": "code",
   "execution_count": null,
   "metadata": {},
   "outputs": [],
   "source": [
    "# Join predictions with train new\n",
    "pred_rf_ri = clf.predict_proba(dfr_dev3)[:, 1]\n",
    "pred_rf_ri1 = pd.DataFrame(\n",
    "    data=pred_rf_ri,\n",
    "    columns=[\"prediction2\"],\n",
    "    index=dfr_dev2.index.copy(),\n",
    ")\n",
    "pred_rf_ri1[\"prediction_beforeRI\"] = pred_rf_ri1[\"prediction2\"].apply(\n",
    "    lambda x: 0 if (x < 0.3) else 1\n",
    ")\n",
    "ri4 = pd.merge(\n",
    "    dfr_dev2,\n",
    "    pred_rf_ri1[[\"prediction_beforeRI\"]],\n",
    "    how=\"inner\",\n",
    "    left_index=True,\n",
    "    right_index=True,\n",
    ")\n",
    "# pred_test1.dropna(subset=[\"prediction_beforeRI\"], inplace=True)\n",
    "ri4_train = ri4[[\"id\", \"prediction_beforeRI\"]]\n",
    "ri4_train"
   ]
  },
  {
   "cell_type": "markdown",
   "metadata": {},
   "source": [
    "#### Prepare Train New"
   ]
  },
  {
   "cell_type": "code",
   "execution_count": null,
   "metadata": {},
   "outputs": [],
   "source": [
    "# Join labels to train set\n",
    "# Accepts\n",
    "train_accepts = pd.merge(\n",
    "    os_data_X, os_data_y[[\"target\"]], how=\"left\", left_index=True, right_index=True\n",
    ")\n",
    "\n",
    "train_accepts[\"Flag1\"] = \"Accept\"\n",
    "\n",
    "# Rejects\n",
    "train_rejects = pd.merge(\n",
    "    dfr_dev2,\n",
    "    ri2_train[[\"prediction_beforeRI\"]],\n",
    "    how=\"left\",\n",
    "    left_index=True,\n",
    "    right_index=True,\n",
    ")\n",
    "\n",
    "# Drop Null values and align naming\n",
    "train_accepts.dropna(subset=[\"target\"], inplace=True)\n",
    "train_rejects.rename(columns={\"prediction_beforeRI\": \"target\"}, inplace=True)"
   ]
  },
  {
   "cell_type": "code",
   "execution_count": null,
   "metadata": {},
   "outputs": [],
   "source": [
    "# Concatenate Train Accepts and Train Rejects\n",
    "train_new = pd.concat([train_accepts, train_rejects])"
   ]
  },
  {
   "cell_type": "code",
   "execution_count": null,
   "metadata": {},
   "outputs": [],
   "source": [
    "train_new.shape  # As expected"
   ]
  },
  {
   "cell_type": "code",
   "execution_count": null,
   "metadata": {},
   "outputs": [],
   "source": [
    "# Flag\n",
    "train_new[\"Flag\"] = train_new[\"Flag1\"].apply(\n",
    "    lambda x: \"Accept\" if x == \"Accept\" else \"Reject\"\n",
    ")\n",
    "train_new = train_new.drop(columns=[\"Flag1\", \"DTI\", \"<=1k\", \">10k\"])"
   ]
  },
  {
   "cell_type": "code",
   "execution_count": null,
   "metadata": {},
   "outputs": [],
   "source": [
    "train_new"
   ]
  },
  {
   "cell_type": "code",
   "execution_count": null,
   "metadata": {},
   "outputs": [],
   "source": [
    "# Retrain KGB Model\n",
    "\n",
    "# Split\n",
    "X_new = train_new.loc[:, train_new.columns != \"target\"]\n",
    "X_new = X_new.loc[:, X_new.columns != \"Flag\"]\n",
    "y_new = train_new.loc[:, train_new.columns == \"target\"]\n",
    "X_train_new, X_test_new, y_train_new, y_test_new = train_test_split(\n",
    "    X_new, y_new, test_size=0.3, random_state=7\n",
    ")\n",
    "\n",
    "# Keep only columns for modelling\n",
    "os_data_X_2_new = X_train_new[\n",
    "    [\n",
    "        \"Good state\",\n",
    "        \"Bad state\",\n",
    "        \"1-2 years\",\n",
    "        \"<=0.1\",\n",
    "        \"0.1-0.2\",\n",
    "        \"0.3-0.4\",\n",
    "        \">0.4\",\n",
    "    ]\n",
    "]\n",
    "X_test_2_new = X_test_new[\n",
    "    [\n",
    "        \"Good state\",\n",
    "        \"Bad state\",\n",
    "        \"1-2 years\",\n",
    "        \"<=0.1\",\n",
    "        \"0.1-0.2\",\n",
    "        \"0.3-0.4\",\n",
    "        \">0.4\",\n",
    "    ]\n",
    "]\n",
    "\n",
    "# Build Logistic regression\n",
    "logreg = LogisticRegression(fit_intercept=False, penalty=\"none\")\n",
    "logreg.fit(os_data_X_2_new, y_train_new.values.ravel())"
   ]
  },
  {
   "cell_type": "markdown",
   "metadata": {},
   "source": [
    "#### Prepare Test New"
   ]
  },
  {
   "cell_type": "code",
   "execution_count": null,
   "metadata": {},
   "outputs": [],
   "source": [
    "# Join labels to test set\n",
    "# Accepts\n",
    "test_accepts = pd.merge(\n",
    "    X_test, y_test[[\"target\"]], how=\"left\", left_index=True, right_index=True\n",
    ")\n",
    "\n",
    "test_accepts[\"Flag1\"] = \"Accept\"\n",
    "\n",
    "# Rejects\n",
    "test_rejects = pd.merge(\n",
    "    dfr_test2,\n",
    "    ri2_test[[\"prediction_beforeRI\"]],\n",
    "    how=\"left\",\n",
    "    left_index=True,\n",
    "    right_index=True,\n",
    ")\n",
    "\n",
    "# Drop Null values and align naming\n",
    "test_accepts.dropna(subset=[\"target\"], inplace=True)\n",
    "test_rejects.rename(columns={\"prediction_beforeRI\": \"target\"}, inplace=True)\n",
    "test_rejects.dropna(subset=[\"target\"], inplace=True)"
   ]
  },
  {
   "cell_type": "code",
   "execution_count": null,
   "metadata": {},
   "outputs": [],
   "source": [
    "# Concatenate Test Accepts and Test Rejects\n",
    "test_new = pd.concat([test_accepts, test_rejects])"
   ]
  },
  {
   "cell_type": "code",
   "execution_count": null,
   "metadata": {},
   "outputs": [],
   "source": [
    "# Flag\n",
    "test_new[\"Flag\"] = test_new[\"Flag1\"].apply(\n",
    "    lambda x: \"Accept\" if x == \"Accept\" else \"Reject\"\n",
    ")\n",
    "test_new = test_new.drop(columns=[\"Flag1\", \"DTI\", \"<=1k\", \">10k\"])"
   ]
  },
  {
   "cell_type": "code",
   "execution_count": null,
   "metadata": {},
   "outputs": [],
   "source": [
    "test_new.shape  # As expected"
   ]
  },
  {
   "cell_type": "code",
   "execution_count": null,
   "metadata": {},
   "outputs": [],
   "source": [
    "test_new = test_new.reset_index(drop=True)"
   ]
  },
  {
   "cell_type": "code",
   "execution_count": null,
   "metadata": {},
   "outputs": [],
   "source": [
    "test_new"
   ]
  },
  {
   "cell_type": "code",
   "execution_count": null,
   "metadata": {},
   "outputs": [],
   "source": [
    "X_test_new = test_new.loc[:, train_new.columns != \"target\"]\n",
    "X_test_new2 = X_test_new.loc[:, X_test_new.columns != \"Flag\"]\n",
    "X_test_new3 = X_test_new2.loc[:, X_test_new2.columns != \"id\"]\n",
    "X_test_new4 = X_test_new3.loc[:, X_test_new3.columns != \">10k\"]\n",
    "y_test_new = test_new.loc[:, train_new.columns == \"target\"]"
   ]
  },
  {
   "cell_type": "markdown",
   "metadata": {},
   "source": [
    "#### Predictions"
   ]
  },
  {
   "cell_type": "code",
   "execution_count": null,
   "metadata": {},
   "outputs": [],
   "source": [
    "# Join predictions with test new\n",
    "test_new_pred = logreg.predict_proba(X_test_new4)[:, 1]\n",
    "pred_test_df = pd.DataFrame(\n",
    "    data=test_new_pred, columns=[\"prediction_afterRI\"], index=test_new.index.copy()\n",
    ")\n",
    "pred_test = pd.merge(\n",
    "    test_new,\n",
    "    pred_test_df[[\"prediction_afterRI\"]],\n",
    "    how=\"inner\",\n",
    "    left_index=True,\n",
    "    right_index=True,\n",
    ")\n",
    "# pred_test1.dropna(subset=[\"prediction_beforeRI\"], inplace=True)\n",
    "pred_test"
   ]
  },
  {
   "cell_type": "code",
   "execution_count": null,
   "metadata": {},
   "outputs": [],
   "source": [
    "a1 = pred_test1[[\"id\", \"target\", \"prediction_beforeRI\"]]\n",
    "a2 = pred_test[[\"id\", \"Flag\", \"prediction_afterRI\"]]"
   ]
  },
  {
   "cell_type": "code",
   "execution_count": null,
   "metadata": {},
   "outputs": [],
   "source": [
    "# Join (outer to get full sample)\n",
    "a1_a2_outer = pd.merge(a1, a2, how=\"outer\", on=\"id\")\n",
    "# Join (inner to get only accepts and be able to compare)\n",
    "a1_a2_inner = pd.merge(a1, a2, how=\"inner\", on=\"id\")\n",
    "a1_a2_inner"
   ]
  },
  {
   "cell_type": "code",
   "execution_count": null,
   "metadata": {},
   "outputs": [],
   "source": [
    "# Make binary predictions based on cutoff 0.3\n",
    "a1_a2_inner[\"prediction_beforeRI_binary\"] = a1_a2_inner[\"prediction_beforeRI\"].apply(\n",
    "    lambda x: 0 if (x < 0.3) else 1\n",
    ")\n",
    "a1_a2_inner[\"prediction_afterRI_binary\"] = a1_a2_inner[\"prediction_afterRI\"].apply(\n",
    "    lambda x: 0 if (x < 0.3) else 1\n",
    ")"
   ]
  },
  {
   "cell_type": "markdown",
   "metadata": {},
   "source": [
    "### Results"
   ]
  },
  {
   "cell_type": "code",
   "execution_count": null,
   "metadata": {},
   "outputs": [],
   "source": [
    "def print_results(data, state, prediction):\n",
    "    print(\n",
    "        \"The number of accurately classified cases \",\n",
    "        state,\n",
    "        \" is: \",\n",
    "        data[\n",
    "            (data.target == 1) & (data[prediction] == 1)\n",
    "            | (data.target == 0) & (data[prediction] == 0)\n",
    "        ].shape[0],\n",
    "    )\n",
    "    print(\n",
    "        \"The number of misclassified cases \",\n",
    "        state,\n",
    "        \" is: \",\n",
    "        data[\n",
    "            (data.target == 1) & (data[prediction] == 0)\n",
    "            | (data.target == 0) & (data[prediction] == 1)\n",
    "        ].shape[0],\n",
    "    )"
   ]
  },
  {
   "cell_type": "code",
   "execution_count": null,
   "metadata": {},
   "outputs": [],
   "source": [
    "print_results(a1_a2_inner, \"before RI\", \"prediction_beforeRI_binary\")\n",
    "print_results(a1_a2_inner, \"after RI\", \"prediction_afterRI_binary\")"
   ]
  },
  {
   "cell_type": "code",
   "execution_count": null,
   "metadata": {},
   "outputs": [],
   "source": [
    "### Test Clustering on Accepted population"
   ]
  },
  {
   "cell_type": "code",
   "execution_count": null,
   "metadata": {},
   "outputs": [],
   "source": []
  },
  {
   "cell_type": "code",
   "execution_count": null,
   "metadata": {},
   "outputs": [],
   "source": []
  },
  {
   "cell_type": "code",
   "execution_count": null,
   "metadata": {},
   "outputs": [],
   "source": []
  },
  {
   "cell_type": "code",
   "execution_count": null,
   "metadata": {},
   "outputs": [],
   "source": []
  },
  {
   "cell_type": "code",
   "execution_count": null,
   "metadata": {},
   "outputs": [],
   "source": []
  },
  {
   "cell_type": "code",
   "execution_count": null,
   "metadata": {},
   "outputs": [],
   "source": []
  },
  {
   "cell_type": "code",
   "execution_count": null,
   "metadata": {},
   "outputs": [],
   "source": []
  },
  {
   "cell_type": "markdown",
   "metadata": {},
   "source": [
    "### OPTICS"
   ]
  },
  {
   "cell_type": "code",
   "execution_count": null,
   "metadata": {},
   "outputs": [],
   "source": [
    "from sklearn.cluster import OPTICS"
   ]
  },
  {
   "cell_type": "code",
   "execution_count": null,
   "metadata": {},
   "outputs": [],
   "source": [
    "clustering = OPTICS(min_samples=2).fit(dfr3)\n",
    "clustering.labels_"
   ]
  },
  {
   "cell_type": "code",
   "execution_count": null,
   "metadata": {},
   "outputs": [],
   "source": [
    "clustering_optics"
   ]
  },
  {
   "cell_type": "code",
   "execution_count": null,
   "metadata": {},
   "outputs": [],
   "source": [
    "# Predictions\n",
    "clustering_optics = clustering.labels_\n",
    "clustering_optics = pd.DataFrame(\n",
    "    data=clustering_optics, columns=[\"prediction\"]\n",
    ")\n",
    "clustering_optics[\"Rejects\"] = clustering_optics.groupby(\"prediction\")[\n",
    "    \"prediction\"\n",
    "].transform(\"count\")\n",
    "clustering_optics.groupby([\"prediction\"]).count()"
   ]
  },
  {
   "cell_type": "markdown",
   "metadata": {},
   "source": [
    "### MeanShift"
   ]
  },
  {
   "cell_type": "code",
   "execution_count": null,
   "metadata": {},
   "outputs": [],
   "source": [
    "from sklearn.cluster import MeanShift"
   ]
  },
  {
   "cell_type": "code",
   "execution_count": null,
   "metadata": {},
   "outputs": [],
   "source": [
    "clustering2 = MeanShift(bandwidth=2).fit(dfr3)\n",
    "clustering2.labels_"
   ]
  },
  {
   "cell_type": "code",
   "execution_count": null,
   "metadata": {},
   "outputs": [],
   "source": [
    "# Predictions\n",
    "clustering_meanshift = clustering2.labels_\n",
    "clustering_meanshift = pd.DataFrame(\n",
    "    data=clustering_meanshift, columns=[\"prediction\"]\n",
    ")\n",
    "clustering_optics[\"Rejects\"] = clustering_meanshift.groupby(\"prediction\")[\n",
    "    \"prediction\"\n",
    "].transform(\"count\")\n",
    "clustering_meanshift.groupby([\"prediction\"]).count()"
   ]
  },
  {
   "cell_type": "markdown",
   "metadata": {},
   "source": [
    "### SVM"
   ]
  },
  {
   "cell_type": "code",
   "execution_count": null,
   "metadata": {},
   "outputs": [],
   "source": [
    "# Accepts\n",
    "clf = SVC(gamma=\"auto\", kernel=\"linear\")\n",
    "clf.fit(os_data_X_2, os_data_y.values.ravel())\n",
    "pred = clf.predict(X_test_2)"
   ]
  },
  {
   "cell_type": "code",
   "execution_count": null,
   "metadata": {},
   "outputs": [],
   "source": [
    "# Predictions\n",
    "rej_test_predictions_kmeans = clf.predict(dfr3)\n",
    "df_pred_rej_kmeans = pd.DataFrame(\n",
    "    data=rej_test_predictions_kmeans, columns=[\"prediction\"]\n",
    ")\n",
    "df_pred_rej_kmeans[\"Rejects\"] = df_pred_rej_kmeans.groupby(\"prediction\")[\n",
    "    \"prediction\"\n",
    "].transform(\"count\")\n",
    "df_pred_rej_kmeans.groupby([\"prediction\"]).count()"
   ]
  }
 ],
 "metadata": {
  "kernelspec": {
   "display_name": "Python 3",
   "language": "python",
   "name": "python3"
  },
  "language_info": {
   "codemirror_mode": {
    "name": "ipython",
    "version": 3
   },
   "file_extension": ".py",
   "mimetype": "text/x-python",
   "name": "python",
   "nbconvert_exporter": "python",
   "pygments_lexer": "ipython3",
   "version": "3.8.3"
  }
 },
 "nbformat": 4,
 "nbformat_minor": 4
}
