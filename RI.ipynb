{
 "cells": [
  {
   "cell_type": "code",
   "execution_count": 1,
   "metadata": {},
   "outputs": [
    {
     "data": {
      "application/javascript": [
       "\n",
       "            setTimeout(function() {\n",
       "                var nbb_cell_id = 1;\n",
       "                var nbb_unformatted_code = \"%reload_ext nb_black\";\n",
       "                var nbb_formatted_code = \"%reload_ext nb_black\";\n",
       "                var nbb_cells = Jupyter.notebook.get_cells();\n",
       "                for (var i = 0; i < nbb_cells.length; ++i) {\n",
       "                    if (nbb_cells[i].input_prompt_number == nbb_cell_id) {\n",
       "                        if (nbb_cells[i].get_text() == nbb_unformatted_code) {\n",
       "                             nbb_cells[i].set_text(nbb_formatted_code);\n",
       "                        }\n",
       "                        break;\n",
       "                    }\n",
       "                }\n",
       "            }, 500);\n",
       "            "
      ],
      "text/plain": [
       "<IPython.core.display.Javascript object>"
      ]
     },
     "metadata": {},
     "output_type": "display_data"
    }
   ],
   "source": [
    "%reload_ext nb_black"
   ]
  },
  {
   "cell_type": "code",
   "execution_count": 2,
   "metadata": {},
   "outputs": [
    {
     "data": {
      "application/javascript": [
       "\n",
       "            setTimeout(function() {\n",
       "                var nbb_cell_id = 2;\n",
       "                var nbb_unformatted_code = \"import warnings\\n\\nwarnings.filterwarnings(\\\"ignore\\\")\\n\\n# Basic Packages\\nimport pandas as pd\\nimport numpy as np\\nimport matplotlib.pyplot as plt\\n\\n# Modelling\\n# Classification\\nimport statsmodels.api as sm\\nfrom sklearn.linear_model import LogisticRegression, LinearRegression\\nfrom sklearn.ensemble import RandomForestClassifier\\nfrom sklearn.tree import DecisionTreeClassifier\\nfrom sklearn import svm\\n\\n# Clustering\\nfrom sklearn.cluster import KMeans, AgglomerativeClustering\\n\\n# Ranking\\nimport lightgbm as lgb\\n\\n# Model Selection\\nfrom sklearn.model_selection import train_test_split, GridSearchCV\\n\\n# Metrics\\nfrom sklearn.metrics import (\\n    f1_score,\\n    roc_auc_score,\\n    roc_curve,\\n    accuracy_score,\\n    confusion_matrix,\\n    plot_confusion_matrix,\\n)\\n\\n# Balancing\\nfrom imblearn.over_sampling import SMOTE\\nfrom imblearn.under_sampling import RandomUnderSampler\\n\\n# Visualization\\nimport seaborn as sns\\nimport matplotlib.pyplot as plt\\n\\n# Binning\\nimport woeBinningPandas\\n\\n# Create Unique ID\\nimport uuid\";\n",
       "                var nbb_formatted_code = \"import warnings\\n\\nwarnings.filterwarnings(\\\"ignore\\\")\\n\\n# Basic Packages\\nimport pandas as pd\\nimport numpy as np\\nimport matplotlib.pyplot as plt\\n\\n# Modelling\\n# Classification\\nimport statsmodels.api as sm\\nfrom sklearn.linear_model import LogisticRegression, LinearRegression\\nfrom sklearn.ensemble import RandomForestClassifier\\nfrom sklearn.tree import DecisionTreeClassifier\\nfrom sklearn import svm\\n\\n# Clustering\\nfrom sklearn.cluster import KMeans, AgglomerativeClustering\\n\\n# Ranking\\nimport lightgbm as lgb\\n\\n# Model Selection\\nfrom sklearn.model_selection import train_test_split, GridSearchCV\\n\\n# Metrics\\nfrom sklearn.metrics import (\\n    f1_score,\\n    roc_auc_score,\\n    roc_curve,\\n    accuracy_score,\\n    confusion_matrix,\\n    plot_confusion_matrix,\\n)\\n\\n# Balancing\\nfrom imblearn.over_sampling import SMOTE\\nfrom imblearn.under_sampling import RandomUnderSampler\\n\\n# Visualization\\nimport seaborn as sns\\nimport matplotlib.pyplot as plt\\n\\n# Binning\\nimport woeBinningPandas\\n\\n# Create Unique ID\\nimport uuid\";\n",
       "                var nbb_cells = Jupyter.notebook.get_cells();\n",
       "                for (var i = 0; i < nbb_cells.length; ++i) {\n",
       "                    if (nbb_cells[i].input_prompt_number == nbb_cell_id) {\n",
       "                        if (nbb_cells[i].get_text() == nbb_unformatted_code) {\n",
       "                             nbb_cells[i].set_text(nbb_formatted_code);\n",
       "                        }\n",
       "                        break;\n",
       "                    }\n",
       "                }\n",
       "            }, 500);\n",
       "            "
      ],
      "text/plain": [
       "<IPython.core.display.Javascript object>"
      ]
     },
     "metadata": {},
     "output_type": "display_data"
    }
   ],
   "source": [
    "import warnings\n",
    "\n",
    "warnings.filterwarnings(\"ignore\")\n",
    "\n",
    "# Basic Packages\n",
    "import pandas as pd\n",
    "import numpy as np\n",
    "import matplotlib.pyplot as plt\n",
    "\n",
    "# Modelling\n",
    "# Classification\n",
    "import statsmodels.api as sm\n",
    "from sklearn.linear_model import LogisticRegression, LinearRegression\n",
    "from sklearn.ensemble import RandomForestClassifier\n",
    "from sklearn.tree import DecisionTreeClassifier\n",
    "from sklearn import svm\n",
    "\n",
    "# Clustering\n",
    "from sklearn.cluster import KMeans, AgglomerativeClustering\n",
    "\n",
    "# Ranking\n",
    "import lightgbm as lgb\n",
    "\n",
    "# Model Selection\n",
    "from sklearn.model_selection import train_test_split, GridSearchCV\n",
    "\n",
    "# Metrics\n",
    "from sklearn.metrics import (\n",
    "    f1_score,\n",
    "    roc_auc_score,\n",
    "    roc_curve,\n",
    "    accuracy_score,\n",
    "    confusion_matrix,\n",
    "    plot_confusion_matrix,\n",
    ")\n",
    "\n",
    "# Balancing\n",
    "from imblearn.over_sampling import SMOTE\n",
    "from imblearn.under_sampling import RandomUnderSampler\n",
    "\n",
    "# Visualization\n",
    "import seaborn as sns\n",
    "import matplotlib.pyplot as plt\n",
    "\n",
    "# Binning\n",
    "import woeBinningPandas\n",
    "\n",
    "# Create Unique ID\n",
    "import uuid"
   ]
  },
  {
   "cell_type": "markdown",
   "metadata": {},
   "source": [
    "Data: https://www.kaggle.com/wordsforthewise/lending-club"
   ]
  },
  {
   "cell_type": "code",
   "execution_count": 3,
   "metadata": {},
   "outputs": [
    {
     "data": {
      "application/javascript": [
       "\n",
       "            setTimeout(function() {\n",
       "                var nbb_cell_id = 3;\n",
       "                var nbb_unformatted_code = \"# Read data\\naccepted = pd.read_csv(\\\"accepted_2007_to_2018Q4.csv\\\", low_memory=False)\\nrejected = pd.read_csv(\\\"rejected_2007_to_2018Q4.csv\\\", low_memory=False)\";\n",
       "                var nbb_formatted_code = \"# Read data\\naccepted = pd.read_csv(\\\"accepted_2007_to_2018Q4.csv\\\", low_memory=False)\\nrejected = pd.read_csv(\\\"rejected_2007_to_2018Q4.csv\\\", low_memory=False)\";\n",
       "                var nbb_cells = Jupyter.notebook.get_cells();\n",
       "                for (var i = 0; i < nbb_cells.length; ++i) {\n",
       "                    if (nbb_cells[i].input_prompt_number == nbb_cell_id) {\n",
       "                        if (nbb_cells[i].get_text() == nbb_unformatted_code) {\n",
       "                             nbb_cells[i].set_text(nbb_formatted_code);\n",
       "                        }\n",
       "                        break;\n",
       "                    }\n",
       "                }\n",
       "            }, 500);\n",
       "            "
      ],
      "text/plain": [
       "<IPython.core.display.Javascript object>"
      ]
     },
     "metadata": {},
     "output_type": "display_data"
    }
   ],
   "source": [
    "# Read data\n",
    "accepted = pd.read_csv(\"accepted_2007_to_2018Q4.csv\", low_memory=False)\n",
    "rejected = pd.read_csv(\"rejected_2007_to_2018Q4.csv\", low_memory=False)"
   ]
  },
  {
   "cell_type": "code",
   "execution_count": 4,
   "metadata": {},
   "outputs": [
    {
     "name": "stdout",
     "output_type": "stream",
     "text": [
      "(2260701, 151)\n",
      "(27648741, 9)\n"
     ]
    },
    {
     "data": {
      "application/javascript": [
       "\n",
       "            setTimeout(function() {\n",
       "                var nbb_cell_id = 4;\n",
       "                var nbb_unformatted_code = \"print(accepted.shape)\\nprint(rejected.shape)\";\n",
       "                var nbb_formatted_code = \"print(accepted.shape)\\nprint(rejected.shape)\";\n",
       "                var nbb_cells = Jupyter.notebook.get_cells();\n",
       "                for (var i = 0; i < nbb_cells.length; ++i) {\n",
       "                    if (nbb_cells[i].input_prompt_number == nbb_cell_id) {\n",
       "                        if (nbb_cells[i].get_text() == nbb_unformatted_code) {\n",
       "                             nbb_cells[i].set_text(nbb_formatted_code);\n",
       "                        }\n",
       "                        break;\n",
       "                    }\n",
       "                }\n",
       "            }, 500);\n",
       "            "
      ],
      "text/plain": [
       "<IPython.core.display.Javascript object>"
      ]
     },
     "metadata": {},
     "output_type": "display_data"
    }
   ],
   "source": [
    "print(accepted.shape)\n",
    "print(rejected.shape)"
   ]
  },
  {
   "cell_type": "markdown",
   "metadata": {},
   "source": [
    "## Preprocessing"
   ]
  },
  {
   "cell_type": "code",
   "execution_count": 5,
   "metadata": {},
   "outputs": [
    {
     "data": {
      "application/javascript": [
       "\n",
       "            setTimeout(function() {\n",
       "                var nbb_cell_id = 5;\n",
       "                var nbb_unformatted_code = \"# Sample 100k obs. for easy processing\\naccepted_small = accepted.sample(n=25000, random_state=7)\\naccepted_small.reset_index(drop=True, inplace=True)\";\n",
       "                var nbb_formatted_code = \"# Sample 100k obs. for easy processing\\naccepted_small = accepted.sample(n=25000, random_state=7)\\naccepted_small.reset_index(drop=True, inplace=True)\";\n",
       "                var nbb_cells = Jupyter.notebook.get_cells();\n",
       "                for (var i = 0; i < nbb_cells.length; ++i) {\n",
       "                    if (nbb_cells[i].input_prompt_number == nbb_cell_id) {\n",
       "                        if (nbb_cells[i].get_text() == nbb_unformatted_code) {\n",
       "                             nbb_cells[i].set_text(nbb_formatted_code);\n",
       "                        }\n",
       "                        break;\n",
       "                    }\n",
       "                }\n",
       "            }, 500);\n",
       "            "
      ],
      "text/plain": [
       "<IPython.core.display.Javascript object>"
      ]
     },
     "metadata": {},
     "output_type": "display_data"
    }
   ],
   "source": [
    "# Sample 100k obs. for easy processing\n",
    "accepted_small = accepted.sample(n=25000, random_state=7)\n",
    "accepted_small.reset_index(drop=True, inplace=True)"
   ]
  },
  {
   "cell_type": "code",
   "execution_count": 6,
   "metadata": {},
   "outputs": [
    {
     "data": {
      "application/javascript": [
       "\n",
       "            setTimeout(function() {\n",
       "                var nbb_cell_id = 6;\n",
       "                var nbb_unformatted_code = \"# Create Default Flag\\naccepted_small[\\\"target\\\"] = accepted_small[\\\"loan_status\\\"].apply(\\n    lambda x: 1 if x == \\\"Charged Off\\\" else (0 if x == \\\"Fully Paid\\\" else 2)\\n)\";\n",
       "                var nbb_formatted_code = \"# Create Default Flag\\naccepted_small[\\\"target\\\"] = accepted_small[\\\"loan_status\\\"].apply(\\n    lambda x: 1 if x == \\\"Charged Off\\\" else (0 if x == \\\"Fully Paid\\\" else 2)\\n)\";\n",
       "                var nbb_cells = Jupyter.notebook.get_cells();\n",
       "                for (var i = 0; i < nbb_cells.length; ++i) {\n",
       "                    if (nbb_cells[i].input_prompt_number == nbb_cell_id) {\n",
       "                        if (nbb_cells[i].get_text() == nbb_unformatted_code) {\n",
       "                             nbb_cells[i].set_text(nbb_formatted_code);\n",
       "                        }\n",
       "                        break;\n",
       "                    }\n",
       "                }\n",
       "            }, 500);\n",
       "            "
      ],
      "text/plain": [
       "<IPython.core.display.Javascript object>"
      ]
     },
     "metadata": {},
     "output_type": "display_data"
    }
   ],
   "source": [
    "# Create Default Flag\n",
    "accepted_small[\"target\"] = accepted_small[\"loan_status\"].apply(\n",
    "    lambda x: 1 if x == \"Charged Off\" else (0 if x == \"Fully Paid\" else 2)\n",
    ")"
   ]
  },
  {
   "cell_type": "code",
   "execution_count": 7,
   "metadata": {},
   "outputs": [
    {
     "data": {
      "text/plain": [
       "(14838, 152)"
      ]
     },
     "execution_count": 7,
     "metadata": {},
     "output_type": "execute_result"
    },
    {
     "data": {
      "application/javascript": [
       "\n",
       "            setTimeout(function() {\n",
       "                var nbb_cell_id = 7;\n",
       "                var nbb_unformatted_code = \"# Remove Current and Missings\\naccepted_small = accepted_small.loc[accepted_small[\\\"target\\\"] != 2]\\naccepted_small.shape\";\n",
       "                var nbb_formatted_code = \"# Remove Current and Missings\\naccepted_small = accepted_small.loc[accepted_small[\\\"target\\\"] != 2]\\naccepted_small.shape\";\n",
       "                var nbb_cells = Jupyter.notebook.get_cells();\n",
       "                for (var i = 0; i < nbb_cells.length; ++i) {\n",
       "                    if (nbb_cells[i].input_prompt_number == nbb_cell_id) {\n",
       "                        if (nbb_cells[i].get_text() == nbb_unformatted_code) {\n",
       "                             nbb_cells[i].set_text(nbb_formatted_code);\n",
       "                        }\n",
       "                        break;\n",
       "                    }\n",
       "                }\n",
       "            }, 500);\n",
       "            "
      ],
      "text/plain": [
       "<IPython.core.display.Javascript object>"
      ]
     },
     "metadata": {},
     "output_type": "display_data"
    }
   ],
   "source": [
    "# Remove Current and Missings\n",
    "accepted_small = accepted_small.loc[accepted_small[\"target\"] != 2]\n",
    "accepted_small.shape"
   ]
  },
  {
   "cell_type": "code",
   "execution_count": 8,
   "metadata": {},
   "outputs": [
    {
     "data": {
      "text/html": [
       "<div>\n",
       "<style scoped>\n",
       "    .dataframe tbody tr th:only-of-type {\n",
       "        vertical-align: middle;\n",
       "    }\n",
       "\n",
       "    .dataframe tbody tr th {\n",
       "        vertical-align: top;\n",
       "    }\n",
       "\n",
       "    .dataframe thead th {\n",
       "        text-align: right;\n",
       "    }\n",
       "</style>\n",
       "<table border=\"1\" class=\"dataframe\">\n",
       "  <thead>\n",
       "    <tr style=\"text-align: right;\">\n",
       "      <th>loan_status</th>\n",
       "      <th>Charged Off</th>\n",
       "      <th>Fully Paid</th>\n",
       "    </tr>\n",
       "    <tr>\n",
       "      <th>target</th>\n",
       "      <th></th>\n",
       "      <th></th>\n",
       "    </tr>\n",
       "  </thead>\n",
       "  <tbody>\n",
       "    <tr>\n",
       "      <th>0</th>\n",
       "      <td>0</td>\n",
       "      <td>11809</td>\n",
       "    </tr>\n",
       "    <tr>\n",
       "      <th>1</th>\n",
       "      <td>3029</td>\n",
       "      <td>0</td>\n",
       "    </tr>\n",
       "  </tbody>\n",
       "</table>\n",
       "</div>"
      ],
      "text/plain": [
       "loan_status  Charged Off  Fully Paid\n",
       "target                              \n",
       "0                      0       11809\n",
       "1                   3029           0"
      ]
     },
     "execution_count": 8,
     "metadata": {},
     "output_type": "execute_result"
    },
    {
     "data": {
      "application/javascript": [
       "\n",
       "            setTimeout(function() {\n",
       "                var nbb_cell_id = 8;\n",
       "                var nbb_unformatted_code = \"pd.crosstab(accepted_small[\\\"target\\\"], accepted_small[\\\"loan_status\\\"])\";\n",
       "                var nbb_formatted_code = \"pd.crosstab(accepted_small[\\\"target\\\"], accepted_small[\\\"loan_status\\\"])\";\n",
       "                var nbb_cells = Jupyter.notebook.get_cells();\n",
       "                for (var i = 0; i < nbb_cells.length; ++i) {\n",
       "                    if (nbb_cells[i].input_prompt_number == nbb_cell_id) {\n",
       "                        if (nbb_cells[i].get_text() == nbb_unformatted_code) {\n",
       "                             nbb_cells[i].set_text(nbb_formatted_code);\n",
       "                        }\n",
       "                        break;\n",
       "                    }\n",
       "                }\n",
       "            }, 500);\n",
       "            "
      ],
      "text/plain": [
       "<IPython.core.display.Javascript object>"
      ]
     },
     "metadata": {},
     "output_type": "display_data"
    }
   ],
   "source": [
    "pd.crosstab(accepted_small[\"target\"], accepted_small[\"loan_status\"])"
   ]
  },
  {
   "cell_type": "markdown",
   "metadata": {},
   "source": [
    "The dataset is imbalanced"
   ]
  },
  {
   "cell_type": "markdown",
   "metadata": {},
   "source": [
    "## Bucketing"
   ]
  },
  {
   "cell_type": "code",
   "execution_count": 9,
   "metadata": {},
   "outputs": [
    {
     "data": {
      "application/javascript": [
       "\n",
       "            setTimeout(function() {\n",
       "                var nbb_cell_id = 9;\n",
       "                var nbb_unformatted_code = \"# Keep only 4 explanatory variables for quick and dirty PD model\\ndf = accepted_small[\\n    [\\\"id\\\", \\\"target\\\", \\\"loan_amnt\\\", \\\"addr_state\\\", \\\"emp_length\\\", \\\"annual_inc\\\"]\\n]\";\n",
       "                var nbb_formatted_code = \"# Keep only 4 explanatory variables for quick and dirty PD model\\ndf = accepted_small[\\n    [\\\"id\\\", \\\"target\\\", \\\"loan_amnt\\\", \\\"addr_state\\\", \\\"emp_length\\\", \\\"annual_inc\\\"]\\n]\";\n",
       "                var nbb_cells = Jupyter.notebook.get_cells();\n",
       "                for (var i = 0; i < nbb_cells.length; ++i) {\n",
       "                    if (nbb_cells[i].input_prompt_number == nbb_cell_id) {\n",
       "                        if (nbb_cells[i].get_text() == nbb_unformatted_code) {\n",
       "                             nbb_cells[i].set_text(nbb_formatted_code);\n",
       "                        }\n",
       "                        break;\n",
       "                    }\n",
       "                }\n",
       "            }, 500);\n",
       "            "
      ],
      "text/plain": [
       "<IPython.core.display.Javascript object>"
      ]
     },
     "metadata": {},
     "output_type": "display_data"
    }
   ],
   "source": [
    "# Keep only 4 explanatory variables for quick and dirty PD model\n",
    "df = accepted_small[\n",
    "    [\"id\", \"target\", \"loan_amnt\", \"addr_state\", \"emp_length\", \"annual_inc\"]\n",
    "]"
   ]
  },
  {
   "cell_type": "code",
   "execution_count": 10,
   "metadata": {},
   "outputs": [
    {
     "data": {
      "application/javascript": [
       "\n",
       "            setTimeout(function() {\n",
       "                var nbb_cell_id = 10;\n",
       "                var nbb_unformatted_code = \"# Create Debt to Income and delete input variable from dataset\\ndf[\\\"DTI\\\"] = df[\\\"loan_amnt\\\"] / df[\\\"annual_inc\\\"]\\ndel df[\\\"annual_inc\\\"]\";\n",
       "                var nbb_formatted_code = \"# Create Debt to Income and delete input variable from dataset\\ndf[\\\"DTI\\\"] = df[\\\"loan_amnt\\\"] / df[\\\"annual_inc\\\"]\\ndel df[\\\"annual_inc\\\"]\";\n",
       "                var nbb_cells = Jupyter.notebook.get_cells();\n",
       "                for (var i = 0; i < nbb_cells.length; ++i) {\n",
       "                    if (nbb_cells[i].input_prompt_number == nbb_cell_id) {\n",
       "                        if (nbb_cells[i].get_text() == nbb_unformatted_code) {\n",
       "                             nbb_cells[i].set_text(nbb_formatted_code);\n",
       "                        }\n",
       "                        break;\n",
       "                    }\n",
       "                }\n",
       "            }, 500);\n",
       "            "
      ],
      "text/plain": [
       "<IPython.core.display.Javascript object>"
      ]
     },
     "metadata": {},
     "output_type": "display_data"
    }
   ],
   "source": [
    "# Create Debt to Income and delete input variable from dataset\n",
    "df[\"DTI\"] = df[\"loan_amnt\"] / df[\"annual_inc\"]\n",
    "del df[\"annual_inc\"]"
   ]
  },
  {
   "cell_type": "code",
   "execution_count": 11,
   "metadata": {},
   "outputs": [
    {
     "data": {
      "application/javascript": [
       "\n",
       "            setTimeout(function() {\n",
       "                var nbb_cell_id = 11;\n",
       "                var nbb_unformatted_code = \"def start_pipeline(data):\\n    return data.copy()\";\n",
       "                var nbb_formatted_code = \"def start_pipeline(data):\\n    return data.copy()\";\n",
       "                var nbb_cells = Jupyter.notebook.get_cells();\n",
       "                for (var i = 0; i < nbb_cells.length; ++i) {\n",
       "                    if (nbb_cells[i].input_prompt_number == nbb_cell_id) {\n",
       "                        if (nbb_cells[i].get_text() == nbb_unformatted_code) {\n",
       "                             nbb_cells[i].set_text(nbb_formatted_code);\n",
       "                        }\n",
       "                        break;\n",
       "                    }\n",
       "                }\n",
       "            }, 500);\n",
       "            "
      ],
      "text/plain": [
       "<IPython.core.display.Javascript object>"
      ]
     },
     "metadata": {},
     "output_type": "display_data"
    }
   ],
   "source": [
    "def start_pipeline(data):\n",
    "    return data.copy()"
   ]
  },
  {
   "cell_type": "code",
   "execution_count": 12,
   "metadata": {},
   "outputs": [
    {
     "data": {
      "application/javascript": [
       "\n",
       "            setTimeout(function() {\n",
       "                var nbb_cell_id = 12;\n",
       "                var nbb_unformatted_code = \"def DTI_binning(x):\\n    if x <= 0.1:\\n        return \\\"<=0.1\\\"\\n    elif x > 0.1 and x <= 0.2:\\n        return \\\"0.1-0.2\\\"\\n    elif x > 0.2 and x <= 0.3:\\n        return \\\"0.2-0.3\\\"\\n    elif x > 0.3 and x <= 0.4:\\n        return \\\"0.3-0.4\\\"\\n    else:\\n        return \\\">0.4\\\"\";\n",
       "                var nbb_formatted_code = \"def DTI_binning(x):\\n    if x <= 0.1:\\n        return \\\"<=0.1\\\"\\n    elif x > 0.1 and x <= 0.2:\\n        return \\\"0.1-0.2\\\"\\n    elif x > 0.2 and x <= 0.3:\\n        return \\\"0.2-0.3\\\"\\n    elif x > 0.3 and x <= 0.4:\\n        return \\\"0.3-0.4\\\"\\n    else:\\n        return \\\">0.4\\\"\";\n",
       "                var nbb_cells = Jupyter.notebook.get_cells();\n",
       "                for (var i = 0; i < nbb_cells.length; ++i) {\n",
       "                    if (nbb_cells[i].input_prompt_number == nbb_cell_id) {\n",
       "                        if (nbb_cells[i].get_text() == nbb_unformatted_code) {\n",
       "                             nbb_cells[i].set_text(nbb_formatted_code);\n",
       "                        }\n",
       "                        break;\n",
       "                    }\n",
       "                }\n",
       "            }, 500);\n",
       "            "
      ],
      "text/plain": [
       "<IPython.core.display.Javascript object>"
      ]
     },
     "metadata": {},
     "output_type": "display_data"
    }
   ],
   "source": [
    "def DTI_binning(x):\n",
    "    if x <= 0.1:\n",
    "        return \"<=0.1\"\n",
    "    elif x > 0.1 and x <= 0.2:\n",
    "        return \"0.1-0.2\"\n",
    "    elif x > 0.2 and x <= 0.3:\n",
    "        return \"0.2-0.3\"\n",
    "    elif x > 0.3 and x <= 0.4:\n",
    "        return \"0.3-0.4\"\n",
    "    else:\n",
    "        return \">0.4\""
   ]
  },
  {
   "cell_type": "code",
   "execution_count": 13,
   "metadata": {},
   "outputs": [
    {
     "data": {
      "text/html": [
       "<div>\n",
       "<style scoped>\n",
       "    .dataframe tbody tr th:only-of-type {\n",
       "        vertical-align: middle;\n",
       "    }\n",
       "\n",
       "    .dataframe tbody tr th {\n",
       "        vertical-align: top;\n",
       "    }\n",
       "\n",
       "    .dataframe thead th {\n",
       "        text-align: right;\n",
       "    }\n",
       "</style>\n",
       "<table border=\"1\" class=\"dataframe\">\n",
       "  <thead>\n",
       "    <tr style=\"text-align: right;\">\n",
       "      <th></th>\n",
       "      <th>woe</th>\n",
       "      <th>cutpoints_final</th>\n",
       "      <th>upper_cutpoints_final_dfrm</th>\n",
       "      <th>iv_total_final</th>\n",
       "      <th>good</th>\n",
       "      <th>bad</th>\n",
       "      <th>col_perc_a</th>\n",
       "      <th>col_perc_b</th>\n",
       "      <th>iv_bins</th>\n",
       "    </tr>\n",
       "    <tr>\n",
       "      <th>predictor_var_binned</th>\n",
       "      <th></th>\n",
       "      <th></th>\n",
       "      <th></th>\n",
       "      <th></th>\n",
       "      <th></th>\n",
       "      <th></th>\n",
       "      <th></th>\n",
       "      <th></th>\n",
       "      <th></th>\n",
       "    </tr>\n",
       "  </thead>\n",
       "  <tbody>\n",
       "    <tr>\n",
       "      <th>(-inf, 0.2]</th>\n",
       "      <td>30.659667</td>\n",
       "      <td>-inf</td>\n",
       "      <td>inf</td>\n",
       "      <td>0.083945</td>\n",
       "      <td>6447</td>\n",
       "      <td>1217</td>\n",
       "      <td>0.54594</td>\n",
       "      <td>0.401783</td>\n",
       "      <td>0.044198</td>\n",
       "    </tr>\n",
       "    <tr>\n",
       "      <th>(0.2, inf]</th>\n",
       "      <td>-27.572359</td>\n",
       "      <td>inf</td>\n",
       "      <td>Missing</td>\n",
       "      <td>0.083945</td>\n",
       "      <td>5362</td>\n",
       "      <td>1812</td>\n",
       "      <td>0.45406</td>\n",
       "      <td>0.598217</td>\n",
       "      <td>0.039747</td>\n",
       "    </tr>\n",
       "    <tr>\n",
       "      <th>Missing</th>\n",
       "      <td>NaN</td>\n",
       "      <td>NaN</td>\n",
       "      <td>NaN</td>\n",
       "      <td>0.083945</td>\n",
       "      <td>0</td>\n",
       "      <td>0</td>\n",
       "      <td>0.00000</td>\n",
       "      <td>0.000000</td>\n",
       "      <td>NaN</td>\n",
       "    </tr>\n",
       "  </tbody>\n",
       "</table>\n",
       "</div>"
      ],
      "text/plain": [
       "                            woe  cutpoints_final upper_cutpoints_final_dfrm  \\\n",
       "predictor_var_binned                                                          \n",
       "(-inf, 0.2]           30.659667             -inf                        inf   \n",
       "(0.2, inf]           -27.572359              inf                    Missing   \n",
       "Missing                     NaN              NaN                        NaN   \n",
       "\n",
       "                      iv_total_final  good   bad  col_perc_a  col_perc_b  \\\n",
       "predictor_var_binned                                                       \n",
       "(-inf, 0.2]                 0.083945  6447  1217     0.54594    0.401783   \n",
       "(0.2, inf]                  0.083945  5362  1812     0.45406    0.598217   \n",
       "Missing                     0.083945     0     0     0.00000    0.000000   \n",
       "\n",
       "                       iv_bins  \n",
       "predictor_var_binned            \n",
       "(-inf, 0.2]           0.044198  \n",
       "(0.2, inf]            0.039747  \n",
       "Missing                    NaN  "
      ]
     },
     "execution_count": 13,
     "metadata": {},
     "output_type": "execute_result"
    },
    {
     "data": {
      "application/javascript": [
       "\n",
       "            setTimeout(function() {\n",
       "                var nbb_cell_id = 13;\n",
       "                var nbb_unformatted_code = \"# DTI\\nbinning_dti = woeBinningPandas.woe_binning(\\n    df, \\\"target\\\", \\\"DTI\\\", 0.1, 0.1, 50, 100, \\\"bad\\\"\\n)\\nbinning_dti\";\n",
       "                var nbb_formatted_code = \"# DTI\\nbinning_dti = woeBinningPandas.woe_binning(\\n    df, \\\"target\\\", \\\"DTI\\\", 0.1, 0.1, 50, 100, \\\"bad\\\"\\n)\\nbinning_dti\";\n",
       "                var nbb_cells = Jupyter.notebook.get_cells();\n",
       "                for (var i = 0; i < nbb_cells.length; ++i) {\n",
       "                    if (nbb_cells[i].input_prompt_number == nbb_cell_id) {\n",
       "                        if (nbb_cells[i].get_text() == nbb_unformatted_code) {\n",
       "                             nbb_cells[i].set_text(nbb_formatted_code);\n",
       "                        }\n",
       "                        break;\n",
       "                    }\n",
       "                }\n",
       "            }, 500);\n",
       "            "
      ],
      "text/plain": [
       "<IPython.core.display.Javascript object>"
      ]
     },
     "metadata": {},
     "output_type": "display_data"
    }
   ],
   "source": [
    "# DTI\n",
    "binning_dti = woeBinningPandas.woe_binning(\n",
    "    df, \"target\", \"DTI\", 0.1, 0.1, 50, 100, \"bad\"\n",
    ")\n",
    "binning_dti"
   ]
  },
  {
   "cell_type": "code",
   "execution_count": 14,
   "metadata": {},
   "outputs": [
    {
     "data": {
      "text/html": [
       "<div>\n",
       "<style scoped>\n",
       "    .dataframe tbody tr th:only-of-type {\n",
       "        vertical-align: middle;\n",
       "    }\n",
       "\n",
       "    .dataframe tbody tr th {\n",
       "        vertical-align: top;\n",
       "    }\n",
       "\n",
       "    .dataframe thead th {\n",
       "        text-align: right;\n",
       "    }\n",
       "</style>\n",
       "<table border=\"1\" class=\"dataframe\">\n",
       "  <thead>\n",
       "    <tr style=\"text-align: right;\">\n",
       "      <th></th>\n",
       "      <th>Group_2</th>\n",
       "      <th>Group_1</th>\n",
       "      <th>woe</th>\n",
       "      <th>iv_total_final</th>\n",
       "      <th>good</th>\n",
       "      <th>bad</th>\n",
       "      <th>col_perc_a</th>\n",
       "      <th>col_perc_b</th>\n",
       "      <th>iv_bins</th>\n",
       "    </tr>\n",
       "  </thead>\n",
       "  <tbody>\n",
       "    <tr>\n",
       "      <th>2</th>\n",
       "      <td>misc. level neg.</td>\n",
       "      <td>2 years</td>\n",
       "      <td>-11.550008</td>\n",
       "      <td>0.006977</td>\n",
       "      <td>3654</td>\n",
       "      <td>1052</td>\n",
       "      <td>0.309425</td>\n",
       "      <td>0.347309</td>\n",
       "      <td>0.004376</td>\n",
       "    </tr>\n",
       "    <tr>\n",
       "      <th>0</th>\n",
       "      <td>misc. level neg.</td>\n",
       "      <td>1 year</td>\n",
       "      <td>-11.550008</td>\n",
       "      <td>0.006977</td>\n",
       "      <td>3654</td>\n",
       "      <td>1052</td>\n",
       "      <td>0.309425</td>\n",
       "      <td>0.347309</td>\n",
       "      <td>0.004376</td>\n",
       "    </tr>\n",
       "    <tr>\n",
       "      <th>4</th>\n",
       "      <td>misc. level neg.</td>\n",
       "      <td>4 years</td>\n",
       "      <td>-11.550008</td>\n",
       "      <td>0.006977</td>\n",
       "      <td>3654</td>\n",
       "      <td>1052</td>\n",
       "      <td>0.309425</td>\n",
       "      <td>0.347309</td>\n",
       "      <td>0.004376</td>\n",
       "    </tr>\n",
       "    <tr>\n",
       "      <th>11</th>\n",
       "      <td>misc. level neg.</td>\n",
       "      <td>Missing</td>\n",
       "      <td>-11.550008</td>\n",
       "      <td>0.006977</td>\n",
       "      <td>3654</td>\n",
       "      <td>1052</td>\n",
       "      <td>0.309425</td>\n",
       "      <td>0.347309</td>\n",
       "      <td>0.004376</td>\n",
       "    </tr>\n",
       "    <tr>\n",
       "      <th>8</th>\n",
       "      <td>misc. level neg.</td>\n",
       "      <td>8 years</td>\n",
       "      <td>-11.550008</td>\n",
       "      <td>0.006977</td>\n",
       "      <td>3654</td>\n",
       "      <td>1052</td>\n",
       "      <td>0.309425</td>\n",
       "      <td>0.347309</td>\n",
       "      <td>0.004376</td>\n",
       "    </tr>\n",
       "    <tr>\n",
       "      <th>1</th>\n",
       "      <td>10+ years</td>\n",
       "      <td>10+ years</td>\n",
       "      <td>2.904113</td>\n",
       "      <td>0.006977</td>\n",
       "      <td>3857</td>\n",
       "      <td>961</td>\n",
       "      <td>0.326615</td>\n",
       "      <td>0.317266</td>\n",
       "      <td>0.000272</td>\n",
       "    </tr>\n",
       "    <tr>\n",
       "      <th>9</th>\n",
       "      <td>misc. level pos.</td>\n",
       "      <td>9 years</td>\n",
       "      <td>8.164703</td>\n",
       "      <td>0.006977</td>\n",
       "      <td>4298</td>\n",
       "      <td>1016</td>\n",
       "      <td>0.363960</td>\n",
       "      <td>0.335424</td>\n",
       "      <td>0.002330</td>\n",
       "    </tr>\n",
       "    <tr>\n",
       "      <th>7</th>\n",
       "      <td>misc. level pos.</td>\n",
       "      <td>7 years</td>\n",
       "      <td>8.164703</td>\n",
       "      <td>0.006977</td>\n",
       "      <td>4298</td>\n",
       "      <td>1016</td>\n",
       "      <td>0.363960</td>\n",
       "      <td>0.335424</td>\n",
       "      <td>0.002330</td>\n",
       "    </tr>\n",
       "    <tr>\n",
       "      <th>6</th>\n",
       "      <td>misc. level pos.</td>\n",
       "      <td>6 years</td>\n",
       "      <td>8.164703</td>\n",
       "      <td>0.006977</td>\n",
       "      <td>4298</td>\n",
       "      <td>1016</td>\n",
       "      <td>0.363960</td>\n",
       "      <td>0.335424</td>\n",
       "      <td>0.002330</td>\n",
       "    </tr>\n",
       "    <tr>\n",
       "      <th>5</th>\n",
       "      <td>misc. level pos.</td>\n",
       "      <td>5 years</td>\n",
       "      <td>8.164703</td>\n",
       "      <td>0.006977</td>\n",
       "      <td>4298</td>\n",
       "      <td>1016</td>\n",
       "      <td>0.363960</td>\n",
       "      <td>0.335424</td>\n",
       "      <td>0.002330</td>\n",
       "    </tr>\n",
       "    <tr>\n",
       "      <th>10</th>\n",
       "      <td>misc. level pos.</td>\n",
       "      <td>&lt; 1 year</td>\n",
       "      <td>8.164703</td>\n",
       "      <td>0.006977</td>\n",
       "      <td>4298</td>\n",
       "      <td>1016</td>\n",
       "      <td>0.363960</td>\n",
       "      <td>0.335424</td>\n",
       "      <td>0.002330</td>\n",
       "    </tr>\n",
       "    <tr>\n",
       "      <th>3</th>\n",
       "      <td>misc. level pos.</td>\n",
       "      <td>3 years</td>\n",
       "      <td>8.164703</td>\n",
       "      <td>0.006977</td>\n",
       "      <td>4298</td>\n",
       "      <td>1016</td>\n",
       "      <td>0.363960</td>\n",
       "      <td>0.335424</td>\n",
       "      <td>0.002330</td>\n",
       "    </tr>\n",
       "  </tbody>\n",
       "</table>\n",
       "</div>"
      ],
      "text/plain": [
       "             Group_2    Group_1        woe  iv_total_final  good   bad  \\\n",
       "2   misc. level neg.    2 years -11.550008        0.006977  3654  1052   \n",
       "0   misc. level neg.     1 year -11.550008        0.006977  3654  1052   \n",
       "4   misc. level neg.    4 years -11.550008        0.006977  3654  1052   \n",
       "11  misc. level neg.    Missing -11.550008        0.006977  3654  1052   \n",
       "8   misc. level neg.    8 years -11.550008        0.006977  3654  1052   \n",
       "1          10+ years  10+ years   2.904113        0.006977  3857   961   \n",
       "9   misc. level pos.    9 years   8.164703        0.006977  4298  1016   \n",
       "7   misc. level pos.    7 years   8.164703        0.006977  4298  1016   \n",
       "6   misc. level pos.    6 years   8.164703        0.006977  4298  1016   \n",
       "5   misc. level pos.    5 years   8.164703        0.006977  4298  1016   \n",
       "10  misc. level pos.   < 1 year   8.164703        0.006977  4298  1016   \n",
       "3   misc. level pos.    3 years   8.164703        0.006977  4298  1016   \n",
       "\n",
       "    col_perc_a  col_perc_b   iv_bins  \n",
       "2     0.309425    0.347309  0.004376  \n",
       "0     0.309425    0.347309  0.004376  \n",
       "4     0.309425    0.347309  0.004376  \n",
       "11    0.309425    0.347309  0.004376  \n",
       "8     0.309425    0.347309  0.004376  \n",
       "1     0.326615    0.317266  0.000272  \n",
       "9     0.363960    0.335424  0.002330  \n",
       "7     0.363960    0.335424  0.002330  \n",
       "6     0.363960    0.335424  0.002330  \n",
       "5     0.363960    0.335424  0.002330  \n",
       "10    0.363960    0.335424  0.002330  \n",
       "3     0.363960    0.335424  0.002330  "
      ]
     },
     "execution_count": 14,
     "metadata": {},
     "output_type": "execute_result"
    },
    {
     "data": {
      "application/javascript": [
       "\n",
       "            setTimeout(function() {\n",
       "                var nbb_cell_id = 14;\n",
       "                var nbb_unformatted_code = \"# Employment Length\\nbinning_emp_length = woeBinningPandas.woe_binning(\\n    df, \\\"target\\\", \\\"emp_length\\\", 0.1, 0.1, 50, 100, \\\"bad\\\"\\n)\\nbinning_emp_length\";\n",
       "                var nbb_formatted_code = \"# Employment Length\\nbinning_emp_length = woeBinningPandas.woe_binning(\\n    df, \\\"target\\\", \\\"emp_length\\\", 0.1, 0.1, 50, 100, \\\"bad\\\"\\n)\\nbinning_emp_length\";\n",
       "                var nbb_cells = Jupyter.notebook.get_cells();\n",
       "                for (var i = 0; i < nbb_cells.length; ++i) {\n",
       "                    if (nbb_cells[i].input_prompt_number == nbb_cell_id) {\n",
       "                        if (nbb_cells[i].get_text() == nbb_unformatted_code) {\n",
       "                             nbb_cells[i].set_text(nbb_formatted_code);\n",
       "                        }\n",
       "                        break;\n",
       "                    }\n",
       "                }\n",
       "            }, 500);\n",
       "            "
      ],
      "text/plain": [
       "<IPython.core.display.Javascript object>"
      ]
     },
     "metadata": {},
     "output_type": "display_data"
    }
   ],
   "source": [
    "# Employment Length\n",
    "binning_emp_length = woeBinningPandas.woe_binning(\n",
    "    df, \"target\", \"emp_length\", 0.1, 0.1, 50, 100, \"bad\"\n",
    ")\n",
    "binning_emp_length"
   ]
  },
  {
   "cell_type": "code",
   "execution_count": 15,
   "metadata": {},
   "outputs": [
    {
     "data": {
      "application/javascript": [
       "\n",
       "            setTimeout(function() {\n",
       "                var nbb_cell_id = 15;\n",
       "                var nbb_unformatted_code = \"bademplen = binning_emp_length[\\\"Group_1\\\"][:2].tolist()\\nnullemplen = binning_emp_length[\\\"Group_1\\\"][2:].tolist()\";\n",
       "                var nbb_formatted_code = \"bademplen = binning_emp_length[\\\"Group_1\\\"][:2].tolist()\\nnullemplen = binning_emp_length[\\\"Group_1\\\"][2:].tolist()\";\n",
       "                var nbb_cells = Jupyter.notebook.get_cells();\n",
       "                for (var i = 0; i < nbb_cells.length; ++i) {\n",
       "                    if (nbb_cells[i].input_prompt_number == nbb_cell_id) {\n",
       "                        if (nbb_cells[i].get_text() == nbb_unformatted_code) {\n",
       "                             nbb_cells[i].set_text(nbb_formatted_code);\n",
       "                        }\n",
       "                        break;\n",
       "                    }\n",
       "                }\n",
       "            }, 500);\n",
       "            "
      ],
      "text/plain": [
       "<IPython.core.display.Javascript object>"
      ]
     },
     "metadata": {},
     "output_type": "display_data"
    }
   ],
   "source": [
    "bademplen = binning_emp_length[\"Group_1\"][:2].tolist()\n",
    "nullemplen = binning_emp_length[\"Group_1\"][2:].tolist()"
   ]
  },
  {
   "cell_type": "code",
   "execution_count": 16,
   "metadata": {},
   "outputs": [
    {
     "data": {
      "application/javascript": [
       "\n",
       "            setTimeout(function() {\n",
       "                var nbb_cell_id = 16;\n",
       "                var nbb_unformatted_code = \"def empl_length_binning(x):\\n    if x in nullemplen:\\n        return \\\"1-2 years\\\"\\n    else:\\n        return \\\">2 years\\\"\";\n",
       "                var nbb_formatted_code = \"def empl_length_binning(x):\\n    if x in nullemplen:\\n        return \\\"1-2 years\\\"\\n    else:\\n        return \\\">2 years\\\"\";\n",
       "                var nbb_cells = Jupyter.notebook.get_cells();\n",
       "                for (var i = 0; i < nbb_cells.length; ++i) {\n",
       "                    if (nbb_cells[i].input_prompt_number == nbb_cell_id) {\n",
       "                        if (nbb_cells[i].get_text() == nbb_unformatted_code) {\n",
       "                             nbb_cells[i].set_text(nbb_formatted_code);\n",
       "                        }\n",
       "                        break;\n",
       "                    }\n",
       "                }\n",
       "            }, 500);\n",
       "            "
      ],
      "text/plain": [
       "<IPython.core.display.Javascript object>"
      ]
     },
     "metadata": {},
     "output_type": "display_data"
    }
   ],
   "source": [
    "def empl_length_binning(x):\n",
    "    if x in nullemplen:\n",
    "        return \"1-2 years\"\n",
    "    else:\n",
    "        return \">2 years\""
   ]
  },
  {
   "cell_type": "code",
   "execution_count": 17,
   "metadata": {},
   "outputs": [
    {
     "data": {
      "application/javascript": [
       "\n",
       "            setTimeout(function() {\n",
       "                var nbb_cell_id = 17;\n",
       "                var nbb_unformatted_code = \"def loan_amnt_binning(x):\\n    if x <= 1000:\\n        return \\\"<=1k\\\"\\n    elif x > 1000 and x <= 10000:\\n        return \\\"1-10k\\\"\\n    else:\\n        return \\\">10k\\\"\";\n",
       "                var nbb_formatted_code = \"def loan_amnt_binning(x):\\n    if x <= 1000:\\n        return \\\"<=1k\\\"\\n    elif x > 1000 and x <= 10000:\\n        return \\\"1-10k\\\"\\n    else:\\n        return \\\">10k\\\"\";\n",
       "                var nbb_cells = Jupyter.notebook.get_cells();\n",
       "                for (var i = 0; i < nbb_cells.length; ++i) {\n",
       "                    if (nbb_cells[i].input_prompt_number == nbb_cell_id) {\n",
       "                        if (nbb_cells[i].get_text() == nbb_unformatted_code) {\n",
       "                             nbb_cells[i].set_text(nbb_formatted_code);\n",
       "                        }\n",
       "                        break;\n",
       "                    }\n",
       "                }\n",
       "            }, 500);\n",
       "            "
      ],
      "text/plain": [
       "<IPython.core.display.Javascript object>"
      ]
     },
     "metadata": {},
     "output_type": "display_data"
    }
   ],
   "source": [
    "def loan_amnt_binning(x):\n",
    "    if x <= 1000:\n",
    "        return \"<=1k\"\n",
    "    elif x > 1000 and x <= 10000:\n",
    "        return \"1-10k\"\n",
    "    else:\n",
    "        return \">10k\""
   ]
  },
  {
   "cell_type": "code",
   "execution_count": 18,
   "metadata": {},
   "outputs": [
    {
     "data": {
      "text/html": [
       "<div>\n",
       "<style scoped>\n",
       "    .dataframe tbody tr th:only-of-type {\n",
       "        vertical-align: middle;\n",
       "    }\n",
       "\n",
       "    .dataframe tbody tr th {\n",
       "        vertical-align: top;\n",
       "    }\n",
       "\n",
       "    .dataframe thead th {\n",
       "        text-align: right;\n",
       "    }\n",
       "</style>\n",
       "<table border=\"1\" class=\"dataframe\">\n",
       "  <thead>\n",
       "    <tr style=\"text-align: right;\">\n",
       "      <th></th>\n",
       "      <th>Group_2</th>\n",
       "      <th>Group_1</th>\n",
       "      <th>woe</th>\n",
       "      <th>iv_total_final</th>\n",
       "      <th>good</th>\n",
       "      <th>bad</th>\n",
       "      <th>col_perc_a</th>\n",
       "      <th>col_perc_b</th>\n",
       "      <th>iv_bins</th>\n",
       "    </tr>\n",
       "  </thead>\n",
       "  <tbody>\n",
       "    <tr>\n",
       "      <th>37</th>\n",
       "      <td>misc. level neg.</td>\n",
       "      <td>PA</td>\n",
       "      <td>-15.802180</td>\n",
       "      <td>0.024348</td>\n",
       "      <td>4880</td>\n",
       "      <td>1466</td>\n",
       "      <td>0.413244</td>\n",
       "      <td>0.483988</td>\n",
       "      <td>0.011179</td>\n",
       "    </tr>\n",
       "    <tr>\n",
       "      <th>34</th>\n",
       "      <td>misc. level neg.</td>\n",
       "      <td>OH</td>\n",
       "      <td>-15.802180</td>\n",
       "      <td>0.024348</td>\n",
       "      <td>4880</td>\n",
       "      <td>1466</td>\n",
       "      <td>0.413244</td>\n",
       "      <td>0.483988</td>\n",
       "      <td>0.011179</td>\n",
       "    </tr>\n",
       "    <tr>\n",
       "      <th>26</th>\n",
       "      <td>misc. level neg.</td>\n",
       "      <td>NC</td>\n",
       "      <td>-15.802180</td>\n",
       "      <td>0.024348</td>\n",
       "      <td>4880</td>\n",
       "      <td>1466</td>\n",
       "      <td>0.413244</td>\n",
       "      <td>0.483988</td>\n",
       "      <td>0.011179</td>\n",
       "    </tr>\n",
       "    <tr>\n",
       "      <th>19</th>\n",
       "      <td>misc. level neg.</td>\n",
       "      <td>MD</td>\n",
       "      <td>-15.802180</td>\n",
       "      <td>0.024348</td>\n",
       "      <td>4880</td>\n",
       "      <td>1466</td>\n",
       "      <td>0.413244</td>\n",
       "      <td>0.483988</td>\n",
       "      <td>0.011179</td>\n",
       "    </tr>\n",
       "    <tr>\n",
       "      <th>30</th>\n",
       "      <td>misc. level neg.</td>\n",
       "      <td>NJ</td>\n",
       "      <td>-15.802180</td>\n",
       "      <td>0.024348</td>\n",
       "      <td>4880</td>\n",
       "      <td>1466</td>\n",
       "      <td>0.413244</td>\n",
       "      <td>0.483988</td>\n",
       "      <td>0.011179</td>\n",
       "    </tr>\n",
       "    <tr>\n",
       "      <th>14</th>\n",
       "      <td>misc. level neg.</td>\n",
       "      <td>IN</td>\n",
       "      <td>-15.802180</td>\n",
       "      <td>0.024348</td>\n",
       "      <td>4880</td>\n",
       "      <td>1466</td>\n",
       "      <td>0.413244</td>\n",
       "      <td>0.483988</td>\n",
       "      <td>0.011179</td>\n",
       "    </tr>\n",
       "    <tr>\n",
       "      <th>23</th>\n",
       "      <td>misc. level neg.</td>\n",
       "      <td>MO</td>\n",
       "      <td>-15.802180</td>\n",
       "      <td>0.024348</td>\n",
       "      <td>4880</td>\n",
       "      <td>1466</td>\n",
       "      <td>0.413244</td>\n",
       "      <td>0.483988</td>\n",
       "      <td>0.011179</td>\n",
       "    </tr>\n",
       "    <tr>\n",
       "      <th>32</th>\n",
       "      <td>misc. level neg.</td>\n",
       "      <td>NV</td>\n",
       "      <td>-15.802180</td>\n",
       "      <td>0.024348</td>\n",
       "      <td>4880</td>\n",
       "      <td>1466</td>\n",
       "      <td>0.413244</td>\n",
       "      <td>0.483988</td>\n",
       "      <td>0.011179</td>\n",
       "    </tr>\n",
       "    <tr>\n",
       "      <th>1</th>\n",
       "      <td>misc. level neg.</td>\n",
       "      <td>AL</td>\n",
       "      <td>-15.802180</td>\n",
       "      <td>0.024348</td>\n",
       "      <td>4880</td>\n",
       "      <td>1466</td>\n",
       "      <td>0.413244</td>\n",
       "      <td>0.483988</td>\n",
       "      <td>0.011179</td>\n",
       "    </tr>\n",
       "    <tr>\n",
       "      <th>41</th>\n",
       "      <td>misc. level neg.</td>\n",
       "      <td>TN</td>\n",
       "      <td>-15.802180</td>\n",
       "      <td>0.024348</td>\n",
       "      <td>4880</td>\n",
       "      <td>1466</td>\n",
       "      <td>0.413244</td>\n",
       "      <td>0.483988</td>\n",
       "      <td>0.011179</td>\n",
       "    </tr>\n",
       "    <tr>\n",
       "      <th>12</th>\n",
       "      <td>misc. level neg.</td>\n",
       "      <td>ID</td>\n",
       "      <td>-15.802180</td>\n",
       "      <td>0.024348</td>\n",
       "      <td>4880</td>\n",
       "      <td>1466</td>\n",
       "      <td>0.413244</td>\n",
       "      <td>0.483988</td>\n",
       "      <td>0.011179</td>\n",
       "    </tr>\n",
       "    <tr>\n",
       "      <th>28</th>\n",
       "      <td>misc. level neg.</td>\n",
       "      <td>NE</td>\n",
       "      <td>-15.802180</td>\n",
       "      <td>0.024348</td>\n",
       "      <td>4880</td>\n",
       "      <td>1466</td>\n",
       "      <td>0.413244</td>\n",
       "      <td>0.483988</td>\n",
       "      <td>0.011179</td>\n",
       "    </tr>\n",
       "    <tr>\n",
       "      <th>0</th>\n",
       "      <td>misc. level neg.</td>\n",
       "      <td>AK</td>\n",
       "      <td>-15.802180</td>\n",
       "      <td>0.024348</td>\n",
       "      <td>4880</td>\n",
       "      <td>1466</td>\n",
       "      <td>0.413244</td>\n",
       "      <td>0.483988</td>\n",
       "      <td>0.011179</td>\n",
       "    </tr>\n",
       "    <tr>\n",
       "      <th>27</th>\n",
       "      <td>misc. level neg.</td>\n",
       "      <td>ND</td>\n",
       "      <td>-15.802180</td>\n",
       "      <td>0.024348</td>\n",
       "      <td>4880</td>\n",
       "      <td>1466</td>\n",
       "      <td>0.413244</td>\n",
       "      <td>0.483988</td>\n",
       "      <td>0.011179</td>\n",
       "    </tr>\n",
       "    <tr>\n",
       "      <th>35</th>\n",
       "      <td>misc. level neg.</td>\n",
       "      <td>OK</td>\n",
       "      <td>-15.802180</td>\n",
       "      <td>0.024348</td>\n",
       "      <td>4880</td>\n",
       "      <td>1466</td>\n",
       "      <td>0.413244</td>\n",
       "      <td>0.483988</td>\n",
       "      <td>0.011179</td>\n",
       "    </tr>\n",
       "    <tr>\n",
       "      <th>16</th>\n",
       "      <td>misc. level neg.</td>\n",
       "      <td>KY</td>\n",
       "      <td>-15.802180</td>\n",
       "      <td>0.024348</td>\n",
       "      <td>4880</td>\n",
       "      <td>1466</td>\n",
       "      <td>0.413244</td>\n",
       "      <td>0.483988</td>\n",
       "      <td>0.011179</td>\n",
       "    </tr>\n",
       "    <tr>\n",
       "      <th>24</th>\n",
       "      <td>misc. level neg.</td>\n",
       "      <td>MS</td>\n",
       "      <td>-15.802180</td>\n",
       "      <td>0.024348</td>\n",
       "      <td>4880</td>\n",
       "      <td>1466</td>\n",
       "      <td>0.413244</td>\n",
       "      <td>0.483988</td>\n",
       "      <td>0.011179</td>\n",
       "    </tr>\n",
       "    <tr>\n",
       "      <th>17</th>\n",
       "      <td>misc. level neg.</td>\n",
       "      <td>LA</td>\n",
       "      <td>-15.802180</td>\n",
       "      <td>0.024348</td>\n",
       "      <td>4880</td>\n",
       "      <td>1466</td>\n",
       "      <td>0.413244</td>\n",
       "      <td>0.483988</td>\n",
       "      <td>0.011179</td>\n",
       "    </tr>\n",
       "    <tr>\n",
       "      <th>2</th>\n",
       "      <td>misc. level neg.</td>\n",
       "      <td>AR</td>\n",
       "      <td>-15.802180</td>\n",
       "      <td>0.024348</td>\n",
       "      <td>4880</td>\n",
       "      <td>1466</td>\n",
       "      <td>0.413244</td>\n",
       "      <td>0.483988</td>\n",
       "      <td>0.011179</td>\n",
       "    </tr>\n",
       "    <tr>\n",
       "      <th>9</th>\n",
       "      <td>misc. level neg.</td>\n",
       "      <td>FL</td>\n",
       "      <td>-15.802180</td>\n",
       "      <td>0.024348</td>\n",
       "      <td>4880</td>\n",
       "      <td>1466</td>\n",
       "      <td>0.413244</td>\n",
       "      <td>0.483988</td>\n",
       "      <td>0.011179</td>\n",
       "    </tr>\n",
       "    <tr>\n",
       "      <th>33</th>\n",
       "      <td>misc. level neg.</td>\n",
       "      <td>NY</td>\n",
       "      <td>-15.802180</td>\n",
       "      <td>0.024348</td>\n",
       "      <td>4880</td>\n",
       "      <td>1466</td>\n",
       "      <td>0.413244</td>\n",
       "      <td>0.483988</td>\n",
       "      <td>0.011179</td>\n",
       "    </tr>\n",
       "    <tr>\n",
       "      <th>4</th>\n",
       "      <td>CA</td>\n",
       "      <td>CA</td>\n",
       "      <td>-1.427191</td>\n",
       "      <td>0.024348</td>\n",
       "      <td>1718</td>\n",
       "      <td>447</td>\n",
       "      <td>0.145482</td>\n",
       "      <td>0.147573</td>\n",
       "      <td>0.000030</td>\n",
       "    </tr>\n",
       "    <tr>\n",
       "      <th>13</th>\n",
       "      <td>misc. level pos.</td>\n",
       "      <td>IL</td>\n",
       "      <td>18.039149</td>\n",
       "      <td>0.024348</td>\n",
       "      <td>5211</td>\n",
       "      <td>1116</td>\n",
       "      <td>0.441274</td>\n",
       "      <td>0.368438</td>\n",
       "      <td>0.013139</td>\n",
       "    </tr>\n",
       "    <tr>\n",
       "      <th>10</th>\n",
       "      <td>misc. level pos.</td>\n",
       "      <td>GA</td>\n",
       "      <td>18.039149</td>\n",
       "      <td>0.024348</td>\n",
       "      <td>5211</td>\n",
       "      <td>1116</td>\n",
       "      <td>0.441274</td>\n",
       "      <td>0.368438</td>\n",
       "      <td>0.013139</td>\n",
       "    </tr>\n",
       "    <tr>\n",
       "      <th>44</th>\n",
       "      <td>misc. level pos.</td>\n",
       "      <td>VA</td>\n",
       "      <td>18.039149</td>\n",
       "      <td>0.024348</td>\n",
       "      <td>5211</td>\n",
       "      <td>1116</td>\n",
       "      <td>0.441274</td>\n",
       "      <td>0.368438</td>\n",
       "      <td>0.013139</td>\n",
       "    </tr>\n",
       "    <tr>\n",
       "      <th>21</th>\n",
       "      <td>misc. level pos.</td>\n",
       "      <td>MI</td>\n",
       "      <td>18.039149</td>\n",
       "      <td>0.024348</td>\n",
       "      <td>5211</td>\n",
       "      <td>1116</td>\n",
       "      <td>0.441274</td>\n",
       "      <td>0.368438</td>\n",
       "      <td>0.013139</td>\n",
       "    </tr>\n",
       "    <tr>\n",
       "      <th>3</th>\n",
       "      <td>misc. level pos.</td>\n",
       "      <td>AZ</td>\n",
       "      <td>18.039149</td>\n",
       "      <td>0.024348</td>\n",
       "      <td>5211</td>\n",
       "      <td>1116</td>\n",
       "      <td>0.441274</td>\n",
       "      <td>0.368438</td>\n",
       "      <td>0.013139</td>\n",
       "    </tr>\n",
       "    <tr>\n",
       "      <th>18</th>\n",
       "      <td>misc. level pos.</td>\n",
       "      <td>MA</td>\n",
       "      <td>18.039149</td>\n",
       "      <td>0.024348</td>\n",
       "      <td>5211</td>\n",
       "      <td>1116</td>\n",
       "      <td>0.441274</td>\n",
       "      <td>0.368438</td>\n",
       "      <td>0.013139</td>\n",
       "    </tr>\n",
       "    <tr>\n",
       "      <th>43</th>\n",
       "      <td>misc. level pos.</td>\n",
       "      <td>UT</td>\n",
       "      <td>18.039149</td>\n",
       "      <td>0.024348</td>\n",
       "      <td>5211</td>\n",
       "      <td>1116</td>\n",
       "      <td>0.441274</td>\n",
       "      <td>0.368438</td>\n",
       "      <td>0.013139</td>\n",
       "    </tr>\n",
       "    <tr>\n",
       "      <th>11</th>\n",
       "      <td>misc. level pos.</td>\n",
       "      <td>HI</td>\n",
       "      <td>18.039149</td>\n",
       "      <td>0.024348</td>\n",
       "      <td>5211</td>\n",
       "      <td>1116</td>\n",
       "      <td>0.441274</td>\n",
       "      <td>0.368438</td>\n",
       "      <td>0.013139</td>\n",
       "    </tr>\n",
       "    <tr>\n",
       "      <th>29</th>\n",
       "      <td>misc. level pos.</td>\n",
       "      <td>NH</td>\n",
       "      <td>18.039149</td>\n",
       "      <td>0.024348</td>\n",
       "      <td>5211</td>\n",
       "      <td>1116</td>\n",
       "      <td>0.441274</td>\n",
       "      <td>0.368438</td>\n",
       "      <td>0.013139</td>\n",
       "    </tr>\n",
       "    <tr>\n",
       "      <th>31</th>\n",
       "      <td>misc. level pos.</td>\n",
       "      <td>NM</td>\n",
       "      <td>18.039149</td>\n",
       "      <td>0.024348</td>\n",
       "      <td>5211</td>\n",
       "      <td>1116</td>\n",
       "      <td>0.441274</td>\n",
       "      <td>0.368438</td>\n",
       "      <td>0.013139</td>\n",
       "    </tr>\n",
       "    <tr>\n",
       "      <th>38</th>\n",
       "      <td>misc. level pos.</td>\n",
       "      <td>RI</td>\n",
       "      <td>18.039149</td>\n",
       "      <td>0.024348</td>\n",
       "      <td>5211</td>\n",
       "      <td>1116</td>\n",
       "      <td>0.441274</td>\n",
       "      <td>0.368438</td>\n",
       "      <td>0.013139</td>\n",
       "    </tr>\n",
       "    <tr>\n",
       "      <th>48</th>\n",
       "      <td>misc. level pos.</td>\n",
       "      <td>WV</td>\n",
       "      <td>18.039149</td>\n",
       "      <td>0.024348</td>\n",
       "      <td>5211</td>\n",
       "      <td>1116</td>\n",
       "      <td>0.441274</td>\n",
       "      <td>0.368438</td>\n",
       "      <td>0.013139</td>\n",
       "    </tr>\n",
       "    <tr>\n",
       "      <th>8</th>\n",
       "      <td>misc. level pos.</td>\n",
       "      <td>DE</td>\n",
       "      <td>18.039149</td>\n",
       "      <td>0.024348</td>\n",
       "      <td>5211</td>\n",
       "      <td>1116</td>\n",
       "      <td>0.441274</td>\n",
       "      <td>0.368438</td>\n",
       "      <td>0.013139</td>\n",
       "    </tr>\n",
       "    <tr>\n",
       "      <th>25</th>\n",
       "      <td>misc. level pos.</td>\n",
       "      <td>MT</td>\n",
       "      <td>18.039149</td>\n",
       "      <td>0.024348</td>\n",
       "      <td>5211</td>\n",
       "      <td>1116</td>\n",
       "      <td>0.441274</td>\n",
       "      <td>0.368438</td>\n",
       "      <td>0.013139</td>\n",
       "    </tr>\n",
       "    <tr>\n",
       "      <th>7</th>\n",
       "      <td>misc. level pos.</td>\n",
       "      <td>DC</td>\n",
       "      <td>18.039149</td>\n",
       "      <td>0.024348</td>\n",
       "      <td>5211</td>\n",
       "      <td>1116</td>\n",
       "      <td>0.441274</td>\n",
       "      <td>0.368438</td>\n",
       "      <td>0.013139</td>\n",
       "    </tr>\n",
       "    <tr>\n",
       "      <th>40</th>\n",
       "      <td>misc. level pos.</td>\n",
       "      <td>SD</td>\n",
       "      <td>18.039149</td>\n",
       "      <td>0.024348</td>\n",
       "      <td>5211</td>\n",
       "      <td>1116</td>\n",
       "      <td>0.441274</td>\n",
       "      <td>0.368438</td>\n",
       "      <td>0.013139</td>\n",
       "    </tr>\n",
       "    <tr>\n",
       "      <th>46</th>\n",
       "      <td>misc. level pos.</td>\n",
       "      <td>WA</td>\n",
       "      <td>18.039149</td>\n",
       "      <td>0.024348</td>\n",
       "      <td>5211</td>\n",
       "      <td>1116</td>\n",
       "      <td>0.441274</td>\n",
       "      <td>0.368438</td>\n",
       "      <td>0.013139</td>\n",
       "    </tr>\n",
       "    <tr>\n",
       "      <th>49</th>\n",
       "      <td>misc. level pos.</td>\n",
       "      <td>WY</td>\n",
       "      <td>18.039149</td>\n",
       "      <td>0.024348</td>\n",
       "      <td>5211</td>\n",
       "      <td>1116</td>\n",
       "      <td>0.441274</td>\n",
       "      <td>0.368438</td>\n",
       "      <td>0.013139</td>\n",
       "    </tr>\n",
       "    <tr>\n",
       "      <th>20</th>\n",
       "      <td>misc. level pos.</td>\n",
       "      <td>ME</td>\n",
       "      <td>18.039149</td>\n",
       "      <td>0.024348</td>\n",
       "      <td>5211</td>\n",
       "      <td>1116</td>\n",
       "      <td>0.441274</td>\n",
       "      <td>0.368438</td>\n",
       "      <td>0.013139</td>\n",
       "    </tr>\n",
       "    <tr>\n",
       "      <th>45</th>\n",
       "      <td>misc. level pos.</td>\n",
       "      <td>VT</td>\n",
       "      <td>18.039149</td>\n",
       "      <td>0.024348</td>\n",
       "      <td>5211</td>\n",
       "      <td>1116</td>\n",
       "      <td>0.441274</td>\n",
       "      <td>0.368438</td>\n",
       "      <td>0.013139</td>\n",
       "    </tr>\n",
       "    <tr>\n",
       "      <th>5</th>\n",
       "      <td>misc. level pos.</td>\n",
       "      <td>CO</td>\n",
       "      <td>18.039149</td>\n",
       "      <td>0.024348</td>\n",
       "      <td>5211</td>\n",
       "      <td>1116</td>\n",
       "      <td>0.441274</td>\n",
       "      <td>0.368438</td>\n",
       "      <td>0.013139</td>\n",
       "    </tr>\n",
       "    <tr>\n",
       "      <th>15</th>\n",
       "      <td>misc. level pos.</td>\n",
       "      <td>KS</td>\n",
       "      <td>18.039149</td>\n",
       "      <td>0.024348</td>\n",
       "      <td>5211</td>\n",
       "      <td>1116</td>\n",
       "      <td>0.441274</td>\n",
       "      <td>0.368438</td>\n",
       "      <td>0.013139</td>\n",
       "    </tr>\n",
       "    <tr>\n",
       "      <th>22</th>\n",
       "      <td>misc. level pos.</td>\n",
       "      <td>MN</td>\n",
       "      <td>18.039149</td>\n",
       "      <td>0.024348</td>\n",
       "      <td>5211</td>\n",
       "      <td>1116</td>\n",
       "      <td>0.441274</td>\n",
       "      <td>0.368438</td>\n",
       "      <td>0.013139</td>\n",
       "    </tr>\n",
       "    <tr>\n",
       "      <th>39</th>\n",
       "      <td>misc. level pos.</td>\n",
       "      <td>SC</td>\n",
       "      <td>18.039149</td>\n",
       "      <td>0.024348</td>\n",
       "      <td>5211</td>\n",
       "      <td>1116</td>\n",
       "      <td>0.441274</td>\n",
       "      <td>0.368438</td>\n",
       "      <td>0.013139</td>\n",
       "    </tr>\n",
       "    <tr>\n",
       "      <th>36</th>\n",
       "      <td>misc. level pos.</td>\n",
       "      <td>OR</td>\n",
       "      <td>18.039149</td>\n",
       "      <td>0.024348</td>\n",
       "      <td>5211</td>\n",
       "      <td>1116</td>\n",
       "      <td>0.441274</td>\n",
       "      <td>0.368438</td>\n",
       "      <td>0.013139</td>\n",
       "    </tr>\n",
       "    <tr>\n",
       "      <th>6</th>\n",
       "      <td>misc. level pos.</td>\n",
       "      <td>CT</td>\n",
       "      <td>18.039149</td>\n",
       "      <td>0.024348</td>\n",
       "      <td>5211</td>\n",
       "      <td>1116</td>\n",
       "      <td>0.441274</td>\n",
       "      <td>0.368438</td>\n",
       "      <td>0.013139</td>\n",
       "    </tr>\n",
       "    <tr>\n",
       "      <th>47</th>\n",
       "      <td>misc. level pos.</td>\n",
       "      <td>WI</td>\n",
       "      <td>18.039149</td>\n",
       "      <td>0.024348</td>\n",
       "      <td>5211</td>\n",
       "      <td>1116</td>\n",
       "      <td>0.441274</td>\n",
       "      <td>0.368438</td>\n",
       "      <td>0.013139</td>\n",
       "    </tr>\n",
       "    <tr>\n",
       "      <th>42</th>\n",
       "      <td>misc. level pos.</td>\n",
       "      <td>TX</td>\n",
       "      <td>18.039149</td>\n",
       "      <td>0.024348</td>\n",
       "      <td>5211</td>\n",
       "      <td>1116</td>\n",
       "      <td>0.441274</td>\n",
       "      <td>0.368438</td>\n",
       "      <td>0.013139</td>\n",
       "    </tr>\n",
       "  </tbody>\n",
       "</table>\n",
       "</div>"
      ],
      "text/plain": [
       "             Group_2 Group_1        woe  iv_total_final  good   bad  \\\n",
       "37  misc. level neg.      PA -15.802180        0.024348  4880  1466   \n",
       "34  misc. level neg.      OH -15.802180        0.024348  4880  1466   \n",
       "26  misc. level neg.      NC -15.802180        0.024348  4880  1466   \n",
       "19  misc. level neg.      MD -15.802180        0.024348  4880  1466   \n",
       "30  misc. level neg.      NJ -15.802180        0.024348  4880  1466   \n",
       "14  misc. level neg.      IN -15.802180        0.024348  4880  1466   \n",
       "23  misc. level neg.      MO -15.802180        0.024348  4880  1466   \n",
       "32  misc. level neg.      NV -15.802180        0.024348  4880  1466   \n",
       "1   misc. level neg.      AL -15.802180        0.024348  4880  1466   \n",
       "41  misc. level neg.      TN -15.802180        0.024348  4880  1466   \n",
       "12  misc. level neg.      ID -15.802180        0.024348  4880  1466   \n",
       "28  misc. level neg.      NE -15.802180        0.024348  4880  1466   \n",
       "0   misc. level neg.      AK -15.802180        0.024348  4880  1466   \n",
       "27  misc. level neg.      ND -15.802180        0.024348  4880  1466   \n",
       "35  misc. level neg.      OK -15.802180        0.024348  4880  1466   \n",
       "16  misc. level neg.      KY -15.802180        0.024348  4880  1466   \n",
       "24  misc. level neg.      MS -15.802180        0.024348  4880  1466   \n",
       "17  misc. level neg.      LA -15.802180        0.024348  4880  1466   \n",
       "2   misc. level neg.      AR -15.802180        0.024348  4880  1466   \n",
       "9   misc. level neg.      FL -15.802180        0.024348  4880  1466   \n",
       "33  misc. level neg.      NY -15.802180        0.024348  4880  1466   \n",
       "4                 CA      CA  -1.427191        0.024348  1718   447   \n",
       "13  misc. level pos.      IL  18.039149        0.024348  5211  1116   \n",
       "10  misc. level pos.      GA  18.039149        0.024348  5211  1116   \n",
       "44  misc. level pos.      VA  18.039149        0.024348  5211  1116   \n",
       "21  misc. level pos.      MI  18.039149        0.024348  5211  1116   \n",
       "3   misc. level pos.      AZ  18.039149        0.024348  5211  1116   \n",
       "18  misc. level pos.      MA  18.039149        0.024348  5211  1116   \n",
       "43  misc. level pos.      UT  18.039149        0.024348  5211  1116   \n",
       "11  misc. level pos.      HI  18.039149        0.024348  5211  1116   \n",
       "29  misc. level pos.      NH  18.039149        0.024348  5211  1116   \n",
       "31  misc. level pos.      NM  18.039149        0.024348  5211  1116   \n",
       "38  misc. level pos.      RI  18.039149        0.024348  5211  1116   \n",
       "48  misc. level pos.      WV  18.039149        0.024348  5211  1116   \n",
       "8   misc. level pos.      DE  18.039149        0.024348  5211  1116   \n",
       "25  misc. level pos.      MT  18.039149        0.024348  5211  1116   \n",
       "7   misc. level pos.      DC  18.039149        0.024348  5211  1116   \n",
       "40  misc. level pos.      SD  18.039149        0.024348  5211  1116   \n",
       "46  misc. level pos.      WA  18.039149        0.024348  5211  1116   \n",
       "49  misc. level pos.      WY  18.039149        0.024348  5211  1116   \n",
       "20  misc. level pos.      ME  18.039149        0.024348  5211  1116   \n",
       "45  misc. level pos.      VT  18.039149        0.024348  5211  1116   \n",
       "5   misc. level pos.      CO  18.039149        0.024348  5211  1116   \n",
       "15  misc. level pos.      KS  18.039149        0.024348  5211  1116   \n",
       "22  misc. level pos.      MN  18.039149        0.024348  5211  1116   \n",
       "39  misc. level pos.      SC  18.039149        0.024348  5211  1116   \n",
       "36  misc. level pos.      OR  18.039149        0.024348  5211  1116   \n",
       "6   misc. level pos.      CT  18.039149        0.024348  5211  1116   \n",
       "47  misc. level pos.      WI  18.039149        0.024348  5211  1116   \n",
       "42  misc. level pos.      TX  18.039149        0.024348  5211  1116   \n",
       "\n",
       "    col_perc_a  col_perc_b   iv_bins  \n",
       "37    0.413244    0.483988  0.011179  \n",
       "34    0.413244    0.483988  0.011179  \n",
       "26    0.413244    0.483988  0.011179  \n",
       "19    0.413244    0.483988  0.011179  \n",
       "30    0.413244    0.483988  0.011179  \n",
       "14    0.413244    0.483988  0.011179  \n",
       "23    0.413244    0.483988  0.011179  \n",
       "32    0.413244    0.483988  0.011179  \n",
       "1     0.413244    0.483988  0.011179  \n",
       "41    0.413244    0.483988  0.011179  \n",
       "12    0.413244    0.483988  0.011179  \n",
       "28    0.413244    0.483988  0.011179  \n",
       "0     0.413244    0.483988  0.011179  \n",
       "27    0.413244    0.483988  0.011179  \n",
       "35    0.413244    0.483988  0.011179  \n",
       "16    0.413244    0.483988  0.011179  \n",
       "24    0.413244    0.483988  0.011179  \n",
       "17    0.413244    0.483988  0.011179  \n",
       "2     0.413244    0.483988  0.011179  \n",
       "9     0.413244    0.483988  0.011179  \n",
       "33    0.413244    0.483988  0.011179  \n",
       "4     0.145482    0.147573  0.000030  \n",
       "13    0.441274    0.368438  0.013139  \n",
       "10    0.441274    0.368438  0.013139  \n",
       "44    0.441274    0.368438  0.013139  \n",
       "21    0.441274    0.368438  0.013139  \n",
       "3     0.441274    0.368438  0.013139  \n",
       "18    0.441274    0.368438  0.013139  \n",
       "43    0.441274    0.368438  0.013139  \n",
       "11    0.441274    0.368438  0.013139  \n",
       "29    0.441274    0.368438  0.013139  \n",
       "31    0.441274    0.368438  0.013139  \n",
       "38    0.441274    0.368438  0.013139  \n",
       "48    0.441274    0.368438  0.013139  \n",
       "8     0.441274    0.368438  0.013139  \n",
       "25    0.441274    0.368438  0.013139  \n",
       "7     0.441274    0.368438  0.013139  \n",
       "40    0.441274    0.368438  0.013139  \n",
       "46    0.441274    0.368438  0.013139  \n",
       "49    0.441274    0.368438  0.013139  \n",
       "20    0.441274    0.368438  0.013139  \n",
       "45    0.441274    0.368438  0.013139  \n",
       "5     0.441274    0.368438  0.013139  \n",
       "15    0.441274    0.368438  0.013139  \n",
       "22    0.441274    0.368438  0.013139  \n",
       "39    0.441274    0.368438  0.013139  \n",
       "36    0.441274    0.368438  0.013139  \n",
       "6     0.441274    0.368438  0.013139  \n",
       "47    0.441274    0.368438  0.013139  \n",
       "42    0.441274    0.368438  0.013139  "
      ]
     },
     "execution_count": 18,
     "metadata": {},
     "output_type": "execute_result"
    },
    {
     "data": {
      "application/javascript": [
       "\n",
       "            setTimeout(function() {\n",
       "                var nbb_cell_id = 18;\n",
       "                var nbb_unformatted_code = \"# State\\nbinning = woeBinningPandas.woe_binning(\\n    df, \\\"target\\\", \\\"addr_state\\\", 0.1, 0.1, 50, 100, \\\"bad\\\"\\n)\\nbinning\";\n",
       "                var nbb_formatted_code = \"# State\\nbinning = woeBinningPandas.woe_binning(\\n    df, \\\"target\\\", \\\"addr_state\\\", 0.1, 0.1, 50, 100, \\\"bad\\\"\\n)\\nbinning\";\n",
       "                var nbb_cells = Jupyter.notebook.get_cells();\n",
       "                for (var i = 0; i < nbb_cells.length; ++i) {\n",
       "                    if (nbb_cells[i].input_prompt_number == nbb_cell_id) {\n",
       "                        if (nbb_cells[i].get_text() == nbb_unformatted_code) {\n",
       "                             nbb_cells[i].set_text(nbb_formatted_code);\n",
       "                        }\n",
       "                        break;\n",
       "                    }\n",
       "                }\n",
       "            }, 500);\n",
       "            "
      ],
      "text/plain": [
       "<IPython.core.display.Javascript object>"
      ]
     },
     "metadata": {},
     "output_type": "display_data"
    }
   ],
   "source": [
    "# State\n",
    "binning = woeBinningPandas.woe_binning(\n",
    "    df, \"target\", \"addr_state\", 0.1, 0.1, 50, 100, \"bad\"\n",
    ")\n",
    "binning"
   ]
  },
  {
   "cell_type": "code",
   "execution_count": 19,
   "metadata": {},
   "outputs": [
    {
     "data": {
      "application/javascript": [
       "\n",
       "            setTimeout(function() {\n",
       "                var nbb_cell_id = 19;\n",
       "                var nbb_unformatted_code = \"badstates = binning[\\\"Group_1\\\"][:25].tolist()\\ncalifornia = [\\\"CA\\\"]\\ngoodstates = binning[\\\"Group_1\\\"][27:].tolist()\";\n",
       "                var nbb_formatted_code = \"badstates = binning[\\\"Group_1\\\"][:25].tolist()\\ncalifornia = [\\\"CA\\\"]\\ngoodstates = binning[\\\"Group_1\\\"][27:].tolist()\";\n",
       "                var nbb_cells = Jupyter.notebook.get_cells();\n",
       "                for (var i = 0; i < nbb_cells.length; ++i) {\n",
       "                    if (nbb_cells[i].input_prompt_number == nbb_cell_id) {\n",
       "                        if (nbb_cells[i].get_text() == nbb_unformatted_code) {\n",
       "                             nbb_cells[i].set_text(nbb_formatted_code);\n",
       "                        }\n",
       "                        break;\n",
       "                    }\n",
       "                }\n",
       "            }, 500);\n",
       "            "
      ],
      "text/plain": [
       "<IPython.core.display.Javascript object>"
      ]
     },
     "metadata": {},
     "output_type": "display_data"
    }
   ],
   "source": [
    "badstates = binning[\"Group_1\"][:25].tolist()\n",
    "california = [\"CA\"]\n",
    "goodstates = binning[\"Group_1\"][27:].tolist()"
   ]
  },
  {
   "cell_type": "code",
   "execution_count": 20,
   "metadata": {},
   "outputs": [
    {
     "data": {
      "application/javascript": [
       "\n",
       "            setTimeout(function() {\n",
       "                var nbb_cell_id = 20;\n",
       "                var nbb_unformatted_code = \"def addr_state_binning(x):\\n    if x == \\\"CA\\\":\\n        return \\\"California\\\"\\n    elif x in badstates:\\n        return \\\"Bad state\\\"\\n    else:\\n        return \\\"Good state\\\"\";\n",
       "                var nbb_formatted_code = \"def addr_state_binning(x):\\n    if x == \\\"CA\\\":\\n        return \\\"California\\\"\\n    elif x in badstates:\\n        return \\\"Bad state\\\"\\n    else:\\n        return \\\"Good state\\\"\";\n",
       "                var nbb_cells = Jupyter.notebook.get_cells();\n",
       "                for (var i = 0; i < nbb_cells.length; ++i) {\n",
       "                    if (nbb_cells[i].input_prompt_number == nbb_cell_id) {\n",
       "                        if (nbb_cells[i].get_text() == nbb_unformatted_code) {\n",
       "                             nbb_cells[i].set_text(nbb_formatted_code);\n",
       "                        }\n",
       "                        break;\n",
       "                    }\n",
       "                }\n",
       "            }, 500);\n",
       "            "
      ],
      "text/plain": [
       "<IPython.core.display.Javascript object>"
      ]
     },
     "metadata": {},
     "output_type": "display_data"
    }
   ],
   "source": [
    "def addr_state_binning(x):\n",
    "    if x == \"CA\":\n",
    "        return \"California\"\n",
    "    elif x in badstates:\n",
    "        return \"Bad state\"\n",
    "    else:\n",
    "        return \"Good state\""
   ]
  },
  {
   "cell_type": "code",
   "execution_count": 21,
   "metadata": {},
   "outputs": [
    {
     "data": {
      "application/javascript": [
       "\n",
       "            setTimeout(function() {\n",
       "                var nbb_cell_id = 21;\n",
       "                var nbb_unformatted_code = \"# Function to apply the bucketing to any future dataset\\ndef binning_function(data):\\n    data[\\\"loan_amnt2\\\"] = data[\\\"loan_amnt\\\"].apply(loan_amnt_binning)\\n    data[\\\"addr_state2\\\"] = data[\\\"addr_state\\\"].apply(addr_state_binning)\\n    data[\\\"emp_length2\\\"] = data[\\\"emp_length\\\"].apply(empl_length_binning)\\n    data[\\\"DTI2\\\"] = df[\\\"DTI\\\"].apply(DTI_binning)\\n    return data\";\n",
       "                var nbb_formatted_code = \"# Function to apply the bucketing to any future dataset\\ndef binning_function(data):\\n    data[\\\"loan_amnt2\\\"] = data[\\\"loan_amnt\\\"].apply(loan_amnt_binning)\\n    data[\\\"addr_state2\\\"] = data[\\\"addr_state\\\"].apply(addr_state_binning)\\n    data[\\\"emp_length2\\\"] = data[\\\"emp_length\\\"].apply(empl_length_binning)\\n    data[\\\"DTI2\\\"] = df[\\\"DTI\\\"].apply(DTI_binning)\\n    return data\";\n",
       "                var nbb_cells = Jupyter.notebook.get_cells();\n",
       "                for (var i = 0; i < nbb_cells.length; ++i) {\n",
       "                    if (nbb_cells[i].input_prompt_number == nbb_cell_id) {\n",
       "                        if (nbb_cells[i].get_text() == nbb_unformatted_code) {\n",
       "                             nbb_cells[i].set_text(nbb_formatted_code);\n",
       "                        }\n",
       "                        break;\n",
       "                    }\n",
       "                }\n",
       "            }, 500);\n",
       "            "
      ],
      "text/plain": [
       "<IPython.core.display.Javascript object>"
      ]
     },
     "metadata": {},
     "output_type": "display_data"
    }
   ],
   "source": [
    "# Function to apply the bucketing to any future dataset\n",
    "def binning_function(data):\n",
    "    data[\"loan_amnt2\"] = data[\"loan_amnt\"].apply(loan_amnt_binning)\n",
    "    data[\"addr_state2\"] = data[\"addr_state\"].apply(addr_state_binning)\n",
    "    data[\"emp_length2\"] = data[\"emp_length\"].apply(empl_length_binning)\n",
    "    data[\"DTI2\"] = df[\"DTI\"].apply(DTI_binning)\n",
    "    return data"
   ]
  },
  {
   "cell_type": "code",
   "execution_count": 22,
   "metadata": {},
   "outputs": [
    {
     "data": {
      "application/javascript": [
       "\n",
       "            setTimeout(function() {\n",
       "                var nbb_cell_id = 22;\n",
       "                var nbb_unformatted_code = \"df2 = df.pipe(start_pipeline).pipe(binning_function)\";\n",
       "                var nbb_formatted_code = \"df2 = df.pipe(start_pipeline).pipe(binning_function)\";\n",
       "                var nbb_cells = Jupyter.notebook.get_cells();\n",
       "                for (var i = 0; i < nbb_cells.length; ++i) {\n",
       "                    if (nbb_cells[i].input_prompt_number == nbb_cell_id) {\n",
       "                        if (nbb_cells[i].get_text() == nbb_unformatted_code) {\n",
       "                             nbb_cells[i].set_text(nbb_formatted_code);\n",
       "                        }\n",
       "                        break;\n",
       "                    }\n",
       "                }\n",
       "            }, 500);\n",
       "            "
      ],
      "text/plain": [
       "<IPython.core.display.Javascript object>"
      ]
     },
     "metadata": {},
     "output_type": "display_data"
    }
   ],
   "source": [
    "df2 = df.pipe(start_pipeline).pipe(binning_function)"
   ]
  },
  {
   "cell_type": "code",
   "execution_count": 23,
   "metadata": {},
   "outputs": [
    {
     "data": {
      "application/javascript": [
       "\n",
       "            setTimeout(function() {\n",
       "                var nbb_cell_id = 23;\n",
       "                var nbb_unformatted_code = \"df2 = df2[[\\\"id\\\", \\\"target\\\", \\\"loan_amnt2\\\", \\\"addr_state2\\\", \\\"emp_length2\\\", \\\"DTI2\\\"]]\";\n",
       "                var nbb_formatted_code = \"df2 = df2[[\\\"id\\\", \\\"target\\\", \\\"loan_amnt2\\\", \\\"addr_state2\\\", \\\"emp_length2\\\", \\\"DTI2\\\"]]\";\n",
       "                var nbb_cells = Jupyter.notebook.get_cells();\n",
       "                for (var i = 0; i < nbb_cells.length; ++i) {\n",
       "                    if (nbb_cells[i].input_prompt_number == nbb_cell_id) {\n",
       "                        if (nbb_cells[i].get_text() == nbb_unformatted_code) {\n",
       "                             nbb_cells[i].set_text(nbb_formatted_code);\n",
       "                        }\n",
       "                        break;\n",
       "                    }\n",
       "                }\n",
       "            }, 500);\n",
       "            "
      ],
      "text/plain": [
       "<IPython.core.display.Javascript object>"
      ]
     },
     "metadata": {},
     "output_type": "display_data"
    }
   ],
   "source": [
    "df2 = df2[[\"id\", \"target\", \"loan_amnt2\", \"addr_state2\", \"emp_length2\", \"DTI2\"]]"
   ]
  },
  {
   "cell_type": "code",
   "execution_count": 24,
   "metadata": {},
   "outputs": [
    {
     "data": {
      "application/javascript": [
       "\n",
       "            setTimeout(function() {\n",
       "                var nbb_cell_id = 24;\n",
       "                var nbb_unformatted_code = \"# Function to explore differentiation of bucketing visually + cross tab\\ndef diff_visual(data, variable):\\n    %matplotlib inline\\n    table = pd.crosstab(data[variable], data[\\\"target\\\"])\\n    table.div(table.sum(1).astype(float), axis=0).plot(\\n        kind=\\\"bar\\\", color=[\\\"cadetblue\\\", \\\"crimson\\\"], stacked=True\\n    )\\n    plt.title(\\\"Stacked Bar Loan Amount vs Default Status\\\")\\n    # plt.xlabel(variable)\\n    plt.ylabel(\\\"Proportion of Accepts\\\")\\n\\n    x = pd.crosstab(data[variable], data[\\\"target\\\"]).apply(lambda r: r / r.sum(), axis=1)\\n    x = pd.DataFrame(x)\\n\\n    y = pd.crosstab(data[variable], data[\\\"target\\\"])\\n    y = pd.DataFrame(y)\\n\\n    return x, y\";\n",
       "                var nbb_formatted_code = \"# Function to explore differentiation of bucketing visually + cross tab\\ndef diff_visual(data, variable):\\n    %matplotlib inline\\n    table = pd.crosstab(data[variable], data[\\\"target\\\"])\\n    table.div(table.sum(1).astype(float), axis=0).plot(\\n        kind=\\\"bar\\\", color=[\\\"cadetblue\\\", \\\"crimson\\\"], stacked=True\\n    )\\n    plt.title(\\\"Stacked Bar Loan Amount vs Default Status\\\")\\n    # plt.xlabel(variable)\\n    plt.ylabel(\\\"Proportion of Accepts\\\")\\n\\n    x = pd.crosstab(data[variable], data[\\\"target\\\"]).apply(lambda r: r / r.sum(), axis=1)\\n    x = pd.DataFrame(x)\\n\\n    y = pd.crosstab(data[variable], data[\\\"target\\\"])\\n    y = pd.DataFrame(y)\\n\\n    return x, y\";\n",
       "                var nbb_cells = Jupyter.notebook.get_cells();\n",
       "                for (var i = 0; i < nbb_cells.length; ++i) {\n",
       "                    if (nbb_cells[i].input_prompt_number == nbb_cell_id) {\n",
       "                        if (nbb_cells[i].get_text() == nbb_unformatted_code) {\n",
       "                             nbb_cells[i].set_text(nbb_formatted_code);\n",
       "                        }\n",
       "                        break;\n",
       "                    }\n",
       "                }\n",
       "            }, 500);\n",
       "            "
      ],
      "text/plain": [
       "<IPython.core.display.Javascript object>"
      ]
     },
     "metadata": {},
     "output_type": "display_data"
    }
   ],
   "source": [
    "# Function to explore differentiation of bucketing visually + cross tab\n",
    "def diff_visual(data, variable):\n",
    "    %matplotlib inline\n",
    "    table = pd.crosstab(data[variable], data[\"target\"])\n",
    "    table.div(table.sum(1).astype(float), axis=0).plot(\n",
    "        kind=\"bar\", color=[\"cadetblue\", \"crimson\"], stacked=True\n",
    "    )\n",
    "    plt.title(\"Stacked Bar Loan Amount vs Default Status\")\n",
    "    # plt.xlabel(variable)\n",
    "    plt.ylabel(\"Proportion of Accepts\")\n",
    "\n",
    "    x = pd.crosstab(data[variable], data[\"target\"]).apply(lambda r: r / r.sum(), axis=1)\n",
    "    x = pd.DataFrame(x)\n",
    "\n",
    "    y = pd.crosstab(data[variable], data[\"target\"])\n",
    "    y = pd.DataFrame(y)\n",
    "\n",
    "    return x, y"
   ]
  },
  {
   "cell_type": "code",
   "execution_count": 25,
   "metadata": {},
   "outputs": [
    {
     "data": {
      "text/plain": [
       "(target             0         1\n",
       " loan_amnt2                    \n",
       " 1-10k       0.823922  0.176078\n",
       " <=1k        0.892308  0.107692\n",
       " >10k        0.775151  0.224849,\n",
       " target         0     1\n",
       " loan_amnt2            \n",
       " 1-10k       5063  1082\n",
       " <=1k          58     7\n",
       " >10k        6688  1940)"
      ]
     },
     "execution_count": 25,
     "metadata": {},
     "output_type": "execute_result"
    },
    {
     "data": {
      "image/png": "[encoded data removed]",
      "text/plain": [
       "<Figure size 432x288 with 1 Axes>"
      ]
     },
     "metadata": {
      "needs_background": "light"
     },
     "output_type": "display_data"
    },
    {
     "data": {
      "application/javascript": [
       "\n",
       "            setTimeout(function() {\n",
       "                var nbb_cell_id = 25;\n",
       "                var nbb_unformatted_code = \"diff_visual(df2, \\\"loan_amnt2\\\")\";\n",
       "                var nbb_formatted_code = \"diff_visual(df2, \\\"loan_amnt2\\\")\";\n",
       "                var nbb_cells = Jupyter.notebook.get_cells();\n",
       "                for (var i = 0; i < nbb_cells.length; ++i) {\n",
       "                    if (nbb_cells[i].input_prompt_number == nbb_cell_id) {\n",
       "                        if (nbb_cells[i].get_text() == nbb_unformatted_code) {\n",
       "                             nbb_cells[i].set_text(nbb_formatted_code);\n",
       "                        }\n",
       "                        break;\n",
       "                    }\n",
       "                }\n",
       "            }, 500);\n",
       "            "
      ],
      "text/plain": [
       "<IPython.core.display.Javascript object>"
      ]
     },
     "metadata": {},
     "output_type": "display_data"
    }
   ],
   "source": [
    "diff_visual(df2, \"loan_amnt2\")"
   ]
  },
  {
   "cell_type": "code",
   "execution_count": 26,
   "metadata": {},
   "outputs": [
    {
     "data": {
      "text/plain": [
       "(target              0         1\n",
       " emp_length2                    \n",
       " 1-2 years    0.801798  0.198202\n",
       " >2 years     0.773908  0.226092,\n",
       " target          0     1\n",
       " emp_length2            \n",
       " 1-2 years    9365  2315\n",
       " >2 years     2444   714)"
      ]
     },
     "execution_count": 26,
     "metadata": {},
     "output_type": "execute_result"
    },
    {
     "data": {
      "image/png": "[encoded data removed]",
      "text/plain": [
       "<Figure size 432x288 with 1 Axes>"
      ]
     },
     "metadata": {
      "needs_background": "light"
     },
     "output_type": "display_data"
    },
    {
     "data": {
      "application/javascript": [
       "\n",
       "            setTimeout(function() {\n",
       "                var nbb_cell_id = 26;\n",
       "                var nbb_unformatted_code = \"diff_visual(df2, \\\"emp_length2\\\")\";\n",
       "                var nbb_formatted_code = \"diff_visual(df2, \\\"emp_length2\\\")\";\n",
       "                var nbb_cells = Jupyter.notebook.get_cells();\n",
       "                for (var i = 0; i < nbb_cells.length; ++i) {\n",
       "                    if (nbb_cells[i].input_prompt_number == nbb_cell_id) {\n",
       "                        if (nbb_cells[i].get_text() == nbb_unformatted_code) {\n",
       "                             nbb_cells[i].set_text(nbb_formatted_code);\n",
       "                        }\n",
       "                        break;\n",
       "                    }\n",
       "                }\n",
       "            }, 500);\n",
       "            "
      ],
      "text/plain": [
       "<IPython.core.display.Javascript object>"
      ]
     },
     "metadata": {},
     "output_type": "display_data"
    }
   ],
   "source": [
    "diff_visual(df2, \"emp_length2\")"
   ]
  },
  {
   "cell_type": "code",
   "execution_count": 27,
   "metadata": {},
   "outputs": [
    {
     "data": {
      "text/plain": [
       "(target              0         1\n",
       " addr_state2                    \n",
       " Bad state    0.779883  0.220117\n",
       " California   0.793533  0.206467\n",
       " Good state   0.823040  0.176960,\n",
       " target          0     1\n",
       " addr_state2            \n",
       " Bad state    6133  1731\n",
       " California   1718   447\n",
       " Good state   3958   851)"
      ]
     },
     "execution_count": 27,
     "metadata": {},
     "output_type": "execute_result"
    },
    {
     "data": {
      "image/png": "[encoded data removed]",
      "text/plain": [
       "<Figure size 432x288 with 1 Axes>"
      ]
     },
     "metadata": {
      "needs_background": "light"
     },
     "output_type": "display_data"
    },
    {
     "data": {
      "application/javascript": [
       "\n",
       "            setTimeout(function() {\n",
       "                var nbb_cell_id = 27;\n",
       "                var nbb_unformatted_code = \"diff_visual(df2, \\\"addr_state2\\\")\";\n",
       "                var nbb_formatted_code = \"diff_visual(df2, \\\"addr_state2\\\")\";\n",
       "                var nbb_cells = Jupyter.notebook.get_cells();\n",
       "                for (var i = 0; i < nbb_cells.length; ++i) {\n",
       "                    if (nbb_cells[i].input_prompt_number == nbb_cell_id) {\n",
       "                        if (nbb_cells[i].get_text() == nbb_unformatted_code) {\n",
       "                             nbb_cells[i].set_text(nbb_formatted_code);\n",
       "                        }\n",
       "                        break;\n",
       "                    }\n",
       "                }\n",
       "            }, 500);\n",
       "            "
      ],
      "text/plain": [
       "<IPython.core.display.Javascript object>"
      ]
     },
     "metadata": {},
     "output_type": "display_data"
    }
   ],
   "source": [
    "diff_visual(df2, \"addr_state2\")"
   ]
  },
  {
   "cell_type": "code",
   "execution_count": 28,
   "metadata": {},
   "outputs": [
    {
     "data": {
      "text/plain": [
       "(target          0         1\n",
       " DTI2                       \n",
       " 0.1-0.2  0.831073  0.168927\n",
       " 0.2-0.3  0.781790  0.218210\n",
       " 0.3-0.4  0.715391  0.284609\n",
       " <=0.1    0.860377  0.139623\n",
       " >0.4     0.692008  0.307992,\n",
       " target      0    1\n",
       " DTI2              \n",
       " 0.1-0.2  4167  847\n",
       " 0.2-0.3  2988  834\n",
       " 0.3-0.4  1664  662\n",
       " <=0.1    2280  370\n",
       " >0.4      710  316)"
      ]
     },
     "execution_count": 28,
     "metadata": {},
     "output_type": "execute_result"
    },
    {
     "data": {
      "image/png": "[encoded data removed]",
      "text/plain": [
       "<Figure size 432x288 with 1 Axes>"
      ]
     },
     "metadata": {
      "needs_background": "light"
     },
     "output_type": "display_data"
    },
    {
     "data": {
      "application/javascript": [
       "\n",
       "            setTimeout(function() {\n",
       "                var nbb_cell_id = 28;\n",
       "                var nbb_unformatted_code = \"diff_visual(df2, \\\"DTI2\\\")\";\n",
       "                var nbb_formatted_code = \"diff_visual(df2, \\\"DTI2\\\")\";\n",
       "                var nbb_cells = Jupyter.notebook.get_cells();\n",
       "                for (var i = 0; i < nbb_cells.length; ++i) {\n",
       "                    if (nbb_cells[i].input_prompt_number == nbb_cell_id) {\n",
       "                        if (nbb_cells[i].get_text() == nbb_unformatted_code) {\n",
       "                             nbb_cells[i].set_text(nbb_formatted_code);\n",
       "                        }\n",
       "                        break;\n",
       "                    }\n",
       "                }\n",
       "            }, 500);\n",
       "            "
      ],
      "text/plain": [
       "<IPython.core.display.Javascript object>"
      ]
     },
     "metadata": {},
     "output_type": "display_data"
    }
   ],
   "source": [
    "diff_visual(df2, \"DTI2\")"
   ]
  },
  {
   "cell_type": "code",
   "execution_count": 29,
   "metadata": {},
   "outputs": [
    {
     "data": {
      "application/javascript": [
       "\n",
       "            setTimeout(function() {\n",
       "                var nbb_cell_id = 29;\n",
       "                var nbb_unformatted_code = \"# One hot encoding\\nmodelling_variables = [\\\"target\\\", \\\"loan_amnt2\\\", \\\"addr_state2\\\", \\\"emp_length2\\\", \\\"DTI2\\\"]\\n\\nfor i in modelling_variables:\\n    if i != \\\"target\\\":\\n        df2 = df2.join(pd.get_dummies(df2[i]))\\n        df2 = df2.drop([i], axis=1)\";\n",
       "                var nbb_formatted_code = \"# One hot encoding\\nmodelling_variables = [\\\"target\\\", \\\"loan_amnt2\\\", \\\"addr_state2\\\", \\\"emp_length2\\\", \\\"DTI2\\\"]\\n\\nfor i in modelling_variables:\\n    if i != \\\"target\\\":\\n        df2 = df2.join(pd.get_dummies(df2[i]))\\n        df2 = df2.drop([i], axis=1)\";\n",
       "                var nbb_cells = Jupyter.notebook.get_cells();\n",
       "                for (var i = 0; i < nbb_cells.length; ++i) {\n",
       "                    if (nbb_cells[i].input_prompt_number == nbb_cell_id) {\n",
       "                        if (nbb_cells[i].get_text() == nbb_unformatted_code) {\n",
       "                             nbb_cells[i].set_text(nbb_formatted_code);\n",
       "                        }\n",
       "                        break;\n",
       "                    }\n",
       "                }\n",
       "            }, 500);\n",
       "            "
      ],
      "text/plain": [
       "<IPython.core.display.Javascript object>"
      ]
     },
     "metadata": {},
     "output_type": "display_data"
    }
   ],
   "source": [
    "# One hot encoding\n",
    "modelling_variables = [\"target\", \"loan_amnt2\", \"addr_state2\", \"emp_length2\", \"DTI2\"]\n",
    "\n",
    "for i in modelling_variables:\n",
    "    if i != \"target\":\n",
    "        df2 = df2.join(pd.get_dummies(df2[i]))\n",
    "        df2 = df2.drop([i], axis=1)"
   ]
  },
  {
   "cell_type": "code",
   "execution_count": 30,
   "metadata": {},
   "outputs": [
    {
     "data": {
      "application/javascript": [
       "\n",
       "            setTimeout(function() {\n",
       "                var nbb_cell_id = 30;\n",
       "                var nbb_unformatted_code = \"# Drop Null Band\\ndf3 = df2.drop(columns=[\\\"1-10k\\\", \\\"California\\\", \\\">2 years\\\", \\\"0.2-0.3\\\"])\";\n",
       "                var nbb_formatted_code = \"# Drop Null Band\\ndf3 = df2.drop(columns=[\\\"1-10k\\\", \\\"California\\\", \\\">2 years\\\", \\\"0.2-0.3\\\"])\";\n",
       "                var nbb_cells = Jupyter.notebook.get_cells();\n",
       "                for (var i = 0; i < nbb_cells.length; ++i) {\n",
       "                    if (nbb_cells[i].input_prompt_number == nbb_cell_id) {\n",
       "                        if (nbb_cells[i].get_text() == nbb_unformatted_code) {\n",
       "                             nbb_cells[i].set_text(nbb_formatted_code);\n",
       "                        }\n",
       "                        break;\n",
       "                    }\n",
       "                }\n",
       "            }, 500);\n",
       "            "
      ],
      "text/plain": [
       "<IPython.core.display.Javascript object>"
      ]
     },
     "metadata": {},
     "output_type": "display_data"
    }
   ],
   "source": [
    "# Drop Null Band\n",
    "df3 = df2.drop(columns=[\"1-10k\", \"California\", \">2 years\", \"0.2-0.3\"])"
   ]
  },
  {
   "cell_type": "code",
   "execution_count": null,
   "metadata": {},
   "outputs": [],
   "source": [
    "X = df3.loc[:, df3.columns != \"target\"]\n",
    "y = df3.loc[:, df3.columns == \"target\"]"
   ]
  },
  {
   "cell_type": "code",
   "execution_count": null,
   "metadata": {},
   "outputs": [],
   "source": [
    "# Balance the data\n",
    "os = RandomUnderSampler(sampling_strategy=0.5, random_state=7)\n",
    "X_train, X_test, y_train, y_test = train_test_split(X, y, test_size=0.3, random_state=7)\n",
    "columns = X_train.columns"
   ]
  },
  {
   "cell_type": "code",
   "execution_count": null,
   "metadata": {},
   "outputs": [],
   "source": [
    "# Train\n",
    "os_data_X, os_data_y = os.fit_sample(X_train, y_train)\n",
    "os_data_X = pd.DataFrame(data=os_data_X, columns=columns)\n",
    "os_data_y = pd.DataFrame(data=os_data_y, columns=[\"target\"])\n",
    "\n",
    "# we can check the numbers of our data\n",
    "print(\n",
    "    \"The number of observations in Development data before undersampling is \",\n",
    "    len(X_train),\n",
    ")\n",
    "print(\n",
    "    \"The number of observations in Development data after undersampling is \",\n",
    "    len(os_data_X),\n",
    ")"
   ]
  },
  {
   "cell_type": "code",
   "execution_count": null,
   "metadata": {},
   "outputs": [],
   "source": [
    "# Keep only columns for modelling\n",
    "os_data_X_2 = os_data_X[\n",
    "    [\n",
    "        \"1-2 years\",\n",
    "        \"<=0.1\",\n",
    "        \"0.1-0.2\",\n",
    "        \"0.3-0.4\",\n",
    "        \">0.4\",\n",
    "    ]\n",
    "]\n",
    "X_test_2 = X_test[\n",
    "    [\n",
    "        \"1-2 years\",\n",
    "        \"<=0.1\",\n",
    "        \"0.1-0.2\",\n",
    "        \"0.3-0.4\",\n",
    "        \">0.4\",\n",
    "    ]\n",
    "]"
   ]
  },
  {
   "cell_type": "code",
   "execution_count": null,
   "metadata": {},
   "outputs": [],
   "source": [
    "# Build Logistic regression\n",
    "# Statmodels\n",
    "X_in = sm.add_constant(os_data_X_2.astype(float))\n",
    "logit_model = sm.Logit(os_data_y, X_in)\n",
    "result3 = logit_model.fit()\n",
    "print(result3.summary2())"
   ]
  },
  {
   "cell_type": "code",
   "execution_count": null,
   "metadata": {},
   "outputs": [],
   "source": [
    "# Sklearn\n",
    "logreg = LogisticRegression(fit_intercept=True, penalty=\"none\")\n",
    "logreg.fit(os_data_X_2, os_data_y.values.ravel())\n",
    "y_pred = logreg.predict(X_test_2)\n",
    "print(\"Accuracy score Logistic Regression:\", logreg.score(X_test_2, y_test))\n",
    "logit_roc_auc = roc_auc_score(y_test, logreg.predict(X_test_2))\n",
    "fpr, tpr, thresholds = roc_curve(y_test, logreg.predict_proba(X_test_2)[:, 1])\n",
    "plt.figure()\n",
    "plt.plot(fpr, tpr, label=\"Logistic Regression (area = %0.2f)\" % logit_roc_auc)\n",
    "plt.plot([0, 1], [0, 1], \"r--\")\n",
    "plt.xlim([0.0, 1.0])\n",
    "plt.ylim([0.0, 1.05])\n",
    "plt.xlabel(\"False Positive Rate\")\n",
    "plt.ylabel(\"True Positive Rate\")\n",
    "plt.title(\"Receiver operating characteristic\")\n",
    "plt.legend(loc=\"lower right\")\n",
    "plt.savefig(\"Log_ROC\")\n",
    "plt.show()"
   ]
  },
  {
   "cell_type": "code",
   "execution_count": null,
   "metadata": {},
   "outputs": [],
   "source": [
    "#Test set with labels\n",
    "test_labels = pd.merge(\n",
    "    y_test,\n",
    "    X_test,\n",
    "    how=\"inner\",\n",
    "    left_index=True,\n",
    "    right_index=True,\n",
    ")\n"
   ]
  },
  {
   "cell_type": "code",
   "execution_count": null,
   "metadata": {},
   "outputs": [],
   "source": [
    "# Predictions on testset\n",
    "test_pred = logreg.predict_proba(X_test_2)[:, 1]\n",
    "test_pred2 = pd.DataFrame(data=test_pred, columns=[\"prediction\"])\n",
    "test_pred2[\"count\"] = test_pred2.groupby(\"prediction\")[\"prediction\"].transform(\"count\")\n",
    "test_pred2.groupby([\"prediction\"]).count()\n",
    "test_pred2.describe()"
   ]
  },
  {
   "cell_type": "code",
   "execution_count": null,
   "metadata": {},
   "outputs": [],
   "source": [
    "# Join predictions with test new\n",
    "pred_test_kgb = pd.DataFrame(\n",
    "    data=test_pred, columns=[\"prediction_beforeRI\"], index=y_test.index.copy()\n",
    ")\n",
    "pred_test1 = pd.merge(\n",
    "    test_labels,\n",
    "    pred_test_kgb[[\"prediction_beforeRI\"]],\n",
    "    how=\"inner\",\n",
    "    left_index=True,\n",
    "    right_index=True,\n",
    ")\n",
    "\n",
    "# pred_test1.dropna(subset=[\"prediction_beforeRI\"], inplace=True)\n",
    "pred_test1"
   ]
  },
  {
   "cell_type": "code",
   "execution_count": null,
   "metadata": {},
   "outputs": [],
   "source": [
    "pred_test1.shape  # Expected nr. of observations"
   ]
  },
  {
   "cell_type": "markdown",
   "metadata": {},
   "source": [
    "### Random Forest"
   ]
  },
  {
   "cell_type": "code",
   "execution_count": null,
   "metadata": {},
   "outputs": [],
   "source": [
    "rf = RandomForestClassifier(max_depth=2, random_state=0)\n",
    "rf.fit(os_data_X_2, os_data_y.values.ravel())\n",
    "y_pred = rf.predict(X_test_2)\n",
    "print(\"Accuracy score Random Forest:\", rf.score(X_test_2, y_test))\n",
    "print(\"F1 score Random Forest:\", f1_score(y_pred, y_test, average=\"weighted\"))"
   ]
  },
  {
   "cell_type": "markdown",
   "metadata": {},
   "source": [
    "### Decision Tree"
   ]
  },
  {
   "cell_type": "code",
   "execution_count": null,
   "metadata": {},
   "outputs": [],
   "source": [
    "dt = DecisionTreeClassifier(random_state=0)\n",
    "dt.fit(os_data_X_2, os_data_y.values.ravel())\n",
    "y_pred = dt.predict(X_test_2)\n",
    "print(\"Accuracy score Decision Tree:\", dt.score(X_test_2, y_test))\n",
    "print(\"F1 score Decision Tree\", f1_score(y_pred, y_test, average=\"weighted\"))"
   ]
  },
  {
   "cell_type": "code",
   "execution_count": null,
   "metadata": {},
   "outputs": [],
   "source": [
    "unique, counts = np.unique(y_pred, return_counts=True)\n",
    "dict(zip(unique, counts))"
   ]
  },
  {
   "cell_type": "markdown",
   "metadata": {},
   "source": [
    "### SVM"
   ]
  },
  {
   "cell_type": "code",
   "execution_count": null,
   "metadata": {},
   "outputs": [],
   "source": [
    "svm = svm.SVC()\n",
    "svm.fit(os_data_X_2, os_data_y.values.ravel())\n",
    "y_pred = svm.predict(X_test_2)\n",
    "print(\"Accuracy score SVM:\", svm.score(X_test_2, y_test))\n",
    "print(\"F1 score SVM:\", f1_score(y_pred, y_test, average=\"weighted\"))"
   ]
  },
  {
   "cell_type": "markdown",
   "metadata": {},
   "source": [
    "### K-Means"
   ]
  },
  {
   "cell_type": "code",
   "execution_count": null,
   "metadata": {},
   "outputs": [],
   "source": [
    "km = KMeans(n_clusters=2)\n",
    "km.fit(os_data_X_2, os_data_y.values.ravel())\n",
    "y_pred = km.predict(X_test_2)"
   ]
  },
  {
   "cell_type": "markdown",
   "metadata": {},
   "source": [
    "### Hierarchical clustering"
   ]
  },
  {
   "cell_type": "code",
   "execution_count": null,
   "metadata": {},
   "outputs": [],
   "source": [
    "hc = AgglomerativeClustering(n_clusters=2, affinity=\"euclidean\", linkage=\"ward\")\n",
    "hc.fit_predict(os_data_X_2, os_data_y.values.ravel())\n",
    "y_pred = km.predict(X_test_2)"
   ]
  },
  {
   "cell_type": "markdown",
   "metadata": {},
   "source": [
    "### Light GBM Ranker"
   ]
  },
  {
   "cell_type": "code",
   "execution_count": null,
   "metadata": {},
   "outputs": [],
   "source": [
    "X_train_GBM, X_val, y_train_GBM, y_val = train_test_split(\n",
    "    os_data_X_2, os_data_y, test_size=0.2, random_state=1\n",
    ")"
   ]
  },
  {
   "cell_type": "code",
   "execution_count": null,
   "metadata": {},
   "outputs": [],
   "source": [
    "gbm = lgb.LGBMRanker()\n",
    "\n",
    "query_train = [X_train_GBM.shape[0]]\n",
    "query_val = [X_val.shape[0]]\n",
    "query_test = [X_test_2.shape[0]]\n",
    "\n",
    "gbm.fit(\n",
    "    X_train_GBM,\n",
    "    y_train_GBM,\n",
    "    group=query_train,\n",
    "    eval_set=[(X_val, y_val)],\n",
    "    eval_group=[query_val],\n",
    "    eval_at=[5, 10, 20],\n",
    "    early_stopping_rounds=50,\n",
    ")\n",
    "\n",
    "y_pred = gbm.predict(X_test_2)"
   ]
  },
  {
   "cell_type": "code",
   "execution_count": null,
   "metadata": {},
   "outputs": [],
   "source": [
    "X_test_2[\"prediction_beforeRI\"] = test_pred\n",
    "X_test_2.sort_values(\"prediction_beforeRI\", ascending=False)"
   ]
  },
  {
   "cell_type": "code",
   "execution_count": null,
   "metadata": {},
   "outputs": [],
   "source": [
    "plt.hist(X_test_2[\"prediction_beforeRI\"], bins=10)"
   ]
  },
  {
   "cell_type": "markdown",
   "metadata": {},
   "source": [
    "## Apply the KGB Model to the Rejects"
   ]
  },
  {
   "cell_type": "code",
   "execution_count": null,
   "metadata": {},
   "outputs": [],
   "source": [
    "# Sampling\n",
    "rejected_small = rejected.sample(n=10000, random_state=7)\n",
    "rejected_small.reset_index(drop=True, inplace=True)\n",
    "rejected_small.rename(columns={\"Amount Requested\": \"loan_amnt\"}, inplace=True)\n",
    "rejected_small.rename(columns={\"Employment Length\": \"emp_length_new\"}, inplace=True)\n",
    "rejected_small.rename(columns={\"State\": \"addr_state\"}, inplace=True)\n",
    "rejected_small.rename(columns={\"Debt-To-Income Ratio\": \"DTI\"}, inplace=True)\n",
    "rejected_small[\"DTI\"] = pd.to_numeric(rejected_small[\"DTI\"].str[:-1])\n",
    "dfr = rejected_small[[\"loan_amnt\", \"addr_state\", \"emp_length_new\", \"DTI\"]]"
   ]
  },
  {
   "cell_type": "code",
   "execution_count": null,
   "metadata": {},
   "outputs": [],
   "source": [
    "# Create unique id for the rejects (to facilitate merge later)\n",
    "dfr[\"id\"] = dfr.index.to_series().map(lambda x: uuid.uuid4())"
   ]
  },
  {
   "cell_type": "code",
   "execution_count": null,
   "metadata": {},
   "outputs": [],
   "source": [
    "# Map values of emp. length of accepts to the rejects\n",
    "dfr[\"emp_length\"] = dfr[\"emp_length_new\"].apply(\n",
    "    lambda x: \"< 1 year\"  # match name\n",
    "    if (x == \"1 year\" or x == \"< 1 year\" or x == \"2 years\")\n",
    "    else \">2 years\"\n",
    ")\n",
    "del dfr[\"emp_length_new\"]"
   ]
  },
  {
   "cell_type": "code",
   "execution_count": null,
   "metadata": {},
   "outputs": [],
   "source": [
    "# Train/Test Split (without labels)\n",
    "\n",
    "# Shuffle the dataset\n",
    "shuffle_df = dfr.sample(frac=1)\n",
    "\n",
    "# Define a size for your train set\n",
    "train_size = int(0.7 * len(shuffle_df))\n",
    "\n",
    "# Split your dataset\n",
    "dfr_dev = shuffle_df[:train_size]\n",
    "dfr_test = shuffle_df[train_size:]"
   ]
  },
  {
   "cell_type": "code",
   "execution_count": null,
   "metadata": {},
   "outputs": [],
   "source": [
    "# Bucketing Train set (based on the custom function)\n",
    "dfr_dev = dfr_dev.pipe(start_pipeline).pipe(binning_function)"
   ]
  },
  {
   "cell_type": "code",
   "execution_count": null,
   "metadata": {},
   "outputs": [],
   "source": [
    "dfr_dev = dfr_dev[[\"id\", \"loan_amnt2\", \"addr_state2\", \"emp_length2\", \"DTI2\"]]"
   ]
  },
  {
   "cell_type": "code",
   "execution_count": null,
   "metadata": {},
   "outputs": [],
   "source": [
    "# One hot encoding\n",
    "modelling_variables = [\"target\", \"loan_amnt2\", \"addr_state2\", \"emp_length2\", \"DTI2\"]\n",
    "\n",
    "for i in modelling_variables:\n",
    "    if i != \"target\":\n",
    "        dfr_dev = dfr_dev.join(pd.get_dummies(dfr_dev[i]))\n",
    "        dfr_dev = dfr_dev.drop([i], axis=1)"
   ]
  },
  {
   "cell_type": "code",
   "execution_count": null,
   "metadata": {},
   "outputs": [],
   "source": [
    "# Drop Null Band\n",
    "dfr_dev2 = dfr_dev.drop(columns=[\"1-10k\", \"California\", \">2 years\", \"0.2-0.3\"])"
   ]
  },
  {
   "cell_type": "code",
   "execution_count": null,
   "metadata": {},
   "outputs": [],
   "source": [
    "# Bucketing (based on a custom function)\n",
    "dfr_test = dfr_test.pipe(start_pipeline).pipe(binning_function)"
   ]
  },
  {
   "cell_type": "code",
   "execution_count": null,
   "metadata": {},
   "outputs": [],
   "source": [
    "# One hot encoding\n",
    "modelling_variables = [\"target\", \"loan_amnt2\", \"addr_state2\", \"emp_length2\", \"DTI2\"]\n",
    "\n",
    "for i in modelling_variables:\n",
    "    if i != \"target\":\n",
    "        dfr_test = dfr_test.join(pd.get_dummies(dfr_test[i]))\n",
    "        dfr_test = dfr_test.drop([i], axis=1)"
   ]
  },
  {
   "cell_type": "code",
   "execution_count": null,
   "metadata": {},
   "outputs": [],
   "source": [
    "# Drop Null Band\n",
    "dfr_test2 = dfr_test.drop(\n",
    "    columns=[\n",
    "        \"loan_amnt\",\n",
    "        \"addr_state\",\n",
    "        \"emp_length\",\n",
    "        \"1-10k\",\n",
    "        \"California\",\n",
    "        \">2 years\",\n",
    "        \"0.2-0.3\",\n",
    "    ]\n",
    ")"
   ]
  },
  {
   "cell_type": "code",
   "execution_count": null,
   "metadata": {},
   "outputs": [],
   "source": [
    "dfr_dev3 = dfr_dev2[\n",
    "    [\n",
    "        \"1-2 years\",\n",
    "        \"<=0.1\",\n",
    "        \"0.1-0.2\",\n",
    "        \"0.3-0.4\",\n",
    "        \">0.4\",\n",
    "    ]\n",
    "]\n",
    "dfr_test3 = dfr_test2[\n",
    "    [\n",
    "        \"1-2 years\",\n",
    "        \"<=0.1\",\n",
    "        \"0.1-0.2\",\n",
    "        \"0.3-0.4\",\n",
    "        \">0.4\",\n",
    "    ]\n",
    "]"
   ]
  },
  {
   "cell_type": "markdown",
   "metadata": {},
   "source": [
    "### Function for predictions"
   ]
  },
  {
   "cell_type": "markdown",
   "metadata": {},
   "source": [
    "Predictions1 uses predict_proba; predictions 2 uses predict"
   ]
  },
  {
   "cell_type": "code",
   "execution_count": null,
   "metadata": {},
   "outputs": [],
   "source": [
    "def predictions1(model, treshold):\n",
    "    # Join predictions with train new\n",
    "    pred = model.predict_proba(dfr_dev3)[:, 1]\n",
    "    pred2 = pd.DataFrame(\n",
    "        data=pred,\n",
    "        columns=[\"prediction2\"],\n",
    "        index=dfr_dev2.index.copy(),\n",
    "    )\n",
    "    pred2[\"prediction_beforeRI\"] = pred2[\"prediction2\"].apply(\n",
    "        lambda x: 0 if (x < treshold) else 1\n",
    "    )\n",
    "    outcome = pd.merge(\n",
    "        dfr_dev2,\n",
    "        pred2[[\"prediction_beforeRI\"]],\n",
    "        how=\"inner\",\n",
    "        left_index=True,\n",
    "        right_index=True,\n",
    "    )\n",
    "    # pred_test1.dropna(subset=[\"prediction_beforeRI\"], inplace=True)\n",
    "    outcome = outcome[[\"id\", \"prediction_beforeRI\"]]\n",
    "    return outcome"
   ]
  },
  {
   "cell_type": "code",
   "execution_count": null,
   "metadata": {},
   "outputs": [],
   "source": [
    "def predictions2(model, treshold):\n",
    "    # Join predictions with train new\n",
    "    pred = model.predict(dfr_dev3)\n",
    "    pred2 = pd.DataFrame(\n",
    "        data=pred,\n",
    "        columns=[\"prediction2\"],\n",
    "        index=dfr_dev2.index.copy(),\n",
    "    )\n",
    "    pred2[\"prediction_beforeRI\"] = pred2[\"prediction2\"].apply(\n",
    "        lambda x: 0 if (x < treshold) else 1\n",
    "    )\n",
    "    outcome = pd.merge(\n",
    "        dfr_dev2,\n",
    "        pred2[[\"prediction_beforeRI\"]],\n",
    "        how=\"inner\",\n",
    "        left_index=True,\n",
    "        right_index=True,\n",
    "    )\n",
    "    # pred_test1.dropna(subset=[\"prediction_beforeRI\"], inplace=True)\n",
    "    outcome = outcome[[\"id\", \"prediction_beforeRI\"]]\n",
    "    return outcome"
   ]
  },
  {
   "cell_type": "markdown",
   "metadata": {},
   "source": [
    "### Predictions"
   ]
  },
  {
   "cell_type": "code",
   "execution_count": null,
   "metadata": {},
   "outputs": [],
   "source": [
    "ri1_train = predictions1(logreg, 0.3)  # Logistic Regression\n",
    "ri2_train = predictions1(dt, 0.3)  # Decision Tree\n",
    "ri3_train = predictions1(rf, 0.3)  # Random Forest\n",
    "ri4_train = predictions2(svm, 0.3)  # SVM\n",
    "ri5_train = predictions2(km, 0.3)  # K-means on Accepts\n",
    "ri8_train = predictions2(gbm, 0.2)  # Light GBM ranking 0.2\n",
    "ri9_train = predictions2(gbm, 0.1)  # Light GBM ranking 0.1"
   ]
  },
  {
   "cell_type": "markdown",
   "metadata": {},
   "source": [
    "### K-Means"
   ]
  },
  {
   "cell_type": "markdown",
   "metadata": {},
   "source": [
    "to-do:\n",
    "- grid search/hypterparameter optimization\n",
    "- visualization"
   ]
  },
  {
   "cell_type": "code",
   "execution_count": null,
   "metadata": {},
   "outputs": [],
   "source": [
    "kmeans = KMeans(\n",
    "    init=\"random\", n_clusters=2, n_init=10, max_iter=300, random_state=7\n",
    ").fit(dfr_dev3)"
   ]
  },
  {
   "cell_type": "code",
   "execution_count": null,
   "metadata": {},
   "outputs": [],
   "source": [
    "print(\"Inertia: \", kmeans.inertia_)\n",
    "print(\"Cluster centers: \", kmeans.cluster_centers_)\n",
    "print(\"N iter: \", kmeans.n_iter_)\n",
    "print(\"Labels: \", kmeans.labels_)"
   ]
  },
  {
   "cell_type": "markdown",
   "metadata": {},
   "source": [
    "### Reject Inference K-means"
   ]
  },
  {
   "cell_type": "markdown",
   "metadata": {},
   "source": [
    "### Train set"
   ]
  },
  {
   "cell_type": "code",
   "execution_count": null,
   "metadata": {},
   "outputs": [],
   "source": [
    "# Predictions\n",
    "rej_test_predictions_kmeans = kmeans.labels_\n",
    "df_pred_rej_kmeans = pd.DataFrame(\n",
    "    data=rej_test_predictions_kmeans, columns=[\"prediction\"]\n",
    ")\n",
    "df_pred_rej_kmeans[\"Rejects\"] = df_pred_rej_kmeans.groupby(\"prediction\")[\n",
    "    \"prediction\"\n",
    "].transform(\"count\")\n",
    "df_pred_rej_kmeans.groupby([\"prediction\"]).count()"
   ]
  },
  {
   "cell_type": "code",
   "execution_count": null,
   "metadata": {},
   "outputs": [],
   "source": [
    "# Join predictions with train new\n",
    "pred_ri = kmeans.labels_\n",
    "pred_ri2 = pd.DataFrame(\n",
    "    data=pred_ri, columns=[\"prediction_beforeRI\"], index=dfr_dev2.index.copy()\n",
    ")\n",
    "ri6 = pd.merge(\n",
    "    dfr_dev2,\n",
    "    pred_ri2[[\"prediction_beforeRI\"]],\n",
    "    how=\"inner\",\n",
    "    left_index=True,\n",
    "    right_index=True,\n",
    ")\n",
    "# pred_test1.dropna(subset=[\"prediction_beforeRI\"], inplace=True)\n",
    "ri6_train = ri6[[\"id\", \"prediction_beforeRI\"]]\n",
    "ri6_train"
   ]
  },
  {
   "cell_type": "markdown",
   "metadata": {},
   "source": [
    "### Test Set"
   ]
  },
  {
   "cell_type": "code",
   "execution_count": null,
   "metadata": {},
   "outputs": [],
   "source": [
    "# Predictions\n",
    "rej_test_predictions_kmeans2 = kmeans.predict(dfr_test3)\n",
    "df_pred_rej_kmeans2 = pd.DataFrame(\n",
    "    data=rej_test_predictions_kmeans2,\n",
    "    columns=[\"prediction\"],\n",
    "    index=dfr_test2.index.copy(),\n",
    ")\n",
    "df_pred_rej_kmeans2[\"Rejects\"] = df_pred_rej_kmeans2.groupby(\"prediction\")[\n",
    "    \"prediction\"\n",
    "].transform(\"count\")\n",
    "df_pred_rej_kmeans2.groupby([\"prediction\"]).count()"
   ]
  },
  {
   "cell_type": "code",
   "execution_count": null,
   "metadata": {},
   "outputs": [],
   "source": [
    "# Join predictions with test new\n",
    "pred_test_ri = kmeans.predict(dfr_test3)\n",
    "pred_test_ri6 = pd.DataFrame(\n",
    "    data=pred_test_ri, columns=[\"prediction_beforeRI\"], index=dfr_test2.index.copy()\n",
    ")\n",
    "ri6_testing = pd.merge(\n",
    "    dfr_test2,\n",
    "    pred_test_ri6[[\"prediction_beforeRI\"]],\n",
    "    how=\"inner\",\n",
    "    left_index=True,\n",
    "    right_index=True,\n",
    ")\n",
    "# pred_test1.dropna(subset=[\"prediction_beforeRI\"], inplace=True)\n",
    "ri6_test = ri6_testing[[\"id\", \"prediction_beforeRI\"]]\n",
    "ri6_test"
   ]
  },
  {
   "cell_type": "code",
   "execution_count": null,
   "metadata": {},
   "outputs": [],
   "source": [
    "# Check correlations\n",
    "ri6_testing[ri6_testing.columns[1:]].corr()[\"prediction_beforeRI\"][:]"
   ]
  },
  {
   "cell_type": "markdown",
   "metadata": {},
   "source": [
    "### Hierarchical Clustering"
   ]
  },
  {
   "cell_type": "code",
   "execution_count": null,
   "metadata": {},
   "outputs": [],
   "source": [
    "cluster = AgglomerativeClustering(n_clusters=2, affinity=\"euclidean\", linkage=\"ward\")\n",
    "cluster.fit_predict(dfr_dev3)"
   ]
  },
  {
   "cell_type": "code",
   "execution_count": null,
   "metadata": {},
   "outputs": [],
   "source": [
    "# Predictions\n",
    "rej_test_predictions_aggl = cluster.labels_\n",
    "df_pred_rej_aggl = pd.DataFrame(data=rej_test_predictions_aggl, columns=[\"prediction\"])\n",
    "df_pred_rej_aggl[\"Rejects\"] = df_pred_rej_aggl.groupby(\"prediction\")[\n",
    "    \"prediction\"\n",
    "].transform(\"count\")\n",
    "df_pred_rej_aggl.groupby([\"prediction\"]).count()"
   ]
  },
  {
   "cell_type": "code",
   "execution_count": null,
   "metadata": {},
   "outputs": [],
   "source": [
    "# Join predictions with train new\n",
    "pred_ri_aggl = cluster.labels_\n",
    "pred_ri_aggl2 = pd.DataFrame(\n",
    "    data=pred_ri_aggl,\n",
    "    columns=[\"prediction_beforeRI\"],\n",
    "    index=dfr_dev2.index.copy(),\n",
    ")\n",
    "ri7 = pd.merge(\n",
    "    dfr_dev2,\n",
    "    pred_ri_aggl2[[\"prediction_beforeRI\"]],\n",
    "    how=\"inner\",\n",
    "    left_index=True,\n",
    "    right_index=True,\n",
    ")\n",
    "# pred_test1.dropna(subset=[\"prediction_beforeRI\"], inplace=True)\n",
    "ri7_train = ri7[[\"id\", \"prediction_beforeRI\"]]\n",
    "ri7_train"
   ]
  },
  {
   "cell_type": "code",
   "execution_count": null,
   "metadata": {},
   "outputs": [],
   "source": [
    "# Check correlations\n",
    "ri7[ri7.columns[1:]].corr()[\"prediction_beforeRI\"][:]"
   ]
  },
  {
   "cell_type": "markdown",
   "metadata": {},
   "source": [
    "### Evaluation Measures"
   ]
  },
  {
   "cell_type": "code",
   "execution_count": null,
   "metadata": {},
   "outputs": [],
   "source": [
    "def print_results(data, state, prediction):\n",
    "    print(\n",
    "        \"The number of accurately classified cases \",\n",
    "        state,\n",
    "        \" is: \",\n",
    "        data[\n",
    "            (data.target == 1) & (data[prediction] == 1)\n",
    "            | (data.target == 0) & (data[prediction] == 0)\n",
    "        ].shape[0],\n",
    "    )\n",
    "    print(\n",
    "        \"The number of misclassified cases \",\n",
    "        state,\n",
    "        \" is: \",\n",
    "        data[\n",
    "            (data.target == 1) & (data[prediction] == 0)\n",
    "            | (data.target == 0) & (data[prediction] == 1)\n",
    "        ].shape[0],\n",
    "    )"
   ]
  },
  {
   "cell_type": "code",
   "execution_count": null,
   "metadata": {},
   "outputs": [],
   "source": [
    "def evaluation(ri_data):  # ri1_train, ri2_train, etc..\n",
    "\n",
    "    # TRAIN NEW\n",
    "    # Join labels to train set\n",
    "    # Accepts\n",
    "    train_accepts = pd.merge(\n",
    "        os_data_X, os_data_y[[\"target\"]], how=\"left\", left_index=True, right_index=True\n",
    "    )\n",
    "\n",
    "    train_accepts[\"Flag1\"] = \"Accept\"\n",
    "\n",
    "    # Rejects\n",
    "    train_rejects = pd.merge(\n",
    "        dfr_dev2,\n",
    "        ri_data[[\"prediction_beforeRI\"]],\n",
    "        how=\"left\",\n",
    "        left_index=True,\n",
    "        right_index=True,\n",
    "    )\n",
    "\n",
    "    # Drop Null values and align naming\n",
    "    train_accepts.dropna(subset=[\"target\"], inplace=True)\n",
    "    train_rejects.rename(columns={\"prediction_beforeRI\": \"target\"}, inplace=True)\n",
    "\n",
    "    # Concatenate Train Accepts and Train Rejects\n",
    "    train_new = pd.concat([train_accepts, train_rejects])\n",
    "\n",
    "    # Flag\n",
    "    train_new[\"Flag\"] = train_new[\"Flag1\"].apply(\n",
    "        lambda x: \"Accept\" if x == \"Accept\" else \"Reject\"\n",
    "    )\n",
    "    train_new = train_new.drop(columns=[\"Flag1\", \"<=1k\", \">10k\"])\n",
    "\n",
    "    # Retrain KGB Model\n",
    "\n",
    "    # Split\n",
    "    X_new = train_new.loc[:, train_new.columns != \"target\"]\n",
    "    X_new = X_new.loc[:, X_new.columns != \"Flag\"]\n",
    "    y_new = train_new.loc[:, train_new.columns == \"target\"]\n",
    "    X_train_new, X_test_new, y_train_new, y_test_new = train_test_split(\n",
    "        X_new, y_new, test_size=0.3, random_state=7\n",
    "    )\n",
    "\n",
    "    # Keep only columns for modelling\n",
    "    os_data_X_2_new = X_train_new[\n",
    "        [\n",
    "            \"1-2 years\",\n",
    "            \"<=0.1\",\n",
    "            \"0.1-0.2\",\n",
    "            \"0.3-0.4\",\n",
    "            \">0.4\",\n",
    "        ]\n",
    "    ]\n",
    "    X_test_2_new = X_test_new[\n",
    "        [\n",
    "            \"1-2 years\",\n",
    "            \"<=0.1\",\n",
    "            \"0.1-0.2\",\n",
    "            \"0.3-0.4\",\n",
    "            \">0.4\",\n",
    "        ]\n",
    "    ]\n",
    "\n",
    "    # Build Logistic regression\n",
    "    logreg = LogisticRegression(fit_intercept=False, penalty=\"none\")\n",
    "    logreg.fit(os_data_X_2_new, y_train_new.values.ravel())\n",
    "\n",
    "    # TEST NEW\n",
    "    # Join labels to test set\n",
    "    # Accepts\n",
    "    test_accepts = pd.merge(\n",
    "        X_test, y_test[[\"target\"]], how=\"left\", left_index=True, right_index=True\n",
    "    )\n",
    "\n",
    "    test_accepts[\"Flag1\"] = \"Accept\"\n",
    "\n",
    "    # Rejects\n",
    "    test_rejects = pd.merge(\n",
    "        dfr_test2,\n",
    "        ri_data[[\"prediction_beforeRI\"]],\n",
    "        how=\"left\",\n",
    "        left_index=True,\n",
    "        right_index=True,\n",
    "    )\n",
    "\n",
    "    # Drop Null values and align naming\n",
    "    test_accepts.dropna(subset=[\"target\"], inplace=True)\n",
    "    test_rejects.rename(columns={\"prediction_beforeRI\": \"target\"}, inplace=True)\n",
    "    test_rejects.dropna(subset=[\"target\"], inplace=True)\n",
    "\n",
    "    # Concatenate Test Accepts and Test Rejects\n",
    "    test_new = pd.concat([test_accepts, test_rejects])\n",
    "\n",
    "    # Flag\n",
    "    test_new[\"Flag\"] = test_new[\"Flag1\"].apply(\n",
    "        lambda x: \"Accept\" if x == \"Accept\" else \"Reject\"\n",
    "    )\n",
    "\n",
    "    test_new = test_new.drop(columns=[\"DTI\", \"Flag1\", \"<=1k\", \">10k\"])\n",
    "\n",
    "    test_new = test_new.reset_index(drop=True)\n",
    "\n",
    "    X_test_new = test_new.loc[:, test_new.columns != \"target\"]\n",
    "    X_test_new2 = X_test_new.loc[:, X_test_new.columns != \"Flag\"]\n",
    "    X_test_new3 = X_test_new2.loc[:, X_test_new2.columns != \"id\"]\n",
    "    X_test_new4 = X_test_new3.loc[:, X_test_new3.columns != \">10k\"]\n",
    "    y_test_new = test_new.loc[:, test_new.columns == \"target\"]\n",
    "\n",
    "    # PREDICTIONS\n",
    "    # Join predictions with test new\n",
    "    test_new_pred = logreg.predict_proba(X_test_new4)[:, 1]\n",
    "    pred_test_df = pd.DataFrame(\n",
    "        data=test_new_pred, columns=[\"prediction_afterRI\"], index=test_new.index.copy()\n",
    "    )\n",
    "    pred_test = pd.merge(\n",
    "        test_new,\n",
    "        pred_test_df[[\"prediction_afterRI\"]],\n",
    "        how=\"inner\",\n",
    "        left_index=True,\n",
    "        right_index=True,\n",
    "    )\n",
    "    # pred_test1.dropna(subset=[\"prediction_beforeRI\"], inplace=True)\n",
    "    pred_test\n",
    "\n",
    "    a1 = pred_test1[[\"id\", \"target\", \"prediction_beforeRI\"]]\n",
    "    a2 = pred_test[[\"id\", \"Flag\", \"prediction_afterRI\"]]\n",
    "\n",
    "    # Join (outer to get full sample)\n",
    "    a1_a2_outer = pd.merge(a1, a2, how=\"outer\", on=\"id\")\n",
    "    # Join (inner to get only accepts and be able to compare)\n",
    "    a1_a2_inner = pd.merge(a1, a2, how=\"inner\", on=\"id\")\n",
    "    a1_a2_inner\n",
    "\n",
    "    # Make binary predictions based on cutoff 0.3\n",
    "    a1_a2_inner[\"prediction_beforeRI_binary\"] = a1_a2_inner[\n",
    "        \"prediction_beforeRI\"\n",
    "    ].apply(lambda x: 0 if (x < 0.3) else 1)\n",
    "    a1_a2_inner[\"prediction_afterRI_binary\"] = a1_a2_inner[\"prediction_afterRI\"].apply(\n",
    "        lambda x: 0 if (x < 0.3) else 1\n",
    "    )\n",
    "\n",
    "    print_results(a1_a2_inner, \"before RI\", \"prediction_beforeRI_binary\")\n",
    "    print_results(a1_a2_inner, \"after RI\", \"prediction_afterRI_binary\")"
   ]
  },
  {
   "cell_type": "code",
   "execution_count": null,
   "metadata": {},
   "outputs": [],
   "source": [
    "evaluation(ri1_train)  # Simple Augmentation - Log Reg"
   ]
  },
  {
   "cell_type": "code",
   "execution_count": null,
   "metadata": {},
   "outputs": [],
   "source": [
    "evaluation(ri2_train)  # Decision Tree"
   ]
  },
  {
   "cell_type": "code",
   "execution_count": null,
   "metadata": {},
   "outputs": [],
   "source": [
    "evaluation(ri3_train)  # Random Forest"
   ]
  },
  {
   "cell_type": "code",
   "execution_count": null,
   "metadata": {},
   "outputs": [],
   "source": [
    "evaluation(ri4_train)  # SVM"
   ]
  },
  {
   "cell_type": "code",
   "execution_count": null,
   "metadata": {},
   "outputs": [],
   "source": [
    "evaluation(ri5_train)  # K-Means on Accepts"
   ]
  },
  {
   "cell_type": "code",
   "execution_count": null,
   "metadata": {},
   "outputs": [],
   "source": [
    "evaluation(ri6_train)  # K-Means on Rejects"
   ]
  },
  {
   "cell_type": "code",
   "execution_count": null,
   "metadata": {},
   "outputs": [],
   "source": [
    "evaluation(ri7_train)  # Hierarchical clustering on Rejects"
   ]
  },
  {
   "cell_type": "code",
   "execution_count": null,
   "metadata": {},
   "outputs": [],
   "source": [
    "evaluation(ri8_train)  # LightGBM Ranking (treshold 0.2)"
   ]
  },
  {
   "cell_type": "code",
   "execution_count": null,
   "metadata": {},
   "outputs": [],
   "source": [
    "evaluation(ri9_train)  # LightGBM Ranking (treshold 0.1)"
   ]
  },
  {
   "cell_type": "code",
   "execution_count": null,
   "metadata": {},
   "outputs": [],
   "source": []
  },
  {
   "cell_type": "code",
   "execution_count": null,
   "metadata": {},
   "outputs": [],
   "source": []
  },
  {
   "cell_type": "code",
   "execution_count": null,
   "metadata": {},
   "outputs": [],
   "source": []
  },
  {
   "cell_type": "markdown",
   "metadata": {},
   "source": [
    "## **DON'T RUN AFTER HERE**"
   ]
  },
  {
   "cell_type": "code",
   "execution_count": null,
   "metadata": {},
   "outputs": [],
   "source": [
    "to do: Try LambdaRANK, LambdaMART\n",
    "\n",
    "from LambdaRankNN import LambdaRankNN\n",
    "\n",
    "qid = [os_data_X_2.shape[0]]\n",
    "\n",
    "ranker = LambdaRankNN(\n",
    "    input_size=X.shape[1],\n",
    "    hidden_layer_sizes=(\n",
    "        16,\n",
    "        8,\n",
    "    ),\n",
    "    activation=(\n",
    "        \"relu\",\n",
    "        \"relu\",\n",
    "    ),\n",
    "    solver=\"adam\",\n",
    ")\n",
    "ranker.fit(os_data_X_2, os_data_y, qid, epochs=5)\n",
    "y_pred = ranker.predict(X_test_2)\n",
    "ranker.evaluate(os_data_X_2, os_data_y, qid, eval_at=2)\n",
    "\n",
    "import pyltr"
   ]
  },
  {
   "cell_type": "markdown",
   "metadata": {},
   "source": [
    "### Predictions: Logistic Regression"
   ]
  },
  {
   "cell_type": "code",
   "execution_count": null,
   "metadata": {},
   "outputs": [],
   "source": [
    "# Predictions\n",
    "rej_test_predictions = logreg.predict_proba(dfr_dev3)[:, 1]\n",
    "df_pred_rej = pd.DataFrame(\n",
    "    data=rej_test_predictions,\n",
    "    columns=[\"prediction_beforeRI\"],\n",
    "    index=dfr_dev2.index.copy(),\n",
    ")\n",
    "df_pred_rej[\"Rejects\"] = df_pred_rej.groupby(\"prediction_beforeRI\")[\n",
    "    \"prediction_beforeRI\"\n",
    "].transform(\"count\")\n",
    "df_pred_rej.groupby([\"prediction_beforeRI\"]).count()"
   ]
  },
  {
   "cell_type": "markdown",
   "metadata": {},
   "source": [
    "### Reject Inference: Simple Augmentation (arbitrary cutoff 0.3)"
   ]
  },
  {
   "cell_type": "code",
   "execution_count": null,
   "metadata": {},
   "outputs": [],
   "source": [
    "# Join predictions with train new\n",
    "pred_ri = logreg.predict_proba(dfr_dev3)[:, 1]\n",
    "pred_ri1 = pd.DataFrame(\n",
    "    data=pred_ri,\n",
    "    columns=[\"prediction2\"],\n",
    "    index=dfr_dev2.index.copy(),\n",
    ")\n",
    "pred_ri1[\"prediction_beforeRI\"] = pred_ri1[\"prediction2\"].apply(\n",
    "    lambda x: 0 if (x < 0.3) else 1\n",
    ")\n",
    "ri1 = pd.merge(\n",
    "    dfr_dev2,\n",
    "    pred_ri1[[\"prediction_beforeRI\"]],\n",
    "    how=\"inner\",\n",
    "    left_index=True,\n",
    "    right_index=True,\n",
    ")\n",
    "# pred_test1.dropna(subset=[\"prediction_beforeRI\"], inplace=True)\n",
    "ri1_train = ri1[[\"id\", \"prediction_beforeRI\"]]\n",
    "ri1_train"
   ]
  },
  {
   "cell_type": "markdown",
   "metadata": {},
   "source": [
    "### Predictions: Random Forest"
   ]
  },
  {
   "cell_type": "code",
   "execution_count": null,
   "metadata": {},
   "outputs": [],
   "source": [
    "# Join predictions with train new\n",
    "pred_rf_ri = clf.predict_proba(dfr_dev3)[:, 1]\n",
    "pred_rf_ri1 = pd.DataFrame(\n",
    "    data=pred_rf_ri,\n",
    "    columns=[\"prediction2\"],\n",
    "    index=dfr_dev2.index.copy(),\n",
    ")\n",
    "pred_rf_ri1[\"prediction_beforeRI\"] = pred_rf_ri1[\"prediction2\"].apply(\n",
    "    lambda x: 0 if (x < 0.3) else 1\n",
    ")\n",
    "ri4 = pd.merge(\n",
    "    dfr_dev2,\n",
    "    pred_rf_ri1[[\"prediction_beforeRI\"]],\n",
    "    how=\"inner\",\n",
    "    left_index=True,\n",
    "    right_index=True,\n",
    ")\n",
    "# pred_test1.dropna(subset=[\"prediction_beforeRI\"], inplace=True)\n",
    "ri4_train = ri4[[\"id\", \"prediction_beforeRI\"]]\n",
    "ri4_train"
   ]
  },
  {
   "cell_type": "markdown",
   "metadata": {},
   "source": [
    "#### Prepare Train New"
   ]
  },
  {
   "cell_type": "code",
   "execution_count": null,
   "metadata": {},
   "outputs": [],
   "source": [
    "# Join labels to train set\n",
    "# Accepts\n",
    "train_accepts = pd.merge(\n",
    "    os_data_X, os_data_y[[\"target\"]], how=\"left\", left_index=True, right_index=True\n",
    ")\n",
    "\n",
    "train_accepts[\"Flag1\"] = \"Accept\"\n",
    "\n",
    "# Rejects\n",
    "train_rejects = pd.merge(\n",
    "    dfr_dev2,\n",
    "    ri2_train[[\"prediction_beforeRI\"]],\n",
    "    how=\"left\",\n",
    "    left_index=True,\n",
    "    right_index=True,\n",
    ")\n",
    "\n",
    "# Drop Null values and align naming\n",
    "train_accepts.dropna(subset=[\"target\"], inplace=True)\n",
    "train_rejects.rename(columns={\"prediction_beforeRI\": \"target\"}, inplace=True)"
   ]
  },
  {
   "cell_type": "code",
   "execution_count": null,
   "metadata": {},
   "outputs": [],
   "source": [
    "# Concatenate Train Accepts and Train Rejects\n",
    "train_new = pd.concat([train_accepts, train_rejects])"
   ]
  },
  {
   "cell_type": "code",
   "execution_count": null,
   "metadata": {},
   "outputs": [],
   "source": [
    "train_new.shape  # As expected"
   ]
  },
  {
   "cell_type": "code",
   "execution_count": null,
   "metadata": {},
   "outputs": [],
   "source": [
    "# Flag\n",
    "train_new[\"Flag\"] = train_new[\"Flag1\"].apply(\n",
    "    lambda x: \"Accept\" if x == \"Accept\" else \"Reject\"\n",
    ")\n",
    "train_new = train_new.drop(columns=[\"Flag1\", \"DTI\", \"<=1k\", \">10k\"])"
   ]
  },
  {
   "cell_type": "code",
   "execution_count": null,
   "metadata": {},
   "outputs": [],
   "source": [
    "train_new"
   ]
  },
  {
   "cell_type": "code",
   "execution_count": null,
   "metadata": {},
   "outputs": [],
   "source": [
    "# Retrain KGB Model\n",
    "\n",
    "# Split\n",
    "X_new = train_new.loc[:, train_new.columns != \"target\"]\n",
    "X_new = X_new.loc[:, X_new.columns != \"Flag\"]\n",
    "y_new = train_new.loc[:, train_new.columns == \"target\"]\n",
    "X_train_new, X_test_new, y_train_new, y_test_new = train_test_split(\n",
    "    X_new, y_new, test_size=0.3, random_state=7\n",
    ")\n",
    "\n",
    "# Keep only columns for modelling\n",
    "os_data_X_2_new = X_train_new[\n",
    "    [\n",
    "        \"Good state\",\n",
    "        \"Bad state\",\n",
    "        \"1-2 years\",\n",
    "        \"<=0.1\",\n",
    "        \"0.1-0.2\",\n",
    "        \"0.3-0.4\",\n",
    "        \">0.4\",\n",
    "    ]\n",
    "]\n",
    "X_test_2_new = X_test_new[\n",
    "    [\n",
    "        \"Good state\",\n",
    "        \"Bad state\",\n",
    "        \"1-2 years\",\n",
    "        \"<=0.1\",\n",
    "        \"0.1-0.2\",\n",
    "        \"0.3-0.4\",\n",
    "        \">0.4\",\n",
    "    ]\n",
    "]\n",
    "\n",
    "# Build Logistic regression\n",
    "logreg = LogisticRegression(fit_intercept=False, penalty=\"none\")\n",
    "logreg.fit(os_data_X_2_new, y_train_new.values.ravel())"
   ]
  },
  {
   "cell_type": "markdown",
   "metadata": {},
   "source": [
    "#### Prepare Test New"
   ]
  },
  {
   "cell_type": "code",
   "execution_count": null,
   "metadata": {},
   "outputs": [],
   "source": [
    "# Join labels to test set\n",
    "# Accepts\n",
    "test_accepts = pd.merge(\n",
    "    X_test, y_test[[\"target\"]], how=\"left\", left_index=True, right_index=True\n",
    ")\n",
    "\n",
    "test_accepts[\"Flag1\"] = \"Accept\"\n",
    "\n",
    "# Rejects\n",
    "test_rejects = pd.merge(\n",
    "    dfr_test2,\n",
    "    ri2_test[[\"prediction_beforeRI\"]],\n",
    "    how=\"left\",\n",
    "    left_index=True,\n",
    "    right_index=True,\n",
    ")\n",
    "\n",
    "# Drop Null values and align naming\n",
    "test_accepts.dropna(subset=[\"target\"], inplace=True)\n",
    "test_rejects.rename(columns={\"prediction_beforeRI\": \"target\"}, inplace=True)\n",
    "test_rejects.dropna(subset=[\"target\"], inplace=True)"
   ]
  },
  {
   "cell_type": "code",
   "execution_count": null,
   "metadata": {},
   "outputs": [],
   "source": [
    "# Concatenate Test Accepts and Test Rejects\n",
    "test_new = pd.concat([test_accepts, test_rejects])"
   ]
  },
  {
   "cell_type": "code",
   "execution_count": null,
   "metadata": {},
   "outputs": [],
   "source": [
    "# Flag\n",
    "test_new[\"Flag\"] = test_new[\"Flag1\"].apply(\n",
    "    lambda x: \"Accept\" if x == \"Accept\" else \"Reject\"\n",
    ")\n",
    "test_new = test_new.drop(columns=[\"Flag1\", \"DTI\", \"<=1k\", \">10k\"])"
   ]
  },
  {
   "cell_type": "code",
   "execution_count": null,
   "metadata": {},
   "outputs": [],
   "source": [
    "test_new.shape  # As expected"
   ]
  },
  {
   "cell_type": "code",
   "execution_count": null,
   "metadata": {},
   "outputs": [],
   "source": [
    "test_new = test_new.reset_index(drop=True)"
   ]
  },
  {
   "cell_type": "code",
   "execution_count": null,
   "metadata": {},
   "outputs": [],
   "source": [
    "test_new"
   ]
  },
  {
   "cell_type": "code",
   "execution_count": null,
   "metadata": {},
   "outputs": [],
   "source": [
    "X_test_new = test_new.loc[:, train_new.columns != \"target\"]\n",
    "X_test_new2 = X_test_new.loc[:, X_test_new.columns != \"Flag\"]\n",
    "X_test_new3 = X_test_new2.loc[:, X_test_new2.columns != \"id\"]\n",
    "X_test_new4 = X_test_new3.loc[:, X_test_new3.columns != \">10k\"]\n",
    "y_test_new = test_new.loc[:, train_new.columns == \"target\"]"
   ]
  },
  {
   "cell_type": "markdown",
   "metadata": {},
   "source": [
    "#### Predictions"
   ]
  },
  {
   "cell_type": "code",
   "execution_count": null,
   "metadata": {},
   "outputs": [],
   "source": [
    "# Join predictions with test new\n",
    "test_new_pred = logreg.predict_proba(X_test_new4)[:, 1]\n",
    "pred_test_df = pd.DataFrame(\n",
    "    data=test_new_pred, columns=[\"prediction_afterRI\"], index=test_new.index.copy()\n",
    ")\n",
    "pred_test = pd.merge(\n",
    "    test_new,\n",
    "    pred_test_df[[\"prediction_afterRI\"]],\n",
    "    how=\"inner\",\n",
    "    left_index=True,\n",
    "    right_index=True,\n",
    ")\n",
    "# pred_test1.dropna(subset=[\"prediction_beforeRI\"], inplace=True)\n",
    "pred_test"
   ]
  },
  {
   "cell_type": "code",
   "execution_count": null,
   "metadata": {},
   "outputs": [],
   "source": [
    "a1 = pred_test1[[\"id\", \"target\", \"prediction_beforeRI\"]]\n",
    "a2 = pred_test[[\"id\", \"Flag\", \"prediction_afterRI\"]]"
   ]
  },
  {
   "cell_type": "code",
   "execution_count": null,
   "metadata": {},
   "outputs": [],
   "source": [
    "# Join (outer to get full sample)\n",
    "a1_a2_outer = pd.merge(a1, a2, how=\"outer\", on=\"id\")\n",
    "# Join (inner to get only accepts and be able to compare)\n",
    "a1_a2_inner = pd.merge(a1, a2, how=\"inner\", on=\"id\")\n",
    "a1_a2_inner"
   ]
  },
  {
   "cell_type": "code",
   "execution_count": null,
   "metadata": {},
   "outputs": [],
   "source": [
    "# Make binary predictions based on cutoff 0.3\n",
    "a1_a2_inner[\"prediction_beforeRI_binary\"] = a1_a2_inner[\"prediction_beforeRI\"].apply(\n",
    "    lambda x: 0 if (x < 0.3) else 1\n",
    ")\n",
    "a1_a2_inner[\"prediction_afterRI_binary\"] = a1_a2_inner[\"prediction_afterRI\"].apply(\n",
    "    lambda x: 0 if (x < 0.3) else 1\n",
    ")"
   ]
  },
  {
   "cell_type": "markdown",
   "metadata": {},
   "source": [
    "### Results"
   ]
  },
  {
   "cell_type": "code",
   "execution_count": null,
   "metadata": {},
   "outputs": [],
   "source": [
    "def print_results(data, state, prediction):\n",
    "    print(\n",
    "        \"The number of accurately classified cases \",\n",
    "        state,\n",
    "        \" is: \",\n",
    "        data[\n",
    "            (data.target == 1) & (data[prediction] == 1)\n",
    "            | (data.target == 0) & (data[prediction] == 0)\n",
    "        ].shape[0],\n",
    "    )\n",
    "    print(\n",
    "        \"The number of misclassified cases \",\n",
    "        state,\n",
    "        \" is: \",\n",
    "        data[\n",
    "            (data.target == 1) & (data[prediction] == 0)\n",
    "            | (data.target == 0) & (data[prediction] == 1)\n",
    "        ].shape[0],\n",
    "    )"
   ]
  },
  {
   "cell_type": "code",
   "execution_count": null,
   "metadata": {},
   "outputs": [],
   "source": [
    "print_results(a1_a2_inner, \"before RI\", \"prediction_beforeRI_binary\")\n",
    "print_results(a1_a2_inner, \"after RI\", \"prediction_afterRI_binary\")"
   ]
  },
  {
   "cell_type": "code",
   "execution_count": null,
   "metadata": {},
   "outputs": [],
   "source": [
    "### Test Clustering on Accepted population"
   ]
  },
  {
   "cell_type": "code",
   "execution_count": null,
   "metadata": {},
   "outputs": [],
   "source": []
  },
  {
   "cell_type": "code",
   "execution_count": null,
   "metadata": {},
   "outputs": [],
   "source": []
  },
  {
   "cell_type": "code",
   "execution_count": null,
   "metadata": {},
   "outputs": [],
   "source": []
  },
  {
   "cell_type": "code",
   "execution_count": null,
   "metadata": {},
   "outputs": [],
   "source": []
  },
  {
   "cell_type": "code",
   "execution_count": null,
   "metadata": {},
   "outputs": [],
   "source": []
  },
  {
   "cell_type": "code",
   "execution_count": null,
   "metadata": {},
   "outputs": [],
   "source": []
  },
  {
   "cell_type": "code",
   "execution_count": null,
   "metadata": {},
   "outputs": [],
   "source": []
  },
  {
   "cell_type": "markdown",
   "metadata": {},
   "source": [
    "### OPTICS"
   ]
  },
  {
   "cell_type": "code",
   "execution_count": null,
   "metadata": {},
   "outputs": [],
   "source": [
    "from sklearn.cluster import OPTICS"
   ]
  },
  {
   "cell_type": "code",
   "execution_count": null,
   "metadata": {},
   "outputs": [],
   "source": [
    "clustering = OPTICS(min_samples=2).fit(dfr3)\n",
    "clustering.labels_"
   ]
  },
  {
   "cell_type": "code",
   "execution_count": null,
   "metadata": {},
   "outputs": [],
   "source": [
    "clustering_optics"
   ]
  },
  {
   "cell_type": "code",
   "execution_count": null,
   "metadata": {},
   "outputs": [],
   "source": [
    "# Predictions\n",
    "clustering_optics = clustering.labels_\n",
    "clustering_optics = pd.DataFrame(\n",
    "    data=clustering_optics, columns=[\"prediction\"]\n",
    ")\n",
    "clustering_optics[\"Rejects\"] = clustering_optics.groupby(\"prediction\")[\n",
    "    \"prediction\"\n",
    "].transform(\"count\")\n",
    "clustering_optics.groupby([\"prediction\"]).count()"
   ]
  },
  {
   "cell_type": "markdown",
   "metadata": {},
   "source": [
    "### MeanShift"
   ]
  },
  {
   "cell_type": "code",
   "execution_count": null,
   "metadata": {},
   "outputs": [],
   "source": [
    "from sklearn.cluster import MeanShift"
   ]
  },
  {
   "cell_type": "code",
   "execution_count": null,
   "metadata": {},
   "outputs": [],
   "source": [
    "clustering2 = MeanShift(bandwidth=2).fit(dfr3)\n",
    "clustering2.labels_"
   ]
  },
  {
   "cell_type": "code",
   "execution_count": null,
   "metadata": {},
   "outputs": [],
   "source": [
    "# Predictions\n",
    "clustering_meanshift = clustering2.labels_\n",
    "clustering_meanshift = pd.DataFrame(\n",
    "    data=clustering_meanshift, columns=[\"prediction\"]\n",
    ")\n",
    "clustering_optics[\"Rejects\"] = clustering_meanshift.groupby(\"prediction\")[\n",
    "    \"prediction\"\n",
    "].transform(\"count\")\n",
    "clustering_meanshift.groupby([\"prediction\"]).count()"
   ]
  },
  {
   "cell_type": "markdown",
   "metadata": {},
   "source": [
    "### SVM"
   ]
  },
  {
   "cell_type": "code",
   "execution_count": null,
   "metadata": {},
   "outputs": [],
   "source": [
    "# Accepts\n",
    "clf = SVC(gamma=\"auto\", kernel=\"linear\")\n",
    "clf.fit(os_data_X_2, os_data_y.values.ravel())\n",
    "pred = clf.predict(X_test_2)"
   ]
  },
  {
   "cell_type": "code",
   "execution_count": null,
   "metadata": {},
   "outputs": [],
   "source": [
    "# Predictions\n",
    "rej_test_predictions_kmeans = clf.predict(dfr3)\n",
    "df_pred_rej_kmeans = pd.DataFrame(\n",
    "    data=rej_test_predictions_kmeans, columns=[\"prediction\"]\n",
    ")\n",
    "df_pred_rej_kmeans[\"Rejects\"] = df_pred_rej_kmeans.groupby(\"prediction\")[\n",
    "    \"prediction\"\n",
    "].transform(\"count\")\n",
    "df_pred_rej_kmeans.groupby([\"prediction\"]).count()"
   ]
  }
 ],
 "metadata": {
  "kernelspec": {
   "display_name": "Python 3",
   "language": "python",
   "name": "python3"
  },
  "language_info": {
   "codemirror_mode": {
    "name": "ipython",
    "version": 3
   },
   "file_extension": ".py",
   "mimetype": "text/x-python",
   "name": "python",
   "nbconvert_exporter": "python",
   "pygments_lexer": "ipython3",
   "version": "3.8.3"
  }
 },
 "nbformat": 4,
 "nbformat_minor": 4
}
