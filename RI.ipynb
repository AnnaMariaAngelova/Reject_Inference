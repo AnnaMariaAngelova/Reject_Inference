{
 "cells": [
  {
   "cell_type": "code",
   "execution_count": 1,
   "metadata": {},
   "outputs": [
    {
     "data": {
      "application/javascript": [
       "\n",
       "            setTimeout(function() {\n",
       "                var nbb_cell_id = 1;\n",
       "                var nbb_unformatted_code = \"%load_ext nb_black\";\n",
       "                var nbb_formatted_code = \"%load_ext nb_black\";\n",
       "                var nbb_cells = Jupyter.notebook.get_cells();\n",
       "                for (var i = 0; i < nbb_cells.length; ++i) {\n",
       "                    if (nbb_cells[i].input_prompt_number == nbb_cell_id) {\n",
       "                        if (nbb_cells[i].get_text() == nbb_unformatted_code) {\n",
       "                             nbb_cells[i].set_text(nbb_formatted_code);\n",
       "                        }\n",
       "                        break;\n",
       "                    }\n",
       "                }\n",
       "            }, 500);\n",
       "            "
      ],
      "text/plain": [
       "<IPython.core.display.Javascript object>"
      ]
     },
     "metadata": {},
     "output_type": "display_data"
    }
   ],
   "source": [
    "%load_ext nb_black"
   ]
  },
  {
   "cell_type": "code",
   "execution_count": 2,
   "metadata": {},
   "outputs": [
    {
     "data": {
      "application/javascript": [
       "\n",
       "            setTimeout(function() {\n",
       "                var nbb_cell_id = 2;\n",
       "                var nbb_unformatted_code = \"import warnings\\n\\nwarnings.filterwarnings(\\\"ignore\\\")\\n\\n# Basic Packages\\nimport pandas as pd\\nimport numpy as np\\nimport matplotlib.pyplot as plt\\n\\n# Preprocessing\\nfrom sklearn.model_selection import train_test_split\\n\\n# Modelling\\nimport statsmodels.api as sm\\nfrom sklearn.linear_model import LogisticRegression\\nfrom sklearn.linear_model import LinearRegression\\nfrom sklearn.cluster import KMeans\\nfrom sklearn.svm import SVC\\n\\n# Metrics\\nfrom sklearn.metrics import roc_auc_score\\nfrom sklearn.metrics import roc_curve\\nfrom sklearn.metrics import accuracy_score\\n\\n# Balancing\\nfrom imblearn.over_sampling import SMOTE\\nfrom imblearn.under_sampling import RandomUnderSampler\\n\\n# Visualization\\nimport seaborn as sns\\nimport matplotlib.pyplot as plt\\n\\n# Binning\\nimport woeBinningPandas\\n\\n# Create Unique ID\\nimport uuid\";\n",
       "                var nbb_formatted_code = \"import warnings\\n\\nwarnings.filterwarnings(\\\"ignore\\\")\\n\\n# Basic Packages\\nimport pandas as pd\\nimport numpy as np\\nimport matplotlib.pyplot as plt\\n\\n# Preprocessing\\nfrom sklearn.model_selection import train_test_split\\n\\n# Modelling\\nimport statsmodels.api as sm\\nfrom sklearn.linear_model import LogisticRegression\\nfrom sklearn.linear_model import LinearRegression\\nfrom sklearn.cluster import KMeans\\nfrom sklearn.svm import SVC\\n\\n# Metrics\\nfrom sklearn.metrics import roc_auc_score\\nfrom sklearn.metrics import roc_curve\\nfrom sklearn.metrics import accuracy_score\\n\\n# Balancing\\nfrom imblearn.over_sampling import SMOTE\\nfrom imblearn.under_sampling import RandomUnderSampler\\n\\n# Visualization\\nimport seaborn as sns\\nimport matplotlib.pyplot as plt\\n\\n# Binning\\nimport woeBinningPandas\\n\\n# Create Unique ID\\nimport uuid\";\n",
       "                var nbb_cells = Jupyter.notebook.get_cells();\n",
       "                for (var i = 0; i < nbb_cells.length; ++i) {\n",
       "                    if (nbb_cells[i].input_prompt_number == nbb_cell_id) {\n",
       "                        if (nbb_cells[i].get_text() == nbb_unformatted_code) {\n",
       "                             nbb_cells[i].set_text(nbb_formatted_code);\n",
       "                        }\n",
       "                        break;\n",
       "                    }\n",
       "                }\n",
       "            }, 500);\n",
       "            "
      ],
      "text/plain": [
       "<IPython.core.display.Javascript object>"
      ]
     },
     "metadata": {},
     "output_type": "display_data"
    }
   ],
   "source": [
    "import warnings\n",
    "\n",
    "warnings.filterwarnings(\"ignore\")\n",
    "\n",
    "# Basic Packages\n",
    "import pandas as pd\n",
    "import numpy as np\n",
    "import matplotlib.pyplot as plt\n",
    "\n",
    "# Preprocessing\n",
    "from sklearn.model_selection import train_test_split\n",
    "\n",
    "# Modelling\n",
    "import statsmodels.api as sm\n",
    "from sklearn.linear_model import LogisticRegression\n",
    "from sklearn.linear_model import LinearRegression\n",
    "from sklearn.cluster import KMeans\n",
    "from sklearn.svm import SVC\n",
    "\n",
    "# Metrics\n",
    "from sklearn.metrics import roc_auc_score\n",
    "from sklearn.metrics import roc_curve\n",
    "from sklearn.metrics import accuracy_score\n",
    "\n",
    "# Balancing\n",
    "from imblearn.over_sampling import SMOTE\n",
    "from imblearn.under_sampling import RandomUnderSampler\n",
    "\n",
    "# Visualization\n",
    "import seaborn as sns\n",
    "import matplotlib.pyplot as plt\n",
    "\n",
    "# Binning\n",
    "import woeBinningPandas\n",
    "\n",
    "# Create Unique ID\n",
    "import uuid"
   ]
  },
  {
   "cell_type": "markdown",
   "metadata": {},
   "source": [
    "Data: https://www.kaggle.com/wordsforthewise/lending-club"
   ]
  },
  {
   "cell_type": "code",
   "execution_count": 3,
   "metadata": {},
   "outputs": [
    {
     "data": {
      "application/javascript": [
       "\n",
       "            setTimeout(function() {\n",
       "                var nbb_cell_id = 3;\n",
       "                var nbb_unformatted_code = \"# Read data\\naccepted = pd.read_csv(\\\"accepted_2007_to_2018Q4.csv\\\", low_memory=False)\\nrejected = pd.read_csv(\\\"rejected_2007_to_2018Q4.csv\\\", low_memory=False)\";\n",
       "                var nbb_formatted_code = \"# Read data\\naccepted = pd.read_csv(\\\"accepted_2007_to_2018Q4.csv\\\", low_memory=False)\\nrejected = pd.read_csv(\\\"rejected_2007_to_2018Q4.csv\\\", low_memory=False)\";\n",
       "                var nbb_cells = Jupyter.notebook.get_cells();\n",
       "                for (var i = 0; i < nbb_cells.length; ++i) {\n",
       "                    if (nbb_cells[i].input_prompt_number == nbb_cell_id) {\n",
       "                        if (nbb_cells[i].get_text() == nbb_unformatted_code) {\n",
       "                             nbb_cells[i].set_text(nbb_formatted_code);\n",
       "                        }\n",
       "                        break;\n",
       "                    }\n",
       "                }\n",
       "            }, 500);\n",
       "            "
      ],
      "text/plain": [
       "<IPython.core.display.Javascript object>"
      ]
     },
     "metadata": {},
     "output_type": "display_data"
    }
   ],
   "source": [
    "# Read data\n",
    "accepted = pd.read_csv(\"accepted_2007_to_2018Q4.csv\", low_memory=False)\n",
    "rejected = pd.read_csv(\"rejected_2007_to_2018Q4.csv\", low_memory=False)"
   ]
  },
  {
   "cell_type": "code",
   "execution_count": 4,
   "metadata": {},
   "outputs": [
    {
     "name": "stdout",
     "output_type": "stream",
     "text": [
      "(2260701, 151)\n",
      "(27648741, 9)\n"
     ]
    },
    {
     "data": {
      "application/javascript": [
       "\n",
       "            setTimeout(function() {\n",
       "                var nbb_cell_id = 4;\n",
       "                var nbb_unformatted_code = \"print(accepted.shape)\\nprint(rejected.shape)\";\n",
       "                var nbb_formatted_code = \"print(accepted.shape)\\nprint(rejected.shape)\";\n",
       "                var nbb_cells = Jupyter.notebook.get_cells();\n",
       "                for (var i = 0; i < nbb_cells.length; ++i) {\n",
       "                    if (nbb_cells[i].input_prompt_number == nbb_cell_id) {\n",
       "                        if (nbb_cells[i].get_text() == nbb_unformatted_code) {\n",
       "                             nbb_cells[i].set_text(nbb_formatted_code);\n",
       "                        }\n",
       "                        break;\n",
       "                    }\n",
       "                }\n",
       "            }, 500);\n",
       "            "
      ],
      "text/plain": [
       "<IPython.core.display.Javascript object>"
      ]
     },
     "metadata": {},
     "output_type": "display_data"
    }
   ],
   "source": [
    "print(accepted.shape)\n",
    "print(rejected.shape)"
   ]
  },
  {
   "cell_type": "markdown",
   "metadata": {},
   "source": [
    "## KGB Model"
   ]
  },
  {
   "cell_type": "code",
   "execution_count": 5,
   "metadata": {},
   "outputs": [
    {
     "data": {
      "application/javascript": [
       "\n",
       "            setTimeout(function() {\n",
       "                var nbb_cell_id = 5;\n",
       "                var nbb_unformatted_code = \"# Sample 100k obs. for easy processing\\naccepted_small = accepted.sample(n=25000, random_state=7)\\naccepted_small.reset_index(drop=True, inplace=True)\";\n",
       "                var nbb_formatted_code = \"# Sample 100k obs. for easy processing\\naccepted_small = accepted.sample(n=25000, random_state=7)\\naccepted_small.reset_index(drop=True, inplace=True)\";\n",
       "                var nbb_cells = Jupyter.notebook.get_cells();\n",
       "                for (var i = 0; i < nbb_cells.length; ++i) {\n",
       "                    if (nbb_cells[i].input_prompt_number == nbb_cell_id) {\n",
       "                        if (nbb_cells[i].get_text() == nbb_unformatted_code) {\n",
       "                             nbb_cells[i].set_text(nbb_formatted_code);\n",
       "                        }\n",
       "                        break;\n",
       "                    }\n",
       "                }\n",
       "            }, 500);\n",
       "            "
      ],
      "text/plain": [
       "<IPython.core.display.Javascript object>"
      ]
     },
     "metadata": {},
     "output_type": "display_data"
    }
   ],
   "source": [
    "# Sample 100k obs. for easy processing\n",
    "accepted_small = accepted.sample(n=25000, random_state=7)\n",
    "accepted_small.reset_index(drop=True, inplace=True)"
   ]
  },
  {
   "cell_type": "code",
   "execution_count": 6,
   "metadata": {},
   "outputs": [
    {
     "data": {
      "application/javascript": [
       "\n",
       "            setTimeout(function() {\n",
       "                var nbb_cell_id = 6;\n",
       "                var nbb_unformatted_code = \"# Create Default Flag\\naccepted_small[\\\"target\\\"] = accepted_small[\\\"loan_status\\\"].apply(\\n    lambda x: 1 if x == \\\"Charged Off\\\" else (0 if x == \\\"Fully Paid\\\" else 2)\\n)\";\n",
       "                var nbb_formatted_code = \"# Create Default Flag\\naccepted_small[\\\"target\\\"] = accepted_small[\\\"loan_status\\\"].apply(\\n    lambda x: 1 if x == \\\"Charged Off\\\" else (0 if x == \\\"Fully Paid\\\" else 2)\\n)\";\n",
       "                var nbb_cells = Jupyter.notebook.get_cells();\n",
       "                for (var i = 0; i < nbb_cells.length; ++i) {\n",
       "                    if (nbb_cells[i].input_prompt_number == nbb_cell_id) {\n",
       "                        if (nbb_cells[i].get_text() == nbb_unformatted_code) {\n",
       "                             nbb_cells[i].set_text(nbb_formatted_code);\n",
       "                        }\n",
       "                        break;\n",
       "                    }\n",
       "                }\n",
       "            }, 500);\n",
       "            "
      ],
      "text/plain": [
       "<IPython.core.display.Javascript object>"
      ]
     },
     "metadata": {},
     "output_type": "display_data"
    }
   ],
   "source": [
    "# Create Default Flag\n",
    "accepted_small[\"target\"] = accepted_small[\"loan_status\"].apply(\n",
    "    lambda x: 1 if x == \"Charged Off\" else (0 if x == \"Fully Paid\" else 2)\n",
    ")"
   ]
  },
  {
   "cell_type": "code",
   "execution_count": 7,
   "metadata": {},
   "outputs": [
    {
     "data": {
      "text/plain": [
       "(14838, 152)"
      ]
     },
     "execution_count": 7,
     "metadata": {},
     "output_type": "execute_result"
    },
    {
     "data": {
      "application/javascript": [
       "\n",
       "            setTimeout(function() {\n",
       "                var nbb_cell_id = 7;\n",
       "                var nbb_unformatted_code = \"# Remove Current and Missings\\naccepted_small = accepted_small.loc[accepted_small[\\\"target\\\"] != 2]\\naccepted_small.shape\";\n",
       "                var nbb_formatted_code = \"# Remove Current and Missings\\naccepted_small = accepted_small.loc[accepted_small[\\\"target\\\"] != 2]\\naccepted_small.shape\";\n",
       "                var nbb_cells = Jupyter.notebook.get_cells();\n",
       "                for (var i = 0; i < nbb_cells.length; ++i) {\n",
       "                    if (nbb_cells[i].input_prompt_number == nbb_cell_id) {\n",
       "                        if (nbb_cells[i].get_text() == nbb_unformatted_code) {\n",
       "                             nbb_cells[i].set_text(nbb_formatted_code);\n",
       "                        }\n",
       "                        break;\n",
       "                    }\n",
       "                }\n",
       "            }, 500);\n",
       "            "
      ],
      "text/plain": [
       "<IPython.core.display.Javascript object>"
      ]
     },
     "metadata": {},
     "output_type": "display_data"
    }
   ],
   "source": [
    "# Remove Current and Missings\n",
    "accepted_small = accepted_small.loc[accepted_small[\"target\"] != 2]\n",
    "accepted_small.shape"
   ]
  },
  {
   "cell_type": "code",
   "execution_count": 8,
   "metadata": {},
   "outputs": [
    {
     "data": {
      "text/html": [
       "<div>\n",
       "<style scoped>\n",
       "    .dataframe tbody tr th:only-of-type {\n",
       "        vertical-align: middle;\n",
       "    }\n",
       "\n",
       "    .dataframe tbody tr th {\n",
       "        vertical-align: top;\n",
       "    }\n",
       "\n",
       "    .dataframe thead th {\n",
       "        text-align: right;\n",
       "    }\n",
       "</style>\n",
       "<table border=\"1\" class=\"dataframe\">\n",
       "  <thead>\n",
       "    <tr style=\"text-align: right;\">\n",
       "      <th>loan_status</th>\n",
       "      <th>Charged Off</th>\n",
       "      <th>Fully Paid</th>\n",
       "    </tr>\n",
       "    <tr>\n",
       "      <th>target</th>\n",
       "      <th></th>\n",
       "      <th></th>\n",
       "    </tr>\n",
       "  </thead>\n",
       "  <tbody>\n",
       "    <tr>\n",
       "      <th>0</th>\n",
       "      <td>0</td>\n",
       "      <td>11809</td>\n",
       "    </tr>\n",
       "    <tr>\n",
       "      <th>1</th>\n",
       "      <td>3029</td>\n",
       "      <td>0</td>\n",
       "    </tr>\n",
       "  </tbody>\n",
       "</table>\n",
       "</div>"
      ],
      "text/plain": [
       "loan_status  Charged Off  Fully Paid\n",
       "target                              \n",
       "0                      0       11809\n",
       "1                   3029           0"
      ]
     },
     "execution_count": 8,
     "metadata": {},
     "output_type": "execute_result"
    },
    {
     "data": {
      "application/javascript": [
       "\n",
       "            setTimeout(function() {\n",
       "                var nbb_cell_id = 8;\n",
       "                var nbb_unformatted_code = \"pd.crosstab(accepted_small[\\\"target\\\"], accepted_small[\\\"loan_status\\\"])\";\n",
       "                var nbb_formatted_code = \"pd.crosstab(accepted_small[\\\"target\\\"], accepted_small[\\\"loan_status\\\"])\";\n",
       "                var nbb_cells = Jupyter.notebook.get_cells();\n",
       "                for (var i = 0; i < nbb_cells.length; ++i) {\n",
       "                    if (nbb_cells[i].input_prompt_number == nbb_cell_id) {\n",
       "                        if (nbb_cells[i].get_text() == nbb_unformatted_code) {\n",
       "                             nbb_cells[i].set_text(nbb_formatted_code);\n",
       "                        }\n",
       "                        break;\n",
       "                    }\n",
       "                }\n",
       "            }, 500);\n",
       "            "
      ],
      "text/plain": [
       "<IPython.core.display.Javascript object>"
      ]
     },
     "metadata": {},
     "output_type": "display_data"
    }
   ],
   "source": [
    "pd.crosstab(accepted_small[\"target\"], accepted_small[\"loan_status\"])"
   ]
  },
  {
   "cell_type": "markdown",
   "metadata": {},
   "source": [
    "The dataset is imbalanced"
   ]
  },
  {
   "cell_type": "code",
   "execution_count": 9,
   "metadata": {},
   "outputs": [
    {
     "data": {
      "application/javascript": [
       "\n",
       "            setTimeout(function() {\n",
       "                var nbb_cell_id = 9;\n",
       "                var nbb_unformatted_code = \"# Keep only 2 explanatory variables for quick an dirty PD model\\ndf = accepted_small[[\\\"id\\\", \\\"target\\\", \\\"loan_amnt\\\", \\\"addr_state\\\"]]\";\n",
       "                var nbb_formatted_code = \"# Keep only 2 explanatory variables for quick an dirty PD model\\ndf = accepted_small[[\\\"id\\\", \\\"target\\\", \\\"loan_amnt\\\", \\\"addr_state\\\"]]\";\n",
       "                var nbb_cells = Jupyter.notebook.get_cells();\n",
       "                for (var i = 0; i < nbb_cells.length; ++i) {\n",
       "                    if (nbb_cells[i].input_prompt_number == nbb_cell_id) {\n",
       "                        if (nbb_cells[i].get_text() == nbb_unformatted_code) {\n",
       "                             nbb_cells[i].set_text(nbb_formatted_code);\n",
       "                        }\n",
       "                        break;\n",
       "                    }\n",
       "                }\n",
       "            }, 500);\n",
       "            "
      ],
      "text/plain": [
       "<IPython.core.display.Javascript object>"
      ]
     },
     "metadata": {},
     "output_type": "display_data"
    }
   ],
   "source": [
    "# Keep only 2 explanatory variables for quick an dirty PD model\n",
    "df = accepted_small[[\"id\", \"target\", \"loan_amnt\", \"addr_state\"]]"
   ]
  },
  {
   "cell_type": "code",
   "execution_count": 10,
   "metadata": {},
   "outputs": [
    {
     "data": {
      "application/javascript": [
       "\n",
       "            setTimeout(function() {\n",
       "                var nbb_cell_id = 10;\n",
       "                var nbb_unformatted_code = \"# Q&D Bucketing\\n\\n# Loan Amount\\ndf[\\\"loan_amnt2\\\"] = df[\\\"loan_amnt\\\"].apply(\\n    lambda x: \\\"<=1k\\\"\\n    if (x <= 1000)\\n    else (\\\"1-10k\\\" if (x > 1000 and x <= 10000) else \\\">10k\\\")\\n)\";\n",
       "                var nbb_formatted_code = \"# Q&D Bucketing\\n\\n# Loan Amount\\ndf[\\\"loan_amnt2\\\"] = df[\\\"loan_amnt\\\"].apply(\\n    lambda x: \\\"<=1k\\\"\\n    if (x <= 1000)\\n    else (\\\"1-10k\\\" if (x > 1000 and x <= 10000) else \\\">10k\\\")\\n)\";\n",
       "                var nbb_cells = Jupyter.notebook.get_cells();\n",
       "                for (var i = 0; i < nbb_cells.length; ++i) {\n",
       "                    if (nbb_cells[i].input_prompt_number == nbb_cell_id) {\n",
       "                        if (nbb_cells[i].get_text() == nbb_unformatted_code) {\n",
       "                             nbb_cells[i].set_text(nbb_formatted_code);\n",
       "                        }\n",
       "                        break;\n",
       "                    }\n",
       "                }\n",
       "            }, 500);\n",
       "            "
      ],
      "text/plain": [
       "<IPython.core.display.Javascript object>"
      ]
     },
     "metadata": {},
     "output_type": "display_data"
    }
   ],
   "source": [
    "# Q&D Bucketing\n",
    "\n",
    "# Loan Amount\n",
    "df[\"loan_amnt2\"] = df[\"loan_amnt\"].apply(\n",
    "    lambda x: \"<=1k\"\n",
    "    if (x <= 1000)\n",
    "    else (\"1-10k\" if (x > 1000 and x <= 10000) else \">10k\")\n",
    ")"
   ]
  },
  {
   "cell_type": "code",
   "execution_count": 11,
   "metadata": {},
   "outputs": [
    {
     "data": {
      "text/html": [
       "<div>\n",
       "<style scoped>\n",
       "    .dataframe tbody tr th:only-of-type {\n",
       "        vertical-align: middle;\n",
       "    }\n",
       "\n",
       "    .dataframe tbody tr th {\n",
       "        vertical-align: top;\n",
       "    }\n",
       "\n",
       "    .dataframe thead th {\n",
       "        text-align: right;\n",
       "    }\n",
       "</style>\n",
       "<table border=\"1\" class=\"dataframe\">\n",
       "  <thead>\n",
       "    <tr style=\"text-align: right;\">\n",
       "      <th></th>\n",
       "      <th>Group_2</th>\n",
       "      <th>Group_1</th>\n",
       "      <th>woe</th>\n",
       "      <th>iv_total_final</th>\n",
       "      <th>good</th>\n",
       "      <th>bad</th>\n",
       "      <th>col_perc_a</th>\n",
       "      <th>col_perc_b</th>\n",
       "      <th>iv_bins</th>\n",
       "    </tr>\n",
       "  </thead>\n",
       "  <tbody>\n",
       "    <tr>\n",
       "      <th>37</th>\n",
       "      <td>misc. level neg.</td>\n",
       "      <td>PA</td>\n",
       "      <td>-15.802180</td>\n",
       "      <td>0.024348</td>\n",
       "      <td>4880</td>\n",
       "      <td>1466</td>\n",
       "      <td>0.413244</td>\n",
       "      <td>0.483988</td>\n",
       "      <td>0.011179</td>\n",
       "    </tr>\n",
       "    <tr>\n",
       "      <th>34</th>\n",
       "      <td>misc. level neg.</td>\n",
       "      <td>OH</td>\n",
       "      <td>-15.802180</td>\n",
       "      <td>0.024348</td>\n",
       "      <td>4880</td>\n",
       "      <td>1466</td>\n",
       "      <td>0.413244</td>\n",
       "      <td>0.483988</td>\n",
       "      <td>0.011179</td>\n",
       "    </tr>\n",
       "    <tr>\n",
       "      <th>26</th>\n",
       "      <td>misc. level neg.</td>\n",
       "      <td>NC</td>\n",
       "      <td>-15.802180</td>\n",
       "      <td>0.024348</td>\n",
       "      <td>4880</td>\n",
       "      <td>1466</td>\n",
       "      <td>0.413244</td>\n",
       "      <td>0.483988</td>\n",
       "      <td>0.011179</td>\n",
       "    </tr>\n",
       "    <tr>\n",
       "      <th>19</th>\n",
       "      <td>misc. level neg.</td>\n",
       "      <td>MD</td>\n",
       "      <td>-15.802180</td>\n",
       "      <td>0.024348</td>\n",
       "      <td>4880</td>\n",
       "      <td>1466</td>\n",
       "      <td>0.413244</td>\n",
       "      <td>0.483988</td>\n",
       "      <td>0.011179</td>\n",
       "    </tr>\n",
       "    <tr>\n",
       "      <th>30</th>\n",
       "      <td>misc. level neg.</td>\n",
       "      <td>NJ</td>\n",
       "      <td>-15.802180</td>\n",
       "      <td>0.024348</td>\n",
       "      <td>4880</td>\n",
       "      <td>1466</td>\n",
       "      <td>0.413244</td>\n",
       "      <td>0.483988</td>\n",
       "      <td>0.011179</td>\n",
       "    </tr>\n",
       "    <tr>\n",
       "      <th>14</th>\n",
       "      <td>misc. level neg.</td>\n",
       "      <td>IN</td>\n",
       "      <td>-15.802180</td>\n",
       "      <td>0.024348</td>\n",
       "      <td>4880</td>\n",
       "      <td>1466</td>\n",
       "      <td>0.413244</td>\n",
       "      <td>0.483988</td>\n",
       "      <td>0.011179</td>\n",
       "    </tr>\n",
       "    <tr>\n",
       "      <th>23</th>\n",
       "      <td>misc. level neg.</td>\n",
       "      <td>MO</td>\n",
       "      <td>-15.802180</td>\n",
       "      <td>0.024348</td>\n",
       "      <td>4880</td>\n",
       "      <td>1466</td>\n",
       "      <td>0.413244</td>\n",
       "      <td>0.483988</td>\n",
       "      <td>0.011179</td>\n",
       "    </tr>\n",
       "    <tr>\n",
       "      <th>32</th>\n",
       "      <td>misc. level neg.</td>\n",
       "      <td>NV</td>\n",
       "      <td>-15.802180</td>\n",
       "      <td>0.024348</td>\n",
       "      <td>4880</td>\n",
       "      <td>1466</td>\n",
       "      <td>0.413244</td>\n",
       "      <td>0.483988</td>\n",
       "      <td>0.011179</td>\n",
       "    </tr>\n",
       "    <tr>\n",
       "      <th>1</th>\n",
       "      <td>misc. level neg.</td>\n",
       "      <td>AL</td>\n",
       "      <td>-15.802180</td>\n",
       "      <td>0.024348</td>\n",
       "      <td>4880</td>\n",
       "      <td>1466</td>\n",
       "      <td>0.413244</td>\n",
       "      <td>0.483988</td>\n",
       "      <td>0.011179</td>\n",
       "    </tr>\n",
       "    <tr>\n",
       "      <th>41</th>\n",
       "      <td>misc. level neg.</td>\n",
       "      <td>TN</td>\n",
       "      <td>-15.802180</td>\n",
       "      <td>0.024348</td>\n",
       "      <td>4880</td>\n",
       "      <td>1466</td>\n",
       "      <td>0.413244</td>\n",
       "      <td>0.483988</td>\n",
       "      <td>0.011179</td>\n",
       "    </tr>\n",
       "    <tr>\n",
       "      <th>12</th>\n",
       "      <td>misc. level neg.</td>\n",
       "      <td>ID</td>\n",
       "      <td>-15.802180</td>\n",
       "      <td>0.024348</td>\n",
       "      <td>4880</td>\n",
       "      <td>1466</td>\n",
       "      <td>0.413244</td>\n",
       "      <td>0.483988</td>\n",
       "      <td>0.011179</td>\n",
       "    </tr>\n",
       "    <tr>\n",
       "      <th>28</th>\n",
       "      <td>misc. level neg.</td>\n",
       "      <td>NE</td>\n",
       "      <td>-15.802180</td>\n",
       "      <td>0.024348</td>\n",
       "      <td>4880</td>\n",
       "      <td>1466</td>\n",
       "      <td>0.413244</td>\n",
       "      <td>0.483988</td>\n",
       "      <td>0.011179</td>\n",
       "    </tr>\n",
       "    <tr>\n",
       "      <th>0</th>\n",
       "      <td>misc. level neg.</td>\n",
       "      <td>AK</td>\n",
       "      <td>-15.802180</td>\n",
       "      <td>0.024348</td>\n",
       "      <td>4880</td>\n",
       "      <td>1466</td>\n",
       "      <td>0.413244</td>\n",
       "      <td>0.483988</td>\n",
       "      <td>0.011179</td>\n",
       "    </tr>\n",
       "    <tr>\n",
       "      <th>27</th>\n",
       "      <td>misc. level neg.</td>\n",
       "      <td>ND</td>\n",
       "      <td>-15.802180</td>\n",
       "      <td>0.024348</td>\n",
       "      <td>4880</td>\n",
       "      <td>1466</td>\n",
       "      <td>0.413244</td>\n",
       "      <td>0.483988</td>\n",
       "      <td>0.011179</td>\n",
       "    </tr>\n",
       "    <tr>\n",
       "      <th>35</th>\n",
       "      <td>misc. level neg.</td>\n",
       "      <td>OK</td>\n",
       "      <td>-15.802180</td>\n",
       "      <td>0.024348</td>\n",
       "      <td>4880</td>\n",
       "      <td>1466</td>\n",
       "      <td>0.413244</td>\n",
       "      <td>0.483988</td>\n",
       "      <td>0.011179</td>\n",
       "    </tr>\n",
       "    <tr>\n",
       "      <th>16</th>\n",
       "      <td>misc. level neg.</td>\n",
       "      <td>KY</td>\n",
       "      <td>-15.802180</td>\n",
       "      <td>0.024348</td>\n",
       "      <td>4880</td>\n",
       "      <td>1466</td>\n",
       "      <td>0.413244</td>\n",
       "      <td>0.483988</td>\n",
       "      <td>0.011179</td>\n",
       "    </tr>\n",
       "    <tr>\n",
       "      <th>24</th>\n",
       "      <td>misc. level neg.</td>\n",
       "      <td>MS</td>\n",
       "      <td>-15.802180</td>\n",
       "      <td>0.024348</td>\n",
       "      <td>4880</td>\n",
       "      <td>1466</td>\n",
       "      <td>0.413244</td>\n",
       "      <td>0.483988</td>\n",
       "      <td>0.011179</td>\n",
       "    </tr>\n",
       "    <tr>\n",
       "      <th>17</th>\n",
       "      <td>misc. level neg.</td>\n",
       "      <td>LA</td>\n",
       "      <td>-15.802180</td>\n",
       "      <td>0.024348</td>\n",
       "      <td>4880</td>\n",
       "      <td>1466</td>\n",
       "      <td>0.413244</td>\n",
       "      <td>0.483988</td>\n",
       "      <td>0.011179</td>\n",
       "    </tr>\n",
       "    <tr>\n",
       "      <th>2</th>\n",
       "      <td>misc. level neg.</td>\n",
       "      <td>AR</td>\n",
       "      <td>-15.802180</td>\n",
       "      <td>0.024348</td>\n",
       "      <td>4880</td>\n",
       "      <td>1466</td>\n",
       "      <td>0.413244</td>\n",
       "      <td>0.483988</td>\n",
       "      <td>0.011179</td>\n",
       "    </tr>\n",
       "    <tr>\n",
       "      <th>9</th>\n",
       "      <td>misc. level neg.</td>\n",
       "      <td>FL</td>\n",
       "      <td>-15.802180</td>\n",
       "      <td>0.024348</td>\n",
       "      <td>4880</td>\n",
       "      <td>1466</td>\n",
       "      <td>0.413244</td>\n",
       "      <td>0.483988</td>\n",
       "      <td>0.011179</td>\n",
       "    </tr>\n",
       "    <tr>\n",
       "      <th>33</th>\n",
       "      <td>misc. level neg.</td>\n",
       "      <td>NY</td>\n",
       "      <td>-15.802180</td>\n",
       "      <td>0.024348</td>\n",
       "      <td>4880</td>\n",
       "      <td>1466</td>\n",
       "      <td>0.413244</td>\n",
       "      <td>0.483988</td>\n",
       "      <td>0.011179</td>\n",
       "    </tr>\n",
       "    <tr>\n",
       "      <th>4</th>\n",
       "      <td>CA</td>\n",
       "      <td>CA</td>\n",
       "      <td>-1.427191</td>\n",
       "      <td>0.024348</td>\n",
       "      <td>1718</td>\n",
       "      <td>447</td>\n",
       "      <td>0.145482</td>\n",
       "      <td>0.147573</td>\n",
       "      <td>0.000030</td>\n",
       "    </tr>\n",
       "    <tr>\n",
       "      <th>13</th>\n",
       "      <td>misc. level pos.</td>\n",
       "      <td>IL</td>\n",
       "      <td>18.039149</td>\n",
       "      <td>0.024348</td>\n",
       "      <td>5211</td>\n",
       "      <td>1116</td>\n",
       "      <td>0.441274</td>\n",
       "      <td>0.368438</td>\n",
       "      <td>0.013139</td>\n",
       "    </tr>\n",
       "    <tr>\n",
       "      <th>10</th>\n",
       "      <td>misc. level pos.</td>\n",
       "      <td>GA</td>\n",
       "      <td>18.039149</td>\n",
       "      <td>0.024348</td>\n",
       "      <td>5211</td>\n",
       "      <td>1116</td>\n",
       "      <td>0.441274</td>\n",
       "      <td>0.368438</td>\n",
       "      <td>0.013139</td>\n",
       "    </tr>\n",
       "    <tr>\n",
       "      <th>44</th>\n",
       "      <td>misc. level pos.</td>\n",
       "      <td>VA</td>\n",
       "      <td>18.039149</td>\n",
       "      <td>0.024348</td>\n",
       "      <td>5211</td>\n",
       "      <td>1116</td>\n",
       "      <td>0.441274</td>\n",
       "      <td>0.368438</td>\n",
       "      <td>0.013139</td>\n",
       "    </tr>\n",
       "    <tr>\n",
       "      <th>21</th>\n",
       "      <td>misc. level pos.</td>\n",
       "      <td>MI</td>\n",
       "      <td>18.039149</td>\n",
       "      <td>0.024348</td>\n",
       "      <td>5211</td>\n",
       "      <td>1116</td>\n",
       "      <td>0.441274</td>\n",
       "      <td>0.368438</td>\n",
       "      <td>0.013139</td>\n",
       "    </tr>\n",
       "    <tr>\n",
       "      <th>3</th>\n",
       "      <td>misc. level pos.</td>\n",
       "      <td>AZ</td>\n",
       "      <td>18.039149</td>\n",
       "      <td>0.024348</td>\n",
       "      <td>5211</td>\n",
       "      <td>1116</td>\n",
       "      <td>0.441274</td>\n",
       "      <td>0.368438</td>\n",
       "      <td>0.013139</td>\n",
       "    </tr>\n",
       "    <tr>\n",
       "      <th>18</th>\n",
       "      <td>misc. level pos.</td>\n",
       "      <td>MA</td>\n",
       "      <td>18.039149</td>\n",
       "      <td>0.024348</td>\n",
       "      <td>5211</td>\n",
       "      <td>1116</td>\n",
       "      <td>0.441274</td>\n",
       "      <td>0.368438</td>\n",
       "      <td>0.013139</td>\n",
       "    </tr>\n",
       "    <tr>\n",
       "      <th>43</th>\n",
       "      <td>misc. level pos.</td>\n",
       "      <td>UT</td>\n",
       "      <td>18.039149</td>\n",
       "      <td>0.024348</td>\n",
       "      <td>5211</td>\n",
       "      <td>1116</td>\n",
       "      <td>0.441274</td>\n",
       "      <td>0.368438</td>\n",
       "      <td>0.013139</td>\n",
       "    </tr>\n",
       "    <tr>\n",
       "      <th>11</th>\n",
       "      <td>misc. level pos.</td>\n",
       "      <td>HI</td>\n",
       "      <td>18.039149</td>\n",
       "      <td>0.024348</td>\n",
       "      <td>5211</td>\n",
       "      <td>1116</td>\n",
       "      <td>0.441274</td>\n",
       "      <td>0.368438</td>\n",
       "      <td>0.013139</td>\n",
       "    </tr>\n",
       "    <tr>\n",
       "      <th>29</th>\n",
       "      <td>misc. level pos.</td>\n",
       "      <td>NH</td>\n",
       "      <td>18.039149</td>\n",
       "      <td>0.024348</td>\n",
       "      <td>5211</td>\n",
       "      <td>1116</td>\n",
       "      <td>0.441274</td>\n",
       "      <td>0.368438</td>\n",
       "      <td>0.013139</td>\n",
       "    </tr>\n",
       "    <tr>\n",
       "      <th>31</th>\n",
       "      <td>misc. level pos.</td>\n",
       "      <td>NM</td>\n",
       "      <td>18.039149</td>\n",
       "      <td>0.024348</td>\n",
       "      <td>5211</td>\n",
       "      <td>1116</td>\n",
       "      <td>0.441274</td>\n",
       "      <td>0.368438</td>\n",
       "      <td>0.013139</td>\n",
       "    </tr>\n",
       "    <tr>\n",
       "      <th>38</th>\n",
       "      <td>misc. level pos.</td>\n",
       "      <td>RI</td>\n",
       "      <td>18.039149</td>\n",
       "      <td>0.024348</td>\n",
       "      <td>5211</td>\n",
       "      <td>1116</td>\n",
       "      <td>0.441274</td>\n",
       "      <td>0.368438</td>\n",
       "      <td>0.013139</td>\n",
       "    </tr>\n",
       "    <tr>\n",
       "      <th>48</th>\n",
       "      <td>misc. level pos.</td>\n",
       "      <td>WV</td>\n",
       "      <td>18.039149</td>\n",
       "      <td>0.024348</td>\n",
       "      <td>5211</td>\n",
       "      <td>1116</td>\n",
       "      <td>0.441274</td>\n",
       "      <td>0.368438</td>\n",
       "      <td>0.013139</td>\n",
       "    </tr>\n",
       "    <tr>\n",
       "      <th>8</th>\n",
       "      <td>misc. level pos.</td>\n",
       "      <td>DE</td>\n",
       "      <td>18.039149</td>\n",
       "      <td>0.024348</td>\n",
       "      <td>5211</td>\n",
       "      <td>1116</td>\n",
       "      <td>0.441274</td>\n",
       "      <td>0.368438</td>\n",
       "      <td>0.013139</td>\n",
       "    </tr>\n",
       "    <tr>\n",
       "      <th>25</th>\n",
       "      <td>misc. level pos.</td>\n",
       "      <td>MT</td>\n",
       "      <td>18.039149</td>\n",
       "      <td>0.024348</td>\n",
       "      <td>5211</td>\n",
       "      <td>1116</td>\n",
       "      <td>0.441274</td>\n",
       "      <td>0.368438</td>\n",
       "      <td>0.013139</td>\n",
       "    </tr>\n",
       "    <tr>\n",
       "      <th>7</th>\n",
       "      <td>misc. level pos.</td>\n",
       "      <td>DC</td>\n",
       "      <td>18.039149</td>\n",
       "      <td>0.024348</td>\n",
       "      <td>5211</td>\n",
       "      <td>1116</td>\n",
       "      <td>0.441274</td>\n",
       "      <td>0.368438</td>\n",
       "      <td>0.013139</td>\n",
       "    </tr>\n",
       "    <tr>\n",
       "      <th>40</th>\n",
       "      <td>misc. level pos.</td>\n",
       "      <td>SD</td>\n",
       "      <td>18.039149</td>\n",
       "      <td>0.024348</td>\n",
       "      <td>5211</td>\n",
       "      <td>1116</td>\n",
       "      <td>0.441274</td>\n",
       "      <td>0.368438</td>\n",
       "      <td>0.013139</td>\n",
       "    </tr>\n",
       "    <tr>\n",
       "      <th>46</th>\n",
       "      <td>misc. level pos.</td>\n",
       "      <td>WA</td>\n",
       "      <td>18.039149</td>\n",
       "      <td>0.024348</td>\n",
       "      <td>5211</td>\n",
       "      <td>1116</td>\n",
       "      <td>0.441274</td>\n",
       "      <td>0.368438</td>\n",
       "      <td>0.013139</td>\n",
       "    </tr>\n",
       "    <tr>\n",
       "      <th>49</th>\n",
       "      <td>misc. level pos.</td>\n",
       "      <td>WY</td>\n",
       "      <td>18.039149</td>\n",
       "      <td>0.024348</td>\n",
       "      <td>5211</td>\n",
       "      <td>1116</td>\n",
       "      <td>0.441274</td>\n",
       "      <td>0.368438</td>\n",
       "      <td>0.013139</td>\n",
       "    </tr>\n",
       "    <tr>\n",
       "      <th>20</th>\n",
       "      <td>misc. level pos.</td>\n",
       "      <td>ME</td>\n",
       "      <td>18.039149</td>\n",
       "      <td>0.024348</td>\n",
       "      <td>5211</td>\n",
       "      <td>1116</td>\n",
       "      <td>0.441274</td>\n",
       "      <td>0.368438</td>\n",
       "      <td>0.013139</td>\n",
       "    </tr>\n",
       "    <tr>\n",
       "      <th>45</th>\n",
       "      <td>misc. level pos.</td>\n",
       "      <td>VT</td>\n",
       "      <td>18.039149</td>\n",
       "      <td>0.024348</td>\n",
       "      <td>5211</td>\n",
       "      <td>1116</td>\n",
       "      <td>0.441274</td>\n",
       "      <td>0.368438</td>\n",
       "      <td>0.013139</td>\n",
       "    </tr>\n",
       "    <tr>\n",
       "      <th>5</th>\n",
       "      <td>misc. level pos.</td>\n",
       "      <td>CO</td>\n",
       "      <td>18.039149</td>\n",
       "      <td>0.024348</td>\n",
       "      <td>5211</td>\n",
       "      <td>1116</td>\n",
       "      <td>0.441274</td>\n",
       "      <td>0.368438</td>\n",
       "      <td>0.013139</td>\n",
       "    </tr>\n",
       "    <tr>\n",
       "      <th>15</th>\n",
       "      <td>misc. level pos.</td>\n",
       "      <td>KS</td>\n",
       "      <td>18.039149</td>\n",
       "      <td>0.024348</td>\n",
       "      <td>5211</td>\n",
       "      <td>1116</td>\n",
       "      <td>0.441274</td>\n",
       "      <td>0.368438</td>\n",
       "      <td>0.013139</td>\n",
       "    </tr>\n",
       "    <tr>\n",
       "      <th>22</th>\n",
       "      <td>misc. level pos.</td>\n",
       "      <td>MN</td>\n",
       "      <td>18.039149</td>\n",
       "      <td>0.024348</td>\n",
       "      <td>5211</td>\n",
       "      <td>1116</td>\n",
       "      <td>0.441274</td>\n",
       "      <td>0.368438</td>\n",
       "      <td>0.013139</td>\n",
       "    </tr>\n",
       "    <tr>\n",
       "      <th>39</th>\n",
       "      <td>misc. level pos.</td>\n",
       "      <td>SC</td>\n",
       "      <td>18.039149</td>\n",
       "      <td>0.024348</td>\n",
       "      <td>5211</td>\n",
       "      <td>1116</td>\n",
       "      <td>0.441274</td>\n",
       "      <td>0.368438</td>\n",
       "      <td>0.013139</td>\n",
       "    </tr>\n",
       "    <tr>\n",
       "      <th>36</th>\n",
       "      <td>misc. level pos.</td>\n",
       "      <td>OR</td>\n",
       "      <td>18.039149</td>\n",
       "      <td>0.024348</td>\n",
       "      <td>5211</td>\n",
       "      <td>1116</td>\n",
       "      <td>0.441274</td>\n",
       "      <td>0.368438</td>\n",
       "      <td>0.013139</td>\n",
       "    </tr>\n",
       "    <tr>\n",
       "      <th>6</th>\n",
       "      <td>misc. level pos.</td>\n",
       "      <td>CT</td>\n",
       "      <td>18.039149</td>\n",
       "      <td>0.024348</td>\n",
       "      <td>5211</td>\n",
       "      <td>1116</td>\n",
       "      <td>0.441274</td>\n",
       "      <td>0.368438</td>\n",
       "      <td>0.013139</td>\n",
       "    </tr>\n",
       "    <tr>\n",
       "      <th>47</th>\n",
       "      <td>misc. level pos.</td>\n",
       "      <td>WI</td>\n",
       "      <td>18.039149</td>\n",
       "      <td>0.024348</td>\n",
       "      <td>5211</td>\n",
       "      <td>1116</td>\n",
       "      <td>0.441274</td>\n",
       "      <td>0.368438</td>\n",
       "      <td>0.013139</td>\n",
       "    </tr>\n",
       "    <tr>\n",
       "      <th>42</th>\n",
       "      <td>misc. level pos.</td>\n",
       "      <td>TX</td>\n",
       "      <td>18.039149</td>\n",
       "      <td>0.024348</td>\n",
       "      <td>5211</td>\n",
       "      <td>1116</td>\n",
       "      <td>0.441274</td>\n",
       "      <td>0.368438</td>\n",
       "      <td>0.013139</td>\n",
       "    </tr>\n",
       "  </tbody>\n",
       "</table>\n",
       "</div>"
      ],
      "text/plain": [
       "             Group_2 Group_1        woe  iv_total_final  good   bad  \\\n",
       "37  misc. level neg.      PA -15.802180        0.024348  4880  1466   \n",
       "34  misc. level neg.      OH -15.802180        0.024348  4880  1466   \n",
       "26  misc. level neg.      NC -15.802180        0.024348  4880  1466   \n",
       "19  misc. level neg.      MD -15.802180        0.024348  4880  1466   \n",
       "30  misc. level neg.      NJ -15.802180        0.024348  4880  1466   \n",
       "14  misc. level neg.      IN -15.802180        0.024348  4880  1466   \n",
       "23  misc. level neg.      MO -15.802180        0.024348  4880  1466   \n",
       "32  misc. level neg.      NV -15.802180        0.024348  4880  1466   \n",
       "1   misc. level neg.      AL -15.802180        0.024348  4880  1466   \n",
       "41  misc. level neg.      TN -15.802180        0.024348  4880  1466   \n",
       "12  misc. level neg.      ID -15.802180        0.024348  4880  1466   \n",
       "28  misc. level neg.      NE -15.802180        0.024348  4880  1466   \n",
       "0   misc. level neg.      AK -15.802180        0.024348  4880  1466   \n",
       "27  misc. level neg.      ND -15.802180        0.024348  4880  1466   \n",
       "35  misc. level neg.      OK -15.802180        0.024348  4880  1466   \n",
       "16  misc. level neg.      KY -15.802180        0.024348  4880  1466   \n",
       "24  misc. level neg.      MS -15.802180        0.024348  4880  1466   \n",
       "17  misc. level neg.      LA -15.802180        0.024348  4880  1466   \n",
       "2   misc. level neg.      AR -15.802180        0.024348  4880  1466   \n",
       "9   misc. level neg.      FL -15.802180        0.024348  4880  1466   \n",
       "33  misc. level neg.      NY -15.802180        0.024348  4880  1466   \n",
       "4                 CA      CA  -1.427191        0.024348  1718   447   \n",
       "13  misc. level pos.      IL  18.039149        0.024348  5211  1116   \n",
       "10  misc. level pos.      GA  18.039149        0.024348  5211  1116   \n",
       "44  misc. level pos.      VA  18.039149        0.024348  5211  1116   \n",
       "21  misc. level pos.      MI  18.039149        0.024348  5211  1116   \n",
       "3   misc. level pos.      AZ  18.039149        0.024348  5211  1116   \n",
       "18  misc. level pos.      MA  18.039149        0.024348  5211  1116   \n",
       "43  misc. level pos.      UT  18.039149        0.024348  5211  1116   \n",
       "11  misc. level pos.      HI  18.039149        0.024348  5211  1116   \n",
       "29  misc. level pos.      NH  18.039149        0.024348  5211  1116   \n",
       "31  misc. level pos.      NM  18.039149        0.024348  5211  1116   \n",
       "38  misc. level pos.      RI  18.039149        0.024348  5211  1116   \n",
       "48  misc. level pos.      WV  18.039149        0.024348  5211  1116   \n",
       "8   misc. level pos.      DE  18.039149        0.024348  5211  1116   \n",
       "25  misc. level pos.      MT  18.039149        0.024348  5211  1116   \n",
       "7   misc. level pos.      DC  18.039149        0.024348  5211  1116   \n",
       "40  misc. level pos.      SD  18.039149        0.024348  5211  1116   \n",
       "46  misc. level pos.      WA  18.039149        0.024348  5211  1116   \n",
       "49  misc. level pos.      WY  18.039149        0.024348  5211  1116   \n",
       "20  misc. level pos.      ME  18.039149        0.024348  5211  1116   \n",
       "45  misc. level pos.      VT  18.039149        0.024348  5211  1116   \n",
       "5   misc. level pos.      CO  18.039149        0.024348  5211  1116   \n",
       "15  misc. level pos.      KS  18.039149        0.024348  5211  1116   \n",
       "22  misc. level pos.      MN  18.039149        0.024348  5211  1116   \n",
       "39  misc. level pos.      SC  18.039149        0.024348  5211  1116   \n",
       "36  misc. level pos.      OR  18.039149        0.024348  5211  1116   \n",
       "6   misc. level pos.      CT  18.039149        0.024348  5211  1116   \n",
       "47  misc. level pos.      WI  18.039149        0.024348  5211  1116   \n",
       "42  misc. level pos.      TX  18.039149        0.024348  5211  1116   \n",
       "\n",
       "    col_perc_a  col_perc_b   iv_bins  \n",
       "37    0.413244    0.483988  0.011179  \n",
       "34    0.413244    0.483988  0.011179  \n",
       "26    0.413244    0.483988  0.011179  \n",
       "19    0.413244    0.483988  0.011179  \n",
       "30    0.413244    0.483988  0.011179  \n",
       "14    0.413244    0.483988  0.011179  \n",
       "23    0.413244    0.483988  0.011179  \n",
       "32    0.413244    0.483988  0.011179  \n",
       "1     0.413244    0.483988  0.011179  \n",
       "41    0.413244    0.483988  0.011179  \n",
       "12    0.413244    0.483988  0.011179  \n",
       "28    0.413244    0.483988  0.011179  \n",
       "0     0.413244    0.483988  0.011179  \n",
       "27    0.413244    0.483988  0.011179  \n",
       "35    0.413244    0.483988  0.011179  \n",
       "16    0.413244    0.483988  0.011179  \n",
       "24    0.413244    0.483988  0.011179  \n",
       "17    0.413244    0.483988  0.011179  \n",
       "2     0.413244    0.483988  0.011179  \n",
       "9     0.413244    0.483988  0.011179  \n",
       "33    0.413244    0.483988  0.011179  \n",
       "4     0.145482    0.147573  0.000030  \n",
       "13    0.441274    0.368438  0.013139  \n",
       "10    0.441274    0.368438  0.013139  \n",
       "44    0.441274    0.368438  0.013139  \n",
       "21    0.441274    0.368438  0.013139  \n",
       "3     0.441274    0.368438  0.013139  \n",
       "18    0.441274    0.368438  0.013139  \n",
       "43    0.441274    0.368438  0.013139  \n",
       "11    0.441274    0.368438  0.013139  \n",
       "29    0.441274    0.368438  0.013139  \n",
       "31    0.441274    0.368438  0.013139  \n",
       "38    0.441274    0.368438  0.013139  \n",
       "48    0.441274    0.368438  0.013139  \n",
       "8     0.441274    0.368438  0.013139  \n",
       "25    0.441274    0.368438  0.013139  \n",
       "7     0.441274    0.368438  0.013139  \n",
       "40    0.441274    0.368438  0.013139  \n",
       "46    0.441274    0.368438  0.013139  \n",
       "49    0.441274    0.368438  0.013139  \n",
       "20    0.441274    0.368438  0.013139  \n",
       "45    0.441274    0.368438  0.013139  \n",
       "5     0.441274    0.368438  0.013139  \n",
       "15    0.441274    0.368438  0.013139  \n",
       "22    0.441274    0.368438  0.013139  \n",
       "39    0.441274    0.368438  0.013139  \n",
       "36    0.441274    0.368438  0.013139  \n",
       "6     0.441274    0.368438  0.013139  \n",
       "47    0.441274    0.368438  0.013139  \n",
       "42    0.441274    0.368438  0.013139  "
      ]
     },
     "execution_count": 11,
     "metadata": {},
     "output_type": "execute_result"
    },
    {
     "data": {
      "application/javascript": [
       "\n",
       "            setTimeout(function() {\n",
       "                var nbb_cell_id = 11;\n",
       "                var nbb_unformatted_code = \"# State\\nbinning = woeBinningPandas.woe_binning(\\n    df, \\\"target\\\", \\\"addr_state\\\", 0.1, 0.1, 50, 100, \\\"bad\\\"\\n)\\nbinning\";\n",
       "                var nbb_formatted_code = \"# State\\nbinning = woeBinningPandas.woe_binning(\\n    df, \\\"target\\\", \\\"addr_state\\\", 0.1, 0.1, 50, 100, \\\"bad\\\"\\n)\\nbinning\";\n",
       "                var nbb_cells = Jupyter.notebook.get_cells();\n",
       "                for (var i = 0; i < nbb_cells.length; ++i) {\n",
       "                    if (nbb_cells[i].input_prompt_number == nbb_cell_id) {\n",
       "                        if (nbb_cells[i].get_text() == nbb_unformatted_code) {\n",
       "                             nbb_cells[i].set_text(nbb_formatted_code);\n",
       "                        }\n",
       "                        break;\n",
       "                    }\n",
       "                }\n",
       "            }, 500);\n",
       "            "
      ],
      "text/plain": [
       "<IPython.core.display.Javascript object>"
      ]
     },
     "metadata": {},
     "output_type": "display_data"
    }
   ],
   "source": [
    "# State\n",
    "binning = woeBinningPandas.woe_binning(\n",
    "    df, \"target\", \"addr_state\", 0.1, 0.1, 50, 100, \"bad\"\n",
    ")\n",
    "binning"
   ]
  },
  {
   "cell_type": "code",
   "execution_count": 12,
   "metadata": {},
   "outputs": [
    {
     "data": {
      "application/javascript": [
       "\n",
       "            setTimeout(function() {\n",
       "                var nbb_cell_id = 12;\n",
       "                var nbb_unformatted_code = \"badstates = binning[\\\"Group_1\\\"][:25].tolist()\\ncalifornia = [\\\"CA\\\"]\\ngoodstates = binning[\\\"Group_1\\\"][27:].tolist()\";\n",
       "                var nbb_formatted_code = \"badstates = binning[\\\"Group_1\\\"][:25].tolist()\\ncalifornia = [\\\"CA\\\"]\\ngoodstates = binning[\\\"Group_1\\\"][27:].tolist()\";\n",
       "                var nbb_cells = Jupyter.notebook.get_cells();\n",
       "                for (var i = 0; i < nbb_cells.length; ++i) {\n",
       "                    if (nbb_cells[i].input_prompt_number == nbb_cell_id) {\n",
       "                        if (nbb_cells[i].get_text() == nbb_unformatted_code) {\n",
       "                             nbb_cells[i].set_text(nbb_formatted_code);\n",
       "                        }\n",
       "                        break;\n",
       "                    }\n",
       "                }\n",
       "            }, 500);\n",
       "            "
      ],
      "text/plain": [
       "<IPython.core.display.Javascript object>"
      ]
     },
     "metadata": {},
     "output_type": "display_data"
    }
   ],
   "source": [
    "badstates = binning[\"Group_1\"][:25].tolist()\n",
    "california = [\"CA\"]\n",
    "goodstates = binning[\"Group_1\"][27:].tolist()"
   ]
  },
  {
   "cell_type": "code",
   "execution_count": 13,
   "metadata": {},
   "outputs": [
    {
     "data": {
      "application/javascript": [
       "\n",
       "            setTimeout(function() {\n",
       "                var nbb_cell_id = 13;\n",
       "                var nbb_unformatted_code = \"df[\\\"addr_state2\\\"] = df[\\\"addr_state\\\"].apply(\\n    lambda x: \\\"California\\\"\\n    if (x == \\\"CA\\\")\\n    else (\\\"Bad state\\\" if (x in badstates) else \\\"Good state\\\")\\n)\";\n",
       "                var nbb_formatted_code = \"df[\\\"addr_state2\\\"] = df[\\\"addr_state\\\"].apply(\\n    lambda x: \\\"California\\\"\\n    if (x == \\\"CA\\\")\\n    else (\\\"Bad state\\\" if (x in badstates) else \\\"Good state\\\")\\n)\";\n",
       "                var nbb_cells = Jupyter.notebook.get_cells();\n",
       "                for (var i = 0; i < nbb_cells.length; ++i) {\n",
       "                    if (nbb_cells[i].input_prompt_number == nbb_cell_id) {\n",
       "                        if (nbb_cells[i].get_text() == nbb_unformatted_code) {\n",
       "                             nbb_cells[i].set_text(nbb_formatted_code);\n",
       "                        }\n",
       "                        break;\n",
       "                    }\n",
       "                }\n",
       "            }, 500);\n",
       "            "
      ],
      "text/plain": [
       "<IPython.core.display.Javascript object>"
      ]
     },
     "metadata": {},
     "output_type": "display_data"
    }
   ],
   "source": [
    "df[\"addr_state2\"] = df[\"addr_state\"].apply(\n",
    "    lambda x: \"California\"\n",
    "    if (x == \"CA\")\n",
    "    else (\"Bad state\" if (x in badstates) else \"Good state\")\n",
    ")"
   ]
  },
  {
   "cell_type": "code",
   "execution_count": 14,
   "metadata": {},
   "outputs": [
    {
     "data": {
      "application/javascript": [
       "\n",
       "            setTimeout(function() {\n",
       "                var nbb_cell_id = 14;\n",
       "                var nbb_unformatted_code = \"df2 = df[[\\\"id\\\", \\\"target\\\", \\\"loan_amnt2\\\", \\\"addr_state2\\\"]]\";\n",
       "                var nbb_formatted_code = \"df2 = df[[\\\"id\\\", \\\"target\\\", \\\"loan_amnt2\\\", \\\"addr_state2\\\"]]\";\n",
       "                var nbb_cells = Jupyter.notebook.get_cells();\n",
       "                for (var i = 0; i < nbb_cells.length; ++i) {\n",
       "                    if (nbb_cells[i].input_prompt_number == nbb_cell_id) {\n",
       "                        if (nbb_cells[i].get_text() == nbb_unformatted_code) {\n",
       "                             nbb_cells[i].set_text(nbb_formatted_code);\n",
       "                        }\n",
       "                        break;\n",
       "                    }\n",
       "                }\n",
       "            }, 500);\n",
       "            "
      ],
      "text/plain": [
       "<IPython.core.display.Javascript object>"
      ]
     },
     "metadata": {},
     "output_type": "display_data"
    }
   ],
   "source": [
    "df2 = df[[\"id\", \"target\", \"loan_amnt2\", \"addr_state2\"]]"
   ]
  },
  {
   "cell_type": "code",
   "execution_count": 15,
   "metadata": {},
   "outputs": [
    {
     "data": {
      "text/plain": [
       "Text(0, 0.5, 'Proportion of Accepts')"
      ]
     },
     "execution_count": 15,
     "metadata": {},
     "output_type": "execute_result"
    },
    {
     "data": {
      "image/png": "[encoded data removed]",
      "text/plain": [
       "<Figure size 432x288 with 1 Axes>"
      ]
     },
     "metadata": {
      "needs_background": "light"
     },
     "output_type": "display_data"
    },
    {
     "data": {
      "application/javascript": [
       "\n",
       "            setTimeout(function() {\n",
       "                var nbb_cell_id = 15;\n",
       "                var nbb_unformatted_code = \"# Explore differentiation\\n%matplotlib inline\\ntable = pd.crosstab(df2[\\\"loan_amnt2\\\"], df2[\\\"target\\\"])\\ntable.div(table.sum(1).astype(float), axis=0).plot(\\n    kind=\\\"bar\\\", color=[\\\"cadetblue\\\", \\\"crimson\\\"], stacked=True\\n)\\nplt.title(\\\"Stacked Bar Loan Amount vs Accept Reject\\\")\\nplt.xlabel(\\\"Employment Length\\\")\\nplt.ylabel(\\\"Proportion of Accepts\\\")\";\n",
       "                var nbb_formatted_code = \"# Explore differentiation\\n%matplotlib inline\\ntable = pd.crosstab(df2[\\\"loan_amnt2\\\"], df2[\\\"target\\\"])\\ntable.div(table.sum(1).astype(float), axis=0).plot(\\n    kind=\\\"bar\\\", color=[\\\"cadetblue\\\", \\\"crimson\\\"], stacked=True\\n)\\nplt.title(\\\"Stacked Bar Loan Amount vs Accept Reject\\\")\\nplt.xlabel(\\\"Employment Length\\\")\\nplt.ylabel(\\\"Proportion of Accepts\\\")\";\n",
       "                var nbb_cells = Jupyter.notebook.get_cells();\n",
       "                for (var i = 0; i < nbb_cells.length; ++i) {\n",
       "                    if (nbb_cells[i].input_prompt_number == nbb_cell_id) {\n",
       "                        if (nbb_cells[i].get_text() == nbb_unformatted_code) {\n",
       "                             nbb_cells[i].set_text(nbb_formatted_code);\n",
       "                        }\n",
       "                        break;\n",
       "                    }\n",
       "                }\n",
       "            }, 500);\n",
       "            "
      ],
      "text/plain": [
       "<IPython.core.display.Javascript object>"
      ]
     },
     "metadata": {},
     "output_type": "display_data"
    }
   ],
   "source": [
    "# Explore differentiation\n",
    "%matplotlib inline\n",
    "table = pd.crosstab(df2[\"loan_amnt2\"], df2[\"target\"])\n",
    "table.div(table.sum(1).astype(float), axis=0).plot(\n",
    "    kind=\"bar\", color=[\"cadetblue\", \"crimson\"], stacked=True\n",
    ")\n",
    "plt.title(\"Stacked Bar Loan Amount vs Accept Reject\")\n",
    "plt.xlabel(\"Employment Length\")\n",
    "plt.ylabel(\"Proportion of Accepts\")"
   ]
  },
  {
   "cell_type": "code",
   "execution_count": 16,
   "metadata": {},
   "outputs": [
    {
     "data": {
      "text/html": [
       "<div>\n",
       "<style scoped>\n",
       "    .dataframe tbody tr th:only-of-type {\n",
       "        vertical-align: middle;\n",
       "    }\n",
       "\n",
       "    .dataframe tbody tr th {\n",
       "        vertical-align: top;\n",
       "    }\n",
       "\n",
       "    .dataframe thead th {\n",
       "        text-align: right;\n",
       "    }\n",
       "</style>\n",
       "<table border=\"1\" class=\"dataframe\">\n",
       "  <thead>\n",
       "    <tr style=\"text-align: right;\">\n",
       "      <th>target</th>\n",
       "      <th>0</th>\n",
       "      <th>1</th>\n",
       "    </tr>\n",
       "    <tr>\n",
       "      <th>loan_amnt2</th>\n",
       "      <th></th>\n",
       "      <th></th>\n",
       "    </tr>\n",
       "  </thead>\n",
       "  <tbody>\n",
       "    <tr>\n",
       "      <th>1-10k</th>\n",
       "      <td>0.823922</td>\n",
       "      <td>0.176078</td>\n",
       "    </tr>\n",
       "    <tr>\n",
       "      <th>&lt;=1k</th>\n",
       "      <td>0.892308</td>\n",
       "      <td>0.107692</td>\n",
       "    </tr>\n",
       "    <tr>\n",
       "      <th>&gt;10k</th>\n",
       "      <td>0.775151</td>\n",
       "      <td>0.224849</td>\n",
       "    </tr>\n",
       "  </tbody>\n",
       "</table>\n",
       "</div>"
      ],
      "text/plain": [
       "target             0         1\n",
       "loan_amnt2                    \n",
       "1-10k       0.823922  0.176078\n",
       "<=1k        0.892308  0.107692\n",
       ">10k        0.775151  0.224849"
      ]
     },
     "execution_count": 16,
     "metadata": {},
     "output_type": "execute_result"
    },
    {
     "data": {
      "application/javascript": [
       "\n",
       "            setTimeout(function() {\n",
       "                var nbb_cell_id = 16;\n",
       "                var nbb_unformatted_code = \"pd.crosstab(df2[\\\"loan_amnt2\\\"], df2[\\\"target\\\"]).apply(lambda r: r / r.sum(), axis=1)\";\n",
       "                var nbb_formatted_code = \"pd.crosstab(df2[\\\"loan_amnt2\\\"], df2[\\\"target\\\"]).apply(lambda r: r / r.sum(), axis=1)\";\n",
       "                var nbb_cells = Jupyter.notebook.get_cells();\n",
       "                for (var i = 0; i < nbb_cells.length; ++i) {\n",
       "                    if (nbb_cells[i].input_prompt_number == nbb_cell_id) {\n",
       "                        if (nbb_cells[i].get_text() == nbb_unformatted_code) {\n",
       "                             nbb_cells[i].set_text(nbb_formatted_code);\n",
       "                        }\n",
       "                        break;\n",
       "                    }\n",
       "                }\n",
       "            }, 500);\n",
       "            "
      ],
      "text/plain": [
       "<IPython.core.display.Javascript object>"
      ]
     },
     "metadata": {},
     "output_type": "display_data"
    }
   ],
   "source": [
    "pd.crosstab(df2[\"loan_amnt2\"], df2[\"target\"]).apply(lambda r: r / r.sum(), axis=1)"
   ]
  },
  {
   "cell_type": "code",
   "execution_count": 17,
   "metadata": {},
   "outputs": [
    {
     "data": {
      "text/plain": [
       "Text(0, 0.5, 'Proportion of Accepts')"
      ]
     },
     "execution_count": 17,
     "metadata": {},
     "output_type": "execute_result"
    },
    {
     "data": {
      "image/png": "[encoded data removed]",
      "text/plain": [
       "<Figure size 432x288 with 1 Axes>"
      ]
     },
     "metadata": {
      "needs_background": "light"
     },
     "output_type": "display_data"
    },
    {
     "data": {
      "application/javascript": [
       "\n",
       "            setTimeout(function() {\n",
       "                var nbb_cell_id = 17;\n",
       "                var nbb_unformatted_code = \"# Explore differentiation\\n%matplotlib inline\\ntable = pd.crosstab(df2[\\\"addr_state2\\\"], df2[\\\"target\\\"])\\ntable.div(table.sum(1).astype(float), axis=0).plot(\\n    kind=\\\"bar\\\", color=[\\\"cadetblue\\\", \\\"crimson\\\"], stacked=True\\n)\\nplt.title(\\\"Stacked Bar State vs Accept Reject\\\")\\nplt.xlabel(\\\"Employment Length\\\")\\nplt.ylabel(\\\"Proportion of Accepts\\\")\";\n",
       "                var nbb_formatted_code = \"# Explore differentiation\\n%matplotlib inline\\ntable = pd.crosstab(df2[\\\"addr_state2\\\"], df2[\\\"target\\\"])\\ntable.div(table.sum(1).astype(float), axis=0).plot(\\n    kind=\\\"bar\\\", color=[\\\"cadetblue\\\", \\\"crimson\\\"], stacked=True\\n)\\nplt.title(\\\"Stacked Bar State vs Accept Reject\\\")\\nplt.xlabel(\\\"Employment Length\\\")\\nplt.ylabel(\\\"Proportion of Accepts\\\")\";\n",
       "                var nbb_cells = Jupyter.notebook.get_cells();\n",
       "                for (var i = 0; i < nbb_cells.length; ++i) {\n",
       "                    if (nbb_cells[i].input_prompt_number == nbb_cell_id) {\n",
       "                        if (nbb_cells[i].get_text() == nbb_unformatted_code) {\n",
       "                             nbb_cells[i].set_text(nbb_formatted_code);\n",
       "                        }\n",
       "                        break;\n",
       "                    }\n",
       "                }\n",
       "            }, 500);\n",
       "            "
      ],
      "text/plain": [
       "<IPython.core.display.Javascript object>"
      ]
     },
     "metadata": {},
     "output_type": "display_data"
    }
   ],
   "source": [
    "# Explore differentiation\n",
    "%matplotlib inline\n",
    "table = pd.crosstab(df2[\"addr_state2\"], df2[\"target\"])\n",
    "table.div(table.sum(1).astype(float), axis=0).plot(\n",
    "    kind=\"bar\", color=[\"cadetblue\", \"crimson\"], stacked=True\n",
    ")\n",
    "plt.title(\"Stacked Bar State vs Accept Reject\")\n",
    "plt.xlabel(\"Employment Length\")\n",
    "plt.ylabel(\"Proportion of Accepts\")"
   ]
  },
  {
   "cell_type": "code",
   "execution_count": 18,
   "metadata": {},
   "outputs": [
    {
     "data": {
      "text/html": [
       "<div>\n",
       "<style scoped>\n",
       "    .dataframe tbody tr th:only-of-type {\n",
       "        vertical-align: middle;\n",
       "    }\n",
       "\n",
       "    .dataframe tbody tr th {\n",
       "        vertical-align: top;\n",
       "    }\n",
       "\n",
       "    .dataframe thead th {\n",
       "        text-align: right;\n",
       "    }\n",
       "</style>\n",
       "<table border=\"1\" class=\"dataframe\">\n",
       "  <thead>\n",
       "    <tr style=\"text-align: right;\">\n",
       "      <th>target</th>\n",
       "      <th>0</th>\n",
       "      <th>1</th>\n",
       "    </tr>\n",
       "    <tr>\n",
       "      <th>addr_state2</th>\n",
       "      <th></th>\n",
       "      <th></th>\n",
       "    </tr>\n",
       "  </thead>\n",
       "  <tbody>\n",
       "    <tr>\n",
       "      <th>Bad state</th>\n",
       "      <td>0.779883</td>\n",
       "      <td>0.220117</td>\n",
       "    </tr>\n",
       "    <tr>\n",
       "      <th>California</th>\n",
       "      <td>0.793533</td>\n",
       "      <td>0.206467</td>\n",
       "    </tr>\n",
       "    <tr>\n",
       "      <th>Good state</th>\n",
       "      <td>0.823040</td>\n",
       "      <td>0.176960</td>\n",
       "    </tr>\n",
       "  </tbody>\n",
       "</table>\n",
       "</div>"
      ],
      "text/plain": [
       "target              0         1\n",
       "addr_state2                    \n",
       "Bad state    0.779883  0.220117\n",
       "California   0.793533  0.206467\n",
       "Good state   0.823040  0.176960"
      ]
     },
     "execution_count": 18,
     "metadata": {},
     "output_type": "execute_result"
    },
    {
     "data": {
      "application/javascript": [
       "\n",
       "            setTimeout(function() {\n",
       "                var nbb_cell_id = 18;\n",
       "                var nbb_unformatted_code = \"pd.crosstab(df2[\\\"addr_state2\\\"], df2[\\\"target\\\"]).apply(lambda r: r / r.sum(), axis=1)\";\n",
       "                var nbb_formatted_code = \"pd.crosstab(df2[\\\"addr_state2\\\"], df2[\\\"target\\\"]).apply(lambda r: r / r.sum(), axis=1)\";\n",
       "                var nbb_cells = Jupyter.notebook.get_cells();\n",
       "                for (var i = 0; i < nbb_cells.length; ++i) {\n",
       "                    if (nbb_cells[i].input_prompt_number == nbb_cell_id) {\n",
       "                        if (nbb_cells[i].get_text() == nbb_unformatted_code) {\n",
       "                             nbb_cells[i].set_text(nbb_formatted_code);\n",
       "                        }\n",
       "                        break;\n",
       "                    }\n",
       "                }\n",
       "            }, 500);\n",
       "            "
      ],
      "text/plain": [
       "<IPython.core.display.Javascript object>"
      ]
     },
     "metadata": {},
     "output_type": "display_data"
    }
   ],
   "source": [
    "pd.crosstab(df2[\"addr_state2\"], df2[\"target\"]).apply(lambda r: r / r.sum(), axis=1)"
   ]
  },
  {
   "cell_type": "code",
   "execution_count": 19,
   "metadata": {},
   "outputs": [
    {
     "data": {
      "application/javascript": [
       "\n",
       "            setTimeout(function() {\n",
       "                var nbb_cell_id = 19;\n",
       "                var nbb_unformatted_code = \"# One hot encoding\\nmodelling_variables = [\\\"target\\\", \\\"loan_amnt2\\\", \\\"addr_state2\\\"]\\n\\nfor i in modelling_variables:\\n    if i != \\\"target\\\":\\n        df2 = df2.join(pd.get_dummies(df2[i]))\\n        df2 = df2.drop([i], axis=1)\";\n",
       "                var nbb_formatted_code = \"# One hot encoding\\nmodelling_variables = [\\\"target\\\", \\\"loan_amnt2\\\", \\\"addr_state2\\\"]\\n\\nfor i in modelling_variables:\\n    if i != \\\"target\\\":\\n        df2 = df2.join(pd.get_dummies(df2[i]))\\n        df2 = df2.drop([i], axis=1)\";\n",
       "                var nbb_cells = Jupyter.notebook.get_cells();\n",
       "                for (var i = 0; i < nbb_cells.length; ++i) {\n",
       "                    if (nbb_cells[i].input_prompt_number == nbb_cell_id) {\n",
       "                        if (nbb_cells[i].get_text() == nbb_unformatted_code) {\n",
       "                             nbb_cells[i].set_text(nbb_formatted_code);\n",
       "                        }\n",
       "                        break;\n",
       "                    }\n",
       "                }\n",
       "            }, 500);\n",
       "            "
      ],
      "text/plain": [
       "<IPython.core.display.Javascript object>"
      ]
     },
     "metadata": {},
     "output_type": "display_data"
    }
   ],
   "source": [
    "# One hot encoding\n",
    "modelling_variables = [\"target\", \"loan_amnt2\", \"addr_state2\"]\n",
    "\n",
    "for i in modelling_variables:\n",
    "    if i != \"target\":\n",
    "        df2 = df2.join(pd.get_dummies(df2[i]))\n",
    "        df2 = df2.drop([i], axis=1)"
   ]
  },
  {
   "cell_type": "code",
   "execution_count": 20,
   "metadata": {},
   "outputs": [
    {
     "data": {
      "application/javascript": [
       "\n",
       "            setTimeout(function() {\n",
       "                var nbb_cell_id = 20;\n",
       "                var nbb_unformatted_code = \"# Drop Null Band\\ndf3 = df2.drop(columns=[\\\"1-10k\\\", \\\"California\\\"])\";\n",
       "                var nbb_formatted_code = \"# Drop Null Band\\ndf3 = df2.drop(columns=[\\\"1-10k\\\", \\\"California\\\"])\";\n",
       "                var nbb_cells = Jupyter.notebook.get_cells();\n",
       "                for (var i = 0; i < nbb_cells.length; ++i) {\n",
       "                    if (nbb_cells[i].input_prompt_number == nbb_cell_id) {\n",
       "                        if (nbb_cells[i].get_text() == nbb_unformatted_code) {\n",
       "                             nbb_cells[i].set_text(nbb_formatted_code);\n",
       "                        }\n",
       "                        break;\n",
       "                    }\n",
       "                }\n",
       "            }, 500);\n",
       "            "
      ],
      "text/plain": [
       "<IPython.core.display.Javascript object>"
      ]
     },
     "metadata": {},
     "output_type": "display_data"
    }
   ],
   "source": [
    "# Drop Null Band\n",
    "df3 = df2.drop(columns=[\"1-10k\", \"California\"])"
   ]
  },
  {
   "cell_type": "code",
   "execution_count": 21,
   "metadata": {},
   "outputs": [
    {
     "data": {
      "application/javascript": [
       "\n",
       "            setTimeout(function() {\n",
       "                var nbb_cell_id = 21;\n",
       "                var nbb_unformatted_code = \"X = df3.loc[:, df3.columns != \\\"target\\\"]\\ny = df3.loc[:, df3.columns == \\\"target\\\"]\";\n",
       "                var nbb_formatted_code = \"X = df3.loc[:, df3.columns != \\\"target\\\"]\\ny = df3.loc[:, df3.columns == \\\"target\\\"]\";\n",
       "                var nbb_cells = Jupyter.notebook.get_cells();\n",
       "                for (var i = 0; i < nbb_cells.length; ++i) {\n",
       "                    if (nbb_cells[i].input_prompt_number == nbb_cell_id) {\n",
       "                        if (nbb_cells[i].get_text() == nbb_unformatted_code) {\n",
       "                             nbb_cells[i].set_text(nbb_formatted_code);\n",
       "                        }\n",
       "                        break;\n",
       "                    }\n",
       "                }\n",
       "            }, 500);\n",
       "            "
      ],
      "text/plain": [
       "<IPython.core.display.Javascript object>"
      ]
     },
     "metadata": {},
     "output_type": "display_data"
    }
   ],
   "source": [
    "X = df3.loc[:, df3.columns != \"target\"]\n",
    "y = df3.loc[:, df3.columns == \"target\"]"
   ]
  },
  {
   "cell_type": "code",
   "execution_count": 22,
   "metadata": {},
   "outputs": [
    {
     "data": {
      "application/javascript": [
       "\n",
       "            setTimeout(function() {\n",
       "                var nbb_cell_id = 22;\n",
       "                var nbb_unformatted_code = \"# Balance the data\\nos = RandomUnderSampler(sampling_strategy=0.5, random_state=7)\\nX_train, X_test, y_train, y_test = train_test_split(X, y, test_size=0.3, random_state=7)\\ncolumns = X_train.columns\";\n",
       "                var nbb_formatted_code = \"# Balance the data\\nos = RandomUnderSampler(sampling_strategy=0.5, random_state=7)\\nX_train, X_test, y_train, y_test = train_test_split(X, y, test_size=0.3, random_state=7)\\ncolumns = X_train.columns\";\n",
       "                var nbb_cells = Jupyter.notebook.get_cells();\n",
       "                for (var i = 0; i < nbb_cells.length; ++i) {\n",
       "                    if (nbb_cells[i].input_prompt_number == nbb_cell_id) {\n",
       "                        if (nbb_cells[i].get_text() == nbb_unformatted_code) {\n",
       "                             nbb_cells[i].set_text(nbb_formatted_code);\n",
       "                        }\n",
       "                        break;\n",
       "                    }\n",
       "                }\n",
       "            }, 500);\n",
       "            "
      ],
      "text/plain": [
       "<IPython.core.display.Javascript object>"
      ]
     },
     "metadata": {},
     "output_type": "display_data"
    }
   ],
   "source": [
    "# Balance the data\n",
    "os = RandomUnderSampler(sampling_strategy=0.5, random_state=7)\n",
    "X_train, X_test, y_train, y_test = train_test_split(X, y, test_size=0.3, random_state=7)\n",
    "columns = X_train.columns"
   ]
  },
  {
   "cell_type": "code",
   "execution_count": 23,
   "metadata": {},
   "outputs": [
    {
     "name": "stdout",
     "output_type": "stream",
     "text": [
      "The number of observations in Development data before undersampling is  10386\n",
      "The number of observations in Development data after undersampling is  6357\n"
     ]
    },
    {
     "data": {
      "application/javascript": [
       "\n",
       "            setTimeout(function() {\n",
       "                var nbb_cell_id = 23;\n",
       "                var nbb_unformatted_code = \"# Train\\nos_data_X, os_data_y = os.fit_sample(X_train, y_train)\\nos_data_X = pd.DataFrame(data=os_data_X, columns=columns)\\nos_data_y = pd.DataFrame(data=os_data_y, columns=[\\\"target\\\"])\\n\\n# we can check the numbers of our data\\nprint(\\n    \\\"The number of observations in Development data before undersampling is \\\",\\n    len(X_train),\\n)\\nprint(\\n    \\\"The number of observations in Development data after undersampling is \\\",\\n    len(os_data_X),\\n)\";\n",
       "                var nbb_formatted_code = \"# Train\\nos_data_X, os_data_y = os.fit_sample(X_train, y_train)\\nos_data_X = pd.DataFrame(data=os_data_X, columns=columns)\\nos_data_y = pd.DataFrame(data=os_data_y, columns=[\\\"target\\\"])\\n\\n# we can check the numbers of our data\\nprint(\\n    \\\"The number of observations in Development data before undersampling is \\\",\\n    len(X_train),\\n)\\nprint(\\n    \\\"The number of observations in Development data after undersampling is \\\",\\n    len(os_data_X),\\n)\";\n",
       "                var nbb_cells = Jupyter.notebook.get_cells();\n",
       "                for (var i = 0; i < nbb_cells.length; ++i) {\n",
       "                    if (nbb_cells[i].input_prompt_number == nbb_cell_id) {\n",
       "                        if (nbb_cells[i].get_text() == nbb_unformatted_code) {\n",
       "                             nbb_cells[i].set_text(nbb_formatted_code);\n",
       "                        }\n",
       "                        break;\n",
       "                    }\n",
       "                }\n",
       "            }, 500);\n",
       "            "
      ],
      "text/plain": [
       "<IPython.core.display.Javascript object>"
      ]
     },
     "metadata": {},
     "output_type": "display_data"
    }
   ],
   "source": [
    "# Train\n",
    "os_data_X, os_data_y = os.fit_sample(X_train, y_train)\n",
    "os_data_X = pd.DataFrame(data=os_data_X, columns=columns)\n",
    "os_data_y = pd.DataFrame(data=os_data_y, columns=[\"target\"])\n",
    "\n",
    "# we can check the numbers of our data\n",
    "print(\n",
    "    \"The number of observations in Development data before undersampling is \",\n",
    "    len(X_train),\n",
    ")\n",
    "print(\n",
    "    \"The number of observations in Development data after undersampling is \",\n",
    "    len(os_data_X),\n",
    ")"
   ]
  },
  {
   "cell_type": "code",
   "execution_count": 24,
   "metadata": {},
   "outputs": [
    {
     "data": {
      "application/javascript": [
       "\n",
       "            setTimeout(function() {\n",
       "                var nbb_cell_id = 24;\n",
       "                var nbb_unformatted_code = \"# Keep only columns for modelling\\nos_data_X_2 = os_data_X[[\\\"<=1k\\\", \\\">10k\\\", \\\"Good state\\\", \\\"Bad state\\\"]]\\nX_test_2 = X_test[[\\\"<=1k\\\", \\\">10k\\\", \\\"Good state\\\", \\\"Bad state\\\"]]\";\n",
       "                var nbb_formatted_code = \"# Keep only columns for modelling\\nos_data_X_2 = os_data_X[[\\\"<=1k\\\", \\\">10k\\\", \\\"Good state\\\", \\\"Bad state\\\"]]\\nX_test_2 = X_test[[\\\"<=1k\\\", \\\">10k\\\", \\\"Good state\\\", \\\"Bad state\\\"]]\";\n",
       "                var nbb_cells = Jupyter.notebook.get_cells();\n",
       "                for (var i = 0; i < nbb_cells.length; ++i) {\n",
       "                    if (nbb_cells[i].input_prompt_number == nbb_cell_id) {\n",
       "                        if (nbb_cells[i].get_text() == nbb_unformatted_code) {\n",
       "                             nbb_cells[i].set_text(nbb_formatted_code);\n",
       "                        }\n",
       "                        break;\n",
       "                    }\n",
       "                }\n",
       "            }, 500);\n",
       "            "
      ],
      "text/plain": [
       "<IPython.core.display.Javascript object>"
      ]
     },
     "metadata": {},
     "output_type": "display_data"
    }
   ],
   "source": [
    "# Keep only columns for modelling\n",
    "os_data_X_2 = os_data_X[[\"<=1k\", \">10k\", \"Good state\", \"Bad state\"]]\n",
    "X_test_2 = X_test[[\"<=1k\", \">10k\", \"Good state\", \"Bad state\"]]"
   ]
  },
  {
   "cell_type": "code",
   "execution_count": 25,
   "metadata": {},
   "outputs": [
    {
     "name": "stdout",
     "output_type": "stream",
     "text": [
      "Optimization terminated successfully.\n",
      "         Current function value: 0.642610\n",
      "         Iterations 6\n",
      "                         Results: Logit\n",
      "================================================================\n",
      "Model:              Logit            Pseudo R-squared: -0.010   \n",
      "Dependent Variable: target           AIC:              8178.1454\n",
      "Date:               2020-11-05 18:58 BIC:              8205.1747\n",
      "No. Observations:   6357             Log-Likelihood:   -4085.1  \n",
      "Df Model:           3                LL-Null:          -4046.3  \n",
      "Df Residuals:       6353             LLR p-value:      1.0000   \n",
      "Converged:          1.0000           Scale:            1.0000   \n",
      "No. Iterations:     6.0000                                      \n",
      "-----------------------------------------------------------------\n",
      "             Coef.   Std.Err.     z      P>|z|    [0.025   0.975]\n",
      "-----------------------------------------------------------------\n",
      "<=1k        -1.0993    0.6306   -1.7432  0.0813  -2.3353   0.1367\n",
      ">10k        -0.0021    0.0480   -0.0444  0.9646  -0.0962   0.0920\n",
      "Good state  -0.8817    0.0570  -15.4767  0.0000  -0.9934  -0.7700\n",
      "Bad state   -0.5845    0.0457  -12.8036  0.0000  -0.6740  -0.4950\n",
      "================================================================\n",
      "\n"
     ]
    },
    {
     "data": {
      "application/javascript": [
       "\n",
       "            setTimeout(function() {\n",
       "                var nbb_cell_id = 25;\n",
       "                var nbb_unformatted_code = \"# Build Logistic regression\\n# Statmodels\\nlogit_model = sm.Logit(os_data_y, os_data_X_2.astype(float))\\nresult3 = logit_model.fit()\\nprint(result3.summary2())\";\n",
       "                var nbb_formatted_code = \"# Build Logistic regression\\n# Statmodels\\nlogit_model = sm.Logit(os_data_y, os_data_X_2.astype(float))\\nresult3 = logit_model.fit()\\nprint(result3.summary2())\";\n",
       "                var nbb_cells = Jupyter.notebook.get_cells();\n",
       "                for (var i = 0; i < nbb_cells.length; ++i) {\n",
       "                    if (nbb_cells[i].input_prompt_number == nbb_cell_id) {\n",
       "                        if (nbb_cells[i].get_text() == nbb_unformatted_code) {\n",
       "                             nbb_cells[i].set_text(nbb_formatted_code);\n",
       "                        }\n",
       "                        break;\n",
       "                    }\n",
       "                }\n",
       "            }, 500);\n",
       "            "
      ],
      "text/plain": [
       "<IPython.core.display.Javascript object>"
      ]
     },
     "metadata": {},
     "output_type": "display_data"
    }
   ],
   "source": [
    "# Build Logistic regression\n",
    "# Statmodels\n",
    "logit_model = sm.Logit(os_data_y, os_data_X_2.astype(float))\n",
    "result3 = logit_model.fit()\n",
    "print(result3.summary2())"
   ]
  },
  {
   "cell_type": "code",
   "execution_count": 26,
   "metadata": {},
   "outputs": [
    {
     "name": "stdout",
     "output_type": "stream",
     "text": [
      "Accuracy score Logistic Regression: 0.7955974842767296\n"
     ]
    },
    {
     "data": {
      "image/png": "[encoded data removed]",
      "text/plain": [
       "<Figure size 432x288 with 1 Axes>"
      ]
     },
     "metadata": {
      "needs_background": "light"
     },
     "output_type": "display_data"
    },
    {
     "data": {
      "application/javascript": [
       "\n",
       "            setTimeout(function() {\n",
       "                var nbb_cell_id = 26;\n",
       "                var nbb_unformatted_code = \"# Sklearn\\nlogreg = LogisticRegression(fit_intercept=False, penalty=\\\"none\\\")\\nlogreg.fit(os_data_X_2, os_data_y.values.ravel())\\ny_pred = logreg.predict(X_test_2)\\nprint(\\\"Accuracy score Logistic Regression:\\\", logreg.score(X_test_2, y_test))\\nlogit_roc_auc = roc_auc_score(y_test, logreg.predict(X_test_2))\\nfpr, tpr, thresholds = roc_curve(y_test, logreg.predict_proba(X_test_2)[:, 1])\\nplt.figure()\\nplt.plot(fpr, tpr, label=\\\"Logistic Regression (area = %0.2f)\\\" % logit_roc_auc)\\nplt.plot([0, 1], [0, 1], \\\"r--\\\")\\nplt.xlim([0.0, 1.0])\\nplt.ylim([0.0, 1.05])\\nplt.xlabel(\\\"False Positive Rate\\\")\\nplt.ylabel(\\\"True Positive Rate\\\")\\nplt.title(\\\"Receiver operating characteristic\\\")\\nplt.legend(loc=\\\"lower right\\\")\\nplt.savefig(\\\"Log_ROC\\\")\\nplt.show()\";\n",
       "                var nbb_formatted_code = \"# Sklearn\\nlogreg = LogisticRegression(fit_intercept=False, penalty=\\\"none\\\")\\nlogreg.fit(os_data_X_2, os_data_y.values.ravel())\\ny_pred = logreg.predict(X_test_2)\\nprint(\\\"Accuracy score Logistic Regression:\\\", logreg.score(X_test_2, y_test))\\nlogit_roc_auc = roc_auc_score(y_test, logreg.predict(X_test_2))\\nfpr, tpr, thresholds = roc_curve(y_test, logreg.predict_proba(X_test_2)[:, 1])\\nplt.figure()\\nplt.plot(fpr, tpr, label=\\\"Logistic Regression (area = %0.2f)\\\" % logit_roc_auc)\\nplt.plot([0, 1], [0, 1], \\\"r--\\\")\\nplt.xlim([0.0, 1.0])\\nplt.ylim([0.0, 1.05])\\nplt.xlabel(\\\"False Positive Rate\\\")\\nplt.ylabel(\\\"True Positive Rate\\\")\\nplt.title(\\\"Receiver operating characteristic\\\")\\nplt.legend(loc=\\\"lower right\\\")\\nplt.savefig(\\\"Log_ROC\\\")\\nplt.show()\";\n",
       "                var nbb_cells = Jupyter.notebook.get_cells();\n",
       "                for (var i = 0; i < nbb_cells.length; ++i) {\n",
       "                    if (nbb_cells[i].input_prompt_number == nbb_cell_id) {\n",
       "                        if (nbb_cells[i].get_text() == nbb_unformatted_code) {\n",
       "                             nbb_cells[i].set_text(nbb_formatted_code);\n",
       "                        }\n",
       "                        break;\n",
       "                    }\n",
       "                }\n",
       "            }, 500);\n",
       "            "
      ],
      "text/plain": [
       "<IPython.core.display.Javascript object>"
      ]
     },
     "metadata": {},
     "output_type": "display_data"
    }
   ],
   "source": [
    "# Sklearn\n",
    "logreg = LogisticRegression(fit_intercept=False, penalty=\"none\")\n",
    "logreg.fit(os_data_X_2, os_data_y.values.ravel())\n",
    "y_pred = logreg.predict(X_test_2)\n",
    "print(\"Accuracy score Logistic Regression:\", logreg.score(X_test_2, y_test))\n",
    "logit_roc_auc = roc_auc_score(y_test, logreg.predict(X_test_2))\n",
    "fpr, tpr, thresholds = roc_curve(y_test, logreg.predict_proba(X_test_2)[:, 1])\n",
    "plt.figure()\n",
    "plt.plot(fpr, tpr, label=\"Logistic Regression (area = %0.2f)\" % logit_roc_auc)\n",
    "plt.plot([0, 1], [0, 1], \"r--\")\n",
    "plt.xlim([0.0, 1.0])\n",
    "plt.ylim([0.0, 1.05])\n",
    "plt.xlabel(\"False Positive Rate\")\n",
    "plt.ylabel(\"True Positive Rate\")\n",
    "plt.title(\"Receiver operating characteristic\")\n",
    "plt.legend(loc=\"lower right\")\n",
    "plt.savefig(\"Log_ROC\")\n",
    "plt.show()"
   ]
  },
  {
   "cell_type": "code",
   "execution_count": 27,
   "metadata": {},
   "outputs": [
    {
     "data": {
      "application/javascript": [
       "\n",
       "            setTimeout(function() {\n",
       "                var nbb_cell_id = 27;\n",
       "                var nbb_unformatted_code = \"#Test set with labels\\ntest_labels = pd.merge(\\n    y_test,\\n    X_test,\\n    how=\\\"inner\\\",\\n    left_index=True,\\n    right_index=True,\\n)\";\n",
       "                var nbb_formatted_code = \"# Test set with labels\\ntest_labels = pd.merge(\\n    y_test,\\n    X_test,\\n    how=\\\"inner\\\",\\n    left_index=True,\\n    right_index=True,\\n)\";\n",
       "                var nbb_cells = Jupyter.notebook.get_cells();\n",
       "                for (var i = 0; i < nbb_cells.length; ++i) {\n",
       "                    if (nbb_cells[i].input_prompt_number == nbb_cell_id) {\n",
       "                        if (nbb_cells[i].get_text() == nbb_unformatted_code) {\n",
       "                             nbb_cells[i].set_text(nbb_formatted_code);\n",
       "                        }\n",
       "                        break;\n",
       "                    }\n",
       "                }\n",
       "            }, 500);\n",
       "            "
      ],
      "text/plain": [
       "<IPython.core.display.Javascript object>"
      ]
     },
     "metadata": {},
     "output_type": "display_data"
    }
   ],
   "source": [
    "#Test set with labels\n",
    "test_labels = pd.merge(\n",
    "    y_test,\n",
    "    X_test,\n",
    "    how=\"inner\",\n",
    "    left_index=True,\n",
    "    right_index=True,\n",
    ")\n"
   ]
  },
  {
   "cell_type": "code",
   "execution_count": 28,
   "metadata": {},
   "outputs": [
    {
     "data": {
      "text/html": [
       "<div>\n",
       "<style scoped>\n",
       "    .dataframe tbody tr th:only-of-type {\n",
       "        vertical-align: middle;\n",
       "    }\n",
       "\n",
       "    .dataframe tbody tr th {\n",
       "        vertical-align: top;\n",
       "    }\n",
       "\n",
       "    .dataframe thead th {\n",
       "        text-align: right;\n",
       "    }\n",
       "</style>\n",
       "<table border=\"1\" class=\"dataframe\">\n",
       "  <thead>\n",
       "    <tr style=\"text-align: right;\">\n",
       "      <th></th>\n",
       "      <th>count</th>\n",
       "    </tr>\n",
       "    <tr>\n",
       "      <th>prediction</th>\n",
       "      <th></th>\n",
       "    </tr>\n",
       "  </thead>\n",
       "  <tbody>\n",
       "    <tr>\n",
       "      <th>0.121250</th>\n",
       "      <td>9</td>\n",
       "    </tr>\n",
       "    <tr>\n",
       "      <th>0.156644</th>\n",
       "      <td>17</td>\n",
       "    </tr>\n",
       "    <tr>\n",
       "      <th>0.249932</th>\n",
       "      <td>3</td>\n",
       "    </tr>\n",
       "    <tr>\n",
       "      <th>0.292376</th>\n",
       "      <td>862</td>\n",
       "    </tr>\n",
       "    <tr>\n",
       "      <th>0.292832</th>\n",
       "      <td>588</td>\n",
       "    </tr>\n",
       "    <tr>\n",
       "      <th>0.357407</th>\n",
       "      <td>1377</td>\n",
       "    </tr>\n",
       "    <tr>\n",
       "      <th>0.357912</th>\n",
       "      <td>959</td>\n",
       "    </tr>\n",
       "    <tr>\n",
       "      <th>0.499450</th>\n",
       "      <td>369</td>\n",
       "    </tr>\n",
       "    <tr>\n",
       "      <th>0.500000</th>\n",
       "      <td>268</td>\n",
       "    </tr>\n",
       "  </tbody>\n",
       "</table>\n",
       "</div>"
      ],
      "text/plain": [
       "            count\n",
       "prediction       \n",
       "0.121250        9\n",
       "0.156644       17\n",
       "0.249932        3\n",
       "0.292376      862\n",
       "0.292832      588\n",
       "0.357407     1377\n",
       "0.357912      959\n",
       "0.499450      369\n",
       "0.500000      268"
      ]
     },
     "execution_count": 28,
     "metadata": {},
     "output_type": "execute_result"
    },
    {
     "data": {
      "application/javascript": [
       "\n",
       "            setTimeout(function() {\n",
       "                var nbb_cell_id = 28;\n",
       "                var nbb_unformatted_code = \"# Predictions on testset\\ntest_pred = logreg.predict_proba(X_test_2)[:, 1]\\ntest_pred2 = pd.DataFrame(data=test_pred, columns=[\\\"prediction\\\"])\\ntest_pred2[\\\"count\\\"] = test_pred2.groupby(\\\"prediction\\\")[\\\"prediction\\\"].transform(\\\"count\\\")\\ntest_pred2.groupby([\\\"prediction\\\"]).count()\";\n",
       "                var nbb_formatted_code = \"# Predictions on testset\\ntest_pred = logreg.predict_proba(X_test_2)[:, 1]\\ntest_pred2 = pd.DataFrame(data=test_pred, columns=[\\\"prediction\\\"])\\ntest_pred2[\\\"count\\\"] = test_pred2.groupby(\\\"prediction\\\")[\\\"prediction\\\"].transform(\\\"count\\\")\\ntest_pred2.groupby([\\\"prediction\\\"]).count()\";\n",
       "                var nbb_cells = Jupyter.notebook.get_cells();\n",
       "                for (var i = 0; i < nbb_cells.length; ++i) {\n",
       "                    if (nbb_cells[i].input_prompt_number == nbb_cell_id) {\n",
       "                        if (nbb_cells[i].get_text() == nbb_unformatted_code) {\n",
       "                             nbb_cells[i].set_text(nbb_formatted_code);\n",
       "                        }\n",
       "                        break;\n",
       "                    }\n",
       "                }\n",
       "            }, 500);\n",
       "            "
      ],
      "text/plain": [
       "<IPython.core.display.Javascript object>"
      ]
     },
     "metadata": {},
     "output_type": "display_data"
    }
   ],
   "source": [
    "# Predictions on testset\n",
    "test_pred = logreg.predict_proba(X_test_2)[:, 1]\n",
    "test_pred2 = pd.DataFrame(data=test_pred, columns=[\"prediction\"])\n",
    "test_pred2[\"count\"] = test_pred2.groupby(\"prediction\")[\"prediction\"].transform(\"count\")\n",
    "test_pred2.groupby([\"prediction\"]).count()"
   ]
  },
  {
   "cell_type": "code",
   "execution_count": 29,
   "metadata": {},
   "outputs": [
    {
     "data": {
      "text/html": [
       "<div>\n",
       "<style scoped>\n",
       "    .dataframe tbody tr th:only-of-type {\n",
       "        vertical-align: middle;\n",
       "    }\n",
       "\n",
       "    .dataframe tbody tr th {\n",
       "        vertical-align: top;\n",
       "    }\n",
       "\n",
       "    .dataframe thead th {\n",
       "        text-align: right;\n",
       "    }\n",
       "</style>\n",
       "<table border=\"1\" class=\"dataframe\">\n",
       "  <thead>\n",
       "    <tr style=\"text-align: right;\">\n",
       "      <th></th>\n",
       "      <th>target</th>\n",
       "      <th>id</th>\n",
       "      <th>&lt;=1k</th>\n",
       "      <th>&gt;10k</th>\n",
       "      <th>Bad state</th>\n",
       "      <th>Good state</th>\n",
       "      <th>prediction_beforeRI</th>\n",
       "    </tr>\n",
       "  </thead>\n",
       "  <tbody>\n",
       "    <tr>\n",
       "      <th>11341</th>\n",
       "      <td>0</td>\n",
       "      <td>26789777</td>\n",
       "      <td>0</td>\n",
       "      <td>1</td>\n",
       "      <td>0</td>\n",
       "      <td>0</td>\n",
       "      <td>0.499450</td>\n",
       "    </tr>\n",
       "    <tr>\n",
       "      <th>3076</th>\n",
       "      <td>1</td>\n",
       "      <td>17894572</td>\n",
       "      <td>0</td>\n",
       "      <td>1</td>\n",
       "      <td>0</td>\n",
       "      <td>0</td>\n",
       "      <td>0.499450</td>\n",
       "    </tr>\n",
       "    <tr>\n",
       "      <th>10395</th>\n",
       "      <td>0</td>\n",
       "      <td>34773392</td>\n",
       "      <td>0</td>\n",
       "      <td>1</td>\n",
       "      <td>0</td>\n",
       "      <td>0</td>\n",
       "      <td>0.499450</td>\n",
       "    </tr>\n",
       "    <tr>\n",
       "      <th>15834</th>\n",
       "      <td>0</td>\n",
       "      <td>1122926</td>\n",
       "      <td>0</td>\n",
       "      <td>1</td>\n",
       "      <td>0</td>\n",
       "      <td>1</td>\n",
       "      <td>0.292376</td>\n",
       "    </tr>\n",
       "    <tr>\n",
       "      <th>1317</th>\n",
       "      <td>0</td>\n",
       "      <td>46774382</td>\n",
       "      <td>0</td>\n",
       "      <td>1</td>\n",
       "      <td>1</td>\n",
       "      <td>0</td>\n",
       "      <td>0.357407</td>\n",
       "    </tr>\n",
       "    <tr>\n",
       "      <th>...</th>\n",
       "      <td>...</td>\n",
       "      <td>...</td>\n",
       "      <td>...</td>\n",
       "      <td>...</td>\n",
       "      <td>...</td>\n",
       "      <td>...</td>\n",
       "      <td>...</td>\n",
       "    </tr>\n",
       "    <tr>\n",
       "      <th>10236</th>\n",
       "      <td>0</td>\n",
       "      <td>98857570</td>\n",
       "      <td>0</td>\n",
       "      <td>1</td>\n",
       "      <td>0</td>\n",
       "      <td>1</td>\n",
       "      <td>0.292376</td>\n",
       "    </tr>\n",
       "    <tr>\n",
       "      <th>6184</th>\n",
       "      <td>1</td>\n",
       "      <td>94467429</td>\n",
       "      <td>0</td>\n",
       "      <td>1</td>\n",
       "      <td>1</td>\n",
       "      <td>0</td>\n",
       "      <td>0.357407</td>\n",
       "    </tr>\n",
       "    <tr>\n",
       "      <th>13619</th>\n",
       "      <td>1</td>\n",
       "      <td>124747082</td>\n",
       "      <td>0</td>\n",
       "      <td>1</td>\n",
       "      <td>1</td>\n",
       "      <td>0</td>\n",
       "      <td>0.357407</td>\n",
       "    </tr>\n",
       "    <tr>\n",
       "      <th>4441</th>\n",
       "      <td>1</td>\n",
       "      <td>49673413</td>\n",
       "      <td>0</td>\n",
       "      <td>1</td>\n",
       "      <td>1</td>\n",
       "      <td>0</td>\n",
       "      <td>0.357407</td>\n",
       "    </tr>\n",
       "    <tr>\n",
       "      <th>15694</th>\n",
       "      <td>0</td>\n",
       "      <td>6899910</td>\n",
       "      <td>0</td>\n",
       "      <td>1</td>\n",
       "      <td>0</td>\n",
       "      <td>1</td>\n",
       "      <td>0.292376</td>\n",
       "    </tr>\n",
       "  </tbody>\n",
       "</table>\n",
       "<p>4452 rows × 7 columns</p>\n",
       "</div>"
      ],
      "text/plain": [
       "       target         id  <=1k  >10k  Bad state  Good state  \\\n",
       "11341       0   26789777     0     1          0           0   \n",
       "3076        1   17894572     0     1          0           0   \n",
       "10395       0   34773392     0     1          0           0   \n",
       "15834       0    1122926     0     1          0           1   \n",
       "1317        0   46774382     0     1          1           0   \n",
       "...       ...        ...   ...   ...        ...         ...   \n",
       "10236       0   98857570     0     1          0           1   \n",
       "6184        1   94467429     0     1          1           0   \n",
       "13619       1  124747082     0     1          1           0   \n",
       "4441        1   49673413     0     1          1           0   \n",
       "15694       0    6899910     0     1          0           1   \n",
       "\n",
       "       prediction_beforeRI  \n",
       "11341             0.499450  \n",
       "3076              0.499450  \n",
       "10395             0.499450  \n",
       "15834             0.292376  \n",
       "1317              0.357407  \n",
       "...                    ...  \n",
       "10236             0.292376  \n",
       "6184              0.357407  \n",
       "13619             0.357407  \n",
       "4441              0.357407  \n",
       "15694             0.292376  \n",
       "\n",
       "[4452 rows x 7 columns]"
      ]
     },
     "execution_count": 29,
     "metadata": {},
     "output_type": "execute_result"
    },
    {
     "data": {
      "application/javascript": [
       "\n",
       "            setTimeout(function() {\n",
       "                var nbb_cell_id = 29;\n",
       "                var nbb_unformatted_code = \"# Join predictions with test new\\npred_test_kgb = pd.DataFrame(\\n    data=test_pred, columns=[\\\"prediction_beforeRI\\\"], index=y_test.index.copy()\\n)\\npred_test1 = pd.merge(\\n    test_labels,\\n    pred_test_kgb[[\\\"prediction_beforeRI\\\"]],\\n    how=\\\"inner\\\",\\n    left_index=True,\\n    right_index=True,\\n)\\n\\n# pred_test1.dropna(subset=[\\\"prediction_beforeRI\\\"], inplace=True)\\npred_test1\";\n",
       "                var nbb_formatted_code = \"# Join predictions with test new\\npred_test_kgb = pd.DataFrame(\\n    data=test_pred, columns=[\\\"prediction_beforeRI\\\"], index=y_test.index.copy()\\n)\\npred_test1 = pd.merge(\\n    test_labels,\\n    pred_test_kgb[[\\\"prediction_beforeRI\\\"]],\\n    how=\\\"inner\\\",\\n    left_index=True,\\n    right_index=True,\\n)\\n\\n# pred_test1.dropna(subset=[\\\"prediction_beforeRI\\\"], inplace=True)\\npred_test1\";\n",
       "                var nbb_cells = Jupyter.notebook.get_cells();\n",
       "                for (var i = 0; i < nbb_cells.length; ++i) {\n",
       "                    if (nbb_cells[i].input_prompt_number == nbb_cell_id) {\n",
       "                        if (nbb_cells[i].get_text() == nbb_unformatted_code) {\n",
       "                             nbb_cells[i].set_text(nbb_formatted_code);\n",
       "                        }\n",
       "                        break;\n",
       "                    }\n",
       "                }\n",
       "            }, 500);\n",
       "            "
      ],
      "text/plain": [
       "<IPython.core.display.Javascript object>"
      ]
     },
     "metadata": {},
     "output_type": "display_data"
    }
   ],
   "source": [
    "# Join predictions with test new\n",
    "pred_test_kgb = pd.DataFrame(\n",
    "    data=test_pred, columns=[\"prediction_beforeRI\"], index=y_test.index.copy()\n",
    ")\n",
    "pred_test1 = pd.merge(\n",
    "    test_labels,\n",
    "    pred_test_kgb[[\"prediction_beforeRI\"]],\n",
    "    how=\"inner\",\n",
    "    left_index=True,\n",
    "    right_index=True,\n",
    ")\n",
    "\n",
    "# pred_test1.dropna(subset=[\"prediction_beforeRI\"], inplace=True)\n",
    "pred_test1"
   ]
  },
  {
   "cell_type": "code",
   "execution_count": 30,
   "metadata": {},
   "outputs": [
    {
     "data": {
      "text/plain": [
       "(4452, 7)"
      ]
     },
     "execution_count": 30,
     "metadata": {},
     "output_type": "execute_result"
    },
    {
     "data": {
      "application/javascript": [
       "\n",
       "            setTimeout(function() {\n",
       "                var nbb_cell_id = 30;\n",
       "                var nbb_unformatted_code = \"pred_test1.shape  # Expected nr. of observations\";\n",
       "                var nbb_formatted_code = \"pred_test1.shape  # Expected nr. of observations\";\n",
       "                var nbb_cells = Jupyter.notebook.get_cells();\n",
       "                for (var i = 0; i < nbb_cells.length; ++i) {\n",
       "                    if (nbb_cells[i].input_prompt_number == nbb_cell_id) {\n",
       "                        if (nbb_cells[i].get_text() == nbb_unformatted_code) {\n",
       "                             nbb_cells[i].set_text(nbb_formatted_code);\n",
       "                        }\n",
       "                        break;\n",
       "                    }\n",
       "                }\n",
       "            }, 500);\n",
       "            "
      ],
      "text/plain": [
       "<IPython.core.display.Javascript object>"
      ]
     },
     "metadata": {},
     "output_type": "display_data"
    }
   ],
   "source": [
    "pred_test1.shape  # Expected nr. of observations"
   ]
  },
  {
   "cell_type": "markdown",
   "metadata": {},
   "source": [
    "## Apply the KGB Model (Logistic Regression) to the Rejects"
   ]
  },
  {
   "cell_type": "code",
   "execution_count": 31,
   "metadata": {},
   "outputs": [
    {
     "data": {
      "application/javascript": [
       "\n",
       "            setTimeout(function() {\n",
       "                var nbb_cell_id = 31;\n",
       "                var nbb_unformatted_code = \"# Sampling\\nrejected_small = rejected.sample(n=25000, random_state=7)\\nrejected_small.reset_index(drop=True, inplace=True)\\nrejected_small.rename(columns={\\\"Amount Requested\\\": \\\"loan_amnt\\\"}, inplace=True)\\nrejected_small.rename(columns={\\\"State\\\": \\\"addr_state\\\"}, inplace=True)\\ndfr = rejected_small[[\\\"loan_amnt\\\", \\\"addr_state\\\"]]\";\n",
       "                var nbb_formatted_code = \"# Sampling\\nrejected_small = rejected.sample(n=25000, random_state=7)\\nrejected_small.reset_index(drop=True, inplace=True)\\nrejected_small.rename(columns={\\\"Amount Requested\\\": \\\"loan_amnt\\\"}, inplace=True)\\nrejected_small.rename(columns={\\\"State\\\": \\\"addr_state\\\"}, inplace=True)\\ndfr = rejected_small[[\\\"loan_amnt\\\", \\\"addr_state\\\"]]\";\n",
       "                var nbb_cells = Jupyter.notebook.get_cells();\n",
       "                for (var i = 0; i < nbb_cells.length; ++i) {\n",
       "                    if (nbb_cells[i].input_prompt_number == nbb_cell_id) {\n",
       "                        if (nbb_cells[i].get_text() == nbb_unformatted_code) {\n",
       "                             nbb_cells[i].set_text(nbb_formatted_code);\n",
       "                        }\n",
       "                        break;\n",
       "                    }\n",
       "                }\n",
       "            }, 500);\n",
       "            "
      ],
      "text/plain": [
       "<IPython.core.display.Javascript object>"
      ]
     },
     "metadata": {},
     "output_type": "display_data"
    }
   ],
   "source": [
    "# Sampling\n",
    "rejected_small = rejected.sample(n=25000, random_state=7)\n",
    "rejected_small.reset_index(drop=True, inplace=True)\n",
    "rejected_small.rename(columns={\"Amount Requested\": \"loan_amnt\"}, inplace=True)\n",
    "rejected_small.rename(columns={\"State\": \"addr_state\"}, inplace=True)\n",
    "dfr = rejected_small[[\"loan_amnt\", \"addr_state\"]]"
   ]
  },
  {
   "cell_type": "code",
   "execution_count": 32,
   "metadata": {},
   "outputs": [
    {
     "data": {
      "application/javascript": [
       "\n",
       "            setTimeout(function() {\n",
       "                var nbb_cell_id = 32;\n",
       "                var nbb_unformatted_code = \"# Create unique id for the rejects (to facilitate merge later)\\ndfr[\\\"id\\\"] = dfr.index.to_series().map(lambda x: uuid.uuid4())\";\n",
       "                var nbb_formatted_code = \"# Create unique id for the rejects (to facilitate merge later)\\ndfr[\\\"id\\\"] = dfr.index.to_series().map(lambda x: uuid.uuid4())\";\n",
       "                var nbb_cells = Jupyter.notebook.get_cells();\n",
       "                for (var i = 0; i < nbb_cells.length; ++i) {\n",
       "                    if (nbb_cells[i].input_prompt_number == nbb_cell_id) {\n",
       "                        if (nbb_cells[i].get_text() == nbb_unformatted_code) {\n",
       "                             nbb_cells[i].set_text(nbb_formatted_code);\n",
       "                        }\n",
       "                        break;\n",
       "                    }\n",
       "                }\n",
       "            }, 500);\n",
       "            "
      ],
      "text/plain": [
       "<IPython.core.display.Javascript object>"
      ]
     },
     "metadata": {},
     "output_type": "display_data"
    }
   ],
   "source": [
    "# Create unique id for the rejects (to facilitate merge later)\n",
    "dfr[\"id\"] = dfr.index.to_series().map(lambda x: uuid.uuid4())"
   ]
  },
  {
   "cell_type": "code",
   "execution_count": 33,
   "metadata": {},
   "outputs": [
    {
     "data": {
      "application/javascript": [
       "\n",
       "            setTimeout(function() {\n",
       "                var nbb_cell_id = 33;\n",
       "                var nbb_unformatted_code = \"# Train/Test Split (without labels)\\n\\n# Shuffle the dataset\\nshuffle_df = dfr.sample(frac=1)\\n\\n# Define a size for your train set\\ntrain_size = int(0.7 * len(shuffle_df))\\n\\n# Split your dataset\\ndfr_dev = shuffle_df[:train_size]\\ndfr_test = shuffle_df[train_size:]\";\n",
       "                var nbb_formatted_code = \"# Train/Test Split (without labels)\\n\\n# Shuffle the dataset\\nshuffle_df = dfr.sample(frac=1)\\n\\n# Define a size for your train set\\ntrain_size = int(0.7 * len(shuffle_df))\\n\\n# Split your dataset\\ndfr_dev = shuffle_df[:train_size]\\ndfr_test = shuffle_df[train_size:]\";\n",
       "                var nbb_cells = Jupyter.notebook.get_cells();\n",
       "                for (var i = 0; i < nbb_cells.length; ++i) {\n",
       "                    if (nbb_cells[i].input_prompt_number == nbb_cell_id) {\n",
       "                        if (nbb_cells[i].get_text() == nbb_unformatted_code) {\n",
       "                             nbb_cells[i].set_text(nbb_formatted_code);\n",
       "                        }\n",
       "                        break;\n",
       "                    }\n",
       "                }\n",
       "            }, 500);\n",
       "            "
      ],
      "text/plain": [
       "<IPython.core.display.Javascript object>"
      ]
     },
     "metadata": {},
     "output_type": "display_data"
    }
   ],
   "source": [
    "# Train/Test Split (without labels)\n",
    "\n",
    "# Shuffle the dataset\n",
    "shuffle_df = dfr.sample(frac=1)\n",
    "\n",
    "# Define a size for your train set\n",
    "train_size = int(0.7 * len(shuffle_df))\n",
    "\n",
    "# Split your dataset\n",
    "dfr_dev = shuffle_df[:train_size]\n",
    "dfr_test = shuffle_df[train_size:]"
   ]
  },
  {
   "cell_type": "code",
   "execution_count": 34,
   "metadata": {},
   "outputs": [
    {
     "data": {
      "application/javascript": [
       "\n",
       "            setTimeout(function() {\n",
       "                var nbb_cell_id = 34;\n",
       "                var nbb_unformatted_code = \"# Train Set\\n# Q&D Bucketing\\ndfr_dev[\\\"loan_amnt2\\\"] = dfr_dev[\\\"loan_amnt\\\"].apply(\\n    lambda x: \\\"<=1k\\\"\\n    if (x <= 1000)\\n    else (\\\"1-10k\\\" if (x > 1000 and x <= 10000) else \\\">10k\\\")\\n)\\n\\ndfr_dev[\\\"addr_state2\\\"] = dfr_dev[\\\"addr_state\\\"].apply(\\n    lambda x: \\\"California\\\"\\n    if (x == \\\"CA\\\")\\n    else (\\\"Bad state\\\" if (x in badstates) else \\\"Good state\\\")\\n)\";\n",
       "                var nbb_formatted_code = \"# Train Set\\n# Q&D Bucketing\\ndfr_dev[\\\"loan_amnt2\\\"] = dfr_dev[\\\"loan_amnt\\\"].apply(\\n    lambda x: \\\"<=1k\\\"\\n    if (x <= 1000)\\n    else (\\\"1-10k\\\" if (x > 1000 and x <= 10000) else \\\">10k\\\")\\n)\\n\\ndfr_dev[\\\"addr_state2\\\"] = dfr_dev[\\\"addr_state\\\"].apply(\\n    lambda x: \\\"California\\\"\\n    if (x == \\\"CA\\\")\\n    else (\\\"Bad state\\\" if (x in badstates) else \\\"Good state\\\")\\n)\";\n",
       "                var nbb_cells = Jupyter.notebook.get_cells();\n",
       "                for (var i = 0; i < nbb_cells.length; ++i) {\n",
       "                    if (nbb_cells[i].input_prompt_number == nbb_cell_id) {\n",
       "                        if (nbb_cells[i].get_text() == nbb_unformatted_code) {\n",
       "                             nbb_cells[i].set_text(nbb_formatted_code);\n",
       "                        }\n",
       "                        break;\n",
       "                    }\n",
       "                }\n",
       "            }, 500);\n",
       "            "
      ],
      "text/plain": [
       "<IPython.core.display.Javascript object>"
      ]
     },
     "metadata": {},
     "output_type": "display_data"
    }
   ],
   "source": [
    "# Train Set\n",
    "# Q&D Bucketing\n",
    "dfr_dev[\"loan_amnt2\"] = dfr_dev[\"loan_amnt\"].apply(\n",
    "    lambda x: \"<=1k\"\n",
    "    if (x <= 1000)\n",
    "    else (\"1-10k\" if (x > 1000 and x <= 10000) else \">10k\")\n",
    ")\n",
    "\n",
    "dfr_dev[\"addr_state2\"] = dfr_dev[\"addr_state\"].apply(\n",
    "    lambda x: \"California\"\n",
    "    if (x == \"CA\")\n",
    "    else (\"Bad state\" if (x in badstates) else \"Good state\")\n",
    ")"
   ]
  },
  {
   "cell_type": "code",
   "execution_count": 35,
   "metadata": {},
   "outputs": [
    {
     "data": {
      "application/javascript": [
       "\n",
       "            setTimeout(function() {\n",
       "                var nbb_cell_id = 35;\n",
       "                var nbb_unformatted_code = \"# One hot encoding\\nmodelling_variables = [\\\"target\\\", \\\"loan_amnt2\\\", \\\"addr_state2\\\"]\\n\\nfor i in modelling_variables:\\n    if i != \\\"target\\\":\\n        dfr_dev = dfr_dev.join(pd.get_dummies(dfr_dev[i]))\\n        dfr_dev = dfr_dev.drop([i], axis=1)\";\n",
       "                var nbb_formatted_code = \"# One hot encoding\\nmodelling_variables = [\\\"target\\\", \\\"loan_amnt2\\\", \\\"addr_state2\\\"]\\n\\nfor i in modelling_variables:\\n    if i != \\\"target\\\":\\n        dfr_dev = dfr_dev.join(pd.get_dummies(dfr_dev[i]))\\n        dfr_dev = dfr_dev.drop([i], axis=1)\";\n",
       "                var nbb_cells = Jupyter.notebook.get_cells();\n",
       "                for (var i = 0; i < nbb_cells.length; ++i) {\n",
       "                    if (nbb_cells[i].input_prompt_number == nbb_cell_id) {\n",
       "                        if (nbb_cells[i].get_text() == nbb_unformatted_code) {\n",
       "                             nbb_cells[i].set_text(nbb_formatted_code);\n",
       "                        }\n",
       "                        break;\n",
       "                    }\n",
       "                }\n",
       "            }, 500);\n",
       "            "
      ],
      "text/plain": [
       "<IPython.core.display.Javascript object>"
      ]
     },
     "metadata": {},
     "output_type": "display_data"
    }
   ],
   "source": [
    "# One hot encoding\n",
    "modelling_variables = [\"target\", \"loan_amnt2\", \"addr_state2\"]\n",
    "\n",
    "for i in modelling_variables:\n",
    "    if i != \"target\":\n",
    "        dfr_dev = dfr_dev.join(pd.get_dummies(dfr_dev[i]))\n",
    "        dfr_dev = dfr_dev.drop([i], axis=1)"
   ]
  },
  {
   "cell_type": "code",
   "execution_count": 36,
   "metadata": {},
   "outputs": [
    {
     "data": {
      "application/javascript": [
       "\n",
       "            setTimeout(function() {\n",
       "                var nbb_cell_id = 36;\n",
       "                var nbb_unformatted_code = \"# Drop Null Band\\ndfr_dev2 = dfr_dev.drop(columns=[\\\"loan_amnt\\\", \\\"addr_state\\\", \\\"1-10k\\\", \\\"California\\\"])\";\n",
       "                var nbb_formatted_code = \"# Drop Null Band\\ndfr_dev2 = dfr_dev.drop(columns=[\\\"loan_amnt\\\", \\\"addr_state\\\", \\\"1-10k\\\", \\\"California\\\"])\";\n",
       "                var nbb_cells = Jupyter.notebook.get_cells();\n",
       "                for (var i = 0; i < nbb_cells.length; ++i) {\n",
       "                    if (nbb_cells[i].input_prompt_number == nbb_cell_id) {\n",
       "                        if (nbb_cells[i].get_text() == nbb_unformatted_code) {\n",
       "                             nbb_cells[i].set_text(nbb_formatted_code);\n",
       "                        }\n",
       "                        break;\n",
       "                    }\n",
       "                }\n",
       "            }, 500);\n",
       "            "
      ],
      "text/plain": [
       "<IPython.core.display.Javascript object>"
      ]
     },
     "metadata": {},
     "output_type": "display_data"
    }
   ],
   "source": [
    "# Drop Null Band\n",
    "dfr_dev2 = dfr_dev.drop(columns=[\"loan_amnt\", \"addr_state\", \"1-10k\", \"California\"])"
   ]
  },
  {
   "cell_type": "code",
   "execution_count": 37,
   "metadata": {},
   "outputs": [
    {
     "data": {
      "application/javascript": [
       "\n",
       "            setTimeout(function() {\n",
       "                var nbb_cell_id = 37;\n",
       "                var nbb_unformatted_code = \"# Test Set\\n# Q&D Bucketing\\ndfr_test[\\\"loan_amnt2\\\"] = dfr_test[\\\"loan_amnt\\\"].apply(\\n    lambda x: \\\"<=1k\\\"\\n    if (x <= 1000)\\n    else (\\\"1-10k\\\" if (x > 1000 and x <= 10000) else \\\">10k\\\")\\n)\\n\\ndfr_test[\\\"addr_state2\\\"] = dfr_test[\\\"addr_state\\\"].apply(\\n    lambda x: \\\"California\\\"\\n    if (x == \\\"CA\\\")\\n    else (\\\"Bad state\\\" if (x in badstates) else \\\"Good state\\\")\\n)\";\n",
       "                var nbb_formatted_code = \"# Test Set\\n# Q&D Bucketing\\ndfr_test[\\\"loan_amnt2\\\"] = dfr_test[\\\"loan_amnt\\\"].apply(\\n    lambda x: \\\"<=1k\\\"\\n    if (x <= 1000)\\n    else (\\\"1-10k\\\" if (x > 1000 and x <= 10000) else \\\">10k\\\")\\n)\\n\\ndfr_test[\\\"addr_state2\\\"] = dfr_test[\\\"addr_state\\\"].apply(\\n    lambda x: \\\"California\\\"\\n    if (x == \\\"CA\\\")\\n    else (\\\"Bad state\\\" if (x in badstates) else \\\"Good state\\\")\\n)\";\n",
       "                var nbb_cells = Jupyter.notebook.get_cells();\n",
       "                for (var i = 0; i < nbb_cells.length; ++i) {\n",
       "                    if (nbb_cells[i].input_prompt_number == nbb_cell_id) {\n",
       "                        if (nbb_cells[i].get_text() == nbb_unformatted_code) {\n",
       "                             nbb_cells[i].set_text(nbb_formatted_code);\n",
       "                        }\n",
       "                        break;\n",
       "                    }\n",
       "                }\n",
       "            }, 500);\n",
       "            "
      ],
      "text/plain": [
       "<IPython.core.display.Javascript object>"
      ]
     },
     "metadata": {},
     "output_type": "display_data"
    }
   ],
   "source": [
    "# Test Set\n",
    "# Q&D Bucketing\n",
    "dfr_test[\"loan_amnt2\"] = dfr_test[\"loan_amnt\"].apply(\n",
    "    lambda x: \"<=1k\"\n",
    "    if (x <= 1000)\n",
    "    else (\"1-10k\" if (x > 1000 and x <= 10000) else \">10k\")\n",
    ")\n",
    "\n",
    "dfr_test[\"addr_state2\"] = dfr_test[\"addr_state\"].apply(\n",
    "    lambda x: \"California\"\n",
    "    if (x == \"CA\")\n",
    "    else (\"Bad state\" if (x in badstates) else \"Good state\")\n",
    ")"
   ]
  },
  {
   "cell_type": "code",
   "execution_count": 38,
   "metadata": {},
   "outputs": [
    {
     "data": {
      "application/javascript": [
       "\n",
       "            setTimeout(function() {\n",
       "                var nbb_cell_id = 38;\n",
       "                var nbb_unformatted_code = \"# One hot encoding\\nmodelling_variables = [\\\"target\\\", \\\"loan_amnt2\\\", \\\"addr_state2\\\"]\\n\\nfor i in modelling_variables:\\n    if i != \\\"target\\\":\\n        dfr_test = dfr_test.join(pd.get_dummies(dfr_test[i]))\\n        dfr_test = dfr_test.drop([i], axis=1)\";\n",
       "                var nbb_formatted_code = \"# One hot encoding\\nmodelling_variables = [\\\"target\\\", \\\"loan_amnt2\\\", \\\"addr_state2\\\"]\\n\\nfor i in modelling_variables:\\n    if i != \\\"target\\\":\\n        dfr_test = dfr_test.join(pd.get_dummies(dfr_test[i]))\\n        dfr_test = dfr_test.drop([i], axis=1)\";\n",
       "                var nbb_cells = Jupyter.notebook.get_cells();\n",
       "                for (var i = 0; i < nbb_cells.length; ++i) {\n",
       "                    if (nbb_cells[i].input_prompt_number == nbb_cell_id) {\n",
       "                        if (nbb_cells[i].get_text() == nbb_unformatted_code) {\n",
       "                             nbb_cells[i].set_text(nbb_formatted_code);\n",
       "                        }\n",
       "                        break;\n",
       "                    }\n",
       "                }\n",
       "            }, 500);\n",
       "            "
      ],
      "text/plain": [
       "<IPython.core.display.Javascript object>"
      ]
     },
     "metadata": {},
     "output_type": "display_data"
    }
   ],
   "source": [
    "# One hot encoding\n",
    "modelling_variables = [\"target\", \"loan_amnt2\", \"addr_state2\"]\n",
    "\n",
    "for i in modelling_variables:\n",
    "    if i != \"target\":\n",
    "        dfr_test = dfr_test.join(pd.get_dummies(dfr_test[i]))\n",
    "        dfr_test = dfr_test.drop([i], axis=1)"
   ]
  },
  {
   "cell_type": "code",
   "execution_count": 39,
   "metadata": {},
   "outputs": [
    {
     "data": {
      "application/javascript": [
       "\n",
       "            setTimeout(function() {\n",
       "                var nbb_cell_id = 39;\n",
       "                var nbb_unformatted_code = \"# Drop Null Band\\ndfr_test2 = dfr_test.drop(columns=[\\\"loan_amnt\\\", \\\"addr_state\\\", \\\"1-10k\\\", \\\"California\\\"])\";\n",
       "                var nbb_formatted_code = \"# Drop Null Band\\ndfr_test2 = dfr_test.drop(columns=[\\\"loan_amnt\\\", \\\"addr_state\\\", \\\"1-10k\\\", \\\"California\\\"])\";\n",
       "                var nbb_cells = Jupyter.notebook.get_cells();\n",
       "                for (var i = 0; i < nbb_cells.length; ++i) {\n",
       "                    if (nbb_cells[i].input_prompt_number == nbb_cell_id) {\n",
       "                        if (nbb_cells[i].get_text() == nbb_unformatted_code) {\n",
       "                             nbb_cells[i].set_text(nbb_formatted_code);\n",
       "                        }\n",
       "                        break;\n",
       "                    }\n",
       "                }\n",
       "            }, 500);\n",
       "            "
      ],
      "text/plain": [
       "<IPython.core.display.Javascript object>"
      ]
     },
     "metadata": {},
     "output_type": "display_data"
    }
   ],
   "source": [
    "# Drop Null Band\n",
    "dfr_test2 = dfr_test.drop(columns=[\"loan_amnt\", \"addr_state\", \"1-10k\", \"California\"])"
   ]
  },
  {
   "cell_type": "code",
   "execution_count": 40,
   "metadata": {},
   "outputs": [
    {
     "data": {
      "application/javascript": [
       "\n",
       "            setTimeout(function() {\n",
       "                var nbb_cell_id = 40;\n",
       "                var nbb_unformatted_code = \"dfr_dev3 = dfr_dev2[[\\\"<=1k\\\", \\\">10k\\\", \\\"Bad state\\\", \\\"Good state\\\"]]\\ndfr_test3 = dfr_test2[[\\\"<=1k\\\", \\\">10k\\\", \\\"Bad state\\\", \\\"Good state\\\"]]\";\n",
       "                var nbb_formatted_code = \"dfr_dev3 = dfr_dev2[[\\\"<=1k\\\", \\\">10k\\\", \\\"Bad state\\\", \\\"Good state\\\"]]\\ndfr_test3 = dfr_test2[[\\\"<=1k\\\", \\\">10k\\\", \\\"Bad state\\\", \\\"Good state\\\"]]\";\n",
       "                var nbb_cells = Jupyter.notebook.get_cells();\n",
       "                for (var i = 0; i < nbb_cells.length; ++i) {\n",
       "                    if (nbb_cells[i].input_prompt_number == nbb_cell_id) {\n",
       "                        if (nbb_cells[i].get_text() == nbb_unformatted_code) {\n",
       "                             nbb_cells[i].set_text(nbb_formatted_code);\n",
       "                        }\n",
       "                        break;\n",
       "                    }\n",
       "                }\n",
       "            }, 500);\n",
       "            "
      ],
      "text/plain": [
       "<IPython.core.display.Javascript object>"
      ]
     },
     "metadata": {},
     "output_type": "display_data"
    }
   ],
   "source": [
    "dfr_dev3 = dfr_dev2[[\"<=1k\", \">10k\", \"Bad state\", \"Good state\"]]\n",
    "dfr_test3 = dfr_test2[[\"<=1k\", \">10k\", \"Bad state\", \"Good state\"]]"
   ]
  },
  {
   "cell_type": "code",
   "execution_count": 41,
   "metadata": {},
   "outputs": [
    {
     "data": {
      "text/html": [
       "<div>\n",
       "<style scoped>\n",
       "    .dataframe tbody tr th:only-of-type {\n",
       "        vertical-align: middle;\n",
       "    }\n",
       "\n",
       "    .dataframe tbody tr th {\n",
       "        vertical-align: top;\n",
       "    }\n",
       "\n",
       "    .dataframe thead th {\n",
       "        text-align: right;\n",
       "    }\n",
       "</style>\n",
       "<table border=\"1\" class=\"dataframe\">\n",
       "  <thead>\n",
       "    <tr style=\"text-align: right;\">\n",
       "      <th></th>\n",
       "      <th>Rejects</th>\n",
       "    </tr>\n",
       "    <tr>\n",
       "      <th>prediction</th>\n",
       "      <th></th>\n",
       "    </tr>\n",
       "  </thead>\n",
       "  <tbody>\n",
       "    <tr>\n",
       "      <th>0.121250</th>\n",
       "      <td>679</td>\n",
       "    </tr>\n",
       "    <tr>\n",
       "      <th>0.156644</th>\n",
       "      <td>407</td>\n",
       "    </tr>\n",
       "    <tr>\n",
       "      <th>0.249932</th>\n",
       "      <td>128</td>\n",
       "    </tr>\n",
       "    <tr>\n",
       "      <th>0.292376</th>\n",
       "      <td>4007</td>\n",
       "    </tr>\n",
       "    <tr>\n",
       "      <th>0.292832</th>\n",
       "      <td>5395</td>\n",
       "    </tr>\n",
       "    <tr>\n",
       "      <th>0.357407</th>\n",
       "      <td>2173</td>\n",
       "    </tr>\n",
       "    <tr>\n",
       "      <th>0.357912</th>\n",
       "      <td>2833</td>\n",
       "    </tr>\n",
       "    <tr>\n",
       "      <th>0.499450</th>\n",
       "      <td>827</td>\n",
       "    </tr>\n",
       "    <tr>\n",
       "      <th>0.500000</th>\n",
       "      <td>1051</td>\n",
       "    </tr>\n",
       "  </tbody>\n",
       "</table>\n",
       "</div>"
      ],
      "text/plain": [
       "            Rejects\n",
       "prediction         \n",
       "0.121250        679\n",
       "0.156644        407\n",
       "0.249932        128\n",
       "0.292376       4007\n",
       "0.292832       5395\n",
       "0.357407       2173\n",
       "0.357912       2833\n",
       "0.499450        827\n",
       "0.500000       1051"
      ]
     },
     "execution_count": 41,
     "metadata": {},
     "output_type": "execute_result"
    },
    {
     "data": {
      "application/javascript": [
       "\n",
       "            setTimeout(function() {\n",
       "                var nbb_cell_id = 41;\n",
       "                var nbb_unformatted_code = \"# Predictions\\nrej_test_predictions = logreg.predict_proba(dfr_dev3)[:, 1]\\ndf_pred_rej = pd.DataFrame(data=rej_test_predictions, columns=[\\\"prediction\\\"])\\ndf_pred_rej[\\\"Rejects\\\"] = df_pred_rej.groupby(\\\"prediction\\\")[\\\"prediction\\\"].transform(\\n    \\\"count\\\"\\n)\\ndf_pred_rej.groupby([\\\"prediction\\\"]).count()\";\n",
       "                var nbb_formatted_code = \"# Predictions\\nrej_test_predictions = logreg.predict_proba(dfr_dev3)[:, 1]\\ndf_pred_rej = pd.DataFrame(data=rej_test_predictions, columns=[\\\"prediction\\\"])\\ndf_pred_rej[\\\"Rejects\\\"] = df_pred_rej.groupby(\\\"prediction\\\")[\\\"prediction\\\"].transform(\\n    \\\"count\\\"\\n)\\ndf_pred_rej.groupby([\\\"prediction\\\"]).count()\";\n",
       "                var nbb_cells = Jupyter.notebook.get_cells();\n",
       "                for (var i = 0; i < nbb_cells.length; ++i) {\n",
       "                    if (nbb_cells[i].input_prompt_number == nbb_cell_id) {\n",
       "                        if (nbb_cells[i].get_text() == nbb_unformatted_code) {\n",
       "                             nbb_cells[i].set_text(nbb_formatted_code);\n",
       "                        }\n",
       "                        break;\n",
       "                    }\n",
       "                }\n",
       "            }, 500);\n",
       "            "
      ],
      "text/plain": [
       "<IPython.core.display.Javascript object>"
      ]
     },
     "metadata": {},
     "output_type": "display_data"
    }
   ],
   "source": [
    "# Predictions\n",
    "rej_test_predictions = logreg.predict_proba(dfr_dev3)[:, 1]\n",
    "df_pred_rej = pd.DataFrame(data=rej_test_predictions, columns=[\"prediction\"])\n",
    "df_pred_rej[\"Rejects\"] = df_pred_rej.groupby(\"prediction\")[\"prediction\"].transform(\n",
    "    \"count\"\n",
    ")\n",
    "df_pred_rej.groupby([\"prediction\"]).count()"
   ]
  },
  {
   "cell_type": "code",
   "execution_count": 42,
   "metadata": {},
   "outputs": [
    {
     "data": {
      "text/plain": [
       "array([0.35791247, 0.29237644, 0.35791247, ..., 0.29237644, 0.29237644,\n",
       "       0.29283188])"
      ]
     },
     "execution_count": 42,
     "metadata": {},
     "output_type": "execute_result"
    },
    {
     "data": {
      "application/javascript": [
       "\n",
       "            setTimeout(function() {\n",
       "                var nbb_cell_id = 42;\n",
       "                var nbb_unformatted_code = \"rej_test_predictions\";\n",
       "                var nbb_formatted_code = \"rej_test_predictions\";\n",
       "                var nbb_cells = Jupyter.notebook.get_cells();\n",
       "                for (var i = 0; i < nbb_cells.length; ++i) {\n",
       "                    if (nbb_cells[i].input_prompt_number == nbb_cell_id) {\n",
       "                        if (nbb_cells[i].get_text() == nbb_unformatted_code) {\n",
       "                             nbb_cells[i].set_text(nbb_formatted_code);\n",
       "                        }\n",
       "                        break;\n",
       "                    }\n",
       "                }\n",
       "            }, 500);\n",
       "            "
      ],
      "text/plain": [
       "<IPython.core.display.Javascript object>"
      ]
     },
     "metadata": {},
     "output_type": "display_data"
    }
   ],
   "source": [
    "rej_test_predictions"
   ]
  },
  {
   "cell_type": "markdown",
   "metadata": {},
   "source": [
    "### Reject Inference: Simple Augmentation"
   ]
  },
  {
   "cell_type": "code",
   "execution_count": null,
   "metadata": {},
   "outputs": [],
   "source": [
    "#Reject Inference with cutoff 0.2\n",
    "df_pred_rej[\"prediction2\"] = df_pred_rej[\"prediction\"].apply(\n",
    "    lambda x: 0\n",
    "    if (x < 0.3) else 1)\n",
    "df_pred_rej2 = df_pred_rej[\"prediction2\"]\n",
    "ri1 = pd.DataFrame(data=df_pred_rej2, columns=[\"prediction2\"])\n",
    "ri1.rename(columns={\"prediction2\": \"prediction\"}, inplace=True)"
   ]
  },
  {
   "cell_type": "code",
   "execution_count": null,
   "metadata": {},
   "outputs": [],
   "source": [
    "ri1"
   ]
  },
  {
   "cell_type": "markdown",
   "metadata": {},
   "source": [
    "### K-Means"
   ]
  },
  {
   "cell_type": "markdown",
   "metadata": {},
   "source": [
    "to-do:\n",
    "- grid search/hypterparameter optimization\n",
    "- visualization"
   ]
  },
  {
   "cell_type": "code",
   "execution_count": 46,
   "metadata": {},
   "outputs": [
    {
     "data": {
      "application/javascript": [
       "\n",
       "            setTimeout(function() {\n",
       "                var nbb_cell_id = 46;\n",
       "                var nbb_unformatted_code = \"kmeans = KMeans(init=\\\"random\\\", n_clusters=2, n_init=10, max_iter=300, random_state=7)\";\n",
       "                var nbb_formatted_code = \"kmeans = KMeans(init=\\\"random\\\", n_clusters=2, n_init=10, max_iter=300, random_state=7)\";\n",
       "                var nbb_cells = Jupyter.notebook.get_cells();\n",
       "                for (var i = 0; i < nbb_cells.length; ++i) {\n",
       "                    if (nbb_cells[i].input_prompt_number == nbb_cell_id) {\n",
       "                        if (nbb_cells[i].get_text() == nbb_unformatted_code) {\n",
       "                             nbb_cells[i].set_text(nbb_formatted_code);\n",
       "                        }\n",
       "                        break;\n",
       "                    }\n",
       "                }\n",
       "            }, 500);\n",
       "            "
      ],
      "text/plain": [
       "<IPython.core.display.Javascript object>"
      ]
     },
     "metadata": {},
     "output_type": "display_data"
    }
   ],
   "source": [
    "kmeans = KMeans(init=\"random\", n_clusters=2, n_init=10, max_iter=300, random_state=7)"
   ]
  },
  {
   "cell_type": "code",
   "execution_count": 47,
   "metadata": {},
   "outputs": [
    {
     "data": {
      "application/javascript": [
       "\n",
       "            setTimeout(function() {\n",
       "                var nbb_cell_id = 47;\n",
       "                var nbb_unformatted_code = \"kmodel = kmeans.fit(dfr_dev3)\";\n",
       "                var nbb_formatted_code = \"kmodel = kmeans.fit(dfr_dev3)\";\n",
       "                var nbb_cells = Jupyter.notebook.get_cells();\n",
       "                for (var i = 0; i < nbb_cells.length; ++i) {\n",
       "                    if (nbb_cells[i].input_prompt_number == nbb_cell_id) {\n",
       "                        if (nbb_cells[i].get_text() == nbb_unformatted_code) {\n",
       "                             nbb_cells[i].set_text(nbb_formatted_code);\n",
       "                        }\n",
       "                        break;\n",
       "                    }\n",
       "                }\n",
       "            }, 500);\n",
       "            "
      ],
      "text/plain": [
       "<IPython.core.display.Javascript object>"
      ]
     },
     "metadata": {},
     "output_type": "display_data"
    }
   ],
   "source": [
    "kmodel = kmeans.fit(dfr_dev3)"
   ]
  },
  {
   "cell_type": "code",
   "execution_count": 48,
   "metadata": {},
   "outputs": [
    {
     "data": {
      "text/plain": [
       "6794.4848412984475"
      ]
     },
     "execution_count": 48,
     "metadata": {},
     "output_type": "execute_result"
    },
    {
     "data": {
      "application/javascript": [
       "\n",
       "            setTimeout(function() {\n",
       "                var nbb_cell_id = 48;\n",
       "                var nbb_unformatted_code = \"kmeans.inertia_\";\n",
       "                var nbb_formatted_code = \"kmeans.inertia_\";\n",
       "                var nbb_cells = Jupyter.notebook.get_cells();\n",
       "                for (var i = 0; i < nbb_cells.length; ++i) {\n",
       "                    if (nbb_cells[i].input_prompt_number == nbb_cell_id) {\n",
       "                        if (nbb_cells[i].get_text() == nbb_unformatted_code) {\n",
       "                             nbb_cells[i].set_text(nbb_formatted_code);\n",
       "                        }\n",
       "                        break;\n",
       "                    }\n",
       "                }\n",
       "            }, 500);\n",
       "            "
      ],
      "text/plain": [
       "<IPython.core.display.Javascript object>"
      ]
     },
     "metadata": {},
     "output_type": "display_data"
    }
   ],
   "source": [
    "kmeans.inertia_"
   ]
  },
  {
   "cell_type": "code",
   "execution_count": 49,
   "metadata": {},
   "outputs": [
    {
     "data": {
      "text/plain": [
       "array([[ 7.21121445e-02,  4.04367165e-01, -1.07691633e-14,\n",
       "         7.29613155e-01],\n",
       "       [ 6.73544291e-02,  3.97480409e-01,  1.00000000e+00,\n",
       "         5.27355937e-15]])"
      ]
     },
     "execution_count": 49,
     "metadata": {},
     "output_type": "execute_result"
    },
    {
     "data": {
      "application/javascript": [
       "\n",
       "            setTimeout(function() {\n",
       "                var nbb_cell_id = 49;\n",
       "                var nbb_unformatted_code = \"kmeans.cluster_centers_\";\n",
       "                var nbb_formatted_code = \"kmeans.cluster_centers_\";\n",
       "                var nbb_cells = Jupyter.notebook.get_cells();\n",
       "                for (var i = 0; i < nbb_cells.length; ++i) {\n",
       "                    if (nbb_cells[i].input_prompt_number == nbb_cell_id) {\n",
       "                        if (nbb_cells[i].get_text() == nbb_unformatted_code) {\n",
       "                             nbb_cells[i].set_text(nbb_formatted_code);\n",
       "                        }\n",
       "                        break;\n",
       "                    }\n",
       "                }\n",
       "            }, 500);\n",
       "            "
      ],
      "text/plain": [
       "<IPython.core.display.Javascript object>"
      ]
     },
     "metadata": {},
     "output_type": "display_data"
    }
   ],
   "source": [
    "kmeans.cluster_centers_"
   ]
  },
  {
   "cell_type": "code",
   "execution_count": 50,
   "metadata": {},
   "outputs": [
    {
     "data": {
      "text/plain": [
       "2"
      ]
     },
     "execution_count": 50,
     "metadata": {},
     "output_type": "execute_result"
    },
    {
     "data": {
      "application/javascript": [
       "\n",
       "            setTimeout(function() {\n",
       "                var nbb_cell_id = 50;\n",
       "                var nbb_unformatted_code = \"kmeans.n_iter_\";\n",
       "                var nbb_formatted_code = \"kmeans.n_iter_\";\n",
       "                var nbb_cells = Jupyter.notebook.get_cells();\n",
       "                for (var i = 0; i < nbb_cells.length; ++i) {\n",
       "                    if (nbb_cells[i].input_prompt_number == nbb_cell_id) {\n",
       "                        if (nbb_cells[i].get_text() == nbb_unformatted_code) {\n",
       "                             nbb_cells[i].set_text(nbb_formatted_code);\n",
       "                        }\n",
       "                        break;\n",
       "                    }\n",
       "                }\n",
       "            }, 500);\n",
       "            "
      ],
      "text/plain": [
       "<IPython.core.display.Javascript object>"
      ]
     },
     "metadata": {},
     "output_type": "display_data"
    }
   ],
   "source": [
    "kmeans.n_iter_"
   ]
  },
  {
   "cell_type": "code",
   "execution_count": 51,
   "metadata": {},
   "outputs": [
    {
     "data": {
      "text/plain": [
       "array([0, 1, 0, ..., 1, 1, 1])"
      ]
     },
     "execution_count": 51,
     "metadata": {},
     "output_type": "execute_result"
    },
    {
     "data": {
      "application/javascript": [
       "\n",
       "            setTimeout(function() {\n",
       "                var nbb_cell_id = 51;\n",
       "                var nbb_unformatted_code = \"kmeans.labels_\";\n",
       "                var nbb_formatted_code = \"kmeans.labels_\";\n",
       "                var nbb_cells = Jupyter.notebook.get_cells();\n",
       "                for (var i = 0; i < nbb_cells.length; ++i) {\n",
       "                    if (nbb_cells[i].input_prompt_number == nbb_cell_id) {\n",
       "                        if (nbb_cells[i].get_text() == nbb_unformatted_code) {\n",
       "                             nbb_cells[i].set_text(nbb_formatted_code);\n",
       "                        }\n",
       "                        break;\n",
       "                    }\n",
       "                }\n",
       "            }, 500);\n",
       "            "
      ],
      "text/plain": [
       "<IPython.core.display.Javascript object>"
      ]
     },
     "metadata": {},
     "output_type": "display_data"
    }
   ],
   "source": [
    "kmeans.labels_"
   ]
  },
  {
   "cell_type": "markdown",
   "metadata": {},
   "source": [
    "### Reject Inference K-means"
   ]
  },
  {
   "cell_type": "markdown",
   "metadata": {},
   "source": [
    "### Train set"
   ]
  },
  {
   "cell_type": "code",
   "execution_count": 52,
   "metadata": {},
   "outputs": [
    {
     "data": {
      "text/html": [
       "<div>\n",
       "<style scoped>\n",
       "    .dataframe tbody tr th:only-of-type {\n",
       "        vertical-align: middle;\n",
       "    }\n",
       "\n",
       "    .dataframe tbody tr th {\n",
       "        vertical-align: top;\n",
       "    }\n",
       "\n",
       "    .dataframe thead th {\n",
       "        text-align: right;\n",
       "    }\n",
       "</style>\n",
       "<table border=\"1\" class=\"dataframe\">\n",
       "  <thead>\n",
       "    <tr style=\"text-align: right;\">\n",
       "      <th></th>\n",
       "      <th>Rejects</th>\n",
       "    </tr>\n",
       "    <tr>\n",
       "      <th>prediction</th>\n",
       "      <th></th>\n",
       "    </tr>\n",
       "  </thead>\n",
       "  <tbody>\n",
       "    <tr>\n",
       "      <th>0</th>\n",
       "      <td>7419</td>\n",
       "    </tr>\n",
       "    <tr>\n",
       "      <th>1</th>\n",
       "      <td>10081</td>\n",
       "    </tr>\n",
       "  </tbody>\n",
       "</table>\n",
       "</div>"
      ],
      "text/plain": [
       "            Rejects\n",
       "prediction         \n",
       "0              7419\n",
       "1             10081"
      ]
     },
     "execution_count": 52,
     "metadata": {},
     "output_type": "execute_result"
    },
    {
     "data": {
      "application/javascript": [
       "\n",
       "            setTimeout(function() {\n",
       "                var nbb_cell_id = 52;\n",
       "                var nbb_unformatted_code = \"# Predictions\\nrej_test_predictions_kmeans = kmeans.labels_\\ndf_pred_rej_kmeans = pd.DataFrame(\\n    data=rej_test_predictions_kmeans, columns=[\\\"prediction\\\"]\\n)\\ndf_pred_rej_kmeans[\\\"Rejects\\\"] = df_pred_rej_kmeans.groupby(\\\"prediction\\\")[\\n    \\\"prediction\\\"\\n].transform(\\\"count\\\")\\ndf_pred_rej_kmeans.groupby([\\\"prediction\\\"]).count()\";\n",
       "                var nbb_formatted_code = \"# Predictions\\nrej_test_predictions_kmeans = kmeans.labels_\\ndf_pred_rej_kmeans = pd.DataFrame(\\n    data=rej_test_predictions_kmeans, columns=[\\\"prediction\\\"]\\n)\\ndf_pred_rej_kmeans[\\\"Rejects\\\"] = df_pred_rej_kmeans.groupby(\\\"prediction\\\")[\\n    \\\"prediction\\\"\\n].transform(\\\"count\\\")\\ndf_pred_rej_kmeans.groupby([\\\"prediction\\\"]).count()\";\n",
       "                var nbb_cells = Jupyter.notebook.get_cells();\n",
       "                for (var i = 0; i < nbb_cells.length; ++i) {\n",
       "                    if (nbb_cells[i].input_prompt_number == nbb_cell_id) {\n",
       "                        if (nbb_cells[i].get_text() == nbb_unformatted_code) {\n",
       "                             nbb_cells[i].set_text(nbb_formatted_code);\n",
       "                        }\n",
       "                        break;\n",
       "                    }\n",
       "                }\n",
       "            }, 500);\n",
       "            "
      ],
      "text/plain": [
       "<IPython.core.display.Javascript object>"
      ]
     },
     "metadata": {},
     "output_type": "display_data"
    }
   ],
   "source": [
    "# Predictions\n",
    "rej_test_predictions_kmeans = kmeans.labels_\n",
    "df_pred_rej_kmeans = pd.DataFrame(\n",
    "    data=rej_test_predictions_kmeans, columns=[\"prediction\"]\n",
    ")\n",
    "df_pred_rej_kmeans[\"Rejects\"] = df_pred_rej_kmeans.groupby(\"prediction\")[\n",
    "    \"prediction\"\n",
    "].transform(\"count\")\n",
    "df_pred_rej_kmeans.groupby([\"prediction\"]).count()"
   ]
  },
  {
   "cell_type": "code",
   "execution_count": 53,
   "metadata": {},
   "outputs": [
    {
     "data": {
      "text/html": [
       "<div>\n",
       "<style scoped>\n",
       "    .dataframe tbody tr th:only-of-type {\n",
       "        vertical-align: middle;\n",
       "    }\n",
       "\n",
       "    .dataframe tbody tr th {\n",
       "        vertical-align: top;\n",
       "    }\n",
       "\n",
       "    .dataframe thead th {\n",
       "        text-align: right;\n",
       "    }\n",
       "</style>\n",
       "<table border=\"1\" class=\"dataframe\">\n",
       "  <thead>\n",
       "    <tr style=\"text-align: right;\">\n",
       "      <th></th>\n",
       "      <th>id</th>\n",
       "      <th>prediction_beforeRI</th>\n",
       "    </tr>\n",
       "  </thead>\n",
       "  <tbody>\n",
       "    <tr>\n",
       "      <th>17530</th>\n",
       "      <td>20e1fa68-fcfc-47fc-88c9-cb05be2d7b3f</td>\n",
       "      <td>0</td>\n",
       "    </tr>\n",
       "    <tr>\n",
       "      <th>13202</th>\n",
       "      <td>989753cc-cb7d-4e9b-a3e5-3764f42119e5</td>\n",
       "      <td>1</td>\n",
       "    </tr>\n",
       "    <tr>\n",
       "      <th>17046</th>\n",
       "      <td>1f6faa39-3755-4509-b31f-7911cc5149af</td>\n",
       "      <td>0</td>\n",
       "    </tr>\n",
       "    <tr>\n",
       "      <th>8805</th>\n",
       "      <td>7a4bad8c-c322-48ab-886d-63afe7947692</td>\n",
       "      <td>0</td>\n",
       "    </tr>\n",
       "    <tr>\n",
       "      <th>21792</th>\n",
       "      <td>9ca7f74a-ff6b-4ec2-b4d7-a85cd9631ee6</td>\n",
       "      <td>1</td>\n",
       "    </tr>\n",
       "    <tr>\n",
       "      <th>...</th>\n",
       "      <td>...</td>\n",
       "      <td>...</td>\n",
       "    </tr>\n",
       "    <tr>\n",
       "      <th>16405</th>\n",
       "      <td>652f1353-116d-4fa3-a153-f35c8f07d2c9</td>\n",
       "      <td>1</td>\n",
       "    </tr>\n",
       "    <tr>\n",
       "      <th>17868</th>\n",
       "      <td>248c406a-3777-42a2-ad3d-b25b6e7b268a</td>\n",
       "      <td>1</td>\n",
       "    </tr>\n",
       "    <tr>\n",
       "      <th>22971</th>\n",
       "      <td>a7d5fbcb-7e3d-44ea-9687-4d2e5128e08b</td>\n",
       "      <td>1</td>\n",
       "    </tr>\n",
       "    <tr>\n",
       "      <th>17791</th>\n",
       "      <td>df6b1826-6893-4ddd-a75f-4b534181c988</td>\n",
       "      <td>1</td>\n",
       "    </tr>\n",
       "    <tr>\n",
       "      <th>22738</th>\n",
       "      <td>f7aad29e-e8a2-4a68-b60a-8049e722113c</td>\n",
       "      <td>1</td>\n",
       "    </tr>\n",
       "  </tbody>\n",
       "</table>\n",
       "<p>17500 rows × 2 columns</p>\n",
       "</div>"
      ],
      "text/plain": [
       "                                         id  prediction_beforeRI\n",
       "17530  20e1fa68-fcfc-47fc-88c9-cb05be2d7b3f                    0\n",
       "13202  989753cc-cb7d-4e9b-a3e5-3764f42119e5                    1\n",
       "17046  1f6faa39-3755-4509-b31f-7911cc5149af                    0\n",
       "8805   7a4bad8c-c322-48ab-886d-63afe7947692                    0\n",
       "21792  9ca7f74a-ff6b-4ec2-b4d7-a85cd9631ee6                    1\n",
       "...                                     ...                  ...\n",
       "16405  652f1353-116d-4fa3-a153-f35c8f07d2c9                    1\n",
       "17868  248c406a-3777-42a2-ad3d-b25b6e7b268a                    1\n",
       "22971  a7d5fbcb-7e3d-44ea-9687-4d2e5128e08b                    1\n",
       "17791  df6b1826-6893-4ddd-a75f-4b534181c988                    1\n",
       "22738  f7aad29e-e8a2-4a68-b60a-8049e722113c                    1\n",
       "\n",
       "[17500 rows x 2 columns]"
      ]
     },
     "execution_count": 53,
     "metadata": {},
     "output_type": "execute_result"
    },
    {
     "data": {
      "application/javascript": [
       "\n",
       "            setTimeout(function() {\n",
       "                var nbb_cell_id = 53;\n",
       "                var nbb_unformatted_code = \"# Join predictions with train new\\npred_ri = kmeans.labels_\\npred_ri2 = pd.DataFrame(\\n    data=pred_ri, columns=[\\\"prediction_beforeRI\\\"], index=dfr_dev2.index.copy()\\n)\\nri2 = pd.merge(\\n    dfr_dev2,\\n    pred_ri2[[\\\"prediction_beforeRI\\\"]],\\n    how=\\\"inner\\\",\\n    left_index=True,\\n    right_index=True,\\n)\\n# pred_test1.dropna(subset=[\\\"prediction_beforeRI\\\"], inplace=True)\\nri2_train = ri2[[\\\"id\\\", \\\"prediction_beforeRI\\\"]]\\nri2_train\";\n",
       "                var nbb_formatted_code = \"# Join predictions with train new\\npred_ri = kmeans.labels_\\npred_ri2 = pd.DataFrame(\\n    data=pred_ri, columns=[\\\"prediction_beforeRI\\\"], index=dfr_dev2.index.copy()\\n)\\nri2 = pd.merge(\\n    dfr_dev2,\\n    pred_ri2[[\\\"prediction_beforeRI\\\"]],\\n    how=\\\"inner\\\",\\n    left_index=True,\\n    right_index=True,\\n)\\n# pred_test1.dropna(subset=[\\\"prediction_beforeRI\\\"], inplace=True)\\nri2_train = ri2[[\\\"id\\\", \\\"prediction_beforeRI\\\"]]\\nri2_train\";\n",
       "                var nbb_cells = Jupyter.notebook.get_cells();\n",
       "                for (var i = 0; i < nbb_cells.length; ++i) {\n",
       "                    if (nbb_cells[i].input_prompt_number == nbb_cell_id) {\n",
       "                        if (nbb_cells[i].get_text() == nbb_unformatted_code) {\n",
       "                             nbb_cells[i].set_text(nbb_formatted_code);\n",
       "                        }\n",
       "                        break;\n",
       "                    }\n",
       "                }\n",
       "            }, 500);\n",
       "            "
      ],
      "text/plain": [
       "<IPython.core.display.Javascript object>"
      ]
     },
     "metadata": {},
     "output_type": "display_data"
    }
   ],
   "source": [
    "# Join predictions with train new\n",
    "pred_ri = kmeans.labels_\n",
    "pred_ri2 = pd.DataFrame(\n",
    "    data=pred_ri, columns=[\"prediction_beforeRI\"], index=dfr_dev2.index.copy()\n",
    ")\n",
    "ri2 = pd.merge(\n",
    "    dfr_dev2,\n",
    "    pred_ri2[[\"prediction_beforeRI\"]],\n",
    "    how=\"inner\",\n",
    "    left_index=True,\n",
    "    right_index=True,\n",
    ")\n",
    "# pred_test1.dropna(subset=[\"prediction_beforeRI\"], inplace=True)\n",
    "ri2_train = ri2[[\"id\", \"prediction_beforeRI\"]]\n",
    "ri2_train"
   ]
  },
  {
   "cell_type": "markdown",
   "metadata": {},
   "source": [
    "### Test Set"
   ]
  },
  {
   "cell_type": "code",
   "execution_count": 54,
   "metadata": {},
   "outputs": [
    {
     "data": {
      "text/html": [
       "<div>\n",
       "<style scoped>\n",
       "    .dataframe tbody tr th:only-of-type {\n",
       "        vertical-align: middle;\n",
       "    }\n",
       "\n",
       "    .dataframe tbody tr th {\n",
       "        vertical-align: top;\n",
       "    }\n",
       "\n",
       "    .dataframe thead th {\n",
       "        text-align: right;\n",
       "    }\n",
       "</style>\n",
       "<table border=\"1\" class=\"dataframe\">\n",
       "  <thead>\n",
       "    <tr style=\"text-align: right;\">\n",
       "      <th></th>\n",
       "      <th>Rejects</th>\n",
       "    </tr>\n",
       "    <tr>\n",
       "      <th>prediction</th>\n",
       "      <th></th>\n",
       "    </tr>\n",
       "  </thead>\n",
       "  <tbody>\n",
       "    <tr>\n",
       "      <th>0</th>\n",
       "      <td>3180</td>\n",
       "    </tr>\n",
       "    <tr>\n",
       "      <th>1</th>\n",
       "      <td>4320</td>\n",
       "    </tr>\n",
       "  </tbody>\n",
       "</table>\n",
       "</div>"
      ],
      "text/plain": [
       "            Rejects\n",
       "prediction         \n",
       "0              3180\n",
       "1              4320"
      ]
     },
     "execution_count": 54,
     "metadata": {},
     "output_type": "execute_result"
    },
    {
     "data": {
      "application/javascript": [
       "\n",
       "            setTimeout(function() {\n",
       "                var nbb_cell_id = 54;\n",
       "                var nbb_unformatted_code = \"# Predictions\\nrej_test_predictions_kmeans2 = kmeans.predict(dfr_test3)\\ndf_pred_rej_kmeans2 = pd.DataFrame(\\n    data=rej_test_predictions_kmeans2,\\n    columns=[\\\"prediction\\\"],\\n    index=dfr_test2.index.copy(),\\n)\\ndf_pred_rej_kmeans2[\\\"Rejects\\\"] = df_pred_rej_kmeans2.groupby(\\\"prediction\\\")[\\n    \\\"prediction\\\"\\n].transform(\\\"count\\\")\\ndf_pred_rej_kmeans2.groupby([\\\"prediction\\\"]).count()\";\n",
       "                var nbb_formatted_code = \"# Predictions\\nrej_test_predictions_kmeans2 = kmeans.predict(dfr_test3)\\ndf_pred_rej_kmeans2 = pd.DataFrame(\\n    data=rej_test_predictions_kmeans2,\\n    columns=[\\\"prediction\\\"],\\n    index=dfr_test2.index.copy(),\\n)\\ndf_pred_rej_kmeans2[\\\"Rejects\\\"] = df_pred_rej_kmeans2.groupby(\\\"prediction\\\")[\\n    \\\"prediction\\\"\\n].transform(\\\"count\\\")\\ndf_pred_rej_kmeans2.groupby([\\\"prediction\\\"]).count()\";\n",
       "                var nbb_cells = Jupyter.notebook.get_cells();\n",
       "                for (var i = 0; i < nbb_cells.length; ++i) {\n",
       "                    if (nbb_cells[i].input_prompt_number == nbb_cell_id) {\n",
       "                        if (nbb_cells[i].get_text() == nbb_unformatted_code) {\n",
       "                             nbb_cells[i].set_text(nbb_formatted_code);\n",
       "                        }\n",
       "                        break;\n",
       "                    }\n",
       "                }\n",
       "            }, 500);\n",
       "            "
      ],
      "text/plain": [
       "<IPython.core.display.Javascript object>"
      ]
     },
     "metadata": {},
     "output_type": "display_data"
    }
   ],
   "source": [
    "# Predictions\n",
    "rej_test_predictions_kmeans2 = kmeans.predict(dfr_test3)\n",
    "df_pred_rej_kmeans2 = pd.DataFrame(\n",
    "    data=rej_test_predictions_kmeans2,\n",
    "    columns=[\"prediction\"],\n",
    "    index=dfr_test2.index.copy(),\n",
    ")\n",
    "df_pred_rej_kmeans2[\"Rejects\"] = df_pred_rej_kmeans2.groupby(\"prediction\")[\n",
    "    \"prediction\"\n",
    "].transform(\"count\")\n",
    "df_pred_rej_kmeans2.groupby([\"prediction\"]).count()"
   ]
  },
  {
   "cell_type": "code",
   "execution_count": 55,
   "metadata": {},
   "outputs": [
    {
     "data": {
      "text/html": [
       "<div>\n",
       "<style scoped>\n",
       "    .dataframe tbody tr th:only-of-type {\n",
       "        vertical-align: middle;\n",
       "    }\n",
       "\n",
       "    .dataframe tbody tr th {\n",
       "        vertical-align: top;\n",
       "    }\n",
       "\n",
       "    .dataframe thead th {\n",
       "        text-align: right;\n",
       "    }\n",
       "</style>\n",
       "<table border=\"1\" class=\"dataframe\">\n",
       "  <thead>\n",
       "    <tr style=\"text-align: right;\">\n",
       "      <th></th>\n",
       "      <th>id</th>\n",
       "      <th>prediction_beforeRI</th>\n",
       "    </tr>\n",
       "  </thead>\n",
       "  <tbody>\n",
       "    <tr>\n",
       "      <th>4253</th>\n",
       "      <td>e240d450-c77c-433a-b108-31fdc8efb1a5</td>\n",
       "      <td>1</td>\n",
       "    </tr>\n",
       "    <tr>\n",
       "      <th>912</th>\n",
       "      <td>88efb021-2ea8-4e83-8158-0e4e51e9cc2c</td>\n",
       "      <td>0</td>\n",
       "    </tr>\n",
       "    <tr>\n",
       "      <th>15431</th>\n",
       "      <td>249408d8-1a37-496e-b641-0d61c5087896</td>\n",
       "      <td>0</td>\n",
       "    </tr>\n",
       "    <tr>\n",
       "      <th>4030</th>\n",
       "      <td>7b92dd55-1326-46d0-ad85-dc3d8e59413f</td>\n",
       "      <td>0</td>\n",
       "    </tr>\n",
       "    <tr>\n",
       "      <th>6745</th>\n",
       "      <td>758e66a1-51bb-4eb0-81fd-3b5b322447fc</td>\n",
       "      <td>1</td>\n",
       "    </tr>\n",
       "    <tr>\n",
       "      <th>...</th>\n",
       "      <td>...</td>\n",
       "      <td>...</td>\n",
       "    </tr>\n",
       "    <tr>\n",
       "      <th>10115</th>\n",
       "      <td>3334d4f1-cdd4-4e39-a399-25e7cc4773f2</td>\n",
       "      <td>1</td>\n",
       "    </tr>\n",
       "    <tr>\n",
       "      <th>19753</th>\n",
       "      <td>45ce3907-426d-493e-b6e8-e548626ca611</td>\n",
       "      <td>0</td>\n",
       "    </tr>\n",
       "    <tr>\n",
       "      <th>17477</th>\n",
       "      <td>89e11be9-0f88-4d6b-9f92-231ecc7a5223</td>\n",
       "      <td>1</td>\n",
       "    </tr>\n",
       "    <tr>\n",
       "      <th>10154</th>\n",
       "      <td>31b03253-255e-46d4-94a4-082980c4f04d</td>\n",
       "      <td>0</td>\n",
       "    </tr>\n",
       "    <tr>\n",
       "      <th>20459</th>\n",
       "      <td>f6af43d4-b6c2-4b3c-9cc2-83c3b6440972</td>\n",
       "      <td>0</td>\n",
       "    </tr>\n",
       "  </tbody>\n",
       "</table>\n",
       "<p>7500 rows × 2 columns</p>\n",
       "</div>"
      ],
      "text/plain": [
       "                                         id  prediction_beforeRI\n",
       "4253   e240d450-c77c-433a-b108-31fdc8efb1a5                    1\n",
       "912    88efb021-2ea8-4e83-8158-0e4e51e9cc2c                    0\n",
       "15431  249408d8-1a37-496e-b641-0d61c5087896                    0\n",
       "4030   7b92dd55-1326-46d0-ad85-dc3d8e59413f                    0\n",
       "6745   758e66a1-51bb-4eb0-81fd-3b5b322447fc                    1\n",
       "...                                     ...                  ...\n",
       "10115  3334d4f1-cdd4-4e39-a399-25e7cc4773f2                    1\n",
       "19753  45ce3907-426d-493e-b6e8-e548626ca611                    0\n",
       "17477  89e11be9-0f88-4d6b-9f92-231ecc7a5223                    1\n",
       "10154  31b03253-255e-46d4-94a4-082980c4f04d                    0\n",
       "20459  f6af43d4-b6c2-4b3c-9cc2-83c3b6440972                    0\n",
       "\n",
       "[7500 rows x 2 columns]"
      ]
     },
     "execution_count": 55,
     "metadata": {},
     "output_type": "execute_result"
    },
    {
     "data": {
      "application/javascript": [
       "\n",
       "            setTimeout(function() {\n",
       "                var nbb_cell_id = 55;\n",
       "                var nbb_unformatted_code = \"# Join predictions with test new\\npred_test_ri = kmeans.predict(dfr_test3)\\npred_test_ri2 = pd.DataFrame(\\n    data=pred_test_ri, columns=[\\\"prediction_beforeRI\\\"], index=dfr_test2.index.copy()\\n)\\nri2_testing = pd.merge(\\n    dfr_test2,\\n    pred_test_ri2[[\\\"prediction_beforeRI\\\"]],\\n    how=\\\"inner\\\",\\n    left_index=True,\\n    right_index=True,\\n)\\n# pred_test1.dropna(subset=[\\\"prediction_beforeRI\\\"], inplace=True)\\nri2_test = ri2_testing[[\\\"id\\\", \\\"prediction_beforeRI\\\"]]\\nri2_test\";\n",
       "                var nbb_formatted_code = \"# Join predictions with test new\\npred_test_ri = kmeans.predict(dfr_test3)\\npred_test_ri2 = pd.DataFrame(\\n    data=pred_test_ri, columns=[\\\"prediction_beforeRI\\\"], index=dfr_test2.index.copy()\\n)\\nri2_testing = pd.merge(\\n    dfr_test2,\\n    pred_test_ri2[[\\\"prediction_beforeRI\\\"]],\\n    how=\\\"inner\\\",\\n    left_index=True,\\n    right_index=True,\\n)\\n# pred_test1.dropna(subset=[\\\"prediction_beforeRI\\\"], inplace=True)\\nri2_test = ri2_testing[[\\\"id\\\", \\\"prediction_beforeRI\\\"]]\\nri2_test\";\n",
       "                var nbb_cells = Jupyter.notebook.get_cells();\n",
       "                for (var i = 0; i < nbb_cells.length; ++i) {\n",
       "                    if (nbb_cells[i].input_prompt_number == nbb_cell_id) {\n",
       "                        if (nbb_cells[i].get_text() == nbb_unformatted_code) {\n",
       "                             nbb_cells[i].set_text(nbb_formatted_code);\n",
       "                        }\n",
       "                        break;\n",
       "                    }\n",
       "                }\n",
       "            }, 500);\n",
       "            "
      ],
      "text/plain": [
       "<IPython.core.display.Javascript object>"
      ]
     },
     "metadata": {},
     "output_type": "display_data"
    }
   ],
   "source": [
    "# Join predictions with test new\n",
    "pred_test_ri = kmeans.predict(dfr_test3)\n",
    "pred_test_ri2 = pd.DataFrame(\n",
    "    data=pred_test_ri, columns=[\"prediction_beforeRI\"], index=dfr_test2.index.copy()\n",
    ")\n",
    "ri2_testing = pd.merge(\n",
    "    dfr_test2,\n",
    "    pred_test_ri2[[\"prediction_beforeRI\"]],\n",
    "    how=\"inner\",\n",
    "    left_index=True,\n",
    "    right_index=True,\n",
    ")\n",
    "# pred_test1.dropna(subset=[\"prediction_beforeRI\"], inplace=True)\n",
    "ri2_test = ri2_testing[[\"id\", \"prediction_beforeRI\"]]\n",
    "ri2_test"
   ]
  },
  {
   "cell_type": "markdown",
   "metadata": {},
   "source": [
    "### Hierarchical Clustering"
   ]
  },
  {
   "cell_type": "code",
   "execution_count": 56,
   "metadata": {
    "collapsed": true
   },
   "outputs": [
    {
     "ename": "TypeError",
     "evalue": "float() argument must be a string or a number, not 'UUID'",
     "output_type": "error",
     "traceback": [
      "\u001b[1;31m---------------------------------------------------------------------------\u001b[0m",
      "\u001b[1;31mTypeError\u001b[0m                                 Traceback (most recent call last)",
      "\u001b[1;32m<ipython-input-56-3c6855655013>\u001b[0m in \u001b[0;36m<module>\u001b[1;34m\u001b[0m\n\u001b[0;32m      2\u001b[0m \u001b[1;33m\u001b[0m\u001b[0m\n\u001b[0;32m      3\u001b[0m \u001b[0mcluster\u001b[0m \u001b[1;33m=\u001b[0m \u001b[0mAgglomerativeClustering\u001b[0m\u001b[1;33m(\u001b[0m\u001b[0mn_clusters\u001b[0m\u001b[1;33m=\u001b[0m\u001b[1;36m2\u001b[0m\u001b[1;33m,\u001b[0m \u001b[0maffinity\u001b[0m\u001b[1;33m=\u001b[0m\u001b[1;34m\"euclidean\"\u001b[0m\u001b[1;33m,\u001b[0m \u001b[0mlinkage\u001b[0m\u001b[1;33m=\u001b[0m\u001b[1;34m\"ward\"\u001b[0m\u001b[1;33m)\u001b[0m\u001b[1;33m\u001b[0m\u001b[1;33m\u001b[0m\u001b[0m\n\u001b[1;32m----> 4\u001b[1;33m \u001b[0mcluster\u001b[0m\u001b[1;33m.\u001b[0m\u001b[0mfit_predict\u001b[0m\u001b[1;33m(\u001b[0m\u001b[0mdfr_dev2\u001b[0m\u001b[1;33m)\u001b[0m\u001b[1;33m\u001b[0m\u001b[1;33m\u001b[0m\u001b[0m\n\u001b[0m",
      "\u001b[1;32mC:\\ProgramData\\Anaconda3\\lib\\site-packages\\sklearn\\cluster\\_agglomerative.py\u001b[0m in \u001b[0;36mfit_predict\u001b[1;34m(self, X, y)\u001b[0m\n\u001b[0;32m    923\u001b[0m             \u001b[0mCluster\u001b[0m \u001b[0mlabels\u001b[0m\u001b[1;33m.\u001b[0m\u001b[1;33m\u001b[0m\u001b[1;33m\u001b[0m\u001b[0m\n\u001b[0;32m    924\u001b[0m         \"\"\"\n\u001b[1;32m--> 925\u001b[1;33m         \u001b[1;32mreturn\u001b[0m \u001b[0msuper\u001b[0m\u001b[1;33m(\u001b[0m\u001b[1;33m)\u001b[0m\u001b[1;33m.\u001b[0m\u001b[0mfit_predict\u001b[0m\u001b[1;33m(\u001b[0m\u001b[0mX\u001b[0m\u001b[1;33m,\u001b[0m \u001b[0my\u001b[0m\u001b[1;33m)\u001b[0m\u001b[1;33m\u001b[0m\u001b[1;33m\u001b[0m\u001b[0m\n\u001b[0m\u001b[0;32m    926\u001b[0m \u001b[1;33m\u001b[0m\u001b[0m\n\u001b[0;32m    927\u001b[0m \u001b[1;33m\u001b[0m\u001b[0m\n",
      "\u001b[1;32mC:\\ProgramData\\Anaconda3\\lib\\site-packages\\sklearn\\base.py\u001b[0m in \u001b[0;36mfit_predict\u001b[1;34m(self, X, y)\u001b[0m\n\u001b[0;32m    579\u001b[0m         \u001b[1;31m# non-optimized default implementation; override when a better\u001b[0m\u001b[1;33m\u001b[0m\u001b[1;33m\u001b[0m\u001b[1;33m\u001b[0m\u001b[0m\n\u001b[0;32m    580\u001b[0m         \u001b[1;31m# method is possible for a given clustering algorithm\u001b[0m\u001b[1;33m\u001b[0m\u001b[1;33m\u001b[0m\u001b[1;33m\u001b[0m\u001b[0m\n\u001b[1;32m--> 581\u001b[1;33m         \u001b[0mself\u001b[0m\u001b[1;33m.\u001b[0m\u001b[0mfit\u001b[0m\u001b[1;33m(\u001b[0m\u001b[0mX\u001b[0m\u001b[1;33m)\u001b[0m\u001b[1;33m\u001b[0m\u001b[1;33m\u001b[0m\u001b[0m\n\u001b[0m\u001b[0;32m    582\u001b[0m         \u001b[1;32mreturn\u001b[0m \u001b[0mself\u001b[0m\u001b[1;33m.\u001b[0m\u001b[0mlabels_\u001b[0m\u001b[1;33m\u001b[0m\u001b[1;33m\u001b[0m\u001b[0m\n\u001b[0;32m    583\u001b[0m \u001b[1;33m\u001b[0m\u001b[0m\n",
      "\u001b[1;32mC:\\ProgramData\\Anaconda3\\lib\\site-packages\\sklearn\\cluster\\_agglomerative.py\u001b[0m in \u001b[0;36mfit\u001b[1;34m(self, X, y)\u001b[0m\n\u001b[0;32m    817\u001b[0m         \u001b[0mself\u001b[0m\u001b[1;33m\u001b[0m\u001b[1;33m\u001b[0m\u001b[0m\n\u001b[0;32m    818\u001b[0m         \"\"\"\n\u001b[1;32m--> 819\u001b[1;33m         \u001b[0mX\u001b[0m \u001b[1;33m=\u001b[0m \u001b[0mself\u001b[0m\u001b[1;33m.\u001b[0m\u001b[0m_validate_data\u001b[0m\u001b[1;33m(\u001b[0m\u001b[0mX\u001b[0m\u001b[1;33m,\u001b[0m \u001b[0mensure_min_samples\u001b[0m\u001b[1;33m=\u001b[0m\u001b[1;36m2\u001b[0m\u001b[1;33m,\u001b[0m \u001b[0mestimator\u001b[0m\u001b[1;33m=\u001b[0m\u001b[0mself\u001b[0m\u001b[1;33m)\u001b[0m\u001b[1;33m\u001b[0m\u001b[1;33m\u001b[0m\u001b[0m\n\u001b[0m\u001b[0;32m    820\u001b[0m         \u001b[0mmemory\u001b[0m \u001b[1;33m=\u001b[0m \u001b[0mcheck_memory\u001b[0m\u001b[1;33m(\u001b[0m\u001b[0mself\u001b[0m\u001b[1;33m.\u001b[0m\u001b[0mmemory\u001b[0m\u001b[1;33m)\u001b[0m\u001b[1;33m\u001b[0m\u001b[1;33m\u001b[0m\u001b[0m\n\u001b[0;32m    821\u001b[0m \u001b[1;33m\u001b[0m\u001b[0m\n",
      "\u001b[1;32mC:\\ProgramData\\Anaconda3\\lib\\site-packages\\sklearn\\base.py\u001b[0m in \u001b[0;36m_validate_data\u001b[1;34m(self, X, y, reset, validate_separately, **check_params)\u001b[0m\n\u001b[0;32m    418\u001b[0m                     \u001b[1;34mf\"requires y to be passed, but the target y is None.\"\u001b[0m\u001b[1;33m\u001b[0m\u001b[1;33m\u001b[0m\u001b[0m\n\u001b[0;32m    419\u001b[0m                 )\n\u001b[1;32m--> 420\u001b[1;33m             \u001b[0mX\u001b[0m \u001b[1;33m=\u001b[0m \u001b[0mcheck_array\u001b[0m\u001b[1;33m(\u001b[0m\u001b[0mX\u001b[0m\u001b[1;33m,\u001b[0m \u001b[1;33m**\u001b[0m\u001b[0mcheck_params\u001b[0m\u001b[1;33m)\u001b[0m\u001b[1;33m\u001b[0m\u001b[1;33m\u001b[0m\u001b[0m\n\u001b[0m\u001b[0;32m    421\u001b[0m             \u001b[0mout\u001b[0m \u001b[1;33m=\u001b[0m \u001b[0mX\u001b[0m\u001b[1;33m\u001b[0m\u001b[1;33m\u001b[0m\u001b[0m\n\u001b[0;32m    422\u001b[0m         \u001b[1;32melse\u001b[0m\u001b[1;33m:\u001b[0m\u001b[1;33m\u001b[0m\u001b[1;33m\u001b[0m\u001b[0m\n",
      "\u001b[1;32mC:\\ProgramData\\Anaconda3\\lib\\site-packages\\sklearn\\utils\\validation.py\u001b[0m in \u001b[0;36minner_f\u001b[1;34m(*args, **kwargs)\u001b[0m\n\u001b[0;32m     71\u001b[0m                           FutureWarning)\n\u001b[0;32m     72\u001b[0m         \u001b[0mkwargs\u001b[0m\u001b[1;33m.\u001b[0m\u001b[0mupdate\u001b[0m\u001b[1;33m(\u001b[0m\u001b[1;33m{\u001b[0m\u001b[0mk\u001b[0m\u001b[1;33m:\u001b[0m \u001b[0marg\u001b[0m \u001b[1;32mfor\u001b[0m \u001b[0mk\u001b[0m\u001b[1;33m,\u001b[0m \u001b[0marg\u001b[0m \u001b[1;32min\u001b[0m \u001b[0mzip\u001b[0m\u001b[1;33m(\u001b[0m\u001b[0msig\u001b[0m\u001b[1;33m.\u001b[0m\u001b[0mparameters\u001b[0m\u001b[1;33m,\u001b[0m \u001b[0margs\u001b[0m\u001b[1;33m)\u001b[0m\u001b[1;33m}\u001b[0m\u001b[1;33m)\u001b[0m\u001b[1;33m\u001b[0m\u001b[1;33m\u001b[0m\u001b[0m\n\u001b[1;32m---> 73\u001b[1;33m         \u001b[1;32mreturn\u001b[0m \u001b[0mf\u001b[0m\u001b[1;33m(\u001b[0m\u001b[1;33m**\u001b[0m\u001b[0mkwargs\u001b[0m\u001b[1;33m)\u001b[0m\u001b[1;33m\u001b[0m\u001b[1;33m\u001b[0m\u001b[0m\n\u001b[0m\u001b[0;32m     74\u001b[0m     \u001b[1;32mreturn\u001b[0m \u001b[0minner_f\u001b[0m\u001b[1;33m\u001b[0m\u001b[1;33m\u001b[0m\u001b[0m\n\u001b[0;32m     75\u001b[0m \u001b[1;33m\u001b[0m\u001b[0m\n",
      "\u001b[1;32mC:\\ProgramData\\Anaconda3\\lib\\site-packages\\sklearn\\utils\\validation.py\u001b[0m in \u001b[0;36mcheck_array\u001b[1;34m(array, accept_sparse, accept_large_sparse, dtype, order, copy, force_all_finite, ensure_2d, allow_nd, ensure_min_samples, ensure_min_features, estimator)\u001b[0m\n\u001b[0;32m    597\u001b[0m                     \u001b[0marray\u001b[0m \u001b[1;33m=\u001b[0m \u001b[0marray\u001b[0m\u001b[1;33m.\u001b[0m\u001b[0mastype\u001b[0m\u001b[1;33m(\u001b[0m\u001b[0mdtype\u001b[0m\u001b[1;33m,\u001b[0m \u001b[0mcasting\u001b[0m\u001b[1;33m=\u001b[0m\u001b[1;34m\"unsafe\"\u001b[0m\u001b[1;33m,\u001b[0m \u001b[0mcopy\u001b[0m\u001b[1;33m=\u001b[0m\u001b[1;32mFalse\u001b[0m\u001b[1;33m)\u001b[0m\u001b[1;33m\u001b[0m\u001b[1;33m\u001b[0m\u001b[0m\n\u001b[0;32m    598\u001b[0m                 \u001b[1;32melse\u001b[0m\u001b[1;33m:\u001b[0m\u001b[1;33m\u001b[0m\u001b[1;33m\u001b[0m\u001b[0m\n\u001b[1;32m--> 599\u001b[1;33m                     \u001b[0marray\u001b[0m \u001b[1;33m=\u001b[0m \u001b[0mnp\u001b[0m\u001b[1;33m.\u001b[0m\u001b[0masarray\u001b[0m\u001b[1;33m(\u001b[0m\u001b[0marray\u001b[0m\u001b[1;33m,\u001b[0m \u001b[0morder\u001b[0m\u001b[1;33m=\u001b[0m\u001b[0morder\u001b[0m\u001b[1;33m,\u001b[0m \u001b[0mdtype\u001b[0m\u001b[1;33m=\u001b[0m\u001b[0mdtype\u001b[0m\u001b[1;33m)\u001b[0m\u001b[1;33m\u001b[0m\u001b[1;33m\u001b[0m\u001b[0m\n\u001b[0m\u001b[0;32m    600\u001b[0m             \u001b[1;32mexcept\u001b[0m \u001b[0mComplexWarning\u001b[0m\u001b[1;33m:\u001b[0m\u001b[1;33m\u001b[0m\u001b[1;33m\u001b[0m\u001b[0m\n\u001b[0;32m    601\u001b[0m                 raise ValueError(\"Complex data not supported\\n\"\n",
      "\u001b[1;32mC:\\ProgramData\\Anaconda3\\lib\\site-packages\\numpy\\core\\_asarray.py\u001b[0m in \u001b[0;36masarray\u001b[1;34m(a, dtype, order)\u001b[0m\n\u001b[0;32m     83\u001b[0m \u001b[1;33m\u001b[0m\u001b[0m\n\u001b[0;32m     84\u001b[0m     \"\"\"\n\u001b[1;32m---> 85\u001b[1;33m     \u001b[1;32mreturn\u001b[0m \u001b[0marray\u001b[0m\u001b[1;33m(\u001b[0m\u001b[0ma\u001b[0m\u001b[1;33m,\u001b[0m \u001b[0mdtype\u001b[0m\u001b[1;33m,\u001b[0m \u001b[0mcopy\u001b[0m\u001b[1;33m=\u001b[0m\u001b[1;32mFalse\u001b[0m\u001b[1;33m,\u001b[0m \u001b[0morder\u001b[0m\u001b[1;33m=\u001b[0m\u001b[0morder\u001b[0m\u001b[1;33m)\u001b[0m\u001b[1;33m\u001b[0m\u001b[1;33m\u001b[0m\u001b[0m\n\u001b[0m\u001b[0;32m     86\u001b[0m \u001b[1;33m\u001b[0m\u001b[0m\n\u001b[0;32m     87\u001b[0m \u001b[1;33m\u001b[0m\u001b[0m\n",
      "\u001b[1;31mTypeError\u001b[0m: float() argument must be a string or a number, not 'UUID'"
     ]
    },
    {
     "data": {
      "application/javascript": [
       "\n",
       "            setTimeout(function() {\n",
       "                var nbb_cell_id = 56;\n",
       "                var nbb_unformatted_code = \"from sklearn.cluster import AgglomerativeClustering\\n\\ncluster = AgglomerativeClustering(n_clusters=2, affinity=\\\"euclidean\\\", linkage=\\\"ward\\\")\\ncluster.fit_predict(dfr_dev2)\";\n",
       "                var nbb_formatted_code = \"from sklearn.cluster import AgglomerativeClustering\\n\\ncluster = AgglomerativeClustering(n_clusters=2, affinity=\\\"euclidean\\\", linkage=\\\"ward\\\")\\ncluster.fit_predict(dfr_dev2)\";\n",
       "                var nbb_cells = Jupyter.notebook.get_cells();\n",
       "                for (var i = 0; i < nbb_cells.length; ++i) {\n",
       "                    if (nbb_cells[i].input_prompt_number == nbb_cell_id) {\n",
       "                        if (nbb_cells[i].get_text() == nbb_unformatted_code) {\n",
       "                             nbb_cells[i].set_text(nbb_formatted_code);\n",
       "                        }\n",
       "                        break;\n",
       "                    }\n",
       "                }\n",
       "            }, 500);\n",
       "            "
      ],
      "text/plain": [
       "<IPython.core.display.Javascript object>"
      ]
     },
     "metadata": {},
     "output_type": "display_data"
    }
   ],
   "source": [
    "from sklearn.cluster import AgglomerativeClustering\n",
    "\n",
    "cluster = AgglomerativeClustering(n_clusters=2, affinity=\"euclidean\", linkage=\"ward\")\n",
    "cluster.fit_predict(dfr_dev2)"
   ]
  },
  {
   "cell_type": "code",
   "execution_count": null,
   "metadata": {},
   "outputs": [],
   "source": [
    "# Predictions\n",
    "rej_test_predictions_aggl = cluster.labels_\n",
    "df_pred_rej_aggl = pd.DataFrame(\n",
    "    data=rej_test_predictions_aggl, columns=[\"prediction\"]\n",
    ")\n",
    "df_pred_rej_kmeans[\"Rejects\"] = df_pred_rej_aggl.groupby(\"prediction\")[\n",
    "    \"prediction\"\n",
    "].transform(\"count\")"
   ]
  },
  {
   "cell_type": "markdown",
   "metadata": {},
   "source": [
    "### Reject Inference Hierarchical Clustering"
   ]
  },
  {
   "cell_type": "code",
   "execution_count": null,
   "metadata": {},
   "outputs": [],
   "source": [
    "ri3 = pd.DataFrame(data=df_pred_rej_kmeans, columns=[\"prediction\"])\n",
    "ri3"
   ]
  },
  {
   "cell_type": "markdown",
   "metadata": {},
   "source": [
    "### Join all RI Predictions together"
   ]
  },
  {
   "cell_type": "code",
   "execution_count": null,
   "metadata": {},
   "outputs": [],
   "source": [
    "merged = ri1.join(ri2, on=None, lsuffix='_RI1_Augmen', rsuffix='_RI2_KMeans',)\n",
    "merged2 = merged.join(ri3, on=None)\n",
    "merged2.rename(columns={\"prediction\": \"prediction_RI3_Agglom\"}, inplace=True)"
   ]
  },
  {
   "cell_type": "markdown",
   "metadata": {},
   "source": [
    "### Evaluation Measures (with R2 for now)"
   ]
  },
  {
   "cell_type": "markdown",
   "metadata": {},
   "source": [
    "#### Prepare Train New"
   ]
  },
  {
   "cell_type": "code",
   "execution_count": 57,
   "metadata": {},
   "outputs": [
    {
     "data": {
      "application/javascript": [
       "\n",
       "            setTimeout(function() {\n",
       "                var nbb_cell_id = 57;\n",
       "                var nbb_unformatted_code = \"# Join labels to train set\\n# Accepts\\ntrain_accepts = pd.merge(\\n    os_data_X, os_data_y[[\\\"target\\\"]], how=\\\"left\\\", left_index=True, right_index=True\\n)\\n\\ntrain_accepts[\\\"Flag1\\\"] = \\\"Accept\\\"\\n\\n# Rejects\\ntrain_rejects = pd.merge(\\n    dfr_dev2,\\n    ri2_train[[\\\"prediction_beforeRI\\\"]],\\n    how=\\\"left\\\",\\n    left_index=True,\\n    right_index=True,\\n)\\n\\n# Drop Null values and align naming\\ntrain_accepts.dropna(subset=[\\\"target\\\"], inplace=True)\\ntrain_rejects.rename(columns={\\\"prediction_beforeRI\\\": \\\"target\\\"}, inplace=True)\";\n",
       "                var nbb_formatted_code = \"# Join labels to train set\\n# Accepts\\ntrain_accepts = pd.merge(\\n    os_data_X, os_data_y[[\\\"target\\\"]], how=\\\"left\\\", left_index=True, right_index=True\\n)\\n\\ntrain_accepts[\\\"Flag1\\\"] = \\\"Accept\\\"\\n\\n# Rejects\\ntrain_rejects = pd.merge(\\n    dfr_dev2,\\n    ri2_train[[\\\"prediction_beforeRI\\\"]],\\n    how=\\\"left\\\",\\n    left_index=True,\\n    right_index=True,\\n)\\n\\n# Drop Null values and align naming\\ntrain_accepts.dropna(subset=[\\\"target\\\"], inplace=True)\\ntrain_rejects.rename(columns={\\\"prediction_beforeRI\\\": \\\"target\\\"}, inplace=True)\";\n",
       "                var nbb_cells = Jupyter.notebook.get_cells();\n",
       "                for (var i = 0; i < nbb_cells.length; ++i) {\n",
       "                    if (nbb_cells[i].input_prompt_number == nbb_cell_id) {\n",
       "                        if (nbb_cells[i].get_text() == nbb_unformatted_code) {\n",
       "                             nbb_cells[i].set_text(nbb_formatted_code);\n",
       "                        }\n",
       "                        break;\n",
       "                    }\n",
       "                }\n",
       "            }, 500);\n",
       "            "
      ],
      "text/plain": [
       "<IPython.core.display.Javascript object>"
      ]
     },
     "metadata": {},
     "output_type": "display_data"
    }
   ],
   "source": [
    "# Join labels to train set\n",
    "# Accepts\n",
    "train_accepts = pd.merge(\n",
    "    os_data_X, os_data_y[[\"target\"]], how=\"left\", left_index=True, right_index=True\n",
    ")\n",
    "\n",
    "train_accepts[\"Flag1\"] = \"Accept\"\n",
    "\n",
    "# Rejects\n",
    "train_rejects = pd.merge(\n",
    "    dfr_dev2,\n",
    "    ri2_train[[\"prediction_beforeRI\"]],\n",
    "    how=\"left\",\n",
    "    left_index=True,\n",
    "    right_index=True,\n",
    ")\n",
    "\n",
    "# Drop Null values and align naming\n",
    "train_accepts.dropna(subset=[\"target\"], inplace=True)\n",
    "train_rejects.rename(columns={\"prediction_beforeRI\": \"target\"}, inplace=True)"
   ]
  },
  {
   "cell_type": "code",
   "execution_count": 58,
   "metadata": {},
   "outputs": [
    {
     "data": {
      "application/javascript": [
       "\n",
       "            setTimeout(function() {\n",
       "                var nbb_cell_id = 58;\n",
       "                var nbb_unformatted_code = \"# Concatenate Train Accepts and Train Rejects\\ntrain_new = pd.concat([train_accepts, train_rejects])\";\n",
       "                var nbb_formatted_code = \"# Concatenate Train Accepts and Train Rejects\\ntrain_new = pd.concat([train_accepts, train_rejects])\";\n",
       "                var nbb_cells = Jupyter.notebook.get_cells();\n",
       "                for (var i = 0; i < nbb_cells.length; ++i) {\n",
       "                    if (nbb_cells[i].input_prompt_number == nbb_cell_id) {\n",
       "                        if (nbb_cells[i].get_text() == nbb_unformatted_code) {\n",
       "                             nbb_cells[i].set_text(nbb_formatted_code);\n",
       "                        }\n",
       "                        break;\n",
       "                    }\n",
       "                }\n",
       "            }, 500);\n",
       "            "
      ],
      "text/plain": [
       "<IPython.core.display.Javascript object>"
      ]
     },
     "metadata": {},
     "output_type": "display_data"
    }
   ],
   "source": [
    "# Concatenate Train Accepts and Train Rejects\n",
    "train_new = pd.concat([train_accepts, train_rejects])"
   ]
  },
  {
   "cell_type": "code",
   "execution_count": 59,
   "metadata": {},
   "outputs": [
    {
     "data": {
      "text/plain": [
       "(23857, 7)"
      ]
     },
     "execution_count": 59,
     "metadata": {},
     "output_type": "execute_result"
    },
    {
     "data": {
      "application/javascript": [
       "\n",
       "            setTimeout(function() {\n",
       "                var nbb_cell_id = 59;\n",
       "                var nbb_unformatted_code = \"train_new.shape  # As expected\";\n",
       "                var nbb_formatted_code = \"train_new.shape  # As expected\";\n",
       "                var nbb_cells = Jupyter.notebook.get_cells();\n",
       "                for (var i = 0; i < nbb_cells.length; ++i) {\n",
       "                    if (nbb_cells[i].input_prompt_number == nbb_cell_id) {\n",
       "                        if (nbb_cells[i].get_text() == nbb_unformatted_code) {\n",
       "                             nbb_cells[i].set_text(nbb_formatted_code);\n",
       "                        }\n",
       "                        break;\n",
       "                    }\n",
       "                }\n",
       "            }, 500);\n",
       "            "
      ],
      "text/plain": [
       "<IPython.core.display.Javascript object>"
      ]
     },
     "metadata": {},
     "output_type": "display_data"
    }
   ],
   "source": [
    "train_new.shape  # As expected"
   ]
  },
  {
   "cell_type": "code",
   "execution_count": 60,
   "metadata": {},
   "outputs": [
    {
     "data": {
      "application/javascript": [
       "\n",
       "            setTimeout(function() {\n",
       "                var nbb_cell_id = 60;\n",
       "                var nbb_unformatted_code = \"# Flag\\ntrain_new[\\\"Flag\\\"] = train_new[\\\"Flag1\\\"].apply(\\n    lambda x: \\\"Accept\\\" if x == \\\"Accept\\\" else \\\"Reject\\\"\\n)\\ntrain_new = train_new.drop(columns=[\\\"Flag1\\\"])\";\n",
       "                var nbb_formatted_code = \"# Flag\\ntrain_new[\\\"Flag\\\"] = train_new[\\\"Flag1\\\"].apply(\\n    lambda x: \\\"Accept\\\" if x == \\\"Accept\\\" else \\\"Reject\\\"\\n)\\ntrain_new = train_new.drop(columns=[\\\"Flag1\\\"])\";\n",
       "                var nbb_cells = Jupyter.notebook.get_cells();\n",
       "                for (var i = 0; i < nbb_cells.length; ++i) {\n",
       "                    if (nbb_cells[i].input_prompt_number == nbb_cell_id) {\n",
       "                        if (nbb_cells[i].get_text() == nbb_unformatted_code) {\n",
       "                             nbb_cells[i].set_text(nbb_formatted_code);\n",
       "                        }\n",
       "                        break;\n",
       "                    }\n",
       "                }\n",
       "            }, 500);\n",
       "            "
      ],
      "text/plain": [
       "<IPython.core.display.Javascript object>"
      ]
     },
     "metadata": {},
     "output_type": "display_data"
    }
   ],
   "source": [
    "# Flag\n",
    "train_new[\"Flag\"] = train_new[\"Flag1\"].apply(\n",
    "    lambda x: \"Accept\" if x == \"Accept\" else \"Reject\"\n",
    ")\n",
    "train_new = train_new.drop(columns=[\"Flag1\"])"
   ]
  },
  {
   "cell_type": "code",
   "execution_count": 61,
   "metadata": {},
   "outputs": [
    {
     "data": {
      "text/plain": [
       "LogisticRegression(fit_intercept=False, penalty='none')"
      ]
     },
     "execution_count": 61,
     "metadata": {},
     "output_type": "execute_result"
    },
    {
     "data": {
      "application/javascript": [
       "\n",
       "            setTimeout(function() {\n",
       "                var nbb_cell_id = 61;\n",
       "                var nbb_unformatted_code = \"# Retrain KGB Model\\n\\n# Split\\nX_new = train_new.loc[:, train_new.columns != \\\"target\\\"]\\nX_new = X_new.loc[:, X_new.columns != \\\"Flag\\\"]\\ny_new = train_new.loc[:, train_new.columns == \\\"target\\\"]\\nX_train_new, X_test_new, y_train_new, y_test_new = train_test_split(\\n    X_new, y_new, test_size=0.3, random_state=7\\n)\\n\\n# Keep only columns for modelling\\nos_data_X_2_new = X_train_new[[\\\"<=1k\\\", \\\">10k\\\", \\\"Good state\\\", \\\"Bad state\\\"]]\\nX_test_2_new = X_test_new[[\\\"<=1k\\\", \\\">10k\\\", \\\"Good state\\\", \\\"Bad state\\\"]]\\n\\n# Build Logistic regression\\nlogreg = LogisticRegression(fit_intercept=False, penalty=\\\"none\\\")\\nlogreg.fit(os_data_X_2_new, y_train_new.values.ravel())\";\n",
       "                var nbb_formatted_code = \"# Retrain KGB Model\\n\\n# Split\\nX_new = train_new.loc[:, train_new.columns != \\\"target\\\"]\\nX_new = X_new.loc[:, X_new.columns != \\\"Flag\\\"]\\ny_new = train_new.loc[:, train_new.columns == \\\"target\\\"]\\nX_train_new, X_test_new, y_train_new, y_test_new = train_test_split(\\n    X_new, y_new, test_size=0.3, random_state=7\\n)\\n\\n# Keep only columns for modelling\\nos_data_X_2_new = X_train_new[[\\\"<=1k\\\", \\\">10k\\\", \\\"Good state\\\", \\\"Bad state\\\"]]\\nX_test_2_new = X_test_new[[\\\"<=1k\\\", \\\">10k\\\", \\\"Good state\\\", \\\"Bad state\\\"]]\\n\\n# Build Logistic regression\\nlogreg = LogisticRegression(fit_intercept=False, penalty=\\\"none\\\")\\nlogreg.fit(os_data_X_2_new, y_train_new.values.ravel())\";\n",
       "                var nbb_cells = Jupyter.notebook.get_cells();\n",
       "                for (var i = 0; i < nbb_cells.length; ++i) {\n",
       "                    if (nbb_cells[i].input_prompt_number == nbb_cell_id) {\n",
       "                        if (nbb_cells[i].get_text() == nbb_unformatted_code) {\n",
       "                             nbb_cells[i].set_text(nbb_formatted_code);\n",
       "                        }\n",
       "                        break;\n",
       "                    }\n",
       "                }\n",
       "            }, 500);\n",
       "            "
      ],
      "text/plain": [
       "<IPython.core.display.Javascript object>"
      ]
     },
     "metadata": {},
     "output_type": "display_data"
    }
   ],
   "source": [
    "# Retrain KGB Model\n",
    "\n",
    "# Split\n",
    "X_new = train_new.loc[:, train_new.columns != \"target\"]\n",
    "X_new = X_new.loc[:, X_new.columns != \"Flag\"]\n",
    "y_new = train_new.loc[:, train_new.columns == \"target\"]\n",
    "X_train_new, X_test_new, y_train_new, y_test_new = train_test_split(\n",
    "    X_new, y_new, test_size=0.3, random_state=7\n",
    ")\n",
    "\n",
    "# Keep only columns for modelling\n",
    "os_data_X_2_new = X_train_new[[\"<=1k\", \">10k\", \"Good state\", \"Bad state\"]]\n",
    "X_test_2_new = X_test_new[[\"<=1k\", \">10k\", \"Good state\", \"Bad state\"]]\n",
    "\n",
    "# Build Logistic regression\n",
    "logreg = LogisticRegression(fit_intercept=False, penalty=\"none\")\n",
    "logreg.fit(os_data_X_2_new, y_train_new.values.ravel())"
   ]
  },
  {
   "cell_type": "markdown",
   "metadata": {},
   "source": [
    "#### Prepare Test New"
   ]
  },
  {
   "cell_type": "code",
   "execution_count": 132,
   "metadata": {},
   "outputs": [
    {
     "data": {
      "application/javascript": [
       "\n",
       "            setTimeout(function() {\n",
       "                var nbb_cell_id = 132;\n",
       "                var nbb_unformatted_code = \"# Join labels to test set\\n# Accepts\\ntest_accepts = pd.merge(\\n    X_test, y_test[[\\\"target\\\"]], how=\\\"left\\\", left_index=True, right_index=True\\n)\\n\\ntest_accepts[\\\"Flag1\\\"] = \\\"Accept\\\"\\n\\n# Rejects\\ntest_rejects = pd.merge(\\n    dfr_test2,\\n    ri2_test[[\\\"prediction_beforeRI\\\"]],\\n    how=\\\"left\\\",\\n    left_index=True,\\n    right_index=True,\\n)\\n\\n# Drop Null values and align naming\\ntest_accepts.dropna(subset=[\\\"target\\\"], inplace=True)\\ntest_rejects.rename(columns={\\\"prediction_beforeRI\\\": \\\"target\\\"}, inplace=True)\\ntest_rejects.dropna(subset=[\\\"target\\\"], inplace=True)\";\n",
       "                var nbb_formatted_code = \"# Join labels to test set\\n# Accepts\\ntest_accepts = pd.merge(\\n    X_test, y_test[[\\\"target\\\"]], how=\\\"left\\\", left_index=True, right_index=True\\n)\\n\\ntest_accepts[\\\"Flag1\\\"] = \\\"Accept\\\"\\n\\n# Rejects\\ntest_rejects = pd.merge(\\n    dfr_test2,\\n    ri2_test[[\\\"prediction_beforeRI\\\"]],\\n    how=\\\"left\\\",\\n    left_index=True,\\n    right_index=True,\\n)\\n\\n# Drop Null values and align naming\\ntest_accepts.dropna(subset=[\\\"target\\\"], inplace=True)\\ntest_rejects.rename(columns={\\\"prediction_beforeRI\\\": \\\"target\\\"}, inplace=True)\\ntest_rejects.dropna(subset=[\\\"target\\\"], inplace=True)\";\n",
       "                var nbb_cells = Jupyter.notebook.get_cells();\n",
       "                for (var i = 0; i < nbb_cells.length; ++i) {\n",
       "                    if (nbb_cells[i].input_prompt_number == nbb_cell_id) {\n",
       "                        if (nbb_cells[i].get_text() == nbb_unformatted_code) {\n",
       "                             nbb_cells[i].set_text(nbb_formatted_code);\n",
       "                        }\n",
       "                        break;\n",
       "                    }\n",
       "                }\n",
       "            }, 500);\n",
       "            "
      ],
      "text/plain": [
       "<IPython.core.display.Javascript object>"
      ]
     },
     "metadata": {},
     "output_type": "display_data"
    }
   ],
   "source": [
    "# Join labels to test set\n",
    "# Accepts\n",
    "test_accepts = pd.merge(\n",
    "    X_test, y_test[[\"target\"]], how=\"left\", left_index=True, right_index=True\n",
    ")\n",
    "\n",
    "test_accepts[\"Flag1\"] = \"Accept\"\n",
    "\n",
    "# Rejects\n",
    "test_rejects = pd.merge(\n",
    "    dfr_test2,\n",
    "    ri2_test[[\"prediction_beforeRI\"]],\n",
    "    how=\"left\",\n",
    "    left_index=True,\n",
    "    right_index=True,\n",
    ")\n",
    "\n",
    "# Drop Null values and align naming\n",
    "test_accepts.dropna(subset=[\"target\"], inplace=True)\n",
    "test_rejects.rename(columns={\"prediction_beforeRI\": \"target\"}, inplace=True)\n",
    "test_rejects.dropna(subset=[\"target\"], inplace=True)"
   ]
  },
  {
   "cell_type": "code",
   "execution_count": 133,
   "metadata": {},
   "outputs": [
    {
     "data": {
      "application/javascript": [
       "\n",
       "            setTimeout(function() {\n",
       "                var nbb_cell_id = 133;\n",
       "                var nbb_unformatted_code = \"# Concatenate Train Accepts and Train Rejects\\ntest_new = pd.concat([test_accepts, test_rejects])\";\n",
       "                var nbb_formatted_code = \"# Concatenate Train Accepts and Train Rejects\\ntest_new = pd.concat([test_accepts, test_rejects])\";\n",
       "                var nbb_cells = Jupyter.notebook.get_cells();\n",
       "                for (var i = 0; i < nbb_cells.length; ++i) {\n",
       "                    if (nbb_cells[i].input_prompt_number == nbb_cell_id) {\n",
       "                        if (nbb_cells[i].get_text() == nbb_unformatted_code) {\n",
       "                             nbb_cells[i].set_text(nbb_formatted_code);\n",
       "                        }\n",
       "                        break;\n",
       "                    }\n",
       "                }\n",
       "            }, 500);\n",
       "            "
      ],
      "text/plain": [
       "<IPython.core.display.Javascript object>"
      ]
     },
     "metadata": {},
     "output_type": "display_data"
    }
   ],
   "source": [
    "# Concatenate Train Accepts and Train Rejects\n",
    "test_new = pd.concat([test_accepts, test_rejects])"
   ]
  },
  {
   "cell_type": "code",
   "execution_count": 134,
   "metadata": {},
   "outputs": [
    {
     "data": {
      "application/javascript": [
       "\n",
       "            setTimeout(function() {\n",
       "                var nbb_cell_id = 134;\n",
       "                var nbb_unformatted_code = \"# Flag\\ntest_new[\\\"Flag\\\"] = test_new[\\\"Flag1\\\"].apply(\\n    lambda x: \\\"Accept\\\" if x == \\\"Accept\\\" else \\\"Reject\\\"\\n)\\ntest_new = test_new.drop(columns=[\\\"Flag1\\\"])\";\n",
       "                var nbb_formatted_code = \"# Flag\\ntest_new[\\\"Flag\\\"] = test_new[\\\"Flag1\\\"].apply(\\n    lambda x: \\\"Accept\\\" if x == \\\"Accept\\\" else \\\"Reject\\\"\\n)\\ntest_new = test_new.drop(columns=[\\\"Flag1\\\"])\";\n",
       "                var nbb_cells = Jupyter.notebook.get_cells();\n",
       "                for (var i = 0; i < nbb_cells.length; ++i) {\n",
       "                    if (nbb_cells[i].input_prompt_number == nbb_cell_id) {\n",
       "                        if (nbb_cells[i].get_text() == nbb_unformatted_code) {\n",
       "                             nbb_cells[i].set_text(nbb_formatted_code);\n",
       "                        }\n",
       "                        break;\n",
       "                    }\n",
       "                }\n",
       "            }, 500);\n",
       "            "
      ],
      "text/plain": [
       "<IPython.core.display.Javascript object>"
      ]
     },
     "metadata": {},
     "output_type": "display_data"
    }
   ],
   "source": [
    "# Flag\n",
    "test_new[\"Flag\"] = test_new[\"Flag1\"].apply(\n",
    "    lambda x: \"Accept\" if x == \"Accept\" else \"Reject\"\n",
    ")\n",
    "test_new = test_new.drop(columns=[\"Flag1\"])"
   ]
  },
  {
   "cell_type": "code",
   "execution_count": 135,
   "metadata": {},
   "outputs": [
    {
     "data": {
      "text/plain": [
       "(11952, 7)"
      ]
     },
     "execution_count": 135,
     "metadata": {},
     "output_type": "execute_result"
    },
    {
     "data": {
      "application/javascript": [
       "\n",
       "            setTimeout(function() {\n",
       "                var nbb_cell_id = 135;\n",
       "                var nbb_unformatted_code = \"test_new.shape  # As expected\";\n",
       "                var nbb_formatted_code = \"test_new.shape  # As expected\";\n",
       "                var nbb_cells = Jupyter.notebook.get_cells();\n",
       "                for (var i = 0; i < nbb_cells.length; ++i) {\n",
       "                    if (nbb_cells[i].input_prompt_number == nbb_cell_id) {\n",
       "                        if (nbb_cells[i].get_text() == nbb_unformatted_code) {\n",
       "                             nbb_cells[i].set_text(nbb_formatted_code);\n",
       "                        }\n",
       "                        break;\n",
       "                    }\n",
       "                }\n",
       "            }, 500);\n",
       "            "
      ],
      "text/plain": [
       "<IPython.core.display.Javascript object>"
      ]
     },
     "metadata": {},
     "output_type": "display_data"
    }
   ],
   "source": [
    "test_new.shape  # As expected"
   ]
  },
  {
   "cell_type": "code",
   "execution_count": 138,
   "metadata": {},
   "outputs": [
    {
     "data": {
      "application/javascript": [
       "\n",
       "            setTimeout(function() {\n",
       "                var nbb_cell_id = 138;\n",
       "                var nbb_unformatted_code = \"test_new = test_new.reset_index(drop=True)\";\n",
       "                var nbb_formatted_code = \"test_new = test_new.reset_index(drop=True)\";\n",
       "                var nbb_cells = Jupyter.notebook.get_cells();\n",
       "                for (var i = 0; i < nbb_cells.length; ++i) {\n",
       "                    if (nbb_cells[i].input_prompt_number == nbb_cell_id) {\n",
       "                        if (nbb_cells[i].get_text() == nbb_unformatted_code) {\n",
       "                             nbb_cells[i].set_text(nbb_formatted_code);\n",
       "                        }\n",
       "                        break;\n",
       "                    }\n",
       "                }\n",
       "            }, 500);\n",
       "            "
      ],
      "text/plain": [
       "<IPython.core.display.Javascript object>"
      ]
     },
     "metadata": {},
     "output_type": "display_data"
    }
   ],
   "source": [
    "test_new = test_new.reset_index(drop=True)"
   ]
  },
  {
   "cell_type": "code",
   "execution_count": 139,
   "metadata": {},
   "outputs": [
    {
     "data": {
      "application/javascript": [
       "\n",
       "            setTimeout(function() {\n",
       "                var nbb_cell_id = 139;\n",
       "                var nbb_unformatted_code = \"X_test_new = test_new.loc[:, train_new.columns != \\\"target\\\"]\\nX_test_new2 = X_test_new.loc[:, X_test_new.columns != \\\"Flag\\\"]\\nX_test_new3 = X_test_new2.loc[:, X_test_new2.columns != \\\"id\\\"]\\ny_test_new = test_new.loc[:, train_new.columns == \\\"target\\\"]\";\n",
       "                var nbb_formatted_code = \"X_test_new = test_new.loc[:, train_new.columns != \\\"target\\\"]\\nX_test_new2 = X_test_new.loc[:, X_test_new.columns != \\\"Flag\\\"]\\nX_test_new3 = X_test_new2.loc[:, X_test_new2.columns != \\\"id\\\"]\\ny_test_new = test_new.loc[:, train_new.columns == \\\"target\\\"]\";\n",
       "                var nbb_cells = Jupyter.notebook.get_cells();\n",
       "                for (var i = 0; i < nbb_cells.length; ++i) {\n",
       "                    if (nbb_cells[i].input_prompt_number == nbb_cell_id) {\n",
       "                        if (nbb_cells[i].get_text() == nbb_unformatted_code) {\n",
       "                             nbb_cells[i].set_text(nbb_formatted_code);\n",
       "                        }\n",
       "                        break;\n",
       "                    }\n",
       "                }\n",
       "            }, 500);\n",
       "            "
      ],
      "text/plain": [
       "<IPython.core.display.Javascript object>"
      ]
     },
     "metadata": {},
     "output_type": "display_data"
    }
   ],
   "source": [
    "X_test_new = test_new.loc[:, train_new.columns != \"target\"]\n",
    "X_test_new2 = X_test_new.loc[:, X_test_new.columns != \"Flag\"]\n",
    "X_test_new3 = X_test_new2.loc[:, X_test_new2.columns != \"id\"]\n",
    "y_test_new = test_new.loc[:, train_new.columns == \"target\"]"
   ]
  },
  {
   "cell_type": "markdown",
   "metadata": {},
   "source": [
    "#### Predictions"
   ]
  },
  {
   "cell_type": "code",
   "execution_count": 141,
   "metadata": {},
   "outputs": [
    {
     "data": {
      "text/html": [
       "<div>\n",
       "<style scoped>\n",
       "    .dataframe tbody tr th:only-of-type {\n",
       "        vertical-align: middle;\n",
       "    }\n",
       "\n",
       "    .dataframe tbody tr th {\n",
       "        vertical-align: top;\n",
       "    }\n",
       "\n",
       "    .dataframe thead th {\n",
       "        text-align: right;\n",
       "    }\n",
       "</style>\n",
       "<table border=\"1\" class=\"dataframe\">\n",
       "  <thead>\n",
       "    <tr style=\"text-align: right;\">\n",
       "      <th></th>\n",
       "      <th>id</th>\n",
       "      <th>&lt;=1k</th>\n",
       "      <th>&gt;10k</th>\n",
       "      <th>Bad state</th>\n",
       "      <th>Good state</th>\n",
       "      <th>target</th>\n",
       "      <th>Flag</th>\n",
       "      <th>prediction_afterRI</th>\n",
       "    </tr>\n",
       "  </thead>\n",
       "  <tbody>\n",
       "    <tr>\n",
       "      <th>0</th>\n",
       "      <td>26789777</td>\n",
       "      <td>0</td>\n",
       "      <td>1</td>\n",
       "      <td>0</td>\n",
       "      <td>0</td>\n",
       "      <td>0</td>\n",
       "      <td>Accept</td>\n",
       "      <td>0.328758</td>\n",
       "    </tr>\n",
       "    <tr>\n",
       "      <th>1</th>\n",
       "      <td>17894572</td>\n",
       "      <td>0</td>\n",
       "      <td>1</td>\n",
       "      <td>0</td>\n",
       "      <td>0</td>\n",
       "      <td>1</td>\n",
       "      <td>Accept</td>\n",
       "      <td>0.328758</td>\n",
       "    </tr>\n",
       "    <tr>\n",
       "      <th>2</th>\n",
       "      <td>34773392</td>\n",
       "      <td>0</td>\n",
       "      <td>1</td>\n",
       "      <td>0</td>\n",
       "      <td>0</td>\n",
       "      <td>0</td>\n",
       "      <td>Accept</td>\n",
       "      <td>0.328758</td>\n",
       "    </tr>\n",
       "    <tr>\n",
       "      <th>3</th>\n",
       "      <td>1122926</td>\n",
       "      <td>0</td>\n",
       "      <td>1</td>\n",
       "      <td>0</td>\n",
       "      <td>1</td>\n",
       "      <td>0</td>\n",
       "      <td>Accept</td>\n",
       "      <td>0.784677</td>\n",
       "    </tr>\n",
       "    <tr>\n",
       "      <th>4</th>\n",
       "      <td>46774382</td>\n",
       "      <td>0</td>\n",
       "      <td>1</td>\n",
       "      <td>1</td>\n",
       "      <td>0</td>\n",
       "      <td>0</td>\n",
       "      <td>Accept</td>\n",
       "      <td>0.054403</td>\n",
       "    </tr>\n",
       "    <tr>\n",
       "      <th>...</th>\n",
       "      <td>...</td>\n",
       "      <td>...</td>\n",
       "      <td>...</td>\n",
       "      <td>...</td>\n",
       "      <td>...</td>\n",
       "      <td>...</td>\n",
       "      <td>...</td>\n",
       "      <td>...</td>\n",
       "    </tr>\n",
       "    <tr>\n",
       "      <th>11947</th>\n",
       "      <td>3334d4f1-cdd4-4e39-a399-25e7cc4773f2</td>\n",
       "      <td>0</td>\n",
       "      <td>0</td>\n",
       "      <td>1</td>\n",
       "      <td>0</td>\n",
       "      <td>1</td>\n",
       "      <td>Reject</td>\n",
       "      <td>0.105119</td>\n",
       "    </tr>\n",
       "    <tr>\n",
       "      <th>11948</th>\n",
       "      <td>45ce3907-426d-493e-b6e8-e548626ca611</td>\n",
       "      <td>0</td>\n",
       "      <td>1</td>\n",
       "      <td>0</td>\n",
       "      <td>1</td>\n",
       "      <td>0</td>\n",
       "      <td>Reject</td>\n",
       "      <td>0.784677</td>\n",
       "    </tr>\n",
       "    <tr>\n",
       "      <th>11949</th>\n",
       "      <td>89e11be9-0f88-4d6b-9f92-231ecc7a5223</td>\n",
       "      <td>0</td>\n",
       "      <td>0</td>\n",
       "      <td>1</td>\n",
       "      <td>0</td>\n",
       "      <td>1</td>\n",
       "      <td>Reject</td>\n",
       "      <td>0.105119</td>\n",
       "    </tr>\n",
       "    <tr>\n",
       "      <th>11950</th>\n",
       "      <td>31b03253-255e-46d4-94a4-082980c4f04d</td>\n",
       "      <td>0</td>\n",
       "      <td>0</td>\n",
       "      <td>0</td>\n",
       "      <td>1</td>\n",
       "      <td>0</td>\n",
       "      <td>Reject</td>\n",
       "      <td>0.881523</td>\n",
       "    </tr>\n",
       "    <tr>\n",
       "      <th>11951</th>\n",
       "      <td>f6af43d4-b6c2-4b3c-9cc2-83c3b6440972</td>\n",
       "      <td>0</td>\n",
       "      <td>0</td>\n",
       "      <td>0</td>\n",
       "      <td>1</td>\n",
       "      <td>0</td>\n",
       "      <td>Reject</td>\n",
       "      <td>0.881523</td>\n",
       "    </tr>\n",
       "  </tbody>\n",
       "</table>\n",
       "<p>11952 rows × 8 columns</p>\n",
       "</div>"
      ],
      "text/plain": [
       "                                         id  <=1k  >10k  Bad state  \\\n",
       "0                                  26789777     0     1          0   \n",
       "1                                  17894572     0     1          0   \n",
       "2                                  34773392     0     1          0   \n",
       "3                                   1122926     0     1          0   \n",
       "4                                  46774382     0     1          1   \n",
       "...                                     ...   ...   ...        ...   \n",
       "11947  3334d4f1-cdd4-4e39-a399-25e7cc4773f2     0     0          1   \n",
       "11948  45ce3907-426d-493e-b6e8-e548626ca611     0     1          0   \n",
       "11949  89e11be9-0f88-4d6b-9f92-231ecc7a5223     0     0          1   \n",
       "11950  31b03253-255e-46d4-94a4-082980c4f04d     0     0          0   \n",
       "11951  f6af43d4-b6c2-4b3c-9cc2-83c3b6440972     0     0          0   \n",
       "\n",
       "       Good state  target    Flag  prediction_afterRI  \n",
       "0               0       0  Accept            0.328758  \n",
       "1               0       1  Accept            0.328758  \n",
       "2               0       0  Accept            0.328758  \n",
       "3               1       0  Accept            0.784677  \n",
       "4               0       0  Accept            0.054403  \n",
       "...           ...     ...     ...                 ...  \n",
       "11947           0       1  Reject            0.105119  \n",
       "11948           1       0  Reject            0.784677  \n",
       "11949           0       1  Reject            0.105119  \n",
       "11950           1       0  Reject            0.881523  \n",
       "11951           1       0  Reject            0.881523  \n",
       "\n",
       "[11952 rows x 8 columns]"
      ]
     },
     "execution_count": 141,
     "metadata": {},
     "output_type": "execute_result"
    },
    {
     "data": {
      "application/javascript": [
       "\n",
       "            setTimeout(function() {\n",
       "                var nbb_cell_id = 141;\n",
       "                var nbb_unformatted_code = \"# Join predictions with test new\\ntest_new_pred = logreg.predict_proba(X_test_new3)[:, 1]\\npred_test_df = pd.DataFrame(\\n    data=test_new_pred, columns=[\\\"prediction_afterRI\\\"], index=test_new.index.copy()\\n)\\npred_test = pd.merge(\\n    test_new,\\n    pred_test_df[[\\\"prediction_afterRI\\\"]],\\n    how=\\\"inner\\\",\\n    left_index=True,\\n    right_index=True,\\n)\\n# pred_test1.dropna(subset=[\\\"prediction_beforeRI\\\"], inplace=True)\\npred_test\";\n",
       "                var nbb_formatted_code = \"# Join predictions with test new\\ntest_new_pred = logreg.predict_proba(X_test_new3)[:, 1]\\npred_test_df = pd.DataFrame(\\n    data=test_new_pred, columns=[\\\"prediction_afterRI\\\"], index=test_new.index.copy()\\n)\\npred_test = pd.merge(\\n    test_new,\\n    pred_test_df[[\\\"prediction_afterRI\\\"]],\\n    how=\\\"inner\\\",\\n    left_index=True,\\n    right_index=True,\\n)\\n# pred_test1.dropna(subset=[\\\"prediction_beforeRI\\\"], inplace=True)\\npred_test\";\n",
       "                var nbb_cells = Jupyter.notebook.get_cells();\n",
       "                for (var i = 0; i < nbb_cells.length; ++i) {\n",
       "                    if (nbb_cells[i].input_prompt_number == nbb_cell_id) {\n",
       "                        if (nbb_cells[i].get_text() == nbb_unformatted_code) {\n",
       "                             nbb_cells[i].set_text(nbb_formatted_code);\n",
       "                        }\n",
       "                        break;\n",
       "                    }\n",
       "                }\n",
       "            }, 500);\n",
       "            "
      ],
      "text/plain": [
       "<IPython.core.display.Javascript object>"
      ]
     },
     "metadata": {},
     "output_type": "display_data"
    }
   ],
   "source": [
    "# Join predictions with test new\n",
    "test_new_pred = logreg.predict_proba(X_test_new3)[:, 1]\n",
    "pred_test_df = pd.DataFrame(\n",
    "    data=test_new_pred, columns=[\"prediction_afterRI\"], index=test_new.index.copy()\n",
    ")\n",
    "pred_test = pd.merge(\n",
    "    test_new,\n",
    "    pred_test_df[[\"prediction_afterRI\"]],\n",
    "    how=\"inner\",\n",
    "    left_index=True,\n",
    "    right_index=True,\n",
    ")\n",
    "# pred_test1.dropna(subset=[\"prediction_beforeRI\"], inplace=True)\n",
    "pred_test"
   ]
  },
  {
   "cell_type": "code",
   "execution_count": 142,
   "metadata": {},
   "outputs": [
    {
     "data": {
      "application/javascript": [
       "\n",
       "            setTimeout(function() {\n",
       "                var nbb_cell_id = 142;\n",
       "                var nbb_unformatted_code = \"a1 = pred_test1[[\\\"id\\\", \\\"target\\\", \\\"prediction_beforeRI\\\"]]\\na2 = pred_test[[\\\"id\\\", \\\"Flag\\\", \\\"prediction_afterRI\\\"]]\";\n",
       "                var nbb_formatted_code = \"a1 = pred_test1[[\\\"id\\\", \\\"target\\\", \\\"prediction_beforeRI\\\"]]\\na2 = pred_test[[\\\"id\\\", \\\"Flag\\\", \\\"prediction_afterRI\\\"]]\";\n",
       "                var nbb_cells = Jupyter.notebook.get_cells();\n",
       "                for (var i = 0; i < nbb_cells.length; ++i) {\n",
       "                    if (nbb_cells[i].input_prompt_number == nbb_cell_id) {\n",
       "                        if (nbb_cells[i].get_text() == nbb_unformatted_code) {\n",
       "                             nbb_cells[i].set_text(nbb_formatted_code);\n",
       "                        }\n",
       "                        break;\n",
       "                    }\n",
       "                }\n",
       "            }, 500);\n",
       "            "
      ],
      "text/plain": [
       "<IPython.core.display.Javascript object>"
      ]
     },
     "metadata": {},
     "output_type": "display_data"
    }
   ],
   "source": [
    "a1 = pred_test1[[\"id\", \"target\", \"prediction_beforeRI\"]]\n",
    "a2 = pred_test[[\"id\", \"Flag\", \"prediction_afterRI\"]]"
   ]
  },
  {
   "cell_type": "code",
   "execution_count": 143,
   "metadata": {},
   "outputs": [
    {
     "data": {
      "text/html": [
       "<div>\n",
       "<style scoped>\n",
       "    .dataframe tbody tr th:only-of-type {\n",
       "        vertical-align: middle;\n",
       "    }\n",
       "\n",
       "    .dataframe tbody tr th {\n",
       "        vertical-align: top;\n",
       "    }\n",
       "\n",
       "    .dataframe thead th {\n",
       "        text-align: right;\n",
       "    }\n",
       "</style>\n",
       "<table border=\"1\" class=\"dataframe\">\n",
       "  <thead>\n",
       "    <tr style=\"text-align: right;\">\n",
       "      <th></th>\n",
       "      <th>id</th>\n",
       "      <th>target</th>\n",
       "      <th>prediction_beforeRI</th>\n",
       "      <th>Flag</th>\n",
       "      <th>prediction_afterRI</th>\n",
       "    </tr>\n",
       "  </thead>\n",
       "  <tbody>\n",
       "    <tr>\n",
       "      <th>0</th>\n",
       "      <td>26789777</td>\n",
       "      <td>0</td>\n",
       "      <td>0.499450</td>\n",
       "      <td>Accept</td>\n",
       "      <td>0.328758</td>\n",
       "    </tr>\n",
       "    <tr>\n",
       "      <th>1</th>\n",
       "      <td>17894572</td>\n",
       "      <td>1</td>\n",
       "      <td>0.499450</td>\n",
       "      <td>Accept</td>\n",
       "      <td>0.328758</td>\n",
       "    </tr>\n",
       "    <tr>\n",
       "      <th>2</th>\n",
       "      <td>34773392</td>\n",
       "      <td>0</td>\n",
       "      <td>0.499450</td>\n",
       "      <td>Accept</td>\n",
       "      <td>0.328758</td>\n",
       "    </tr>\n",
       "    <tr>\n",
       "      <th>3</th>\n",
       "      <td>1122926</td>\n",
       "      <td>0</td>\n",
       "      <td>0.292376</td>\n",
       "      <td>Accept</td>\n",
       "      <td>0.784677</td>\n",
       "    </tr>\n",
       "    <tr>\n",
       "      <th>4</th>\n",
       "      <td>46774382</td>\n",
       "      <td>0</td>\n",
       "      <td>0.357407</td>\n",
       "      <td>Accept</td>\n",
       "      <td>0.054403</td>\n",
       "    </tr>\n",
       "    <tr>\n",
       "      <th>...</th>\n",
       "      <td>...</td>\n",
       "      <td>...</td>\n",
       "      <td>...</td>\n",
       "      <td>...</td>\n",
       "      <td>...</td>\n",
       "    </tr>\n",
       "    <tr>\n",
       "      <th>4447</th>\n",
       "      <td>98857570</td>\n",
       "      <td>0</td>\n",
       "      <td>0.292376</td>\n",
       "      <td>Accept</td>\n",
       "      <td>0.784677</td>\n",
       "    </tr>\n",
       "    <tr>\n",
       "      <th>4448</th>\n",
       "      <td>94467429</td>\n",
       "      <td>1</td>\n",
       "      <td>0.357407</td>\n",
       "      <td>Accept</td>\n",
       "      <td>0.054403</td>\n",
       "    </tr>\n",
       "    <tr>\n",
       "      <th>4449</th>\n",
       "      <td>124747082</td>\n",
       "      <td>1</td>\n",
       "      <td>0.357407</td>\n",
       "      <td>Accept</td>\n",
       "      <td>0.054403</td>\n",
       "    </tr>\n",
       "    <tr>\n",
       "      <th>4450</th>\n",
       "      <td>49673413</td>\n",
       "      <td>1</td>\n",
       "      <td>0.357407</td>\n",
       "      <td>Accept</td>\n",
       "      <td>0.054403</td>\n",
       "    </tr>\n",
       "    <tr>\n",
       "      <th>4451</th>\n",
       "      <td>6899910</td>\n",
       "      <td>0</td>\n",
       "      <td>0.292376</td>\n",
       "      <td>Accept</td>\n",
       "      <td>0.784677</td>\n",
       "    </tr>\n",
       "  </tbody>\n",
       "</table>\n",
       "<p>4452 rows × 5 columns</p>\n",
       "</div>"
      ],
      "text/plain": [
       "             id  target  prediction_beforeRI    Flag  prediction_afterRI\n",
       "0      26789777       0             0.499450  Accept            0.328758\n",
       "1      17894572       1             0.499450  Accept            0.328758\n",
       "2      34773392       0             0.499450  Accept            0.328758\n",
       "3       1122926       0             0.292376  Accept            0.784677\n",
       "4      46774382       0             0.357407  Accept            0.054403\n",
       "...         ...     ...                  ...     ...                 ...\n",
       "4447   98857570       0             0.292376  Accept            0.784677\n",
       "4448   94467429       1             0.357407  Accept            0.054403\n",
       "4449  124747082       1             0.357407  Accept            0.054403\n",
       "4450   49673413       1             0.357407  Accept            0.054403\n",
       "4451    6899910       0             0.292376  Accept            0.784677\n",
       "\n",
       "[4452 rows x 5 columns]"
      ]
     },
     "execution_count": 143,
     "metadata": {},
     "output_type": "execute_result"
    },
    {
     "data": {
      "application/javascript": [
       "\n",
       "            setTimeout(function() {\n",
       "                var nbb_cell_id = 143;\n",
       "                var nbb_unformatted_code = \"# Join (outer to get full sample)\\na1_a2_outer = pd.merge(a1, a2, how=\\\"outer\\\", on=\\\"id\\\")\\n# Join (inner to get only accepts and be able to compare)\\na1_a2_inner = pd.merge(a1, a2, how=\\\"inner\\\", on=\\\"id\\\")\\na1_a2_inner\";\n",
       "                var nbb_formatted_code = \"# Join (outer to get full sample)\\na1_a2_outer = pd.merge(a1, a2, how=\\\"outer\\\", on=\\\"id\\\")\\n# Join (inner to get only accepts and be able to compare)\\na1_a2_inner = pd.merge(a1, a2, how=\\\"inner\\\", on=\\\"id\\\")\\na1_a2_inner\";\n",
       "                var nbb_cells = Jupyter.notebook.get_cells();\n",
       "                for (var i = 0; i < nbb_cells.length; ++i) {\n",
       "                    if (nbb_cells[i].input_prompt_number == nbb_cell_id) {\n",
       "                        if (nbb_cells[i].get_text() == nbb_unformatted_code) {\n",
       "                             nbb_cells[i].set_text(nbb_formatted_code);\n",
       "                        }\n",
       "                        break;\n",
       "                    }\n",
       "                }\n",
       "            }, 500);\n",
       "            "
      ],
      "text/plain": [
       "<IPython.core.display.Javascript object>"
      ]
     },
     "metadata": {},
     "output_type": "display_data"
    }
   ],
   "source": [
    "# Join (outer to get full sample)\n",
    "a1_a2_outer = pd.merge(a1, a2, how=\"outer\", on=\"id\")\n",
    "# Join (inner to get only accepts and be able to compare)\n",
    "a1_a2_inner = pd.merge(a1, a2, how=\"inner\", on=\"id\")\n",
    "a1_a2_inner"
   ]
  },
  {
   "cell_type": "code",
   "execution_count": 150,
   "metadata": {},
   "outputs": [
    {
     "data": {
      "application/javascript": [
       "\n",
       "            setTimeout(function() {\n",
       "                var nbb_cell_id = 150;\n",
       "                var nbb_unformatted_code = \"# Make binary predictions based on cutoff 0.3\\na1_a2_inner[\\\"prediction_beforeRI_binary\\\"] = a1_a2_inner[\\\"prediction_beforeRI\\\"].apply(\\n    lambda x: 0 if (x < 0.3) else 1\\n)\\na1_a2_inner[\\\"prediction_afterRI_binary\\\"] = a1_a2_inner[\\\"prediction_afterRI\\\"].apply(\\n    lambda x: 0 if (x < 0.3) else 1\\n)\";\n",
       "                var nbb_formatted_code = \"# Make binary predictions based on cutoff 0.3\\na1_a2_inner[\\\"prediction_beforeRI_binary\\\"] = a1_a2_inner[\\\"prediction_beforeRI\\\"].apply(\\n    lambda x: 0 if (x < 0.3) else 1\\n)\\na1_a2_inner[\\\"prediction_afterRI_binary\\\"] = a1_a2_inner[\\\"prediction_afterRI\\\"].apply(\\n    lambda x: 0 if (x < 0.3) else 1\\n)\";\n",
       "                var nbb_cells = Jupyter.notebook.get_cells();\n",
       "                for (var i = 0; i < nbb_cells.length; ++i) {\n",
       "                    if (nbb_cells[i].input_prompt_number == nbb_cell_id) {\n",
       "                        if (nbb_cells[i].get_text() == nbb_unformatted_code) {\n",
       "                             nbb_cells[i].set_text(nbb_formatted_code);\n",
       "                        }\n",
       "                        break;\n",
       "                    }\n",
       "                }\n",
       "            }, 500);\n",
       "            "
      ],
      "text/plain": [
       "<IPython.core.display.Javascript object>"
      ]
     },
     "metadata": {},
     "output_type": "display_data"
    }
   ],
   "source": [
    "# Make binary predictions based on cutoff 0.3\n",
    "a1_a2_inner[\"prediction_beforeRI_binary\"] = a1_a2_inner[\"prediction_beforeRI\"].apply(\n",
    "    lambda x: 0 if (x < 0.3) else 1\n",
    ")\n",
    "a1_a2_inner[\"prediction_afterRI_binary\"] = a1_a2_inner[\"prediction_afterRI\"].apply(\n",
    "    lambda x: 0 if (x < 0.3) else 1\n",
    ")"
   ]
  },
  {
   "cell_type": "code",
   "execution_count": 151,
   "metadata": {},
   "outputs": [
    {
     "data": {
      "text/html": [
       "<div>\n",
       "<style scoped>\n",
       "    .dataframe tbody tr th:only-of-type {\n",
       "        vertical-align: middle;\n",
       "    }\n",
       "\n",
       "    .dataframe tbody tr th {\n",
       "        vertical-align: top;\n",
       "    }\n",
       "\n",
       "    .dataframe thead th {\n",
       "        text-align: right;\n",
       "    }\n",
       "</style>\n",
       "<table border=\"1\" class=\"dataframe\">\n",
       "  <thead>\n",
       "    <tr style=\"text-align: right;\">\n",
       "      <th></th>\n",
       "      <th>id</th>\n",
       "      <th>target</th>\n",
       "      <th>prediction_beforeRI</th>\n",
       "      <th>Flag</th>\n",
       "      <th>prediction_afterRI</th>\n",
       "      <th>prediction_beforeRI_binary</th>\n",
       "      <th>prediction_afterRI_binary</th>\n",
       "    </tr>\n",
       "  </thead>\n",
       "  <tbody>\n",
       "    <tr>\n",
       "      <th>0</th>\n",
       "      <td>26789777</td>\n",
       "      <td>0</td>\n",
       "      <td>0.499450</td>\n",
       "      <td>Accept</td>\n",
       "      <td>0.328758</td>\n",
       "      <td>1</td>\n",
       "      <td>1</td>\n",
       "    </tr>\n",
       "    <tr>\n",
       "      <th>1</th>\n",
       "      <td>17894572</td>\n",
       "      <td>1</td>\n",
       "      <td>0.499450</td>\n",
       "      <td>Accept</td>\n",
       "      <td>0.328758</td>\n",
       "      <td>1</td>\n",
       "      <td>1</td>\n",
       "    </tr>\n",
       "    <tr>\n",
       "      <th>2</th>\n",
       "      <td>34773392</td>\n",
       "      <td>0</td>\n",
       "      <td>0.499450</td>\n",
       "      <td>Accept</td>\n",
       "      <td>0.328758</td>\n",
       "      <td>1</td>\n",
       "      <td>1</td>\n",
       "    </tr>\n",
       "    <tr>\n",
       "      <th>3</th>\n",
       "      <td>1122926</td>\n",
       "      <td>0</td>\n",
       "      <td>0.292376</td>\n",
       "      <td>Accept</td>\n",
       "      <td>0.784677</td>\n",
       "      <td>0</td>\n",
       "      <td>1</td>\n",
       "    </tr>\n",
       "    <tr>\n",
       "      <th>4</th>\n",
       "      <td>46774382</td>\n",
       "      <td>0</td>\n",
       "      <td>0.357407</td>\n",
       "      <td>Accept</td>\n",
       "      <td>0.054403</td>\n",
       "      <td>1</td>\n",
       "      <td>0</td>\n",
       "    </tr>\n",
       "    <tr>\n",
       "      <th>...</th>\n",
       "      <td>...</td>\n",
       "      <td>...</td>\n",
       "      <td>...</td>\n",
       "      <td>...</td>\n",
       "      <td>...</td>\n",
       "      <td>...</td>\n",
       "      <td>...</td>\n",
       "    </tr>\n",
       "    <tr>\n",
       "      <th>4447</th>\n",
       "      <td>98857570</td>\n",
       "      <td>0</td>\n",
       "      <td>0.292376</td>\n",
       "      <td>Accept</td>\n",
       "      <td>0.784677</td>\n",
       "      <td>0</td>\n",
       "      <td>1</td>\n",
       "    </tr>\n",
       "    <tr>\n",
       "      <th>4448</th>\n",
       "      <td>94467429</td>\n",
       "      <td>1</td>\n",
       "      <td>0.357407</td>\n",
       "      <td>Accept</td>\n",
       "      <td>0.054403</td>\n",
       "      <td>1</td>\n",
       "      <td>0</td>\n",
       "    </tr>\n",
       "    <tr>\n",
       "      <th>4449</th>\n",
       "      <td>124747082</td>\n",
       "      <td>1</td>\n",
       "      <td>0.357407</td>\n",
       "      <td>Accept</td>\n",
       "      <td>0.054403</td>\n",
       "      <td>1</td>\n",
       "      <td>0</td>\n",
       "    </tr>\n",
       "    <tr>\n",
       "      <th>4450</th>\n",
       "      <td>49673413</td>\n",
       "      <td>1</td>\n",
       "      <td>0.357407</td>\n",
       "      <td>Accept</td>\n",
       "      <td>0.054403</td>\n",
       "      <td>1</td>\n",
       "      <td>0</td>\n",
       "    </tr>\n",
       "    <tr>\n",
       "      <th>4451</th>\n",
       "      <td>6899910</td>\n",
       "      <td>0</td>\n",
       "      <td>0.292376</td>\n",
       "      <td>Accept</td>\n",
       "      <td>0.784677</td>\n",
       "      <td>0</td>\n",
       "      <td>1</td>\n",
       "    </tr>\n",
       "  </tbody>\n",
       "</table>\n",
       "<p>4452 rows × 7 columns</p>\n",
       "</div>"
      ],
      "text/plain": [
       "             id  target  prediction_beforeRI    Flag  prediction_afterRI  \\\n",
       "0      26789777       0             0.499450  Accept            0.328758   \n",
       "1      17894572       1             0.499450  Accept            0.328758   \n",
       "2      34773392       0             0.499450  Accept            0.328758   \n",
       "3       1122926       0             0.292376  Accept            0.784677   \n",
       "4      46774382       0             0.357407  Accept            0.054403   \n",
       "...         ...     ...                  ...     ...                 ...   \n",
       "4447   98857570       0             0.292376  Accept            0.784677   \n",
       "4448   94467429       1             0.357407  Accept            0.054403   \n",
       "4449  124747082       1             0.357407  Accept            0.054403   \n",
       "4450   49673413       1             0.357407  Accept            0.054403   \n",
       "4451    6899910       0             0.292376  Accept            0.784677   \n",
       "\n",
       "      prediction_beforeRI_binary  prediction_afterRI_binary  \n",
       "0                              1                          1  \n",
       "1                              1                          1  \n",
       "2                              1                          1  \n",
       "3                              0                          1  \n",
       "4                              1                          0  \n",
       "...                          ...                        ...  \n",
       "4447                           0                          1  \n",
       "4448                           1                          0  \n",
       "4449                           1                          0  \n",
       "4450                           1                          0  \n",
       "4451                           0                          1  \n",
       "\n",
       "[4452 rows x 7 columns]"
      ]
     },
     "execution_count": 151,
     "metadata": {},
     "output_type": "execute_result"
    },
    {
     "data": {
      "application/javascript": [
       "\n",
       "            setTimeout(function() {\n",
       "                var nbb_cell_id = 151;\n",
       "                var nbb_unformatted_code = \"a1_a2_inner\";\n",
       "                var nbb_formatted_code = \"a1_a2_inner\";\n",
       "                var nbb_cells = Jupyter.notebook.get_cells();\n",
       "                for (var i = 0; i < nbb_cells.length; ++i) {\n",
       "                    if (nbb_cells[i].input_prompt_number == nbb_cell_id) {\n",
       "                        if (nbb_cells[i].get_text() == nbb_unformatted_code) {\n",
       "                             nbb_cells[i].set_text(nbb_formatted_code);\n",
       "                        }\n",
       "                        break;\n",
       "                    }\n",
       "                }\n",
       "            }, 500);\n",
       "            "
      ],
      "text/plain": [
       "<IPython.core.display.Javascript object>"
      ]
     },
     "metadata": {},
     "output_type": "display_data"
    }
   ],
   "source": [
    "a1_a2_inner"
   ]
  },
  {
   "cell_type": "markdown",
   "metadata": {},
   "source": [
    "### Counts"
   ]
  },
  {
   "cell_type": "code",
   "execution_count": 173,
   "metadata": {},
   "outputs": [
    {
     "name": "stdout",
     "output_type": "stream",
     "text": [
      "The number of accurately classified cases before RI is:  1849\n",
      "The number of misclassified cases before RI is:  2603\n"
     ]
    },
    {
     "data": {
      "application/javascript": [
       "\n",
       "            setTimeout(function() {\n",
       "                var nbb_cell_id = 173;\n",
       "                var nbb_unformatted_code = \"print(\\n    \\\"The number of accurately classified cases before RI is: \\\",\\n    a1_a2_inner[\\n        (a1_a2_inner.target == 1) & (a1_a2_inner.prediction_beforeRI_binary == 1)\\n        | (a1_a2_inner.target == 0) & (a1_a2_inner.prediction_beforeRI_binary == 0)\\n    ].shape[0],\\n)\\n\\n\\nprint(\\n    \\\"The number of misclassified cases before RI is: \\\",\\n    a1_a2_inner[\\n        (a1_a2_inner.target == 1) & (a1_a2_inner.prediction_beforeRI_binary == 0) |\\n        (a1_a2_inner.target == 0) & (a1_a2_inner.prediction_beforeRI_binary == 1) \\n    ].shape[0],\\n)\";\n",
       "                var nbb_formatted_code = \"print(\\n    \\\"The number of accurately classified cases before RI is: \\\",\\n    a1_a2_inner[\\n        (a1_a2_inner.target == 1) & (a1_a2_inner.prediction_beforeRI_binary == 1)\\n        | (a1_a2_inner.target == 0) & (a1_a2_inner.prediction_beforeRI_binary == 0)\\n    ].shape[0],\\n)\\n\\n\\nprint(\\n    \\\"The number of misclassified cases before RI is: \\\",\\n    a1_a2_inner[\\n        (a1_a2_inner.target == 1) & (a1_a2_inner.prediction_beforeRI_binary == 0)\\n        | (a1_a2_inner.target == 0) & (a1_a2_inner.prediction_beforeRI_binary == 1)\\n    ].shape[0],\\n)\";\n",
       "                var nbb_cells = Jupyter.notebook.get_cells();\n",
       "                for (var i = 0; i < nbb_cells.length; ++i) {\n",
       "                    if (nbb_cells[i].input_prompt_number == nbb_cell_id) {\n",
       "                        if (nbb_cells[i].get_text() == nbb_unformatted_code) {\n",
       "                             nbb_cells[i].set_text(nbb_formatted_code);\n",
       "                        }\n",
       "                        break;\n",
       "                    }\n",
       "                }\n",
       "            }, 500);\n",
       "            "
      ],
      "text/plain": [
       "<IPython.core.display.Javascript object>"
      ]
     },
     "metadata": {},
     "output_type": "display_data"
    }
   ],
   "source": [
    "print(\n",
    "    \"The number of accurately classified cases before RI is: \",\n",
    "    a1_a2_inner[\n",
    "        (a1_a2_inner.target == 1) & (a1_a2_inner.prediction_beforeRI_binary == 1)\n",
    "        | (a1_a2_inner.target == 0) & (a1_a2_inner.prediction_beforeRI_binary == 0)\n",
    "    ].shape[0],\n",
    ")\n",
    "\n",
    "\n",
    "print(\n",
    "    \"The number of misclassified cases before RI is: \",\n",
    "    a1_a2_inner[\n",
    "        (a1_a2_inner.target == 1) & (a1_a2_inner.prediction_beforeRI_binary == 0)\n",
    "        | (a1_a2_inner.target == 0) & (a1_a2_inner.prediction_beforeRI_binary == 1)\n",
    "    ].shape[0],\n",
    ")"
   ]
  },
  {
   "cell_type": "code",
   "execution_count": 174,
   "metadata": {},
   "outputs": [
    {
     "name": "stdout",
     "output_type": "stream",
     "text": [
      "The number of accurately classified cases after RI is:  2227\n",
      "The number of misclassified cases after RI is:  2225\n"
     ]
    },
    {
     "data": {
      "application/javascript": [
       "\n",
       "            setTimeout(function() {\n",
       "                var nbb_cell_id = 174;\n",
       "                var nbb_unformatted_code = \"print(\\n    \\\"The number of accurately classified cases after RI is: \\\",\\n    a1_a2_inner[\\n        (a1_a2_inner.target == 1) & (a1_a2_inner.prediction_afterRI_binary == 1)\\n        | (a1_a2_inner.target == 0) & (a1_a2_inner.prediction_afterRI_binary == 0)\\n    ].shape[0],\\n)\\n\\n\\nprint(\\n    \\\"The number of misclassified cases after RI is: \\\",\\n    a1_a2_inner[\\n        (a1_a2_inner.target == 1) & (a1_a2_inner.prediction_afterRI_binary == 0)\\n        | (a1_a2_inner.target == 0) & (a1_a2_inner.prediction_afterRI_binary == 1)\\n    ].shape[0],\\n)\";\n",
       "                var nbb_formatted_code = \"print(\\n    \\\"The number of accurately classified cases after RI is: \\\",\\n    a1_a2_inner[\\n        (a1_a2_inner.target == 1) & (a1_a2_inner.prediction_afterRI_binary == 1)\\n        | (a1_a2_inner.target == 0) & (a1_a2_inner.prediction_afterRI_binary == 0)\\n    ].shape[0],\\n)\\n\\n\\nprint(\\n    \\\"The number of misclassified cases after RI is: \\\",\\n    a1_a2_inner[\\n        (a1_a2_inner.target == 1) & (a1_a2_inner.prediction_afterRI_binary == 0)\\n        | (a1_a2_inner.target == 0) & (a1_a2_inner.prediction_afterRI_binary == 1)\\n    ].shape[0],\\n)\";\n",
       "                var nbb_cells = Jupyter.notebook.get_cells();\n",
       "                for (var i = 0; i < nbb_cells.length; ++i) {\n",
       "                    if (nbb_cells[i].input_prompt_number == nbb_cell_id) {\n",
       "                        if (nbb_cells[i].get_text() == nbb_unformatted_code) {\n",
       "                             nbb_cells[i].set_text(nbb_formatted_code);\n",
       "                        }\n",
       "                        break;\n",
       "                    }\n",
       "                }\n",
       "            }, 500);\n",
       "            "
      ],
      "text/plain": [
       "<IPython.core.display.Javascript object>"
      ]
     },
     "metadata": {},
     "output_type": "display_data"
    }
   ],
   "source": [
    "print(\n",
    "    \"The number of accurately classified cases after RI is: \",\n",
    "    a1_a2_inner[\n",
    "        (a1_a2_inner.target == 1) & (a1_a2_inner.prediction_afterRI_binary == 1)\n",
    "        | (a1_a2_inner.target == 0) & (a1_a2_inner.prediction_afterRI_binary == 0)\n",
    "    ].shape[0],\n",
    ")\n",
    "\n",
    "\n",
    "print(\n",
    "    \"The number of misclassified cases after RI is: \",\n",
    "    a1_a2_inner[\n",
    "        (a1_a2_inner.target == 1) & (a1_a2_inner.prediction_afterRI_binary == 0)\n",
    "        | (a1_a2_inner.target == 0) & (a1_a2_inner.prediction_afterRI_binary == 1)\n",
    "    ].shape[0],\n",
    ")"
   ]
  },
  {
   "cell_type": "code",
   "execution_count": null,
   "metadata": {},
   "outputs": [],
   "source": []
  },
  {
   "cell_type": "markdown",
   "metadata": {},
   "source": [
    "### OPTICS"
   ]
  },
  {
   "cell_type": "code",
   "execution_count": null,
   "metadata": {},
   "outputs": [],
   "source": [
    "from sklearn.cluster import OPTICS"
   ]
  },
  {
   "cell_type": "code",
   "execution_count": null,
   "metadata": {},
   "outputs": [],
   "source": [
    "clustering = OPTICS(min_samples=2).fit(dfr3)\n",
    "clustering.labels_"
   ]
  },
  {
   "cell_type": "code",
   "execution_count": null,
   "metadata": {},
   "outputs": [],
   "source": [
    "clustering_optics"
   ]
  },
  {
   "cell_type": "code",
   "execution_count": null,
   "metadata": {},
   "outputs": [],
   "source": [
    "# Predictions\n",
    "clustering_optics = clustering.labels_\n",
    "clustering_optics = pd.DataFrame(\n",
    "    data=clustering_optics, columns=[\"prediction\"]\n",
    ")\n",
    "clustering_optics[\"Rejects\"] = clustering_optics.groupby(\"prediction\")[\n",
    "    \"prediction\"\n",
    "].transform(\"count\")\n",
    "clustering_optics.groupby([\"prediction\"]).count()"
   ]
  },
  {
   "cell_type": "markdown",
   "metadata": {},
   "source": [
    "### MeanShift"
   ]
  },
  {
   "cell_type": "code",
   "execution_count": null,
   "metadata": {},
   "outputs": [],
   "source": [
    "from sklearn.cluster import MeanShift"
   ]
  },
  {
   "cell_type": "code",
   "execution_count": null,
   "metadata": {},
   "outputs": [],
   "source": [
    "clustering2 = MeanShift(bandwidth=2).fit(dfr3)\n",
    "clustering2.labels_"
   ]
  },
  {
   "cell_type": "code",
   "execution_count": null,
   "metadata": {},
   "outputs": [],
   "source": [
    "# Predictions\n",
    "clustering_meanshift = clustering2.labels_\n",
    "clustering_meanshift = pd.DataFrame(\n",
    "    data=clustering_meanshift, columns=[\"prediction\"]\n",
    ")\n",
    "clustering_optics[\"Rejects\"] = clustering_meanshift.groupby(\"prediction\")[\n",
    "    \"prediction\"\n",
    "].transform(\"count\")\n",
    "clustering_meanshift.groupby([\"prediction\"]).count()"
   ]
  },
  {
   "cell_type": "markdown",
   "metadata": {},
   "source": [
    "### SVM"
   ]
  },
  {
   "cell_type": "code",
   "execution_count": null,
   "metadata": {},
   "outputs": [],
   "source": [
    "# Accepts\n",
    "clf = SVC(gamma=\"auto\", kernel=\"linear\")\n",
    "clf.fit(os_data_X_2, os_data_y.values.ravel())\n",
    "pred = clf.predict(X_test_2)"
   ]
  },
  {
   "cell_type": "code",
   "execution_count": null,
   "metadata": {},
   "outputs": [],
   "source": [
    "# Predictions\n",
    "rej_test_predictions_kmeans = clf.predict(dfr3)\n",
    "df_pred_rej_kmeans = pd.DataFrame(\n",
    "    data=rej_test_predictions_kmeans, columns=[\"prediction\"]\n",
    ")\n",
    "df_pred_rej_kmeans[\"Rejects\"] = df_pred_rej_kmeans.groupby(\"prediction\")[\n",
    "    \"prediction\"\n",
    "].transform(\"count\")\n",
    "df_pred_rej_kmeans.groupby([\"prediction\"]).count()"
   ]
  }
 ],
 "metadata": {
  "kernelspec": {
   "display_name": "Python 3",
   "language": "python",
   "name": "python3"
  },
  "language_info": {
   "codemirror_mode": {
    "name": "ipython",
    "version": 3
   },
   "file_extension": ".py",
   "mimetype": "text/x-python",
   "name": "python",
   "nbconvert_exporter": "python",
   "pygments_lexer": "ipython3",
   "version": "3.8.3"
  }
 },
 "nbformat": 4,
 "nbformat_minor": 4
}
