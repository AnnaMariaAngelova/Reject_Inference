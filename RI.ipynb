{
 "cells": [
  {
   "cell_type": "code",
   "execution_count": 1,
   "metadata": {},
   "outputs": [
    {
     "data": {
      "application/javascript": [
       "\n",
       "            setTimeout(function() {\n",
       "                var nbb_cell_id = 1;\n",
       "                var nbb_unformatted_code = \"%load_ext nb_black\";\n",
       "                var nbb_formatted_code = \"%load_ext nb_black\";\n",
       "                var nbb_cells = Jupyter.notebook.get_cells();\n",
       "                for (var i = 0; i < nbb_cells.length; ++i) {\n",
       "                    if (nbb_cells[i].input_prompt_number == nbb_cell_id) {\n",
       "                        if (nbb_cells[i].get_text() == nbb_unformatted_code) {\n",
       "                             nbb_cells[i].set_text(nbb_formatted_code);\n",
       "                        }\n",
       "                        break;\n",
       "                    }\n",
       "                }\n",
       "            }, 500);\n",
       "            "
      ],
      "text/plain": [
       "<IPython.core.display.Javascript object>"
      ]
     },
     "metadata": {},
     "output_type": "display_data"
    }
   ],
   "source": [
    "%load_ext nb_black"
   ]
  },
  {
   "cell_type": "code",
   "execution_count": 2,
   "metadata": {},
   "outputs": [
    {
     "data": {
      "application/javascript": [
       "\n",
       "            setTimeout(function() {\n",
       "                var nbb_cell_id = 2;\n",
       "                var nbb_unformatted_code = \"import warnings\\n\\nwarnings.filterwarnings(\\\"ignore\\\")\\n\\n# Basic Packages\\nimport pandas as pd\\nimport numpy as np\\nimport matplotlib.pyplot as plt\\n\\n# Preprocessing\\nfrom sklearn.model_selection import train_test_split\\n\\n# Modelling\\n# Regressions\\nimport statsmodels.api as sm\\nfrom sklearn.linear_model import LogisticRegression\\nfrom sklearn.linear_model import LinearRegression\\n\\n# Clustering\\nfrom sklearn.cluster import KMeans\\nfrom sklearn.cluster import AgglomerativeClustering\\n\\n# Metrics\\nfrom sklearn.metrics import roc_auc_score\\nfrom sklearn.metrics import roc_curve\\nfrom sklearn.metrics import accuracy_score\\n\\n# Balancing\\nfrom imblearn.over_sampling import SMOTE\\nfrom imblearn.under_sampling import RandomUnderSampler\\n\\n# Visualization\\nimport seaborn as sns\\nimport matplotlib.pyplot as plt\\n\\n# Binning\\nimport woeBinningPandas\\n\\n# Create Unique ID\\nimport uuid\";\n",
       "                var nbb_formatted_code = \"import warnings\\n\\nwarnings.filterwarnings(\\\"ignore\\\")\\n\\n# Basic Packages\\nimport pandas as pd\\nimport numpy as np\\nimport matplotlib.pyplot as plt\\n\\n# Preprocessing\\nfrom sklearn.model_selection import train_test_split\\n\\n# Modelling\\n# Regressions\\nimport statsmodels.api as sm\\nfrom sklearn.linear_model import LogisticRegression\\nfrom sklearn.linear_model import LinearRegression\\n\\n# Clustering\\nfrom sklearn.cluster import KMeans\\nfrom sklearn.cluster import AgglomerativeClustering\\n\\n# Metrics\\nfrom sklearn.metrics import roc_auc_score\\nfrom sklearn.metrics import roc_curve\\nfrom sklearn.metrics import accuracy_score\\n\\n# Balancing\\nfrom imblearn.over_sampling import SMOTE\\nfrom imblearn.under_sampling import RandomUnderSampler\\n\\n# Visualization\\nimport seaborn as sns\\nimport matplotlib.pyplot as plt\\n\\n# Binning\\nimport woeBinningPandas\\n\\n# Create Unique ID\\nimport uuid\";\n",
       "                var nbb_cells = Jupyter.notebook.get_cells();\n",
       "                for (var i = 0; i < nbb_cells.length; ++i) {\n",
       "                    if (nbb_cells[i].input_prompt_number == nbb_cell_id) {\n",
       "                        if (nbb_cells[i].get_text() == nbb_unformatted_code) {\n",
       "                             nbb_cells[i].set_text(nbb_formatted_code);\n",
       "                        }\n",
       "                        break;\n",
       "                    }\n",
       "                }\n",
       "            }, 500);\n",
       "            "
      ],
      "text/plain": [
       "<IPython.core.display.Javascript object>"
      ]
     },
     "metadata": {},
     "output_type": "display_data"
    }
   ],
   "source": [
    "import warnings\n",
    "\n",
    "warnings.filterwarnings(\"ignore\")\n",
    "\n",
    "# Basic Packages\n",
    "import pandas as pd\n",
    "import numpy as np\n",
    "import matplotlib.pyplot as plt\n",
    "\n",
    "# Preprocessing\n",
    "from sklearn.model_selection import train_test_split\n",
    "\n",
    "# Modelling\n",
    "# Regressions\n",
    "import statsmodels.api as sm\n",
    "from sklearn.linear_model import LogisticRegression\n",
    "from sklearn.linear_model import LinearRegression\n",
    "\n",
    "# Clustering\n",
    "from sklearn.cluster import KMeans\n",
    "from sklearn.cluster import AgglomerativeClustering\n",
    "\n",
    "# Metrics\n",
    "from sklearn.metrics import roc_auc_score\n",
    "from sklearn.metrics import roc_curve\n",
    "from sklearn.metrics import accuracy_score\n",
    "\n",
    "# Balancing\n",
    "from imblearn.over_sampling import SMOTE\n",
    "from imblearn.under_sampling import RandomUnderSampler\n",
    "\n",
    "# Visualization\n",
    "import seaborn as sns\n",
    "import matplotlib.pyplot as plt\n",
    "\n",
    "# Binning\n",
    "import woeBinningPandas\n",
    "\n",
    "# Create Unique ID\n",
    "import uuid"
   ]
  },
  {
   "cell_type": "markdown",
   "metadata": {},
   "source": [
    "Data: https://www.kaggle.com/wordsforthewise/lending-club"
   ]
  },
  {
   "cell_type": "code",
   "execution_count": 3,
   "metadata": {},
   "outputs": [
    {
     "data": {
      "application/javascript": [
       "\n",
       "            setTimeout(function() {\n",
       "                var nbb_cell_id = 3;\n",
       "                var nbb_unformatted_code = \"# Read data\\naccepted = pd.read_csv(\\\"accepted_2007_to_2018Q4.csv\\\", low_memory=False)\\nrejected = pd.read_csv(\\\"rejected_2007_to_2018Q4.csv\\\", low_memory=False)\";\n",
       "                var nbb_formatted_code = \"# Read data\\naccepted = pd.read_csv(\\\"accepted_2007_to_2018Q4.csv\\\", low_memory=False)\\nrejected = pd.read_csv(\\\"rejected_2007_to_2018Q4.csv\\\", low_memory=False)\";\n",
       "                var nbb_cells = Jupyter.notebook.get_cells();\n",
       "                for (var i = 0; i < nbb_cells.length; ++i) {\n",
       "                    if (nbb_cells[i].input_prompt_number == nbb_cell_id) {\n",
       "                        if (nbb_cells[i].get_text() == nbb_unformatted_code) {\n",
       "                             nbb_cells[i].set_text(nbb_formatted_code);\n",
       "                        }\n",
       "                        break;\n",
       "                    }\n",
       "                }\n",
       "            }, 500);\n",
       "            "
      ],
      "text/plain": [
       "<IPython.core.display.Javascript object>"
      ]
     },
     "metadata": {},
     "output_type": "display_data"
    }
   ],
   "source": [
    "# Read data\n",
    "accepted = pd.read_csv(\"accepted_2007_to_2018Q4.csv\", low_memory=False)\n",
    "rejected = pd.read_csv(\"rejected_2007_to_2018Q4.csv\", low_memory=False)"
   ]
  },
  {
   "cell_type": "code",
   "execution_count": 4,
   "metadata": {},
   "outputs": [
    {
     "name": "stdout",
     "output_type": "stream",
     "text": [
      "(2260701, 151)\n",
      "(27648741, 9)\n"
     ]
    },
    {
     "data": {
      "application/javascript": [
       "\n",
       "            setTimeout(function() {\n",
       "                var nbb_cell_id = 4;\n",
       "                var nbb_unformatted_code = \"print(accepted.shape)\\nprint(rejected.shape)\";\n",
       "                var nbb_formatted_code = \"print(accepted.shape)\\nprint(rejected.shape)\";\n",
       "                var nbb_cells = Jupyter.notebook.get_cells();\n",
       "                for (var i = 0; i < nbb_cells.length; ++i) {\n",
       "                    if (nbb_cells[i].input_prompt_number == nbb_cell_id) {\n",
       "                        if (nbb_cells[i].get_text() == nbb_unformatted_code) {\n",
       "                             nbb_cells[i].set_text(nbb_formatted_code);\n",
       "                        }\n",
       "                        break;\n",
       "                    }\n",
       "                }\n",
       "            }, 500);\n",
       "            "
      ],
      "text/plain": [
       "<IPython.core.display.Javascript object>"
      ]
     },
     "metadata": {},
     "output_type": "display_data"
    }
   ],
   "source": [
    "print(accepted.shape)\n",
    "print(rejected.shape)"
   ]
  },
  {
   "cell_type": "markdown",
   "metadata": {},
   "source": [
    "## Preprocessing"
   ]
  },
  {
   "cell_type": "code",
   "execution_count": 5,
   "metadata": {},
   "outputs": [
    {
     "data": {
      "application/javascript": [
       "\n",
       "            setTimeout(function() {\n",
       "                var nbb_cell_id = 5;\n",
       "                var nbb_unformatted_code = \"# Sample 100k obs. for easy processing\\naccepted_small = accepted.sample(n=25000, random_state=7)\\naccepted_small.reset_index(drop=True, inplace=True)\";\n",
       "                var nbb_formatted_code = \"# Sample 100k obs. for easy processing\\naccepted_small = accepted.sample(n=25000, random_state=7)\\naccepted_small.reset_index(drop=True, inplace=True)\";\n",
       "                var nbb_cells = Jupyter.notebook.get_cells();\n",
       "                for (var i = 0; i < nbb_cells.length; ++i) {\n",
       "                    if (nbb_cells[i].input_prompt_number == nbb_cell_id) {\n",
       "                        if (nbb_cells[i].get_text() == nbb_unformatted_code) {\n",
       "                             nbb_cells[i].set_text(nbb_formatted_code);\n",
       "                        }\n",
       "                        break;\n",
       "                    }\n",
       "                }\n",
       "            }, 500);\n",
       "            "
      ],
      "text/plain": [
       "<IPython.core.display.Javascript object>"
      ]
     },
     "metadata": {},
     "output_type": "display_data"
    }
   ],
   "source": [
    "# Sample 100k obs. for easy processing\n",
    "accepted_small = accepted.sample(n=25000, random_state=7)\n",
    "accepted_small.reset_index(drop=True, inplace=True)"
   ]
  },
  {
   "cell_type": "code",
   "execution_count": 6,
   "metadata": {},
   "outputs": [
    {
     "data": {
      "application/javascript": [
       "\n",
       "            setTimeout(function() {\n",
       "                var nbb_cell_id = 6;\n",
       "                var nbb_unformatted_code = \"# Create Default Flag\\naccepted_small[\\\"target\\\"] = accepted_small[\\\"loan_status\\\"].apply(\\n    lambda x: 1 if x == \\\"Charged Off\\\" else (0 if x == \\\"Fully Paid\\\" else 2)\\n)\";\n",
       "                var nbb_formatted_code = \"# Create Default Flag\\naccepted_small[\\\"target\\\"] = accepted_small[\\\"loan_status\\\"].apply(\\n    lambda x: 1 if x == \\\"Charged Off\\\" else (0 if x == \\\"Fully Paid\\\" else 2)\\n)\";\n",
       "                var nbb_cells = Jupyter.notebook.get_cells();\n",
       "                for (var i = 0; i < nbb_cells.length; ++i) {\n",
       "                    if (nbb_cells[i].input_prompt_number == nbb_cell_id) {\n",
       "                        if (nbb_cells[i].get_text() == nbb_unformatted_code) {\n",
       "                             nbb_cells[i].set_text(nbb_formatted_code);\n",
       "                        }\n",
       "                        break;\n",
       "                    }\n",
       "                }\n",
       "            }, 500);\n",
       "            "
      ],
      "text/plain": [
       "<IPython.core.display.Javascript object>"
      ]
     },
     "metadata": {},
     "output_type": "display_data"
    }
   ],
   "source": [
    "# Create Default Flag\n",
    "accepted_small[\"target\"] = accepted_small[\"loan_status\"].apply(\n",
    "    lambda x: 1 if x == \"Charged Off\" else (0 if x == \"Fully Paid\" else 2)\n",
    ")"
   ]
  },
  {
   "cell_type": "code",
   "execution_count": 7,
   "metadata": {},
   "outputs": [
    {
     "data": {
      "text/plain": [
       "(14838, 152)"
      ]
     },
     "execution_count": 7,
     "metadata": {},
     "output_type": "execute_result"
    },
    {
     "data": {
      "application/javascript": [
       "\n",
       "            setTimeout(function() {\n",
       "                var nbb_cell_id = 7;\n",
       "                var nbb_unformatted_code = \"# Remove Current and Missings\\naccepted_small = accepted_small.loc[accepted_small[\\\"target\\\"] != 2]\\naccepted_small.shape\";\n",
       "                var nbb_formatted_code = \"# Remove Current and Missings\\naccepted_small = accepted_small.loc[accepted_small[\\\"target\\\"] != 2]\\naccepted_small.shape\";\n",
       "                var nbb_cells = Jupyter.notebook.get_cells();\n",
       "                for (var i = 0; i < nbb_cells.length; ++i) {\n",
       "                    if (nbb_cells[i].input_prompt_number == nbb_cell_id) {\n",
       "                        if (nbb_cells[i].get_text() == nbb_unformatted_code) {\n",
       "                             nbb_cells[i].set_text(nbb_formatted_code);\n",
       "                        }\n",
       "                        break;\n",
       "                    }\n",
       "                }\n",
       "            }, 500);\n",
       "            "
      ],
      "text/plain": [
       "<IPython.core.display.Javascript object>"
      ]
     },
     "metadata": {},
     "output_type": "display_data"
    }
   ],
   "source": [
    "# Remove Current and Missings\n",
    "accepted_small = accepted_small.loc[accepted_small[\"target\"] != 2]\n",
    "accepted_small.shape"
   ]
  },
  {
   "cell_type": "code",
   "execution_count": 8,
   "metadata": {},
   "outputs": [
    {
     "data": {
      "text/html": [
       "<div>\n",
       "<style scoped>\n",
       "    .dataframe tbody tr th:only-of-type {\n",
       "        vertical-align: middle;\n",
       "    }\n",
       "\n",
       "    .dataframe tbody tr th {\n",
       "        vertical-align: top;\n",
       "    }\n",
       "\n",
       "    .dataframe thead th {\n",
       "        text-align: right;\n",
       "    }\n",
       "</style>\n",
       "<table border=\"1\" class=\"dataframe\">\n",
       "  <thead>\n",
       "    <tr style=\"text-align: right;\">\n",
       "      <th>loan_status</th>\n",
       "      <th>Charged Off</th>\n",
       "      <th>Fully Paid</th>\n",
       "    </tr>\n",
       "    <tr>\n",
       "      <th>target</th>\n",
       "      <th></th>\n",
       "      <th></th>\n",
       "    </tr>\n",
       "  </thead>\n",
       "  <tbody>\n",
       "    <tr>\n",
       "      <th>0</th>\n",
       "      <td>0</td>\n",
       "      <td>11809</td>\n",
       "    </tr>\n",
       "    <tr>\n",
       "      <th>1</th>\n",
       "      <td>3029</td>\n",
       "      <td>0</td>\n",
       "    </tr>\n",
       "  </tbody>\n",
       "</table>\n",
       "</div>"
      ],
      "text/plain": [
       "loan_status  Charged Off  Fully Paid\n",
       "target                              \n",
       "0                      0       11809\n",
       "1                   3029           0"
      ]
     },
     "execution_count": 8,
     "metadata": {},
     "output_type": "execute_result"
    },
    {
     "data": {
      "application/javascript": [
       "\n",
       "            setTimeout(function() {\n",
       "                var nbb_cell_id = 8;\n",
       "                var nbb_unformatted_code = \"pd.crosstab(accepted_small[\\\"target\\\"], accepted_small[\\\"loan_status\\\"])\";\n",
       "                var nbb_formatted_code = \"pd.crosstab(accepted_small[\\\"target\\\"], accepted_small[\\\"loan_status\\\"])\";\n",
       "                var nbb_cells = Jupyter.notebook.get_cells();\n",
       "                for (var i = 0; i < nbb_cells.length; ++i) {\n",
       "                    if (nbb_cells[i].input_prompt_number == nbb_cell_id) {\n",
       "                        if (nbb_cells[i].get_text() == nbb_unformatted_code) {\n",
       "                             nbb_cells[i].set_text(nbb_formatted_code);\n",
       "                        }\n",
       "                        break;\n",
       "                    }\n",
       "                }\n",
       "            }, 500);\n",
       "            "
      ],
      "text/plain": [
       "<IPython.core.display.Javascript object>"
      ]
     },
     "metadata": {},
     "output_type": "display_data"
    }
   ],
   "source": [
    "pd.crosstab(accepted_small[\"target\"], accepted_small[\"loan_status\"])"
   ]
  },
  {
   "cell_type": "markdown",
   "metadata": {},
   "source": [
    "The dataset is imbalanced"
   ]
  },
  {
   "cell_type": "markdown",
   "metadata": {},
   "source": [
    "## Bucketing"
   ]
  },
  {
   "cell_type": "code",
   "execution_count": 9,
   "metadata": {},
   "outputs": [
    {
     "data": {
      "application/javascript": [
       "\n",
       "            setTimeout(function() {\n",
       "                var nbb_cell_id = 9;\n",
       "                var nbb_unformatted_code = \"# Keep only 2 explanatory variables for quick an dirty PD model\\ndf = accepted_small[[\\\"id\\\", \\\"target\\\", \\\"loan_amnt\\\", \\\"addr_state\\\", \\\"emp_length\\\"]]\";\n",
       "                var nbb_formatted_code = \"# Keep only 2 explanatory variables for quick an dirty PD model\\ndf = accepted_small[[\\\"id\\\", \\\"target\\\", \\\"loan_amnt\\\", \\\"addr_state\\\", \\\"emp_length\\\"]]\";\n",
       "                var nbb_cells = Jupyter.notebook.get_cells();\n",
       "                for (var i = 0; i < nbb_cells.length; ++i) {\n",
       "                    if (nbb_cells[i].input_prompt_number == nbb_cell_id) {\n",
       "                        if (nbb_cells[i].get_text() == nbb_unformatted_code) {\n",
       "                             nbb_cells[i].set_text(nbb_formatted_code);\n",
       "                        }\n",
       "                        break;\n",
       "                    }\n",
       "                }\n",
       "            }, 500);\n",
       "            "
      ],
      "text/plain": [
       "<IPython.core.display.Javascript object>"
      ]
     },
     "metadata": {},
     "output_type": "display_data"
    }
   ],
   "source": [
    "# Keep only 2 explanatory variables for quick an dirty PD model\n",
    "df = accepted_small[[\"id\", \"target\", \"loan_amnt\", \"addr_state\", \"emp_length\"]]"
   ]
  },
  {
   "cell_type": "code",
   "execution_count": 10,
   "metadata": {},
   "outputs": [
    {
     "data": {
      "text/html": [
       "<div>\n",
       "<style scoped>\n",
       "    .dataframe tbody tr th:only-of-type {\n",
       "        vertical-align: middle;\n",
       "    }\n",
       "\n",
       "    .dataframe tbody tr th {\n",
       "        vertical-align: top;\n",
       "    }\n",
       "\n",
       "    .dataframe thead th {\n",
       "        text-align: right;\n",
       "    }\n",
       "</style>\n",
       "<table border=\"1\" class=\"dataframe\">\n",
       "  <thead>\n",
       "    <tr style=\"text-align: right;\">\n",
       "      <th></th>\n",
       "      <th>Group_2</th>\n",
       "      <th>Group_1</th>\n",
       "      <th>woe</th>\n",
       "      <th>iv_total_final</th>\n",
       "      <th>good</th>\n",
       "      <th>bad</th>\n",
       "      <th>col_perc_a</th>\n",
       "      <th>col_perc_b</th>\n",
       "      <th>iv_bins</th>\n",
       "    </tr>\n",
       "  </thead>\n",
       "  <tbody>\n",
       "    <tr>\n",
       "      <th>2</th>\n",
       "      <td>misc. level neg.</td>\n",
       "      <td>2 years</td>\n",
       "      <td>-11.550008</td>\n",
       "      <td>0.006977</td>\n",
       "      <td>3654</td>\n",
       "      <td>1052</td>\n",
       "      <td>0.309425</td>\n",
       "      <td>0.347309</td>\n",
       "      <td>0.004376</td>\n",
       "    </tr>\n",
       "    <tr>\n",
       "      <th>0</th>\n",
       "      <td>misc. level neg.</td>\n",
       "      <td>1 year</td>\n",
       "      <td>-11.550008</td>\n",
       "      <td>0.006977</td>\n",
       "      <td>3654</td>\n",
       "      <td>1052</td>\n",
       "      <td>0.309425</td>\n",
       "      <td>0.347309</td>\n",
       "      <td>0.004376</td>\n",
       "    </tr>\n",
       "    <tr>\n",
       "      <th>4</th>\n",
       "      <td>misc. level neg.</td>\n",
       "      <td>4 years</td>\n",
       "      <td>-11.550008</td>\n",
       "      <td>0.006977</td>\n",
       "      <td>3654</td>\n",
       "      <td>1052</td>\n",
       "      <td>0.309425</td>\n",
       "      <td>0.347309</td>\n",
       "      <td>0.004376</td>\n",
       "    </tr>\n",
       "    <tr>\n",
       "      <th>11</th>\n",
       "      <td>misc. level neg.</td>\n",
       "      <td>Missing</td>\n",
       "      <td>-11.550008</td>\n",
       "      <td>0.006977</td>\n",
       "      <td>3654</td>\n",
       "      <td>1052</td>\n",
       "      <td>0.309425</td>\n",
       "      <td>0.347309</td>\n",
       "      <td>0.004376</td>\n",
       "    </tr>\n",
       "    <tr>\n",
       "      <th>8</th>\n",
       "      <td>misc. level neg.</td>\n",
       "      <td>8 years</td>\n",
       "      <td>-11.550008</td>\n",
       "      <td>0.006977</td>\n",
       "      <td>3654</td>\n",
       "      <td>1052</td>\n",
       "      <td>0.309425</td>\n",
       "      <td>0.347309</td>\n",
       "      <td>0.004376</td>\n",
       "    </tr>\n",
       "    <tr>\n",
       "      <th>1</th>\n",
       "      <td>10+ years</td>\n",
       "      <td>10+ years</td>\n",
       "      <td>2.904113</td>\n",
       "      <td>0.006977</td>\n",
       "      <td>3857</td>\n",
       "      <td>961</td>\n",
       "      <td>0.326615</td>\n",
       "      <td>0.317266</td>\n",
       "      <td>0.000272</td>\n",
       "    </tr>\n",
       "    <tr>\n",
       "      <th>9</th>\n",
       "      <td>misc. level pos.</td>\n",
       "      <td>9 years</td>\n",
       "      <td>8.164703</td>\n",
       "      <td>0.006977</td>\n",
       "      <td>4298</td>\n",
       "      <td>1016</td>\n",
       "      <td>0.363960</td>\n",
       "      <td>0.335424</td>\n",
       "      <td>0.002330</td>\n",
       "    </tr>\n",
       "    <tr>\n",
       "      <th>7</th>\n",
       "      <td>misc. level pos.</td>\n",
       "      <td>7 years</td>\n",
       "      <td>8.164703</td>\n",
       "      <td>0.006977</td>\n",
       "      <td>4298</td>\n",
       "      <td>1016</td>\n",
       "      <td>0.363960</td>\n",
       "      <td>0.335424</td>\n",
       "      <td>0.002330</td>\n",
       "    </tr>\n",
       "    <tr>\n",
       "      <th>6</th>\n",
       "      <td>misc. level pos.</td>\n",
       "      <td>6 years</td>\n",
       "      <td>8.164703</td>\n",
       "      <td>0.006977</td>\n",
       "      <td>4298</td>\n",
       "      <td>1016</td>\n",
       "      <td>0.363960</td>\n",
       "      <td>0.335424</td>\n",
       "      <td>0.002330</td>\n",
       "    </tr>\n",
       "    <tr>\n",
       "      <th>5</th>\n",
       "      <td>misc. level pos.</td>\n",
       "      <td>5 years</td>\n",
       "      <td>8.164703</td>\n",
       "      <td>0.006977</td>\n",
       "      <td>4298</td>\n",
       "      <td>1016</td>\n",
       "      <td>0.363960</td>\n",
       "      <td>0.335424</td>\n",
       "      <td>0.002330</td>\n",
       "    </tr>\n",
       "    <tr>\n",
       "      <th>10</th>\n",
       "      <td>misc. level pos.</td>\n",
       "      <td>&lt; 1 year</td>\n",
       "      <td>8.164703</td>\n",
       "      <td>0.006977</td>\n",
       "      <td>4298</td>\n",
       "      <td>1016</td>\n",
       "      <td>0.363960</td>\n",
       "      <td>0.335424</td>\n",
       "      <td>0.002330</td>\n",
       "    </tr>\n",
       "    <tr>\n",
       "      <th>3</th>\n",
       "      <td>misc. level pos.</td>\n",
       "      <td>3 years</td>\n",
       "      <td>8.164703</td>\n",
       "      <td>0.006977</td>\n",
       "      <td>4298</td>\n",
       "      <td>1016</td>\n",
       "      <td>0.363960</td>\n",
       "      <td>0.335424</td>\n",
       "      <td>0.002330</td>\n",
       "    </tr>\n",
       "  </tbody>\n",
       "</table>\n",
       "</div>"
      ],
      "text/plain": [
       "             Group_2    Group_1        woe  iv_total_final  good   bad  \\\n",
       "2   misc. level neg.    2 years -11.550008        0.006977  3654  1052   \n",
       "0   misc. level neg.     1 year -11.550008        0.006977  3654  1052   \n",
       "4   misc. level neg.    4 years -11.550008        0.006977  3654  1052   \n",
       "11  misc. level neg.    Missing -11.550008        0.006977  3654  1052   \n",
       "8   misc. level neg.    8 years -11.550008        0.006977  3654  1052   \n",
       "1          10+ years  10+ years   2.904113        0.006977  3857   961   \n",
       "9   misc. level pos.    9 years   8.164703        0.006977  4298  1016   \n",
       "7   misc. level pos.    7 years   8.164703        0.006977  4298  1016   \n",
       "6   misc. level pos.    6 years   8.164703        0.006977  4298  1016   \n",
       "5   misc. level pos.    5 years   8.164703        0.006977  4298  1016   \n",
       "10  misc. level pos.   < 1 year   8.164703        0.006977  4298  1016   \n",
       "3   misc. level pos.    3 years   8.164703        0.006977  4298  1016   \n",
       "\n",
       "    col_perc_a  col_perc_b   iv_bins  \n",
       "2     0.309425    0.347309  0.004376  \n",
       "0     0.309425    0.347309  0.004376  \n",
       "4     0.309425    0.347309  0.004376  \n",
       "11    0.309425    0.347309  0.004376  \n",
       "8     0.309425    0.347309  0.004376  \n",
       "1     0.326615    0.317266  0.000272  \n",
       "9     0.363960    0.335424  0.002330  \n",
       "7     0.363960    0.335424  0.002330  \n",
       "6     0.363960    0.335424  0.002330  \n",
       "5     0.363960    0.335424  0.002330  \n",
       "10    0.363960    0.335424  0.002330  \n",
       "3     0.363960    0.335424  0.002330  "
      ]
     },
     "execution_count": 10,
     "metadata": {},
     "output_type": "execute_result"
    },
    {
     "data": {
      "application/javascript": [
       "\n",
       "            setTimeout(function() {\n",
       "                var nbb_cell_id = 10;\n",
       "                var nbb_unformatted_code = \"# State\\nbinning_emp_length = woeBinningPandas.woe_binning(\\n    df, \\\"target\\\", \\\"emp_length\\\", 0.1, 0.1, 50, 100, \\\"bad\\\"\\n)\\nbinning_emp_length\";\n",
       "                var nbb_formatted_code = \"# State\\nbinning_emp_length = woeBinningPandas.woe_binning(\\n    df, \\\"target\\\", \\\"emp_length\\\", 0.1, 0.1, 50, 100, \\\"bad\\\"\\n)\\nbinning_emp_length\";\n",
       "                var nbb_cells = Jupyter.notebook.get_cells();\n",
       "                for (var i = 0; i < nbb_cells.length; ++i) {\n",
       "                    if (nbb_cells[i].input_prompt_number == nbb_cell_id) {\n",
       "                        if (nbb_cells[i].get_text() == nbb_unformatted_code) {\n",
       "                             nbb_cells[i].set_text(nbb_formatted_code);\n",
       "                        }\n",
       "                        break;\n",
       "                    }\n",
       "                }\n",
       "            }, 500);\n",
       "            "
      ],
      "text/plain": [
       "<IPython.core.display.Javascript object>"
      ]
     },
     "metadata": {},
     "output_type": "display_data"
    }
   ],
   "source": [
    "# State\n",
    "binning_emp_length = woeBinningPandas.woe_binning(\n",
    "    df, \"target\", \"emp_length\", 0.1, 0.1, 50, 100, \"bad\"\n",
    ")\n",
    "binning_emp_length"
   ]
  },
  {
   "cell_type": "code",
   "execution_count": 11,
   "metadata": {},
   "outputs": [
    {
     "data": {
      "application/javascript": [
       "\n",
       "            setTimeout(function() {\n",
       "                var nbb_cell_id = 11;\n",
       "                var nbb_unformatted_code = \"bademplen = binning_emp_length[\\\"Group_1\\\"][:2].tolist()\\nnullemplen = binning_emp_length[\\\"Group_1\\\"][2:].tolist()\";\n",
       "                var nbb_formatted_code = \"bademplen = binning_emp_length[\\\"Group_1\\\"][:2].tolist()\\nnullemplen = binning_emp_length[\\\"Group_1\\\"][2:].tolist()\";\n",
       "                var nbb_cells = Jupyter.notebook.get_cells();\n",
       "                for (var i = 0; i < nbb_cells.length; ++i) {\n",
       "                    if (nbb_cells[i].input_prompt_number == nbb_cell_id) {\n",
       "                        if (nbb_cells[i].get_text() == nbb_unformatted_code) {\n",
       "                             nbb_cells[i].set_text(nbb_formatted_code);\n",
       "                        }\n",
       "                        break;\n",
       "                    }\n",
       "                }\n",
       "            }, 500);\n",
       "            "
      ],
      "text/plain": [
       "<IPython.core.display.Javascript object>"
      ]
     },
     "metadata": {},
     "output_type": "display_data"
    }
   ],
   "source": [
    "bademplen = binning_emp_length[\"Group_1\"][:2].tolist()\n",
    "nullemplen = binning_emp_length[\"Group_1\"][2:].tolist()"
   ]
  },
  {
   "cell_type": "code",
   "execution_count": 12,
   "metadata": {},
   "outputs": [
    {
     "data": {
      "application/javascript": [
       "\n",
       "            setTimeout(function() {\n",
       "                var nbb_cell_id = 12;\n",
       "                var nbb_unformatted_code = \"# Emp Length\\ndf[\\\"emp_length2\\\"] = df[\\\"emp_length\\\"].apply(\\n    lambda x: \\\"1-2 years\\\" if (x in nullemplen) else \\\">2 years\\\"\\n)\";\n",
       "                var nbb_formatted_code = \"# Emp Length\\ndf[\\\"emp_length2\\\"] = df[\\\"emp_length\\\"].apply(\\n    lambda x: \\\"1-2 years\\\" if (x in nullemplen) else \\\">2 years\\\"\\n)\";\n",
       "                var nbb_cells = Jupyter.notebook.get_cells();\n",
       "                for (var i = 0; i < nbb_cells.length; ++i) {\n",
       "                    if (nbb_cells[i].input_prompt_number == nbb_cell_id) {\n",
       "                        if (nbb_cells[i].get_text() == nbb_unformatted_code) {\n",
       "                             nbb_cells[i].set_text(nbb_formatted_code);\n",
       "                        }\n",
       "                        break;\n",
       "                    }\n",
       "                }\n",
       "            }, 500);\n",
       "            "
      ],
      "text/plain": [
       "<IPython.core.display.Javascript object>"
      ]
     },
     "metadata": {},
     "output_type": "display_data"
    }
   ],
   "source": [
    "# Emp Length\n",
    "df[\"emp_length2\"] = df[\"emp_length\"].apply(\n",
    "    lambda x: \"1-2 years\" if (x in nullemplen) else \">2 years\"\n",
    ")"
   ]
  },
  {
   "cell_type": "code",
   "execution_count": 13,
   "metadata": {},
   "outputs": [
    {
     "data": {
      "application/javascript": [
       "\n",
       "            setTimeout(function() {\n",
       "                var nbb_cell_id = 13;\n",
       "                var nbb_unformatted_code = \"# Loan Amount\\ndf[\\\"loan_amnt2\\\"] = df[\\\"loan_amnt\\\"].apply(\\n    lambda x: \\\"<=1k\\\"\\n    if (x <= 1000)\\n    else (\\\"1-10k\\\" if (x > 1000 and x <= 10000) else \\\">10k\\\")\\n)\";\n",
       "                var nbb_formatted_code = \"# Loan Amount\\ndf[\\\"loan_amnt2\\\"] = df[\\\"loan_amnt\\\"].apply(\\n    lambda x: \\\"<=1k\\\"\\n    if (x <= 1000)\\n    else (\\\"1-10k\\\" if (x > 1000 and x <= 10000) else \\\">10k\\\")\\n)\";\n",
       "                var nbb_cells = Jupyter.notebook.get_cells();\n",
       "                for (var i = 0; i < nbb_cells.length; ++i) {\n",
       "                    if (nbb_cells[i].input_prompt_number == nbb_cell_id) {\n",
       "                        if (nbb_cells[i].get_text() == nbb_unformatted_code) {\n",
       "                             nbb_cells[i].set_text(nbb_formatted_code);\n",
       "                        }\n",
       "                        break;\n",
       "                    }\n",
       "                }\n",
       "            }, 500);\n",
       "            "
      ],
      "text/plain": [
       "<IPython.core.display.Javascript object>"
      ]
     },
     "metadata": {},
     "output_type": "display_data"
    }
   ],
   "source": [
    "# Loan Amount\n",
    "df[\"loan_amnt2\"] = df[\"loan_amnt\"].apply(\n",
    "    lambda x: \"<=1k\"\n",
    "    if (x <= 1000)\n",
    "    else (\"1-10k\" if (x > 1000 and x <= 10000) else \">10k\")\n",
    ")"
   ]
  },
  {
   "cell_type": "code",
   "execution_count": 14,
   "metadata": {},
   "outputs": [
    {
     "data": {
      "text/html": [
       "<div>\n",
       "<style scoped>\n",
       "    .dataframe tbody tr th:only-of-type {\n",
       "        vertical-align: middle;\n",
       "    }\n",
       "\n",
       "    .dataframe tbody tr th {\n",
       "        vertical-align: top;\n",
       "    }\n",
       "\n",
       "    .dataframe thead th {\n",
       "        text-align: right;\n",
       "    }\n",
       "</style>\n",
       "<table border=\"1\" class=\"dataframe\">\n",
       "  <thead>\n",
       "    <tr style=\"text-align: right;\">\n",
       "      <th></th>\n",
       "      <th>Group_2</th>\n",
       "      <th>Group_1</th>\n",
       "      <th>woe</th>\n",
       "      <th>iv_total_final</th>\n",
       "      <th>good</th>\n",
       "      <th>bad</th>\n",
       "      <th>col_perc_a</th>\n",
       "      <th>col_perc_b</th>\n",
       "      <th>iv_bins</th>\n",
       "    </tr>\n",
       "  </thead>\n",
       "  <tbody>\n",
       "    <tr>\n",
       "      <th>37</th>\n",
       "      <td>misc. level neg.</td>\n",
       "      <td>PA</td>\n",
       "      <td>-15.802180</td>\n",
       "      <td>0.024348</td>\n",
       "      <td>4880</td>\n",
       "      <td>1466</td>\n",
       "      <td>0.413244</td>\n",
       "      <td>0.483988</td>\n",
       "      <td>0.011179</td>\n",
       "    </tr>\n",
       "    <tr>\n",
       "      <th>34</th>\n",
       "      <td>misc. level neg.</td>\n",
       "      <td>OH</td>\n",
       "      <td>-15.802180</td>\n",
       "      <td>0.024348</td>\n",
       "      <td>4880</td>\n",
       "      <td>1466</td>\n",
       "      <td>0.413244</td>\n",
       "      <td>0.483988</td>\n",
       "      <td>0.011179</td>\n",
       "    </tr>\n",
       "    <tr>\n",
       "      <th>26</th>\n",
       "      <td>misc. level neg.</td>\n",
       "      <td>NC</td>\n",
       "      <td>-15.802180</td>\n",
       "      <td>0.024348</td>\n",
       "      <td>4880</td>\n",
       "      <td>1466</td>\n",
       "      <td>0.413244</td>\n",
       "      <td>0.483988</td>\n",
       "      <td>0.011179</td>\n",
       "    </tr>\n",
       "    <tr>\n",
       "      <th>19</th>\n",
       "      <td>misc. level neg.</td>\n",
       "      <td>MD</td>\n",
       "      <td>-15.802180</td>\n",
       "      <td>0.024348</td>\n",
       "      <td>4880</td>\n",
       "      <td>1466</td>\n",
       "      <td>0.413244</td>\n",
       "      <td>0.483988</td>\n",
       "      <td>0.011179</td>\n",
       "    </tr>\n",
       "    <tr>\n",
       "      <th>30</th>\n",
       "      <td>misc. level neg.</td>\n",
       "      <td>NJ</td>\n",
       "      <td>-15.802180</td>\n",
       "      <td>0.024348</td>\n",
       "      <td>4880</td>\n",
       "      <td>1466</td>\n",
       "      <td>0.413244</td>\n",
       "      <td>0.483988</td>\n",
       "      <td>0.011179</td>\n",
       "    </tr>\n",
       "    <tr>\n",
       "      <th>14</th>\n",
       "      <td>misc. level neg.</td>\n",
       "      <td>IN</td>\n",
       "      <td>-15.802180</td>\n",
       "      <td>0.024348</td>\n",
       "      <td>4880</td>\n",
       "      <td>1466</td>\n",
       "      <td>0.413244</td>\n",
       "      <td>0.483988</td>\n",
       "      <td>0.011179</td>\n",
       "    </tr>\n",
       "    <tr>\n",
       "      <th>23</th>\n",
       "      <td>misc. level neg.</td>\n",
       "      <td>MO</td>\n",
       "      <td>-15.802180</td>\n",
       "      <td>0.024348</td>\n",
       "      <td>4880</td>\n",
       "      <td>1466</td>\n",
       "      <td>0.413244</td>\n",
       "      <td>0.483988</td>\n",
       "      <td>0.011179</td>\n",
       "    </tr>\n",
       "    <tr>\n",
       "      <th>32</th>\n",
       "      <td>misc. level neg.</td>\n",
       "      <td>NV</td>\n",
       "      <td>-15.802180</td>\n",
       "      <td>0.024348</td>\n",
       "      <td>4880</td>\n",
       "      <td>1466</td>\n",
       "      <td>0.413244</td>\n",
       "      <td>0.483988</td>\n",
       "      <td>0.011179</td>\n",
       "    </tr>\n",
       "    <tr>\n",
       "      <th>1</th>\n",
       "      <td>misc. level neg.</td>\n",
       "      <td>AL</td>\n",
       "      <td>-15.802180</td>\n",
       "      <td>0.024348</td>\n",
       "      <td>4880</td>\n",
       "      <td>1466</td>\n",
       "      <td>0.413244</td>\n",
       "      <td>0.483988</td>\n",
       "      <td>0.011179</td>\n",
       "    </tr>\n",
       "    <tr>\n",
       "      <th>41</th>\n",
       "      <td>misc. level neg.</td>\n",
       "      <td>TN</td>\n",
       "      <td>-15.802180</td>\n",
       "      <td>0.024348</td>\n",
       "      <td>4880</td>\n",
       "      <td>1466</td>\n",
       "      <td>0.413244</td>\n",
       "      <td>0.483988</td>\n",
       "      <td>0.011179</td>\n",
       "    </tr>\n",
       "    <tr>\n",
       "      <th>12</th>\n",
       "      <td>misc. level neg.</td>\n",
       "      <td>ID</td>\n",
       "      <td>-15.802180</td>\n",
       "      <td>0.024348</td>\n",
       "      <td>4880</td>\n",
       "      <td>1466</td>\n",
       "      <td>0.413244</td>\n",
       "      <td>0.483988</td>\n",
       "      <td>0.011179</td>\n",
       "    </tr>\n",
       "    <tr>\n",
       "      <th>28</th>\n",
       "      <td>misc. level neg.</td>\n",
       "      <td>NE</td>\n",
       "      <td>-15.802180</td>\n",
       "      <td>0.024348</td>\n",
       "      <td>4880</td>\n",
       "      <td>1466</td>\n",
       "      <td>0.413244</td>\n",
       "      <td>0.483988</td>\n",
       "      <td>0.011179</td>\n",
       "    </tr>\n",
       "    <tr>\n",
       "      <th>0</th>\n",
       "      <td>misc. level neg.</td>\n",
       "      <td>AK</td>\n",
       "      <td>-15.802180</td>\n",
       "      <td>0.024348</td>\n",
       "      <td>4880</td>\n",
       "      <td>1466</td>\n",
       "      <td>0.413244</td>\n",
       "      <td>0.483988</td>\n",
       "      <td>0.011179</td>\n",
       "    </tr>\n",
       "    <tr>\n",
       "      <th>27</th>\n",
       "      <td>misc. level neg.</td>\n",
       "      <td>ND</td>\n",
       "      <td>-15.802180</td>\n",
       "      <td>0.024348</td>\n",
       "      <td>4880</td>\n",
       "      <td>1466</td>\n",
       "      <td>0.413244</td>\n",
       "      <td>0.483988</td>\n",
       "      <td>0.011179</td>\n",
       "    </tr>\n",
       "    <tr>\n",
       "      <th>35</th>\n",
       "      <td>misc. level neg.</td>\n",
       "      <td>OK</td>\n",
       "      <td>-15.802180</td>\n",
       "      <td>0.024348</td>\n",
       "      <td>4880</td>\n",
       "      <td>1466</td>\n",
       "      <td>0.413244</td>\n",
       "      <td>0.483988</td>\n",
       "      <td>0.011179</td>\n",
       "    </tr>\n",
       "    <tr>\n",
       "      <th>16</th>\n",
       "      <td>misc. level neg.</td>\n",
       "      <td>KY</td>\n",
       "      <td>-15.802180</td>\n",
       "      <td>0.024348</td>\n",
       "      <td>4880</td>\n",
       "      <td>1466</td>\n",
       "      <td>0.413244</td>\n",
       "      <td>0.483988</td>\n",
       "      <td>0.011179</td>\n",
       "    </tr>\n",
       "    <tr>\n",
       "      <th>24</th>\n",
       "      <td>misc. level neg.</td>\n",
       "      <td>MS</td>\n",
       "      <td>-15.802180</td>\n",
       "      <td>0.024348</td>\n",
       "      <td>4880</td>\n",
       "      <td>1466</td>\n",
       "      <td>0.413244</td>\n",
       "      <td>0.483988</td>\n",
       "      <td>0.011179</td>\n",
       "    </tr>\n",
       "    <tr>\n",
       "      <th>17</th>\n",
       "      <td>misc. level neg.</td>\n",
       "      <td>LA</td>\n",
       "      <td>-15.802180</td>\n",
       "      <td>0.024348</td>\n",
       "      <td>4880</td>\n",
       "      <td>1466</td>\n",
       "      <td>0.413244</td>\n",
       "      <td>0.483988</td>\n",
       "      <td>0.011179</td>\n",
       "    </tr>\n",
       "    <tr>\n",
       "      <th>2</th>\n",
       "      <td>misc. level neg.</td>\n",
       "      <td>AR</td>\n",
       "      <td>-15.802180</td>\n",
       "      <td>0.024348</td>\n",
       "      <td>4880</td>\n",
       "      <td>1466</td>\n",
       "      <td>0.413244</td>\n",
       "      <td>0.483988</td>\n",
       "      <td>0.011179</td>\n",
       "    </tr>\n",
       "    <tr>\n",
       "      <th>9</th>\n",
       "      <td>misc. level neg.</td>\n",
       "      <td>FL</td>\n",
       "      <td>-15.802180</td>\n",
       "      <td>0.024348</td>\n",
       "      <td>4880</td>\n",
       "      <td>1466</td>\n",
       "      <td>0.413244</td>\n",
       "      <td>0.483988</td>\n",
       "      <td>0.011179</td>\n",
       "    </tr>\n",
       "    <tr>\n",
       "      <th>33</th>\n",
       "      <td>misc. level neg.</td>\n",
       "      <td>NY</td>\n",
       "      <td>-15.802180</td>\n",
       "      <td>0.024348</td>\n",
       "      <td>4880</td>\n",
       "      <td>1466</td>\n",
       "      <td>0.413244</td>\n",
       "      <td>0.483988</td>\n",
       "      <td>0.011179</td>\n",
       "    </tr>\n",
       "    <tr>\n",
       "      <th>4</th>\n",
       "      <td>CA</td>\n",
       "      <td>CA</td>\n",
       "      <td>-1.427191</td>\n",
       "      <td>0.024348</td>\n",
       "      <td>1718</td>\n",
       "      <td>447</td>\n",
       "      <td>0.145482</td>\n",
       "      <td>0.147573</td>\n",
       "      <td>0.000030</td>\n",
       "    </tr>\n",
       "    <tr>\n",
       "      <th>13</th>\n",
       "      <td>misc. level pos.</td>\n",
       "      <td>IL</td>\n",
       "      <td>18.039149</td>\n",
       "      <td>0.024348</td>\n",
       "      <td>5211</td>\n",
       "      <td>1116</td>\n",
       "      <td>0.441274</td>\n",
       "      <td>0.368438</td>\n",
       "      <td>0.013139</td>\n",
       "    </tr>\n",
       "    <tr>\n",
       "      <th>10</th>\n",
       "      <td>misc. level pos.</td>\n",
       "      <td>GA</td>\n",
       "      <td>18.039149</td>\n",
       "      <td>0.024348</td>\n",
       "      <td>5211</td>\n",
       "      <td>1116</td>\n",
       "      <td>0.441274</td>\n",
       "      <td>0.368438</td>\n",
       "      <td>0.013139</td>\n",
       "    </tr>\n",
       "    <tr>\n",
       "      <th>44</th>\n",
       "      <td>misc. level pos.</td>\n",
       "      <td>VA</td>\n",
       "      <td>18.039149</td>\n",
       "      <td>0.024348</td>\n",
       "      <td>5211</td>\n",
       "      <td>1116</td>\n",
       "      <td>0.441274</td>\n",
       "      <td>0.368438</td>\n",
       "      <td>0.013139</td>\n",
       "    </tr>\n",
       "    <tr>\n",
       "      <th>21</th>\n",
       "      <td>misc. level pos.</td>\n",
       "      <td>MI</td>\n",
       "      <td>18.039149</td>\n",
       "      <td>0.024348</td>\n",
       "      <td>5211</td>\n",
       "      <td>1116</td>\n",
       "      <td>0.441274</td>\n",
       "      <td>0.368438</td>\n",
       "      <td>0.013139</td>\n",
       "    </tr>\n",
       "    <tr>\n",
       "      <th>3</th>\n",
       "      <td>misc. level pos.</td>\n",
       "      <td>AZ</td>\n",
       "      <td>18.039149</td>\n",
       "      <td>0.024348</td>\n",
       "      <td>5211</td>\n",
       "      <td>1116</td>\n",
       "      <td>0.441274</td>\n",
       "      <td>0.368438</td>\n",
       "      <td>0.013139</td>\n",
       "    </tr>\n",
       "    <tr>\n",
       "      <th>18</th>\n",
       "      <td>misc. level pos.</td>\n",
       "      <td>MA</td>\n",
       "      <td>18.039149</td>\n",
       "      <td>0.024348</td>\n",
       "      <td>5211</td>\n",
       "      <td>1116</td>\n",
       "      <td>0.441274</td>\n",
       "      <td>0.368438</td>\n",
       "      <td>0.013139</td>\n",
       "    </tr>\n",
       "    <tr>\n",
       "      <th>43</th>\n",
       "      <td>misc. level pos.</td>\n",
       "      <td>UT</td>\n",
       "      <td>18.039149</td>\n",
       "      <td>0.024348</td>\n",
       "      <td>5211</td>\n",
       "      <td>1116</td>\n",
       "      <td>0.441274</td>\n",
       "      <td>0.368438</td>\n",
       "      <td>0.013139</td>\n",
       "    </tr>\n",
       "    <tr>\n",
       "      <th>11</th>\n",
       "      <td>misc. level pos.</td>\n",
       "      <td>HI</td>\n",
       "      <td>18.039149</td>\n",
       "      <td>0.024348</td>\n",
       "      <td>5211</td>\n",
       "      <td>1116</td>\n",
       "      <td>0.441274</td>\n",
       "      <td>0.368438</td>\n",
       "      <td>0.013139</td>\n",
       "    </tr>\n",
       "    <tr>\n",
       "      <th>29</th>\n",
       "      <td>misc. level pos.</td>\n",
       "      <td>NH</td>\n",
       "      <td>18.039149</td>\n",
       "      <td>0.024348</td>\n",
       "      <td>5211</td>\n",
       "      <td>1116</td>\n",
       "      <td>0.441274</td>\n",
       "      <td>0.368438</td>\n",
       "      <td>0.013139</td>\n",
       "    </tr>\n",
       "    <tr>\n",
       "      <th>31</th>\n",
       "      <td>misc. level pos.</td>\n",
       "      <td>NM</td>\n",
       "      <td>18.039149</td>\n",
       "      <td>0.024348</td>\n",
       "      <td>5211</td>\n",
       "      <td>1116</td>\n",
       "      <td>0.441274</td>\n",
       "      <td>0.368438</td>\n",
       "      <td>0.013139</td>\n",
       "    </tr>\n",
       "    <tr>\n",
       "      <th>38</th>\n",
       "      <td>misc. level pos.</td>\n",
       "      <td>RI</td>\n",
       "      <td>18.039149</td>\n",
       "      <td>0.024348</td>\n",
       "      <td>5211</td>\n",
       "      <td>1116</td>\n",
       "      <td>0.441274</td>\n",
       "      <td>0.368438</td>\n",
       "      <td>0.013139</td>\n",
       "    </tr>\n",
       "    <tr>\n",
       "      <th>48</th>\n",
       "      <td>misc. level pos.</td>\n",
       "      <td>WV</td>\n",
       "      <td>18.039149</td>\n",
       "      <td>0.024348</td>\n",
       "      <td>5211</td>\n",
       "      <td>1116</td>\n",
       "      <td>0.441274</td>\n",
       "      <td>0.368438</td>\n",
       "      <td>0.013139</td>\n",
       "    </tr>\n",
       "    <tr>\n",
       "      <th>8</th>\n",
       "      <td>misc. level pos.</td>\n",
       "      <td>DE</td>\n",
       "      <td>18.039149</td>\n",
       "      <td>0.024348</td>\n",
       "      <td>5211</td>\n",
       "      <td>1116</td>\n",
       "      <td>0.441274</td>\n",
       "      <td>0.368438</td>\n",
       "      <td>0.013139</td>\n",
       "    </tr>\n",
       "    <tr>\n",
       "      <th>25</th>\n",
       "      <td>misc. level pos.</td>\n",
       "      <td>MT</td>\n",
       "      <td>18.039149</td>\n",
       "      <td>0.024348</td>\n",
       "      <td>5211</td>\n",
       "      <td>1116</td>\n",
       "      <td>0.441274</td>\n",
       "      <td>0.368438</td>\n",
       "      <td>0.013139</td>\n",
       "    </tr>\n",
       "    <tr>\n",
       "      <th>7</th>\n",
       "      <td>misc. level pos.</td>\n",
       "      <td>DC</td>\n",
       "      <td>18.039149</td>\n",
       "      <td>0.024348</td>\n",
       "      <td>5211</td>\n",
       "      <td>1116</td>\n",
       "      <td>0.441274</td>\n",
       "      <td>0.368438</td>\n",
       "      <td>0.013139</td>\n",
       "    </tr>\n",
       "    <tr>\n",
       "      <th>40</th>\n",
       "      <td>misc. level pos.</td>\n",
       "      <td>SD</td>\n",
       "      <td>18.039149</td>\n",
       "      <td>0.024348</td>\n",
       "      <td>5211</td>\n",
       "      <td>1116</td>\n",
       "      <td>0.441274</td>\n",
       "      <td>0.368438</td>\n",
       "      <td>0.013139</td>\n",
       "    </tr>\n",
       "    <tr>\n",
       "      <th>46</th>\n",
       "      <td>misc. level pos.</td>\n",
       "      <td>WA</td>\n",
       "      <td>18.039149</td>\n",
       "      <td>0.024348</td>\n",
       "      <td>5211</td>\n",
       "      <td>1116</td>\n",
       "      <td>0.441274</td>\n",
       "      <td>0.368438</td>\n",
       "      <td>0.013139</td>\n",
       "    </tr>\n",
       "    <tr>\n",
       "      <th>49</th>\n",
       "      <td>misc. level pos.</td>\n",
       "      <td>WY</td>\n",
       "      <td>18.039149</td>\n",
       "      <td>0.024348</td>\n",
       "      <td>5211</td>\n",
       "      <td>1116</td>\n",
       "      <td>0.441274</td>\n",
       "      <td>0.368438</td>\n",
       "      <td>0.013139</td>\n",
       "    </tr>\n",
       "    <tr>\n",
       "      <th>20</th>\n",
       "      <td>misc. level pos.</td>\n",
       "      <td>ME</td>\n",
       "      <td>18.039149</td>\n",
       "      <td>0.024348</td>\n",
       "      <td>5211</td>\n",
       "      <td>1116</td>\n",
       "      <td>0.441274</td>\n",
       "      <td>0.368438</td>\n",
       "      <td>0.013139</td>\n",
       "    </tr>\n",
       "    <tr>\n",
       "      <th>45</th>\n",
       "      <td>misc. level pos.</td>\n",
       "      <td>VT</td>\n",
       "      <td>18.039149</td>\n",
       "      <td>0.024348</td>\n",
       "      <td>5211</td>\n",
       "      <td>1116</td>\n",
       "      <td>0.441274</td>\n",
       "      <td>0.368438</td>\n",
       "      <td>0.013139</td>\n",
       "    </tr>\n",
       "    <tr>\n",
       "      <th>5</th>\n",
       "      <td>misc. level pos.</td>\n",
       "      <td>CO</td>\n",
       "      <td>18.039149</td>\n",
       "      <td>0.024348</td>\n",
       "      <td>5211</td>\n",
       "      <td>1116</td>\n",
       "      <td>0.441274</td>\n",
       "      <td>0.368438</td>\n",
       "      <td>0.013139</td>\n",
       "    </tr>\n",
       "    <tr>\n",
       "      <th>15</th>\n",
       "      <td>misc. level pos.</td>\n",
       "      <td>KS</td>\n",
       "      <td>18.039149</td>\n",
       "      <td>0.024348</td>\n",
       "      <td>5211</td>\n",
       "      <td>1116</td>\n",
       "      <td>0.441274</td>\n",
       "      <td>0.368438</td>\n",
       "      <td>0.013139</td>\n",
       "    </tr>\n",
       "    <tr>\n",
       "      <th>22</th>\n",
       "      <td>misc. level pos.</td>\n",
       "      <td>MN</td>\n",
       "      <td>18.039149</td>\n",
       "      <td>0.024348</td>\n",
       "      <td>5211</td>\n",
       "      <td>1116</td>\n",
       "      <td>0.441274</td>\n",
       "      <td>0.368438</td>\n",
       "      <td>0.013139</td>\n",
       "    </tr>\n",
       "    <tr>\n",
       "      <th>39</th>\n",
       "      <td>misc. level pos.</td>\n",
       "      <td>SC</td>\n",
       "      <td>18.039149</td>\n",
       "      <td>0.024348</td>\n",
       "      <td>5211</td>\n",
       "      <td>1116</td>\n",
       "      <td>0.441274</td>\n",
       "      <td>0.368438</td>\n",
       "      <td>0.013139</td>\n",
       "    </tr>\n",
       "    <tr>\n",
       "      <th>36</th>\n",
       "      <td>misc. level pos.</td>\n",
       "      <td>OR</td>\n",
       "      <td>18.039149</td>\n",
       "      <td>0.024348</td>\n",
       "      <td>5211</td>\n",
       "      <td>1116</td>\n",
       "      <td>0.441274</td>\n",
       "      <td>0.368438</td>\n",
       "      <td>0.013139</td>\n",
       "    </tr>\n",
       "    <tr>\n",
       "      <th>6</th>\n",
       "      <td>misc. level pos.</td>\n",
       "      <td>CT</td>\n",
       "      <td>18.039149</td>\n",
       "      <td>0.024348</td>\n",
       "      <td>5211</td>\n",
       "      <td>1116</td>\n",
       "      <td>0.441274</td>\n",
       "      <td>0.368438</td>\n",
       "      <td>0.013139</td>\n",
       "    </tr>\n",
       "    <tr>\n",
       "      <th>47</th>\n",
       "      <td>misc. level pos.</td>\n",
       "      <td>WI</td>\n",
       "      <td>18.039149</td>\n",
       "      <td>0.024348</td>\n",
       "      <td>5211</td>\n",
       "      <td>1116</td>\n",
       "      <td>0.441274</td>\n",
       "      <td>0.368438</td>\n",
       "      <td>0.013139</td>\n",
       "    </tr>\n",
       "    <tr>\n",
       "      <th>42</th>\n",
       "      <td>misc. level pos.</td>\n",
       "      <td>TX</td>\n",
       "      <td>18.039149</td>\n",
       "      <td>0.024348</td>\n",
       "      <td>5211</td>\n",
       "      <td>1116</td>\n",
       "      <td>0.441274</td>\n",
       "      <td>0.368438</td>\n",
       "      <td>0.013139</td>\n",
       "    </tr>\n",
       "  </tbody>\n",
       "</table>\n",
       "</div>"
      ],
      "text/plain": [
       "             Group_2 Group_1        woe  iv_total_final  good   bad  \\\n",
       "37  misc. level neg.      PA -15.802180        0.024348  4880  1466   \n",
       "34  misc. level neg.      OH -15.802180        0.024348  4880  1466   \n",
       "26  misc. level neg.      NC -15.802180        0.024348  4880  1466   \n",
       "19  misc. level neg.      MD -15.802180        0.024348  4880  1466   \n",
       "30  misc. level neg.      NJ -15.802180        0.024348  4880  1466   \n",
       "14  misc. level neg.      IN -15.802180        0.024348  4880  1466   \n",
       "23  misc. level neg.      MO -15.802180        0.024348  4880  1466   \n",
       "32  misc. level neg.      NV -15.802180        0.024348  4880  1466   \n",
       "1   misc. level neg.      AL -15.802180        0.024348  4880  1466   \n",
       "41  misc. level neg.      TN -15.802180        0.024348  4880  1466   \n",
       "12  misc. level neg.      ID -15.802180        0.024348  4880  1466   \n",
       "28  misc. level neg.      NE -15.802180        0.024348  4880  1466   \n",
       "0   misc. level neg.      AK -15.802180        0.024348  4880  1466   \n",
       "27  misc. level neg.      ND -15.802180        0.024348  4880  1466   \n",
       "35  misc. level neg.      OK -15.802180        0.024348  4880  1466   \n",
       "16  misc. level neg.      KY -15.802180        0.024348  4880  1466   \n",
       "24  misc. level neg.      MS -15.802180        0.024348  4880  1466   \n",
       "17  misc. level neg.      LA -15.802180        0.024348  4880  1466   \n",
       "2   misc. level neg.      AR -15.802180        0.024348  4880  1466   \n",
       "9   misc. level neg.      FL -15.802180        0.024348  4880  1466   \n",
       "33  misc. level neg.      NY -15.802180        0.024348  4880  1466   \n",
       "4                 CA      CA  -1.427191        0.024348  1718   447   \n",
       "13  misc. level pos.      IL  18.039149        0.024348  5211  1116   \n",
       "10  misc. level pos.      GA  18.039149        0.024348  5211  1116   \n",
       "44  misc. level pos.      VA  18.039149        0.024348  5211  1116   \n",
       "21  misc. level pos.      MI  18.039149        0.024348  5211  1116   \n",
       "3   misc. level pos.      AZ  18.039149        0.024348  5211  1116   \n",
       "18  misc. level pos.      MA  18.039149        0.024348  5211  1116   \n",
       "43  misc. level pos.      UT  18.039149        0.024348  5211  1116   \n",
       "11  misc. level pos.      HI  18.039149        0.024348  5211  1116   \n",
       "29  misc. level pos.      NH  18.039149        0.024348  5211  1116   \n",
       "31  misc. level pos.      NM  18.039149        0.024348  5211  1116   \n",
       "38  misc. level pos.      RI  18.039149        0.024348  5211  1116   \n",
       "48  misc. level pos.      WV  18.039149        0.024348  5211  1116   \n",
       "8   misc. level pos.      DE  18.039149        0.024348  5211  1116   \n",
       "25  misc. level pos.      MT  18.039149        0.024348  5211  1116   \n",
       "7   misc. level pos.      DC  18.039149        0.024348  5211  1116   \n",
       "40  misc. level pos.      SD  18.039149        0.024348  5211  1116   \n",
       "46  misc. level pos.      WA  18.039149        0.024348  5211  1116   \n",
       "49  misc. level pos.      WY  18.039149        0.024348  5211  1116   \n",
       "20  misc. level pos.      ME  18.039149        0.024348  5211  1116   \n",
       "45  misc. level pos.      VT  18.039149        0.024348  5211  1116   \n",
       "5   misc. level pos.      CO  18.039149        0.024348  5211  1116   \n",
       "15  misc. level pos.      KS  18.039149        0.024348  5211  1116   \n",
       "22  misc. level pos.      MN  18.039149        0.024348  5211  1116   \n",
       "39  misc. level pos.      SC  18.039149        0.024348  5211  1116   \n",
       "36  misc. level pos.      OR  18.039149        0.024348  5211  1116   \n",
       "6   misc. level pos.      CT  18.039149        0.024348  5211  1116   \n",
       "47  misc. level pos.      WI  18.039149        0.024348  5211  1116   \n",
       "42  misc. level pos.      TX  18.039149        0.024348  5211  1116   \n",
       "\n",
       "    col_perc_a  col_perc_b   iv_bins  \n",
       "37    0.413244    0.483988  0.011179  \n",
       "34    0.413244    0.483988  0.011179  \n",
       "26    0.413244    0.483988  0.011179  \n",
       "19    0.413244    0.483988  0.011179  \n",
       "30    0.413244    0.483988  0.011179  \n",
       "14    0.413244    0.483988  0.011179  \n",
       "23    0.413244    0.483988  0.011179  \n",
       "32    0.413244    0.483988  0.011179  \n",
       "1     0.413244    0.483988  0.011179  \n",
       "41    0.413244    0.483988  0.011179  \n",
       "12    0.413244    0.483988  0.011179  \n",
       "28    0.413244    0.483988  0.011179  \n",
       "0     0.413244    0.483988  0.011179  \n",
       "27    0.413244    0.483988  0.011179  \n",
       "35    0.413244    0.483988  0.011179  \n",
       "16    0.413244    0.483988  0.011179  \n",
       "24    0.413244    0.483988  0.011179  \n",
       "17    0.413244    0.483988  0.011179  \n",
       "2     0.413244    0.483988  0.011179  \n",
       "9     0.413244    0.483988  0.011179  \n",
       "33    0.413244    0.483988  0.011179  \n",
       "4     0.145482    0.147573  0.000030  \n",
       "13    0.441274    0.368438  0.013139  \n",
       "10    0.441274    0.368438  0.013139  \n",
       "44    0.441274    0.368438  0.013139  \n",
       "21    0.441274    0.368438  0.013139  \n",
       "3     0.441274    0.368438  0.013139  \n",
       "18    0.441274    0.368438  0.013139  \n",
       "43    0.441274    0.368438  0.013139  \n",
       "11    0.441274    0.368438  0.013139  \n",
       "29    0.441274    0.368438  0.013139  \n",
       "31    0.441274    0.368438  0.013139  \n",
       "38    0.441274    0.368438  0.013139  \n",
       "48    0.441274    0.368438  0.013139  \n",
       "8     0.441274    0.368438  0.013139  \n",
       "25    0.441274    0.368438  0.013139  \n",
       "7     0.441274    0.368438  0.013139  \n",
       "40    0.441274    0.368438  0.013139  \n",
       "46    0.441274    0.368438  0.013139  \n",
       "49    0.441274    0.368438  0.013139  \n",
       "20    0.441274    0.368438  0.013139  \n",
       "45    0.441274    0.368438  0.013139  \n",
       "5     0.441274    0.368438  0.013139  \n",
       "15    0.441274    0.368438  0.013139  \n",
       "22    0.441274    0.368438  0.013139  \n",
       "39    0.441274    0.368438  0.013139  \n",
       "36    0.441274    0.368438  0.013139  \n",
       "6     0.441274    0.368438  0.013139  \n",
       "47    0.441274    0.368438  0.013139  \n",
       "42    0.441274    0.368438  0.013139  "
      ]
     },
     "execution_count": 14,
     "metadata": {},
     "output_type": "execute_result"
    },
    {
     "data": {
      "application/javascript": [
       "\n",
       "            setTimeout(function() {\n",
       "                var nbb_cell_id = 14;\n",
       "                var nbb_unformatted_code = \"# State\\nbinning = woeBinningPandas.woe_binning(\\n    df, \\\"target\\\", \\\"addr_state\\\", 0.1, 0.1, 50, 100, \\\"bad\\\"\\n)\\nbinning\";\n",
       "                var nbb_formatted_code = \"# State\\nbinning = woeBinningPandas.woe_binning(\\n    df, \\\"target\\\", \\\"addr_state\\\", 0.1, 0.1, 50, 100, \\\"bad\\\"\\n)\\nbinning\";\n",
       "                var nbb_cells = Jupyter.notebook.get_cells();\n",
       "                for (var i = 0; i < nbb_cells.length; ++i) {\n",
       "                    if (nbb_cells[i].input_prompt_number == nbb_cell_id) {\n",
       "                        if (nbb_cells[i].get_text() == nbb_unformatted_code) {\n",
       "                             nbb_cells[i].set_text(nbb_formatted_code);\n",
       "                        }\n",
       "                        break;\n",
       "                    }\n",
       "                }\n",
       "            }, 500);\n",
       "            "
      ],
      "text/plain": [
       "<IPython.core.display.Javascript object>"
      ]
     },
     "metadata": {},
     "output_type": "display_data"
    }
   ],
   "source": [
    "# State\n",
    "binning = woeBinningPandas.woe_binning(\n",
    "    df, \"target\", \"addr_state\", 0.1, 0.1, 50, 100, \"bad\"\n",
    ")\n",
    "binning"
   ]
  },
  {
   "cell_type": "code",
   "execution_count": 15,
   "metadata": {},
   "outputs": [
    {
     "data": {
      "application/javascript": [
       "\n",
       "            setTimeout(function() {\n",
       "                var nbb_cell_id = 15;\n",
       "                var nbb_unformatted_code = \"badstates = binning[\\\"Group_1\\\"][:25].tolist()\\ncalifornia = [\\\"CA\\\"]\\ngoodstates = binning[\\\"Group_1\\\"][27:].tolist()\";\n",
       "                var nbb_formatted_code = \"badstates = binning[\\\"Group_1\\\"][:25].tolist()\\ncalifornia = [\\\"CA\\\"]\\ngoodstates = binning[\\\"Group_1\\\"][27:].tolist()\";\n",
       "                var nbb_cells = Jupyter.notebook.get_cells();\n",
       "                for (var i = 0; i < nbb_cells.length; ++i) {\n",
       "                    if (nbb_cells[i].input_prompt_number == nbb_cell_id) {\n",
       "                        if (nbb_cells[i].get_text() == nbb_unformatted_code) {\n",
       "                             nbb_cells[i].set_text(nbb_formatted_code);\n",
       "                        }\n",
       "                        break;\n",
       "                    }\n",
       "                }\n",
       "            }, 500);\n",
       "            "
      ],
      "text/plain": [
       "<IPython.core.display.Javascript object>"
      ]
     },
     "metadata": {},
     "output_type": "display_data"
    }
   ],
   "source": [
    "badstates = binning[\"Group_1\"][:25].tolist()\n",
    "california = [\"CA\"]\n",
    "goodstates = binning[\"Group_1\"][27:].tolist()"
   ]
  },
  {
   "cell_type": "code",
   "execution_count": 16,
   "metadata": {},
   "outputs": [
    {
     "data": {
      "application/javascript": [
       "\n",
       "            setTimeout(function() {\n",
       "                var nbb_cell_id = 16;\n",
       "                var nbb_unformatted_code = \"df[\\\"addr_state2\\\"] = df[\\\"addr_state\\\"].apply(\\n    lambda x: \\\"California\\\"\\n    if (x == \\\"CA\\\")\\n    else (\\\"Bad state\\\" if (x in badstates) else \\\"Good state\\\")\\n)\";\n",
       "                var nbb_formatted_code = \"df[\\\"addr_state2\\\"] = df[\\\"addr_state\\\"].apply(\\n    lambda x: \\\"California\\\"\\n    if (x == \\\"CA\\\")\\n    else (\\\"Bad state\\\" if (x in badstates) else \\\"Good state\\\")\\n)\";\n",
       "                var nbb_cells = Jupyter.notebook.get_cells();\n",
       "                for (var i = 0; i < nbb_cells.length; ++i) {\n",
       "                    if (nbb_cells[i].input_prompt_number == nbb_cell_id) {\n",
       "                        if (nbb_cells[i].get_text() == nbb_unformatted_code) {\n",
       "                             nbb_cells[i].set_text(nbb_formatted_code);\n",
       "                        }\n",
       "                        break;\n",
       "                    }\n",
       "                }\n",
       "            }, 500);\n",
       "            "
      ],
      "text/plain": [
       "<IPython.core.display.Javascript object>"
      ]
     },
     "metadata": {},
     "output_type": "display_data"
    }
   ],
   "source": [
    "df[\"addr_state2\"] = df[\"addr_state\"].apply(\n",
    "    lambda x: \"California\"\n",
    "    if (x == \"CA\")\n",
    "    else (\"Bad state\" if (x in badstates) else \"Good state\")\n",
    ")"
   ]
  },
  {
   "cell_type": "code",
   "execution_count": 17,
   "metadata": {},
   "outputs": [
    {
     "data": {
      "application/javascript": [
       "\n",
       "            setTimeout(function() {\n",
       "                var nbb_cell_id = 17;\n",
       "                var nbb_unformatted_code = \"df2 = df[[\\\"id\\\", \\\"target\\\", \\\"loan_amnt2\\\", \\\"addr_state2\\\", \\\"emp_length2\\\"]]\";\n",
       "                var nbb_formatted_code = \"df2 = df[[\\\"id\\\", \\\"target\\\", \\\"loan_amnt2\\\", \\\"addr_state2\\\", \\\"emp_length2\\\"]]\";\n",
       "                var nbb_cells = Jupyter.notebook.get_cells();\n",
       "                for (var i = 0; i < nbb_cells.length; ++i) {\n",
       "                    if (nbb_cells[i].input_prompt_number == nbb_cell_id) {\n",
       "                        if (nbb_cells[i].get_text() == nbb_unformatted_code) {\n",
       "                             nbb_cells[i].set_text(nbb_formatted_code);\n",
       "                        }\n",
       "                        break;\n",
       "                    }\n",
       "                }\n",
       "            }, 500);\n",
       "            "
      ],
      "text/plain": [
       "<IPython.core.display.Javascript object>"
      ]
     },
     "metadata": {},
     "output_type": "display_data"
    }
   ],
   "source": [
    "df2 = df[[\"id\", \"target\", \"loan_amnt2\", \"addr_state2\", \"emp_length2\"]]"
   ]
  },
  {
   "cell_type": "code",
   "execution_count": 18,
   "metadata": {},
   "outputs": [
    {
     "data": {
      "application/javascript": [
       "\n",
       "            setTimeout(function() {\n",
       "                var nbb_cell_id = 18;\n",
       "                var nbb_unformatted_code = \"# Function to apply the bucketing to any future dataset:\\n\\n\\ndef binning(data):\\n    data[\\\"loan_amnt2\\\"] = data[\\\"loan_amnt\\\"].apply(\\n        lambda x: \\\"<=1k\\\"\\n        if (x <= 1000)\\n        else (\\\"1-10k\\\" if (x > 1000 and x <= 10000) else \\\">10k\\\")\\n    )\\n\\n    data[\\\"addr_state2\\\"] = data[\\\"addr_state\\\"].apply(\\n        lambda x: \\\"California\\\"\\n        if (x == \\\"CA\\\")\\n        else (\\\"Bad state\\\" if (x in badstates) else \\\"Good state\\\")\\n    )\\n\\n    data[\\\"emp_length2\\\"] = data[\\\"emp_length\\\"].apply(\\n        lambda x: \\\"1-2 years\\\" if (x in nullemplen) else \\\">2 years\\\"\\n    )\\n\\n    data = data[[\\\"id\\\", \\\"loan_amnt2\\\", \\\"addr_state2\\\", \\\"emp_length2\\\"]]\\n    return data\";\n",
       "                var nbb_formatted_code = \"# Function to apply the bucketing to any future dataset:\\n\\n\\ndef binning(data):\\n    data[\\\"loan_amnt2\\\"] = data[\\\"loan_amnt\\\"].apply(\\n        lambda x: \\\"<=1k\\\"\\n        if (x <= 1000)\\n        else (\\\"1-10k\\\" if (x > 1000 and x <= 10000) else \\\">10k\\\")\\n    )\\n\\n    data[\\\"addr_state2\\\"] = data[\\\"addr_state\\\"].apply(\\n        lambda x: \\\"California\\\"\\n        if (x == \\\"CA\\\")\\n        else (\\\"Bad state\\\" if (x in badstates) else \\\"Good state\\\")\\n    )\\n\\n    data[\\\"emp_length2\\\"] = data[\\\"emp_length\\\"].apply(\\n        lambda x: \\\"1-2 years\\\" if (x in nullemplen) else \\\">2 years\\\"\\n    )\\n\\n    data = data[[\\\"id\\\", \\\"loan_amnt2\\\", \\\"addr_state2\\\", \\\"emp_length2\\\"]]\\n    return data\";\n",
       "                var nbb_cells = Jupyter.notebook.get_cells();\n",
       "                for (var i = 0; i < nbb_cells.length; ++i) {\n",
       "                    if (nbb_cells[i].input_prompt_number == nbb_cell_id) {\n",
       "                        if (nbb_cells[i].get_text() == nbb_unformatted_code) {\n",
       "                             nbb_cells[i].set_text(nbb_formatted_code);\n",
       "                        }\n",
       "                        break;\n",
       "                    }\n",
       "                }\n",
       "            }, 500);\n",
       "            "
      ],
      "text/plain": [
       "<IPython.core.display.Javascript object>"
      ]
     },
     "metadata": {},
     "output_type": "display_data"
    }
   ],
   "source": [
    "# Function to apply the bucketing to any future dataset:\n",
    "\n",
    "\n",
    "def binning(data):\n",
    "    data[\"loan_amnt2\"] = data[\"loan_amnt\"].apply(\n",
    "        lambda x: \"<=1k\"\n",
    "        if (x <= 1000)\n",
    "        else (\"1-10k\" if (x > 1000 and x <= 10000) else \">10k\")\n",
    "    )\n",
    "\n",
    "    data[\"addr_state2\"] = data[\"addr_state\"].apply(\n",
    "        lambda x: \"California\"\n",
    "        if (x == \"CA\")\n",
    "        else (\"Bad state\" if (x in badstates) else \"Good state\")\n",
    "    )\n",
    "\n",
    "    data[\"emp_length2\"] = data[\"emp_length\"].apply(\n",
    "        lambda x: \"1-2 years\" if (x in nullemplen) else \">2 years\"\n",
    "    )\n",
    "\n",
    "    data = data[[\"id\", \"loan_amnt2\", \"addr_state2\", \"emp_length2\"]]\n",
    "    return data"
   ]
  },
  {
   "cell_type": "code",
   "execution_count": 19,
   "metadata": {},
   "outputs": [
    {
     "data": {
      "application/javascript": [
       "\n",
       "            setTimeout(function() {\n",
       "                var nbb_cell_id = 19;\n",
       "                var nbb_unformatted_code = \"# Function to explore differentiation of bucketing visually + cross tab:\\n\\n\\ndef diff_visual(data, variable):\\n    %matplotlib inline\\n    table = pd.crosstab(data[variable], df2[\\\"target\\\"])\\n    table.div(table.sum(1).astype(float), axis=0).plot(\\n        kind=\\\"bar\\\", color=[\\\"cadetblue\\\", \\\"crimson\\\"], stacked=True\\n    )\\n    plt.title(\\\"Stacked Bar Loan Amount vs Default Status\\\")\\n    # plt.xlabel(variable)\\n    plt.ylabel(\\\"Proportion of Accepts\\\")\\n\\n    x = pd.crosstab(data[variable], df2[\\\"target\\\"]).apply(lambda r: r / r.sum(), axis=1)\\n    x = pd.DataFrame(x)\\n\\n    return x\";\n",
       "                var nbb_formatted_code = \"# Function to explore differentiation of bucketing visually + cross tab:\\n\\n\\ndef diff_visual(data, variable):\\n    %matplotlib inline\\n    table = pd.crosstab(data[variable], df2[\\\"target\\\"])\\n    table.div(table.sum(1).astype(float), axis=0).plot(\\n        kind=\\\"bar\\\", color=[\\\"cadetblue\\\", \\\"crimson\\\"], stacked=True\\n    )\\n    plt.title(\\\"Stacked Bar Loan Amount vs Default Status\\\")\\n    # plt.xlabel(variable)\\n    plt.ylabel(\\\"Proportion of Accepts\\\")\\n\\n    x = pd.crosstab(data[variable], df2[\\\"target\\\"]).apply(lambda r: r / r.sum(), axis=1)\\n    x = pd.DataFrame(x)\\n\\n    return x\";\n",
       "                var nbb_cells = Jupyter.notebook.get_cells();\n",
       "                for (var i = 0; i < nbb_cells.length; ++i) {\n",
       "                    if (nbb_cells[i].input_prompt_number == nbb_cell_id) {\n",
       "                        if (nbb_cells[i].get_text() == nbb_unformatted_code) {\n",
       "                             nbb_cells[i].set_text(nbb_formatted_code);\n",
       "                        }\n",
       "                        break;\n",
       "                    }\n",
       "                }\n",
       "            }, 500);\n",
       "            "
      ],
      "text/plain": [
       "<IPython.core.display.Javascript object>"
      ]
     },
     "metadata": {},
     "output_type": "display_data"
    }
   ],
   "source": [
    "# Function to explore differentiation of bucketing visually + cross tab:\n",
    "\n",
    "\n",
    "def diff_visual(data, variable):\n",
    "    %matplotlib inline\n",
    "    table = pd.crosstab(data[variable], df2[\"target\"])\n",
    "    table.div(table.sum(1).astype(float), axis=0).plot(\n",
    "        kind=\"bar\", color=[\"cadetblue\", \"crimson\"], stacked=True\n",
    "    )\n",
    "    plt.title(\"Stacked Bar Loan Amount vs Default Status\")\n",
    "    # plt.xlabel(variable)\n",
    "    plt.ylabel(\"Proportion of Accepts\")\n",
    "\n",
    "    x = pd.crosstab(data[variable], df2[\"target\"]).apply(lambda r: r / r.sum(), axis=1)\n",
    "    x = pd.DataFrame(x)\n",
    "\n",
    "    return x"
   ]
  },
  {
   "cell_type": "code",
   "execution_count": 20,
   "metadata": {},
   "outputs": [
    {
     "data": {
      "text/html": [
       "<div>\n",
       "<style scoped>\n",
       "    .dataframe tbody tr th:only-of-type {\n",
       "        vertical-align: middle;\n",
       "    }\n",
       "\n",
       "    .dataframe tbody tr th {\n",
       "        vertical-align: top;\n",
       "    }\n",
       "\n",
       "    .dataframe thead th {\n",
       "        text-align: right;\n",
       "    }\n",
       "</style>\n",
       "<table border=\"1\" class=\"dataframe\">\n",
       "  <thead>\n",
       "    <tr style=\"text-align: right;\">\n",
       "      <th>target</th>\n",
       "      <th>0</th>\n",
       "      <th>1</th>\n",
       "    </tr>\n",
       "    <tr>\n",
       "      <th>loan_amnt2</th>\n",
       "      <th></th>\n",
       "      <th></th>\n",
       "    </tr>\n",
       "  </thead>\n",
       "  <tbody>\n",
       "    <tr>\n",
       "      <th>1-10k</th>\n",
       "      <td>0.823922</td>\n",
       "      <td>0.176078</td>\n",
       "    </tr>\n",
       "    <tr>\n",
       "      <th>&lt;=1k</th>\n",
       "      <td>0.892308</td>\n",
       "      <td>0.107692</td>\n",
       "    </tr>\n",
       "    <tr>\n",
       "      <th>&gt;10k</th>\n",
       "      <td>0.775151</td>\n",
       "      <td>0.224849</td>\n",
       "    </tr>\n",
       "  </tbody>\n",
       "</table>\n",
       "</div>"
      ],
      "text/plain": [
       "target             0         1\n",
       "loan_amnt2                    \n",
       "1-10k       0.823922  0.176078\n",
       "<=1k        0.892308  0.107692\n",
       ">10k        0.775151  0.224849"
      ]
     },
     "execution_count": 20,
     "metadata": {},
     "output_type": "execute_result"
    },
    {
     "data": {
      "image/png": "[encoded data removed]",
      "text/plain": [
       "<Figure size 432x288 with 1 Axes>"
      ]
     },
     "metadata": {
      "needs_background": "light"
     },
     "output_type": "display_data"
    },
    {
     "data": {
      "application/javascript": [
       "\n",
       "            setTimeout(function() {\n",
       "                var nbb_cell_id = 20;\n",
       "                var nbb_unformatted_code = \"diff_visual(df2, \\\"loan_amnt2\\\")\";\n",
       "                var nbb_formatted_code = \"diff_visual(df2, \\\"loan_amnt2\\\")\";\n",
       "                var nbb_cells = Jupyter.notebook.get_cells();\n",
       "                for (var i = 0; i < nbb_cells.length; ++i) {\n",
       "                    if (nbb_cells[i].input_prompt_number == nbb_cell_id) {\n",
       "                        if (nbb_cells[i].get_text() == nbb_unformatted_code) {\n",
       "                             nbb_cells[i].set_text(nbb_formatted_code);\n",
       "                        }\n",
       "                        break;\n",
       "                    }\n",
       "                }\n",
       "            }, 500);\n",
       "            "
      ],
      "text/plain": [
       "<IPython.core.display.Javascript object>"
      ]
     },
     "metadata": {},
     "output_type": "display_data"
    }
   ],
   "source": [
    "diff_visual(df2, \"loan_amnt2\")"
   ]
  },
  {
   "cell_type": "code",
   "execution_count": 21,
   "metadata": {},
   "outputs": [
    {
     "data": {
      "text/html": [
       "<div>\n",
       "<style scoped>\n",
       "    .dataframe tbody tr th:only-of-type {\n",
       "        vertical-align: middle;\n",
       "    }\n",
       "\n",
       "    .dataframe tbody tr th {\n",
       "        vertical-align: top;\n",
       "    }\n",
       "\n",
       "    .dataframe thead th {\n",
       "        text-align: right;\n",
       "    }\n",
       "</style>\n",
       "<table border=\"1\" class=\"dataframe\">\n",
       "  <thead>\n",
       "    <tr style=\"text-align: right;\">\n",
       "      <th>target</th>\n",
       "      <th>0</th>\n",
       "      <th>1</th>\n",
       "    </tr>\n",
       "    <tr>\n",
       "      <th>emp_length2</th>\n",
       "      <th></th>\n",
       "      <th></th>\n",
       "    </tr>\n",
       "  </thead>\n",
       "  <tbody>\n",
       "    <tr>\n",
       "      <th>1-2 years</th>\n",
       "      <td>0.801798</td>\n",
       "      <td>0.198202</td>\n",
       "    </tr>\n",
       "    <tr>\n",
       "      <th>&gt;2 years</th>\n",
       "      <td>0.773908</td>\n",
       "      <td>0.226092</td>\n",
       "    </tr>\n",
       "  </tbody>\n",
       "</table>\n",
       "</div>"
      ],
      "text/plain": [
       "target              0         1\n",
       "emp_length2                    \n",
       "1-2 years    0.801798  0.198202\n",
       ">2 years     0.773908  0.226092"
      ]
     },
     "execution_count": 21,
     "metadata": {},
     "output_type": "execute_result"
    },
    {
     "data": {
      "image/png": "[encoded data removed]",
      "text/plain": [
       "<Figure size 432x288 with 1 Axes>"
      ]
     },
     "metadata": {
      "needs_background": "light"
     },
     "output_type": "display_data"
    },
    {
     "data": {
      "application/javascript": [
       "\n",
       "            setTimeout(function() {\n",
       "                var nbb_cell_id = 21;\n",
       "                var nbb_unformatted_code = \"diff_visual(df2, \\\"emp_length2\\\")\";\n",
       "                var nbb_formatted_code = \"diff_visual(df2, \\\"emp_length2\\\")\";\n",
       "                var nbb_cells = Jupyter.notebook.get_cells();\n",
       "                for (var i = 0; i < nbb_cells.length; ++i) {\n",
       "                    if (nbb_cells[i].input_prompt_number == nbb_cell_id) {\n",
       "                        if (nbb_cells[i].get_text() == nbb_unformatted_code) {\n",
       "                             nbb_cells[i].set_text(nbb_formatted_code);\n",
       "                        }\n",
       "                        break;\n",
       "                    }\n",
       "                }\n",
       "            }, 500);\n",
       "            "
      ],
      "text/plain": [
       "<IPython.core.display.Javascript object>"
      ]
     },
     "metadata": {},
     "output_type": "display_data"
    }
   ],
   "source": [
    "diff_visual(df2, \"emp_length2\")"
   ]
  },
  {
   "cell_type": "code",
   "execution_count": 22,
   "metadata": {},
   "outputs": [
    {
     "data": {
      "text/html": [
       "<div>\n",
       "<style scoped>\n",
       "    .dataframe tbody tr th:only-of-type {\n",
       "        vertical-align: middle;\n",
       "    }\n",
       "\n",
       "    .dataframe tbody tr th {\n",
       "        vertical-align: top;\n",
       "    }\n",
       "\n",
       "    .dataframe thead th {\n",
       "        text-align: right;\n",
       "    }\n",
       "</style>\n",
       "<table border=\"1\" class=\"dataframe\">\n",
       "  <thead>\n",
       "    <tr style=\"text-align: right;\">\n",
       "      <th>target</th>\n",
       "      <th>0</th>\n",
       "      <th>1</th>\n",
       "    </tr>\n",
       "    <tr>\n",
       "      <th>addr_state2</th>\n",
       "      <th></th>\n",
       "      <th></th>\n",
       "    </tr>\n",
       "  </thead>\n",
       "  <tbody>\n",
       "    <tr>\n",
       "      <th>Bad state</th>\n",
       "      <td>0.779883</td>\n",
       "      <td>0.220117</td>\n",
       "    </tr>\n",
       "    <tr>\n",
       "      <th>California</th>\n",
       "      <td>0.793533</td>\n",
       "      <td>0.206467</td>\n",
       "    </tr>\n",
       "    <tr>\n",
       "      <th>Good state</th>\n",
       "      <td>0.823040</td>\n",
       "      <td>0.176960</td>\n",
       "    </tr>\n",
       "  </tbody>\n",
       "</table>\n",
       "</div>"
      ],
      "text/plain": [
       "target              0         1\n",
       "addr_state2                    \n",
       "Bad state    0.779883  0.220117\n",
       "California   0.793533  0.206467\n",
       "Good state   0.823040  0.176960"
      ]
     },
     "execution_count": 22,
     "metadata": {},
     "output_type": "execute_result"
    },
    {
     "data": {
      "image/png": "[encoded data removed]",
      "text/plain": [
       "<Figure size 432x288 with 1 Axes>"
      ]
     },
     "metadata": {
      "needs_background": "light"
     },
     "output_type": "display_data"
    },
    {
     "data": {
      "application/javascript": [
       "\n",
       "            setTimeout(function() {\n",
       "                var nbb_cell_id = 22;\n",
       "                var nbb_unformatted_code = \"diff_visual(df2, \\\"addr_state2\\\")\";\n",
       "                var nbb_formatted_code = \"diff_visual(df2, \\\"addr_state2\\\")\";\n",
       "                var nbb_cells = Jupyter.notebook.get_cells();\n",
       "                for (var i = 0; i < nbb_cells.length; ++i) {\n",
       "                    if (nbb_cells[i].input_prompt_number == nbb_cell_id) {\n",
       "                        if (nbb_cells[i].get_text() == nbb_unformatted_code) {\n",
       "                             nbb_cells[i].set_text(nbb_formatted_code);\n",
       "                        }\n",
       "                        break;\n",
       "                    }\n",
       "                }\n",
       "            }, 500);\n",
       "            "
      ],
      "text/plain": [
       "<IPython.core.display.Javascript object>"
      ]
     },
     "metadata": {},
     "output_type": "display_data"
    }
   ],
   "source": [
    "diff_visual(df2, \"addr_state2\")"
   ]
  },
  {
   "cell_type": "code",
   "execution_count": 23,
   "metadata": {},
   "outputs": [
    {
     "data": {
      "application/javascript": [
       "\n",
       "            setTimeout(function() {\n",
       "                var nbb_cell_id = 23;\n",
       "                var nbb_unformatted_code = \"# One hot encoding\\nmodelling_variables = [\\\"target\\\", \\\"loan_amnt2\\\", \\\"addr_state2\\\", \\\"emp_length2\\\"]\\n\\nfor i in modelling_variables:\\n    if i != \\\"target\\\":\\n        df2 = df2.join(pd.get_dummies(df2[i]))\\n        df2 = df2.drop([i], axis=1)\";\n",
       "                var nbb_formatted_code = \"# One hot encoding\\nmodelling_variables = [\\\"target\\\", \\\"loan_amnt2\\\", \\\"addr_state2\\\", \\\"emp_length2\\\"]\\n\\nfor i in modelling_variables:\\n    if i != \\\"target\\\":\\n        df2 = df2.join(pd.get_dummies(df2[i]))\\n        df2 = df2.drop([i], axis=1)\";\n",
       "                var nbb_cells = Jupyter.notebook.get_cells();\n",
       "                for (var i = 0; i < nbb_cells.length; ++i) {\n",
       "                    if (nbb_cells[i].input_prompt_number == nbb_cell_id) {\n",
       "                        if (nbb_cells[i].get_text() == nbb_unformatted_code) {\n",
       "                             nbb_cells[i].set_text(nbb_formatted_code);\n",
       "                        }\n",
       "                        break;\n",
       "                    }\n",
       "                }\n",
       "            }, 500);\n",
       "            "
      ],
      "text/plain": [
       "<IPython.core.display.Javascript object>"
      ]
     },
     "metadata": {},
     "output_type": "display_data"
    }
   ],
   "source": [
    "# One hot encoding\n",
    "modelling_variables = [\"target\", \"loan_amnt2\", \"addr_state2\", \"emp_length2\"]\n",
    "\n",
    "for i in modelling_variables:\n",
    "    if i != \"target\":\n",
    "        df2 = df2.join(pd.get_dummies(df2[i]))\n",
    "        df2 = df2.drop([i], axis=1)"
   ]
  },
  {
   "cell_type": "code",
   "execution_count": 24,
   "metadata": {},
   "outputs": [
    {
     "data": {
      "application/javascript": [
       "\n",
       "            setTimeout(function() {\n",
       "                var nbb_cell_id = 24;\n",
       "                var nbb_unformatted_code = \"# Drop Null Band\\ndf3 = df2.drop(columns=[\\\"1-10k\\\", \\\"California\\\", \\\">2 years\\\"])\";\n",
       "                var nbb_formatted_code = \"# Drop Null Band\\ndf3 = df2.drop(columns=[\\\"1-10k\\\", \\\"California\\\", \\\">2 years\\\"])\";\n",
       "                var nbb_cells = Jupyter.notebook.get_cells();\n",
       "                for (var i = 0; i < nbb_cells.length; ++i) {\n",
       "                    if (nbb_cells[i].input_prompt_number == nbb_cell_id) {\n",
       "                        if (nbb_cells[i].get_text() == nbb_unformatted_code) {\n",
       "                             nbb_cells[i].set_text(nbb_formatted_code);\n",
       "                        }\n",
       "                        break;\n",
       "                    }\n",
       "                }\n",
       "            }, 500);\n",
       "            "
      ],
      "text/plain": [
       "<IPython.core.display.Javascript object>"
      ]
     },
     "metadata": {},
     "output_type": "display_data"
    }
   ],
   "source": [
    "# Drop Null Band\n",
    "df3 = df2.drop(columns=[\"1-10k\", \"California\", \">2 years\"])"
   ]
  },
  {
   "cell_type": "code",
   "execution_count": 25,
   "metadata": {},
   "outputs": [
    {
     "data": {
      "application/javascript": [
       "\n",
       "            setTimeout(function() {\n",
       "                var nbb_cell_id = 25;\n",
       "                var nbb_unformatted_code = \"X = df3.loc[:, df3.columns != \\\"target\\\"]\\ny = df3.loc[:, df3.columns == \\\"target\\\"]\";\n",
       "                var nbb_formatted_code = \"X = df3.loc[:, df3.columns != \\\"target\\\"]\\ny = df3.loc[:, df3.columns == \\\"target\\\"]\";\n",
       "                var nbb_cells = Jupyter.notebook.get_cells();\n",
       "                for (var i = 0; i < nbb_cells.length; ++i) {\n",
       "                    if (nbb_cells[i].input_prompt_number == nbb_cell_id) {\n",
       "                        if (nbb_cells[i].get_text() == nbb_unformatted_code) {\n",
       "                             nbb_cells[i].set_text(nbb_formatted_code);\n",
       "                        }\n",
       "                        break;\n",
       "                    }\n",
       "                }\n",
       "            }, 500);\n",
       "            "
      ],
      "text/plain": [
       "<IPython.core.display.Javascript object>"
      ]
     },
     "metadata": {},
     "output_type": "display_data"
    }
   ],
   "source": [
    "X = df3.loc[:, df3.columns != \"target\"]\n",
    "y = df3.loc[:, df3.columns == \"target\"]"
   ]
  },
  {
   "cell_type": "code",
   "execution_count": 26,
   "metadata": {},
   "outputs": [
    {
     "data": {
      "application/javascript": [
       "\n",
       "            setTimeout(function() {\n",
       "                var nbb_cell_id = 26;\n",
       "                var nbb_unformatted_code = \"# Balance the data\\nos = RandomUnderSampler(sampling_strategy=0.5, random_state=7)\\nX_train, X_test, y_train, y_test = train_test_split(X, y, test_size=0.3, random_state=7)\\ncolumns = X_train.columns\";\n",
       "                var nbb_formatted_code = \"# Balance the data\\nos = RandomUnderSampler(sampling_strategy=0.5, random_state=7)\\nX_train, X_test, y_train, y_test = train_test_split(X, y, test_size=0.3, random_state=7)\\ncolumns = X_train.columns\";\n",
       "                var nbb_cells = Jupyter.notebook.get_cells();\n",
       "                for (var i = 0; i < nbb_cells.length; ++i) {\n",
       "                    if (nbb_cells[i].input_prompt_number == nbb_cell_id) {\n",
       "                        if (nbb_cells[i].get_text() == nbb_unformatted_code) {\n",
       "                             nbb_cells[i].set_text(nbb_formatted_code);\n",
       "                        }\n",
       "                        break;\n",
       "                    }\n",
       "                }\n",
       "            }, 500);\n",
       "            "
      ],
      "text/plain": [
       "<IPython.core.display.Javascript object>"
      ]
     },
     "metadata": {},
     "output_type": "display_data"
    }
   ],
   "source": [
    "# Balance the data\n",
    "os = RandomUnderSampler(sampling_strategy=0.5, random_state=7)\n",
    "X_train, X_test, y_train, y_test = train_test_split(X, y, test_size=0.3, random_state=7)\n",
    "columns = X_train.columns"
   ]
  },
  {
   "cell_type": "code",
   "execution_count": 27,
   "metadata": {},
   "outputs": [
    {
     "name": "stdout",
     "output_type": "stream",
     "text": [
      "The number of observations in Development data before undersampling is  10386\n",
      "The number of observations in Development data after undersampling is  6357\n"
     ]
    },
    {
     "data": {
      "application/javascript": [
       "\n",
       "            setTimeout(function() {\n",
       "                var nbb_cell_id = 27;\n",
       "                var nbb_unformatted_code = \"# Train\\nos_data_X, os_data_y = os.fit_sample(X_train, y_train)\\nos_data_X = pd.DataFrame(data=os_data_X, columns=columns)\\nos_data_y = pd.DataFrame(data=os_data_y, columns=[\\\"target\\\"])\\n\\n# we can check the numbers of our data\\nprint(\\n    \\\"The number of observations in Development data before undersampling is \\\",\\n    len(X_train),\\n)\\nprint(\\n    \\\"The number of observations in Development data after undersampling is \\\",\\n    len(os_data_X),\\n)\";\n",
       "                var nbb_formatted_code = \"# Train\\nos_data_X, os_data_y = os.fit_sample(X_train, y_train)\\nos_data_X = pd.DataFrame(data=os_data_X, columns=columns)\\nos_data_y = pd.DataFrame(data=os_data_y, columns=[\\\"target\\\"])\\n\\n# we can check the numbers of our data\\nprint(\\n    \\\"The number of observations in Development data before undersampling is \\\",\\n    len(X_train),\\n)\\nprint(\\n    \\\"The number of observations in Development data after undersampling is \\\",\\n    len(os_data_X),\\n)\";\n",
       "                var nbb_cells = Jupyter.notebook.get_cells();\n",
       "                for (var i = 0; i < nbb_cells.length; ++i) {\n",
       "                    if (nbb_cells[i].input_prompt_number == nbb_cell_id) {\n",
       "                        if (nbb_cells[i].get_text() == nbb_unformatted_code) {\n",
       "                             nbb_cells[i].set_text(nbb_formatted_code);\n",
       "                        }\n",
       "                        break;\n",
       "                    }\n",
       "                }\n",
       "            }, 500);\n",
       "            "
      ],
      "text/plain": [
       "<IPython.core.display.Javascript object>"
      ]
     },
     "metadata": {},
     "output_type": "display_data"
    }
   ],
   "source": [
    "# Train\n",
    "os_data_X, os_data_y = os.fit_sample(X_train, y_train)\n",
    "os_data_X = pd.DataFrame(data=os_data_X, columns=columns)\n",
    "os_data_y = pd.DataFrame(data=os_data_y, columns=[\"target\"])\n",
    "\n",
    "# we can check the numbers of our data\n",
    "print(\n",
    "    \"The number of observations in Development data before undersampling is \",\n",
    "    len(X_train),\n",
    ")\n",
    "print(\n",
    "    \"The number of observations in Development data after undersampling is \",\n",
    "    len(os_data_X),\n",
    ")"
   ]
  },
  {
   "cell_type": "code",
   "execution_count": 28,
   "metadata": {},
   "outputs": [
    {
     "data": {
      "application/javascript": [
       "\n",
       "            setTimeout(function() {\n",
       "                var nbb_cell_id = 28;\n",
       "                var nbb_unformatted_code = \"# Keep only columns for modelling\\nos_data_X_2 = os_data_X[[\\\"<=1k\\\", \\\"Good state\\\", \\\"Bad state\\\", \\\"1-2 years\\\"]]\\nX_test_2 = X_test[[\\\"<=1k\\\", \\\"Good state\\\", \\\"Bad state\\\", \\\"1-2 years\\\"]]\";\n",
       "                var nbb_formatted_code = \"# Keep only columns for modelling\\nos_data_X_2 = os_data_X[[\\\"<=1k\\\", \\\"Good state\\\", \\\"Bad state\\\", \\\"1-2 years\\\"]]\\nX_test_2 = X_test[[\\\"<=1k\\\", \\\"Good state\\\", \\\"Bad state\\\", \\\"1-2 years\\\"]]\";\n",
       "                var nbb_cells = Jupyter.notebook.get_cells();\n",
       "                for (var i = 0; i < nbb_cells.length; ++i) {\n",
       "                    if (nbb_cells[i].input_prompt_number == nbb_cell_id) {\n",
       "                        if (nbb_cells[i].get_text() == nbb_unformatted_code) {\n",
       "                             nbb_cells[i].set_text(nbb_formatted_code);\n",
       "                        }\n",
       "                        break;\n",
       "                    }\n",
       "                }\n",
       "            }, 500);\n",
       "            "
      ],
      "text/plain": [
       "<IPython.core.display.Javascript object>"
      ]
     },
     "metadata": {},
     "output_type": "display_data"
    }
   ],
   "source": [
    "# Keep only columns for modelling\n",
    "os_data_X_2 = os_data_X[[\"<=1k\", \"Good state\", \"Bad state\", \"1-2 years\"]]\n",
    "X_test_2 = X_test[[\"<=1k\", \"Good state\", \"Bad state\", \"1-2 years\"]]"
   ]
  },
  {
   "cell_type": "code",
   "execution_count": 29,
   "metadata": {},
   "outputs": [
    {
     "name": "stdout",
     "output_type": "stream",
     "text": [
      "Optimization terminated successfully.\n",
      "         Current function value: 0.636690\n",
      "         Iterations 6\n",
      "                         Results: Logit\n",
      "================================================================\n",
      "Model:              Logit            Pseudo R-squared: -0.000   \n",
      "Dependent Variable: target           AIC:              8102.8742\n",
      "Date:               2020-11-08 18:03 BIC:              8129.9035\n",
      "No. Observations:   6357             Log-Likelihood:   -4047.4  \n",
      "Df Model:           3                LL-Null:          -4046.3  \n",
      "Df Residuals:       6353             LLR p-value:      1.0000   \n",
      "Converged:          1.0000           Scale:            1.0000   \n",
      "No. Iterations:     6.0000                                      \n",
      "-----------------------------------------------------------------\n",
      "              Coef.   Std.Err.     z     P>|z|    [0.025   0.975]\n",
      "-----------------------------------------------------------------\n",
      "<=1k         -1.0969    0.6299  -1.7413  0.0816  -2.3316   0.1377\n",
      "Good state   -0.5554    0.0618  -8.9863  0.0000  -0.6766  -0.4343\n",
      "Bad state    -0.2489    0.0527  -4.7243  0.0000  -0.3521  -0.1456\n",
      "1-2 years    -0.4328    0.0500  -8.6637  0.0000  -0.5308  -0.3349\n",
      "================================================================\n",
      "\n"
     ]
    },
    {
     "data": {
      "application/javascript": [
       "\n",
       "            setTimeout(function() {\n",
       "                var nbb_cell_id = 29;\n",
       "                var nbb_unformatted_code = \"# Build Logistic regression\\n# Statmodels\\nlogit_model = sm.Logit(os_data_y, os_data_X_2.astype(float))\\nresult3 = logit_model.fit()\\nprint(result3.summary2())\";\n",
       "                var nbb_formatted_code = \"# Build Logistic regression\\n# Statmodels\\nlogit_model = sm.Logit(os_data_y, os_data_X_2.astype(float))\\nresult3 = logit_model.fit()\\nprint(result3.summary2())\";\n",
       "                var nbb_cells = Jupyter.notebook.get_cells();\n",
       "                for (var i = 0; i < nbb_cells.length; ++i) {\n",
       "                    if (nbb_cells[i].input_prompt_number == nbb_cell_id) {\n",
       "                        if (nbb_cells[i].get_text() == nbb_unformatted_code) {\n",
       "                             nbb_cells[i].set_text(nbb_formatted_code);\n",
       "                        }\n",
       "                        break;\n",
       "                    }\n",
       "                }\n",
       "            }, 500);\n",
       "            "
      ],
      "text/plain": [
       "<IPython.core.display.Javascript object>"
      ]
     },
     "metadata": {},
     "output_type": "display_data"
    }
   ],
   "source": [
    "# Build Logistic regression\n",
    "# Statmodels\n",
    "logit_model = sm.Logit(os_data_y, os_data_X_2.astype(float))\n",
    "result3 = logit_model.fit()\n",
    "print(result3.summary2())"
   ]
  },
  {
   "cell_type": "code",
   "execution_count": 30,
   "metadata": {},
   "outputs": [
    {
     "name": "stdout",
     "output_type": "stream",
     "text": [
      "Accuracy score Logistic Regression: 0.7955974842767296\n"
     ]
    },
    {
     "data": {
      "image/png": "[encoded data removed]",
      "text/plain": [
       "<Figure size 432x288 with 1 Axes>"
      ]
     },
     "metadata": {
      "needs_background": "light"
     },
     "output_type": "display_data"
    },
    {
     "data": {
      "application/javascript": [
       "\n",
       "            setTimeout(function() {\n",
       "                var nbb_cell_id = 30;\n",
       "                var nbb_unformatted_code = \"# Sklearn\\nlogreg = LogisticRegression(fit_intercept=False, penalty=\\\"none\\\")\\nlogreg.fit(os_data_X_2, os_data_y.values.ravel())\\ny_pred = logreg.predict(X_test_2)\\nprint(\\\"Accuracy score Logistic Regression:\\\", logreg.score(X_test_2, y_test))\\nlogit_roc_auc = roc_auc_score(y_test, logreg.predict(X_test_2))\\nfpr, tpr, thresholds = roc_curve(y_test, logreg.predict_proba(X_test_2)[:, 1])\\nplt.figure()\\nplt.plot(fpr, tpr, label=\\\"Logistic Regression (area = %0.2f)\\\" % logit_roc_auc)\\nplt.plot([0, 1], [0, 1], \\\"r--\\\")\\nplt.xlim([0.0, 1.0])\\nplt.ylim([0.0, 1.05])\\nplt.xlabel(\\\"False Positive Rate\\\")\\nplt.ylabel(\\\"True Positive Rate\\\")\\nplt.title(\\\"Receiver operating characteristic\\\")\\nplt.legend(loc=\\\"lower right\\\")\\nplt.savefig(\\\"Log_ROC\\\")\\nplt.show()\";\n",
       "                var nbb_formatted_code = \"# Sklearn\\nlogreg = LogisticRegression(fit_intercept=False, penalty=\\\"none\\\")\\nlogreg.fit(os_data_X_2, os_data_y.values.ravel())\\ny_pred = logreg.predict(X_test_2)\\nprint(\\\"Accuracy score Logistic Regression:\\\", logreg.score(X_test_2, y_test))\\nlogit_roc_auc = roc_auc_score(y_test, logreg.predict(X_test_2))\\nfpr, tpr, thresholds = roc_curve(y_test, logreg.predict_proba(X_test_2)[:, 1])\\nplt.figure()\\nplt.plot(fpr, tpr, label=\\\"Logistic Regression (area = %0.2f)\\\" % logit_roc_auc)\\nplt.plot([0, 1], [0, 1], \\\"r--\\\")\\nplt.xlim([0.0, 1.0])\\nplt.ylim([0.0, 1.05])\\nplt.xlabel(\\\"False Positive Rate\\\")\\nplt.ylabel(\\\"True Positive Rate\\\")\\nplt.title(\\\"Receiver operating characteristic\\\")\\nplt.legend(loc=\\\"lower right\\\")\\nplt.savefig(\\\"Log_ROC\\\")\\nplt.show()\";\n",
       "                var nbb_cells = Jupyter.notebook.get_cells();\n",
       "                for (var i = 0; i < nbb_cells.length; ++i) {\n",
       "                    if (nbb_cells[i].input_prompt_number == nbb_cell_id) {\n",
       "                        if (nbb_cells[i].get_text() == nbb_unformatted_code) {\n",
       "                             nbb_cells[i].set_text(nbb_formatted_code);\n",
       "                        }\n",
       "                        break;\n",
       "                    }\n",
       "                }\n",
       "            }, 500);\n",
       "            "
      ],
      "text/plain": [
       "<IPython.core.display.Javascript object>"
      ]
     },
     "metadata": {},
     "output_type": "display_data"
    }
   ],
   "source": [
    "# Sklearn\n",
    "logreg = LogisticRegression(fit_intercept=False, penalty=\"none\")\n",
    "logreg.fit(os_data_X_2, os_data_y.values.ravel())\n",
    "y_pred = logreg.predict(X_test_2)\n",
    "print(\"Accuracy score Logistic Regression:\", logreg.score(X_test_2, y_test))\n",
    "logit_roc_auc = roc_auc_score(y_test, logreg.predict(X_test_2))\n",
    "fpr, tpr, thresholds = roc_curve(y_test, logreg.predict_proba(X_test_2)[:, 1])\n",
    "plt.figure()\n",
    "plt.plot(fpr, tpr, label=\"Logistic Regression (area = %0.2f)\" % logit_roc_auc)\n",
    "plt.plot([0, 1], [0, 1], \"r--\")\n",
    "plt.xlim([0.0, 1.0])\n",
    "plt.ylim([0.0, 1.05])\n",
    "plt.xlabel(\"False Positive Rate\")\n",
    "plt.ylabel(\"True Positive Rate\")\n",
    "plt.title(\"Receiver operating characteristic\")\n",
    "plt.legend(loc=\"lower right\")\n",
    "plt.savefig(\"Log_ROC\")\n",
    "plt.show()"
   ]
  },
  {
   "cell_type": "code",
   "execution_count": 31,
   "metadata": {},
   "outputs": [
    {
     "data": {
      "application/javascript": [
       "\n",
       "            setTimeout(function() {\n",
       "                var nbb_cell_id = 31;\n",
       "                var nbb_unformatted_code = \"#Test set with labels\\ntest_labels = pd.merge(\\n    y_test,\\n    X_test,\\n    how=\\\"inner\\\",\\n    left_index=True,\\n    right_index=True,\\n)\";\n",
       "                var nbb_formatted_code = \"# Test set with labels\\ntest_labels = pd.merge(\\n    y_test,\\n    X_test,\\n    how=\\\"inner\\\",\\n    left_index=True,\\n    right_index=True,\\n)\";\n",
       "                var nbb_cells = Jupyter.notebook.get_cells();\n",
       "                for (var i = 0; i < nbb_cells.length; ++i) {\n",
       "                    if (nbb_cells[i].input_prompt_number == nbb_cell_id) {\n",
       "                        if (nbb_cells[i].get_text() == nbb_unformatted_code) {\n",
       "                             nbb_cells[i].set_text(nbb_formatted_code);\n",
       "                        }\n",
       "                        break;\n",
       "                    }\n",
       "                }\n",
       "            }, 500);\n",
       "            "
      ],
      "text/plain": [
       "<IPython.core.display.Javascript object>"
      ]
     },
     "metadata": {},
     "output_type": "display_data"
    }
   ],
   "source": [
    "#Test set with labels\n",
    "test_labels = pd.merge(\n",
    "    y_test,\n",
    "    X_test,\n",
    "    how=\"inner\",\n",
    "    left_index=True,\n",
    "    right_index=True,\n",
    ")\n"
   ]
  },
  {
   "cell_type": "code",
   "execution_count": 32,
   "metadata": {},
   "outputs": [
    {
     "data": {
      "text/html": [
       "<div>\n",
       "<style scoped>\n",
       "    .dataframe tbody tr th:only-of-type {\n",
       "        vertical-align: middle;\n",
       "    }\n",
       "\n",
       "    .dataframe tbody tr th {\n",
       "        vertical-align: top;\n",
       "    }\n",
       "\n",
       "    .dataframe thead th {\n",
       "        text-align: right;\n",
       "    }\n",
       "</style>\n",
       "<table border=\"1\" class=\"dataframe\">\n",
       "  <thead>\n",
       "    <tr style=\"text-align: right;\">\n",
       "      <th></th>\n",
       "      <th>count</th>\n",
       "    </tr>\n",
       "    <tr>\n",
       "      <th>prediction</th>\n",
       "      <th></th>\n",
       "    </tr>\n",
       "  </thead>\n",
       "  <tbody>\n",
       "    <tr>\n",
       "      <th>0.110538</th>\n",
       "      <td>5</td>\n",
       "    </tr>\n",
       "    <tr>\n",
       "      <th>0.144464</th>\n",
       "      <td>13</td>\n",
       "    </tr>\n",
       "    <tr>\n",
       "      <th>0.160783</th>\n",
       "      <td>4</td>\n",
       "    </tr>\n",
       "    <tr>\n",
       "      <th>0.178020</th>\n",
       "      <td>3</td>\n",
       "    </tr>\n",
       "    <tr>\n",
       "      <th>0.206549</th>\n",
       "      <td>4</td>\n",
       "    </tr>\n",
       "    <tr>\n",
       "      <th>0.271253</th>\n",
       "      <td>1153</td>\n",
       "    </tr>\n",
       "    <tr>\n",
       "      <th>0.335878</th>\n",
       "      <td>1807</td>\n",
       "    </tr>\n",
       "    <tr>\n",
       "      <th>0.364605</th>\n",
       "      <td>297</td>\n",
       "    </tr>\n",
       "    <tr>\n",
       "      <th>0.393448</th>\n",
       "      <td>519</td>\n",
       "    </tr>\n",
       "    <tr>\n",
       "      <th>0.438100</th>\n",
       "      <td>529</td>\n",
       "    </tr>\n",
       "    <tr>\n",
       "      <th>0.500000</th>\n",
       "      <td>118</td>\n",
       "    </tr>\n",
       "  </tbody>\n",
       "</table>\n",
       "</div>"
      ],
      "text/plain": [
       "            count\n",
       "prediction       \n",
       "0.110538        5\n",
       "0.144464       13\n",
       "0.160783        4\n",
       "0.178020        3\n",
       "0.206549        4\n",
       "0.271253     1153\n",
       "0.335878     1807\n",
       "0.364605      297\n",
       "0.393448      519\n",
       "0.438100      529\n",
       "0.500000      118"
      ]
     },
     "execution_count": 32,
     "metadata": {},
     "output_type": "execute_result"
    },
    {
     "data": {
      "application/javascript": [
       "\n",
       "            setTimeout(function() {\n",
       "                var nbb_cell_id = 32;\n",
       "                var nbb_unformatted_code = \"# Predictions on testset\\ntest_pred = logreg.predict_proba(X_test_2)[:, 1]\\ntest_pred2 = pd.DataFrame(data=test_pred, columns=[\\\"prediction\\\"])\\ntest_pred2[\\\"count\\\"] = test_pred2.groupby(\\\"prediction\\\")[\\\"prediction\\\"].transform(\\\"count\\\")\\ntest_pred2.groupby([\\\"prediction\\\"]).count()\";\n",
       "                var nbb_formatted_code = \"# Predictions on testset\\ntest_pred = logreg.predict_proba(X_test_2)[:, 1]\\ntest_pred2 = pd.DataFrame(data=test_pred, columns=[\\\"prediction\\\"])\\ntest_pred2[\\\"count\\\"] = test_pred2.groupby(\\\"prediction\\\")[\\\"prediction\\\"].transform(\\\"count\\\")\\ntest_pred2.groupby([\\\"prediction\\\"]).count()\";\n",
       "                var nbb_cells = Jupyter.notebook.get_cells();\n",
       "                for (var i = 0; i < nbb_cells.length; ++i) {\n",
       "                    if (nbb_cells[i].input_prompt_number == nbb_cell_id) {\n",
       "                        if (nbb_cells[i].get_text() == nbb_unformatted_code) {\n",
       "                             nbb_cells[i].set_text(nbb_formatted_code);\n",
       "                        }\n",
       "                        break;\n",
       "                    }\n",
       "                }\n",
       "            }, 500);\n",
       "            "
      ],
      "text/plain": [
       "<IPython.core.display.Javascript object>"
      ]
     },
     "metadata": {},
     "output_type": "display_data"
    }
   ],
   "source": [
    "# Predictions on testset\n",
    "test_pred = logreg.predict_proba(X_test_2)[:, 1]\n",
    "test_pred2 = pd.DataFrame(data=test_pred, columns=[\"prediction\"])\n",
    "test_pred2[\"count\"] = test_pred2.groupby(\"prediction\")[\"prediction\"].transform(\"count\")\n",
    "test_pred2.groupby([\"prediction\"]).count()"
   ]
  },
  {
   "cell_type": "code",
   "execution_count": 33,
   "metadata": {},
   "outputs": [
    {
     "data": {
      "text/html": [
       "<div>\n",
       "<style scoped>\n",
       "    .dataframe tbody tr th:only-of-type {\n",
       "        vertical-align: middle;\n",
       "    }\n",
       "\n",
       "    .dataframe tbody tr th {\n",
       "        vertical-align: top;\n",
       "    }\n",
       "\n",
       "    .dataframe thead th {\n",
       "        text-align: right;\n",
       "    }\n",
       "</style>\n",
       "<table border=\"1\" class=\"dataframe\">\n",
       "  <thead>\n",
       "    <tr style=\"text-align: right;\">\n",
       "      <th></th>\n",
       "      <th>target</th>\n",
       "      <th>id</th>\n",
       "      <th>&lt;=1k</th>\n",
       "      <th>&gt;10k</th>\n",
       "      <th>Bad state</th>\n",
       "      <th>Good state</th>\n",
       "      <th>1-2 years</th>\n",
       "      <th>prediction_beforeRI</th>\n",
       "    </tr>\n",
       "  </thead>\n",
       "  <tbody>\n",
       "    <tr>\n",
       "      <th>11341</th>\n",
       "      <td>0</td>\n",
       "      <td>26789777</td>\n",
       "      <td>0</td>\n",
       "      <td>1</td>\n",
       "      <td>0</td>\n",
       "      <td>0</td>\n",
       "      <td>1</td>\n",
       "      <td>0.393448</td>\n",
       "    </tr>\n",
       "    <tr>\n",
       "      <th>3076</th>\n",
       "      <td>1</td>\n",
       "      <td>17894572</td>\n",
       "      <td>0</td>\n",
       "      <td>1</td>\n",
       "      <td>0</td>\n",
       "      <td>0</td>\n",
       "      <td>1</td>\n",
       "      <td>0.393448</td>\n",
       "    </tr>\n",
       "    <tr>\n",
       "      <th>10395</th>\n",
       "      <td>0</td>\n",
       "      <td>34773392</td>\n",
       "      <td>0</td>\n",
       "      <td>1</td>\n",
       "      <td>0</td>\n",
       "      <td>0</td>\n",
       "      <td>1</td>\n",
       "      <td>0.393448</td>\n",
       "    </tr>\n",
       "    <tr>\n",
       "      <th>15834</th>\n",
       "      <td>0</td>\n",
       "      <td>1122926</td>\n",
       "      <td>0</td>\n",
       "      <td>1</td>\n",
       "      <td>0</td>\n",
       "      <td>1</td>\n",
       "      <td>1</td>\n",
       "      <td>0.271253</td>\n",
       "    </tr>\n",
       "    <tr>\n",
       "      <th>1317</th>\n",
       "      <td>0</td>\n",
       "      <td>46774382</td>\n",
       "      <td>0</td>\n",
       "      <td>1</td>\n",
       "      <td>1</td>\n",
       "      <td>0</td>\n",
       "      <td>1</td>\n",
       "      <td>0.335878</td>\n",
       "    </tr>\n",
       "    <tr>\n",
       "      <th>...</th>\n",
       "      <td>...</td>\n",
       "      <td>...</td>\n",
       "      <td>...</td>\n",
       "      <td>...</td>\n",
       "      <td>...</td>\n",
       "      <td>...</td>\n",
       "      <td>...</td>\n",
       "      <td>...</td>\n",
       "    </tr>\n",
       "    <tr>\n",
       "      <th>10236</th>\n",
       "      <td>0</td>\n",
       "      <td>98857570</td>\n",
       "      <td>0</td>\n",
       "      <td>1</td>\n",
       "      <td>0</td>\n",
       "      <td>1</td>\n",
       "      <td>1</td>\n",
       "      <td>0.271253</td>\n",
       "    </tr>\n",
       "    <tr>\n",
       "      <th>6184</th>\n",
       "      <td>1</td>\n",
       "      <td>94467429</td>\n",
       "      <td>0</td>\n",
       "      <td>1</td>\n",
       "      <td>1</td>\n",
       "      <td>0</td>\n",
       "      <td>0</td>\n",
       "      <td>0.438100</td>\n",
       "    </tr>\n",
       "    <tr>\n",
       "      <th>13619</th>\n",
       "      <td>1</td>\n",
       "      <td>124747082</td>\n",
       "      <td>0</td>\n",
       "      <td>1</td>\n",
       "      <td>1</td>\n",
       "      <td>0</td>\n",
       "      <td>0</td>\n",
       "      <td>0.438100</td>\n",
       "    </tr>\n",
       "    <tr>\n",
       "      <th>4441</th>\n",
       "      <td>1</td>\n",
       "      <td>49673413</td>\n",
       "      <td>0</td>\n",
       "      <td>1</td>\n",
       "      <td>1</td>\n",
       "      <td>0</td>\n",
       "      <td>1</td>\n",
       "      <td>0.335878</td>\n",
       "    </tr>\n",
       "    <tr>\n",
       "      <th>15694</th>\n",
       "      <td>0</td>\n",
       "      <td>6899910</td>\n",
       "      <td>0</td>\n",
       "      <td>1</td>\n",
       "      <td>0</td>\n",
       "      <td>1</td>\n",
       "      <td>0</td>\n",
       "      <td>0.364605</td>\n",
       "    </tr>\n",
       "  </tbody>\n",
       "</table>\n",
       "<p>4452 rows × 8 columns</p>\n",
       "</div>"
      ],
      "text/plain": [
       "       target         id  <=1k  >10k  Bad state  Good state  1-2 years  \\\n",
       "11341       0   26789777     0     1          0           0          1   \n",
       "3076        1   17894572     0     1          0           0          1   \n",
       "10395       0   34773392     0     1          0           0          1   \n",
       "15834       0    1122926     0     1          0           1          1   \n",
       "1317        0   46774382     0     1          1           0          1   \n",
       "...       ...        ...   ...   ...        ...         ...        ...   \n",
       "10236       0   98857570     0     1          0           1          1   \n",
       "6184        1   94467429     0     1          1           0          0   \n",
       "13619       1  124747082     0     1          1           0          0   \n",
       "4441        1   49673413     0     1          1           0          1   \n",
       "15694       0    6899910     0     1          0           1          0   \n",
       "\n",
       "       prediction_beforeRI  \n",
       "11341             0.393448  \n",
       "3076              0.393448  \n",
       "10395             0.393448  \n",
       "15834             0.271253  \n",
       "1317              0.335878  \n",
       "...                    ...  \n",
       "10236             0.271253  \n",
       "6184              0.438100  \n",
       "13619             0.438100  \n",
       "4441              0.335878  \n",
       "15694             0.364605  \n",
       "\n",
       "[4452 rows x 8 columns]"
      ]
     },
     "execution_count": 33,
     "metadata": {},
     "output_type": "execute_result"
    },
    {
     "data": {
      "application/javascript": [
       "\n",
       "            setTimeout(function() {\n",
       "                var nbb_cell_id = 33;\n",
       "                var nbb_unformatted_code = \"# Join predictions with test new\\npred_test_kgb = pd.DataFrame(\\n    data=test_pred, columns=[\\\"prediction_beforeRI\\\"], index=y_test.index.copy()\\n)\\npred_test1 = pd.merge(\\n    test_labels,\\n    pred_test_kgb[[\\\"prediction_beforeRI\\\"]],\\n    how=\\\"inner\\\",\\n    left_index=True,\\n    right_index=True,\\n)\\n\\n# pred_test1.dropna(subset=[\\\"prediction_beforeRI\\\"], inplace=True)\\npred_test1\";\n",
       "                var nbb_formatted_code = \"# Join predictions with test new\\npred_test_kgb = pd.DataFrame(\\n    data=test_pred, columns=[\\\"prediction_beforeRI\\\"], index=y_test.index.copy()\\n)\\npred_test1 = pd.merge(\\n    test_labels,\\n    pred_test_kgb[[\\\"prediction_beforeRI\\\"]],\\n    how=\\\"inner\\\",\\n    left_index=True,\\n    right_index=True,\\n)\\n\\n# pred_test1.dropna(subset=[\\\"prediction_beforeRI\\\"], inplace=True)\\npred_test1\";\n",
       "                var nbb_cells = Jupyter.notebook.get_cells();\n",
       "                for (var i = 0; i < nbb_cells.length; ++i) {\n",
       "                    if (nbb_cells[i].input_prompt_number == nbb_cell_id) {\n",
       "                        if (nbb_cells[i].get_text() == nbb_unformatted_code) {\n",
       "                             nbb_cells[i].set_text(nbb_formatted_code);\n",
       "                        }\n",
       "                        break;\n",
       "                    }\n",
       "                }\n",
       "            }, 500);\n",
       "            "
      ],
      "text/plain": [
       "<IPython.core.display.Javascript object>"
      ]
     },
     "metadata": {},
     "output_type": "display_data"
    }
   ],
   "source": [
    "# Join predictions with test new\n",
    "pred_test_kgb = pd.DataFrame(\n",
    "    data=test_pred, columns=[\"prediction_beforeRI\"], index=y_test.index.copy()\n",
    ")\n",
    "pred_test1 = pd.merge(\n",
    "    test_labels,\n",
    "    pred_test_kgb[[\"prediction_beforeRI\"]],\n",
    "    how=\"inner\",\n",
    "    left_index=True,\n",
    "    right_index=True,\n",
    ")\n",
    "\n",
    "# pred_test1.dropna(subset=[\"prediction_beforeRI\"], inplace=True)\n",
    "pred_test1"
   ]
  },
  {
   "cell_type": "code",
   "execution_count": 34,
   "metadata": {},
   "outputs": [
    {
     "data": {
      "text/plain": [
       "(4452, 8)"
      ]
     },
     "execution_count": 34,
     "metadata": {},
     "output_type": "execute_result"
    },
    {
     "data": {
      "application/javascript": [
       "\n",
       "            setTimeout(function() {\n",
       "                var nbb_cell_id = 34;\n",
       "                var nbb_unformatted_code = \"pred_test1.shape  # Expected nr. of observations\";\n",
       "                var nbb_formatted_code = \"pred_test1.shape  # Expected nr. of observations\";\n",
       "                var nbb_cells = Jupyter.notebook.get_cells();\n",
       "                for (var i = 0; i < nbb_cells.length; ++i) {\n",
       "                    if (nbb_cells[i].input_prompt_number == nbb_cell_id) {\n",
       "                        if (nbb_cells[i].get_text() == nbb_unformatted_code) {\n",
       "                             nbb_cells[i].set_text(nbb_formatted_code);\n",
       "                        }\n",
       "                        break;\n",
       "                    }\n",
       "                }\n",
       "            }, 500);\n",
       "            "
      ],
      "text/plain": [
       "<IPython.core.display.Javascript object>"
      ]
     },
     "metadata": {},
     "output_type": "display_data"
    }
   ],
   "source": [
    "pred_test1.shape  # Expected nr. of observations"
   ]
  },
  {
   "cell_type": "markdown",
   "metadata": {},
   "source": [
    "## Apply the KGB Model (Logistic Regression) to the Rejects"
   ]
  },
  {
   "cell_type": "code",
   "execution_count": 35,
   "metadata": {},
   "outputs": [
    {
     "data": {
      "application/javascript": [
       "\n",
       "            setTimeout(function() {\n",
       "                var nbb_cell_id = 35;\n",
       "                var nbb_unformatted_code = \"# Sampling\\nrejected_small = rejected.sample(n=25000, random_state=7)\\nrejected_small.reset_index(drop=True, inplace=True)\\nrejected_small.rename(columns={\\\"Amount Requested\\\": \\\"loan_amnt\\\"}, inplace=True)\\nrejected_small.rename(columns={\\\"Employment Length\\\": \\\"emp_length_new\\\"}, inplace=True)\\nrejected_small.rename(columns={\\\"State\\\": \\\"addr_state\\\"}, inplace=True)\\ndfr = rejected_small[[\\\"loan_amnt\\\", \\\"addr_state\\\", \\\"emp_length_new\\\"]]\";\n",
       "                var nbb_formatted_code = \"# Sampling\\nrejected_small = rejected.sample(n=25000, random_state=7)\\nrejected_small.reset_index(drop=True, inplace=True)\\nrejected_small.rename(columns={\\\"Amount Requested\\\": \\\"loan_amnt\\\"}, inplace=True)\\nrejected_small.rename(columns={\\\"Employment Length\\\": \\\"emp_length_new\\\"}, inplace=True)\\nrejected_small.rename(columns={\\\"State\\\": \\\"addr_state\\\"}, inplace=True)\\ndfr = rejected_small[[\\\"loan_amnt\\\", \\\"addr_state\\\", \\\"emp_length_new\\\"]]\";\n",
       "                var nbb_cells = Jupyter.notebook.get_cells();\n",
       "                for (var i = 0; i < nbb_cells.length; ++i) {\n",
       "                    if (nbb_cells[i].input_prompt_number == nbb_cell_id) {\n",
       "                        if (nbb_cells[i].get_text() == nbb_unformatted_code) {\n",
       "                             nbb_cells[i].set_text(nbb_formatted_code);\n",
       "                        }\n",
       "                        break;\n",
       "                    }\n",
       "                }\n",
       "            }, 500);\n",
       "            "
      ],
      "text/plain": [
       "<IPython.core.display.Javascript object>"
      ]
     },
     "metadata": {},
     "output_type": "display_data"
    }
   ],
   "source": [
    "# Sampling\n",
    "rejected_small = rejected.sample(n=25000, random_state=7)\n",
    "rejected_small.reset_index(drop=True, inplace=True)\n",
    "rejected_small.rename(columns={\"Amount Requested\": \"loan_amnt\"}, inplace=True)\n",
    "rejected_small.rename(columns={\"Employment Length\": \"emp_length_new\"}, inplace=True)\n",
    "rejected_small.rename(columns={\"State\": \"addr_state\"}, inplace=True)\n",
    "dfr = rejected_small[[\"loan_amnt\", \"addr_state\", \"emp_length_new\"]]"
   ]
  },
  {
   "cell_type": "code",
   "execution_count": 36,
   "metadata": {},
   "outputs": [
    {
     "data": {
      "application/javascript": [
       "\n",
       "            setTimeout(function() {\n",
       "                var nbb_cell_id = 36;\n",
       "                var nbb_unformatted_code = \"# Create unique id for the rejects (to facilitate merge later)\\ndfr[\\\"id\\\"] = dfr.index.to_series().map(lambda x: uuid.uuid4())\";\n",
       "                var nbb_formatted_code = \"# Create unique id for the rejects (to facilitate merge later)\\ndfr[\\\"id\\\"] = dfr.index.to_series().map(lambda x: uuid.uuid4())\";\n",
       "                var nbb_cells = Jupyter.notebook.get_cells();\n",
       "                for (var i = 0; i < nbb_cells.length; ++i) {\n",
       "                    if (nbb_cells[i].input_prompt_number == nbb_cell_id) {\n",
       "                        if (nbb_cells[i].get_text() == nbb_unformatted_code) {\n",
       "                             nbb_cells[i].set_text(nbb_formatted_code);\n",
       "                        }\n",
       "                        break;\n",
       "                    }\n",
       "                }\n",
       "            }, 500);\n",
       "            "
      ],
      "text/plain": [
       "<IPython.core.display.Javascript object>"
      ]
     },
     "metadata": {},
     "output_type": "display_data"
    }
   ],
   "source": [
    "# Create unique id for the rejects (to facilitate merge later)\n",
    "dfr[\"id\"] = dfr.index.to_series().map(lambda x: uuid.uuid4())"
   ]
  },
  {
   "cell_type": "code",
   "execution_count": 37,
   "metadata": {},
   "outputs": [
    {
     "data": {
      "application/javascript": [
       "\n",
       "            setTimeout(function() {\n",
       "                var nbb_cell_id = 37;\n",
       "                var nbb_unformatted_code = \"# Map values of emp. length of accepts to the rejects\\ndfr[\\\"emp_length\\\"] = dfr[\\\"emp_length_new\\\"].apply(\\n    lambda x: \\\"< 1 year\\\"  # match name\\n    if (x == \\\"1 year\\\" or x == \\\"< 1 year\\\" or x == \\\"2 years\\\")\\n    else \\\">2 years\\\"\\n)\\ndel dfr[\\\"emp_length_new\\\"]\";\n",
       "                var nbb_formatted_code = \"# Map values of emp. length of accepts to the rejects\\ndfr[\\\"emp_length\\\"] = dfr[\\\"emp_length_new\\\"].apply(\\n    lambda x: \\\"< 1 year\\\"  # match name\\n    if (x == \\\"1 year\\\" or x == \\\"< 1 year\\\" or x == \\\"2 years\\\")\\n    else \\\">2 years\\\"\\n)\\ndel dfr[\\\"emp_length_new\\\"]\";\n",
       "                var nbb_cells = Jupyter.notebook.get_cells();\n",
       "                for (var i = 0; i < nbb_cells.length; ++i) {\n",
       "                    if (nbb_cells[i].input_prompt_number == nbb_cell_id) {\n",
       "                        if (nbb_cells[i].get_text() == nbb_unformatted_code) {\n",
       "                             nbb_cells[i].set_text(nbb_formatted_code);\n",
       "                        }\n",
       "                        break;\n",
       "                    }\n",
       "                }\n",
       "            }, 500);\n",
       "            "
      ],
      "text/plain": [
       "<IPython.core.display.Javascript object>"
      ]
     },
     "metadata": {},
     "output_type": "display_data"
    }
   ],
   "source": [
    "# Map values of emp. length of accepts to the rejects\n",
    "dfr[\"emp_length\"] = dfr[\"emp_length_new\"].apply(\n",
    "    lambda x: \"< 1 year\"  # match name\n",
    "    if (x == \"1 year\" or x == \"< 1 year\" or x == \"2 years\")\n",
    "    else \">2 years\"\n",
    ")\n",
    "del dfr[\"emp_length_new\"]"
   ]
  },
  {
   "cell_type": "code",
   "execution_count": 38,
   "metadata": {},
   "outputs": [
    {
     "data": {
      "application/javascript": [
       "\n",
       "            setTimeout(function() {\n",
       "                var nbb_cell_id = 38;\n",
       "                var nbb_unformatted_code = \"# Train/Test Split (without labels)\\n\\n# Shuffle the dataset\\nshuffle_df = dfr.sample(frac=1)\\n\\n# Define a size for your train set\\ntrain_size = int(0.7 * len(shuffle_df))\\n\\n# Split your dataset\\ndfr_dev = shuffle_df[:train_size]\\ndfr_test = shuffle_df[train_size:]\";\n",
       "                var nbb_formatted_code = \"# Train/Test Split (without labels)\\n\\n# Shuffle the dataset\\nshuffle_df = dfr.sample(frac=1)\\n\\n# Define a size for your train set\\ntrain_size = int(0.7 * len(shuffle_df))\\n\\n# Split your dataset\\ndfr_dev = shuffle_df[:train_size]\\ndfr_test = shuffle_df[train_size:]\";\n",
       "                var nbb_cells = Jupyter.notebook.get_cells();\n",
       "                for (var i = 0; i < nbb_cells.length; ++i) {\n",
       "                    if (nbb_cells[i].input_prompt_number == nbb_cell_id) {\n",
       "                        if (nbb_cells[i].get_text() == nbb_unformatted_code) {\n",
       "                             nbb_cells[i].set_text(nbb_formatted_code);\n",
       "                        }\n",
       "                        break;\n",
       "                    }\n",
       "                }\n",
       "            }, 500);\n",
       "            "
      ],
      "text/plain": [
       "<IPython.core.display.Javascript object>"
      ]
     },
     "metadata": {},
     "output_type": "display_data"
    }
   ],
   "source": [
    "# Train/Test Split (without labels)\n",
    "\n",
    "# Shuffle the dataset\n",
    "shuffle_df = dfr.sample(frac=1)\n",
    "\n",
    "# Define a size for your train set\n",
    "train_size = int(0.7 * len(shuffle_df))\n",
    "\n",
    "# Split your dataset\n",
    "dfr_dev = shuffle_df[:train_size]\n",
    "dfr_test = shuffle_df[train_size:]"
   ]
  },
  {
   "cell_type": "code",
   "execution_count": 39,
   "metadata": {},
   "outputs": [
    {
     "data": {
      "text/html": [
       "<div>\n",
       "<style scoped>\n",
       "    .dataframe tbody tr th:only-of-type {\n",
       "        vertical-align: middle;\n",
       "    }\n",
       "\n",
       "    .dataframe tbody tr th {\n",
       "        vertical-align: top;\n",
       "    }\n",
       "\n",
       "    .dataframe thead th {\n",
       "        text-align: right;\n",
       "    }\n",
       "</style>\n",
       "<table border=\"1\" class=\"dataframe\">\n",
       "  <thead>\n",
       "    <tr style=\"text-align: right;\">\n",
       "      <th></th>\n",
       "      <th>id</th>\n",
       "      <th>loan_amnt2</th>\n",
       "      <th>addr_state2</th>\n",
       "      <th>emp_length2</th>\n",
       "    </tr>\n",
       "  </thead>\n",
       "  <tbody>\n",
       "    <tr>\n",
       "      <th>10171</th>\n",
       "      <td>e7c5e9a0-a647-4b48-966a-b3cb95a76b19</td>\n",
       "      <td>1-10k</td>\n",
       "      <td>Bad state</td>\n",
       "      <td>1-2 years</td>\n",
       "    </tr>\n",
       "    <tr>\n",
       "      <th>7346</th>\n",
       "      <td>ab919792-0c15-4fc1-9ec3-bcf1629e84ac</td>\n",
       "      <td>&gt;10k</td>\n",
       "      <td>Bad state</td>\n",
       "      <td>1-2 years</td>\n",
       "    </tr>\n",
       "    <tr>\n",
       "      <th>21944</th>\n",
       "      <td>a0172b06-8488-4445-9f10-c2e5262b6f7b</td>\n",
       "      <td>&gt;10k</td>\n",
       "      <td>California</td>\n",
       "      <td>&gt;2 years</td>\n",
       "    </tr>\n",
       "    <tr>\n",
       "      <th>15349</th>\n",
       "      <td>474d502a-a041-4f69-91f4-b01fb6d79825</td>\n",
       "      <td>1-10k</td>\n",
       "      <td>Bad state</td>\n",
       "      <td>1-2 years</td>\n",
       "    </tr>\n",
       "    <tr>\n",
       "      <th>19067</th>\n",
       "      <td>5b404e41-1f77-4ff0-a1c7-b87455442b1b</td>\n",
       "      <td>&gt;10k</td>\n",
       "      <td>Bad state</td>\n",
       "      <td>1-2 years</td>\n",
       "    </tr>\n",
       "    <tr>\n",
       "      <th>...</th>\n",
       "      <td>...</td>\n",
       "      <td>...</td>\n",
       "      <td>...</td>\n",
       "      <td>...</td>\n",
       "    </tr>\n",
       "    <tr>\n",
       "      <th>13981</th>\n",
       "      <td>5b4913cb-6513-423b-9389-e53f822f39cc</td>\n",
       "      <td>1-10k</td>\n",
       "      <td>Bad state</td>\n",
       "      <td>1-2 years</td>\n",
       "    </tr>\n",
       "    <tr>\n",
       "      <th>5170</th>\n",
       "      <td>1756ba5b-f2ee-4190-8318-50a9e585108c</td>\n",
       "      <td>1-10k</td>\n",
       "      <td>Bad state</td>\n",
       "      <td>1-2 years</td>\n",
       "    </tr>\n",
       "    <tr>\n",
       "      <th>1391</th>\n",
       "      <td>6c760a11-c818-48dd-ad75-2272add6c918</td>\n",
       "      <td>&gt;10k</td>\n",
       "      <td>Good state</td>\n",
       "      <td>&gt;2 years</td>\n",
       "    </tr>\n",
       "    <tr>\n",
       "      <th>11865</th>\n",
       "      <td>b83e806e-b936-443d-8875-a3ea56691249</td>\n",
       "      <td>&gt;10k</td>\n",
       "      <td>Bad state</td>\n",
       "      <td>1-2 years</td>\n",
       "    </tr>\n",
       "    <tr>\n",
       "      <th>623</th>\n",
       "      <td>06be2323-40cd-4ee5-a0d5-6c72eb306aae</td>\n",
       "      <td>1-10k</td>\n",
       "      <td>Good state</td>\n",
       "      <td>1-2 years</td>\n",
       "    </tr>\n",
       "  </tbody>\n",
       "</table>\n",
       "<p>17500 rows × 4 columns</p>\n",
       "</div>"
      ],
      "text/plain": [
       "                                         id loan_amnt2 addr_state2 emp_length2\n",
       "10171  e7c5e9a0-a647-4b48-966a-b3cb95a76b19      1-10k   Bad state   1-2 years\n",
       "7346   ab919792-0c15-4fc1-9ec3-bcf1629e84ac       >10k   Bad state   1-2 years\n",
       "21944  a0172b06-8488-4445-9f10-c2e5262b6f7b       >10k  California    >2 years\n",
       "15349  474d502a-a041-4f69-91f4-b01fb6d79825      1-10k   Bad state   1-2 years\n",
       "19067  5b404e41-1f77-4ff0-a1c7-b87455442b1b       >10k   Bad state   1-2 years\n",
       "...                                     ...        ...         ...         ...\n",
       "13981  5b4913cb-6513-423b-9389-e53f822f39cc      1-10k   Bad state   1-2 years\n",
       "5170   1756ba5b-f2ee-4190-8318-50a9e585108c      1-10k   Bad state   1-2 years\n",
       "1391   6c760a11-c818-48dd-ad75-2272add6c918       >10k  Good state    >2 years\n",
       "11865  b83e806e-b936-443d-8875-a3ea56691249       >10k   Bad state   1-2 years\n",
       "623    06be2323-40cd-4ee5-a0d5-6c72eb306aae      1-10k  Good state   1-2 years\n",
       "\n",
       "[17500 rows x 4 columns]"
      ]
     },
     "execution_count": 39,
     "metadata": {},
     "output_type": "execute_result"
    },
    {
     "data": {
      "application/javascript": [
       "\n",
       "            setTimeout(function() {\n",
       "                var nbb_cell_id = 39;\n",
       "                var nbb_unformatted_code = \"# Bucketing Train set (based on the custom function)\\nbinning(dfr_dev)\";\n",
       "                var nbb_formatted_code = \"# Bucketing Train set (based on the custom function)\\nbinning(dfr_dev)\";\n",
       "                var nbb_cells = Jupyter.notebook.get_cells();\n",
       "                for (var i = 0; i < nbb_cells.length; ++i) {\n",
       "                    if (nbb_cells[i].input_prompt_number == nbb_cell_id) {\n",
       "                        if (nbb_cells[i].get_text() == nbb_unformatted_code) {\n",
       "                             nbb_cells[i].set_text(nbb_formatted_code);\n",
       "                        }\n",
       "                        break;\n",
       "                    }\n",
       "                }\n",
       "            }, 500);\n",
       "            "
      ],
      "text/plain": [
       "<IPython.core.display.Javascript object>"
      ]
     },
     "metadata": {},
     "output_type": "display_data"
    }
   ],
   "source": [
    "# Bucketing Train set (based on the custom function)\n",
    "binning(dfr_dev)"
   ]
  },
  {
   "cell_type": "code",
   "execution_count": 40,
   "metadata": {},
   "outputs": [
    {
     "data": {
      "application/javascript": [
       "\n",
       "            setTimeout(function() {\n",
       "                var nbb_cell_id = 40;\n",
       "                var nbb_unformatted_code = \"# One hot encoding\\nmodelling_variables = [\\\"target\\\", \\\"loan_amnt2\\\", \\\"addr_state2\\\", \\\"emp_length2\\\"]\\n\\nfor i in modelling_variables:\\n    if i != \\\"target\\\":\\n        dfr_dev = dfr_dev.join(pd.get_dummies(dfr_dev[i]))\\n        dfr_dev = dfr_dev.drop([i], axis=1)\";\n",
       "                var nbb_formatted_code = \"# One hot encoding\\nmodelling_variables = [\\\"target\\\", \\\"loan_amnt2\\\", \\\"addr_state2\\\", \\\"emp_length2\\\"]\\n\\nfor i in modelling_variables:\\n    if i != \\\"target\\\":\\n        dfr_dev = dfr_dev.join(pd.get_dummies(dfr_dev[i]))\\n        dfr_dev = dfr_dev.drop([i], axis=1)\";\n",
       "                var nbb_cells = Jupyter.notebook.get_cells();\n",
       "                for (var i = 0; i < nbb_cells.length; ++i) {\n",
       "                    if (nbb_cells[i].input_prompt_number == nbb_cell_id) {\n",
       "                        if (nbb_cells[i].get_text() == nbb_unformatted_code) {\n",
       "                             nbb_cells[i].set_text(nbb_formatted_code);\n",
       "                        }\n",
       "                        break;\n",
       "                    }\n",
       "                }\n",
       "            }, 500);\n",
       "            "
      ],
      "text/plain": [
       "<IPython.core.display.Javascript object>"
      ]
     },
     "metadata": {},
     "output_type": "display_data"
    }
   ],
   "source": [
    "# One hot encoding\n",
    "modelling_variables = [\"target\", \"loan_amnt2\", \"addr_state2\", \"emp_length2\"]\n",
    "\n",
    "for i in modelling_variables:\n",
    "    if i != \"target\":\n",
    "        dfr_dev = dfr_dev.join(pd.get_dummies(dfr_dev[i]))\n",
    "        dfr_dev = dfr_dev.drop([i], axis=1)"
   ]
  },
  {
   "cell_type": "code",
   "execution_count": 41,
   "metadata": {},
   "outputs": [
    {
     "data": {
      "application/javascript": [
       "\n",
       "            setTimeout(function() {\n",
       "                var nbb_cell_id = 41;\n",
       "                var nbb_unformatted_code = \"# Drop Null Band\\ndfr_dev2 = dfr_dev.drop(\\n    columns=[\\n        \\\"loan_amnt\\\",\\n        \\\"addr_state\\\",\\n        \\\"emp_length\\\",\\n        \\\"1-10k\\\",\\n        \\\"California\\\",\\n        \\\">2 years\\\",\\n    ]\\n)\";\n",
       "                var nbb_formatted_code = \"# Drop Null Band\\ndfr_dev2 = dfr_dev.drop(\\n    columns=[\\n        \\\"loan_amnt\\\",\\n        \\\"addr_state\\\",\\n        \\\"emp_length\\\",\\n        \\\"1-10k\\\",\\n        \\\"California\\\",\\n        \\\">2 years\\\",\\n    ]\\n)\";\n",
       "                var nbb_cells = Jupyter.notebook.get_cells();\n",
       "                for (var i = 0; i < nbb_cells.length; ++i) {\n",
       "                    if (nbb_cells[i].input_prompt_number == nbb_cell_id) {\n",
       "                        if (nbb_cells[i].get_text() == nbb_unformatted_code) {\n",
       "                             nbb_cells[i].set_text(nbb_formatted_code);\n",
       "                        }\n",
       "                        break;\n",
       "                    }\n",
       "                }\n",
       "            }, 500);\n",
       "            "
      ],
      "text/plain": [
       "<IPython.core.display.Javascript object>"
      ]
     },
     "metadata": {},
     "output_type": "display_data"
    }
   ],
   "source": [
    "# Drop Null Band\n",
    "dfr_dev2 = dfr_dev.drop(\n",
    "    columns=[\n",
    "        \"loan_amnt\",\n",
    "        \"addr_state\",\n",
    "        \"emp_length\",\n",
    "        \"1-10k\",\n",
    "        \"California\",\n",
    "        \">2 years\",\n",
    "    ]\n",
    ")"
   ]
  },
  {
   "cell_type": "code",
   "execution_count": 42,
   "metadata": {},
   "outputs": [
    {
     "data": {
      "text/html": [
       "<div>\n",
       "<style scoped>\n",
       "    .dataframe tbody tr th:only-of-type {\n",
       "        vertical-align: middle;\n",
       "    }\n",
       "\n",
       "    .dataframe tbody tr th {\n",
       "        vertical-align: top;\n",
       "    }\n",
       "\n",
       "    .dataframe thead th {\n",
       "        text-align: right;\n",
       "    }\n",
       "</style>\n",
       "<table border=\"1\" class=\"dataframe\">\n",
       "  <thead>\n",
       "    <tr style=\"text-align: right;\">\n",
       "      <th></th>\n",
       "      <th>id</th>\n",
       "      <th>loan_amnt2</th>\n",
       "      <th>addr_state2</th>\n",
       "      <th>emp_length2</th>\n",
       "    </tr>\n",
       "  </thead>\n",
       "  <tbody>\n",
       "    <tr>\n",
       "      <th>23730</th>\n",
       "      <td>df3016fa-15ad-4856-9b08-feaf82ea42f3</td>\n",
       "      <td>1-10k</td>\n",
       "      <td>Bad state</td>\n",
       "      <td>1-2 years</td>\n",
       "    </tr>\n",
       "    <tr>\n",
       "      <th>22044</th>\n",
       "      <td>0f9f3a47-32b3-48b8-bbaa-e636dc0c73b6</td>\n",
       "      <td>1-10k</td>\n",
       "      <td>Bad state</td>\n",
       "      <td>1-2 years</td>\n",
       "    </tr>\n",
       "    <tr>\n",
       "      <th>5475</th>\n",
       "      <td>0104ccdc-69a7-40d4-b595-574ed9218b02</td>\n",
       "      <td>&lt;=1k</td>\n",
       "      <td>Bad state</td>\n",
       "      <td>1-2 years</td>\n",
       "    </tr>\n",
       "    <tr>\n",
       "      <th>5596</th>\n",
       "      <td>9b6324db-6f63-4bd1-9b20-ee8af64255fe</td>\n",
       "      <td>&gt;10k</td>\n",
       "      <td>Bad state</td>\n",
       "      <td>&gt;2 years</td>\n",
       "    </tr>\n",
       "    <tr>\n",
       "      <th>17072</th>\n",
       "      <td>6fa2d389-a429-411c-9604-ef5f60808864</td>\n",
       "      <td>1-10k</td>\n",
       "      <td>Good state</td>\n",
       "      <td>1-2 years</td>\n",
       "    </tr>\n",
       "    <tr>\n",
       "      <th>...</th>\n",
       "      <td>...</td>\n",
       "      <td>...</td>\n",
       "      <td>...</td>\n",
       "      <td>...</td>\n",
       "    </tr>\n",
       "    <tr>\n",
       "      <th>110</th>\n",
       "      <td>fad0468c-98d5-4deb-a277-0a57ac4bc4d8</td>\n",
       "      <td>1-10k</td>\n",
       "      <td>Bad state</td>\n",
       "      <td>1-2 years</td>\n",
       "    </tr>\n",
       "    <tr>\n",
       "      <th>15195</th>\n",
       "      <td>dd9dabad-6725-4833-a74a-3202e9ef3b87</td>\n",
       "      <td>1-10k</td>\n",
       "      <td>Good state</td>\n",
       "      <td>1-2 years</td>\n",
       "    </tr>\n",
       "    <tr>\n",
       "      <th>13546</th>\n",
       "      <td>d2faa9a6-c09b-4d89-99c7-3efdad7b279c</td>\n",
       "      <td>&gt;10k</td>\n",
       "      <td>Good state</td>\n",
       "      <td>1-2 years</td>\n",
       "    </tr>\n",
       "    <tr>\n",
       "      <th>8408</th>\n",
       "      <td>f2f73460-ed93-4cfa-ab35-c7df19a4e57c</td>\n",
       "      <td>&gt;10k</td>\n",
       "      <td>Bad state</td>\n",
       "      <td>1-2 years</td>\n",
       "    </tr>\n",
       "    <tr>\n",
       "      <th>19407</th>\n",
       "      <td>08d886e5-d702-488b-a17b-19af4c9865bd</td>\n",
       "      <td>&gt;10k</td>\n",
       "      <td>Bad state</td>\n",
       "      <td>1-2 years</td>\n",
       "    </tr>\n",
       "  </tbody>\n",
       "</table>\n",
       "<p>7500 rows × 4 columns</p>\n",
       "</div>"
      ],
      "text/plain": [
       "                                         id loan_amnt2 addr_state2 emp_length2\n",
       "23730  df3016fa-15ad-4856-9b08-feaf82ea42f3      1-10k   Bad state   1-2 years\n",
       "22044  0f9f3a47-32b3-48b8-bbaa-e636dc0c73b6      1-10k   Bad state   1-2 years\n",
       "5475   0104ccdc-69a7-40d4-b595-574ed9218b02       <=1k   Bad state   1-2 years\n",
       "5596   9b6324db-6f63-4bd1-9b20-ee8af64255fe       >10k   Bad state    >2 years\n",
       "17072  6fa2d389-a429-411c-9604-ef5f60808864      1-10k  Good state   1-2 years\n",
       "...                                     ...        ...         ...         ...\n",
       "110    fad0468c-98d5-4deb-a277-0a57ac4bc4d8      1-10k   Bad state   1-2 years\n",
       "15195  dd9dabad-6725-4833-a74a-3202e9ef3b87      1-10k  Good state   1-2 years\n",
       "13546  d2faa9a6-c09b-4d89-99c7-3efdad7b279c       >10k  Good state   1-2 years\n",
       "8408   f2f73460-ed93-4cfa-ab35-c7df19a4e57c       >10k   Bad state   1-2 years\n",
       "19407  08d886e5-d702-488b-a17b-19af4c9865bd       >10k   Bad state   1-2 years\n",
       "\n",
       "[7500 rows x 4 columns]"
      ]
     },
     "execution_count": 42,
     "metadata": {},
     "output_type": "execute_result"
    },
    {
     "data": {
      "application/javascript": [
       "\n",
       "            setTimeout(function() {\n",
       "                var nbb_cell_id = 42;\n",
       "                var nbb_unformatted_code = \"# Bucketing (based on a custom function)\\nbinning(dfr_test)\";\n",
       "                var nbb_formatted_code = \"# Bucketing (based on a custom function)\\nbinning(dfr_test)\";\n",
       "                var nbb_cells = Jupyter.notebook.get_cells();\n",
       "                for (var i = 0; i < nbb_cells.length; ++i) {\n",
       "                    if (nbb_cells[i].input_prompt_number == nbb_cell_id) {\n",
       "                        if (nbb_cells[i].get_text() == nbb_unformatted_code) {\n",
       "                             nbb_cells[i].set_text(nbb_formatted_code);\n",
       "                        }\n",
       "                        break;\n",
       "                    }\n",
       "                }\n",
       "            }, 500);\n",
       "            "
      ],
      "text/plain": [
       "<IPython.core.display.Javascript object>"
      ]
     },
     "metadata": {},
     "output_type": "display_data"
    }
   ],
   "source": [
    "# Bucketing (based on a custom function)\n",
    "binning(dfr_test)"
   ]
  },
  {
   "cell_type": "code",
   "execution_count": 43,
   "metadata": {},
   "outputs": [
    {
     "data": {
      "application/javascript": [
       "\n",
       "            setTimeout(function() {\n",
       "                var nbb_cell_id = 43;\n",
       "                var nbb_unformatted_code = \"# One hot encoding\\nmodelling_variables = [\\\"target\\\", \\\"loan_amnt2\\\", \\\"addr_state2\\\", \\\"emp_length2\\\"]\\n\\nfor i in modelling_variables:\\n    if i != \\\"target\\\":\\n        dfr_test = dfr_test.join(pd.get_dummies(dfr_test[i]))\\n        dfr_test = dfr_test.drop([i], axis=1)\";\n",
       "                var nbb_formatted_code = \"# One hot encoding\\nmodelling_variables = [\\\"target\\\", \\\"loan_amnt2\\\", \\\"addr_state2\\\", \\\"emp_length2\\\"]\\n\\nfor i in modelling_variables:\\n    if i != \\\"target\\\":\\n        dfr_test = dfr_test.join(pd.get_dummies(dfr_test[i]))\\n        dfr_test = dfr_test.drop([i], axis=1)\";\n",
       "                var nbb_cells = Jupyter.notebook.get_cells();\n",
       "                for (var i = 0; i < nbb_cells.length; ++i) {\n",
       "                    if (nbb_cells[i].input_prompt_number == nbb_cell_id) {\n",
       "                        if (nbb_cells[i].get_text() == nbb_unformatted_code) {\n",
       "                             nbb_cells[i].set_text(nbb_formatted_code);\n",
       "                        }\n",
       "                        break;\n",
       "                    }\n",
       "                }\n",
       "            }, 500);\n",
       "            "
      ],
      "text/plain": [
       "<IPython.core.display.Javascript object>"
      ]
     },
     "metadata": {},
     "output_type": "display_data"
    }
   ],
   "source": [
    "# One hot encoding\n",
    "modelling_variables = [\"target\", \"loan_amnt2\", \"addr_state2\", \"emp_length2\"]\n",
    "\n",
    "for i in modelling_variables:\n",
    "    if i != \"target\":\n",
    "        dfr_test = dfr_test.join(pd.get_dummies(dfr_test[i]))\n",
    "        dfr_test = dfr_test.drop([i], axis=1)"
   ]
  },
  {
   "cell_type": "code",
   "execution_count": 44,
   "metadata": {},
   "outputs": [
    {
     "data": {
      "application/javascript": [
       "\n",
       "            setTimeout(function() {\n",
       "                var nbb_cell_id = 44;\n",
       "                var nbb_unformatted_code = \"# Drop Null Band\\ndfr_test2 = dfr_test.drop(\\n    columns=[\\\"loan_amnt\\\", \\\"addr_state\\\", \\\"emp_length\\\", \\\"1-10k\\\", \\\"California\\\", \\\">2 years\\\"]\\n)\";\n",
       "                var nbb_formatted_code = \"# Drop Null Band\\ndfr_test2 = dfr_test.drop(\\n    columns=[\\\"loan_amnt\\\", \\\"addr_state\\\", \\\"emp_length\\\", \\\"1-10k\\\", \\\"California\\\", \\\">2 years\\\"]\\n)\";\n",
       "                var nbb_cells = Jupyter.notebook.get_cells();\n",
       "                for (var i = 0; i < nbb_cells.length; ++i) {\n",
       "                    if (nbb_cells[i].input_prompt_number == nbb_cell_id) {\n",
       "                        if (nbb_cells[i].get_text() == nbb_unformatted_code) {\n",
       "                             nbb_cells[i].set_text(nbb_formatted_code);\n",
       "                        }\n",
       "                        break;\n",
       "                    }\n",
       "                }\n",
       "            }, 500);\n",
       "            "
      ],
      "text/plain": [
       "<IPython.core.display.Javascript object>"
      ]
     },
     "metadata": {},
     "output_type": "display_data"
    }
   ],
   "source": [
    "# Drop Null Band\n",
    "dfr_test2 = dfr_test.drop(\n",
    "    columns=[\"loan_amnt\", \"addr_state\", \"emp_length\", \"1-10k\", \"California\", \">2 years\"]\n",
    ")"
   ]
  },
  {
   "cell_type": "code",
   "execution_count": 45,
   "metadata": {},
   "outputs": [
    {
     "data": {
      "text/html": [
       "<div>\n",
       "<style scoped>\n",
       "    .dataframe tbody tr th:only-of-type {\n",
       "        vertical-align: middle;\n",
       "    }\n",
       "\n",
       "    .dataframe tbody tr th {\n",
       "        vertical-align: top;\n",
       "    }\n",
       "\n",
       "    .dataframe thead th {\n",
       "        text-align: right;\n",
       "    }\n",
       "</style>\n",
       "<table border=\"1\" class=\"dataframe\">\n",
       "  <thead>\n",
       "    <tr style=\"text-align: right;\">\n",
       "      <th></th>\n",
       "      <th>loan_amnt</th>\n",
       "      <th>addr_state</th>\n",
       "      <th>id</th>\n",
       "      <th>emp_length</th>\n",
       "      <th>1-10k</th>\n",
       "      <th>&lt;=1k</th>\n",
       "      <th>&gt;10k</th>\n",
       "      <th>Bad state</th>\n",
       "      <th>California</th>\n",
       "      <th>Good state</th>\n",
       "      <th>1-2 years</th>\n",
       "      <th>&gt;2 years</th>\n",
       "    </tr>\n",
       "  </thead>\n",
       "  <tbody>\n",
       "    <tr>\n",
       "      <th>23730</th>\n",
       "      <td>8000.0</td>\n",
       "      <td>OK</td>\n",
       "      <td>df3016fa-15ad-4856-9b08-feaf82ea42f3</td>\n",
       "      <td>&lt; 1 year</td>\n",
       "      <td>1</td>\n",
       "      <td>0</td>\n",
       "      <td>0</td>\n",
       "      <td>1</td>\n",
       "      <td>0</td>\n",
       "      <td>0</td>\n",
       "      <td>1</td>\n",
       "      <td>0</td>\n",
       "    </tr>\n",
       "    <tr>\n",
       "      <th>22044</th>\n",
       "      <td>2500.0</td>\n",
       "      <td>MS</td>\n",
       "      <td>0f9f3a47-32b3-48b8-bbaa-e636dc0c73b6</td>\n",
       "      <td>&lt; 1 year</td>\n",
       "      <td>1</td>\n",
       "      <td>0</td>\n",
       "      <td>0</td>\n",
       "      <td>1</td>\n",
       "      <td>0</td>\n",
       "      <td>0</td>\n",
       "      <td>1</td>\n",
       "      <td>0</td>\n",
       "    </tr>\n",
       "    <tr>\n",
       "      <th>5475</th>\n",
       "      <td>1000.0</td>\n",
       "      <td>FL</td>\n",
       "      <td>0104ccdc-69a7-40d4-b595-574ed9218b02</td>\n",
       "      <td>&lt; 1 year</td>\n",
       "      <td>0</td>\n",
       "      <td>1</td>\n",
       "      <td>0</td>\n",
       "      <td>1</td>\n",
       "      <td>0</td>\n",
       "      <td>0</td>\n",
       "      <td>1</td>\n",
       "      <td>0</td>\n",
       "    </tr>\n",
       "    <tr>\n",
       "      <th>5596</th>\n",
       "      <td>21850.0</td>\n",
       "      <td>MD</td>\n",
       "      <td>9b6324db-6f63-4bd1-9b20-ee8af64255fe</td>\n",
       "      <td>&gt;2 years</td>\n",
       "      <td>0</td>\n",
       "      <td>0</td>\n",
       "      <td>1</td>\n",
       "      <td>1</td>\n",
       "      <td>0</td>\n",
       "      <td>0</td>\n",
       "      <td>0</td>\n",
       "      <td>1</td>\n",
       "    </tr>\n",
       "    <tr>\n",
       "      <th>17072</th>\n",
       "      <td>5000.0</td>\n",
       "      <td>MN</td>\n",
       "      <td>6fa2d389-a429-411c-9604-ef5f60808864</td>\n",
       "      <td>&lt; 1 year</td>\n",
       "      <td>1</td>\n",
       "      <td>0</td>\n",
       "      <td>0</td>\n",
       "      <td>0</td>\n",
       "      <td>0</td>\n",
       "      <td>1</td>\n",
       "      <td>1</td>\n",
       "      <td>0</td>\n",
       "    </tr>\n",
       "    <tr>\n",
       "      <th>...</th>\n",
       "      <td>...</td>\n",
       "      <td>...</td>\n",
       "      <td>...</td>\n",
       "      <td>...</td>\n",
       "      <td>...</td>\n",
       "      <td>...</td>\n",
       "      <td>...</td>\n",
       "      <td>...</td>\n",
       "      <td>...</td>\n",
       "      <td>...</td>\n",
       "      <td>...</td>\n",
       "      <td>...</td>\n",
       "    </tr>\n",
       "    <tr>\n",
       "      <th>110</th>\n",
       "      <td>10000.0</td>\n",
       "      <td>IL</td>\n",
       "      <td>fad0468c-98d5-4deb-a277-0a57ac4bc4d8</td>\n",
       "      <td>&lt; 1 year</td>\n",
       "      <td>1</td>\n",
       "      <td>0</td>\n",
       "      <td>0</td>\n",
       "      <td>1</td>\n",
       "      <td>0</td>\n",
       "      <td>0</td>\n",
       "      <td>1</td>\n",
       "      <td>0</td>\n",
       "    </tr>\n",
       "    <tr>\n",
       "      <th>15195</th>\n",
       "      <td>3000.0</td>\n",
       "      <td>TX</td>\n",
       "      <td>dd9dabad-6725-4833-a74a-3202e9ef3b87</td>\n",
       "      <td>&lt; 1 year</td>\n",
       "      <td>1</td>\n",
       "      <td>0</td>\n",
       "      <td>0</td>\n",
       "      <td>0</td>\n",
       "      <td>0</td>\n",
       "      <td>1</td>\n",
       "      <td>1</td>\n",
       "      <td>0</td>\n",
       "    </tr>\n",
       "    <tr>\n",
       "      <th>13546</th>\n",
       "      <td>22000.0</td>\n",
       "      <td>TX</td>\n",
       "      <td>d2faa9a6-c09b-4d89-99c7-3efdad7b279c</td>\n",
       "      <td>&lt; 1 year</td>\n",
       "      <td>0</td>\n",
       "      <td>0</td>\n",
       "      <td>1</td>\n",
       "      <td>0</td>\n",
       "      <td>0</td>\n",
       "      <td>1</td>\n",
       "      <td>1</td>\n",
       "      <td>0</td>\n",
       "    </tr>\n",
       "    <tr>\n",
       "      <th>8408</th>\n",
       "      <td>12000.0</td>\n",
       "      <td>IL</td>\n",
       "      <td>f2f73460-ed93-4cfa-ab35-c7df19a4e57c</td>\n",
       "      <td>&lt; 1 year</td>\n",
       "      <td>0</td>\n",
       "      <td>0</td>\n",
       "      <td>1</td>\n",
       "      <td>1</td>\n",
       "      <td>0</td>\n",
       "      <td>0</td>\n",
       "      <td>1</td>\n",
       "      <td>0</td>\n",
       "    </tr>\n",
       "    <tr>\n",
       "      <th>19407</th>\n",
       "      <td>30000.0</td>\n",
       "      <td>FL</td>\n",
       "      <td>08d886e5-d702-488b-a17b-19af4c9865bd</td>\n",
       "      <td>&lt; 1 year</td>\n",
       "      <td>0</td>\n",
       "      <td>0</td>\n",
       "      <td>1</td>\n",
       "      <td>1</td>\n",
       "      <td>0</td>\n",
       "      <td>0</td>\n",
       "      <td>1</td>\n",
       "      <td>0</td>\n",
       "    </tr>\n",
       "  </tbody>\n",
       "</table>\n",
       "<p>7500 rows × 12 columns</p>\n",
       "</div>"
      ],
      "text/plain": [
       "       loan_amnt addr_state                                    id emp_length  \\\n",
       "23730     8000.0         OK  df3016fa-15ad-4856-9b08-feaf82ea42f3   < 1 year   \n",
       "22044     2500.0         MS  0f9f3a47-32b3-48b8-bbaa-e636dc0c73b6   < 1 year   \n",
       "5475      1000.0         FL  0104ccdc-69a7-40d4-b595-574ed9218b02   < 1 year   \n",
       "5596     21850.0         MD  9b6324db-6f63-4bd1-9b20-ee8af64255fe   >2 years   \n",
       "17072     5000.0         MN  6fa2d389-a429-411c-9604-ef5f60808864   < 1 year   \n",
       "...          ...        ...                                   ...        ...   \n",
       "110      10000.0         IL  fad0468c-98d5-4deb-a277-0a57ac4bc4d8   < 1 year   \n",
       "15195     3000.0         TX  dd9dabad-6725-4833-a74a-3202e9ef3b87   < 1 year   \n",
       "13546    22000.0         TX  d2faa9a6-c09b-4d89-99c7-3efdad7b279c   < 1 year   \n",
       "8408     12000.0         IL  f2f73460-ed93-4cfa-ab35-c7df19a4e57c   < 1 year   \n",
       "19407    30000.0         FL  08d886e5-d702-488b-a17b-19af4c9865bd   < 1 year   \n",
       "\n",
       "       1-10k  <=1k  >10k  Bad state  California  Good state  1-2 years  \\\n",
       "23730      1     0     0          1           0           0          1   \n",
       "22044      1     0     0          1           0           0          1   \n",
       "5475       0     1     0          1           0           0          1   \n",
       "5596       0     0     1          1           0           0          0   \n",
       "17072      1     0     0          0           0           1          1   \n",
       "...      ...   ...   ...        ...         ...         ...        ...   \n",
       "110        1     0     0          1           0           0          1   \n",
       "15195      1     0     0          0           0           1          1   \n",
       "13546      0     0     1          0           0           1          1   \n",
       "8408       0     0     1          1           0           0          1   \n",
       "19407      0     0     1          1           0           0          1   \n",
       "\n",
       "       >2 years  \n",
       "23730         0  \n",
       "22044         0  \n",
       "5475          0  \n",
       "5596          1  \n",
       "17072         0  \n",
       "...         ...  \n",
       "110           0  \n",
       "15195         0  \n",
       "13546         0  \n",
       "8408          0  \n",
       "19407         0  \n",
       "\n",
       "[7500 rows x 12 columns]"
      ]
     },
     "execution_count": 45,
     "metadata": {},
     "output_type": "execute_result"
    },
    {
     "data": {
      "application/javascript": [
       "\n",
       "            setTimeout(function() {\n",
       "                var nbb_cell_id = 45;\n",
       "                var nbb_unformatted_code = \"dfr_test\";\n",
       "                var nbb_formatted_code = \"dfr_test\";\n",
       "                var nbb_cells = Jupyter.notebook.get_cells();\n",
       "                for (var i = 0; i < nbb_cells.length; ++i) {\n",
       "                    if (nbb_cells[i].input_prompt_number == nbb_cell_id) {\n",
       "                        if (nbb_cells[i].get_text() == nbb_unformatted_code) {\n",
       "                             nbb_cells[i].set_text(nbb_formatted_code);\n",
       "                        }\n",
       "                        break;\n",
       "                    }\n",
       "                }\n",
       "            }, 500);\n",
       "            "
      ],
      "text/plain": [
       "<IPython.core.display.Javascript object>"
      ]
     },
     "metadata": {},
     "output_type": "display_data"
    }
   ],
   "source": [
    "dfr_test"
   ]
  },
  {
   "cell_type": "code",
   "execution_count": 46,
   "metadata": {},
   "outputs": [
    {
     "data": {
      "application/javascript": [
       "\n",
       "            setTimeout(function() {\n",
       "                var nbb_cell_id = 46;\n",
       "                var nbb_unformatted_code = \"dfr_dev3 = dfr_dev2[[\\\"<=1k\\\", \\\"Bad state\\\", \\\"Good state\\\", \\\"1-2 years\\\"]]\\ndfr_test3 = dfr_test2[[\\\"<=1k\\\", \\\"Bad state\\\", \\\"Good state\\\", \\\"1-2 years\\\"]]\";\n",
       "                var nbb_formatted_code = \"dfr_dev3 = dfr_dev2[[\\\"<=1k\\\", \\\"Bad state\\\", \\\"Good state\\\", \\\"1-2 years\\\"]]\\ndfr_test3 = dfr_test2[[\\\"<=1k\\\", \\\"Bad state\\\", \\\"Good state\\\", \\\"1-2 years\\\"]]\";\n",
       "                var nbb_cells = Jupyter.notebook.get_cells();\n",
       "                for (var i = 0; i < nbb_cells.length; ++i) {\n",
       "                    if (nbb_cells[i].input_prompt_number == nbb_cell_id) {\n",
       "                        if (nbb_cells[i].get_text() == nbb_unformatted_code) {\n",
       "                             nbb_cells[i].set_text(nbb_formatted_code);\n",
       "                        }\n",
       "                        break;\n",
       "                    }\n",
       "                }\n",
       "            }, 500);\n",
       "            "
      ],
      "text/plain": [
       "<IPython.core.display.Javascript object>"
      ]
     },
     "metadata": {},
     "output_type": "display_data"
    }
   ],
   "source": [
    "dfr_dev3 = dfr_dev2[[\"<=1k\", \"Bad state\", \"Good state\", \"1-2 years\"]]\n",
    "dfr_test3 = dfr_test2[[\"<=1k\", \"Bad state\", \"Good state\", \"1-2 years\"]]"
   ]
  },
  {
   "cell_type": "code",
   "execution_count": 47,
   "metadata": {},
   "outputs": [
    {
     "data": {
      "text/html": [
       "<div>\n",
       "<style scoped>\n",
       "    .dataframe tbody tr th:only-of-type {\n",
       "        vertical-align: middle;\n",
       "    }\n",
       "\n",
       "    .dataframe tbody tr th {\n",
       "        vertical-align: top;\n",
       "    }\n",
       "\n",
       "    .dataframe thead th {\n",
       "        text-align: right;\n",
       "    }\n",
       "</style>\n",
       "<table border=\"1\" class=\"dataframe\">\n",
       "  <thead>\n",
       "    <tr style=\"text-align: right;\">\n",
       "      <th></th>\n",
       "      <th>Rejects</th>\n",
       "    </tr>\n",
       "    <tr>\n",
       "      <th>prediction_beforeRI</th>\n",
       "      <th></th>\n",
       "    </tr>\n",
       "  </thead>\n",
       "  <tbody>\n",
       "    <tr>\n",
       "      <th>0.110538</th>\n",
       "      <td>554</td>\n",
       "    </tr>\n",
       "    <tr>\n",
       "      <th>0.144464</th>\n",
       "      <td>312</td>\n",
       "    </tr>\n",
       "    <tr>\n",
       "      <th>0.160783</th>\n",
       "      <td>124</td>\n",
       "    </tr>\n",
       "    <tr>\n",
       "      <th>0.178020</th>\n",
       "      <td>90</td>\n",
       "    </tr>\n",
       "    <tr>\n",
       "      <th>0.206549</th>\n",
       "      <td>69</td>\n",
       "    </tr>\n",
       "    <tr>\n",
       "      <th>0.250306</th>\n",
       "      <td>25</td>\n",
       "    </tr>\n",
       "    <tr>\n",
       "      <th>0.271253</th>\n",
       "      <td>8056</td>\n",
       "    </tr>\n",
       "    <tr>\n",
       "      <th>0.335878</th>\n",
       "      <td>4280</td>\n",
       "    </tr>\n",
       "    <tr>\n",
       "      <th>0.364605</th>\n",
       "      <td>1387</td>\n",
       "    </tr>\n",
       "    <tr>\n",
       "      <th>0.393448</th>\n",
       "      <td>1617</td>\n",
       "    </tr>\n",
       "    <tr>\n",
       "      <th>0.438100</th>\n",
       "      <td>706</td>\n",
       "    </tr>\n",
       "    <tr>\n",
       "      <th>0.500000</th>\n",
       "      <td>280</td>\n",
       "    </tr>\n",
       "  </tbody>\n",
       "</table>\n",
       "</div>"
      ],
      "text/plain": [
       "                     Rejects\n",
       "prediction_beforeRI         \n",
       "0.110538                 554\n",
       "0.144464                 312\n",
       "0.160783                 124\n",
       "0.178020                  90\n",
       "0.206549                  69\n",
       "0.250306                  25\n",
       "0.271253                8056\n",
       "0.335878                4280\n",
       "0.364605                1387\n",
       "0.393448                1617\n",
       "0.438100                 706\n",
       "0.500000                 280"
      ]
     },
     "execution_count": 47,
     "metadata": {},
     "output_type": "execute_result"
    },
    {
     "data": {
      "application/javascript": [
       "\n",
       "            setTimeout(function() {\n",
       "                var nbb_cell_id = 47;\n",
       "                var nbb_unformatted_code = \"# Predictions\\nrej_test_predictions = logreg.predict_proba(dfr_dev3)[:, 1]\\ndf_pred_rej = pd.DataFrame(\\n    data=rej_test_predictions,\\n    columns=[\\\"prediction_beforeRI\\\"],\\n    index=dfr_dev2.index.copy(),\\n)\\ndf_pred_rej[\\\"Rejects\\\"] = df_pred_rej.groupby(\\\"prediction_beforeRI\\\")[\\n    \\\"prediction_beforeRI\\\"\\n].transform(\\\"count\\\")\\ndf_pred_rej.groupby([\\\"prediction_beforeRI\\\"]).count()\";\n",
       "                var nbb_formatted_code = \"# Predictions\\nrej_test_predictions = logreg.predict_proba(dfr_dev3)[:, 1]\\ndf_pred_rej = pd.DataFrame(\\n    data=rej_test_predictions,\\n    columns=[\\\"prediction_beforeRI\\\"],\\n    index=dfr_dev2.index.copy(),\\n)\\ndf_pred_rej[\\\"Rejects\\\"] = df_pred_rej.groupby(\\\"prediction_beforeRI\\\")[\\n    \\\"prediction_beforeRI\\\"\\n].transform(\\\"count\\\")\\ndf_pred_rej.groupby([\\\"prediction_beforeRI\\\"]).count()\";\n",
       "                var nbb_cells = Jupyter.notebook.get_cells();\n",
       "                for (var i = 0; i < nbb_cells.length; ++i) {\n",
       "                    if (nbb_cells[i].input_prompt_number == nbb_cell_id) {\n",
       "                        if (nbb_cells[i].get_text() == nbb_unformatted_code) {\n",
       "                             nbb_cells[i].set_text(nbb_formatted_code);\n",
       "                        }\n",
       "                        break;\n",
       "                    }\n",
       "                }\n",
       "            }, 500);\n",
       "            "
      ],
      "text/plain": [
       "<IPython.core.display.Javascript object>"
      ]
     },
     "metadata": {},
     "output_type": "display_data"
    }
   ],
   "source": [
    "# Predictions\n",
    "rej_test_predictions = logreg.predict_proba(dfr_dev3)[:, 1]\n",
    "df_pred_rej = pd.DataFrame(\n",
    "    data=rej_test_predictions,\n",
    "    columns=[\"prediction_beforeRI\"],\n",
    "    index=dfr_dev2.index.copy(),\n",
    ")\n",
    "df_pred_rej[\"Rejects\"] = df_pred_rej.groupby(\"prediction_beforeRI\")[\n",
    "    \"prediction_beforeRI\"\n",
    "].transform(\"count\")\n",
    "df_pred_rej.groupby([\"prediction_beforeRI\"]).count()"
   ]
  },
  {
   "cell_type": "markdown",
   "metadata": {},
   "source": [
    "### Reject Inference: Simple Augmentation (arbitrary cutoff 0.3)"
   ]
  },
  {
   "cell_type": "code",
   "execution_count": 48,
   "metadata": {},
   "outputs": [
    {
     "data": {
      "text/html": [
       "<div>\n",
       "<style scoped>\n",
       "    .dataframe tbody tr th:only-of-type {\n",
       "        vertical-align: middle;\n",
       "    }\n",
       "\n",
       "    .dataframe tbody tr th {\n",
       "        vertical-align: top;\n",
       "    }\n",
       "\n",
       "    .dataframe thead th {\n",
       "        text-align: right;\n",
       "    }\n",
       "</style>\n",
       "<table border=\"1\" class=\"dataframe\">\n",
       "  <thead>\n",
       "    <tr style=\"text-align: right;\">\n",
       "      <th></th>\n",
       "      <th>id</th>\n",
       "      <th>prediction_beforeRI</th>\n",
       "    </tr>\n",
       "  </thead>\n",
       "  <tbody>\n",
       "    <tr>\n",
       "      <th>10171</th>\n",
       "      <td>e7c5e9a0-a647-4b48-966a-b3cb95a76b19</td>\n",
       "      <td>0</td>\n",
       "    </tr>\n",
       "    <tr>\n",
       "      <th>7346</th>\n",
       "      <td>ab919792-0c15-4fc1-9ec3-bcf1629e84ac</td>\n",
       "      <td>0</td>\n",
       "    </tr>\n",
       "    <tr>\n",
       "      <th>21944</th>\n",
       "      <td>a0172b06-8488-4445-9f10-c2e5262b6f7b</td>\n",
       "      <td>1</td>\n",
       "    </tr>\n",
       "    <tr>\n",
       "      <th>15349</th>\n",
       "      <td>474d502a-a041-4f69-91f4-b01fb6d79825</td>\n",
       "      <td>0</td>\n",
       "    </tr>\n",
       "    <tr>\n",
       "      <th>19067</th>\n",
       "      <td>5b404e41-1f77-4ff0-a1c7-b87455442b1b</td>\n",
       "      <td>0</td>\n",
       "    </tr>\n",
       "    <tr>\n",
       "      <th>...</th>\n",
       "      <td>...</td>\n",
       "      <td>...</td>\n",
       "    </tr>\n",
       "    <tr>\n",
       "      <th>13981</th>\n",
       "      <td>5b4913cb-6513-423b-9389-e53f822f39cc</td>\n",
       "      <td>0</td>\n",
       "    </tr>\n",
       "    <tr>\n",
       "      <th>5170</th>\n",
       "      <td>1756ba5b-f2ee-4190-8318-50a9e585108c</td>\n",
       "      <td>0</td>\n",
       "    </tr>\n",
       "    <tr>\n",
       "      <th>1391</th>\n",
       "      <td>6c760a11-c818-48dd-ad75-2272add6c918</td>\n",
       "      <td>1</td>\n",
       "    </tr>\n",
       "    <tr>\n",
       "      <th>11865</th>\n",
       "      <td>b83e806e-b936-443d-8875-a3ea56691249</td>\n",
       "      <td>0</td>\n",
       "    </tr>\n",
       "    <tr>\n",
       "      <th>623</th>\n",
       "      <td>06be2323-40cd-4ee5-a0d5-6c72eb306aae</td>\n",
       "      <td>1</td>\n",
       "    </tr>\n",
       "  </tbody>\n",
       "</table>\n",
       "<p>17500 rows × 2 columns</p>\n",
       "</div>"
      ],
      "text/plain": [
       "                                         id  prediction_beforeRI\n",
       "10171  e7c5e9a0-a647-4b48-966a-b3cb95a76b19                    0\n",
       "7346   ab919792-0c15-4fc1-9ec3-bcf1629e84ac                    0\n",
       "21944  a0172b06-8488-4445-9f10-c2e5262b6f7b                    1\n",
       "15349  474d502a-a041-4f69-91f4-b01fb6d79825                    0\n",
       "19067  5b404e41-1f77-4ff0-a1c7-b87455442b1b                    0\n",
       "...                                     ...                  ...\n",
       "13981  5b4913cb-6513-423b-9389-e53f822f39cc                    0\n",
       "5170   1756ba5b-f2ee-4190-8318-50a9e585108c                    0\n",
       "1391   6c760a11-c818-48dd-ad75-2272add6c918                    1\n",
       "11865  b83e806e-b936-443d-8875-a3ea56691249                    0\n",
       "623    06be2323-40cd-4ee5-a0d5-6c72eb306aae                    1\n",
       "\n",
       "[17500 rows x 2 columns]"
      ]
     },
     "execution_count": 48,
     "metadata": {},
     "output_type": "execute_result"
    },
    {
     "data": {
      "application/javascript": [
       "\n",
       "            setTimeout(function() {\n",
       "                var nbb_cell_id = 48;\n",
       "                var nbb_unformatted_code = \"# Join predictions with train new\\npred_ri = logreg.predict_proba(dfr_dev3)[:, 1]\\npred_ri1 = pd.DataFrame(\\n    data=pred_ri,\\n    columns=[\\\"prediction2\\\"],\\n    index=dfr_dev2.index.copy(),\\n)\\npred_ri1[\\\"prediction_beforeRI\\\"] = pred_ri1[\\\"prediction2\\\"].apply(\\n    lambda x: 0 if (x < 0.3) else 1\\n)\\nri1 = pd.merge(\\n    dfr_dev2,\\n    pred_ri1[[\\\"prediction_beforeRI\\\"]],\\n    how=\\\"inner\\\",\\n    left_index=True,\\n    right_index=True,\\n)\\n# pred_test1.dropna(subset=[\\\"prediction_beforeRI\\\"], inplace=True)\\nri1_train = ri1[[\\\"id\\\", \\\"prediction_beforeRI\\\"]]\\nri1_train\";\n",
       "                var nbb_formatted_code = \"# Join predictions with train new\\npred_ri = logreg.predict_proba(dfr_dev3)[:, 1]\\npred_ri1 = pd.DataFrame(\\n    data=pred_ri,\\n    columns=[\\\"prediction2\\\"],\\n    index=dfr_dev2.index.copy(),\\n)\\npred_ri1[\\\"prediction_beforeRI\\\"] = pred_ri1[\\\"prediction2\\\"].apply(\\n    lambda x: 0 if (x < 0.3) else 1\\n)\\nri1 = pd.merge(\\n    dfr_dev2,\\n    pred_ri1[[\\\"prediction_beforeRI\\\"]],\\n    how=\\\"inner\\\",\\n    left_index=True,\\n    right_index=True,\\n)\\n# pred_test1.dropna(subset=[\\\"prediction_beforeRI\\\"], inplace=True)\\nri1_train = ri1[[\\\"id\\\", \\\"prediction_beforeRI\\\"]]\\nri1_train\";\n",
       "                var nbb_cells = Jupyter.notebook.get_cells();\n",
       "                for (var i = 0; i < nbb_cells.length; ++i) {\n",
       "                    if (nbb_cells[i].input_prompt_number == nbb_cell_id) {\n",
       "                        if (nbb_cells[i].get_text() == nbb_unformatted_code) {\n",
       "                             nbb_cells[i].set_text(nbb_formatted_code);\n",
       "                        }\n",
       "                        break;\n",
       "                    }\n",
       "                }\n",
       "            }, 500);\n",
       "            "
      ],
      "text/plain": [
       "<IPython.core.display.Javascript object>"
      ]
     },
     "metadata": {},
     "output_type": "display_data"
    }
   ],
   "source": [
    "# Join predictions with train new\n",
    "pred_ri = logreg.predict_proba(dfr_dev3)[:, 1]\n",
    "pred_ri1 = pd.DataFrame(\n",
    "    data=pred_ri,\n",
    "    columns=[\"prediction2\"],\n",
    "    index=dfr_dev2.index.copy(),\n",
    ")\n",
    "pred_ri1[\"prediction_beforeRI\"] = pred_ri1[\"prediction2\"].apply(\n",
    "    lambda x: 0 if (x < 0.3) else 1\n",
    ")\n",
    "ri1 = pd.merge(\n",
    "    dfr_dev2,\n",
    "    pred_ri1[[\"prediction_beforeRI\"]],\n",
    "    how=\"inner\",\n",
    "    left_index=True,\n",
    "    right_index=True,\n",
    ")\n",
    "# pred_test1.dropna(subset=[\"prediction_beforeRI\"], inplace=True)\n",
    "ri1_train = ri1[[\"id\", \"prediction_beforeRI\"]]\n",
    "ri1_train"
   ]
  },
  {
   "cell_type": "markdown",
   "metadata": {},
   "source": [
    "### K-Means"
   ]
  },
  {
   "cell_type": "markdown",
   "metadata": {},
   "source": [
    "to-do:\n",
    "- grid search/hypterparameter optimization\n",
    "- visualization"
   ]
  },
  {
   "cell_type": "code",
   "execution_count": 49,
   "metadata": {},
   "outputs": [
    {
     "data": {
      "application/javascript": [
       "\n",
       "            setTimeout(function() {\n",
       "                var nbb_cell_id = 49;\n",
       "                var nbb_unformatted_code = \"kmeans = KMeans(init=\\\"random\\\", n_clusters=2, n_init=10, max_iter=300, random_state=7)\";\n",
       "                var nbb_formatted_code = \"kmeans = KMeans(init=\\\"random\\\", n_clusters=2, n_init=10, max_iter=300, random_state=7)\";\n",
       "                var nbb_cells = Jupyter.notebook.get_cells();\n",
       "                for (var i = 0; i < nbb_cells.length; ++i) {\n",
       "                    if (nbb_cells[i].input_prompt_number == nbb_cell_id) {\n",
       "                        if (nbb_cells[i].get_text() == nbb_unformatted_code) {\n",
       "                             nbb_cells[i].set_text(nbb_formatted_code);\n",
       "                        }\n",
       "                        break;\n",
       "                    }\n",
       "                }\n",
       "            }, 500);\n",
       "            "
      ],
      "text/plain": [
       "<IPython.core.display.Javascript object>"
      ]
     },
     "metadata": {},
     "output_type": "display_data"
    }
   ],
   "source": [
    "kmeans = KMeans(init=\"random\", n_clusters=2, n_init=10, max_iter=300, random_state=7)"
   ]
  },
  {
   "cell_type": "code",
   "execution_count": 50,
   "metadata": {},
   "outputs": [
    {
     "data": {
      "application/javascript": [
       "\n",
       "            setTimeout(function() {\n",
       "                var nbb_cell_id = 50;\n",
       "                var nbb_unformatted_code = \"kmodel = kmeans.fit(dfr_dev3)\";\n",
       "                var nbb_formatted_code = \"kmodel = kmeans.fit(dfr_dev3)\";\n",
       "                var nbb_cells = Jupyter.notebook.get_cells();\n",
       "                for (var i = 0; i < nbb_cells.length; ++i) {\n",
       "                    if (nbb_cells[i].input_prompt_number == nbb_cell_id) {\n",
       "                        if (nbb_cells[i].get_text() == nbb_unformatted_code) {\n",
       "                             nbb_cells[i].set_text(nbb_formatted_code);\n",
       "                        }\n",
       "                        break;\n",
       "                    }\n",
       "                }\n",
       "            }, 500);\n",
       "            "
      ],
      "text/plain": [
       "<IPython.core.display.Javascript object>"
      ]
     },
     "metadata": {},
     "output_type": "display_data"
    }
   ],
   "source": [
    "kmodel = kmeans.fit(dfr_dev3)"
   ]
  },
  {
   "cell_type": "code",
   "execution_count": 51,
   "metadata": {},
   "outputs": [
    {
     "data": {
      "text/plain": [
       "4980.756463481785"
      ]
     },
     "execution_count": 51,
     "metadata": {},
     "output_type": "execute_result"
    },
    {
     "data": {
      "application/javascript": [
       "\n",
       "            setTimeout(function() {\n",
       "                var nbb_cell_id = 51;\n",
       "                var nbb_unformatted_code = \"kmeans.inertia_\";\n",
       "                var nbb_formatted_code = \"kmeans.inertia_\";\n",
       "                var nbb_cells = Jupyter.notebook.get_cells();\n",
       "                for (var i = 0; i < nbb_cells.length; ++i) {\n",
       "                    if (nbb_cells[i].input_prompt_number == nbb_cell_id) {\n",
       "                        if (nbb_cells[i].get_text() == nbb_unformatted_code) {\n",
       "                             nbb_cells[i].set_text(nbb_formatted_code);\n",
       "                        }\n",
       "                        break;\n",
       "                    }\n",
       "                }\n",
       "            }, 500);\n",
       "            "
      ],
      "text/plain": [
       "<IPython.core.display.Javascript object>"
      ]
     },
     "metadata": {},
     "output_type": "display_data"
    }
   ],
   "source": [
    "kmeans.inertia_"
   ]
  },
  {
   "cell_type": "code",
   "execution_count": 52,
   "metadata": {},
   "outputs": [
    {
     "data": {
      "text/plain": [
       "array([[ 7.09893795e-02,  9.43689571e-15,  1.00000000e+00,\n",
       "         8.55599031e-01],\n",
       "       [ 6.53589384e-02,  8.34171268e-01, -4.99600361e-15,\n",
       "         8.50325558e-01]])"
      ]
     },
     "execution_count": 52,
     "metadata": {},
     "output_type": "execute_result"
    },
    {
     "data": {
      "application/javascript": [
       "\n",
       "            setTimeout(function() {\n",
       "                var nbb_cell_id = 52;\n",
       "                var nbb_unformatted_code = \"kmeans.cluster_centers_\";\n",
       "                var nbb_formatted_code = \"kmeans.cluster_centers_\";\n",
       "                var nbb_cells = Jupyter.notebook.get_cells();\n",
       "                for (var i = 0; i < nbb_cells.length; ++i) {\n",
       "                    if (nbb_cells[i].input_prompt_number == nbb_cell_id) {\n",
       "                        if (nbb_cells[i].get_text() == nbb_unformatted_code) {\n",
       "                             nbb_cells[i].set_text(nbb_formatted_code);\n",
       "                        }\n",
       "                        break;\n",
       "                    }\n",
       "                }\n",
       "            }, 500);\n",
       "            "
      ],
      "text/plain": [
       "<IPython.core.display.Javascript object>"
      ]
     },
     "metadata": {},
     "output_type": "display_data"
    }
   ],
   "source": [
    "kmeans.cluster_centers_"
   ]
  },
  {
   "cell_type": "code",
   "execution_count": 53,
   "metadata": {},
   "outputs": [
    {
     "data": {
      "text/plain": [
       "3"
      ]
     },
     "execution_count": 53,
     "metadata": {},
     "output_type": "execute_result"
    },
    {
     "data": {
      "application/javascript": [
       "\n",
       "            setTimeout(function() {\n",
       "                var nbb_cell_id = 53;\n",
       "                var nbb_unformatted_code = \"kmeans.n_iter_\";\n",
       "                var nbb_formatted_code = \"kmeans.n_iter_\";\n",
       "                var nbb_cells = Jupyter.notebook.get_cells();\n",
       "                for (var i = 0; i < nbb_cells.length; ++i) {\n",
       "                    if (nbb_cells[i].input_prompt_number == nbb_cell_id) {\n",
       "                        if (nbb_cells[i].get_text() == nbb_unformatted_code) {\n",
       "                             nbb_cells[i].set_text(nbb_formatted_code);\n",
       "                        }\n",
       "                        break;\n",
       "                    }\n",
       "                }\n",
       "            }, 500);\n",
       "            "
      ],
      "text/plain": [
       "<IPython.core.display.Javascript object>"
      ]
     },
     "metadata": {},
     "output_type": "display_data"
    }
   ],
   "source": [
    "kmeans.n_iter_"
   ]
  },
  {
   "cell_type": "code",
   "execution_count": 54,
   "metadata": {},
   "outputs": [
    {
     "data": {
      "text/plain": [
       "array([1, 1, 1, ..., 0, 1, 0])"
      ]
     },
     "execution_count": 54,
     "metadata": {},
     "output_type": "execute_result"
    },
    {
     "data": {
      "application/javascript": [
       "\n",
       "            setTimeout(function() {\n",
       "                var nbb_cell_id = 54;\n",
       "                var nbb_unformatted_code = \"kmeans.labels_\";\n",
       "                var nbb_formatted_code = \"kmeans.labels_\";\n",
       "                var nbb_cells = Jupyter.notebook.get_cells();\n",
       "                for (var i = 0; i < nbb_cells.length; ++i) {\n",
       "                    if (nbb_cells[i].input_prompt_number == nbb_cell_id) {\n",
       "                        if (nbb_cells[i].get_text() == nbb_unformatted_code) {\n",
       "                             nbb_cells[i].set_text(nbb_formatted_code);\n",
       "                        }\n",
       "                        break;\n",
       "                    }\n",
       "                }\n",
       "            }, 500);\n",
       "            "
      ],
      "text/plain": [
       "<IPython.core.display.Javascript object>"
      ]
     },
     "metadata": {},
     "output_type": "display_data"
    }
   ],
   "source": [
    "kmeans.labels_"
   ]
  },
  {
   "cell_type": "markdown",
   "metadata": {},
   "source": [
    "### Reject Inference K-means"
   ]
  },
  {
   "cell_type": "markdown",
   "metadata": {},
   "source": [
    "### Train set"
   ]
  },
  {
   "cell_type": "code",
   "execution_count": 55,
   "metadata": {},
   "outputs": [
    {
     "data": {
      "text/html": [
       "<div>\n",
       "<style scoped>\n",
       "    .dataframe tbody tr th:only-of-type {\n",
       "        vertical-align: middle;\n",
       "    }\n",
       "\n",
       "    .dataframe tbody tr th {\n",
       "        vertical-align: top;\n",
       "    }\n",
       "\n",
       "    .dataframe thead th {\n",
       "        text-align: right;\n",
       "    }\n",
       "</style>\n",
       "<table border=\"1\" class=\"dataframe\">\n",
       "  <thead>\n",
       "    <tr style=\"text-align: right;\">\n",
       "      <th></th>\n",
       "      <th>Rejects</th>\n",
       "    </tr>\n",
       "    <tr>\n",
       "      <th>prediction</th>\n",
       "      <th></th>\n",
       "    </tr>\n",
       "  </thead>\n",
       "  <tbody>\n",
       "    <tr>\n",
       "      <th>0</th>\n",
       "      <td>5367</td>\n",
       "    </tr>\n",
       "    <tr>\n",
       "      <th>1</th>\n",
       "      <td>12133</td>\n",
       "    </tr>\n",
       "  </tbody>\n",
       "</table>\n",
       "</div>"
      ],
      "text/plain": [
       "            Rejects\n",
       "prediction         \n",
       "0              5367\n",
       "1             12133"
      ]
     },
     "execution_count": 55,
     "metadata": {},
     "output_type": "execute_result"
    },
    {
     "data": {
      "application/javascript": [
       "\n",
       "            setTimeout(function() {\n",
       "                var nbb_cell_id = 55;\n",
       "                var nbb_unformatted_code = \"# Predictions\\nrej_test_predictions_kmeans = kmeans.labels_\\ndf_pred_rej_kmeans = pd.DataFrame(\\n    data=rej_test_predictions_kmeans, columns=[\\\"prediction\\\"]\\n)\\ndf_pred_rej_kmeans[\\\"Rejects\\\"] = df_pred_rej_kmeans.groupby(\\\"prediction\\\")[\\n    \\\"prediction\\\"\\n].transform(\\\"count\\\")\\ndf_pred_rej_kmeans.groupby([\\\"prediction\\\"]).count()\";\n",
       "                var nbb_formatted_code = \"# Predictions\\nrej_test_predictions_kmeans = kmeans.labels_\\ndf_pred_rej_kmeans = pd.DataFrame(\\n    data=rej_test_predictions_kmeans, columns=[\\\"prediction\\\"]\\n)\\ndf_pred_rej_kmeans[\\\"Rejects\\\"] = df_pred_rej_kmeans.groupby(\\\"prediction\\\")[\\n    \\\"prediction\\\"\\n].transform(\\\"count\\\")\\ndf_pred_rej_kmeans.groupby([\\\"prediction\\\"]).count()\";\n",
       "                var nbb_cells = Jupyter.notebook.get_cells();\n",
       "                for (var i = 0; i < nbb_cells.length; ++i) {\n",
       "                    if (nbb_cells[i].input_prompt_number == nbb_cell_id) {\n",
       "                        if (nbb_cells[i].get_text() == nbb_unformatted_code) {\n",
       "                             nbb_cells[i].set_text(nbb_formatted_code);\n",
       "                        }\n",
       "                        break;\n",
       "                    }\n",
       "                }\n",
       "            }, 500);\n",
       "            "
      ],
      "text/plain": [
       "<IPython.core.display.Javascript object>"
      ]
     },
     "metadata": {},
     "output_type": "display_data"
    }
   ],
   "source": [
    "# Predictions\n",
    "rej_test_predictions_kmeans = kmeans.labels_\n",
    "df_pred_rej_kmeans = pd.DataFrame(\n",
    "    data=rej_test_predictions_kmeans, columns=[\"prediction\"]\n",
    ")\n",
    "df_pred_rej_kmeans[\"Rejects\"] = df_pred_rej_kmeans.groupby(\"prediction\")[\n",
    "    \"prediction\"\n",
    "].transform(\"count\")\n",
    "df_pred_rej_kmeans.groupby([\"prediction\"]).count()"
   ]
  },
  {
   "cell_type": "code",
   "execution_count": 56,
   "metadata": {},
   "outputs": [
    {
     "data": {
      "text/html": [
       "<div>\n",
       "<style scoped>\n",
       "    .dataframe tbody tr th:only-of-type {\n",
       "        vertical-align: middle;\n",
       "    }\n",
       "\n",
       "    .dataframe tbody tr th {\n",
       "        vertical-align: top;\n",
       "    }\n",
       "\n",
       "    .dataframe thead th {\n",
       "        text-align: right;\n",
       "    }\n",
       "</style>\n",
       "<table border=\"1\" class=\"dataframe\">\n",
       "  <thead>\n",
       "    <tr style=\"text-align: right;\">\n",
       "      <th></th>\n",
       "      <th>id</th>\n",
       "      <th>prediction_beforeRI</th>\n",
       "    </tr>\n",
       "  </thead>\n",
       "  <tbody>\n",
       "    <tr>\n",
       "      <th>10171</th>\n",
       "      <td>e7c5e9a0-a647-4b48-966a-b3cb95a76b19</td>\n",
       "      <td>1</td>\n",
       "    </tr>\n",
       "    <tr>\n",
       "      <th>7346</th>\n",
       "      <td>ab919792-0c15-4fc1-9ec3-bcf1629e84ac</td>\n",
       "      <td>1</td>\n",
       "    </tr>\n",
       "    <tr>\n",
       "      <th>21944</th>\n",
       "      <td>a0172b06-8488-4445-9f10-c2e5262b6f7b</td>\n",
       "      <td>1</td>\n",
       "    </tr>\n",
       "    <tr>\n",
       "      <th>15349</th>\n",
       "      <td>474d502a-a041-4f69-91f4-b01fb6d79825</td>\n",
       "      <td>1</td>\n",
       "    </tr>\n",
       "    <tr>\n",
       "      <th>19067</th>\n",
       "      <td>5b404e41-1f77-4ff0-a1c7-b87455442b1b</td>\n",
       "      <td>1</td>\n",
       "    </tr>\n",
       "    <tr>\n",
       "      <th>...</th>\n",
       "      <td>...</td>\n",
       "      <td>...</td>\n",
       "    </tr>\n",
       "    <tr>\n",
       "      <th>13981</th>\n",
       "      <td>5b4913cb-6513-423b-9389-e53f822f39cc</td>\n",
       "      <td>1</td>\n",
       "    </tr>\n",
       "    <tr>\n",
       "      <th>5170</th>\n",
       "      <td>1756ba5b-f2ee-4190-8318-50a9e585108c</td>\n",
       "      <td>1</td>\n",
       "    </tr>\n",
       "    <tr>\n",
       "      <th>1391</th>\n",
       "      <td>6c760a11-c818-48dd-ad75-2272add6c918</td>\n",
       "      <td>0</td>\n",
       "    </tr>\n",
       "    <tr>\n",
       "      <th>11865</th>\n",
       "      <td>b83e806e-b936-443d-8875-a3ea56691249</td>\n",
       "      <td>1</td>\n",
       "    </tr>\n",
       "    <tr>\n",
       "      <th>623</th>\n",
       "      <td>06be2323-40cd-4ee5-a0d5-6c72eb306aae</td>\n",
       "      <td>0</td>\n",
       "    </tr>\n",
       "  </tbody>\n",
       "</table>\n",
       "<p>17500 rows × 2 columns</p>\n",
       "</div>"
      ],
      "text/plain": [
       "                                         id  prediction_beforeRI\n",
       "10171  e7c5e9a0-a647-4b48-966a-b3cb95a76b19                    1\n",
       "7346   ab919792-0c15-4fc1-9ec3-bcf1629e84ac                    1\n",
       "21944  a0172b06-8488-4445-9f10-c2e5262b6f7b                    1\n",
       "15349  474d502a-a041-4f69-91f4-b01fb6d79825                    1\n",
       "19067  5b404e41-1f77-4ff0-a1c7-b87455442b1b                    1\n",
       "...                                     ...                  ...\n",
       "13981  5b4913cb-6513-423b-9389-e53f822f39cc                    1\n",
       "5170   1756ba5b-f2ee-4190-8318-50a9e585108c                    1\n",
       "1391   6c760a11-c818-48dd-ad75-2272add6c918                    0\n",
       "11865  b83e806e-b936-443d-8875-a3ea56691249                    1\n",
       "623    06be2323-40cd-4ee5-a0d5-6c72eb306aae                    0\n",
       "\n",
       "[17500 rows x 2 columns]"
      ]
     },
     "execution_count": 56,
     "metadata": {},
     "output_type": "execute_result"
    },
    {
     "data": {
      "application/javascript": [
       "\n",
       "            setTimeout(function() {\n",
       "                var nbb_cell_id = 56;\n",
       "                var nbb_unformatted_code = \"# Join predictions with train new\\npred_ri = kmeans.labels_\\npred_ri2 = pd.DataFrame(\\n    data=pred_ri, columns=[\\\"prediction_beforeRI\\\"], index=dfr_dev2.index.copy()\\n)\\nri2 = pd.merge(\\n    dfr_dev2,\\n    pred_ri2[[\\\"prediction_beforeRI\\\"]],\\n    how=\\\"inner\\\",\\n    left_index=True,\\n    right_index=True,\\n)\\n# pred_test1.dropna(subset=[\\\"prediction_beforeRI\\\"], inplace=True)\\nri2_train = ri2[[\\\"id\\\", \\\"prediction_beforeRI\\\"]]\\nri2_train\";\n",
       "                var nbb_formatted_code = \"# Join predictions with train new\\npred_ri = kmeans.labels_\\npred_ri2 = pd.DataFrame(\\n    data=pred_ri, columns=[\\\"prediction_beforeRI\\\"], index=dfr_dev2.index.copy()\\n)\\nri2 = pd.merge(\\n    dfr_dev2,\\n    pred_ri2[[\\\"prediction_beforeRI\\\"]],\\n    how=\\\"inner\\\",\\n    left_index=True,\\n    right_index=True,\\n)\\n# pred_test1.dropna(subset=[\\\"prediction_beforeRI\\\"], inplace=True)\\nri2_train = ri2[[\\\"id\\\", \\\"prediction_beforeRI\\\"]]\\nri2_train\";\n",
       "                var nbb_cells = Jupyter.notebook.get_cells();\n",
       "                for (var i = 0; i < nbb_cells.length; ++i) {\n",
       "                    if (nbb_cells[i].input_prompt_number == nbb_cell_id) {\n",
       "                        if (nbb_cells[i].get_text() == nbb_unformatted_code) {\n",
       "                             nbb_cells[i].set_text(nbb_formatted_code);\n",
       "                        }\n",
       "                        break;\n",
       "                    }\n",
       "                }\n",
       "            }, 500);\n",
       "            "
      ],
      "text/plain": [
       "<IPython.core.display.Javascript object>"
      ]
     },
     "metadata": {},
     "output_type": "display_data"
    }
   ],
   "source": [
    "# Join predictions with train new\n",
    "pred_ri = kmeans.labels_\n",
    "pred_ri2 = pd.DataFrame(\n",
    "    data=pred_ri, columns=[\"prediction_beforeRI\"], index=dfr_dev2.index.copy()\n",
    ")\n",
    "ri2 = pd.merge(\n",
    "    dfr_dev2,\n",
    "    pred_ri2[[\"prediction_beforeRI\"]],\n",
    "    how=\"inner\",\n",
    "    left_index=True,\n",
    "    right_index=True,\n",
    ")\n",
    "# pred_test1.dropna(subset=[\"prediction_beforeRI\"], inplace=True)\n",
    "ri2_train = ri2[[\"id\", \"prediction_beforeRI\"]]\n",
    "ri2_train"
   ]
  },
  {
   "cell_type": "markdown",
   "metadata": {},
   "source": [
    "### Test Set"
   ]
  },
  {
   "cell_type": "code",
   "execution_count": 57,
   "metadata": {},
   "outputs": [
    {
     "data": {
      "text/html": [
       "<div>\n",
       "<style scoped>\n",
       "    .dataframe tbody tr th:only-of-type {\n",
       "        vertical-align: middle;\n",
       "    }\n",
       "\n",
       "    .dataframe tbody tr th {\n",
       "        vertical-align: top;\n",
       "    }\n",
       "\n",
       "    .dataframe thead th {\n",
       "        text-align: right;\n",
       "    }\n",
       "</style>\n",
       "<table border=\"1\" class=\"dataframe\">\n",
       "  <thead>\n",
       "    <tr style=\"text-align: right;\">\n",
       "      <th></th>\n",
       "      <th>Rejects</th>\n",
       "    </tr>\n",
       "    <tr>\n",
       "      <th>prediction</th>\n",
       "      <th></th>\n",
       "    </tr>\n",
       "  </thead>\n",
       "  <tbody>\n",
       "    <tr>\n",
       "      <th>0</th>\n",
       "      <td>2356</td>\n",
       "    </tr>\n",
       "    <tr>\n",
       "      <th>1</th>\n",
       "      <td>5144</td>\n",
       "    </tr>\n",
       "  </tbody>\n",
       "</table>\n",
       "</div>"
      ],
      "text/plain": [
       "            Rejects\n",
       "prediction         \n",
       "0              2356\n",
       "1              5144"
      ]
     },
     "execution_count": 57,
     "metadata": {},
     "output_type": "execute_result"
    },
    {
     "data": {
      "application/javascript": [
       "\n",
       "            setTimeout(function() {\n",
       "                var nbb_cell_id = 57;\n",
       "                var nbb_unformatted_code = \"# Predictions\\nrej_test_predictions_kmeans2 = kmeans.predict(dfr_test3)\\ndf_pred_rej_kmeans2 = pd.DataFrame(\\n    data=rej_test_predictions_kmeans2,\\n    columns=[\\\"prediction\\\"],\\n    index=dfr_test2.index.copy(),\\n)\\ndf_pred_rej_kmeans2[\\\"Rejects\\\"] = df_pred_rej_kmeans2.groupby(\\\"prediction\\\")[\\n    \\\"prediction\\\"\\n].transform(\\\"count\\\")\\ndf_pred_rej_kmeans2.groupby([\\\"prediction\\\"]).count()\";\n",
       "                var nbb_formatted_code = \"# Predictions\\nrej_test_predictions_kmeans2 = kmeans.predict(dfr_test3)\\ndf_pred_rej_kmeans2 = pd.DataFrame(\\n    data=rej_test_predictions_kmeans2,\\n    columns=[\\\"prediction\\\"],\\n    index=dfr_test2.index.copy(),\\n)\\ndf_pred_rej_kmeans2[\\\"Rejects\\\"] = df_pred_rej_kmeans2.groupby(\\\"prediction\\\")[\\n    \\\"prediction\\\"\\n].transform(\\\"count\\\")\\ndf_pred_rej_kmeans2.groupby([\\\"prediction\\\"]).count()\";\n",
       "                var nbb_cells = Jupyter.notebook.get_cells();\n",
       "                for (var i = 0; i < nbb_cells.length; ++i) {\n",
       "                    if (nbb_cells[i].input_prompt_number == nbb_cell_id) {\n",
       "                        if (nbb_cells[i].get_text() == nbb_unformatted_code) {\n",
       "                             nbb_cells[i].set_text(nbb_formatted_code);\n",
       "                        }\n",
       "                        break;\n",
       "                    }\n",
       "                }\n",
       "            }, 500);\n",
       "            "
      ],
      "text/plain": [
       "<IPython.core.display.Javascript object>"
      ]
     },
     "metadata": {},
     "output_type": "display_data"
    }
   ],
   "source": [
    "# Predictions\n",
    "rej_test_predictions_kmeans2 = kmeans.predict(dfr_test3)\n",
    "df_pred_rej_kmeans2 = pd.DataFrame(\n",
    "    data=rej_test_predictions_kmeans2,\n",
    "    columns=[\"prediction\"],\n",
    "    index=dfr_test2.index.copy(),\n",
    ")\n",
    "df_pred_rej_kmeans2[\"Rejects\"] = df_pred_rej_kmeans2.groupby(\"prediction\")[\n",
    "    \"prediction\"\n",
    "].transform(\"count\")\n",
    "df_pred_rej_kmeans2.groupby([\"prediction\"]).count()"
   ]
  },
  {
   "cell_type": "code",
   "execution_count": 58,
   "metadata": {},
   "outputs": [
    {
     "data": {
      "text/html": [
       "<div>\n",
       "<style scoped>\n",
       "    .dataframe tbody tr th:only-of-type {\n",
       "        vertical-align: middle;\n",
       "    }\n",
       "\n",
       "    .dataframe tbody tr th {\n",
       "        vertical-align: top;\n",
       "    }\n",
       "\n",
       "    .dataframe thead th {\n",
       "        text-align: right;\n",
       "    }\n",
       "</style>\n",
       "<table border=\"1\" class=\"dataframe\">\n",
       "  <thead>\n",
       "    <tr style=\"text-align: right;\">\n",
       "      <th></th>\n",
       "      <th>id</th>\n",
       "      <th>prediction_beforeRI</th>\n",
       "    </tr>\n",
       "  </thead>\n",
       "  <tbody>\n",
       "    <tr>\n",
       "      <th>23730</th>\n",
       "      <td>df3016fa-15ad-4856-9b08-feaf82ea42f3</td>\n",
       "      <td>1</td>\n",
       "    </tr>\n",
       "    <tr>\n",
       "      <th>22044</th>\n",
       "      <td>0f9f3a47-32b3-48b8-bbaa-e636dc0c73b6</td>\n",
       "      <td>1</td>\n",
       "    </tr>\n",
       "    <tr>\n",
       "      <th>5475</th>\n",
       "      <td>0104ccdc-69a7-40d4-b595-574ed9218b02</td>\n",
       "      <td>1</td>\n",
       "    </tr>\n",
       "    <tr>\n",
       "      <th>5596</th>\n",
       "      <td>9b6324db-6f63-4bd1-9b20-ee8af64255fe</td>\n",
       "      <td>1</td>\n",
       "    </tr>\n",
       "    <tr>\n",
       "      <th>17072</th>\n",
       "      <td>6fa2d389-a429-411c-9604-ef5f60808864</td>\n",
       "      <td>0</td>\n",
       "    </tr>\n",
       "    <tr>\n",
       "      <th>...</th>\n",
       "      <td>...</td>\n",
       "      <td>...</td>\n",
       "    </tr>\n",
       "    <tr>\n",
       "      <th>110</th>\n",
       "      <td>fad0468c-98d5-4deb-a277-0a57ac4bc4d8</td>\n",
       "      <td>1</td>\n",
       "    </tr>\n",
       "    <tr>\n",
       "      <th>15195</th>\n",
       "      <td>dd9dabad-6725-4833-a74a-3202e9ef3b87</td>\n",
       "      <td>0</td>\n",
       "    </tr>\n",
       "    <tr>\n",
       "      <th>13546</th>\n",
       "      <td>d2faa9a6-c09b-4d89-99c7-3efdad7b279c</td>\n",
       "      <td>0</td>\n",
       "    </tr>\n",
       "    <tr>\n",
       "      <th>8408</th>\n",
       "      <td>f2f73460-ed93-4cfa-ab35-c7df19a4e57c</td>\n",
       "      <td>1</td>\n",
       "    </tr>\n",
       "    <tr>\n",
       "      <th>19407</th>\n",
       "      <td>08d886e5-d702-488b-a17b-19af4c9865bd</td>\n",
       "      <td>1</td>\n",
       "    </tr>\n",
       "  </tbody>\n",
       "</table>\n",
       "<p>7500 rows × 2 columns</p>\n",
       "</div>"
      ],
      "text/plain": [
       "                                         id  prediction_beforeRI\n",
       "23730  df3016fa-15ad-4856-9b08-feaf82ea42f3                    1\n",
       "22044  0f9f3a47-32b3-48b8-bbaa-e636dc0c73b6                    1\n",
       "5475   0104ccdc-69a7-40d4-b595-574ed9218b02                    1\n",
       "5596   9b6324db-6f63-4bd1-9b20-ee8af64255fe                    1\n",
       "17072  6fa2d389-a429-411c-9604-ef5f60808864                    0\n",
       "...                                     ...                  ...\n",
       "110    fad0468c-98d5-4deb-a277-0a57ac4bc4d8                    1\n",
       "15195  dd9dabad-6725-4833-a74a-3202e9ef3b87                    0\n",
       "13546  d2faa9a6-c09b-4d89-99c7-3efdad7b279c                    0\n",
       "8408   f2f73460-ed93-4cfa-ab35-c7df19a4e57c                    1\n",
       "19407  08d886e5-d702-488b-a17b-19af4c9865bd                    1\n",
       "\n",
       "[7500 rows x 2 columns]"
      ]
     },
     "execution_count": 58,
     "metadata": {},
     "output_type": "execute_result"
    },
    {
     "data": {
      "application/javascript": [
       "\n",
       "            setTimeout(function() {\n",
       "                var nbb_cell_id = 58;\n",
       "                var nbb_unformatted_code = \"# Join predictions with test new\\npred_test_ri = kmeans.predict(dfr_test3)\\npred_test_ri2 = pd.DataFrame(\\n    data=pred_test_ri, columns=[\\\"prediction_beforeRI\\\"], index=dfr_test2.index.copy()\\n)\\nri2_testing = pd.merge(\\n    dfr_test2,\\n    pred_test_ri2[[\\\"prediction_beforeRI\\\"]],\\n    how=\\\"inner\\\",\\n    left_index=True,\\n    right_index=True,\\n)\\n# pred_test1.dropna(subset=[\\\"prediction_beforeRI\\\"], inplace=True)\\nri2_test = ri2_testing[[\\\"id\\\", \\\"prediction_beforeRI\\\"]]\\nri2_test\";\n",
       "                var nbb_formatted_code = \"# Join predictions with test new\\npred_test_ri = kmeans.predict(dfr_test3)\\npred_test_ri2 = pd.DataFrame(\\n    data=pred_test_ri, columns=[\\\"prediction_beforeRI\\\"], index=dfr_test2.index.copy()\\n)\\nri2_testing = pd.merge(\\n    dfr_test2,\\n    pred_test_ri2[[\\\"prediction_beforeRI\\\"]],\\n    how=\\\"inner\\\",\\n    left_index=True,\\n    right_index=True,\\n)\\n# pred_test1.dropna(subset=[\\\"prediction_beforeRI\\\"], inplace=True)\\nri2_test = ri2_testing[[\\\"id\\\", \\\"prediction_beforeRI\\\"]]\\nri2_test\";\n",
       "                var nbb_cells = Jupyter.notebook.get_cells();\n",
       "                for (var i = 0; i < nbb_cells.length; ++i) {\n",
       "                    if (nbb_cells[i].input_prompt_number == nbb_cell_id) {\n",
       "                        if (nbb_cells[i].get_text() == nbb_unformatted_code) {\n",
       "                             nbb_cells[i].set_text(nbb_formatted_code);\n",
       "                        }\n",
       "                        break;\n",
       "                    }\n",
       "                }\n",
       "            }, 500);\n",
       "            "
      ],
      "text/plain": [
       "<IPython.core.display.Javascript object>"
      ]
     },
     "metadata": {},
     "output_type": "display_data"
    }
   ],
   "source": [
    "# Join predictions with test new\n",
    "pred_test_ri = kmeans.predict(dfr_test3)\n",
    "pred_test_ri2 = pd.DataFrame(\n",
    "    data=pred_test_ri, columns=[\"prediction_beforeRI\"], index=dfr_test2.index.copy()\n",
    ")\n",
    "ri2_testing = pd.merge(\n",
    "    dfr_test2,\n",
    "    pred_test_ri2[[\"prediction_beforeRI\"]],\n",
    "    how=\"inner\",\n",
    "    left_index=True,\n",
    "    right_index=True,\n",
    ")\n",
    "# pred_test1.dropna(subset=[\"prediction_beforeRI\"], inplace=True)\n",
    "ri2_test = ri2_testing[[\"id\", \"prediction_beforeRI\"]]\n",
    "ri2_test"
   ]
  },
  {
   "cell_type": "markdown",
   "metadata": {},
   "source": [
    "### Hierarchical Clustering"
   ]
  },
  {
   "cell_type": "code",
   "execution_count": 59,
   "metadata": {},
   "outputs": [
    {
     "data": {
      "text/plain": [
       "array([1, 1, 0, ..., 0, 1, 0], dtype=int64)"
      ]
     },
     "execution_count": 59,
     "metadata": {},
     "output_type": "execute_result"
    },
    {
     "data": {
      "application/javascript": [
       "\n",
       "            setTimeout(function() {\n",
       "                var nbb_cell_id = 59;\n",
       "                var nbb_unformatted_code = \"cluster = AgglomerativeClustering(n_clusters=2, affinity=\\\"euclidean\\\", linkage=\\\"ward\\\")\\ncluster.fit_predict(dfr_dev3)\";\n",
       "                var nbb_formatted_code = \"cluster = AgglomerativeClustering(n_clusters=2, affinity=\\\"euclidean\\\", linkage=\\\"ward\\\")\\ncluster.fit_predict(dfr_dev3)\";\n",
       "                var nbb_cells = Jupyter.notebook.get_cells();\n",
       "                for (var i = 0; i < nbb_cells.length; ++i) {\n",
       "                    if (nbb_cells[i].input_prompt_number == nbb_cell_id) {\n",
       "                        if (nbb_cells[i].get_text() == nbb_unformatted_code) {\n",
       "                             nbb_cells[i].set_text(nbb_formatted_code);\n",
       "                        }\n",
       "                        break;\n",
       "                    }\n",
       "                }\n",
       "            }, 500);\n",
       "            "
      ],
      "text/plain": [
       "<IPython.core.display.Javascript object>"
      ]
     },
     "metadata": {},
     "output_type": "display_data"
    }
   ],
   "source": [
    "cluster = AgglomerativeClustering(n_clusters=2, affinity=\"euclidean\", linkage=\"ward\")\n",
    "cluster.fit_predict(dfr_dev3)"
   ]
  },
  {
   "cell_type": "code",
   "execution_count": 60,
   "metadata": {},
   "outputs": [
    {
     "data": {
      "text/html": [
       "<div>\n",
       "<style scoped>\n",
       "    .dataframe tbody tr th:only-of-type {\n",
       "        vertical-align: middle;\n",
       "    }\n",
       "\n",
       "    .dataframe tbody tr th {\n",
       "        vertical-align: top;\n",
       "    }\n",
       "\n",
       "    .dataframe thead th {\n",
       "        text-align: right;\n",
       "    }\n",
       "</style>\n",
       "<table border=\"1\" class=\"dataframe\">\n",
       "  <thead>\n",
       "    <tr style=\"text-align: right;\">\n",
       "      <th></th>\n",
       "      <th>Rejects</th>\n",
       "    </tr>\n",
       "    <tr>\n",
       "      <th>prediction</th>\n",
       "      <th></th>\n",
       "    </tr>\n",
       "  </thead>\n",
       "  <tbody>\n",
       "    <tr>\n",
       "      <th>0</th>\n",
       "      <td>8057</td>\n",
       "    </tr>\n",
       "    <tr>\n",
       "      <th>1</th>\n",
       "      <td>9443</td>\n",
       "    </tr>\n",
       "  </tbody>\n",
       "</table>\n",
       "</div>"
      ],
      "text/plain": [
       "            Rejects\n",
       "prediction         \n",
       "0              8057\n",
       "1              9443"
      ]
     },
     "execution_count": 60,
     "metadata": {},
     "output_type": "execute_result"
    },
    {
     "data": {
      "application/javascript": [
       "\n",
       "            setTimeout(function() {\n",
       "                var nbb_cell_id = 60;\n",
       "                var nbb_unformatted_code = \"# Predictions\\nrej_test_predictions_aggl = cluster.labels_\\ndf_pred_rej_aggl = pd.DataFrame(data=rej_test_predictions_aggl, columns=[\\\"prediction\\\"])\\ndf_pred_rej_aggl[\\\"Rejects\\\"] = df_pred_rej_aggl.groupby(\\\"prediction\\\")[\\n    \\\"prediction\\\"\\n].transform(\\\"count\\\")\\ndf_pred_rej_aggl.groupby([\\\"prediction\\\"]).count()\";\n",
       "                var nbb_formatted_code = \"# Predictions\\nrej_test_predictions_aggl = cluster.labels_\\ndf_pred_rej_aggl = pd.DataFrame(data=rej_test_predictions_aggl, columns=[\\\"prediction\\\"])\\ndf_pred_rej_aggl[\\\"Rejects\\\"] = df_pred_rej_aggl.groupby(\\\"prediction\\\")[\\n    \\\"prediction\\\"\\n].transform(\\\"count\\\")\\ndf_pred_rej_aggl.groupby([\\\"prediction\\\"]).count()\";\n",
       "                var nbb_cells = Jupyter.notebook.get_cells();\n",
       "                for (var i = 0; i < nbb_cells.length; ++i) {\n",
       "                    if (nbb_cells[i].input_prompt_number == nbb_cell_id) {\n",
       "                        if (nbb_cells[i].get_text() == nbb_unformatted_code) {\n",
       "                             nbb_cells[i].set_text(nbb_formatted_code);\n",
       "                        }\n",
       "                        break;\n",
       "                    }\n",
       "                }\n",
       "            }, 500);\n",
       "            "
      ],
      "text/plain": [
       "<IPython.core.display.Javascript object>"
      ]
     },
     "metadata": {},
     "output_type": "display_data"
    }
   ],
   "source": [
    "# Predictions\n",
    "rej_test_predictions_aggl = cluster.labels_\n",
    "df_pred_rej_aggl = pd.DataFrame(data=rej_test_predictions_aggl, columns=[\"prediction\"])\n",
    "df_pred_rej_aggl[\"Rejects\"] = df_pred_rej_aggl.groupby(\"prediction\")[\n",
    "    \"prediction\"\n",
    "].transform(\"count\")\n",
    "df_pred_rej_aggl.groupby([\"prediction\"]).count()"
   ]
  },
  {
   "cell_type": "code",
   "execution_count": 84,
   "metadata": {},
   "outputs": [
    {
     "data": {
      "text/html": [
       "<div>\n",
       "<style scoped>\n",
       "    .dataframe tbody tr th:only-of-type {\n",
       "        vertical-align: middle;\n",
       "    }\n",
       "\n",
       "    .dataframe tbody tr th {\n",
       "        vertical-align: top;\n",
       "    }\n",
       "\n",
       "    .dataframe thead th {\n",
       "        text-align: right;\n",
       "    }\n",
       "</style>\n",
       "<table border=\"1\" class=\"dataframe\">\n",
       "  <thead>\n",
       "    <tr style=\"text-align: right;\">\n",
       "      <th></th>\n",
       "      <th>id</th>\n",
       "      <th>prediction_beforeRI</th>\n",
       "    </tr>\n",
       "  </thead>\n",
       "  <tbody>\n",
       "    <tr>\n",
       "      <th>10171</th>\n",
       "      <td>e7c5e9a0-a647-4b48-966a-b3cb95a76b19</td>\n",
       "      <td>1</td>\n",
       "    </tr>\n",
       "    <tr>\n",
       "      <th>7346</th>\n",
       "      <td>ab919792-0c15-4fc1-9ec3-bcf1629e84ac</td>\n",
       "      <td>1</td>\n",
       "    </tr>\n",
       "    <tr>\n",
       "      <th>21944</th>\n",
       "      <td>a0172b06-8488-4445-9f10-c2e5262b6f7b</td>\n",
       "      <td>0</td>\n",
       "    </tr>\n",
       "    <tr>\n",
       "      <th>15349</th>\n",
       "      <td>474d502a-a041-4f69-91f4-b01fb6d79825</td>\n",
       "      <td>1</td>\n",
       "    </tr>\n",
       "    <tr>\n",
       "      <th>19067</th>\n",
       "      <td>5b404e41-1f77-4ff0-a1c7-b87455442b1b</td>\n",
       "      <td>1</td>\n",
       "    </tr>\n",
       "    <tr>\n",
       "      <th>...</th>\n",
       "      <td>...</td>\n",
       "      <td>...</td>\n",
       "    </tr>\n",
       "    <tr>\n",
       "      <th>13981</th>\n",
       "      <td>5b4913cb-6513-423b-9389-e53f822f39cc</td>\n",
       "      <td>1</td>\n",
       "    </tr>\n",
       "    <tr>\n",
       "      <th>5170</th>\n",
       "      <td>1756ba5b-f2ee-4190-8318-50a9e585108c</td>\n",
       "      <td>1</td>\n",
       "    </tr>\n",
       "    <tr>\n",
       "      <th>1391</th>\n",
       "      <td>6c760a11-c818-48dd-ad75-2272add6c918</td>\n",
       "      <td>0</td>\n",
       "    </tr>\n",
       "    <tr>\n",
       "      <th>11865</th>\n",
       "      <td>b83e806e-b936-443d-8875-a3ea56691249</td>\n",
       "      <td>1</td>\n",
       "    </tr>\n",
       "    <tr>\n",
       "      <th>623</th>\n",
       "      <td>06be2323-40cd-4ee5-a0d5-6c72eb306aae</td>\n",
       "      <td>0</td>\n",
       "    </tr>\n",
       "  </tbody>\n",
       "</table>\n",
       "<p>17500 rows × 2 columns</p>\n",
       "</div>"
      ],
      "text/plain": [
       "                                         id  prediction_beforeRI\n",
       "10171  e7c5e9a0-a647-4b48-966a-b3cb95a76b19                    1\n",
       "7346   ab919792-0c15-4fc1-9ec3-bcf1629e84ac                    1\n",
       "21944  a0172b06-8488-4445-9f10-c2e5262b6f7b                    0\n",
       "15349  474d502a-a041-4f69-91f4-b01fb6d79825                    1\n",
       "19067  5b404e41-1f77-4ff0-a1c7-b87455442b1b                    1\n",
       "...                                     ...                  ...\n",
       "13981  5b4913cb-6513-423b-9389-e53f822f39cc                    1\n",
       "5170   1756ba5b-f2ee-4190-8318-50a9e585108c                    1\n",
       "1391   6c760a11-c818-48dd-ad75-2272add6c918                    0\n",
       "11865  b83e806e-b936-443d-8875-a3ea56691249                    1\n",
       "623    06be2323-40cd-4ee5-a0d5-6c72eb306aae                    0\n",
       "\n",
       "[17500 rows x 2 columns]"
      ]
     },
     "execution_count": 84,
     "metadata": {},
     "output_type": "execute_result"
    },
    {
     "data": {
      "application/javascript": [
       "\n",
       "            setTimeout(function() {\n",
       "                var nbb_cell_id = 84;\n",
       "                var nbb_unformatted_code = \"# Join predictions with train new\\npred_ri_aggl = cluster.labels_\\npred_ri_aggl2 = pd.DataFrame(\\n    data=pred_ri_aggl,\\n    columns=[\\\"prediction_beforeRI\\\"],\\n    index=dfr_dev2.index.copy(),\\n)\\nri3 = pd.merge(\\n    dfr_dev2,\\n    pred_ri_aggl2[[\\\"prediction_beforeRI\\\"]],\\n    how=\\\"inner\\\",\\n    left_index=True,\\n    right_index=True,\\n)\\n# pred_test1.dropna(subset=[\\\"prediction_beforeRI\\\"], inplace=True)\\nri3_train = ri3[[\\\"id\\\", \\\"prediction_beforeRI\\\"]]\\nri3_train\";\n",
       "                var nbb_formatted_code = \"# Join predictions with train new\\npred_ri_aggl = cluster.labels_\\npred_ri_aggl2 = pd.DataFrame(\\n    data=pred_ri_aggl,\\n    columns=[\\\"prediction_beforeRI\\\"],\\n    index=dfr_dev2.index.copy(),\\n)\\nri3 = pd.merge(\\n    dfr_dev2,\\n    pred_ri_aggl2[[\\\"prediction_beforeRI\\\"]],\\n    how=\\\"inner\\\",\\n    left_index=True,\\n    right_index=True,\\n)\\n# pred_test1.dropna(subset=[\\\"prediction_beforeRI\\\"], inplace=True)\\nri3_train = ri3[[\\\"id\\\", \\\"prediction_beforeRI\\\"]]\\nri3_train\";\n",
       "                var nbb_cells = Jupyter.notebook.get_cells();\n",
       "                for (var i = 0; i < nbb_cells.length; ++i) {\n",
       "                    if (nbb_cells[i].input_prompt_number == nbb_cell_id) {\n",
       "                        if (nbb_cells[i].get_text() == nbb_unformatted_code) {\n",
       "                             nbb_cells[i].set_text(nbb_formatted_code);\n",
       "                        }\n",
       "                        break;\n",
       "                    }\n",
       "                }\n",
       "            }, 500);\n",
       "            "
      ],
      "text/plain": [
       "<IPython.core.display.Javascript object>"
      ]
     },
     "metadata": {},
     "output_type": "display_data"
    }
   ],
   "source": [
    "# Join predictions with train new\n",
    "pred_ri_aggl = cluster.labels_\n",
    "pred_ri_aggl2 = pd.DataFrame(\n",
    "    data=pred_ri_aggl,\n",
    "    columns=[\"prediction_beforeRI\"],\n",
    "    index=dfr_dev2.index.copy(),\n",
    ")\n",
    "ri3 = pd.merge(\n",
    "    dfr_dev2,\n",
    "    pred_ri_aggl2[[\"prediction_beforeRI\"]],\n",
    "    how=\"inner\",\n",
    "    left_index=True,\n",
    "    right_index=True,\n",
    ")\n",
    "# pred_test1.dropna(subset=[\"prediction_beforeRI\"], inplace=True)\n",
    "ri3_train = ri3[[\"id\", \"prediction_beforeRI\"]]\n",
    "ri3_train"
   ]
  },
  {
   "cell_type": "markdown",
   "metadata": {},
   "source": [
    "### Evaluation Measures (with R2 for now)"
   ]
  },
  {
   "cell_type": "code",
   "execution_count": 80,
   "metadata": {},
   "outputs": [
    {
     "data": {
      "application/javascript": [
       "\n",
       "            setTimeout(function() {\n",
       "                var nbb_cell_id = 80;\n",
       "                var nbb_unformatted_code = \"def evaluation(ri_data):  # ri1_train, ri2_train, etc..\\n\\n    # TRAIN NEW\\n    # Join labels to train set\\n    # Accepts\\n    train_accepts = pd.merge(\\n        os_data_X, os_data_y[[\\\"target\\\"]], how=\\\"left\\\", left_index=True, right_index=True\\n    )\\n\\n    train_accepts[\\\"Flag1\\\"] = \\\"Accept\\\"\\n\\n    # Rejects\\n    train_rejects = pd.merge(\\n        dfr_dev2,\\n        ri_data[[\\\"prediction_beforeRI\\\"]],\\n        how=\\\"left\\\",\\n        left_index=True,\\n        right_index=True,\\n    )\\n\\n    # Drop Null values and align naming\\n    train_accepts.dropna(subset=[\\\"target\\\"], inplace=True)\\n    train_rejects.rename(columns={\\\"prediction_beforeRI\\\": \\\"target\\\"}, inplace=True)\\n\\n    # Concatenate Train Accepts and Train Rejects\\n    train_new = pd.concat([train_accepts, train_rejects])\\n\\n    # Retrain KGB Model\\n\\n    # Split\\n    X_new = train_new.loc[:, train_new.columns != \\\"target\\\"]\\n    X_new = X_new.loc[:, X_new.columns != \\\"Flag\\\"]\\n    y_new = train_new.loc[:, train_new.columns == \\\"target\\\"]\\n    X_train_new, X_test_new, y_train_new, y_test_new = train_test_split(\\n        X_new, y_new, test_size=0.3, random_state=7\\n    )\\n\\n    # Keep only columns for modelling\\n    os_data_X_2_new = X_train_new[[\\\"<=1k\\\", \\\"Good state\\\", \\\"Bad state\\\", \\\"1-2 years\\\"]]\\n    X_test_2_new = X_test_new[[\\\"<=1k\\\", \\\"Good state\\\", \\\"Bad state\\\", \\\"1-2 years\\\"]]\\n\\n    # Build Logistic regression\\n    logreg = LogisticRegression(fit_intercept=False, penalty=\\\"none\\\")\\n    logreg.fit(os_data_X_2_new, y_train_new.values.ravel())\\n\\n    # TEST NEW\\n    # Join labels to test set\\n    # Accepts\\n    test_accepts = pd.merge(\\n        X_test, y_test[[\\\"target\\\"]], how=\\\"left\\\", left_index=True, right_index=True\\n    )\\n\\n    test_accepts[\\\"Flag1\\\"] = \\\"Accept\\\"\\n\\n    # Rejects\\n    test_rejects = pd.merge(\\n        dfr_test2,\\n        ri2_test[[\\\"prediction_beforeRI\\\"]],\\n        how=\\\"left\\\",\\n        left_index=True,\\n        right_index=True,\\n    )\\n\\n    # Drop Null values and align naming\\n    test_accepts.dropna(subset=[\\\"target\\\"], inplace=True)\\n    test_rejects.rename(columns={\\\"prediction_beforeRI\\\": \\\"target\\\"}, inplace=True)\\n    test_rejects.dropna(subset=[\\\"target\\\"], inplace=True)\\n\\n    # Concatenate Test Accepts and Test Rejects\\n    test_new = pd.concat([test_accepts, test_rejects])\\n\\n    # Flag\\n    test_new[\\\"Flag\\\"] = test_new[\\\"Flag1\\\"].apply(\\n        lambda x: \\\"Accept\\\" if x == \\\"Accept\\\" else \\\"Reject\\\"\\n    )\\n    test_new = test_new.drop(columns=[\\\"Flag1\\\"])\\n\\n    test_new = test_new.reset_index(drop=True)\\n\\n    X_test_new = test_new.loc[:, train_new.columns != \\\"target\\\"]\\n    X_test_new2 = X_test_new.loc[:, X_test_new.columns != \\\"Flag\\\"]\\n    X_test_new3 = X_test_new2.loc[:, X_test_new2.columns != \\\"id\\\"]\\n    X_test_new4 = X_test_new3.loc[:, X_test_new3.columns != \\\">10k\\\"]\\n    y_test_new = test_new.loc[:, train_new.columns == \\\"target\\\"]\\n\\n    # PREDICTIONS\\n    # Join predictions with test new\\n    test_new_pred = logreg.predict_proba(X_test_new4)[:, 1]\\n    pred_test_df = pd.DataFrame(\\n        data=test_new_pred, columns=[\\\"prediction_afterRI\\\"], index=test_new.index.copy()\\n    )\\n    pred_test = pd.merge(\\n        test_new,\\n        pred_test_df[[\\\"prediction_afterRI\\\"]],\\n        how=\\\"inner\\\",\\n        left_index=True,\\n        right_index=True,\\n    )\\n    # pred_test1.dropna(subset=[\\\"prediction_beforeRI\\\"], inplace=True)\\n    pred_test\\n\\n    a1 = pred_test1[[\\\"id\\\", \\\"target\\\", \\\"prediction_beforeRI\\\"]]\\n    a2 = pred_test[[\\\"id\\\", \\\"Flag\\\", \\\"prediction_afterRI\\\"]]\\n\\n    # Join (outer to get full sample)\\n    a1_a2_outer = pd.merge(a1, a2, how=\\\"outer\\\", on=\\\"id\\\")\\n    # Join (inner to get only accepts and be able to compare)\\n    a1_a2_inner = pd.merge(a1, a2, how=\\\"inner\\\", on=\\\"id\\\")\\n    a1_a2_inner\\n\\n    # Make binary predictions based on cutoff 0.3\\n    a1_a2_inner[\\\"prediction_beforeRI_binary\\\"] = a1_a2_inner[\\n        \\\"prediction_beforeRI\\\"\\n    ].apply(lambda x: 0 if (x < 0.3) else 1)\\n    a1_a2_inner[\\\"prediction_afterRI_binary\\\"] = a1_a2_inner[\\\"prediction_afterRI\\\"].apply(\\n        lambda x: 0 if (x < 0.3) else 1\\n    )\\n\\n    print_results(a1_a2_inner, \\\"before RI\\\", \\\"prediction_beforeRI_binary\\\")\\n    print_results(a1_a2_inner, \\\"after RI\\\", \\\"prediction_afterRI_binary\\\")\";\n",
       "                var nbb_formatted_code = \"def evaluation(ri_data):  # ri1_train, ri2_train, etc..\\n\\n    # TRAIN NEW\\n    # Join labels to train set\\n    # Accepts\\n    train_accepts = pd.merge(\\n        os_data_X, os_data_y[[\\\"target\\\"]], how=\\\"left\\\", left_index=True, right_index=True\\n    )\\n\\n    train_accepts[\\\"Flag1\\\"] = \\\"Accept\\\"\\n\\n    # Rejects\\n    train_rejects = pd.merge(\\n        dfr_dev2,\\n        ri_data[[\\\"prediction_beforeRI\\\"]],\\n        how=\\\"left\\\",\\n        left_index=True,\\n        right_index=True,\\n    )\\n\\n    # Drop Null values and align naming\\n    train_accepts.dropna(subset=[\\\"target\\\"], inplace=True)\\n    train_rejects.rename(columns={\\\"prediction_beforeRI\\\": \\\"target\\\"}, inplace=True)\\n\\n    # Concatenate Train Accepts and Train Rejects\\n    train_new = pd.concat([train_accepts, train_rejects])\\n\\n    # Retrain KGB Model\\n\\n    # Split\\n    X_new = train_new.loc[:, train_new.columns != \\\"target\\\"]\\n    X_new = X_new.loc[:, X_new.columns != \\\"Flag\\\"]\\n    y_new = train_new.loc[:, train_new.columns == \\\"target\\\"]\\n    X_train_new, X_test_new, y_train_new, y_test_new = train_test_split(\\n        X_new, y_new, test_size=0.3, random_state=7\\n    )\\n\\n    # Keep only columns for modelling\\n    os_data_X_2_new = X_train_new[[\\\"<=1k\\\", \\\"Good state\\\", \\\"Bad state\\\", \\\"1-2 years\\\"]]\\n    X_test_2_new = X_test_new[[\\\"<=1k\\\", \\\"Good state\\\", \\\"Bad state\\\", \\\"1-2 years\\\"]]\\n\\n    # Build Logistic regression\\n    logreg = LogisticRegression(fit_intercept=False, penalty=\\\"none\\\")\\n    logreg.fit(os_data_X_2_new, y_train_new.values.ravel())\\n\\n    # TEST NEW\\n    # Join labels to test set\\n    # Accepts\\n    test_accepts = pd.merge(\\n        X_test, y_test[[\\\"target\\\"]], how=\\\"left\\\", left_index=True, right_index=True\\n    )\\n\\n    test_accepts[\\\"Flag1\\\"] = \\\"Accept\\\"\\n\\n    # Rejects\\n    test_rejects = pd.merge(\\n        dfr_test2,\\n        ri2_test[[\\\"prediction_beforeRI\\\"]],\\n        how=\\\"left\\\",\\n        left_index=True,\\n        right_index=True,\\n    )\\n\\n    # Drop Null values and align naming\\n    test_accepts.dropna(subset=[\\\"target\\\"], inplace=True)\\n    test_rejects.rename(columns={\\\"prediction_beforeRI\\\": \\\"target\\\"}, inplace=True)\\n    test_rejects.dropna(subset=[\\\"target\\\"], inplace=True)\\n\\n    # Concatenate Test Accepts and Test Rejects\\n    test_new = pd.concat([test_accepts, test_rejects])\\n\\n    # Flag\\n    test_new[\\\"Flag\\\"] = test_new[\\\"Flag1\\\"].apply(\\n        lambda x: \\\"Accept\\\" if x == \\\"Accept\\\" else \\\"Reject\\\"\\n    )\\n    test_new = test_new.drop(columns=[\\\"Flag1\\\"])\\n\\n    test_new = test_new.reset_index(drop=True)\\n\\n    X_test_new = test_new.loc[:, train_new.columns != \\\"target\\\"]\\n    X_test_new2 = X_test_new.loc[:, X_test_new.columns != \\\"Flag\\\"]\\n    X_test_new3 = X_test_new2.loc[:, X_test_new2.columns != \\\"id\\\"]\\n    X_test_new4 = X_test_new3.loc[:, X_test_new3.columns != \\\">10k\\\"]\\n    y_test_new = test_new.loc[:, train_new.columns == \\\"target\\\"]\\n\\n    # PREDICTIONS\\n    # Join predictions with test new\\n    test_new_pred = logreg.predict_proba(X_test_new4)[:, 1]\\n    pred_test_df = pd.DataFrame(\\n        data=test_new_pred, columns=[\\\"prediction_afterRI\\\"], index=test_new.index.copy()\\n    )\\n    pred_test = pd.merge(\\n        test_new,\\n        pred_test_df[[\\\"prediction_afterRI\\\"]],\\n        how=\\\"inner\\\",\\n        left_index=True,\\n        right_index=True,\\n    )\\n    # pred_test1.dropna(subset=[\\\"prediction_beforeRI\\\"], inplace=True)\\n    pred_test\\n\\n    a1 = pred_test1[[\\\"id\\\", \\\"target\\\", \\\"prediction_beforeRI\\\"]]\\n    a2 = pred_test[[\\\"id\\\", \\\"Flag\\\", \\\"prediction_afterRI\\\"]]\\n\\n    # Join (outer to get full sample)\\n    a1_a2_outer = pd.merge(a1, a2, how=\\\"outer\\\", on=\\\"id\\\")\\n    # Join (inner to get only accepts and be able to compare)\\n    a1_a2_inner = pd.merge(a1, a2, how=\\\"inner\\\", on=\\\"id\\\")\\n    a1_a2_inner\\n\\n    # Make binary predictions based on cutoff 0.3\\n    a1_a2_inner[\\\"prediction_beforeRI_binary\\\"] = a1_a2_inner[\\n        \\\"prediction_beforeRI\\\"\\n    ].apply(lambda x: 0 if (x < 0.3) else 1)\\n    a1_a2_inner[\\\"prediction_afterRI_binary\\\"] = a1_a2_inner[\\\"prediction_afterRI\\\"].apply(\\n        lambda x: 0 if (x < 0.3) else 1\\n    )\\n\\n    print_results(a1_a2_inner, \\\"before RI\\\", \\\"prediction_beforeRI_binary\\\")\\n    print_results(a1_a2_inner, \\\"after RI\\\", \\\"prediction_afterRI_binary\\\")\";\n",
       "                var nbb_cells = Jupyter.notebook.get_cells();\n",
       "                for (var i = 0; i < nbb_cells.length; ++i) {\n",
       "                    if (nbb_cells[i].input_prompt_number == nbb_cell_id) {\n",
       "                        if (nbb_cells[i].get_text() == nbb_unformatted_code) {\n",
       "                             nbb_cells[i].set_text(nbb_formatted_code);\n",
       "                        }\n",
       "                        break;\n",
       "                    }\n",
       "                }\n",
       "            }, 500);\n",
       "            "
      ],
      "text/plain": [
       "<IPython.core.display.Javascript object>"
      ]
     },
     "metadata": {},
     "output_type": "display_data"
    }
   ],
   "source": [
    "def evaluation(ri_data):  # ri1_train, ri2_train, etc..\n",
    "\n",
    "    # TRAIN NEW\n",
    "    # Join labels to train set\n",
    "    # Accepts\n",
    "    train_accepts = pd.merge(\n",
    "        os_data_X, os_data_y[[\"target\"]], how=\"left\", left_index=True, right_index=True\n",
    "    )\n",
    "\n",
    "    train_accepts[\"Flag1\"] = \"Accept\"\n",
    "\n",
    "    # Rejects\n",
    "    train_rejects = pd.merge(\n",
    "        dfr_dev2,\n",
    "        ri_data[[\"prediction_beforeRI\"]],\n",
    "        how=\"left\",\n",
    "        left_index=True,\n",
    "        right_index=True,\n",
    "    )\n",
    "\n",
    "    # Drop Null values and align naming\n",
    "    train_accepts.dropna(subset=[\"target\"], inplace=True)\n",
    "    train_rejects.rename(columns={\"prediction_beforeRI\": \"target\"}, inplace=True)\n",
    "\n",
    "    # Concatenate Train Accepts and Train Rejects\n",
    "    train_new = pd.concat([train_accepts, train_rejects])\n",
    "\n",
    "    # Retrain KGB Model\n",
    "\n",
    "    # Split\n",
    "    X_new = train_new.loc[:, train_new.columns != \"target\"]\n",
    "    X_new = X_new.loc[:, X_new.columns != \"Flag\"]\n",
    "    y_new = train_new.loc[:, train_new.columns == \"target\"]\n",
    "    X_train_new, X_test_new, y_train_new, y_test_new = train_test_split(\n",
    "        X_new, y_new, test_size=0.3, random_state=7\n",
    "    )\n",
    "\n",
    "    # Keep only columns for modelling\n",
    "    os_data_X_2_new = X_train_new[[\"<=1k\", \"Good state\", \"Bad state\", \"1-2 years\"]]\n",
    "    X_test_2_new = X_test_new[[\"<=1k\", \"Good state\", \"Bad state\", \"1-2 years\"]]\n",
    "\n",
    "    # Build Logistic regression\n",
    "    logreg = LogisticRegression(fit_intercept=False, penalty=\"none\")\n",
    "    logreg.fit(os_data_X_2_new, y_train_new.values.ravel())\n",
    "\n",
    "    # TEST NEW\n",
    "    # Join labels to test set\n",
    "    # Accepts\n",
    "    test_accepts = pd.merge(\n",
    "        X_test, y_test[[\"target\"]], how=\"left\", left_index=True, right_index=True\n",
    "    )\n",
    "\n",
    "    test_accepts[\"Flag1\"] = \"Accept\"\n",
    "\n",
    "    # Rejects\n",
    "    test_rejects = pd.merge(\n",
    "        dfr_test2,\n",
    "        ri2_test[[\"prediction_beforeRI\"]],\n",
    "        how=\"left\",\n",
    "        left_index=True,\n",
    "        right_index=True,\n",
    "    )\n",
    "\n",
    "    # Drop Null values and align naming\n",
    "    test_accepts.dropna(subset=[\"target\"], inplace=True)\n",
    "    test_rejects.rename(columns={\"prediction_beforeRI\": \"target\"}, inplace=True)\n",
    "    test_rejects.dropna(subset=[\"target\"], inplace=True)\n",
    "\n",
    "    # Concatenate Test Accepts and Test Rejects\n",
    "    test_new = pd.concat([test_accepts, test_rejects])\n",
    "\n",
    "    # Flag\n",
    "    test_new[\"Flag\"] = test_new[\"Flag1\"].apply(\n",
    "        lambda x: \"Accept\" if x == \"Accept\" else \"Reject\"\n",
    "    )\n",
    "    test_new = test_new.drop(columns=[\"Flag1\"])\n",
    "\n",
    "    test_new = test_new.reset_index(drop=True)\n",
    "\n",
    "    X_test_new = test_new.loc[:, train_new.columns != \"target\"]\n",
    "    X_test_new2 = X_test_new.loc[:, X_test_new.columns != \"Flag\"]\n",
    "    X_test_new3 = X_test_new2.loc[:, X_test_new2.columns != \"id\"]\n",
    "    X_test_new4 = X_test_new3.loc[:, X_test_new3.columns != \">10k\"]\n",
    "    y_test_new = test_new.loc[:, train_new.columns == \"target\"]\n",
    "\n",
    "    # PREDICTIONS\n",
    "    # Join predictions with test new\n",
    "    test_new_pred = logreg.predict_proba(X_test_new4)[:, 1]\n",
    "    pred_test_df = pd.DataFrame(\n",
    "        data=test_new_pred, columns=[\"prediction_afterRI\"], index=test_new.index.copy()\n",
    "    )\n",
    "    pred_test = pd.merge(\n",
    "        test_new,\n",
    "        pred_test_df[[\"prediction_afterRI\"]],\n",
    "        how=\"inner\",\n",
    "        left_index=True,\n",
    "        right_index=True,\n",
    "    )\n",
    "    # pred_test1.dropna(subset=[\"prediction_beforeRI\"], inplace=True)\n",
    "    pred_test\n",
    "\n",
    "    a1 = pred_test1[[\"id\", \"target\", \"prediction_beforeRI\"]]\n",
    "    a2 = pred_test[[\"id\", \"Flag\", \"prediction_afterRI\"]]\n",
    "\n",
    "    # Join (outer to get full sample)\n",
    "    a1_a2_outer = pd.merge(a1, a2, how=\"outer\", on=\"id\")\n",
    "    # Join (inner to get only accepts and be able to compare)\n",
    "    a1_a2_inner = pd.merge(a1, a2, how=\"inner\", on=\"id\")\n",
    "    a1_a2_inner\n",
    "\n",
    "    # Make binary predictions based on cutoff 0.3\n",
    "    a1_a2_inner[\"prediction_beforeRI_binary\"] = a1_a2_inner[\n",
    "        \"prediction_beforeRI\"\n",
    "    ].apply(lambda x: 0 if (x < 0.3) else 1)\n",
    "    a1_a2_inner[\"prediction_afterRI_binary\"] = a1_a2_inner[\"prediction_afterRI\"].apply(\n",
    "        lambda x: 0 if (x < 0.3) else 1\n",
    "    )\n",
    "\n",
    "    print_results(a1_a2_inner, \"before RI\", \"prediction_beforeRI_binary\")\n",
    "    print_results(a1_a2_inner, \"after RI\", \"prediction_afterRI_binary\")"
   ]
  },
  {
   "cell_type": "code",
   "execution_count": 81,
   "metadata": {},
   "outputs": [
    {
     "name": "stdout",
     "output_type": "stream",
     "text": [
      "The number of accurately classified cases  before RI  is:  1682\n",
      "The number of misclassified cases  before RI  is:  2770\n",
      "The number of accurately classified cases  after RI  is:  1849\n",
      "The number of misclassified cases  after RI  is:  2603\n"
     ]
    },
    {
     "data": {
      "application/javascript": [
       "\n",
       "            setTimeout(function() {\n",
       "                var nbb_cell_id = 81;\n",
       "                var nbb_unformatted_code = \"evaluation(ri1_train)\";\n",
       "                var nbb_formatted_code = \"evaluation(ri1_train)\";\n",
       "                var nbb_cells = Jupyter.notebook.get_cells();\n",
       "                for (var i = 0; i < nbb_cells.length; ++i) {\n",
       "                    if (nbb_cells[i].input_prompt_number == nbb_cell_id) {\n",
       "                        if (nbb_cells[i].get_text() == nbb_unformatted_code) {\n",
       "                             nbb_cells[i].set_text(nbb_formatted_code);\n",
       "                        }\n",
       "                        break;\n",
       "                    }\n",
       "                }\n",
       "            }, 500);\n",
       "            "
      ],
      "text/plain": [
       "<IPython.core.display.Javascript object>"
      ]
     },
     "metadata": {},
     "output_type": "display_data"
    }
   ],
   "source": [
    "evaluation(ri1_train) #Simple Augmentation"
   ]
  },
  {
   "cell_type": "code",
   "execution_count": 82,
   "metadata": {},
   "outputs": [
    {
     "name": "stdout",
     "output_type": "stream",
     "text": [
      "The number of accurately classified cases  before RI  is:  1682\n",
      "The number of misclassified cases  before RI  is:  2770\n",
      "The number of accurately classified cases  after RI  is:  2227\n",
      "The number of misclassified cases  after RI  is:  2225\n"
     ]
    },
    {
     "data": {
      "application/javascript": [
       "\n",
       "            setTimeout(function() {\n",
       "                var nbb_cell_id = 82;\n",
       "                var nbb_unformatted_code = \"evaluation(ri2_train)\";\n",
       "                var nbb_formatted_code = \"evaluation(ri2_train)\";\n",
       "                var nbb_cells = Jupyter.notebook.get_cells();\n",
       "                for (var i = 0; i < nbb_cells.length; ++i) {\n",
       "                    if (nbb_cells[i].input_prompt_number == nbb_cell_id) {\n",
       "                        if (nbb_cells[i].get_text() == nbb_unformatted_code) {\n",
       "                             nbb_cells[i].set_text(nbb_formatted_code);\n",
       "                        }\n",
       "                        break;\n",
       "                    }\n",
       "                }\n",
       "            }, 500);\n",
       "            "
      ],
      "text/plain": [
       "<IPython.core.display.Javascript object>"
      ]
     },
     "metadata": {},
     "output_type": "display_data"
    }
   ],
   "source": [
    "evaluation(ri2_train) #K-Means"
   ]
  },
  {
   "cell_type": "code",
   "execution_count": 85,
   "metadata": {},
   "outputs": [
    {
     "name": "stdout",
     "output_type": "stream",
     "text": [
      "The number of accurately classified cases  before RI  is:  1682\n",
      "The number of misclassified cases  before RI  is:  2770\n",
      "The number of accurately classified cases  after RI  is:  2546\n",
      "The number of misclassified cases  after RI  is:  1906\n"
     ]
    },
    {
     "data": {
      "application/javascript": [
       "\n",
       "            setTimeout(function() {\n",
       "                var nbb_cell_id = 85;\n",
       "                var nbb_unformatted_code = \"evaluation(ri3_train)\";\n",
       "                var nbb_formatted_code = \"evaluation(ri3_train)\";\n",
       "                var nbb_cells = Jupyter.notebook.get_cells();\n",
       "                for (var i = 0; i < nbb_cells.length; ++i) {\n",
       "                    if (nbb_cells[i].input_prompt_number == nbb_cell_id) {\n",
       "                        if (nbb_cells[i].get_text() == nbb_unformatted_code) {\n",
       "                             nbb_cells[i].set_text(nbb_formatted_code);\n",
       "                        }\n",
       "                        break;\n",
       "                    }\n",
       "                }\n",
       "            }, 500);\n",
       "            "
      ],
      "text/plain": [
       "<IPython.core.display.Javascript object>"
      ]
     },
     "metadata": {},
     "output_type": "display_data"
    }
   ],
   "source": [
    "evaluation(ri3_train) #Hierarchical clustering"
   ]
  },
  {
   "cell_type": "code",
   "execution_count": null,
   "metadata": {},
   "outputs": [],
   "source": []
  },
  {
   "cell_type": "code",
   "execution_count": null,
   "metadata": {},
   "outputs": [],
   "source": []
  },
  {
   "cell_type": "code",
   "execution_count": null,
   "metadata": {},
   "outputs": [],
   "source": []
  },
  {
   "cell_type": "markdown",
   "metadata": {},
   "source": [
    "## **DON'T RUN AFTER HERE**"
   ]
  },
  {
   "cell_type": "markdown",
   "metadata": {},
   "source": [
    "#### Prepare Train New"
   ]
  },
  {
   "cell_type": "code",
   "execution_count": 62,
   "metadata": {},
   "outputs": [
    {
     "data": {
      "application/javascript": [
       "\n",
       "            setTimeout(function() {\n",
       "                var nbb_cell_id = 62;\n",
       "                var nbb_unformatted_code = \"# Join labels to train set\\n# Accepts\\ntrain_accepts = pd.merge(\\n    os_data_X, os_data_y[[\\\"target\\\"]], how=\\\"left\\\", left_index=True, right_index=True\\n)\\n\\ntrain_accepts[\\\"Flag1\\\"] = \\\"Accept\\\"\\n\\n# Rejects\\ntrain_rejects = pd.merge(\\n    dfr_dev2,\\n    ri2_train[[\\\"prediction_beforeRI\\\"]],\\n    how=\\\"left\\\",\\n    left_index=True,\\n    right_index=True,\\n)\\n\\n# Drop Null values and align naming\\ntrain_accepts.dropna(subset=[\\\"target\\\"], inplace=True)\\ntrain_rejects.rename(columns={\\\"prediction_beforeRI\\\": \\\"target\\\"}, inplace=True)\";\n",
       "                var nbb_formatted_code = \"# Join labels to train set\\n# Accepts\\ntrain_accepts = pd.merge(\\n    os_data_X, os_data_y[[\\\"target\\\"]], how=\\\"left\\\", left_index=True, right_index=True\\n)\\n\\ntrain_accepts[\\\"Flag1\\\"] = \\\"Accept\\\"\\n\\n# Rejects\\ntrain_rejects = pd.merge(\\n    dfr_dev2,\\n    ri2_train[[\\\"prediction_beforeRI\\\"]],\\n    how=\\\"left\\\",\\n    left_index=True,\\n    right_index=True,\\n)\\n\\n# Drop Null values and align naming\\ntrain_accepts.dropna(subset=[\\\"target\\\"], inplace=True)\\ntrain_rejects.rename(columns={\\\"prediction_beforeRI\\\": \\\"target\\\"}, inplace=True)\";\n",
       "                var nbb_cells = Jupyter.notebook.get_cells();\n",
       "                for (var i = 0; i < nbb_cells.length; ++i) {\n",
       "                    if (nbb_cells[i].input_prompt_number == nbb_cell_id) {\n",
       "                        if (nbb_cells[i].get_text() == nbb_unformatted_code) {\n",
       "                             nbb_cells[i].set_text(nbb_formatted_code);\n",
       "                        }\n",
       "                        break;\n",
       "                    }\n",
       "                }\n",
       "            }, 500);\n",
       "            "
      ],
      "text/plain": [
       "<IPython.core.display.Javascript object>"
      ]
     },
     "metadata": {},
     "output_type": "display_data"
    }
   ],
   "source": [
    "# Join labels to train set\n",
    "# Accepts\n",
    "train_accepts = pd.merge(\n",
    "    os_data_X, os_data_y[[\"target\"]], how=\"left\", left_index=True, right_index=True\n",
    ")\n",
    "\n",
    "train_accepts[\"Flag1\"] = \"Accept\"\n",
    "\n",
    "# Rejects\n",
    "train_rejects = pd.merge(\n",
    "    dfr_dev2,\n",
    "    ri2_train[[\"prediction_beforeRI\"]],\n",
    "    how=\"left\",\n",
    "    left_index=True,\n",
    "    right_index=True,\n",
    ")\n",
    "\n",
    "# Drop Null values and align naming\n",
    "train_accepts.dropna(subset=[\"target\"], inplace=True)\n",
    "train_rejects.rename(columns={\"prediction_beforeRI\": \"target\"}, inplace=True)"
   ]
  },
  {
   "cell_type": "code",
   "execution_count": 63,
   "metadata": {},
   "outputs": [
    {
     "data": {
      "application/javascript": [
       "\n",
       "            setTimeout(function() {\n",
       "                var nbb_cell_id = 63;\n",
       "                var nbb_unformatted_code = \"# Concatenate Train Accepts and Train Rejects\\ntrain_new = pd.concat([train_accepts, train_rejects])\";\n",
       "                var nbb_formatted_code = \"# Concatenate Train Accepts and Train Rejects\\ntrain_new = pd.concat([train_accepts, train_rejects])\";\n",
       "                var nbb_cells = Jupyter.notebook.get_cells();\n",
       "                for (var i = 0; i < nbb_cells.length; ++i) {\n",
       "                    if (nbb_cells[i].input_prompt_number == nbb_cell_id) {\n",
       "                        if (nbb_cells[i].get_text() == nbb_unformatted_code) {\n",
       "                             nbb_cells[i].set_text(nbb_formatted_code);\n",
       "                        }\n",
       "                        break;\n",
       "                    }\n",
       "                }\n",
       "            }, 500);\n",
       "            "
      ],
      "text/plain": [
       "<IPython.core.display.Javascript object>"
      ]
     },
     "metadata": {},
     "output_type": "display_data"
    }
   ],
   "source": [
    "# Concatenate Train Accepts and Train Rejects\n",
    "train_new = pd.concat([train_accepts, train_rejects])"
   ]
  },
  {
   "cell_type": "code",
   "execution_count": 64,
   "metadata": {},
   "outputs": [
    {
     "data": {
      "text/plain": [
       "(23857, 8)"
      ]
     },
     "execution_count": 64,
     "metadata": {},
     "output_type": "execute_result"
    },
    {
     "data": {
      "application/javascript": [
       "\n",
       "            setTimeout(function() {\n",
       "                var nbb_cell_id = 64;\n",
       "                var nbb_unformatted_code = \"train_new.shape  # As expected\";\n",
       "                var nbb_formatted_code = \"train_new.shape  # As expected\";\n",
       "                var nbb_cells = Jupyter.notebook.get_cells();\n",
       "                for (var i = 0; i < nbb_cells.length; ++i) {\n",
       "                    if (nbb_cells[i].input_prompt_number == nbb_cell_id) {\n",
       "                        if (nbb_cells[i].get_text() == nbb_unformatted_code) {\n",
       "                             nbb_cells[i].set_text(nbb_formatted_code);\n",
       "                        }\n",
       "                        break;\n",
       "                    }\n",
       "                }\n",
       "            }, 500);\n",
       "            "
      ],
      "text/plain": [
       "<IPython.core.display.Javascript object>"
      ]
     },
     "metadata": {},
     "output_type": "display_data"
    }
   ],
   "source": [
    "train_new.shape  # As expected"
   ]
  },
  {
   "cell_type": "code",
   "execution_count": 65,
   "metadata": {},
   "outputs": [
    {
     "data": {
      "application/javascript": [
       "\n",
       "            setTimeout(function() {\n",
       "                var nbb_cell_id = 65;\n",
       "                var nbb_unformatted_code = \"# Flag\\ntrain_new[\\\"Flag\\\"] = train_new[\\\"Flag1\\\"].apply(\\n    lambda x: \\\"Accept\\\" if x == \\\"Accept\\\" else \\\"Reject\\\"\\n)\\ntrain_new = train_new.drop(columns=[\\\"Flag1\\\"])\";\n",
       "                var nbb_formatted_code = \"# Flag\\ntrain_new[\\\"Flag\\\"] = train_new[\\\"Flag1\\\"].apply(\\n    lambda x: \\\"Accept\\\" if x == \\\"Accept\\\" else \\\"Reject\\\"\\n)\\ntrain_new = train_new.drop(columns=[\\\"Flag1\\\"])\";\n",
       "                var nbb_cells = Jupyter.notebook.get_cells();\n",
       "                for (var i = 0; i < nbb_cells.length; ++i) {\n",
       "                    if (nbb_cells[i].input_prompt_number == nbb_cell_id) {\n",
       "                        if (nbb_cells[i].get_text() == nbb_unformatted_code) {\n",
       "                             nbb_cells[i].set_text(nbb_formatted_code);\n",
       "                        }\n",
       "                        break;\n",
       "                    }\n",
       "                }\n",
       "            }, 500);\n",
       "            "
      ],
      "text/plain": [
       "<IPython.core.display.Javascript object>"
      ]
     },
     "metadata": {},
     "output_type": "display_data"
    }
   ],
   "source": [
    "# Flag\n",
    "train_new[\"Flag\"] = train_new[\"Flag1\"].apply(\n",
    "    lambda x: \"Accept\" if x == \"Accept\" else \"Reject\"\n",
    ")\n",
    "train_new = train_new.drop(columns=[\"Flag1\"])"
   ]
  },
  {
   "cell_type": "code",
   "execution_count": 66,
   "metadata": {},
   "outputs": [
    {
     "data": {
      "text/html": [
       "<div>\n",
       "<style scoped>\n",
       "    .dataframe tbody tr th:only-of-type {\n",
       "        vertical-align: middle;\n",
       "    }\n",
       "\n",
       "    .dataframe tbody tr th {\n",
       "        vertical-align: top;\n",
       "    }\n",
       "\n",
       "    .dataframe thead th {\n",
       "        text-align: right;\n",
       "    }\n",
       "</style>\n",
       "<table border=\"1\" class=\"dataframe\">\n",
       "  <thead>\n",
       "    <tr style=\"text-align: right;\">\n",
       "      <th></th>\n",
       "      <th>id</th>\n",
       "      <th>&lt;=1k</th>\n",
       "      <th>&gt;10k</th>\n",
       "      <th>Bad state</th>\n",
       "      <th>Good state</th>\n",
       "      <th>1-2 years</th>\n",
       "      <th>target</th>\n",
       "      <th>Flag</th>\n",
       "    </tr>\n",
       "  </thead>\n",
       "  <tbody>\n",
       "    <tr>\n",
       "      <th>0</th>\n",
       "      <td>91667275</td>\n",
       "      <td>0</td>\n",
       "      <td>1</td>\n",
       "      <td>1</td>\n",
       "      <td>0</td>\n",
       "      <td>1</td>\n",
       "      <td>0</td>\n",
       "      <td>Accept</td>\n",
       "    </tr>\n",
       "    <tr>\n",
       "      <th>1</th>\n",
       "      <td>66611217</td>\n",
       "      <td>0</td>\n",
       "      <td>1</td>\n",
       "      <td>0</td>\n",
       "      <td>1</td>\n",
       "      <td>1</td>\n",
       "      <td>0</td>\n",
       "      <td>Accept</td>\n",
       "    </tr>\n",
       "    <tr>\n",
       "      <th>2</th>\n",
       "      <td>66413338</td>\n",
       "      <td>0</td>\n",
       "      <td>1</td>\n",
       "      <td>1</td>\n",
       "      <td>0</td>\n",
       "      <td>0</td>\n",
       "      <td>0</td>\n",
       "      <td>Accept</td>\n",
       "    </tr>\n",
       "    <tr>\n",
       "      <th>3</th>\n",
       "      <td>85126399</td>\n",
       "      <td>0</td>\n",
       "      <td>0</td>\n",
       "      <td>0</td>\n",
       "      <td>1</td>\n",
       "      <td>1</td>\n",
       "      <td>0</td>\n",
       "      <td>Accept</td>\n",
       "    </tr>\n",
       "    <tr>\n",
       "      <th>4</th>\n",
       "      <td>69892817</td>\n",
       "      <td>0</td>\n",
       "      <td>0</td>\n",
       "      <td>1</td>\n",
       "      <td>0</td>\n",
       "      <td>0</td>\n",
       "      <td>0</td>\n",
       "      <td>Accept</td>\n",
       "    </tr>\n",
       "    <tr>\n",
       "      <th>...</th>\n",
       "      <td>...</td>\n",
       "      <td>...</td>\n",
       "      <td>...</td>\n",
       "      <td>...</td>\n",
       "      <td>...</td>\n",
       "      <td>...</td>\n",
       "      <td>...</td>\n",
       "      <td>...</td>\n",
       "    </tr>\n",
       "    <tr>\n",
       "      <th>13981</th>\n",
       "      <td>5b4913cb-6513-423b-9389-e53f822f39cc</td>\n",
       "      <td>0</td>\n",
       "      <td>0</td>\n",
       "      <td>1</td>\n",
       "      <td>0</td>\n",
       "      <td>1</td>\n",
       "      <td>1</td>\n",
       "      <td>Reject</td>\n",
       "    </tr>\n",
       "    <tr>\n",
       "      <th>5170</th>\n",
       "      <td>1756ba5b-f2ee-4190-8318-50a9e585108c</td>\n",
       "      <td>0</td>\n",
       "      <td>0</td>\n",
       "      <td>1</td>\n",
       "      <td>0</td>\n",
       "      <td>1</td>\n",
       "      <td>1</td>\n",
       "      <td>Reject</td>\n",
       "    </tr>\n",
       "    <tr>\n",
       "      <th>1391</th>\n",
       "      <td>6c760a11-c818-48dd-ad75-2272add6c918</td>\n",
       "      <td>0</td>\n",
       "      <td>1</td>\n",
       "      <td>0</td>\n",
       "      <td>1</td>\n",
       "      <td>0</td>\n",
       "      <td>0</td>\n",
       "      <td>Reject</td>\n",
       "    </tr>\n",
       "    <tr>\n",
       "      <th>11865</th>\n",
       "      <td>b83e806e-b936-443d-8875-a3ea56691249</td>\n",
       "      <td>0</td>\n",
       "      <td>1</td>\n",
       "      <td>1</td>\n",
       "      <td>0</td>\n",
       "      <td>1</td>\n",
       "      <td>1</td>\n",
       "      <td>Reject</td>\n",
       "    </tr>\n",
       "    <tr>\n",
       "      <th>623</th>\n",
       "      <td>06be2323-40cd-4ee5-a0d5-6c72eb306aae</td>\n",
       "      <td>0</td>\n",
       "      <td>0</td>\n",
       "      <td>0</td>\n",
       "      <td>1</td>\n",
       "      <td>1</td>\n",
       "      <td>0</td>\n",
       "      <td>Reject</td>\n",
       "    </tr>\n",
       "  </tbody>\n",
       "</table>\n",
       "<p>23857 rows × 8 columns</p>\n",
       "</div>"
      ],
      "text/plain": [
       "                                         id  <=1k  >10k  Bad state  \\\n",
       "0                                  91667275     0     1          1   \n",
       "1                                  66611217     0     1          0   \n",
       "2                                  66413338     0     1          1   \n",
       "3                                  85126399     0     0          0   \n",
       "4                                  69892817     0     0          1   \n",
       "...                                     ...   ...   ...        ...   \n",
       "13981  5b4913cb-6513-423b-9389-e53f822f39cc     0     0          1   \n",
       "5170   1756ba5b-f2ee-4190-8318-50a9e585108c     0     0          1   \n",
       "1391   6c760a11-c818-48dd-ad75-2272add6c918     0     1          0   \n",
       "11865  b83e806e-b936-443d-8875-a3ea56691249     0     1          1   \n",
       "623    06be2323-40cd-4ee5-a0d5-6c72eb306aae     0     0          0   \n",
       "\n",
       "       Good state  1-2 years  target    Flag  \n",
       "0               0          1       0  Accept  \n",
       "1               1          1       0  Accept  \n",
       "2               0          0       0  Accept  \n",
       "3               1          1       0  Accept  \n",
       "4               0          0       0  Accept  \n",
       "...           ...        ...     ...     ...  \n",
       "13981           0          1       1  Reject  \n",
       "5170            0          1       1  Reject  \n",
       "1391            1          0       0  Reject  \n",
       "11865           0          1       1  Reject  \n",
       "623             1          1       0  Reject  \n",
       "\n",
       "[23857 rows x 8 columns]"
      ]
     },
     "execution_count": 66,
     "metadata": {},
     "output_type": "execute_result"
    },
    {
     "data": {
      "application/javascript": [
       "\n",
       "            setTimeout(function() {\n",
       "                var nbb_cell_id = 66;\n",
       "                var nbb_unformatted_code = \"train_new\";\n",
       "                var nbb_formatted_code = \"train_new\";\n",
       "                var nbb_cells = Jupyter.notebook.get_cells();\n",
       "                for (var i = 0; i < nbb_cells.length; ++i) {\n",
       "                    if (nbb_cells[i].input_prompt_number == nbb_cell_id) {\n",
       "                        if (nbb_cells[i].get_text() == nbb_unformatted_code) {\n",
       "                             nbb_cells[i].set_text(nbb_formatted_code);\n",
       "                        }\n",
       "                        break;\n",
       "                    }\n",
       "                }\n",
       "            }, 500);\n",
       "            "
      ],
      "text/plain": [
       "<IPython.core.display.Javascript object>"
      ]
     },
     "metadata": {},
     "output_type": "display_data"
    }
   ],
   "source": [
    "train_new"
   ]
  },
  {
   "cell_type": "code",
   "execution_count": 67,
   "metadata": {},
   "outputs": [
    {
     "data": {
      "text/plain": [
       "LogisticRegression(fit_intercept=False, penalty='none')"
      ]
     },
     "execution_count": 67,
     "metadata": {},
     "output_type": "execute_result"
    },
    {
     "data": {
      "application/javascript": [
       "\n",
       "            setTimeout(function() {\n",
       "                var nbb_cell_id = 67;\n",
       "                var nbb_unformatted_code = \"# Retrain KGB Model\\n\\n# Split\\nX_new = train_new.loc[:, train_new.columns != \\\"target\\\"]\\nX_new = X_new.loc[:, X_new.columns != \\\"Flag\\\"]\\ny_new = train_new.loc[:, train_new.columns == \\\"target\\\"]\\nX_train_new, X_test_new, y_train_new, y_test_new = train_test_split(\\n    X_new, y_new, test_size=0.3, random_state=7\\n)\\n\\n# Keep only columns for modelling\\nos_data_X_2_new = X_train_new[[\\\"<=1k\\\", \\\"Good state\\\", \\\"Bad state\\\", \\\"1-2 years\\\"]]\\nX_test_2_new = X_test_new[[\\\"<=1k\\\", \\\"Good state\\\", \\\"Bad state\\\", \\\"1-2 years\\\"]]\\n\\n# Build Logistic regression\\nlogreg = LogisticRegression(fit_intercept=False, penalty=\\\"none\\\")\\nlogreg.fit(os_data_X_2_new, y_train_new.values.ravel())\";\n",
       "                var nbb_formatted_code = \"# Retrain KGB Model\\n\\n# Split\\nX_new = train_new.loc[:, train_new.columns != \\\"target\\\"]\\nX_new = X_new.loc[:, X_new.columns != \\\"Flag\\\"]\\ny_new = train_new.loc[:, train_new.columns == \\\"target\\\"]\\nX_train_new, X_test_new, y_train_new, y_test_new = train_test_split(\\n    X_new, y_new, test_size=0.3, random_state=7\\n)\\n\\n# Keep only columns for modelling\\nos_data_X_2_new = X_train_new[[\\\"<=1k\\\", \\\"Good state\\\", \\\"Bad state\\\", \\\"1-2 years\\\"]]\\nX_test_2_new = X_test_new[[\\\"<=1k\\\", \\\"Good state\\\", \\\"Bad state\\\", \\\"1-2 years\\\"]]\\n\\n# Build Logistic regression\\nlogreg = LogisticRegression(fit_intercept=False, penalty=\\\"none\\\")\\nlogreg.fit(os_data_X_2_new, y_train_new.values.ravel())\";\n",
       "                var nbb_cells = Jupyter.notebook.get_cells();\n",
       "                for (var i = 0; i < nbb_cells.length; ++i) {\n",
       "                    if (nbb_cells[i].input_prompt_number == nbb_cell_id) {\n",
       "                        if (nbb_cells[i].get_text() == nbb_unformatted_code) {\n",
       "                             nbb_cells[i].set_text(nbb_formatted_code);\n",
       "                        }\n",
       "                        break;\n",
       "                    }\n",
       "                }\n",
       "            }, 500);\n",
       "            "
      ],
      "text/plain": [
       "<IPython.core.display.Javascript object>"
      ]
     },
     "metadata": {},
     "output_type": "display_data"
    }
   ],
   "source": [
    "# Retrain KGB Model\n",
    "\n",
    "# Split\n",
    "X_new = train_new.loc[:, train_new.columns != \"target\"]\n",
    "X_new = X_new.loc[:, X_new.columns != \"Flag\"]\n",
    "y_new = train_new.loc[:, train_new.columns == \"target\"]\n",
    "X_train_new, X_test_new, y_train_new, y_test_new = train_test_split(\n",
    "    X_new, y_new, test_size=0.3, random_state=7\n",
    ")\n",
    "\n",
    "# Keep only columns for modelling\n",
    "os_data_X_2_new = X_train_new[[\"<=1k\", \"Good state\", \"Bad state\", \"1-2 years\"]]\n",
    "X_test_2_new = X_test_new[[\"<=1k\", \"Good state\", \"Bad state\", \"1-2 years\"]]\n",
    "\n",
    "# Build Logistic regression\n",
    "logreg = LogisticRegression(fit_intercept=False, penalty=\"none\")\n",
    "logreg.fit(os_data_X_2_new, y_train_new.values.ravel())"
   ]
  },
  {
   "cell_type": "markdown",
   "metadata": {},
   "source": [
    "#### Prepare Test New"
   ]
  },
  {
   "cell_type": "code",
   "execution_count": 68,
   "metadata": {},
   "outputs": [
    {
     "data": {
      "application/javascript": [
       "\n",
       "            setTimeout(function() {\n",
       "                var nbb_cell_id = 68;\n",
       "                var nbb_unformatted_code = \"# Join labels to test set\\n# Accepts\\ntest_accepts = pd.merge(\\n    X_test, y_test[[\\\"target\\\"]], how=\\\"left\\\", left_index=True, right_index=True\\n)\\n\\ntest_accepts[\\\"Flag1\\\"] = \\\"Accept\\\"\\n\\n# Rejects\\ntest_rejects = pd.merge(\\n    dfr_test2,\\n    ri2_test[[\\\"prediction_beforeRI\\\"]],\\n    how=\\\"left\\\",\\n    left_index=True,\\n    right_index=True,\\n)\\n\\n# Drop Null values and align naming\\ntest_accepts.dropna(subset=[\\\"target\\\"], inplace=True)\\ntest_rejects.rename(columns={\\\"prediction_beforeRI\\\": \\\"target\\\"}, inplace=True)\\ntest_rejects.dropna(subset=[\\\"target\\\"], inplace=True)\";\n",
       "                var nbb_formatted_code = \"# Join labels to test set\\n# Accepts\\ntest_accepts = pd.merge(\\n    X_test, y_test[[\\\"target\\\"]], how=\\\"left\\\", left_index=True, right_index=True\\n)\\n\\ntest_accepts[\\\"Flag1\\\"] = \\\"Accept\\\"\\n\\n# Rejects\\ntest_rejects = pd.merge(\\n    dfr_test2,\\n    ri2_test[[\\\"prediction_beforeRI\\\"]],\\n    how=\\\"left\\\",\\n    left_index=True,\\n    right_index=True,\\n)\\n\\n# Drop Null values and align naming\\ntest_accepts.dropna(subset=[\\\"target\\\"], inplace=True)\\ntest_rejects.rename(columns={\\\"prediction_beforeRI\\\": \\\"target\\\"}, inplace=True)\\ntest_rejects.dropna(subset=[\\\"target\\\"], inplace=True)\";\n",
       "                var nbb_cells = Jupyter.notebook.get_cells();\n",
       "                for (var i = 0; i < nbb_cells.length; ++i) {\n",
       "                    if (nbb_cells[i].input_prompt_number == nbb_cell_id) {\n",
       "                        if (nbb_cells[i].get_text() == nbb_unformatted_code) {\n",
       "                             nbb_cells[i].set_text(nbb_formatted_code);\n",
       "                        }\n",
       "                        break;\n",
       "                    }\n",
       "                }\n",
       "            }, 500);\n",
       "            "
      ],
      "text/plain": [
       "<IPython.core.display.Javascript object>"
      ]
     },
     "metadata": {},
     "output_type": "display_data"
    }
   ],
   "source": [
    "# Join labels to test set\n",
    "# Accepts\n",
    "test_accepts = pd.merge(\n",
    "    X_test, y_test[[\"target\"]], how=\"left\", left_index=True, right_index=True\n",
    ")\n",
    "\n",
    "test_accepts[\"Flag1\"] = \"Accept\"\n",
    "\n",
    "# Rejects\n",
    "test_rejects = pd.merge(\n",
    "    dfr_test2,\n",
    "    ri2_test[[\"prediction_beforeRI\"]],\n",
    "    how=\"left\",\n",
    "    left_index=True,\n",
    "    right_index=True,\n",
    ")\n",
    "\n",
    "# Drop Null values and align naming\n",
    "test_accepts.dropna(subset=[\"target\"], inplace=True)\n",
    "test_rejects.rename(columns={\"prediction_beforeRI\": \"target\"}, inplace=True)\n",
    "test_rejects.dropna(subset=[\"target\"], inplace=True)"
   ]
  },
  {
   "cell_type": "code",
   "execution_count": 69,
   "metadata": {},
   "outputs": [
    {
     "data": {
      "application/javascript": [
       "\n",
       "            setTimeout(function() {\n",
       "                var nbb_cell_id = 69;\n",
       "                var nbb_unformatted_code = \"# Concatenate Test Accepts and Test Rejects\\ntest_new = pd.concat([test_accepts, test_rejects])\";\n",
       "                var nbb_formatted_code = \"# Concatenate Test Accepts and Test Rejects\\ntest_new = pd.concat([test_accepts, test_rejects])\";\n",
       "                var nbb_cells = Jupyter.notebook.get_cells();\n",
       "                for (var i = 0; i < nbb_cells.length; ++i) {\n",
       "                    if (nbb_cells[i].input_prompt_number == nbb_cell_id) {\n",
       "                        if (nbb_cells[i].get_text() == nbb_unformatted_code) {\n",
       "                             nbb_cells[i].set_text(nbb_formatted_code);\n",
       "                        }\n",
       "                        break;\n",
       "                    }\n",
       "                }\n",
       "            }, 500);\n",
       "            "
      ],
      "text/plain": [
       "<IPython.core.display.Javascript object>"
      ]
     },
     "metadata": {},
     "output_type": "display_data"
    }
   ],
   "source": [
    "# Concatenate Test Accepts and Test Rejects\n",
    "test_new = pd.concat([test_accepts, test_rejects])"
   ]
  },
  {
   "cell_type": "code",
   "execution_count": 70,
   "metadata": {},
   "outputs": [
    {
     "data": {
      "application/javascript": [
       "\n",
       "            setTimeout(function() {\n",
       "                var nbb_cell_id = 70;\n",
       "                var nbb_unformatted_code = \"# Flag\\ntest_new[\\\"Flag\\\"] = test_new[\\\"Flag1\\\"].apply(\\n    lambda x: \\\"Accept\\\" if x == \\\"Accept\\\" else \\\"Reject\\\"\\n)\\ntest_new = test_new.drop(columns=[\\\"Flag1\\\"])\";\n",
       "                var nbb_formatted_code = \"# Flag\\ntest_new[\\\"Flag\\\"] = test_new[\\\"Flag1\\\"].apply(\\n    lambda x: \\\"Accept\\\" if x == \\\"Accept\\\" else \\\"Reject\\\"\\n)\\ntest_new = test_new.drop(columns=[\\\"Flag1\\\"])\";\n",
       "                var nbb_cells = Jupyter.notebook.get_cells();\n",
       "                for (var i = 0; i < nbb_cells.length; ++i) {\n",
       "                    if (nbb_cells[i].input_prompt_number == nbb_cell_id) {\n",
       "                        if (nbb_cells[i].get_text() == nbb_unformatted_code) {\n",
       "                             nbb_cells[i].set_text(nbb_formatted_code);\n",
       "                        }\n",
       "                        break;\n",
       "                    }\n",
       "                }\n",
       "            }, 500);\n",
       "            "
      ],
      "text/plain": [
       "<IPython.core.display.Javascript object>"
      ]
     },
     "metadata": {},
     "output_type": "display_data"
    }
   ],
   "source": [
    "# Flag\n",
    "test_new[\"Flag\"] = test_new[\"Flag1\"].apply(\n",
    "    lambda x: \"Accept\" if x == \"Accept\" else \"Reject\"\n",
    ")\n",
    "test_new = test_new.drop(columns=[\"Flag1\"])"
   ]
  },
  {
   "cell_type": "code",
   "execution_count": 71,
   "metadata": {},
   "outputs": [
    {
     "data": {
      "text/plain": [
       "(11952, 8)"
      ]
     },
     "execution_count": 71,
     "metadata": {},
     "output_type": "execute_result"
    },
    {
     "data": {
      "application/javascript": [
       "\n",
       "            setTimeout(function() {\n",
       "                var nbb_cell_id = 71;\n",
       "                var nbb_unformatted_code = \"test_new.shape  # As expected\";\n",
       "                var nbb_formatted_code = \"test_new.shape  # As expected\";\n",
       "                var nbb_cells = Jupyter.notebook.get_cells();\n",
       "                for (var i = 0; i < nbb_cells.length; ++i) {\n",
       "                    if (nbb_cells[i].input_prompt_number == nbb_cell_id) {\n",
       "                        if (nbb_cells[i].get_text() == nbb_unformatted_code) {\n",
       "                             nbb_cells[i].set_text(nbb_formatted_code);\n",
       "                        }\n",
       "                        break;\n",
       "                    }\n",
       "                }\n",
       "            }, 500);\n",
       "            "
      ],
      "text/plain": [
       "<IPython.core.display.Javascript object>"
      ]
     },
     "metadata": {},
     "output_type": "display_data"
    }
   ],
   "source": [
    "test_new.shape  # As expected"
   ]
  },
  {
   "cell_type": "code",
   "execution_count": 72,
   "metadata": {},
   "outputs": [
    {
     "data": {
      "application/javascript": [
       "\n",
       "            setTimeout(function() {\n",
       "                var nbb_cell_id = 72;\n",
       "                var nbb_unformatted_code = \"test_new = test_new.reset_index(drop=True)\";\n",
       "                var nbb_formatted_code = \"test_new = test_new.reset_index(drop=True)\";\n",
       "                var nbb_cells = Jupyter.notebook.get_cells();\n",
       "                for (var i = 0; i < nbb_cells.length; ++i) {\n",
       "                    if (nbb_cells[i].input_prompt_number == nbb_cell_id) {\n",
       "                        if (nbb_cells[i].get_text() == nbb_unformatted_code) {\n",
       "                             nbb_cells[i].set_text(nbb_formatted_code);\n",
       "                        }\n",
       "                        break;\n",
       "                    }\n",
       "                }\n",
       "            }, 500);\n",
       "            "
      ],
      "text/plain": [
       "<IPython.core.display.Javascript object>"
      ]
     },
     "metadata": {},
     "output_type": "display_data"
    }
   ],
   "source": [
    "test_new = test_new.reset_index(drop=True)"
   ]
  },
  {
   "cell_type": "code",
   "execution_count": 73,
   "metadata": {},
   "outputs": [
    {
     "data": {
      "application/javascript": [
       "\n",
       "            setTimeout(function() {\n",
       "                var nbb_cell_id = 73;\n",
       "                var nbb_unformatted_code = \"X_test_new = test_new.loc[:, train_new.columns != \\\"target\\\"]\\nX_test_new2 = X_test_new.loc[:, X_test_new.columns != \\\"Flag\\\"]\\nX_test_new3 = X_test_new2.loc[:, X_test_new2.columns != \\\"id\\\"]\\nX_test_new4 = X_test_new3.loc[:, X_test_new3.columns != \\\">10k\\\"]\\ny_test_new = test_new.loc[:, train_new.columns == \\\"target\\\"]\";\n",
       "                var nbb_formatted_code = \"X_test_new = test_new.loc[:, train_new.columns != \\\"target\\\"]\\nX_test_new2 = X_test_new.loc[:, X_test_new.columns != \\\"Flag\\\"]\\nX_test_new3 = X_test_new2.loc[:, X_test_new2.columns != \\\"id\\\"]\\nX_test_new4 = X_test_new3.loc[:, X_test_new3.columns != \\\">10k\\\"]\\ny_test_new = test_new.loc[:, train_new.columns == \\\"target\\\"]\";\n",
       "                var nbb_cells = Jupyter.notebook.get_cells();\n",
       "                for (var i = 0; i < nbb_cells.length; ++i) {\n",
       "                    if (nbb_cells[i].input_prompt_number == nbb_cell_id) {\n",
       "                        if (nbb_cells[i].get_text() == nbb_unformatted_code) {\n",
       "                             nbb_cells[i].set_text(nbb_formatted_code);\n",
       "                        }\n",
       "                        break;\n",
       "                    }\n",
       "                }\n",
       "            }, 500);\n",
       "            "
      ],
      "text/plain": [
       "<IPython.core.display.Javascript object>"
      ]
     },
     "metadata": {},
     "output_type": "display_data"
    }
   ],
   "source": [
    "X_test_new = test_new.loc[:, train_new.columns != \"target\"]\n",
    "X_test_new2 = X_test_new.loc[:, X_test_new.columns != \"Flag\"]\n",
    "X_test_new3 = X_test_new2.loc[:, X_test_new2.columns != \"id\"]\n",
    "X_test_new4 = X_test_new3.loc[:, X_test_new3.columns != \">10k\"]\n",
    "y_test_new = test_new.loc[:, train_new.columns == \"target\"]"
   ]
  },
  {
   "cell_type": "markdown",
   "metadata": {},
   "source": [
    "#### Predictions"
   ]
  },
  {
   "cell_type": "code",
   "execution_count": 74,
   "metadata": {},
   "outputs": [
    {
     "data": {
      "text/html": [
       "<div>\n",
       "<style scoped>\n",
       "    .dataframe tbody tr th:only-of-type {\n",
       "        vertical-align: middle;\n",
       "    }\n",
       "\n",
       "    .dataframe tbody tr th {\n",
       "        vertical-align: top;\n",
       "    }\n",
       "\n",
       "    .dataframe thead th {\n",
       "        text-align: right;\n",
       "    }\n",
       "</style>\n",
       "<table border=\"1\" class=\"dataframe\">\n",
       "  <thead>\n",
       "    <tr style=\"text-align: right;\">\n",
       "      <th></th>\n",
       "      <th>id</th>\n",
       "      <th>&lt;=1k</th>\n",
       "      <th>&gt;10k</th>\n",
       "      <th>Bad state</th>\n",
       "      <th>Good state</th>\n",
       "      <th>1-2 years</th>\n",
       "      <th>target</th>\n",
       "      <th>Flag</th>\n",
       "      <th>prediction_afterRI</th>\n",
       "    </tr>\n",
       "  </thead>\n",
       "  <tbody>\n",
       "    <tr>\n",
       "      <th>0</th>\n",
       "      <td>26789777</td>\n",
       "      <td>0</td>\n",
       "      <td>1</td>\n",
       "      <td>0</td>\n",
       "      <td>0</td>\n",
       "      <td>1</td>\n",
       "      <td>0</td>\n",
       "      <td>Accept</td>\n",
       "      <td>0.676718</td>\n",
       "    </tr>\n",
       "    <tr>\n",
       "      <th>1</th>\n",
       "      <td>17894572</td>\n",
       "      <td>0</td>\n",
       "      <td>1</td>\n",
       "      <td>0</td>\n",
       "      <td>0</td>\n",
       "      <td>1</td>\n",
       "      <td>1</td>\n",
       "      <td>Accept</td>\n",
       "      <td>0.676718</td>\n",
       "    </tr>\n",
       "    <tr>\n",
       "      <th>2</th>\n",
       "      <td>34773392</td>\n",
       "      <td>0</td>\n",
       "      <td>1</td>\n",
       "      <td>0</td>\n",
       "      <td>0</td>\n",
       "      <td>1</td>\n",
       "      <td>0</td>\n",
       "      <td>Accept</td>\n",
       "      <td>0.676718</td>\n",
       "    </tr>\n",
       "    <tr>\n",
       "      <th>3</th>\n",
       "      <td>1122926</td>\n",
       "      <td>0</td>\n",
       "      <td>1</td>\n",
       "      <td>0</td>\n",
       "      <td>1</td>\n",
       "      <td>1</td>\n",
       "      <td>0</td>\n",
       "      <td>Accept</td>\n",
       "      <td>0.853019</td>\n",
       "    </tr>\n",
       "    <tr>\n",
       "      <th>4</th>\n",
       "      <td>46774382</td>\n",
       "      <td>0</td>\n",
       "      <td>1</td>\n",
       "      <td>1</td>\n",
       "      <td>0</td>\n",
       "      <td>1</td>\n",
       "      <td>0</td>\n",
       "      <td>Accept</td>\n",
       "      <td>0.083892</td>\n",
       "    </tr>\n",
       "    <tr>\n",
       "      <th>...</th>\n",
       "      <td>...</td>\n",
       "      <td>...</td>\n",
       "      <td>...</td>\n",
       "      <td>...</td>\n",
       "      <td>...</td>\n",
       "      <td>...</td>\n",
       "      <td>...</td>\n",
       "      <td>...</td>\n",
       "      <td>...</td>\n",
       "    </tr>\n",
       "    <tr>\n",
       "      <th>11947</th>\n",
       "      <td>fad0468c-98d5-4deb-a277-0a57ac4bc4d8</td>\n",
       "      <td>0</td>\n",
       "      <td>0</td>\n",
       "      <td>1</td>\n",
       "      <td>0</td>\n",
       "      <td>1</td>\n",
       "      <td>1</td>\n",
       "      <td>Reject</td>\n",
       "      <td>0.083892</td>\n",
       "    </tr>\n",
       "    <tr>\n",
       "      <th>11948</th>\n",
       "      <td>dd9dabad-6725-4833-a74a-3202e9ef3b87</td>\n",
       "      <td>0</td>\n",
       "      <td>0</td>\n",
       "      <td>0</td>\n",
       "      <td>1</td>\n",
       "      <td>1</td>\n",
       "      <td>0</td>\n",
       "      <td>Reject</td>\n",
       "      <td>0.853019</td>\n",
       "    </tr>\n",
       "    <tr>\n",
       "      <th>11949</th>\n",
       "      <td>d2faa9a6-c09b-4d89-99c7-3efdad7b279c</td>\n",
       "      <td>0</td>\n",
       "      <td>1</td>\n",
       "      <td>0</td>\n",
       "      <td>1</td>\n",
       "      <td>1</td>\n",
       "      <td>0</td>\n",
       "      <td>Reject</td>\n",
       "      <td>0.853019</td>\n",
       "    </tr>\n",
       "    <tr>\n",
       "      <th>11950</th>\n",
       "      <td>f2f73460-ed93-4cfa-ab35-c7df19a4e57c</td>\n",
       "      <td>0</td>\n",
       "      <td>1</td>\n",
       "      <td>1</td>\n",
       "      <td>0</td>\n",
       "      <td>1</td>\n",
       "      <td>1</td>\n",
       "      <td>Reject</td>\n",
       "      <td>0.083892</td>\n",
       "    </tr>\n",
       "    <tr>\n",
       "      <th>11951</th>\n",
       "      <td>08d886e5-d702-488b-a17b-19af4c9865bd</td>\n",
       "      <td>0</td>\n",
       "      <td>1</td>\n",
       "      <td>1</td>\n",
       "      <td>0</td>\n",
       "      <td>1</td>\n",
       "      <td>1</td>\n",
       "      <td>Reject</td>\n",
       "      <td>0.083892</td>\n",
       "    </tr>\n",
       "  </tbody>\n",
       "</table>\n",
       "<p>11952 rows × 9 columns</p>\n",
       "</div>"
      ],
      "text/plain": [
       "                                         id  <=1k  >10k  Bad state  \\\n",
       "0                                  26789777     0     1          0   \n",
       "1                                  17894572     0     1          0   \n",
       "2                                  34773392     0     1          0   \n",
       "3                                   1122926     0     1          0   \n",
       "4                                  46774382     0     1          1   \n",
       "...                                     ...   ...   ...        ...   \n",
       "11947  fad0468c-98d5-4deb-a277-0a57ac4bc4d8     0     0          1   \n",
       "11948  dd9dabad-6725-4833-a74a-3202e9ef3b87     0     0          0   \n",
       "11949  d2faa9a6-c09b-4d89-99c7-3efdad7b279c     0     1          0   \n",
       "11950  f2f73460-ed93-4cfa-ab35-c7df19a4e57c     0     1          1   \n",
       "11951  08d886e5-d702-488b-a17b-19af4c9865bd     0     1          1   \n",
       "\n",
       "       Good state  1-2 years  target    Flag  prediction_afterRI  \n",
       "0               0          1       0  Accept            0.676718  \n",
       "1               0          1       1  Accept            0.676718  \n",
       "2               0          1       0  Accept            0.676718  \n",
       "3               1          1       0  Accept            0.853019  \n",
       "4               0          1       0  Accept            0.083892  \n",
       "...           ...        ...     ...     ...                 ...  \n",
       "11947           0          1       1  Reject            0.083892  \n",
       "11948           1          1       0  Reject            0.853019  \n",
       "11949           1          1       0  Reject            0.853019  \n",
       "11950           0          1       1  Reject            0.083892  \n",
       "11951           0          1       1  Reject            0.083892  \n",
       "\n",
       "[11952 rows x 9 columns]"
      ]
     },
     "execution_count": 74,
     "metadata": {},
     "output_type": "execute_result"
    },
    {
     "data": {
      "application/javascript": [
       "\n",
       "            setTimeout(function() {\n",
       "                var nbb_cell_id = 74;\n",
       "                var nbb_unformatted_code = \"# Join predictions with test new\\ntest_new_pred = logreg.predict_proba(X_test_new4)[:, 1]\\npred_test_df = pd.DataFrame(\\n    data=test_new_pred, columns=[\\\"prediction_afterRI\\\"], index=test_new.index.copy()\\n)\\npred_test = pd.merge(\\n    test_new,\\n    pred_test_df[[\\\"prediction_afterRI\\\"]],\\n    how=\\\"inner\\\",\\n    left_index=True,\\n    right_index=True,\\n)\\n# pred_test1.dropna(subset=[\\\"prediction_beforeRI\\\"], inplace=True)\\npred_test\";\n",
       "                var nbb_formatted_code = \"# Join predictions with test new\\ntest_new_pred = logreg.predict_proba(X_test_new4)[:, 1]\\npred_test_df = pd.DataFrame(\\n    data=test_new_pred, columns=[\\\"prediction_afterRI\\\"], index=test_new.index.copy()\\n)\\npred_test = pd.merge(\\n    test_new,\\n    pred_test_df[[\\\"prediction_afterRI\\\"]],\\n    how=\\\"inner\\\",\\n    left_index=True,\\n    right_index=True,\\n)\\n# pred_test1.dropna(subset=[\\\"prediction_beforeRI\\\"], inplace=True)\\npred_test\";\n",
       "                var nbb_cells = Jupyter.notebook.get_cells();\n",
       "                for (var i = 0; i < nbb_cells.length; ++i) {\n",
       "                    if (nbb_cells[i].input_prompt_number == nbb_cell_id) {\n",
       "                        if (nbb_cells[i].get_text() == nbb_unformatted_code) {\n",
       "                             nbb_cells[i].set_text(nbb_formatted_code);\n",
       "                        }\n",
       "                        break;\n",
       "                    }\n",
       "                }\n",
       "            }, 500);\n",
       "            "
      ],
      "text/plain": [
       "<IPython.core.display.Javascript object>"
      ]
     },
     "metadata": {},
     "output_type": "display_data"
    }
   ],
   "source": [
    "# Join predictions with test new\n",
    "test_new_pred = logreg.predict_proba(X_test_new4)[:, 1]\n",
    "pred_test_df = pd.DataFrame(\n",
    "    data=test_new_pred, columns=[\"prediction_afterRI\"], index=test_new.index.copy()\n",
    ")\n",
    "pred_test = pd.merge(\n",
    "    test_new,\n",
    "    pred_test_df[[\"prediction_afterRI\"]],\n",
    "    how=\"inner\",\n",
    "    left_index=True,\n",
    "    right_index=True,\n",
    ")\n",
    "# pred_test1.dropna(subset=[\"prediction_beforeRI\"], inplace=True)\n",
    "pred_test"
   ]
  },
  {
   "cell_type": "code",
   "execution_count": 75,
   "metadata": {},
   "outputs": [
    {
     "data": {
      "application/javascript": [
       "\n",
       "            setTimeout(function() {\n",
       "                var nbb_cell_id = 75;\n",
       "                var nbb_unformatted_code = \"a1 = pred_test1[[\\\"id\\\", \\\"target\\\", \\\"prediction_beforeRI\\\"]]\\na2 = pred_test[[\\\"id\\\", \\\"Flag\\\", \\\"prediction_afterRI\\\"]]\";\n",
       "                var nbb_formatted_code = \"a1 = pred_test1[[\\\"id\\\", \\\"target\\\", \\\"prediction_beforeRI\\\"]]\\na2 = pred_test[[\\\"id\\\", \\\"Flag\\\", \\\"prediction_afterRI\\\"]]\";\n",
       "                var nbb_cells = Jupyter.notebook.get_cells();\n",
       "                for (var i = 0; i < nbb_cells.length; ++i) {\n",
       "                    if (nbb_cells[i].input_prompt_number == nbb_cell_id) {\n",
       "                        if (nbb_cells[i].get_text() == nbb_unformatted_code) {\n",
       "                             nbb_cells[i].set_text(nbb_formatted_code);\n",
       "                        }\n",
       "                        break;\n",
       "                    }\n",
       "                }\n",
       "            }, 500);\n",
       "            "
      ],
      "text/plain": [
       "<IPython.core.display.Javascript object>"
      ]
     },
     "metadata": {},
     "output_type": "display_data"
    }
   ],
   "source": [
    "a1 = pred_test1[[\"id\", \"target\", \"prediction_beforeRI\"]]\n",
    "a2 = pred_test[[\"id\", \"Flag\", \"prediction_afterRI\"]]"
   ]
  },
  {
   "cell_type": "code",
   "execution_count": 76,
   "metadata": {},
   "outputs": [
    {
     "data": {
      "text/html": [
       "<div>\n",
       "<style scoped>\n",
       "    .dataframe tbody tr th:only-of-type {\n",
       "        vertical-align: middle;\n",
       "    }\n",
       "\n",
       "    .dataframe tbody tr th {\n",
       "        vertical-align: top;\n",
       "    }\n",
       "\n",
       "    .dataframe thead th {\n",
       "        text-align: right;\n",
       "    }\n",
       "</style>\n",
       "<table border=\"1\" class=\"dataframe\">\n",
       "  <thead>\n",
       "    <tr style=\"text-align: right;\">\n",
       "      <th></th>\n",
       "      <th>id</th>\n",
       "      <th>target</th>\n",
       "      <th>prediction_beforeRI</th>\n",
       "      <th>Flag</th>\n",
       "      <th>prediction_afterRI</th>\n",
       "    </tr>\n",
       "  </thead>\n",
       "  <tbody>\n",
       "    <tr>\n",
       "      <th>0</th>\n",
       "      <td>26789777</td>\n",
       "      <td>0</td>\n",
       "      <td>0.393448</td>\n",
       "      <td>Accept</td>\n",
       "      <td>0.676718</td>\n",
       "    </tr>\n",
       "    <tr>\n",
       "      <th>1</th>\n",
       "      <td>17894572</td>\n",
       "      <td>1</td>\n",
       "      <td>0.393448</td>\n",
       "      <td>Accept</td>\n",
       "      <td>0.676718</td>\n",
       "    </tr>\n",
       "    <tr>\n",
       "      <th>2</th>\n",
       "      <td>34773392</td>\n",
       "      <td>0</td>\n",
       "      <td>0.393448</td>\n",
       "      <td>Accept</td>\n",
       "      <td>0.676718</td>\n",
       "    </tr>\n",
       "    <tr>\n",
       "      <th>3</th>\n",
       "      <td>1122926</td>\n",
       "      <td>0</td>\n",
       "      <td>0.271253</td>\n",
       "      <td>Accept</td>\n",
       "      <td>0.853019</td>\n",
       "    </tr>\n",
       "    <tr>\n",
       "      <th>4</th>\n",
       "      <td>46774382</td>\n",
       "      <td>0</td>\n",
       "      <td>0.335878</td>\n",
       "      <td>Accept</td>\n",
       "      <td>0.083892</td>\n",
       "    </tr>\n",
       "    <tr>\n",
       "      <th>...</th>\n",
       "      <td>...</td>\n",
       "      <td>...</td>\n",
       "      <td>...</td>\n",
       "      <td>...</td>\n",
       "      <td>...</td>\n",
       "    </tr>\n",
       "    <tr>\n",
       "      <th>4447</th>\n",
       "      <td>98857570</td>\n",
       "      <td>0</td>\n",
       "      <td>0.271253</td>\n",
       "      <td>Accept</td>\n",
       "      <td>0.853019</td>\n",
       "    </tr>\n",
       "    <tr>\n",
       "      <th>4448</th>\n",
       "      <td>94467429</td>\n",
       "      <td>1</td>\n",
       "      <td>0.438100</td>\n",
       "      <td>Accept</td>\n",
       "      <td>0.041913</td>\n",
       "    </tr>\n",
       "    <tr>\n",
       "      <th>4449</th>\n",
       "      <td>124747082</td>\n",
       "      <td>1</td>\n",
       "      <td>0.438100</td>\n",
       "      <td>Accept</td>\n",
       "      <td>0.041913</td>\n",
       "    </tr>\n",
       "    <tr>\n",
       "      <th>4450</th>\n",
       "      <td>49673413</td>\n",
       "      <td>1</td>\n",
       "      <td>0.335878</td>\n",
       "      <td>Accept</td>\n",
       "      <td>0.083892</td>\n",
       "    </tr>\n",
       "    <tr>\n",
       "      <th>4451</th>\n",
       "      <td>6899910</td>\n",
       "      <td>0</td>\n",
       "      <td>0.364605</td>\n",
       "      <td>Accept</td>\n",
       "      <td>0.734924</td>\n",
       "    </tr>\n",
       "  </tbody>\n",
       "</table>\n",
       "<p>4452 rows × 5 columns</p>\n",
       "</div>"
      ],
      "text/plain": [
       "             id  target  prediction_beforeRI    Flag  prediction_afterRI\n",
       "0      26789777       0             0.393448  Accept            0.676718\n",
       "1      17894572       1             0.393448  Accept            0.676718\n",
       "2      34773392       0             0.393448  Accept            0.676718\n",
       "3       1122926       0             0.271253  Accept            0.853019\n",
       "4      46774382       0             0.335878  Accept            0.083892\n",
       "...         ...     ...                  ...     ...                 ...\n",
       "4447   98857570       0             0.271253  Accept            0.853019\n",
       "4448   94467429       1             0.438100  Accept            0.041913\n",
       "4449  124747082       1             0.438100  Accept            0.041913\n",
       "4450   49673413       1             0.335878  Accept            0.083892\n",
       "4451    6899910       0             0.364605  Accept            0.734924\n",
       "\n",
       "[4452 rows x 5 columns]"
      ]
     },
     "execution_count": 76,
     "metadata": {},
     "output_type": "execute_result"
    },
    {
     "data": {
      "application/javascript": [
       "\n",
       "            setTimeout(function() {\n",
       "                var nbb_cell_id = 76;\n",
       "                var nbb_unformatted_code = \"# Join (outer to get full sample)\\na1_a2_outer = pd.merge(a1, a2, how=\\\"outer\\\", on=\\\"id\\\")\\n# Join (inner to get only accepts and be able to compare)\\na1_a2_inner = pd.merge(a1, a2, how=\\\"inner\\\", on=\\\"id\\\")\\na1_a2_inner\";\n",
       "                var nbb_formatted_code = \"# Join (outer to get full sample)\\na1_a2_outer = pd.merge(a1, a2, how=\\\"outer\\\", on=\\\"id\\\")\\n# Join (inner to get only accepts and be able to compare)\\na1_a2_inner = pd.merge(a1, a2, how=\\\"inner\\\", on=\\\"id\\\")\\na1_a2_inner\";\n",
       "                var nbb_cells = Jupyter.notebook.get_cells();\n",
       "                for (var i = 0; i < nbb_cells.length; ++i) {\n",
       "                    if (nbb_cells[i].input_prompt_number == nbb_cell_id) {\n",
       "                        if (nbb_cells[i].get_text() == nbb_unformatted_code) {\n",
       "                             nbb_cells[i].set_text(nbb_formatted_code);\n",
       "                        }\n",
       "                        break;\n",
       "                    }\n",
       "                }\n",
       "            }, 500);\n",
       "            "
      ],
      "text/plain": [
       "<IPython.core.display.Javascript object>"
      ]
     },
     "metadata": {},
     "output_type": "display_data"
    }
   ],
   "source": [
    "# Join (outer to get full sample)\n",
    "a1_a2_outer = pd.merge(a1, a2, how=\"outer\", on=\"id\")\n",
    "# Join (inner to get only accepts and be able to compare)\n",
    "a1_a2_inner = pd.merge(a1, a2, how=\"inner\", on=\"id\")\n",
    "a1_a2_inner"
   ]
  },
  {
   "cell_type": "code",
   "execution_count": 77,
   "metadata": {},
   "outputs": [
    {
     "data": {
      "application/javascript": [
       "\n",
       "            setTimeout(function() {\n",
       "                var nbb_cell_id = 77;\n",
       "                var nbb_unformatted_code = \"# Make binary predictions based on cutoff 0.3\\na1_a2_inner[\\\"prediction_beforeRI_binary\\\"] = a1_a2_inner[\\\"prediction_beforeRI\\\"].apply(\\n    lambda x: 0 if (x < 0.3) else 1\\n)\\na1_a2_inner[\\\"prediction_afterRI_binary\\\"] = a1_a2_inner[\\\"prediction_afterRI\\\"].apply(\\n    lambda x: 0 if (x < 0.3) else 1\\n)\";\n",
       "                var nbb_formatted_code = \"# Make binary predictions based on cutoff 0.3\\na1_a2_inner[\\\"prediction_beforeRI_binary\\\"] = a1_a2_inner[\\\"prediction_beforeRI\\\"].apply(\\n    lambda x: 0 if (x < 0.3) else 1\\n)\\na1_a2_inner[\\\"prediction_afterRI_binary\\\"] = a1_a2_inner[\\\"prediction_afterRI\\\"].apply(\\n    lambda x: 0 if (x < 0.3) else 1\\n)\";\n",
       "                var nbb_cells = Jupyter.notebook.get_cells();\n",
       "                for (var i = 0; i < nbb_cells.length; ++i) {\n",
       "                    if (nbb_cells[i].input_prompt_number == nbb_cell_id) {\n",
       "                        if (nbb_cells[i].get_text() == nbb_unformatted_code) {\n",
       "                             nbb_cells[i].set_text(nbb_formatted_code);\n",
       "                        }\n",
       "                        break;\n",
       "                    }\n",
       "                }\n",
       "            }, 500);\n",
       "            "
      ],
      "text/plain": [
       "<IPython.core.display.Javascript object>"
      ]
     },
     "metadata": {},
     "output_type": "display_data"
    }
   ],
   "source": [
    "# Make binary predictions based on cutoff 0.3\n",
    "a1_a2_inner[\"prediction_beforeRI_binary\"] = a1_a2_inner[\"prediction_beforeRI\"].apply(\n",
    "    lambda x: 0 if (x < 0.3) else 1\n",
    ")\n",
    "a1_a2_inner[\"prediction_afterRI_binary\"] = a1_a2_inner[\"prediction_afterRI\"].apply(\n",
    "    lambda x: 0 if (x < 0.3) else 1\n",
    ")"
   ]
  },
  {
   "cell_type": "markdown",
   "metadata": {},
   "source": [
    "### Results"
   ]
  },
  {
   "cell_type": "code",
   "execution_count": 78,
   "metadata": {},
   "outputs": [
    {
     "data": {
      "application/javascript": [
       "\n",
       "            setTimeout(function() {\n",
       "                var nbb_cell_id = 78;\n",
       "                var nbb_unformatted_code = \"def print_results(data, state, prediction):\\n    print(\\n        \\\"The number of accurately classified cases \\\",\\n        state,\\n        \\\" is: \\\",\\n        data[\\n            (data.target == 1) & (data[prediction] == 1)\\n            | (data.target == 0) & (data[prediction] == 0)\\n        ].shape[0],\\n    )\\n    print(\\n        \\\"The number of misclassified cases \\\",\\n        state,\\n        \\\" is: \\\",\\n        data[\\n            (data.target == 1) & (data[prediction] == 0)\\n            | (data.target == 0) & (data[prediction] == 1)\\n        ].shape[0],\\n    )\";\n",
       "                var nbb_formatted_code = \"def print_results(data, state, prediction):\\n    print(\\n        \\\"The number of accurately classified cases \\\",\\n        state,\\n        \\\" is: \\\",\\n        data[\\n            (data.target == 1) & (data[prediction] == 1)\\n            | (data.target == 0) & (data[prediction] == 0)\\n        ].shape[0],\\n    )\\n    print(\\n        \\\"The number of misclassified cases \\\",\\n        state,\\n        \\\" is: \\\",\\n        data[\\n            (data.target == 1) & (data[prediction] == 0)\\n            | (data.target == 0) & (data[prediction] == 1)\\n        ].shape[0],\\n    )\";\n",
       "                var nbb_cells = Jupyter.notebook.get_cells();\n",
       "                for (var i = 0; i < nbb_cells.length; ++i) {\n",
       "                    if (nbb_cells[i].input_prompt_number == nbb_cell_id) {\n",
       "                        if (nbb_cells[i].get_text() == nbb_unformatted_code) {\n",
       "                             nbb_cells[i].set_text(nbb_formatted_code);\n",
       "                        }\n",
       "                        break;\n",
       "                    }\n",
       "                }\n",
       "            }, 500);\n",
       "            "
      ],
      "text/plain": [
       "<IPython.core.display.Javascript object>"
      ]
     },
     "metadata": {},
     "output_type": "display_data"
    }
   ],
   "source": [
    "def print_results(data, state, prediction):\n",
    "    print(\n",
    "        \"The number of accurately classified cases \",\n",
    "        state,\n",
    "        \" is: \",\n",
    "        data[\n",
    "            (data.target == 1) & (data[prediction] == 1)\n",
    "            | (data.target == 0) & (data[prediction] == 0)\n",
    "        ].shape[0],\n",
    "    )\n",
    "    print(\n",
    "        \"The number of misclassified cases \",\n",
    "        state,\n",
    "        \" is: \",\n",
    "        data[\n",
    "            (data.target == 1) & (data[prediction] == 0)\n",
    "            | (data.target == 0) & (data[prediction] == 1)\n",
    "        ].shape[0],\n",
    "    )"
   ]
  },
  {
   "cell_type": "code",
   "execution_count": 79,
   "metadata": {},
   "outputs": [
    {
     "name": "stdout",
     "output_type": "stream",
     "text": [
      "The number of accurately classified cases  before RI  is:  1682\n",
      "The number of misclassified cases  before RI  is:  2770\n",
      "The number of accurately classified cases  after RI  is:  2227\n",
      "The number of misclassified cases  after RI  is:  2225\n"
     ]
    },
    {
     "data": {
      "application/javascript": [
       "\n",
       "            setTimeout(function() {\n",
       "                var nbb_cell_id = 79;\n",
       "                var nbb_unformatted_code = \"print_results(a1_a2_inner, \\\"before RI\\\", \\\"prediction_beforeRI_binary\\\")\\nprint_results(a1_a2_inner, \\\"after RI\\\", \\\"prediction_afterRI_binary\\\")\";\n",
       "                var nbb_formatted_code = \"print_results(a1_a2_inner, \\\"before RI\\\", \\\"prediction_beforeRI_binary\\\")\\nprint_results(a1_a2_inner, \\\"after RI\\\", \\\"prediction_afterRI_binary\\\")\";\n",
       "                var nbb_cells = Jupyter.notebook.get_cells();\n",
       "                for (var i = 0; i < nbb_cells.length; ++i) {\n",
       "                    if (nbb_cells[i].input_prompt_number == nbb_cell_id) {\n",
       "                        if (nbb_cells[i].get_text() == nbb_unformatted_code) {\n",
       "                             nbb_cells[i].set_text(nbb_formatted_code);\n",
       "                        }\n",
       "                        break;\n",
       "                    }\n",
       "                }\n",
       "            }, 500);\n",
       "            "
      ],
      "text/plain": [
       "<IPython.core.display.Javascript object>"
      ]
     },
     "metadata": {},
     "output_type": "display_data"
    }
   ],
   "source": [
    "print_results(a1_a2_inner, \"before RI\", \"prediction_beforeRI_binary\")\n",
    "print_results(a1_a2_inner, \"after RI\", \"prediction_afterRI_binary\")"
   ]
  },
  {
   "cell_type": "code",
   "execution_count": null,
   "metadata": {},
   "outputs": [],
   "source": [
    "### Test Clustering on Accepted population"
   ]
  },
  {
   "cell_type": "code",
   "execution_count": null,
   "metadata": {},
   "outputs": [],
   "source": []
  },
  {
   "cell_type": "code",
   "execution_count": null,
   "metadata": {},
   "outputs": [],
   "source": []
  },
  {
   "cell_type": "code",
   "execution_count": null,
   "metadata": {},
   "outputs": [],
   "source": []
  },
  {
   "cell_type": "code",
   "execution_count": null,
   "metadata": {},
   "outputs": [],
   "source": []
  },
  {
   "cell_type": "code",
   "execution_count": null,
   "metadata": {},
   "outputs": [],
   "source": []
  },
  {
   "cell_type": "code",
   "execution_count": null,
   "metadata": {},
   "outputs": [],
   "source": []
  },
  {
   "cell_type": "code",
   "execution_count": null,
   "metadata": {},
   "outputs": [],
   "source": []
  },
  {
   "cell_type": "markdown",
   "metadata": {},
   "source": [
    "### OPTICS"
   ]
  },
  {
   "cell_type": "code",
   "execution_count": null,
   "metadata": {},
   "outputs": [],
   "source": [
    "from sklearn.cluster import OPTICS"
   ]
  },
  {
   "cell_type": "code",
   "execution_count": null,
   "metadata": {},
   "outputs": [],
   "source": [
    "clustering = OPTICS(min_samples=2).fit(dfr3)\n",
    "clustering.labels_"
   ]
  },
  {
   "cell_type": "code",
   "execution_count": null,
   "metadata": {},
   "outputs": [],
   "source": [
    "clustering_optics"
   ]
  },
  {
   "cell_type": "code",
   "execution_count": null,
   "metadata": {},
   "outputs": [],
   "source": [
    "# Predictions\n",
    "clustering_optics = clustering.labels_\n",
    "clustering_optics = pd.DataFrame(\n",
    "    data=clustering_optics, columns=[\"prediction\"]\n",
    ")\n",
    "clustering_optics[\"Rejects\"] = clustering_optics.groupby(\"prediction\")[\n",
    "    \"prediction\"\n",
    "].transform(\"count\")\n",
    "clustering_optics.groupby([\"prediction\"]).count()"
   ]
  },
  {
   "cell_type": "markdown",
   "metadata": {},
   "source": [
    "### MeanShift"
   ]
  },
  {
   "cell_type": "code",
   "execution_count": null,
   "metadata": {},
   "outputs": [],
   "source": [
    "from sklearn.cluster import MeanShift"
   ]
  },
  {
   "cell_type": "code",
   "execution_count": null,
   "metadata": {},
   "outputs": [],
   "source": [
    "clustering2 = MeanShift(bandwidth=2).fit(dfr3)\n",
    "clustering2.labels_"
   ]
  },
  {
   "cell_type": "code",
   "execution_count": null,
   "metadata": {},
   "outputs": [],
   "source": [
    "# Predictions\n",
    "clustering_meanshift = clustering2.labels_\n",
    "clustering_meanshift = pd.DataFrame(\n",
    "    data=clustering_meanshift, columns=[\"prediction\"]\n",
    ")\n",
    "clustering_optics[\"Rejects\"] = clustering_meanshift.groupby(\"prediction\")[\n",
    "    \"prediction\"\n",
    "].transform(\"count\")\n",
    "clustering_meanshift.groupby([\"prediction\"]).count()"
   ]
  },
  {
   "cell_type": "markdown",
   "metadata": {},
   "source": [
    "### SVM"
   ]
  },
  {
   "cell_type": "code",
   "execution_count": null,
   "metadata": {},
   "outputs": [],
   "source": [
    "# Accepts\n",
    "clf = SVC(gamma=\"auto\", kernel=\"linear\")\n",
    "clf.fit(os_data_X_2, os_data_y.values.ravel())\n",
    "pred = clf.predict(X_test_2)"
   ]
  },
  {
   "cell_type": "code",
   "execution_count": null,
   "metadata": {},
   "outputs": [],
   "source": [
    "# Predictions\n",
    "rej_test_predictions_kmeans = clf.predict(dfr3)\n",
    "df_pred_rej_kmeans = pd.DataFrame(\n",
    "    data=rej_test_predictions_kmeans, columns=[\"prediction\"]\n",
    ")\n",
    "df_pred_rej_kmeans[\"Rejects\"] = df_pred_rej_kmeans.groupby(\"prediction\")[\n",
    "    \"prediction\"\n",
    "].transform(\"count\")\n",
    "df_pred_rej_kmeans.groupby([\"prediction\"]).count()"
   ]
  }
 ],
 "metadata": {
  "kernelspec": {
   "display_name": "Python 3",
   "language": "python",
   "name": "python3"
  },
  "language_info": {
   "codemirror_mode": {
    "name": "ipython",
    "version": 3
   },
   "file_extension": ".py",
   "mimetype": "text/x-python",
   "name": "python",
   "nbconvert_exporter": "python",
   "pygments_lexer": "ipython3",
   "version": "3.8.3"
  }
 },
 "nbformat": 4,
 "nbformat_minor": 4
}
