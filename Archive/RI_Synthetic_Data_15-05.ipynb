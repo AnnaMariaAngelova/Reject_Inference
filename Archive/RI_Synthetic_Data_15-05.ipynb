{
 "cells": [
  {
   "cell_type": "code",
   "execution_count": 54,
   "metadata": {},
   "outputs": [
    {
     "data": {
      "application/javascript": [
       "\n",
       "            setTimeout(function() {\n",
       "                var nbb_cell_id = 54;\n",
       "                var nbb_unformatted_code = \"%reload_ext nb_black\";\n",
       "                var nbb_formatted_code = \"%reload_ext nb_black\";\n",
       "                var nbb_cells = Jupyter.notebook.get_cells();\n",
       "                for (var i = 0; i < nbb_cells.length; ++i) {\n",
       "                    if (nbb_cells[i].input_prompt_number == nbb_cell_id) {\n",
       "                        if (nbb_cells[i].get_text() == nbb_unformatted_code) {\n",
       "                             nbb_cells[i].set_text(nbb_formatted_code);\n",
       "                        }\n",
       "                        break;\n",
       "                    }\n",
       "                }\n",
       "            }, 500);\n",
       "            "
      ],
      "text/plain": [
       "<IPython.core.display.Javascript object>"
      ]
     },
     "metadata": {},
     "output_type": "display_data"
    },
    {
     "data": {
      "application/javascript": [
       "\n",
       "            setTimeout(function() {\n",
       "                var nbb_cell_id = 54;\n",
       "                var nbb_unformatted_code = \"%reload_ext nb_black\";\n",
       "                var nbb_formatted_code = \"%reload_ext nb_black\";\n",
       "                var nbb_cells = Jupyter.notebook.get_cells();\n",
       "                for (var i = 0; i < nbb_cells.length; ++i) {\n",
       "                    if (nbb_cells[i].input_prompt_number == nbb_cell_id) {\n",
       "                        if (nbb_cells[i].get_text() == nbb_unformatted_code) {\n",
       "                             nbb_cells[i].set_text(nbb_formatted_code);\n",
       "                        }\n",
       "                        break;\n",
       "                    }\n",
       "                }\n",
       "            }, 500);\n",
       "            "
      ],
      "text/plain": [
       "<IPython.core.display.Javascript object>"
      ]
     },
     "metadata": {},
     "output_type": "display_data"
    }
   ],
   "source": [
    "%reload_ext nb_black"
   ]
  },
  {
   "cell_type": "code",
   "execution_count": 55,
   "metadata": {},
   "outputs": [
    {
     "data": {
      "application/javascript": [
       "\n",
       "            setTimeout(function() {\n",
       "                var nbb_cell_id = 55;\n",
       "                var nbb_unformatted_code = \"import sys\\n\\nsys.path.insert(\\n    0,\\n    r\\\"C:\\\\Users\\\\Asus\\\\Desktop\\\\Repo\\\\MasterThesis_RI\\\\Python-Real-World-Machine-Learning\\\\Module 2\\\\Chapter 5\\\",\\n)\\n\\nimport warnings\\n\\nwarnings.filterwarnings(\\\"ignore\\\")\\n\\n# Basic Packages\\nimport pandas as pd\\nimport numpy as np\\nimport matplotlib.pyplot as plt\\n\\n# Sampling\\nfrom modAL.uncertainty import uncertainty_sampling\\nfrom modAL.density import information_density\\n\\n# Modelling\\n# Classification\\nimport statsmodels.api as sm\\nfrom sklearn.ensemble import IsolationForest\\nfrom sklearn.linear_model import LogisticRegression, LinearRegression\\nfrom sklearn.ensemble import RandomForestClassifier, GradientBoostingClassifier\\nfrom sklearn.tree import DecisionTreeClassifier\\nfrom lightgbm import LGBMClassifier\\nfrom sklearn import svm\\nfrom sklearn.svm import SVC\\n\\n# Semi-Supervised Learning\\nfrom sklearn.semi_supervised import (\\n    LabelPropagation,\\n    LabelSpreading,\\n    SelfTrainingClassifier,\\n)\\nfrom modAL.models import ActiveLearner\\n\\n# Chapter 5\\nfrom SelfLearning import SelfLearningModel\\nfrom scikitWQDA import WQDA\\n\\n# Model Selection\\nfrom sklearn.model_selection import train_test_split, GridSearchCV\\n\\n# Metrics\\nfrom sklearn.metrics import (\\n    f1_score,\\n    roc_auc_score,\\n    roc_curve,\\n    accuracy_score,\\n    confusion_matrix,\\n    plot_confusion_matrix,\\n    ConfusionMatrixDisplay,\\n    log_loss,\\n)\\n\\n# Ensembling\\nfrom sklearn.ensemble import *\\n\\n# Balancing\\nfrom imblearn.over_sampling import SMOTE\\nfrom imblearn.under_sampling import RandomUnderSampler\\n\\n# Visualization\\nimport seaborn as sns\\nimport matplotlib.pyplot as plt\\n\\n# Binning\\nimport woeBinningPandas\\n\\n# Create Unique ID\\nimport uuid\";\n",
       "                var nbb_formatted_code = \"import sys\\n\\nsys.path.insert(\\n    0,\\n    r\\\"C:\\\\Users\\\\Asus\\\\Desktop\\\\Repo\\\\MasterThesis_RI\\\\Python-Real-World-Machine-Learning\\\\Module 2\\\\Chapter 5\\\",\\n)\\n\\nimport warnings\\n\\nwarnings.filterwarnings(\\\"ignore\\\")\\n\\n# Basic Packages\\nimport pandas as pd\\nimport numpy as np\\nimport matplotlib.pyplot as plt\\n\\n# Sampling\\nfrom modAL.uncertainty import uncertainty_sampling\\nfrom modAL.density import information_density\\n\\n# Modelling\\n# Classification\\nimport statsmodels.api as sm\\nfrom sklearn.ensemble import IsolationForest\\nfrom sklearn.linear_model import LogisticRegression, LinearRegression\\nfrom sklearn.ensemble import RandomForestClassifier, GradientBoostingClassifier\\nfrom sklearn.tree import DecisionTreeClassifier\\nfrom lightgbm import LGBMClassifier\\nfrom sklearn import svm\\nfrom sklearn.svm import SVC\\n\\n# Semi-Supervised Learning\\nfrom sklearn.semi_supervised import (\\n    LabelPropagation,\\n    LabelSpreading,\\n    SelfTrainingClassifier,\\n)\\nfrom modAL.models import ActiveLearner\\n\\n# Chapter 5\\nfrom SelfLearning import SelfLearningModel\\nfrom scikitWQDA import WQDA\\n\\n# Model Selection\\nfrom sklearn.model_selection import train_test_split, GridSearchCV\\n\\n# Metrics\\nfrom sklearn.metrics import (\\n    f1_score,\\n    roc_auc_score,\\n    roc_curve,\\n    accuracy_score,\\n    confusion_matrix,\\n    plot_confusion_matrix,\\n    ConfusionMatrixDisplay,\\n    log_loss,\\n)\\n\\n# Ensembling\\nfrom sklearn.ensemble import *\\n\\n# Balancing\\nfrom imblearn.over_sampling import SMOTE\\nfrom imblearn.under_sampling import RandomUnderSampler\\n\\n# Visualization\\nimport seaborn as sns\\nimport matplotlib.pyplot as plt\\n\\n# Binning\\nimport woeBinningPandas\\n\\n# Create Unique ID\\nimport uuid\";\n",
       "                var nbb_cells = Jupyter.notebook.get_cells();\n",
       "                for (var i = 0; i < nbb_cells.length; ++i) {\n",
       "                    if (nbb_cells[i].input_prompt_number == nbb_cell_id) {\n",
       "                        if (nbb_cells[i].get_text() == nbb_unformatted_code) {\n",
       "                             nbb_cells[i].set_text(nbb_formatted_code);\n",
       "                        }\n",
       "                        break;\n",
       "                    }\n",
       "                }\n",
       "            }, 500);\n",
       "            "
      ],
      "text/plain": [
       "<IPython.core.display.Javascript object>"
      ]
     },
     "metadata": {},
     "output_type": "display_data"
    },
    {
     "data": {
      "application/javascript": [
       "\n",
       "            setTimeout(function() {\n",
       "                var nbb_cell_id = 55;\n",
       "                var nbb_unformatted_code = \"import sys\\n\\nsys.path.insert(\\n    0,\\n    r\\\"C:\\\\Users\\\\Asus\\\\Desktop\\\\Repo\\\\MasterThesis_RI\\\\Python-Real-World-Machine-Learning\\\\Module 2\\\\Chapter 5\\\",\\n)\\n\\nimport warnings\\n\\nwarnings.filterwarnings(\\\"ignore\\\")\\n\\n# Basic Packages\\nimport pandas as pd\\nimport numpy as np\\nimport matplotlib.pyplot as plt\\n\\n# Sampling\\nfrom modAL.uncertainty import uncertainty_sampling\\nfrom modAL.density import information_density\\n\\n# Modelling\\n# Classification\\nimport statsmodels.api as sm\\nfrom sklearn.ensemble import IsolationForest\\nfrom sklearn.linear_model import LogisticRegression, LinearRegression\\nfrom sklearn.ensemble import RandomForestClassifier, GradientBoostingClassifier\\nfrom sklearn.tree import DecisionTreeClassifier\\nfrom lightgbm import LGBMClassifier\\nfrom sklearn import svm\\nfrom sklearn.svm import SVC\\n\\n# Semi-Supervised Learning\\nfrom sklearn.semi_supervised import (\\n    LabelPropagation,\\n    LabelSpreading,\\n    SelfTrainingClassifier,\\n)\\nfrom modAL.models import ActiveLearner\\n\\n# Chapter 5\\nfrom SelfLearning import SelfLearningModel\\nfrom scikitWQDA import WQDA\\n\\n# Model Selection\\nfrom sklearn.model_selection import train_test_split, GridSearchCV\\n\\n# Metrics\\nfrom sklearn.metrics import (\\n    f1_score,\\n    roc_auc_score,\\n    roc_curve,\\n    accuracy_score,\\n    confusion_matrix,\\n    plot_confusion_matrix,\\n    ConfusionMatrixDisplay,\\n    log_loss,\\n)\\n\\n# Ensembling\\nfrom sklearn.ensemble import *\\n\\n# Balancing\\nfrom imblearn.over_sampling import SMOTE\\nfrom imblearn.under_sampling import RandomUnderSampler\\n\\n# Visualization\\nimport seaborn as sns\\nimport matplotlib.pyplot as plt\\n\\n# Binning\\nimport woeBinningPandas\\n\\n# Create Unique ID\\nimport uuid\";\n",
       "                var nbb_formatted_code = \"import sys\\n\\nsys.path.insert(\\n    0,\\n    r\\\"C:\\\\Users\\\\Asus\\\\Desktop\\\\Repo\\\\MasterThesis_RI\\\\Python-Real-World-Machine-Learning\\\\Module 2\\\\Chapter 5\\\",\\n)\\n\\nimport warnings\\n\\nwarnings.filterwarnings(\\\"ignore\\\")\\n\\n# Basic Packages\\nimport pandas as pd\\nimport numpy as np\\nimport matplotlib.pyplot as plt\\n\\n# Sampling\\nfrom modAL.uncertainty import uncertainty_sampling\\nfrom modAL.density import information_density\\n\\n# Modelling\\n# Classification\\nimport statsmodels.api as sm\\nfrom sklearn.ensemble import IsolationForest\\nfrom sklearn.linear_model import LogisticRegression, LinearRegression\\nfrom sklearn.ensemble import RandomForestClassifier, GradientBoostingClassifier\\nfrom sklearn.tree import DecisionTreeClassifier\\nfrom lightgbm import LGBMClassifier\\nfrom sklearn import svm\\nfrom sklearn.svm import SVC\\n\\n# Semi-Supervised Learning\\nfrom sklearn.semi_supervised import (\\n    LabelPropagation,\\n    LabelSpreading,\\n    SelfTrainingClassifier,\\n)\\nfrom modAL.models import ActiveLearner\\n\\n# Chapter 5\\nfrom SelfLearning import SelfLearningModel\\nfrom scikitWQDA import WQDA\\n\\n# Model Selection\\nfrom sklearn.model_selection import train_test_split, GridSearchCV\\n\\n# Metrics\\nfrom sklearn.metrics import (\\n    f1_score,\\n    roc_auc_score,\\n    roc_curve,\\n    accuracy_score,\\n    confusion_matrix,\\n    plot_confusion_matrix,\\n    ConfusionMatrixDisplay,\\n    log_loss,\\n)\\n\\n# Ensembling\\nfrom sklearn.ensemble import *\\n\\n# Balancing\\nfrom imblearn.over_sampling import SMOTE\\nfrom imblearn.under_sampling import RandomUnderSampler\\n\\n# Visualization\\nimport seaborn as sns\\nimport matplotlib.pyplot as plt\\n\\n# Binning\\nimport woeBinningPandas\\n\\n# Create Unique ID\\nimport uuid\";\n",
       "                var nbb_cells = Jupyter.notebook.get_cells();\n",
       "                for (var i = 0; i < nbb_cells.length; ++i) {\n",
       "                    if (nbb_cells[i].input_prompt_number == nbb_cell_id) {\n",
       "                        if (nbb_cells[i].get_text() == nbb_unformatted_code) {\n",
       "                             nbb_cells[i].set_text(nbb_formatted_code);\n",
       "                        }\n",
       "                        break;\n",
       "                    }\n",
       "                }\n",
       "            }, 500);\n",
       "            "
      ],
      "text/plain": [
       "<IPython.core.display.Javascript object>"
      ]
     },
     "metadata": {},
     "output_type": "display_data"
    }
   ],
   "source": [
    "import sys\n",
    "\n",
    "sys.path.insert(\n",
    "    0,\n",
    "    r\"C:\\Users\\Asus\\Desktop\\Repo\\MasterThesis_RI\\Python-Real-World-Machine-Learning\\Module 2\\Chapter 5\",\n",
    ")\n",
    "\n",
    "import warnings\n",
    "\n",
    "warnings.filterwarnings(\"ignore\")\n",
    "\n",
    "# Basic Packages\n",
    "import pandas as pd\n",
    "import numpy as np\n",
    "import matplotlib.pyplot as plt\n",
    "\n",
    "# Sampling\n",
    "from modAL.uncertainty import uncertainty_sampling\n",
    "from modAL.density import information_density\n",
    "\n",
    "# Modelling\n",
    "# Classification\n",
    "import statsmodels.api as sm\n",
    "from sklearn.ensemble import IsolationForest\n",
    "from sklearn.linear_model import LogisticRegression, LinearRegression\n",
    "from sklearn.ensemble import RandomForestClassifier, GradientBoostingClassifier\n",
    "from sklearn.tree import DecisionTreeClassifier\n",
    "from lightgbm import LGBMClassifier\n",
    "from sklearn import svm\n",
    "from sklearn.svm import SVC\n",
    "\n",
    "# Semi-Supervised Learning\n",
    "from sklearn.semi_supervised import (\n",
    "    LabelPropagation,\n",
    "    LabelSpreading,\n",
    "    SelfTrainingClassifier,\n",
    ")\n",
    "from modAL.models import ActiveLearner\n",
    "\n",
    "# Chapter 5\n",
    "from SelfLearning import SelfLearningModel\n",
    "from scikitWQDA import WQDA\n",
    "\n",
    "# Model Selection\n",
    "from sklearn.model_selection import train_test_split, GridSearchCV\n",
    "\n",
    "# Metrics\n",
    "from sklearn.metrics import (\n",
    "    f1_score,\n",
    "    roc_auc_score,\n",
    "    roc_curve,\n",
    "    accuracy_score,\n",
    "    confusion_matrix,\n",
    "    plot_confusion_matrix,\n",
    "    ConfusionMatrixDisplay,\n",
    "    log_loss,\n",
    ")\n",
    "\n",
    "# Ensembling\n",
    "from sklearn.ensemble import *\n",
    "\n",
    "# Balancing\n",
    "from imblearn.over_sampling import SMOTE\n",
    "from imblearn.under_sampling import RandomUnderSampler\n",
    "\n",
    "# Visualization\n",
    "import seaborn as sns\n",
    "import matplotlib.pyplot as plt\n",
    "\n",
    "# Binning\n",
    "import woeBinningPandas\n",
    "\n",
    "# Create Unique ID\n",
    "import uuid"
   ]
  },
  {
   "cell_type": "markdown",
   "metadata": {},
   "source": [
    "## Data Preprocessing"
   ]
  },
  {
   "cell_type": "markdown",
   "metadata": {},
   "source": [
    "First, basic data preprocessing to obtain accepted and rejected training and test samples separately. Save rejected data in two versions: with and without lables. The rejected data without labels is needed for the semi-supervised model. The rejected data without labels is needed to perform evaluation. <br>\n",
    "*Note for improvement: artificial id is currently generated as unique key to be used in merging. We can merge on index instead. Drop for future.*"
   ]
  },
  {
   "cell_type": "code",
   "execution_count": 56,
   "metadata": {},
   "outputs": [
    {
     "data": {
      "application/javascript": [
       "\n",
       "            setTimeout(function() {\n",
       "                var nbb_cell_id = 56;\n",
       "                var nbb_unformatted_code = \"def data_preprocessing(df, accepted_flag, target, train_ratio):\\n    \\\"\\\"\\\"\\n    The goal of this function is to load the original dataset, split it into accepts and rejects,\\n    add ids, which can later be used for merging. For the rejects to further perform train / test split\\n\\n    Parameters\\n    ----------\\n\\n    df : name of the original dataset in quotation marks, csv format\\n    accepted_flag: name of the accepted flag; Binary: 1 if accepted, 0 if rejected\\n    target : name of the target column\\n    train_ratio : percentage used for training; Continuous (0,1)\\n\\n    Return\\n    ------\\n    a : accepted data\\n    r : rejected data\\n    r_dev : rejected trainining data without label\\n    r_test : rejected testing data without label\\n    dfr_dev_with_label: rejected training data with label\\n    dft_test_with_label: rejected training data with label\\n\\n    \\\"\\\"\\\"\\n    # Load data\\n    data = pd.read_csv(\\\"C:/Users/Asus/Desktop/Repo/MasterThesis_RI/Data_09_05/\\\" + df)\\n\\n    # Accepted\\n\\n    ## Create separate dataset with accepts\\n    dfa = data[data[accepted_flag] == 1]\\n    dfa = dfa.drop([accepted_flag], axis=1)\\n    ## Rename target variable as \\\"target\\\"\\n    dfa = dfa.rename(columns={target: \\\"target\\\"})\\n    ## Add id to the dataset, which can later be used for merging\\n    dfa[\\\"id\\\"] = dfa.index.to_series().map(lambda x: uuid.uuid4())\\n\\n    # Rejected\\n\\n    ## Create separate dataset with accepts\\n    dfr = data[data[accepted_flag] == 0]\\n    dfr = dfr.drop([accepted_flag], axis=1)\\n    ## Add id to the dataset, which can later be used for merging\\n    dfr[\\\"id\\\"] = dfr.index.to_series().map(lambda x: uuid.uuid4())\\n    ## Train/Test Split (without labels)\\n    ### Shuffle the dataset\\n    shuffle_df = dfr.sample(frac=1, random_state=42)\\n    ### Define a size for the train set\\n    train_size = int(train_ratio * len(shuffle_df))\\n    ### Split the dataset\\n    dfr_dev = shuffle_df[:train_size]\\n    dfr_test = shuffle_df[train_size:]\\n    ## Save a copy of the rejected data with label\\n    dfr_dev_with_label = dfr_dev\\n    dfr_test_with_label = dfr_test\\n    ## Unlabel the rejects (i.e. drop the target) and save a copy of the rejeted data without label\\n    dfr_dev2 = dfr_dev_with_label.drop([target], axis=1)\\n    dfr_test2 = dfr_test_with_label.drop([target], axis=1)\\n\\n    return dfr_dev_with_label, dfr_test_with_label, dfa, dfr, dfr_dev2, dfr_test2\";\n",
       "                var nbb_formatted_code = \"def data_preprocessing(df, accepted_flag, target, train_ratio):\\n    \\\"\\\"\\\"\\n    The goal of this function is to load the original dataset, split it into accepts and rejects,\\n    add ids, which can later be used for merging. For the rejects to further perform train / test split\\n\\n    Parameters\\n    ----------\\n\\n    df : name of the original dataset in quotation marks, csv format\\n    accepted_flag: name of the accepted flag; Binary: 1 if accepted, 0 if rejected\\n    target : name of the target column\\n    train_ratio : percentage used for training; Continuous (0,1)\\n\\n    Return\\n    ------\\n    a : accepted data\\n    r : rejected data\\n    r_dev : rejected trainining data without label\\n    r_test : rejected testing data without label\\n    dfr_dev_with_label: rejected training data with label\\n    dft_test_with_label: rejected training data with label\\n\\n    \\\"\\\"\\\"\\n    # Load data\\n    data = pd.read_csv(\\\"C:/Users/Asus/Desktop/Repo/MasterThesis_RI/Data_09_05/\\\" + df)\\n\\n    # Accepted\\n\\n    ## Create separate dataset with accepts\\n    dfa = data[data[accepted_flag] == 1]\\n    dfa = dfa.drop([accepted_flag], axis=1)\\n    ## Rename target variable as \\\"target\\\"\\n    dfa = dfa.rename(columns={target: \\\"target\\\"})\\n    ## Add id to the dataset, which can later be used for merging\\n    dfa[\\\"id\\\"] = dfa.index.to_series().map(lambda x: uuid.uuid4())\\n\\n    # Rejected\\n\\n    ## Create separate dataset with accepts\\n    dfr = data[data[accepted_flag] == 0]\\n    dfr = dfr.drop([accepted_flag], axis=1)\\n    ## Add id to the dataset, which can later be used for merging\\n    dfr[\\\"id\\\"] = dfr.index.to_series().map(lambda x: uuid.uuid4())\\n    ## Train/Test Split (without labels)\\n    ### Shuffle the dataset\\n    shuffle_df = dfr.sample(frac=1, random_state=42)\\n    ### Define a size for the train set\\n    train_size = int(train_ratio * len(shuffle_df))\\n    ### Split the dataset\\n    dfr_dev = shuffle_df[:train_size]\\n    dfr_test = shuffle_df[train_size:]\\n    ## Save a copy of the rejected data with label\\n    dfr_dev_with_label = dfr_dev\\n    dfr_test_with_label = dfr_test\\n    ## Unlabel the rejects (i.e. drop the target) and save a copy of the rejeted data without label\\n    dfr_dev2 = dfr_dev_with_label.drop([target], axis=1)\\n    dfr_test2 = dfr_test_with_label.drop([target], axis=1)\\n\\n    return dfr_dev_with_label, dfr_test_with_label, dfa, dfr, dfr_dev2, dfr_test2\";\n",
       "                var nbb_cells = Jupyter.notebook.get_cells();\n",
       "                for (var i = 0; i < nbb_cells.length; ++i) {\n",
       "                    if (nbb_cells[i].input_prompt_number == nbb_cell_id) {\n",
       "                        if (nbb_cells[i].get_text() == nbb_unformatted_code) {\n",
       "                             nbb_cells[i].set_text(nbb_formatted_code);\n",
       "                        }\n",
       "                        break;\n",
       "                    }\n",
       "                }\n",
       "            }, 500);\n",
       "            "
      ],
      "text/plain": [
       "<IPython.core.display.Javascript object>"
      ]
     },
     "metadata": {},
     "output_type": "display_data"
    },
    {
     "data": {
      "application/javascript": [
       "\n",
       "            setTimeout(function() {\n",
       "                var nbb_cell_id = 56;\n",
       "                var nbb_unformatted_code = \"def data_preprocessing(df, accepted_flag, target, train_ratio):\\n    \\\"\\\"\\\"\\n    The goal of this function is to load the original dataset, split it into accepts and rejects,\\n    add ids, which can later be used for merging. For the rejects to further perform train / test split\\n\\n    Parameters\\n    ----------\\n\\n    df : name of the original dataset in quotation marks, csv format\\n    accepted_flag: name of the accepted flag; Binary: 1 if accepted, 0 if rejected\\n    target : name of the target column\\n    train_ratio : percentage used for training; Continuous (0,1)\\n\\n    Return\\n    ------\\n    a : accepted data\\n    r : rejected data\\n    r_dev : rejected trainining data without label\\n    r_test : rejected testing data without label\\n    dfr_dev_with_label: rejected training data with label\\n    dft_test_with_label: rejected training data with label\\n\\n    \\\"\\\"\\\"\\n    # Load data\\n    data = pd.read_csv(\\\"C:/Users/Asus/Desktop/Repo/MasterThesis_RI/Data_09_05/\\\" + df)\\n\\n    # Accepted\\n\\n    ## Create separate dataset with accepts\\n    dfa = data[data[accepted_flag] == 1]\\n    dfa = dfa.drop([accepted_flag], axis=1)\\n    ## Rename target variable as \\\"target\\\"\\n    dfa = dfa.rename(columns={target: \\\"target\\\"})\\n    ## Add id to the dataset, which can later be used for merging\\n    dfa[\\\"id\\\"] = dfa.index.to_series().map(lambda x: uuid.uuid4())\\n\\n    # Rejected\\n\\n    ## Create separate dataset with accepts\\n    dfr = data[data[accepted_flag] == 0]\\n    dfr = dfr.drop([accepted_flag], axis=1)\\n    ## Add id to the dataset, which can later be used for merging\\n    dfr[\\\"id\\\"] = dfr.index.to_series().map(lambda x: uuid.uuid4())\\n    ## Train/Test Split (without labels)\\n    ### Shuffle the dataset\\n    shuffle_df = dfr.sample(frac=1, random_state=42)\\n    ### Define a size for the train set\\n    train_size = int(train_ratio * len(shuffle_df))\\n    ### Split the dataset\\n    dfr_dev = shuffle_df[:train_size]\\n    dfr_test = shuffle_df[train_size:]\\n    ## Save a copy of the rejected data with label\\n    dfr_dev_with_label = dfr_dev\\n    dfr_test_with_label = dfr_test\\n    ## Unlabel the rejects (i.e. drop the target) and save a copy of the rejeted data without label\\n    dfr_dev2 = dfr_dev_with_label.drop([target], axis=1)\\n    dfr_test2 = dfr_test_with_label.drop([target], axis=1)\\n\\n    return dfr_dev_with_label, dfr_test_with_label, dfa, dfr, dfr_dev2, dfr_test2\";\n",
       "                var nbb_formatted_code = \"def data_preprocessing(df, accepted_flag, target, train_ratio):\\n    \\\"\\\"\\\"\\n    The goal of this function is to load the original dataset, split it into accepts and rejects,\\n    add ids, which can later be used for merging. For the rejects to further perform train / test split\\n\\n    Parameters\\n    ----------\\n\\n    df : name of the original dataset in quotation marks, csv format\\n    accepted_flag: name of the accepted flag; Binary: 1 if accepted, 0 if rejected\\n    target : name of the target column\\n    train_ratio : percentage used for training; Continuous (0,1)\\n\\n    Return\\n    ------\\n    a : accepted data\\n    r : rejected data\\n    r_dev : rejected trainining data without label\\n    r_test : rejected testing data without label\\n    dfr_dev_with_label: rejected training data with label\\n    dft_test_with_label: rejected training data with label\\n\\n    \\\"\\\"\\\"\\n    # Load data\\n    data = pd.read_csv(\\\"C:/Users/Asus/Desktop/Repo/MasterThesis_RI/Data_09_05/\\\" + df)\\n\\n    # Accepted\\n\\n    ## Create separate dataset with accepts\\n    dfa = data[data[accepted_flag] == 1]\\n    dfa = dfa.drop([accepted_flag], axis=1)\\n    ## Rename target variable as \\\"target\\\"\\n    dfa = dfa.rename(columns={target: \\\"target\\\"})\\n    ## Add id to the dataset, which can later be used for merging\\n    dfa[\\\"id\\\"] = dfa.index.to_series().map(lambda x: uuid.uuid4())\\n\\n    # Rejected\\n\\n    ## Create separate dataset with accepts\\n    dfr = data[data[accepted_flag] == 0]\\n    dfr = dfr.drop([accepted_flag], axis=1)\\n    ## Add id to the dataset, which can later be used for merging\\n    dfr[\\\"id\\\"] = dfr.index.to_series().map(lambda x: uuid.uuid4())\\n    ## Train/Test Split (without labels)\\n    ### Shuffle the dataset\\n    shuffle_df = dfr.sample(frac=1, random_state=42)\\n    ### Define a size for the train set\\n    train_size = int(train_ratio * len(shuffle_df))\\n    ### Split the dataset\\n    dfr_dev = shuffle_df[:train_size]\\n    dfr_test = shuffle_df[train_size:]\\n    ## Save a copy of the rejected data with label\\n    dfr_dev_with_label = dfr_dev\\n    dfr_test_with_label = dfr_test\\n    ## Unlabel the rejects (i.e. drop the target) and save a copy of the rejeted data without label\\n    dfr_dev2 = dfr_dev_with_label.drop([target], axis=1)\\n    dfr_test2 = dfr_test_with_label.drop([target], axis=1)\\n\\n    return dfr_dev_with_label, dfr_test_with_label, dfa, dfr, dfr_dev2, dfr_test2\";\n",
       "                var nbb_cells = Jupyter.notebook.get_cells();\n",
       "                for (var i = 0; i < nbb_cells.length; ++i) {\n",
       "                    if (nbb_cells[i].input_prompt_number == nbb_cell_id) {\n",
       "                        if (nbb_cells[i].get_text() == nbb_unformatted_code) {\n",
       "                             nbb_cells[i].set_text(nbb_formatted_code);\n",
       "                        }\n",
       "                        break;\n",
       "                    }\n",
       "                }\n",
       "            }, 500);\n",
       "            "
      ],
      "text/plain": [
       "<IPython.core.display.Javascript object>"
      ]
     },
     "metadata": {},
     "output_type": "display_data"
    }
   ],
   "source": [
    "def data_preprocessing(df, accepted_flag, target, train_ratio):\n",
    "    \"\"\"\n",
    "    The goal of this function is to load the original dataset, split it into accepts and rejects,\n",
    "    add ids, which can later be used for merging. For the rejects to further perform train / test split\n",
    "\n",
    "    Parameters\n",
    "    ----------\n",
    "\n",
    "    df : name of the original dataset in quotation marks, csv format\n",
    "    accepted_flag: name of the accepted flag; Binary: 1 if accepted, 0 if rejected\n",
    "    target : name of the target column\n",
    "    train_ratio : percentage used for training; Continuous (0,1)\n",
    "\n",
    "    Return\n",
    "    ------\n",
    "    a : accepted data\n",
    "    r : rejected data\n",
    "    r_dev : rejected trainining data without label\n",
    "    r_test : rejected testing data without label\n",
    "    dfr_dev_with_label: rejected training data with label\n",
    "    dft_test_with_label: rejected training data with label\n",
    "\n",
    "    \"\"\"\n",
    "    # Load data\n",
    "    data = pd.read_csv(\"C:/Users/Asus/Desktop/Repo/MasterThesis_RI/Data_09_05/\" + df)\n",
    "\n",
    "    # Accepted\n",
    "\n",
    "    ## Create separate dataset with accepts\n",
    "    dfa = data[data[accepted_flag] == 1]\n",
    "    dfa = dfa.drop([accepted_flag], axis=1)\n",
    "    ## Rename target variable as \"target\"\n",
    "    dfa = dfa.rename(columns={target: \"target\"})\n",
    "    ## Add id to the dataset, which can later be used for merging\n",
    "    dfa[\"id\"] = dfa.index.to_series().map(lambda x: uuid.uuid4())\n",
    "\n",
    "    # Rejected\n",
    "\n",
    "    ## Create separate dataset with accepts\n",
    "    dfr = data[data[accepted_flag] == 0]\n",
    "    dfr = dfr.drop([accepted_flag], axis=1)\n",
    "    ## Add id to the dataset, which can later be used for merging\n",
    "    dfr[\"id\"] = dfr.index.to_series().map(lambda x: uuid.uuid4())\n",
    "    ## Train/Test Split (without labels)\n",
    "    ### Shuffle the dataset\n",
    "    shuffle_df = dfr.sample(frac=1, random_state=42)\n",
    "    ### Define a size for the train set\n",
    "    train_size = int(train_ratio * len(shuffle_df))\n",
    "    ### Split the dataset\n",
    "    dfr_dev = shuffle_df[:train_size]\n",
    "    dfr_test = shuffle_df[train_size:]\n",
    "    ## Save a copy of the rejected data with label\n",
    "    dfr_dev_with_label = dfr_dev\n",
    "    dfr_test_with_label = dfr_test\n",
    "    ## Unlabel the rejects (i.e. drop the target) and save a copy of the rejeted data without label\n",
    "    dfr_dev2 = dfr_dev_with_label.drop([target], axis=1)\n",
    "    dfr_test2 = dfr_test_with_label.drop([target], axis=1)\n",
    "\n",
    "    return dfr_dev_with_label, dfr_test_with_label, dfa, dfr, dfr_dev2, dfr_test2"
   ]
  },
  {
   "cell_type": "code",
   "execution_count": 4,
   "metadata": {},
   "outputs": [
    {
     "data": {
      "application/javascript": [
       "\n",
       "            setTimeout(function() {\n",
       "                var nbb_cell_id = 4;\n",
       "                var nbb_unformatted_code = \"dfr_dev_with_label, dfr_test_with_label, a, r, r_dev, r_test = data_preprocessing(\\n    \\\"paper_1.csv\\\", \\\"is_accepted\\\", \\\"y\\\", 0.8\\n)\";\n",
       "                var nbb_formatted_code = \"dfr_dev_with_label, dfr_test_with_label, a, r, r_dev, r_test = data_preprocessing(\\n    \\\"paper_1.csv\\\", \\\"is_accepted\\\", \\\"y\\\", 0.8\\n)\";\n",
       "                var nbb_cells = Jupyter.notebook.get_cells();\n",
       "                for (var i = 0; i < nbb_cells.length; ++i) {\n",
       "                    if (nbb_cells[i].input_prompt_number == nbb_cell_id) {\n",
       "                        if (nbb_cells[i].get_text() == nbb_unformatted_code) {\n",
       "                             nbb_cells[i].set_text(nbb_formatted_code);\n",
       "                        }\n",
       "                        break;\n",
       "                    }\n",
       "                }\n",
       "            }, 500);\n",
       "            "
      ],
      "text/plain": [
       "<IPython.core.display.Javascript object>"
      ]
     },
     "metadata": {},
     "output_type": "display_data"
    }
   ],
   "source": [
    "dfr_dev_with_label, dfr_test_with_label, a, r, r_dev, r_test = data_preprocessing(\n",
    "    \"paper_1.csv\", \"is_accepted\", \"y\", 0.8\n",
    ")"
   ]
  },
  {
   "cell_type": "code",
   "execution_count": 5,
   "metadata": {},
   "outputs": [
    {
     "name": "stdout",
     "output_type": "stream",
     "text": [
      "(14000, 11)\n",
      "(6000, 11)\n",
      "(4800, 10)\n",
      "(1200, 10)\n"
     ]
    },
    {
     "data": {
      "application/javascript": [
       "\n",
       "            setTimeout(function() {\n",
       "                var nbb_cell_id = 5;\n",
       "                var nbb_unformatted_code = \"print(a.shape)  # accepted\\nprint(r.shape)  # rejected\\nprint(r_dev.shape)  # rejected train\\nprint(r_test.shape)  # rejected test\";\n",
       "                var nbb_formatted_code = \"print(a.shape)  # accepted\\nprint(r.shape)  # rejected\\nprint(r_dev.shape)  # rejected train\\nprint(r_test.shape)  # rejected test\";\n",
       "                var nbb_cells = Jupyter.notebook.get_cells();\n",
       "                for (var i = 0; i < nbb_cells.length; ++i) {\n",
       "                    if (nbb_cells[i].input_prompt_number == nbb_cell_id) {\n",
       "                        if (nbb_cells[i].get_text() == nbb_unformatted_code) {\n",
       "                             nbb_cells[i].set_text(nbb_formatted_code);\n",
       "                        }\n",
       "                        break;\n",
       "                    }\n",
       "                }\n",
       "            }, 500);\n",
       "            "
      ],
      "text/plain": [
       "<IPython.core.display.Javascript object>"
      ]
     },
     "metadata": {},
     "output_type": "display_data"
    }
   ],
   "source": [
    "print(a.shape)  # accepted\n",
    "print(r.shape)  # rejected\n",
    "print(r_dev.shape)  # rejected train\n",
    "print(r_test.shape)  # rejected test"
   ]
  },
  {
   "cell_type": "markdown",
   "metadata": {},
   "source": [
    "The below two functions are used to store versions of the reject dataset with and without id. Data without id used for modelling, data with id used for merging. To be dropped in future."
   ]
  },
  {
   "cell_type": "code",
   "execution_count": 67,
   "metadata": {},
   "outputs": [
    {
     "data": {
      "application/javascript": [
       "\n",
       "            setTimeout(function() {\n",
       "                var nbb_cell_id = 67;\n",
       "                var nbb_unformatted_code = \"def select_columns_rejects_without_id(r_dev, r_test, r_dev_mod, r_test_mod):\\n    \\\"\\\"\\\"\\n    The goal of this function is to create rejects datasets (train and test) with the modelling columns only.\\n    Currently hard-coded to work for a dataset with 8 features.\\n\\n    Parameters\\n    ----------\\n\\n    r_dev: rejects training data; Dataframe\\n    r_test: rejects testing data; Dataframe\\n    r_dev_mod: name of the rejecs training data without id; String\\n    r_test_mod: name of the rejects training data without id\\n\\n    Return\\n    ------\\n    r_dev_mod: rejecs training data without id; Dataframe\\n    r_test_mod: rejects training data without id; Dataframe\\n\\n    \\\"\\\"\\\"\\n\\n    r_dev_mod = r_dev.iloc[:, :9]\\n    r_test_mod = r_test.iloc[:, :9]\\n    return r_dev_mod, r_test_mod\";\n",
       "                var nbb_formatted_code = \"def select_columns_rejects_without_id(r_dev, r_test, r_dev_mod, r_test_mod):\\n    \\\"\\\"\\\"\\n    The goal of this function is to create rejects datasets (train and test) with the modelling columns only.\\n    Currently hard-coded to work for a dataset with 8 features.\\n\\n    Parameters\\n    ----------\\n\\n    r_dev: rejects training data; Dataframe\\n    r_test: rejects testing data; Dataframe\\n    r_dev_mod: name of the rejecs training data without id; String\\n    r_test_mod: name of the rejects training data without id\\n\\n    Return\\n    ------\\n    r_dev_mod: rejecs training data without id; Dataframe\\n    r_test_mod: rejects training data without id; Dataframe\\n\\n    \\\"\\\"\\\"\\n\\n    r_dev_mod = r_dev.iloc[:, :9]\\n    r_test_mod = r_test.iloc[:, :9]\\n    return r_dev_mod, r_test_mod\";\n",
       "                var nbb_cells = Jupyter.notebook.get_cells();\n",
       "                for (var i = 0; i < nbb_cells.length; ++i) {\n",
       "                    if (nbb_cells[i].input_prompt_number == nbb_cell_id) {\n",
       "                        if (nbb_cells[i].get_text() == nbb_unformatted_code) {\n",
       "                             nbb_cells[i].set_text(nbb_formatted_code);\n",
       "                        }\n",
       "                        break;\n",
       "                    }\n",
       "                }\n",
       "            }, 500);\n",
       "            "
      ],
      "text/plain": [
       "<IPython.core.display.Javascript object>"
      ]
     },
     "metadata": {},
     "output_type": "display_data"
    },
    {
     "data": {
      "application/javascript": [
       "\n",
       "            setTimeout(function() {\n",
       "                var nbb_cell_id = 67;\n",
       "                var nbb_unformatted_code = \"def select_columns_rejects_without_id(r_dev, r_test, r_dev_mod, r_test_mod):\\n    \\\"\\\"\\\"\\n    The goal of this function is to create rejects datasets (train and test) with the modelling columns only.\\n    Currently hard-coded to work for a dataset with 8 features.\\n\\n    Parameters\\n    ----------\\n\\n    r_dev: rejects training data; Dataframe\\n    r_test: rejects testing data; Dataframe\\n    r_dev_mod: name of the rejecs training data without id; String\\n    r_test_mod: name of the rejects training data without id\\n\\n    Return\\n    ------\\n    r_dev_mod: rejecs training data without id; Dataframe\\n    r_test_mod: rejects training data without id; Dataframe\\n\\n    \\\"\\\"\\\"\\n\\n    r_dev_mod = r_dev.iloc[:, :9]\\n    r_test_mod = r_test.iloc[:, :9]\\n    return r_dev_mod, r_test_mod\";\n",
       "                var nbb_formatted_code = \"def select_columns_rejects_without_id(r_dev, r_test, r_dev_mod, r_test_mod):\\n    \\\"\\\"\\\"\\n    The goal of this function is to create rejects datasets (train and test) with the modelling columns only.\\n    Currently hard-coded to work for a dataset with 8 features.\\n\\n    Parameters\\n    ----------\\n\\n    r_dev: rejects training data; Dataframe\\n    r_test: rejects testing data; Dataframe\\n    r_dev_mod: name of the rejecs training data without id; String\\n    r_test_mod: name of the rejects training data without id\\n\\n    Return\\n    ------\\n    r_dev_mod: rejecs training data without id; Dataframe\\n    r_test_mod: rejects training data without id; Dataframe\\n\\n    \\\"\\\"\\\"\\n\\n    r_dev_mod = r_dev.iloc[:, :9]\\n    r_test_mod = r_test.iloc[:, :9]\\n    return r_dev_mod, r_test_mod\";\n",
       "                var nbb_cells = Jupyter.notebook.get_cells();\n",
       "                for (var i = 0; i < nbb_cells.length; ++i) {\n",
       "                    if (nbb_cells[i].input_prompt_number == nbb_cell_id) {\n",
       "                        if (nbb_cells[i].get_text() == nbb_unformatted_code) {\n",
       "                             nbb_cells[i].set_text(nbb_formatted_code);\n",
       "                        }\n",
       "                        break;\n",
       "                    }\n",
       "                }\n",
       "            }, 500);\n",
       "            "
      ],
      "text/plain": [
       "<IPython.core.display.Javascript object>"
      ]
     },
     "metadata": {},
     "output_type": "display_data"
    }
   ],
   "source": [
    "def select_columns_rejects_without_id(r_dev, r_test, r_dev_mod, r_test_mod):\n",
    "    \"\"\"\n",
    "    The goal of this function is to create rejects datasets (train and test) with the modelling columns only.\n",
    "    Currently hard-coded to work for a dataset with 8 features.\n",
    "\n",
    "    Parameters\n",
    "    ----------\n",
    "\n",
    "    r_dev: rejects training data; Dataframe\n",
    "    r_test: rejects testing data; Dataframe\n",
    "    r_dev_mod: name of the rejecs training data without id; String\n",
    "    r_test_mod: name of the rejects training data without id\n",
    "\n",
    "    Return\n",
    "    ------\n",
    "    r_dev_mod: rejecs training data without id; Dataframe\n",
    "    r_test_mod: rejects training data without id; Dataframe\n",
    "\n",
    "    \"\"\"\n",
    "\n",
    "    r_dev_mod = r_dev.iloc[:, :9]\n",
    "    r_test_mod = r_test.iloc[:, :9]\n",
    "    return r_dev_mod, r_test_mod"
   ]
  },
  {
   "cell_type": "code",
   "execution_count": 68,
   "metadata": {},
   "outputs": [
    {
     "data": {
      "application/javascript": [
       "\n",
       "            setTimeout(function() {\n",
       "                var nbb_cell_id = 68;\n",
       "                var nbb_unformatted_code = \"def select_columns_rejects_with_id(r_dev, r_test, r_dev_mod_id, r_test_mod_id):\\n    \\\"\\\"\\\"\\n    The goal of this function is to Create rejects datasets with the modelling columns + id\\n    Currently hard-coded to work for a dataset with 8 features.\\n\\n    Parameters\\n    ----------\\n\\n    r_dev: rejects training data; Dataframe\\n    r_test: rejects testing data; Dataframe\\n    r_dev_mod_id: rejecs training data with id; name of the rejecs training data with id; String\\n    r_test_mod_id: rejects training data with id; name of the rejecs training data with id; String\\n\\n    Return\\n    ------\\n    r_dev_mod_id: rejecs training data with id; Dataframe\\n    r_test_mod_id: rejects training data with id; Dataframe\\n\\n    \\\"\\\"\\\"\\n    r_dev_mod_id = r_dev.iloc[:, :10]\\n    r_test_mod_id = r_test.iloc[:, :10]\\n    return r_dev_mod_id, r_test_mod_id\";\n",
       "                var nbb_formatted_code = \"def select_columns_rejects_with_id(r_dev, r_test, r_dev_mod_id, r_test_mod_id):\\n    \\\"\\\"\\\"\\n    The goal of this function is to Create rejects datasets with the modelling columns + id\\n    Currently hard-coded to work for a dataset with 8 features.\\n\\n    Parameters\\n    ----------\\n\\n    r_dev: rejects training data; Dataframe\\n    r_test: rejects testing data; Dataframe\\n    r_dev_mod_id: rejecs training data with id; name of the rejecs training data with id; String\\n    r_test_mod_id: rejects training data with id; name of the rejecs training data with id; String\\n\\n    Return\\n    ------\\n    r_dev_mod_id: rejecs training data with id; Dataframe\\n    r_test_mod_id: rejects training data with id; Dataframe\\n\\n    \\\"\\\"\\\"\\n    r_dev_mod_id = r_dev.iloc[:, :10]\\n    r_test_mod_id = r_test.iloc[:, :10]\\n    return r_dev_mod_id, r_test_mod_id\";\n",
       "                var nbb_cells = Jupyter.notebook.get_cells();\n",
       "                for (var i = 0; i < nbb_cells.length; ++i) {\n",
       "                    if (nbb_cells[i].input_prompt_number == nbb_cell_id) {\n",
       "                        if (nbb_cells[i].get_text() == nbb_unformatted_code) {\n",
       "                             nbb_cells[i].set_text(nbb_formatted_code);\n",
       "                        }\n",
       "                        break;\n",
       "                    }\n",
       "                }\n",
       "            }, 500);\n",
       "            "
      ],
      "text/plain": [
       "<IPython.core.display.Javascript object>"
      ]
     },
     "metadata": {},
     "output_type": "display_data"
    },
    {
     "data": {
      "application/javascript": [
       "\n",
       "            setTimeout(function() {\n",
       "                var nbb_cell_id = 68;\n",
       "                var nbb_unformatted_code = \"def select_columns_rejects_with_id(r_dev, r_test, r_dev_mod_id, r_test_mod_id):\\n    \\\"\\\"\\\"\\n    The goal of this function is to Create rejects datasets with the modelling columns + id\\n    Currently hard-coded to work for a dataset with 8 features.\\n\\n    Parameters\\n    ----------\\n\\n    r_dev: rejects training data; Dataframe\\n    r_test: rejects testing data; Dataframe\\n    r_dev_mod_id: rejecs training data with id; name of the rejecs training data with id; String\\n    r_test_mod_id: rejects training data with id; name of the rejecs training data with id; String\\n\\n    Return\\n    ------\\n    r_dev_mod_id: rejecs training data with id; Dataframe\\n    r_test_mod_id: rejects training data with id; Dataframe\\n\\n    \\\"\\\"\\\"\\n    r_dev_mod_id = r_dev.iloc[:, :10]\\n    r_test_mod_id = r_test.iloc[:, :10]\\n    return r_dev_mod_id, r_test_mod_id\";\n",
       "                var nbb_formatted_code = \"def select_columns_rejects_with_id(r_dev, r_test, r_dev_mod_id, r_test_mod_id):\\n    \\\"\\\"\\\"\\n    The goal of this function is to Create rejects datasets with the modelling columns + id\\n    Currently hard-coded to work for a dataset with 8 features.\\n\\n    Parameters\\n    ----------\\n\\n    r_dev: rejects training data; Dataframe\\n    r_test: rejects testing data; Dataframe\\n    r_dev_mod_id: rejecs training data with id; name of the rejecs training data with id; String\\n    r_test_mod_id: rejects training data with id; name of the rejecs training data with id; String\\n\\n    Return\\n    ------\\n    r_dev_mod_id: rejecs training data with id; Dataframe\\n    r_test_mod_id: rejects training data with id; Dataframe\\n\\n    \\\"\\\"\\\"\\n    r_dev_mod_id = r_dev.iloc[:, :10]\\n    r_test_mod_id = r_test.iloc[:, :10]\\n    return r_dev_mod_id, r_test_mod_id\";\n",
       "                var nbb_cells = Jupyter.notebook.get_cells();\n",
       "                for (var i = 0; i < nbb_cells.length; ++i) {\n",
       "                    if (nbb_cells[i].input_prompt_number == nbb_cell_id) {\n",
       "                        if (nbb_cells[i].get_text() == nbb_unformatted_code) {\n",
       "                             nbb_cells[i].set_text(nbb_formatted_code);\n",
       "                        }\n",
       "                        break;\n",
       "                    }\n",
       "                }\n",
       "            }, 500);\n",
       "            "
      ],
      "text/plain": [
       "<IPython.core.display.Javascript object>"
      ]
     },
     "metadata": {},
     "output_type": "display_data"
    }
   ],
   "source": [
    "def select_columns_rejects_with_id(r_dev, r_test, r_dev_mod_id, r_test_mod_id):\n",
    "    \"\"\"\n",
    "    The goal of this function is to Create rejects datasets with the modelling columns + id\n",
    "    Currently hard-coded to work for a dataset with 8 features.\n",
    "\n",
    "    Parameters\n",
    "    ----------\n",
    "\n",
    "    r_dev: rejects training data; Dataframe\n",
    "    r_test: rejects testing data; Dataframe\n",
    "    r_dev_mod_id: rejecs training data with id; name of the rejecs training data with id; String\n",
    "    r_test_mod_id: rejects training data with id; name of the rejecs training data with id; String\n",
    "\n",
    "    Return\n",
    "    ------\n",
    "    r_dev_mod_id: rejecs training data with id; Dataframe\n",
    "    r_test_mod_id: rejects training data with id; Dataframe\n",
    "\n",
    "    \"\"\"\n",
    "    r_dev_mod_id = r_dev.iloc[:, :10]\n",
    "    r_test_mod_id = r_test.iloc[:, :10]\n",
    "    return r_dev_mod_id, r_test_mod_id"
   ]
  },
  {
   "cell_type": "code",
   "execution_count": 69,
   "metadata": {},
   "outputs": [
    {
     "data": {
      "application/javascript": [
       "\n",
       "            setTimeout(function() {\n",
       "                var nbb_cell_id = 69;\n",
       "                var nbb_unformatted_code = \"r_dev_mod, r_test_mod = select_columns_rejects_without_id(\\n    r_dev, r_test, \\\"r_dev_mod\\\", \\\"r_test_mod\\\"\\n)\\nr_dev_mod_id, r_test_mod_id = select_columns_rejects_with_id(\\n    r_dev, r_test, \\\"r_dev_mod_id\\\", \\\"r_test_mod_id\\\"\\n)\";\n",
       "                var nbb_formatted_code = \"r_dev_mod, r_test_mod = select_columns_rejects_without_id(\\n    r_dev, r_test, \\\"r_dev_mod\\\", \\\"r_test_mod\\\"\\n)\\nr_dev_mod_id, r_test_mod_id = select_columns_rejects_with_id(\\n    r_dev, r_test, \\\"r_dev_mod_id\\\", \\\"r_test_mod_id\\\"\\n)\";\n",
       "                var nbb_cells = Jupyter.notebook.get_cells();\n",
       "                for (var i = 0; i < nbb_cells.length; ++i) {\n",
       "                    if (nbb_cells[i].input_prompt_number == nbb_cell_id) {\n",
       "                        if (nbb_cells[i].get_text() == nbb_unformatted_code) {\n",
       "                             nbb_cells[i].set_text(nbb_formatted_code);\n",
       "                        }\n",
       "                        break;\n",
       "                    }\n",
       "                }\n",
       "            }, 500);\n",
       "            "
      ],
      "text/plain": [
       "<IPython.core.display.Javascript object>"
      ]
     },
     "metadata": {},
     "output_type": "display_data"
    },
    {
     "data": {
      "application/javascript": [
       "\n",
       "            setTimeout(function() {\n",
       "                var nbb_cell_id = 69;\n",
       "                var nbb_unformatted_code = \"r_dev_mod, r_test_mod = select_columns_rejects_without_id(\\n    r_dev, r_test, \\\"r_dev_mod\\\", \\\"r_test_mod\\\"\\n)\\nr_dev_mod_id, r_test_mod_id = select_columns_rejects_with_id(\\n    r_dev, r_test, \\\"r_dev_mod_id\\\", \\\"r_test_mod_id\\\"\\n)\";\n",
       "                var nbb_formatted_code = \"r_dev_mod, r_test_mod = select_columns_rejects_without_id(\\n    r_dev, r_test, \\\"r_dev_mod\\\", \\\"r_test_mod\\\"\\n)\\nr_dev_mod_id, r_test_mod_id = select_columns_rejects_with_id(\\n    r_dev, r_test, \\\"r_dev_mod_id\\\", \\\"r_test_mod_id\\\"\\n)\";\n",
       "                var nbb_cells = Jupyter.notebook.get_cells();\n",
       "                for (var i = 0; i < nbb_cells.length; ++i) {\n",
       "                    if (nbb_cells[i].input_prompt_number == nbb_cell_id) {\n",
       "                        if (nbb_cells[i].get_text() == nbb_unformatted_code) {\n",
       "                             nbb_cells[i].set_text(nbb_formatted_code);\n",
       "                        }\n",
       "                        break;\n",
       "                    }\n",
       "                }\n",
       "            }, 500);\n",
       "            "
      ],
      "text/plain": [
       "<IPython.core.display.Javascript object>"
      ]
     },
     "metadata": {},
     "output_type": "display_data"
    }
   ],
   "source": [
    "r_dev_mod, r_test_mod = select_columns_rejects_without_id(\n",
    "    r_dev, r_test, \"r_dev_mod\", \"r_test_mod\"\n",
    ")\n",
    "r_dev_mod_id, r_test_mod_id = select_columns_rejects_with_id(\n",
    "    r_dev, r_test, \"r_dev_mod_id\", \"r_test_mod_id\"\n",
    ")"
   ]
  },
  {
   "cell_type": "markdown",
   "metadata": {},
   "source": [
    "The below two functions continue the data preprocessing. Used to create feature and target data and to split into train and test samples."
   ]
  },
  {
   "cell_type": "code",
   "execution_count": 70,
   "metadata": {},
   "outputs": [
    {
     "data": {
      "application/javascript": [
       "\n",
       "            setTimeout(function() {\n",
       "                var nbb_cell_id = 70;\n",
       "                var nbb_unformatted_code = \"def create_X_y(data):\\n    \\\"\\\"\\\"\\n    Undersample the data\\n\\n    Parameters\\n    ----------\\n    data : Dataframe\\n\\n    Return\\n    ------\\n    X_res : undersampled data; Dataframe\\n    y_res : undersampled labels; Dataframe\\n\\n    \\\"\\\"\\\"\\n    # Create X and y\\n    X = data.loc[:, data.columns != \\\"target\\\"]\\n    y = data.loc[:, data.columns == \\\"target\\\"]\\n\\n    return X, y\";\n",
       "                var nbb_formatted_code = \"def create_X_y(data):\\n    \\\"\\\"\\\"\\n    Undersample the data\\n\\n    Parameters\\n    ----------\\n    data : Dataframe\\n\\n    Return\\n    ------\\n    X_res : undersampled data; Dataframe\\n    y_res : undersampled labels; Dataframe\\n\\n    \\\"\\\"\\\"\\n    # Create X and y\\n    X = data.loc[:, data.columns != \\\"target\\\"]\\n    y = data.loc[:, data.columns == \\\"target\\\"]\\n\\n    return X, y\";\n",
       "                var nbb_cells = Jupyter.notebook.get_cells();\n",
       "                for (var i = 0; i < nbb_cells.length; ++i) {\n",
       "                    if (nbb_cells[i].input_prompt_number == nbb_cell_id) {\n",
       "                        if (nbb_cells[i].get_text() == nbb_unformatted_code) {\n",
       "                             nbb_cells[i].set_text(nbb_formatted_code);\n",
       "                        }\n",
       "                        break;\n",
       "                    }\n",
       "                }\n",
       "            }, 500);\n",
       "            "
      ],
      "text/plain": [
       "<IPython.core.display.Javascript object>"
      ]
     },
     "metadata": {},
     "output_type": "display_data"
    },
    {
     "data": {
      "application/javascript": [
       "\n",
       "            setTimeout(function() {\n",
       "                var nbb_cell_id = 70;\n",
       "                var nbb_unformatted_code = \"def create_X_y(data):\\n    \\\"\\\"\\\"\\n    Undersample the data\\n\\n    Parameters\\n    ----------\\n    data : Dataframe\\n\\n    Return\\n    ------\\n    X_res : undersampled data; Dataframe\\n    y_res : undersampled labels; Dataframe\\n\\n    \\\"\\\"\\\"\\n    # Create X and y\\n    X = data.loc[:, data.columns != \\\"target\\\"]\\n    y = data.loc[:, data.columns == \\\"target\\\"]\\n\\n    return X, y\";\n",
       "                var nbb_formatted_code = \"def create_X_y(data):\\n    \\\"\\\"\\\"\\n    Undersample the data\\n\\n    Parameters\\n    ----------\\n    data : Dataframe\\n\\n    Return\\n    ------\\n    X_res : undersampled data; Dataframe\\n    y_res : undersampled labels; Dataframe\\n\\n    \\\"\\\"\\\"\\n    # Create X and y\\n    X = data.loc[:, data.columns != \\\"target\\\"]\\n    y = data.loc[:, data.columns == \\\"target\\\"]\\n\\n    return X, y\";\n",
       "                var nbb_cells = Jupyter.notebook.get_cells();\n",
       "                for (var i = 0; i < nbb_cells.length; ++i) {\n",
       "                    if (nbb_cells[i].input_prompt_number == nbb_cell_id) {\n",
       "                        if (nbb_cells[i].get_text() == nbb_unformatted_code) {\n",
       "                             nbb_cells[i].set_text(nbb_formatted_code);\n",
       "                        }\n",
       "                        break;\n",
       "                    }\n",
       "                }\n",
       "            }, 500);\n",
       "            "
      ],
      "text/plain": [
       "<IPython.core.display.Javascript object>"
      ]
     },
     "metadata": {},
     "output_type": "display_data"
    }
   ],
   "source": [
    "def create_X_y(data):\n",
    "    \"\"\"\n",
    "    Undersample the data\n",
    "\n",
    "    Parameters\n",
    "    ----------\n",
    "    data : Dataframe\n",
    "\n",
    "    Return\n",
    "    ------\n",
    "    X_res : undersampled data; Dataframe\n",
    "    y_res : undersampled labels; Dataframe\n",
    "\n",
    "    \"\"\"\n",
    "    # Create X and y\n",
    "    X = data.loc[:, data.columns != \"target\"]\n",
    "    y = data.loc[:, data.columns == \"target\"]\n",
    "\n",
    "    return X, y"
   ]
  },
  {
   "cell_type": "code",
   "execution_count": 71,
   "metadata": {},
   "outputs": [
    {
     "data": {
      "application/javascript": [
       "\n",
       "            setTimeout(function() {\n",
       "                var nbb_cell_id = 71;\n",
       "                var nbb_unformatted_code = \"def split(X, y):\\n    \\\"\\\"\\\"\\n    Split the data into training and testing sample\\n\\n    Parameters\\n    ----------\\n    X : data\\n    y : labels\\n\\n    Return\\n    ------\\n    X_train : training modelling fields\\n    X_test : test modelling fields\\n    y_train : training labels\\n    y_test : testing labels\\n\\n    \\\"\\\"\\\"\\n    # Train-Test Split\\n    X_train, X_test, y_train, y_test = train_test_split(\\n        X_res, y_res, test_size=0.2, random_state=7\\n    )\\n    columns = X_train.columns\\n\\n    # Columns\\n    X_train = pd.DataFrame(data=X_train, columns=columns)\\n    y_train = pd.DataFrame(data=y_train, columns=[\\\"target\\\"])\\n\\n    return X_train, X_test, y_train, y_test\";\n",
       "                var nbb_formatted_code = \"def split(X, y):\\n    \\\"\\\"\\\"\\n    Split the data into training and testing sample\\n\\n    Parameters\\n    ----------\\n    X : data\\n    y : labels\\n\\n    Return\\n    ------\\n    X_train : training modelling fields\\n    X_test : test modelling fields\\n    y_train : training labels\\n    y_test : testing labels\\n\\n    \\\"\\\"\\\"\\n    # Train-Test Split\\n    X_train, X_test, y_train, y_test = train_test_split(\\n        X_res, y_res, test_size=0.2, random_state=7\\n    )\\n    columns = X_train.columns\\n\\n    # Columns\\n    X_train = pd.DataFrame(data=X_train, columns=columns)\\n    y_train = pd.DataFrame(data=y_train, columns=[\\\"target\\\"])\\n\\n    return X_train, X_test, y_train, y_test\";\n",
       "                var nbb_cells = Jupyter.notebook.get_cells();\n",
       "                for (var i = 0; i < nbb_cells.length; ++i) {\n",
       "                    if (nbb_cells[i].input_prompt_number == nbb_cell_id) {\n",
       "                        if (nbb_cells[i].get_text() == nbb_unformatted_code) {\n",
       "                             nbb_cells[i].set_text(nbb_formatted_code);\n",
       "                        }\n",
       "                        break;\n",
       "                    }\n",
       "                }\n",
       "            }, 500);\n",
       "            "
      ],
      "text/plain": [
       "<IPython.core.display.Javascript object>"
      ]
     },
     "metadata": {},
     "output_type": "display_data"
    },
    {
     "data": {
      "application/javascript": [
       "\n",
       "            setTimeout(function() {\n",
       "                var nbb_cell_id = 71;\n",
       "                var nbb_unformatted_code = \"def split(X, y):\\n    \\\"\\\"\\\"\\n    Split the data into training and testing sample\\n\\n    Parameters\\n    ----------\\n    X : data\\n    y : labels\\n\\n    Return\\n    ------\\n    X_train : training modelling fields\\n    X_test : test modelling fields\\n    y_train : training labels\\n    y_test : testing labels\\n\\n    \\\"\\\"\\\"\\n    # Train-Test Split\\n    X_train, X_test, y_train, y_test = train_test_split(\\n        X_res, y_res, test_size=0.2, random_state=7\\n    )\\n    columns = X_train.columns\\n\\n    # Columns\\n    X_train = pd.DataFrame(data=X_train, columns=columns)\\n    y_train = pd.DataFrame(data=y_train, columns=[\\\"target\\\"])\\n\\n    return X_train, X_test, y_train, y_test\";\n",
       "                var nbb_formatted_code = \"def split(X, y):\\n    \\\"\\\"\\\"\\n    Split the data into training and testing sample\\n\\n    Parameters\\n    ----------\\n    X : data\\n    y : labels\\n\\n    Return\\n    ------\\n    X_train : training modelling fields\\n    X_test : test modelling fields\\n    y_train : training labels\\n    y_test : testing labels\\n\\n    \\\"\\\"\\\"\\n    # Train-Test Split\\n    X_train, X_test, y_train, y_test = train_test_split(\\n        X_res, y_res, test_size=0.2, random_state=7\\n    )\\n    columns = X_train.columns\\n\\n    # Columns\\n    X_train = pd.DataFrame(data=X_train, columns=columns)\\n    y_train = pd.DataFrame(data=y_train, columns=[\\\"target\\\"])\\n\\n    return X_train, X_test, y_train, y_test\";\n",
       "                var nbb_cells = Jupyter.notebook.get_cells();\n",
       "                for (var i = 0; i < nbb_cells.length; ++i) {\n",
       "                    if (nbb_cells[i].input_prompt_number == nbb_cell_id) {\n",
       "                        if (nbb_cells[i].get_text() == nbb_unformatted_code) {\n",
       "                             nbb_cells[i].set_text(nbb_formatted_code);\n",
       "                        }\n",
       "                        break;\n",
       "                    }\n",
       "                }\n",
       "            }, 500);\n",
       "            "
      ],
      "text/plain": [
       "<IPython.core.display.Javascript object>"
      ]
     },
     "metadata": {},
     "output_type": "display_data"
    }
   ],
   "source": [
    "def split(X, y):\n",
    "    \"\"\"\n",
    "    Split the data into training and testing sample\n",
    "\n",
    "    Parameters\n",
    "    ----------\n",
    "    X : data\n",
    "    y : labels\n",
    "\n",
    "    Return\n",
    "    ------\n",
    "    X_train : training modelling fields\n",
    "    X_test : test modelling fields\n",
    "    y_train : training labels\n",
    "    y_test : testing labels\n",
    "\n",
    "    \"\"\"\n",
    "    # Train-Test Split\n",
    "    X_train, X_test, y_train, y_test = train_test_split(\n",
    "        X_res, y_res, test_size=0.2, random_state=7\n",
    "    )\n",
    "    columns = X_train.columns\n",
    "\n",
    "    # Columns\n",
    "    X_train = pd.DataFrame(data=X_train, columns=columns)\n",
    "    y_train = pd.DataFrame(data=y_train, columns=[\"target\"])\n",
    "\n",
    "    return X_train, X_test, y_train, y_test"
   ]
  },
  {
   "cell_type": "code",
   "execution_count": 72,
   "metadata": {},
   "outputs": [
    {
     "data": {
      "application/javascript": [
       "\n",
       "            setTimeout(function() {\n",
       "                var nbb_cell_id = 72;\n",
       "                var nbb_unformatted_code = \"X_res, y_res = create_X_y(a)\\nX_train, X_test, y_train, y_test = split(X_res, y_res)\";\n",
       "                var nbb_formatted_code = \"X_res, y_res = create_X_y(a)\\nX_train, X_test, y_train, y_test = split(X_res, y_res)\";\n",
       "                var nbb_cells = Jupyter.notebook.get_cells();\n",
       "                for (var i = 0; i < nbb_cells.length; ++i) {\n",
       "                    if (nbb_cells[i].input_prompt_number == nbb_cell_id) {\n",
       "                        if (nbb_cells[i].get_text() == nbb_unformatted_code) {\n",
       "                             nbb_cells[i].set_text(nbb_formatted_code);\n",
       "                        }\n",
       "                        break;\n",
       "                    }\n",
       "                }\n",
       "            }, 500);\n",
       "            "
      ],
      "text/plain": [
       "<IPython.core.display.Javascript object>"
      ]
     },
     "metadata": {},
     "output_type": "display_data"
    },
    {
     "data": {
      "application/javascript": [
       "\n",
       "            setTimeout(function() {\n",
       "                var nbb_cell_id = 72;\n",
       "                var nbb_unformatted_code = \"X_res, y_res = create_X_y(a)\\nX_train, X_test, y_train, y_test = split(X_res, y_res)\";\n",
       "                var nbb_formatted_code = \"X_res, y_res = create_X_y(a)\\nX_train, X_test, y_train, y_test = split(X_res, y_res)\";\n",
       "                var nbb_cells = Jupyter.notebook.get_cells();\n",
       "                for (var i = 0; i < nbb_cells.length; ++i) {\n",
       "                    if (nbb_cells[i].input_prompt_number == nbb_cell_id) {\n",
       "                        if (nbb_cells[i].get_text() == nbb_unformatted_code) {\n",
       "                             nbb_cells[i].set_text(nbb_formatted_code);\n",
       "                        }\n",
       "                        break;\n",
       "                    }\n",
       "                }\n",
       "            }, 500);\n",
       "            "
      ],
      "text/plain": [
       "<IPython.core.display.Javascript object>"
      ]
     },
     "metadata": {},
     "output_type": "display_data"
    }
   ],
   "source": [
    "X_res, y_res = create_X_y(a)\n",
    "X_train, X_test, y_train, y_test = split(X_res, y_res)"
   ]
  },
  {
   "cell_type": "code",
   "execution_count": 73,
   "metadata": {},
   "outputs": [
    {
     "data": {
      "application/javascript": [
       "\n",
       "            setTimeout(function() {\n",
       "                var nbb_cell_id = 73;\n",
       "                var nbb_unformatted_code = \"n = int(0.1 * (len(X_train)))\\nX_train = X_train[:n]\\ny_train = y_train[:n]\";\n",
       "                var nbb_formatted_code = \"n = int(0.1 * (len(X_train)))\\nX_train = X_train[:n]\\ny_train = y_train[:n]\";\n",
       "                var nbb_cells = Jupyter.notebook.get_cells();\n",
       "                for (var i = 0; i < nbb_cells.length; ++i) {\n",
       "                    if (nbb_cells[i].input_prompt_number == nbb_cell_id) {\n",
       "                        if (nbb_cells[i].get_text() == nbb_unformatted_code) {\n",
       "                             nbb_cells[i].set_text(nbb_formatted_code);\n",
       "                        }\n",
       "                        break;\n",
       "                    }\n",
       "                }\n",
       "            }, 500);\n",
       "            "
      ],
      "text/plain": [
       "<IPython.core.display.Javascript object>"
      ]
     },
     "metadata": {},
     "output_type": "display_data"
    },
    {
     "data": {
      "application/javascript": [
       "\n",
       "            setTimeout(function() {\n",
       "                var nbb_cell_id = 73;\n",
       "                var nbb_unformatted_code = \"n = int(0.1 * (len(X_train)))\\nX_train = X_train[:n]\\ny_train = y_train[:n]\";\n",
       "                var nbb_formatted_code = \"n = int(0.1 * (len(X_train)))\\nX_train = X_train[:n]\\ny_train = y_train[:n]\";\n",
       "                var nbb_cells = Jupyter.notebook.get_cells();\n",
       "                for (var i = 0; i < nbb_cells.length; ++i) {\n",
       "                    if (nbb_cells[i].input_prompt_number == nbb_cell_id) {\n",
       "                        if (nbb_cells[i].get_text() == nbb_unformatted_code) {\n",
       "                             nbb_cells[i].set_text(nbb_formatted_code);\n",
       "                        }\n",
       "                        break;\n",
       "                    }\n",
       "                }\n",
       "            }, 500);\n",
       "            "
      ],
      "text/plain": [
       "<IPython.core.display.Javascript object>"
      ]
     },
     "metadata": {},
     "output_type": "display_data"
    }
   ],
   "source": [
    "n = int(0.1 * (len(X_train)))\n",
    "X_train = X_train[:n]\n",
    "y_train = y_train[:n]"
   ]
  },
  {
   "cell_type": "markdown",
   "metadata": {},
   "source": [
    "## Modelling"
   ]
  },
  {
   "cell_type": "markdown",
   "metadata": {},
   "source": [
    "First, we select the features that will end up in the model. The selection of columns below is subject to iteration based on the modelling outcomes from the logistic regression, i.e. significance (p-values)."
   ]
  },
  {
   "cell_type": "code",
   "execution_count": 74,
   "metadata": {},
   "outputs": [
    {
     "data": {
      "application/javascript": [
       "\n",
       "            setTimeout(function() {\n",
       "                var nbb_cell_id = 74;\n",
       "                var nbb_unformatted_code = \"significant_columns = [\\n    \\\"known_col_0\\\",\\n    \\\"known_col_1\\\",\\n    \\\"known_col_3\\\",\\n    \\\"known_col_4\\\",\\n]\";\n",
       "                var nbb_formatted_code = \"significant_columns = [\\n    \\\"known_col_0\\\",\\n    \\\"known_col_1\\\",\\n    \\\"known_col_3\\\",\\n    \\\"known_col_4\\\",\\n]\";\n",
       "                var nbb_cells = Jupyter.notebook.get_cells();\n",
       "                for (var i = 0; i < nbb_cells.length; ++i) {\n",
       "                    if (nbb_cells[i].input_prompt_number == nbb_cell_id) {\n",
       "                        if (nbb_cells[i].get_text() == nbb_unformatted_code) {\n",
       "                             nbb_cells[i].set_text(nbb_formatted_code);\n",
       "                        }\n",
       "                        break;\n",
       "                    }\n",
       "                }\n",
       "            }, 500);\n",
       "            "
      ],
      "text/plain": [
       "<IPython.core.display.Javascript object>"
      ]
     },
     "metadata": {},
     "output_type": "display_data"
    },
    {
     "data": {
      "application/javascript": [
       "\n",
       "            setTimeout(function() {\n",
       "                var nbb_cell_id = 74;\n",
       "                var nbb_unformatted_code = \"significant_columns = [\\n    \\\"known_col_0\\\",\\n    \\\"known_col_1\\\",\\n    \\\"known_col_3\\\",\\n    \\\"known_col_4\\\",\\n]\";\n",
       "                var nbb_formatted_code = \"significant_columns = [\\n    \\\"known_col_0\\\",\\n    \\\"known_col_1\\\",\\n    \\\"known_col_3\\\",\\n    \\\"known_col_4\\\",\\n]\";\n",
       "                var nbb_cells = Jupyter.notebook.get_cells();\n",
       "                for (var i = 0; i < nbb_cells.length; ++i) {\n",
       "                    if (nbb_cells[i].input_prompt_number == nbb_cell_id) {\n",
       "                        if (nbb_cells[i].get_text() == nbb_unformatted_code) {\n",
       "                             nbb_cells[i].set_text(nbb_formatted_code);\n",
       "                        }\n",
       "                        break;\n",
       "                    }\n",
       "                }\n",
       "            }, 500);\n",
       "            "
      ],
      "text/plain": [
       "<IPython.core.display.Javascript object>"
      ]
     },
     "metadata": {},
     "output_type": "display_data"
    }
   ],
   "source": [
    "significant_columns = [\n",
    "    \"known_col_0\",\n",
    "    \"known_col_1\",\n",
    "    \"known_col_3\",\n",
    "    \"known_col_4\",\n",
    "]"
   ]
  },
  {
   "cell_type": "markdown",
   "metadata": {},
   "source": [
    "The below rows keep only significant columns (or target) in the respective datasets"
   ]
  },
  {
   "cell_type": "code",
   "execution_count": 75,
   "metadata": {},
   "outputs": [
    {
     "data": {
      "application/javascript": [
       "\n",
       "            setTimeout(function() {\n",
       "                var nbb_cell_id = 75;\n",
       "                var nbb_unformatted_code = \"# Primary datasets\\nX_train = X_train[significant_columns]\\nX_test_3 = X_test[significant_columns]\\nr_dev_mod = r_dev_mod[significant_columns]\\nr_test_mod = r_test_mod[significant_columns]\\n# Rejects with labels\\ndfr_dev_with_label.rename(columns={\\\"y\\\": \\\"target\\\"}, inplace=True)\\ndfr_dev_with_label_X = dfr_dev_with_label[significant_columns]\\ndfr_dev_with_label_y = dfr_dev_with_label[[\\\"target\\\"]]\\ndfr_test_with_label.rename(columns={\\\"y\\\": \\\"target\\\"}, inplace=True)\\ndfr_test_with_label_X = dfr_test_with_label[significant_columns]\\ndfr_test_with_label_y = dfr_test_with_label[[\\\"target\\\"]]\";\n",
       "                var nbb_formatted_code = \"# Primary datasets\\nX_train = X_train[significant_columns]\\nX_test_3 = X_test[significant_columns]\\nr_dev_mod = r_dev_mod[significant_columns]\\nr_test_mod = r_test_mod[significant_columns]\\n# Rejects with labels\\ndfr_dev_with_label.rename(columns={\\\"y\\\": \\\"target\\\"}, inplace=True)\\ndfr_dev_with_label_X = dfr_dev_with_label[significant_columns]\\ndfr_dev_with_label_y = dfr_dev_with_label[[\\\"target\\\"]]\\ndfr_test_with_label.rename(columns={\\\"y\\\": \\\"target\\\"}, inplace=True)\\ndfr_test_with_label_X = dfr_test_with_label[significant_columns]\\ndfr_test_with_label_y = dfr_test_with_label[[\\\"target\\\"]]\";\n",
       "                var nbb_cells = Jupyter.notebook.get_cells();\n",
       "                for (var i = 0; i < nbb_cells.length; ++i) {\n",
       "                    if (nbb_cells[i].input_prompt_number == nbb_cell_id) {\n",
       "                        if (nbb_cells[i].get_text() == nbb_unformatted_code) {\n",
       "                             nbb_cells[i].set_text(nbb_formatted_code);\n",
       "                        }\n",
       "                        break;\n",
       "                    }\n",
       "                }\n",
       "            }, 500);\n",
       "            "
      ],
      "text/plain": [
       "<IPython.core.display.Javascript object>"
      ]
     },
     "metadata": {},
     "output_type": "display_data"
    },
    {
     "data": {
      "application/javascript": [
       "\n",
       "            setTimeout(function() {\n",
       "                var nbb_cell_id = 75;\n",
       "                var nbb_unformatted_code = \"# Primary datasets\\nX_train = X_train[significant_columns]\\nX_test_3 = X_test[significant_columns]\\nr_dev_mod = r_dev_mod[significant_columns]\\nr_test_mod = r_test_mod[significant_columns]\\n# Rejects with labels\\ndfr_dev_with_label.rename(columns={\\\"y\\\": \\\"target\\\"}, inplace=True)\\ndfr_dev_with_label_X = dfr_dev_with_label[significant_columns]\\ndfr_dev_with_label_y = dfr_dev_with_label[[\\\"target\\\"]]\\ndfr_test_with_label.rename(columns={\\\"y\\\": \\\"target\\\"}, inplace=True)\\ndfr_test_with_label_X = dfr_test_with_label[significant_columns]\\ndfr_test_with_label_y = dfr_test_with_label[[\\\"target\\\"]]\";\n",
       "                var nbb_formatted_code = \"# Primary datasets\\nX_train = X_train[significant_columns]\\nX_test_3 = X_test[significant_columns]\\nr_dev_mod = r_dev_mod[significant_columns]\\nr_test_mod = r_test_mod[significant_columns]\\n# Rejects with labels\\ndfr_dev_with_label.rename(columns={\\\"y\\\": \\\"target\\\"}, inplace=True)\\ndfr_dev_with_label_X = dfr_dev_with_label[significant_columns]\\ndfr_dev_with_label_y = dfr_dev_with_label[[\\\"target\\\"]]\\ndfr_test_with_label.rename(columns={\\\"y\\\": \\\"target\\\"}, inplace=True)\\ndfr_test_with_label_X = dfr_test_with_label[significant_columns]\\ndfr_test_with_label_y = dfr_test_with_label[[\\\"target\\\"]]\";\n",
       "                var nbb_cells = Jupyter.notebook.get_cells();\n",
       "                for (var i = 0; i < nbb_cells.length; ++i) {\n",
       "                    if (nbb_cells[i].input_prompt_number == nbb_cell_id) {\n",
       "                        if (nbb_cells[i].get_text() == nbb_unformatted_code) {\n",
       "                             nbb_cells[i].set_text(nbb_formatted_code);\n",
       "                        }\n",
       "                        break;\n",
       "                    }\n",
       "                }\n",
       "            }, 500);\n",
       "            "
      ],
      "text/plain": [
       "<IPython.core.display.Javascript object>"
      ]
     },
     "metadata": {},
     "output_type": "display_data"
    }
   ],
   "source": [
    "# Primary datasets\n",
    "X_train = X_train[significant_columns]\n",
    "X_test_3 = X_test[significant_columns]\n",
    "r_dev_mod = r_dev_mod[significant_columns]\n",
    "r_test_mod = r_test_mod[significant_columns]\n",
    "# Rejects with labels\n",
    "dfr_dev_with_label.rename(columns={\"y\": \"target\"}, inplace=True)\n",
    "dfr_dev_with_label_X = dfr_dev_with_label[significant_columns]\n",
    "dfr_dev_with_label_y = dfr_dev_with_label[[\"target\"]]\n",
    "dfr_test_with_label.rename(columns={\"y\": \"target\"}, inplace=True)\n",
    "dfr_test_with_label_X = dfr_test_with_label[significant_columns]\n",
    "dfr_test_with_label_y = dfr_test_with_label[[\"target\"]]"
   ]
  },
  {
   "cell_type": "markdown",
   "metadata": {},
   "source": [
    "## Data Modelling"
   ]
  },
  {
   "cell_type": "markdown",
   "metadata": {},
   "source": [
    "### Base Model"
   ]
  },
  {
   "cell_type": "markdown",
   "metadata": {},
   "source": [
    "We build the same regression twice with different libraries. statmodels is used to show easier the p-values."
   ]
  },
  {
   "cell_type": "code",
   "execution_count": 76,
   "metadata": {
    "scrolled": false
   },
   "outputs": [
    {
     "name": "stdout",
     "output_type": "stream",
     "text": [
      "Optimization terminated successfully.\n",
      "         Current function value: 0.116354\n",
      "         Iterations 10\n",
      "                          Results: Logit\n",
      "==================================================================\n",
      "Model:              Logit            Pseudo R-squared: 0.823      \n",
      "Dependent Variable: target           AIC:              270.6336   \n",
      "Date:               2021-05-18 09:14 BIC:              295.7390   \n",
      "No. Observations:   1120             Log-Likelihood:   -130.32    \n",
      "Df Model:           4                LL-Null:          -735.65    \n",
      "Df Residuals:       1115             LLR p-value:      7.7481e-261\n",
      "Converged:          1.0000           Scale:            1.0000     \n",
      "No. Iterations:     10.0000                                       \n",
      "-------------------------------------------------------------------\n",
      "                Coef.   Std.Err.     z     P>|z|    [0.025   0.975]\n",
      "-------------------------------------------------------------------\n",
      "const          -2.1415    0.2496  -8.5785  0.0000  -2.6308  -1.6522\n",
      "known_col_0    -1.7719    0.2048  -8.6532  0.0000  -2.1732  -1.3705\n",
      "known_col_1     8.1627    0.7001  11.6592  0.0000   6.7905   9.5349\n",
      "known_col_3    -2.8598    0.3000  -9.5323  0.0000  -3.4479  -2.2718\n",
      "known_col_4     2.9058    0.3338   8.7057  0.0000   2.2516   3.5600\n",
      "==================================================================\n",
      "\n"
     ]
    },
    {
     "data": {
      "application/javascript": [
       "\n",
       "            setTimeout(function() {\n",
       "                var nbb_cell_id = 76;\n",
       "                var nbb_unformatted_code = \"# Build Logistic regression\\n# Statmodels\\nX_in = sm.add_constant(X_train.astype(float))\\nlogit_model = sm.Logit(y_train, X_in)\\nresult3 = logit_model.fit()\\nprint(result3.summary2())\";\n",
       "                var nbb_formatted_code = \"# Build Logistic regression\\n# Statmodels\\nX_in = sm.add_constant(X_train.astype(float))\\nlogit_model = sm.Logit(y_train, X_in)\\nresult3 = logit_model.fit()\\nprint(result3.summary2())\";\n",
       "                var nbb_cells = Jupyter.notebook.get_cells();\n",
       "                for (var i = 0; i < nbb_cells.length; ++i) {\n",
       "                    if (nbb_cells[i].input_prompt_number == nbb_cell_id) {\n",
       "                        if (nbb_cells[i].get_text() == nbb_unformatted_code) {\n",
       "                             nbb_cells[i].set_text(nbb_formatted_code);\n",
       "                        }\n",
       "                        break;\n",
       "                    }\n",
       "                }\n",
       "            }, 500);\n",
       "            "
      ],
      "text/plain": [
       "<IPython.core.display.Javascript object>"
      ]
     },
     "metadata": {},
     "output_type": "display_data"
    },
    {
     "data": {
      "application/javascript": [
       "\n",
       "            setTimeout(function() {\n",
       "                var nbb_cell_id = 76;\n",
       "                var nbb_unformatted_code = \"# Build Logistic regression\\n# Statmodels\\nX_in = sm.add_constant(X_train.astype(float))\\nlogit_model = sm.Logit(y_train, X_in)\\nresult3 = logit_model.fit()\\nprint(result3.summary2())\";\n",
       "                var nbb_formatted_code = \"# Build Logistic regression\\n# Statmodels\\nX_in = sm.add_constant(X_train.astype(float))\\nlogit_model = sm.Logit(y_train, X_in)\\nresult3 = logit_model.fit()\\nprint(result3.summary2())\";\n",
       "                var nbb_cells = Jupyter.notebook.get_cells();\n",
       "                for (var i = 0; i < nbb_cells.length; ++i) {\n",
       "                    if (nbb_cells[i].input_prompt_number == nbb_cell_id) {\n",
       "                        if (nbb_cells[i].get_text() == nbb_unformatted_code) {\n",
       "                             nbb_cells[i].set_text(nbb_formatted_code);\n",
       "                        }\n",
       "                        break;\n",
       "                    }\n",
       "                }\n",
       "            }, 500);\n",
       "            "
      ],
      "text/plain": [
       "<IPython.core.display.Javascript object>"
      ]
     },
     "metadata": {},
     "output_type": "display_data"
    }
   ],
   "source": [
    "# Build Logistic regression\n",
    "# Statmodels\n",
    "X_in = sm.add_constant(X_train.astype(float))\n",
    "logit_model = sm.Logit(y_train, X_in)\n",
    "result3 = logit_model.fit()\n",
    "print(result3.summary2())"
   ]
  },
  {
   "cell_type": "code",
   "execution_count": 77,
   "metadata": {},
   "outputs": [
    {
     "data": {
      "application/javascript": [
       "\n",
       "            setTimeout(function() {\n",
       "                var nbb_cell_id = 77;\n",
       "                var nbb_unformatted_code = \"def log_reg(X_train, y_train, X_test):\\n    # logreg = LogisticRegression(fit_intercept=False, penalty=\\\"none\\\")\\n    # logreg = RandomForestClassifier()\\n    logreg = LGBMClassifier()\\n    logreg.fit(X_train, y_train.values.ravel())\\n    y_pred = logreg.predict(X_test)\\n    return logreg, y_pred\";\n",
       "                var nbb_formatted_code = \"def log_reg(X_train, y_train, X_test):\\n    # logreg = LogisticRegression(fit_intercept=False, penalty=\\\"none\\\")\\n    # logreg = RandomForestClassifier()\\n    logreg = LGBMClassifier()\\n    logreg.fit(X_train, y_train.values.ravel())\\n    y_pred = logreg.predict(X_test)\\n    return logreg, y_pred\";\n",
       "                var nbb_cells = Jupyter.notebook.get_cells();\n",
       "                for (var i = 0; i < nbb_cells.length; ++i) {\n",
       "                    if (nbb_cells[i].input_prompt_number == nbb_cell_id) {\n",
       "                        if (nbb_cells[i].get_text() == nbb_unformatted_code) {\n",
       "                             nbb_cells[i].set_text(nbb_formatted_code);\n",
       "                        }\n",
       "                        break;\n",
       "                    }\n",
       "                }\n",
       "            }, 500);\n",
       "            "
      ],
      "text/plain": [
       "<IPython.core.display.Javascript object>"
      ]
     },
     "metadata": {},
     "output_type": "display_data"
    },
    {
     "data": {
      "application/javascript": [
       "\n",
       "            setTimeout(function() {\n",
       "                var nbb_cell_id = 77;\n",
       "                var nbb_unformatted_code = \"def log_reg(X_train, y_train, X_test):\\n    # logreg = LogisticRegression(fit_intercept=False, penalty=\\\"none\\\")\\n    # logreg = RandomForestClassifier()\\n    logreg = LGBMClassifier()\\n    logreg.fit(X_train, y_train.values.ravel())\\n    y_pred = logreg.predict(X_test)\\n    return logreg, y_pred\";\n",
       "                var nbb_formatted_code = \"def log_reg(X_train, y_train, X_test):\\n    # logreg = LogisticRegression(fit_intercept=False, penalty=\\\"none\\\")\\n    # logreg = RandomForestClassifier()\\n    logreg = LGBMClassifier()\\n    logreg.fit(X_train, y_train.values.ravel())\\n    y_pred = logreg.predict(X_test)\\n    return logreg, y_pred\";\n",
       "                var nbb_cells = Jupyter.notebook.get_cells();\n",
       "                for (var i = 0; i < nbb_cells.length; ++i) {\n",
       "                    if (nbb_cells[i].input_prompt_number == nbb_cell_id) {\n",
       "                        if (nbb_cells[i].get_text() == nbb_unformatted_code) {\n",
       "                             nbb_cells[i].set_text(nbb_formatted_code);\n",
       "                        }\n",
       "                        break;\n",
       "                    }\n",
       "                }\n",
       "            }, 500);\n",
       "            "
      ],
      "text/plain": [
       "<IPython.core.display.Javascript object>"
      ]
     },
     "metadata": {},
     "output_type": "display_data"
    }
   ],
   "source": [
    "def log_reg(X_train, y_train, X_test):\n",
    "    # logreg = LogisticRegression(fit_intercept=False, penalty=\"none\")\n",
    "    # logreg = RandomForestClassifier()\n",
    "    logreg = LGBMClassifier()\n",
    "    logreg.fit(X_train, y_train.values.ravel())\n",
    "    y_pred = logreg.predict(X_test)\n",
    "    return logreg, y_pred"
   ]
  },
  {
   "cell_type": "code",
   "execution_count": 78,
   "metadata": {},
   "outputs": [
    {
     "data": {
      "application/javascript": [
       "\n",
       "            setTimeout(function() {\n",
       "                var nbb_cell_id = 78;\n",
       "                var nbb_unformatted_code = \"logreg, y_pred = log_reg(X_train, y_train, X_test_3)\";\n",
       "                var nbb_formatted_code = \"logreg, y_pred = log_reg(X_train, y_train, X_test_3)\";\n",
       "                var nbb_cells = Jupyter.notebook.get_cells();\n",
       "                for (var i = 0; i < nbb_cells.length; ++i) {\n",
       "                    if (nbb_cells[i].input_prompt_number == nbb_cell_id) {\n",
       "                        if (nbb_cells[i].get_text() == nbb_unformatted_code) {\n",
       "                             nbb_cells[i].set_text(nbb_formatted_code);\n",
       "                        }\n",
       "                        break;\n",
       "                    }\n",
       "                }\n",
       "            }, 500);\n",
       "            "
      ],
      "text/plain": [
       "<IPython.core.display.Javascript object>"
      ]
     },
     "metadata": {},
     "output_type": "display_data"
    },
    {
     "data": {
      "application/javascript": [
       "\n",
       "            setTimeout(function() {\n",
       "                var nbb_cell_id = 78;\n",
       "                var nbb_unformatted_code = \"logreg, y_pred = log_reg(X_train, y_train, X_test_3)\";\n",
       "                var nbb_formatted_code = \"logreg, y_pred = log_reg(X_train, y_train, X_test_3)\";\n",
       "                var nbb_cells = Jupyter.notebook.get_cells();\n",
       "                for (var i = 0; i < nbb_cells.length; ++i) {\n",
       "                    if (nbb_cells[i].input_prompt_number == nbb_cell_id) {\n",
       "                        if (nbb_cells[i].get_text() == nbb_unformatted_code) {\n",
       "                             nbb_cells[i].set_text(nbb_formatted_code);\n",
       "                        }\n",
       "                        break;\n",
       "                    }\n",
       "                }\n",
       "            }, 500);\n",
       "            "
      ],
      "text/plain": [
       "<IPython.core.display.Javascript object>"
      ]
     },
     "metadata": {},
     "output_type": "display_data"
    }
   ],
   "source": [
    "logreg, y_pred = log_reg(X_train, y_train, X_test_3)"
   ]
  },
  {
   "cell_type": "code",
   "execution_count": 79,
   "metadata": {},
   "outputs": [
    {
     "name": "stdout",
     "output_type": "stream",
     "text": [
      "Accuracy score Logistic Regression: 0.9246428571428571\n"
     ]
    },
    {
     "data": {
      "image/png": "[encoded data removed]",
      "text/plain": [
       "<Figure size 432x288 with 1 Axes>"
      ]
     },
     "metadata": {
      "needs_background": "light"
     },
     "output_type": "display_data"
    },
    {
     "data": {
      "application/javascript": [
       "\n",
       "            setTimeout(function() {\n",
       "                var nbb_cell_id = 79;\n",
       "                var nbb_unformatted_code = \"# Plot\\nprint(\\\"Accuracy score Logistic Regression:\\\", logreg.score(X_test_3, y_test))\\nlogit_roc_auc = roc_auc_score(y_test, logreg.predict(X_test_3))\\nfpr, tpr, thresholds = roc_curve(y_test, logreg.predict_proba(X_test_3)[:, 1])\\nplt.figure()\\nplt.plot(fpr, tpr, label=\\\"Logistic Regression (area = %0.2f)\\\" % logit_roc_auc)\\nplt.plot([0, 1], [0, 1], \\\"r--\\\")\\nplt.xlim([0.0, 1.0])\\nplt.ylim([0.0, 1.05])\\nplt.xlabel(\\\"False Positive Rate\\\")\\nplt.ylabel(\\\"True Positive Rate\\\")\\nplt.title(\\\"Receiver operating characteristic\\\")\\nplt.legend(loc=\\\"lower right\\\")\\nplt.savefig(\\\"Log_ROC\\\")\\nplt.show()\";\n",
       "                var nbb_formatted_code = \"# Plot\\nprint(\\\"Accuracy score Logistic Regression:\\\", logreg.score(X_test_3, y_test))\\nlogit_roc_auc = roc_auc_score(y_test, logreg.predict(X_test_3))\\nfpr, tpr, thresholds = roc_curve(y_test, logreg.predict_proba(X_test_3)[:, 1])\\nplt.figure()\\nplt.plot(fpr, tpr, label=\\\"Logistic Regression (area = %0.2f)\\\" % logit_roc_auc)\\nplt.plot([0, 1], [0, 1], \\\"r--\\\")\\nplt.xlim([0.0, 1.0])\\nplt.ylim([0.0, 1.05])\\nplt.xlabel(\\\"False Positive Rate\\\")\\nplt.ylabel(\\\"True Positive Rate\\\")\\nplt.title(\\\"Receiver operating characteristic\\\")\\nplt.legend(loc=\\\"lower right\\\")\\nplt.savefig(\\\"Log_ROC\\\")\\nplt.show()\";\n",
       "                var nbb_cells = Jupyter.notebook.get_cells();\n",
       "                for (var i = 0; i < nbb_cells.length; ++i) {\n",
       "                    if (nbb_cells[i].input_prompt_number == nbb_cell_id) {\n",
       "                        if (nbb_cells[i].get_text() == nbb_unformatted_code) {\n",
       "                             nbb_cells[i].set_text(nbb_formatted_code);\n",
       "                        }\n",
       "                        break;\n",
       "                    }\n",
       "                }\n",
       "            }, 500);\n",
       "            "
      ],
      "text/plain": [
       "<IPython.core.display.Javascript object>"
      ]
     },
     "metadata": {},
     "output_type": "display_data"
    },
    {
     "data": {
      "application/javascript": [
       "\n",
       "            setTimeout(function() {\n",
       "                var nbb_cell_id = 79;\n",
       "                var nbb_unformatted_code = \"# Plot\\nprint(\\\"Accuracy score Logistic Regression:\\\", logreg.score(X_test_3, y_test))\\nlogit_roc_auc = roc_auc_score(y_test, logreg.predict(X_test_3))\\nfpr, tpr, thresholds = roc_curve(y_test, logreg.predict_proba(X_test_3)[:, 1])\\nplt.figure()\\nplt.plot(fpr, tpr, label=\\\"Logistic Regression (area = %0.2f)\\\" % logit_roc_auc)\\nplt.plot([0, 1], [0, 1], \\\"r--\\\")\\nplt.xlim([0.0, 1.0])\\nplt.ylim([0.0, 1.05])\\nplt.xlabel(\\\"False Positive Rate\\\")\\nplt.ylabel(\\\"True Positive Rate\\\")\\nplt.title(\\\"Receiver operating characteristic\\\")\\nplt.legend(loc=\\\"lower right\\\")\\nplt.savefig(\\\"Log_ROC\\\")\\nplt.show()\";\n",
       "                var nbb_formatted_code = \"# Plot\\nprint(\\\"Accuracy score Logistic Regression:\\\", logreg.score(X_test_3, y_test))\\nlogit_roc_auc = roc_auc_score(y_test, logreg.predict(X_test_3))\\nfpr, tpr, thresholds = roc_curve(y_test, logreg.predict_proba(X_test_3)[:, 1])\\nplt.figure()\\nplt.plot(fpr, tpr, label=\\\"Logistic Regression (area = %0.2f)\\\" % logit_roc_auc)\\nplt.plot([0, 1], [0, 1], \\\"r--\\\")\\nplt.xlim([0.0, 1.0])\\nplt.ylim([0.0, 1.05])\\nplt.xlabel(\\\"False Positive Rate\\\")\\nplt.ylabel(\\\"True Positive Rate\\\")\\nplt.title(\\\"Receiver operating characteristic\\\")\\nplt.legend(loc=\\\"lower right\\\")\\nplt.savefig(\\\"Log_ROC\\\")\\nplt.show()\";\n",
       "                var nbb_cells = Jupyter.notebook.get_cells();\n",
       "                for (var i = 0; i < nbb_cells.length; ++i) {\n",
       "                    if (nbb_cells[i].input_prompt_number == nbb_cell_id) {\n",
       "                        if (nbb_cells[i].get_text() == nbb_unformatted_code) {\n",
       "                             nbb_cells[i].set_text(nbb_formatted_code);\n",
       "                        }\n",
       "                        break;\n",
       "                    }\n",
       "                }\n",
       "            }, 500);\n",
       "            "
      ],
      "text/plain": [
       "<IPython.core.display.Javascript object>"
      ]
     },
     "metadata": {},
     "output_type": "display_data"
    }
   ],
   "source": [
    "# Plot\n",
    "print(\"Accuracy score Logistic Regression:\", logreg.score(X_test_3, y_test))\n",
    "logit_roc_auc = roc_auc_score(y_test, logreg.predict(X_test_3))\n",
    "fpr, tpr, thresholds = roc_curve(y_test, logreg.predict_proba(X_test_3)[:, 1])\n",
    "plt.figure()\n",
    "plt.plot(fpr, tpr, label=\"Logistic Regression (area = %0.2f)\" % logit_roc_auc)\n",
    "plt.plot([0, 1], [0, 1], \"r--\")\n",
    "plt.xlim([0.0, 1.0])\n",
    "plt.ylim([0.0, 1.05])\n",
    "plt.xlabel(\"False Positive Rate\")\n",
    "plt.ylabel(\"True Positive Rate\")\n",
    "plt.title(\"Receiver operating characteristic\")\n",
    "plt.legend(loc=\"lower right\")\n",
    "plt.savefig(\"Log_ROC\")\n",
    "plt.show()"
   ]
  },
  {
   "cell_type": "markdown",
   "metadata": {},
   "source": [
    "The default rate and conservative default rate are used for future cut-off calculation."
   ]
  },
  {
   "cell_type": "code",
   "execution_count": 80,
   "metadata": {},
   "outputs": [
    {
     "data": {
      "application/javascript": [
       "\n",
       "            setTimeout(function() {\n",
       "                var nbb_cell_id = 80;\n",
       "                var nbb_unformatted_code = \"dr = len(y_test[y_test[\\\"target\\\"] == 1]) / (\\n    len(y_test[y_test[\\\"target\\\"] == 1]) + len(y_test[y_test[\\\"target\\\"] == 0])\\n)\\nconservative_dr = (\\n    1.1\\n    * len(y_test[y_test[\\\"target\\\"] == 1])\\n    / (len(y_test[y_test[\\\"target\\\"] == 1]) + len(y_test[y_test[\\\"target\\\"] == 0]))\\n)\";\n",
       "                var nbb_formatted_code = \"dr = len(y_test[y_test[\\\"target\\\"] == 1]) / (\\n    len(y_test[y_test[\\\"target\\\"] == 1]) + len(y_test[y_test[\\\"target\\\"] == 0])\\n)\\nconservative_dr = (\\n    1.1\\n    * len(y_test[y_test[\\\"target\\\"] == 1])\\n    / (len(y_test[y_test[\\\"target\\\"] == 1]) + len(y_test[y_test[\\\"target\\\"] == 0]))\\n)\";\n",
       "                var nbb_cells = Jupyter.notebook.get_cells();\n",
       "                for (var i = 0; i < nbb_cells.length; ++i) {\n",
       "                    if (nbb_cells[i].input_prompt_number == nbb_cell_id) {\n",
       "                        if (nbb_cells[i].get_text() == nbb_unformatted_code) {\n",
       "                             nbb_cells[i].set_text(nbb_formatted_code);\n",
       "                        }\n",
       "                        break;\n",
       "                    }\n",
       "                }\n",
       "            }, 500);\n",
       "            "
      ],
      "text/plain": [
       "<IPython.core.display.Javascript object>"
      ]
     },
     "metadata": {},
     "output_type": "display_data"
    },
    {
     "data": {
      "application/javascript": [
       "\n",
       "            setTimeout(function() {\n",
       "                var nbb_cell_id = 80;\n",
       "                var nbb_unformatted_code = \"dr = len(y_test[y_test[\\\"target\\\"] == 1]) / (\\n    len(y_test[y_test[\\\"target\\\"] == 1]) + len(y_test[y_test[\\\"target\\\"] == 0])\\n)\\nconservative_dr = (\\n    1.1\\n    * len(y_test[y_test[\\\"target\\\"] == 1])\\n    / (len(y_test[y_test[\\\"target\\\"] == 1]) + len(y_test[y_test[\\\"target\\\"] == 0]))\\n)\";\n",
       "                var nbb_formatted_code = \"dr = len(y_test[y_test[\\\"target\\\"] == 1]) / (\\n    len(y_test[y_test[\\\"target\\\"] == 1]) + len(y_test[y_test[\\\"target\\\"] == 0])\\n)\\nconservative_dr = (\\n    1.1\\n    * len(y_test[y_test[\\\"target\\\"] == 1])\\n    / (len(y_test[y_test[\\\"target\\\"] == 1]) + len(y_test[y_test[\\\"target\\\"] == 0]))\\n)\";\n",
       "                var nbb_cells = Jupyter.notebook.get_cells();\n",
       "                for (var i = 0; i < nbb_cells.length; ++i) {\n",
       "                    if (nbb_cells[i].input_prompt_number == nbb_cell_id) {\n",
       "                        if (nbb_cells[i].get_text() == nbb_unformatted_code) {\n",
       "                             nbb_cells[i].set_text(nbb_formatted_code);\n",
       "                        }\n",
       "                        break;\n",
       "                    }\n",
       "                }\n",
       "            }, 500);\n",
       "            "
      ],
      "text/plain": [
       "<IPython.core.display.Javascript object>"
      ]
     },
     "metadata": {},
     "output_type": "display_data"
    }
   ],
   "source": [
    "dr = len(y_test[y_test[\"target\"] == 1]) / (\n",
    "    len(y_test[y_test[\"target\"] == 1]) + len(y_test[y_test[\"target\"] == 0])\n",
    ")\n",
    "conservative_dr = (\n",
    "    1.1\n",
    "    * len(y_test[y_test[\"target\"] == 1])\n",
    "    / (len(y_test[y_test[\"target\"] == 1]) + len(y_test[y_test[\"target\"] == 0]))\n",
    ")"
   ]
  },
  {
   "cell_type": "markdown",
   "metadata": {},
   "source": [
    "### Isolation Forest"
   ]
  },
  {
   "cell_type": "markdown",
   "metadata": {},
   "source": [
    "For rejects, another step of data preporcessing is applied via Isolation Forest model. The goal is to remove outliers. The isolation forest is trained on all accepts and is used to evaluate the similarity of the rejects. Then the rejects that are found to be the most and least similar to the accepts are dropped. The contaimination parameter determines how many observations are excluded."
   ]
  },
  {
   "cell_type": "code",
   "execution_count": 81,
   "metadata": {},
   "outputs": [
    {
     "data": {
      "application/javascript": [
       "\n",
       "            setTimeout(function() {\n",
       "                var nbb_cell_id = 81;\n",
       "                var nbb_unformatted_code = \"def isolation_forest(X_train, r_dev_mod, r_test_mod):\\n    \\\"\\\"\\\"\\n    The goal of this function is to filter the outliers from the rejected sample.\\n\\n    Parameters\\n    ----------\\n    X_train: accepts training data; Dataframe\\n    r_dev_mod: rejects modelling data prior outlier treatment; Dataframe\\n    r_test_mod: rejects testinf data prior outlier treatment; Dataframe\\n\\n    Return\\n    ------\\n    r_dev_mod: rejects modelling data post outlier treatment; Dataframe\\n    r_test_mod: rejects training data prior outlier treatment; Dataframe\\n\\n    \\\"\\\"\\\"\\n\\n    # Build Isolation forest model\\n    isf = IsolationForest(\\n        n_estimators=50, max_samples=\\\"auto\\\", contamination=float(0.02), max_features=1.0\\n    )\\n    isf.fit(X_train)\\n    rej_isf = isf.predict(r_dev_mod)\\n    # Add scores and anomaly columns to rejected train\\n    r_dev_mod[\\\"scores\\\"] = isf.decision_function(r_dev_mod)\\n    r_dev_mod[\\\"anomaly\\\"] = isf.predict(\\n        r_dev_mod[[\\\"known_col_0\\\", \\\"known_col_1\\\", \\\"known_col_3\\\", \\\"known_col_4\\\"]]\\n    )\\n    # Print number of non-outliers and outliers\\n    print(\\n        \\\"Rejected Train. Number of non-outliers is:\\\", np.sum(r_dev_mod[\\\"anomaly\\\"] == 1)\\n    )\\n    print(\\\"Rejected Train. Number of outliers is:\\\", np.sum(r_dev_mod[\\\"anomaly\\\"] == -1))\\n    # Drop all outliers\\n    r_dev_mod = r_dev_mod[r_dev_mod.anomaly != -1]\\n    # Delete columns related to the outliers\\n    r_dev_mod = r_dev_mod[[\\\"known_col_0\\\", \\\"known_col_1\\\", \\\"known_col_3\\\", \\\"known_col_4\\\"]]\\n\\n    # Add scores and anomaly columns to rejected test\\n    r_test_mod[\\\"scores\\\"] = isf.decision_function(r_test_mod)\\n    r_test_mod[\\\"anomaly\\\"] = isf.predict(\\n        r_test_mod[[\\\"known_col_0\\\", \\\"known_col_1\\\", \\\"known_col_3\\\", \\\"known_col_4\\\"]]\\n    )\\n    # Print number of non-outliers and outliers\\n    print(\\n        \\\"Rejected Test. Number of non-outliers is:\\\", np.sum(r_test_mod[\\\"anomaly\\\"] == 1)\\n    )\\n    print(\\\"Rejected Test. Number of outliers is:\\\", np.sum(r_test_mod[\\\"anomaly\\\"] == -1))\\n    # Drop all outliers\\n    r_test_mod = r_test_mod[r_test_mod.anomaly != -1]\\n    # Delete columns related to the outliers\\n    r_test_mod = r_test_mod[\\n        [\\\"known_col_0\\\", \\\"known_col_1\\\", \\\"known_col_3\\\", \\\"known_col_4\\\"]\\n    ]\\n\\n    return r_dev_mod, r_test_mod\";\n",
       "                var nbb_formatted_code = \"def isolation_forest(X_train, r_dev_mod, r_test_mod):\\n    \\\"\\\"\\\"\\n    The goal of this function is to filter the outliers from the rejected sample.\\n\\n    Parameters\\n    ----------\\n    X_train: accepts training data; Dataframe\\n    r_dev_mod: rejects modelling data prior outlier treatment; Dataframe\\n    r_test_mod: rejects testinf data prior outlier treatment; Dataframe\\n\\n    Return\\n    ------\\n    r_dev_mod: rejects modelling data post outlier treatment; Dataframe\\n    r_test_mod: rejects training data prior outlier treatment; Dataframe\\n\\n    \\\"\\\"\\\"\\n\\n    # Build Isolation forest model\\n    isf = IsolationForest(\\n        n_estimators=50, max_samples=\\\"auto\\\", contamination=float(0.02), max_features=1.0\\n    )\\n    isf.fit(X_train)\\n    rej_isf = isf.predict(r_dev_mod)\\n    # Add scores and anomaly columns to rejected train\\n    r_dev_mod[\\\"scores\\\"] = isf.decision_function(r_dev_mod)\\n    r_dev_mod[\\\"anomaly\\\"] = isf.predict(\\n        r_dev_mod[[\\\"known_col_0\\\", \\\"known_col_1\\\", \\\"known_col_3\\\", \\\"known_col_4\\\"]]\\n    )\\n    # Print number of non-outliers and outliers\\n    print(\\n        \\\"Rejected Train. Number of non-outliers is:\\\", np.sum(r_dev_mod[\\\"anomaly\\\"] == 1)\\n    )\\n    print(\\\"Rejected Train. Number of outliers is:\\\", np.sum(r_dev_mod[\\\"anomaly\\\"] == -1))\\n    # Drop all outliers\\n    r_dev_mod = r_dev_mod[r_dev_mod.anomaly != -1]\\n    # Delete columns related to the outliers\\n    r_dev_mod = r_dev_mod[[\\\"known_col_0\\\", \\\"known_col_1\\\", \\\"known_col_3\\\", \\\"known_col_4\\\"]]\\n\\n    # Add scores and anomaly columns to rejected test\\n    r_test_mod[\\\"scores\\\"] = isf.decision_function(r_test_mod)\\n    r_test_mod[\\\"anomaly\\\"] = isf.predict(\\n        r_test_mod[[\\\"known_col_0\\\", \\\"known_col_1\\\", \\\"known_col_3\\\", \\\"known_col_4\\\"]]\\n    )\\n    # Print number of non-outliers and outliers\\n    print(\\n        \\\"Rejected Test. Number of non-outliers is:\\\", np.sum(r_test_mod[\\\"anomaly\\\"] == 1)\\n    )\\n    print(\\\"Rejected Test. Number of outliers is:\\\", np.sum(r_test_mod[\\\"anomaly\\\"] == -1))\\n    # Drop all outliers\\n    r_test_mod = r_test_mod[r_test_mod.anomaly != -1]\\n    # Delete columns related to the outliers\\n    r_test_mod = r_test_mod[\\n        [\\\"known_col_0\\\", \\\"known_col_1\\\", \\\"known_col_3\\\", \\\"known_col_4\\\"]\\n    ]\\n\\n    return r_dev_mod, r_test_mod\";\n",
       "                var nbb_cells = Jupyter.notebook.get_cells();\n",
       "                for (var i = 0; i < nbb_cells.length; ++i) {\n",
       "                    if (nbb_cells[i].input_prompt_number == nbb_cell_id) {\n",
       "                        if (nbb_cells[i].get_text() == nbb_unformatted_code) {\n",
       "                             nbb_cells[i].set_text(nbb_formatted_code);\n",
       "                        }\n",
       "                        break;\n",
       "                    }\n",
       "                }\n",
       "            }, 500);\n",
       "            "
      ],
      "text/plain": [
       "<IPython.core.display.Javascript object>"
      ]
     },
     "metadata": {},
     "output_type": "display_data"
    },
    {
     "data": {
      "application/javascript": [
       "\n",
       "            setTimeout(function() {\n",
       "                var nbb_cell_id = 81;\n",
       "                var nbb_unformatted_code = \"def isolation_forest(X_train, r_dev_mod, r_test_mod):\\n    \\\"\\\"\\\"\\n    The goal of this function is to filter the outliers from the rejected sample.\\n\\n    Parameters\\n    ----------\\n    X_train: accepts training data; Dataframe\\n    r_dev_mod: rejects modelling data prior outlier treatment; Dataframe\\n    r_test_mod: rejects testinf data prior outlier treatment; Dataframe\\n\\n    Return\\n    ------\\n    r_dev_mod: rejects modelling data post outlier treatment; Dataframe\\n    r_test_mod: rejects training data prior outlier treatment; Dataframe\\n\\n    \\\"\\\"\\\"\\n\\n    # Build Isolation forest model\\n    isf = IsolationForest(\\n        n_estimators=50, max_samples=\\\"auto\\\", contamination=float(0.02), max_features=1.0\\n    )\\n    isf.fit(X_train)\\n    rej_isf = isf.predict(r_dev_mod)\\n    # Add scores and anomaly columns to rejected train\\n    r_dev_mod[\\\"scores\\\"] = isf.decision_function(r_dev_mod)\\n    r_dev_mod[\\\"anomaly\\\"] = isf.predict(\\n        r_dev_mod[[\\\"known_col_0\\\", \\\"known_col_1\\\", \\\"known_col_3\\\", \\\"known_col_4\\\"]]\\n    )\\n    # Print number of non-outliers and outliers\\n    print(\\n        \\\"Rejected Train. Number of non-outliers is:\\\", np.sum(r_dev_mod[\\\"anomaly\\\"] == 1)\\n    )\\n    print(\\\"Rejected Train. Number of outliers is:\\\", np.sum(r_dev_mod[\\\"anomaly\\\"] == -1))\\n    # Drop all outliers\\n    r_dev_mod = r_dev_mod[r_dev_mod.anomaly != -1]\\n    # Delete columns related to the outliers\\n    r_dev_mod = r_dev_mod[[\\\"known_col_0\\\", \\\"known_col_1\\\", \\\"known_col_3\\\", \\\"known_col_4\\\"]]\\n\\n    # Add scores and anomaly columns to rejected test\\n    r_test_mod[\\\"scores\\\"] = isf.decision_function(r_test_mod)\\n    r_test_mod[\\\"anomaly\\\"] = isf.predict(\\n        r_test_mod[[\\\"known_col_0\\\", \\\"known_col_1\\\", \\\"known_col_3\\\", \\\"known_col_4\\\"]]\\n    )\\n    # Print number of non-outliers and outliers\\n    print(\\n        \\\"Rejected Test. Number of non-outliers is:\\\", np.sum(r_test_mod[\\\"anomaly\\\"] == 1)\\n    )\\n    print(\\\"Rejected Test. Number of outliers is:\\\", np.sum(r_test_mod[\\\"anomaly\\\"] == -1))\\n    # Drop all outliers\\n    r_test_mod = r_test_mod[r_test_mod.anomaly != -1]\\n    # Delete columns related to the outliers\\n    r_test_mod = r_test_mod[\\n        [\\\"known_col_0\\\", \\\"known_col_1\\\", \\\"known_col_3\\\", \\\"known_col_4\\\"]\\n    ]\\n\\n    return r_dev_mod, r_test_mod\";\n",
       "                var nbb_formatted_code = \"def isolation_forest(X_train, r_dev_mod, r_test_mod):\\n    \\\"\\\"\\\"\\n    The goal of this function is to filter the outliers from the rejected sample.\\n\\n    Parameters\\n    ----------\\n    X_train: accepts training data; Dataframe\\n    r_dev_mod: rejects modelling data prior outlier treatment; Dataframe\\n    r_test_mod: rejects testinf data prior outlier treatment; Dataframe\\n\\n    Return\\n    ------\\n    r_dev_mod: rejects modelling data post outlier treatment; Dataframe\\n    r_test_mod: rejects training data prior outlier treatment; Dataframe\\n\\n    \\\"\\\"\\\"\\n\\n    # Build Isolation forest model\\n    isf = IsolationForest(\\n        n_estimators=50, max_samples=\\\"auto\\\", contamination=float(0.02), max_features=1.0\\n    )\\n    isf.fit(X_train)\\n    rej_isf = isf.predict(r_dev_mod)\\n    # Add scores and anomaly columns to rejected train\\n    r_dev_mod[\\\"scores\\\"] = isf.decision_function(r_dev_mod)\\n    r_dev_mod[\\\"anomaly\\\"] = isf.predict(\\n        r_dev_mod[[\\\"known_col_0\\\", \\\"known_col_1\\\", \\\"known_col_3\\\", \\\"known_col_4\\\"]]\\n    )\\n    # Print number of non-outliers and outliers\\n    print(\\n        \\\"Rejected Train. Number of non-outliers is:\\\", np.sum(r_dev_mod[\\\"anomaly\\\"] == 1)\\n    )\\n    print(\\\"Rejected Train. Number of outliers is:\\\", np.sum(r_dev_mod[\\\"anomaly\\\"] == -1))\\n    # Drop all outliers\\n    r_dev_mod = r_dev_mod[r_dev_mod.anomaly != -1]\\n    # Delete columns related to the outliers\\n    r_dev_mod = r_dev_mod[[\\\"known_col_0\\\", \\\"known_col_1\\\", \\\"known_col_3\\\", \\\"known_col_4\\\"]]\\n\\n    # Add scores and anomaly columns to rejected test\\n    r_test_mod[\\\"scores\\\"] = isf.decision_function(r_test_mod)\\n    r_test_mod[\\\"anomaly\\\"] = isf.predict(\\n        r_test_mod[[\\\"known_col_0\\\", \\\"known_col_1\\\", \\\"known_col_3\\\", \\\"known_col_4\\\"]]\\n    )\\n    # Print number of non-outliers and outliers\\n    print(\\n        \\\"Rejected Test. Number of non-outliers is:\\\", np.sum(r_test_mod[\\\"anomaly\\\"] == 1)\\n    )\\n    print(\\\"Rejected Test. Number of outliers is:\\\", np.sum(r_test_mod[\\\"anomaly\\\"] == -1))\\n    # Drop all outliers\\n    r_test_mod = r_test_mod[r_test_mod.anomaly != -1]\\n    # Delete columns related to the outliers\\n    r_test_mod = r_test_mod[\\n        [\\\"known_col_0\\\", \\\"known_col_1\\\", \\\"known_col_3\\\", \\\"known_col_4\\\"]\\n    ]\\n\\n    return r_dev_mod, r_test_mod\";\n",
       "                var nbb_cells = Jupyter.notebook.get_cells();\n",
       "                for (var i = 0; i < nbb_cells.length; ++i) {\n",
       "                    if (nbb_cells[i].input_prompt_number == nbb_cell_id) {\n",
       "                        if (nbb_cells[i].get_text() == nbb_unformatted_code) {\n",
       "                             nbb_cells[i].set_text(nbb_formatted_code);\n",
       "                        }\n",
       "                        break;\n",
       "                    }\n",
       "                }\n",
       "            }, 500);\n",
       "            "
      ],
      "text/plain": [
       "<IPython.core.display.Javascript object>"
      ]
     },
     "metadata": {},
     "output_type": "display_data"
    }
   ],
   "source": [
    "def isolation_forest(X_train, r_dev_mod, r_test_mod):\n",
    "    \"\"\"\n",
    "    The goal of this function is to filter the outliers from the rejected sample.\n",
    "\n",
    "    Parameters\n",
    "    ----------\n",
    "    X_train: accepts training data; Dataframe\n",
    "    r_dev_mod: rejects modelling data prior outlier treatment; Dataframe\n",
    "    r_test_mod: rejects testinf data prior outlier treatment; Dataframe\n",
    "\n",
    "    Return\n",
    "    ------\n",
    "    r_dev_mod: rejects modelling data post outlier treatment; Dataframe\n",
    "    r_test_mod: rejects training data prior outlier treatment; Dataframe\n",
    "\n",
    "    \"\"\"\n",
    "\n",
    "    # Build Isolation forest model\n",
    "    isf = IsolationForest(\n",
    "        n_estimators=50, max_samples=\"auto\", contamination=float(0.02), max_features=1.0\n",
    "    )\n",
    "    isf.fit(X_train)\n",
    "    rej_isf = isf.predict(r_dev_mod)\n",
    "    # Add scores and anomaly columns to rejected train\n",
    "    r_dev_mod[\"scores\"] = isf.decision_function(r_dev_mod)\n",
    "    r_dev_mod[\"anomaly\"] = isf.predict(\n",
    "        r_dev_mod[[\"known_col_0\", \"known_col_1\", \"known_col_3\", \"known_col_4\"]]\n",
    "    )\n",
    "    # Print number of non-outliers and outliers\n",
    "    print(\n",
    "        \"Rejected Train. Number of non-outliers is:\", np.sum(r_dev_mod[\"anomaly\"] == 1)\n",
    "    )\n",
    "    print(\"Rejected Train. Number of outliers is:\", np.sum(r_dev_mod[\"anomaly\"] == -1))\n",
    "    # Drop all outliers\n",
    "    r_dev_mod = r_dev_mod[r_dev_mod.anomaly != -1]\n",
    "    # Delete columns related to the outliers\n",
    "    r_dev_mod = r_dev_mod[[\"known_col_0\", \"known_col_1\", \"known_col_3\", \"known_col_4\"]]\n",
    "\n",
    "    # Add scores and anomaly columns to rejected test\n",
    "    r_test_mod[\"scores\"] = isf.decision_function(r_test_mod)\n",
    "    r_test_mod[\"anomaly\"] = isf.predict(\n",
    "        r_test_mod[[\"known_col_0\", \"known_col_1\", \"known_col_3\", \"known_col_4\"]]\n",
    "    )\n",
    "    # Print number of non-outliers and outliers\n",
    "    print(\n",
    "        \"Rejected Test. Number of non-outliers is:\", np.sum(r_test_mod[\"anomaly\"] == 1)\n",
    "    )\n",
    "    print(\"Rejected Test. Number of outliers is:\", np.sum(r_test_mod[\"anomaly\"] == -1))\n",
    "    # Drop all outliers\n",
    "    r_test_mod = r_test_mod[r_test_mod.anomaly != -1]\n",
    "    # Delete columns related to the outliers\n",
    "    r_test_mod = r_test_mod[\n",
    "        [\"known_col_0\", \"known_col_1\", \"known_col_3\", \"known_col_4\"]\n",
    "    ]\n",
    "\n",
    "    return r_dev_mod, r_test_mod"
   ]
  },
  {
   "cell_type": "code",
   "execution_count": 82,
   "metadata": {},
   "outputs": [
    {
     "data": {
      "application/javascript": [
       "\n",
       "            setTimeout(function() {\n",
       "                var nbb_cell_id = 82;\n",
       "                var nbb_unformatted_code = \"#r_dev_mod, r_test_mod = isolation_forest(X_train, r_dev_mod, r_test_mod)\";\n",
       "                var nbb_formatted_code = \"# r_dev_mod, r_test_mod = isolation_forest(X_train, r_dev_mod, r_test_mod)\";\n",
       "                var nbb_cells = Jupyter.notebook.get_cells();\n",
       "                for (var i = 0; i < nbb_cells.length; ++i) {\n",
       "                    if (nbb_cells[i].input_prompt_number == nbb_cell_id) {\n",
       "                        if (nbb_cells[i].get_text() == nbb_unformatted_code) {\n",
       "                             nbb_cells[i].set_text(nbb_formatted_code);\n",
       "                        }\n",
       "                        break;\n",
       "                    }\n",
       "                }\n",
       "            }, 500);\n",
       "            "
      ],
      "text/plain": [
       "<IPython.core.display.Javascript object>"
      ]
     },
     "metadata": {},
     "output_type": "display_data"
    },
    {
     "data": {
      "application/javascript": [
       "\n",
       "            setTimeout(function() {\n",
       "                var nbb_cell_id = 82;\n",
       "                var nbb_unformatted_code = \"#r_dev_mod, r_test_mod = isolation_forest(X_train, r_dev_mod, r_test_mod)\";\n",
       "                var nbb_formatted_code = \"# r_dev_mod, r_test_mod = isolation_forest(X_train, r_dev_mod, r_test_mod)\";\n",
       "                var nbb_cells = Jupyter.notebook.get_cells();\n",
       "                for (var i = 0; i < nbb_cells.length; ++i) {\n",
       "                    if (nbb_cells[i].input_prompt_number == nbb_cell_id) {\n",
       "                        if (nbb_cells[i].get_text() == nbb_unformatted_code) {\n",
       "                             nbb_cells[i].set_text(nbb_formatted_code);\n",
       "                        }\n",
       "                        break;\n",
       "                    }\n",
       "                }\n",
       "            }, 500);\n",
       "            "
      ],
      "text/plain": [
       "<IPython.core.display.Javascript object>"
      ]
     },
     "metadata": {},
     "output_type": "display_data"
    }
   ],
   "source": [
    "# r_dev_mod, r_test_mod = isolation_forest(X_train, r_dev_mod, r_test_mod)"
   ]
  },
  {
   "cell_type": "markdown",
   "metadata": {},
   "source": [
    "## Predictions"
   ]
  },
  {
   "cell_type": "code",
   "execution_count": 83,
   "metadata": {},
   "outputs": [
    {
     "data": {
      "application/javascript": [
       "\n",
       "            setTimeout(function() {\n",
       "                var nbb_cell_id = 83;\n",
       "                var nbb_unformatted_code = \"def pred(y_test, X_test, X_test_3, model):\\n    # Test set with labels\\n    test_labels = pd.merge(\\n        y_test,\\n        X_test,\\n        how=\\\"inner\\\",\\n        left_index=True,\\n        right_index=True,\\n    )\\n    # Predictions on testset\\n    test_pred = model.predict_proba(X_test_3)[:, 1]\\n    test_pred2 = pd.DataFrame(data=test_pred, columns=[\\\"prediction\\\"])\\n    test_pred2[\\\"count\\\"] = test_pred2.groupby(\\\"prediction\\\")[\\\"prediction\\\"].transform(\\n        \\\"count\\\"\\n    )\\n    test_pred2.groupby([\\\"prediction\\\"]).count()\\n    test_pred2.describe()\\n\\n    # Join predictions with test new\\n    pred_test_kgb = pd.DataFrame(\\n        data=test_pred, columns=[\\\"prediction_beforeRI\\\"], index=y_test.index.copy()\\n    )\\n    pred_test1 = pd.merge(\\n        test_labels,\\n        pred_test_kgb[[\\\"prediction_beforeRI\\\"]],\\n        how=\\\"inner\\\",\\n        left_index=True,\\n        right_index=True,\\n    )\\n\\n    return pred_test1\";\n",
       "                var nbb_formatted_code = \"def pred(y_test, X_test, X_test_3, model):\\n    # Test set with labels\\n    test_labels = pd.merge(\\n        y_test,\\n        X_test,\\n        how=\\\"inner\\\",\\n        left_index=True,\\n        right_index=True,\\n    )\\n    # Predictions on testset\\n    test_pred = model.predict_proba(X_test_3)[:, 1]\\n    test_pred2 = pd.DataFrame(data=test_pred, columns=[\\\"prediction\\\"])\\n    test_pred2[\\\"count\\\"] = test_pred2.groupby(\\\"prediction\\\")[\\\"prediction\\\"].transform(\\n        \\\"count\\\"\\n    )\\n    test_pred2.groupby([\\\"prediction\\\"]).count()\\n    test_pred2.describe()\\n\\n    # Join predictions with test new\\n    pred_test_kgb = pd.DataFrame(\\n        data=test_pred, columns=[\\\"prediction_beforeRI\\\"], index=y_test.index.copy()\\n    )\\n    pred_test1 = pd.merge(\\n        test_labels,\\n        pred_test_kgb[[\\\"prediction_beforeRI\\\"]],\\n        how=\\\"inner\\\",\\n        left_index=True,\\n        right_index=True,\\n    )\\n\\n    return pred_test1\";\n",
       "                var nbb_cells = Jupyter.notebook.get_cells();\n",
       "                for (var i = 0; i < nbb_cells.length; ++i) {\n",
       "                    if (nbb_cells[i].input_prompt_number == nbb_cell_id) {\n",
       "                        if (nbb_cells[i].get_text() == nbb_unformatted_code) {\n",
       "                             nbb_cells[i].set_text(nbb_formatted_code);\n",
       "                        }\n",
       "                        break;\n",
       "                    }\n",
       "                }\n",
       "            }, 500);\n",
       "            "
      ],
      "text/plain": [
       "<IPython.core.display.Javascript object>"
      ]
     },
     "metadata": {},
     "output_type": "display_data"
    },
    {
     "data": {
      "application/javascript": [
       "\n",
       "            setTimeout(function() {\n",
       "                var nbb_cell_id = 83;\n",
       "                var nbb_unformatted_code = \"def pred(y_test, X_test, X_test_3, model):\\n    # Test set with labels\\n    test_labels = pd.merge(\\n        y_test,\\n        X_test,\\n        how=\\\"inner\\\",\\n        left_index=True,\\n        right_index=True,\\n    )\\n    # Predictions on testset\\n    test_pred = model.predict_proba(X_test_3)[:, 1]\\n    test_pred2 = pd.DataFrame(data=test_pred, columns=[\\\"prediction\\\"])\\n    test_pred2[\\\"count\\\"] = test_pred2.groupby(\\\"prediction\\\")[\\\"prediction\\\"].transform(\\n        \\\"count\\\"\\n    )\\n    test_pred2.groupby([\\\"prediction\\\"]).count()\\n    test_pred2.describe()\\n\\n    # Join predictions with test new\\n    pred_test_kgb = pd.DataFrame(\\n        data=test_pred, columns=[\\\"prediction_beforeRI\\\"], index=y_test.index.copy()\\n    )\\n    pred_test1 = pd.merge(\\n        test_labels,\\n        pred_test_kgb[[\\\"prediction_beforeRI\\\"]],\\n        how=\\\"inner\\\",\\n        left_index=True,\\n        right_index=True,\\n    )\\n\\n    return pred_test1\";\n",
       "                var nbb_formatted_code = \"def pred(y_test, X_test, X_test_3, model):\\n    # Test set with labels\\n    test_labels = pd.merge(\\n        y_test,\\n        X_test,\\n        how=\\\"inner\\\",\\n        left_index=True,\\n        right_index=True,\\n    )\\n    # Predictions on testset\\n    test_pred = model.predict_proba(X_test_3)[:, 1]\\n    test_pred2 = pd.DataFrame(data=test_pred, columns=[\\\"prediction\\\"])\\n    test_pred2[\\\"count\\\"] = test_pred2.groupby(\\\"prediction\\\")[\\\"prediction\\\"].transform(\\n        \\\"count\\\"\\n    )\\n    test_pred2.groupby([\\\"prediction\\\"]).count()\\n    test_pred2.describe()\\n\\n    # Join predictions with test new\\n    pred_test_kgb = pd.DataFrame(\\n        data=test_pred, columns=[\\\"prediction_beforeRI\\\"], index=y_test.index.copy()\\n    )\\n    pred_test1 = pd.merge(\\n        test_labels,\\n        pred_test_kgb[[\\\"prediction_beforeRI\\\"]],\\n        how=\\\"inner\\\",\\n        left_index=True,\\n        right_index=True,\\n    )\\n\\n    return pred_test1\";\n",
       "                var nbb_cells = Jupyter.notebook.get_cells();\n",
       "                for (var i = 0; i < nbb_cells.length; ++i) {\n",
       "                    if (nbb_cells[i].input_prompt_number == nbb_cell_id) {\n",
       "                        if (nbb_cells[i].get_text() == nbb_unformatted_code) {\n",
       "                             nbb_cells[i].set_text(nbb_formatted_code);\n",
       "                        }\n",
       "                        break;\n",
       "                    }\n",
       "                }\n",
       "            }, 500);\n",
       "            "
      ],
      "text/plain": [
       "<IPython.core.display.Javascript object>"
      ]
     },
     "metadata": {},
     "output_type": "display_data"
    }
   ],
   "source": [
    "def pred(y_test, X_test, X_test_3, model):\n",
    "    # Test set with labels\n",
    "    test_labels = pd.merge(\n",
    "        y_test,\n",
    "        X_test,\n",
    "        how=\"inner\",\n",
    "        left_index=True,\n",
    "        right_index=True,\n",
    "    )\n",
    "    # Predictions on testset\n",
    "    test_pred = model.predict_proba(X_test_3)[:, 1]\n",
    "    test_pred2 = pd.DataFrame(data=test_pred, columns=[\"prediction\"])\n",
    "    test_pred2[\"count\"] = test_pred2.groupby(\"prediction\")[\"prediction\"].transform(\n",
    "        \"count\"\n",
    "    )\n",
    "    test_pred2.groupby([\"prediction\"]).count()\n",
    "    test_pred2.describe()\n",
    "\n",
    "    # Join predictions with test new\n",
    "    pred_test_kgb = pd.DataFrame(\n",
    "        data=test_pred, columns=[\"prediction_beforeRI\"], index=y_test.index.copy()\n",
    "    )\n",
    "    pred_test1 = pd.merge(\n",
    "        test_labels,\n",
    "        pred_test_kgb[[\"prediction_beforeRI\"]],\n",
    "        how=\"inner\",\n",
    "        left_index=True,\n",
    "        right_index=True,\n",
    "    )\n",
    "\n",
    "    return pred_test1"
   ]
  },
  {
   "cell_type": "code",
   "execution_count": 84,
   "metadata": {},
   "outputs": [
    {
     "data": {
      "application/javascript": [
       "\n",
       "            setTimeout(function() {\n",
       "                var nbb_cell_id = 84;\n",
       "                var nbb_unformatted_code = \"# Predictions on Accepted Test Sample\\npred_test1 = pred(y_test, X_test, X_test_3, logreg)\\n# Predictions on Rejected Test Sample\\npred_dev_rej = pred(\\n    dfr_dev_with_label_y, dfr_dev_with_label, dfr_dev_with_label_X, logreg\\n)\\npred_test_rej = pred(\\n    dfr_test_with_label_y, dfr_test_with_label, dfr_test_with_label_X, logreg\\n)\\npred_rej1 = pred(\\n    dfr_test_with_label_y, dfr_test_with_label, dfr_test_with_label_X, logreg\\n)\";\n",
       "                var nbb_formatted_code = \"# Predictions on Accepted Test Sample\\npred_test1 = pred(y_test, X_test, X_test_3, logreg)\\n# Predictions on Rejected Test Sample\\npred_dev_rej = pred(\\n    dfr_dev_with_label_y, dfr_dev_with_label, dfr_dev_with_label_X, logreg\\n)\\npred_test_rej = pred(\\n    dfr_test_with_label_y, dfr_test_with_label, dfr_test_with_label_X, logreg\\n)\\npred_rej1 = pred(\\n    dfr_test_with_label_y, dfr_test_with_label, dfr_test_with_label_X, logreg\\n)\";\n",
       "                var nbb_cells = Jupyter.notebook.get_cells();\n",
       "                for (var i = 0; i < nbb_cells.length; ++i) {\n",
       "                    if (nbb_cells[i].input_prompt_number == nbb_cell_id) {\n",
       "                        if (nbb_cells[i].get_text() == nbb_unformatted_code) {\n",
       "                             nbb_cells[i].set_text(nbb_formatted_code);\n",
       "                        }\n",
       "                        break;\n",
       "                    }\n",
       "                }\n",
       "            }, 500);\n",
       "            "
      ],
      "text/plain": [
       "<IPython.core.display.Javascript object>"
      ]
     },
     "metadata": {},
     "output_type": "display_data"
    },
    {
     "data": {
      "application/javascript": [
       "\n",
       "            setTimeout(function() {\n",
       "                var nbb_cell_id = 84;\n",
       "                var nbb_unformatted_code = \"# Predictions on Accepted Test Sample\\npred_test1 = pred(y_test, X_test, X_test_3, logreg)\\n# Predictions on Rejected Test Sample\\npred_dev_rej = pred(\\n    dfr_dev_with_label_y, dfr_dev_with_label, dfr_dev_with_label_X, logreg\\n)\\npred_test_rej = pred(\\n    dfr_test_with_label_y, dfr_test_with_label, dfr_test_with_label_X, logreg\\n)\\npred_rej1 = pred(\\n    dfr_test_with_label_y, dfr_test_with_label, dfr_test_with_label_X, logreg\\n)\";\n",
       "                var nbb_formatted_code = \"# Predictions on Accepted Test Sample\\npred_test1 = pred(y_test, X_test, X_test_3, logreg)\\n# Predictions on Rejected Test Sample\\npred_dev_rej = pred(\\n    dfr_dev_with_label_y, dfr_dev_with_label, dfr_dev_with_label_X, logreg\\n)\\npred_test_rej = pred(\\n    dfr_test_with_label_y, dfr_test_with_label, dfr_test_with_label_X, logreg\\n)\\npred_rej1 = pred(\\n    dfr_test_with_label_y, dfr_test_with_label, dfr_test_with_label_X, logreg\\n)\";\n",
       "                var nbb_cells = Jupyter.notebook.get_cells();\n",
       "                for (var i = 0; i < nbb_cells.length; ++i) {\n",
       "                    if (nbb_cells[i].input_prompt_number == nbb_cell_id) {\n",
       "                        if (nbb_cells[i].get_text() == nbb_unformatted_code) {\n",
       "                             nbb_cells[i].set_text(nbb_formatted_code);\n",
       "                        }\n",
       "                        break;\n",
       "                    }\n",
       "                }\n",
       "            }, 500);\n",
       "            "
      ],
      "text/plain": [
       "<IPython.core.display.Javascript object>"
      ]
     },
     "metadata": {},
     "output_type": "display_data"
    }
   ],
   "source": [
    "# Predictions on Accepted Test Sample\n",
    "pred_test1 = pred(y_test, X_test, X_test_3, logreg)\n",
    "# Predictions on Rejected Test Sample\n",
    "pred_dev_rej = pred(\n",
    "    dfr_dev_with_label_y, dfr_dev_with_label, dfr_dev_with_label_X, logreg\n",
    ")\n",
    "pred_test_rej = pred(\n",
    "    dfr_test_with_label_y, dfr_test_with_label, dfr_test_with_label_X, logreg\n",
    ")\n",
    "pred_rej1 = pred(\n",
    "    dfr_test_with_label_y, dfr_test_with_label, dfr_test_with_label_X, logreg\n",
    ")"
   ]
  },
  {
   "cell_type": "code",
   "execution_count": 85,
   "metadata": {},
   "outputs": [
    {
     "data": {
      "application/javascript": [
       "\n",
       "            setTimeout(function() {\n",
       "                var nbb_cell_id = 85;\n",
       "                var nbb_unformatted_code = \"# Prediction before RI\\nri1_train_rej = pred_dev_rej[[\\\"target_x\\\", \\\"id\\\", \\\"prediction_beforeRI\\\"]]\\nri1_train_rej[\\\"prediction_beforeRI\\\"] = ri1_train_rej[\\\"prediction_beforeRI\\\"].apply(\\n    lambda x: 0\\n    if (x < ri1_train_rej[\\\"prediction_beforeRI\\\"].quantile(q=1 - conservative_dr))\\n    else 1\\n)\\nri1_test_rej = pred_test_rej[[\\\"target_x\\\", \\\"id\\\", \\\"prediction_beforeRI\\\"]]\\nri1_test_rej[\\\"prediction_beforeRI\\\"] = ri1_test_rej[\\\"prediction_beforeRI\\\"].apply(\\n    lambda x: 0\\n    if (x < ri1_test_rej[\\\"prediction_beforeRI\\\"].quantile(q=1 - conservative_dr))\\n    else 1\\n)\\npred_rej1 = pred_rej1[[\\\"target_x\\\", \\\"id\\\", \\\"prediction_beforeRI\\\"]]\\npred_rej1[\\\"prediction_beforeRI\\\"] = pred_rej1[\\\"prediction_beforeRI\\\"].apply(\\n    lambda x: 0\\n    if (x < pred_rej1[\\\"prediction_beforeRI\\\"].quantile(q=1 - conservative_dr))\\n    else 1\\n)\\nri1_train_rej.rename(columns={\\\"target_x\\\": \\\"target\\\"}, inplace=True)\\nri1_test_rej.rename(columns={\\\"target_x\\\": \\\"target\\\"}, inplace=True)\\npred_rej1.rename(columns={\\\"target_x\\\": \\\"target\\\"}, inplace=True)\";\n",
       "                var nbb_formatted_code = \"# Prediction before RI\\nri1_train_rej = pred_dev_rej[[\\\"target_x\\\", \\\"id\\\", \\\"prediction_beforeRI\\\"]]\\nri1_train_rej[\\\"prediction_beforeRI\\\"] = ri1_train_rej[\\\"prediction_beforeRI\\\"].apply(\\n    lambda x: 0\\n    if (x < ri1_train_rej[\\\"prediction_beforeRI\\\"].quantile(q=1 - conservative_dr))\\n    else 1\\n)\\nri1_test_rej = pred_test_rej[[\\\"target_x\\\", \\\"id\\\", \\\"prediction_beforeRI\\\"]]\\nri1_test_rej[\\\"prediction_beforeRI\\\"] = ri1_test_rej[\\\"prediction_beforeRI\\\"].apply(\\n    lambda x: 0\\n    if (x < ri1_test_rej[\\\"prediction_beforeRI\\\"].quantile(q=1 - conservative_dr))\\n    else 1\\n)\\npred_rej1 = pred_rej1[[\\\"target_x\\\", \\\"id\\\", \\\"prediction_beforeRI\\\"]]\\npred_rej1[\\\"prediction_beforeRI\\\"] = pred_rej1[\\\"prediction_beforeRI\\\"].apply(\\n    lambda x: 0\\n    if (x < pred_rej1[\\\"prediction_beforeRI\\\"].quantile(q=1 - conservative_dr))\\n    else 1\\n)\\nri1_train_rej.rename(columns={\\\"target_x\\\": \\\"target\\\"}, inplace=True)\\nri1_test_rej.rename(columns={\\\"target_x\\\": \\\"target\\\"}, inplace=True)\\npred_rej1.rename(columns={\\\"target_x\\\": \\\"target\\\"}, inplace=True)\";\n",
       "                var nbb_cells = Jupyter.notebook.get_cells();\n",
       "                for (var i = 0; i < nbb_cells.length; ++i) {\n",
       "                    if (nbb_cells[i].input_prompt_number == nbb_cell_id) {\n",
       "                        if (nbb_cells[i].get_text() == nbb_unformatted_code) {\n",
       "                             nbb_cells[i].set_text(nbb_formatted_code);\n",
       "                        }\n",
       "                        break;\n",
       "                    }\n",
       "                }\n",
       "            }, 500);\n",
       "            "
      ],
      "text/plain": [
       "<IPython.core.display.Javascript object>"
      ]
     },
     "metadata": {},
     "output_type": "display_data"
    },
    {
     "data": {
      "application/javascript": [
       "\n",
       "            setTimeout(function() {\n",
       "                var nbb_cell_id = 85;\n",
       "                var nbb_unformatted_code = \"# Prediction before RI\\nri1_train_rej = pred_dev_rej[[\\\"target_x\\\", \\\"id\\\", \\\"prediction_beforeRI\\\"]]\\nri1_train_rej[\\\"prediction_beforeRI\\\"] = ri1_train_rej[\\\"prediction_beforeRI\\\"].apply(\\n    lambda x: 0\\n    if (x < ri1_train_rej[\\\"prediction_beforeRI\\\"].quantile(q=1 - conservative_dr))\\n    else 1\\n)\\nri1_test_rej = pred_test_rej[[\\\"target_x\\\", \\\"id\\\", \\\"prediction_beforeRI\\\"]]\\nri1_test_rej[\\\"prediction_beforeRI\\\"] = ri1_test_rej[\\\"prediction_beforeRI\\\"].apply(\\n    lambda x: 0\\n    if (x < ri1_test_rej[\\\"prediction_beforeRI\\\"].quantile(q=1 - conservative_dr))\\n    else 1\\n)\\npred_rej1 = pred_rej1[[\\\"target_x\\\", \\\"id\\\", \\\"prediction_beforeRI\\\"]]\\npred_rej1[\\\"prediction_beforeRI\\\"] = pred_rej1[\\\"prediction_beforeRI\\\"].apply(\\n    lambda x: 0\\n    if (x < pred_rej1[\\\"prediction_beforeRI\\\"].quantile(q=1 - conservative_dr))\\n    else 1\\n)\\nri1_train_rej.rename(columns={\\\"target_x\\\": \\\"target\\\"}, inplace=True)\\nri1_test_rej.rename(columns={\\\"target_x\\\": \\\"target\\\"}, inplace=True)\\npred_rej1.rename(columns={\\\"target_x\\\": \\\"target\\\"}, inplace=True)\";\n",
       "                var nbb_formatted_code = \"# Prediction before RI\\nri1_train_rej = pred_dev_rej[[\\\"target_x\\\", \\\"id\\\", \\\"prediction_beforeRI\\\"]]\\nri1_train_rej[\\\"prediction_beforeRI\\\"] = ri1_train_rej[\\\"prediction_beforeRI\\\"].apply(\\n    lambda x: 0\\n    if (x < ri1_train_rej[\\\"prediction_beforeRI\\\"].quantile(q=1 - conservative_dr))\\n    else 1\\n)\\nri1_test_rej = pred_test_rej[[\\\"target_x\\\", \\\"id\\\", \\\"prediction_beforeRI\\\"]]\\nri1_test_rej[\\\"prediction_beforeRI\\\"] = ri1_test_rej[\\\"prediction_beforeRI\\\"].apply(\\n    lambda x: 0\\n    if (x < ri1_test_rej[\\\"prediction_beforeRI\\\"].quantile(q=1 - conservative_dr))\\n    else 1\\n)\\npred_rej1 = pred_rej1[[\\\"target_x\\\", \\\"id\\\", \\\"prediction_beforeRI\\\"]]\\npred_rej1[\\\"prediction_beforeRI\\\"] = pred_rej1[\\\"prediction_beforeRI\\\"].apply(\\n    lambda x: 0\\n    if (x < pred_rej1[\\\"prediction_beforeRI\\\"].quantile(q=1 - conservative_dr))\\n    else 1\\n)\\nri1_train_rej.rename(columns={\\\"target_x\\\": \\\"target\\\"}, inplace=True)\\nri1_test_rej.rename(columns={\\\"target_x\\\": \\\"target\\\"}, inplace=True)\\npred_rej1.rename(columns={\\\"target_x\\\": \\\"target\\\"}, inplace=True)\";\n",
       "                var nbb_cells = Jupyter.notebook.get_cells();\n",
       "                for (var i = 0; i < nbb_cells.length; ++i) {\n",
       "                    if (nbb_cells[i].input_prompt_number == nbb_cell_id) {\n",
       "                        if (nbb_cells[i].get_text() == nbb_unformatted_code) {\n",
       "                             nbb_cells[i].set_text(nbb_formatted_code);\n",
       "                        }\n",
       "                        break;\n",
       "                    }\n",
       "                }\n",
       "            }, 500);\n",
       "            "
      ],
      "text/plain": [
       "<IPython.core.display.Javascript object>"
      ]
     },
     "metadata": {},
     "output_type": "display_data"
    }
   ],
   "source": [
    "# Prediction before RI\n",
    "ri1_train_rej = pred_dev_rej[[\"target_x\", \"id\", \"prediction_beforeRI\"]]\n",
    "ri1_train_rej[\"prediction_beforeRI\"] = ri1_train_rej[\"prediction_beforeRI\"].apply(\n",
    "    lambda x: 0\n",
    "    if (x < ri1_train_rej[\"prediction_beforeRI\"].quantile(q=1 - conservative_dr))\n",
    "    else 1\n",
    ")\n",
    "ri1_test_rej = pred_test_rej[[\"target_x\", \"id\", \"prediction_beforeRI\"]]\n",
    "ri1_test_rej[\"prediction_beforeRI\"] = ri1_test_rej[\"prediction_beforeRI\"].apply(\n",
    "    lambda x: 0\n",
    "    if (x < ri1_test_rej[\"prediction_beforeRI\"].quantile(q=1 - conservative_dr))\n",
    "    else 1\n",
    ")\n",
    "pred_rej1 = pred_rej1[[\"target_x\", \"id\", \"prediction_beforeRI\"]]\n",
    "pred_rej1[\"prediction_beforeRI\"] = pred_rej1[\"prediction_beforeRI\"].apply(\n",
    "    lambda x: 0\n",
    "    if (x < pred_rej1[\"prediction_beforeRI\"].quantile(q=1 - conservative_dr))\n",
    "    else 1\n",
    ")\n",
    "ri1_train_rej.rename(columns={\"target_x\": \"target\"}, inplace=True)\n",
    "ri1_test_rej.rename(columns={\"target_x\": \"target\"}, inplace=True)\n",
    "pred_rej1.rename(columns={\"target_x\": \"target\"}, inplace=True)"
   ]
  },
  {
   "cell_type": "markdown",
   "metadata": {},
   "source": [
    "## Predictions (Labelling Rejects)"
   ]
  },
  {
   "cell_type": "code",
   "execution_count": 86,
   "metadata": {},
   "outputs": [
    {
     "data": {
      "application/javascript": [
       "\n",
       "            setTimeout(function() {\n",
       "                var nbb_cell_id = 86;\n",
       "                var nbb_unformatted_code = \"def predictions1(model):\\n    # Join predictions with train new\\n    pred = model.predict_proba(r_dev_mod)[:, 1]\\n    pred2 = pd.DataFrame(\\n        data=pred,\\n        columns=[\\\"prediction2\\\"],\\n        index=r_dev_mod.index.copy(),\\n    )\\n\\n    # Set cut-off\\n    q1 = pred2[\\\"prediction2\\\"].quantile(q=1 - conservative_dr)\\n    pred2[\\\"prediction_beforeRI\\\"] = pred2[\\\"prediction2\\\"].apply(\\n        lambda x: 0 if (x < q1) else 1\\n    )\\n    outcome = pd.merge(\\n        r_dev_mod_id,\\n        pred2[[\\\"prediction_beforeRI\\\"]],\\n        how=\\\"inner\\\",\\n        left_index=True,\\n        right_index=True,\\n    )\\n    # pred_test1.dropna(subset=[\\\"prediction_beforeRI\\\"], inplace=True)\\n    outcome = outcome[[\\\"id\\\", \\\"prediction_beforeRI\\\"]]\\n    return outcome\";\n",
       "                var nbb_formatted_code = \"def predictions1(model):\\n    # Join predictions with train new\\n    pred = model.predict_proba(r_dev_mod)[:, 1]\\n    pred2 = pd.DataFrame(\\n        data=pred,\\n        columns=[\\\"prediction2\\\"],\\n        index=r_dev_mod.index.copy(),\\n    )\\n\\n    # Set cut-off\\n    q1 = pred2[\\\"prediction2\\\"].quantile(q=1 - conservative_dr)\\n    pred2[\\\"prediction_beforeRI\\\"] = pred2[\\\"prediction2\\\"].apply(\\n        lambda x: 0 if (x < q1) else 1\\n    )\\n    outcome = pd.merge(\\n        r_dev_mod_id,\\n        pred2[[\\\"prediction_beforeRI\\\"]],\\n        how=\\\"inner\\\",\\n        left_index=True,\\n        right_index=True,\\n    )\\n    # pred_test1.dropna(subset=[\\\"prediction_beforeRI\\\"], inplace=True)\\n    outcome = outcome[[\\\"id\\\", \\\"prediction_beforeRI\\\"]]\\n    return outcome\";\n",
       "                var nbb_cells = Jupyter.notebook.get_cells();\n",
       "                for (var i = 0; i < nbb_cells.length; ++i) {\n",
       "                    if (nbb_cells[i].input_prompt_number == nbb_cell_id) {\n",
       "                        if (nbb_cells[i].get_text() == nbb_unformatted_code) {\n",
       "                             nbb_cells[i].set_text(nbb_formatted_code);\n",
       "                        }\n",
       "                        break;\n",
       "                    }\n",
       "                }\n",
       "            }, 500);\n",
       "            "
      ],
      "text/plain": [
       "<IPython.core.display.Javascript object>"
      ]
     },
     "metadata": {},
     "output_type": "display_data"
    },
    {
     "data": {
      "application/javascript": [
       "\n",
       "            setTimeout(function() {\n",
       "                var nbb_cell_id = 86;\n",
       "                var nbb_unformatted_code = \"def predictions1(model):\\n    # Join predictions with train new\\n    pred = model.predict_proba(r_dev_mod)[:, 1]\\n    pred2 = pd.DataFrame(\\n        data=pred,\\n        columns=[\\\"prediction2\\\"],\\n        index=r_dev_mod.index.copy(),\\n    )\\n\\n    # Set cut-off\\n    q1 = pred2[\\\"prediction2\\\"].quantile(q=1 - conservative_dr)\\n    pred2[\\\"prediction_beforeRI\\\"] = pred2[\\\"prediction2\\\"].apply(\\n        lambda x: 0 if (x < q1) else 1\\n    )\\n    outcome = pd.merge(\\n        r_dev_mod_id,\\n        pred2[[\\\"prediction_beforeRI\\\"]],\\n        how=\\\"inner\\\",\\n        left_index=True,\\n        right_index=True,\\n    )\\n    # pred_test1.dropna(subset=[\\\"prediction_beforeRI\\\"], inplace=True)\\n    outcome = outcome[[\\\"id\\\", \\\"prediction_beforeRI\\\"]]\\n    return outcome\";\n",
       "                var nbb_formatted_code = \"def predictions1(model):\\n    # Join predictions with train new\\n    pred = model.predict_proba(r_dev_mod)[:, 1]\\n    pred2 = pd.DataFrame(\\n        data=pred,\\n        columns=[\\\"prediction2\\\"],\\n        index=r_dev_mod.index.copy(),\\n    )\\n\\n    # Set cut-off\\n    q1 = pred2[\\\"prediction2\\\"].quantile(q=1 - conservative_dr)\\n    pred2[\\\"prediction_beforeRI\\\"] = pred2[\\\"prediction2\\\"].apply(\\n        lambda x: 0 if (x < q1) else 1\\n    )\\n    outcome = pd.merge(\\n        r_dev_mod_id,\\n        pred2[[\\\"prediction_beforeRI\\\"]],\\n        how=\\\"inner\\\",\\n        left_index=True,\\n        right_index=True,\\n    )\\n    # pred_test1.dropna(subset=[\\\"prediction_beforeRI\\\"], inplace=True)\\n    outcome = outcome[[\\\"id\\\", \\\"prediction_beforeRI\\\"]]\\n    return outcome\";\n",
       "                var nbb_cells = Jupyter.notebook.get_cells();\n",
       "                for (var i = 0; i < nbb_cells.length; ++i) {\n",
       "                    if (nbb_cells[i].input_prompt_number == nbb_cell_id) {\n",
       "                        if (nbb_cells[i].get_text() == nbb_unformatted_code) {\n",
       "                             nbb_cells[i].set_text(nbb_formatted_code);\n",
       "                        }\n",
       "                        break;\n",
       "                    }\n",
       "                }\n",
       "            }, 500);\n",
       "            "
      ],
      "text/plain": [
       "<IPython.core.display.Javascript object>"
      ]
     },
     "metadata": {},
     "output_type": "display_data"
    }
   ],
   "source": [
    "def predictions1(model):\n",
    "    # Join predictions with train new\n",
    "    pred = model.predict_proba(r_dev_mod)[:, 1]\n",
    "    pred2 = pd.DataFrame(\n",
    "        data=pred,\n",
    "        columns=[\"prediction2\"],\n",
    "        index=r_dev_mod.index.copy(),\n",
    "    )\n",
    "\n",
    "    # Set cut-off\n",
    "    q1 = pred2[\"prediction2\"].quantile(q=1 - conservative_dr)\n",
    "    pred2[\"prediction_beforeRI\"] = pred2[\"prediction2\"].apply(\n",
    "        lambda x: 0 if (x < q1) else 1\n",
    "    )\n",
    "    outcome = pd.merge(\n",
    "        r_dev_mod_id,\n",
    "        pred2[[\"prediction_beforeRI\"]],\n",
    "        how=\"inner\",\n",
    "        left_index=True,\n",
    "        right_index=True,\n",
    "    )\n",
    "    # pred_test1.dropna(subset=[\"prediction_beforeRI\"], inplace=True)\n",
    "    outcome = outcome[[\"id\", \"prediction_beforeRI\"]]\n",
    "    return outcome"
   ]
  },
  {
   "cell_type": "markdown",
   "metadata": {},
   "source": [
    "### Predictions"
   ]
  },
  {
   "cell_type": "code",
   "execution_count": 87,
   "metadata": {},
   "outputs": [
    {
     "data": {
      "application/javascript": [
       "\n",
       "            setTimeout(function() {\n",
       "                var nbb_cell_id = 87;\n",
       "                var nbb_unformatted_code = \"ri1_train = predictions1(logreg)  # Logistic Regression\";\n",
       "                var nbb_formatted_code = \"ri1_train = predictions1(logreg)  # Logistic Regression\";\n",
       "                var nbb_cells = Jupyter.notebook.get_cells();\n",
       "                for (var i = 0; i < nbb_cells.length; ++i) {\n",
       "                    if (nbb_cells[i].input_prompt_number == nbb_cell_id) {\n",
       "                        if (nbb_cells[i].get_text() == nbb_unformatted_code) {\n",
       "                             nbb_cells[i].set_text(nbb_formatted_code);\n",
       "                        }\n",
       "                        break;\n",
       "                    }\n",
       "                }\n",
       "            }, 500);\n",
       "            "
      ],
      "text/plain": [
       "<IPython.core.display.Javascript object>"
      ]
     },
     "metadata": {},
     "output_type": "display_data"
    },
    {
     "data": {
      "application/javascript": [
       "\n",
       "            setTimeout(function() {\n",
       "                var nbb_cell_id = 87;\n",
       "                var nbb_unformatted_code = \"ri1_train = predictions1(logreg)  # Logistic Regression\";\n",
       "                var nbb_formatted_code = \"ri1_train = predictions1(logreg)  # Logistic Regression\";\n",
       "                var nbb_cells = Jupyter.notebook.get_cells();\n",
       "                for (var i = 0; i < nbb_cells.length; ++i) {\n",
       "                    if (nbb_cells[i].input_prompt_number == nbb_cell_id) {\n",
       "                        if (nbb_cells[i].get_text() == nbb_unformatted_code) {\n",
       "                             nbb_cells[i].set_text(nbb_formatted_code);\n",
       "                        }\n",
       "                        break;\n",
       "                    }\n",
       "                }\n",
       "            }, 500);\n",
       "            "
      ],
      "text/plain": [
       "<IPython.core.display.Javascript object>"
      ]
     },
     "metadata": {},
     "output_type": "display_data"
    }
   ],
   "source": [
    "ri1_train = predictions1(logreg)  # Logistic Regression"
   ]
  },
  {
   "cell_type": "markdown",
   "metadata": {},
   "source": [
    "### Basic Evaluation Measures"
   ]
  },
  {
   "cell_type": "code",
   "execution_count": 88,
   "metadata": {},
   "outputs": [
    {
     "data": {
      "application/javascript": [
       "\n",
       "            setTimeout(function() {\n",
       "                var nbb_cell_id = 88;\n",
       "                var nbb_unformatted_code = \"def print_results(data, state, prediction):\\n    print(\\n        \\\"The number of accurately classified cases \\\",\\n        state,\\n        \\\" is: \\\",\\n        data[\\n            (data.target == 1) & (data[prediction] == 1)\\n            | (data.target == 0) & (data[prediction] == 0)\\n        ].shape[0],\\n    )\\n    print(\\n        \\\"The number of misclassified cases \\\",\\n        state,\\n        \\\" is: \\\",\\n        data[\\n            (data.target == 1) & (data[prediction] == 0)\\n            | (data.target == 0) & (data[prediction] == 1)\\n        ].shape[0],\\n    )\";\n",
       "                var nbb_formatted_code = \"def print_results(data, state, prediction):\\n    print(\\n        \\\"The number of accurately classified cases \\\",\\n        state,\\n        \\\" is: \\\",\\n        data[\\n            (data.target == 1) & (data[prediction] == 1)\\n            | (data.target == 0) & (data[prediction] == 0)\\n        ].shape[0],\\n    )\\n    print(\\n        \\\"The number of misclassified cases \\\",\\n        state,\\n        \\\" is: \\\",\\n        data[\\n            (data.target == 1) & (data[prediction] == 0)\\n            | (data.target == 0) & (data[prediction] == 1)\\n        ].shape[0],\\n    )\";\n",
       "                var nbb_cells = Jupyter.notebook.get_cells();\n",
       "                for (var i = 0; i < nbb_cells.length; ++i) {\n",
       "                    if (nbb_cells[i].input_prompt_number == nbb_cell_id) {\n",
       "                        if (nbb_cells[i].get_text() == nbb_unformatted_code) {\n",
       "                             nbb_cells[i].set_text(nbb_formatted_code);\n",
       "                        }\n",
       "                        break;\n",
       "                    }\n",
       "                }\n",
       "            }, 500);\n",
       "            "
      ],
      "text/plain": [
       "<IPython.core.display.Javascript object>"
      ]
     },
     "metadata": {},
     "output_type": "display_data"
    },
    {
     "data": {
      "application/javascript": [
       "\n",
       "            setTimeout(function() {\n",
       "                var nbb_cell_id = 88;\n",
       "                var nbb_unformatted_code = \"def print_results(data, state, prediction):\\n    print(\\n        \\\"The number of accurately classified cases \\\",\\n        state,\\n        \\\" is: \\\",\\n        data[\\n            (data.target == 1) & (data[prediction] == 1)\\n            | (data.target == 0) & (data[prediction] == 0)\\n        ].shape[0],\\n    )\\n    print(\\n        \\\"The number of misclassified cases \\\",\\n        state,\\n        \\\" is: \\\",\\n        data[\\n            (data.target == 1) & (data[prediction] == 0)\\n            | (data.target == 0) & (data[prediction] == 1)\\n        ].shape[0],\\n    )\";\n",
       "                var nbb_formatted_code = \"def print_results(data, state, prediction):\\n    print(\\n        \\\"The number of accurately classified cases \\\",\\n        state,\\n        \\\" is: \\\",\\n        data[\\n            (data.target == 1) & (data[prediction] == 1)\\n            | (data.target == 0) & (data[prediction] == 0)\\n        ].shape[0],\\n    )\\n    print(\\n        \\\"The number of misclassified cases \\\",\\n        state,\\n        \\\" is: \\\",\\n        data[\\n            (data.target == 1) & (data[prediction] == 0)\\n            | (data.target == 0) & (data[prediction] == 1)\\n        ].shape[0],\\n    )\";\n",
       "                var nbb_cells = Jupyter.notebook.get_cells();\n",
       "                for (var i = 0; i < nbb_cells.length; ++i) {\n",
       "                    if (nbb_cells[i].input_prompt_number == nbb_cell_id) {\n",
       "                        if (nbb_cells[i].get_text() == nbb_unformatted_code) {\n",
       "                             nbb_cells[i].set_text(nbb_formatted_code);\n",
       "                        }\n",
       "                        break;\n",
       "                    }\n",
       "                }\n",
       "            }, 500);\n",
       "            "
      ],
      "text/plain": [
       "<IPython.core.display.Javascript object>"
      ]
     },
     "metadata": {},
     "output_type": "display_data"
    }
   ],
   "source": [
    "def print_results(data, state, prediction):\n",
    "    print(\n",
    "        \"The number of accurately classified cases \",\n",
    "        state,\n",
    "        \" is: \",\n",
    "        data[\n",
    "            (data.target == 1) & (data[prediction] == 1)\n",
    "            | (data.target == 0) & (data[prediction] == 0)\n",
    "        ].shape[0],\n",
    "    )\n",
    "    print(\n",
    "        \"The number of misclassified cases \",\n",
    "        state,\n",
    "        \" is: \",\n",
    "        data[\n",
    "            (data.target == 1) & (data[prediction] == 0)\n",
    "            | (data.target == 0) & (data[prediction] == 1)\n",
    "        ].shape[0],\n",
    "    )"
   ]
  },
  {
   "cell_type": "code",
   "execution_count": 89,
   "metadata": {},
   "outputs": [
    {
     "data": {
      "application/javascript": [
       "\n",
       "            setTimeout(function() {\n",
       "                var nbb_cell_id = 89;\n",
       "                var nbb_unformatted_code = \"def log_loss_fun(\\n    category,\\n    data,\\n    y_true,\\n    y_pred,\\n):\\n    print(category, \\\" :\\\", log_loss(data[y_true], data[y_pred]))\";\n",
       "                var nbb_formatted_code = \"def log_loss_fun(\\n    category,\\n    data,\\n    y_true,\\n    y_pred,\\n):\\n    print(category, \\\" :\\\", log_loss(data[y_true], data[y_pred]))\";\n",
       "                var nbb_cells = Jupyter.notebook.get_cells();\n",
       "                for (var i = 0; i < nbb_cells.length; ++i) {\n",
       "                    if (nbb_cells[i].input_prompt_number == nbb_cell_id) {\n",
       "                        if (nbb_cells[i].get_text() == nbb_unformatted_code) {\n",
       "                             nbb_cells[i].set_text(nbb_formatted_code);\n",
       "                        }\n",
       "                        break;\n",
       "                    }\n",
       "                }\n",
       "            }, 500);\n",
       "            "
      ],
      "text/plain": [
       "<IPython.core.display.Javascript object>"
      ]
     },
     "metadata": {},
     "output_type": "display_data"
    },
    {
     "data": {
      "application/javascript": [
       "\n",
       "            setTimeout(function() {\n",
       "                var nbb_cell_id = 89;\n",
       "                var nbb_unformatted_code = \"def log_loss_fun(\\n    category,\\n    data,\\n    y_true,\\n    y_pred,\\n):\\n    print(category, \\\" :\\\", log_loss(data[y_true], data[y_pred]))\";\n",
       "                var nbb_formatted_code = \"def log_loss_fun(\\n    category,\\n    data,\\n    y_true,\\n    y_pred,\\n):\\n    print(category, \\\" :\\\", log_loss(data[y_true], data[y_pred]))\";\n",
       "                var nbb_cells = Jupyter.notebook.get_cells();\n",
       "                for (var i = 0; i < nbb_cells.length; ++i) {\n",
       "                    if (nbb_cells[i].input_prompt_number == nbb_cell_id) {\n",
       "                        if (nbb_cells[i].get_text() == nbb_unformatted_code) {\n",
       "                             nbb_cells[i].set_text(nbb_formatted_code);\n",
       "                        }\n",
       "                        break;\n",
       "                    }\n",
       "                }\n",
       "            }, 500);\n",
       "            "
      ],
      "text/plain": [
       "<IPython.core.display.Javascript object>"
      ]
     },
     "metadata": {},
     "output_type": "display_data"
    }
   ],
   "source": [
    "def log_loss_fun(\n",
    "    category,\n",
    "    data,\n",
    "    y_true,\n",
    "    y_pred,\n",
    "):\n",
    "    print(category, \" :\", log_loss(data[y_true], data[y_pred]))"
   ]
  },
  {
   "cell_type": "code",
   "execution_count": 90,
   "metadata": {},
   "outputs": [
    {
     "data": {
      "application/javascript": [
       "\n",
       "            setTimeout(function() {\n",
       "                var nbb_cell_id = 90;\n",
       "                var nbb_unformatted_code = \"def all_metrics(pred_label, true_label, model):\\n    \\\"\\\"\\\"\\\"\\\"\\n    pred_label = predicted label of the model\\n    true_label = true label\\n    model = model name\\n    \\\"\\\"\\\" \\\"\\\"\\n\\n    # F1 score\\n    f1_stat = f1_score(pred_label, true_label, average=\\\"weighted\\\")\\n\\n    # Confusion matrix\\n    cm = confusion_matrix(pred_label, true_label, labels=model.classes_)\\n    disp = ConfusionMatrixDisplay(confusion_matrix=cm, display_labels=model.classes_)\\n    fig = disp.plot()\\n\\n    return print(\\\"F1_stat \\\", model, \\\"is: \\\", f1_stat, fig)\";\n",
       "                var nbb_formatted_code = \"def all_metrics(pred_label, true_label, model):\\n    \\\"\\\"\\\"\\\"\\\"\\n    pred_label = predicted label of the model\\n    true_label = true label\\n    model = model name\\n    \\\"\\\"\\\" \\\"\\\"\\n\\n    # F1 score\\n    f1_stat = f1_score(pred_label, true_label, average=\\\"weighted\\\")\\n\\n    # Confusion matrix\\n    cm = confusion_matrix(pred_label, true_label, labels=model.classes_)\\n    disp = ConfusionMatrixDisplay(confusion_matrix=cm, display_labels=model.classes_)\\n    fig = disp.plot()\\n\\n    return print(\\\"F1_stat \\\", model, \\\"is: \\\", f1_stat, fig)\";\n",
       "                var nbb_cells = Jupyter.notebook.get_cells();\n",
       "                for (var i = 0; i < nbb_cells.length; ++i) {\n",
       "                    if (nbb_cells[i].input_prompt_number == nbb_cell_id) {\n",
       "                        if (nbb_cells[i].get_text() == nbb_unformatted_code) {\n",
       "                             nbb_cells[i].set_text(nbb_formatted_code);\n",
       "                        }\n",
       "                        break;\n",
       "                    }\n",
       "                }\n",
       "            }, 500);\n",
       "            "
      ],
      "text/plain": [
       "<IPython.core.display.Javascript object>"
      ]
     },
     "metadata": {},
     "output_type": "display_data"
    },
    {
     "data": {
      "application/javascript": [
       "\n",
       "            setTimeout(function() {\n",
       "                var nbb_cell_id = 90;\n",
       "                var nbb_unformatted_code = \"def all_metrics(pred_label, true_label, model):\\n    \\\"\\\"\\\"\\\"\\\"\\n    pred_label = predicted label of the model\\n    true_label = true label\\n    model = model name\\n    \\\"\\\"\\\" \\\"\\\"\\n\\n    # F1 score\\n    f1_stat = f1_score(pred_label, true_label, average=\\\"weighted\\\")\\n\\n    # Confusion matrix\\n    cm = confusion_matrix(pred_label, true_label, labels=model.classes_)\\n    disp = ConfusionMatrixDisplay(confusion_matrix=cm, display_labels=model.classes_)\\n    fig = disp.plot()\\n\\n    return print(\\\"F1_stat \\\", model, \\\"is: \\\", f1_stat, fig)\";\n",
       "                var nbb_formatted_code = \"def all_metrics(pred_label, true_label, model):\\n    \\\"\\\"\\\"\\\"\\\"\\n    pred_label = predicted label of the model\\n    true_label = true label\\n    model = model name\\n    \\\"\\\"\\\" \\\"\\\"\\n\\n    # F1 score\\n    f1_stat = f1_score(pred_label, true_label, average=\\\"weighted\\\")\\n\\n    # Confusion matrix\\n    cm = confusion_matrix(pred_label, true_label, labels=model.classes_)\\n    disp = ConfusionMatrixDisplay(confusion_matrix=cm, display_labels=model.classes_)\\n    fig = disp.plot()\\n\\n    return print(\\\"F1_stat \\\", model, \\\"is: \\\", f1_stat, fig)\";\n",
       "                var nbb_cells = Jupyter.notebook.get_cells();\n",
       "                for (var i = 0; i < nbb_cells.length; ++i) {\n",
       "                    if (nbb_cells[i].input_prompt_number == nbb_cell_id) {\n",
       "                        if (nbb_cells[i].get_text() == nbb_unformatted_code) {\n",
       "                             nbb_cells[i].set_text(nbb_formatted_code);\n",
       "                        }\n",
       "                        break;\n",
       "                    }\n",
       "                }\n",
       "            }, 500);\n",
       "            "
      ],
      "text/plain": [
       "<IPython.core.display.Javascript object>"
      ]
     },
     "metadata": {},
     "output_type": "display_data"
    }
   ],
   "source": [
    "def all_metrics(pred_label, true_label, model):\n",
    "    \"\"\"\"\"\n",
    "    pred_label = predicted label of the model\n",
    "    true_label = true label\n",
    "    model = model name\n",
    "    \"\"\" \"\"\n",
    "\n",
    "    # F1 score\n",
    "    f1_stat = f1_score(pred_label, true_label, average=\"weighted\")\n",
    "\n",
    "    # Confusion matrix\n",
    "    cm = confusion_matrix(pred_label, true_label, labels=model.classes_)\n",
    "    disp = ConfusionMatrixDisplay(confusion_matrix=cm, display_labels=model.classes_)\n",
    "    fig = disp.plot()\n",
    "\n",
    "    return print(\"F1_stat \", model, \"is: \", f1_stat, fig)"
   ]
  },
  {
   "cell_type": "code",
   "execution_count": 91,
   "metadata": {},
   "outputs": [
    {
     "data": {
      "application/javascript": [
       "\n",
       "            setTimeout(function() {\n",
       "                var nbb_cell_id = 91;\n",
       "                var nbb_unformatted_code = \"def evaluation(ri_data):  # ri1_train, ri2_train, etc..\\n\\n    # TRAIN NEW\\n    # Join labels to train set\\n    # Accepts\\n    train_accepts = pd.merge(\\n        X_train,\\n        y_train[[\\\"target\\\"]],\\n        how=\\\"left\\\",\\n        left_index=True,\\n        right_index=True,\\n    )\\n\\n    train_accepts[\\\"Flag1\\\"] = \\\"Accept\\\"\\n\\n    # Rejects\\n    train_rejects = pd.merge(\\n        r_dev_mod,\\n        ri_data[[\\\"prediction_beforeRI\\\"]],\\n        how=\\\"left\\\",\\n        left_index=True,\\n        right_index=True,\\n    )\\n\\n    # Align naming\\n    train_rejects.rename(columns={\\\"prediction_beforeRI\\\": \\\"target\\\"}, inplace=True)\\n\\n    # Create X and y\\n    X_res_rej, y_res_rej = create_X_y(train_rejects)\\n\\n    #     # Sample a matching number of observations from the accepts as the size of rejects\\n    #     # Shuffle the dataset\\n    #     shuffle_df = train_accepts.sample(frac=1, random_state=42)\\n    #     # Define a size for the train set\\n    #     train_size = int(0.25 * len(shuffle_df))\\n    #     train_accepts = shuffle_df[:train_size]\\n    #     print(train_accepts.shape)\\n\\n    # Concatenate Train Accepts and Train Rejects\\n    train_new = pd.concat([train_accepts, train_rejects])\\n\\n    # Flag\\n    train_new[\\\"Flag\\\"] = train_new[\\\"Flag1\\\"].apply(\\n        lambda x: \\\"Accept\\\" if x == \\\"Accept\\\" else \\\"Reject\\\"\\n    )\\n    train_new = train_new.drop(columns=[\\\"Flag1\\\"])\\n\\n    # Retrain KGB Model\\n\\n    # Split\\n    X_new = train_new[significant_columns]\\n    y_new = train_new[\\\"target\\\"]\\n    X_train_new, X_test_new, y_train_new, y_test_new = train_test_split(\\n        X_new, y_new, test_size=0.2, random_state=42\\n    )\\n\\n    # Keep only columns for modelling\\n    os_data_X_2_new = X_train_new[significant_columns]\\n    X_test_2_new = X_test_new[significant_columns]\\n\\n    # Build Logistic regression\\n    # logreg2 = LogisticRegression(fit_intercept=False, penalty=\\\"none\\\")\\n    # logreg2 = GradientBoostingClassifier(criterion=\\\"mse\\\")\\n    # logreg2 = RandomForestClassifier()\\n    logreg2 = LGBMClassifier()\\n    logreg2.fit(os_data_X_2_new, y_train_new.values.ravel())\\n\\n    # Predictions\\n    pred_test2 = pred(y_test, X_test, X_test_3, logreg2)\\n    pred_test2.rename(\\n        columns={\\\"prediction_beforeRI\\\": \\\"prediction_baseline\\\"}, inplace=True\\n    )\\n\\n    # Merge original and baseline predictions\\n    pred_test_final = pd.merge(\\n        pred_test1[[\\\"target\\\", \\\"prediction_beforeRI\\\"]],\\n        pred_test2[[\\\"prediction_baseline\\\"]],\\n        how=\\\"inner\\\",\\n        left_index=True,\\n        right_index=True,\\n    )\\n\\n    # Make binary predictions based on cutoff 50percentile of the distribution\\n    q1 = pred_test_final[\\\"prediction_beforeRI\\\"].quantile(q=1 - conservative_dr)\\n    q2 = pred_test_final[\\\"prediction_baseline\\\"].quantile(q=1 - conservative_dr)\\n    #     print(q1)\\n    #     print(q2)\\n    pred_test_final[\\\"prediction_beforeRI_binary\\\"] = pred_test_final[\\n        \\\"prediction_beforeRI\\\"\\n    ].apply(lambda x: 0 if (x < q1) else 1)\\n    pred_test_final[\\\"prediction_baseline\\\"] = pred_test_final[\\n        \\\"prediction_baseline\\\"\\n    ].apply(lambda x: 0 if (x < q2) else 1)\\n\\n    #     # Log Loss\\n    #     log_loss_fun(\\\"Before\\\", pred_test_final, \\\"target\\\", \\\"prediction_beforeRI_binary\\\")\\n    #     log_loss_fun(\\\"After\\\", pred_test_final, \\\"target\\\", \\\"prediction_baseline\\\")\\n\\n    #     # Numbers of accurately classified and misclassified cases\\n    #     print_results(pred_test_final, \\\"before RI\\\", \\\"prediction_beforeRI_binary\\\")\\n    #     print_results(pred_test_final, \\\"with baseline\\\", \\\"prediction_baseline\\\")\\n    return pred_test_final\";\n",
       "                var nbb_formatted_code = \"def evaluation(ri_data):  # ri1_train, ri2_train, etc..\\n\\n    # TRAIN NEW\\n    # Join labels to train set\\n    # Accepts\\n    train_accepts = pd.merge(\\n        X_train,\\n        y_train[[\\\"target\\\"]],\\n        how=\\\"left\\\",\\n        left_index=True,\\n        right_index=True,\\n    )\\n\\n    train_accepts[\\\"Flag1\\\"] = \\\"Accept\\\"\\n\\n    # Rejects\\n    train_rejects = pd.merge(\\n        r_dev_mod,\\n        ri_data[[\\\"prediction_beforeRI\\\"]],\\n        how=\\\"left\\\",\\n        left_index=True,\\n        right_index=True,\\n    )\\n\\n    # Align naming\\n    train_rejects.rename(columns={\\\"prediction_beforeRI\\\": \\\"target\\\"}, inplace=True)\\n\\n    # Create X and y\\n    X_res_rej, y_res_rej = create_X_y(train_rejects)\\n\\n    #     # Sample a matching number of observations from the accepts as the size of rejects\\n    #     # Shuffle the dataset\\n    #     shuffle_df = train_accepts.sample(frac=1, random_state=42)\\n    #     # Define a size for the train set\\n    #     train_size = int(0.25 * len(shuffle_df))\\n    #     train_accepts = shuffle_df[:train_size]\\n    #     print(train_accepts.shape)\\n\\n    # Concatenate Train Accepts and Train Rejects\\n    train_new = pd.concat([train_accepts, train_rejects])\\n\\n    # Flag\\n    train_new[\\\"Flag\\\"] = train_new[\\\"Flag1\\\"].apply(\\n        lambda x: \\\"Accept\\\" if x == \\\"Accept\\\" else \\\"Reject\\\"\\n    )\\n    train_new = train_new.drop(columns=[\\\"Flag1\\\"])\\n\\n    # Retrain KGB Model\\n\\n    # Split\\n    X_new = train_new[significant_columns]\\n    y_new = train_new[\\\"target\\\"]\\n    X_train_new, X_test_new, y_train_new, y_test_new = train_test_split(\\n        X_new, y_new, test_size=0.2, random_state=42\\n    )\\n\\n    # Keep only columns for modelling\\n    os_data_X_2_new = X_train_new[significant_columns]\\n    X_test_2_new = X_test_new[significant_columns]\\n\\n    # Build Logistic regression\\n    # logreg2 = LogisticRegression(fit_intercept=False, penalty=\\\"none\\\")\\n    # logreg2 = GradientBoostingClassifier(criterion=\\\"mse\\\")\\n    # logreg2 = RandomForestClassifier()\\n    logreg2 = LGBMClassifier()\\n    logreg2.fit(os_data_X_2_new, y_train_new.values.ravel())\\n\\n    # Predictions\\n    pred_test2 = pred(y_test, X_test, X_test_3, logreg2)\\n    pred_test2.rename(\\n        columns={\\\"prediction_beforeRI\\\": \\\"prediction_baseline\\\"}, inplace=True\\n    )\\n\\n    # Merge original and baseline predictions\\n    pred_test_final = pd.merge(\\n        pred_test1[[\\\"target\\\", \\\"prediction_beforeRI\\\"]],\\n        pred_test2[[\\\"prediction_baseline\\\"]],\\n        how=\\\"inner\\\",\\n        left_index=True,\\n        right_index=True,\\n    )\\n\\n    # Make binary predictions based on cutoff 50percentile of the distribution\\n    q1 = pred_test_final[\\\"prediction_beforeRI\\\"].quantile(q=1 - conservative_dr)\\n    q2 = pred_test_final[\\\"prediction_baseline\\\"].quantile(q=1 - conservative_dr)\\n    #     print(q1)\\n    #     print(q2)\\n    pred_test_final[\\\"prediction_beforeRI_binary\\\"] = pred_test_final[\\n        \\\"prediction_beforeRI\\\"\\n    ].apply(lambda x: 0 if (x < q1) else 1)\\n    pred_test_final[\\\"prediction_baseline\\\"] = pred_test_final[\\n        \\\"prediction_baseline\\\"\\n    ].apply(lambda x: 0 if (x < q2) else 1)\\n\\n    #     # Log Loss\\n    #     log_loss_fun(\\\"Before\\\", pred_test_final, \\\"target\\\", \\\"prediction_beforeRI_binary\\\")\\n    #     log_loss_fun(\\\"After\\\", pred_test_final, \\\"target\\\", \\\"prediction_baseline\\\")\\n\\n    #     # Numbers of accurately classified and misclassified cases\\n    #     print_results(pred_test_final, \\\"before RI\\\", \\\"prediction_beforeRI_binary\\\")\\n    #     print_results(pred_test_final, \\\"with baseline\\\", \\\"prediction_baseline\\\")\\n    return pred_test_final\";\n",
       "                var nbb_cells = Jupyter.notebook.get_cells();\n",
       "                for (var i = 0; i < nbb_cells.length; ++i) {\n",
       "                    if (nbb_cells[i].input_prompt_number == nbb_cell_id) {\n",
       "                        if (nbb_cells[i].get_text() == nbb_unformatted_code) {\n",
       "                             nbb_cells[i].set_text(nbb_formatted_code);\n",
       "                        }\n",
       "                        break;\n",
       "                    }\n",
       "                }\n",
       "            }, 500);\n",
       "            "
      ],
      "text/plain": [
       "<IPython.core.display.Javascript object>"
      ]
     },
     "metadata": {},
     "output_type": "display_data"
    },
    {
     "data": {
      "application/javascript": [
       "\n",
       "            setTimeout(function() {\n",
       "                var nbb_cell_id = 91;\n",
       "                var nbb_unformatted_code = \"def evaluation(ri_data):  # ri1_train, ri2_train, etc..\\n\\n    # TRAIN NEW\\n    # Join labels to train set\\n    # Accepts\\n    train_accepts = pd.merge(\\n        X_train,\\n        y_train[[\\\"target\\\"]],\\n        how=\\\"left\\\",\\n        left_index=True,\\n        right_index=True,\\n    )\\n\\n    train_accepts[\\\"Flag1\\\"] = \\\"Accept\\\"\\n\\n    # Rejects\\n    train_rejects = pd.merge(\\n        r_dev_mod,\\n        ri_data[[\\\"prediction_beforeRI\\\"]],\\n        how=\\\"left\\\",\\n        left_index=True,\\n        right_index=True,\\n    )\\n\\n    # Align naming\\n    train_rejects.rename(columns={\\\"prediction_beforeRI\\\": \\\"target\\\"}, inplace=True)\\n\\n    # Create X and y\\n    X_res_rej, y_res_rej = create_X_y(train_rejects)\\n\\n    #     # Sample a matching number of observations from the accepts as the size of rejects\\n    #     # Shuffle the dataset\\n    #     shuffle_df = train_accepts.sample(frac=1, random_state=42)\\n    #     # Define a size for the train set\\n    #     train_size = int(0.25 * len(shuffle_df))\\n    #     train_accepts = shuffle_df[:train_size]\\n    #     print(train_accepts.shape)\\n\\n    # Concatenate Train Accepts and Train Rejects\\n    train_new = pd.concat([train_accepts, train_rejects])\\n\\n    # Flag\\n    train_new[\\\"Flag\\\"] = train_new[\\\"Flag1\\\"].apply(\\n        lambda x: \\\"Accept\\\" if x == \\\"Accept\\\" else \\\"Reject\\\"\\n    )\\n    train_new = train_new.drop(columns=[\\\"Flag1\\\"])\\n\\n    # Retrain KGB Model\\n\\n    # Split\\n    X_new = train_new[significant_columns]\\n    y_new = train_new[\\\"target\\\"]\\n    X_train_new, X_test_new, y_train_new, y_test_new = train_test_split(\\n        X_new, y_new, test_size=0.2, random_state=42\\n    )\\n\\n    # Keep only columns for modelling\\n    os_data_X_2_new = X_train_new[significant_columns]\\n    X_test_2_new = X_test_new[significant_columns]\\n\\n    # Build Logistic regression\\n    # logreg2 = LogisticRegression(fit_intercept=False, penalty=\\\"none\\\")\\n    # logreg2 = GradientBoostingClassifier(criterion=\\\"mse\\\")\\n    # logreg2 = RandomForestClassifier()\\n    logreg2 = LGBMClassifier()\\n    logreg2.fit(os_data_X_2_new, y_train_new.values.ravel())\\n\\n    # Predictions\\n    pred_test2 = pred(y_test, X_test, X_test_3, logreg2)\\n    pred_test2.rename(\\n        columns={\\\"prediction_beforeRI\\\": \\\"prediction_baseline\\\"}, inplace=True\\n    )\\n\\n    # Merge original and baseline predictions\\n    pred_test_final = pd.merge(\\n        pred_test1[[\\\"target\\\", \\\"prediction_beforeRI\\\"]],\\n        pred_test2[[\\\"prediction_baseline\\\"]],\\n        how=\\\"inner\\\",\\n        left_index=True,\\n        right_index=True,\\n    )\\n\\n    # Make binary predictions based on cutoff 50percentile of the distribution\\n    q1 = pred_test_final[\\\"prediction_beforeRI\\\"].quantile(q=1 - conservative_dr)\\n    q2 = pred_test_final[\\\"prediction_baseline\\\"].quantile(q=1 - conservative_dr)\\n    #     print(q1)\\n    #     print(q2)\\n    pred_test_final[\\\"prediction_beforeRI_binary\\\"] = pred_test_final[\\n        \\\"prediction_beforeRI\\\"\\n    ].apply(lambda x: 0 if (x < q1) else 1)\\n    pred_test_final[\\\"prediction_baseline\\\"] = pred_test_final[\\n        \\\"prediction_baseline\\\"\\n    ].apply(lambda x: 0 if (x < q2) else 1)\\n\\n    #     # Log Loss\\n    #     log_loss_fun(\\\"Before\\\", pred_test_final, \\\"target\\\", \\\"prediction_beforeRI_binary\\\")\\n    #     log_loss_fun(\\\"After\\\", pred_test_final, \\\"target\\\", \\\"prediction_baseline\\\")\\n\\n    #     # Numbers of accurately classified and misclassified cases\\n    #     print_results(pred_test_final, \\\"before RI\\\", \\\"prediction_beforeRI_binary\\\")\\n    #     print_results(pred_test_final, \\\"with baseline\\\", \\\"prediction_baseline\\\")\\n    return pred_test_final\";\n",
       "                var nbb_formatted_code = \"def evaluation(ri_data):  # ri1_train, ri2_train, etc..\\n\\n    # TRAIN NEW\\n    # Join labels to train set\\n    # Accepts\\n    train_accepts = pd.merge(\\n        X_train,\\n        y_train[[\\\"target\\\"]],\\n        how=\\\"left\\\",\\n        left_index=True,\\n        right_index=True,\\n    )\\n\\n    train_accepts[\\\"Flag1\\\"] = \\\"Accept\\\"\\n\\n    # Rejects\\n    train_rejects = pd.merge(\\n        r_dev_mod,\\n        ri_data[[\\\"prediction_beforeRI\\\"]],\\n        how=\\\"left\\\",\\n        left_index=True,\\n        right_index=True,\\n    )\\n\\n    # Align naming\\n    train_rejects.rename(columns={\\\"prediction_beforeRI\\\": \\\"target\\\"}, inplace=True)\\n\\n    # Create X and y\\n    X_res_rej, y_res_rej = create_X_y(train_rejects)\\n\\n    #     # Sample a matching number of observations from the accepts as the size of rejects\\n    #     # Shuffle the dataset\\n    #     shuffle_df = train_accepts.sample(frac=1, random_state=42)\\n    #     # Define a size for the train set\\n    #     train_size = int(0.25 * len(shuffle_df))\\n    #     train_accepts = shuffle_df[:train_size]\\n    #     print(train_accepts.shape)\\n\\n    # Concatenate Train Accepts and Train Rejects\\n    train_new = pd.concat([train_accepts, train_rejects])\\n\\n    # Flag\\n    train_new[\\\"Flag\\\"] = train_new[\\\"Flag1\\\"].apply(\\n        lambda x: \\\"Accept\\\" if x == \\\"Accept\\\" else \\\"Reject\\\"\\n    )\\n    train_new = train_new.drop(columns=[\\\"Flag1\\\"])\\n\\n    # Retrain KGB Model\\n\\n    # Split\\n    X_new = train_new[significant_columns]\\n    y_new = train_new[\\\"target\\\"]\\n    X_train_new, X_test_new, y_train_new, y_test_new = train_test_split(\\n        X_new, y_new, test_size=0.2, random_state=42\\n    )\\n\\n    # Keep only columns for modelling\\n    os_data_X_2_new = X_train_new[significant_columns]\\n    X_test_2_new = X_test_new[significant_columns]\\n\\n    # Build Logistic regression\\n    # logreg2 = LogisticRegression(fit_intercept=False, penalty=\\\"none\\\")\\n    # logreg2 = GradientBoostingClassifier(criterion=\\\"mse\\\")\\n    # logreg2 = RandomForestClassifier()\\n    logreg2 = LGBMClassifier()\\n    logreg2.fit(os_data_X_2_new, y_train_new.values.ravel())\\n\\n    # Predictions\\n    pred_test2 = pred(y_test, X_test, X_test_3, logreg2)\\n    pred_test2.rename(\\n        columns={\\\"prediction_beforeRI\\\": \\\"prediction_baseline\\\"}, inplace=True\\n    )\\n\\n    # Merge original and baseline predictions\\n    pred_test_final = pd.merge(\\n        pred_test1[[\\\"target\\\", \\\"prediction_beforeRI\\\"]],\\n        pred_test2[[\\\"prediction_baseline\\\"]],\\n        how=\\\"inner\\\",\\n        left_index=True,\\n        right_index=True,\\n    )\\n\\n    # Make binary predictions based on cutoff 50percentile of the distribution\\n    q1 = pred_test_final[\\\"prediction_beforeRI\\\"].quantile(q=1 - conservative_dr)\\n    q2 = pred_test_final[\\\"prediction_baseline\\\"].quantile(q=1 - conservative_dr)\\n    #     print(q1)\\n    #     print(q2)\\n    pred_test_final[\\\"prediction_beforeRI_binary\\\"] = pred_test_final[\\n        \\\"prediction_beforeRI\\\"\\n    ].apply(lambda x: 0 if (x < q1) else 1)\\n    pred_test_final[\\\"prediction_baseline\\\"] = pred_test_final[\\n        \\\"prediction_baseline\\\"\\n    ].apply(lambda x: 0 if (x < q2) else 1)\\n\\n    #     # Log Loss\\n    #     log_loss_fun(\\\"Before\\\", pred_test_final, \\\"target\\\", \\\"prediction_beforeRI_binary\\\")\\n    #     log_loss_fun(\\\"After\\\", pred_test_final, \\\"target\\\", \\\"prediction_baseline\\\")\\n\\n    #     # Numbers of accurately classified and misclassified cases\\n    #     print_results(pred_test_final, \\\"before RI\\\", \\\"prediction_beforeRI_binary\\\")\\n    #     print_results(pred_test_final, \\\"with baseline\\\", \\\"prediction_baseline\\\")\\n    return pred_test_final\";\n",
       "                var nbb_cells = Jupyter.notebook.get_cells();\n",
       "                for (var i = 0; i < nbb_cells.length; ++i) {\n",
       "                    if (nbb_cells[i].input_prompt_number == nbb_cell_id) {\n",
       "                        if (nbb_cells[i].get_text() == nbb_unformatted_code) {\n",
       "                             nbb_cells[i].set_text(nbb_formatted_code);\n",
       "                        }\n",
       "                        break;\n",
       "                    }\n",
       "                }\n",
       "            }, 500);\n",
       "            "
      ],
      "text/plain": [
       "<IPython.core.display.Javascript object>"
      ]
     },
     "metadata": {},
     "output_type": "display_data"
    }
   ],
   "source": [
    "def evaluation(ri_data):  # ri1_train, ri2_train, etc..\n",
    "\n",
    "    # TRAIN NEW\n",
    "    # Join labels to train set\n",
    "    # Accepts\n",
    "    train_accepts = pd.merge(\n",
    "        X_train,\n",
    "        y_train[[\"target\"]],\n",
    "        how=\"left\",\n",
    "        left_index=True,\n",
    "        right_index=True,\n",
    "    )\n",
    "\n",
    "    train_accepts[\"Flag1\"] = \"Accept\"\n",
    "\n",
    "    # Rejects\n",
    "    train_rejects = pd.merge(\n",
    "        r_dev_mod,\n",
    "        ri_data[[\"prediction_beforeRI\"]],\n",
    "        how=\"left\",\n",
    "        left_index=True,\n",
    "        right_index=True,\n",
    "    )\n",
    "\n",
    "    # Align naming\n",
    "    train_rejects.rename(columns={\"prediction_beforeRI\": \"target\"}, inplace=True)\n",
    "\n",
    "    # Create X and y\n",
    "    X_res_rej, y_res_rej = create_X_y(train_rejects)\n",
    "\n",
    "    #     # Sample a matching number of observations from the accepts as the size of rejects\n",
    "    #     # Shuffle the dataset\n",
    "    #     shuffle_df = train_accepts.sample(frac=1, random_state=42)\n",
    "    #     # Define a size for the train set\n",
    "    #     train_size = int(0.25 * len(shuffle_df))\n",
    "    #     train_accepts = shuffle_df[:train_size]\n",
    "    #     print(train_accepts.shape)\n",
    "\n",
    "    # Concatenate Train Accepts and Train Rejects\n",
    "    train_new = pd.concat([train_accepts, train_rejects])\n",
    "\n",
    "    # Flag\n",
    "    train_new[\"Flag\"] = train_new[\"Flag1\"].apply(\n",
    "        lambda x: \"Accept\" if x == \"Accept\" else \"Reject\"\n",
    "    )\n",
    "    train_new = train_new.drop(columns=[\"Flag1\"])\n",
    "\n",
    "    # Retrain KGB Model\n",
    "\n",
    "    # Split\n",
    "    X_new = train_new[significant_columns]\n",
    "    y_new = train_new[\"target\"]\n",
    "    X_train_new, X_test_new, y_train_new, y_test_new = train_test_split(\n",
    "        X_new, y_new, test_size=0.2, random_state=42\n",
    "    )\n",
    "\n",
    "    # Keep only columns for modelling\n",
    "    os_data_X_2_new = X_train_new[significant_columns]\n",
    "    X_test_2_new = X_test_new[significant_columns]\n",
    "\n",
    "    # Build Logistic regression\n",
    "    # logreg2 = LogisticRegression(fit_intercept=False, penalty=\"none\")\n",
    "    # logreg2 = GradientBoostingClassifier(criterion=\"mse\")\n",
    "    # logreg2 = RandomForestClassifier()\n",
    "    logreg2 = LGBMClassifier()\n",
    "    logreg2.fit(os_data_X_2_new, y_train_new.values.ravel())\n",
    "\n",
    "    # Predictions\n",
    "    pred_test2 = pred(y_test, X_test, X_test_3, logreg2)\n",
    "    pred_test2.rename(\n",
    "        columns={\"prediction_beforeRI\": \"prediction_baseline\"}, inplace=True\n",
    "    )\n",
    "\n",
    "    # Merge original and baseline predictions\n",
    "    pred_test_final = pd.merge(\n",
    "        pred_test1[[\"target\", \"prediction_beforeRI\"]],\n",
    "        pred_test2[[\"prediction_baseline\"]],\n",
    "        how=\"inner\",\n",
    "        left_index=True,\n",
    "        right_index=True,\n",
    "    )\n",
    "\n",
    "    # Make binary predictions based on cutoff 50percentile of the distribution\n",
    "    q1 = pred_test_final[\"prediction_beforeRI\"].quantile(q=1 - conservative_dr)\n",
    "    q2 = pred_test_final[\"prediction_baseline\"].quantile(q=1 - conservative_dr)\n",
    "    #     print(q1)\n",
    "    #     print(q2)\n",
    "    pred_test_final[\"prediction_beforeRI_binary\"] = pred_test_final[\n",
    "        \"prediction_beforeRI\"\n",
    "    ].apply(lambda x: 0 if (x < q1) else 1)\n",
    "    pred_test_final[\"prediction_baseline\"] = pred_test_final[\n",
    "        \"prediction_baseline\"\n",
    "    ].apply(lambda x: 0 if (x < q2) else 1)\n",
    "\n",
    "    #     # Log Loss\n",
    "    #     log_loss_fun(\"Before\", pred_test_final, \"target\", \"prediction_beforeRI_binary\")\n",
    "    #     log_loss_fun(\"After\", pred_test_final, \"target\", \"prediction_baseline\")\n",
    "\n",
    "    #     # Numbers of accurately classified and misclassified cases\n",
    "    #     print_results(pred_test_final, \"before RI\", \"prediction_beforeRI_binary\")\n",
    "    #     print_results(pred_test_final, \"with baseline\", \"prediction_baseline\")\n",
    "    return pred_test_final"
   ]
  },
  {
   "cell_type": "markdown",
   "metadata": {},
   "source": [
    "**NOTE: The higher the DR the lower the quantile**"
   ]
  },
  {
   "cell_type": "code",
   "execution_count": 92,
   "metadata": {},
   "outputs": [
    {
     "data": {
      "application/javascript": [
       "\n",
       "            setTimeout(function() {\n",
       "                var nbb_cell_id = 92;\n",
       "                var nbb_unformatted_code = \"def evaluation_rejects(ri_data):  # ri1_train, ri2_train, etc..\\n\\n    # TRAIN NEW\\n    # Join labels to train set\\n    # Accepts\\n    train_accepts = pd.merge(\\n        X_train,\\n        y_train[[\\\"target\\\"]],\\n        how=\\\"left\\\",\\n        left_index=True,\\n        right_index=True,\\n    )\\n\\n    train_accepts[\\\"Flag1\\\"] = \\\"Accept\\\"\\n\\n    # Rejects\\n    train_rejects = pd.merge(\\n        r_dev_mod,\\n        ri_data[[\\\"prediction_beforeRI\\\"]],\\n        how=\\\"left\\\",\\n        left_index=True,\\n        right_index=True,\\n    )\\n\\n    # Align naming\\n    train_rejects.rename(columns={\\\"prediction_beforeRI\\\": \\\"target\\\"}, inplace=True)\\n\\n    # Create X and y for rejects\\n    X_res_rej, y_res_rej = create_X_y(train_rejects)\\n\\n    #     # Sample a matching number of observations from the accepts as the size of rejetcs\\n    #     ## Shuffle the dataset\\n    #     shuffle_df = train_accepts.sample(frac=1, random_state=42)\\n    #     ## Define a size for the train set\\n    #     train_size = int(0.03 * len(shuffle_df))\\n    #     train_accepts = shuffle_df[:train_size]\\n    #     print(train_accepts.shape)\\n\\n    # Concatenate Train Accepts and Train Rejects\\n    train_new = pd.concat([train_accepts, train_rejects])\\n\\n    # Flag\\n    train_new[\\\"Flag\\\"] = train_new[\\\"Flag1\\\"].apply(\\n        lambda x: \\\"Accept\\\" if x == \\\"Accept\\\" else \\\"Reject\\\"\\n    )\\n    train_new = train_new.drop(columns=[\\\"Flag1\\\"])\\n\\n    # Retrain KGB Model\\n\\n    # Split\\n    X_new = train_new[significant_columns]\\n    y_new = train_new[\\\"target\\\"]\\n    X_train_new, X_test_new, y_train_new, y_test_new = train_test_split(\\n        X_new, y_new, test_size=0.2, random_state=42\\n    )\\n\\n    # Keep only columns for modelling\\n    os_data_X_2_new = X_train_new[significant_columns]\\n    X_test_2_new = X_test_new[significant_columns]\\n\\n    # Build Logistic regression\\n    # logreg2 = LogisticRegression(fit_intercept=False, penalty=\\\"none\\\")\\n    # logreg2 = GradientBoostingClassifier(criterion=\\\"mse\\\")\\n    # logreg2 = RandomForestClassifier()\\n    logreg2 = LGBMClassifier()\\n    logreg2.fit(os_data_X_2_new, y_train_new.values.ravel())\\n\\n    # Predictions\\n    pred_rej2 = pred(\\n        dfr_test_with_label_y, dfr_test_with_label_X, dfr_test_with_label_X, logreg2\\n    )\\n    pred_rej2.rename(\\n        columns={\\\"prediction_beforeRI\\\": \\\"prediction_baseline\\\"}, inplace=True\\n    )\\n\\n    # Merge original and baseline predictions\\n    pred_test_final = pd.merge(\\n        pred_rej1[[\\\"target\\\", \\\"prediction_beforeRI\\\"]],\\n        pred_rej2[[\\\"prediction_baseline\\\"]],\\n        how=\\\"inner\\\",\\n        left_index=True,\\n        right_index=True,\\n    )\\n\\n    # Make binary predictions based on cutoff: median of the distribution\\n    q1 = pred_test_final[\\\"prediction_beforeRI\\\"].quantile(q=1 - conservative_dr)\\n    q2 = pred_test_final[\\\"prediction_baseline\\\"].quantile(q=1 - conservative_dr)\\n    #     print(q1)\\n    #     print(q2)\\n    pred_test_final[\\\"prediction_beforeRI_binary\\\"] = pred_test_final[\\n        \\\"prediction_beforeRI\\\"\\n    ].apply(lambda x: 0 if (x < q1) else 1)\\n    pred_test_final[\\\"prediction_baseline\\\"] = pred_test_final[\\n        \\\"prediction_baseline\\\"\\n    ].apply(lambda x: 0 if (x < q2) else 1)\\n\\n    #     # Log Loss\\n    #     log_loss_fun(\\\"Before\\\", pred_test_final, \\\"target\\\", \\\"prediction_beforeRI_binary\\\")\\n    #     log_loss_fun(\\\"After\\\", pred_test_final, \\\"target\\\", \\\"prediction_baseline\\\")\\n\\n    #     # Numbers of accurately classified and misclassified cases\\n    #     print_results(pred_test_final, \\\"before RI\\\", \\\"prediction_beforeRI_binary\\\")\\n    #     print_results(pred_test_final, \\\"with baseline\\\", \\\"prediction_baseline\\\")\\n    return pred_test_final\";\n",
       "                var nbb_formatted_code = \"def evaluation_rejects(ri_data):  # ri1_train, ri2_train, etc..\\n\\n    # TRAIN NEW\\n    # Join labels to train set\\n    # Accepts\\n    train_accepts = pd.merge(\\n        X_train,\\n        y_train[[\\\"target\\\"]],\\n        how=\\\"left\\\",\\n        left_index=True,\\n        right_index=True,\\n    )\\n\\n    train_accepts[\\\"Flag1\\\"] = \\\"Accept\\\"\\n\\n    # Rejects\\n    train_rejects = pd.merge(\\n        r_dev_mod,\\n        ri_data[[\\\"prediction_beforeRI\\\"]],\\n        how=\\\"left\\\",\\n        left_index=True,\\n        right_index=True,\\n    )\\n\\n    # Align naming\\n    train_rejects.rename(columns={\\\"prediction_beforeRI\\\": \\\"target\\\"}, inplace=True)\\n\\n    # Create X and y for rejects\\n    X_res_rej, y_res_rej = create_X_y(train_rejects)\\n\\n    #     # Sample a matching number of observations from the accepts as the size of rejetcs\\n    #     ## Shuffle the dataset\\n    #     shuffle_df = train_accepts.sample(frac=1, random_state=42)\\n    #     ## Define a size for the train set\\n    #     train_size = int(0.03 * len(shuffle_df))\\n    #     train_accepts = shuffle_df[:train_size]\\n    #     print(train_accepts.shape)\\n\\n    # Concatenate Train Accepts and Train Rejects\\n    train_new = pd.concat([train_accepts, train_rejects])\\n\\n    # Flag\\n    train_new[\\\"Flag\\\"] = train_new[\\\"Flag1\\\"].apply(\\n        lambda x: \\\"Accept\\\" if x == \\\"Accept\\\" else \\\"Reject\\\"\\n    )\\n    train_new = train_new.drop(columns=[\\\"Flag1\\\"])\\n\\n    # Retrain KGB Model\\n\\n    # Split\\n    X_new = train_new[significant_columns]\\n    y_new = train_new[\\\"target\\\"]\\n    X_train_new, X_test_new, y_train_new, y_test_new = train_test_split(\\n        X_new, y_new, test_size=0.2, random_state=42\\n    )\\n\\n    # Keep only columns for modelling\\n    os_data_X_2_new = X_train_new[significant_columns]\\n    X_test_2_new = X_test_new[significant_columns]\\n\\n    # Build Logistic regression\\n    # logreg2 = LogisticRegression(fit_intercept=False, penalty=\\\"none\\\")\\n    # logreg2 = GradientBoostingClassifier(criterion=\\\"mse\\\")\\n    # logreg2 = RandomForestClassifier()\\n    logreg2 = LGBMClassifier()\\n    logreg2.fit(os_data_X_2_new, y_train_new.values.ravel())\\n\\n    # Predictions\\n    pred_rej2 = pred(\\n        dfr_test_with_label_y, dfr_test_with_label_X, dfr_test_with_label_X, logreg2\\n    )\\n    pred_rej2.rename(\\n        columns={\\\"prediction_beforeRI\\\": \\\"prediction_baseline\\\"}, inplace=True\\n    )\\n\\n    # Merge original and baseline predictions\\n    pred_test_final = pd.merge(\\n        pred_rej1[[\\\"target\\\", \\\"prediction_beforeRI\\\"]],\\n        pred_rej2[[\\\"prediction_baseline\\\"]],\\n        how=\\\"inner\\\",\\n        left_index=True,\\n        right_index=True,\\n    )\\n\\n    # Make binary predictions based on cutoff: median of the distribution\\n    q1 = pred_test_final[\\\"prediction_beforeRI\\\"].quantile(q=1 - conservative_dr)\\n    q2 = pred_test_final[\\\"prediction_baseline\\\"].quantile(q=1 - conservative_dr)\\n    #     print(q1)\\n    #     print(q2)\\n    pred_test_final[\\\"prediction_beforeRI_binary\\\"] = pred_test_final[\\n        \\\"prediction_beforeRI\\\"\\n    ].apply(lambda x: 0 if (x < q1) else 1)\\n    pred_test_final[\\\"prediction_baseline\\\"] = pred_test_final[\\n        \\\"prediction_baseline\\\"\\n    ].apply(lambda x: 0 if (x < q2) else 1)\\n\\n    #     # Log Loss\\n    #     log_loss_fun(\\\"Before\\\", pred_test_final, \\\"target\\\", \\\"prediction_beforeRI_binary\\\")\\n    #     log_loss_fun(\\\"After\\\", pred_test_final, \\\"target\\\", \\\"prediction_baseline\\\")\\n\\n    #     # Numbers of accurately classified and misclassified cases\\n    #     print_results(pred_test_final, \\\"before RI\\\", \\\"prediction_beforeRI_binary\\\")\\n    #     print_results(pred_test_final, \\\"with baseline\\\", \\\"prediction_baseline\\\")\\n    return pred_test_final\";\n",
       "                var nbb_cells = Jupyter.notebook.get_cells();\n",
       "                for (var i = 0; i < nbb_cells.length; ++i) {\n",
       "                    if (nbb_cells[i].input_prompt_number == nbb_cell_id) {\n",
       "                        if (nbb_cells[i].get_text() == nbb_unformatted_code) {\n",
       "                             nbb_cells[i].set_text(nbb_formatted_code);\n",
       "                        }\n",
       "                        break;\n",
       "                    }\n",
       "                }\n",
       "            }, 500);\n",
       "            "
      ],
      "text/plain": [
       "<IPython.core.display.Javascript object>"
      ]
     },
     "metadata": {},
     "output_type": "display_data"
    },
    {
     "data": {
      "application/javascript": [
       "\n",
       "            setTimeout(function() {\n",
       "                var nbb_cell_id = 92;\n",
       "                var nbb_unformatted_code = \"def evaluation_rejects(ri_data):  # ri1_train, ri2_train, etc..\\n\\n    # TRAIN NEW\\n    # Join labels to train set\\n    # Accepts\\n    train_accepts = pd.merge(\\n        X_train,\\n        y_train[[\\\"target\\\"]],\\n        how=\\\"left\\\",\\n        left_index=True,\\n        right_index=True,\\n    )\\n\\n    train_accepts[\\\"Flag1\\\"] = \\\"Accept\\\"\\n\\n    # Rejects\\n    train_rejects = pd.merge(\\n        r_dev_mod,\\n        ri_data[[\\\"prediction_beforeRI\\\"]],\\n        how=\\\"left\\\",\\n        left_index=True,\\n        right_index=True,\\n    )\\n\\n    # Align naming\\n    train_rejects.rename(columns={\\\"prediction_beforeRI\\\": \\\"target\\\"}, inplace=True)\\n\\n    # Create X and y for rejects\\n    X_res_rej, y_res_rej = create_X_y(train_rejects)\\n\\n    #     # Sample a matching number of observations from the accepts as the size of rejetcs\\n    #     ## Shuffle the dataset\\n    #     shuffle_df = train_accepts.sample(frac=1, random_state=42)\\n    #     ## Define a size for the train set\\n    #     train_size = int(0.03 * len(shuffle_df))\\n    #     train_accepts = shuffle_df[:train_size]\\n    #     print(train_accepts.shape)\\n\\n    # Concatenate Train Accepts and Train Rejects\\n    train_new = pd.concat([train_accepts, train_rejects])\\n\\n    # Flag\\n    train_new[\\\"Flag\\\"] = train_new[\\\"Flag1\\\"].apply(\\n        lambda x: \\\"Accept\\\" if x == \\\"Accept\\\" else \\\"Reject\\\"\\n    )\\n    train_new = train_new.drop(columns=[\\\"Flag1\\\"])\\n\\n    # Retrain KGB Model\\n\\n    # Split\\n    X_new = train_new[significant_columns]\\n    y_new = train_new[\\\"target\\\"]\\n    X_train_new, X_test_new, y_train_new, y_test_new = train_test_split(\\n        X_new, y_new, test_size=0.2, random_state=42\\n    )\\n\\n    # Keep only columns for modelling\\n    os_data_X_2_new = X_train_new[significant_columns]\\n    X_test_2_new = X_test_new[significant_columns]\\n\\n    # Build Logistic regression\\n    # logreg2 = LogisticRegression(fit_intercept=False, penalty=\\\"none\\\")\\n    # logreg2 = GradientBoostingClassifier(criterion=\\\"mse\\\")\\n    # logreg2 = RandomForestClassifier()\\n    logreg2 = LGBMClassifier()\\n    logreg2.fit(os_data_X_2_new, y_train_new.values.ravel())\\n\\n    # Predictions\\n    pred_rej2 = pred(\\n        dfr_test_with_label_y, dfr_test_with_label_X, dfr_test_with_label_X, logreg2\\n    )\\n    pred_rej2.rename(\\n        columns={\\\"prediction_beforeRI\\\": \\\"prediction_baseline\\\"}, inplace=True\\n    )\\n\\n    # Merge original and baseline predictions\\n    pred_test_final = pd.merge(\\n        pred_rej1[[\\\"target\\\", \\\"prediction_beforeRI\\\"]],\\n        pred_rej2[[\\\"prediction_baseline\\\"]],\\n        how=\\\"inner\\\",\\n        left_index=True,\\n        right_index=True,\\n    )\\n\\n    # Make binary predictions based on cutoff: median of the distribution\\n    q1 = pred_test_final[\\\"prediction_beforeRI\\\"].quantile(q=1 - conservative_dr)\\n    q2 = pred_test_final[\\\"prediction_baseline\\\"].quantile(q=1 - conservative_dr)\\n    #     print(q1)\\n    #     print(q2)\\n    pred_test_final[\\\"prediction_beforeRI_binary\\\"] = pred_test_final[\\n        \\\"prediction_beforeRI\\\"\\n    ].apply(lambda x: 0 if (x < q1) else 1)\\n    pred_test_final[\\\"prediction_baseline\\\"] = pred_test_final[\\n        \\\"prediction_baseline\\\"\\n    ].apply(lambda x: 0 if (x < q2) else 1)\\n\\n    #     # Log Loss\\n    #     log_loss_fun(\\\"Before\\\", pred_test_final, \\\"target\\\", \\\"prediction_beforeRI_binary\\\")\\n    #     log_loss_fun(\\\"After\\\", pred_test_final, \\\"target\\\", \\\"prediction_baseline\\\")\\n\\n    #     # Numbers of accurately classified and misclassified cases\\n    #     print_results(pred_test_final, \\\"before RI\\\", \\\"prediction_beforeRI_binary\\\")\\n    #     print_results(pred_test_final, \\\"with baseline\\\", \\\"prediction_baseline\\\")\\n    return pred_test_final\";\n",
       "                var nbb_formatted_code = \"def evaluation_rejects(ri_data):  # ri1_train, ri2_train, etc..\\n\\n    # TRAIN NEW\\n    # Join labels to train set\\n    # Accepts\\n    train_accepts = pd.merge(\\n        X_train,\\n        y_train[[\\\"target\\\"]],\\n        how=\\\"left\\\",\\n        left_index=True,\\n        right_index=True,\\n    )\\n\\n    train_accepts[\\\"Flag1\\\"] = \\\"Accept\\\"\\n\\n    # Rejects\\n    train_rejects = pd.merge(\\n        r_dev_mod,\\n        ri_data[[\\\"prediction_beforeRI\\\"]],\\n        how=\\\"left\\\",\\n        left_index=True,\\n        right_index=True,\\n    )\\n\\n    # Align naming\\n    train_rejects.rename(columns={\\\"prediction_beforeRI\\\": \\\"target\\\"}, inplace=True)\\n\\n    # Create X and y for rejects\\n    X_res_rej, y_res_rej = create_X_y(train_rejects)\\n\\n    #     # Sample a matching number of observations from the accepts as the size of rejetcs\\n    #     ## Shuffle the dataset\\n    #     shuffle_df = train_accepts.sample(frac=1, random_state=42)\\n    #     ## Define a size for the train set\\n    #     train_size = int(0.03 * len(shuffle_df))\\n    #     train_accepts = shuffle_df[:train_size]\\n    #     print(train_accepts.shape)\\n\\n    # Concatenate Train Accepts and Train Rejects\\n    train_new = pd.concat([train_accepts, train_rejects])\\n\\n    # Flag\\n    train_new[\\\"Flag\\\"] = train_new[\\\"Flag1\\\"].apply(\\n        lambda x: \\\"Accept\\\" if x == \\\"Accept\\\" else \\\"Reject\\\"\\n    )\\n    train_new = train_new.drop(columns=[\\\"Flag1\\\"])\\n\\n    # Retrain KGB Model\\n\\n    # Split\\n    X_new = train_new[significant_columns]\\n    y_new = train_new[\\\"target\\\"]\\n    X_train_new, X_test_new, y_train_new, y_test_new = train_test_split(\\n        X_new, y_new, test_size=0.2, random_state=42\\n    )\\n\\n    # Keep only columns for modelling\\n    os_data_X_2_new = X_train_new[significant_columns]\\n    X_test_2_new = X_test_new[significant_columns]\\n\\n    # Build Logistic regression\\n    # logreg2 = LogisticRegression(fit_intercept=False, penalty=\\\"none\\\")\\n    # logreg2 = GradientBoostingClassifier(criterion=\\\"mse\\\")\\n    # logreg2 = RandomForestClassifier()\\n    logreg2 = LGBMClassifier()\\n    logreg2.fit(os_data_X_2_new, y_train_new.values.ravel())\\n\\n    # Predictions\\n    pred_rej2 = pred(\\n        dfr_test_with_label_y, dfr_test_with_label_X, dfr_test_with_label_X, logreg2\\n    )\\n    pred_rej2.rename(\\n        columns={\\\"prediction_beforeRI\\\": \\\"prediction_baseline\\\"}, inplace=True\\n    )\\n\\n    # Merge original and baseline predictions\\n    pred_test_final = pd.merge(\\n        pred_rej1[[\\\"target\\\", \\\"prediction_beforeRI\\\"]],\\n        pred_rej2[[\\\"prediction_baseline\\\"]],\\n        how=\\\"inner\\\",\\n        left_index=True,\\n        right_index=True,\\n    )\\n\\n    # Make binary predictions based on cutoff: median of the distribution\\n    q1 = pred_test_final[\\\"prediction_beforeRI\\\"].quantile(q=1 - conservative_dr)\\n    q2 = pred_test_final[\\\"prediction_baseline\\\"].quantile(q=1 - conservative_dr)\\n    #     print(q1)\\n    #     print(q2)\\n    pred_test_final[\\\"prediction_beforeRI_binary\\\"] = pred_test_final[\\n        \\\"prediction_beforeRI\\\"\\n    ].apply(lambda x: 0 if (x < q1) else 1)\\n    pred_test_final[\\\"prediction_baseline\\\"] = pred_test_final[\\n        \\\"prediction_baseline\\\"\\n    ].apply(lambda x: 0 if (x < q2) else 1)\\n\\n    #     # Log Loss\\n    #     log_loss_fun(\\\"Before\\\", pred_test_final, \\\"target\\\", \\\"prediction_beforeRI_binary\\\")\\n    #     log_loss_fun(\\\"After\\\", pred_test_final, \\\"target\\\", \\\"prediction_baseline\\\")\\n\\n    #     # Numbers of accurately classified and misclassified cases\\n    #     print_results(pred_test_final, \\\"before RI\\\", \\\"prediction_beforeRI_binary\\\")\\n    #     print_results(pred_test_final, \\\"with baseline\\\", \\\"prediction_baseline\\\")\\n    return pred_test_final\";\n",
       "                var nbb_cells = Jupyter.notebook.get_cells();\n",
       "                for (var i = 0; i < nbb_cells.length; ++i) {\n",
       "                    if (nbb_cells[i].input_prompt_number == nbb_cell_id) {\n",
       "                        if (nbb_cells[i].get_text() == nbb_unformatted_code) {\n",
       "                             nbb_cells[i].set_text(nbb_formatted_code);\n",
       "                        }\n",
       "                        break;\n",
       "                    }\n",
       "                }\n",
       "            }, 500);\n",
       "            "
      ],
      "text/plain": [
       "<IPython.core.display.Javascript object>"
      ]
     },
     "metadata": {},
     "output_type": "display_data"
    }
   ],
   "source": [
    "def evaluation_rejects(ri_data):  # ri1_train, ri2_train, etc..\n",
    "\n",
    "    # TRAIN NEW\n",
    "    # Join labels to train set\n",
    "    # Accepts\n",
    "    train_accepts = pd.merge(\n",
    "        X_train,\n",
    "        y_train[[\"target\"]],\n",
    "        how=\"left\",\n",
    "        left_index=True,\n",
    "        right_index=True,\n",
    "    )\n",
    "\n",
    "    train_accepts[\"Flag1\"] = \"Accept\"\n",
    "\n",
    "    # Rejects\n",
    "    train_rejects = pd.merge(\n",
    "        r_dev_mod,\n",
    "        ri_data[[\"prediction_beforeRI\"]],\n",
    "        how=\"left\",\n",
    "        left_index=True,\n",
    "        right_index=True,\n",
    "    )\n",
    "\n",
    "    # Align naming\n",
    "    train_rejects.rename(columns={\"prediction_beforeRI\": \"target\"}, inplace=True)\n",
    "\n",
    "    # Create X and y for rejects\n",
    "    X_res_rej, y_res_rej = create_X_y(train_rejects)\n",
    "\n",
    "    #     # Sample a matching number of observations from the accepts as the size of rejetcs\n",
    "    #     ## Shuffle the dataset\n",
    "    #     shuffle_df = train_accepts.sample(frac=1, random_state=42)\n",
    "    #     ## Define a size for the train set\n",
    "    #     train_size = int(0.03 * len(shuffle_df))\n",
    "    #     train_accepts = shuffle_df[:train_size]\n",
    "    #     print(train_accepts.shape)\n",
    "\n",
    "    # Concatenate Train Accepts and Train Rejects\n",
    "    train_new = pd.concat([train_accepts, train_rejects])\n",
    "\n",
    "    # Flag\n",
    "    train_new[\"Flag\"] = train_new[\"Flag1\"].apply(\n",
    "        lambda x: \"Accept\" if x == \"Accept\" else \"Reject\"\n",
    "    )\n",
    "    train_new = train_new.drop(columns=[\"Flag1\"])\n",
    "\n",
    "    # Retrain KGB Model\n",
    "\n",
    "    # Split\n",
    "    X_new = train_new[significant_columns]\n",
    "    y_new = train_new[\"target\"]\n",
    "    X_train_new, X_test_new, y_train_new, y_test_new = train_test_split(\n",
    "        X_new, y_new, test_size=0.2, random_state=42\n",
    "    )\n",
    "\n",
    "    # Keep only columns for modelling\n",
    "    os_data_X_2_new = X_train_new[significant_columns]\n",
    "    X_test_2_new = X_test_new[significant_columns]\n",
    "\n",
    "    # Build Logistic regression\n",
    "    # logreg2 = LogisticRegression(fit_intercept=False, penalty=\"none\")\n",
    "    # logreg2 = GradientBoostingClassifier(criterion=\"mse\")\n",
    "    # logreg2 = RandomForestClassifier()\n",
    "    logreg2 = LGBMClassifier()\n",
    "    logreg2.fit(os_data_X_2_new, y_train_new.values.ravel())\n",
    "\n",
    "    # Predictions\n",
    "    pred_rej2 = pred(\n",
    "        dfr_test_with_label_y, dfr_test_with_label_X, dfr_test_with_label_X, logreg2\n",
    "    )\n",
    "    pred_rej2.rename(\n",
    "        columns={\"prediction_beforeRI\": \"prediction_baseline\"}, inplace=True\n",
    "    )\n",
    "\n",
    "    # Merge original and baseline predictions\n",
    "    pred_test_final = pd.merge(\n",
    "        pred_rej1[[\"target\", \"prediction_beforeRI\"]],\n",
    "        pred_rej2[[\"prediction_baseline\"]],\n",
    "        how=\"inner\",\n",
    "        left_index=True,\n",
    "        right_index=True,\n",
    "    )\n",
    "\n",
    "    # Make binary predictions based on cutoff: median of the distribution\n",
    "    q1 = pred_test_final[\"prediction_beforeRI\"].quantile(q=1 - conservative_dr)\n",
    "    q2 = pred_test_final[\"prediction_baseline\"].quantile(q=1 - conservative_dr)\n",
    "    #     print(q1)\n",
    "    #     print(q2)\n",
    "    pred_test_final[\"prediction_beforeRI_binary\"] = pred_test_final[\n",
    "        \"prediction_beforeRI\"\n",
    "    ].apply(lambda x: 0 if (x < q1) else 1)\n",
    "    pred_test_final[\"prediction_baseline\"] = pred_test_final[\n",
    "        \"prediction_baseline\"\n",
    "    ].apply(lambda x: 0 if (x < q2) else 1)\n",
    "\n",
    "    #     # Log Loss\n",
    "    #     log_loss_fun(\"Before\", pred_test_final, \"target\", \"prediction_beforeRI_binary\")\n",
    "    #     log_loss_fun(\"After\", pred_test_final, \"target\", \"prediction_baseline\")\n",
    "\n",
    "    #     # Numbers of accurately classified and misclassified cases\n",
    "    #     print_results(pred_test_final, \"before RI\", \"prediction_beforeRI_binary\")\n",
    "    #     print_results(pred_test_final, \"with baseline\", \"prediction_baseline\")\n",
    "    return pred_test_final"
   ]
  },
  {
   "cell_type": "markdown",
   "metadata": {},
   "source": [
    "## Kickout Evaluation"
   ]
  },
  {
   "cell_type": "code",
   "execution_count": 112,
   "metadata": {},
   "outputs": [
    {
     "data": {
      "application/javascript": [
       "\n",
       "            setTimeout(function() {\n",
       "                var nbb_cell_id = 112;\n",
       "                var nbb_unformatted_code = \"def flag_df(df):\\n\\n    # Flag kicked out bad cases (want more of these)\\n    if (\\n        df[\\\"target\\\"] == 1\\n        and df[\\\"prediction_beforeRI_binary\\\"] == 0\\n        and df[\\\"prediction_baseline\\\"] == 1\\n    ):\\n        return \\\"KB\\\"\\n\\n    # Flag kicked out good cases (want less of these)\\n    elif (\\n        df[\\\"target\\\"] == 0\\n        and df[\\\"prediction_beforeRI_binary\\\"] == 0\\n        and df[\\\"prediction_baseline\\\"] == 1\\n    ):\\n        return \\\"KG\\\"\\n\\n    # Flag kicked in good cases (want more of these)\\n    elif (\\n        df[\\\"target\\\"] == 0\\n        and df[\\\"prediction_beforeRI_binary\\\"] == 1\\n        and df[\\\"prediction_baseline\\\"] == 0\\n    ):\\n        return \\\"IG\\\"\\n\\n    # Flag kicked in bad cases (want less of these)\\n    elif (\\n        df[\\\"target\\\"] == 1\\n        and df[\\\"prediction_beforeRI_binary\\\"] == 1\\n        and df[\\\"prediction_baseline\\\"] == 0\\n    ):\\n        return \\\"IB\\\"\";\n",
       "                var nbb_formatted_code = \"def flag_df(df):\\n\\n    # Flag kicked out bad cases (want more of these)\\n    if (\\n        df[\\\"target\\\"] == 1\\n        and df[\\\"prediction_beforeRI_binary\\\"] == 0\\n        and df[\\\"prediction_baseline\\\"] == 1\\n    ):\\n        return \\\"KB\\\"\\n\\n    # Flag kicked out good cases (want less of these)\\n    elif (\\n        df[\\\"target\\\"] == 0\\n        and df[\\\"prediction_beforeRI_binary\\\"] == 0\\n        and df[\\\"prediction_baseline\\\"] == 1\\n    ):\\n        return \\\"KG\\\"\\n\\n    # Flag kicked in good cases (want more of these)\\n    elif (\\n        df[\\\"target\\\"] == 0\\n        and df[\\\"prediction_beforeRI_binary\\\"] == 1\\n        and df[\\\"prediction_baseline\\\"] == 0\\n    ):\\n        return \\\"IG\\\"\\n\\n    # Flag kicked in bad cases (want less of these)\\n    elif (\\n        df[\\\"target\\\"] == 1\\n        and df[\\\"prediction_beforeRI_binary\\\"] == 1\\n        and df[\\\"prediction_baseline\\\"] == 0\\n    ):\\n        return \\\"IB\\\"\";\n",
       "                var nbb_cells = Jupyter.notebook.get_cells();\n",
       "                for (var i = 0; i < nbb_cells.length; ++i) {\n",
       "                    if (nbb_cells[i].input_prompt_number == nbb_cell_id) {\n",
       "                        if (nbb_cells[i].get_text() == nbb_unformatted_code) {\n",
       "                             nbb_cells[i].set_text(nbb_formatted_code);\n",
       "                        }\n",
       "                        break;\n",
       "                    }\n",
       "                }\n",
       "            }, 500);\n",
       "            "
      ],
      "text/plain": [
       "<IPython.core.display.Javascript object>"
      ]
     },
     "metadata": {},
     "output_type": "display_data"
    },
    {
     "data": {
      "application/javascript": [
       "\n",
       "            setTimeout(function() {\n",
       "                var nbb_cell_id = 112;\n",
       "                var nbb_unformatted_code = \"def flag_df(df):\\n\\n    # Flag kicked out bad cases (want more of these)\\n    if (\\n        df[\\\"target\\\"] == 1\\n        and df[\\\"prediction_beforeRI_binary\\\"] == 0\\n        and df[\\\"prediction_baseline\\\"] == 1\\n    ):\\n        return \\\"KB\\\"\\n\\n    # Flag kicked out good cases (want less of these)\\n    elif (\\n        df[\\\"target\\\"] == 0\\n        and df[\\\"prediction_beforeRI_binary\\\"] == 0\\n        and df[\\\"prediction_baseline\\\"] == 1\\n    ):\\n        return \\\"KG\\\"\\n\\n    # Flag kicked in good cases (want more of these)\\n    elif (\\n        df[\\\"target\\\"] == 0\\n        and df[\\\"prediction_beforeRI_binary\\\"] == 1\\n        and df[\\\"prediction_baseline\\\"] == 0\\n    ):\\n        return \\\"IG\\\"\\n\\n    # Flag kicked in bad cases (want less of these)\\n    elif (\\n        df[\\\"target\\\"] == 1\\n        and df[\\\"prediction_beforeRI_binary\\\"] == 1\\n        and df[\\\"prediction_baseline\\\"] == 0\\n    ):\\n        return \\\"IB\\\"\";\n",
       "                var nbb_formatted_code = \"def flag_df(df):\\n\\n    # Flag kicked out bad cases (want more of these)\\n    if (\\n        df[\\\"target\\\"] == 1\\n        and df[\\\"prediction_beforeRI_binary\\\"] == 0\\n        and df[\\\"prediction_baseline\\\"] == 1\\n    ):\\n        return \\\"KB\\\"\\n\\n    # Flag kicked out good cases (want less of these)\\n    elif (\\n        df[\\\"target\\\"] == 0\\n        and df[\\\"prediction_beforeRI_binary\\\"] == 0\\n        and df[\\\"prediction_baseline\\\"] == 1\\n    ):\\n        return \\\"KG\\\"\\n\\n    # Flag kicked in good cases (want more of these)\\n    elif (\\n        df[\\\"target\\\"] == 0\\n        and df[\\\"prediction_beforeRI_binary\\\"] == 1\\n        and df[\\\"prediction_baseline\\\"] == 0\\n    ):\\n        return \\\"IG\\\"\\n\\n    # Flag kicked in bad cases (want less of these)\\n    elif (\\n        df[\\\"target\\\"] == 1\\n        and df[\\\"prediction_beforeRI_binary\\\"] == 1\\n        and df[\\\"prediction_baseline\\\"] == 0\\n    ):\\n        return \\\"IB\\\"\";\n",
       "                var nbb_cells = Jupyter.notebook.get_cells();\n",
       "                for (var i = 0; i < nbb_cells.length; ++i) {\n",
       "                    if (nbb_cells[i].input_prompt_number == nbb_cell_id) {\n",
       "                        if (nbb_cells[i].get_text() == nbb_unformatted_code) {\n",
       "                             nbb_cells[i].set_text(nbb_formatted_code);\n",
       "                        }\n",
       "                        break;\n",
       "                    }\n",
       "                }\n",
       "            }, 500);\n",
       "            "
      ],
      "text/plain": [
       "<IPython.core.display.Javascript object>"
      ]
     },
     "metadata": {},
     "output_type": "display_data"
    }
   ],
   "source": [
    "def flag_df(df):\n",
    "\n",
    "    # Flag kicked out bad cases (want more of these)\n",
    "    if (\n",
    "        df[\"target\"] == 1\n",
    "        and df[\"prediction_beforeRI_binary\"] == 0\n",
    "        and df[\"prediction_baseline\"] == 1\n",
    "    ):\n",
    "        return \"KB\"\n",
    "\n",
    "    # Flag kicked out good cases (want less of these)\n",
    "    elif (\n",
    "        df[\"target\"] == 0\n",
    "        and df[\"prediction_beforeRI_binary\"] == 0\n",
    "        and df[\"prediction_baseline\"] == 1\n",
    "    ):\n",
    "        return \"KG\"\n",
    "\n",
    "    # Flag kicked in good cases (want more of these)\n",
    "    elif (\n",
    "        df[\"target\"] == 0\n",
    "        and df[\"prediction_beforeRI_binary\"] == 1\n",
    "        and df[\"prediction_baseline\"] == 0\n",
    "    ):\n",
    "        return \"IG\"\n",
    "\n",
    "    # Flag kicked in bad cases (want less of these)\n",
    "    elif (\n",
    "        df[\"target\"] == 1\n",
    "        and df[\"prediction_beforeRI_binary\"] == 1\n",
    "        and df[\"prediction_baseline\"] == 0\n",
    "    ):\n",
    "        return \"IB\""
   ]
  },
  {
   "cell_type": "code",
   "execution_count": 113,
   "metadata": {},
   "outputs": [
    {
     "data": {
      "application/javascript": [
       "\n",
       "            setTimeout(function() {\n",
       "                var nbb_cell_id = 113;\n",
       "                var nbb_unformatted_code = \"def kickout(df):\\n\\n    # Counts of kickout bad and kickout good\\n    counts = df[\\\"Flag\\\"].value_counts()\\n    if \\\"KB\\\" in df.values:\\n        kb = counts.KB  # want more of these\\n    else:\\n        kb = 0\\n    if \\\"KG\\\" in df.values:\\n        kg = counts.KG  # want less of these\\n    else:\\n        kg = 0\\n\\n    if \\\"IG\\\" in df.values:\\n        ig = counts.IG  # want more of these\\n    else:\\n        ig = 0\\n\\n    if \\\"IB\\\" in df.values:\\n        ib = counts.IB  # want less of these\\n    else:\\n        ib = 0\\n\\n    # Counts of number of actual bad cases\\n    sb = df[df[\\\"target\\\"] == 1].shape[0]\\n    sg = df[df[\\\"target\\\"] == 0].shape[0]\\n\\n    # Target\\n    counts_target = df[\\\"target\\\"].value_counts()\\n    total_bads = counts_target[0]\\n    total_goods = counts_target[1]\\n\\n    total_bads = df[df[\\\"target\\\"] == 1].shape[0]\\n    total_goods = df[df[\\\"target\\\"] == 0].shape[0]\\n    pb = total_bads / (total_bads + total_goods)\\n    pg = total_goods / (total_bads + total_goods)\\n\\n    # Calculate kickout metric\\n    kickout = (((kb / pb) - (kg / (1 - pb))) / sb) * (pb * pb)\\n    kickin = (((ig / pg) - (ib / (1 - pg))) / sg) * (pg * pg)\\n    weighted_total = kickout + kickin\\n\\n    return (\\n        print(\\n            \\\"Kickout + Kickin Metric:\\\",\\n            round(weighted_total, 3),\\n        ),\\n    )\";\n",
       "                var nbb_formatted_code = \"def kickout(df):\\n\\n    # Counts of kickout bad and kickout good\\n    counts = df[\\\"Flag\\\"].value_counts()\\n    if \\\"KB\\\" in df.values:\\n        kb = counts.KB  # want more of these\\n    else:\\n        kb = 0\\n    if \\\"KG\\\" in df.values:\\n        kg = counts.KG  # want less of these\\n    else:\\n        kg = 0\\n\\n    if \\\"IG\\\" in df.values:\\n        ig = counts.IG  # want more of these\\n    else:\\n        ig = 0\\n\\n    if \\\"IB\\\" in df.values:\\n        ib = counts.IB  # want less of these\\n    else:\\n        ib = 0\\n\\n    # Counts of number of actual bad cases\\n    sb = df[df[\\\"target\\\"] == 1].shape[0]\\n    sg = df[df[\\\"target\\\"] == 0].shape[0]\\n\\n    # Target\\n    counts_target = df[\\\"target\\\"].value_counts()\\n    total_bads = counts_target[0]\\n    total_goods = counts_target[1]\\n\\n    total_bads = df[df[\\\"target\\\"] == 1].shape[0]\\n    total_goods = df[df[\\\"target\\\"] == 0].shape[0]\\n    pb = total_bads / (total_bads + total_goods)\\n    pg = total_goods / (total_bads + total_goods)\\n\\n    # Calculate kickout metric\\n    kickout = (((kb / pb) - (kg / (1 - pb))) / sb) * (pb * pb)\\n    kickin = (((ig / pg) - (ib / (1 - pg))) / sg) * (pg * pg)\\n    weighted_total = kickout + kickin\\n\\n    return (\\n        print(\\n            \\\"Kickout + Kickin Metric:\\\",\\n            round(weighted_total, 3),\\n        ),\\n    )\";\n",
       "                var nbb_cells = Jupyter.notebook.get_cells();\n",
       "                for (var i = 0; i < nbb_cells.length; ++i) {\n",
       "                    if (nbb_cells[i].input_prompt_number == nbb_cell_id) {\n",
       "                        if (nbb_cells[i].get_text() == nbb_unformatted_code) {\n",
       "                             nbb_cells[i].set_text(nbb_formatted_code);\n",
       "                        }\n",
       "                        break;\n",
       "                    }\n",
       "                }\n",
       "            }, 500);\n",
       "            "
      ],
      "text/plain": [
       "<IPython.core.display.Javascript object>"
      ]
     },
     "metadata": {},
     "output_type": "display_data"
    },
    {
     "data": {
      "application/javascript": [
       "\n",
       "            setTimeout(function() {\n",
       "                var nbb_cell_id = 113;\n",
       "                var nbb_unformatted_code = \"def kickout(df):\\n\\n    # Counts of kickout bad and kickout good\\n    counts = df[\\\"Flag\\\"].value_counts()\\n    if \\\"KB\\\" in df.values:\\n        kb = counts.KB  # want more of these\\n    else:\\n        kb = 0\\n    if \\\"KG\\\" in df.values:\\n        kg = counts.KG  # want less of these\\n    else:\\n        kg = 0\\n\\n    if \\\"IG\\\" in df.values:\\n        ig = counts.IG  # want more of these\\n    else:\\n        ig = 0\\n\\n    if \\\"IB\\\" in df.values:\\n        ib = counts.IB  # want less of these\\n    else:\\n        ib = 0\\n\\n    # Counts of number of actual bad cases\\n    sb = df[df[\\\"target\\\"] == 1].shape[0]\\n    sg = df[df[\\\"target\\\"] == 0].shape[0]\\n\\n    # Target\\n    counts_target = df[\\\"target\\\"].value_counts()\\n    total_bads = counts_target[0]\\n    total_goods = counts_target[1]\\n\\n    total_bads = df[df[\\\"target\\\"] == 1].shape[0]\\n    total_goods = df[df[\\\"target\\\"] == 0].shape[0]\\n    pb = total_bads / (total_bads + total_goods)\\n    pg = total_goods / (total_bads + total_goods)\\n\\n    # Calculate kickout metric\\n    kickout = (((kb / pb) - (kg / (1 - pb))) / sb) * (pb * pb)\\n    kickin = (((ig / pg) - (ib / (1 - pg))) / sg) * (pg * pg)\\n    weighted_total = kickout + kickin\\n\\n    return (\\n        print(\\n            \\\"Kickout + Kickin Metric:\\\",\\n            round(weighted_total, 3),\\n        ),\\n    )\";\n",
       "                var nbb_formatted_code = \"def kickout(df):\\n\\n    # Counts of kickout bad and kickout good\\n    counts = df[\\\"Flag\\\"].value_counts()\\n    if \\\"KB\\\" in df.values:\\n        kb = counts.KB  # want more of these\\n    else:\\n        kb = 0\\n    if \\\"KG\\\" in df.values:\\n        kg = counts.KG  # want less of these\\n    else:\\n        kg = 0\\n\\n    if \\\"IG\\\" in df.values:\\n        ig = counts.IG  # want more of these\\n    else:\\n        ig = 0\\n\\n    if \\\"IB\\\" in df.values:\\n        ib = counts.IB  # want less of these\\n    else:\\n        ib = 0\\n\\n    # Counts of number of actual bad cases\\n    sb = df[df[\\\"target\\\"] == 1].shape[0]\\n    sg = df[df[\\\"target\\\"] == 0].shape[0]\\n\\n    # Target\\n    counts_target = df[\\\"target\\\"].value_counts()\\n    total_bads = counts_target[0]\\n    total_goods = counts_target[1]\\n\\n    total_bads = df[df[\\\"target\\\"] == 1].shape[0]\\n    total_goods = df[df[\\\"target\\\"] == 0].shape[0]\\n    pb = total_bads / (total_bads + total_goods)\\n    pg = total_goods / (total_bads + total_goods)\\n\\n    # Calculate kickout metric\\n    kickout = (((kb / pb) - (kg / (1 - pb))) / sb) * (pb * pb)\\n    kickin = (((ig / pg) - (ib / (1 - pg))) / sg) * (pg * pg)\\n    weighted_total = kickout + kickin\\n\\n    return (\\n        print(\\n            \\\"Kickout + Kickin Metric:\\\",\\n            round(weighted_total, 3),\\n        ),\\n    )\";\n",
       "                var nbb_cells = Jupyter.notebook.get_cells();\n",
       "                for (var i = 0; i < nbb_cells.length; ++i) {\n",
       "                    if (nbb_cells[i].input_prompt_number == nbb_cell_id) {\n",
       "                        if (nbb_cells[i].get_text() == nbb_unformatted_code) {\n",
       "                             nbb_cells[i].set_text(nbb_formatted_code);\n",
       "                        }\n",
       "                        break;\n",
       "                    }\n",
       "                }\n",
       "            }, 500);\n",
       "            "
      ],
      "text/plain": [
       "<IPython.core.display.Javascript object>"
      ]
     },
     "metadata": {},
     "output_type": "display_data"
    }
   ],
   "source": [
    "def kickout(df):\n",
    "\n",
    "    # Counts of kickout bad and kickout good\n",
    "    counts = df[\"Flag\"].value_counts()\n",
    "    if \"KB\" in df.values:\n",
    "        kb = counts.KB  # want more of these\n",
    "    else:\n",
    "        kb = 0\n",
    "    if \"KG\" in df.values:\n",
    "        kg = counts.KG  # want less of these\n",
    "    else:\n",
    "        kg = 0\n",
    "\n",
    "    if \"IG\" in df.values:\n",
    "        ig = counts.IG  # want more of these\n",
    "    else:\n",
    "        ig = 0\n",
    "\n",
    "    if \"IB\" in df.values:\n",
    "        ib = counts.IB  # want less of these\n",
    "    else:\n",
    "        ib = 0\n",
    "\n",
    "    # Counts of number of actual bad cases\n",
    "    sb = df[df[\"target\"] == 1].shape[0]\n",
    "    sg = df[df[\"target\"] == 0].shape[0]\n",
    "\n",
    "    # Target\n",
    "    counts_target = df[\"target\"].value_counts()\n",
    "    total_bads = counts_target[0]\n",
    "    total_goods = counts_target[1]\n",
    "\n",
    "    total_bads = df[df[\"target\"] == 1].shape[0]\n",
    "    total_goods = df[df[\"target\"] == 0].shape[0]\n",
    "    pb = total_bads / (total_bads + total_goods)\n",
    "    pg = total_goods / (total_bads + total_goods)\n",
    "\n",
    "    # Calculate kickout metric\n",
    "    kickout = (((kb / pb) - (kg / (1 - pb))) / sb) * (pb * pb)\n",
    "    kickin = (((ig / pg) - (ib / (1 - pg))) / sg) * (pg * pg)\n",
    "    weighted_total = kickout + kickin\n",
    "\n",
    "    return (\n",
    "        print(\n",
    "            \"Kickout + Kickin Metric:\",\n",
    "            round(weighted_total, 3),\n",
    "        ),\n",
    "    )"
   ]
  },
  {
   "cell_type": "code",
   "execution_count": 114,
   "metadata": {},
   "outputs": [
    {
     "data": {
      "application/javascript": [
       "\n",
       "            setTimeout(function() {\n",
       "                var nbb_cell_id = 114;\n",
       "                var nbb_unformatted_code = \"def flag_df_beforeRI(df):\\n\\n    # Flag kicked out bad cases (want more of these)\\n    if df[\\\"target\\\"] == 1 and df[\\\"prediction_beforeRI_binary\\\"] == 1:\\n        return \\\"CB\\\"\\n\\n    # Flag kicked out good cases (want less of these)\\n    elif df[\\\"target\\\"] == 1 and df[\\\"prediction_beforeRI_binary\\\"] == 0:\\n        return \\\"IB\\\"\\n\\n    # Flag kicked in good cases (want more of these)\\n    elif df[\\\"target\\\"] == 0 and df[\\\"prediction_beforeRI_binary\\\"] == 0:\\n        return \\\"CG\\\"\\n\\n    # Flag kicked in bad cases (want less of these)\\n    elif df[\\\"target\\\"] == 0 and df[\\\"prediction_beforeRI_binary\\\"] == 1:\\n        return \\\"IG\\\"\";\n",
       "                var nbb_formatted_code = \"def flag_df_beforeRI(df):\\n\\n    # Flag kicked out bad cases (want more of these)\\n    if df[\\\"target\\\"] == 1 and df[\\\"prediction_beforeRI_binary\\\"] == 1:\\n        return \\\"CB\\\"\\n\\n    # Flag kicked out good cases (want less of these)\\n    elif df[\\\"target\\\"] == 1 and df[\\\"prediction_beforeRI_binary\\\"] == 0:\\n        return \\\"IB\\\"\\n\\n    # Flag kicked in good cases (want more of these)\\n    elif df[\\\"target\\\"] == 0 and df[\\\"prediction_beforeRI_binary\\\"] == 0:\\n        return \\\"CG\\\"\\n\\n    # Flag kicked in bad cases (want less of these)\\n    elif df[\\\"target\\\"] == 0 and df[\\\"prediction_beforeRI_binary\\\"] == 1:\\n        return \\\"IG\\\"\";\n",
       "                var nbb_cells = Jupyter.notebook.get_cells();\n",
       "                for (var i = 0; i < nbb_cells.length; ++i) {\n",
       "                    if (nbb_cells[i].input_prompt_number == nbb_cell_id) {\n",
       "                        if (nbb_cells[i].get_text() == nbb_unformatted_code) {\n",
       "                             nbb_cells[i].set_text(nbb_formatted_code);\n",
       "                        }\n",
       "                        break;\n",
       "                    }\n",
       "                }\n",
       "            }, 500);\n",
       "            "
      ],
      "text/plain": [
       "<IPython.core.display.Javascript object>"
      ]
     },
     "metadata": {},
     "output_type": "display_data"
    },
    {
     "data": {
      "application/javascript": [
       "\n",
       "            setTimeout(function() {\n",
       "                var nbb_cell_id = 114;\n",
       "                var nbb_unformatted_code = \"def flag_df_beforeRI(df):\\n\\n    # Flag kicked out bad cases (want more of these)\\n    if df[\\\"target\\\"] == 1 and df[\\\"prediction_beforeRI_binary\\\"] == 1:\\n        return \\\"CB\\\"\\n\\n    # Flag kicked out good cases (want less of these)\\n    elif df[\\\"target\\\"] == 1 and df[\\\"prediction_beforeRI_binary\\\"] == 0:\\n        return \\\"IB\\\"\\n\\n    # Flag kicked in good cases (want more of these)\\n    elif df[\\\"target\\\"] == 0 and df[\\\"prediction_beforeRI_binary\\\"] == 0:\\n        return \\\"CG\\\"\\n\\n    # Flag kicked in bad cases (want less of these)\\n    elif df[\\\"target\\\"] == 0 and df[\\\"prediction_beforeRI_binary\\\"] == 1:\\n        return \\\"IG\\\"\";\n",
       "                var nbb_formatted_code = \"def flag_df_beforeRI(df):\\n\\n    # Flag kicked out bad cases (want more of these)\\n    if df[\\\"target\\\"] == 1 and df[\\\"prediction_beforeRI_binary\\\"] == 1:\\n        return \\\"CB\\\"\\n\\n    # Flag kicked out good cases (want less of these)\\n    elif df[\\\"target\\\"] == 1 and df[\\\"prediction_beforeRI_binary\\\"] == 0:\\n        return \\\"IB\\\"\\n\\n    # Flag kicked in good cases (want more of these)\\n    elif df[\\\"target\\\"] == 0 and df[\\\"prediction_beforeRI_binary\\\"] == 0:\\n        return \\\"CG\\\"\\n\\n    # Flag kicked in bad cases (want less of these)\\n    elif df[\\\"target\\\"] == 0 and df[\\\"prediction_beforeRI_binary\\\"] == 1:\\n        return \\\"IG\\\"\";\n",
       "                var nbb_cells = Jupyter.notebook.get_cells();\n",
       "                for (var i = 0; i < nbb_cells.length; ++i) {\n",
       "                    if (nbb_cells[i].input_prompt_number == nbb_cell_id) {\n",
       "                        if (nbb_cells[i].get_text() == nbb_unformatted_code) {\n",
       "                             nbb_cells[i].set_text(nbb_formatted_code);\n",
       "                        }\n",
       "                        break;\n",
       "                    }\n",
       "                }\n",
       "            }, 500);\n",
       "            "
      ],
      "text/plain": [
       "<IPython.core.display.Javascript object>"
      ]
     },
     "metadata": {},
     "output_type": "display_data"
    }
   ],
   "source": [
    "def flag_df_beforeRI(df):\n",
    "\n",
    "    # Flag kicked out bad cases (want more of these)\n",
    "    if df[\"target\"] == 1 and df[\"prediction_beforeRI_binary\"] == 1:\n",
    "        return \"CB\"\n",
    "\n",
    "    # Flag kicked out good cases (want less of these)\n",
    "    elif df[\"target\"] == 1 and df[\"prediction_beforeRI_binary\"] == 0:\n",
    "        return \"IB\"\n",
    "\n",
    "    # Flag kicked in good cases (want more of these)\n",
    "    elif df[\"target\"] == 0 and df[\"prediction_beforeRI_binary\"] == 0:\n",
    "        return \"CG\"\n",
    "\n",
    "    # Flag kicked in bad cases (want less of these)\n",
    "    elif df[\"target\"] == 0 and df[\"prediction_beforeRI_binary\"] == 1:\n",
    "        return \"IG\""
   ]
  },
  {
   "cell_type": "code",
   "execution_count": 115,
   "metadata": {},
   "outputs": [
    {
     "data": {
      "application/javascript": [
       "\n",
       "            setTimeout(function() {\n",
       "                var nbb_cell_id = 115;\n",
       "                var nbb_unformatted_code = \"def kickout_beforeRI(df):\\n\\n    # Counts of kickout bad and kickout good\\n    counts = df[\\\"Flag\\\"].value_counts()\\n    if \\\"CB\\\" in df.values:\\n        cb = counts.CB  # want more of these\\n    else:\\n        cb = 0\\n    if \\\"IB\\\" in df.values:\\n        ib = counts.IB  # want less of these\\n    else:\\n        ib = 0\\n\\n    if \\\"CG\\\" in df.values:\\n        cg = counts.CG  # want more of these\\n    else:\\n        cg = 0\\n\\n    if \\\"IG\\\" in df.values:\\n        ig = counts.IG  # want less of these\\n    else:\\n        ig = 0\\n\\n    # Target\\n    total_bads = df[df[\\\"target\\\"] == 1].shape[0]\\n    total_goods = df[df[\\\"target\\\"] == 0].shape[0]\\n    pb = total_bads / (total_bads + total_goods)\\n    pg = total_goods / (total_bads + total_goods)\\n\\n    kickout = (((cb / pb) - (ib / pb)) / total_bads) * (pb ** 2)\\n    kickin = (((cg / pg) - (ig / pg)) / total_goods) * (pg ** 2)\\n    weighted_total = kickout + kickin\\n    return print(\\n        \\\"Kickout + Kickin Metric:\\\",\\n        round(weighted_total, 3),\\n    )\";\n",
       "                var nbb_formatted_code = \"def kickout_beforeRI(df):\\n\\n    # Counts of kickout bad and kickout good\\n    counts = df[\\\"Flag\\\"].value_counts()\\n    if \\\"CB\\\" in df.values:\\n        cb = counts.CB  # want more of these\\n    else:\\n        cb = 0\\n    if \\\"IB\\\" in df.values:\\n        ib = counts.IB  # want less of these\\n    else:\\n        ib = 0\\n\\n    if \\\"CG\\\" in df.values:\\n        cg = counts.CG  # want more of these\\n    else:\\n        cg = 0\\n\\n    if \\\"IG\\\" in df.values:\\n        ig = counts.IG  # want less of these\\n    else:\\n        ig = 0\\n\\n    # Target\\n    total_bads = df[df[\\\"target\\\"] == 1].shape[0]\\n    total_goods = df[df[\\\"target\\\"] == 0].shape[0]\\n    pb = total_bads / (total_bads + total_goods)\\n    pg = total_goods / (total_bads + total_goods)\\n\\n    kickout = (((cb / pb) - (ib / pb)) / total_bads) * (pb ** 2)\\n    kickin = (((cg / pg) - (ig / pg)) / total_goods) * (pg ** 2)\\n    weighted_total = kickout + kickin\\n    return print(\\n        \\\"Kickout + Kickin Metric:\\\",\\n        round(weighted_total, 3),\\n    )\";\n",
       "                var nbb_cells = Jupyter.notebook.get_cells();\n",
       "                for (var i = 0; i < nbb_cells.length; ++i) {\n",
       "                    if (nbb_cells[i].input_prompt_number == nbb_cell_id) {\n",
       "                        if (nbb_cells[i].get_text() == nbb_unformatted_code) {\n",
       "                             nbb_cells[i].set_text(nbb_formatted_code);\n",
       "                        }\n",
       "                        break;\n",
       "                    }\n",
       "                }\n",
       "            }, 500);\n",
       "            "
      ],
      "text/plain": [
       "<IPython.core.display.Javascript object>"
      ]
     },
     "metadata": {},
     "output_type": "display_data"
    },
    {
     "data": {
      "application/javascript": [
       "\n",
       "            setTimeout(function() {\n",
       "                var nbb_cell_id = 115;\n",
       "                var nbb_unformatted_code = \"def kickout_beforeRI(df):\\n\\n    # Counts of kickout bad and kickout good\\n    counts = df[\\\"Flag\\\"].value_counts()\\n    if \\\"CB\\\" in df.values:\\n        cb = counts.CB  # want more of these\\n    else:\\n        cb = 0\\n    if \\\"IB\\\" in df.values:\\n        ib = counts.IB  # want less of these\\n    else:\\n        ib = 0\\n\\n    if \\\"CG\\\" in df.values:\\n        cg = counts.CG  # want more of these\\n    else:\\n        cg = 0\\n\\n    if \\\"IG\\\" in df.values:\\n        ig = counts.IG  # want less of these\\n    else:\\n        ig = 0\\n\\n    # Target\\n    total_bads = df[df[\\\"target\\\"] == 1].shape[0]\\n    total_goods = df[df[\\\"target\\\"] == 0].shape[0]\\n    pb = total_bads / (total_bads + total_goods)\\n    pg = total_goods / (total_bads + total_goods)\\n\\n    kickout = (((cb / pb) - (ib / pb)) / total_bads) * (pb ** 2)\\n    kickin = (((cg / pg) - (ig / pg)) / total_goods) * (pg ** 2)\\n    weighted_total = kickout + kickin\\n    return print(\\n        \\\"Kickout + Kickin Metric:\\\",\\n        round(weighted_total, 3),\\n    )\";\n",
       "                var nbb_formatted_code = \"def kickout_beforeRI(df):\\n\\n    # Counts of kickout bad and kickout good\\n    counts = df[\\\"Flag\\\"].value_counts()\\n    if \\\"CB\\\" in df.values:\\n        cb = counts.CB  # want more of these\\n    else:\\n        cb = 0\\n    if \\\"IB\\\" in df.values:\\n        ib = counts.IB  # want less of these\\n    else:\\n        ib = 0\\n\\n    if \\\"CG\\\" in df.values:\\n        cg = counts.CG  # want more of these\\n    else:\\n        cg = 0\\n\\n    if \\\"IG\\\" in df.values:\\n        ig = counts.IG  # want less of these\\n    else:\\n        ig = 0\\n\\n    # Target\\n    total_bads = df[df[\\\"target\\\"] == 1].shape[0]\\n    total_goods = df[df[\\\"target\\\"] == 0].shape[0]\\n    pb = total_bads / (total_bads + total_goods)\\n    pg = total_goods / (total_bads + total_goods)\\n\\n    kickout = (((cb / pb) - (ib / pb)) / total_bads) * (pb ** 2)\\n    kickin = (((cg / pg) - (ig / pg)) / total_goods) * (pg ** 2)\\n    weighted_total = kickout + kickin\\n    return print(\\n        \\\"Kickout + Kickin Metric:\\\",\\n        round(weighted_total, 3),\\n    )\";\n",
       "                var nbb_cells = Jupyter.notebook.get_cells();\n",
       "                for (var i = 0; i < nbb_cells.length; ++i) {\n",
       "                    if (nbb_cells[i].input_prompt_number == nbb_cell_id) {\n",
       "                        if (nbb_cells[i].get_text() == nbb_unformatted_code) {\n",
       "                             nbb_cells[i].set_text(nbb_formatted_code);\n",
       "                        }\n",
       "                        break;\n",
       "                    }\n",
       "                }\n",
       "            }, 500);\n",
       "            "
      ],
      "text/plain": [
       "<IPython.core.display.Javascript object>"
      ]
     },
     "metadata": {},
     "output_type": "display_data"
    }
   ],
   "source": [
    "def kickout_beforeRI(df):\n",
    "\n",
    "    # Counts of kickout bad and kickout good\n",
    "    counts = df[\"Flag\"].value_counts()\n",
    "    if \"CB\" in df.values:\n",
    "        cb = counts.CB  # want more of these\n",
    "    else:\n",
    "        cb = 0\n",
    "    if \"IB\" in df.values:\n",
    "        ib = counts.IB  # want less of these\n",
    "    else:\n",
    "        ib = 0\n",
    "\n",
    "    if \"CG\" in df.values:\n",
    "        cg = counts.CG  # want more of these\n",
    "    else:\n",
    "        cg = 0\n",
    "\n",
    "    if \"IG\" in df.values:\n",
    "        ig = counts.IG  # want less of these\n",
    "    else:\n",
    "        ig = 0\n",
    "\n",
    "    # Target\n",
    "    total_bads = df[df[\"target\"] == 1].shape[0]\n",
    "    total_goods = df[df[\"target\"] == 0].shape[0]\n",
    "    pb = total_bads / (total_bads + total_goods)\n",
    "    pg = total_goods / (total_bads + total_goods)\n",
    "\n",
    "    kickout = (((cb / pb) - (ib / pb)) / total_bads) * (pb ** 2)\n",
    "    kickin = (((cg / pg) - (ig / pg)) / total_goods) * (pg ** 2)\n",
    "    weighted_total = kickout + kickin\n",
    "    return print(\n",
    "        \"Kickout + Kickin Metric:\",\n",
    "        round(weighted_total, 3),\n",
    "    )"
   ]
  },
  {
   "cell_type": "code",
   "execution_count": 116,
   "metadata": {},
   "outputs": [
    {
     "data": {
      "application/javascript": [
       "\n",
       "            setTimeout(function() {\n",
       "                var nbb_cell_id = 116;\n",
       "                var nbb_unformatted_code = \"def flag_df_baseline(df):\\n\\n    # Flag kicked out bad cases (want more of these)\\n    if df[\\\"target\\\"] == 1 and df[\\\"prediction_baseline\\\"] == 1:\\n        return \\\"CB\\\"\\n\\n    # Flag kicked out good cases (want less of these)\\n    elif df[\\\"target\\\"] == 1 and df[\\\"prediction_baseline\\\"] == 0:\\n        return \\\"IB\\\"\\n\\n    # Flag kicked in good cases (want more of these)\\n    elif df[\\\"target\\\"] == 0 and df[\\\"prediction_baseline\\\"] == 0:\\n        return \\\"CG\\\"\\n\\n    # Flag kicked in bad cases (want less of these)\\n    elif df[\\\"target\\\"] == 0 and df[\\\"prediction_baseline\\\"] == 1:\\n        return \\\"IG\\\"\";\n",
       "                var nbb_formatted_code = \"def flag_df_baseline(df):\\n\\n    # Flag kicked out bad cases (want more of these)\\n    if df[\\\"target\\\"] == 1 and df[\\\"prediction_baseline\\\"] == 1:\\n        return \\\"CB\\\"\\n\\n    # Flag kicked out good cases (want less of these)\\n    elif df[\\\"target\\\"] == 1 and df[\\\"prediction_baseline\\\"] == 0:\\n        return \\\"IB\\\"\\n\\n    # Flag kicked in good cases (want more of these)\\n    elif df[\\\"target\\\"] == 0 and df[\\\"prediction_baseline\\\"] == 0:\\n        return \\\"CG\\\"\\n\\n    # Flag kicked in bad cases (want less of these)\\n    elif df[\\\"target\\\"] == 0 and df[\\\"prediction_baseline\\\"] == 1:\\n        return \\\"IG\\\"\";\n",
       "                var nbb_cells = Jupyter.notebook.get_cells();\n",
       "                for (var i = 0; i < nbb_cells.length; ++i) {\n",
       "                    if (nbb_cells[i].input_prompt_number == nbb_cell_id) {\n",
       "                        if (nbb_cells[i].get_text() == nbb_unformatted_code) {\n",
       "                             nbb_cells[i].set_text(nbb_formatted_code);\n",
       "                        }\n",
       "                        break;\n",
       "                    }\n",
       "                }\n",
       "            }, 500);\n",
       "            "
      ],
      "text/plain": [
       "<IPython.core.display.Javascript object>"
      ]
     },
     "metadata": {},
     "output_type": "display_data"
    },
    {
     "data": {
      "application/javascript": [
       "\n",
       "            setTimeout(function() {\n",
       "                var nbb_cell_id = 116;\n",
       "                var nbb_unformatted_code = \"def flag_df_baseline(df):\\n\\n    # Flag kicked out bad cases (want more of these)\\n    if df[\\\"target\\\"] == 1 and df[\\\"prediction_baseline\\\"] == 1:\\n        return \\\"CB\\\"\\n\\n    # Flag kicked out good cases (want less of these)\\n    elif df[\\\"target\\\"] == 1 and df[\\\"prediction_baseline\\\"] == 0:\\n        return \\\"IB\\\"\\n\\n    # Flag kicked in good cases (want more of these)\\n    elif df[\\\"target\\\"] == 0 and df[\\\"prediction_baseline\\\"] == 0:\\n        return \\\"CG\\\"\\n\\n    # Flag kicked in bad cases (want less of these)\\n    elif df[\\\"target\\\"] == 0 and df[\\\"prediction_baseline\\\"] == 1:\\n        return \\\"IG\\\"\";\n",
       "                var nbb_formatted_code = \"def flag_df_baseline(df):\\n\\n    # Flag kicked out bad cases (want more of these)\\n    if df[\\\"target\\\"] == 1 and df[\\\"prediction_baseline\\\"] == 1:\\n        return \\\"CB\\\"\\n\\n    # Flag kicked out good cases (want less of these)\\n    elif df[\\\"target\\\"] == 1 and df[\\\"prediction_baseline\\\"] == 0:\\n        return \\\"IB\\\"\\n\\n    # Flag kicked in good cases (want more of these)\\n    elif df[\\\"target\\\"] == 0 and df[\\\"prediction_baseline\\\"] == 0:\\n        return \\\"CG\\\"\\n\\n    # Flag kicked in bad cases (want less of these)\\n    elif df[\\\"target\\\"] == 0 and df[\\\"prediction_baseline\\\"] == 1:\\n        return \\\"IG\\\"\";\n",
       "                var nbb_cells = Jupyter.notebook.get_cells();\n",
       "                for (var i = 0; i < nbb_cells.length; ++i) {\n",
       "                    if (nbb_cells[i].input_prompt_number == nbb_cell_id) {\n",
       "                        if (nbb_cells[i].get_text() == nbb_unformatted_code) {\n",
       "                             nbb_cells[i].set_text(nbb_formatted_code);\n",
       "                        }\n",
       "                        break;\n",
       "                    }\n",
       "                }\n",
       "            }, 500);\n",
       "            "
      ],
      "text/plain": [
       "<IPython.core.display.Javascript object>"
      ]
     },
     "metadata": {},
     "output_type": "display_data"
    }
   ],
   "source": [
    "def flag_df_baseline(df):\n",
    "\n",
    "    # Flag kicked out bad cases (want more of these)\n",
    "    if df[\"target\"] == 1 and df[\"prediction_baseline\"] == 1:\n",
    "        return \"CB\"\n",
    "\n",
    "    # Flag kicked out good cases (want less of these)\n",
    "    elif df[\"target\"] == 1 and df[\"prediction_baseline\"] == 0:\n",
    "        return \"IB\"\n",
    "\n",
    "    # Flag kicked in good cases (want more of these)\n",
    "    elif df[\"target\"] == 0 and df[\"prediction_baseline\"] == 0:\n",
    "        return \"CG\"\n",
    "\n",
    "    # Flag kicked in bad cases (want less of these)\n",
    "    elif df[\"target\"] == 0 and df[\"prediction_baseline\"] == 1:\n",
    "        return \"IG\""
   ]
  },
  {
   "cell_type": "code",
   "execution_count": 117,
   "metadata": {},
   "outputs": [
    {
     "data": {
      "application/javascript": [
       "\n",
       "            setTimeout(function() {\n",
       "                var nbb_cell_id = 117;\n",
       "                var nbb_unformatted_code = \"def kickout_baseline(df):\\n\\n    # Counts of kickout bad and kickout good\\n    counts = df[\\\"Flag\\\"].value_counts()\\n    if \\\"CB\\\" in df.values:\\n        cb = counts.CB  # want more of these\\n    else:\\n        cb = 0\\n    if \\\"IB\\\" in df.values:\\n        ib = counts.IB  # want less of these\\n    else:\\n        ib = 0\\n\\n    if \\\"CG\\\" in df.values:\\n        cg = counts.CG  # want more of these\\n    else:\\n        cg = 0\\n\\n    if \\\"IG\\\" in df.values:\\n        ig = counts.IG  # want less of these\\n    else:\\n        ig = 0\\n\\n    # Target\\n    total_bads = df[df[\\\"target\\\"] == 1].shape[0]\\n    total_goods = df[df[\\\"target\\\"] == 0].shape[0]\\n    pb = total_bads / (total_bads + total_goods)\\n    pg = total_goods / (total_bads + total_goods)\\n\\n    kickout = (((cb / pb) - (ib / pb)) / total_bads) * (pb ** 2)\\n    kickin = (((cg / pg) - (ig / pg)) / total_goods) * (pg ** 2)\\n    weighted_total = kickout + kickin\\n    return print(\\n        \\\"Kickout + Kickin Metric:\\\",\\n        round(weighted_total, 3),\\n    )\";\n",
       "                var nbb_formatted_code = \"def kickout_baseline(df):\\n\\n    # Counts of kickout bad and kickout good\\n    counts = df[\\\"Flag\\\"].value_counts()\\n    if \\\"CB\\\" in df.values:\\n        cb = counts.CB  # want more of these\\n    else:\\n        cb = 0\\n    if \\\"IB\\\" in df.values:\\n        ib = counts.IB  # want less of these\\n    else:\\n        ib = 0\\n\\n    if \\\"CG\\\" in df.values:\\n        cg = counts.CG  # want more of these\\n    else:\\n        cg = 0\\n\\n    if \\\"IG\\\" in df.values:\\n        ig = counts.IG  # want less of these\\n    else:\\n        ig = 0\\n\\n    # Target\\n    total_bads = df[df[\\\"target\\\"] == 1].shape[0]\\n    total_goods = df[df[\\\"target\\\"] == 0].shape[0]\\n    pb = total_bads / (total_bads + total_goods)\\n    pg = total_goods / (total_bads + total_goods)\\n\\n    kickout = (((cb / pb) - (ib / pb)) / total_bads) * (pb ** 2)\\n    kickin = (((cg / pg) - (ig / pg)) / total_goods) * (pg ** 2)\\n    weighted_total = kickout + kickin\\n    return print(\\n        \\\"Kickout + Kickin Metric:\\\",\\n        round(weighted_total, 3),\\n    )\";\n",
       "                var nbb_cells = Jupyter.notebook.get_cells();\n",
       "                for (var i = 0; i < nbb_cells.length; ++i) {\n",
       "                    if (nbb_cells[i].input_prompt_number == nbb_cell_id) {\n",
       "                        if (nbb_cells[i].get_text() == nbb_unformatted_code) {\n",
       "                             nbb_cells[i].set_text(nbb_formatted_code);\n",
       "                        }\n",
       "                        break;\n",
       "                    }\n",
       "                }\n",
       "            }, 500);\n",
       "            "
      ],
      "text/plain": [
       "<IPython.core.display.Javascript object>"
      ]
     },
     "metadata": {},
     "output_type": "display_data"
    },
    {
     "data": {
      "application/javascript": [
       "\n",
       "            setTimeout(function() {\n",
       "                var nbb_cell_id = 117;\n",
       "                var nbb_unformatted_code = \"def kickout_baseline(df):\\n\\n    # Counts of kickout bad and kickout good\\n    counts = df[\\\"Flag\\\"].value_counts()\\n    if \\\"CB\\\" in df.values:\\n        cb = counts.CB  # want more of these\\n    else:\\n        cb = 0\\n    if \\\"IB\\\" in df.values:\\n        ib = counts.IB  # want less of these\\n    else:\\n        ib = 0\\n\\n    if \\\"CG\\\" in df.values:\\n        cg = counts.CG  # want more of these\\n    else:\\n        cg = 0\\n\\n    if \\\"IG\\\" in df.values:\\n        ig = counts.IG  # want less of these\\n    else:\\n        ig = 0\\n\\n    # Target\\n    total_bads = df[df[\\\"target\\\"] == 1].shape[0]\\n    total_goods = df[df[\\\"target\\\"] == 0].shape[0]\\n    pb = total_bads / (total_bads + total_goods)\\n    pg = total_goods / (total_bads + total_goods)\\n\\n    kickout = (((cb / pb) - (ib / pb)) / total_bads) * (pb ** 2)\\n    kickin = (((cg / pg) - (ig / pg)) / total_goods) * (pg ** 2)\\n    weighted_total = kickout + kickin\\n    return print(\\n        \\\"Kickout + Kickin Metric:\\\",\\n        round(weighted_total, 3),\\n    )\";\n",
       "                var nbb_formatted_code = \"def kickout_baseline(df):\\n\\n    # Counts of kickout bad and kickout good\\n    counts = df[\\\"Flag\\\"].value_counts()\\n    if \\\"CB\\\" in df.values:\\n        cb = counts.CB  # want more of these\\n    else:\\n        cb = 0\\n    if \\\"IB\\\" in df.values:\\n        ib = counts.IB  # want less of these\\n    else:\\n        ib = 0\\n\\n    if \\\"CG\\\" in df.values:\\n        cg = counts.CG  # want more of these\\n    else:\\n        cg = 0\\n\\n    if \\\"IG\\\" in df.values:\\n        ig = counts.IG  # want less of these\\n    else:\\n        ig = 0\\n\\n    # Target\\n    total_bads = df[df[\\\"target\\\"] == 1].shape[0]\\n    total_goods = df[df[\\\"target\\\"] == 0].shape[0]\\n    pb = total_bads / (total_bads + total_goods)\\n    pg = total_goods / (total_bads + total_goods)\\n\\n    kickout = (((cb / pb) - (ib / pb)) / total_bads) * (pb ** 2)\\n    kickin = (((cg / pg) - (ig / pg)) / total_goods) * (pg ** 2)\\n    weighted_total = kickout + kickin\\n    return print(\\n        \\\"Kickout + Kickin Metric:\\\",\\n        round(weighted_total, 3),\\n    )\";\n",
       "                var nbb_cells = Jupyter.notebook.get_cells();\n",
       "                for (var i = 0; i < nbb_cells.length; ++i) {\n",
       "                    if (nbb_cells[i].input_prompt_number == nbb_cell_id) {\n",
       "                        if (nbb_cells[i].get_text() == nbb_unformatted_code) {\n",
       "                             nbb_cells[i].set_text(nbb_formatted_code);\n",
       "                        }\n",
       "                        break;\n",
       "                    }\n",
       "                }\n",
       "            }, 500);\n",
       "            "
      ],
      "text/plain": [
       "<IPython.core.display.Javascript object>"
      ]
     },
     "metadata": {},
     "output_type": "display_data"
    }
   ],
   "source": [
    "def kickout_baseline(df):\n",
    "\n",
    "    # Counts of kickout bad and kickout good\n",
    "    counts = df[\"Flag\"].value_counts()\n",
    "    if \"CB\" in df.values:\n",
    "        cb = counts.CB  # want more of these\n",
    "    else:\n",
    "        cb = 0\n",
    "    if \"IB\" in df.values:\n",
    "        ib = counts.IB  # want less of these\n",
    "    else:\n",
    "        ib = 0\n",
    "\n",
    "    if \"CG\" in df.values:\n",
    "        cg = counts.CG  # want more of these\n",
    "    else:\n",
    "        cg = 0\n",
    "\n",
    "    if \"IG\" in df.values:\n",
    "        ig = counts.IG  # want less of these\n",
    "    else:\n",
    "        ig = 0\n",
    "\n",
    "    # Target\n",
    "    total_bads = df[df[\"target\"] == 1].shape[0]\n",
    "    total_goods = df[df[\"target\"] == 0].shape[0]\n",
    "    pb = total_bads / (total_bads + total_goods)\n",
    "    pg = total_goods / (total_bads + total_goods)\n",
    "\n",
    "    kickout = (((cb / pb) - (ib / pb)) / total_bads) * (pb ** 2)\n",
    "    kickin = (((cg / pg) - (ig / pg)) / total_goods) * (pg ** 2)\n",
    "    weighted_total = kickout + kickin\n",
    "    return print(\n",
    "        \"Kickout + Kickin Metric:\",\n",
    "        round(weighted_total, 3),\n",
    "    )"
   ]
  },
  {
   "cell_type": "code",
   "execution_count": 118,
   "metadata": {},
   "outputs": [
    {
     "data": {
      "application/javascript": [
       "\n",
       "            setTimeout(function() {\n",
       "                var nbb_cell_id = 118;\n",
       "                var nbb_unformatted_code = \"outcome_a = evaluation(ri1_train)  # Simple Augmentation - Log Reg\";\n",
       "                var nbb_formatted_code = \"outcome_a = evaluation(ri1_train)  # Simple Augmentation - Log Reg\";\n",
       "                var nbb_cells = Jupyter.notebook.get_cells();\n",
       "                for (var i = 0; i < nbb_cells.length; ++i) {\n",
       "                    if (nbb_cells[i].input_prompt_number == nbb_cell_id) {\n",
       "                        if (nbb_cells[i].get_text() == nbb_unformatted_code) {\n",
       "                             nbb_cells[i].set_text(nbb_formatted_code);\n",
       "                        }\n",
       "                        break;\n",
       "                    }\n",
       "                }\n",
       "            }, 500);\n",
       "            "
      ],
      "text/plain": [
       "<IPython.core.display.Javascript object>"
      ]
     },
     "metadata": {},
     "output_type": "display_data"
    },
    {
     "data": {
      "application/javascript": [
       "\n",
       "            setTimeout(function() {\n",
       "                var nbb_cell_id = 118;\n",
       "                var nbb_unformatted_code = \"outcome_a = evaluation(ri1_train)  # Simple Augmentation - Log Reg\";\n",
       "                var nbb_formatted_code = \"outcome_a = evaluation(ri1_train)  # Simple Augmentation - Log Reg\";\n",
       "                var nbb_cells = Jupyter.notebook.get_cells();\n",
       "                for (var i = 0; i < nbb_cells.length; ++i) {\n",
       "                    if (nbb_cells[i].input_prompt_number == nbb_cell_id) {\n",
       "                        if (nbb_cells[i].get_text() == nbb_unformatted_code) {\n",
       "                             nbb_cells[i].set_text(nbb_formatted_code);\n",
       "                        }\n",
       "                        break;\n",
       "                    }\n",
       "                }\n",
       "            }, 500);\n",
       "            "
      ],
      "text/plain": [
       "<IPython.core.display.Javascript object>"
      ]
     },
     "metadata": {},
     "output_type": "display_data"
    }
   ],
   "source": [
    "outcome_a = evaluation(ri1_train)  # Simple Augmentation - Log Reg"
   ]
  },
  {
   "cell_type": "code",
   "execution_count": 119,
   "metadata": {},
   "outputs": [
    {
     "name": "stdout",
     "output_type": "stream",
     "text": [
      "Kickout + Kickin Metric: 0.834\n"
     ]
    },
    {
     "data": {
      "application/javascript": [
       "\n",
       "            setTimeout(function() {\n",
       "                var nbb_cell_id = 119;\n",
       "                var nbb_unformatted_code = \"outcome_a[\\\"Flag\\\"] = outcome_a.apply(flag_df_beforeRI, axis=1)\\nkickout_beforeRI(outcome_a)\";\n",
       "                var nbb_formatted_code = \"outcome_a[\\\"Flag\\\"] = outcome_a.apply(flag_df_beforeRI, axis=1)\\nkickout_beforeRI(outcome_a)\";\n",
       "                var nbb_cells = Jupyter.notebook.get_cells();\n",
       "                for (var i = 0; i < nbb_cells.length; ++i) {\n",
       "                    if (nbb_cells[i].input_prompt_number == nbb_cell_id) {\n",
       "                        if (nbb_cells[i].get_text() == nbb_unformatted_code) {\n",
       "                             nbb_cells[i].set_text(nbb_formatted_code);\n",
       "                        }\n",
       "                        break;\n",
       "                    }\n",
       "                }\n",
       "            }, 500);\n",
       "            "
      ],
      "text/plain": [
       "<IPython.core.display.Javascript object>"
      ]
     },
     "metadata": {},
     "output_type": "display_data"
    },
    {
     "data": {
      "application/javascript": [
       "\n",
       "            setTimeout(function() {\n",
       "                var nbb_cell_id = 119;\n",
       "                var nbb_unformatted_code = \"outcome_a[\\\"Flag\\\"] = outcome_a.apply(flag_df_beforeRI, axis=1)\\nkickout_beforeRI(outcome_a)\";\n",
       "                var nbb_formatted_code = \"outcome_a[\\\"Flag\\\"] = outcome_a.apply(flag_df_beforeRI, axis=1)\\nkickout_beforeRI(outcome_a)\";\n",
       "                var nbb_cells = Jupyter.notebook.get_cells();\n",
       "                for (var i = 0; i < nbb_cells.length; ++i) {\n",
       "                    if (nbb_cells[i].input_prompt_number == nbb_cell_id) {\n",
       "                        if (nbb_cells[i].get_text() == nbb_unformatted_code) {\n",
       "                             nbb_cells[i].set_text(nbb_formatted_code);\n",
       "                        }\n",
       "                        break;\n",
       "                    }\n",
       "                }\n",
       "            }, 500);\n",
       "            "
      ],
      "text/plain": [
       "<IPython.core.display.Javascript object>"
      ]
     },
     "metadata": {},
     "output_type": "display_data"
    }
   ],
   "source": [
    "outcome_a[\"Flag\"] = outcome_a.apply(flag_df_beforeRI, axis=1)\n",
    "kickout_beforeRI(outcome_a)"
   ]
  },
  {
   "cell_type": "code",
   "execution_count": 120,
   "metadata": {},
   "outputs": [
    {
     "name": "stdout",
     "output_type": "stream",
     "text": [
      "Kickout + Kickin Metric: 0.825\n"
     ]
    },
    {
     "data": {
      "application/javascript": [
       "\n",
       "            setTimeout(function() {\n",
       "                var nbb_cell_id = 120;\n",
       "                var nbb_unformatted_code = \"outcome_a[\\\"Flag\\\"] = outcome_a.apply(flag_df_baseline, axis=1)\\nkickout_baseline(outcome_a)\";\n",
       "                var nbb_formatted_code = \"outcome_a[\\\"Flag\\\"] = outcome_a.apply(flag_df_baseline, axis=1)\\nkickout_baseline(outcome_a)\";\n",
       "                var nbb_cells = Jupyter.notebook.get_cells();\n",
       "                for (var i = 0; i < nbb_cells.length; ++i) {\n",
       "                    if (nbb_cells[i].input_prompt_number == nbb_cell_id) {\n",
       "                        if (nbb_cells[i].get_text() == nbb_unformatted_code) {\n",
       "                             nbb_cells[i].set_text(nbb_formatted_code);\n",
       "                        }\n",
       "                        break;\n",
       "                    }\n",
       "                }\n",
       "            }, 500);\n",
       "            "
      ],
      "text/plain": [
       "<IPython.core.display.Javascript object>"
      ]
     },
     "metadata": {},
     "output_type": "display_data"
    },
    {
     "data": {
      "application/javascript": [
       "\n",
       "            setTimeout(function() {\n",
       "                var nbb_cell_id = 120;\n",
       "                var nbb_unformatted_code = \"outcome_a[\\\"Flag\\\"] = outcome_a.apply(flag_df_baseline, axis=1)\\nkickout_baseline(outcome_a)\";\n",
       "                var nbb_formatted_code = \"outcome_a[\\\"Flag\\\"] = outcome_a.apply(flag_df_baseline, axis=1)\\nkickout_baseline(outcome_a)\";\n",
       "                var nbb_cells = Jupyter.notebook.get_cells();\n",
       "                for (var i = 0; i < nbb_cells.length; ++i) {\n",
       "                    if (nbb_cells[i].input_prompt_number == nbb_cell_id) {\n",
       "                        if (nbb_cells[i].get_text() == nbb_unformatted_code) {\n",
       "                             nbb_cells[i].set_text(nbb_formatted_code);\n",
       "                        }\n",
       "                        break;\n",
       "                    }\n",
       "                }\n",
       "            }, 500);\n",
       "            "
      ],
      "text/plain": [
       "<IPython.core.display.Javascript object>"
      ]
     },
     "metadata": {},
     "output_type": "display_data"
    }
   ],
   "source": [
    "outcome_a[\"Flag\"] = outcome_a.apply(flag_df_baseline, axis=1)\n",
    "kickout_baseline(outcome_a)"
   ]
  },
  {
   "cell_type": "code",
   "execution_count": 121,
   "metadata": {},
   "outputs": [
    {
     "data": {
      "application/javascript": [
       "\n",
       "            setTimeout(function() {\n",
       "                var nbb_cell_id = 121;\n",
       "                var nbb_unformatted_code = \"outcome_b = evaluation_rejects(ri1_train_rej)  # Simple Augmentation - Log Reg\";\n",
       "                var nbb_formatted_code = \"outcome_b = evaluation_rejects(ri1_train_rej)  # Simple Augmentation - Log Reg\";\n",
       "                var nbb_cells = Jupyter.notebook.get_cells();\n",
       "                for (var i = 0; i < nbb_cells.length; ++i) {\n",
       "                    if (nbb_cells[i].input_prompt_number == nbb_cell_id) {\n",
       "                        if (nbb_cells[i].get_text() == nbb_unformatted_code) {\n",
       "                             nbb_cells[i].set_text(nbb_formatted_code);\n",
       "                        }\n",
       "                        break;\n",
       "                    }\n",
       "                }\n",
       "            }, 500);\n",
       "            "
      ],
      "text/plain": [
       "<IPython.core.display.Javascript object>"
      ]
     },
     "metadata": {},
     "output_type": "display_data"
    },
    {
     "data": {
      "application/javascript": [
       "\n",
       "            setTimeout(function() {\n",
       "                var nbb_cell_id = 121;\n",
       "                var nbb_unformatted_code = \"outcome_b = evaluation_rejects(ri1_train_rej)  # Simple Augmentation - Log Reg\";\n",
       "                var nbb_formatted_code = \"outcome_b = evaluation_rejects(ri1_train_rej)  # Simple Augmentation - Log Reg\";\n",
       "                var nbb_cells = Jupyter.notebook.get_cells();\n",
       "                for (var i = 0; i < nbb_cells.length; ++i) {\n",
       "                    if (nbb_cells[i].input_prompt_number == nbb_cell_id) {\n",
       "                        if (nbb_cells[i].get_text() == nbb_unformatted_code) {\n",
       "                             nbb_cells[i].set_text(nbb_formatted_code);\n",
       "                        }\n",
       "                        break;\n",
       "                    }\n",
       "                }\n",
       "            }, 500);\n",
       "            "
      ],
      "text/plain": [
       "<IPython.core.display.Javascript object>"
      ]
     },
     "metadata": {},
     "output_type": "display_data"
    }
   ],
   "source": [
    "outcome_b = evaluation_rejects(ri1_train_rej)  # Simple Augmentation - Log Reg"
   ]
  },
  {
   "cell_type": "code",
   "execution_count": 122,
   "metadata": {},
   "outputs": [
    {
     "name": "stdout",
     "output_type": "stream",
     "text": [
      "Kickout + Kickin Metric: 0.735\n"
     ]
    },
    {
     "data": {
      "application/javascript": [
       "\n",
       "            setTimeout(function() {\n",
       "                var nbb_cell_id = 122;\n",
       "                var nbb_unformatted_code = \"outcome_b[\\\"Flag\\\"] = outcome_b.apply(flag_df_beforeRI, axis=1)\\nkickout_beforeRI(outcome_b)\";\n",
       "                var nbb_formatted_code = \"outcome_b[\\\"Flag\\\"] = outcome_b.apply(flag_df_beforeRI, axis=1)\\nkickout_beforeRI(outcome_b)\";\n",
       "                var nbb_cells = Jupyter.notebook.get_cells();\n",
       "                for (var i = 0; i < nbb_cells.length; ++i) {\n",
       "                    if (nbb_cells[i].input_prompt_number == nbb_cell_id) {\n",
       "                        if (nbb_cells[i].get_text() == nbb_unformatted_code) {\n",
       "                             nbb_cells[i].set_text(nbb_formatted_code);\n",
       "                        }\n",
       "                        break;\n",
       "                    }\n",
       "                }\n",
       "            }, 500);\n",
       "            "
      ],
      "text/plain": [
       "<IPython.core.display.Javascript object>"
      ]
     },
     "metadata": {},
     "output_type": "display_data"
    },
    {
     "data": {
      "application/javascript": [
       "\n",
       "            setTimeout(function() {\n",
       "                var nbb_cell_id = 122;\n",
       "                var nbb_unformatted_code = \"outcome_b[\\\"Flag\\\"] = outcome_b.apply(flag_df_beforeRI, axis=1)\\nkickout_beforeRI(outcome_b)\";\n",
       "                var nbb_formatted_code = \"outcome_b[\\\"Flag\\\"] = outcome_b.apply(flag_df_beforeRI, axis=1)\\nkickout_beforeRI(outcome_b)\";\n",
       "                var nbb_cells = Jupyter.notebook.get_cells();\n",
       "                for (var i = 0; i < nbb_cells.length; ++i) {\n",
       "                    if (nbb_cells[i].input_prompt_number == nbb_cell_id) {\n",
       "                        if (nbb_cells[i].get_text() == nbb_unformatted_code) {\n",
       "                             nbb_cells[i].set_text(nbb_formatted_code);\n",
       "                        }\n",
       "                        break;\n",
       "                    }\n",
       "                }\n",
       "            }, 500);\n",
       "            "
      ],
      "text/plain": [
       "<IPython.core.display.Javascript object>"
      ]
     },
     "metadata": {},
     "output_type": "display_data"
    }
   ],
   "source": [
    "outcome_b[\"Flag\"] = outcome_b.apply(flag_df_beforeRI, axis=1)\n",
    "kickout_beforeRI(outcome_b)"
   ]
  },
  {
   "cell_type": "code",
   "execution_count": 123,
   "metadata": {},
   "outputs": [
    {
     "name": "stdout",
     "output_type": "stream",
     "text": [
      "Kickout + Kickin Metric: 0.745\n"
     ]
    },
    {
     "data": {
      "application/javascript": [
       "\n",
       "            setTimeout(function() {\n",
       "                var nbb_cell_id = 123;\n",
       "                var nbb_unformatted_code = \"outcome_b[\\\"Flag\\\"] = outcome_b.apply(flag_df_baseline, axis=1)\\nkickout_baseline(outcome_b)\";\n",
       "                var nbb_formatted_code = \"outcome_b[\\\"Flag\\\"] = outcome_b.apply(flag_df_baseline, axis=1)\\nkickout_baseline(outcome_b)\";\n",
       "                var nbb_cells = Jupyter.notebook.get_cells();\n",
       "                for (var i = 0; i < nbb_cells.length; ++i) {\n",
       "                    if (nbb_cells[i].input_prompt_number == nbb_cell_id) {\n",
       "                        if (nbb_cells[i].get_text() == nbb_unformatted_code) {\n",
       "                             nbb_cells[i].set_text(nbb_formatted_code);\n",
       "                        }\n",
       "                        break;\n",
       "                    }\n",
       "                }\n",
       "            }, 500);\n",
       "            "
      ],
      "text/plain": [
       "<IPython.core.display.Javascript object>"
      ]
     },
     "metadata": {},
     "output_type": "display_data"
    },
    {
     "data": {
      "application/javascript": [
       "\n",
       "            setTimeout(function() {\n",
       "                var nbb_cell_id = 123;\n",
       "                var nbb_unformatted_code = \"outcome_b[\\\"Flag\\\"] = outcome_b.apply(flag_df_baseline, axis=1)\\nkickout_baseline(outcome_b)\";\n",
       "                var nbb_formatted_code = \"outcome_b[\\\"Flag\\\"] = outcome_b.apply(flag_df_baseline, axis=1)\\nkickout_baseline(outcome_b)\";\n",
       "                var nbb_cells = Jupyter.notebook.get_cells();\n",
       "                for (var i = 0; i < nbb_cells.length; ++i) {\n",
       "                    if (nbb_cells[i].input_prompt_number == nbb_cell_id) {\n",
       "                        if (nbb_cells[i].get_text() == nbb_unformatted_code) {\n",
       "                             nbb_cells[i].set_text(nbb_formatted_code);\n",
       "                        }\n",
       "                        break;\n",
       "                    }\n",
       "                }\n",
       "            }, 500);\n",
       "            "
      ],
      "text/plain": [
       "<IPython.core.display.Javascript object>"
      ]
     },
     "metadata": {},
     "output_type": "display_data"
    }
   ],
   "source": [
    "outcome_b[\"Flag\"] = outcome_b.apply(flag_df_baseline, axis=1)\n",
    "kickout_baseline(outcome_b)"
   ]
  },
  {
   "cell_type": "markdown",
   "metadata": {},
   "source": [
    "# Semi-Supervised Learning"
   ]
  },
  {
   "cell_type": "markdown",
   "metadata": {},
   "source": [
    "Based on existing literature semi-supervised learning is chosen for RI. The method is suitable for the problem because the labels of the accepted population (good/bad) are known and the labels of the rejected population are unknown. Without ignoring the inherent bias between accepts and rejects, semi-supervised methods use both labelled and unlabelled data during fit. <br> **1. Data preparation:** the goal is to create initial dataframe, which contains the known training data and training labels of the accepts and the known training data of the rejects. The training labels of the rejects are unknown, and are therefore labelled with a default value of -1. <br> **2. Train/Test Split** The resulting dataset is again split into explanatory variables and target in order to fit the model. <br> **3. Fit model:** The semi-supervised model is fit. Three types of models are tested: Self Training, Label Spreading and Label Propagation <br> **4. Predictions:** Predictions are made using the known testing data and testing labels of the accepts and the test lables of the rejects <br> **5. Evaluation:** The results of the model before and after reject inference are compared  "
   ]
  },
  {
   "cell_type": "code",
   "execution_count": 124,
   "metadata": {},
   "outputs": [
    {
     "data": {
      "application/javascript": [
       "\n",
       "            setTimeout(function() {\n",
       "                var nbb_cell_id = 124;\n",
       "                var nbb_unformatted_code = \"def ssl_prep(X_accept, y_accept, X_reject):\\n    \\\"\\\"\\\"\\n    Parameters\\n    ----------\\n\\n    X_train_acc : training data of accepted population\\n    y_train_acc: training lables of accepted population\\n    X_train_rej: training data of rejected population\\n\\n    Return\\n    ------\\n    df : data of accepted and rejected population\\n\\n    \\\"\\\"\\\"\\n    # Merge explanatory and target in accepts\\n    accepts = pd.merge(\\n        X_accept, y_accept, how=\\\"left\\\", left_index=True, right_index=True\\n    )\\n    # Create accept flag\\n    accepts[\\\"Flag1\\\"] = \\\"Accept\\\"\\n\\n    #     # Sample a matching number of observations from the rejects as the size of accepts\\n    #     ## Shuffle the dataset\\n    #     shuffle_df = X_reject.sample(frac=1)\\n    #     ## Define a size for the train set\\n    #     train_size = int(0.25 * len(shuffle_df))\\n    #     train_rejects = shuffle_df[:train_size]\\n\\n    train_rejects = X_reject\\n\\n    # Merge accepts and rejects\\n    df = pd.concat([accepts, train_rejects])\\n\\n    # If accepted use accept label, if rejected use -1 (default value for unlabelled entries) - hard-coded for now\\n    conditions = [\\n        (df[\\\"Flag1\\\"] == \\\"Accept\\\") & (df[\\\"target\\\"] == 1),\\n        (df[\\\"Flag1\\\"] == \\\"Accept\\\") & (df[\\\"target\\\"] == 0),\\n    ]\\n    choices = [1, 0]\\n\\n    # New target is called unlabel\\n    df[\\\"unlabel\\\"] = np.select(conditions, choices, -1)\\n\\n    # Select columns for modelling - hard-coded for now - can be moved outside of the function\\n    df = df[[\\\"known_col_0\\\", \\\"known_col_1\\\", \\\"known_col_3\\\", \\\"known_col_4\\\", \\\"unlabel\\\"]]\\n\\n    return df\";\n",
       "                var nbb_formatted_code = \"def ssl_prep(X_accept, y_accept, X_reject):\\n    \\\"\\\"\\\"\\n    Parameters\\n    ----------\\n\\n    X_train_acc : training data of accepted population\\n    y_train_acc: training lables of accepted population\\n    X_train_rej: training data of rejected population\\n\\n    Return\\n    ------\\n    df : data of accepted and rejected population\\n\\n    \\\"\\\"\\\"\\n    # Merge explanatory and target in accepts\\n    accepts = pd.merge(\\n        X_accept, y_accept, how=\\\"left\\\", left_index=True, right_index=True\\n    )\\n    # Create accept flag\\n    accepts[\\\"Flag1\\\"] = \\\"Accept\\\"\\n\\n    #     # Sample a matching number of observations from the rejects as the size of accepts\\n    #     ## Shuffle the dataset\\n    #     shuffle_df = X_reject.sample(frac=1)\\n    #     ## Define a size for the train set\\n    #     train_size = int(0.25 * len(shuffle_df))\\n    #     train_rejects = shuffle_df[:train_size]\\n\\n    train_rejects = X_reject\\n\\n    # Merge accepts and rejects\\n    df = pd.concat([accepts, train_rejects])\\n\\n    # If accepted use accept label, if rejected use -1 (default value for unlabelled entries) - hard-coded for now\\n    conditions = [\\n        (df[\\\"Flag1\\\"] == \\\"Accept\\\") & (df[\\\"target\\\"] == 1),\\n        (df[\\\"Flag1\\\"] == \\\"Accept\\\") & (df[\\\"target\\\"] == 0),\\n    ]\\n    choices = [1, 0]\\n\\n    # New target is called unlabel\\n    df[\\\"unlabel\\\"] = np.select(conditions, choices, -1)\\n\\n    # Select columns for modelling - hard-coded for now - can be moved outside of the function\\n    df = df[[\\\"known_col_0\\\", \\\"known_col_1\\\", \\\"known_col_3\\\", \\\"known_col_4\\\", \\\"unlabel\\\"]]\\n\\n    return df\";\n",
       "                var nbb_cells = Jupyter.notebook.get_cells();\n",
       "                for (var i = 0; i < nbb_cells.length; ++i) {\n",
       "                    if (nbb_cells[i].input_prompt_number == nbb_cell_id) {\n",
       "                        if (nbb_cells[i].get_text() == nbb_unformatted_code) {\n",
       "                             nbb_cells[i].set_text(nbb_formatted_code);\n",
       "                        }\n",
       "                        break;\n",
       "                    }\n",
       "                }\n",
       "            }, 500);\n",
       "            "
      ],
      "text/plain": [
       "<IPython.core.display.Javascript object>"
      ]
     },
     "metadata": {},
     "output_type": "display_data"
    },
    {
     "data": {
      "application/javascript": [
       "\n",
       "            setTimeout(function() {\n",
       "                var nbb_cell_id = 124;\n",
       "                var nbb_unformatted_code = \"def ssl_prep(X_accept, y_accept, X_reject):\\n    \\\"\\\"\\\"\\n    Parameters\\n    ----------\\n\\n    X_train_acc : training data of accepted population\\n    y_train_acc: training lables of accepted population\\n    X_train_rej: training data of rejected population\\n\\n    Return\\n    ------\\n    df : data of accepted and rejected population\\n\\n    \\\"\\\"\\\"\\n    # Merge explanatory and target in accepts\\n    accepts = pd.merge(\\n        X_accept, y_accept, how=\\\"left\\\", left_index=True, right_index=True\\n    )\\n    # Create accept flag\\n    accepts[\\\"Flag1\\\"] = \\\"Accept\\\"\\n\\n    #     # Sample a matching number of observations from the rejects as the size of accepts\\n    #     ## Shuffle the dataset\\n    #     shuffle_df = X_reject.sample(frac=1)\\n    #     ## Define a size for the train set\\n    #     train_size = int(0.25 * len(shuffle_df))\\n    #     train_rejects = shuffle_df[:train_size]\\n\\n    train_rejects = X_reject\\n\\n    # Merge accepts and rejects\\n    df = pd.concat([accepts, train_rejects])\\n\\n    # If accepted use accept label, if rejected use -1 (default value for unlabelled entries) - hard-coded for now\\n    conditions = [\\n        (df[\\\"Flag1\\\"] == \\\"Accept\\\") & (df[\\\"target\\\"] == 1),\\n        (df[\\\"Flag1\\\"] == \\\"Accept\\\") & (df[\\\"target\\\"] == 0),\\n    ]\\n    choices = [1, 0]\\n\\n    # New target is called unlabel\\n    df[\\\"unlabel\\\"] = np.select(conditions, choices, -1)\\n\\n    # Select columns for modelling - hard-coded for now - can be moved outside of the function\\n    df = df[[\\\"known_col_0\\\", \\\"known_col_1\\\", \\\"known_col_3\\\", \\\"known_col_4\\\", \\\"unlabel\\\"]]\\n\\n    return df\";\n",
       "                var nbb_formatted_code = \"def ssl_prep(X_accept, y_accept, X_reject):\\n    \\\"\\\"\\\"\\n    Parameters\\n    ----------\\n\\n    X_train_acc : training data of accepted population\\n    y_train_acc: training lables of accepted population\\n    X_train_rej: training data of rejected population\\n\\n    Return\\n    ------\\n    df : data of accepted and rejected population\\n\\n    \\\"\\\"\\\"\\n    # Merge explanatory and target in accepts\\n    accepts = pd.merge(\\n        X_accept, y_accept, how=\\\"left\\\", left_index=True, right_index=True\\n    )\\n    # Create accept flag\\n    accepts[\\\"Flag1\\\"] = \\\"Accept\\\"\\n\\n    #     # Sample a matching number of observations from the rejects as the size of accepts\\n    #     ## Shuffle the dataset\\n    #     shuffle_df = X_reject.sample(frac=1)\\n    #     ## Define a size for the train set\\n    #     train_size = int(0.25 * len(shuffle_df))\\n    #     train_rejects = shuffle_df[:train_size]\\n\\n    train_rejects = X_reject\\n\\n    # Merge accepts and rejects\\n    df = pd.concat([accepts, train_rejects])\\n\\n    # If accepted use accept label, if rejected use -1 (default value for unlabelled entries) - hard-coded for now\\n    conditions = [\\n        (df[\\\"Flag1\\\"] == \\\"Accept\\\") & (df[\\\"target\\\"] == 1),\\n        (df[\\\"Flag1\\\"] == \\\"Accept\\\") & (df[\\\"target\\\"] == 0),\\n    ]\\n    choices = [1, 0]\\n\\n    # New target is called unlabel\\n    df[\\\"unlabel\\\"] = np.select(conditions, choices, -1)\\n\\n    # Select columns for modelling - hard-coded for now - can be moved outside of the function\\n    df = df[[\\\"known_col_0\\\", \\\"known_col_1\\\", \\\"known_col_3\\\", \\\"known_col_4\\\", \\\"unlabel\\\"]]\\n\\n    return df\";\n",
       "                var nbb_cells = Jupyter.notebook.get_cells();\n",
       "                for (var i = 0; i < nbb_cells.length; ++i) {\n",
       "                    if (nbb_cells[i].input_prompt_number == nbb_cell_id) {\n",
       "                        if (nbb_cells[i].get_text() == nbb_unformatted_code) {\n",
       "                             nbb_cells[i].set_text(nbb_formatted_code);\n",
       "                        }\n",
       "                        break;\n",
       "                    }\n",
       "                }\n",
       "            }, 500);\n",
       "            "
      ],
      "text/plain": [
       "<IPython.core.display.Javascript object>"
      ]
     },
     "metadata": {},
     "output_type": "display_data"
    }
   ],
   "source": [
    "def ssl_prep(X_accept, y_accept, X_reject):\n",
    "    \"\"\"\n",
    "    Parameters\n",
    "    ----------\n",
    "\n",
    "    X_train_acc : training data of accepted population\n",
    "    y_train_acc: training lables of accepted population\n",
    "    X_train_rej: training data of rejected population\n",
    "\n",
    "    Return\n",
    "    ------\n",
    "    df : data of accepted and rejected population\n",
    "\n",
    "    \"\"\"\n",
    "    # Merge explanatory and target in accepts\n",
    "    accepts = pd.merge(\n",
    "        X_accept, y_accept, how=\"left\", left_index=True, right_index=True\n",
    "    )\n",
    "    # Create accept flag\n",
    "    accepts[\"Flag1\"] = \"Accept\"\n",
    "\n",
    "    #     # Sample a matching number of observations from the rejects as the size of accepts\n",
    "    #     ## Shuffle the dataset\n",
    "    #     shuffle_df = X_reject.sample(frac=1)\n",
    "    #     ## Define a size for the train set\n",
    "    #     train_size = int(0.25 * len(shuffle_df))\n",
    "    #     train_rejects = shuffle_df[:train_size]\n",
    "\n",
    "    train_rejects = X_reject\n",
    "\n",
    "    # Merge accepts and rejects\n",
    "    df = pd.concat([accepts, train_rejects])\n",
    "\n",
    "    # If accepted use accept label, if rejected use -1 (default value for unlabelled entries) - hard-coded for now\n",
    "    conditions = [\n",
    "        (df[\"Flag1\"] == \"Accept\") & (df[\"target\"] == 1),\n",
    "        (df[\"Flag1\"] == \"Accept\") & (df[\"target\"] == 0),\n",
    "    ]\n",
    "    choices = [1, 0]\n",
    "\n",
    "    # New target is called unlabel\n",
    "    df[\"unlabel\"] = np.select(conditions, choices, -1)\n",
    "\n",
    "    # Select columns for modelling - hard-coded for now - can be moved outside of the function\n",
    "    df = df[[\"known_col_0\", \"known_col_1\", \"known_col_3\", \"known_col_4\", \"unlabel\"]]\n",
    "\n",
    "    return df"
   ]
  },
  {
   "cell_type": "code",
   "execution_count": 125,
   "metadata": {},
   "outputs": [
    {
     "data": {
      "application/javascript": [
       "\n",
       "            setTimeout(function() {\n",
       "                var nbb_cell_id = 125;\n",
       "                var nbb_unformatted_code = \"def ssl_split(df, target):\\n    \\\"\\\"\\\"\\n    Parameters\\n    ----------\\n\\n    df : dataframe of accepted and rejected population, including data and labels\\n    target: string name of the target column, should be passed in quotation marks (e.g. \\\"target\\\")\\n\\n    Return\\n    ------\\n    X_train: training data of accepted and rejected population, ready to be fed into the semi-supervised model\\n    y_train: training labels of accepted and rejected population, ready to be fed into the semi-supervised model\\n\\n    \\\"\\\"\\\"\\n\\n    X_train = df.loc[:, df.columns != target]\\n    y_train = df.loc[:, df.columns == target]\\n    return X_train, y_train\";\n",
       "                var nbb_formatted_code = \"def ssl_split(df, target):\\n    \\\"\\\"\\\"\\n    Parameters\\n    ----------\\n\\n    df : dataframe of accepted and rejected population, including data and labels\\n    target: string name of the target column, should be passed in quotation marks (e.g. \\\"target\\\")\\n\\n    Return\\n    ------\\n    X_train: training data of accepted and rejected population, ready to be fed into the semi-supervised model\\n    y_train: training labels of accepted and rejected population, ready to be fed into the semi-supervised model\\n\\n    \\\"\\\"\\\"\\n\\n    X_train = df.loc[:, df.columns != target]\\n    y_train = df.loc[:, df.columns == target]\\n    return X_train, y_train\";\n",
       "                var nbb_cells = Jupyter.notebook.get_cells();\n",
       "                for (var i = 0; i < nbb_cells.length; ++i) {\n",
       "                    if (nbb_cells[i].input_prompt_number == nbb_cell_id) {\n",
       "                        if (nbb_cells[i].get_text() == nbb_unformatted_code) {\n",
       "                             nbb_cells[i].set_text(nbb_formatted_code);\n",
       "                        }\n",
       "                        break;\n",
       "                    }\n",
       "                }\n",
       "            }, 500);\n",
       "            "
      ],
      "text/plain": [
       "<IPython.core.display.Javascript object>"
      ]
     },
     "metadata": {},
     "output_type": "display_data"
    },
    {
     "data": {
      "application/javascript": [
       "\n",
       "            setTimeout(function() {\n",
       "                var nbb_cell_id = 125;\n",
       "                var nbb_unformatted_code = \"def ssl_split(df, target):\\n    \\\"\\\"\\\"\\n    Parameters\\n    ----------\\n\\n    df : dataframe of accepted and rejected population, including data and labels\\n    target: string name of the target column, should be passed in quotation marks (e.g. \\\"target\\\")\\n\\n    Return\\n    ------\\n    X_train: training data of accepted and rejected population, ready to be fed into the semi-supervised model\\n    y_train: training labels of accepted and rejected population, ready to be fed into the semi-supervised model\\n\\n    \\\"\\\"\\\"\\n\\n    X_train = df.loc[:, df.columns != target]\\n    y_train = df.loc[:, df.columns == target]\\n    return X_train, y_train\";\n",
       "                var nbb_formatted_code = \"def ssl_split(df, target):\\n    \\\"\\\"\\\"\\n    Parameters\\n    ----------\\n\\n    df : dataframe of accepted and rejected population, including data and labels\\n    target: string name of the target column, should be passed in quotation marks (e.g. \\\"target\\\")\\n\\n    Return\\n    ------\\n    X_train: training data of accepted and rejected population, ready to be fed into the semi-supervised model\\n    y_train: training labels of accepted and rejected population, ready to be fed into the semi-supervised model\\n\\n    \\\"\\\"\\\"\\n\\n    X_train = df.loc[:, df.columns != target]\\n    y_train = df.loc[:, df.columns == target]\\n    return X_train, y_train\";\n",
       "                var nbb_cells = Jupyter.notebook.get_cells();\n",
       "                for (var i = 0; i < nbb_cells.length; ++i) {\n",
       "                    if (nbb_cells[i].input_prompt_number == nbb_cell_id) {\n",
       "                        if (nbb_cells[i].get_text() == nbb_unformatted_code) {\n",
       "                             nbb_cells[i].set_text(nbb_formatted_code);\n",
       "                        }\n",
       "                        break;\n",
       "                    }\n",
       "                }\n",
       "            }, 500);\n",
       "            "
      ],
      "text/plain": [
       "<IPython.core.display.Javascript object>"
      ]
     },
     "metadata": {},
     "output_type": "display_data"
    }
   ],
   "source": [
    "def ssl_split(df, target):\n",
    "    \"\"\"\n",
    "    Parameters\n",
    "    ----------\n",
    "\n",
    "    df : dataframe of accepted and rejected population, including data and labels\n",
    "    target: string name of the target column, should be passed in quotation marks (e.g. \"target\")\n",
    "\n",
    "    Return\n",
    "    ------\n",
    "    X_train: training data of accepted and rejected population, ready to be fed into the semi-supervised model\n",
    "    y_train: training labels of accepted and rejected population, ready to be fed into the semi-supervised model\n",
    "\n",
    "    \"\"\"\n",
    "\n",
    "    X_train = df.loc[:, df.columns != target]\n",
    "    y_train = df.loc[:, df.columns == target]\n",
    "    return X_train, y_train"
   ]
  },
  {
   "cell_type": "code",
   "execution_count": 126,
   "metadata": {},
   "outputs": [
    {
     "data": {
      "application/javascript": [
       "\n",
       "            setTimeout(function() {\n",
       "                var nbb_cell_id = 126;\n",
       "                var nbb_unformatted_code = \"# def ssl_model_cotraining(X_train, y_train, model):\\n#     gb = GradientBoostingClassifier()\\n#     lr = LogisticRegression(fit_intercept=True, penalty=\\\"none\\\")\\n#     model = CTClassifier(gb, lr, random_state=42)\\n#     ctc = model.fit_predict([X_train.to_list(), X_train.to_list()], y_train.to_numpy)\\n#     return ctc\";\n",
       "                var nbb_formatted_code = \"# def ssl_model_cotraining(X_train, y_train, model):\\n#     gb = GradientBoostingClassifier()\\n#     lr = LogisticRegression(fit_intercept=True, penalty=\\\"none\\\")\\n#     model = CTClassifier(gb, lr, random_state=42)\\n#     ctc = model.fit_predict([X_train.to_list(), X_train.to_list()], y_train.to_numpy)\\n#     return ctc\";\n",
       "                var nbb_cells = Jupyter.notebook.get_cells();\n",
       "                for (var i = 0; i < nbb_cells.length; ++i) {\n",
       "                    if (nbb_cells[i].input_prompt_number == nbb_cell_id) {\n",
       "                        if (nbb_cells[i].get_text() == nbb_unformatted_code) {\n",
       "                             nbb_cells[i].set_text(nbb_formatted_code);\n",
       "                        }\n",
       "                        break;\n",
       "                    }\n",
       "                }\n",
       "            }, 500);\n",
       "            "
      ],
      "text/plain": [
       "<IPython.core.display.Javascript object>"
      ]
     },
     "metadata": {},
     "output_type": "display_data"
    },
    {
     "data": {
      "application/javascript": [
       "\n",
       "            setTimeout(function() {\n",
       "                var nbb_cell_id = 126;\n",
       "                var nbb_unformatted_code = \"# def ssl_model_cotraining(X_train, y_train, model):\\n#     gb = GradientBoostingClassifier()\\n#     lr = LogisticRegression(fit_intercept=True, penalty=\\\"none\\\")\\n#     model = CTClassifier(gb, lr, random_state=42)\\n#     ctc = model.fit_predict([X_train.to_list(), X_train.to_list()], y_train.to_numpy)\\n#     return ctc\";\n",
       "                var nbb_formatted_code = \"# def ssl_model_cotraining(X_train, y_train, model):\\n#     gb = GradientBoostingClassifier()\\n#     lr = LogisticRegression(fit_intercept=True, penalty=\\\"none\\\")\\n#     model = CTClassifier(gb, lr, random_state=42)\\n#     ctc = model.fit_predict([X_train.to_list(), X_train.to_list()], y_train.to_numpy)\\n#     return ctc\";\n",
       "                var nbb_cells = Jupyter.notebook.get_cells();\n",
       "                for (var i = 0; i < nbb_cells.length; ++i) {\n",
       "                    if (nbb_cells[i].input_prompt_number == nbb_cell_id) {\n",
       "                        if (nbb_cells[i].get_text() == nbb_unformatted_code) {\n",
       "                             nbb_cells[i].set_text(nbb_formatted_code);\n",
       "                        }\n",
       "                        break;\n",
       "                    }\n",
       "                }\n",
       "            }, 500);\n",
       "            "
      ],
      "text/plain": [
       "<IPython.core.display.Javascript object>"
      ]
     },
     "metadata": {},
     "output_type": "display_data"
    }
   ],
   "source": [
    "# def ssl_model_cotraining(X_train, y_train, model):\n",
    "#     gb = GradientBoostingClassifier()\n",
    "#     lr = LogisticRegression(fit_intercept=True, penalty=\"none\")\n",
    "#     model = CTClassifier(gb, lr, random_state=42)\n",
    "#     ctc = model.fit_predict([X_train.to_list(), X_train.to_list()], y_train.to_numpy)\n",
    "#     return ctc"
   ]
  },
  {
   "cell_type": "code",
   "execution_count": 127,
   "metadata": {},
   "outputs": [
    {
     "data": {
      "application/javascript": [
       "\n",
       "            setTimeout(function() {\n",
       "                var nbb_cell_id = 127;\n",
       "                var nbb_unformatted_code = \"def ssl_model_selftraining(X_train, y_train, model):\\n    \\\"\\\"\\\"\\n    Parameters\\n    ----------\\n\\n    X_train : training data of accepted and rejected population\\n    y_train : training lables of accepted population (0,1) and rejected population (-1)\\n    model : semi-supervised learning model from sklearn (Self-Training Classifier)\\n\\n    Return\\n    ------\\n\\n    ssl: trained semi-supervised learning model\\n\\n    \\\"\\\"\\\"\\n\\n    # Fit SSL moodel\\n    # base = RandomForestClassifier()\\n    base = LGBMClassifier()\\n    # base = GradientBoostingClassifier(criterion=\\\"mse\\\")\\n    # base = LogisticRegression(fit_intercept=True, penalty=\\\"none\\\")\\n    model = model(base)\\n    labels = np.copy(y_train)\\n    data = np.copy(X_train)\\n    ssl = model.fit(data, labels)\\n    return ssl\";\n",
       "                var nbb_formatted_code = \"def ssl_model_selftraining(X_train, y_train, model):\\n    \\\"\\\"\\\"\\n    Parameters\\n    ----------\\n\\n    X_train : training data of accepted and rejected population\\n    y_train : training lables of accepted population (0,1) and rejected population (-1)\\n    model : semi-supervised learning model from sklearn (Self-Training Classifier)\\n\\n    Return\\n    ------\\n\\n    ssl: trained semi-supervised learning model\\n\\n    \\\"\\\"\\\"\\n\\n    # Fit SSL moodel\\n    # base = RandomForestClassifier()\\n    base = LGBMClassifier()\\n    # base = GradientBoostingClassifier(criterion=\\\"mse\\\")\\n    # base = LogisticRegression(fit_intercept=True, penalty=\\\"none\\\")\\n    model = model(base)\\n    labels = np.copy(y_train)\\n    data = np.copy(X_train)\\n    ssl = model.fit(data, labels)\\n    return ssl\";\n",
       "                var nbb_cells = Jupyter.notebook.get_cells();\n",
       "                for (var i = 0; i < nbb_cells.length; ++i) {\n",
       "                    if (nbb_cells[i].input_prompt_number == nbb_cell_id) {\n",
       "                        if (nbb_cells[i].get_text() == nbb_unformatted_code) {\n",
       "                             nbb_cells[i].set_text(nbb_formatted_code);\n",
       "                        }\n",
       "                        break;\n",
       "                    }\n",
       "                }\n",
       "            }, 500);\n",
       "            "
      ],
      "text/plain": [
       "<IPython.core.display.Javascript object>"
      ]
     },
     "metadata": {},
     "output_type": "display_data"
    },
    {
     "data": {
      "application/javascript": [
       "\n",
       "            setTimeout(function() {\n",
       "                var nbb_cell_id = 127;\n",
       "                var nbb_unformatted_code = \"def ssl_model_selftraining(X_train, y_train, model):\\n    \\\"\\\"\\\"\\n    Parameters\\n    ----------\\n\\n    X_train : training data of accepted and rejected population\\n    y_train : training lables of accepted population (0,1) and rejected population (-1)\\n    model : semi-supervised learning model from sklearn (Self-Training Classifier)\\n\\n    Return\\n    ------\\n\\n    ssl: trained semi-supervised learning model\\n\\n    \\\"\\\"\\\"\\n\\n    # Fit SSL moodel\\n    # base = RandomForestClassifier()\\n    base = LGBMClassifier()\\n    # base = GradientBoostingClassifier(criterion=\\\"mse\\\")\\n    # base = LogisticRegression(fit_intercept=True, penalty=\\\"none\\\")\\n    model = model(base)\\n    labels = np.copy(y_train)\\n    data = np.copy(X_train)\\n    ssl = model.fit(data, labels)\\n    return ssl\";\n",
       "                var nbb_formatted_code = \"def ssl_model_selftraining(X_train, y_train, model):\\n    \\\"\\\"\\\"\\n    Parameters\\n    ----------\\n\\n    X_train : training data of accepted and rejected population\\n    y_train : training lables of accepted population (0,1) and rejected population (-1)\\n    model : semi-supervised learning model from sklearn (Self-Training Classifier)\\n\\n    Return\\n    ------\\n\\n    ssl: trained semi-supervised learning model\\n\\n    \\\"\\\"\\\"\\n\\n    # Fit SSL moodel\\n    # base = RandomForestClassifier()\\n    base = LGBMClassifier()\\n    # base = GradientBoostingClassifier(criterion=\\\"mse\\\")\\n    # base = LogisticRegression(fit_intercept=True, penalty=\\\"none\\\")\\n    model = model(base)\\n    labels = np.copy(y_train)\\n    data = np.copy(X_train)\\n    ssl = model.fit(data, labels)\\n    return ssl\";\n",
       "                var nbb_cells = Jupyter.notebook.get_cells();\n",
       "                for (var i = 0; i < nbb_cells.length; ++i) {\n",
       "                    if (nbb_cells[i].input_prompt_number == nbb_cell_id) {\n",
       "                        if (nbb_cells[i].get_text() == nbb_unformatted_code) {\n",
       "                             nbb_cells[i].set_text(nbb_formatted_code);\n",
       "                        }\n",
       "                        break;\n",
       "                    }\n",
       "                }\n",
       "            }, 500);\n",
       "            "
      ],
      "text/plain": [
       "<IPython.core.display.Javascript object>"
      ]
     },
     "metadata": {},
     "output_type": "display_data"
    }
   ],
   "source": [
    "def ssl_model_selftraining(X_train, y_train, model):\n",
    "    \"\"\"\n",
    "    Parameters\n",
    "    ----------\n",
    "\n",
    "    X_train : training data of accepted and rejected population\n",
    "    y_train : training lables of accepted population (0,1) and rejected population (-1)\n",
    "    model : semi-supervised learning model from sklearn (Self-Training Classifier)\n",
    "\n",
    "    Return\n",
    "    ------\n",
    "\n",
    "    ssl: trained semi-supervised learning model\n",
    "\n",
    "    \"\"\"\n",
    "\n",
    "    # Fit SSL moodel\n",
    "    # base = RandomForestClassifier()\n",
    "    base = LGBMClassifier()\n",
    "    # base = GradientBoostingClassifier(criterion=\"mse\")\n",
    "    # base = LogisticRegression(fit_intercept=True, penalty=\"none\")\n",
    "    model = model(base)\n",
    "    labels = np.copy(y_train)\n",
    "    data = np.copy(X_train)\n",
    "    ssl = model.fit(data, labels)\n",
    "    return ssl"
   ]
  },
  {
   "cell_type": "code",
   "execution_count": 128,
   "metadata": {},
   "outputs": [
    {
     "data": {
      "application/javascript": [
       "\n",
       "            setTimeout(function() {\n",
       "                var nbb_cell_id = 128;\n",
       "                var nbb_unformatted_code = \"def ssl_model_label(X_train, y_train, model):\\n    \\\"\\\"\\\"\\n    Parameters\\n    ----------\\n\\n    X_train : training data of accepted and rejected population\\n    y_train : training lables of accepted population (0,1) and rejected population (-1)\\n    model : semi-supervised learning model from sklearn (Label Propagation, Label Spreading)\\n\\n    Return\\n    ------\\n\\n    ssl: trained semi-supervised learning model\\n\\n    \\\"\\\"\\\"\\n\\n    # Fit SSL moodel\\n    model = model()\\n    labels = np.copy(y_train)\\n    data = np.copy(X_train)\\n    ssl = model.fit(data, labels)\\n    return ssl\";\n",
       "                var nbb_formatted_code = \"def ssl_model_label(X_train, y_train, model):\\n    \\\"\\\"\\\"\\n    Parameters\\n    ----------\\n\\n    X_train : training data of accepted and rejected population\\n    y_train : training lables of accepted population (0,1) and rejected population (-1)\\n    model : semi-supervised learning model from sklearn (Label Propagation, Label Spreading)\\n\\n    Return\\n    ------\\n\\n    ssl: trained semi-supervised learning model\\n\\n    \\\"\\\"\\\"\\n\\n    # Fit SSL moodel\\n    model = model()\\n    labels = np.copy(y_train)\\n    data = np.copy(X_train)\\n    ssl = model.fit(data, labels)\\n    return ssl\";\n",
       "                var nbb_cells = Jupyter.notebook.get_cells();\n",
       "                for (var i = 0; i < nbb_cells.length; ++i) {\n",
       "                    if (nbb_cells[i].input_prompt_number == nbb_cell_id) {\n",
       "                        if (nbb_cells[i].get_text() == nbb_unformatted_code) {\n",
       "                             nbb_cells[i].set_text(nbb_formatted_code);\n",
       "                        }\n",
       "                        break;\n",
       "                    }\n",
       "                }\n",
       "            }, 500);\n",
       "            "
      ],
      "text/plain": [
       "<IPython.core.display.Javascript object>"
      ]
     },
     "metadata": {},
     "output_type": "display_data"
    },
    {
     "data": {
      "application/javascript": [
       "\n",
       "            setTimeout(function() {\n",
       "                var nbb_cell_id = 128;\n",
       "                var nbb_unformatted_code = \"def ssl_model_label(X_train, y_train, model):\\n    \\\"\\\"\\\"\\n    Parameters\\n    ----------\\n\\n    X_train : training data of accepted and rejected population\\n    y_train : training lables of accepted population (0,1) and rejected population (-1)\\n    model : semi-supervised learning model from sklearn (Label Propagation, Label Spreading)\\n\\n    Return\\n    ------\\n\\n    ssl: trained semi-supervised learning model\\n\\n    \\\"\\\"\\\"\\n\\n    # Fit SSL moodel\\n    model = model()\\n    labels = np.copy(y_train)\\n    data = np.copy(X_train)\\n    ssl = model.fit(data, labels)\\n    return ssl\";\n",
       "                var nbb_formatted_code = \"def ssl_model_label(X_train, y_train, model):\\n    \\\"\\\"\\\"\\n    Parameters\\n    ----------\\n\\n    X_train : training data of accepted and rejected population\\n    y_train : training lables of accepted population (0,1) and rejected population (-1)\\n    model : semi-supervised learning model from sklearn (Label Propagation, Label Spreading)\\n\\n    Return\\n    ------\\n\\n    ssl: trained semi-supervised learning model\\n\\n    \\\"\\\"\\\"\\n\\n    # Fit SSL moodel\\n    model = model()\\n    labels = np.copy(y_train)\\n    data = np.copy(X_train)\\n    ssl = model.fit(data, labels)\\n    return ssl\";\n",
       "                var nbb_cells = Jupyter.notebook.get_cells();\n",
       "                for (var i = 0; i < nbb_cells.length; ++i) {\n",
       "                    if (nbb_cells[i].input_prompt_number == nbb_cell_id) {\n",
       "                        if (nbb_cells[i].get_text() == nbb_unformatted_code) {\n",
       "                             nbb_cells[i].set_text(nbb_formatted_code);\n",
       "                        }\n",
       "                        break;\n",
       "                    }\n",
       "                }\n",
       "            }, 500);\n",
       "            "
      ],
      "text/plain": [
       "<IPython.core.display.Javascript object>"
      ]
     },
     "metadata": {},
     "output_type": "display_data"
    }
   ],
   "source": [
    "def ssl_model_label(X_train, y_train, model):\n",
    "    \"\"\"\n",
    "    Parameters\n",
    "    ----------\n",
    "\n",
    "    X_train : training data of accepted and rejected population\n",
    "    y_train : training lables of accepted population (0,1) and rejected population (-1)\n",
    "    model : semi-supervised learning model from sklearn (Label Propagation, Label Spreading)\n",
    "\n",
    "    Return\n",
    "    ------\n",
    "\n",
    "    ssl: trained semi-supervised learning model\n",
    "\n",
    "    \"\"\"\n",
    "\n",
    "    # Fit SSL moodel\n",
    "    model = model()\n",
    "    labels = np.copy(y_train)\n",
    "    data = np.copy(X_train)\n",
    "    ssl = model.fit(data, labels)\n",
    "    return ssl"
   ]
  },
  {
   "cell_type": "code",
   "execution_count": 129,
   "metadata": {},
   "outputs": [
    {
     "data": {
      "application/javascript": [
       "\n",
       "            setTimeout(function() {\n",
       "                var nbb_cell_id = 129;\n",
       "                var nbb_unformatted_code = \"def ssl_predictions_oth(ssl, X_test):\\n    \\\"\\\"\\\"\\n    Parameters\\n    ----------\\n\\n    ssl : trained semi-supervised learning model\\n    X_test : testing data of accepted and rejected population for predictions\\n\\n    Return\\n    ------\\n\\n    Predictions before RI (binary)\\n    Predictions after RI (binary)\\n\\n    \\\"\\\"\\\"\\n    # Make Predictions\\n    y_pred = ssl.predict_proba(X_test)[:, 1]\\n\\n    # Convert y_pred array to pandas dataframe\\n    pred_test = pd.DataFrame(\\n        data=y_pred,\\n        columns=[\\\"prediction_ssl_cont\\\"],\\n        index=X_test.index.copy(),\\n    )\\n\\n    # Set quantile\\n    q = pred_test[\\\"prediction_ssl_cont\\\"].quantile(q=1 - conservative_dr)\\n    pred_test[\\\"prediction_ssl\\\"] = pred_test[\\\"prediction_ssl_cont\\\"].apply(\\n        lambda x: 0 if (x < q) else 1\\n    )\\n\\n    # Merge Baseline and SSL prediction\\n    pred_test_final2 = pd.merge(\\n        outcome_a[[\\\"target\\\", \\\"prediction_baseline\\\", \\\"prediction_beforeRI_binary\\\"]],\\n        pred_test[[\\\"prediction_ssl\\\"]],\\n        how=\\\"inner\\\",\\n        left_index=True,\\n        right_index=True,\\n    )\\n\\n    #     # Log Loss\\n    #     log_loss_fun(\\\"Before\\\", pred_test_final2, \\\"target\\\", \\\"prediction_beforeRI_binary\\\")\\n    #     log_loss_fun(\\\"After\\\", pred_test_final2, \\\"target\\\", \\\"prediction_ssl\\\")\\n\\n    #     # Numbers of accurately classified and misclassified cases\\n    #     print_results(pred_test_final2, \\\"before RI\\\", \\\"prediction_beforeRI_binary\\\")\\n    #     print_results(pred_test_final2, \\\"after RI\\\", \\\"prediction_ssl\\\")\\n    return pred_test_final2\";\n",
       "                var nbb_formatted_code = \"def ssl_predictions_oth(ssl, X_test):\\n    \\\"\\\"\\\"\\n    Parameters\\n    ----------\\n\\n    ssl : trained semi-supervised learning model\\n    X_test : testing data of accepted and rejected population for predictions\\n\\n    Return\\n    ------\\n\\n    Predictions before RI (binary)\\n    Predictions after RI (binary)\\n\\n    \\\"\\\"\\\"\\n    # Make Predictions\\n    y_pred = ssl.predict_proba(X_test)[:, 1]\\n\\n    # Convert y_pred array to pandas dataframe\\n    pred_test = pd.DataFrame(\\n        data=y_pred,\\n        columns=[\\\"prediction_ssl_cont\\\"],\\n        index=X_test.index.copy(),\\n    )\\n\\n    # Set quantile\\n    q = pred_test[\\\"prediction_ssl_cont\\\"].quantile(q=1 - conservative_dr)\\n    pred_test[\\\"prediction_ssl\\\"] = pred_test[\\\"prediction_ssl_cont\\\"].apply(\\n        lambda x: 0 if (x < q) else 1\\n    )\\n\\n    # Merge Baseline and SSL prediction\\n    pred_test_final2 = pd.merge(\\n        outcome_a[[\\\"target\\\", \\\"prediction_baseline\\\", \\\"prediction_beforeRI_binary\\\"]],\\n        pred_test[[\\\"prediction_ssl\\\"]],\\n        how=\\\"inner\\\",\\n        left_index=True,\\n        right_index=True,\\n    )\\n\\n    #     # Log Loss\\n    #     log_loss_fun(\\\"Before\\\", pred_test_final2, \\\"target\\\", \\\"prediction_beforeRI_binary\\\")\\n    #     log_loss_fun(\\\"After\\\", pred_test_final2, \\\"target\\\", \\\"prediction_ssl\\\")\\n\\n    #     # Numbers of accurately classified and misclassified cases\\n    #     print_results(pred_test_final2, \\\"before RI\\\", \\\"prediction_beforeRI_binary\\\")\\n    #     print_results(pred_test_final2, \\\"after RI\\\", \\\"prediction_ssl\\\")\\n    return pred_test_final2\";\n",
       "                var nbb_cells = Jupyter.notebook.get_cells();\n",
       "                for (var i = 0; i < nbb_cells.length; ++i) {\n",
       "                    if (nbb_cells[i].input_prompt_number == nbb_cell_id) {\n",
       "                        if (nbb_cells[i].get_text() == nbb_unformatted_code) {\n",
       "                             nbb_cells[i].set_text(nbb_formatted_code);\n",
       "                        }\n",
       "                        break;\n",
       "                    }\n",
       "                }\n",
       "            }, 500);\n",
       "            "
      ],
      "text/plain": [
       "<IPython.core.display.Javascript object>"
      ]
     },
     "metadata": {},
     "output_type": "display_data"
    },
    {
     "data": {
      "application/javascript": [
       "\n",
       "            setTimeout(function() {\n",
       "                var nbb_cell_id = 129;\n",
       "                var nbb_unformatted_code = \"def ssl_predictions_oth(ssl, X_test):\\n    \\\"\\\"\\\"\\n    Parameters\\n    ----------\\n\\n    ssl : trained semi-supervised learning model\\n    X_test : testing data of accepted and rejected population for predictions\\n\\n    Return\\n    ------\\n\\n    Predictions before RI (binary)\\n    Predictions after RI (binary)\\n\\n    \\\"\\\"\\\"\\n    # Make Predictions\\n    y_pred = ssl.predict_proba(X_test)[:, 1]\\n\\n    # Convert y_pred array to pandas dataframe\\n    pred_test = pd.DataFrame(\\n        data=y_pred,\\n        columns=[\\\"prediction_ssl_cont\\\"],\\n        index=X_test.index.copy(),\\n    )\\n\\n    # Set quantile\\n    q = pred_test[\\\"prediction_ssl_cont\\\"].quantile(q=1 - conservative_dr)\\n    pred_test[\\\"prediction_ssl\\\"] = pred_test[\\\"prediction_ssl_cont\\\"].apply(\\n        lambda x: 0 if (x < q) else 1\\n    )\\n\\n    # Merge Baseline and SSL prediction\\n    pred_test_final2 = pd.merge(\\n        outcome_a[[\\\"target\\\", \\\"prediction_baseline\\\", \\\"prediction_beforeRI_binary\\\"]],\\n        pred_test[[\\\"prediction_ssl\\\"]],\\n        how=\\\"inner\\\",\\n        left_index=True,\\n        right_index=True,\\n    )\\n\\n    #     # Log Loss\\n    #     log_loss_fun(\\\"Before\\\", pred_test_final2, \\\"target\\\", \\\"prediction_beforeRI_binary\\\")\\n    #     log_loss_fun(\\\"After\\\", pred_test_final2, \\\"target\\\", \\\"prediction_ssl\\\")\\n\\n    #     # Numbers of accurately classified and misclassified cases\\n    #     print_results(pred_test_final2, \\\"before RI\\\", \\\"prediction_beforeRI_binary\\\")\\n    #     print_results(pred_test_final2, \\\"after RI\\\", \\\"prediction_ssl\\\")\\n    return pred_test_final2\";\n",
       "                var nbb_formatted_code = \"def ssl_predictions_oth(ssl, X_test):\\n    \\\"\\\"\\\"\\n    Parameters\\n    ----------\\n\\n    ssl : trained semi-supervised learning model\\n    X_test : testing data of accepted and rejected population for predictions\\n\\n    Return\\n    ------\\n\\n    Predictions before RI (binary)\\n    Predictions after RI (binary)\\n\\n    \\\"\\\"\\\"\\n    # Make Predictions\\n    y_pred = ssl.predict_proba(X_test)[:, 1]\\n\\n    # Convert y_pred array to pandas dataframe\\n    pred_test = pd.DataFrame(\\n        data=y_pred,\\n        columns=[\\\"prediction_ssl_cont\\\"],\\n        index=X_test.index.copy(),\\n    )\\n\\n    # Set quantile\\n    q = pred_test[\\\"prediction_ssl_cont\\\"].quantile(q=1 - conservative_dr)\\n    pred_test[\\\"prediction_ssl\\\"] = pred_test[\\\"prediction_ssl_cont\\\"].apply(\\n        lambda x: 0 if (x < q) else 1\\n    )\\n\\n    # Merge Baseline and SSL prediction\\n    pred_test_final2 = pd.merge(\\n        outcome_a[[\\\"target\\\", \\\"prediction_baseline\\\", \\\"prediction_beforeRI_binary\\\"]],\\n        pred_test[[\\\"prediction_ssl\\\"]],\\n        how=\\\"inner\\\",\\n        left_index=True,\\n        right_index=True,\\n    )\\n\\n    #     # Log Loss\\n    #     log_loss_fun(\\\"Before\\\", pred_test_final2, \\\"target\\\", \\\"prediction_beforeRI_binary\\\")\\n    #     log_loss_fun(\\\"After\\\", pred_test_final2, \\\"target\\\", \\\"prediction_ssl\\\")\\n\\n    #     # Numbers of accurately classified and misclassified cases\\n    #     print_results(pred_test_final2, \\\"before RI\\\", \\\"prediction_beforeRI_binary\\\")\\n    #     print_results(pred_test_final2, \\\"after RI\\\", \\\"prediction_ssl\\\")\\n    return pred_test_final2\";\n",
       "                var nbb_cells = Jupyter.notebook.get_cells();\n",
       "                for (var i = 0; i < nbb_cells.length; ++i) {\n",
       "                    if (nbb_cells[i].input_prompt_number == nbb_cell_id) {\n",
       "                        if (nbb_cells[i].get_text() == nbb_unformatted_code) {\n",
       "                             nbb_cells[i].set_text(nbb_formatted_code);\n",
       "                        }\n",
       "                        break;\n",
       "                    }\n",
       "                }\n",
       "            }, 500);\n",
       "            "
      ],
      "text/plain": [
       "<IPython.core.display.Javascript object>"
      ]
     },
     "metadata": {},
     "output_type": "display_data"
    }
   ],
   "source": [
    "def ssl_predictions_oth(ssl, X_test):\n",
    "    \"\"\"\n",
    "    Parameters\n",
    "    ----------\n",
    "\n",
    "    ssl : trained semi-supervised learning model\n",
    "    X_test : testing data of accepted and rejected population for predictions\n",
    "\n",
    "    Return\n",
    "    ------\n",
    "\n",
    "    Predictions before RI (binary)\n",
    "    Predictions after RI (binary)\n",
    "\n",
    "    \"\"\"\n",
    "    # Make Predictions\n",
    "    y_pred = ssl.predict_proba(X_test)[:, 1]\n",
    "\n",
    "    # Convert y_pred array to pandas dataframe\n",
    "    pred_test = pd.DataFrame(\n",
    "        data=y_pred,\n",
    "        columns=[\"prediction_ssl_cont\"],\n",
    "        index=X_test.index.copy(),\n",
    "    )\n",
    "\n",
    "    # Set quantile\n",
    "    q = pred_test[\"prediction_ssl_cont\"].quantile(q=1 - conservative_dr)\n",
    "    pred_test[\"prediction_ssl\"] = pred_test[\"prediction_ssl_cont\"].apply(\n",
    "        lambda x: 0 if (x < q) else 1\n",
    "    )\n",
    "\n",
    "    # Merge Baseline and SSL prediction\n",
    "    pred_test_final2 = pd.merge(\n",
    "        outcome_a[[\"target\", \"prediction_baseline\", \"prediction_beforeRI_binary\"]],\n",
    "        pred_test[[\"prediction_ssl\"]],\n",
    "        how=\"inner\",\n",
    "        left_index=True,\n",
    "        right_index=True,\n",
    "    )\n",
    "\n",
    "    #     # Log Loss\n",
    "    #     log_loss_fun(\"Before\", pred_test_final2, \"target\", \"prediction_beforeRI_binary\")\n",
    "    #     log_loss_fun(\"After\", pred_test_final2, \"target\", \"prediction_ssl\")\n",
    "\n",
    "    #     # Numbers of accurately classified and misclassified cases\n",
    "    #     print_results(pred_test_final2, \"before RI\", \"prediction_beforeRI_binary\")\n",
    "    #     print_results(pred_test_final2, \"after RI\", \"prediction_ssl\")\n",
    "    return pred_test_final2"
   ]
  },
  {
   "cell_type": "code",
   "execution_count": 130,
   "metadata": {},
   "outputs": [
    {
     "data": {
      "application/javascript": [
       "\n",
       "            setTimeout(function() {\n",
       "                var nbb_cell_id = 130;\n",
       "                var nbb_unformatted_code = \"def ssl_predictions_oth_rej(ssl, dfr_test_with_label_X):\\n    \\\"\\\"\\\"\\n    Parameters\\n    ----------\\n\\n    ssl : trained semi-supervised learning model\\n    X_test : testing data of accepted and rejected population for predictions\\n\\n    Return\\n    ------\\n\\n    Predictions before RI (binary)\\n    Predictions after RI (binary)\\n\\n    \\\"\\\"\\\"\\n    # Make Predictions\\n\\n    y_pred = ssl.predict_proba(dfr_test_with_label_X)[:, 1]\\n\\n    # Convert y_pred array to pandas dataframe\\n    pred_test = pd.DataFrame(\\n        data=y_pred,\\n        columns=[\\\"prediction_ssl_cont\\\"],\\n        index=dfr_test_with_label_X.index.copy(),\\n    )\\n\\n    # Set quantile\\n    q = pred_test[\\\"prediction_ssl_cont\\\"].quantile(q=1 - conservative_dr)\\n    pred_test[\\\"prediction_ssl\\\"] = pred_test[\\\"prediction_ssl_cont\\\"].apply(\\n        lambda x: 0 if (x < q) else 1\\n    )\\n\\n    # Merge Baseline and SSL prediction\\n    pred_test_final2 = pd.merge(\\n        outcome_b[[\\\"target\\\", \\\"prediction_baseline\\\", \\\"prediction_beforeRI_binary\\\"]],\\n        pred_test[[\\\"prediction_ssl\\\"]],\\n        how=\\\"inner\\\",\\n        left_index=True,\\n        right_index=True,\\n    )\\n\\n    #     # Log Loss\\n    #     log_loss_fun(\\\"Before\\\", pred_test_final2, \\\"target\\\", \\\"prediction_beforeRI_binary\\\")\\n    #     log_loss_fun(\\\"After\\\", pred_test_final2, \\\"target\\\", \\\"prediction_ssl\\\")\\n\\n    #     # Numbers of accurately classified and misclassified cases\\n    #     print_results(pred_test_final2, \\\"before RI\\\", \\\"prediction_beforeRI_binary\\\")\\n    #     print_results(pred_test_final2, \\\"after RI\\\", \\\"prediction_ssl\\\")\\n    return pred_test_final2\";\n",
       "                var nbb_formatted_code = \"def ssl_predictions_oth_rej(ssl, dfr_test_with_label_X):\\n    \\\"\\\"\\\"\\n    Parameters\\n    ----------\\n\\n    ssl : trained semi-supervised learning model\\n    X_test : testing data of accepted and rejected population for predictions\\n\\n    Return\\n    ------\\n\\n    Predictions before RI (binary)\\n    Predictions after RI (binary)\\n\\n    \\\"\\\"\\\"\\n    # Make Predictions\\n\\n    y_pred = ssl.predict_proba(dfr_test_with_label_X)[:, 1]\\n\\n    # Convert y_pred array to pandas dataframe\\n    pred_test = pd.DataFrame(\\n        data=y_pred,\\n        columns=[\\\"prediction_ssl_cont\\\"],\\n        index=dfr_test_with_label_X.index.copy(),\\n    )\\n\\n    # Set quantile\\n    q = pred_test[\\\"prediction_ssl_cont\\\"].quantile(q=1 - conservative_dr)\\n    pred_test[\\\"prediction_ssl\\\"] = pred_test[\\\"prediction_ssl_cont\\\"].apply(\\n        lambda x: 0 if (x < q) else 1\\n    )\\n\\n    # Merge Baseline and SSL prediction\\n    pred_test_final2 = pd.merge(\\n        outcome_b[[\\\"target\\\", \\\"prediction_baseline\\\", \\\"prediction_beforeRI_binary\\\"]],\\n        pred_test[[\\\"prediction_ssl\\\"]],\\n        how=\\\"inner\\\",\\n        left_index=True,\\n        right_index=True,\\n    )\\n\\n    #     # Log Loss\\n    #     log_loss_fun(\\\"Before\\\", pred_test_final2, \\\"target\\\", \\\"prediction_beforeRI_binary\\\")\\n    #     log_loss_fun(\\\"After\\\", pred_test_final2, \\\"target\\\", \\\"prediction_ssl\\\")\\n\\n    #     # Numbers of accurately classified and misclassified cases\\n    #     print_results(pred_test_final2, \\\"before RI\\\", \\\"prediction_beforeRI_binary\\\")\\n    #     print_results(pred_test_final2, \\\"after RI\\\", \\\"prediction_ssl\\\")\\n    return pred_test_final2\";\n",
       "                var nbb_cells = Jupyter.notebook.get_cells();\n",
       "                for (var i = 0; i < nbb_cells.length; ++i) {\n",
       "                    if (nbb_cells[i].input_prompt_number == nbb_cell_id) {\n",
       "                        if (nbb_cells[i].get_text() == nbb_unformatted_code) {\n",
       "                             nbb_cells[i].set_text(nbb_formatted_code);\n",
       "                        }\n",
       "                        break;\n",
       "                    }\n",
       "                }\n",
       "            }, 500);\n",
       "            "
      ],
      "text/plain": [
       "<IPython.core.display.Javascript object>"
      ]
     },
     "metadata": {},
     "output_type": "display_data"
    },
    {
     "data": {
      "application/javascript": [
       "\n",
       "            setTimeout(function() {\n",
       "                var nbb_cell_id = 130;\n",
       "                var nbb_unformatted_code = \"def ssl_predictions_oth_rej(ssl, dfr_test_with_label_X):\\n    \\\"\\\"\\\"\\n    Parameters\\n    ----------\\n\\n    ssl : trained semi-supervised learning model\\n    X_test : testing data of accepted and rejected population for predictions\\n\\n    Return\\n    ------\\n\\n    Predictions before RI (binary)\\n    Predictions after RI (binary)\\n\\n    \\\"\\\"\\\"\\n    # Make Predictions\\n\\n    y_pred = ssl.predict_proba(dfr_test_with_label_X)[:, 1]\\n\\n    # Convert y_pred array to pandas dataframe\\n    pred_test = pd.DataFrame(\\n        data=y_pred,\\n        columns=[\\\"prediction_ssl_cont\\\"],\\n        index=dfr_test_with_label_X.index.copy(),\\n    )\\n\\n    # Set quantile\\n    q = pred_test[\\\"prediction_ssl_cont\\\"].quantile(q=1 - conservative_dr)\\n    pred_test[\\\"prediction_ssl\\\"] = pred_test[\\\"prediction_ssl_cont\\\"].apply(\\n        lambda x: 0 if (x < q) else 1\\n    )\\n\\n    # Merge Baseline and SSL prediction\\n    pred_test_final2 = pd.merge(\\n        outcome_b[[\\\"target\\\", \\\"prediction_baseline\\\", \\\"prediction_beforeRI_binary\\\"]],\\n        pred_test[[\\\"prediction_ssl\\\"]],\\n        how=\\\"inner\\\",\\n        left_index=True,\\n        right_index=True,\\n    )\\n\\n    #     # Log Loss\\n    #     log_loss_fun(\\\"Before\\\", pred_test_final2, \\\"target\\\", \\\"prediction_beforeRI_binary\\\")\\n    #     log_loss_fun(\\\"After\\\", pred_test_final2, \\\"target\\\", \\\"prediction_ssl\\\")\\n\\n    #     # Numbers of accurately classified and misclassified cases\\n    #     print_results(pred_test_final2, \\\"before RI\\\", \\\"prediction_beforeRI_binary\\\")\\n    #     print_results(pred_test_final2, \\\"after RI\\\", \\\"prediction_ssl\\\")\\n    return pred_test_final2\";\n",
       "                var nbb_formatted_code = \"def ssl_predictions_oth_rej(ssl, dfr_test_with_label_X):\\n    \\\"\\\"\\\"\\n    Parameters\\n    ----------\\n\\n    ssl : trained semi-supervised learning model\\n    X_test : testing data of accepted and rejected population for predictions\\n\\n    Return\\n    ------\\n\\n    Predictions before RI (binary)\\n    Predictions after RI (binary)\\n\\n    \\\"\\\"\\\"\\n    # Make Predictions\\n\\n    y_pred = ssl.predict_proba(dfr_test_with_label_X)[:, 1]\\n\\n    # Convert y_pred array to pandas dataframe\\n    pred_test = pd.DataFrame(\\n        data=y_pred,\\n        columns=[\\\"prediction_ssl_cont\\\"],\\n        index=dfr_test_with_label_X.index.copy(),\\n    )\\n\\n    # Set quantile\\n    q = pred_test[\\\"prediction_ssl_cont\\\"].quantile(q=1 - conservative_dr)\\n    pred_test[\\\"prediction_ssl\\\"] = pred_test[\\\"prediction_ssl_cont\\\"].apply(\\n        lambda x: 0 if (x < q) else 1\\n    )\\n\\n    # Merge Baseline and SSL prediction\\n    pred_test_final2 = pd.merge(\\n        outcome_b[[\\\"target\\\", \\\"prediction_baseline\\\", \\\"prediction_beforeRI_binary\\\"]],\\n        pred_test[[\\\"prediction_ssl\\\"]],\\n        how=\\\"inner\\\",\\n        left_index=True,\\n        right_index=True,\\n    )\\n\\n    #     # Log Loss\\n    #     log_loss_fun(\\\"Before\\\", pred_test_final2, \\\"target\\\", \\\"prediction_beforeRI_binary\\\")\\n    #     log_loss_fun(\\\"After\\\", pred_test_final2, \\\"target\\\", \\\"prediction_ssl\\\")\\n\\n    #     # Numbers of accurately classified and misclassified cases\\n    #     print_results(pred_test_final2, \\\"before RI\\\", \\\"prediction_beforeRI_binary\\\")\\n    #     print_results(pred_test_final2, \\\"after RI\\\", \\\"prediction_ssl\\\")\\n    return pred_test_final2\";\n",
       "                var nbb_cells = Jupyter.notebook.get_cells();\n",
       "                for (var i = 0; i < nbb_cells.length; ++i) {\n",
       "                    if (nbb_cells[i].input_prompt_number == nbb_cell_id) {\n",
       "                        if (nbb_cells[i].get_text() == nbb_unformatted_code) {\n",
       "                             nbb_cells[i].set_text(nbb_formatted_code);\n",
       "                        }\n",
       "                        break;\n",
       "                    }\n",
       "                }\n",
       "            }, 500);\n",
       "            "
      ],
      "text/plain": [
       "<IPython.core.display.Javascript object>"
      ]
     },
     "metadata": {},
     "output_type": "display_data"
    }
   ],
   "source": [
    "def ssl_predictions_oth_rej(ssl, dfr_test_with_label_X):\n",
    "    \"\"\"\n",
    "    Parameters\n",
    "    ----------\n",
    "\n",
    "    ssl : trained semi-supervised learning model\n",
    "    X_test : testing data of accepted and rejected population for predictions\n",
    "\n",
    "    Return\n",
    "    ------\n",
    "\n",
    "    Predictions before RI (binary)\n",
    "    Predictions after RI (binary)\n",
    "\n",
    "    \"\"\"\n",
    "    # Make Predictions\n",
    "\n",
    "    y_pred = ssl.predict_proba(dfr_test_with_label_X)[:, 1]\n",
    "\n",
    "    # Convert y_pred array to pandas dataframe\n",
    "    pred_test = pd.DataFrame(\n",
    "        data=y_pred,\n",
    "        columns=[\"prediction_ssl_cont\"],\n",
    "        index=dfr_test_with_label_X.index.copy(),\n",
    "    )\n",
    "\n",
    "    # Set quantile\n",
    "    q = pred_test[\"prediction_ssl_cont\"].quantile(q=1 - conservative_dr)\n",
    "    pred_test[\"prediction_ssl\"] = pred_test[\"prediction_ssl_cont\"].apply(\n",
    "        lambda x: 0 if (x < q) else 1\n",
    "    )\n",
    "\n",
    "    # Merge Baseline and SSL prediction\n",
    "    pred_test_final2 = pd.merge(\n",
    "        outcome_b[[\"target\", \"prediction_baseline\", \"prediction_beforeRI_binary\"]],\n",
    "        pred_test[[\"prediction_ssl\"]],\n",
    "        how=\"inner\",\n",
    "        left_index=True,\n",
    "        right_index=True,\n",
    "    )\n",
    "\n",
    "    #     # Log Loss\n",
    "    #     log_loss_fun(\"Before\", pred_test_final2, \"target\", \"prediction_beforeRI_binary\")\n",
    "    #     log_loss_fun(\"After\", pred_test_final2, \"target\", \"prediction_ssl\")\n",
    "\n",
    "    #     # Numbers of accurately classified and misclassified cases\n",
    "    #     print_results(pred_test_final2, \"before RI\", \"prediction_beforeRI_binary\")\n",
    "    #     print_results(pred_test_final2, \"after RI\", \"prediction_ssl\")\n",
    "    return pred_test_final2"
   ]
  },
  {
   "cell_type": "markdown",
   "metadata": {},
   "source": [
    "## Kickout Measure"
   ]
  },
  {
   "cell_type": "code",
   "execution_count": 131,
   "metadata": {},
   "outputs": [
    {
     "data": {
      "application/javascript": [
       "\n",
       "            setTimeout(function() {\n",
       "                var nbb_cell_id = 131;\n",
       "                var nbb_unformatted_code = \"def flag_df(df):\\n\\n    # Flag kicked out bad cases (want more of these)\\n    if (\\n        df[\\\"target\\\"] == 1\\n        and df[\\\"prediction_beforeRI_binary\\\"] == 0\\n        and df[\\\"prediction_ssl\\\"] == 1\\n    ):\\n        return \\\"KB\\\"\\n\\n    # Flag kicked out good cases (want less of these)\\n    elif (\\n        df[\\\"target\\\"] == 0\\n        and df[\\\"prediction_beforeRI_binary\\\"] == 0\\n        and df[\\\"prediction_ssl\\\"] == 1\\n    ):\\n        return \\\"KG\\\"\\n\\n    # Flag kicked in good cases (want more of these)\\n    elif (\\n        df[\\\"target\\\"] == 0\\n        and df[\\\"prediction_beforeRI_binary\\\"] == 1\\n        and df[\\\"prediction_ssl\\\"] == 0\\n    ):\\n        return \\\"IG\\\"\\n\\n    # Flag kicked in bad cases (want less of these)\\n    elif (\\n        df[\\\"target\\\"] == 1\\n        and df[\\\"prediction_beforeRI_binary\\\"] == 1\\n        and df[\\\"prediction_ssl\\\"] == 0\\n    ):\\n        return \\\"IB\\\"\";\n",
       "                var nbb_formatted_code = \"def flag_df(df):\\n\\n    # Flag kicked out bad cases (want more of these)\\n    if (\\n        df[\\\"target\\\"] == 1\\n        and df[\\\"prediction_beforeRI_binary\\\"] == 0\\n        and df[\\\"prediction_ssl\\\"] == 1\\n    ):\\n        return \\\"KB\\\"\\n\\n    # Flag kicked out good cases (want less of these)\\n    elif (\\n        df[\\\"target\\\"] == 0\\n        and df[\\\"prediction_beforeRI_binary\\\"] == 0\\n        and df[\\\"prediction_ssl\\\"] == 1\\n    ):\\n        return \\\"KG\\\"\\n\\n    # Flag kicked in good cases (want more of these)\\n    elif (\\n        df[\\\"target\\\"] == 0\\n        and df[\\\"prediction_beforeRI_binary\\\"] == 1\\n        and df[\\\"prediction_ssl\\\"] == 0\\n    ):\\n        return \\\"IG\\\"\\n\\n    # Flag kicked in bad cases (want less of these)\\n    elif (\\n        df[\\\"target\\\"] == 1\\n        and df[\\\"prediction_beforeRI_binary\\\"] == 1\\n        and df[\\\"prediction_ssl\\\"] == 0\\n    ):\\n        return \\\"IB\\\"\";\n",
       "                var nbb_cells = Jupyter.notebook.get_cells();\n",
       "                for (var i = 0; i < nbb_cells.length; ++i) {\n",
       "                    if (nbb_cells[i].input_prompt_number == nbb_cell_id) {\n",
       "                        if (nbb_cells[i].get_text() == nbb_unformatted_code) {\n",
       "                             nbb_cells[i].set_text(nbb_formatted_code);\n",
       "                        }\n",
       "                        break;\n",
       "                    }\n",
       "                }\n",
       "            }, 500);\n",
       "            "
      ],
      "text/plain": [
       "<IPython.core.display.Javascript object>"
      ]
     },
     "metadata": {},
     "output_type": "display_data"
    },
    {
     "data": {
      "application/javascript": [
       "\n",
       "            setTimeout(function() {\n",
       "                var nbb_cell_id = 131;\n",
       "                var nbb_unformatted_code = \"def flag_df(df):\\n\\n    # Flag kicked out bad cases (want more of these)\\n    if (\\n        df[\\\"target\\\"] == 1\\n        and df[\\\"prediction_beforeRI_binary\\\"] == 0\\n        and df[\\\"prediction_ssl\\\"] == 1\\n    ):\\n        return \\\"KB\\\"\\n\\n    # Flag kicked out good cases (want less of these)\\n    elif (\\n        df[\\\"target\\\"] == 0\\n        and df[\\\"prediction_beforeRI_binary\\\"] == 0\\n        and df[\\\"prediction_ssl\\\"] == 1\\n    ):\\n        return \\\"KG\\\"\\n\\n    # Flag kicked in good cases (want more of these)\\n    elif (\\n        df[\\\"target\\\"] == 0\\n        and df[\\\"prediction_beforeRI_binary\\\"] == 1\\n        and df[\\\"prediction_ssl\\\"] == 0\\n    ):\\n        return \\\"IG\\\"\\n\\n    # Flag kicked in bad cases (want less of these)\\n    elif (\\n        df[\\\"target\\\"] == 1\\n        and df[\\\"prediction_beforeRI_binary\\\"] == 1\\n        and df[\\\"prediction_ssl\\\"] == 0\\n    ):\\n        return \\\"IB\\\"\";\n",
       "                var nbb_formatted_code = \"def flag_df(df):\\n\\n    # Flag kicked out bad cases (want more of these)\\n    if (\\n        df[\\\"target\\\"] == 1\\n        and df[\\\"prediction_beforeRI_binary\\\"] == 0\\n        and df[\\\"prediction_ssl\\\"] == 1\\n    ):\\n        return \\\"KB\\\"\\n\\n    # Flag kicked out good cases (want less of these)\\n    elif (\\n        df[\\\"target\\\"] == 0\\n        and df[\\\"prediction_beforeRI_binary\\\"] == 0\\n        and df[\\\"prediction_ssl\\\"] == 1\\n    ):\\n        return \\\"KG\\\"\\n\\n    # Flag kicked in good cases (want more of these)\\n    elif (\\n        df[\\\"target\\\"] == 0\\n        and df[\\\"prediction_beforeRI_binary\\\"] == 1\\n        and df[\\\"prediction_ssl\\\"] == 0\\n    ):\\n        return \\\"IG\\\"\\n\\n    # Flag kicked in bad cases (want less of these)\\n    elif (\\n        df[\\\"target\\\"] == 1\\n        and df[\\\"prediction_beforeRI_binary\\\"] == 1\\n        and df[\\\"prediction_ssl\\\"] == 0\\n    ):\\n        return \\\"IB\\\"\";\n",
       "                var nbb_cells = Jupyter.notebook.get_cells();\n",
       "                for (var i = 0; i < nbb_cells.length; ++i) {\n",
       "                    if (nbb_cells[i].input_prompt_number == nbb_cell_id) {\n",
       "                        if (nbb_cells[i].get_text() == nbb_unformatted_code) {\n",
       "                             nbb_cells[i].set_text(nbb_formatted_code);\n",
       "                        }\n",
       "                        break;\n",
       "                    }\n",
       "                }\n",
       "            }, 500);\n",
       "            "
      ],
      "text/plain": [
       "<IPython.core.display.Javascript object>"
      ]
     },
     "metadata": {},
     "output_type": "display_data"
    }
   ],
   "source": [
    "def flag_df(df):\n",
    "\n",
    "    # Flag kicked out bad cases (want more of these)\n",
    "    if (\n",
    "        df[\"target\"] == 1\n",
    "        and df[\"prediction_beforeRI_binary\"] == 0\n",
    "        and df[\"prediction_ssl\"] == 1\n",
    "    ):\n",
    "        return \"KB\"\n",
    "\n",
    "    # Flag kicked out good cases (want less of these)\n",
    "    elif (\n",
    "        df[\"target\"] == 0\n",
    "        and df[\"prediction_beforeRI_binary\"] == 0\n",
    "        and df[\"prediction_ssl\"] == 1\n",
    "    ):\n",
    "        return \"KG\"\n",
    "\n",
    "    # Flag kicked in good cases (want more of these)\n",
    "    elif (\n",
    "        df[\"target\"] == 0\n",
    "        and df[\"prediction_beforeRI_binary\"] == 1\n",
    "        and df[\"prediction_ssl\"] == 0\n",
    "    ):\n",
    "        return \"IG\"\n",
    "\n",
    "    # Flag kicked in bad cases (want less of these)\n",
    "    elif (\n",
    "        df[\"target\"] == 1\n",
    "        and df[\"prediction_beforeRI_binary\"] == 1\n",
    "        and df[\"prediction_ssl\"] == 0\n",
    "    ):\n",
    "        return \"IB\""
   ]
  },
  {
   "cell_type": "code",
   "execution_count": 132,
   "metadata": {},
   "outputs": [
    {
     "data": {
      "application/javascript": [
       "\n",
       "            setTimeout(function() {\n",
       "                var nbb_cell_id = 132;\n",
       "                var nbb_unformatted_code = \"def flag_df_ssl(df):\\n\\n    # Flag kicked out bad cases (want more of these)\\n    if df[\\\"target\\\"] == 1 and df[\\\"prediction_ssl\\\"] == 1:\\n        return \\\"CB\\\"\\n\\n    # Flag kicked out good cases (want less of these)\\n    elif df[\\\"target\\\"] == 1 and df[\\\"prediction_ssl\\\"] == 0:\\n        return \\\"IB\\\"\\n\\n    # Flag kicked in good cases (want more of these)\\n    elif df[\\\"target\\\"] == 0 and df[\\\"prediction_ssl\\\"] == 0:\\n        return \\\"CG\\\"\\n\\n    # Flag kicked in bad cases (want less of these)\\n    elif df[\\\"target\\\"] == 0 and df[\\\"prediction_ssl\\\"] == 1:\\n        return \\\"IG\\\"\";\n",
       "                var nbb_formatted_code = \"def flag_df_ssl(df):\\n\\n    # Flag kicked out bad cases (want more of these)\\n    if df[\\\"target\\\"] == 1 and df[\\\"prediction_ssl\\\"] == 1:\\n        return \\\"CB\\\"\\n\\n    # Flag kicked out good cases (want less of these)\\n    elif df[\\\"target\\\"] == 1 and df[\\\"prediction_ssl\\\"] == 0:\\n        return \\\"IB\\\"\\n\\n    # Flag kicked in good cases (want more of these)\\n    elif df[\\\"target\\\"] == 0 and df[\\\"prediction_ssl\\\"] == 0:\\n        return \\\"CG\\\"\\n\\n    # Flag kicked in bad cases (want less of these)\\n    elif df[\\\"target\\\"] == 0 and df[\\\"prediction_ssl\\\"] == 1:\\n        return \\\"IG\\\"\";\n",
       "                var nbb_cells = Jupyter.notebook.get_cells();\n",
       "                for (var i = 0; i < nbb_cells.length; ++i) {\n",
       "                    if (nbb_cells[i].input_prompt_number == nbb_cell_id) {\n",
       "                        if (nbb_cells[i].get_text() == nbb_unformatted_code) {\n",
       "                             nbb_cells[i].set_text(nbb_formatted_code);\n",
       "                        }\n",
       "                        break;\n",
       "                    }\n",
       "                }\n",
       "            }, 500);\n",
       "            "
      ],
      "text/plain": [
       "<IPython.core.display.Javascript object>"
      ]
     },
     "metadata": {},
     "output_type": "display_data"
    },
    {
     "data": {
      "application/javascript": [
       "\n",
       "            setTimeout(function() {\n",
       "                var nbb_cell_id = 132;\n",
       "                var nbb_unformatted_code = \"def flag_df_ssl(df):\\n\\n    # Flag kicked out bad cases (want more of these)\\n    if df[\\\"target\\\"] == 1 and df[\\\"prediction_ssl\\\"] == 1:\\n        return \\\"CB\\\"\\n\\n    # Flag kicked out good cases (want less of these)\\n    elif df[\\\"target\\\"] == 1 and df[\\\"prediction_ssl\\\"] == 0:\\n        return \\\"IB\\\"\\n\\n    # Flag kicked in good cases (want more of these)\\n    elif df[\\\"target\\\"] == 0 and df[\\\"prediction_ssl\\\"] == 0:\\n        return \\\"CG\\\"\\n\\n    # Flag kicked in bad cases (want less of these)\\n    elif df[\\\"target\\\"] == 0 and df[\\\"prediction_ssl\\\"] == 1:\\n        return \\\"IG\\\"\";\n",
       "                var nbb_formatted_code = \"def flag_df_ssl(df):\\n\\n    # Flag kicked out bad cases (want more of these)\\n    if df[\\\"target\\\"] == 1 and df[\\\"prediction_ssl\\\"] == 1:\\n        return \\\"CB\\\"\\n\\n    # Flag kicked out good cases (want less of these)\\n    elif df[\\\"target\\\"] == 1 and df[\\\"prediction_ssl\\\"] == 0:\\n        return \\\"IB\\\"\\n\\n    # Flag kicked in good cases (want more of these)\\n    elif df[\\\"target\\\"] == 0 and df[\\\"prediction_ssl\\\"] == 0:\\n        return \\\"CG\\\"\\n\\n    # Flag kicked in bad cases (want less of these)\\n    elif df[\\\"target\\\"] == 0 and df[\\\"prediction_ssl\\\"] == 1:\\n        return \\\"IG\\\"\";\n",
       "                var nbb_cells = Jupyter.notebook.get_cells();\n",
       "                for (var i = 0; i < nbb_cells.length; ++i) {\n",
       "                    if (nbb_cells[i].input_prompt_number == nbb_cell_id) {\n",
       "                        if (nbb_cells[i].get_text() == nbb_unformatted_code) {\n",
       "                             nbb_cells[i].set_text(nbb_formatted_code);\n",
       "                        }\n",
       "                        break;\n",
       "                    }\n",
       "                }\n",
       "            }, 500);\n",
       "            "
      ],
      "text/plain": [
       "<IPython.core.display.Javascript object>"
      ]
     },
     "metadata": {},
     "output_type": "display_data"
    }
   ],
   "source": [
    "def flag_df_ssl(df):\n",
    "\n",
    "    # Flag kicked out bad cases (want more of these)\n",
    "    if df[\"target\"] == 1 and df[\"prediction_ssl\"] == 1:\n",
    "        return \"CB\"\n",
    "\n",
    "    # Flag kicked out good cases (want less of these)\n",
    "    elif df[\"target\"] == 1 and df[\"prediction_ssl\"] == 0:\n",
    "        return \"IB\"\n",
    "\n",
    "    # Flag kicked in good cases (want more of these)\n",
    "    elif df[\"target\"] == 0 and df[\"prediction_ssl\"] == 0:\n",
    "        return \"CG\"\n",
    "\n",
    "    # Flag kicked in bad cases (want less of these)\n",
    "    elif df[\"target\"] == 0 and df[\"prediction_ssl\"] == 1:\n",
    "        return \"IG\""
   ]
  },
  {
   "cell_type": "code",
   "execution_count": 133,
   "metadata": {},
   "outputs": [
    {
     "data": {
      "application/javascript": [
       "\n",
       "            setTimeout(function() {\n",
       "                var nbb_cell_id = 133;\n",
       "                var nbb_unformatted_code = \"# def kickout_ssl(df):\\n\\n#     # Counts of kickout bad and kickout good\\n#     counts = df[\\\"Flag\\\"].value_counts()\\n#     if \\\"KB\\\" in df.values:\\n#         kb = counts.KB  # want more of these\\n#     else:\\n#         kb = 0\\n#     if \\\"KG\\\" in df.values:\\n#         kg = counts.KG  # want less of these\\n#     else:\\n#         kg = 0\\n\\n#     if \\\"IG\\\" in df.values:\\n#         ig = counts.IG  # want more of these\\n#     else:\\n#         ig = 0\\n\\n#     if \\\"IB\\\" in df.values:\\n#         ib = counts.IB  # want less of these\\n#     else:\\n#         ib = 0\\n\\n#     # Counts of number of actual bad cases\\n#     sb = df[df[\\\"target\\\"] == 1].shape[0]\\n#     sg = df[df[\\\"target\\\"] == 0].shape[0]\\n\\n#     # Target\\n#     counts_target = df[\\\"target\\\"].value_counts()\\n#     total_bads = counts_target[0]\\n#     total_goods = counts_target[1]\\n\\n#     total_bads = df[df[\\\"target\\\"] == 1].shape[0]\\n#     total_goods = df[df[\\\"target\\\"] == 0].shape[0]\\n#     pb = total_bads / (total_bads + total_goods)\\n#     pg = total_goods / (total_bads + total_goods)\\n\\n#     # Calculate kickout metric\\n#     kickout = (((kb / pb) - (kg / (1 - pb))) / sb) * (pb * 0.5)\\n#     kickin = (((ig / pg) - (ib / (1 - pg))) / sg) * (pg ** 0.5)\\n#     weighted_total = kickout + kickin\\n\\n#     return print(\\n#         \\\"Kickout + Kickin Metric:\\\",\\n#         round(weighted_total, 3),\\n#     )\";\n",
       "                var nbb_formatted_code = \"# def kickout_ssl(df):\\n\\n#     # Counts of kickout bad and kickout good\\n#     counts = df[\\\"Flag\\\"].value_counts()\\n#     if \\\"KB\\\" in df.values:\\n#         kb = counts.KB  # want more of these\\n#     else:\\n#         kb = 0\\n#     if \\\"KG\\\" in df.values:\\n#         kg = counts.KG  # want less of these\\n#     else:\\n#         kg = 0\\n\\n#     if \\\"IG\\\" in df.values:\\n#         ig = counts.IG  # want more of these\\n#     else:\\n#         ig = 0\\n\\n#     if \\\"IB\\\" in df.values:\\n#         ib = counts.IB  # want less of these\\n#     else:\\n#         ib = 0\\n\\n#     # Counts of number of actual bad cases\\n#     sb = df[df[\\\"target\\\"] == 1].shape[0]\\n#     sg = df[df[\\\"target\\\"] == 0].shape[0]\\n\\n#     # Target\\n#     counts_target = df[\\\"target\\\"].value_counts()\\n#     total_bads = counts_target[0]\\n#     total_goods = counts_target[1]\\n\\n#     total_bads = df[df[\\\"target\\\"] == 1].shape[0]\\n#     total_goods = df[df[\\\"target\\\"] == 0].shape[0]\\n#     pb = total_bads / (total_bads + total_goods)\\n#     pg = total_goods / (total_bads + total_goods)\\n\\n#     # Calculate kickout metric\\n#     kickout = (((kb / pb) - (kg / (1 - pb))) / sb) * (pb * 0.5)\\n#     kickin = (((ig / pg) - (ib / (1 - pg))) / sg) * (pg ** 0.5)\\n#     weighted_total = kickout + kickin\\n\\n#     return print(\\n#         \\\"Kickout + Kickin Metric:\\\",\\n#         round(weighted_total, 3),\\n#     )\";\n",
       "                var nbb_cells = Jupyter.notebook.get_cells();\n",
       "                for (var i = 0; i < nbb_cells.length; ++i) {\n",
       "                    if (nbb_cells[i].input_prompt_number == nbb_cell_id) {\n",
       "                        if (nbb_cells[i].get_text() == nbb_unformatted_code) {\n",
       "                             nbb_cells[i].set_text(nbb_formatted_code);\n",
       "                        }\n",
       "                        break;\n",
       "                    }\n",
       "                }\n",
       "            }, 500);\n",
       "            "
      ],
      "text/plain": [
       "<IPython.core.display.Javascript object>"
      ]
     },
     "metadata": {},
     "output_type": "display_data"
    },
    {
     "data": {
      "application/javascript": [
       "\n",
       "            setTimeout(function() {\n",
       "                var nbb_cell_id = 133;\n",
       "                var nbb_unformatted_code = \"# def kickout_ssl(df):\\n\\n#     # Counts of kickout bad and kickout good\\n#     counts = df[\\\"Flag\\\"].value_counts()\\n#     if \\\"KB\\\" in df.values:\\n#         kb = counts.KB  # want more of these\\n#     else:\\n#         kb = 0\\n#     if \\\"KG\\\" in df.values:\\n#         kg = counts.KG  # want less of these\\n#     else:\\n#         kg = 0\\n\\n#     if \\\"IG\\\" in df.values:\\n#         ig = counts.IG  # want more of these\\n#     else:\\n#         ig = 0\\n\\n#     if \\\"IB\\\" in df.values:\\n#         ib = counts.IB  # want less of these\\n#     else:\\n#         ib = 0\\n\\n#     # Counts of number of actual bad cases\\n#     sb = df[df[\\\"target\\\"] == 1].shape[0]\\n#     sg = df[df[\\\"target\\\"] == 0].shape[0]\\n\\n#     # Target\\n#     counts_target = df[\\\"target\\\"].value_counts()\\n#     total_bads = counts_target[0]\\n#     total_goods = counts_target[1]\\n\\n#     total_bads = df[df[\\\"target\\\"] == 1].shape[0]\\n#     total_goods = df[df[\\\"target\\\"] == 0].shape[0]\\n#     pb = total_bads / (total_bads + total_goods)\\n#     pg = total_goods / (total_bads + total_goods)\\n\\n#     # Calculate kickout metric\\n#     kickout = (((kb / pb) - (kg / (1 - pb))) / sb) * (pb * 0.5)\\n#     kickin = (((ig / pg) - (ib / (1 - pg))) / sg) * (pg ** 0.5)\\n#     weighted_total = kickout + kickin\\n\\n#     return print(\\n#         \\\"Kickout + Kickin Metric:\\\",\\n#         round(weighted_total, 3),\\n#     )\";\n",
       "                var nbb_formatted_code = \"# def kickout_ssl(df):\\n\\n#     # Counts of kickout bad and kickout good\\n#     counts = df[\\\"Flag\\\"].value_counts()\\n#     if \\\"KB\\\" in df.values:\\n#         kb = counts.KB  # want more of these\\n#     else:\\n#         kb = 0\\n#     if \\\"KG\\\" in df.values:\\n#         kg = counts.KG  # want less of these\\n#     else:\\n#         kg = 0\\n\\n#     if \\\"IG\\\" in df.values:\\n#         ig = counts.IG  # want more of these\\n#     else:\\n#         ig = 0\\n\\n#     if \\\"IB\\\" in df.values:\\n#         ib = counts.IB  # want less of these\\n#     else:\\n#         ib = 0\\n\\n#     # Counts of number of actual bad cases\\n#     sb = df[df[\\\"target\\\"] == 1].shape[0]\\n#     sg = df[df[\\\"target\\\"] == 0].shape[0]\\n\\n#     # Target\\n#     counts_target = df[\\\"target\\\"].value_counts()\\n#     total_bads = counts_target[0]\\n#     total_goods = counts_target[1]\\n\\n#     total_bads = df[df[\\\"target\\\"] == 1].shape[0]\\n#     total_goods = df[df[\\\"target\\\"] == 0].shape[0]\\n#     pb = total_bads / (total_bads + total_goods)\\n#     pg = total_goods / (total_bads + total_goods)\\n\\n#     # Calculate kickout metric\\n#     kickout = (((kb / pb) - (kg / (1 - pb))) / sb) * (pb * 0.5)\\n#     kickin = (((ig / pg) - (ib / (1 - pg))) / sg) * (pg ** 0.5)\\n#     weighted_total = kickout + kickin\\n\\n#     return print(\\n#         \\\"Kickout + Kickin Metric:\\\",\\n#         round(weighted_total, 3),\\n#     )\";\n",
       "                var nbb_cells = Jupyter.notebook.get_cells();\n",
       "                for (var i = 0; i < nbb_cells.length; ++i) {\n",
       "                    if (nbb_cells[i].input_prompt_number == nbb_cell_id) {\n",
       "                        if (nbb_cells[i].get_text() == nbb_unformatted_code) {\n",
       "                             nbb_cells[i].set_text(nbb_formatted_code);\n",
       "                        }\n",
       "                        break;\n",
       "                    }\n",
       "                }\n",
       "            }, 500);\n",
       "            "
      ],
      "text/plain": [
       "<IPython.core.display.Javascript object>"
      ]
     },
     "metadata": {},
     "output_type": "display_data"
    }
   ],
   "source": [
    "# def kickout_ssl(df):\n",
    "\n",
    "#     # Counts of kickout bad and kickout good\n",
    "#     counts = df[\"Flag\"].value_counts()\n",
    "#     if \"KB\" in df.values:\n",
    "#         kb = counts.KB  # want more of these\n",
    "#     else:\n",
    "#         kb = 0\n",
    "#     if \"KG\" in df.values:\n",
    "#         kg = counts.KG  # want less of these\n",
    "#     else:\n",
    "#         kg = 0\n",
    "\n",
    "#     if \"IG\" in df.values:\n",
    "#         ig = counts.IG  # want more of these\n",
    "#     else:\n",
    "#         ig = 0\n",
    "\n",
    "#     if \"IB\" in df.values:\n",
    "#         ib = counts.IB  # want less of these\n",
    "#     else:\n",
    "#         ib = 0\n",
    "\n",
    "#     # Counts of number of actual bad cases\n",
    "#     sb = df[df[\"target\"] == 1].shape[0]\n",
    "#     sg = df[df[\"target\"] == 0].shape[0]\n",
    "\n",
    "#     # Target\n",
    "#     counts_target = df[\"target\"].value_counts()\n",
    "#     total_bads = counts_target[0]\n",
    "#     total_goods = counts_target[1]\n",
    "\n",
    "#     total_bads = df[df[\"target\"] == 1].shape[0]\n",
    "#     total_goods = df[df[\"target\"] == 0].shape[0]\n",
    "#     pb = total_bads / (total_bads + total_goods)\n",
    "#     pg = total_goods / (total_bads + total_goods)\n",
    "\n",
    "#     # Calculate kickout metric\n",
    "#     kickout = (((kb / pb) - (kg / (1 - pb))) / sb) * (pb * 0.5)\n",
    "#     kickin = (((ig / pg) - (ib / (1 - pg))) / sg) * (pg ** 0.5)\n",
    "#     weighted_total = kickout + kickin\n",
    "\n",
    "#     return print(\n",
    "#         \"Kickout + Kickin Metric:\",\n",
    "#         round(weighted_total, 3),\n",
    "#     )"
   ]
  },
  {
   "cell_type": "code",
   "execution_count": 134,
   "metadata": {},
   "outputs": [
    {
     "data": {
      "application/javascript": [
       "\n",
       "            setTimeout(function() {\n",
       "                var nbb_cell_id = 134;\n",
       "                var nbb_unformatted_code = \"def kickout_ssl(df):\\n\\n    # Counts of kickout bad and kickout good\\n    counts = df[\\\"Flag\\\"].value_counts()\\n    if \\\"CB\\\" in df.values:\\n        cb = counts.CB  # want more of these\\n    else:\\n        cb = 0\\n    if \\\"IB\\\" in df.values:\\n        ib = counts.IB  # want less of these\\n    else:\\n        ib = 0\\n\\n    if \\\"CG\\\" in df.values:\\n        cg = counts.CG  # want more of these\\n    else:\\n        cg = 0\\n\\n    if \\\"IG\\\" in df.values:\\n        ig = counts.IG  # want less of these\\n    else:\\n        ig = 0\\n\\n    # Target\\n    total_bads = df[df[\\\"target\\\"] == 1].shape[0]\\n    total_goods = df[df[\\\"target\\\"] == 0].shape[0]\\n    pb = total_bads / (total_bads + total_goods)\\n    pg = total_goods / (total_bads + total_goods)\\n\\n    kickout = (((cb / pb) - (ib / pb)) / total_bads) * (pb ** 2)\\n    kickin = (((cg / pg) - (ig / pg)) / total_goods) * (pg ** 2)\\n    weighted_total = kickout + kickin\\n    return print(\\n        \\\"Kickout + Kickin Metric:\\\",\\n        round(weighted_total, 3),\\n    )\";\n",
       "                var nbb_formatted_code = \"def kickout_ssl(df):\\n\\n    # Counts of kickout bad and kickout good\\n    counts = df[\\\"Flag\\\"].value_counts()\\n    if \\\"CB\\\" in df.values:\\n        cb = counts.CB  # want more of these\\n    else:\\n        cb = 0\\n    if \\\"IB\\\" in df.values:\\n        ib = counts.IB  # want less of these\\n    else:\\n        ib = 0\\n\\n    if \\\"CG\\\" in df.values:\\n        cg = counts.CG  # want more of these\\n    else:\\n        cg = 0\\n\\n    if \\\"IG\\\" in df.values:\\n        ig = counts.IG  # want less of these\\n    else:\\n        ig = 0\\n\\n    # Target\\n    total_bads = df[df[\\\"target\\\"] == 1].shape[0]\\n    total_goods = df[df[\\\"target\\\"] == 0].shape[0]\\n    pb = total_bads / (total_bads + total_goods)\\n    pg = total_goods / (total_bads + total_goods)\\n\\n    kickout = (((cb / pb) - (ib / pb)) / total_bads) * (pb ** 2)\\n    kickin = (((cg / pg) - (ig / pg)) / total_goods) * (pg ** 2)\\n    weighted_total = kickout + kickin\\n    return print(\\n        \\\"Kickout + Kickin Metric:\\\",\\n        round(weighted_total, 3),\\n    )\";\n",
       "                var nbb_cells = Jupyter.notebook.get_cells();\n",
       "                for (var i = 0; i < nbb_cells.length; ++i) {\n",
       "                    if (nbb_cells[i].input_prompt_number == nbb_cell_id) {\n",
       "                        if (nbb_cells[i].get_text() == nbb_unformatted_code) {\n",
       "                             nbb_cells[i].set_text(nbb_formatted_code);\n",
       "                        }\n",
       "                        break;\n",
       "                    }\n",
       "                }\n",
       "            }, 500);\n",
       "            "
      ],
      "text/plain": [
       "<IPython.core.display.Javascript object>"
      ]
     },
     "metadata": {},
     "output_type": "display_data"
    },
    {
     "data": {
      "application/javascript": [
       "\n",
       "            setTimeout(function() {\n",
       "                var nbb_cell_id = 134;\n",
       "                var nbb_unformatted_code = \"def kickout_ssl(df):\\n\\n    # Counts of kickout bad and kickout good\\n    counts = df[\\\"Flag\\\"].value_counts()\\n    if \\\"CB\\\" in df.values:\\n        cb = counts.CB  # want more of these\\n    else:\\n        cb = 0\\n    if \\\"IB\\\" in df.values:\\n        ib = counts.IB  # want less of these\\n    else:\\n        ib = 0\\n\\n    if \\\"CG\\\" in df.values:\\n        cg = counts.CG  # want more of these\\n    else:\\n        cg = 0\\n\\n    if \\\"IG\\\" in df.values:\\n        ig = counts.IG  # want less of these\\n    else:\\n        ig = 0\\n\\n    # Target\\n    total_bads = df[df[\\\"target\\\"] == 1].shape[0]\\n    total_goods = df[df[\\\"target\\\"] == 0].shape[0]\\n    pb = total_bads / (total_bads + total_goods)\\n    pg = total_goods / (total_bads + total_goods)\\n\\n    kickout = (((cb / pb) - (ib / pb)) / total_bads) * (pb ** 2)\\n    kickin = (((cg / pg) - (ig / pg)) / total_goods) * (pg ** 2)\\n    weighted_total = kickout + kickin\\n    return print(\\n        \\\"Kickout + Kickin Metric:\\\",\\n        round(weighted_total, 3),\\n    )\";\n",
       "                var nbb_formatted_code = \"def kickout_ssl(df):\\n\\n    # Counts of kickout bad and kickout good\\n    counts = df[\\\"Flag\\\"].value_counts()\\n    if \\\"CB\\\" in df.values:\\n        cb = counts.CB  # want more of these\\n    else:\\n        cb = 0\\n    if \\\"IB\\\" in df.values:\\n        ib = counts.IB  # want less of these\\n    else:\\n        ib = 0\\n\\n    if \\\"CG\\\" in df.values:\\n        cg = counts.CG  # want more of these\\n    else:\\n        cg = 0\\n\\n    if \\\"IG\\\" in df.values:\\n        ig = counts.IG  # want less of these\\n    else:\\n        ig = 0\\n\\n    # Target\\n    total_bads = df[df[\\\"target\\\"] == 1].shape[0]\\n    total_goods = df[df[\\\"target\\\"] == 0].shape[0]\\n    pb = total_bads / (total_bads + total_goods)\\n    pg = total_goods / (total_bads + total_goods)\\n\\n    kickout = (((cb / pb) - (ib / pb)) / total_bads) * (pb ** 2)\\n    kickin = (((cg / pg) - (ig / pg)) / total_goods) * (pg ** 2)\\n    weighted_total = kickout + kickin\\n    return print(\\n        \\\"Kickout + Kickin Metric:\\\",\\n        round(weighted_total, 3),\\n    )\";\n",
       "                var nbb_cells = Jupyter.notebook.get_cells();\n",
       "                for (var i = 0; i < nbb_cells.length; ++i) {\n",
       "                    if (nbb_cells[i].input_prompt_number == nbb_cell_id) {\n",
       "                        if (nbb_cells[i].get_text() == nbb_unformatted_code) {\n",
       "                             nbb_cells[i].set_text(nbb_formatted_code);\n",
       "                        }\n",
       "                        break;\n",
       "                    }\n",
       "                }\n",
       "            }, 500);\n",
       "            "
      ],
      "text/plain": [
       "<IPython.core.display.Javascript object>"
      ]
     },
     "metadata": {},
     "output_type": "display_data"
    }
   ],
   "source": [
    "def kickout_ssl(df):\n",
    "\n",
    "    # Counts of kickout bad and kickout good\n",
    "    counts = df[\"Flag\"].value_counts()\n",
    "    if \"CB\" in df.values:\n",
    "        cb = counts.CB  # want more of these\n",
    "    else:\n",
    "        cb = 0\n",
    "    if \"IB\" in df.values:\n",
    "        ib = counts.IB  # want less of these\n",
    "    else:\n",
    "        ib = 0\n",
    "\n",
    "    if \"CG\" in df.values:\n",
    "        cg = counts.CG  # want more of these\n",
    "    else:\n",
    "        cg = 0\n",
    "\n",
    "    if \"IG\" in df.values:\n",
    "        ig = counts.IG  # want less of these\n",
    "    else:\n",
    "        ig = 0\n",
    "\n",
    "    # Target\n",
    "    total_bads = df[df[\"target\"] == 1].shape[0]\n",
    "    total_goods = df[df[\"target\"] == 0].shape[0]\n",
    "    pb = total_bads / (total_bads + total_goods)\n",
    "    pg = total_goods / (total_bads + total_goods)\n",
    "\n",
    "    kickout = (((cb / pb) - (ib / pb)) / total_bads) * (pb ** 2)\n",
    "    kickin = (((cg / pg) - (ig / pg)) / total_goods) * (pg ** 2)\n",
    "    weighted_total = kickout + kickin\n",
    "    return print(\n",
    "        \"Kickout + Kickin Metric:\",\n",
    "        round(weighted_total, 3),\n",
    "    )"
   ]
  },
  {
   "cell_type": "markdown",
   "metadata": {},
   "source": [
    "### SSL Prep"
   ]
  },
  {
   "cell_type": "code",
   "execution_count": 135,
   "metadata": {},
   "outputs": [
    {
     "data": {
      "application/javascript": [
       "\n",
       "            setTimeout(function() {\n",
       "                var nbb_cell_id = 135;\n",
       "                var nbb_unformatted_code = \"# Train\\ntrain_new_model = ssl_prep(\\n    X_train,\\n    y_train,\\n    r_dev_mod,\\n)\\n# Test\\ntest_new_model = ssl_prep(\\n    X_test_3,\\n    y_test,\\n    r_test_mod,\\n)\\nX_ssl, y_ssl = ssl_split(train_new_model, \\\"unlabel\\\")\";\n",
       "                var nbb_formatted_code = \"# Train\\ntrain_new_model = ssl_prep(\\n    X_train,\\n    y_train,\\n    r_dev_mod,\\n)\\n# Test\\ntest_new_model = ssl_prep(\\n    X_test_3,\\n    y_test,\\n    r_test_mod,\\n)\\nX_ssl, y_ssl = ssl_split(train_new_model, \\\"unlabel\\\")\";\n",
       "                var nbb_cells = Jupyter.notebook.get_cells();\n",
       "                for (var i = 0; i < nbb_cells.length; ++i) {\n",
       "                    if (nbb_cells[i].input_prompt_number == nbb_cell_id) {\n",
       "                        if (nbb_cells[i].get_text() == nbb_unformatted_code) {\n",
       "                             nbb_cells[i].set_text(nbb_formatted_code);\n",
       "                        }\n",
       "                        break;\n",
       "                    }\n",
       "                }\n",
       "            }, 500);\n",
       "            "
      ],
      "text/plain": [
       "<IPython.core.display.Javascript object>"
      ]
     },
     "metadata": {},
     "output_type": "display_data"
    },
    {
     "data": {
      "application/javascript": [
       "\n",
       "            setTimeout(function() {\n",
       "                var nbb_cell_id = 135;\n",
       "                var nbb_unformatted_code = \"# Train\\ntrain_new_model = ssl_prep(\\n    X_train,\\n    y_train,\\n    r_dev_mod,\\n)\\n# Test\\ntest_new_model = ssl_prep(\\n    X_test_3,\\n    y_test,\\n    r_test_mod,\\n)\\nX_ssl, y_ssl = ssl_split(train_new_model, \\\"unlabel\\\")\";\n",
       "                var nbb_formatted_code = \"# Train\\ntrain_new_model = ssl_prep(\\n    X_train,\\n    y_train,\\n    r_dev_mod,\\n)\\n# Test\\ntest_new_model = ssl_prep(\\n    X_test_3,\\n    y_test,\\n    r_test_mod,\\n)\\nX_ssl, y_ssl = ssl_split(train_new_model, \\\"unlabel\\\")\";\n",
       "                var nbb_cells = Jupyter.notebook.get_cells();\n",
       "                for (var i = 0; i < nbb_cells.length; ++i) {\n",
       "                    if (nbb_cells[i].input_prompt_number == nbb_cell_id) {\n",
       "                        if (nbb_cells[i].get_text() == nbb_unformatted_code) {\n",
       "                             nbb_cells[i].set_text(nbb_formatted_code);\n",
       "                        }\n",
       "                        break;\n",
       "                    }\n",
       "                }\n",
       "            }, 500);\n",
       "            "
      ],
      "text/plain": [
       "<IPython.core.display.Javascript object>"
      ]
     },
     "metadata": {},
     "output_type": "display_data"
    }
   ],
   "source": [
    "# Train\n",
    "train_new_model = ssl_prep(\n",
    "    X_train,\n",
    "    y_train,\n",
    "    r_dev_mod,\n",
    ")\n",
    "# Test\n",
    "test_new_model = ssl_prep(\n",
    "    X_test_3,\n",
    "    y_test,\n",
    "    r_test_mod,\n",
    ")\n",
    "X_ssl, y_ssl = ssl_split(train_new_model, \"unlabel\")"
   ]
  },
  {
   "cell_type": "markdown",
   "metadata": {},
   "source": [
    "### SSL Models & Predictions"
   ]
  },
  {
   "cell_type": "markdown",
   "metadata": {},
   "source": [
    "### Evaluation on Accepts"
   ]
  },
  {
   "cell_type": "code",
   "execution_count": 136,
   "metadata": {},
   "outputs": [
    {
     "data": {
      "application/javascript": [
       "\n",
       "            setTimeout(function() {\n",
       "                var nbb_cell_id = 136;\n",
       "                var nbb_unformatted_code = \"self_training = ssl_model_selftraining(X_ssl, y_ssl, SelfTrainingClassifier)\\nx = ssl_predictions_oth(self_training, X_test_3)\";\n",
       "                var nbb_formatted_code = \"self_training = ssl_model_selftraining(X_ssl, y_ssl, SelfTrainingClassifier)\\nx = ssl_predictions_oth(self_training, X_test_3)\";\n",
       "                var nbb_cells = Jupyter.notebook.get_cells();\n",
       "                for (var i = 0; i < nbb_cells.length; ++i) {\n",
       "                    if (nbb_cells[i].input_prompt_number == nbb_cell_id) {\n",
       "                        if (nbb_cells[i].get_text() == nbb_unformatted_code) {\n",
       "                             nbb_cells[i].set_text(nbb_formatted_code);\n",
       "                        }\n",
       "                        break;\n",
       "                    }\n",
       "                }\n",
       "            }, 500);\n",
       "            "
      ],
      "text/plain": [
       "<IPython.core.display.Javascript object>"
      ]
     },
     "metadata": {},
     "output_type": "display_data"
    },
    {
     "data": {
      "application/javascript": [
       "\n",
       "            setTimeout(function() {\n",
       "                var nbb_cell_id = 136;\n",
       "                var nbb_unformatted_code = \"self_training = ssl_model_selftraining(X_ssl, y_ssl, SelfTrainingClassifier)\\nx = ssl_predictions_oth(self_training, X_test_3)\";\n",
       "                var nbb_formatted_code = \"self_training = ssl_model_selftraining(X_ssl, y_ssl, SelfTrainingClassifier)\\nx = ssl_predictions_oth(self_training, X_test_3)\";\n",
       "                var nbb_cells = Jupyter.notebook.get_cells();\n",
       "                for (var i = 0; i < nbb_cells.length; ++i) {\n",
       "                    if (nbb_cells[i].input_prompt_number == nbb_cell_id) {\n",
       "                        if (nbb_cells[i].get_text() == nbb_unformatted_code) {\n",
       "                             nbb_cells[i].set_text(nbb_formatted_code);\n",
       "                        }\n",
       "                        break;\n",
       "                    }\n",
       "                }\n",
       "            }, 500);\n",
       "            "
      ],
      "text/plain": [
       "<IPython.core.display.Javascript object>"
      ]
     },
     "metadata": {},
     "output_type": "display_data"
    }
   ],
   "source": [
    "self_training = ssl_model_selftraining(X_ssl, y_ssl, SelfTrainingClassifier)\n",
    "x = ssl_predictions_oth(self_training, X_test_3)"
   ]
  },
  {
   "cell_type": "code",
   "execution_count": 137,
   "metadata": {},
   "outputs": [
    {
     "name": "stdout",
     "output_type": "stream",
     "text": [
      "Kickout + Kickin Metric: 0.829\n"
     ]
    },
    {
     "data": {
      "application/javascript": [
       "\n",
       "            setTimeout(function() {\n",
       "                var nbb_cell_id = 137;\n",
       "                var nbb_unformatted_code = \"# x[\\\"Flag\\\"] = x.apply(flag_df, axis=1)\\n# kickout(x)\\nx[\\\"Flag\\\"] = x.apply(flag_df_ssl, axis=1)\\nkickout_ssl(x)\";\n",
       "                var nbb_formatted_code = \"# x[\\\"Flag\\\"] = x.apply(flag_df, axis=1)\\n# kickout(x)\\nx[\\\"Flag\\\"] = x.apply(flag_df_ssl, axis=1)\\nkickout_ssl(x)\";\n",
       "                var nbb_cells = Jupyter.notebook.get_cells();\n",
       "                for (var i = 0; i < nbb_cells.length; ++i) {\n",
       "                    if (nbb_cells[i].input_prompt_number == nbb_cell_id) {\n",
       "                        if (nbb_cells[i].get_text() == nbb_unformatted_code) {\n",
       "                             nbb_cells[i].set_text(nbb_formatted_code);\n",
       "                        }\n",
       "                        break;\n",
       "                    }\n",
       "                }\n",
       "            }, 500);\n",
       "            "
      ],
      "text/plain": [
       "<IPython.core.display.Javascript object>"
      ]
     },
     "metadata": {},
     "output_type": "display_data"
    },
    {
     "data": {
      "application/javascript": [
       "\n",
       "            setTimeout(function() {\n",
       "                var nbb_cell_id = 137;\n",
       "                var nbb_unformatted_code = \"# x[\\\"Flag\\\"] = x.apply(flag_df, axis=1)\\n# kickout(x)\\nx[\\\"Flag\\\"] = x.apply(flag_df_ssl, axis=1)\\nkickout_ssl(x)\";\n",
       "                var nbb_formatted_code = \"# x[\\\"Flag\\\"] = x.apply(flag_df, axis=1)\\n# kickout(x)\\nx[\\\"Flag\\\"] = x.apply(flag_df_ssl, axis=1)\\nkickout_ssl(x)\";\n",
       "                var nbb_cells = Jupyter.notebook.get_cells();\n",
       "                for (var i = 0; i < nbb_cells.length; ++i) {\n",
       "                    if (nbb_cells[i].input_prompt_number == nbb_cell_id) {\n",
       "                        if (nbb_cells[i].get_text() == nbb_unformatted_code) {\n",
       "                             nbb_cells[i].set_text(nbb_formatted_code);\n",
       "                        }\n",
       "                        break;\n",
       "                    }\n",
       "                }\n",
       "            }, 500);\n",
       "            "
      ],
      "text/plain": [
       "<IPython.core.display.Javascript object>"
      ]
     },
     "metadata": {},
     "output_type": "display_data"
    }
   ],
   "source": [
    "# x[\"Flag\"] = x.apply(flag_df, axis=1)\n",
    "# kickout(x)\n",
    "x[\"Flag\"] = x.apply(flag_df_ssl, axis=1)\n",
    "kickout_ssl(x)"
   ]
  },
  {
   "cell_type": "code",
   "execution_count": null,
   "metadata": {},
   "outputs": [],
   "source": [
    "label_spreading = ssl_model_label(X_ssl, y_ssl, LabelSpreading)\n",
    "x_ls = ssl_predictions_oth(label_spreading, X_test_3)"
   ]
  },
  {
   "cell_type": "code",
   "execution_count": null,
   "metadata": {
    "scrolled": true
   },
   "outputs": [],
   "source": [
    "# x_ls[\"Flag\"] = x_ls.apply(flag_df, axis=1)\n",
    "# kickout(x_ls)\n",
    "x_ls[\"Flag\"] = x_ls.apply(flag_df_ssl, axis=1)\n",
    "kickout_ssl(x_ls)"
   ]
  },
  {
   "cell_type": "code",
   "execution_count": null,
   "metadata": {},
   "outputs": [],
   "source": [
    "label_propagation = ssl_model_label(X_ssl, y_ssl, LabelPropagation)\n",
    "x_lp = ssl_predictions_oth(label_propagation, X_test_3)"
   ]
  },
  {
   "cell_type": "code",
   "execution_count": null,
   "metadata": {},
   "outputs": [],
   "source": [
    "# x_lp[\"Flag\"] = x_lp.apply(flag_df_new, axis=1)\n",
    "# kickout_new(x_lp_new)\n",
    "x_lp[\"Flag\"] = x_lp.apply(flag_df_ssl, axis=1)\n",
    "kickout_ssl(x_lp)"
   ]
  },
  {
   "cell_type": "markdown",
   "metadata": {},
   "source": [
    "### Evaluation on Rejects"
   ]
  },
  {
   "cell_type": "code",
   "execution_count": 138,
   "metadata": {},
   "outputs": [
    {
     "name": "stdout",
     "output_type": "stream",
     "text": [
      "Kickout + Kickin Metric: 0.735\n"
     ]
    },
    {
     "data": {
      "application/javascript": [
       "\n",
       "            setTimeout(function() {\n",
       "                var nbb_cell_id = 138;\n",
       "                var nbb_unformatted_code = \"x_rej_st = ssl_predictions_oth_rej(self_training, dfr_test_with_label_X)\\n# x_rej_st[\\\"Flag\\\"] = x_rej_st.apply(flag_df, axis=1)\\n# kickout(x_rej_st)\\nx_rej_st[\\\"Flag\\\"] = x_rej_st.apply(flag_df_ssl, axis=1)\\nkickout_ssl(x_rej_st)\";\n",
       "                var nbb_formatted_code = \"x_rej_st = ssl_predictions_oth_rej(self_training, dfr_test_with_label_X)\\n# x_rej_st[\\\"Flag\\\"] = x_rej_st.apply(flag_df, axis=1)\\n# kickout(x_rej_st)\\nx_rej_st[\\\"Flag\\\"] = x_rej_st.apply(flag_df_ssl, axis=1)\\nkickout_ssl(x_rej_st)\";\n",
       "                var nbb_cells = Jupyter.notebook.get_cells();\n",
       "                for (var i = 0; i < nbb_cells.length; ++i) {\n",
       "                    if (nbb_cells[i].input_prompt_number == nbb_cell_id) {\n",
       "                        if (nbb_cells[i].get_text() == nbb_unformatted_code) {\n",
       "                             nbb_cells[i].set_text(nbb_formatted_code);\n",
       "                        }\n",
       "                        break;\n",
       "                    }\n",
       "                }\n",
       "            }, 500);\n",
       "            "
      ],
      "text/plain": [
       "<IPython.core.display.Javascript object>"
      ]
     },
     "metadata": {},
     "output_type": "display_data"
    },
    {
     "data": {
      "application/javascript": [
       "\n",
       "            setTimeout(function() {\n",
       "                var nbb_cell_id = 138;\n",
       "                var nbb_unformatted_code = \"x_rej_st = ssl_predictions_oth_rej(self_training, dfr_test_with_label_X)\\n# x_rej_st[\\\"Flag\\\"] = x_rej_st.apply(flag_df, axis=1)\\n# kickout(x_rej_st)\\nx_rej_st[\\\"Flag\\\"] = x_rej_st.apply(flag_df_ssl, axis=1)\\nkickout_ssl(x_rej_st)\";\n",
       "                var nbb_formatted_code = \"x_rej_st = ssl_predictions_oth_rej(self_training, dfr_test_with_label_X)\\n# x_rej_st[\\\"Flag\\\"] = x_rej_st.apply(flag_df, axis=1)\\n# kickout(x_rej_st)\\nx_rej_st[\\\"Flag\\\"] = x_rej_st.apply(flag_df_ssl, axis=1)\\nkickout_ssl(x_rej_st)\";\n",
       "                var nbb_cells = Jupyter.notebook.get_cells();\n",
       "                for (var i = 0; i < nbb_cells.length; ++i) {\n",
       "                    if (nbb_cells[i].input_prompt_number == nbb_cell_id) {\n",
       "                        if (nbb_cells[i].get_text() == nbb_unformatted_code) {\n",
       "                             nbb_cells[i].set_text(nbb_formatted_code);\n",
       "                        }\n",
       "                        break;\n",
       "                    }\n",
       "                }\n",
       "            }, 500);\n",
       "            "
      ],
      "text/plain": [
       "<IPython.core.display.Javascript object>"
      ]
     },
     "metadata": {},
     "output_type": "display_data"
    }
   ],
   "source": [
    "x_rej_st = ssl_predictions_oth_rej(self_training, dfr_test_with_label_X)\n",
    "# x_rej_st[\"Flag\"] = x_rej_st.apply(flag_df, axis=1)\n",
    "# kickout(x_rej_st)\n",
    "x_rej_st[\"Flag\"] = x_rej_st.apply(flag_df_ssl, axis=1)\n",
    "kickout_ssl(x_rej_st)"
   ]
  },
  {
   "cell_type": "code",
   "execution_count": 139,
   "metadata": {},
   "outputs": [
    {
     "ename": "NameError",
     "evalue": "name 'label_spreading' is not defined",
     "output_type": "error",
     "traceback": [
      "\u001b[1;31m---------------------------------------------------------------------------\u001b[0m",
      "\u001b[1;31mNameError\u001b[0m                                 Traceback (most recent call last)",
      "\u001b[1;32m<ipython-input-139-9de830ec082f>\u001b[0m in \u001b[0;36m<module>\u001b[1;34m\u001b[0m\n\u001b[1;32m----> 1\u001b[1;33m \u001b[0mx_rej_ls\u001b[0m \u001b[1;33m=\u001b[0m \u001b[0mssl_predictions_oth_rej\u001b[0m\u001b[1;33m(\u001b[0m\u001b[0mlabel_spreading\u001b[0m\u001b[1;33m,\u001b[0m \u001b[0mdfr_test_with_label_X\u001b[0m\u001b[1;33m)\u001b[0m\u001b[1;33m\u001b[0m\u001b[1;33m\u001b[0m\u001b[0m\n\u001b[0m\u001b[0;32m      2\u001b[0m \u001b[1;31m# x_rej_ls[\"Flag\"] = x_rej_ls.apply(flag_df, axis=1)\u001b[0m\u001b[1;33m\u001b[0m\u001b[1;33m\u001b[0m\u001b[1;33m\u001b[0m\u001b[0m\n\u001b[0;32m      3\u001b[0m \u001b[1;31m# kickout(x_rej_ls)\u001b[0m\u001b[1;33m\u001b[0m\u001b[1;33m\u001b[0m\u001b[1;33m\u001b[0m\u001b[0m\n\u001b[0;32m      4\u001b[0m \u001b[0mx_rej_ls\u001b[0m\u001b[1;33m[\u001b[0m\u001b[1;34m\"Flag\"\u001b[0m\u001b[1;33m]\u001b[0m \u001b[1;33m=\u001b[0m \u001b[0mx_rej_ls\u001b[0m\u001b[1;33m.\u001b[0m\u001b[0mapply\u001b[0m\u001b[1;33m(\u001b[0m\u001b[0mflag_df_ssl\u001b[0m\u001b[1;33m,\u001b[0m \u001b[0maxis\u001b[0m\u001b[1;33m=\u001b[0m\u001b[1;36m1\u001b[0m\u001b[1;33m)\u001b[0m\u001b[1;33m\u001b[0m\u001b[1;33m\u001b[0m\u001b[0m\n\u001b[0;32m      5\u001b[0m \u001b[0mkickout_ssl\u001b[0m\u001b[1;33m(\u001b[0m\u001b[0mx_rej_ls\u001b[0m\u001b[1;33m)\u001b[0m\u001b[1;33m\u001b[0m\u001b[1;33m\u001b[0m\u001b[0m\n",
      "\u001b[1;31mNameError\u001b[0m: name 'label_spreading' is not defined"
     ]
    },
    {
     "data": {
      "application/javascript": [
       "\n",
       "            setTimeout(function() {\n",
       "                var nbb_cell_id = 139;\n",
       "                var nbb_unformatted_code = \"x_rej_ls = ssl_predictions_oth_rej(label_spreading, dfr_test_with_label_X)\\n# x_rej_ls[\\\"Flag\\\"] = x_rej_ls.apply(flag_df, axis=1)\\n# kickout(x_rej_ls)\\nx_rej_ls[\\\"Flag\\\"] = x_rej_ls.apply(flag_df_ssl, axis=1)\\nkickout_ssl(x_rej_ls)\";\n",
       "                var nbb_formatted_code = \"x_rej_ls = ssl_predictions_oth_rej(label_spreading, dfr_test_with_label_X)\\n# x_rej_ls[\\\"Flag\\\"] = x_rej_ls.apply(flag_df, axis=1)\\n# kickout(x_rej_ls)\\nx_rej_ls[\\\"Flag\\\"] = x_rej_ls.apply(flag_df_ssl, axis=1)\\nkickout_ssl(x_rej_ls)\";\n",
       "                var nbb_cells = Jupyter.notebook.get_cells();\n",
       "                for (var i = 0; i < nbb_cells.length; ++i) {\n",
       "                    if (nbb_cells[i].input_prompt_number == nbb_cell_id) {\n",
       "                        if (nbb_cells[i].get_text() == nbb_unformatted_code) {\n",
       "                             nbb_cells[i].set_text(nbb_formatted_code);\n",
       "                        }\n",
       "                        break;\n",
       "                    }\n",
       "                }\n",
       "            }, 500);\n",
       "            "
      ],
      "text/plain": [
       "<IPython.core.display.Javascript object>"
      ]
     },
     "metadata": {},
     "output_type": "display_data"
    },
    {
     "data": {
      "application/javascript": [
       "\n",
       "            setTimeout(function() {\n",
       "                var nbb_cell_id = 139;\n",
       "                var nbb_unformatted_code = \"x_rej_ls = ssl_predictions_oth_rej(label_spreading, dfr_test_with_label_X)\\n# x_rej_ls[\\\"Flag\\\"] = x_rej_ls.apply(flag_df, axis=1)\\n# kickout(x_rej_ls)\\nx_rej_ls[\\\"Flag\\\"] = x_rej_ls.apply(flag_df_ssl, axis=1)\\nkickout_ssl(x_rej_ls)\";\n",
       "                var nbb_formatted_code = \"x_rej_ls = ssl_predictions_oth_rej(label_spreading, dfr_test_with_label_X)\\n# x_rej_ls[\\\"Flag\\\"] = x_rej_ls.apply(flag_df, axis=1)\\n# kickout(x_rej_ls)\\nx_rej_ls[\\\"Flag\\\"] = x_rej_ls.apply(flag_df_ssl, axis=1)\\nkickout_ssl(x_rej_ls)\";\n",
       "                var nbb_cells = Jupyter.notebook.get_cells();\n",
       "                for (var i = 0; i < nbb_cells.length; ++i) {\n",
       "                    if (nbb_cells[i].input_prompt_number == nbb_cell_id) {\n",
       "                        if (nbb_cells[i].get_text() == nbb_unformatted_code) {\n",
       "                             nbb_cells[i].set_text(nbb_formatted_code);\n",
       "                        }\n",
       "                        break;\n",
       "                    }\n",
       "                }\n",
       "            }, 500);\n",
       "            "
      ],
      "text/plain": [
       "<IPython.core.display.Javascript object>"
      ]
     },
     "metadata": {},
     "output_type": "display_data"
    }
   ],
   "source": [
    "x_rej_ls = ssl_predictions_oth_rej(label_spreading, dfr_test_with_label_X)\n",
    "# x_rej_ls[\"Flag\"] = x_rej_ls.apply(flag_df, axis=1)\n",
    "# kickout(x_rej_ls)\n",
    "x_rej_ls[\"Flag\"] = x_rej_ls.apply(flag_df_ssl, axis=1)\n",
    "kickout_ssl(x_rej_ls)"
   ]
  },
  {
   "cell_type": "code",
   "execution_count": null,
   "metadata": {},
   "outputs": [],
   "source": [
    "x_rej_lp = ssl_predictions_oth_rej(label_propagation, dfr_test_with_label_X)\n",
    "# x_rej_lp[\"Flag\"] = x_rej_st.apply(flag_df, axis=1)\n",
    "# kickout(x_rej_lp)\n",
    "x_rej_lp[\"Flag\"] = x_rej_st.apply(flag_df_ssl, axis=1)\n",
    "kickout_ssl(x_rej_lp)"
   ]
  },
  {
   "cell_type": "markdown",
   "metadata": {},
   "source": [
    "## Active Learning"
   ]
  },
  {
   "cell_type": "code",
   "execution_count": 162,
   "metadata": {},
   "outputs": [
    {
     "data": {
      "application/javascript": [
       "\n",
       "            setTimeout(function() {\n",
       "                var nbb_cell_id = 162;\n",
       "                var nbb_unformatted_code = \"def regression_std(regressor, X):\\n    _, std = regressor.predict(X, return_std=True)\\n    return np.argmax(std)\";\n",
       "                var nbb_formatted_code = \"def regression_std(regressor, X):\\n    _, std = regressor.predict(X, return_std=True)\\n    return np.argmax(std)\";\n",
       "                var nbb_cells = Jupyter.notebook.get_cells();\n",
       "                for (var i = 0; i < nbb_cells.length; ++i) {\n",
       "                    if (nbb_cells[i].input_prompt_number == nbb_cell_id) {\n",
       "                        if (nbb_cells[i].get_text() == nbb_unformatted_code) {\n",
       "                             nbb_cells[i].set_text(nbb_formatted_code);\n",
       "                        }\n",
       "                        break;\n",
       "                    }\n",
       "                }\n",
       "            }, 500);\n",
       "            "
      ],
      "text/plain": [
       "<IPython.core.display.Javascript object>"
      ]
     },
     "metadata": {},
     "output_type": "display_data"
    },
    {
     "data": {
      "application/javascript": [
       "\n",
       "            setTimeout(function() {\n",
       "                var nbb_cell_id = 162;\n",
       "                var nbb_unformatted_code = \"def regression_std(regressor, X):\\n    _, std = regressor.predict(X, return_std=True)\\n    return np.argmax(std)\";\n",
       "                var nbb_formatted_code = \"def regression_std(regressor, X):\\n    _, std = regressor.predict(X, return_std=True)\\n    return np.argmax(std)\";\n",
       "                var nbb_cells = Jupyter.notebook.get_cells();\n",
       "                for (var i = 0; i < nbb_cells.length; ++i) {\n",
       "                    if (nbb_cells[i].input_prompt_number == nbb_cell_id) {\n",
       "                        if (nbb_cells[i].get_text() == nbb_unformatted_code) {\n",
       "                             nbb_cells[i].set_text(nbb_formatted_code);\n",
       "                        }\n",
       "                        break;\n",
       "                    }\n",
       "                }\n",
       "            }, 500);\n",
       "            "
      ],
      "text/plain": [
       "<IPython.core.display.Javascript object>"
      ]
     },
     "metadata": {},
     "output_type": "display_data"
    }
   ],
   "source": [
    "def regression_std(regressor, X):\n",
    "    _, std = regressor.predict(X, return_std=True)\n",
    "    return np.argmax(std)"
   ]
  },
  {
   "cell_type": "code",
   "execution_count": 163,
   "metadata": {},
   "outputs": [
    {
     "data": {
      "application/javascript": [
       "\n",
       "            setTimeout(function() {\n",
       "                var nbb_cell_id = 163;\n",
       "                var nbb_unformatted_code = \"def active_learning(X_train, y_train, r_dev_mod):\\n    n_initial = len(X_train)\\n    initial_idx = np.random.choice(range(len(X_train)), size=n_initial, replace=False)\\n    X_training, y_training = X_train.iloc[initial_idx], y_train.iloc[initial_idx]\\n\\n    learner = ActiveLearner(\\n        estimator=LGBMClassifier(),\\n        query_strategy=uncertainty_sampling,\\n        X_training=X_training,\\n        y_training=y_training,\\n    )\\n    query_idx, query_inst = learner.query(r_dev_mod)\\n    # active learning\\n    n_queries = int(0.4 * len(r_dev_mod))\\n    for idx in range(n_queries):\\n        query_idx, query_instance = learner.query(X_train)\\n        learner.teach(X_train.iloc[query_idx], y_train.iloc[query_idx])\\n    return learner\";\n",
       "                var nbb_formatted_code = \"def active_learning(X_train, y_train, r_dev_mod):\\n    n_initial = len(X_train)\\n    initial_idx = np.random.choice(range(len(X_train)), size=n_initial, replace=False)\\n    X_training, y_training = X_train.iloc[initial_idx], y_train.iloc[initial_idx]\\n\\n    learner = ActiveLearner(\\n        estimator=LGBMClassifier(),\\n        query_strategy=uncertainty_sampling,\\n        X_training=X_training,\\n        y_training=y_training,\\n    )\\n    query_idx, query_inst = learner.query(r_dev_mod)\\n    # active learning\\n    n_queries = int(0.4 * len(r_dev_mod))\\n    for idx in range(n_queries):\\n        query_idx, query_instance = learner.query(X_train)\\n        learner.teach(X_train.iloc[query_idx], y_train.iloc[query_idx])\\n    return learner\";\n",
       "                var nbb_cells = Jupyter.notebook.get_cells();\n",
       "                for (var i = 0; i < nbb_cells.length; ++i) {\n",
       "                    if (nbb_cells[i].input_prompt_number == nbb_cell_id) {\n",
       "                        if (nbb_cells[i].get_text() == nbb_unformatted_code) {\n",
       "                             nbb_cells[i].set_text(nbb_formatted_code);\n",
       "                        }\n",
       "                        break;\n",
       "                    }\n",
       "                }\n",
       "            }, 500);\n",
       "            "
      ],
      "text/plain": [
       "<IPython.core.display.Javascript object>"
      ]
     },
     "metadata": {},
     "output_type": "display_data"
    },
    {
     "data": {
      "application/javascript": [
       "\n",
       "            setTimeout(function() {\n",
       "                var nbb_cell_id = 163;\n",
       "                var nbb_unformatted_code = \"def active_learning(X_train, y_train, r_dev_mod):\\n    n_initial = len(X_train)\\n    initial_idx = np.random.choice(range(len(X_train)), size=n_initial, replace=False)\\n    X_training, y_training = X_train.iloc[initial_idx], y_train.iloc[initial_idx]\\n\\n    learner = ActiveLearner(\\n        estimator=LGBMClassifier(),\\n        query_strategy=uncertainty_sampling,\\n        X_training=X_training,\\n        y_training=y_training,\\n    )\\n    query_idx, query_inst = learner.query(r_dev_mod)\\n    # active learning\\n    n_queries = int(0.4 * len(r_dev_mod))\\n    for idx in range(n_queries):\\n        query_idx, query_instance = learner.query(X_train)\\n        learner.teach(X_train.iloc[query_idx], y_train.iloc[query_idx])\\n    return learner\";\n",
       "                var nbb_formatted_code = \"def active_learning(X_train, y_train, r_dev_mod):\\n    n_initial = len(X_train)\\n    initial_idx = np.random.choice(range(len(X_train)), size=n_initial, replace=False)\\n    X_training, y_training = X_train.iloc[initial_idx], y_train.iloc[initial_idx]\\n\\n    learner = ActiveLearner(\\n        estimator=LGBMClassifier(),\\n        query_strategy=uncertainty_sampling,\\n        X_training=X_training,\\n        y_training=y_training,\\n    )\\n    query_idx, query_inst = learner.query(r_dev_mod)\\n    # active learning\\n    n_queries = int(0.4 * len(r_dev_mod))\\n    for idx in range(n_queries):\\n        query_idx, query_instance = learner.query(X_train)\\n        learner.teach(X_train.iloc[query_idx], y_train.iloc[query_idx])\\n    return learner\";\n",
       "                var nbb_cells = Jupyter.notebook.get_cells();\n",
       "                for (var i = 0; i < nbb_cells.length; ++i) {\n",
       "                    if (nbb_cells[i].input_prompt_number == nbb_cell_id) {\n",
       "                        if (nbb_cells[i].get_text() == nbb_unformatted_code) {\n",
       "                             nbb_cells[i].set_text(nbb_formatted_code);\n",
       "                        }\n",
       "                        break;\n",
       "                    }\n",
       "                }\n",
       "            }, 500);\n",
       "            "
      ],
      "text/plain": [
       "<IPython.core.display.Javascript object>"
      ]
     },
     "metadata": {},
     "output_type": "display_data"
    }
   ],
   "source": [
    "def active_learning(X_train, y_train, r_dev_mod):\n",
    "    n_initial = len(X_train)\n",
    "    initial_idx = np.random.choice(range(len(X_train)), size=n_initial, replace=False)\n",
    "    X_training, y_training = X_train.iloc[initial_idx], y_train.iloc[initial_idx]\n",
    "\n",
    "    learner = ActiveLearner(\n",
    "        estimator=LGBMClassifier(),\n",
    "        query_strategy=uncertainty_sampling,\n",
    "        X_training=X_training,\n",
    "        y_training=y_training,\n",
    "    )\n",
    "    query_idx, query_inst = learner.query(r_dev_mod)\n",
    "    # active learning\n",
    "    n_queries = int(0.4 * len(r_dev_mod))\n",
    "    for idx in range(n_queries):\n",
    "        query_idx, query_instance = learner.query(X_train)\n",
    "        learner.teach(X_train.iloc[query_idx], y_train.iloc[query_idx])\n",
    "    return learner"
   ]
  },
  {
   "cell_type": "code",
   "execution_count": 164,
   "metadata": {},
   "outputs": [
    {
     "data": {
      "application/javascript": [
       "\n",
       "            setTimeout(function() {\n",
       "                var nbb_cell_id = 164;\n",
       "                var nbb_unformatted_code = \"def ssl_predictions_oth2(ssl, X_test):\\n    \\\"\\\"\\\"\\n    Parameters\\n    ----------\\n\\n    ssl : trained semi-supervised learning model\\n    X_test : testing data of accepted and rejected population for predictions\\n\\n    Return\\n    ------\\n\\n    Predictions before RI (binary)\\n    Predictions after RI (binary)\\n\\n    \\\"\\\"\\\"\\n    # Make Predictions\\n\\n    y_pred = ssl.predict_proba(X_test)[:, 1]\\n\\n    # Convert y_pred array to pandas dataframe\\n    pred_test = pd.DataFrame(\\n        data=y_pred,\\n        columns=[\\\"prediction_afterRI\\\"],\\n        index=X_test.index.copy(),\\n    )\\n    a1 = pred_test1[[\\\"id\\\", \\\"target\\\", \\\"prediction_beforeRI\\\"]]  # hard-coded for now\\n    a2 = pred_test[[\\\"prediction_afterRI\\\"]]  # hard-coded for now\\n\\n    # Merge a1 and a2\\n    a1_a2_inner = pd.merge(\\n        a1,\\n        a2,\\n        how=\\\"inner\\\",\\n        left_index=True,\\n        right_index=True,\\n    )\\n\\n    # Make binary predictions based on cutoff 75percentile of the distribution\\n    q1 = a1_a2_inner[\\\"prediction_beforeRI\\\"].quantile(q=1 - conservative_dr)\\n    q2 = a1_a2_inner[\\\"prediction_afterRI\\\"].quantile(q=1 - conservative_dr)\\n\\n    a1_a2_inner[\\\"prediction_beforeRI_binary\\\"] = a1_a2_inner[\\n        \\\"prediction_beforeRI\\\"\\n    ].apply(lambda x: 0 if (x < q1) else 1)\\n    a1_a2_inner[\\\"prediction_afterRI_binary\\\"] = a1_a2_inner[\\\"prediction_afterRI\\\"].apply(\\n        lambda x: 0 if (x < q2) else 1\\n    )\\n\\n    # Log Loss\\n    #     log_loss_fun(\\\"Before\\\", a1_a2_inner, \\\"target\\\", \\\"prediction_beforeRI\\\")\\n    #     log_loss_fun(\\\"After\\\", a1_a2_inner, \\\"target\\\", \\\"prediction_afterRI\\\")\\n\\n    #     # Numbers of accurately classified and misclassified cases\\n    #     print_results(a1_a2_inner, \\\"before RI\\\", \\\"prediction_beforeRI_binary\\\")\\n    #     print_results(a1_a2_inner, \\\"after RI\\\", \\\"prediction_afterRI_binary\\\")\\n    return a1_a2_inner\";\n",
       "                var nbb_formatted_code = \"def ssl_predictions_oth2(ssl, X_test):\\n    \\\"\\\"\\\"\\n    Parameters\\n    ----------\\n\\n    ssl : trained semi-supervised learning model\\n    X_test : testing data of accepted and rejected population for predictions\\n\\n    Return\\n    ------\\n\\n    Predictions before RI (binary)\\n    Predictions after RI (binary)\\n\\n    \\\"\\\"\\\"\\n    # Make Predictions\\n\\n    y_pred = ssl.predict_proba(X_test)[:, 1]\\n\\n    # Convert y_pred array to pandas dataframe\\n    pred_test = pd.DataFrame(\\n        data=y_pred,\\n        columns=[\\\"prediction_afterRI\\\"],\\n        index=X_test.index.copy(),\\n    )\\n    a1 = pred_test1[[\\\"id\\\", \\\"target\\\", \\\"prediction_beforeRI\\\"]]  # hard-coded for now\\n    a2 = pred_test[[\\\"prediction_afterRI\\\"]]  # hard-coded for now\\n\\n    # Merge a1 and a2\\n    a1_a2_inner = pd.merge(\\n        a1,\\n        a2,\\n        how=\\\"inner\\\",\\n        left_index=True,\\n        right_index=True,\\n    )\\n\\n    # Make binary predictions based on cutoff 75percentile of the distribution\\n    q1 = a1_a2_inner[\\\"prediction_beforeRI\\\"].quantile(q=1 - conservative_dr)\\n    q2 = a1_a2_inner[\\\"prediction_afterRI\\\"].quantile(q=1 - conservative_dr)\\n\\n    a1_a2_inner[\\\"prediction_beforeRI_binary\\\"] = a1_a2_inner[\\n        \\\"prediction_beforeRI\\\"\\n    ].apply(lambda x: 0 if (x < q1) else 1)\\n    a1_a2_inner[\\\"prediction_afterRI_binary\\\"] = a1_a2_inner[\\\"prediction_afterRI\\\"].apply(\\n        lambda x: 0 if (x < q2) else 1\\n    )\\n\\n    # Log Loss\\n    #     log_loss_fun(\\\"Before\\\", a1_a2_inner, \\\"target\\\", \\\"prediction_beforeRI\\\")\\n    #     log_loss_fun(\\\"After\\\", a1_a2_inner, \\\"target\\\", \\\"prediction_afterRI\\\")\\n\\n    #     # Numbers of accurately classified and misclassified cases\\n    #     print_results(a1_a2_inner, \\\"before RI\\\", \\\"prediction_beforeRI_binary\\\")\\n    #     print_results(a1_a2_inner, \\\"after RI\\\", \\\"prediction_afterRI_binary\\\")\\n    return a1_a2_inner\";\n",
       "                var nbb_cells = Jupyter.notebook.get_cells();\n",
       "                for (var i = 0; i < nbb_cells.length; ++i) {\n",
       "                    if (nbb_cells[i].input_prompt_number == nbb_cell_id) {\n",
       "                        if (nbb_cells[i].get_text() == nbb_unformatted_code) {\n",
       "                             nbb_cells[i].set_text(nbb_formatted_code);\n",
       "                        }\n",
       "                        break;\n",
       "                    }\n",
       "                }\n",
       "            }, 500);\n",
       "            "
      ],
      "text/plain": [
       "<IPython.core.display.Javascript object>"
      ]
     },
     "metadata": {},
     "output_type": "display_data"
    },
    {
     "data": {
      "application/javascript": [
       "\n",
       "            setTimeout(function() {\n",
       "                var nbb_cell_id = 164;\n",
       "                var nbb_unformatted_code = \"def ssl_predictions_oth2(ssl, X_test):\\n    \\\"\\\"\\\"\\n    Parameters\\n    ----------\\n\\n    ssl : trained semi-supervised learning model\\n    X_test : testing data of accepted and rejected population for predictions\\n\\n    Return\\n    ------\\n\\n    Predictions before RI (binary)\\n    Predictions after RI (binary)\\n\\n    \\\"\\\"\\\"\\n    # Make Predictions\\n\\n    y_pred = ssl.predict_proba(X_test)[:, 1]\\n\\n    # Convert y_pred array to pandas dataframe\\n    pred_test = pd.DataFrame(\\n        data=y_pred,\\n        columns=[\\\"prediction_afterRI\\\"],\\n        index=X_test.index.copy(),\\n    )\\n    a1 = pred_test1[[\\\"id\\\", \\\"target\\\", \\\"prediction_beforeRI\\\"]]  # hard-coded for now\\n    a2 = pred_test[[\\\"prediction_afterRI\\\"]]  # hard-coded for now\\n\\n    # Merge a1 and a2\\n    a1_a2_inner = pd.merge(\\n        a1,\\n        a2,\\n        how=\\\"inner\\\",\\n        left_index=True,\\n        right_index=True,\\n    )\\n\\n    # Make binary predictions based on cutoff 75percentile of the distribution\\n    q1 = a1_a2_inner[\\\"prediction_beforeRI\\\"].quantile(q=1 - conservative_dr)\\n    q2 = a1_a2_inner[\\\"prediction_afterRI\\\"].quantile(q=1 - conservative_dr)\\n\\n    a1_a2_inner[\\\"prediction_beforeRI_binary\\\"] = a1_a2_inner[\\n        \\\"prediction_beforeRI\\\"\\n    ].apply(lambda x: 0 if (x < q1) else 1)\\n    a1_a2_inner[\\\"prediction_afterRI_binary\\\"] = a1_a2_inner[\\\"prediction_afterRI\\\"].apply(\\n        lambda x: 0 if (x < q2) else 1\\n    )\\n\\n    # Log Loss\\n    #     log_loss_fun(\\\"Before\\\", a1_a2_inner, \\\"target\\\", \\\"prediction_beforeRI\\\")\\n    #     log_loss_fun(\\\"After\\\", a1_a2_inner, \\\"target\\\", \\\"prediction_afterRI\\\")\\n\\n    #     # Numbers of accurately classified and misclassified cases\\n    #     print_results(a1_a2_inner, \\\"before RI\\\", \\\"prediction_beforeRI_binary\\\")\\n    #     print_results(a1_a2_inner, \\\"after RI\\\", \\\"prediction_afterRI_binary\\\")\\n    return a1_a2_inner\";\n",
       "                var nbb_formatted_code = \"def ssl_predictions_oth2(ssl, X_test):\\n    \\\"\\\"\\\"\\n    Parameters\\n    ----------\\n\\n    ssl : trained semi-supervised learning model\\n    X_test : testing data of accepted and rejected population for predictions\\n\\n    Return\\n    ------\\n\\n    Predictions before RI (binary)\\n    Predictions after RI (binary)\\n\\n    \\\"\\\"\\\"\\n    # Make Predictions\\n\\n    y_pred = ssl.predict_proba(X_test)[:, 1]\\n\\n    # Convert y_pred array to pandas dataframe\\n    pred_test = pd.DataFrame(\\n        data=y_pred,\\n        columns=[\\\"prediction_afterRI\\\"],\\n        index=X_test.index.copy(),\\n    )\\n    a1 = pred_test1[[\\\"id\\\", \\\"target\\\", \\\"prediction_beforeRI\\\"]]  # hard-coded for now\\n    a2 = pred_test[[\\\"prediction_afterRI\\\"]]  # hard-coded for now\\n\\n    # Merge a1 and a2\\n    a1_a2_inner = pd.merge(\\n        a1,\\n        a2,\\n        how=\\\"inner\\\",\\n        left_index=True,\\n        right_index=True,\\n    )\\n\\n    # Make binary predictions based on cutoff 75percentile of the distribution\\n    q1 = a1_a2_inner[\\\"prediction_beforeRI\\\"].quantile(q=1 - conservative_dr)\\n    q2 = a1_a2_inner[\\\"prediction_afterRI\\\"].quantile(q=1 - conservative_dr)\\n\\n    a1_a2_inner[\\\"prediction_beforeRI_binary\\\"] = a1_a2_inner[\\n        \\\"prediction_beforeRI\\\"\\n    ].apply(lambda x: 0 if (x < q1) else 1)\\n    a1_a2_inner[\\\"prediction_afterRI_binary\\\"] = a1_a2_inner[\\\"prediction_afterRI\\\"].apply(\\n        lambda x: 0 if (x < q2) else 1\\n    )\\n\\n    # Log Loss\\n    #     log_loss_fun(\\\"Before\\\", a1_a2_inner, \\\"target\\\", \\\"prediction_beforeRI\\\")\\n    #     log_loss_fun(\\\"After\\\", a1_a2_inner, \\\"target\\\", \\\"prediction_afterRI\\\")\\n\\n    #     # Numbers of accurately classified and misclassified cases\\n    #     print_results(a1_a2_inner, \\\"before RI\\\", \\\"prediction_beforeRI_binary\\\")\\n    #     print_results(a1_a2_inner, \\\"after RI\\\", \\\"prediction_afterRI_binary\\\")\\n    return a1_a2_inner\";\n",
       "                var nbb_cells = Jupyter.notebook.get_cells();\n",
       "                for (var i = 0; i < nbb_cells.length; ++i) {\n",
       "                    if (nbb_cells[i].input_prompt_number == nbb_cell_id) {\n",
       "                        if (nbb_cells[i].get_text() == nbb_unformatted_code) {\n",
       "                             nbb_cells[i].set_text(nbb_formatted_code);\n",
       "                        }\n",
       "                        break;\n",
       "                    }\n",
       "                }\n",
       "            }, 500);\n",
       "            "
      ],
      "text/plain": [
       "<IPython.core.display.Javascript object>"
      ]
     },
     "metadata": {},
     "output_type": "display_data"
    }
   ],
   "source": [
    "def ssl_predictions_oth2(ssl, X_test):\n",
    "    \"\"\"\n",
    "    Parameters\n",
    "    ----------\n",
    "\n",
    "    ssl : trained semi-supervised learning model\n",
    "    X_test : testing data of accepted and rejected population for predictions\n",
    "\n",
    "    Return\n",
    "    ------\n",
    "\n",
    "    Predictions before RI (binary)\n",
    "    Predictions after RI (binary)\n",
    "\n",
    "    \"\"\"\n",
    "    # Make Predictions\n",
    "\n",
    "    y_pred = ssl.predict_proba(X_test)[:, 1]\n",
    "\n",
    "    # Convert y_pred array to pandas dataframe\n",
    "    pred_test = pd.DataFrame(\n",
    "        data=y_pred,\n",
    "        columns=[\"prediction_afterRI\"],\n",
    "        index=X_test.index.copy(),\n",
    "    )\n",
    "    a1 = pred_test1[[\"id\", \"target\", \"prediction_beforeRI\"]]  # hard-coded for now\n",
    "    a2 = pred_test[[\"prediction_afterRI\"]]  # hard-coded for now\n",
    "\n",
    "    # Merge a1 and a2\n",
    "    a1_a2_inner = pd.merge(\n",
    "        a1,\n",
    "        a2,\n",
    "        how=\"inner\",\n",
    "        left_index=True,\n",
    "        right_index=True,\n",
    "    )\n",
    "\n",
    "    # Make binary predictions based on cutoff 75percentile of the distribution\n",
    "    q1 = a1_a2_inner[\"prediction_beforeRI\"].quantile(q=1 - conservative_dr)\n",
    "    q2 = a1_a2_inner[\"prediction_afterRI\"].quantile(q=1 - conservative_dr)\n",
    "\n",
    "    a1_a2_inner[\"prediction_beforeRI_binary\"] = a1_a2_inner[\n",
    "        \"prediction_beforeRI\"\n",
    "    ].apply(lambda x: 0 if (x < q1) else 1)\n",
    "    a1_a2_inner[\"prediction_afterRI_binary\"] = a1_a2_inner[\"prediction_afterRI\"].apply(\n",
    "        lambda x: 0 if (x < q2) else 1\n",
    "    )\n",
    "\n",
    "    # Log Loss\n",
    "    #     log_loss_fun(\"Before\", a1_a2_inner, \"target\", \"prediction_beforeRI\")\n",
    "    #     log_loss_fun(\"After\", a1_a2_inner, \"target\", \"prediction_afterRI\")\n",
    "\n",
    "    #     # Numbers of accurately classified and misclassified cases\n",
    "    #     print_results(a1_a2_inner, \"before RI\", \"prediction_beforeRI_binary\")\n",
    "    #     print_results(a1_a2_inner, \"after RI\", \"prediction_afterRI_binary\")\n",
    "    return a1_a2_inner"
   ]
  },
  {
   "cell_type": "code",
   "execution_count": 189,
   "metadata": {},
   "outputs": [
    {
     "data": {
      "application/javascript": [
       "\n",
       "            setTimeout(function() {\n",
       "                var nbb_cell_id = 189;\n",
       "                var nbb_unformatted_code = \"regressor_20 = active_learning(X_train, y_train, r_dev_mod)\\nx_al_20 = ssl_predictions_oth(regressor_20, X_test_3)\";\n",
       "                var nbb_formatted_code = \"regressor_20 = active_learning(X_train, y_train, r_dev_mod)\\nx_al_20 = ssl_predictions_oth(regressor_20, X_test_3)\";\n",
       "                var nbb_cells = Jupyter.notebook.get_cells();\n",
       "                for (var i = 0; i < nbb_cells.length; ++i) {\n",
       "                    if (nbb_cells[i].input_prompt_number == nbb_cell_id) {\n",
       "                        if (nbb_cells[i].get_text() == nbb_unformatted_code) {\n",
       "                             nbb_cells[i].set_text(nbb_formatted_code);\n",
       "                        }\n",
       "                        break;\n",
       "                    }\n",
       "                }\n",
       "            }, 500);\n",
       "            "
      ],
      "text/plain": [
       "<IPython.core.display.Javascript object>"
      ]
     },
     "metadata": {},
     "output_type": "display_data"
    },
    {
     "data": {
      "application/javascript": [
       "\n",
       "            setTimeout(function() {\n",
       "                var nbb_cell_id = 189;\n",
       "                var nbb_unformatted_code = \"regressor_20 = active_learning(X_train, y_train, r_dev_mod)\\nx_al_20 = ssl_predictions_oth(regressor_20, X_test_3)\";\n",
       "                var nbb_formatted_code = \"regressor_20 = active_learning(X_train, y_train, r_dev_mod)\\nx_al_20 = ssl_predictions_oth(regressor_20, X_test_3)\";\n",
       "                var nbb_cells = Jupyter.notebook.get_cells();\n",
       "                for (var i = 0; i < nbb_cells.length; ++i) {\n",
       "                    if (nbb_cells[i].input_prompt_number == nbb_cell_id) {\n",
       "                        if (nbb_cells[i].get_text() == nbb_unformatted_code) {\n",
       "                             nbb_cells[i].set_text(nbb_formatted_code);\n",
       "                        }\n",
       "                        break;\n",
       "                    }\n",
       "                }\n",
       "            }, 500);\n",
       "            "
      ],
      "text/plain": [
       "<IPython.core.display.Javascript object>"
      ]
     },
     "metadata": {},
     "output_type": "display_data"
    }
   ],
   "source": [
    "regressor_20 = active_learning(X_train, y_train, r_dev_mod)\n",
    "x_al_20 = ssl_predictions_oth(regressor_20, X_test_3)"
   ]
  },
  {
   "cell_type": "code",
   "execution_count": 190,
   "metadata": {},
   "outputs": [
    {
     "name": "stdout",
     "output_type": "stream",
     "text": [
      "Kickout + Kickin Metric: 0.826\n"
     ]
    },
    {
     "data": {
      "application/javascript": [
       "\n",
       "            setTimeout(function() {\n",
       "                var nbb_cell_id = 190;\n",
       "                var nbb_unformatted_code = \"x_al_20[\\\"Flag\\\"] = x_al_20.apply(flag_df_ssl, axis=1)\\nkickout_al_20 = kickout_ssl(x_al_20)\";\n",
       "                var nbb_formatted_code = \"x_al_20[\\\"Flag\\\"] = x_al_20.apply(flag_df_ssl, axis=1)\\nkickout_al_20 = kickout_ssl(x_al_20)\";\n",
       "                var nbb_cells = Jupyter.notebook.get_cells();\n",
       "                for (var i = 0; i < nbb_cells.length; ++i) {\n",
       "                    if (nbb_cells[i].input_prompt_number == nbb_cell_id) {\n",
       "                        if (nbb_cells[i].get_text() == nbb_unformatted_code) {\n",
       "                             nbb_cells[i].set_text(nbb_formatted_code);\n",
       "                        }\n",
       "                        break;\n",
       "                    }\n",
       "                }\n",
       "            }, 500);\n",
       "            "
      ],
      "text/plain": [
       "<IPython.core.display.Javascript object>"
      ]
     },
     "metadata": {},
     "output_type": "display_data"
    },
    {
     "data": {
      "application/javascript": [
       "\n",
       "            setTimeout(function() {\n",
       "                var nbb_cell_id = 190;\n",
       "                var nbb_unformatted_code = \"x_al_20[\\\"Flag\\\"] = x_al_20.apply(flag_df_ssl, axis=1)\\nkickout_al_20 = kickout_ssl(x_al_20)\";\n",
       "                var nbb_formatted_code = \"x_al_20[\\\"Flag\\\"] = x_al_20.apply(flag_df_ssl, axis=1)\\nkickout_al_20 = kickout_ssl(x_al_20)\";\n",
       "                var nbb_cells = Jupyter.notebook.get_cells();\n",
       "                for (var i = 0; i < nbb_cells.length; ++i) {\n",
       "                    if (nbb_cells[i].input_prompt_number == nbb_cell_id) {\n",
       "                        if (nbb_cells[i].get_text() == nbb_unformatted_code) {\n",
       "                             nbb_cells[i].set_text(nbb_formatted_code);\n",
       "                        }\n",
       "                        break;\n",
       "                    }\n",
       "                }\n",
       "            }, 500);\n",
       "            "
      ],
      "text/plain": [
       "<IPython.core.display.Javascript object>"
      ]
     },
     "metadata": {},
     "output_type": "display_data"
    }
   ],
   "source": [
    "x_al_20[\"Flag\"] = x_al_20.apply(flag_df_ssl, axis=1)\n",
    "kickout_al_20 = kickout_ssl(x_al_20)"
   ]
  },
  {
   "cell_type": "markdown",
   "metadata": {},
   "source": [
    "## EM"
   ]
  },
  {
   "cell_type": "code",
   "execution_count": 167,
   "metadata": {},
   "outputs": [
    {
     "data": {
      "application/javascript": [
       "\n",
       "            setTimeout(function() {\n",
       "                var nbb_cell_id = 167;\n",
       "                var nbb_unformatted_code = \"import numpy as np\\nimport pandas as pd\\nfrom scipy import stats\\nfrom scipy.special import logsumexp\\nfrom sklearn.mixture import GaussianMixture\\nfrom matplotlib import pyplot as plt\";\n",
       "                var nbb_formatted_code = \"import numpy as np\\nimport pandas as pd\\nfrom scipy import stats\\nfrom scipy.special import logsumexp\\nfrom sklearn.mixture import GaussianMixture\\nfrom matplotlib import pyplot as plt\";\n",
       "                var nbb_cells = Jupyter.notebook.get_cells();\n",
       "                for (var i = 0; i < nbb_cells.length; ++i) {\n",
       "                    if (nbb_cells[i].input_prompt_number == nbb_cell_id) {\n",
       "                        if (nbb_cells[i].get_text() == nbb_unformatted_code) {\n",
       "                             nbb_cells[i].set_text(nbb_formatted_code);\n",
       "                        }\n",
       "                        break;\n",
       "                    }\n",
       "                }\n",
       "            }, 500);\n",
       "            "
      ],
      "text/plain": [
       "<IPython.core.display.Javascript object>"
      ]
     },
     "metadata": {},
     "output_type": "display_data"
    },
    {
     "data": {
      "application/javascript": [
       "\n",
       "            setTimeout(function() {\n",
       "                var nbb_cell_id = 167;\n",
       "                var nbb_unformatted_code = \"import numpy as np\\nimport pandas as pd\\nfrom scipy import stats\\nfrom scipy.special import logsumexp\\nfrom sklearn.mixture import GaussianMixture\\nfrom matplotlib import pyplot as plt\";\n",
       "                var nbb_formatted_code = \"import numpy as np\\nimport pandas as pd\\nfrom scipy import stats\\nfrom scipy.special import logsumexp\\nfrom sklearn.mixture import GaussianMixture\\nfrom matplotlib import pyplot as plt\";\n",
       "                var nbb_cells = Jupyter.notebook.get_cells();\n",
       "                for (var i = 0; i < nbb_cells.length; ++i) {\n",
       "                    if (nbb_cells[i].input_prompt_number == nbb_cell_id) {\n",
       "                        if (nbb_cells[i].get_text() == nbb_unformatted_code) {\n",
       "                             nbb_cells[i].set_text(nbb_formatted_code);\n",
       "                        }\n",
       "                        break;\n",
       "                    }\n",
       "                }\n",
       "            }, 500);\n",
       "            "
      ],
      "text/plain": [
       "<IPython.core.display.Javascript object>"
      ]
     },
     "metadata": {},
     "output_type": "display_data"
    }
   ],
   "source": [
    "import numpy as np\n",
    "import pandas as pd\n",
    "from scipy import stats\n",
    "from scipy.special import logsumexp\n",
    "from sklearn.mixture import GaussianMixture\n",
    "from matplotlib import pyplot as plt"
   ]
  },
  {
   "cell_type": "code",
   "execution_count": 168,
   "metadata": {},
   "outputs": [
    {
     "data": {
      "application/javascript": [
       "\n",
       "            setTimeout(function() {\n",
       "                var nbb_cell_id = 168;\n",
       "                var nbb_unformatted_code = \"def get_avg_log_likelihood(x, params):\\n    loglikelihood, _ = e_step(x, params)\\n    return np.mean(loglikelihood)\\ndef learn_params(x_labeled, y_labeled):\\n    n = x_labeled.shape[0]\\n    phi = x_labeled[y_labeled == 1].shape[0] / n\\n    mu0 = np.sum(x_labeled[y_labeled == 0], axis=0) / x_labeled[y_labeled == 0].shape[0]\\n    mu1 = np.sum(x_labeled[y_labeled == 1], axis=0) / x_labeled[y_labeled == 1].shape[0]\\n    sigma0 = np.cov(x_labeled[y_labeled == 0].T, bias=True)\\n    sigma1 = np.cov(x_labeled[y_labeled == 1].T, bias=True)\\n    return {\\\"phi\\\": phi, \\\"mu0\\\": mu0, \\\"mu1\\\": mu1, \\\"sigma0\\\": sigma0, \\\"sigma1\\\": sigma1}\\n\\ndef e_step(x, params):\\n    np.log(\\n        [\\n            stats.multivariate_normal(params[\\\"mu0\\\"], params[\\\"sigma0\\\"]).pdf(x),\\n            stats.multivariate_normal(params[\\\"mu1\\\"], params[\\\"sigma1\\\"]).pdf(x),\\n        ]\\n    )\\n    log_p_y_x = (\\n        np.log([1 - params[\\\"phi\\\"], params[\\\"phi\\\"]])[np.newaxis, ...]\\n        + np.log(\\n            [\\n                stats.multivariate_normal(params[\\\"mu0\\\"], params[\\\"sigma0\\\"]).pdf(x),\\n                stats.multivariate_normal(params[\\\"mu1\\\"], params[\\\"sigma1\\\"]).pdf(x),\\n            ]\\n        ).T\\n    )\\n    log_p_y_x_norm = logsumexp(log_p_y_x, axis=1)\\n    return log_p_y_x_norm, np.exp(log_p_y_x - log_p_y_x_norm[..., np.newaxis])\\n\\n\\ndef m_step(x, params):\\n    total_count = x.shape[0]\\n    _, heuristics = e_step(x, params)\\n    heuristic0 = heuristics[:, 0]\\n    heuristic1 = heuristics[:, 1]\\n    sum_heuristic1 = np.sum(heuristic1)\\n    sum_heuristic0 = np.sum(heuristic0)\\n    phi = sum_heuristic1 / total_count\\n    mu0 = (heuristic0[..., np.newaxis].T.dot(x) / sum_heuristic0).flatten()\\n    mu1 = (heuristic1[..., np.newaxis].T.dot(x) / sum_heuristic1).flatten()\\n    diff0 = x - mu0\\n    sigma0 = diff0.T.dot(diff0 * heuristic0[..., np.newaxis]) / sum_heuristic0\\n    diff1 = x - mu1\\n    sigma1 = diff1.T.dot(diff1 * heuristic1[..., np.newaxis]) / sum_heuristic1\\n    params = {\\\"phi\\\": phi, \\\"mu0\\\": mu0, \\\"mu1\\\": mu1, \\\"sigma0\\\": sigma0, \\\"sigma1\\\": sigma1}\\n    return params\\n\\ndef run_em(x, params):\\n    avg_loglikelihoods = []\\n    while True:\\n        avg_loglikelihood = get_avg_log_likelihood(x, params)\\n        avg_loglikelihoods.append(avg_loglikelihood)\\n        if (\\n            len(avg_loglikelihoods) > 2\\n            and abs(avg_loglikelihoods[-1] - avg_loglikelihoods[-2]) < 0.0001\\n        ):\\n            break\\n        params = m_step(x_unlabeled, params)\\n    print(\\n        \\\"\\\\tphi: %s\\\\n\\\\tmu_0: %s\\\\n\\\\tmu_1: %s\\\\n\\\\tsigma_0: %s\\\\n\\\\tsigma_1: %s\\\"\\n        % (\\n            params[\\\"phi\\\"],\\n            params[\\\"mu0\\\"],\\n            params[\\\"mu1\\\"],\\n            params[\\\"sigma0\\\"],\\n            params[\\\"sigma1\\\"],\\n        )\\n    )\\n    _, posterior = e_step(x_unlabeled, params)\\n    forecasts = np.argmax(posterior, axis=1)\\n    return forecasts, posterior, avg_loglikelihoods\";\n",
       "                var nbb_formatted_code = \"def get_avg_log_likelihood(x, params):\\n    loglikelihood, _ = e_step(x, params)\\n    return np.mean(loglikelihood)\\n\\n\\ndef learn_params(x_labeled, y_labeled):\\n    n = x_labeled.shape[0]\\n    phi = x_labeled[y_labeled == 1].shape[0] / n\\n    mu0 = np.sum(x_labeled[y_labeled == 0], axis=0) / x_labeled[y_labeled == 0].shape[0]\\n    mu1 = np.sum(x_labeled[y_labeled == 1], axis=0) / x_labeled[y_labeled == 1].shape[0]\\n    sigma0 = np.cov(x_labeled[y_labeled == 0].T, bias=True)\\n    sigma1 = np.cov(x_labeled[y_labeled == 1].T, bias=True)\\n    return {\\\"phi\\\": phi, \\\"mu0\\\": mu0, \\\"mu1\\\": mu1, \\\"sigma0\\\": sigma0, \\\"sigma1\\\": sigma1}\\n\\n\\ndef e_step(x, params):\\n    np.log(\\n        [\\n            stats.multivariate_normal(params[\\\"mu0\\\"], params[\\\"sigma0\\\"]).pdf(x),\\n            stats.multivariate_normal(params[\\\"mu1\\\"], params[\\\"sigma1\\\"]).pdf(x),\\n        ]\\n    )\\n    log_p_y_x = (\\n        np.log([1 - params[\\\"phi\\\"], params[\\\"phi\\\"]])[np.newaxis, ...]\\n        + np.log(\\n            [\\n                stats.multivariate_normal(params[\\\"mu0\\\"], params[\\\"sigma0\\\"]).pdf(x),\\n                stats.multivariate_normal(params[\\\"mu1\\\"], params[\\\"sigma1\\\"]).pdf(x),\\n            ]\\n        ).T\\n    )\\n    log_p_y_x_norm = logsumexp(log_p_y_x, axis=1)\\n    return log_p_y_x_norm, np.exp(log_p_y_x - log_p_y_x_norm[..., np.newaxis])\\n\\n\\ndef m_step(x, params):\\n    total_count = x.shape[0]\\n    _, heuristics = e_step(x, params)\\n    heuristic0 = heuristics[:, 0]\\n    heuristic1 = heuristics[:, 1]\\n    sum_heuristic1 = np.sum(heuristic1)\\n    sum_heuristic0 = np.sum(heuristic0)\\n    phi = sum_heuristic1 / total_count\\n    mu0 = (heuristic0[..., np.newaxis].T.dot(x) / sum_heuristic0).flatten()\\n    mu1 = (heuristic1[..., np.newaxis].T.dot(x) / sum_heuristic1).flatten()\\n    diff0 = x - mu0\\n    sigma0 = diff0.T.dot(diff0 * heuristic0[..., np.newaxis]) / sum_heuristic0\\n    diff1 = x - mu1\\n    sigma1 = diff1.T.dot(diff1 * heuristic1[..., np.newaxis]) / sum_heuristic1\\n    params = {\\\"phi\\\": phi, \\\"mu0\\\": mu0, \\\"mu1\\\": mu1, \\\"sigma0\\\": sigma0, \\\"sigma1\\\": sigma1}\\n    return params\\n\\n\\ndef run_em(x, params):\\n    avg_loglikelihoods = []\\n    while True:\\n        avg_loglikelihood = get_avg_log_likelihood(x, params)\\n        avg_loglikelihoods.append(avg_loglikelihood)\\n        if (\\n            len(avg_loglikelihoods) > 2\\n            and abs(avg_loglikelihoods[-1] - avg_loglikelihoods[-2]) < 0.0001\\n        ):\\n            break\\n        params = m_step(x_unlabeled, params)\\n    print(\\n        \\\"\\\\tphi: %s\\\\n\\\\tmu_0: %s\\\\n\\\\tmu_1: %s\\\\n\\\\tsigma_0: %s\\\\n\\\\tsigma_1: %s\\\"\\n        % (\\n            params[\\\"phi\\\"],\\n            params[\\\"mu0\\\"],\\n            params[\\\"mu1\\\"],\\n            params[\\\"sigma0\\\"],\\n            params[\\\"sigma1\\\"],\\n        )\\n    )\\n    _, posterior = e_step(x_unlabeled, params)\\n    forecasts = np.argmax(posterior, axis=1)\\n    return forecasts, posterior, avg_loglikelihoods\";\n",
       "                var nbb_cells = Jupyter.notebook.get_cells();\n",
       "                for (var i = 0; i < nbb_cells.length; ++i) {\n",
       "                    if (nbb_cells[i].input_prompt_number == nbb_cell_id) {\n",
       "                        if (nbb_cells[i].get_text() == nbb_unformatted_code) {\n",
       "                             nbb_cells[i].set_text(nbb_formatted_code);\n",
       "                        }\n",
       "                        break;\n",
       "                    }\n",
       "                }\n",
       "            }, 500);\n",
       "            "
      ],
      "text/plain": [
       "<IPython.core.display.Javascript object>"
      ]
     },
     "metadata": {},
     "output_type": "display_data"
    },
    {
     "data": {
      "application/javascript": [
       "\n",
       "            setTimeout(function() {\n",
       "                var nbb_cell_id = 168;\n",
       "                var nbb_unformatted_code = \"def get_avg_log_likelihood(x, params):\\n    loglikelihood, _ = e_step(x, params)\\n    return np.mean(loglikelihood)\\ndef learn_params(x_labeled, y_labeled):\\n    n = x_labeled.shape[0]\\n    phi = x_labeled[y_labeled == 1].shape[0] / n\\n    mu0 = np.sum(x_labeled[y_labeled == 0], axis=0) / x_labeled[y_labeled == 0].shape[0]\\n    mu1 = np.sum(x_labeled[y_labeled == 1], axis=0) / x_labeled[y_labeled == 1].shape[0]\\n    sigma0 = np.cov(x_labeled[y_labeled == 0].T, bias=True)\\n    sigma1 = np.cov(x_labeled[y_labeled == 1].T, bias=True)\\n    return {\\\"phi\\\": phi, \\\"mu0\\\": mu0, \\\"mu1\\\": mu1, \\\"sigma0\\\": sigma0, \\\"sigma1\\\": sigma1}\\n\\ndef e_step(x, params):\\n    np.log(\\n        [\\n            stats.multivariate_normal(params[\\\"mu0\\\"], params[\\\"sigma0\\\"]).pdf(x),\\n            stats.multivariate_normal(params[\\\"mu1\\\"], params[\\\"sigma1\\\"]).pdf(x),\\n        ]\\n    )\\n    log_p_y_x = (\\n        np.log([1 - params[\\\"phi\\\"], params[\\\"phi\\\"]])[np.newaxis, ...]\\n        + np.log(\\n            [\\n                stats.multivariate_normal(params[\\\"mu0\\\"], params[\\\"sigma0\\\"]).pdf(x),\\n                stats.multivariate_normal(params[\\\"mu1\\\"], params[\\\"sigma1\\\"]).pdf(x),\\n            ]\\n        ).T\\n    )\\n    log_p_y_x_norm = logsumexp(log_p_y_x, axis=1)\\n    return log_p_y_x_norm, np.exp(log_p_y_x - log_p_y_x_norm[..., np.newaxis])\\n\\n\\ndef m_step(x, params):\\n    total_count = x.shape[0]\\n    _, heuristics = e_step(x, params)\\n    heuristic0 = heuristics[:, 0]\\n    heuristic1 = heuristics[:, 1]\\n    sum_heuristic1 = np.sum(heuristic1)\\n    sum_heuristic0 = np.sum(heuristic0)\\n    phi = sum_heuristic1 / total_count\\n    mu0 = (heuristic0[..., np.newaxis].T.dot(x) / sum_heuristic0).flatten()\\n    mu1 = (heuristic1[..., np.newaxis].T.dot(x) / sum_heuristic1).flatten()\\n    diff0 = x - mu0\\n    sigma0 = diff0.T.dot(diff0 * heuristic0[..., np.newaxis]) / sum_heuristic0\\n    diff1 = x - mu1\\n    sigma1 = diff1.T.dot(diff1 * heuristic1[..., np.newaxis]) / sum_heuristic1\\n    params = {\\\"phi\\\": phi, \\\"mu0\\\": mu0, \\\"mu1\\\": mu1, \\\"sigma0\\\": sigma0, \\\"sigma1\\\": sigma1}\\n    return params\\n\\ndef run_em(x, params):\\n    avg_loglikelihoods = []\\n    while True:\\n        avg_loglikelihood = get_avg_log_likelihood(x, params)\\n        avg_loglikelihoods.append(avg_loglikelihood)\\n        if (\\n            len(avg_loglikelihoods) > 2\\n            and abs(avg_loglikelihoods[-1] - avg_loglikelihoods[-2]) < 0.0001\\n        ):\\n            break\\n        params = m_step(x_unlabeled, params)\\n    print(\\n        \\\"\\\\tphi: %s\\\\n\\\\tmu_0: %s\\\\n\\\\tmu_1: %s\\\\n\\\\tsigma_0: %s\\\\n\\\\tsigma_1: %s\\\"\\n        % (\\n            params[\\\"phi\\\"],\\n            params[\\\"mu0\\\"],\\n            params[\\\"mu1\\\"],\\n            params[\\\"sigma0\\\"],\\n            params[\\\"sigma1\\\"],\\n        )\\n    )\\n    _, posterior = e_step(x_unlabeled, params)\\n    forecasts = np.argmax(posterior, axis=1)\\n    return forecasts, posterior, avg_loglikelihoods\";\n",
       "                var nbb_formatted_code = \"def get_avg_log_likelihood(x, params):\\n    loglikelihood, _ = e_step(x, params)\\n    return np.mean(loglikelihood)\\n\\n\\ndef learn_params(x_labeled, y_labeled):\\n    n = x_labeled.shape[0]\\n    phi = x_labeled[y_labeled == 1].shape[0] / n\\n    mu0 = np.sum(x_labeled[y_labeled == 0], axis=0) / x_labeled[y_labeled == 0].shape[0]\\n    mu1 = np.sum(x_labeled[y_labeled == 1], axis=0) / x_labeled[y_labeled == 1].shape[0]\\n    sigma0 = np.cov(x_labeled[y_labeled == 0].T, bias=True)\\n    sigma1 = np.cov(x_labeled[y_labeled == 1].T, bias=True)\\n    return {\\\"phi\\\": phi, \\\"mu0\\\": mu0, \\\"mu1\\\": mu1, \\\"sigma0\\\": sigma0, \\\"sigma1\\\": sigma1}\\n\\n\\ndef e_step(x, params):\\n    np.log(\\n        [\\n            stats.multivariate_normal(params[\\\"mu0\\\"], params[\\\"sigma0\\\"]).pdf(x),\\n            stats.multivariate_normal(params[\\\"mu1\\\"], params[\\\"sigma1\\\"]).pdf(x),\\n        ]\\n    )\\n    log_p_y_x = (\\n        np.log([1 - params[\\\"phi\\\"], params[\\\"phi\\\"]])[np.newaxis, ...]\\n        + np.log(\\n            [\\n                stats.multivariate_normal(params[\\\"mu0\\\"], params[\\\"sigma0\\\"]).pdf(x),\\n                stats.multivariate_normal(params[\\\"mu1\\\"], params[\\\"sigma1\\\"]).pdf(x),\\n            ]\\n        ).T\\n    )\\n    log_p_y_x_norm = logsumexp(log_p_y_x, axis=1)\\n    return log_p_y_x_norm, np.exp(log_p_y_x - log_p_y_x_norm[..., np.newaxis])\\n\\n\\ndef m_step(x, params):\\n    total_count = x.shape[0]\\n    _, heuristics = e_step(x, params)\\n    heuristic0 = heuristics[:, 0]\\n    heuristic1 = heuristics[:, 1]\\n    sum_heuristic1 = np.sum(heuristic1)\\n    sum_heuristic0 = np.sum(heuristic0)\\n    phi = sum_heuristic1 / total_count\\n    mu0 = (heuristic0[..., np.newaxis].T.dot(x) / sum_heuristic0).flatten()\\n    mu1 = (heuristic1[..., np.newaxis].T.dot(x) / sum_heuristic1).flatten()\\n    diff0 = x - mu0\\n    sigma0 = diff0.T.dot(diff0 * heuristic0[..., np.newaxis]) / sum_heuristic0\\n    diff1 = x - mu1\\n    sigma1 = diff1.T.dot(diff1 * heuristic1[..., np.newaxis]) / sum_heuristic1\\n    params = {\\\"phi\\\": phi, \\\"mu0\\\": mu0, \\\"mu1\\\": mu1, \\\"sigma0\\\": sigma0, \\\"sigma1\\\": sigma1}\\n    return params\\n\\n\\ndef run_em(x, params):\\n    avg_loglikelihoods = []\\n    while True:\\n        avg_loglikelihood = get_avg_log_likelihood(x, params)\\n        avg_loglikelihoods.append(avg_loglikelihood)\\n        if (\\n            len(avg_loglikelihoods) > 2\\n            and abs(avg_loglikelihoods[-1] - avg_loglikelihoods[-2]) < 0.0001\\n        ):\\n            break\\n        params = m_step(x_unlabeled, params)\\n    print(\\n        \\\"\\\\tphi: %s\\\\n\\\\tmu_0: %s\\\\n\\\\tmu_1: %s\\\\n\\\\tsigma_0: %s\\\\n\\\\tsigma_1: %s\\\"\\n        % (\\n            params[\\\"phi\\\"],\\n            params[\\\"mu0\\\"],\\n            params[\\\"mu1\\\"],\\n            params[\\\"sigma0\\\"],\\n            params[\\\"sigma1\\\"],\\n        )\\n    )\\n    _, posterior = e_step(x_unlabeled, params)\\n    forecasts = np.argmax(posterior, axis=1)\\n    return forecasts, posterior, avg_loglikelihoods\";\n",
       "                var nbb_cells = Jupyter.notebook.get_cells();\n",
       "                for (var i = 0; i < nbb_cells.length; ++i) {\n",
       "                    if (nbb_cells[i].input_prompt_number == nbb_cell_id) {\n",
       "                        if (nbb_cells[i].get_text() == nbb_unformatted_code) {\n",
       "                             nbb_cells[i].set_text(nbb_formatted_code);\n",
       "                        }\n",
       "                        break;\n",
       "                    }\n",
       "                }\n",
       "            }, 500);\n",
       "            "
      ],
      "text/plain": [
       "<IPython.core.display.Javascript object>"
      ]
     },
     "metadata": {},
     "output_type": "display_data"
    }
   ],
   "source": [
    "def get_avg_log_likelihood(x, params):\n",
    "    loglikelihood, _ = e_step(x, params)\n",
    "    return np.mean(loglikelihood)\n",
    "def learn_params(x_labeled, y_labeled):\n",
    "    n = x_labeled.shape[0]\n",
    "    phi = x_labeled[y_labeled == 1].shape[0] / n\n",
    "    mu0 = np.sum(x_labeled[y_labeled == 0], axis=0) / x_labeled[y_labeled == 0].shape[0]\n",
    "    mu1 = np.sum(x_labeled[y_labeled == 1], axis=0) / x_labeled[y_labeled == 1].shape[0]\n",
    "    sigma0 = np.cov(x_labeled[y_labeled == 0].T, bias=True)\n",
    "    sigma1 = np.cov(x_labeled[y_labeled == 1].T, bias=True)\n",
    "    return {\"phi\": phi, \"mu0\": mu0, \"mu1\": mu1, \"sigma0\": sigma0, \"sigma1\": sigma1}\n",
    "\n",
    "def e_step(x, params):\n",
    "    np.log(\n",
    "        [\n",
    "            stats.multivariate_normal(params[\"mu0\"], params[\"sigma0\"]).pdf(x),\n",
    "            stats.multivariate_normal(params[\"mu1\"], params[\"sigma1\"]).pdf(x),\n",
    "        ]\n",
    "    )\n",
    "    log_p_y_x = (\n",
    "        np.log([1 - params[\"phi\"], params[\"phi\"]])[np.newaxis, ...]\n",
    "        + np.log(\n",
    "            [\n",
    "                stats.multivariate_normal(params[\"mu0\"], params[\"sigma0\"]).pdf(x),\n",
    "                stats.multivariate_normal(params[\"mu1\"], params[\"sigma1\"]).pdf(x),\n",
    "            ]\n",
    "        ).T\n",
    "    )\n",
    "    log_p_y_x_norm = logsumexp(log_p_y_x, axis=1)\n",
    "    return log_p_y_x_norm, np.exp(log_p_y_x - log_p_y_x_norm[..., np.newaxis])\n",
    "\n",
    "\n",
    "def m_step(x, params):\n",
    "    total_count = x.shape[0]\n",
    "    _, heuristics = e_step(x, params)\n",
    "    heuristic0 = heuristics[:, 0]\n",
    "    heuristic1 = heuristics[:, 1]\n",
    "    sum_heuristic1 = np.sum(heuristic1)\n",
    "    sum_heuristic0 = np.sum(heuristic0)\n",
    "    phi = sum_heuristic1 / total_count\n",
    "    mu0 = (heuristic0[..., np.newaxis].T.dot(x) / sum_heuristic0).flatten()\n",
    "    mu1 = (heuristic1[..., np.newaxis].T.dot(x) / sum_heuristic1).flatten()\n",
    "    diff0 = x - mu0\n",
    "    sigma0 = diff0.T.dot(diff0 * heuristic0[..., np.newaxis]) / sum_heuristic0\n",
    "    diff1 = x - mu1\n",
    "    sigma1 = diff1.T.dot(diff1 * heuristic1[..., np.newaxis]) / sum_heuristic1\n",
    "    params = {\"phi\": phi, \"mu0\": mu0, \"mu1\": mu1, \"sigma0\": sigma0, \"sigma1\": sigma1}\n",
    "    return params\n",
    "\n",
    "def run_em(x, params):\n",
    "    avg_loglikelihoods = []\n",
    "    while True:\n",
    "        avg_loglikelihood = get_avg_log_likelihood(x, params)\n",
    "        avg_loglikelihoods.append(avg_loglikelihood)\n",
    "        if (\n",
    "            len(avg_loglikelihoods) > 2\n",
    "            and abs(avg_loglikelihoods[-1] - avg_loglikelihoods[-2]) < 0.0001\n",
    "        ):\n",
    "            break\n",
    "        params = m_step(x_unlabeled, params)\n",
    "    print(\n",
    "        \"\\tphi: %s\\n\\tmu_0: %s\\n\\tmu_1: %s\\n\\tsigma_0: %s\\n\\tsigma_1: %s\"\n",
    "        % (\n",
    "            params[\"phi\"],\n",
    "            params[\"mu0\"],\n",
    "            params[\"mu1\"],\n",
    "            params[\"sigma0\"],\n",
    "            params[\"sigma1\"],\n",
    "        )\n",
    "    )\n",
    "    _, posterior = e_step(x_unlabeled, params)\n",
    "    forecasts = np.argmax(posterior, axis=1)\n",
    "    return forecasts, posterior, avg_loglikelihoods\n",
    "\n"
   ]
  },
  {
   "cell_type": "code",
   "execution_count": 178,
   "metadata": {},
   "outputs": [
    {
     "name": "stdout",
     "output_type": "stream",
     "text": [
      "\tphi: 0.5822773496004533\n",
      "\tmu_0: [0.10314666 0.11459452 0.41736188 1.47411802]\n",
      "\tmu_1: [-0.09443411 -0.03986393  0.13549624  0.84421364]\n",
      "\tsigma_0: [[ 0.8779045  -0.02618267 -0.13045205 -0.04521762]\n",
      " [-0.02618267  1.10424681  0.10548973 -0.06813863]\n",
      " [-0.13045205  0.10548973  0.89065026 -0.24506134]\n",
      " [-0.04521762 -0.06813863 -0.24506134  0.36812073]]\n",
      "\tsigma_1: [[ 0.95110702 -0.08242479  0.01173042 -0.0201646 ]\n",
      " [-0.08242479  1.02092943 -0.09364236  0.01164521]\n",
      " [ 0.01173042 -0.09364236  1.06044446 -0.21156565]\n",
      " [-0.0201646   0.01164521 -0.21156565  0.12714576]]\n",
      "total steps:  42\n"
     ]
    },
    {
     "data": {
      "text/plain": [
       "Text(0.5, 1.0, 'semi-supervised log likelihoods')"
      ]
     },
     "execution_count": 178,
     "metadata": {},
     "output_type": "execute_result"
    },
    {
     "data": {
      "image/png": "[encoded data removed]",
      "text/plain": [
       "<Figure size 432x288 with 1 Axes>"
      ]
     },
     "metadata": {
      "needs_background": "light"
     },
     "output_type": "display_data"
    },
    {
     "data": {
      "application/javascript": [
       "\n",
       "            setTimeout(function() {\n",
       "                var nbb_cell_id = 178;\n",
       "                var nbb_unformatted_code = \"x_unlabeled = r_test_mod[significant_columns].values\\nx_labeled = X_train[significant_columns].values\\ny_labeled = y_train[\\\"target\\\"].values\\nlearned_params = learn_params(x_labeled, y_labeled)\\n(\\n    semisupervised_forecasts,\\n    semisupervised_posterior,\\n    semisupervised_loglikelihoods,\\n) = run_em(x_unlabeled, learned_params)\\nprint(\\\"total steps: \\\", len(semisupervised_loglikelihoods))\\nplt.plot(semisupervised_loglikelihoods)\\nplt.title(\\\"semi-supervised log likelihoods\\\")\\n# plt.savefig(\\\"semi-supervised.png\\\")\";\n",
       "                var nbb_formatted_code = \"x_unlabeled = r_test_mod[significant_columns].values\\nx_labeled = X_train[significant_columns].values\\ny_labeled = y_train[\\\"target\\\"].values\\nlearned_params = learn_params(x_labeled, y_labeled)\\n(\\n    semisupervised_forecasts,\\n    semisupervised_posterior,\\n    semisupervised_loglikelihoods,\\n) = run_em(x_unlabeled, learned_params)\\nprint(\\\"total steps: \\\", len(semisupervised_loglikelihoods))\\nplt.plot(semisupervised_loglikelihoods)\\nplt.title(\\\"semi-supervised log likelihoods\\\")\\n# plt.savefig(\\\"semi-supervised.png\\\")\";\n",
       "                var nbb_cells = Jupyter.notebook.get_cells();\n",
       "                for (var i = 0; i < nbb_cells.length; ++i) {\n",
       "                    if (nbb_cells[i].input_prompt_number == nbb_cell_id) {\n",
       "                        if (nbb_cells[i].get_text() == nbb_unformatted_code) {\n",
       "                             nbb_cells[i].set_text(nbb_formatted_code);\n",
       "                        }\n",
       "                        break;\n",
       "                    }\n",
       "                }\n",
       "            }, 500);\n",
       "            "
      ],
      "text/plain": [
       "<IPython.core.display.Javascript object>"
      ]
     },
     "metadata": {},
     "output_type": "display_data"
    },
    {
     "data": {
      "application/javascript": [
       "\n",
       "            setTimeout(function() {\n",
       "                var nbb_cell_id = 178;\n",
       "                var nbb_unformatted_code = \"x_unlabeled = r_test_mod[significant_columns].values\\nx_labeled = X_train[significant_columns].values\\ny_labeled = y_train[\\\"target\\\"].values\\nlearned_params = learn_params(x_labeled, y_labeled)\\n(\\n    semisupervised_forecasts,\\n    semisupervised_posterior,\\n    semisupervised_loglikelihoods,\\n) = run_em(x_unlabeled, learned_params)\\nprint(\\\"total steps: \\\", len(semisupervised_loglikelihoods))\\nplt.plot(semisupervised_loglikelihoods)\\nplt.title(\\\"semi-supervised log likelihoods\\\")\\n# plt.savefig(\\\"semi-supervised.png\\\")\";\n",
       "                var nbb_formatted_code = \"x_unlabeled = r_test_mod[significant_columns].values\\nx_labeled = X_train[significant_columns].values\\ny_labeled = y_train[\\\"target\\\"].values\\nlearned_params = learn_params(x_labeled, y_labeled)\\n(\\n    semisupervised_forecasts,\\n    semisupervised_posterior,\\n    semisupervised_loglikelihoods,\\n) = run_em(x_unlabeled, learned_params)\\nprint(\\\"total steps: \\\", len(semisupervised_loglikelihoods))\\nplt.plot(semisupervised_loglikelihoods)\\nplt.title(\\\"semi-supervised log likelihoods\\\")\\n# plt.savefig(\\\"semi-supervised.png\\\")\";\n",
       "                var nbb_cells = Jupyter.notebook.get_cells();\n",
       "                for (var i = 0; i < nbb_cells.length; ++i) {\n",
       "                    if (nbb_cells[i].input_prompt_number == nbb_cell_id) {\n",
       "                        if (nbb_cells[i].get_text() == nbb_unformatted_code) {\n",
       "                             nbb_cells[i].set_text(nbb_formatted_code);\n",
       "                        }\n",
       "                        break;\n",
       "                    }\n",
       "                }\n",
       "            }, 500);\n",
       "            "
      ],
      "text/plain": [
       "<IPython.core.display.Javascript object>"
      ]
     },
     "metadata": {},
     "output_type": "display_data"
    }
   ],
   "source": [
    "x_unlabeled = r_test_mod[significant_columns].values\n",
    "x_labeled = X_train[significant_columns].values\n",
    "y_labeled = y_train[\"target\"].values\n",
    "learned_params = learn_params(x_labeled, y_labeled)\n",
    "(\n",
    "    semisupervised_forecasts,\n",
    "    semisupervised_posterior,\n",
    "    semisupervised_loglikelihoods,\n",
    ") = run_em(x_unlabeled, learned_params)\n",
    "print(\"total steps: \", len(semisupervised_loglikelihoods))\n",
    "plt.plot(semisupervised_loglikelihoods)\n",
    "plt.title(\"semi-supervised log likelihoods\")\n",
    "# plt.savefig(\"semi-supervised.png\")"
   ]
  },
  {
   "cell_type": "code",
   "execution_count": 186,
   "metadata": {},
   "outputs": [
    {
     "data": {
      "application/javascript": [
       "\n",
       "            setTimeout(function() {\n",
       "                var nbb_cell_id = 186;\n",
       "                var nbb_unformatted_code = \"y_pred = semisupervised_posterior[:, 1]\\n\\n# Convert y_pred array to pandas dataframe\\npred_test = pd.DataFrame(\\n    data=y_pred,\\n    columns=[\\\"prediction_ssl_cont\\\"],\\n    index=dfr_test_with_label_X.index.copy(),\\n)\\n\\n# Set quantile\\nq = pred_test[\\\"prediction_ssl_cont\\\"].quantile(q=1 - conservative_dr)\\npred_test[\\\"prediction_ssl\\\"] = pred_test[\\\"prediction_ssl_cont\\\"].apply(\\n    lambda x: 0 if (x < q) else 1\\n)\\n\\n# Merge Baseline and SSL prediction\\npred_test_final2 = pd.merge(\\n    outcome_b[[\\\"target\\\", \\\"prediction_baseline\\\", \\\"prediction_beforeRI_binary\\\"]],\\n    pred_test[[\\\"prediction_ssl\\\"]],\\n    how=\\\"inner\\\",\\n    left_index=True,\\n    right_index=True,\\n)\";\n",
       "                var nbb_formatted_code = \"y_pred = semisupervised_posterior[:, 1]\\n\\n# Convert y_pred array to pandas dataframe\\npred_test = pd.DataFrame(\\n    data=y_pred,\\n    columns=[\\\"prediction_ssl_cont\\\"],\\n    index=dfr_test_with_label_X.index.copy(),\\n)\\n\\n# Set quantile\\nq = pred_test[\\\"prediction_ssl_cont\\\"].quantile(q=1 - conservative_dr)\\npred_test[\\\"prediction_ssl\\\"] = pred_test[\\\"prediction_ssl_cont\\\"].apply(\\n    lambda x: 0 if (x < q) else 1\\n)\\n\\n# Merge Baseline and SSL prediction\\npred_test_final2 = pd.merge(\\n    outcome_b[[\\\"target\\\", \\\"prediction_baseline\\\", \\\"prediction_beforeRI_binary\\\"]],\\n    pred_test[[\\\"prediction_ssl\\\"]],\\n    how=\\\"inner\\\",\\n    left_index=True,\\n    right_index=True,\\n)\";\n",
       "                var nbb_cells = Jupyter.notebook.get_cells();\n",
       "                for (var i = 0; i < nbb_cells.length; ++i) {\n",
       "                    if (nbb_cells[i].input_prompt_number == nbb_cell_id) {\n",
       "                        if (nbb_cells[i].get_text() == nbb_unformatted_code) {\n",
       "                             nbb_cells[i].set_text(nbb_formatted_code);\n",
       "                        }\n",
       "                        break;\n",
       "                    }\n",
       "                }\n",
       "            }, 500);\n",
       "            "
      ],
      "text/plain": [
       "<IPython.core.display.Javascript object>"
      ]
     },
     "metadata": {},
     "output_type": "display_data"
    },
    {
     "data": {
      "application/javascript": [
       "\n",
       "            setTimeout(function() {\n",
       "                var nbb_cell_id = 186;\n",
       "                var nbb_unformatted_code = \"y_pred = semisupervised_posterior[:, 1]\\n\\n# Convert y_pred array to pandas dataframe\\npred_test = pd.DataFrame(\\n    data=y_pred,\\n    columns=[\\\"prediction_ssl_cont\\\"],\\n    index=dfr_test_with_label_X.index.copy(),\\n)\\n\\n# Set quantile\\nq = pred_test[\\\"prediction_ssl_cont\\\"].quantile(q=1 - conservative_dr)\\npred_test[\\\"prediction_ssl\\\"] = pred_test[\\\"prediction_ssl_cont\\\"].apply(\\n    lambda x: 0 if (x < q) else 1\\n)\\n\\n# Merge Baseline and SSL prediction\\npred_test_final2 = pd.merge(\\n    outcome_b[[\\\"target\\\", \\\"prediction_baseline\\\", \\\"prediction_beforeRI_binary\\\"]],\\n    pred_test[[\\\"prediction_ssl\\\"]],\\n    how=\\\"inner\\\",\\n    left_index=True,\\n    right_index=True,\\n)\";\n",
       "                var nbb_formatted_code = \"y_pred = semisupervised_posterior[:, 1]\\n\\n# Convert y_pred array to pandas dataframe\\npred_test = pd.DataFrame(\\n    data=y_pred,\\n    columns=[\\\"prediction_ssl_cont\\\"],\\n    index=dfr_test_with_label_X.index.copy(),\\n)\\n\\n# Set quantile\\nq = pred_test[\\\"prediction_ssl_cont\\\"].quantile(q=1 - conservative_dr)\\npred_test[\\\"prediction_ssl\\\"] = pred_test[\\\"prediction_ssl_cont\\\"].apply(\\n    lambda x: 0 if (x < q) else 1\\n)\\n\\n# Merge Baseline and SSL prediction\\npred_test_final2 = pd.merge(\\n    outcome_b[[\\\"target\\\", \\\"prediction_baseline\\\", \\\"prediction_beforeRI_binary\\\"]],\\n    pred_test[[\\\"prediction_ssl\\\"]],\\n    how=\\\"inner\\\",\\n    left_index=True,\\n    right_index=True,\\n)\";\n",
       "                var nbb_cells = Jupyter.notebook.get_cells();\n",
       "                for (var i = 0; i < nbb_cells.length; ++i) {\n",
       "                    if (nbb_cells[i].input_prompt_number == nbb_cell_id) {\n",
       "                        if (nbb_cells[i].get_text() == nbb_unformatted_code) {\n",
       "                             nbb_cells[i].set_text(nbb_formatted_code);\n",
       "                        }\n",
       "                        break;\n",
       "                    }\n",
       "                }\n",
       "            }, 500);\n",
       "            "
      ],
      "text/plain": [
       "<IPython.core.display.Javascript object>"
      ]
     },
     "metadata": {},
     "output_type": "display_data"
    }
   ],
   "source": [
    "y_pred = semisupervised_posterior[:, 1]\n",
    "\n",
    "# Convert y_pred array to pandas dataframe\n",
    "pred_test = pd.DataFrame(\n",
    "    data=y_pred,\n",
    "    columns=[\"prediction_ssl_cont\"],\n",
    "    index=dfr_test_with_label_X.index.copy(),\n",
    ")\n",
    "\n",
    "# Set quantile\n",
    "q = pred_test[\"prediction_ssl_cont\"].quantile(q=1 - conservative_dr)\n",
    "pred_test[\"prediction_ssl\"] = pred_test[\"prediction_ssl_cont\"].apply(\n",
    "    lambda x: 0 if (x < q) else 1\n",
    ")\n",
    "\n",
    "# Merge Baseline and SSL prediction\n",
    "pred_test_final2 = pd.merge(\n",
    "    outcome_b[[\"target\", \"prediction_baseline\", \"prediction_beforeRI_binary\"]],\n",
    "    pred_test[[\"prediction_ssl\"]],\n",
    "    how=\"inner\",\n",
    "    left_index=True,\n",
    "    right_index=True,\n",
    ")"
   ]
  },
  {
   "cell_type": "code",
   "execution_count": 187,
   "metadata": {},
   "outputs": [
    {
     "data": {
      "text/html": [
       "<div>\n",
       "<style scoped>\n",
       "    .dataframe tbody tr th:only-of-type {\n",
       "        vertical-align: middle;\n",
       "    }\n",
       "\n",
       "    .dataframe tbody tr th {\n",
       "        vertical-align: top;\n",
       "    }\n",
       "\n",
       "    .dataframe thead th {\n",
       "        text-align: right;\n",
       "    }\n",
       "</style>\n",
       "<table border=\"1\" class=\"dataframe\">\n",
       "  <thead>\n",
       "    <tr style=\"text-align: right;\">\n",
       "      <th></th>\n",
       "      <th>target</th>\n",
       "      <th>prediction_baseline</th>\n",
       "      <th>prediction_beforeRI_binary</th>\n",
       "      <th>prediction_ssl</th>\n",
       "    </tr>\n",
       "  </thead>\n",
       "  <tbody>\n",
       "    <tr>\n",
       "      <th>18096</th>\n",
       "      <td>1</td>\n",
       "      <td>0</td>\n",
       "      <td>0</td>\n",
       "      <td>1</td>\n",
       "    </tr>\n",
       "    <tr>\n",
       "      <th>10838</th>\n",
       "      <td>0</td>\n",
       "      <td>0</td>\n",
       "      <td>0</td>\n",
       "      <td>0</td>\n",
       "    </tr>\n",
       "    <tr>\n",
       "      <th>15233</th>\n",
       "      <td>1</td>\n",
       "      <td>1</td>\n",
       "      <td>1</td>\n",
       "      <td>1</td>\n",
       "    </tr>\n",
       "    <tr>\n",
       "      <th>15997</th>\n",
       "      <td>0</td>\n",
       "      <td>0</td>\n",
       "      <td>0</td>\n",
       "      <td>0</td>\n",
       "    </tr>\n",
       "    <tr>\n",
       "      <th>18772</th>\n",
       "      <td>0</td>\n",
       "      <td>0</td>\n",
       "      <td>0</td>\n",
       "      <td>0</td>\n",
       "    </tr>\n",
       "    <tr>\n",
       "      <th>...</th>\n",
       "      <td>...</td>\n",
       "      <td>...</td>\n",
       "      <td>...</td>\n",
       "      <td>...</td>\n",
       "    </tr>\n",
       "    <tr>\n",
       "      <th>12694</th>\n",
       "      <td>0</td>\n",
       "      <td>0</td>\n",
       "      <td>0</td>\n",
       "      <td>1</td>\n",
       "    </tr>\n",
       "    <tr>\n",
       "      <th>17324</th>\n",
       "      <td>1</td>\n",
       "      <td>0</td>\n",
       "      <td>0</td>\n",
       "      <td>0</td>\n",
       "    </tr>\n",
       "    <tr>\n",
       "      <th>17428</th>\n",
       "      <td>0</td>\n",
       "      <td>0</td>\n",
       "      <td>0</td>\n",
       "      <td>0</td>\n",
       "    </tr>\n",
       "    <tr>\n",
       "      <th>17995</th>\n",
       "      <td>0</td>\n",
       "      <td>0</td>\n",
       "      <td>0</td>\n",
       "      <td>0</td>\n",
       "    </tr>\n",
       "    <tr>\n",
       "      <th>2982</th>\n",
       "      <td>1</td>\n",
       "      <td>1</td>\n",
       "      <td>1</td>\n",
       "      <td>0</td>\n",
       "    </tr>\n",
       "  </tbody>\n",
       "</table>\n",
       "<p>1200 rows × 4 columns</p>\n",
       "</div>"
      ],
      "text/plain": [
       "       target  prediction_baseline  prediction_beforeRI_binary  prediction_ssl\n",
       "18096       1                    0                           0               1\n",
       "10838       0                    0                           0               0\n",
       "15233       1                    1                           1               1\n",
       "15997       0                    0                           0               0\n",
       "18772       0                    0                           0               0\n",
       "...       ...                  ...                         ...             ...\n",
       "12694       0                    0                           0               1\n",
       "17324       1                    0                           0               0\n",
       "17428       0                    0                           0               0\n",
       "17995       0                    0                           0               0\n",
       "2982        1                    1                           1               0\n",
       "\n",
       "[1200 rows x 4 columns]"
      ]
     },
     "execution_count": 187,
     "metadata": {},
     "output_type": "execute_result"
    },
    {
     "data": {
      "application/javascript": [
       "\n",
       "            setTimeout(function() {\n",
       "                var nbb_cell_id = 187;\n",
       "                var nbb_unformatted_code = \"pred_test_final2\";\n",
       "                var nbb_formatted_code = \"pred_test_final2\";\n",
       "                var nbb_cells = Jupyter.notebook.get_cells();\n",
       "                for (var i = 0; i < nbb_cells.length; ++i) {\n",
       "                    if (nbb_cells[i].input_prompt_number == nbb_cell_id) {\n",
       "                        if (nbb_cells[i].get_text() == nbb_unformatted_code) {\n",
       "                             nbb_cells[i].set_text(nbb_formatted_code);\n",
       "                        }\n",
       "                        break;\n",
       "                    }\n",
       "                }\n",
       "            }, 500);\n",
       "            "
      ],
      "text/plain": [
       "<IPython.core.display.Javascript object>"
      ]
     },
     "metadata": {},
     "output_type": "display_data"
    },
    {
     "data": {
      "application/javascript": [
       "\n",
       "            setTimeout(function() {\n",
       "                var nbb_cell_id = 187;\n",
       "                var nbb_unformatted_code = \"pred_test_final2\";\n",
       "                var nbb_formatted_code = \"pred_test_final2\";\n",
       "                var nbb_cells = Jupyter.notebook.get_cells();\n",
       "                for (var i = 0; i < nbb_cells.length; ++i) {\n",
       "                    if (nbb_cells[i].input_prompt_number == nbb_cell_id) {\n",
       "                        if (nbb_cells[i].get_text() == nbb_unformatted_code) {\n",
       "                             nbb_cells[i].set_text(nbb_formatted_code);\n",
       "                        }\n",
       "                        break;\n",
       "                    }\n",
       "                }\n",
       "            }, 500);\n",
       "            "
      ],
      "text/plain": [
       "<IPython.core.display.Javascript object>"
      ]
     },
     "metadata": {},
     "output_type": "display_data"
    }
   ],
   "source": [
    "pred_test_final2"
   ]
  },
  {
   "cell_type": "code",
   "execution_count": 188,
   "metadata": {},
   "outputs": [
    {
     "name": "stdout",
     "output_type": "stream",
     "text": [
      "Kickout + Kickin Metric: -0.052\n"
     ]
    },
    {
     "data": {
      "application/javascript": [
       "\n",
       "            setTimeout(function() {\n",
       "                var nbb_cell_id = 188;\n",
       "                var nbb_unformatted_code = \"pred_test_final2[\\\"Flag\\\"] = pred_test_final2.apply(flag_df_ssl, axis=1)\\nkickout_ssl(pred_test_final2)\";\n",
       "                var nbb_formatted_code = \"pred_test_final2[\\\"Flag\\\"] = pred_test_final2.apply(flag_df_ssl, axis=1)\\nkickout_ssl(pred_test_final2)\";\n",
       "                var nbb_cells = Jupyter.notebook.get_cells();\n",
       "                for (var i = 0; i < nbb_cells.length; ++i) {\n",
       "                    if (nbb_cells[i].input_prompt_number == nbb_cell_id) {\n",
       "                        if (nbb_cells[i].get_text() == nbb_unformatted_code) {\n",
       "                             nbb_cells[i].set_text(nbb_formatted_code);\n",
       "                        }\n",
       "                        break;\n",
       "                    }\n",
       "                }\n",
       "            }, 500);\n",
       "            "
      ],
      "text/plain": [
       "<IPython.core.display.Javascript object>"
      ]
     },
     "metadata": {},
     "output_type": "display_data"
    },
    {
     "data": {
      "application/javascript": [
       "\n",
       "            setTimeout(function() {\n",
       "                var nbb_cell_id = 188;\n",
       "                var nbb_unformatted_code = \"pred_test_final2[\\\"Flag\\\"] = pred_test_final2.apply(flag_df_ssl, axis=1)\\nkickout_ssl(pred_test_final2)\";\n",
       "                var nbb_formatted_code = \"pred_test_final2[\\\"Flag\\\"] = pred_test_final2.apply(flag_df_ssl, axis=1)\\nkickout_ssl(pred_test_final2)\";\n",
       "                var nbb_cells = Jupyter.notebook.get_cells();\n",
       "                for (var i = 0; i < nbb_cells.length; ++i) {\n",
       "                    if (nbb_cells[i].input_prompt_number == nbb_cell_id) {\n",
       "                        if (nbb_cells[i].get_text() == nbb_unformatted_code) {\n",
       "                             nbb_cells[i].set_text(nbb_formatted_code);\n",
       "                        }\n",
       "                        break;\n",
       "                    }\n",
       "                }\n",
       "            }, 500);\n",
       "            "
      ],
      "text/plain": [
       "<IPython.core.display.Javascript object>"
      ]
     },
     "metadata": {},
     "output_type": "display_data"
    }
   ],
   "source": [
    "pred_test_final2[\"Flag\"] = pred_test_final2.apply(flag_df_ssl, axis=1)\n",
    "kickout_ssl(pred_test_final2)"
   ]
  }
 ],
 "metadata": {
  "kernelspec": {
   "display_name": "Python 3",
   "language": "python",
   "name": "python3"
  },
  "language_info": {
   "codemirror_mode": {
    "name": "ipython",
    "version": 3
   },
   "file_extension": ".py",
   "mimetype": "text/x-python",
   "name": "python",
   "nbconvert_exporter": "python",
   "pygments_lexer": "ipython3",
   "version": "3.8.3"
  }
 },
 "nbformat": 4,
 "nbformat_minor": 4
}
