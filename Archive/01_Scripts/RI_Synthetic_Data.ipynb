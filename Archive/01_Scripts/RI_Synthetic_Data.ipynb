{
 "cells": [
  {
   "cell_type": "code",
   "execution_count": 1,
   "metadata": {},
   "outputs": [
    {
     "data": {
      "application/javascript": [
       "\n",
       "            setTimeout(function() {\n",
       "                var nbb_cell_id = 1;\n",
       "                var nbb_unformatted_code = \"%reload_ext nb_black\";\n",
       "                var nbb_formatted_code = \"%reload_ext nb_black\";\n",
       "                var nbb_cells = Jupyter.notebook.get_cells();\n",
       "                for (var i = 0; i < nbb_cells.length; ++i) {\n",
       "                    if (nbb_cells[i].input_prompt_number == nbb_cell_id) {\n",
       "                        if (nbb_cells[i].get_text() == nbb_unformatted_code) {\n",
       "                             nbb_cells[i].set_text(nbb_formatted_code);\n",
       "                        }\n",
       "                        break;\n",
       "                    }\n",
       "                }\n",
       "            }, 500);\n",
       "            "
      ],
      "text/plain": [
       "<IPython.core.display.Javascript object>"
      ]
     },
     "metadata": {},
     "output_type": "display_data"
    }
   ],
   "source": [
    "%reload_ext nb_black"
   ]
  },
  {
   "cell_type": "code",
   "execution_count": 2,
   "metadata": {},
   "outputs": [
    {
     "data": {
      "application/javascript": [
       "\n",
       "            setTimeout(function() {\n",
       "                var nbb_cell_id = 2;\n",
       "                var nbb_unformatted_code = \"import sys\\n\\nsys.path.insert(\\n    0,\\n    r\\\"C:\\\\Users\\\\Asus\\\\Desktop\\\\Repo\\\\MasterThesis_RI\\\\Python-Real-World-Machine-Learning\\\\Module 2\\\\Chapter 5\\\",\\n)\\n\\nimport warnings\\n\\nwarnings.filterwarnings(\\\"ignore\\\")\\n\\n# Basic Packages\\nimport pandas as pd\\nimport numpy as np\\nimport matplotlib.pyplot as plt\\n\\n# Modelling\\n# Classification\\nimport statsmodels.api as sm\\nfrom sklearn.linear_model import LogisticRegression, LinearRegression\\nfrom sklearn.ensemble import RandomForestClassifier\\nfrom sklearn.tree import DecisionTreeClassifier\\nfrom sklearn import svm\\nfrom sklearn.svm import SVC\\n\\n# Clustering\\nfrom sklearn.cluster import KMeans, AgglomerativeClustering\\n\\n# Ranking\\nimport lightgbm as lgb\\n\\n# Semi-Supervised Learning\\nfrom sklearn.semi_supervised import (\\n    LabelPropagation,\\n    LabelSpreading,\\n    SelfTrainingClassifier,\\n)\\n\\n# Model Selection\\nfrom sklearn.model_selection import train_test_split, GridSearchCV\\n\\n# Metrics\\nfrom sklearn.metrics import (\\n    f1_score,\\n    roc_auc_score,\\n    roc_curve,\\n    accuracy_score,\\n    confusion_matrix,\\n    plot_confusion_matrix,\\n)\\n\\n# Ensembling\\nfrom sklearn.ensemble import *\\n\\n# Balancing\\nfrom imblearn.over_sampling import SMOTE\\nfrom imblearn.under_sampling import RandomUnderSampler\\n\\n# Visualization\\nimport seaborn as sns\\nimport matplotlib.pyplot as plt\\n\\n# Binning\\nimport woeBinningPandas\\n\\n# Create Unique ID\\nimport uuid\";\n",
       "                var nbb_formatted_code = \"import sys\\n\\nsys.path.insert(\\n    0,\\n    r\\\"C:\\\\Users\\\\Asus\\\\Desktop\\\\Repo\\\\MasterThesis_RI\\\\Python-Real-World-Machine-Learning\\\\Module 2\\\\Chapter 5\\\",\\n)\\n\\nimport warnings\\n\\nwarnings.filterwarnings(\\\"ignore\\\")\\n\\n# Basic Packages\\nimport pandas as pd\\nimport numpy as np\\nimport matplotlib.pyplot as plt\\n\\n# Modelling\\n# Classification\\nimport statsmodels.api as sm\\nfrom sklearn.linear_model import LogisticRegression, LinearRegression\\nfrom sklearn.ensemble import RandomForestClassifier\\nfrom sklearn.tree import DecisionTreeClassifier\\nfrom sklearn import svm\\nfrom sklearn.svm import SVC\\n\\n# Clustering\\nfrom sklearn.cluster import KMeans, AgglomerativeClustering\\n\\n# Ranking\\nimport lightgbm as lgb\\n\\n# Semi-Supervised Learning\\nfrom sklearn.semi_supervised import (\\n    LabelPropagation,\\n    LabelSpreading,\\n    SelfTrainingClassifier,\\n)\\n\\n# Model Selection\\nfrom sklearn.model_selection import train_test_split, GridSearchCV\\n\\n# Metrics\\nfrom sklearn.metrics import (\\n    f1_score,\\n    roc_auc_score,\\n    roc_curve,\\n    accuracy_score,\\n    confusion_matrix,\\n    plot_confusion_matrix,\\n)\\n\\n# Ensembling\\nfrom sklearn.ensemble import *\\n\\n# Balancing\\nfrom imblearn.over_sampling import SMOTE\\nfrom imblearn.under_sampling import RandomUnderSampler\\n\\n# Visualization\\nimport seaborn as sns\\nimport matplotlib.pyplot as plt\\n\\n# Binning\\nimport woeBinningPandas\\n\\n# Create Unique ID\\nimport uuid\";\n",
       "                var nbb_cells = Jupyter.notebook.get_cells();\n",
       "                for (var i = 0; i < nbb_cells.length; ++i) {\n",
       "                    if (nbb_cells[i].input_prompt_number == nbb_cell_id) {\n",
       "                        if (nbb_cells[i].get_text() == nbb_unformatted_code) {\n",
       "                             nbb_cells[i].set_text(nbb_formatted_code);\n",
       "                        }\n",
       "                        break;\n",
       "                    }\n",
       "                }\n",
       "            }, 500);\n",
       "            "
      ],
      "text/plain": [
       "<IPython.core.display.Javascript object>"
      ]
     },
     "metadata": {},
     "output_type": "display_data"
    }
   ],
   "source": [
    "import sys\n",
    "\n",
    "sys.path.insert(\n",
    "    0,\n",
    "    r\"C:\\Users\\Asus\\Desktop\\Repo\\MasterThesis_RI\\Python-Real-World-Machine-Learning\\Module 2\\Chapter 5\",\n",
    ")\n",
    "\n",
    "import warnings\n",
    "\n",
    "warnings.filterwarnings(\"ignore\")\n",
    "\n",
    "# Basic Packages\n",
    "import pandas as pd\n",
    "import numpy as np\n",
    "import matplotlib.pyplot as plt\n",
    "\n",
    "# Modelling\n",
    "# Classification\n",
    "import statsmodels.api as sm\n",
    "from sklearn.linear_model import LogisticRegression, LinearRegression\n",
    "from sklearn.ensemble import RandomForestClassifier\n",
    "from sklearn.tree import DecisionTreeClassifier\n",
    "from sklearn import svm\n",
    "from sklearn.svm import SVC\n",
    "\n",
    "# Clustering\n",
    "from sklearn.cluster import KMeans, AgglomerativeClustering\n",
    "\n",
    "# Ranking\n",
    "import lightgbm as lgb\n",
    "\n",
    "# Semi-Supervised Learning\n",
    "from sklearn.semi_supervised import (\n",
    "    LabelPropagation,\n",
    "    LabelSpreading,\n",
    "    SelfTrainingClassifier,\n",
    ")\n",
    "\n",
    "# Model Selection\n",
    "from sklearn.model_selection import train_test_split, GridSearchCV\n",
    "\n",
    "# Metrics\n",
    "from sklearn.metrics import (\n",
    "    f1_score,\n",
    "    roc_auc_score,\n",
    "    roc_curve,\n",
    "    accuracy_score,\n",
    "    confusion_matrix,\n",
    "    plot_confusion_matrix,\n",
    ")\n",
    "\n",
    "# Ensembling\n",
    "from sklearn.ensemble import *\n",
    "\n",
    "# Balancing\n",
    "from imblearn.over_sampling import SMOTE\n",
    "from imblearn.under_sampling import RandomUnderSampler\n",
    "\n",
    "# Visualization\n",
    "import seaborn as sns\n",
    "import matplotlib.pyplot as plt\n",
    "\n",
    "# Binning\n",
    "import woeBinningPandas\n",
    "\n",
    "# Create Unique ID\n",
    "import uuid"
   ]
  },
  {
   "cell_type": "markdown",
   "metadata": {},
   "source": [
    "## Data"
   ]
  },
  {
   "cell_type": "markdown",
   "metadata": {},
   "source": [
    "### Synthetic Data"
   ]
  },
  {
   "cell_type": "code",
   "execution_count": 3,
   "metadata": {},
   "outputs": [
    {
     "data": {
      "application/javascript": [
       "\n",
       "            setTimeout(function() {\n",
       "                var nbb_cell_id = 3;\n",
       "                var nbb_unformatted_code = \"# Load data\\nmodel_ds = pd.read_csv(\\\"model_ds.csv\\\")\\n\\n# Accepted\\ndf3 = model_ds[model_ds[\\\"is_accepted\\\"] == 1]\\ndf3 = df3.drop([\\\"is_accepted\\\"], axis=1)\\ndf3 = df3.rename(columns={\\\"y\\\": \\\"target\\\"})\\ndf3[\\\"id\\\"] = df3.index.to_series().map(lambda x: uuid.uuid4())\\n# Rejected\\ndfr = model_ds[model_ds[\\\"is_accepted\\\"] == 0]\\ndfr = dfr.drop([\\\"is_accepted\\\"], axis=1)\\n\\n# Create ids for rejects\\ndfr[\\\"id\\\"] = dfr.index.to_series().map(lambda x: uuid.uuid4())\\n\\n# Train/Test Split (without labels)\\n# Shuffle the dataset\\nshuffle_df = dfr.sample(frac=1)\\n\\n# Define a size for your train set\\ntrain_size = int(0.7 * len(shuffle_df))\\n\\n# Split your dataset\\ndfr_dev3 = shuffle_df[:train_size]\\ndfr_test3 = shuffle_df[train_size:]\\n\\n# Drop y\\ndfr_dev2 = dfr_dev3\\ndfr_test2 = dfr_test3\\ndfr_dev3 = dfr_dev3.drop([\\\"y\\\"], axis=1)\\ndfr_test3 = dfr_test3.drop([\\\"y\\\"], axis=1)\";\n",
       "                var nbb_formatted_code = \"# Load data\\nmodel_ds = pd.read_csv(\\\"model_ds.csv\\\")\\n\\n# Accepted\\ndf3 = model_ds[model_ds[\\\"is_accepted\\\"] == 1]\\ndf3 = df3.drop([\\\"is_accepted\\\"], axis=1)\\ndf3 = df3.rename(columns={\\\"y\\\": \\\"target\\\"})\\ndf3[\\\"id\\\"] = df3.index.to_series().map(lambda x: uuid.uuid4())\\n# Rejected\\ndfr = model_ds[model_ds[\\\"is_accepted\\\"] == 0]\\ndfr = dfr.drop([\\\"is_accepted\\\"], axis=1)\\n\\n# Create ids for rejects\\ndfr[\\\"id\\\"] = dfr.index.to_series().map(lambda x: uuid.uuid4())\\n\\n# Train/Test Split (without labels)\\n# Shuffle the dataset\\nshuffle_df = dfr.sample(frac=1)\\n\\n# Define a size for your train set\\ntrain_size = int(0.7 * len(shuffle_df))\\n\\n# Split your dataset\\ndfr_dev3 = shuffle_df[:train_size]\\ndfr_test3 = shuffle_df[train_size:]\\n\\n# Drop y\\ndfr_dev2 = dfr_dev3\\ndfr_test2 = dfr_test3\\ndfr_dev3 = dfr_dev3.drop([\\\"y\\\"], axis=1)\\ndfr_test3 = dfr_test3.drop([\\\"y\\\"], axis=1)\";\n",
       "                var nbb_cells = Jupyter.notebook.get_cells();\n",
       "                for (var i = 0; i < nbb_cells.length; ++i) {\n",
       "                    if (nbb_cells[i].input_prompt_number == nbb_cell_id) {\n",
       "                        if (nbb_cells[i].get_text() == nbb_unformatted_code) {\n",
       "                             nbb_cells[i].set_text(nbb_formatted_code);\n",
       "                        }\n",
       "                        break;\n",
       "                    }\n",
       "                }\n",
       "            }, 500);\n",
       "            "
      ],
      "text/plain": [
       "<IPython.core.display.Javascript object>"
      ]
     },
     "metadata": {},
     "output_type": "display_data"
    }
   ],
   "source": [
    "# Load data\n",
    "model_ds = pd.read_csv(\"model_ds.csv\")\n",
    "\n",
    "# Accepted\n",
    "df3 = model_ds[model_ds[\"is_accepted\"] == 1]\n",
    "df3 = df3.drop([\"is_accepted\"], axis=1)\n",
    "df3 = df3.rename(columns={\"y\": \"target\"})\n",
    "df3[\"id\"] = df3.index.to_series().map(lambda x: uuid.uuid4())\n",
    "# Rejected\n",
    "dfr = model_ds[model_ds[\"is_accepted\"] == 0]\n",
    "dfr = dfr.drop([\"is_accepted\"], axis=1)\n",
    "\n",
    "# Create ids for rejects\n",
    "dfr[\"id\"] = dfr.index.to_series().map(lambda x: uuid.uuid4())\n",
    "\n",
    "# Train/Test Split (without labels)\n",
    "# Shuffle the dataset\n",
    "shuffle_df = dfr.sample(frac=1)\n",
    "\n",
    "# Define a size for your train set\n",
    "train_size = int(0.7 * len(shuffle_df))\n",
    "\n",
    "# Split your dataset\n",
    "dfr_dev3 = shuffle_df[:train_size]\n",
    "dfr_test3 = shuffle_df[train_size:]\n",
    "\n",
    "# Drop y\n",
    "dfr_dev2 = dfr_dev3\n",
    "dfr_test2 = dfr_test3\n",
    "dfr_dev3 = dfr_dev3.drop([\"y\"], axis=1)\n",
    "dfr_test3 = dfr_test3.drop([\"y\"], axis=1)"
   ]
  },
  {
   "cell_type": "code",
   "execution_count": 4,
   "metadata": {},
   "outputs": [
    {
     "name": "stdout",
     "output_type": "stream",
     "text": [
      "(7000, 11)\n",
      "(3000, 11)\n",
      "(2100, 10)\n",
      "(900, 10)\n"
     ]
    },
    {
     "data": {
      "application/javascript": [
       "\n",
       "            setTimeout(function() {\n",
       "                var nbb_cell_id = 4;\n",
       "                var nbb_unformatted_code = \"print(df3.shape)  # accepted\\nprint(dfr.shape)  # rejected\\nprint(dfr_dev3.shape)  # rejected train\\nprint(dfr_test3.shape)  # rejected test\";\n",
       "                var nbb_formatted_code = \"print(df3.shape)  # accepted\\nprint(dfr.shape)  # rejected\\nprint(dfr_dev3.shape)  # rejected train\\nprint(dfr_test3.shape)  # rejected test\";\n",
       "                var nbb_cells = Jupyter.notebook.get_cells();\n",
       "                for (var i = 0; i < nbb_cells.length; ++i) {\n",
       "                    if (nbb_cells[i].input_prompt_number == nbb_cell_id) {\n",
       "                        if (nbb_cells[i].get_text() == nbb_unformatted_code) {\n",
       "                             nbb_cells[i].set_text(nbb_formatted_code);\n",
       "                        }\n",
       "                        break;\n",
       "                    }\n",
       "                }\n",
       "            }, 500);\n",
       "            "
      ],
      "text/plain": [
       "<IPython.core.display.Javascript object>"
      ]
     },
     "metadata": {},
     "output_type": "display_data"
    }
   ],
   "source": [
    "print(df3.shape)  # accepted\n",
    "print(dfr.shape)  # rejected\n",
    "print(dfr_dev3.shape)  # rejected train\n",
    "print(dfr_test3.shape)  # rejected test"
   ]
  },
  {
   "cell_type": "code",
   "execution_count": 5,
   "metadata": {},
   "outputs": [
    {
     "data": {
      "application/javascript": [
       "\n",
       "            setTimeout(function() {\n",
       "                var nbb_cell_id = 5;\n",
       "                var nbb_unformatted_code = \"dfr_test2 = dfr_test2[\\n    [\\n        \\\"id\\\",\\n        \\\"known_col_0\\\",\\n        \\\"known_col_1\\\",\\n        \\\"known_col_2\\\",\\n        \\\"known_col_3\\\",\\n        \\\"known_col_4\\\",\\n        \\\"known_col_5\\\",\\n        \\\"known_col_6\\\",\\n        \\\"known_col_7\\\",\\n        \\\"known_col_8\\\",\\n    ]\\n]\";\n",
       "                var nbb_formatted_code = \"dfr_test2 = dfr_test2[\\n    [\\n        \\\"id\\\",\\n        \\\"known_col_0\\\",\\n        \\\"known_col_1\\\",\\n        \\\"known_col_2\\\",\\n        \\\"known_col_3\\\",\\n        \\\"known_col_4\\\",\\n        \\\"known_col_5\\\",\\n        \\\"known_col_6\\\",\\n        \\\"known_col_7\\\",\\n        \\\"known_col_8\\\",\\n    ]\\n]\";\n",
       "                var nbb_cells = Jupyter.notebook.get_cells();\n",
       "                for (var i = 0; i < nbb_cells.length; ++i) {\n",
       "                    if (nbb_cells[i].input_prompt_number == nbb_cell_id) {\n",
       "                        if (nbb_cells[i].get_text() == nbb_unformatted_code) {\n",
       "                             nbb_cells[i].set_text(nbb_formatted_code);\n",
       "                        }\n",
       "                        break;\n",
       "                    }\n",
       "                }\n",
       "            }, 500);\n",
       "            "
      ],
      "text/plain": [
       "<IPython.core.display.Javascript object>"
      ]
     },
     "metadata": {},
     "output_type": "display_data"
    }
   ],
   "source": [
    "dfr_test2 = dfr_test2[\n",
    "    [\n",
    "        \"id\",\n",
    "        \"known_col_0\",\n",
    "        \"known_col_1\",\n",
    "        \"known_col_2\",\n",
    "        \"known_col_3\",\n",
    "        \"known_col_4\",\n",
    "        \"known_col_5\",\n",
    "        \"known_col_6\",\n",
    "        \"known_col_7\",\n",
    "        \"known_col_8\",\n",
    "    ]\n",
    "]"
   ]
  },
  {
   "cell_type": "code",
   "execution_count": 6,
   "metadata": {},
   "outputs": [
    {
     "data": {
      "application/javascript": [
       "\n",
       "            setTimeout(function() {\n",
       "                var nbb_cell_id = 6;\n",
       "                var nbb_unformatted_code = \"dfr_dev2 = dfr_dev2[\\n    [\\n        \\\"id\\\",\\n        \\\"known_col_0\\\",\\n        \\\"known_col_1\\\",\\n        \\\"known_col_2\\\",\\n        \\\"known_col_3\\\",\\n        \\\"known_col_4\\\",\\n        \\\"known_col_5\\\",\\n        \\\"known_col_6\\\",\\n        \\\"known_col_7\\\",\\n        \\\"known_col_8\\\",\\n    ]\\n]\";\n",
       "                var nbb_formatted_code = \"dfr_dev2 = dfr_dev2[\\n    [\\n        \\\"id\\\",\\n        \\\"known_col_0\\\",\\n        \\\"known_col_1\\\",\\n        \\\"known_col_2\\\",\\n        \\\"known_col_3\\\",\\n        \\\"known_col_4\\\",\\n        \\\"known_col_5\\\",\\n        \\\"known_col_6\\\",\\n        \\\"known_col_7\\\",\\n        \\\"known_col_8\\\",\\n    ]\\n]\";\n",
       "                var nbb_cells = Jupyter.notebook.get_cells();\n",
       "                for (var i = 0; i < nbb_cells.length; ++i) {\n",
       "                    if (nbb_cells[i].input_prompt_number == nbb_cell_id) {\n",
       "                        if (nbb_cells[i].get_text() == nbb_unformatted_code) {\n",
       "                             nbb_cells[i].set_text(nbb_formatted_code);\n",
       "                        }\n",
       "                        break;\n",
       "                    }\n",
       "                }\n",
       "            }, 500);\n",
       "            "
      ],
      "text/plain": [
       "<IPython.core.display.Javascript object>"
      ]
     },
     "metadata": {},
     "output_type": "display_data"
    }
   ],
   "source": [
    "dfr_dev2 = dfr_dev2[\n",
    "    [\n",
    "        \"id\",\n",
    "        \"known_col_0\",\n",
    "        \"known_col_1\",\n",
    "        \"known_col_2\",\n",
    "        \"known_col_3\",\n",
    "        \"known_col_4\",\n",
    "        \"known_col_5\",\n",
    "        \"known_col_6\",\n",
    "        \"known_col_7\",\n",
    "        \"known_col_8\",\n",
    "    ]\n",
    "]"
   ]
  },
  {
   "cell_type": "code",
   "execution_count": 7,
   "metadata": {},
   "outputs": [
    {
     "data": {
      "application/javascript": [
       "\n",
       "            setTimeout(function() {\n",
       "                var nbb_cell_id = 7;\n",
       "                var nbb_unformatted_code = \"dfr_dev3 = dfr_dev3[\\n    [\\n        \\\"known_col_0\\\",\\n        \\\"known_col_1\\\",\\n        \\\"known_col_2\\\",\\n        \\\"known_col_3\\\",\\n        \\\"known_col_4\\\",\\n        \\\"known_col_5\\\",\\n        \\\"known_col_6\\\",\\n        \\\"known_col_7\\\",\\n        \\\"known_col_8\\\",\\n    ]\\n]\";\n",
       "                var nbb_formatted_code = \"dfr_dev3 = dfr_dev3[\\n    [\\n        \\\"known_col_0\\\",\\n        \\\"known_col_1\\\",\\n        \\\"known_col_2\\\",\\n        \\\"known_col_3\\\",\\n        \\\"known_col_4\\\",\\n        \\\"known_col_5\\\",\\n        \\\"known_col_6\\\",\\n        \\\"known_col_7\\\",\\n        \\\"known_col_8\\\",\\n    ]\\n]\";\n",
       "                var nbb_cells = Jupyter.notebook.get_cells();\n",
       "                for (var i = 0; i < nbb_cells.length; ++i) {\n",
       "                    if (nbb_cells[i].input_prompt_number == nbb_cell_id) {\n",
       "                        if (nbb_cells[i].get_text() == nbb_unformatted_code) {\n",
       "                             nbb_cells[i].set_text(nbb_formatted_code);\n",
       "                        }\n",
       "                        break;\n",
       "                    }\n",
       "                }\n",
       "            }, 500);\n",
       "            "
      ],
      "text/plain": [
       "<IPython.core.display.Javascript object>"
      ]
     },
     "metadata": {},
     "output_type": "display_data"
    }
   ],
   "source": [
    "dfr_dev3 = dfr_dev3[\n",
    "    [\n",
    "        \"known_col_0\",\n",
    "        \"known_col_1\",\n",
    "        \"known_col_2\",\n",
    "        \"known_col_3\",\n",
    "        \"known_col_4\",\n",
    "        \"known_col_5\",\n",
    "        \"known_col_6\",\n",
    "        \"known_col_7\",\n",
    "        \"known_col_8\",\n",
    "    ]\n",
    "]"
   ]
  },
  {
   "cell_type": "code",
   "execution_count": 8,
   "metadata": {},
   "outputs": [
    {
     "data": {
      "application/javascript": [
       "\n",
       "            setTimeout(function() {\n",
       "                var nbb_cell_id = 8;\n",
       "                var nbb_unformatted_code = \"dfr_test3 = dfr_test3[\\n    [\\n        \\\"known_col_0\\\",\\n        \\\"known_col_1\\\",\\n        \\\"known_col_2\\\",\\n        \\\"known_col_3\\\",\\n        \\\"known_col_4\\\",\\n        \\\"known_col_5\\\",\\n        \\\"known_col_6\\\",\\n        \\\"known_col_7\\\",\\n        \\\"known_col_8\\\",\\n    ]\\n]\";\n",
       "                var nbb_formatted_code = \"dfr_test3 = dfr_test3[\\n    [\\n        \\\"known_col_0\\\",\\n        \\\"known_col_1\\\",\\n        \\\"known_col_2\\\",\\n        \\\"known_col_3\\\",\\n        \\\"known_col_4\\\",\\n        \\\"known_col_5\\\",\\n        \\\"known_col_6\\\",\\n        \\\"known_col_7\\\",\\n        \\\"known_col_8\\\",\\n    ]\\n]\";\n",
       "                var nbb_cells = Jupyter.notebook.get_cells();\n",
       "                for (var i = 0; i < nbb_cells.length; ++i) {\n",
       "                    if (nbb_cells[i].input_prompt_number == nbb_cell_id) {\n",
       "                        if (nbb_cells[i].get_text() == nbb_unformatted_code) {\n",
       "                             nbb_cells[i].set_text(nbb_formatted_code);\n",
       "                        }\n",
       "                        break;\n",
       "                    }\n",
       "                }\n",
       "            }, 500);\n",
       "            "
      ],
      "text/plain": [
       "<IPython.core.display.Javascript object>"
      ]
     },
     "metadata": {},
     "output_type": "display_data"
    }
   ],
   "source": [
    "dfr_test3 = dfr_test3[\n",
    "    [\n",
    "        \"known_col_0\",\n",
    "        \"known_col_1\",\n",
    "        \"known_col_2\",\n",
    "        \"known_col_3\",\n",
    "        \"known_col_4\",\n",
    "        \"known_col_5\",\n",
    "        \"known_col_6\",\n",
    "        \"known_col_7\",\n",
    "        \"known_col_8\",\n",
    "    ]\n",
    "]"
   ]
  },
  {
   "cell_type": "markdown",
   "metadata": {},
   "source": [
    "### FOR SYNTHETIC DATA"
   ]
  },
  {
   "cell_type": "code",
   "execution_count": 9,
   "metadata": {},
   "outputs": [
    {
     "data": {
      "application/javascript": [
       "\n",
       "            setTimeout(function() {\n",
       "                var nbb_cell_id = 9;\n",
       "                var nbb_unformatted_code = \"# Create X and y\\nX = df3.loc[:, df3.columns != \\\"target\\\"]\\ny = df3.loc[:, df3.columns == \\\"target\\\"]\\n\\n# Train Test Split and Balance data\\nos = RandomUnderSampler(sampling_strategy=0.5, random_state=7)\\nX_train, X_test, y_train, y_test = train_test_split(X, y, test_size=0.3, random_state=7)\\ncolumns = X_train.columns\\n\\n# Train\\nos_data_X, os_data_y = os.fit_sample(X_train, y_train)\\nos_data_X = pd.DataFrame(data=os_data_X, columns=columns)\\nos_data_y = pd.DataFrame(data=os_data_y, columns=[\\\"target\\\"])\\n\\n# Match names with Lending Club Data\\nos_data_X_2 = os_data_X\\nX_test_2 = X_test\";\n",
       "                var nbb_formatted_code = \"# Create X and y\\nX = df3.loc[:, df3.columns != \\\"target\\\"]\\ny = df3.loc[:, df3.columns == \\\"target\\\"]\\n\\n# Train Test Split and Balance data\\nos = RandomUnderSampler(sampling_strategy=0.5, random_state=7)\\nX_train, X_test, y_train, y_test = train_test_split(X, y, test_size=0.3, random_state=7)\\ncolumns = X_train.columns\\n\\n# Train\\nos_data_X, os_data_y = os.fit_sample(X_train, y_train)\\nos_data_X = pd.DataFrame(data=os_data_X, columns=columns)\\nos_data_y = pd.DataFrame(data=os_data_y, columns=[\\\"target\\\"])\\n\\n# Match names with Lending Club Data\\nos_data_X_2 = os_data_X\\nX_test_2 = X_test\";\n",
       "                var nbb_cells = Jupyter.notebook.get_cells();\n",
       "                for (var i = 0; i < nbb_cells.length; ++i) {\n",
       "                    if (nbb_cells[i].input_prompt_number == nbb_cell_id) {\n",
       "                        if (nbb_cells[i].get_text() == nbb_unformatted_code) {\n",
       "                             nbb_cells[i].set_text(nbb_formatted_code);\n",
       "                        }\n",
       "                        break;\n",
       "                    }\n",
       "                }\n",
       "            }, 500);\n",
       "            "
      ],
      "text/plain": [
       "<IPython.core.display.Javascript object>"
      ]
     },
     "metadata": {},
     "output_type": "display_data"
    }
   ],
   "source": [
    "# Create X and y\n",
    "X = df3.loc[:, df3.columns != \"target\"]\n",
    "y = df3.loc[:, df3.columns == \"target\"]\n",
    "\n",
    "# Train Test Split and Balance data\n",
    "os = RandomUnderSampler(sampling_strategy=0.5, random_state=7)\n",
    "X_train, X_test, y_train, y_test = train_test_split(X, y, test_size=0.3, random_state=7)\n",
    "columns = X_train.columns\n",
    "\n",
    "# Train\n",
    "os_data_X, os_data_y = os.fit_sample(X_train, y_train)\n",
    "os_data_X = pd.DataFrame(data=os_data_X, columns=columns)\n",
    "os_data_y = pd.DataFrame(data=os_data_y, columns=[\"target\"])\n",
    "\n",
    "# Match names with Lending Club Data\n",
    "os_data_X_2 = os_data_X\n",
    "X_test_2 = X_test"
   ]
  },
  {
   "cell_type": "code",
   "execution_count": 10,
   "metadata": {},
   "outputs": [
    {
     "name": "stdout",
     "output_type": "stream",
     "text": [
      "(7000, 10)\n",
      "(4900, 10)\n",
      "(2100, 10)\n",
      "(639, 10)\n",
      "(2100, 10)\n"
     ]
    },
    {
     "data": {
      "application/javascript": [
       "\n",
       "            setTimeout(function() {\n",
       "                var nbb_cell_id = 10;\n",
       "                var nbb_unformatted_code = \"print(X.shape)\\nprint(X_train.shape)\\nprint(X_test.shape)\\nprint(os_data_X_2.shape)\\nprint(X_test_2.shape)\";\n",
       "                var nbb_formatted_code = \"print(X.shape)\\nprint(X_train.shape)\\nprint(X_test.shape)\\nprint(os_data_X_2.shape)\\nprint(X_test_2.shape)\";\n",
       "                var nbb_cells = Jupyter.notebook.get_cells();\n",
       "                for (var i = 0; i < nbb_cells.length; ++i) {\n",
       "                    if (nbb_cells[i].input_prompt_number == nbb_cell_id) {\n",
       "                        if (nbb_cells[i].get_text() == nbb_unformatted_code) {\n",
       "                             nbb_cells[i].set_text(nbb_formatted_code);\n",
       "                        }\n",
       "                        break;\n",
       "                    }\n",
       "                }\n",
       "            }, 500);\n",
       "            "
      ],
      "text/plain": [
       "<IPython.core.display.Javascript object>"
      ]
     },
     "metadata": {},
     "output_type": "display_data"
    }
   ],
   "source": [
    "print(X.shape)\n",
    "print(X_train.shape)\n",
    "print(X_test.shape)\n",
    "print(os_data_X_2.shape)\n",
    "print(X_test_2.shape)"
   ]
  },
  {
   "cell_type": "code",
   "execution_count": 11,
   "metadata": {},
   "outputs": [
    {
     "data": {
      "application/javascript": [
       "\n",
       "            setTimeout(function() {\n",
       "                var nbb_cell_id = 11;\n",
       "                var nbb_unformatted_code = \"os_data_X_2 = os_data_X[\\n    [\\n        \\\"known_col_0\\\",\\n        \\\"known_col_1\\\",\\n        \\\"known_col_3\\\",\\n        \\\"known_col_4\\\",\\n    ]\\n]\\nX_test_2 = X_test[\\n    [\\n        \\\"known_col_0\\\",\\n        \\\"known_col_1\\\",\\n        \\\"known_col_3\\\",\\n        \\\"known_col_4\\\",\\n    ]\\n]\";\n",
       "                var nbb_formatted_code = \"os_data_X_2 = os_data_X[\\n    [\\n        \\\"known_col_0\\\",\\n        \\\"known_col_1\\\",\\n        \\\"known_col_3\\\",\\n        \\\"known_col_4\\\",\\n    ]\\n]\\nX_test_2 = X_test[\\n    [\\n        \\\"known_col_0\\\",\\n        \\\"known_col_1\\\",\\n        \\\"known_col_3\\\",\\n        \\\"known_col_4\\\",\\n    ]\\n]\";\n",
       "                var nbb_cells = Jupyter.notebook.get_cells();\n",
       "                for (var i = 0; i < nbb_cells.length; ++i) {\n",
       "                    if (nbb_cells[i].input_prompt_number == nbb_cell_id) {\n",
       "                        if (nbb_cells[i].get_text() == nbb_unformatted_code) {\n",
       "                             nbb_cells[i].set_text(nbb_formatted_code);\n",
       "                        }\n",
       "                        break;\n",
       "                    }\n",
       "                }\n",
       "            }, 500);\n",
       "            "
      ],
      "text/plain": [
       "<IPython.core.display.Javascript object>"
      ]
     },
     "metadata": {},
     "output_type": "display_data"
    }
   ],
   "source": [
    "os_data_X_2 = os_data_X[\n",
    "    [\n",
    "        \"known_col_0\",\n",
    "        \"known_col_1\",\n",
    "        \"known_col_3\",\n",
    "        \"known_col_4\",\n",
    "    ]\n",
    "]\n",
    "X_test_2 = X_test[\n",
    "    [\n",
    "        \"known_col_0\",\n",
    "        \"known_col_1\",\n",
    "        \"known_col_3\",\n",
    "        \"known_col_4\",\n",
    "    ]\n",
    "]\n"
   ]
  },
  {
   "cell_type": "code",
   "execution_count": 12,
   "metadata": {},
   "outputs": [
    {
     "data": {
      "application/javascript": [
       "\n",
       "            setTimeout(function() {\n",
       "                var nbb_cell_id = 12;\n",
       "                var nbb_unformatted_code = \"dfr_dev3 = dfr_dev3[\\n    [\\n        \\\"known_col_0\\\",\\n        \\\"known_col_1\\\",\\n        \\\"known_col_3\\\",\\n        \\\"known_col_4\\\",\\n    ]\\n]\\ndfr_test3 = dfr_test3[\\n    [\\n        \\\"known_col_0\\\",\\n        \\\"known_col_1\\\",\\n        \\\"known_col_3\\\",\\n        \\\"known_col_4\\\",\\n    ]\\n]\";\n",
       "                var nbb_formatted_code = \"dfr_dev3 = dfr_dev3[\\n    [\\n        \\\"known_col_0\\\",\\n        \\\"known_col_1\\\",\\n        \\\"known_col_3\\\",\\n        \\\"known_col_4\\\",\\n    ]\\n]\\ndfr_test3 = dfr_test3[\\n    [\\n        \\\"known_col_0\\\",\\n        \\\"known_col_1\\\",\\n        \\\"known_col_3\\\",\\n        \\\"known_col_4\\\",\\n    ]\\n]\";\n",
       "                var nbb_cells = Jupyter.notebook.get_cells();\n",
       "                for (var i = 0; i < nbb_cells.length; ++i) {\n",
       "                    if (nbb_cells[i].input_prompt_number == nbb_cell_id) {\n",
       "                        if (nbb_cells[i].get_text() == nbb_unformatted_code) {\n",
       "                             nbb_cells[i].set_text(nbb_formatted_code);\n",
       "                        }\n",
       "                        break;\n",
       "                    }\n",
       "                }\n",
       "            }, 500);\n",
       "            "
      ],
      "text/plain": [
       "<IPython.core.display.Javascript object>"
      ]
     },
     "metadata": {},
     "output_type": "display_data"
    }
   ],
   "source": [
    "dfr_dev3 = dfr_dev3[\n",
    "    [\n",
    "        \"known_col_0\",\n",
    "        \"known_col_1\",\n",
    "        \"known_col_3\",\n",
    "        \"known_col_4\",\n",
    "    ]\n",
    "]\n",
    "dfr_test3 = dfr_test3[\n",
    "    [\n",
    "        \"known_col_0\",\n",
    "        \"known_col_1\",\n",
    "        \"known_col_3\",\n",
    "        \"known_col_4\",\n",
    "    ]\n",
    "]"
   ]
  },
  {
   "cell_type": "code",
   "execution_count": 13,
   "metadata": {
    "scrolled": false
   },
   "outputs": [
    {
     "name": "stdout",
     "output_type": "stream",
     "text": [
      "Optimization terminated successfully.\n",
      "         Current function value: 0.408557\n",
      "         Iterations 7\n",
      "                         Results: Logit\n",
      "=================================================================\n",
      "Model:              Logit            Pseudo R-squared: 0.358     \n",
      "Dependent Variable: target           AIC:              532.1362  \n",
      "Date:               2021-01-13 18:55 BIC:              554.4357  \n",
      "No. Observations:   639              Log-Likelihood:   -261.07   \n",
      "Df Model:           4                LL-Null:          -406.73   \n",
      "Df Residuals:       634              LLR p-value:      8.0363e-62\n",
      "Converged:          1.0000           Scale:            1.0000    \n",
      "No. Iterations:     7.0000                                       \n",
      "------------------------------------------------------------------\n",
      "              Coef.   Std.Err.     z      P>|z|    [0.025   0.975]\n",
      "------------------------------------------------------------------\n",
      "const        -2.0519    0.1867  -10.9880  0.0000  -2.4179  -1.6859\n",
      "known_col_0  -0.2875    0.1076   -2.6708  0.0076  -0.4985  -0.0765\n",
      "known_col_1   1.8097    0.1521   11.9016  0.0000   1.5117   2.1078\n",
      "known_col_3  -0.5687    0.1210   -4.6997  0.0000  -0.8058  -0.3315\n",
      "known_col_4   0.2995    0.1445    2.0730  0.0382   0.0163   0.5827\n",
      "=================================================================\n",
      "\n"
     ]
    },
    {
     "data": {
      "application/javascript": [
       "\n",
       "            setTimeout(function() {\n",
       "                var nbb_cell_id = 13;\n",
       "                var nbb_unformatted_code = \"# Build Logistic regression\\n# Statmodels\\nX_in = sm.add_constant(os_data_X_2.astype(float))\\nlogit_model = sm.Logit(os_data_y, X_in)\\nresult3 = logit_model.fit()\\nprint(result3.summary2())\";\n",
       "                var nbb_formatted_code = \"# Build Logistic regression\\n# Statmodels\\nX_in = sm.add_constant(os_data_X_2.astype(float))\\nlogit_model = sm.Logit(os_data_y, X_in)\\nresult3 = logit_model.fit()\\nprint(result3.summary2())\";\n",
       "                var nbb_cells = Jupyter.notebook.get_cells();\n",
       "                for (var i = 0; i < nbb_cells.length; ++i) {\n",
       "                    if (nbb_cells[i].input_prompt_number == nbb_cell_id) {\n",
       "                        if (nbb_cells[i].get_text() == nbb_unformatted_code) {\n",
       "                             nbb_cells[i].set_text(nbb_formatted_code);\n",
       "                        }\n",
       "                        break;\n",
       "                    }\n",
       "                }\n",
       "            }, 500);\n",
       "            "
      ],
      "text/plain": [
       "<IPython.core.display.Javascript object>"
      ]
     },
     "metadata": {},
     "output_type": "display_data"
    }
   ],
   "source": [
    "# Build Logistic regression\n",
    "# Statmodels\n",
    "X_in = sm.add_constant(os_data_X_2.astype(float))\n",
    "logit_model = sm.Logit(os_data_y, X_in)\n",
    "result3 = logit_model.fit()\n",
    "print(result3.summary2())"
   ]
  },
  {
   "cell_type": "code",
   "execution_count": 14,
   "metadata": {},
   "outputs": [
    {
     "name": "stdout",
     "output_type": "stream",
     "text": [
      "Accuracy score Logistic Regression: 0.8928571428571429\n"
     ]
    },
    {
     "data": {
      "image/png": "[encoded data removed]",
      "text/plain": [
       "<Figure size 432x288 with 1 Axes>"
      ]
     },
     "metadata": {
      "needs_background": "light"
     },
     "output_type": "display_data"
    },
    {
     "data": {
      "application/javascript": [
       "\n",
       "            setTimeout(function() {\n",
       "                var nbb_cell_id = 14;\n",
       "                var nbb_unformatted_code = \"# Sklearn\\nlogreg = LogisticRegression(fit_intercept=True, penalty=\\\"none\\\")\\nlogreg.fit(os_data_X_2, os_data_y.values.ravel())\\ny_pred = logreg.predict(X_test_2)\\nprint(\\\"Accuracy score Logistic Regression:\\\", logreg.score(X_test_2, y_test))\\nlogit_roc_auc = roc_auc_score(y_test, logreg.predict(X_test_2))\\nfpr, tpr, thresholds = roc_curve(y_test, logreg.predict_proba(X_test_2)[:, 1])\\nplt.figure()\\nplt.plot(fpr, tpr, label=\\\"Logistic Regression (area = %0.2f)\\\" % logit_roc_auc)\\nplt.plot([0, 1], [0, 1], \\\"r--\\\")\\nplt.xlim([0.0, 1.0])\\nplt.ylim([0.0, 1.05])\\nplt.xlabel(\\\"False Positive Rate\\\")\\nplt.ylabel(\\\"True Positive Rate\\\")\\nplt.title(\\\"Receiver operating characteristic\\\")\\nplt.legend(loc=\\\"lower right\\\")\\nplt.savefig(\\\"Log_ROC\\\")\\nplt.show()\";\n",
       "                var nbb_formatted_code = \"# Sklearn\\nlogreg = LogisticRegression(fit_intercept=True, penalty=\\\"none\\\")\\nlogreg.fit(os_data_X_2, os_data_y.values.ravel())\\ny_pred = logreg.predict(X_test_2)\\nprint(\\\"Accuracy score Logistic Regression:\\\", logreg.score(X_test_2, y_test))\\nlogit_roc_auc = roc_auc_score(y_test, logreg.predict(X_test_2))\\nfpr, tpr, thresholds = roc_curve(y_test, logreg.predict_proba(X_test_2)[:, 1])\\nplt.figure()\\nplt.plot(fpr, tpr, label=\\\"Logistic Regression (area = %0.2f)\\\" % logit_roc_auc)\\nplt.plot([0, 1], [0, 1], \\\"r--\\\")\\nplt.xlim([0.0, 1.0])\\nplt.ylim([0.0, 1.05])\\nplt.xlabel(\\\"False Positive Rate\\\")\\nplt.ylabel(\\\"True Positive Rate\\\")\\nplt.title(\\\"Receiver operating characteristic\\\")\\nplt.legend(loc=\\\"lower right\\\")\\nplt.savefig(\\\"Log_ROC\\\")\\nplt.show()\";\n",
       "                var nbb_cells = Jupyter.notebook.get_cells();\n",
       "                for (var i = 0; i < nbb_cells.length; ++i) {\n",
       "                    if (nbb_cells[i].input_prompt_number == nbb_cell_id) {\n",
       "                        if (nbb_cells[i].get_text() == nbb_unformatted_code) {\n",
       "                             nbb_cells[i].set_text(nbb_formatted_code);\n",
       "                        }\n",
       "                        break;\n",
       "                    }\n",
       "                }\n",
       "            }, 500);\n",
       "            "
      ],
      "text/plain": [
       "<IPython.core.display.Javascript object>"
      ]
     },
     "metadata": {},
     "output_type": "display_data"
    }
   ],
   "source": [
    "# Sklearn\n",
    "logreg = LogisticRegression(fit_intercept=True, penalty=\"none\")\n",
    "logreg.fit(os_data_X_2, os_data_y.values.ravel())\n",
    "y_pred = logreg.predict(X_test_2)\n",
    "print(\"Accuracy score Logistic Regression:\", logreg.score(X_test_2, y_test))\n",
    "logit_roc_auc = roc_auc_score(y_test, logreg.predict(X_test_2))\n",
    "fpr, tpr, thresholds = roc_curve(y_test, logreg.predict_proba(X_test_2)[:, 1])\n",
    "plt.figure()\n",
    "plt.plot(fpr, tpr, label=\"Logistic Regression (area = %0.2f)\" % logit_roc_auc)\n",
    "plt.plot([0, 1], [0, 1], \"r--\")\n",
    "plt.xlim([0.0, 1.0])\n",
    "plt.ylim([0.0, 1.05])\n",
    "plt.xlabel(\"False Positive Rate\")\n",
    "plt.ylabel(\"True Positive Rate\")\n",
    "plt.title(\"Receiver operating characteristic\")\n",
    "plt.legend(loc=\"lower right\")\n",
    "plt.savefig(\"Log_ROC\")\n",
    "plt.show()"
   ]
  },
  {
   "cell_type": "code",
   "execution_count": 15,
   "metadata": {},
   "outputs": [
    {
     "data": {
      "application/javascript": [
       "\n",
       "            setTimeout(function() {\n",
       "                var nbb_cell_id = 15;\n",
       "                var nbb_unformatted_code = \"#Test set with labels\\ntest_labels = pd.merge(\\n    y_test,\\n    X_test,\\n    how=\\\"inner\\\",\\n    left_index=True,\\n    right_index=True,\\n)\";\n",
       "                var nbb_formatted_code = \"# Test set with labels\\ntest_labels = pd.merge(\\n    y_test,\\n    X_test,\\n    how=\\\"inner\\\",\\n    left_index=True,\\n    right_index=True,\\n)\";\n",
       "                var nbb_cells = Jupyter.notebook.get_cells();\n",
       "                for (var i = 0; i < nbb_cells.length; ++i) {\n",
       "                    if (nbb_cells[i].input_prompt_number == nbb_cell_id) {\n",
       "                        if (nbb_cells[i].get_text() == nbb_unformatted_code) {\n",
       "                             nbb_cells[i].set_text(nbb_formatted_code);\n",
       "                        }\n",
       "                        break;\n",
       "                    }\n",
       "                }\n",
       "            }, 500);\n",
       "            "
      ],
      "text/plain": [
       "<IPython.core.display.Javascript object>"
      ]
     },
     "metadata": {},
     "output_type": "display_data"
    }
   ],
   "source": [
    "#Test set with labels\n",
    "test_labels = pd.merge(\n",
    "    y_test,\n",
    "    X_test,\n",
    "    how=\"inner\",\n",
    "    left_index=True,\n",
    "    right_index=True,\n",
    ")\n"
   ]
  },
  {
   "cell_type": "code",
   "execution_count": 16,
   "metadata": {},
   "outputs": [
    {
     "data": {
      "text/html": [
       "<div>\n",
       "<style scoped>\n",
       "    .dataframe tbody tr th:only-of-type {\n",
       "        vertical-align: middle;\n",
       "    }\n",
       "\n",
       "    .dataframe tbody tr th {\n",
       "        vertical-align: top;\n",
       "    }\n",
       "\n",
       "    .dataframe thead th {\n",
       "        text-align: right;\n",
       "    }\n",
       "</style>\n",
       "<table border=\"1\" class=\"dataframe\">\n",
       "  <thead>\n",
       "    <tr style=\"text-align: right;\">\n",
       "      <th></th>\n",
       "      <th>prediction</th>\n",
       "      <th>count</th>\n",
       "    </tr>\n",
       "  </thead>\n",
       "  <tbody>\n",
       "    <tr>\n",
       "      <th>count</th>\n",
       "      <td>2100.000000</td>\n",
       "      <td>2100.0</td>\n",
       "    </tr>\n",
       "    <tr>\n",
       "      <th>mean</th>\n",
       "      <td>0.201120</td>\n",
       "      <td>1.0</td>\n",
       "    </tr>\n",
       "    <tr>\n",
       "      <th>std</th>\n",
       "      <td>0.229241</td>\n",
       "      <td>0.0</td>\n",
       "    </tr>\n",
       "    <tr>\n",
       "      <th>min</th>\n",
       "      <td>0.000032</td>\n",
       "      <td>1.0</td>\n",
       "    </tr>\n",
       "    <tr>\n",
       "      <th>25%</th>\n",
       "      <td>0.031407</td>\n",
       "      <td>1.0</td>\n",
       "    </tr>\n",
       "    <tr>\n",
       "      <th>50%</th>\n",
       "      <td>0.107643</td>\n",
       "      <td>1.0</td>\n",
       "    </tr>\n",
       "    <tr>\n",
       "      <th>75%</th>\n",
       "      <td>0.292498</td>\n",
       "      <td>1.0</td>\n",
       "    </tr>\n",
       "    <tr>\n",
       "      <th>max</th>\n",
       "      <td>0.987590</td>\n",
       "      <td>1.0</td>\n",
       "    </tr>\n",
       "  </tbody>\n",
       "</table>\n",
       "</div>"
      ],
      "text/plain": [
       "        prediction   count\n",
       "count  2100.000000  2100.0\n",
       "mean      0.201120     1.0\n",
       "std       0.229241     0.0\n",
       "min       0.000032     1.0\n",
       "25%       0.031407     1.0\n",
       "50%       0.107643     1.0\n",
       "75%       0.292498     1.0\n",
       "max       0.987590     1.0"
      ]
     },
     "execution_count": 16,
     "metadata": {},
     "output_type": "execute_result"
    },
    {
     "data": {
      "application/javascript": [
       "\n",
       "            setTimeout(function() {\n",
       "                var nbb_cell_id = 16;\n",
       "                var nbb_unformatted_code = \"# Predictions on testset\\ntest_pred = logreg.predict_proba(X_test_2)[:, 1]\\ntest_pred2 = pd.DataFrame(data=test_pred, columns=[\\\"prediction\\\"])\\ntest_pred2[\\\"count\\\"] = test_pred2.groupby(\\\"prediction\\\")[\\\"prediction\\\"].transform(\\\"count\\\")\\ntest_pred2.groupby([\\\"prediction\\\"]).count()\\ntest_pred2.describe()\";\n",
       "                var nbb_formatted_code = \"# Predictions on testset\\ntest_pred = logreg.predict_proba(X_test_2)[:, 1]\\ntest_pred2 = pd.DataFrame(data=test_pred, columns=[\\\"prediction\\\"])\\ntest_pred2[\\\"count\\\"] = test_pred2.groupby(\\\"prediction\\\")[\\\"prediction\\\"].transform(\\\"count\\\")\\ntest_pred2.groupby([\\\"prediction\\\"]).count()\\ntest_pred2.describe()\";\n",
       "                var nbb_cells = Jupyter.notebook.get_cells();\n",
       "                for (var i = 0; i < nbb_cells.length; ++i) {\n",
       "                    if (nbb_cells[i].input_prompt_number == nbb_cell_id) {\n",
       "                        if (nbb_cells[i].get_text() == nbb_unformatted_code) {\n",
       "                             nbb_cells[i].set_text(nbb_formatted_code);\n",
       "                        }\n",
       "                        break;\n",
       "                    }\n",
       "                }\n",
       "            }, 500);\n",
       "            "
      ],
      "text/plain": [
       "<IPython.core.display.Javascript object>"
      ]
     },
     "metadata": {},
     "output_type": "display_data"
    }
   ],
   "source": [
    "# Predictions on testset\n",
    "test_pred = logreg.predict_proba(X_test_2)[:, 1]\n",
    "test_pred2 = pd.DataFrame(data=test_pred, columns=[\"prediction\"])\n",
    "test_pred2[\"count\"] = test_pred2.groupby(\"prediction\")[\"prediction\"].transform(\"count\")\n",
    "test_pred2.groupby([\"prediction\"]).count()\n",
    "test_pred2.describe()"
   ]
  },
  {
   "cell_type": "code",
   "execution_count": 17,
   "metadata": {},
   "outputs": [
    {
     "data": {
      "text/html": [
       "<div>\n",
       "<style scoped>\n",
       "    .dataframe tbody tr th:only-of-type {\n",
       "        vertical-align: middle;\n",
       "    }\n",
       "\n",
       "    .dataframe tbody tr th {\n",
       "        vertical-align: top;\n",
       "    }\n",
       "\n",
       "    .dataframe thead th {\n",
       "        text-align: right;\n",
       "    }\n",
       "</style>\n",
       "<table border=\"1\" class=\"dataframe\">\n",
       "  <thead>\n",
       "    <tr style=\"text-align: right;\">\n",
       "      <th></th>\n",
       "      <th>target</th>\n",
       "      <th>known_col_0</th>\n",
       "      <th>known_col_1</th>\n",
       "      <th>known_col_2</th>\n",
       "      <th>known_col_3</th>\n",
       "      <th>known_col_4</th>\n",
       "      <th>known_col_5</th>\n",
       "      <th>known_col_6</th>\n",
       "      <th>known_col_7</th>\n",
       "      <th>known_col_8</th>\n",
       "      <th>id</th>\n",
       "      <th>prediction_beforeRI</th>\n",
       "    </tr>\n",
       "  </thead>\n",
       "  <tbody>\n",
       "    <tr>\n",
       "      <th>7231</th>\n",
       "      <td>0</td>\n",
       "      <td>0.120288</td>\n",
       "      <td>0.595316</td>\n",
       "      <td>-1.876325</td>\n",
       "      <td>-1.032869</td>\n",
       "      <td>-0.223376</td>\n",
       "      <td>1.164968</td>\n",
       "      <td>0.482257</td>\n",
       "      <td>0.246359</td>\n",
       "      <td>0.860173</td>\n",
       "      <td>4e12d842-1943-4fee-893a-237d2a903c93</td>\n",
       "      <td>0.380206</td>\n",
       "    </tr>\n",
       "    <tr>\n",
       "      <th>7880</th>\n",
       "      <td>0</td>\n",
       "      <td>2.069580</td>\n",
       "      <td>0.503860</td>\n",
       "      <td>-0.198736</td>\n",
       "      <td>-0.072057</td>\n",
       "      <td>0.156990</td>\n",
       "      <td>-1.623263</td>\n",
       "      <td>0.474801</td>\n",
       "      <td>-0.026581</td>\n",
       "      <td>0.875270</td>\n",
       "      <td>0b3b1265-5a31-4040-a1a1-05231cd77847</td>\n",
       "      <td>0.161506</td>\n",
       "    </tr>\n",
       "    <tr>\n",
       "      <th>3621</th>\n",
       "      <td>0</td>\n",
       "      <td>-0.062990</td>\n",
       "      <td>-0.777283</td>\n",
       "      <td>-0.186030</td>\n",
       "      <td>0.609338</td>\n",
       "      <td>0.202800</td>\n",
       "      <td>0.963561</td>\n",
       "      <td>-0.816584</td>\n",
       "      <td>-0.621179</td>\n",
       "      <td>0.016290</td>\n",
       "      <td>9ac96e63-e2bf-4c51-9227-7a073e3d9f15</td>\n",
       "      <td>0.023516</td>\n",
       "    </tr>\n",
       "    <tr>\n",
       "      <th>7836</th>\n",
       "      <td>0</td>\n",
       "      <td>0.448716</td>\n",
       "      <td>0.743112</td>\n",
       "      <td>0.214673</td>\n",
       "      <td>0.814224</td>\n",
       "      <td>-0.386753</td>\n",
       "      <td>1.166083</td>\n",
       "      <td>-0.622785</td>\n",
       "      <td>-0.554206</td>\n",
       "      <td>-1.009237</td>\n",
       "      <td>dca4df9f-07c0-48b2-bcf8-5aaddf192a70</td>\n",
       "      <td>0.195453</td>\n",
       "    </tr>\n",
       "    <tr>\n",
       "      <th>7816</th>\n",
       "      <td>0</td>\n",
       "      <td>0.188821</td>\n",
       "      <td>0.944693</td>\n",
       "      <td>-1.229423</td>\n",
       "      <td>0.483918</td>\n",
       "      <td>-1.064125</td>\n",
       "      <td>2.208808</td>\n",
       "      <td>0.786099</td>\n",
       "      <td>-0.210297</td>\n",
       "      <td>0.294476</td>\n",
       "      <td>8f16c496-a5cb-4c21-a70c-612cf86045e4</td>\n",
       "      <td>0.270819</td>\n",
       "    </tr>\n",
       "    <tr>\n",
       "      <th>...</th>\n",
       "      <td>...</td>\n",
       "      <td>...</td>\n",
       "      <td>...</td>\n",
       "      <td>...</td>\n",
       "      <td>...</td>\n",
       "      <td>...</td>\n",
       "      <td>...</td>\n",
       "      <td>...</td>\n",
       "      <td>...</td>\n",
       "      <td>...</td>\n",
       "      <td>...</td>\n",
       "      <td>...</td>\n",
       "    </tr>\n",
       "    <tr>\n",
       "      <th>5796</th>\n",
       "      <td>0</td>\n",
       "      <td>0.137725</td>\n",
       "      <td>-0.655189</td>\n",
       "      <td>0.259445</td>\n",
       "      <td>0.826849</td>\n",
       "      <td>0.663798</td>\n",
       "      <td>0.222962</td>\n",
       "      <td>0.091939</td>\n",
       "      <td>0.113713</td>\n",
       "      <td>0.880674</td>\n",
       "      <td>bac88347-ede9-4925-8acc-9bca4cb21dba</td>\n",
       "      <td>0.027959</td>\n",
       "    </tr>\n",
       "    <tr>\n",
       "      <th>1128</th>\n",
       "      <td>0</td>\n",
       "      <td>-0.020695</td>\n",
       "      <td>-1.029771</td>\n",
       "      <td>-1.882774</td>\n",
       "      <td>-0.890091</td>\n",
       "      <td>0.517958</td>\n",
       "      <td>0.861856</td>\n",
       "      <td>-1.054173</td>\n",
       "      <td>-1.904468</td>\n",
       "      <td>-0.201315</td>\n",
       "      <td>9e2f55a2-1eb8-403a-93a4-6664adc98930</td>\n",
       "      <td>0.037388</td>\n",
       "    </tr>\n",
       "    <tr>\n",
       "      <th>3617</th>\n",
       "      <td>0</td>\n",
       "      <td>-0.308260</td>\n",
       "      <td>1.000664</td>\n",
       "      <td>0.484986</td>\n",
       "      <td>1.590688</td>\n",
       "      <td>-0.059050</td>\n",
       "      <td>0.992015</td>\n",
       "      <td>-0.816889</td>\n",
       "      <td>-1.768316</td>\n",
       "      <td>0.026157</td>\n",
       "      <td>293907c1-e6af-4ff4-987c-9c29a1b5444a</td>\n",
       "      <td>0.254521</td>\n",
       "    </tr>\n",
       "    <tr>\n",
       "      <th>8491</th>\n",
       "      <td>0</td>\n",
       "      <td>-1.158329</td>\n",
       "      <td>-1.836229</td>\n",
       "      <td>2.523833</td>\n",
       "      <td>-0.061446</td>\n",
       "      <td>-0.130475</td>\n",
       "      <td>0.781090</td>\n",
       "      <td>0.590055</td>\n",
       "      <td>-0.343272</td>\n",
       "      <td>0.356698</td>\n",
       "      <td>0fe8cfe0-d777-4d43-8504-21973acece76</td>\n",
       "      <td>0.006393</td>\n",
       "    </tr>\n",
       "    <tr>\n",
       "      <th>7370</th>\n",
       "      <td>0</td>\n",
       "      <td>0.402063</td>\n",
       "      <td>0.369811</td>\n",
       "      <td>-1.813105</td>\n",
       "      <td>-1.830977</td>\n",
       "      <td>-1.641522</td>\n",
       "      <td>-0.899721</td>\n",
       "      <td>-1.162077</td>\n",
       "      <td>0.133634</td>\n",
       "      <td>-0.236348</td>\n",
       "      <td>1ea707ce-4e30-4aa8-8973-28b4b10b942a</td>\n",
       "      <td>0.279154</td>\n",
       "    </tr>\n",
       "  </tbody>\n",
       "</table>\n",
       "<p>2100 rows × 12 columns</p>\n",
       "</div>"
      ],
      "text/plain": [
       "      target  known_col_0  known_col_1  known_col_2  known_col_3  known_col_4  \\\n",
       "7231       0     0.120288     0.595316    -1.876325    -1.032869    -0.223376   \n",
       "7880       0     2.069580     0.503860    -0.198736    -0.072057     0.156990   \n",
       "3621       0    -0.062990    -0.777283    -0.186030     0.609338     0.202800   \n",
       "7836       0     0.448716     0.743112     0.214673     0.814224    -0.386753   \n",
       "7816       0     0.188821     0.944693    -1.229423     0.483918    -1.064125   \n",
       "...      ...          ...          ...          ...          ...          ...   \n",
       "5796       0     0.137725    -0.655189     0.259445     0.826849     0.663798   \n",
       "1128       0    -0.020695    -1.029771    -1.882774    -0.890091     0.517958   \n",
       "3617       0    -0.308260     1.000664     0.484986     1.590688    -0.059050   \n",
       "8491       0    -1.158329    -1.836229     2.523833    -0.061446    -0.130475   \n",
       "7370       0     0.402063     0.369811    -1.813105    -1.830977    -1.641522   \n",
       "\n",
       "      known_col_5  known_col_6  known_col_7  known_col_8  \\\n",
       "7231     1.164968     0.482257     0.246359     0.860173   \n",
       "7880    -1.623263     0.474801    -0.026581     0.875270   \n",
       "3621     0.963561    -0.816584    -0.621179     0.016290   \n",
       "7836     1.166083    -0.622785    -0.554206    -1.009237   \n",
       "7816     2.208808     0.786099    -0.210297     0.294476   \n",
       "...           ...          ...          ...          ...   \n",
       "5796     0.222962     0.091939     0.113713     0.880674   \n",
       "1128     0.861856    -1.054173    -1.904468    -0.201315   \n",
       "3617     0.992015    -0.816889    -1.768316     0.026157   \n",
       "8491     0.781090     0.590055    -0.343272     0.356698   \n",
       "7370    -0.899721    -1.162077     0.133634    -0.236348   \n",
       "\n",
       "                                        id  prediction_beforeRI  \n",
       "7231  4e12d842-1943-4fee-893a-237d2a903c93             0.380206  \n",
       "7880  0b3b1265-5a31-4040-a1a1-05231cd77847             0.161506  \n",
       "3621  9ac96e63-e2bf-4c51-9227-7a073e3d9f15             0.023516  \n",
       "7836  dca4df9f-07c0-48b2-bcf8-5aaddf192a70             0.195453  \n",
       "7816  8f16c496-a5cb-4c21-a70c-612cf86045e4             0.270819  \n",
       "...                                    ...                  ...  \n",
       "5796  bac88347-ede9-4925-8acc-9bca4cb21dba             0.027959  \n",
       "1128  9e2f55a2-1eb8-403a-93a4-6664adc98930             0.037388  \n",
       "3617  293907c1-e6af-4ff4-987c-9c29a1b5444a             0.254521  \n",
       "8491  0fe8cfe0-d777-4d43-8504-21973acece76             0.006393  \n",
       "7370  1ea707ce-4e30-4aa8-8973-28b4b10b942a             0.279154  \n",
       "\n",
       "[2100 rows x 12 columns]"
      ]
     },
     "execution_count": 17,
     "metadata": {},
     "output_type": "execute_result"
    },
    {
     "data": {
      "application/javascript": [
       "\n",
       "            setTimeout(function() {\n",
       "                var nbb_cell_id = 17;\n",
       "                var nbb_unformatted_code = \"# Join predictions with test new\\npred_test_kgb = pd.DataFrame(\\n    data=test_pred, columns=[\\\"prediction_beforeRI\\\"], index=y_test.index.copy()\\n)\\npred_test1 = pd.merge(\\n    test_labels,\\n    pred_test_kgb[[\\\"prediction_beforeRI\\\"]],\\n    how=\\\"inner\\\",\\n    left_index=True,\\n    right_index=True,\\n)\\n\\n# pred_test1.dropna(subset=[\\\"prediction_beforeRI\\\"], inplace=True)\\npred_test1\";\n",
       "                var nbb_formatted_code = \"# Join predictions with test new\\npred_test_kgb = pd.DataFrame(\\n    data=test_pred, columns=[\\\"prediction_beforeRI\\\"], index=y_test.index.copy()\\n)\\npred_test1 = pd.merge(\\n    test_labels,\\n    pred_test_kgb[[\\\"prediction_beforeRI\\\"]],\\n    how=\\\"inner\\\",\\n    left_index=True,\\n    right_index=True,\\n)\\n\\n# pred_test1.dropna(subset=[\\\"prediction_beforeRI\\\"], inplace=True)\\npred_test1\";\n",
       "                var nbb_cells = Jupyter.notebook.get_cells();\n",
       "                for (var i = 0; i < nbb_cells.length; ++i) {\n",
       "                    if (nbb_cells[i].input_prompt_number == nbb_cell_id) {\n",
       "                        if (nbb_cells[i].get_text() == nbb_unformatted_code) {\n",
       "                             nbb_cells[i].set_text(nbb_formatted_code);\n",
       "                        }\n",
       "                        break;\n",
       "                    }\n",
       "                }\n",
       "            }, 500);\n",
       "            "
      ],
      "text/plain": [
       "<IPython.core.display.Javascript object>"
      ]
     },
     "metadata": {},
     "output_type": "display_data"
    }
   ],
   "source": [
    "# Join predictions with test new\n",
    "pred_test_kgb = pd.DataFrame(\n",
    "    data=test_pred, columns=[\"prediction_beforeRI\"], index=y_test.index.copy()\n",
    ")\n",
    "pred_test1 = pd.merge(\n",
    "    test_labels,\n",
    "    pred_test_kgb[[\"prediction_beforeRI\"]],\n",
    "    how=\"inner\",\n",
    "    left_index=True,\n",
    "    right_index=True,\n",
    ")\n",
    "\n",
    "# pred_test1.dropna(subset=[\"prediction_beforeRI\"], inplace=True)\n",
    "pred_test1"
   ]
  },
  {
   "cell_type": "code",
   "execution_count": 18,
   "metadata": {},
   "outputs": [
    {
     "data": {
      "application/javascript": [
       "\n",
       "            setTimeout(function() {\n",
       "                var nbb_cell_id = 18;\n",
       "                var nbb_unformatted_code = \"# pred_test1.shape  # Expected nr. of observations\";\n",
       "                var nbb_formatted_code = \"# pred_test1.shape  # Expected nr. of observations\";\n",
       "                var nbb_cells = Jupyter.notebook.get_cells();\n",
       "                for (var i = 0; i < nbb_cells.length; ++i) {\n",
       "                    if (nbb_cells[i].input_prompt_number == nbb_cell_id) {\n",
       "                        if (nbb_cells[i].get_text() == nbb_unformatted_code) {\n",
       "                             nbb_cells[i].set_text(nbb_formatted_code);\n",
       "                        }\n",
       "                        break;\n",
       "                    }\n",
       "                }\n",
       "            }, 500);\n",
       "            "
      ],
      "text/plain": [
       "<IPython.core.display.Javascript object>"
      ]
     },
     "metadata": {},
     "output_type": "display_data"
    }
   ],
   "source": [
    "# pred_test1.shape  # Expected nr. of observations"
   ]
  },
  {
   "cell_type": "markdown",
   "metadata": {},
   "source": [
    "### Random Forest"
   ]
  },
  {
   "cell_type": "code",
   "execution_count": 19,
   "metadata": {},
   "outputs": [
    {
     "name": "stdout",
     "output_type": "stream",
     "text": [
      "Accuracy score Random Forest: 0.8942857142857142\n",
      "F1 score Random Forest: 0.87245402599909\n"
     ]
    },
    {
     "data": {
      "application/javascript": [
       "\n",
       "            setTimeout(function() {\n",
       "                var nbb_cell_id = 19;\n",
       "                var nbb_unformatted_code = \"rf = RandomForestClassifier(max_depth=2, random_state=0)\\nrf.fit(os_data_X_2, os_data_y.values.ravel())\\ny_pred = rf.predict(X_test_2)\\nprint(\\\"Accuracy score Random Forest:\\\", rf.score(X_test_2, y_test))\\nprint(\\\"F1 score Random Forest:\\\", f1_score(y_pred, y_test, average=\\\"weighted\\\"))\";\n",
       "                var nbb_formatted_code = \"rf = RandomForestClassifier(max_depth=2, random_state=0)\\nrf.fit(os_data_X_2, os_data_y.values.ravel())\\ny_pred = rf.predict(X_test_2)\\nprint(\\\"Accuracy score Random Forest:\\\", rf.score(X_test_2, y_test))\\nprint(\\\"F1 score Random Forest:\\\", f1_score(y_pred, y_test, average=\\\"weighted\\\"))\";\n",
       "                var nbb_cells = Jupyter.notebook.get_cells();\n",
       "                for (var i = 0; i < nbb_cells.length; ++i) {\n",
       "                    if (nbb_cells[i].input_prompt_number == nbb_cell_id) {\n",
       "                        if (nbb_cells[i].get_text() == nbb_unformatted_code) {\n",
       "                             nbb_cells[i].set_text(nbb_formatted_code);\n",
       "                        }\n",
       "                        break;\n",
       "                    }\n",
       "                }\n",
       "            }, 500);\n",
       "            "
      ],
      "text/plain": [
       "<IPython.core.display.Javascript object>"
      ]
     },
     "metadata": {},
     "output_type": "display_data"
    }
   ],
   "source": [
    "rf = RandomForestClassifier(max_depth=2, random_state=0)\n",
    "rf.fit(os_data_X_2, os_data_y.values.ravel())\n",
    "y_pred = rf.predict(X_test_2)\n",
    "print(\"Accuracy score Random Forest:\", rf.score(X_test_2, y_test))\n",
    "print(\"F1 score Random Forest:\", f1_score(y_pred, y_test, average=\"weighted\"))"
   ]
  },
  {
   "cell_type": "markdown",
   "metadata": {},
   "source": [
    "### Decision Tree"
   ]
  },
  {
   "cell_type": "code",
   "execution_count": 20,
   "metadata": {},
   "outputs": [
    {
     "name": "stdout",
     "output_type": "stream",
     "text": [
      "Accuracy score Decision Tree: 0.7904761904761904\n",
      "F1 score Decision Tree 0.7323352784536569\n"
     ]
    },
    {
     "data": {
      "application/javascript": [
       "\n",
       "            setTimeout(function() {\n",
       "                var nbb_cell_id = 20;\n",
       "                var nbb_unformatted_code = \"dt = DecisionTreeClassifier(random_state=0)\\ndt.fit(os_data_X_2, os_data_y.values.ravel())\\ny_pred = dt.predict(X_test_2)\\nprint(\\\"Accuracy score Decision Tree:\\\", dt.score(X_test_2, y_test))\\nprint(\\\"F1 score Decision Tree\\\", f1_score(y_pred, y_test, average=\\\"weighted\\\"))\";\n",
       "                var nbb_formatted_code = \"dt = DecisionTreeClassifier(random_state=0)\\ndt.fit(os_data_X_2, os_data_y.values.ravel())\\ny_pred = dt.predict(X_test_2)\\nprint(\\\"Accuracy score Decision Tree:\\\", dt.score(X_test_2, y_test))\\nprint(\\\"F1 score Decision Tree\\\", f1_score(y_pred, y_test, average=\\\"weighted\\\"))\";\n",
       "                var nbb_cells = Jupyter.notebook.get_cells();\n",
       "                for (var i = 0; i < nbb_cells.length; ++i) {\n",
       "                    if (nbb_cells[i].input_prompt_number == nbb_cell_id) {\n",
       "                        if (nbb_cells[i].get_text() == nbb_unformatted_code) {\n",
       "                             nbb_cells[i].set_text(nbb_formatted_code);\n",
       "                        }\n",
       "                        break;\n",
       "                    }\n",
       "                }\n",
       "            }, 500);\n",
       "            "
      ],
      "text/plain": [
       "<IPython.core.display.Javascript object>"
      ]
     },
     "metadata": {},
     "output_type": "display_data"
    }
   ],
   "source": [
    "dt = DecisionTreeClassifier(random_state=0)\n",
    "dt.fit(os_data_X_2, os_data_y.values.ravel())\n",
    "y_pred = dt.predict(X_test_2)\n",
    "print(\"Accuracy score Decision Tree:\", dt.score(X_test_2, y_test))\n",
    "print(\"F1 score Decision Tree\", f1_score(y_pred, y_test, average=\"weighted\"))"
   ]
  },
  {
   "cell_type": "code",
   "execution_count": 21,
   "metadata": {},
   "outputs": [
    {
     "data": {
      "text/plain": [
       "{0: 1656, 1: 444}"
      ]
     },
     "execution_count": 21,
     "metadata": {},
     "output_type": "execute_result"
    },
    {
     "data": {
      "application/javascript": [
       "\n",
       "            setTimeout(function() {\n",
       "                var nbb_cell_id = 21;\n",
       "                var nbb_unformatted_code = \"unique, counts = np.unique(y_pred, return_counts=True)\\ndict(zip(unique, counts))\";\n",
       "                var nbb_formatted_code = \"unique, counts = np.unique(y_pred, return_counts=True)\\ndict(zip(unique, counts))\";\n",
       "                var nbb_cells = Jupyter.notebook.get_cells();\n",
       "                for (var i = 0; i < nbb_cells.length; ++i) {\n",
       "                    if (nbb_cells[i].input_prompt_number == nbb_cell_id) {\n",
       "                        if (nbb_cells[i].get_text() == nbb_unformatted_code) {\n",
       "                             nbb_cells[i].set_text(nbb_formatted_code);\n",
       "                        }\n",
       "                        break;\n",
       "                    }\n",
       "                }\n",
       "            }, 500);\n",
       "            "
      ],
      "text/plain": [
       "<IPython.core.display.Javascript object>"
      ]
     },
     "metadata": {},
     "output_type": "display_data"
    }
   ],
   "source": [
    "unique, counts = np.unique(y_pred, return_counts=True)\n",
    "dict(zip(unique, counts))"
   ]
  },
  {
   "cell_type": "markdown",
   "metadata": {},
   "source": [
    "### SVM"
   ]
  },
  {
   "cell_type": "code",
   "execution_count": 22,
   "metadata": {},
   "outputs": [
    {
     "name": "stdout",
     "output_type": "stream",
     "text": [
      "Accuracy score SVM: 0.87\n",
      "F1 score SVM: 0.8384502736838335\n"
     ]
    },
    {
     "data": {
      "application/javascript": [
       "\n",
       "            setTimeout(function() {\n",
       "                var nbb_cell_id = 22;\n",
       "                var nbb_unformatted_code = \"svm = svm.SVC()\\nsvm.fit(os_data_X_2, os_data_y.values.ravel())\\ny_pred = svm.predict(X_test_2)\\nprint(\\\"Accuracy score SVM:\\\", svm.score(X_test_2, y_test))\\nprint(\\\"F1 score SVM:\\\", f1_score(y_pred, y_test, average=\\\"weighted\\\"))\";\n",
       "                var nbb_formatted_code = \"svm = svm.SVC()\\nsvm.fit(os_data_X_2, os_data_y.values.ravel())\\ny_pred = svm.predict(X_test_2)\\nprint(\\\"Accuracy score SVM:\\\", svm.score(X_test_2, y_test))\\nprint(\\\"F1 score SVM:\\\", f1_score(y_pred, y_test, average=\\\"weighted\\\"))\";\n",
       "                var nbb_cells = Jupyter.notebook.get_cells();\n",
       "                for (var i = 0; i < nbb_cells.length; ++i) {\n",
       "                    if (nbb_cells[i].input_prompt_number == nbb_cell_id) {\n",
       "                        if (nbb_cells[i].get_text() == nbb_unformatted_code) {\n",
       "                             nbb_cells[i].set_text(nbb_formatted_code);\n",
       "                        }\n",
       "                        break;\n",
       "                    }\n",
       "                }\n",
       "            }, 500);\n",
       "            "
      ],
      "text/plain": [
       "<IPython.core.display.Javascript object>"
      ]
     },
     "metadata": {},
     "output_type": "display_data"
    }
   ],
   "source": [
    "svm = svm.SVC()\n",
    "svm.fit(os_data_X_2, os_data_y.values.ravel())\n",
    "y_pred = svm.predict(X_test_2)\n",
    "print(\"Accuracy score SVM:\", svm.score(X_test_2, y_test))\n",
    "print(\"F1 score SVM:\", f1_score(y_pred, y_test, average=\"weighted\"))"
   ]
  },
  {
   "cell_type": "markdown",
   "metadata": {},
   "source": [
    "### K-Means"
   ]
  },
  {
   "cell_type": "code",
   "execution_count": 23,
   "metadata": {},
   "outputs": [
    {
     "data": {
      "application/javascript": [
       "\n",
       "            setTimeout(function() {\n",
       "                var nbb_cell_id = 23;\n",
       "                var nbb_unformatted_code = \"km = KMeans(n_clusters=2)\\nkm.fit(os_data_X_2, os_data_y.values.ravel())\\ny_pred = km.predict(X_test_2)\";\n",
       "                var nbb_formatted_code = \"km = KMeans(n_clusters=2)\\nkm.fit(os_data_X_2, os_data_y.values.ravel())\\ny_pred = km.predict(X_test_2)\";\n",
       "                var nbb_cells = Jupyter.notebook.get_cells();\n",
       "                for (var i = 0; i < nbb_cells.length; ++i) {\n",
       "                    if (nbb_cells[i].input_prompt_number == nbb_cell_id) {\n",
       "                        if (nbb_cells[i].get_text() == nbb_unformatted_code) {\n",
       "                             nbb_cells[i].set_text(nbb_formatted_code);\n",
       "                        }\n",
       "                        break;\n",
       "                    }\n",
       "                }\n",
       "            }, 500);\n",
       "            "
      ],
      "text/plain": [
       "<IPython.core.display.Javascript object>"
      ]
     },
     "metadata": {},
     "output_type": "display_data"
    }
   ],
   "source": [
    "km = KMeans(n_clusters=2)\n",
    "km.fit(os_data_X_2, os_data_y.values.ravel())\n",
    "y_pred = km.predict(X_test_2)"
   ]
  },
  {
   "cell_type": "markdown",
   "metadata": {},
   "source": [
    "### Hierarchical clustering"
   ]
  },
  {
   "cell_type": "code",
   "execution_count": 24,
   "metadata": {},
   "outputs": [
    {
     "data": {
      "application/javascript": [
       "\n",
       "            setTimeout(function() {\n",
       "                var nbb_cell_id = 24;\n",
       "                var nbb_unformatted_code = \"hc = AgglomerativeClustering(n_clusters=2, affinity=\\\"euclidean\\\", linkage=\\\"ward\\\")\\nhc.fit_predict(os_data_X_2, os_data_y.values.ravel())\\ny_pred = km.predict(X_test_2)\";\n",
       "                var nbb_formatted_code = \"hc = AgglomerativeClustering(n_clusters=2, affinity=\\\"euclidean\\\", linkage=\\\"ward\\\")\\nhc.fit_predict(os_data_X_2, os_data_y.values.ravel())\\ny_pred = km.predict(X_test_2)\";\n",
       "                var nbb_cells = Jupyter.notebook.get_cells();\n",
       "                for (var i = 0; i < nbb_cells.length; ++i) {\n",
       "                    if (nbb_cells[i].input_prompt_number == nbb_cell_id) {\n",
       "                        if (nbb_cells[i].get_text() == nbb_unformatted_code) {\n",
       "                             nbb_cells[i].set_text(nbb_formatted_code);\n",
       "                        }\n",
       "                        break;\n",
       "                    }\n",
       "                }\n",
       "            }, 500);\n",
       "            "
      ],
      "text/plain": [
       "<IPython.core.display.Javascript object>"
      ]
     },
     "metadata": {},
     "output_type": "display_data"
    }
   ],
   "source": [
    "hc = AgglomerativeClustering(n_clusters=2, affinity=\"euclidean\", linkage=\"ward\")\n",
    "hc.fit_predict(os_data_X_2, os_data_y.values.ravel())\n",
    "y_pred = km.predict(X_test_2)"
   ]
  },
  {
   "cell_type": "markdown",
   "metadata": {},
   "source": [
    "### Light GBM Ranker"
   ]
  },
  {
   "cell_type": "code",
   "execution_count": 25,
   "metadata": {},
   "outputs": [
    {
     "data": {
      "application/javascript": [
       "\n",
       "            setTimeout(function() {\n",
       "                var nbb_cell_id = 25;\n",
       "                var nbb_unformatted_code = \"X_train_GBM, X_val, y_train_GBM, y_val = train_test_split(\\n    os_data_X_2, os_data_y, test_size=0.2, random_state=1\\n)\";\n",
       "                var nbb_formatted_code = \"X_train_GBM, X_val, y_train_GBM, y_val = train_test_split(\\n    os_data_X_2, os_data_y, test_size=0.2, random_state=1\\n)\";\n",
       "                var nbb_cells = Jupyter.notebook.get_cells();\n",
       "                for (var i = 0; i < nbb_cells.length; ++i) {\n",
       "                    if (nbb_cells[i].input_prompt_number == nbb_cell_id) {\n",
       "                        if (nbb_cells[i].get_text() == nbb_unformatted_code) {\n",
       "                             nbb_cells[i].set_text(nbb_formatted_code);\n",
       "                        }\n",
       "                        break;\n",
       "                    }\n",
       "                }\n",
       "            }, 500);\n",
       "            "
      ],
      "text/plain": [
       "<IPython.core.display.Javascript object>"
      ]
     },
     "metadata": {},
     "output_type": "display_data"
    }
   ],
   "source": [
    "X_train_GBM, X_val, y_train_GBM, y_val = train_test_split(\n",
    "    os_data_X_2, os_data_y, test_size=0.2, random_state=1\n",
    ")"
   ]
  },
  {
   "cell_type": "code",
   "execution_count": 26,
   "metadata": {},
   "outputs": [
    {
     "name": "stdout",
     "output_type": "stream",
     "text": [
      "[1]\tvalid_0's ndcg@5: 1\tvalid_0's ndcg@10: 0.933746\tvalid_0's ndcg@20: 0.885185\n",
      "Training until validation scores don't improve for 50 rounds\n",
      "[2]\tvalid_0's ndcg@5: 0.853932\tvalid_0's ndcg@10: 0.838957\tvalid_0's ndcg@20: 0.896068\n",
      "[3]\tvalid_0's ndcg@5: 0.853932\tvalid_0's ndcg@10: 0.905212\tvalid_0's ndcg@20: 0.904077\n",
      "[4]\tvalid_0's ndcg@5: 0.853932\tvalid_0's ndcg@10: 0.905212\tvalid_0's ndcg@20: 0.869033\n",
      "[5]\tvalid_0's ndcg@5: 0.853932\tvalid_0's ndcg@10: 0.905212\tvalid_0's ndcg@20: 0.870978\n",
      "[6]\tvalid_0's ndcg@5: 0.853932\tvalid_0's ndcg@10: 0.905212\tvalid_0's ndcg@20: 0.868407\n",
      "[7]\tvalid_0's ndcg@5: 0.853932\tvalid_0's ndcg@10: 0.905212\tvalid_0's ndcg@20: 0.870452\n",
      "[8]\tvalid_0's ndcg@5: 0.853932\tvalid_0's ndcg@10: 0.905212\tvalid_0's ndcg@20: 0.905389\n",
      "[9]\tvalid_0's ndcg@5: 0.853932\tvalid_0's ndcg@10: 0.905212\tvalid_0's ndcg@20: 0.90247\n",
      "[10]\tvalid_0's ndcg@5: 0.853932\tvalid_0's ndcg@10: 0.905212\tvalid_0's ndcg@20: 0.905389\n",
      "[11]\tvalid_0's ndcg@5: 0.853932\tvalid_0's ndcg@10: 0.905212\tvalid_0's ndcg@20: 0.905389\n",
      "[12]\tvalid_0's ndcg@5: 0.853932\tvalid_0's ndcg@10: 0.905212\tvalid_0's ndcg@20: 0.905962\n",
      "[13]\tvalid_0's ndcg@5: 0.853932\tvalid_0's ndcg@10: 0.905212\tvalid_0's ndcg@20: 0.905389\n",
      "[14]\tvalid_0's ndcg@5: 0.853932\tvalid_0's ndcg@10: 0.905212\tvalid_0's ndcg@20: 0.905389\n",
      "[15]\tvalid_0's ndcg@5: 0.853932\tvalid_0's ndcg@10: 0.905212\tvalid_0's ndcg@20: 0.905962\n",
      "[16]\tvalid_0's ndcg@5: 0.853932\tvalid_0's ndcg@10: 0.905212\tvalid_0's ndcg@20: 0.905962\n",
      "[17]\tvalid_0's ndcg@5: 0.853932\tvalid_0's ndcg@10: 0.905212\tvalid_0's ndcg@20: 0.906488\n",
      "[18]\tvalid_0's ndcg@5: 0.853932\tvalid_0's ndcg@10: 0.905212\tvalid_0's ndcg@20: 0.905962\n",
      "[19]\tvalid_0's ndcg@5: 0.853932\tvalid_0's ndcg@10: 0.905212\tvalid_0's ndcg@20: 0.904764\n",
      "[20]\tvalid_0's ndcg@5: 0.853932\tvalid_0's ndcg@10: 0.905212\tvalid_0's ndcg@20: 0.904077\n",
      "[21]\tvalid_0's ndcg@5: 0.853932\tvalid_0's ndcg@10: 0.905212\tvalid_0's ndcg@20: 0.904077\n",
      "[22]\tvalid_0's ndcg@5: 0.853932\tvalid_0's ndcg@10: 0.905212\tvalid_0's ndcg@20: 0.903317\n",
      "[23]\tvalid_0's ndcg@5: 0.853932\tvalid_0's ndcg@10: 0.905212\tvalid_0's ndcg@20: 0.90152\n",
      "[24]\tvalid_0's ndcg@5: 0.853932\tvalid_0's ndcg@10: 0.905212\tvalid_0's ndcg@20: 0.900442\n",
      "[25]\tvalid_0's ndcg@5: 0.853932\tvalid_0's ndcg@10: 0.905212\tvalid_0's ndcg@20: 0.90152\n",
      "[26]\tvalid_0's ndcg@5: 0.853932\tvalid_0's ndcg@10: 0.905212\tvalid_0's ndcg@20: 0.90247\n",
      "[27]\tvalid_0's ndcg@5: 0.853932\tvalid_0's ndcg@10: 0.905212\tvalid_0's ndcg@20: 0.900442\n",
      "[28]\tvalid_0's ndcg@5: 0.853932\tvalid_0's ndcg@10: 0.905212\tvalid_0's ndcg@20: 0.90152\n",
      "[29]\tvalid_0's ndcg@5: 0.853932\tvalid_0's ndcg@10: 0.905212\tvalid_0's ndcg@20: 0.90247\n",
      "[30]\tvalid_0's ndcg@5: 0.853932\tvalid_0's ndcg@10: 0.905212\tvalid_0's ndcg@20: 0.903317\n",
      "[31]\tvalid_0's ndcg@5: 0.853932\tvalid_0's ndcg@10: 0.905212\tvalid_0's ndcg@20: 0.90152\n",
      "[32]\tvalid_0's ndcg@5: 0.853932\tvalid_0's ndcg@10: 0.905212\tvalid_0's ndcg@20: 0.903317\n",
      "[33]\tvalid_0's ndcg@5: 0.853932\tvalid_0's ndcg@10: 0.905212\tvalid_0's ndcg@20: 0.90247\n",
      "[34]\tvalid_0's ndcg@5: 0.853932\tvalid_0's ndcg@10: 0.905212\tvalid_0's ndcg@20: 0.903317\n",
      "[35]\tvalid_0's ndcg@5: 0.853932\tvalid_0's ndcg@10: 0.905212\tvalid_0's ndcg@20: 0.904077\n",
      "[36]\tvalid_0's ndcg@5: 0.853932\tvalid_0's ndcg@10: 0.905212\tvalid_0's ndcg@20: 0.90247\n",
      "[37]\tvalid_0's ndcg@5: 0.853932\tvalid_0's ndcg@10: 0.905212\tvalid_0's ndcg@20: 0.90247\n",
      "[38]\tvalid_0's ndcg@5: 0.853932\tvalid_0's ndcg@10: 0.905212\tvalid_0's ndcg@20: 0.90247\n",
      "[39]\tvalid_0's ndcg@5: 0.853932\tvalid_0's ndcg@10: 0.905212\tvalid_0's ndcg@20: 0.90247\n",
      "[40]\tvalid_0's ndcg@5: 0.786014\tvalid_0's ndcg@10: 0.861138\tvalid_0's ndcg@20: 0.874026\n",
      "[41]\tvalid_0's ndcg@5: 0.786014\tvalid_0's ndcg@10: 0.861138\tvalid_0's ndcg@20: 0.874026\n",
      "[42]\tvalid_0's ndcg@5: 0.786014\tvalid_0's ndcg@10: 0.861138\tvalid_0's ndcg@20: 0.873076\n",
      "[43]\tvalid_0's ndcg@5: 0.786014\tvalid_0's ndcg@10: 0.861138\tvalid_0's ndcg@20: 0.871998\n",
      "[44]\tvalid_0's ndcg@5: 0.786014\tvalid_0's ndcg@10: 0.861138\tvalid_0's ndcg@20: 0.871998\n",
      "[45]\tvalid_0's ndcg@5: 0.786014\tvalid_0's ndcg@10: 0.861138\tvalid_0's ndcg@20: 0.871998\n",
      "[46]\tvalid_0's ndcg@5: 0.786014\tvalid_0's ndcg@10: 0.861138\tvalid_0's ndcg@20: 0.871998\n",
      "[47]\tvalid_0's ndcg@5: 0.786014\tvalid_0's ndcg@10: 0.861138\tvalid_0's ndcg@20: 0.871998\n",
      "[48]\tvalid_0's ndcg@5: 0.786014\tvalid_0's ndcg@10: 0.861138\tvalid_0's ndcg@20: 0.871998\n",
      "[49]\tvalid_0's ndcg@5: 0.786014\tvalid_0's ndcg@10: 0.861138\tvalid_0's ndcg@20: 0.871998\n",
      "[50]\tvalid_0's ndcg@5: 0.786014\tvalid_0's ndcg@10: 0.861138\tvalid_0's ndcg@20: 0.871998\n",
      "[51]\tvalid_0's ndcg@5: 0.786014\tvalid_0's ndcg@10: 0.861138\tvalid_0's ndcg@20: 0.871998\n",
      "Early stopping, best iteration is:\n",
      "[1]\tvalid_0's ndcg@5: 1\tvalid_0's ndcg@10: 0.933746\tvalid_0's ndcg@20: 0.885185\n"
     ]
    },
    {
     "data": {
      "application/javascript": [
       "\n",
       "            setTimeout(function() {\n",
       "                var nbb_cell_id = 26;\n",
       "                var nbb_unformatted_code = \"gbm = lgb.LGBMRanker()\\n\\nquery_train = [X_train_GBM.shape[0]]\\nquery_val = [X_val.shape[0]]\\nquery_test = [X_test_2.shape[0]]\\n\\ngbm.fit(\\n    X_train_GBM,\\n    y_train_GBM,\\n    group=query_train,\\n    eval_set=[(X_val, y_val)],\\n    eval_group=[query_val],\\n    eval_at=[5, 10, 20],\\n    early_stopping_rounds=50,\\n)\\n\\ny_pred = gbm.predict(X_test_2)\";\n",
       "                var nbb_formatted_code = \"gbm = lgb.LGBMRanker()\\n\\nquery_train = [X_train_GBM.shape[0]]\\nquery_val = [X_val.shape[0]]\\nquery_test = [X_test_2.shape[0]]\\n\\ngbm.fit(\\n    X_train_GBM,\\n    y_train_GBM,\\n    group=query_train,\\n    eval_set=[(X_val, y_val)],\\n    eval_group=[query_val],\\n    eval_at=[5, 10, 20],\\n    early_stopping_rounds=50,\\n)\\n\\ny_pred = gbm.predict(X_test_2)\";\n",
       "                var nbb_cells = Jupyter.notebook.get_cells();\n",
       "                for (var i = 0; i < nbb_cells.length; ++i) {\n",
       "                    if (nbb_cells[i].input_prompt_number == nbb_cell_id) {\n",
       "                        if (nbb_cells[i].get_text() == nbb_unformatted_code) {\n",
       "                             nbb_cells[i].set_text(nbb_formatted_code);\n",
       "                        }\n",
       "                        break;\n",
       "                    }\n",
       "                }\n",
       "            }, 500);\n",
       "            "
      ],
      "text/plain": [
       "<IPython.core.display.Javascript object>"
      ]
     },
     "metadata": {},
     "output_type": "display_data"
    }
   ],
   "source": [
    "gbm = lgb.LGBMRanker()\n",
    "\n",
    "query_train = [X_train_GBM.shape[0]]\n",
    "query_val = [X_val.shape[0]]\n",
    "query_test = [X_test_2.shape[0]]\n",
    "\n",
    "gbm.fit(\n",
    "    X_train_GBM,\n",
    "    y_train_GBM,\n",
    "    group=query_train,\n",
    "    eval_set=[(X_val, y_val)],\n",
    "    eval_group=[query_val],\n",
    "    eval_at=[5, 10, 20],\n",
    "    early_stopping_rounds=50,\n",
    ")\n",
    "\n",
    "y_pred = gbm.predict(X_test_2)"
   ]
  },
  {
   "cell_type": "code",
   "execution_count": 27,
   "metadata": {},
   "outputs": [
    {
     "data": {
      "text/html": [
       "<div>\n",
       "<style scoped>\n",
       "    .dataframe tbody tr th:only-of-type {\n",
       "        vertical-align: middle;\n",
       "    }\n",
       "\n",
       "    .dataframe tbody tr th {\n",
       "        vertical-align: top;\n",
       "    }\n",
       "\n",
       "    .dataframe thead th {\n",
       "        text-align: right;\n",
       "    }\n",
       "</style>\n",
       "<table border=\"1\" class=\"dataframe\">\n",
       "  <thead>\n",
       "    <tr style=\"text-align: right;\">\n",
       "      <th></th>\n",
       "      <th>known_col_0</th>\n",
       "      <th>known_col_1</th>\n",
       "      <th>known_col_3</th>\n",
       "      <th>known_col_4</th>\n",
       "      <th>prediction_beforeRI</th>\n",
       "    </tr>\n",
       "  </thead>\n",
       "  <tbody>\n",
       "    <tr>\n",
       "      <th>9648</th>\n",
       "      <td>-1.376924</td>\n",
       "      <td>2.638756</td>\n",
       "      <td>-2.550811</td>\n",
       "      <td>-0.645050</td>\n",
       "      <td>0.987590</td>\n",
       "    </tr>\n",
       "    <tr>\n",
       "      <th>1595</th>\n",
       "      <td>-1.923012</td>\n",
       "      <td>2.688573</td>\n",
       "      <td>-0.950701</td>\n",
       "      <td>0.332375</td>\n",
       "      <td>0.982132</td>\n",
       "    </tr>\n",
       "    <tr>\n",
       "      <th>8192</th>\n",
       "      <td>-0.573999</td>\n",
       "      <td>3.189136</td>\n",
       "      <td>-0.923375</td>\n",
       "      <td>-1.638883</td>\n",
       "      <td>0.980523</td>\n",
       "    </tr>\n",
       "    <tr>\n",
       "      <th>3874</th>\n",
       "      <td>-1.501789</td>\n",
       "      <td>3.138081</td>\n",
       "      <td>0.523119</td>\n",
       "      <td>-1.181993</td>\n",
       "      <td>0.967936</td>\n",
       "    </tr>\n",
       "    <tr>\n",
       "      <th>7028</th>\n",
       "      <td>-0.683603</td>\n",
       "      <td>2.430056</td>\n",
       "      <td>-1.087961</td>\n",
       "      <td>0.631205</td>\n",
       "      <td>0.966109</td>\n",
       "    </tr>\n",
       "    <tr>\n",
       "      <th>...</th>\n",
       "      <td>...</td>\n",
       "      <td>...</td>\n",
       "      <td>...</td>\n",
       "      <td>...</td>\n",
       "      <td>...</td>\n",
       "    </tr>\n",
       "    <tr>\n",
       "      <th>7773</th>\n",
       "      <td>0.289924</td>\n",
       "      <td>-3.031079</td>\n",
       "      <td>0.382012</td>\n",
       "      <td>-0.497031</td>\n",
       "      <td>0.000340</td>\n",
       "    </tr>\n",
       "    <tr>\n",
       "      <th>9431</th>\n",
       "      <td>1.650316</td>\n",
       "      <td>-2.459913</td>\n",
       "      <td>1.090615</td>\n",
       "      <td>-1.389713</td>\n",
       "      <td>0.000330</td>\n",
       "    </tr>\n",
       "    <tr>\n",
       "      <th>8295</th>\n",
       "      <td>-1.582314</td>\n",
       "      <td>-3.711331</td>\n",
       "      <td>0.076296</td>\n",
       "      <td>0.311418</td>\n",
       "      <td>0.000258</td>\n",
       "    </tr>\n",
       "    <tr>\n",
       "      <th>4980</th>\n",
       "      <td>-0.596218</td>\n",
       "      <td>-3.539279</td>\n",
       "      <td>1.554941</td>\n",
       "      <td>-0.030173</td>\n",
       "      <td>0.000103</td>\n",
       "    </tr>\n",
       "    <tr>\n",
       "      <th>8646</th>\n",
       "      <td>0.132181</td>\n",
       "      <td>-4.173611</td>\n",
       "      <td>0.602859</td>\n",
       "      <td>-1.264752</td>\n",
       "      <td>0.000032</td>\n",
       "    </tr>\n",
       "  </tbody>\n",
       "</table>\n",
       "<p>2100 rows × 5 columns</p>\n",
       "</div>"
      ],
      "text/plain": [
       "      known_col_0  known_col_1  known_col_3  known_col_4  prediction_beforeRI\n",
       "9648    -1.376924     2.638756    -2.550811    -0.645050             0.987590\n",
       "1595    -1.923012     2.688573    -0.950701     0.332375             0.982132\n",
       "8192    -0.573999     3.189136    -0.923375    -1.638883             0.980523\n",
       "3874    -1.501789     3.138081     0.523119    -1.181993             0.967936\n",
       "7028    -0.683603     2.430056    -1.087961     0.631205             0.966109\n",
       "...           ...          ...          ...          ...                  ...\n",
       "7773     0.289924    -3.031079     0.382012    -0.497031             0.000340\n",
       "9431     1.650316    -2.459913     1.090615    -1.389713             0.000330\n",
       "8295    -1.582314    -3.711331     0.076296     0.311418             0.000258\n",
       "4980    -0.596218    -3.539279     1.554941    -0.030173             0.000103\n",
       "8646     0.132181    -4.173611     0.602859    -1.264752             0.000032\n",
       "\n",
       "[2100 rows x 5 columns]"
      ]
     },
     "execution_count": 27,
     "metadata": {},
     "output_type": "execute_result"
    },
    {
     "data": {
      "application/javascript": [
       "\n",
       "            setTimeout(function() {\n",
       "                var nbb_cell_id = 27;\n",
       "                var nbb_unformatted_code = \"X_test_2[\\\"prediction_beforeRI\\\"] = test_pred\\nX_test_2.sort_values(\\\"prediction_beforeRI\\\", ascending=False)\";\n",
       "                var nbb_formatted_code = \"X_test_2[\\\"prediction_beforeRI\\\"] = test_pred\\nX_test_2.sort_values(\\\"prediction_beforeRI\\\", ascending=False)\";\n",
       "                var nbb_cells = Jupyter.notebook.get_cells();\n",
       "                for (var i = 0; i < nbb_cells.length; ++i) {\n",
       "                    if (nbb_cells[i].input_prompt_number == nbb_cell_id) {\n",
       "                        if (nbb_cells[i].get_text() == nbb_unformatted_code) {\n",
       "                             nbb_cells[i].set_text(nbb_formatted_code);\n",
       "                        }\n",
       "                        break;\n",
       "                    }\n",
       "                }\n",
       "            }, 500);\n",
       "            "
      ],
      "text/plain": [
       "<IPython.core.display.Javascript object>"
      ]
     },
     "metadata": {},
     "output_type": "display_data"
    }
   ],
   "source": [
    "X_test_2[\"prediction_beforeRI\"] = test_pred\n",
    "X_test_2.sort_values(\"prediction_beforeRI\", ascending=False)"
   ]
  },
  {
   "cell_type": "code",
   "execution_count": 28,
   "metadata": {},
   "outputs": [
    {
     "data": {
      "text/plain": [
       "(array([1011.,  371.,  200.,  138.,  110.,   79.,   66.,   53.,   38.,\n",
       "          34.]),\n",
       " array([3.15243185e-05, 9.87874011e-02, 1.97543278e-01, 2.96299155e-01,\n",
       "        3.95055031e-01, 4.93810908e-01, 5.92566785e-01, 6.91322662e-01,\n",
       "        7.90078539e-01, 8.88834415e-01, 9.87590292e-01]),\n",
       " <a list of 10 Patch objects>)"
      ]
     },
     "execution_count": 28,
     "metadata": {},
     "output_type": "execute_result"
    },
    {
     "data": {
      "image/png": "[encoded data removed]",
      "text/plain": [
       "<Figure size 432x288 with 1 Axes>"
      ]
     },
     "metadata": {
      "needs_background": "light"
     },
     "output_type": "display_data"
    },
    {
     "data": {
      "application/javascript": [
       "\n",
       "            setTimeout(function() {\n",
       "                var nbb_cell_id = 28;\n",
       "                var nbb_unformatted_code = \"plt.hist(X_test_2[\\\"prediction_beforeRI\\\"], bins=10)\";\n",
       "                var nbb_formatted_code = \"plt.hist(X_test_2[\\\"prediction_beforeRI\\\"], bins=10)\";\n",
       "                var nbb_cells = Jupyter.notebook.get_cells();\n",
       "                for (var i = 0; i < nbb_cells.length; ++i) {\n",
       "                    if (nbb_cells[i].input_prompt_number == nbb_cell_id) {\n",
       "                        if (nbb_cells[i].get_text() == nbb_unformatted_code) {\n",
       "                             nbb_cells[i].set_text(nbb_formatted_code);\n",
       "                        }\n",
       "                        break;\n",
       "                    }\n",
       "                }\n",
       "            }, 500);\n",
       "            "
      ],
      "text/plain": [
       "<IPython.core.display.Javascript object>"
      ]
     },
     "metadata": {},
     "output_type": "display_data"
    }
   ],
   "source": [
    "plt.hist(X_test_2[\"prediction_beforeRI\"], bins=10)"
   ]
  },
  {
   "cell_type": "markdown",
   "metadata": {},
   "source": [
    "### Function for predictions"
   ]
  },
  {
   "cell_type": "markdown",
   "metadata": {},
   "source": [
    "Predictions1 uses predict_proba; predictions 2 uses predict"
   ]
  },
  {
   "cell_type": "code",
   "execution_count": 29,
   "metadata": {},
   "outputs": [
    {
     "data": {
      "application/javascript": [
       "\n",
       "            setTimeout(function() {\n",
       "                var nbb_cell_id = 29;\n",
       "                var nbb_unformatted_code = \"def predictions1(model, treshold):\\n    # Join predictions with train new\\n    pred = model.predict_proba(dfr_dev3)[:, 1]\\n    pred2 = pd.DataFrame(\\n        data=pred,\\n        columns=[\\\"prediction2\\\"],\\n        index=dfr_dev2.index.copy(),\\n    )\\n    pred2[\\\"prediction_beforeRI\\\"] = pred2[\\\"prediction2\\\"].apply(\\n        lambda x: 0 if (x < treshold) else 1\\n    )\\n    outcome = pd.merge(\\n        dfr_dev2,\\n        pred2[[\\\"prediction_beforeRI\\\"]],\\n        how=\\\"inner\\\",\\n        left_index=True,\\n        right_index=True,\\n    )\\n    # pred_test1.dropna(subset=[\\\"prediction_beforeRI\\\"], inplace=True)\\n    outcome = outcome[[\\\"id\\\", \\\"prediction_beforeRI\\\"]]\\n    return outcome\";\n",
       "                var nbb_formatted_code = \"def predictions1(model, treshold):\\n    # Join predictions with train new\\n    pred = model.predict_proba(dfr_dev3)[:, 1]\\n    pred2 = pd.DataFrame(\\n        data=pred,\\n        columns=[\\\"prediction2\\\"],\\n        index=dfr_dev2.index.copy(),\\n    )\\n    pred2[\\\"prediction_beforeRI\\\"] = pred2[\\\"prediction2\\\"].apply(\\n        lambda x: 0 if (x < treshold) else 1\\n    )\\n    outcome = pd.merge(\\n        dfr_dev2,\\n        pred2[[\\\"prediction_beforeRI\\\"]],\\n        how=\\\"inner\\\",\\n        left_index=True,\\n        right_index=True,\\n    )\\n    # pred_test1.dropna(subset=[\\\"prediction_beforeRI\\\"], inplace=True)\\n    outcome = outcome[[\\\"id\\\", \\\"prediction_beforeRI\\\"]]\\n    return outcome\";\n",
       "                var nbb_cells = Jupyter.notebook.get_cells();\n",
       "                for (var i = 0; i < nbb_cells.length; ++i) {\n",
       "                    if (nbb_cells[i].input_prompt_number == nbb_cell_id) {\n",
       "                        if (nbb_cells[i].get_text() == nbb_unformatted_code) {\n",
       "                             nbb_cells[i].set_text(nbb_formatted_code);\n",
       "                        }\n",
       "                        break;\n",
       "                    }\n",
       "                }\n",
       "            }, 500);\n",
       "            "
      ],
      "text/plain": [
       "<IPython.core.display.Javascript object>"
      ]
     },
     "metadata": {},
     "output_type": "display_data"
    }
   ],
   "source": [
    "def predictions1(model, treshold):\n",
    "    # Join predictions with train new\n",
    "    pred = model.predict_proba(dfr_dev3)[:, 1]\n",
    "    pred2 = pd.DataFrame(\n",
    "        data=pred,\n",
    "        columns=[\"prediction2\"],\n",
    "        index=dfr_dev2.index.copy(),\n",
    "    )\n",
    "    pred2[\"prediction_beforeRI\"] = pred2[\"prediction2\"].apply(\n",
    "        lambda x: 0 if (x < treshold) else 1\n",
    "    )\n",
    "    outcome = pd.merge(\n",
    "        dfr_dev2,\n",
    "        pred2[[\"prediction_beforeRI\"]],\n",
    "        how=\"inner\",\n",
    "        left_index=True,\n",
    "        right_index=True,\n",
    "    )\n",
    "    # pred_test1.dropna(subset=[\"prediction_beforeRI\"], inplace=True)\n",
    "    outcome = outcome[[\"id\", \"prediction_beforeRI\"]]\n",
    "    return outcome"
   ]
  },
  {
   "cell_type": "code",
   "execution_count": 30,
   "metadata": {},
   "outputs": [
    {
     "data": {
      "application/javascript": [
       "\n",
       "            setTimeout(function() {\n",
       "                var nbb_cell_id = 30;\n",
       "                var nbb_unformatted_code = \"def predictions2(model, treshold):\\n    # Join predictions with train new\\n    pred = model.predict(dfr_dev3)\\n    pred2 = pd.DataFrame(\\n        data=pred,\\n        columns=[\\\"prediction2\\\"],\\n        index=dfr_dev2.index.copy(),\\n    )\\n    pred2[\\\"prediction_beforeRI\\\"] = pred2[\\\"prediction2\\\"].apply(\\n        lambda x: 0 if (x < treshold) else 1\\n    )\\n    outcome = pd.merge(\\n        dfr_dev2,\\n        pred2[[\\\"prediction_beforeRI\\\"]],\\n        how=\\\"inner\\\",\\n        left_index=True,\\n        right_index=True,\\n    )\\n    # pred_test1.dropna(subset=[\\\"prediction_beforeRI\\\"], inplace=True)\\n    outcome = outcome[[\\\"id\\\", \\\"prediction_beforeRI\\\"]]\\n    return outcome\";\n",
       "                var nbb_formatted_code = \"def predictions2(model, treshold):\\n    # Join predictions with train new\\n    pred = model.predict(dfr_dev3)\\n    pred2 = pd.DataFrame(\\n        data=pred,\\n        columns=[\\\"prediction2\\\"],\\n        index=dfr_dev2.index.copy(),\\n    )\\n    pred2[\\\"prediction_beforeRI\\\"] = pred2[\\\"prediction2\\\"].apply(\\n        lambda x: 0 if (x < treshold) else 1\\n    )\\n    outcome = pd.merge(\\n        dfr_dev2,\\n        pred2[[\\\"prediction_beforeRI\\\"]],\\n        how=\\\"inner\\\",\\n        left_index=True,\\n        right_index=True,\\n    )\\n    # pred_test1.dropna(subset=[\\\"prediction_beforeRI\\\"], inplace=True)\\n    outcome = outcome[[\\\"id\\\", \\\"prediction_beforeRI\\\"]]\\n    return outcome\";\n",
       "                var nbb_cells = Jupyter.notebook.get_cells();\n",
       "                for (var i = 0; i < nbb_cells.length; ++i) {\n",
       "                    if (nbb_cells[i].input_prompt_number == nbb_cell_id) {\n",
       "                        if (nbb_cells[i].get_text() == nbb_unformatted_code) {\n",
       "                             nbb_cells[i].set_text(nbb_formatted_code);\n",
       "                        }\n",
       "                        break;\n",
       "                    }\n",
       "                }\n",
       "            }, 500);\n",
       "            "
      ],
      "text/plain": [
       "<IPython.core.display.Javascript object>"
      ]
     },
     "metadata": {},
     "output_type": "display_data"
    }
   ],
   "source": [
    "def predictions2(model, treshold):\n",
    "    # Join predictions with train new\n",
    "    pred = model.predict(dfr_dev3)\n",
    "    pred2 = pd.DataFrame(\n",
    "        data=pred,\n",
    "        columns=[\"prediction2\"],\n",
    "        index=dfr_dev2.index.copy(),\n",
    "    )\n",
    "    pred2[\"prediction_beforeRI\"] = pred2[\"prediction2\"].apply(\n",
    "        lambda x: 0 if (x < treshold) else 1\n",
    "    )\n",
    "    outcome = pd.merge(\n",
    "        dfr_dev2,\n",
    "        pred2[[\"prediction_beforeRI\"]],\n",
    "        how=\"inner\",\n",
    "        left_index=True,\n",
    "        right_index=True,\n",
    "    )\n",
    "    # pred_test1.dropna(subset=[\"prediction_beforeRI\"], inplace=True)\n",
    "    outcome = outcome[[\"id\", \"prediction_beforeRI\"]]\n",
    "    return outcome"
   ]
  },
  {
   "cell_type": "code",
   "execution_count": 31,
   "metadata": {},
   "outputs": [
    {
     "data": {
      "application/javascript": [
       "\n",
       "            setTimeout(function() {\n",
       "                var nbb_cell_id = 31;\n",
       "                var nbb_unformatted_code = \"def predictions1(model, treshold):\\n    # Join predictions with train new\\n    pred = model.predict_proba(dfr_dev3)[:, 1]\\n    pred2 = pd.DataFrame(\\n        data=pred,\\n        columns=[\\\"prediction2\\\"],\\n        index=dfr_dev2.index.copy(),\\n    )\\n    pred2[\\\"prediction_beforeRI\\\"] = pred2[\\\"prediction2\\\"].apply(\\n        lambda x: 0 if (x < treshold) else 1\\n    )\\n    outcome = pd.merge(\\n        dfr_dev2,\\n        pred2[[\\\"prediction_beforeRI\\\"]],\\n        how=\\\"inner\\\",\\n        left_index=True,\\n        right_index=True,\\n    )\\n    # pred_test1.dropna(subset=[\\\"prediction_beforeRI\\\"], inplace=True)\\n    outcome = outcome[[\\\"id\\\", \\\"prediction_beforeRI\\\"]]\\n    return outcome\";\n",
       "                var nbb_formatted_code = \"def predictions1(model, treshold):\\n    # Join predictions with train new\\n    pred = model.predict_proba(dfr_dev3)[:, 1]\\n    pred2 = pd.DataFrame(\\n        data=pred,\\n        columns=[\\\"prediction2\\\"],\\n        index=dfr_dev2.index.copy(),\\n    )\\n    pred2[\\\"prediction_beforeRI\\\"] = pred2[\\\"prediction2\\\"].apply(\\n        lambda x: 0 if (x < treshold) else 1\\n    )\\n    outcome = pd.merge(\\n        dfr_dev2,\\n        pred2[[\\\"prediction_beforeRI\\\"]],\\n        how=\\\"inner\\\",\\n        left_index=True,\\n        right_index=True,\\n    )\\n    # pred_test1.dropna(subset=[\\\"prediction_beforeRI\\\"], inplace=True)\\n    outcome = outcome[[\\\"id\\\", \\\"prediction_beforeRI\\\"]]\\n    return outcome\";\n",
       "                var nbb_cells = Jupyter.notebook.get_cells();\n",
       "                for (var i = 0; i < nbb_cells.length; ++i) {\n",
       "                    if (nbb_cells[i].input_prompt_number == nbb_cell_id) {\n",
       "                        if (nbb_cells[i].get_text() == nbb_unformatted_code) {\n",
       "                             nbb_cells[i].set_text(nbb_formatted_code);\n",
       "                        }\n",
       "                        break;\n",
       "                    }\n",
       "                }\n",
       "            }, 500);\n",
       "            "
      ],
      "text/plain": [
       "<IPython.core.display.Javascript object>"
      ]
     },
     "metadata": {},
     "output_type": "display_data"
    }
   ],
   "source": [
    "def predictions1(model, treshold):\n",
    "    # Join predictions with train new\n",
    "    pred = model.predict_proba(dfr_dev3)[:, 1]\n",
    "    pred2 = pd.DataFrame(\n",
    "        data=pred,\n",
    "        columns=[\"prediction2\"],\n",
    "        index=dfr_dev2.index.copy(),\n",
    "    )\n",
    "    pred2[\"prediction_beforeRI\"] = pred2[\"prediction2\"].apply(\n",
    "        lambda x: 0 if (x < treshold) else 1\n",
    "    )\n",
    "    outcome = pd.merge(\n",
    "        dfr_dev2,\n",
    "        pred2[[\"prediction_beforeRI\"]],\n",
    "        how=\"inner\",\n",
    "        left_index=True,\n",
    "        right_index=True,\n",
    "    )\n",
    "    # pred_test1.dropna(subset=[\"prediction_beforeRI\"], inplace=True)\n",
    "    outcome = outcome[[\"id\", \"prediction_beforeRI\"]]\n",
    "    return outcome"
   ]
  },
  {
   "cell_type": "markdown",
   "metadata": {},
   "source": [
    "### Predictions"
   ]
  },
  {
   "cell_type": "code",
   "execution_count": 32,
   "metadata": {},
   "outputs": [
    {
     "data": {
      "application/javascript": [
       "\n",
       "            setTimeout(function() {\n",
       "                var nbb_cell_id = 32;\n",
       "                var nbb_unformatted_code = \"ri1_train = predictions1(logreg, 0.1)  # Logistic Regression\\nri2_train = predictions1(dt, 0.1)  # Decision Tree\\nri3_train = predictions1(rf, 0.1)  # Random Forest\\nri4_train = predictions2(svm, 0.1)  # SVM\\nri5_train = predictions2(km, 0.1)  # K-means on Accepts\\nri8_train = predictions2(gbm, 0.1)  # Light GBM ranking 0.2\\nri9_train = predictions2(gbm, 0.1)  # Light GBM ranking 0.1\";\n",
       "                var nbb_formatted_code = \"ri1_train = predictions1(logreg, 0.1)  # Logistic Regression\\nri2_train = predictions1(dt, 0.1)  # Decision Tree\\nri3_train = predictions1(rf, 0.1)  # Random Forest\\nri4_train = predictions2(svm, 0.1)  # SVM\\nri5_train = predictions2(km, 0.1)  # K-means on Accepts\\nri8_train = predictions2(gbm, 0.1)  # Light GBM ranking 0.2\\nri9_train = predictions2(gbm, 0.1)  # Light GBM ranking 0.1\";\n",
       "                var nbb_cells = Jupyter.notebook.get_cells();\n",
       "                for (var i = 0; i < nbb_cells.length; ++i) {\n",
       "                    if (nbb_cells[i].input_prompt_number == nbb_cell_id) {\n",
       "                        if (nbb_cells[i].get_text() == nbb_unformatted_code) {\n",
       "                             nbb_cells[i].set_text(nbb_formatted_code);\n",
       "                        }\n",
       "                        break;\n",
       "                    }\n",
       "                }\n",
       "            }, 500);\n",
       "            "
      ],
      "text/plain": [
       "<IPython.core.display.Javascript object>"
      ]
     },
     "metadata": {},
     "output_type": "display_data"
    }
   ],
   "source": [
    "ri1_train = predictions1(logreg, 0.1)  # Logistic Regression\n",
    "ri2_train = predictions1(dt, 0.1)  # Decision Tree\n",
    "ri3_train = predictions1(rf, 0.1)  # Random Forest\n",
    "ri4_train = predictions2(svm, 0.1)  # SVM\n",
    "ri5_train = predictions2(km, 0.1)  # K-means on Accepts\n",
    "ri8_train = predictions2(gbm, 0.1)  # Light GBM ranking 0.2\n",
    "ri9_train = predictions2(gbm, 0.1)  # Light GBM ranking 0.1"
   ]
  },
  {
   "cell_type": "markdown",
   "metadata": {},
   "source": [
    "### K-Means"
   ]
  },
  {
   "cell_type": "markdown",
   "metadata": {},
   "source": [
    "to-do:\n",
    "- grid search/hypterparameter optimization\n",
    "- visualization"
   ]
  },
  {
   "cell_type": "code",
   "execution_count": 33,
   "metadata": {},
   "outputs": [
    {
     "data": {
      "application/javascript": [
       "\n",
       "            setTimeout(function() {\n",
       "                var nbb_cell_id = 33;\n",
       "                var nbb_unformatted_code = \"kmeans = KMeans(\\n    init=\\\"random\\\", n_clusters=2, n_init=10, max_iter=300, random_state=7\\n).fit(dfr_dev3)\";\n",
       "                var nbb_formatted_code = \"kmeans = KMeans(\\n    init=\\\"random\\\", n_clusters=2, n_init=10, max_iter=300, random_state=7\\n).fit(dfr_dev3)\";\n",
       "                var nbb_cells = Jupyter.notebook.get_cells();\n",
       "                for (var i = 0; i < nbb_cells.length; ++i) {\n",
       "                    if (nbb_cells[i].input_prompt_number == nbb_cell_id) {\n",
       "                        if (nbb_cells[i].get_text() == nbb_unformatted_code) {\n",
       "                             nbb_cells[i].set_text(nbb_formatted_code);\n",
       "                        }\n",
       "                        break;\n",
       "                    }\n",
       "                }\n",
       "            }, 500);\n",
       "            "
      ],
      "text/plain": [
       "<IPython.core.display.Javascript object>"
      ]
     },
     "metadata": {},
     "output_type": "display_data"
    }
   ],
   "source": [
    "kmeans = KMeans(\n",
    "    init=\"random\", n_clusters=2, n_init=10, max_iter=300, random_state=7\n",
    ").fit(dfr_dev3)"
   ]
  },
  {
   "cell_type": "code",
   "execution_count": 34,
   "metadata": {},
   "outputs": [
    {
     "name": "stdout",
     "output_type": "stream",
     "text": [
      "Inertia:  5482.266692389834\n",
      "Cluster centers:  [[ 0.04736156  0.85490107  0.1662508   1.0491767 ]\n",
      " [-0.05036393 -0.75345219  0.25304772  1.08480687]]\n",
      "N iter:  28\n",
      "Labels:  [0 1 0 ... 1 1 1]\n"
     ]
    },
    {
     "data": {
      "application/javascript": [
       "\n",
       "            setTimeout(function() {\n",
       "                var nbb_cell_id = 34;\n",
       "                var nbb_unformatted_code = \"print(\\\"Inertia: \\\", kmeans.inertia_)\\nprint(\\\"Cluster centers: \\\", kmeans.cluster_centers_)\\nprint(\\\"N iter: \\\", kmeans.n_iter_)\\nprint(\\\"Labels: \\\", kmeans.labels_)\";\n",
       "                var nbb_formatted_code = \"print(\\\"Inertia: \\\", kmeans.inertia_)\\nprint(\\\"Cluster centers: \\\", kmeans.cluster_centers_)\\nprint(\\\"N iter: \\\", kmeans.n_iter_)\\nprint(\\\"Labels: \\\", kmeans.labels_)\";\n",
       "                var nbb_cells = Jupyter.notebook.get_cells();\n",
       "                for (var i = 0; i < nbb_cells.length; ++i) {\n",
       "                    if (nbb_cells[i].input_prompt_number == nbb_cell_id) {\n",
       "                        if (nbb_cells[i].get_text() == nbb_unformatted_code) {\n",
       "                             nbb_cells[i].set_text(nbb_formatted_code);\n",
       "                        }\n",
       "                        break;\n",
       "                    }\n",
       "                }\n",
       "            }, 500);\n",
       "            "
      ],
      "text/plain": [
       "<IPython.core.display.Javascript object>"
      ]
     },
     "metadata": {},
     "output_type": "display_data"
    }
   ],
   "source": [
    "print(\"Inertia: \", kmeans.inertia_)\n",
    "print(\"Cluster centers: \", kmeans.cluster_centers_)\n",
    "print(\"N iter: \", kmeans.n_iter_)\n",
    "print(\"Labels: \", kmeans.labels_)"
   ]
  },
  {
   "cell_type": "markdown",
   "metadata": {},
   "source": [
    "### Reject Inference K-means"
   ]
  },
  {
   "cell_type": "markdown",
   "metadata": {},
   "source": [
    "### Train set"
   ]
  },
  {
   "cell_type": "code",
   "execution_count": 35,
   "metadata": {},
   "outputs": [
    {
     "data": {
      "text/html": [
       "<div>\n",
       "<style scoped>\n",
       "    .dataframe tbody tr th:only-of-type {\n",
       "        vertical-align: middle;\n",
       "    }\n",
       "\n",
       "    .dataframe tbody tr th {\n",
       "        vertical-align: top;\n",
       "    }\n",
       "\n",
       "    .dataframe thead th {\n",
       "        text-align: right;\n",
       "    }\n",
       "</style>\n",
       "<table border=\"1\" class=\"dataframe\">\n",
       "  <thead>\n",
       "    <tr style=\"text-align: right;\">\n",
       "      <th></th>\n",
       "      <th>Rejects</th>\n",
       "    </tr>\n",
       "    <tr>\n",
       "      <th>prediction</th>\n",
       "      <th></th>\n",
       "    </tr>\n",
       "  </thead>\n",
       "  <tbody>\n",
       "    <tr>\n",
       "      <th>0</th>\n",
       "      <td>992</td>\n",
       "    </tr>\n",
       "    <tr>\n",
       "      <th>1</th>\n",
       "      <td>1108</td>\n",
       "    </tr>\n",
       "  </tbody>\n",
       "</table>\n",
       "</div>"
      ],
      "text/plain": [
       "            Rejects\n",
       "prediction         \n",
       "0               992\n",
       "1              1108"
      ]
     },
     "execution_count": 35,
     "metadata": {},
     "output_type": "execute_result"
    },
    {
     "data": {
      "application/javascript": [
       "\n",
       "            setTimeout(function() {\n",
       "                var nbb_cell_id = 35;\n",
       "                var nbb_unformatted_code = \"# Predictions\\nrej_test_predictions_kmeans = kmeans.labels_\\ndf_pred_rej_kmeans = pd.DataFrame(\\n    data=rej_test_predictions_kmeans, columns=[\\\"prediction\\\"]\\n)\\ndf_pred_rej_kmeans[\\\"Rejects\\\"] = df_pred_rej_kmeans.groupby(\\\"prediction\\\")[\\n    \\\"prediction\\\"\\n].transform(\\\"count\\\")\\ndf_pred_rej_kmeans.groupby([\\\"prediction\\\"]).count()\";\n",
       "                var nbb_formatted_code = \"# Predictions\\nrej_test_predictions_kmeans = kmeans.labels_\\ndf_pred_rej_kmeans = pd.DataFrame(\\n    data=rej_test_predictions_kmeans, columns=[\\\"prediction\\\"]\\n)\\ndf_pred_rej_kmeans[\\\"Rejects\\\"] = df_pred_rej_kmeans.groupby(\\\"prediction\\\")[\\n    \\\"prediction\\\"\\n].transform(\\\"count\\\")\\ndf_pred_rej_kmeans.groupby([\\\"prediction\\\"]).count()\";\n",
       "                var nbb_cells = Jupyter.notebook.get_cells();\n",
       "                for (var i = 0; i < nbb_cells.length; ++i) {\n",
       "                    if (nbb_cells[i].input_prompt_number == nbb_cell_id) {\n",
       "                        if (nbb_cells[i].get_text() == nbb_unformatted_code) {\n",
       "                             nbb_cells[i].set_text(nbb_formatted_code);\n",
       "                        }\n",
       "                        break;\n",
       "                    }\n",
       "                }\n",
       "            }, 500);\n",
       "            "
      ],
      "text/plain": [
       "<IPython.core.display.Javascript object>"
      ]
     },
     "metadata": {},
     "output_type": "display_data"
    }
   ],
   "source": [
    "# Predictions\n",
    "rej_test_predictions_kmeans = kmeans.labels_\n",
    "df_pred_rej_kmeans = pd.DataFrame(\n",
    "    data=rej_test_predictions_kmeans, columns=[\"prediction\"]\n",
    ")\n",
    "df_pred_rej_kmeans[\"Rejects\"] = df_pred_rej_kmeans.groupby(\"prediction\")[\n",
    "    \"prediction\"\n",
    "].transform(\"count\")\n",
    "df_pred_rej_kmeans.groupby([\"prediction\"]).count()"
   ]
  },
  {
   "cell_type": "code",
   "execution_count": 36,
   "metadata": {},
   "outputs": [
    {
     "data": {
      "text/html": [
       "<div>\n",
       "<style scoped>\n",
       "    .dataframe tbody tr th:only-of-type {\n",
       "        vertical-align: middle;\n",
       "    }\n",
       "\n",
       "    .dataframe tbody tr th {\n",
       "        vertical-align: top;\n",
       "    }\n",
       "\n",
       "    .dataframe thead th {\n",
       "        text-align: right;\n",
       "    }\n",
       "</style>\n",
       "<table border=\"1\" class=\"dataframe\">\n",
       "  <thead>\n",
       "    <tr style=\"text-align: right;\">\n",
       "      <th></th>\n",
       "      <th>id</th>\n",
       "      <th>prediction_beforeRI</th>\n",
       "    </tr>\n",
       "  </thead>\n",
       "  <tbody>\n",
       "    <tr>\n",
       "      <th>50</th>\n",
       "      <td>8e61baf3-163f-473a-9e2f-2514ed922a65</td>\n",
       "      <td>0</td>\n",
       "    </tr>\n",
       "    <tr>\n",
       "      <th>4045</th>\n",
       "      <td>66d51e2a-7b82-4e3e-ae3c-2b50bdc9cc1e</td>\n",
       "      <td>1</td>\n",
       "    </tr>\n",
       "    <tr>\n",
       "      <th>1399</th>\n",
       "      <td>43c0cd8b-4b11-4e53-be17-13c3443abd4f</td>\n",
       "      <td>0</td>\n",
       "    </tr>\n",
       "    <tr>\n",
       "      <th>6738</th>\n",
       "      <td>66c5c6e2-4b6e-40de-83b1-9ebf839088bf</td>\n",
       "      <td>1</td>\n",
       "    </tr>\n",
       "    <tr>\n",
       "      <th>9886</th>\n",
       "      <td>4ea16ab8-ea25-494f-bfbe-5172fc4dba15</td>\n",
       "      <td>1</td>\n",
       "    </tr>\n",
       "    <tr>\n",
       "      <th>...</th>\n",
       "      <td>...</td>\n",
       "      <td>...</td>\n",
       "    </tr>\n",
       "    <tr>\n",
       "      <th>9733</th>\n",
       "      <td>b6aed10a-4e4e-4f5d-85d8-cd881228cd57</td>\n",
       "      <td>0</td>\n",
       "    </tr>\n",
       "    <tr>\n",
       "      <th>2811</th>\n",
       "      <td>8eb086bc-b99a-4bbe-a6f4-556253fe095c</td>\n",
       "      <td>1</td>\n",
       "    </tr>\n",
       "    <tr>\n",
       "      <th>9522</th>\n",
       "      <td>ac3204fb-9b3f-430a-a39b-ca2ed712acd9</td>\n",
       "      <td>1</td>\n",
       "    </tr>\n",
       "    <tr>\n",
       "      <th>7219</th>\n",
       "      <td>c75f85db-47b7-4b73-926c-2a3e025b3115</td>\n",
       "      <td>1</td>\n",
       "    </tr>\n",
       "    <tr>\n",
       "      <th>805</th>\n",
       "      <td>47b66855-aa53-4365-b38c-141343fe4136</td>\n",
       "      <td>1</td>\n",
       "    </tr>\n",
       "  </tbody>\n",
       "</table>\n",
       "<p>2100 rows × 2 columns</p>\n",
       "</div>"
      ],
      "text/plain": [
       "                                        id  prediction_beforeRI\n",
       "50    8e61baf3-163f-473a-9e2f-2514ed922a65                    0\n",
       "4045  66d51e2a-7b82-4e3e-ae3c-2b50bdc9cc1e                    1\n",
       "1399  43c0cd8b-4b11-4e53-be17-13c3443abd4f                    0\n",
       "6738  66c5c6e2-4b6e-40de-83b1-9ebf839088bf                    1\n",
       "9886  4ea16ab8-ea25-494f-bfbe-5172fc4dba15                    1\n",
       "...                                    ...                  ...\n",
       "9733  b6aed10a-4e4e-4f5d-85d8-cd881228cd57                    0\n",
       "2811  8eb086bc-b99a-4bbe-a6f4-556253fe095c                    1\n",
       "9522  ac3204fb-9b3f-430a-a39b-ca2ed712acd9                    1\n",
       "7219  c75f85db-47b7-4b73-926c-2a3e025b3115                    1\n",
       "805   47b66855-aa53-4365-b38c-141343fe4136                    1\n",
       "\n",
       "[2100 rows x 2 columns]"
      ]
     },
     "execution_count": 36,
     "metadata": {},
     "output_type": "execute_result"
    },
    {
     "data": {
      "application/javascript": [
       "\n",
       "            setTimeout(function() {\n",
       "                var nbb_cell_id = 36;\n",
       "                var nbb_unformatted_code = \"# Join predictions with train new\\npred_ri = kmeans.labels_\\npred_ri2 = pd.DataFrame(\\n    data=pred_ri, columns=[\\\"prediction_beforeRI\\\"], index=dfr_dev2.index.copy()\\n)\\nri6 = pd.merge(\\n    dfr_dev2,\\n    pred_ri2[[\\\"prediction_beforeRI\\\"]],\\n    how=\\\"inner\\\",\\n    left_index=True,\\n    right_index=True,\\n)\\n# pred_test1.dropna(subset=[\\\"prediction_beforeRI\\\"], inplace=True)\\nri6_train = ri6[[\\\"id\\\", \\\"prediction_beforeRI\\\"]]\\nri6_train\";\n",
       "                var nbb_formatted_code = \"# Join predictions with train new\\npred_ri = kmeans.labels_\\npred_ri2 = pd.DataFrame(\\n    data=pred_ri, columns=[\\\"prediction_beforeRI\\\"], index=dfr_dev2.index.copy()\\n)\\nri6 = pd.merge(\\n    dfr_dev2,\\n    pred_ri2[[\\\"prediction_beforeRI\\\"]],\\n    how=\\\"inner\\\",\\n    left_index=True,\\n    right_index=True,\\n)\\n# pred_test1.dropna(subset=[\\\"prediction_beforeRI\\\"], inplace=True)\\nri6_train = ri6[[\\\"id\\\", \\\"prediction_beforeRI\\\"]]\\nri6_train\";\n",
       "                var nbb_cells = Jupyter.notebook.get_cells();\n",
       "                for (var i = 0; i < nbb_cells.length; ++i) {\n",
       "                    if (nbb_cells[i].input_prompt_number == nbb_cell_id) {\n",
       "                        if (nbb_cells[i].get_text() == nbb_unformatted_code) {\n",
       "                             nbb_cells[i].set_text(nbb_formatted_code);\n",
       "                        }\n",
       "                        break;\n",
       "                    }\n",
       "                }\n",
       "            }, 500);\n",
       "            "
      ],
      "text/plain": [
       "<IPython.core.display.Javascript object>"
      ]
     },
     "metadata": {},
     "output_type": "display_data"
    }
   ],
   "source": [
    "# Join predictions with train new\n",
    "pred_ri = kmeans.labels_\n",
    "pred_ri2 = pd.DataFrame(\n",
    "    data=pred_ri, columns=[\"prediction_beforeRI\"], index=dfr_dev2.index.copy()\n",
    ")\n",
    "ri6 = pd.merge(\n",
    "    dfr_dev2,\n",
    "    pred_ri2[[\"prediction_beforeRI\"]],\n",
    "    how=\"inner\",\n",
    "    left_index=True,\n",
    "    right_index=True,\n",
    ")\n",
    "# pred_test1.dropna(subset=[\"prediction_beforeRI\"], inplace=True)\n",
    "ri6_train = ri6[[\"id\", \"prediction_beforeRI\"]]\n",
    "ri6_train"
   ]
  },
  {
   "cell_type": "code",
   "execution_count": 37,
   "metadata": {},
   "outputs": [
    {
     "data": {
      "text/plain": [
       "(900, 4)"
      ]
     },
     "execution_count": 37,
     "metadata": {},
     "output_type": "execute_result"
    },
    {
     "data": {
      "application/javascript": [
       "\n",
       "            setTimeout(function() {\n",
       "                var nbb_cell_id = 37;\n",
       "                var nbb_unformatted_code = \"dfr_test3.shape\";\n",
       "                var nbb_formatted_code = \"dfr_test3.shape\";\n",
       "                var nbb_cells = Jupyter.notebook.get_cells();\n",
       "                for (var i = 0; i < nbb_cells.length; ++i) {\n",
       "                    if (nbb_cells[i].input_prompt_number == nbb_cell_id) {\n",
       "                        if (nbb_cells[i].get_text() == nbb_unformatted_code) {\n",
       "                             nbb_cells[i].set_text(nbb_formatted_code);\n",
       "                        }\n",
       "                        break;\n",
       "                    }\n",
       "                }\n",
       "            }, 500);\n",
       "            "
      ],
      "text/plain": [
       "<IPython.core.display.Javascript object>"
      ]
     },
     "metadata": {},
     "output_type": "display_data"
    }
   ],
   "source": [
    "dfr_test3.shape"
   ]
  },
  {
   "cell_type": "markdown",
   "metadata": {},
   "source": [
    "### Test Set"
   ]
  },
  {
   "cell_type": "code",
   "execution_count": 38,
   "metadata": {},
   "outputs": [
    {
     "data": {
      "text/html": [
       "<div>\n",
       "<style scoped>\n",
       "    .dataframe tbody tr th:only-of-type {\n",
       "        vertical-align: middle;\n",
       "    }\n",
       "\n",
       "    .dataframe tbody tr th {\n",
       "        vertical-align: top;\n",
       "    }\n",
       "\n",
       "    .dataframe thead th {\n",
       "        text-align: right;\n",
       "    }\n",
       "</style>\n",
       "<table border=\"1\" class=\"dataframe\">\n",
       "  <thead>\n",
       "    <tr style=\"text-align: right;\">\n",
       "      <th></th>\n",
       "      <th>Rejects</th>\n",
       "    </tr>\n",
       "    <tr>\n",
       "      <th>prediction</th>\n",
       "      <th></th>\n",
       "    </tr>\n",
       "  </thead>\n",
       "  <tbody>\n",
       "    <tr>\n",
       "      <th>0</th>\n",
       "      <td>443</td>\n",
       "    </tr>\n",
       "    <tr>\n",
       "      <th>1</th>\n",
       "      <td>457</td>\n",
       "    </tr>\n",
       "  </tbody>\n",
       "</table>\n",
       "</div>"
      ],
      "text/plain": [
       "            Rejects\n",
       "prediction         \n",
       "0               443\n",
       "1               457"
      ]
     },
     "execution_count": 38,
     "metadata": {},
     "output_type": "execute_result"
    },
    {
     "data": {
      "application/javascript": [
       "\n",
       "            setTimeout(function() {\n",
       "                var nbb_cell_id = 38;\n",
       "                var nbb_unformatted_code = \"# Predictions\\nrej_test_predictions_kmeans2 = kmeans.predict(dfr_test3)\\ndf_pred_rej_kmeans2 = pd.DataFrame(\\n    data=rej_test_predictions_kmeans2,\\n    columns=[\\\"prediction\\\"],\\n    index=dfr_test3.index.copy(),\\n)\\ndf_pred_rej_kmeans2[\\\"Rejects\\\"] = df_pred_rej_kmeans2.groupby(\\\"prediction\\\")[\\n    \\\"prediction\\\"\\n].transform(\\\"count\\\")\\ndf_pred_rej_kmeans2.groupby([\\\"prediction\\\"]).count()\";\n",
       "                var nbb_formatted_code = \"# Predictions\\nrej_test_predictions_kmeans2 = kmeans.predict(dfr_test3)\\ndf_pred_rej_kmeans2 = pd.DataFrame(\\n    data=rej_test_predictions_kmeans2,\\n    columns=[\\\"prediction\\\"],\\n    index=dfr_test3.index.copy(),\\n)\\ndf_pred_rej_kmeans2[\\\"Rejects\\\"] = df_pred_rej_kmeans2.groupby(\\\"prediction\\\")[\\n    \\\"prediction\\\"\\n].transform(\\\"count\\\")\\ndf_pred_rej_kmeans2.groupby([\\\"prediction\\\"]).count()\";\n",
       "                var nbb_cells = Jupyter.notebook.get_cells();\n",
       "                for (var i = 0; i < nbb_cells.length; ++i) {\n",
       "                    if (nbb_cells[i].input_prompt_number == nbb_cell_id) {\n",
       "                        if (nbb_cells[i].get_text() == nbb_unformatted_code) {\n",
       "                             nbb_cells[i].set_text(nbb_formatted_code);\n",
       "                        }\n",
       "                        break;\n",
       "                    }\n",
       "                }\n",
       "            }, 500);\n",
       "            "
      ],
      "text/plain": [
       "<IPython.core.display.Javascript object>"
      ]
     },
     "metadata": {},
     "output_type": "display_data"
    }
   ],
   "source": [
    "# Predictions\n",
    "rej_test_predictions_kmeans2 = kmeans.predict(dfr_test3)\n",
    "df_pred_rej_kmeans2 = pd.DataFrame(\n",
    "    data=rej_test_predictions_kmeans2,\n",
    "    columns=[\"prediction\"],\n",
    "    index=dfr_test3.index.copy(),\n",
    ")\n",
    "df_pred_rej_kmeans2[\"Rejects\"] = df_pred_rej_kmeans2.groupby(\"prediction\")[\n",
    "    \"prediction\"\n",
    "].transform(\"count\")\n",
    "df_pred_rej_kmeans2.groupby([\"prediction\"]).count()"
   ]
  },
  {
   "cell_type": "code",
   "execution_count": 39,
   "metadata": {},
   "outputs": [
    {
     "data": {
      "text/html": [
       "<div>\n",
       "<style scoped>\n",
       "    .dataframe tbody tr th:only-of-type {\n",
       "        vertical-align: middle;\n",
       "    }\n",
       "\n",
       "    .dataframe tbody tr th {\n",
       "        vertical-align: top;\n",
       "    }\n",
       "\n",
       "    .dataframe thead th {\n",
       "        text-align: right;\n",
       "    }\n",
       "</style>\n",
       "<table border=\"1\" class=\"dataframe\">\n",
       "  <thead>\n",
       "    <tr style=\"text-align: right;\">\n",
       "      <th></th>\n",
       "      <th>id</th>\n",
       "      <th>prediction_beforeRI</th>\n",
       "    </tr>\n",
       "  </thead>\n",
       "  <tbody>\n",
       "    <tr>\n",
       "      <th>7870</th>\n",
       "      <td>aadf4eed-686c-4da8-a38a-67195908f32f</td>\n",
       "      <td>0</td>\n",
       "    </tr>\n",
       "    <tr>\n",
       "      <th>3305</th>\n",
       "      <td>e944fb81-69b0-4d5b-bb01-2151c0dca919</td>\n",
       "      <td>1</td>\n",
       "    </tr>\n",
       "    <tr>\n",
       "      <th>9408</th>\n",
       "      <td>36c90934-5b0a-4a9b-9c7b-517f24bed24c</td>\n",
       "      <td>1</td>\n",
       "    </tr>\n",
       "    <tr>\n",
       "      <th>2883</th>\n",
       "      <td>6d015135-b8fa-4be3-9b41-485af161059c</td>\n",
       "      <td>1</td>\n",
       "    </tr>\n",
       "    <tr>\n",
       "      <th>2082</th>\n",
       "      <td>50fefde7-6e28-43d8-a5dd-9d1326c18695</td>\n",
       "      <td>1</td>\n",
       "    </tr>\n",
       "    <tr>\n",
       "      <th>...</th>\n",
       "      <td>...</td>\n",
       "      <td>...</td>\n",
       "    </tr>\n",
       "    <tr>\n",
       "      <th>4682</th>\n",
       "      <td>4cb31357-ffaf-4031-a7eb-d33fd1f695b8</td>\n",
       "      <td>0</td>\n",
       "    </tr>\n",
       "    <tr>\n",
       "      <th>2857</th>\n",
       "      <td>3be709b5-8ff2-4c66-87b1-737fd6c40f36</td>\n",
       "      <td>0</td>\n",
       "    </tr>\n",
       "    <tr>\n",
       "      <th>6204</th>\n",
       "      <td>e85f3178-51e9-4581-a66e-5bf5f1f8a373</td>\n",
       "      <td>1</td>\n",
       "    </tr>\n",
       "    <tr>\n",
       "      <th>2452</th>\n",
       "      <td>ba3319a7-dad5-40fd-8924-c6b92766f57d</td>\n",
       "      <td>1</td>\n",
       "    </tr>\n",
       "    <tr>\n",
       "      <th>9195</th>\n",
       "      <td>2ba0a043-6e83-4d21-8b88-fb62df2343ba</td>\n",
       "      <td>0</td>\n",
       "    </tr>\n",
       "  </tbody>\n",
       "</table>\n",
       "<p>900 rows × 2 columns</p>\n",
       "</div>"
      ],
      "text/plain": [
       "                                        id  prediction_beforeRI\n",
       "7870  aadf4eed-686c-4da8-a38a-67195908f32f                    0\n",
       "3305  e944fb81-69b0-4d5b-bb01-2151c0dca919                    1\n",
       "9408  36c90934-5b0a-4a9b-9c7b-517f24bed24c                    1\n",
       "2883  6d015135-b8fa-4be3-9b41-485af161059c                    1\n",
       "2082  50fefde7-6e28-43d8-a5dd-9d1326c18695                    1\n",
       "...                                    ...                  ...\n",
       "4682  4cb31357-ffaf-4031-a7eb-d33fd1f695b8                    0\n",
       "2857  3be709b5-8ff2-4c66-87b1-737fd6c40f36                    0\n",
       "6204  e85f3178-51e9-4581-a66e-5bf5f1f8a373                    1\n",
       "2452  ba3319a7-dad5-40fd-8924-c6b92766f57d                    1\n",
       "9195  2ba0a043-6e83-4d21-8b88-fb62df2343ba                    0\n",
       "\n",
       "[900 rows x 2 columns]"
      ]
     },
     "execution_count": 39,
     "metadata": {},
     "output_type": "execute_result"
    },
    {
     "data": {
      "application/javascript": [
       "\n",
       "            setTimeout(function() {\n",
       "                var nbb_cell_id = 39;\n",
       "                var nbb_unformatted_code = \"# Join predictions with test new\\npred_test_ri = kmeans.predict(dfr_test3)\\npred_test_ri6 = pd.DataFrame(\\n    data=pred_test_ri, columns=[\\\"prediction_beforeRI\\\"], index=dfr_test2.index.copy()\\n)\\nri6_testing = pd.merge(\\n    dfr_test2,\\n    pred_test_ri6[[\\\"prediction_beforeRI\\\"]],\\n    how=\\\"inner\\\",\\n    left_index=True,\\n    right_index=True,\\n)\\n# pred_test1.dropna(subset=[\\\"prediction_beforeRI\\\"], inplace=True)\\nri6_test = ri6_testing[[\\\"id\\\", \\\"prediction_beforeRI\\\"]]\\nri6_test\";\n",
       "                var nbb_formatted_code = \"# Join predictions with test new\\npred_test_ri = kmeans.predict(dfr_test3)\\npred_test_ri6 = pd.DataFrame(\\n    data=pred_test_ri, columns=[\\\"prediction_beforeRI\\\"], index=dfr_test2.index.copy()\\n)\\nri6_testing = pd.merge(\\n    dfr_test2,\\n    pred_test_ri6[[\\\"prediction_beforeRI\\\"]],\\n    how=\\\"inner\\\",\\n    left_index=True,\\n    right_index=True,\\n)\\n# pred_test1.dropna(subset=[\\\"prediction_beforeRI\\\"], inplace=True)\\nri6_test = ri6_testing[[\\\"id\\\", \\\"prediction_beforeRI\\\"]]\\nri6_test\";\n",
       "                var nbb_cells = Jupyter.notebook.get_cells();\n",
       "                for (var i = 0; i < nbb_cells.length; ++i) {\n",
       "                    if (nbb_cells[i].input_prompt_number == nbb_cell_id) {\n",
       "                        if (nbb_cells[i].get_text() == nbb_unformatted_code) {\n",
       "                             nbb_cells[i].set_text(nbb_formatted_code);\n",
       "                        }\n",
       "                        break;\n",
       "                    }\n",
       "                }\n",
       "            }, 500);\n",
       "            "
      ],
      "text/plain": [
       "<IPython.core.display.Javascript object>"
      ]
     },
     "metadata": {},
     "output_type": "display_data"
    }
   ],
   "source": [
    "# Join predictions with test new\n",
    "pred_test_ri = kmeans.predict(dfr_test3)\n",
    "pred_test_ri6 = pd.DataFrame(\n",
    "    data=pred_test_ri, columns=[\"prediction_beforeRI\"], index=dfr_test2.index.copy()\n",
    ")\n",
    "ri6_testing = pd.merge(\n",
    "    dfr_test2,\n",
    "    pred_test_ri6[[\"prediction_beforeRI\"]],\n",
    "    how=\"inner\",\n",
    "    left_index=True,\n",
    "    right_index=True,\n",
    ")\n",
    "# pred_test1.dropna(subset=[\"prediction_beforeRI\"], inplace=True)\n",
    "ri6_test = ri6_testing[[\"id\", \"prediction_beforeRI\"]]\n",
    "ri6_test"
   ]
  },
  {
   "cell_type": "code",
   "execution_count": 40,
   "metadata": {},
   "outputs": [
    {
     "data": {
      "text/plain": [
       "known_col_0           -0.091319\n",
       "known_col_1           -0.804326\n",
       "known_col_2           -0.028767\n",
       "known_col_3            0.017642\n",
       "known_col_4           -0.023664\n",
       "known_col_5            0.044695\n",
       "known_col_6            0.017868\n",
       "known_col_7            0.023858\n",
       "known_col_8            0.013452\n",
       "prediction_beforeRI    1.000000\n",
       "Name: prediction_beforeRI, dtype: float64"
      ]
     },
     "execution_count": 40,
     "metadata": {},
     "output_type": "execute_result"
    },
    {
     "data": {
      "application/javascript": [
       "\n",
       "            setTimeout(function() {\n",
       "                var nbb_cell_id = 40;\n",
       "                var nbb_unformatted_code = \"# Check correlations\\nri6_testing[ri6_testing.columns[1:]].corr()[\\\"prediction_beforeRI\\\"][:]\";\n",
       "                var nbb_formatted_code = \"# Check correlations\\nri6_testing[ri6_testing.columns[1:]].corr()[\\\"prediction_beforeRI\\\"][:]\";\n",
       "                var nbb_cells = Jupyter.notebook.get_cells();\n",
       "                for (var i = 0; i < nbb_cells.length; ++i) {\n",
       "                    if (nbb_cells[i].input_prompt_number == nbb_cell_id) {\n",
       "                        if (nbb_cells[i].get_text() == nbb_unformatted_code) {\n",
       "                             nbb_cells[i].set_text(nbb_formatted_code);\n",
       "                        }\n",
       "                        break;\n",
       "                    }\n",
       "                }\n",
       "            }, 500);\n",
       "            "
      ],
      "text/plain": [
       "<IPython.core.display.Javascript object>"
      ]
     },
     "metadata": {},
     "output_type": "display_data"
    }
   ],
   "source": [
    "# Check correlations\n",
    "ri6_testing[ri6_testing.columns[1:]].corr()[\"prediction_beforeRI\"][:]"
   ]
  },
  {
   "cell_type": "markdown",
   "metadata": {},
   "source": [
    "### Hierarchical Clustering"
   ]
  },
  {
   "cell_type": "code",
   "execution_count": 41,
   "metadata": {},
   "outputs": [
    {
     "data": {
      "text/plain": [
       "array([0, 0, 0, ..., 0, 0, 0], dtype=int64)"
      ]
     },
     "execution_count": 41,
     "metadata": {},
     "output_type": "execute_result"
    },
    {
     "data": {
      "application/javascript": [
       "\n",
       "            setTimeout(function() {\n",
       "                var nbb_cell_id = 41;\n",
       "                var nbb_unformatted_code = \"cluster = AgglomerativeClustering(n_clusters=2, affinity=\\\"euclidean\\\", linkage=\\\"ward\\\")\\ncluster.fit_predict(dfr_dev3)\";\n",
       "                var nbb_formatted_code = \"cluster = AgglomerativeClustering(n_clusters=2, affinity=\\\"euclidean\\\", linkage=\\\"ward\\\")\\ncluster.fit_predict(dfr_dev3)\";\n",
       "                var nbb_cells = Jupyter.notebook.get_cells();\n",
       "                for (var i = 0; i < nbb_cells.length; ++i) {\n",
       "                    if (nbb_cells[i].input_prompt_number == nbb_cell_id) {\n",
       "                        if (nbb_cells[i].get_text() == nbb_unformatted_code) {\n",
       "                             nbb_cells[i].set_text(nbb_formatted_code);\n",
       "                        }\n",
       "                        break;\n",
       "                    }\n",
       "                }\n",
       "            }, 500);\n",
       "            "
      ],
      "text/plain": [
       "<IPython.core.display.Javascript object>"
      ]
     },
     "metadata": {},
     "output_type": "display_data"
    }
   ],
   "source": [
    "cluster = AgglomerativeClustering(n_clusters=2, affinity=\"euclidean\", linkage=\"ward\")\n",
    "cluster.fit_predict(dfr_dev3)"
   ]
  },
  {
   "cell_type": "code",
   "execution_count": 42,
   "metadata": {},
   "outputs": [
    {
     "data": {
      "text/html": [
       "<div>\n",
       "<style scoped>\n",
       "    .dataframe tbody tr th:only-of-type {\n",
       "        vertical-align: middle;\n",
       "    }\n",
       "\n",
       "    .dataframe tbody tr th {\n",
       "        vertical-align: top;\n",
       "    }\n",
       "\n",
       "    .dataframe thead th {\n",
       "        text-align: right;\n",
       "    }\n",
       "</style>\n",
       "<table border=\"1\" class=\"dataframe\">\n",
       "  <thead>\n",
       "    <tr style=\"text-align: right;\">\n",
       "      <th></th>\n",
       "      <th>Rejects</th>\n",
       "    </tr>\n",
       "    <tr>\n",
       "      <th>prediction</th>\n",
       "      <th></th>\n",
       "    </tr>\n",
       "  </thead>\n",
       "  <tbody>\n",
       "    <tr>\n",
       "      <th>0</th>\n",
       "      <td>1105</td>\n",
       "    </tr>\n",
       "    <tr>\n",
       "      <th>1</th>\n",
       "      <td>995</td>\n",
       "    </tr>\n",
       "  </tbody>\n",
       "</table>\n",
       "</div>"
      ],
      "text/plain": [
       "            Rejects\n",
       "prediction         \n",
       "0              1105\n",
       "1               995"
      ]
     },
     "execution_count": 42,
     "metadata": {},
     "output_type": "execute_result"
    },
    {
     "data": {
      "application/javascript": [
       "\n",
       "            setTimeout(function() {\n",
       "                var nbb_cell_id = 42;\n",
       "                var nbb_unformatted_code = \"# Predictions\\nrej_test_predictions_aggl = cluster.labels_\\ndf_pred_rej_aggl = pd.DataFrame(data=rej_test_predictions_aggl, columns=[\\\"prediction\\\"])\\ndf_pred_rej_aggl[\\\"Rejects\\\"] = df_pred_rej_aggl.groupby(\\\"prediction\\\")[\\n    \\\"prediction\\\"\\n].transform(\\\"count\\\")\\ndf_pred_rej_aggl.groupby([\\\"prediction\\\"]).count()\";\n",
       "                var nbb_formatted_code = \"# Predictions\\nrej_test_predictions_aggl = cluster.labels_\\ndf_pred_rej_aggl = pd.DataFrame(data=rej_test_predictions_aggl, columns=[\\\"prediction\\\"])\\ndf_pred_rej_aggl[\\\"Rejects\\\"] = df_pred_rej_aggl.groupby(\\\"prediction\\\")[\\n    \\\"prediction\\\"\\n].transform(\\\"count\\\")\\ndf_pred_rej_aggl.groupby([\\\"prediction\\\"]).count()\";\n",
       "                var nbb_cells = Jupyter.notebook.get_cells();\n",
       "                for (var i = 0; i < nbb_cells.length; ++i) {\n",
       "                    if (nbb_cells[i].input_prompt_number == nbb_cell_id) {\n",
       "                        if (nbb_cells[i].get_text() == nbb_unformatted_code) {\n",
       "                             nbb_cells[i].set_text(nbb_formatted_code);\n",
       "                        }\n",
       "                        break;\n",
       "                    }\n",
       "                }\n",
       "            }, 500);\n",
       "            "
      ],
      "text/plain": [
       "<IPython.core.display.Javascript object>"
      ]
     },
     "metadata": {},
     "output_type": "display_data"
    }
   ],
   "source": [
    "# Predictions\n",
    "rej_test_predictions_aggl = cluster.labels_\n",
    "df_pred_rej_aggl = pd.DataFrame(data=rej_test_predictions_aggl, columns=[\"prediction\"])\n",
    "df_pred_rej_aggl[\"Rejects\"] = df_pred_rej_aggl.groupby(\"prediction\")[\n",
    "    \"prediction\"\n",
    "].transform(\"count\")\n",
    "df_pred_rej_aggl.groupby([\"prediction\"]).count()"
   ]
  },
  {
   "cell_type": "code",
   "execution_count": 43,
   "metadata": {},
   "outputs": [
    {
     "data": {
      "text/html": [
       "<div>\n",
       "<style scoped>\n",
       "    .dataframe tbody tr th:only-of-type {\n",
       "        vertical-align: middle;\n",
       "    }\n",
       "\n",
       "    .dataframe tbody tr th {\n",
       "        vertical-align: top;\n",
       "    }\n",
       "\n",
       "    .dataframe thead th {\n",
       "        text-align: right;\n",
       "    }\n",
       "</style>\n",
       "<table border=\"1\" class=\"dataframe\">\n",
       "  <thead>\n",
       "    <tr style=\"text-align: right;\">\n",
       "      <th></th>\n",
       "      <th>id</th>\n",
       "      <th>prediction_beforeRI</th>\n",
       "    </tr>\n",
       "  </thead>\n",
       "  <tbody>\n",
       "    <tr>\n",
       "      <th>50</th>\n",
       "      <td>8e61baf3-163f-473a-9e2f-2514ed922a65</td>\n",
       "      <td>0</td>\n",
       "    </tr>\n",
       "    <tr>\n",
       "      <th>4045</th>\n",
       "      <td>66d51e2a-7b82-4e3e-ae3c-2b50bdc9cc1e</td>\n",
       "      <td>0</td>\n",
       "    </tr>\n",
       "    <tr>\n",
       "      <th>1399</th>\n",
       "      <td>43c0cd8b-4b11-4e53-be17-13c3443abd4f</td>\n",
       "      <td>0</td>\n",
       "    </tr>\n",
       "    <tr>\n",
       "      <th>6738</th>\n",
       "      <td>66c5c6e2-4b6e-40de-83b1-9ebf839088bf</td>\n",
       "      <td>1</td>\n",
       "    </tr>\n",
       "    <tr>\n",
       "      <th>9886</th>\n",
       "      <td>4ea16ab8-ea25-494f-bfbe-5172fc4dba15</td>\n",
       "      <td>0</td>\n",
       "    </tr>\n",
       "    <tr>\n",
       "      <th>...</th>\n",
       "      <td>...</td>\n",
       "      <td>...</td>\n",
       "    </tr>\n",
       "    <tr>\n",
       "      <th>9733</th>\n",
       "      <td>b6aed10a-4e4e-4f5d-85d8-cd881228cd57</td>\n",
       "      <td>1</td>\n",
       "    </tr>\n",
       "    <tr>\n",
       "      <th>2811</th>\n",
       "      <td>8eb086bc-b99a-4bbe-a6f4-556253fe095c</td>\n",
       "      <td>0</td>\n",
       "    </tr>\n",
       "    <tr>\n",
       "      <th>9522</th>\n",
       "      <td>ac3204fb-9b3f-430a-a39b-ca2ed712acd9</td>\n",
       "      <td>0</td>\n",
       "    </tr>\n",
       "    <tr>\n",
       "      <th>7219</th>\n",
       "      <td>c75f85db-47b7-4b73-926c-2a3e025b3115</td>\n",
       "      <td>0</td>\n",
       "    </tr>\n",
       "    <tr>\n",
       "      <th>805</th>\n",
       "      <td>47b66855-aa53-4365-b38c-141343fe4136</td>\n",
       "      <td>0</td>\n",
       "    </tr>\n",
       "  </tbody>\n",
       "</table>\n",
       "<p>2100 rows × 2 columns</p>\n",
       "</div>"
      ],
      "text/plain": [
       "                                        id  prediction_beforeRI\n",
       "50    8e61baf3-163f-473a-9e2f-2514ed922a65                    0\n",
       "4045  66d51e2a-7b82-4e3e-ae3c-2b50bdc9cc1e                    0\n",
       "1399  43c0cd8b-4b11-4e53-be17-13c3443abd4f                    0\n",
       "6738  66c5c6e2-4b6e-40de-83b1-9ebf839088bf                    1\n",
       "9886  4ea16ab8-ea25-494f-bfbe-5172fc4dba15                    0\n",
       "...                                    ...                  ...\n",
       "9733  b6aed10a-4e4e-4f5d-85d8-cd881228cd57                    1\n",
       "2811  8eb086bc-b99a-4bbe-a6f4-556253fe095c                    0\n",
       "9522  ac3204fb-9b3f-430a-a39b-ca2ed712acd9                    0\n",
       "7219  c75f85db-47b7-4b73-926c-2a3e025b3115                    0\n",
       "805   47b66855-aa53-4365-b38c-141343fe4136                    0\n",
       "\n",
       "[2100 rows x 2 columns]"
      ]
     },
     "execution_count": 43,
     "metadata": {},
     "output_type": "execute_result"
    },
    {
     "data": {
      "application/javascript": [
       "\n",
       "            setTimeout(function() {\n",
       "                var nbb_cell_id = 43;\n",
       "                var nbb_unformatted_code = \"# Join predictions with train new\\npred_ri_aggl = cluster.labels_\\npred_ri_aggl2 = pd.DataFrame(\\n    data=pred_ri_aggl,\\n    columns=[\\\"prediction_beforeRI\\\"],\\n    index=dfr_dev2.index.copy(),\\n)\\nri7 = pd.merge(\\n    dfr_dev2,\\n    pred_ri_aggl2[[\\\"prediction_beforeRI\\\"]],\\n    how=\\\"inner\\\",\\n    left_index=True,\\n    right_index=True,\\n)\\n# pred_test1.dropna(subset=[\\\"prediction_beforeRI\\\"], inplace=True)\\nri7_train = ri7[[\\\"id\\\", \\\"prediction_beforeRI\\\"]]\\nri7_train\";\n",
       "                var nbb_formatted_code = \"# Join predictions with train new\\npred_ri_aggl = cluster.labels_\\npred_ri_aggl2 = pd.DataFrame(\\n    data=pred_ri_aggl,\\n    columns=[\\\"prediction_beforeRI\\\"],\\n    index=dfr_dev2.index.copy(),\\n)\\nri7 = pd.merge(\\n    dfr_dev2,\\n    pred_ri_aggl2[[\\\"prediction_beforeRI\\\"]],\\n    how=\\\"inner\\\",\\n    left_index=True,\\n    right_index=True,\\n)\\n# pred_test1.dropna(subset=[\\\"prediction_beforeRI\\\"], inplace=True)\\nri7_train = ri7[[\\\"id\\\", \\\"prediction_beforeRI\\\"]]\\nri7_train\";\n",
       "                var nbb_cells = Jupyter.notebook.get_cells();\n",
       "                for (var i = 0; i < nbb_cells.length; ++i) {\n",
       "                    if (nbb_cells[i].input_prompt_number == nbb_cell_id) {\n",
       "                        if (nbb_cells[i].get_text() == nbb_unformatted_code) {\n",
       "                             nbb_cells[i].set_text(nbb_formatted_code);\n",
       "                        }\n",
       "                        break;\n",
       "                    }\n",
       "                }\n",
       "            }, 500);\n",
       "            "
      ],
      "text/plain": [
       "<IPython.core.display.Javascript object>"
      ]
     },
     "metadata": {},
     "output_type": "display_data"
    }
   ],
   "source": [
    "# Join predictions with train new\n",
    "pred_ri_aggl = cluster.labels_\n",
    "pred_ri_aggl2 = pd.DataFrame(\n",
    "    data=pred_ri_aggl,\n",
    "    columns=[\"prediction_beforeRI\"],\n",
    "    index=dfr_dev2.index.copy(),\n",
    ")\n",
    "ri7 = pd.merge(\n",
    "    dfr_dev2,\n",
    "    pred_ri_aggl2[[\"prediction_beforeRI\"]],\n",
    "    how=\"inner\",\n",
    "    left_index=True,\n",
    "    right_index=True,\n",
    ")\n",
    "# pred_test1.dropna(subset=[\"prediction_beforeRI\"], inplace=True)\n",
    "ri7_train = ri7[[\"id\", \"prediction_beforeRI\"]]\n",
    "ri7_train"
   ]
  },
  {
   "cell_type": "code",
   "execution_count": 44,
   "metadata": {},
   "outputs": [
    {
     "data": {
      "text/plain": [
       "known_col_0           -0.102015\n",
       "known_col_1            0.698889\n",
       "known_col_2           -0.007352\n",
       "known_col_3           -0.160536\n",
       "known_col_4            0.017272\n",
       "known_col_5            0.004758\n",
       "known_col_6            0.033745\n",
       "known_col_7            0.019076\n",
       "known_col_8            0.001049\n",
       "prediction_beforeRI    1.000000\n",
       "Name: prediction_beforeRI, dtype: float64"
      ]
     },
     "execution_count": 44,
     "metadata": {},
     "output_type": "execute_result"
    },
    {
     "data": {
      "application/javascript": [
       "\n",
       "            setTimeout(function() {\n",
       "                var nbb_cell_id = 44;\n",
       "                var nbb_unformatted_code = \"# Check correlations\\nri7[ri7.columns[1:]].corr()[\\\"prediction_beforeRI\\\"][:]\";\n",
       "                var nbb_formatted_code = \"# Check correlations\\nri7[ri7.columns[1:]].corr()[\\\"prediction_beforeRI\\\"][:]\";\n",
       "                var nbb_cells = Jupyter.notebook.get_cells();\n",
       "                for (var i = 0; i < nbb_cells.length; ++i) {\n",
       "                    if (nbb_cells[i].input_prompt_number == nbb_cell_id) {\n",
       "                        if (nbb_cells[i].get_text() == nbb_unformatted_code) {\n",
       "                             nbb_cells[i].set_text(nbb_formatted_code);\n",
       "                        }\n",
       "                        break;\n",
       "                    }\n",
       "                }\n",
       "            }, 500);\n",
       "            "
      ],
      "text/plain": [
       "<IPython.core.display.Javascript object>"
      ]
     },
     "metadata": {},
     "output_type": "display_data"
    }
   ],
   "source": [
    "# Check correlations\n",
    "ri7[ri7.columns[1:]].corr()[\"prediction_beforeRI\"][:]"
   ]
  },
  {
   "cell_type": "markdown",
   "metadata": {},
   "source": [
    "### Evaluation Measures"
   ]
  },
  {
   "cell_type": "code",
   "execution_count": 45,
   "metadata": {},
   "outputs": [
    {
     "data": {
      "application/javascript": [
       "\n",
       "            setTimeout(function() {\n",
       "                var nbb_cell_id = 45;\n",
       "                var nbb_unformatted_code = \"def print_results(data, state, prediction):\\n    print(\\n        \\\"The number of accurately classified cases \\\",\\n        state,\\n        \\\" is: \\\",\\n        data[\\n            (data.target == 1) & (data[prediction] == 1)\\n            | (data.target == 0) & (data[prediction] == 0)\\n        ].shape[0],\\n    )\\n    print(\\n        \\\"The number of misclassified cases \\\",\\n        state,\\n        \\\" is: \\\",\\n        data[\\n            (data.target == 1) & (data[prediction] == 0)\\n            | (data.target == 0) & (data[prediction] == 1)\\n        ].shape[0],\\n    )\";\n",
       "                var nbb_formatted_code = \"def print_results(data, state, prediction):\\n    print(\\n        \\\"The number of accurately classified cases \\\",\\n        state,\\n        \\\" is: \\\",\\n        data[\\n            (data.target == 1) & (data[prediction] == 1)\\n            | (data.target == 0) & (data[prediction] == 0)\\n        ].shape[0],\\n    )\\n    print(\\n        \\\"The number of misclassified cases \\\",\\n        state,\\n        \\\" is: \\\",\\n        data[\\n            (data.target == 1) & (data[prediction] == 0)\\n            | (data.target == 0) & (data[prediction] == 1)\\n        ].shape[0],\\n    )\";\n",
       "                var nbb_cells = Jupyter.notebook.get_cells();\n",
       "                for (var i = 0; i < nbb_cells.length; ++i) {\n",
       "                    if (nbb_cells[i].input_prompt_number == nbb_cell_id) {\n",
       "                        if (nbb_cells[i].get_text() == nbb_unformatted_code) {\n",
       "                             nbb_cells[i].set_text(nbb_formatted_code);\n",
       "                        }\n",
       "                        break;\n",
       "                    }\n",
       "                }\n",
       "            }, 500);\n",
       "            "
      ],
      "text/plain": [
       "<IPython.core.display.Javascript object>"
      ]
     },
     "metadata": {},
     "output_type": "display_data"
    }
   ],
   "source": [
    "def print_results(data, state, prediction):\n",
    "    print(\n",
    "        \"The number of accurately classified cases \",\n",
    "        state,\n",
    "        \" is: \",\n",
    "        data[\n",
    "            (data.target == 1) & (data[prediction] == 1)\n",
    "            | (data.target == 0) & (data[prediction] == 0)\n",
    "        ].shape[0],\n",
    "    )\n",
    "    print(\n",
    "        \"The number of misclassified cases \",\n",
    "        state,\n",
    "        \" is: \",\n",
    "        data[\n",
    "            (data.target == 1) & (data[prediction] == 0)\n",
    "            | (data.target == 0) & (data[prediction] == 1)\n",
    "        ].shape[0],\n",
    "    )"
   ]
  },
  {
   "cell_type": "code",
   "execution_count": 46,
   "metadata": {},
   "outputs": [
    {
     "data": {
      "application/javascript": [
       "\n",
       "            setTimeout(function() {\n",
       "                var nbb_cell_id = 46;\n",
       "                var nbb_unformatted_code = \"def evaluation(ri_data):  # ri1_train, ri2_train, etc..\\n\\n    # TRAIN NEW\\n    # Join labels to train set\\n    # Accepts\\n    train_accepts = pd.merge(\\n        os_data_X, os_data_y[[\\\"target\\\"]], how=\\\"left\\\", left_index=True, right_index=True\\n    )\\n\\n    train_accepts[\\\"Flag1\\\"] = \\\"Accept\\\"\\n\\n    # Rejects\\n    train_rejects = pd.merge(\\n        dfr_dev2,\\n        ri_data[[\\\"prediction_beforeRI\\\"]],\\n        how=\\\"left\\\",\\n        left_index=True,\\n        right_index=True,\\n    )\\n\\n    # Drop Null values and align naming\\n    train_accepts.dropna(subset=[\\\"target\\\"], inplace=True)\\n    train_rejects.rename(columns={\\\"prediction_beforeRI\\\": \\\"target\\\"}, inplace=True)\\n\\n    # Concatenate Train Accepts and Train Rejects\\n    train_new = pd.concat([train_accepts, train_rejects])\\n\\n    # Flag\\n    train_new[\\\"Flag\\\"] = train_new[\\\"Flag1\\\"].apply(\\n        lambda x: \\\"Accept\\\" if x == \\\"Accept\\\" else \\\"Reject\\\"\\n    )\\n    train_new = train_new.drop(columns=[\\\"Flag1\\\"])\\n\\n    # Retrain KGB Model\\n\\n    # Split\\n    X_new = train_new.loc[:, train_new.columns != \\\"target\\\"]\\n    X_new = X_new.loc[:, X_new.columns != \\\"Flag\\\"]\\n    y_new = train_new.loc[:, train_new.columns == \\\"target\\\"]\\n    X_train_new, X_test_new, y_train_new, y_test_new = train_test_split(\\n        X_new, y_new, test_size=0.3, random_state=7\\n    )\\n\\n    # Keep only columns for modelling\\n    os_data_X_2_new = X_train_new[\\n        [\\n            \\\"known_col_0\\\",\\n            \\\"known_col_1\\\",\\n            \\\"known_col_3\\\",\\n            \\\"known_col_4\\\",\\n        ]\\n    ]\\n    X_test_2_new = X_test_new[\\n        [\\n            \\\"known_col_0\\\",\\n            \\\"known_col_1\\\",\\n            \\\"known_col_3\\\",\\n            \\\"known_col_4\\\",\\n        ]\\n    ]\\n\\n    # Build Logistic regression\\n    logreg = LogisticRegression(fit_intercept=False, penalty=\\\"none\\\")\\n    logreg.fit(os_data_X_2_new, y_train_new.values.ravel())\\n\\n    # TEST NEW\\n    # Join labels to test set\\n    # Accepts\\n    test_accepts = pd.merge(\\n        X_test, y_test[[\\\"target\\\"]], how=\\\"left\\\", left_index=True, right_index=True\\n    )\\n\\n    test_accepts[\\\"Flag1\\\"] = \\\"Accept\\\"\\n\\n    # Rejects\\n    test_rejects = pd.merge(\\n        dfr_test2,\\n        ri_data[[\\\"prediction_beforeRI\\\"]],\\n        how=\\\"left\\\",\\n        left_index=True,\\n        right_index=True,\\n    )\\n\\n    # Drop Null values and align naming\\n    test_accepts.dropna(subset=[\\\"target\\\"], inplace=True)\\n    test_rejects.rename(columns={\\\"prediction_beforeRI\\\": \\\"target\\\"}, inplace=True)\\n    test_rejects.dropna(subset=[\\\"target\\\"], inplace=True)\\n\\n    # Concatenate Test Accepts and Test Rejects\\n    test_new = pd.concat([test_accepts, test_rejects])\\n\\n    # Flag\\n    test_new[\\\"Flag\\\"] = test_new[\\\"Flag1\\\"].apply(\\n        lambda x: \\\"Accept\\\" if x == \\\"Accept\\\" else \\\"Reject\\\"\\n    )\\n\\n    test_new = test_new.drop(columns=[\\\"Flag1\\\"])\\n\\n    test_new = test_new.reset_index(drop=True)\\n\\n    X_test_new = test_new.loc[:, test_new.columns != \\\"target\\\"]\\n    X_test_new2 = X_test_new.loc[:, X_test_new.columns != \\\"Flag\\\"]\\n    X_test_new4 = X_test_new2.loc[:, X_test_new2.columns != \\\"id\\\"]\\n\\n    X_test_new5 = X_test_new4[\\n        [\\n            \\\"known_col_0\\\",\\n            \\\"known_col_1\\\",\\n            \\\"known_col_3\\\",\\n            \\\"known_col_4\\\",\\n        ]\\n    ]\\n\\n    y_test_new = test_new.loc[:, test_new.columns == \\\"target\\\"]\\n\\n    # PREDICTIONS\\n    # Join predictions with test new\\n    test_new_pred = logreg.predict_proba(X_test_new5)[:, 1]\\n    pred_test_df = pd.DataFrame(\\n        data=test_new_pred, columns=[\\\"prediction_afterRI\\\"], index=test_new.index.copy()\\n    )\\n    pred_test = pd.merge(\\n        test_new,\\n        pred_test_df[[\\\"prediction_afterRI\\\"]],\\n        how=\\\"inner\\\",\\n        left_index=True,\\n        right_index=True,\\n    )\\n    # pred_test1.dropna(subset=[\\\"prediction_beforeRI\\\"], inplace=True)\\n    pred_test\\n\\n    a1 = pred_test1[[\\\"id\\\", \\\"target\\\", \\\"prediction_beforeRI\\\"]]\\n    a2 = pred_test[[\\\"id\\\", \\\"Flag\\\", \\\"prediction_afterRI\\\"]]\\n\\n    # Join (outer to get full sample)\\n    a1_a2_outer = pd.merge(a1, a2, how=\\\"outer\\\", on=\\\"id\\\")\\n    # Join (inner to get only accepts and be able to compare)\\n    a1_a2_inner = pd.merge(a1, a2, how=\\\"inner\\\", on=\\\"id\\\")\\n    a1_a2_inner\\n\\n    # Make binary predictions based on cutoff 0.3\\n    a1_a2_inner[\\\"prediction_beforeRI_binary\\\"] = a1_a2_inner[\\n        \\\"prediction_beforeRI\\\"\\n    ].apply(lambda x: 0 if (x < 0.3) else 1)\\n    a1_a2_inner[\\\"prediction_afterRI_binary\\\"] = a1_a2_inner[\\\"prediction_afterRI\\\"].apply(\\n        lambda x: 0 if (x < 0.3) else 1\\n    )\\n\\n    print_results(a1_a2_inner, \\\"before RI\\\", \\\"prediction_beforeRI_binary\\\")\\n    print_results(a1_a2_inner, \\\"after RI\\\", \\\"prediction_afterRI_binary\\\")\";\n",
       "                var nbb_formatted_code = \"def evaluation(ri_data):  # ri1_train, ri2_train, etc..\\n\\n    # TRAIN NEW\\n    # Join labels to train set\\n    # Accepts\\n    train_accepts = pd.merge(\\n        os_data_X, os_data_y[[\\\"target\\\"]], how=\\\"left\\\", left_index=True, right_index=True\\n    )\\n\\n    train_accepts[\\\"Flag1\\\"] = \\\"Accept\\\"\\n\\n    # Rejects\\n    train_rejects = pd.merge(\\n        dfr_dev2,\\n        ri_data[[\\\"prediction_beforeRI\\\"]],\\n        how=\\\"left\\\",\\n        left_index=True,\\n        right_index=True,\\n    )\\n\\n    # Drop Null values and align naming\\n    train_accepts.dropna(subset=[\\\"target\\\"], inplace=True)\\n    train_rejects.rename(columns={\\\"prediction_beforeRI\\\": \\\"target\\\"}, inplace=True)\\n\\n    # Concatenate Train Accepts and Train Rejects\\n    train_new = pd.concat([train_accepts, train_rejects])\\n\\n    # Flag\\n    train_new[\\\"Flag\\\"] = train_new[\\\"Flag1\\\"].apply(\\n        lambda x: \\\"Accept\\\" if x == \\\"Accept\\\" else \\\"Reject\\\"\\n    )\\n    train_new = train_new.drop(columns=[\\\"Flag1\\\"])\\n\\n    # Retrain KGB Model\\n\\n    # Split\\n    X_new = train_new.loc[:, train_new.columns != \\\"target\\\"]\\n    X_new = X_new.loc[:, X_new.columns != \\\"Flag\\\"]\\n    y_new = train_new.loc[:, train_new.columns == \\\"target\\\"]\\n    X_train_new, X_test_new, y_train_new, y_test_new = train_test_split(\\n        X_new, y_new, test_size=0.3, random_state=7\\n    )\\n\\n    # Keep only columns for modelling\\n    os_data_X_2_new = X_train_new[\\n        [\\n            \\\"known_col_0\\\",\\n            \\\"known_col_1\\\",\\n            \\\"known_col_3\\\",\\n            \\\"known_col_4\\\",\\n        ]\\n    ]\\n    X_test_2_new = X_test_new[\\n        [\\n            \\\"known_col_0\\\",\\n            \\\"known_col_1\\\",\\n            \\\"known_col_3\\\",\\n            \\\"known_col_4\\\",\\n        ]\\n    ]\\n\\n    # Build Logistic regression\\n    logreg = LogisticRegression(fit_intercept=False, penalty=\\\"none\\\")\\n    logreg.fit(os_data_X_2_new, y_train_new.values.ravel())\\n\\n    # TEST NEW\\n    # Join labels to test set\\n    # Accepts\\n    test_accepts = pd.merge(\\n        X_test, y_test[[\\\"target\\\"]], how=\\\"left\\\", left_index=True, right_index=True\\n    )\\n\\n    test_accepts[\\\"Flag1\\\"] = \\\"Accept\\\"\\n\\n    # Rejects\\n    test_rejects = pd.merge(\\n        dfr_test2,\\n        ri_data[[\\\"prediction_beforeRI\\\"]],\\n        how=\\\"left\\\",\\n        left_index=True,\\n        right_index=True,\\n    )\\n\\n    # Drop Null values and align naming\\n    test_accepts.dropna(subset=[\\\"target\\\"], inplace=True)\\n    test_rejects.rename(columns={\\\"prediction_beforeRI\\\": \\\"target\\\"}, inplace=True)\\n    test_rejects.dropna(subset=[\\\"target\\\"], inplace=True)\\n\\n    # Concatenate Test Accepts and Test Rejects\\n    test_new = pd.concat([test_accepts, test_rejects])\\n\\n    # Flag\\n    test_new[\\\"Flag\\\"] = test_new[\\\"Flag1\\\"].apply(\\n        lambda x: \\\"Accept\\\" if x == \\\"Accept\\\" else \\\"Reject\\\"\\n    )\\n\\n    test_new = test_new.drop(columns=[\\\"Flag1\\\"])\\n\\n    test_new = test_new.reset_index(drop=True)\\n\\n    X_test_new = test_new.loc[:, test_new.columns != \\\"target\\\"]\\n    X_test_new2 = X_test_new.loc[:, X_test_new.columns != \\\"Flag\\\"]\\n    X_test_new4 = X_test_new2.loc[:, X_test_new2.columns != \\\"id\\\"]\\n\\n    X_test_new5 = X_test_new4[\\n        [\\n            \\\"known_col_0\\\",\\n            \\\"known_col_1\\\",\\n            \\\"known_col_3\\\",\\n            \\\"known_col_4\\\",\\n        ]\\n    ]\\n\\n    y_test_new = test_new.loc[:, test_new.columns == \\\"target\\\"]\\n\\n    # PREDICTIONS\\n    # Join predictions with test new\\n    test_new_pred = logreg.predict_proba(X_test_new5)[:, 1]\\n    pred_test_df = pd.DataFrame(\\n        data=test_new_pred, columns=[\\\"prediction_afterRI\\\"], index=test_new.index.copy()\\n    )\\n    pred_test = pd.merge(\\n        test_new,\\n        pred_test_df[[\\\"prediction_afterRI\\\"]],\\n        how=\\\"inner\\\",\\n        left_index=True,\\n        right_index=True,\\n    )\\n    # pred_test1.dropna(subset=[\\\"prediction_beforeRI\\\"], inplace=True)\\n    pred_test\\n\\n    a1 = pred_test1[[\\\"id\\\", \\\"target\\\", \\\"prediction_beforeRI\\\"]]\\n    a2 = pred_test[[\\\"id\\\", \\\"Flag\\\", \\\"prediction_afterRI\\\"]]\\n\\n    # Join (outer to get full sample)\\n    a1_a2_outer = pd.merge(a1, a2, how=\\\"outer\\\", on=\\\"id\\\")\\n    # Join (inner to get only accepts and be able to compare)\\n    a1_a2_inner = pd.merge(a1, a2, how=\\\"inner\\\", on=\\\"id\\\")\\n    a1_a2_inner\\n\\n    # Make binary predictions based on cutoff 0.3\\n    a1_a2_inner[\\\"prediction_beforeRI_binary\\\"] = a1_a2_inner[\\n        \\\"prediction_beforeRI\\\"\\n    ].apply(lambda x: 0 if (x < 0.3) else 1)\\n    a1_a2_inner[\\\"prediction_afterRI_binary\\\"] = a1_a2_inner[\\\"prediction_afterRI\\\"].apply(\\n        lambda x: 0 if (x < 0.3) else 1\\n    )\\n\\n    print_results(a1_a2_inner, \\\"before RI\\\", \\\"prediction_beforeRI_binary\\\")\\n    print_results(a1_a2_inner, \\\"after RI\\\", \\\"prediction_afterRI_binary\\\")\";\n",
       "                var nbb_cells = Jupyter.notebook.get_cells();\n",
       "                for (var i = 0; i < nbb_cells.length; ++i) {\n",
       "                    if (nbb_cells[i].input_prompt_number == nbb_cell_id) {\n",
       "                        if (nbb_cells[i].get_text() == nbb_unformatted_code) {\n",
       "                             nbb_cells[i].set_text(nbb_formatted_code);\n",
       "                        }\n",
       "                        break;\n",
       "                    }\n",
       "                }\n",
       "            }, 500);\n",
       "            "
      ],
      "text/plain": [
       "<IPython.core.display.Javascript object>"
      ]
     },
     "metadata": {},
     "output_type": "display_data"
    }
   ],
   "source": [
    "def evaluation(ri_data):  # ri1_train, ri2_train, etc..\n",
    "\n",
    "    # TRAIN NEW\n",
    "    # Join labels to train set\n",
    "    # Accepts\n",
    "    train_accepts = pd.merge(\n",
    "        os_data_X, os_data_y[[\"target\"]], how=\"left\", left_index=True, right_index=True\n",
    "    )\n",
    "\n",
    "    train_accepts[\"Flag1\"] = \"Accept\"\n",
    "\n",
    "    # Rejects\n",
    "    train_rejects = pd.merge(\n",
    "        dfr_dev2,\n",
    "        ri_data[[\"prediction_beforeRI\"]],\n",
    "        how=\"left\",\n",
    "        left_index=True,\n",
    "        right_index=True,\n",
    "    )\n",
    "\n",
    "    # Drop Null values and align naming\n",
    "    train_accepts.dropna(subset=[\"target\"], inplace=True)\n",
    "    train_rejects.rename(columns={\"prediction_beforeRI\": \"target\"}, inplace=True)\n",
    "\n",
    "    # Concatenate Train Accepts and Train Rejects\n",
    "    train_new = pd.concat([train_accepts, train_rejects])\n",
    "\n",
    "    # Flag\n",
    "    train_new[\"Flag\"] = train_new[\"Flag1\"].apply(\n",
    "        lambda x: \"Accept\" if x == \"Accept\" else \"Reject\"\n",
    "    )\n",
    "    train_new = train_new.drop(columns=[\"Flag1\"])\n",
    "\n",
    "    # Retrain KGB Model\n",
    "\n",
    "    # Split\n",
    "    X_new = train_new.loc[:, train_new.columns != \"target\"]\n",
    "    X_new = X_new.loc[:, X_new.columns != \"Flag\"]\n",
    "    y_new = train_new.loc[:, train_new.columns == \"target\"]\n",
    "    X_train_new, X_test_new, y_train_new, y_test_new = train_test_split(\n",
    "        X_new, y_new, test_size=0.3, random_state=7\n",
    "    )\n",
    "\n",
    "    # Keep only columns for modelling\n",
    "    os_data_X_2_new = X_train_new[\n",
    "        [\n",
    "            \"known_col_0\",\n",
    "            \"known_col_1\",\n",
    "            \"known_col_3\",\n",
    "            \"known_col_4\",\n",
    "        ]\n",
    "    ]\n",
    "    X_test_2_new = X_test_new[\n",
    "        [\n",
    "            \"known_col_0\",\n",
    "            \"known_col_1\",\n",
    "            \"known_col_3\",\n",
    "            \"known_col_4\",\n",
    "        ]\n",
    "    ]\n",
    "\n",
    "    # Build Logistic regression\n",
    "    logreg = LogisticRegression(fit_intercept=False, penalty=\"none\")\n",
    "    logreg.fit(os_data_X_2_new, y_train_new.values.ravel())\n",
    "\n",
    "    # TEST NEW\n",
    "    # Join labels to test set\n",
    "    # Accepts\n",
    "    test_accepts = pd.merge(\n",
    "        X_test, y_test[[\"target\"]], how=\"left\", left_index=True, right_index=True\n",
    "    )\n",
    "\n",
    "    test_accepts[\"Flag1\"] = \"Accept\"\n",
    "\n",
    "    # Rejects\n",
    "    test_rejects = pd.merge(\n",
    "        dfr_test2,\n",
    "        ri_data[[\"prediction_beforeRI\"]],\n",
    "        how=\"left\",\n",
    "        left_index=True,\n",
    "        right_index=True,\n",
    "    )\n",
    "\n",
    "    # Drop Null values and align naming\n",
    "    test_accepts.dropna(subset=[\"target\"], inplace=True)\n",
    "    test_rejects.rename(columns={\"prediction_beforeRI\": \"target\"}, inplace=True)\n",
    "    test_rejects.dropna(subset=[\"target\"], inplace=True)\n",
    "\n",
    "    # Concatenate Test Accepts and Test Rejects\n",
    "    test_new = pd.concat([test_accepts, test_rejects])\n",
    "\n",
    "    # Flag\n",
    "    test_new[\"Flag\"] = test_new[\"Flag1\"].apply(\n",
    "        lambda x: \"Accept\" if x == \"Accept\" else \"Reject\"\n",
    "    )\n",
    "\n",
    "    test_new = test_new.drop(columns=[\"Flag1\"])\n",
    "\n",
    "    test_new = test_new.reset_index(drop=True)\n",
    "\n",
    "    X_test_new = test_new.loc[:, test_new.columns != \"target\"]\n",
    "    X_test_new2 = X_test_new.loc[:, X_test_new.columns != \"Flag\"]\n",
    "    X_test_new4 = X_test_new2.loc[:, X_test_new2.columns != \"id\"]\n",
    "\n",
    "    X_test_new5 = X_test_new4[\n",
    "        [\n",
    "            \"known_col_0\",\n",
    "            \"known_col_1\",\n",
    "            \"known_col_3\",\n",
    "            \"known_col_4\",\n",
    "        ]\n",
    "    ]\n",
    "\n",
    "    y_test_new = test_new.loc[:, test_new.columns == \"target\"]\n",
    "\n",
    "    # PREDICTIONS\n",
    "    # Join predictions with test new\n",
    "    test_new_pred = logreg.predict_proba(X_test_new5)[:, 1]\n",
    "    pred_test_df = pd.DataFrame(\n",
    "        data=test_new_pred, columns=[\"prediction_afterRI\"], index=test_new.index.copy()\n",
    "    )\n",
    "    pred_test = pd.merge(\n",
    "        test_new,\n",
    "        pred_test_df[[\"prediction_afterRI\"]],\n",
    "        how=\"inner\",\n",
    "        left_index=True,\n",
    "        right_index=True,\n",
    "    )\n",
    "    # pred_test1.dropna(subset=[\"prediction_beforeRI\"], inplace=True)\n",
    "    pred_test\n",
    "\n",
    "    a1 = pred_test1[[\"id\", \"target\", \"prediction_beforeRI\"]]\n",
    "    a2 = pred_test[[\"id\", \"Flag\", \"prediction_afterRI\"]]\n",
    "\n",
    "    # Join (outer to get full sample)\n",
    "    a1_a2_outer = pd.merge(a1, a2, how=\"outer\", on=\"id\")\n",
    "    # Join (inner to get only accepts and be able to compare)\n",
    "    a1_a2_inner = pd.merge(a1, a2, how=\"inner\", on=\"id\")\n",
    "    a1_a2_inner\n",
    "\n",
    "    # Make binary predictions based on cutoff 0.3\n",
    "    a1_a2_inner[\"prediction_beforeRI_binary\"] = a1_a2_inner[\n",
    "        \"prediction_beforeRI\"\n",
    "    ].apply(lambda x: 0 if (x < 0.3) else 1)\n",
    "    a1_a2_inner[\"prediction_afterRI_binary\"] = a1_a2_inner[\"prediction_afterRI\"].apply(\n",
    "        lambda x: 0 if (x < 0.3) else 1\n",
    "    )\n",
    "\n",
    "    print_results(a1_a2_inner, \"before RI\", \"prediction_beforeRI_binary\")\n",
    "    print_results(a1_a2_inner, \"after RI\", \"prediction_afterRI_binary\")"
   ]
  },
  {
   "cell_type": "code",
   "execution_count": 47,
   "metadata": {},
   "outputs": [
    {
     "name": "stdout",
     "output_type": "stream",
     "text": [
      "The number of accurately classified cases  before RI  is:  1654\n",
      "The number of misclassified cases  before RI  is:  446\n",
      "The number of accurately classified cases  after RI  is:  990\n",
      "The number of misclassified cases  after RI  is:  1110\n"
     ]
    },
    {
     "data": {
      "application/javascript": [
       "\n",
       "            setTimeout(function() {\n",
       "                var nbb_cell_id = 47;\n",
       "                var nbb_unformatted_code = \"evaluation(ri1_train)  # Simple Augmentation - Log Reg\";\n",
       "                var nbb_formatted_code = \"evaluation(ri1_train)  # Simple Augmentation - Log Reg\";\n",
       "                var nbb_cells = Jupyter.notebook.get_cells();\n",
       "                for (var i = 0; i < nbb_cells.length; ++i) {\n",
       "                    if (nbb_cells[i].input_prompt_number == nbb_cell_id) {\n",
       "                        if (nbb_cells[i].get_text() == nbb_unformatted_code) {\n",
       "                             nbb_cells[i].set_text(nbb_formatted_code);\n",
       "                        }\n",
       "                        break;\n",
       "                    }\n",
       "                }\n",
       "            }, 500);\n",
       "            "
      ],
      "text/plain": [
       "<IPython.core.display.Javascript object>"
      ]
     },
     "metadata": {},
     "output_type": "display_data"
    }
   ],
   "source": [
    "evaluation(ri1_train)  # Simple Augmentation - Log Reg"
   ]
  },
  {
   "cell_type": "code",
   "execution_count": 48,
   "metadata": {},
   "outputs": [
    {
     "name": "stdout",
     "output_type": "stream",
     "text": [
      "The number of accurately classified cases  before RI  is:  1654\n",
      "The number of misclassified cases  before RI  is:  446\n",
      "The number of accurately classified cases  after RI  is:  317\n",
      "The number of misclassified cases  after RI  is:  1783\n"
     ]
    },
    {
     "data": {
      "application/javascript": [
       "\n",
       "            setTimeout(function() {\n",
       "                var nbb_cell_id = 48;\n",
       "                var nbb_unformatted_code = \"evaluation(ri2_train)  # Decision Tree\";\n",
       "                var nbb_formatted_code = \"evaluation(ri2_train)  # Decision Tree\";\n",
       "                var nbb_cells = Jupyter.notebook.get_cells();\n",
       "                for (var i = 0; i < nbb_cells.length; ++i) {\n",
       "                    if (nbb_cells[i].input_prompt_number == nbb_cell_id) {\n",
       "                        if (nbb_cells[i].get_text() == nbb_unformatted_code) {\n",
       "                             nbb_cells[i].set_text(nbb_formatted_code);\n",
       "                        }\n",
       "                        break;\n",
       "                    }\n",
       "                }\n",
       "            }, 500);\n",
       "            "
      ],
      "text/plain": [
       "<IPython.core.display.Javascript object>"
      ]
     },
     "metadata": {},
     "output_type": "display_data"
    }
   ],
   "source": [
    "evaluation(ri2_train)  # Decision Tree"
   ]
  },
  {
   "cell_type": "code",
   "execution_count": 49,
   "metadata": {},
   "outputs": [
    {
     "name": "stdout",
     "output_type": "stream",
     "text": [
      "The number of accurately classified cases  before RI  is:  1654\n",
      "The number of misclassified cases  before RI  is:  446\n",
      "The number of accurately classified cases  after RI  is:  1217\n",
      "The number of misclassified cases  after RI  is:  883\n"
     ]
    },
    {
     "data": {
      "application/javascript": [
       "\n",
       "            setTimeout(function() {\n",
       "                var nbb_cell_id = 49;\n",
       "                var nbb_unformatted_code = \"evaluation(ri3_train)  # Random Forest\";\n",
       "                var nbb_formatted_code = \"evaluation(ri3_train)  # Random Forest\";\n",
       "                var nbb_cells = Jupyter.notebook.get_cells();\n",
       "                for (var i = 0; i < nbb_cells.length; ++i) {\n",
       "                    if (nbb_cells[i].input_prompt_number == nbb_cell_id) {\n",
       "                        if (nbb_cells[i].get_text() == nbb_unformatted_code) {\n",
       "                             nbb_cells[i].set_text(nbb_formatted_code);\n",
       "                        }\n",
       "                        break;\n",
       "                    }\n",
       "                }\n",
       "            }, 500);\n",
       "            "
      ],
      "text/plain": [
       "<IPython.core.display.Javascript object>"
      ]
     },
     "metadata": {},
     "output_type": "display_data"
    }
   ],
   "source": [
    "evaluation(ri3_train)  # Random Forest"
   ]
  },
  {
   "cell_type": "code",
   "execution_count": 50,
   "metadata": {},
   "outputs": [
    {
     "name": "stdout",
     "output_type": "stream",
     "text": [
      "The number of accurately classified cases  before RI  is:  1654\n",
      "The number of misclassified cases  before RI  is:  446\n",
      "The number of accurately classified cases  after RI  is:  561\n",
      "The number of misclassified cases  after RI  is:  1539\n"
     ]
    },
    {
     "data": {
      "application/javascript": [
       "\n",
       "            setTimeout(function() {\n",
       "                var nbb_cell_id = 50;\n",
       "                var nbb_unformatted_code = \"evaluation(ri4_train)  # SVM\";\n",
       "                var nbb_formatted_code = \"evaluation(ri4_train)  # SVM\";\n",
       "                var nbb_cells = Jupyter.notebook.get_cells();\n",
       "                for (var i = 0; i < nbb_cells.length; ++i) {\n",
       "                    if (nbb_cells[i].input_prompt_number == nbb_cell_id) {\n",
       "                        if (nbb_cells[i].get_text() == nbb_unformatted_code) {\n",
       "                             nbb_cells[i].set_text(nbb_formatted_code);\n",
       "                        }\n",
       "                        break;\n",
       "                    }\n",
       "                }\n",
       "            }, 500);\n",
       "            "
      ],
      "text/plain": [
       "<IPython.core.display.Javascript object>"
      ]
     },
     "metadata": {},
     "output_type": "display_data"
    }
   ],
   "source": [
    "evaluation(ri4_train)  # SVM"
   ]
  },
  {
   "cell_type": "code",
   "execution_count": 51,
   "metadata": {},
   "outputs": [
    {
     "name": "stdout",
     "output_type": "stream",
     "text": [
      "The number of accurately classified cases  before RI  is:  1654\n",
      "The number of misclassified cases  before RI  is:  446\n",
      "The number of accurately classified cases  after RI  is:  581\n",
      "The number of misclassified cases  after RI  is:  1519\n"
     ]
    },
    {
     "data": {
      "application/javascript": [
       "\n",
       "            setTimeout(function() {\n",
       "                var nbb_cell_id = 51;\n",
       "                var nbb_unformatted_code = \"evaluation(ri5_train)  # K-Means on Accepts\";\n",
       "                var nbb_formatted_code = \"evaluation(ri5_train)  # K-Means on Accepts\";\n",
       "                var nbb_cells = Jupyter.notebook.get_cells();\n",
       "                for (var i = 0; i < nbb_cells.length; ++i) {\n",
       "                    if (nbb_cells[i].input_prompt_number == nbb_cell_id) {\n",
       "                        if (nbb_cells[i].get_text() == nbb_unformatted_code) {\n",
       "                             nbb_cells[i].set_text(nbb_formatted_code);\n",
       "                        }\n",
       "                        break;\n",
       "                    }\n",
       "                }\n",
       "            }, 500);\n",
       "            "
      ],
      "text/plain": [
       "<IPython.core.display.Javascript object>"
      ]
     },
     "metadata": {},
     "output_type": "display_data"
    }
   ],
   "source": [
    "evaluation(ri5_train)  # K-Means on Accepts"
   ]
  },
  {
   "cell_type": "code",
   "execution_count": 52,
   "metadata": {},
   "outputs": [
    {
     "name": "stdout",
     "output_type": "stream",
     "text": [
      "The number of accurately classified cases  before RI  is:  1654\n",
      "The number of misclassified cases  before RI  is:  446\n",
      "The number of accurately classified cases  after RI  is:  489\n",
      "The number of misclassified cases  after RI  is:  1611\n"
     ]
    },
    {
     "data": {
      "application/javascript": [
       "\n",
       "            setTimeout(function() {\n",
       "                var nbb_cell_id = 52;\n",
       "                var nbb_unformatted_code = \"evaluation(ri6_train)  # K-Means on Rejects\";\n",
       "                var nbb_formatted_code = \"evaluation(ri6_train)  # K-Means on Rejects\";\n",
       "                var nbb_cells = Jupyter.notebook.get_cells();\n",
       "                for (var i = 0; i < nbb_cells.length; ++i) {\n",
       "                    if (nbb_cells[i].input_prompt_number == nbb_cell_id) {\n",
       "                        if (nbb_cells[i].get_text() == nbb_unformatted_code) {\n",
       "                             nbb_cells[i].set_text(nbb_formatted_code);\n",
       "                        }\n",
       "                        break;\n",
       "                    }\n",
       "                }\n",
       "            }, 500);\n",
       "            "
      ],
      "text/plain": [
       "<IPython.core.display.Javascript object>"
      ]
     },
     "metadata": {},
     "output_type": "display_data"
    }
   ],
   "source": [
    "evaluation(ri6_train)  # K-Means on Rejects"
   ]
  },
  {
   "cell_type": "code",
   "execution_count": 53,
   "metadata": {},
   "outputs": [
    {
     "name": "stdout",
     "output_type": "stream",
     "text": [
      "The number of accurately classified cases  before RI  is:  1654\n",
      "The number of misclassified cases  before RI  is:  446\n",
      "The number of accurately classified cases  after RI  is:  818\n",
      "The number of misclassified cases  after RI  is:  1282\n"
     ]
    },
    {
     "data": {
      "application/javascript": [
       "\n",
       "            setTimeout(function() {\n",
       "                var nbb_cell_id = 53;\n",
       "                var nbb_unformatted_code = \"evaluation(ri7_train)  # Hierarchical clustering on Rejects\";\n",
       "                var nbb_formatted_code = \"evaluation(ri7_train)  # Hierarchical clustering on Rejects\";\n",
       "                var nbb_cells = Jupyter.notebook.get_cells();\n",
       "                for (var i = 0; i < nbb_cells.length; ++i) {\n",
       "                    if (nbb_cells[i].input_prompt_number == nbb_cell_id) {\n",
       "                        if (nbb_cells[i].get_text() == nbb_unformatted_code) {\n",
       "                             nbb_cells[i].set_text(nbb_formatted_code);\n",
       "                        }\n",
       "                        break;\n",
       "                    }\n",
       "                }\n",
       "            }, 500);\n",
       "            "
      ],
      "text/plain": [
       "<IPython.core.display.Javascript object>"
      ]
     },
     "metadata": {},
     "output_type": "display_data"
    }
   ],
   "source": [
    "evaluation(ri7_train)  # Hierarchical clustering on Rejects"
   ]
  },
  {
   "cell_type": "code",
   "execution_count": 54,
   "metadata": {},
   "outputs": [
    {
     "name": "stdout",
     "output_type": "stream",
     "text": [
      "The number of accurately classified cases  before RI  is:  1654\n",
      "The number of misclassified cases  before RI  is:  446\n",
      "The number of accurately classified cases  after RI  is:  770\n",
      "The number of misclassified cases  after RI  is:  1330\n"
     ]
    },
    {
     "data": {
      "application/javascript": [
       "\n",
       "            setTimeout(function() {\n",
       "                var nbb_cell_id = 54;\n",
       "                var nbb_unformatted_code = \"evaluation(ri8_train)  # LightGBM Ranking (treshold 0.2)\";\n",
       "                var nbb_formatted_code = \"evaluation(ri8_train)  # LightGBM Ranking (treshold 0.2)\";\n",
       "                var nbb_cells = Jupyter.notebook.get_cells();\n",
       "                for (var i = 0; i < nbb_cells.length; ++i) {\n",
       "                    if (nbb_cells[i].input_prompt_number == nbb_cell_id) {\n",
       "                        if (nbb_cells[i].get_text() == nbb_unformatted_code) {\n",
       "                             nbb_cells[i].set_text(nbb_formatted_code);\n",
       "                        }\n",
       "                        break;\n",
       "                    }\n",
       "                }\n",
       "            }, 500);\n",
       "            "
      ],
      "text/plain": [
       "<IPython.core.display.Javascript object>"
      ]
     },
     "metadata": {},
     "output_type": "display_data"
    }
   ],
   "source": [
    "evaluation(ri8_train)  # LightGBM Ranking (treshold 0.2)"
   ]
  },
  {
   "cell_type": "code",
   "execution_count": 55,
   "metadata": {},
   "outputs": [
    {
     "name": "stdout",
     "output_type": "stream",
     "text": [
      "The number of accurately classified cases  before RI  is:  1654\n",
      "The number of misclassified cases  before RI  is:  446\n",
      "The number of accurately classified cases  after RI  is:  770\n",
      "The number of misclassified cases  after RI  is:  1330\n"
     ]
    },
    {
     "data": {
      "application/javascript": [
       "\n",
       "            setTimeout(function() {\n",
       "                var nbb_cell_id = 55;\n",
       "                var nbb_unformatted_code = \"evaluation(ri9_train)  # LightGBM Ranking (treshold 0.1)\";\n",
       "                var nbb_formatted_code = \"evaluation(ri9_train)  # LightGBM Ranking (treshold 0.1)\";\n",
       "                var nbb_cells = Jupyter.notebook.get_cells();\n",
       "                for (var i = 0; i < nbb_cells.length; ++i) {\n",
       "                    if (nbb_cells[i].input_prompt_number == nbb_cell_id) {\n",
       "                        if (nbb_cells[i].get_text() == nbb_unformatted_code) {\n",
       "                             nbb_cells[i].set_text(nbb_formatted_code);\n",
       "                        }\n",
       "                        break;\n",
       "                    }\n",
       "                }\n",
       "            }, 500);\n",
       "            "
      ],
      "text/plain": [
       "<IPython.core.display.Javascript object>"
      ]
     },
     "metadata": {},
     "output_type": "display_data"
    }
   ],
   "source": [
    "evaluation(ri9_train)  # LightGBM Ranking (treshold 0.1)"
   ]
  },
  {
   "cell_type": "markdown",
   "metadata": {},
   "source": [
    "# Semi-Supervised Learning"
   ]
  },
  {
   "cell_type": "markdown",
   "metadata": {},
   "source": [
    "Based on existing literature semi-supervised learning are chosen for RI. The method is suitable for the problem because the labels of the accepted population (good/bad) are known and the labels of the rejected population are unknown. Without ignoring the inherent bias between accepts and rejects, semi-supervised methods use both labelled and unlabelled data during fit. <br> **1. Data preparation:** the goal is to create initial dataframe, which contains the known training data and training labels of the accepts and the known training data of the rejects. The training labels of the rejects are unknown, and are therefore labelled with a default value of -1. <br> **2. Train/Test Split** The resulting dataset is again split into explanatory variables and target in order to fit the model. <br> **3. Fit model:** The semi-supervised model is fit <br> **4. Predictions:** Predictions are made using the known testing data and testing labels of the accepts <br> **5. Evaluation:**: The results of the model before and after reject inference are compared  "
   ]
  },
  {
   "cell_type": "code",
   "execution_count": 56,
   "metadata": {},
   "outputs": [
    {
     "data": {
      "application/javascript": [
       "\n",
       "            setTimeout(function() {\n",
       "                var nbb_cell_id = 56;\n",
       "                var nbb_unformatted_code = \"# Keep only columns for modelling:\\nX_test_3 = X_test_2[[\\\"known_col_0\\\", \\\"known_col_1\\\", \\\"known_col_3\\\", \\\"known_col_4\\\"]]\";\n",
       "                var nbb_formatted_code = \"# Keep only columns for modelling:\\nX_test_3 = X_test_2[[\\\"known_col_0\\\", \\\"known_col_1\\\", \\\"known_col_3\\\", \\\"known_col_4\\\"]]\";\n",
       "                var nbb_cells = Jupyter.notebook.get_cells();\n",
       "                for (var i = 0; i < nbb_cells.length; ++i) {\n",
       "                    if (nbb_cells[i].input_prompt_number == nbb_cell_id) {\n",
       "                        if (nbb_cells[i].get_text() == nbb_unformatted_code) {\n",
       "                             nbb_cells[i].set_text(nbb_formatted_code);\n",
       "                        }\n",
       "                        break;\n",
       "                    }\n",
       "                }\n",
       "            }, 500);\n",
       "            "
      ],
      "text/plain": [
       "<IPython.core.display.Javascript object>"
      ]
     },
     "metadata": {},
     "output_type": "display_data"
    }
   ],
   "source": [
    "# Keep only columns for modelling:\n",
    "X_test_3 = X_test_2[[\"known_col_0\", \"known_col_1\", \"known_col_3\", \"known_col_4\"]]"
   ]
  },
  {
   "cell_type": "code",
   "execution_count": 57,
   "metadata": {},
   "outputs": [
    {
     "data": {
      "application/javascript": [
       "\n",
       "            setTimeout(function() {\n",
       "                var nbb_cell_id = 57;\n",
       "                var nbb_unformatted_code = \"def ssl_prep(X_accept, y_accept, X_reject):\\n    \\\"\\\"\\\"\\n    Parameters\\n    ----------\\n\\n    X_train_acc : training data of accepted population\\n    y_train_acc: training lables of accepted population\\n    X_train_rej: training data of rejected population\\n\\n    Return\\n    ------\\n    df : data of accepted and rejected population\\n\\n    \\\"\\\"\\\"\\n    # Merge explanatory and target in accepts\\n    accepts = pd.merge(\\n        X_accept, y_accept, how=\\\"left\\\", left_index=True, right_index=True\\n    )\\n    # Create accept flag\\n    accepts[\\\"Flag1\\\"] = \\\"Accept\\\"\\n\\n    # Merge accepts and rejects\\n    df = pd.concat([accepts, X_reject])\\n\\n    # If accepted use accept label, if rejected use -1 (default value for unlabelled entries) - hard-coded for now\\n    conditions = [\\n        (df[\\\"Flag1\\\"] == \\\"Accept\\\") & (df[\\\"target\\\"] == 1),\\n        (df[\\\"Flag1\\\"] == \\\"Accept\\\") & (df[\\\"target\\\"] == 0),\\n    ]\\n    choices = [1, 0]\\n\\n    # New target is called unlabel\\n    df[\\\"unlabel\\\"] = np.select(conditions, choices, -1)\\n\\n    # Select columns for modelling - hard-coded for now - can be moved outside of the function\\n    df = df[[\\\"known_col_0\\\", \\\"known_col_1\\\", \\\"known_col_3\\\", \\\"known_col_4\\\", \\\"unlabel\\\"]]\\n\\n    return df\";\n",
       "                var nbb_formatted_code = \"def ssl_prep(X_accept, y_accept, X_reject):\\n    \\\"\\\"\\\"\\n    Parameters\\n    ----------\\n\\n    X_train_acc : training data of accepted population\\n    y_train_acc: training lables of accepted population\\n    X_train_rej: training data of rejected population\\n\\n    Return\\n    ------\\n    df : data of accepted and rejected population\\n\\n    \\\"\\\"\\\"\\n    # Merge explanatory and target in accepts\\n    accepts = pd.merge(\\n        X_accept, y_accept, how=\\\"left\\\", left_index=True, right_index=True\\n    )\\n    # Create accept flag\\n    accepts[\\\"Flag1\\\"] = \\\"Accept\\\"\\n\\n    # Merge accepts and rejects\\n    df = pd.concat([accepts, X_reject])\\n\\n    # If accepted use accept label, if rejected use -1 (default value for unlabelled entries) - hard-coded for now\\n    conditions = [\\n        (df[\\\"Flag1\\\"] == \\\"Accept\\\") & (df[\\\"target\\\"] == 1),\\n        (df[\\\"Flag1\\\"] == \\\"Accept\\\") & (df[\\\"target\\\"] == 0),\\n    ]\\n    choices = [1, 0]\\n\\n    # New target is called unlabel\\n    df[\\\"unlabel\\\"] = np.select(conditions, choices, -1)\\n\\n    # Select columns for modelling - hard-coded for now - can be moved outside of the function\\n    df = df[[\\\"known_col_0\\\", \\\"known_col_1\\\", \\\"known_col_3\\\", \\\"known_col_4\\\", \\\"unlabel\\\"]]\\n\\n    return df\";\n",
       "                var nbb_cells = Jupyter.notebook.get_cells();\n",
       "                for (var i = 0; i < nbb_cells.length; ++i) {\n",
       "                    if (nbb_cells[i].input_prompt_number == nbb_cell_id) {\n",
       "                        if (nbb_cells[i].get_text() == nbb_unformatted_code) {\n",
       "                             nbb_cells[i].set_text(nbb_formatted_code);\n",
       "                        }\n",
       "                        break;\n",
       "                    }\n",
       "                }\n",
       "            }, 500);\n",
       "            "
      ],
      "text/plain": [
       "<IPython.core.display.Javascript object>"
      ]
     },
     "metadata": {},
     "output_type": "display_data"
    }
   ],
   "source": [
    "def ssl_prep(X_accept, y_accept, X_reject):\n",
    "    \"\"\"\n",
    "    Parameters\n",
    "    ----------\n",
    "\n",
    "    X_train_acc : training data of accepted population\n",
    "    y_train_acc: training lables of accepted population\n",
    "    X_train_rej: training data of rejected population\n",
    "\n",
    "    Return\n",
    "    ------\n",
    "    df : data of accepted and rejected population\n",
    "\n",
    "    \"\"\"\n",
    "    # Merge explanatory and target in accepts\n",
    "    accepts = pd.merge(\n",
    "        X_accept, y_accept, how=\"left\", left_index=True, right_index=True\n",
    "    )\n",
    "    # Create accept flag\n",
    "    accepts[\"Flag1\"] = \"Accept\"\n",
    "\n",
    "    # Merge accepts and rejects\n",
    "    df = pd.concat([accepts, X_reject])\n",
    "\n",
    "    # If accepted use accept label, if rejected use -1 (default value for unlabelled entries) - hard-coded for now\n",
    "    conditions = [\n",
    "        (df[\"Flag1\"] == \"Accept\") & (df[\"target\"] == 1),\n",
    "        (df[\"Flag1\"] == \"Accept\") & (df[\"target\"] == 0),\n",
    "    ]\n",
    "    choices = [1, 0]\n",
    "\n",
    "    # New target is called unlabel\n",
    "    df[\"unlabel\"] = np.select(conditions, choices, -1)\n",
    "\n",
    "    # Select columns for modelling - hard-coded for now - can be moved outside of the function\n",
    "    df = df[[\"known_col_0\", \"known_col_1\", \"known_col_3\", \"known_col_4\", \"unlabel\"]]\n",
    "\n",
    "    return df"
   ]
  },
  {
   "cell_type": "code",
   "execution_count": 58,
   "metadata": {},
   "outputs": [
    {
     "data": {
      "application/javascript": [
       "\n",
       "            setTimeout(function() {\n",
       "                var nbb_cell_id = 58;\n",
       "                var nbb_unformatted_code = \"def ssl_split(df, target):\\n    \\\"\\\"\\\"\\n    Parameters\\n    ----------\\n\\n    df : dataframe of accepted and rejected population, including data and labels\\n    target: string name of the target column, should be passed in quotation marks (e.g. \\\"target\\\")\\n\\n    Return\\n    ------\\n    X_train: training data of accepted and rejected population, ready to be fed into the semi-supervised model\\n    y_train: training labels of accepted and rejected population, ready to be fed into the semi-supervised model\\n\\n    \\\"\\\"\\\"\\n\\n    X_train = df.loc[:, df.columns != target]\\n    y_train = df.loc[:, df.columns == target]\\n    return X_train, y_train\";\n",
       "                var nbb_formatted_code = \"def ssl_split(df, target):\\n    \\\"\\\"\\\"\\n    Parameters\\n    ----------\\n\\n    df : dataframe of accepted and rejected population, including data and labels\\n    target: string name of the target column, should be passed in quotation marks (e.g. \\\"target\\\")\\n\\n    Return\\n    ------\\n    X_train: training data of accepted and rejected population, ready to be fed into the semi-supervised model\\n    y_train: training labels of accepted and rejected population, ready to be fed into the semi-supervised model\\n\\n    \\\"\\\"\\\"\\n\\n    X_train = df.loc[:, df.columns != target]\\n    y_train = df.loc[:, df.columns == target]\\n    return X_train, y_train\";\n",
       "                var nbb_cells = Jupyter.notebook.get_cells();\n",
       "                for (var i = 0; i < nbb_cells.length; ++i) {\n",
       "                    if (nbb_cells[i].input_prompt_number == nbb_cell_id) {\n",
       "                        if (nbb_cells[i].get_text() == nbb_unformatted_code) {\n",
       "                             nbb_cells[i].set_text(nbb_formatted_code);\n",
       "                        }\n",
       "                        break;\n",
       "                    }\n",
       "                }\n",
       "            }, 500);\n",
       "            "
      ],
      "text/plain": [
       "<IPython.core.display.Javascript object>"
      ]
     },
     "metadata": {},
     "output_type": "display_data"
    }
   ],
   "source": [
    "def ssl_split(df, target):\n",
    "    \"\"\"\n",
    "    Parameters\n",
    "    ----------\n",
    "\n",
    "    df : dataframe of accepted and rejected population, including data and labels\n",
    "    target: string name of the target column, should be passed in quotation marks (e.g. \"target\")\n",
    "\n",
    "    Return\n",
    "    ------\n",
    "    X_train: training data of accepted and rejected population, ready to be fed into the semi-supervised model\n",
    "    y_train: training labels of accepted and rejected population, ready to be fed into the semi-supervised model\n",
    "\n",
    "    \"\"\"\n",
    "\n",
    "    X_train = df.loc[:, df.columns != target]\n",
    "    y_train = df.loc[:, df.columns == target]\n",
    "    return X_train, y_train"
   ]
  },
  {
   "cell_type": "code",
   "execution_count": 59,
   "metadata": {},
   "outputs": [
    {
     "data": {
      "application/javascript": [
       "\n",
       "            setTimeout(function() {\n",
       "                var nbb_cell_id = 59;\n",
       "                var nbb_unformatted_code = \"def ssl_model_selftraining(X_train, y_train, model):\\n    \\\"\\\"\\\"\\n    Parameters\\n    ----------\\n\\n    X_train : training data of accepted and rejected population\\n    y_train : training lables of accepted population (0,1) and rejected population (-1)\\n    model : semi-supervised learning model from sklearn (Self-Training Classifier)\\n\\n    Return\\n    ------\\n\\n    ssl: trained semi-supervised learning model\\n\\n    \\\"\\\"\\\"\\n\\n    # Fit SSL moodel\\n    base = SVC(probability=True, gamma=\\\"auto\\\")\\n    model = model(base)\\n    labels = np.copy(y_train)\\n    data = np.copy(X_train)\\n    ssl = model.fit(data, labels)\\n    return ssl\";\n",
       "                var nbb_formatted_code = \"def ssl_model_selftraining(X_train, y_train, model):\\n    \\\"\\\"\\\"\\n    Parameters\\n    ----------\\n\\n    X_train : training data of accepted and rejected population\\n    y_train : training lables of accepted population (0,1) and rejected population (-1)\\n    model : semi-supervised learning model from sklearn (Self-Training Classifier)\\n\\n    Return\\n    ------\\n\\n    ssl: trained semi-supervised learning model\\n\\n    \\\"\\\"\\\"\\n\\n    # Fit SSL moodel\\n    base = SVC(probability=True, gamma=\\\"auto\\\")\\n    model = model(base)\\n    labels = np.copy(y_train)\\n    data = np.copy(X_train)\\n    ssl = model.fit(data, labels)\\n    return ssl\";\n",
       "                var nbb_cells = Jupyter.notebook.get_cells();\n",
       "                for (var i = 0; i < nbb_cells.length; ++i) {\n",
       "                    if (nbb_cells[i].input_prompt_number == nbb_cell_id) {\n",
       "                        if (nbb_cells[i].get_text() == nbb_unformatted_code) {\n",
       "                             nbb_cells[i].set_text(nbb_formatted_code);\n",
       "                        }\n",
       "                        break;\n",
       "                    }\n",
       "                }\n",
       "            }, 500);\n",
       "            "
      ],
      "text/plain": [
       "<IPython.core.display.Javascript object>"
      ]
     },
     "metadata": {},
     "output_type": "display_data"
    }
   ],
   "source": [
    "def ssl_model_selftraining(X_train, y_train, model):\n",
    "    \"\"\"\n",
    "    Parameters\n",
    "    ----------\n",
    "\n",
    "    X_train : training data of accepted and rejected population\n",
    "    y_train : training lables of accepted population (0,1) and rejected population (-1)\n",
    "    model : semi-supervised learning model from sklearn (Self-Training Classifier)\n",
    "\n",
    "    Return\n",
    "    ------\n",
    "\n",
    "    ssl: trained semi-supervised learning model\n",
    "\n",
    "    \"\"\"\n",
    "\n",
    "    # Fit SSL moodel\n",
    "    base = SVC(probability=True, gamma=\"auto\")\n",
    "    model = model(base)\n",
    "    labels = np.copy(y_train)\n",
    "    data = np.copy(X_train)\n",
    "    ssl = model.fit(data, labels)\n",
    "    return ssl"
   ]
  },
  {
   "cell_type": "code",
   "execution_count": 60,
   "metadata": {},
   "outputs": [
    {
     "data": {
      "application/javascript": [
       "\n",
       "            setTimeout(function() {\n",
       "                var nbb_cell_id = 60;\n",
       "                var nbb_unformatted_code = \"def ssl_model_label(X_train, y_train, model):\\n    \\\"\\\"\\\"\\n    Parameters\\n    ----------\\n\\n    X_train : training data of accepted and rejected population\\n    y_train : training lables of accepted population (0,1) and rejected population (-1)\\n    model : semi-supervised learning model from sklearn (Label Propagation, Label Spreading)\\n\\n    Return\\n    ------\\n\\n    ssl: trained semi-supervised learning model\\n\\n    \\\"\\\"\\\"\\n\\n    # Fit SSL moodel\\n    model = model()\\n    labels = np.copy(y_train)\\n    data = np.copy(X_train)\\n    ssl = model.fit(data, labels)\\n    return ssl\";\n",
       "                var nbb_formatted_code = \"def ssl_model_label(X_train, y_train, model):\\n    \\\"\\\"\\\"\\n    Parameters\\n    ----------\\n\\n    X_train : training data of accepted and rejected population\\n    y_train : training lables of accepted population (0,1) and rejected population (-1)\\n    model : semi-supervised learning model from sklearn (Label Propagation, Label Spreading)\\n\\n    Return\\n    ------\\n\\n    ssl: trained semi-supervised learning model\\n\\n    \\\"\\\"\\\"\\n\\n    # Fit SSL moodel\\n    model = model()\\n    labels = np.copy(y_train)\\n    data = np.copy(X_train)\\n    ssl = model.fit(data, labels)\\n    return ssl\";\n",
       "                var nbb_cells = Jupyter.notebook.get_cells();\n",
       "                for (var i = 0; i < nbb_cells.length; ++i) {\n",
       "                    if (nbb_cells[i].input_prompt_number == nbb_cell_id) {\n",
       "                        if (nbb_cells[i].get_text() == nbb_unformatted_code) {\n",
       "                             nbb_cells[i].set_text(nbb_formatted_code);\n",
       "                        }\n",
       "                        break;\n",
       "                    }\n",
       "                }\n",
       "            }, 500);\n",
       "            "
      ],
      "text/plain": [
       "<IPython.core.display.Javascript object>"
      ]
     },
     "metadata": {},
     "output_type": "display_data"
    }
   ],
   "source": [
    "def ssl_model_label(X_train, y_train, model):\n",
    "    \"\"\"\n",
    "    Parameters\n",
    "    ----------\n",
    "\n",
    "    X_train : training data of accepted and rejected population\n",
    "    y_train : training lables of accepted population (0,1) and rejected population (-1)\n",
    "    model : semi-supervised learning model from sklearn (Label Propagation, Label Spreading)\n",
    "\n",
    "    Return\n",
    "    ------\n",
    "\n",
    "    ssl: trained semi-supervised learning model\n",
    "\n",
    "    \"\"\"\n",
    "\n",
    "    # Fit SSL moodel\n",
    "    model = model()\n",
    "    labels = np.copy(y_train)\n",
    "    data = np.copy(X_train)\n",
    "    ssl = model.fit(data, labels)\n",
    "    return ssl"
   ]
  },
  {
   "cell_type": "code",
   "execution_count": 61,
   "metadata": {},
   "outputs": [
    {
     "data": {
      "application/javascript": [
       "\n",
       "            setTimeout(function() {\n",
       "                var nbb_cell_id = 61;\n",
       "                var nbb_unformatted_code = \"def ssl_predictions(ssl, X_test):\\n    \\\"\\\"\\\"\\n    Parameters\\n    ----------\\n\\n    ssl : trained semi-supervised learning model\\n    X_test : testing data of accepted and rejected population for predictions\\n\\n    Return\\n    ------\\n\\n    Predictions before RI (binary)\\n    Predictions after RI (binary)\\n\\n    \\\"\\\"\\\"\\n    # Make predictions\\n    y_pred = ssl.predict(X_test)\\n    # Convert y_pred array to pandas dataframe\\n    pred_test = pd.DataFrame(\\n        data=y_pred,\\n        columns=[\\\"prediction_afterRI\\\"],\\n        index=X_test.index.copy(),\\n    )\\n    a1 = pred_test1[[\\\"id\\\", \\\"target\\\", \\\"prediction_beforeRI\\\"]]  # hard-coded for now\\n    a2 = pred_test[[\\\"prediction_afterRI\\\"]]  # hard-coded for now\\n\\n    # Merge a1 and a2\\n    a1_a2_inner = pd.merge(\\n        a1,\\n        a2,\\n        how=\\\"inner\\\",\\n        left_index=True,\\n        right_index=True,\\n    )\\n\\n    # Make final prediction\\n    a1_a2_inner[\\\"prediction_beforeRI_binary\\\"] = a1_a2_inner[\\n        \\\"prediction_beforeRI\\\"\\n    ].apply(\\n        lambda x: 0 if (x < 0.3) else 1\\n    )  # hard-coded to 0.3 for now\\n    a1_a2_inner[\\\"prediction_afterRI_binary\\\"] = a1_a2_inner[\\\"prediction_afterRI\\\"].apply(\\n        lambda x: 0 if (x < 0.3) else 1  # hard-coded to 0.3 for now\\n    )\\n\\n    print_results(a1_a2_inner, \\\"before RI\\\", \\\"prediction_beforeRI_binary\\\")\\n    print_results(a1_a2_inner, \\\"after RI\\\", \\\"prediction_afterRI_binary\\\")\";\n",
       "                var nbb_formatted_code = \"def ssl_predictions(ssl, X_test):\\n    \\\"\\\"\\\"\\n    Parameters\\n    ----------\\n\\n    ssl : trained semi-supervised learning model\\n    X_test : testing data of accepted and rejected population for predictions\\n\\n    Return\\n    ------\\n\\n    Predictions before RI (binary)\\n    Predictions after RI (binary)\\n\\n    \\\"\\\"\\\"\\n    # Make predictions\\n    y_pred = ssl.predict(X_test)\\n    # Convert y_pred array to pandas dataframe\\n    pred_test = pd.DataFrame(\\n        data=y_pred,\\n        columns=[\\\"prediction_afterRI\\\"],\\n        index=X_test.index.copy(),\\n    )\\n    a1 = pred_test1[[\\\"id\\\", \\\"target\\\", \\\"prediction_beforeRI\\\"]]  # hard-coded for now\\n    a2 = pred_test[[\\\"prediction_afterRI\\\"]]  # hard-coded for now\\n\\n    # Merge a1 and a2\\n    a1_a2_inner = pd.merge(\\n        a1,\\n        a2,\\n        how=\\\"inner\\\",\\n        left_index=True,\\n        right_index=True,\\n    )\\n\\n    # Make final prediction\\n    a1_a2_inner[\\\"prediction_beforeRI_binary\\\"] = a1_a2_inner[\\n        \\\"prediction_beforeRI\\\"\\n    ].apply(\\n        lambda x: 0 if (x < 0.3) else 1\\n    )  # hard-coded to 0.3 for now\\n    a1_a2_inner[\\\"prediction_afterRI_binary\\\"] = a1_a2_inner[\\\"prediction_afterRI\\\"].apply(\\n        lambda x: 0 if (x < 0.3) else 1  # hard-coded to 0.3 for now\\n    )\\n\\n    print_results(a1_a2_inner, \\\"before RI\\\", \\\"prediction_beforeRI_binary\\\")\\n    print_results(a1_a2_inner, \\\"after RI\\\", \\\"prediction_afterRI_binary\\\")\";\n",
       "                var nbb_cells = Jupyter.notebook.get_cells();\n",
       "                for (var i = 0; i < nbb_cells.length; ++i) {\n",
       "                    if (nbb_cells[i].input_prompt_number == nbb_cell_id) {\n",
       "                        if (nbb_cells[i].get_text() == nbb_unformatted_code) {\n",
       "                             nbb_cells[i].set_text(nbb_formatted_code);\n",
       "                        }\n",
       "                        break;\n",
       "                    }\n",
       "                }\n",
       "            }, 500);\n",
       "            "
      ],
      "text/plain": [
       "<IPython.core.display.Javascript object>"
      ]
     },
     "metadata": {},
     "output_type": "display_data"
    }
   ],
   "source": [
    "def ssl_predictions(ssl, X_test):\n",
    "    \"\"\"\n",
    "    Parameters\n",
    "    ----------\n",
    "\n",
    "    ssl : trained semi-supervised learning model\n",
    "    X_test : testing data of accepted and rejected population for predictions\n",
    "\n",
    "    Return\n",
    "    ------\n",
    "\n",
    "    Predictions before RI (binary)\n",
    "    Predictions after RI (binary)\n",
    "\n",
    "    \"\"\"\n",
    "    # Make predictions\n",
    "    y_pred = ssl.predict(X_test)\n",
    "    # Convert y_pred array to pandas dataframe\n",
    "    pred_test = pd.DataFrame(\n",
    "        data=y_pred,\n",
    "        columns=[\"prediction_afterRI\"],\n",
    "        index=X_test.index.copy(),\n",
    "    )\n",
    "    a1 = pred_test1[[\"id\", \"target\", \"prediction_beforeRI\"]]  # hard-coded for now\n",
    "    a2 = pred_test[[\"prediction_afterRI\"]]  # hard-coded for now\n",
    "\n",
    "    # Merge a1 and a2\n",
    "    a1_a2_inner = pd.merge(\n",
    "        a1,\n",
    "        a2,\n",
    "        how=\"inner\",\n",
    "        left_index=True,\n",
    "        right_index=True,\n",
    "    )\n",
    "\n",
    "    # Make final prediction\n",
    "    a1_a2_inner[\"prediction_beforeRI_binary\"] = a1_a2_inner[\n",
    "        \"prediction_beforeRI\"\n",
    "    ].apply(\n",
    "        lambda x: 0 if (x < 0.3) else 1\n",
    "    )  # hard-coded to 0.3 for now\n",
    "    a1_a2_inner[\"prediction_afterRI_binary\"] = a1_a2_inner[\"prediction_afterRI\"].apply(\n",
    "        lambda x: 0 if (x < 0.3) else 1  # hard-coded to 0.3 for now\n",
    "    )\n",
    "\n",
    "    print_results(a1_a2_inner, \"before RI\", \"prediction_beforeRI_binary\")\n",
    "    print_results(a1_a2_inner, \"after RI\", \"prediction_afterRI_binary\")"
   ]
  },
  {
   "cell_type": "markdown",
   "metadata": {},
   "source": [
    "### SSL Prep"
   ]
  },
  {
   "cell_type": "code",
   "execution_count": 62,
   "metadata": {},
   "outputs": [
    {
     "data": {
      "application/javascript": [
       "\n",
       "            setTimeout(function() {\n",
       "                var nbb_cell_id = 62;\n",
       "                var nbb_unformatted_code = \"# Train\\ntrain_new_model = ssl_prep(\\n    os_data_X_2,\\n    os_data_y,\\n    dfr_dev3,\\n)\\n# Test\\ntest_new_model = ssl_prep(\\n    X_test_3,\\n    y_test,\\n    dfr_test3,\\n)\\nX_ssl, y_ssl = ssl_split(train_new_model, \\\"unlabel\\\")\";\n",
       "                var nbb_formatted_code = \"# Train\\ntrain_new_model = ssl_prep(\\n    os_data_X_2,\\n    os_data_y,\\n    dfr_dev3,\\n)\\n# Test\\ntest_new_model = ssl_prep(\\n    X_test_3,\\n    y_test,\\n    dfr_test3,\\n)\\nX_ssl, y_ssl = ssl_split(train_new_model, \\\"unlabel\\\")\";\n",
       "                var nbb_cells = Jupyter.notebook.get_cells();\n",
       "                for (var i = 0; i < nbb_cells.length; ++i) {\n",
       "                    if (nbb_cells[i].input_prompt_number == nbb_cell_id) {\n",
       "                        if (nbb_cells[i].get_text() == nbb_unformatted_code) {\n",
       "                             nbb_cells[i].set_text(nbb_formatted_code);\n",
       "                        }\n",
       "                        break;\n",
       "                    }\n",
       "                }\n",
       "            }, 500);\n",
       "            "
      ],
      "text/plain": [
       "<IPython.core.display.Javascript object>"
      ]
     },
     "metadata": {},
     "output_type": "display_data"
    }
   ],
   "source": [
    "# Train\n",
    "train_new_model = ssl_prep(\n",
    "    os_data_X_2,\n",
    "    os_data_y,\n",
    "    dfr_dev3,\n",
    ")\n",
    "# Test\n",
    "test_new_model = ssl_prep(\n",
    "    X_test_3,\n",
    "    y_test,\n",
    "    dfr_test3,\n",
    ")\n",
    "X_ssl, y_ssl = ssl_split(train_new_model, \"unlabel\")"
   ]
  },
  {
   "cell_type": "markdown",
   "metadata": {},
   "source": [
    "### SSL Models & Predictions"
   ]
  },
  {
   "cell_type": "code",
   "execution_count": 63,
   "metadata": {},
   "outputs": [
    {
     "name": "stdout",
     "output_type": "stream",
     "text": [
      "The number of accurately classified cases  before RI  is:  1654\n",
      "The number of misclassified cases  before RI  is:  446\n",
      "The number of accurately classified cases  after RI  is:  1849\n",
      "The number of misclassified cases  after RI  is:  251\n"
     ]
    },
    {
     "data": {
      "application/javascript": [
       "\n",
       "            setTimeout(function() {\n",
       "                var nbb_cell_id = 63;\n",
       "                var nbb_unformatted_code = \"self_training = ssl_model_selftraining(X_ssl, y_ssl, SelfTrainingClassifier)\\nssl_predictions(self_training, X_test_3)\";\n",
       "                var nbb_formatted_code = \"self_training = ssl_model_selftraining(X_ssl, y_ssl, SelfTrainingClassifier)\\nssl_predictions(self_training, X_test_3)\";\n",
       "                var nbb_cells = Jupyter.notebook.get_cells();\n",
       "                for (var i = 0; i < nbb_cells.length; ++i) {\n",
       "                    if (nbb_cells[i].input_prompt_number == nbb_cell_id) {\n",
       "                        if (nbb_cells[i].get_text() == nbb_unformatted_code) {\n",
       "                             nbb_cells[i].set_text(nbb_formatted_code);\n",
       "                        }\n",
       "                        break;\n",
       "                    }\n",
       "                }\n",
       "            }, 500);\n",
       "            "
      ],
      "text/plain": [
       "<IPython.core.display.Javascript object>"
      ]
     },
     "metadata": {},
     "output_type": "display_data"
    }
   ],
   "source": [
    "self_training = ssl_model_selftraining(X_ssl, y_ssl, SelfTrainingClassifier)\n",
    "ssl_predictions(self_training, X_test_3)"
   ]
  },
  {
   "cell_type": "code",
   "execution_count": 64,
   "metadata": {},
   "outputs": [
    {
     "name": "stdout",
     "output_type": "stream",
     "text": [
      "The number of accurately classified cases  before RI  is:  1654\n",
      "The number of misclassified cases  before RI  is:  446\n",
      "The number of accurately classified cases  after RI  is:  1726\n",
      "The number of misclassified cases  after RI  is:  374\n"
     ]
    },
    {
     "data": {
      "application/javascript": [
       "\n",
       "            setTimeout(function() {\n",
       "                var nbb_cell_id = 64;\n",
       "                var nbb_unformatted_code = \"label_spreading = ssl_model_label(X_ssl, y_ssl, LabelSpreading)\\nssl_predictions(label_spreading, X_test_3)\";\n",
       "                var nbb_formatted_code = \"label_spreading = ssl_model_label(X_ssl, y_ssl, LabelSpreading)\\nssl_predictions(label_spreading, X_test_3)\";\n",
       "                var nbb_cells = Jupyter.notebook.get_cells();\n",
       "                for (var i = 0; i < nbb_cells.length; ++i) {\n",
       "                    if (nbb_cells[i].input_prompt_number == nbb_cell_id) {\n",
       "                        if (nbb_cells[i].get_text() == nbb_unformatted_code) {\n",
       "                             nbb_cells[i].set_text(nbb_formatted_code);\n",
       "                        }\n",
       "                        break;\n",
       "                    }\n",
       "                }\n",
       "            }, 500);\n",
       "            "
      ],
      "text/plain": [
       "<IPython.core.display.Javascript object>"
      ]
     },
     "metadata": {},
     "output_type": "display_data"
    }
   ],
   "source": [
    "label_spreading = ssl_model_label(X_ssl, y_ssl, LabelSpreading)\n",
    "ssl_predictions(label_spreading, X_test_3)"
   ]
  },
  {
   "cell_type": "code",
   "execution_count": 65,
   "metadata": {},
   "outputs": [
    {
     "name": "stdout",
     "output_type": "stream",
     "text": [
      "The number of accurately classified cases  before RI  is:  1654\n",
      "The number of misclassified cases  before RI  is:  446\n",
      "The number of accurately classified cases  after RI  is:  1739\n",
      "The number of misclassified cases  after RI  is:  361\n"
     ]
    },
    {
     "data": {
      "application/javascript": [
       "\n",
       "            setTimeout(function() {\n",
       "                var nbb_cell_id = 65;\n",
       "                var nbb_unformatted_code = \"label_propagation = ssl_model_label(X_ssl, y_ssl, LabelPropagation)\\nssl_predictions(label_propagation, X_test_3)\";\n",
       "                var nbb_formatted_code = \"label_propagation = ssl_model_label(X_ssl, y_ssl, LabelPropagation)\\nssl_predictions(label_propagation, X_test_3)\";\n",
       "                var nbb_cells = Jupyter.notebook.get_cells();\n",
       "                for (var i = 0; i < nbb_cells.length; ++i) {\n",
       "                    if (nbb_cells[i].input_prompt_number == nbb_cell_id) {\n",
       "                        if (nbb_cells[i].get_text() == nbb_unformatted_code) {\n",
       "                             nbb_cells[i].set_text(nbb_formatted_code);\n",
       "                        }\n",
       "                        break;\n",
       "                    }\n",
       "                }\n",
       "            }, 500);\n",
       "            "
      ],
      "text/plain": [
       "<IPython.core.display.Javascript object>"
      ]
     },
     "metadata": {},
     "output_type": "display_data"
    }
   ],
   "source": [
    "label_propagation = ssl_model_label(X_ssl, y_ssl, LabelPropagation)\n",
    "ssl_predictions(label_propagation, X_test_3)"
   ]
  },
  {
   "cell_type": "markdown",
   "metadata": {},
   "source": [
    "## Ensembling"
   ]
  },
  {
   "cell_type": "code",
   "execution_count": 71,
   "metadata": {},
   "outputs": [
    {
     "data": {
      "application/javascript": [
       "\n",
       "            setTimeout(function() {\n",
       "                var nbb_cell_id = 71;\n",
       "                var nbb_unformatted_code = \"estimators = [\\n    (\\\"lp\\\", label_propagation),\\n    (\\\"lsp\\\", label_spreading),\\n    (\\\"st\\\", self_training)\\n]\";\n",
       "                var nbb_formatted_code = \"estimators = [\\n    (\\\"lp\\\", label_propagation),\\n    (\\\"lsp\\\", label_spreading),\\n    (\\\"st\\\", self_training),\\n]\";\n",
       "                var nbb_cells = Jupyter.notebook.get_cells();\n",
       "                for (var i = 0; i < nbb_cells.length; ++i) {\n",
       "                    if (nbb_cells[i].input_prompt_number == nbb_cell_id) {\n",
       "                        if (nbb_cells[i].get_text() == nbb_unformatted_code) {\n",
       "                             nbb_cells[i].set_text(nbb_formatted_code);\n",
       "                        }\n",
       "                        break;\n",
       "                    }\n",
       "                }\n",
       "            }, 500);\n",
       "            "
      ],
      "text/plain": [
       "<IPython.core.display.Javascript object>"
      ]
     },
     "metadata": {},
     "output_type": "display_data"
    }
   ],
   "source": [
    "estimators = [\n",
    "    (\"lp\", label_propagation),\n",
    "    (\"lsp\", label_spreading),\n",
    "    (\"st\", self_training),\n",
    "]"
   ]
  },
  {
   "cell_type": "markdown",
   "metadata": {},
   "source": [
    "### Ensembling Models and Predictions"
   ]
  },
  {
   "cell_type": "code",
   "execution_count": 72,
   "metadata": {},
   "outputs": [
    {
     "data": {
      "application/javascript": [
       "\n",
       "            setTimeout(function() {\n",
       "                var nbb_cell_id = 72;\n",
       "                var nbb_unformatted_code = \"# Stacking Classifier\\nfinal_estimator = GradientBoostingClassifier(\\n    n_estimators=5, subsample=0.5, min_samples_leaf=25, max_features=1, random_state=42\\n)\\nsc = StackingClassifier(estimators=estimators, final_estimator=final_estimator)\\n# Hard Voting Classifier\\nhvc = VotingClassifier(estimators=estimators, voting=\\\"hard\\\")\\n# Soft Voting Classifier\\nsoft_vc = VotingClassifier(estimators=estimators, voting=\\\"soft\\\", weights=[1, 0])\";\n",
       "                var nbb_formatted_code = \"# Stacking Classifier\\nfinal_estimator = GradientBoostingClassifier(\\n    n_estimators=5, subsample=0.5, min_samples_leaf=25, max_features=1, random_state=42\\n)\\nsc = StackingClassifier(estimators=estimators, final_estimator=final_estimator)\\n# Hard Voting Classifier\\nhvc = VotingClassifier(estimators=estimators, voting=\\\"hard\\\")\\n# Soft Voting Classifier\\nsoft_vc = VotingClassifier(estimators=estimators, voting=\\\"soft\\\", weights=[1, 0])\";\n",
       "                var nbb_cells = Jupyter.notebook.get_cells();\n",
       "                for (var i = 0; i < nbb_cells.length; ++i) {\n",
       "                    if (nbb_cells[i].input_prompt_number == nbb_cell_id) {\n",
       "                        if (nbb_cells[i].get_text() == nbb_unformatted_code) {\n",
       "                             nbb_cells[i].set_text(nbb_formatted_code);\n",
       "                        }\n",
       "                        break;\n",
       "                    }\n",
       "                }\n",
       "            }, 500);\n",
       "            "
      ],
      "text/plain": [
       "<IPython.core.display.Javascript object>"
      ]
     },
     "metadata": {},
     "output_type": "display_data"
    }
   ],
   "source": [
    "# Stacking Classifier\n",
    "final_estimator = GradientBoostingClassifier(\n",
    "    n_estimators=5, subsample=0.5, min_samples_leaf=25, max_features=1, random_state=42\n",
    ")\n",
    "sc = StackingClassifier(estimators=estimators, final_estimator=final_estimator)\n",
    "# Hard Voting Classifier\n",
    "hvc = VotingClassifier(estimators=estimators, voting=\"hard\")\n",
    "# Soft Voting Classifier\n",
    "soft_vc = VotingClassifier(estimators=estimators, voting=\"soft\", weights=[1, 0])"
   ]
  },
  {
   "cell_type": "code",
   "execution_count": 73,
   "metadata": {},
   "outputs": [
    {
     "name": "stdout",
     "output_type": "stream",
     "text": [
      "The number of accurately classified cases  before RI  is:  1654\n",
      "The number of misclassified cases  before RI  is:  446\n",
      "The number of accurately classified cases  after RI  is:  2006\n",
      "The number of misclassified cases  after RI  is:  94\n"
     ]
    },
    {
     "data": {
      "application/javascript": [
       "\n",
       "            setTimeout(function() {\n",
       "                var nbb_cell_id = 73;\n",
       "                var nbb_unformatted_code = \"stacking_classifier = sc.fit(X_ssl, y_ssl)\\nssl_predictions(stacking_classifier, X_test_3)\";\n",
       "                var nbb_formatted_code = \"stacking_classifier = sc.fit(X_ssl, y_ssl)\\nssl_predictions(stacking_classifier, X_test_3)\";\n",
       "                var nbb_cells = Jupyter.notebook.get_cells();\n",
       "                for (var i = 0; i < nbb_cells.length; ++i) {\n",
       "                    if (nbb_cells[i].input_prompt_number == nbb_cell_id) {\n",
       "                        if (nbb_cells[i].get_text() == nbb_unformatted_code) {\n",
       "                             nbb_cells[i].set_text(nbb_formatted_code);\n",
       "                        }\n",
       "                        break;\n",
       "                    }\n",
       "                }\n",
       "            }, 500);\n",
       "            "
      ],
      "text/plain": [
       "<IPython.core.display.Javascript object>"
      ]
     },
     "metadata": {},
     "output_type": "display_data"
    }
   ],
   "source": [
    "stacking_classifier = sc.fit(X_ssl, y_ssl)\n",
    "ssl_predictions(stacking_classifier, X_test_3)"
   ]
  },
  {
   "cell_type": "code",
   "execution_count": 74,
   "metadata": {},
   "outputs": [
    {
     "name": "stdout",
     "output_type": "stream",
     "text": [
      "The number of accurately classified cases  before RI  is:  1654\n",
      "The number of misclassified cases  before RI  is:  446\n",
      "The number of accurately classified cases  after RI  is:  1800\n",
      "The number of misclassified cases  after RI  is:  300\n"
     ]
    },
    {
     "data": {
      "application/javascript": [
       "\n",
       "            setTimeout(function() {\n",
       "                var nbb_cell_id = 74;\n",
       "                var nbb_unformatted_code = \"hard_voting_classifier = hvc.fit(X_ssl, y_ssl)\\nssl_predictions(hard_voting_classifier, X_test_3)\";\n",
       "                var nbb_formatted_code = \"hard_voting_classifier = hvc.fit(X_ssl, y_ssl)\\nssl_predictions(hard_voting_classifier, X_test_3)\";\n",
       "                var nbb_cells = Jupyter.notebook.get_cells();\n",
       "                for (var i = 0; i < nbb_cells.length; ++i) {\n",
       "                    if (nbb_cells[i].input_prompt_number == nbb_cell_id) {\n",
       "                        if (nbb_cells[i].get_text() == nbb_unformatted_code) {\n",
       "                             nbb_cells[i].set_text(nbb_formatted_code);\n",
       "                        }\n",
       "                        break;\n",
       "                    }\n",
       "                }\n",
       "            }, 500);\n",
       "            "
      ],
      "text/plain": [
       "<IPython.core.display.Javascript object>"
      ]
     },
     "metadata": {},
     "output_type": "display_data"
    }
   ],
   "source": [
    "hard_voting_classifier = hvc.fit(X_ssl, y_ssl)\n",
    "ssl_predictions(hard_voting_classifier, X_test_3)"
   ]
  },
  {
   "cell_type": "code",
   "execution_count": 75,
   "metadata": {},
   "outputs": [
    {
     "name": "stdout",
     "output_type": "stream",
     "text": [
      "The number of accurately classified cases  before RI  is:  1654\n",
      "The number of misclassified cases  before RI  is:  446\n",
      "The number of accurately classified cases  after RI  is:  1800\n",
      "The number of misclassified cases  after RI  is:  300\n"
     ]
    },
    {
     "data": {
      "application/javascript": [
       "\n",
       "            setTimeout(function() {\n",
       "                var nbb_cell_id = 75;\n",
       "                var nbb_unformatted_code = \"soft_voting_classifier = hvc.fit(X_ssl, y_ssl)\\nssl_predictions(soft_voting_classifier, X_test_3)\";\n",
       "                var nbb_formatted_code = \"soft_voting_classifier = hvc.fit(X_ssl, y_ssl)\\nssl_predictions(soft_voting_classifier, X_test_3)\";\n",
       "                var nbb_cells = Jupyter.notebook.get_cells();\n",
       "                for (var i = 0; i < nbb_cells.length; ++i) {\n",
       "                    if (nbb_cells[i].input_prompt_number == nbb_cell_id) {\n",
       "                        if (nbb_cells[i].get_text() == nbb_unformatted_code) {\n",
       "                             nbb_cells[i].set_text(nbb_formatted_code);\n",
       "                        }\n",
       "                        break;\n",
       "                    }\n",
       "                }\n",
       "            }, 500);\n",
       "            "
      ],
      "text/plain": [
       "<IPython.core.display.Javascript object>"
      ]
     },
     "metadata": {},
     "output_type": "display_data"
    }
   ],
   "source": [
    "soft_voting_classifier = hvc.fit(X_ssl, y_ssl)\n",
    "ssl_predictions(soft_voting_classifier, X_test_3)"
   ]
  },
  {
   "cell_type": "code",
   "execution_count": null,
   "metadata": {},
   "outputs": [],
   "source": []
  },
  {
   "cell_type": "code",
   "execution_count": null,
   "metadata": {},
   "outputs": [],
   "source": []
  }
 ],
 "metadata": {
  "kernelspec": {
   "display_name": "Python 3",
   "language": "python",
   "name": "python3"
  },
  "language_info": {
   "codemirror_mode": {
    "name": "ipython",
    "version": 3
   },
   "file_extension": ".py",
   "mimetype": "text/x-python",
   "name": "python",
   "nbconvert_exporter": "python",
   "pygments_lexer": "ipython3",
   "version": "3.8.3"
  }
 },
 "nbformat": 4,
 "nbformat_minor": 4
}
