{
 "cells": [
  {
   "cell_type": "code",
   "execution_count": 1,
   "metadata": {},
   "outputs": [],
   "source": [
    "%load_ext autoreload\n",
    "%autoreload 2"
   ]
  },
  {
   "cell_type": "markdown",
   "metadata": {},
   "source": [
    "Install targen from pip\n",
    "\n",
    "```bash \n",
    "pip install targen\n",
    "```"
   ]
  },
  {
   "cell_type": "code",
   "execution_count": 2,
   "metadata": {},
   "outputs": [],
   "source": [
    "from sklearn.datasets import make_classification\n",
    "\n",
    "import pandas as pd\n",
    "import numpy as np\n",
    "import matplotlib.pyplot as plt\n",
    "\n",
    "from targen.data import target"
   ]
  },
  {
   "cell_type": "markdown",
   "metadata": {},
   "source": [
    "### Get random gaussian data"
   ]
  },
  {
   "cell_type": "code",
   "execution_count": 3,
   "metadata": {},
   "outputs": [],
   "source": [
    "n_features = 18"
   ]
  },
  {
   "cell_type": "code",
   "execution_count": 4,
   "metadata": {},
   "outputs": [],
   "source": [
    "X, dummy = make_classification( n_samples=10000,\n",
    "    n_features=n_features)"
   ]
  },
  {
   "cell_type": "markdown",
   "metadata": {},
   "source": [
    "There are 20 features in the model, lets add some naming convention\n",
    "\n",
    "- make sure that the first 12 feature are known and the last 8 are hidden\n",
    "- Features that are predictive of the target will contain in p_y\n",
    "- Features that are use for the accept/reject biasn will contain p_a\n"
   ]
  },
  {
   "cell_type": "code",
   "execution_count": 5,
   "metadata": {},
   "outputs": [],
   "source": [
    "# def rename_columns(col,ix):\n",
    "#     out = col\n",
    "    \n",
    "#     if ix <5:\n",
    "#         out+='_p_y'\n",
    "#     if 3<=ix<7:\n",
    "#         out+='_p_a'\n",
    "#     return out\n",
    "\n",
    "known_cols =  [f'known_col_{ix}' for ix in range(int(n_features/2))]\n",
    "if n_features %2==0:\n",
    "    hidden_cols = [f'hidden_col_{ix}' for ix in range(int(n_features/2))]\n",
    "    \n",
    "else:\n",
    "    hidden_cols = [f'hidden_col_{ix}' for ix in range(int(n_features/2)+1)]\n",
    "columns = known_cols+hidden_cols\n",
    "\n",
    "# known_cols = [rename_columns(col, ix) for ix,col in enumerate(known_cols)]\n",
    "# hidden_cols = [rename_columns(col, ix) for ix,col in enumerate(hidden_cols)]\n",
    "\n",
    "# columns = known_cols+hidden_cols"
   ]
  },
  {
   "cell_type": "code",
   "execution_count": 6,
   "metadata": {},
   "outputs": [
    {
     "data": {
      "text/plain": [
       "['known_col_0',\n",
       " 'known_col_1',\n",
       " 'known_col_2',\n",
       " 'known_col_3',\n",
       " 'known_col_4',\n",
       " 'known_col_5',\n",
       " 'known_col_6',\n",
       " 'known_col_7',\n",
       " 'known_col_8',\n",
       " 'hidden_col_0',\n",
       " 'hidden_col_1',\n",
       " 'hidden_col_2',\n",
       " 'hidden_col_3',\n",
       " 'hidden_col_4',\n",
       " 'hidden_col_5',\n",
       " 'hidden_col_6',\n",
       " 'hidden_col_7',\n",
       " 'hidden_col_8']"
      ]
     },
     "execution_count": 6,
     "metadata": {},
     "output_type": "execute_result"
    }
   ],
   "source": [
    "columns"
   ]
  },
  {
   "cell_type": "markdown",
   "metadata": {},
   "source": [
    "Map it to the dataframe"
   ]
  },
  {
   "cell_type": "code",
   "execution_count": 7,
   "metadata": {},
   "outputs": [],
   "source": [
    "data = pd.DataFrame(X, columns = columns)"
   ]
  },
  {
   "cell_type": "code",
   "execution_count": 8,
   "metadata": {},
   "outputs": [
    {
     "data": {
      "text/html": [
       "<div>\n",
       "<style scoped>\n",
       "    .dataframe tbody tr th:only-of-type {\n",
       "        vertical-align: middle;\n",
       "    }\n",
       "\n",
       "    .dataframe tbody tr th {\n",
       "        vertical-align: top;\n",
       "    }\n",
       "\n",
       "    .dataframe thead th {\n",
       "        text-align: right;\n",
       "    }\n",
       "</style>\n",
       "<table border=\"1\" class=\"dataframe\">\n",
       "  <thead>\n",
       "    <tr style=\"text-align: right;\">\n",
       "      <th></th>\n",
       "      <th>known_col_0</th>\n",
       "      <th>known_col_1</th>\n",
       "      <th>known_col_2</th>\n",
       "      <th>known_col_3</th>\n",
       "      <th>known_col_4</th>\n",
       "      <th>known_col_5</th>\n",
       "      <th>known_col_6</th>\n",
       "      <th>known_col_7</th>\n",
       "      <th>known_col_8</th>\n",
       "      <th>hidden_col_0</th>\n",
       "      <th>hidden_col_1</th>\n",
       "      <th>hidden_col_2</th>\n",
       "      <th>hidden_col_3</th>\n",
       "      <th>hidden_col_4</th>\n",
       "      <th>hidden_col_5</th>\n",
       "      <th>hidden_col_6</th>\n",
       "      <th>hidden_col_7</th>\n",
       "      <th>hidden_col_8</th>\n",
       "    </tr>\n",
       "  </thead>\n",
       "  <tbody>\n",
       "    <tr>\n",
       "      <th>0</th>\n",
       "      <td>-1.514834</td>\n",
       "      <td>-0.691054</td>\n",
       "      <td>-0.701259</td>\n",
       "      <td>-1.799825</td>\n",
       "      <td>0.503310</td>\n",
       "      <td>1.447505</td>\n",
       "      <td>-1.171768</td>\n",
       "      <td>0.192840</td>\n",
       "      <td>-0.129436</td>\n",
       "      <td>0.001499</td>\n",
       "      <td>0.575373</td>\n",
       "      <td>-0.146524</td>\n",
       "      <td>1.472080</td>\n",
       "      <td>-1.215229</td>\n",
       "      <td>0.681630</td>\n",
       "      <td>-1.296196</td>\n",
       "      <td>0.056276</td>\n",
       "      <td>-0.945076</td>\n",
       "    </tr>\n",
       "    <tr>\n",
       "      <th>1</th>\n",
       "      <td>1.225041</td>\n",
       "      <td>-0.762310</td>\n",
       "      <td>-0.279633</td>\n",
       "      <td>0.025562</td>\n",
       "      <td>0.757736</td>\n",
       "      <td>-0.688201</td>\n",
       "      <td>0.992133</td>\n",
       "      <td>1.113317</td>\n",
       "      <td>1.083114</td>\n",
       "      <td>-0.127719</td>\n",
       "      <td>1.703058</td>\n",
       "      <td>-1.106039</td>\n",
       "      <td>0.189622</td>\n",
       "      <td>-0.209269</td>\n",
       "      <td>-0.385268</td>\n",
       "      <td>0.962161</td>\n",
       "      <td>-0.474822</td>\n",
       "      <td>-0.154486</td>\n",
       "    </tr>\n",
       "    <tr>\n",
       "      <th>2</th>\n",
       "      <td>2.139550</td>\n",
       "      <td>0.905680</td>\n",
       "      <td>-0.086653</td>\n",
       "      <td>1.284909</td>\n",
       "      <td>1.679664</td>\n",
       "      <td>0.782860</td>\n",
       "      <td>-1.010833</td>\n",
       "      <td>0.724997</td>\n",
       "      <td>-0.287602</td>\n",
       "      <td>0.599644</td>\n",
       "      <td>0.746692</td>\n",
       "      <td>-1.073889</td>\n",
       "      <td>-1.325901</td>\n",
       "      <td>-0.518715</td>\n",
       "      <td>-0.789139</td>\n",
       "      <td>0.713595</td>\n",
       "      <td>0.097533</td>\n",
       "      <td>0.373812</td>\n",
       "    </tr>\n",
       "    <tr>\n",
       "      <th>3</th>\n",
       "      <td>1.091473</td>\n",
       "      <td>-0.327481</td>\n",
       "      <td>0.945175</td>\n",
       "      <td>-2.162692</td>\n",
       "      <td>-1.110672</td>\n",
       "      <td>-0.989450</td>\n",
       "      <td>1.183022</td>\n",
       "      <td>-0.032436</td>\n",
       "      <td>-0.638434</td>\n",
       "      <td>0.231871</td>\n",
       "      <td>-1.067052</td>\n",
       "      <td>-0.959236</td>\n",
       "      <td>-0.879711</td>\n",
       "      <td>-2.292089</td>\n",
       "      <td>-0.346814</td>\n",
       "      <td>-0.581400</td>\n",
       "      <td>0.572650</td>\n",
       "      <td>-0.117976</td>\n",
       "    </tr>\n",
       "    <tr>\n",
       "      <th>4</th>\n",
       "      <td>-1.514658</td>\n",
       "      <td>0.933908</td>\n",
       "      <td>-0.387462</td>\n",
       "      <td>1.022761</td>\n",
       "      <td>0.149401</td>\n",
       "      <td>-1.380624</td>\n",
       "      <td>-0.002899</td>\n",
       "      <td>-0.390368</td>\n",
       "      <td>-0.492954</td>\n",
       "      <td>0.526957</td>\n",
       "      <td>-0.029018</td>\n",
       "      <td>0.998902</td>\n",
       "      <td>-0.207346</td>\n",
       "      <td>-1.532102</td>\n",
       "      <td>0.526311</td>\n",
       "      <td>-0.821466</td>\n",
       "      <td>-1.328247</td>\n",
       "      <td>-0.085567</td>\n",
       "    </tr>\n",
       "    <tr>\n",
       "      <th>...</th>\n",
       "      <td>...</td>\n",
       "      <td>...</td>\n",
       "      <td>...</td>\n",
       "      <td>...</td>\n",
       "      <td>...</td>\n",
       "      <td>...</td>\n",
       "      <td>...</td>\n",
       "      <td>...</td>\n",
       "      <td>...</td>\n",
       "      <td>...</td>\n",
       "      <td>...</td>\n",
       "      <td>...</td>\n",
       "      <td>...</td>\n",
       "      <td>...</td>\n",
       "      <td>...</td>\n",
       "      <td>...</td>\n",
       "      <td>...</td>\n",
       "      <td>...</td>\n",
       "    </tr>\n",
       "    <tr>\n",
       "      <th>9995</th>\n",
       "      <td>-2.109463</td>\n",
       "      <td>-0.353046</td>\n",
       "      <td>-0.028312</td>\n",
       "      <td>1.406722</td>\n",
       "      <td>-1.278636</td>\n",
       "      <td>0.439233</td>\n",
       "      <td>-0.647358</td>\n",
       "      <td>0.791608</td>\n",
       "      <td>0.217126</td>\n",
       "      <td>-0.035700</td>\n",
       "      <td>-0.742330</td>\n",
       "      <td>0.330811</td>\n",
       "      <td>-0.890600</td>\n",
       "      <td>-0.492601</td>\n",
       "      <td>0.876706</td>\n",
       "      <td>-0.298169</td>\n",
       "      <td>-0.648194</td>\n",
       "      <td>-0.914756</td>\n",
       "    </tr>\n",
       "    <tr>\n",
       "      <th>9996</th>\n",
       "      <td>0.618890</td>\n",
       "      <td>0.304681</td>\n",
       "      <td>-0.184782</td>\n",
       "      <td>0.343808</td>\n",
       "      <td>0.466266</td>\n",
       "      <td>-1.037166</td>\n",
       "      <td>0.326029</td>\n",
       "      <td>-0.162732</td>\n",
       "      <td>0.235269</td>\n",
       "      <td>-0.230822</td>\n",
       "      <td>-0.168607</td>\n",
       "      <td>0.849749</td>\n",
       "      <td>-2.355864</td>\n",
       "      <td>-0.573501</td>\n",
       "      <td>-0.385537</td>\n",
       "      <td>0.080061</td>\n",
       "      <td>-0.236815</td>\n",
       "      <td>0.978765</td>\n",
       "    </tr>\n",
       "    <tr>\n",
       "      <th>9997</th>\n",
       "      <td>0.098591</td>\n",
       "      <td>-0.108223</td>\n",
       "      <td>-0.500086</td>\n",
       "      <td>-1.342400</td>\n",
       "      <td>-0.450464</td>\n",
       "      <td>-1.063440</td>\n",
       "      <td>1.537264</td>\n",
       "      <td>-0.610378</td>\n",
       "      <td>-0.584345</td>\n",
       "      <td>1.060657</td>\n",
       "      <td>0.354948</td>\n",
       "      <td>-1.803055</td>\n",
       "      <td>-0.158282</td>\n",
       "      <td>-1.758656</td>\n",
       "      <td>0.201301</td>\n",
       "      <td>1.424341</td>\n",
       "      <td>-0.142520</td>\n",
       "      <td>-1.298478</td>\n",
       "    </tr>\n",
       "    <tr>\n",
       "      <th>9998</th>\n",
       "      <td>2.170572</td>\n",
       "      <td>-0.213255</td>\n",
       "      <td>1.053417</td>\n",
       "      <td>0.047275</td>\n",
       "      <td>0.045253</td>\n",
       "      <td>0.172979</td>\n",
       "      <td>0.434827</td>\n",
       "      <td>0.559104</td>\n",
       "      <td>0.385343</td>\n",
       "      <td>-0.845817</td>\n",
       "      <td>-1.829475</td>\n",
       "      <td>-1.036351</td>\n",
       "      <td>-0.903235</td>\n",
       "      <td>-0.391823</td>\n",
       "      <td>-0.807779</td>\n",
       "      <td>-0.685246</td>\n",
       "      <td>-0.855213</td>\n",
       "      <td>0.419080</td>\n",
       "    </tr>\n",
       "    <tr>\n",
       "      <th>9999</th>\n",
       "      <td>0.307631</td>\n",
       "      <td>0.190775</td>\n",
       "      <td>-0.886580</td>\n",
       "      <td>1.361380</td>\n",
       "      <td>0.511795</td>\n",
       "      <td>0.433268</td>\n",
       "      <td>-0.363284</td>\n",
       "      <td>-0.726515</td>\n",
       "      <td>2.018202</td>\n",
       "      <td>0.112563</td>\n",
       "      <td>-0.858207</td>\n",
       "      <td>-0.921345</td>\n",
       "      <td>-0.302291</td>\n",
       "      <td>-3.358136</td>\n",
       "      <td>-0.009520</td>\n",
       "      <td>1.856317</td>\n",
       "      <td>-0.106740</td>\n",
       "      <td>-0.521686</td>\n",
       "    </tr>\n",
       "  </tbody>\n",
       "</table>\n",
       "<p>10000 rows × 18 columns</p>\n",
       "</div>"
      ],
      "text/plain": [
       "      known_col_0  known_col_1  known_col_2  known_col_3  known_col_4  \\\n",
       "0       -1.514834    -0.691054    -0.701259    -1.799825     0.503310   \n",
       "1        1.225041    -0.762310    -0.279633     0.025562     0.757736   \n",
       "2        2.139550     0.905680    -0.086653     1.284909     1.679664   \n",
       "3        1.091473    -0.327481     0.945175    -2.162692    -1.110672   \n",
       "4       -1.514658     0.933908    -0.387462     1.022761     0.149401   \n",
       "...           ...          ...          ...          ...          ...   \n",
       "9995    -2.109463    -0.353046    -0.028312     1.406722    -1.278636   \n",
       "9996     0.618890     0.304681    -0.184782     0.343808     0.466266   \n",
       "9997     0.098591    -0.108223    -0.500086    -1.342400    -0.450464   \n",
       "9998     2.170572    -0.213255     1.053417     0.047275     0.045253   \n",
       "9999     0.307631     0.190775    -0.886580     1.361380     0.511795   \n",
       "\n",
       "      known_col_5  known_col_6  known_col_7  known_col_8  hidden_col_0  \\\n",
       "0        1.447505    -1.171768     0.192840    -0.129436      0.001499   \n",
       "1       -0.688201     0.992133     1.113317     1.083114     -0.127719   \n",
       "2        0.782860    -1.010833     0.724997    -0.287602      0.599644   \n",
       "3       -0.989450     1.183022    -0.032436    -0.638434      0.231871   \n",
       "4       -1.380624    -0.002899    -0.390368    -0.492954      0.526957   \n",
       "...           ...          ...          ...          ...           ...   \n",
       "9995     0.439233    -0.647358     0.791608     0.217126     -0.035700   \n",
       "9996    -1.037166     0.326029    -0.162732     0.235269     -0.230822   \n",
       "9997    -1.063440     1.537264    -0.610378    -0.584345      1.060657   \n",
       "9998     0.172979     0.434827     0.559104     0.385343     -0.845817   \n",
       "9999     0.433268    -0.363284    -0.726515     2.018202      0.112563   \n",
       "\n",
       "      hidden_col_1  hidden_col_2  hidden_col_3  hidden_col_4  hidden_col_5  \\\n",
       "0         0.575373     -0.146524      1.472080     -1.215229      0.681630   \n",
       "1         1.703058     -1.106039      0.189622     -0.209269     -0.385268   \n",
       "2         0.746692     -1.073889     -1.325901     -0.518715     -0.789139   \n",
       "3        -1.067052     -0.959236     -0.879711     -2.292089     -0.346814   \n",
       "4        -0.029018      0.998902     -0.207346     -1.532102      0.526311   \n",
       "...            ...           ...           ...           ...           ...   \n",
       "9995     -0.742330      0.330811     -0.890600     -0.492601      0.876706   \n",
       "9996     -0.168607      0.849749     -2.355864     -0.573501     -0.385537   \n",
       "9997      0.354948     -1.803055     -0.158282     -1.758656      0.201301   \n",
       "9998     -1.829475     -1.036351     -0.903235     -0.391823     -0.807779   \n",
       "9999     -0.858207     -0.921345     -0.302291     -3.358136     -0.009520   \n",
       "\n",
       "      hidden_col_6  hidden_col_7  hidden_col_8  \n",
       "0        -1.296196      0.056276     -0.945076  \n",
       "1         0.962161     -0.474822     -0.154486  \n",
       "2         0.713595      0.097533      0.373812  \n",
       "3        -0.581400      0.572650     -0.117976  \n",
       "4        -0.821466     -1.328247     -0.085567  \n",
       "...            ...           ...           ...  \n",
       "9995     -0.298169     -0.648194     -0.914756  \n",
       "9996      0.080061     -0.236815      0.978765  \n",
       "9997      1.424341     -0.142520     -1.298478  \n",
       "9998     -0.685246     -0.855213      0.419080  \n",
       "9999      1.856317     -0.106740     -0.521686  \n",
       "\n",
       "[10000 rows x 18 columns]"
      ]
     },
     "execution_count": 8,
     "metadata": {},
     "output_type": "execute_result"
    }
   ],
   "source": [
    "data"
   ]
  },
  {
   "cell_type": "markdown",
   "metadata": {},
   "source": [
    "### Add some correlation between variables\n",
    "\n",
    "This function will be improved"
   ]
  },
  {
   "cell_type": "code",
   "execution_count": 9,
   "metadata": {},
   "outputs": [],
   "source": [
    "def add_correlation_between_columns(df,col_1, col_2, theta_pi_2=1):\n",
    "\n",
    "    theta = theta_pi_2 *0.5*np.pi\n",
    "    \n",
    "    data_out = df.copy()\n",
    "    data_out[col_1] = -1*np.cos(theta)* df[col_1] + np.sin(theta* df[col_2])\n",
    "    data_out[col_2] = np.cos(theta)* df[col_1] + np.sin(theta* df[col_2])\n",
    "    \n",
    "    return data_out\n",
    "    "
   ]
  },
  {
   "cell_type": "markdown",
   "metadata": {},
   "source": [
    "`theta_pi_2` is the angle of rotation (expressed in pi/2).<br>\n",
    "\n",
    "When setting it to 1, you will add 100% correaltion between the variables.\n"
   ]
  },
  {
   "cell_type": "code",
   "execution_count": 10,
   "metadata": {},
   "outputs": [],
   "source": [
    "new_data = (\n",
    "    data\n",
    "    .pipe(add_correlation_between_columns,col_1 = 'known_col_0', col_2 = 'known_col_1', theta_pi_2 =1)\n",
    "    .pipe(add_correlation_between_columns,col_1 = 'known_col_2', col_2 = 'known_col_3', theta_pi_2 =-0.9)\n",
    "    .pipe(add_correlation_between_columns,col_1 = 'known_col_2', col_2 = 'hidden_col_0', theta_pi_2 =-0.8)\n",
    "    .pipe(add_correlation_between_columns,col_1 = 'hidden_col_1', col_2 = 'known_col_1', theta_pi_2 =0.4)\n",
    "              \n",
    ")"
   ]
  },
  {
   "cell_type": "markdown",
   "metadata": {},
   "source": [
    "Feel free to add more correlations between variables"
   ]
  },
  {
   "cell_type": "code",
   "execution_count": null,
   "metadata": {},
   "outputs": [],
   "source": [
    "new_data.corr()[[\"known_col_0\",\"known_col_1\",\"known_col_2\",\"known_col_3\",\"hidden_col_0\",\"hidden_col_1\"]]"
   ]
  },
  {
   "cell_type": "markdown",
   "metadata": {},
   "source": [
    "# Define all expressions in one go and get the targets\n",
    "\n",
    "Quick way to get your y target.<br>\n",
    "\n",
    "Define the expression dictionary as in the example below.\n",
    "\n",
    "Allowed keys are\n",
    "\n",
    "- linear: expects a value being a string with an expression\n",
    "- non_linear: expects a value being a string with an expression\n",
    "- interaction: expects a value being a string with an expression\n",
    "- conditional: expects a dictionary, where:<br>\n",
    "    - keys: are the conditions\n",
    "    - values are tuples:\n",
    "        - the first element is the expression or a value to assign to in case when the conditions is true\n",
    "        - the second element is the expression or a value to assign to in case when the conditions is false\n",
    "\n",
    "- uniform noise: expects a dictionary with kwargs to apply, options are\n",
    "    - weight\n",
    "    - min (for scaling)\n",
    "    - max (for scaling)\n",
    "\n",
    "    \n",
    "- gaussian noise: expects a dictionary with kwargs to apply, options are\n",
    "    - weight\n",
    "    - mu_gaus\n",
    "    - sigma_gaus\n",
    "\n"
   ]
  },
  {
   "cell_type": "markdown",
   "metadata": {},
   "source": [
    "# Get the relationships\n",
    "- example: make columns 0,1,2,3,4 predictive for y\n",
    "- make columns 3,4,5,6 predictive for acceptance\n",
    "- columns 7 and 8 are dummy columns"
   ]
  },
  {
   "cell_type": "markdown",
   "metadata": {},
   "source": [
    "### Generate X-y relationship (feature-target)\n",
    "\n"
   ]
  },
  {
   "cell_type": "code",
   "execution_count": null,
   "metadata": {},
   "outputs": [],
   "source": [
    "expressions_x_y = {\n",
    "   \"linear\":'-0.5*known_col_0 + 2.*known_col_1 + 0.7*known_col_4 -0.4*hidden_col_0',\n",
    "    'non_linear': '-0.7*known_col_3**1.5 + 0.2*sin(known_col_1)+ 0.9*log(hidden_col_4) -0.1*hidden_col_2**2',\n",
    "    'interaction': '0.05*known_col_3*known_col_4 -0.1*(known_col_4/hidden_col_1)',\n",
    "    'uniform_noise': {\n",
    "        'weight':0.5\n",
    "    },\n",
    "}"
   ]
  },
  {
   "cell_type": "markdown",
   "metadata": {},
   "source": [
    "### Generate accept-reject relationship"
   ]
  },
  {
   "cell_type": "code",
   "execution_count": null,
   "metadata": {},
   "outputs": [],
   "source": [
    "expressions_accept_reject = {\n",
    "   \"linear\":'-14*known_col_4 + 2.*known_col_5 + 0.9*hidden_col_6 -2.1*known_col_3',\n",
    "    'non_linear': '-0.9*known_col_3**0.5 + 0.2*sin(known_col_5) -2.5*log(hidden_col_5)-0.05*hidden_col_6**2.5',\n",
    "#     'interaction': '0.01*known_col_3*known_col_4 -0.05*(hidden_col_5/hidden_col_6)',\n",
    "    'uniform_noise': {\n",
    "        'weight':0.1\n",
    "    },\n",
    "}"
   ]
  },
  {
   "cell_type": "markdown",
   "metadata": {},
   "source": [
    "## Steps to try:\n",
    "\n",
    "- Add more complex relationship between Xy( accept-rejects)\n",
    "- Add correlations (have a few features in the KGB model that are not used directly in Accept-reject, but are correlated with some features in accept reject)\n",
    "- Tune the predictability on the KGB sample (make the model more predictable there, but not on the reject sample...)\n",
    "- ..."
   ]
  },
  {
   "cell_type": "markdown",
   "metadata": {},
   "source": [
    "### Apply `targen` and get the new dataset"
   ]
  },
  {
   "cell_type": "code",
   "execution_count": null,
   "metadata": {},
   "outputs": [],
   "source": [
    "X_y = target.get_target_and_contributions(data, expressions=expressions_x_y, imbalance = 0.05, drop_features=False)"
   ]
  },
  {
   "cell_type": "code",
   "execution_count": null,
   "metadata": {},
   "outputs": [],
   "source": [
    "X_y['y'].value_counts()"
   ]
  },
  {
   "cell_type": "code",
   "execution_count": null,
   "metadata": {},
   "outputs": [],
   "source": [
    "X_acc_reject = target.get_target_and_contributions(data, expressions=expressions_accept_reject, imbalance = 0.7, drop_features=False)"
   ]
  },
  {
   "cell_type": "code",
   "execution_count": null,
   "metadata": {},
   "outputs": [],
   "source": [
    "X_acc_reject = X_acc_reject.rename(columns={'y':'is_accepted'})"
   ]
  },
  {
   "cell_type": "code",
   "execution_count": null,
   "metadata": {},
   "outputs": [],
   "source": [
    "X_acc_reject['is_accepted'].value_counts()"
   ]
  },
  {
   "cell_type": "markdown",
   "metadata": {},
   "source": [
    "# Put all the data together"
   ]
  },
  {
   "cell_type": "code",
   "execution_count": null,
   "metadata": {},
   "outputs": [],
   "source": [
    "dataset = pd.concat([X_y,X_acc_reject['is_accepted']], axis=1).drop([col for col in X_y.columns if col.startswith(\"score\") ], axis=1)"
   ]
  },
  {
   "cell_type": "code",
   "execution_count": null,
   "metadata": {},
   "outputs": [],
   "source": [
    "dataset.head()"
   ]
  },
  {
   "cell_type": "markdown",
   "metadata": {},
   "source": [
    "### Check the default rate per samples (kgb vs rejected)"
   ]
  },
  {
   "cell_type": "code",
   "execution_count": null,
   "metadata": {},
   "outputs": [],
   "source": [
    "kgb = dataset[dataset[\"is_accepted\"]==1]\n",
    "rejected = dataset[dataset[\"is_accepted\"]==0]"
   ]
  },
  {
   "cell_type": "code",
   "execution_count": null,
   "metadata": {},
   "outputs": [],
   "source": [
    "kgb['y'].value_counts(normalize=True)"
   ]
  },
  {
   "cell_type": "code",
   "execution_count": null,
   "metadata": {},
   "outputs": [],
   "source": [
    "rejected['y'].value_counts(normalize=True)"
   ]
  },
  {
   "cell_type": "markdown",
   "metadata": {},
   "source": [
    "### Get the modelling dataset\n",
    "\n",
    "Assume you can use only the known columns fot the evaluation of your data"
   ]
  },
  {
   "cell_type": "code",
   "execution_count": null,
   "metadata": {},
   "outputs": [],
   "source": [
    "model_ds = dataset[[col for col in dataset.columns if col.startswith(\"known\")]+[\"y\",\"is_accepted\"]]\n",
    "model_ds"
   ]
  },
  {
   "cell_type": "markdown",
   "metadata": {},
   "source": [
    "# From here onwards build the Reject Inference cases\n",
    "\n",
    "An option could be to save the generated samples to a csv and then use a different notebook to run the analysis"
   ]
  }
 ],
 "metadata": {
  "kernelspec": {
   "display_name": "Python 3",
   "language": "python",
   "name": "python3"
  },
  "language_info": {
   "codemirror_mode": {
    "name": "ipython",
    "version": 3
   },
   "file_extension": ".py",
   "mimetype": "text/x-python",
   "name": "python",
   "nbconvert_exporter": "python",
   "pygments_lexer": "ipython3",
   "version": "3.6.12"
  }
 },
 "nbformat": 4,
 "nbformat_minor": 4
}
